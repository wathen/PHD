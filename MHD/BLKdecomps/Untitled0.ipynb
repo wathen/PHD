{
 "metadata": {
  "name": ""
 },
 "nbformat": 3,
 "nbformat_minor": 0,
 "worksheets": [
  {
   "cells": [
    {
     "cell_type": "code",
     "collapsed": false,
     "input": [
      "from sympy import *"
     ],
     "language": "python",
     "metadata": {},
     "outputs": [],
     "prompt_number": 1
    },
    {
     "cell_type": "code",
     "collapsed": false,
     "input": [
      "n_u, n_b, m_p, m_r = symbols(\"n_u n_b m_p m_r\")\n",
      "F = MatrixSymbol(\"F\", n_u, n_u)\n",
      "M = MatrixSymbol(\"M\", n_b, n_b)\n",
      "C = MatrixSymbol(\"C\", n_b, n_u)\n",
      "B = MatrixSymbol(\"B\", m_p, n_u)\n",
      "D = MatrixSymbol(\"D\", m_r, n_b)"
     ],
     "language": "python",
     "metadata": {},
     "outputs": [],
     "prompt_number": 7
    },
    {
     "cell_type": "code",
     "collapsed": false,
     "input": [
      "B.T.shape"
     ],
     "language": "python",
     "metadata": {},
     "outputs": [
      {
       "metadata": {},
       "output_type": "pyout",
       "prompt_number": 12,
       "text": [
        "(n_u, m_p)"
       ]
      }
     ],
     "prompt_number": 12
    },
    {
     "cell_type": "code",
     "collapsed": false,
     "input": [
      "A = BlockMatrix([[F,B.T,C.T,ZeroMatrix(n_u,m_r)],\n",
      "                 [B,ZeroMatrix(m_p,m_p),ZeroMatrix(m_p,n_b),ZeroMatrix(m_p,m_r)],\n",
      "                 [-C,ZeroMatrix(n_b,m_p),M,D.T],\n",
      "                 [ZeroMatrix(m_r,n_u),ZeroMatrix(m_r,m_p),D,ZeroMatrix(m_r,m_r)]])\n",
      "A"
     ],
     "language": "python",
     "metadata": {},
     "outputs": [
      {
       "metadata": {},
       "output_type": "pyout",
       "prompt_number": 33,
       "text": [
        "[     F, B', C',  0]\n",
        "[     B,  0,  0,  0]\n",
        "[(-1)*C,  0,  M, D']\n",
        "[     0,  0,  D,  0]"
       ]
      }
     ],
     "prompt_number": 33
    },
    {
     "cell_type": "code",
     "collapsed": false,
     "input": [
      "n_u, n_b, m_p, m_r = symbols(\"n_u n_b m_p m_r\")\n",
      "F = Symbol(\"F\")\n",
      "M = Symbol(\"M\")\n",
      "C = Symbol(\"C\")\n",
      "Ct = Symbol(\"Ct\")\n",
      "B = Symbol(\"B\")\n",
      "Bt = Symbol(\"Bt\")\n",
      "D = Symbol(\"D\")\n",
      "Dt = Symbol(\"Dt\")\n"
     ],
     "language": "python",
     "metadata": {},
     "outputs": [],
     "prompt_number": 60
    },
    {
     "cell_type": "code",
     "collapsed": false,
     "input": [
      "A = Matrix([[F,Bt,Ct,0],[B,0,0,0],[-C,0,M,Dt],[0,0,D,0]])\n",
      "A"
     ],
     "language": "python",
     "metadata": {},
     "outputs": [
      {
       "metadata": {},
       "output_type": "pyout",
       "prompt_number": 79,
       "text": [
        "[ F, Bt, Ct,  0]\n",
        "[ B,  0,  0,  0]\n",
        "[-C,  0,  M, Dt]\n",
        "[ 0,  0,  D,  0]"
       ]
      }
     ],
     "prompt_number": 79
    },
    {
     "cell_type": "code",
     "collapsed": false,
     "input": [
      "A.LUdecomposition()"
     ],
     "language": "python",
     "metadata": {},
     "outputs": [
      {
       "metadata": {},
       "output_type": "pyout",
       "prompt_number": 80,
       "text": [
        "([   1,    0,   0, 0]\n",
        "[ B/F,    1,   0, 0]\n",
        "[-C/F, -C/B,   1, 0]\n",
        "[   0,    0, D/M, 1],\n",
        " [F,      Bt,      Ct,       0]\n",
        "[0, -B*Bt/F, -B*Ct/F,       0]\n",
        "[0,       0,       M,      Dt]\n",
        "[0,       0,       0, -D*Dt/M],\n",
        " [])"
       ]
      }
     ],
     "prompt_number": 80
    }
   ],
   "metadata": {}
  }
 ]
}
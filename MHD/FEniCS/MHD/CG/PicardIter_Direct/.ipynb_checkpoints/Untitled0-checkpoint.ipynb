{
 "metadata": {
  "name": ""
 },
 "nbformat": 3,
 "nbformat_minor": 0,
 "worksheets": [
  {
   "cells": [
    {
     "cell_type": "code",
     "collapsed": false,
     "input": [
      "import scipy.io as io\n",
      "\n",
      "As = io.loadmat(\"As.mat\")\n",
      "As = As['As']"
     ],
     "language": "python",
     "metadata": {},
     "outputs": [],
     "prompt_number": 1
    },
    {
     "cell_type": "code",
     "collapsed": false,
     "input": [
      "import petsc4py\n",
      "import sys\n",
      "\n",
      "petsc4py.init(sys.argv)\n",
      "\n",
      "from petsc4py import PETSc"
     ],
     "language": "python",
     "metadata": {},
     "outputs": [],
     "prompt_number": 2
    },
    {
     "cell_type": "code",
     "collapsed": false,
     "input": [
      "A = PETSc.Mat().createAIJ(size=As.shape,csr=(As.indptr, As.indices, As.data))"
     ],
     "language": "python",
     "metadata": {},
     "outputs": [],
     "prompt_number": 3
    },
    {
     "cell_type": "code",
     "collapsed": false,
     "input": [
      "\n",
      "\n",
      "A.shift(PETSc.ScalarType(.001))"
     ],
     "language": "python",
     "metadata": {},
     "outputs": [
      {
       "ename": "Error",
       "evalue": "error code 63\n[0] MatShift() line 166 in /home/mwathen/programs4/petsc/petsc-3.4.3/src/mat/utils/axpy.c\n[0] MatSetValues() line 1106 in /home/mwathen/programs4/petsc/petsc-3.4.3/src/mat/interface/matrix.c\n[0] MatSetValues_SeqAIJ() line 352 in /home/mwathen/programs4/petsc/petsc-3.4.3/src/mat/impls/aij/seq/aij.c\n[0] Argument out of range\n[0] Inserting a new nonzero at (8450,8450) in the matrix",
       "output_type": "pyerr",
       "traceback": [
        "\u001b[1;31m---------------------------------------------------------------------------\u001b[0m\n\u001b[1;31mError\u001b[0m                                     Traceback (most recent call last)",
        "\u001b[1;32m<ipython-input-4-3c7539d85700>\u001b[0m in \u001b[0;36m<module>\u001b[1;34m()\u001b[0m\n\u001b[0;32m      1\u001b[0m \u001b[1;33m\u001b[0m\u001b[0m\n\u001b[0;32m      2\u001b[0m \u001b[1;33m\u001b[0m\u001b[0m\n\u001b[1;32m----> 3\u001b[1;33m \u001b[0mA\u001b[0m\u001b[1;33m.\u001b[0m\u001b[0mshift\u001b[0m\u001b[1;33m(\u001b[0m\u001b[0mPETSc\u001b[0m\u001b[1;33m.\u001b[0m\u001b[0mScalarType\u001b[0m\u001b[1;33m(\u001b[0m\u001b[1;36m.001\u001b[0m\u001b[1;33m)\u001b[0m\u001b[1;33m)\u001b[0m\u001b[1;33m\u001b[0m\u001b[0m\n\u001b[0m",
        "\u001b[1;32m/home/mwathen/programs4/petsc/petsc4py/lib/python2.7/site-packages/petsc4py/lib/arch-linux2-c-opt/PETSc.so\u001b[0m in \u001b[0;36mpetsc4py.PETSc.Mat.shift (src/petsc4py.PETSc.c:99916)\u001b[1;34m()\u001b[0m\n",
        "\u001b[1;31mError\u001b[0m: error code 63\n[0] MatShift() line 166 in /home/mwathen/programs4/petsc/petsc-3.4.3/src/mat/utils/axpy.c\n[0] MatSetValues() line 1106 in /home/mwathen/programs4/petsc/petsc-3.4.3/src/mat/interface/matrix.c\n[0] MatSetValues_SeqAIJ() line 352 in /home/mwathen/programs4/petsc/petsc-3.4.3/src/mat/impls/aij/seq/aij.c\n[0] Argument out of range\n[0] Inserting a new nonzero at (8450,8450) in the matrix"
       ]
      }
     ],
     "prompt_number": 4
    }
   ],
   "metadata": {}
  }
 ]
}
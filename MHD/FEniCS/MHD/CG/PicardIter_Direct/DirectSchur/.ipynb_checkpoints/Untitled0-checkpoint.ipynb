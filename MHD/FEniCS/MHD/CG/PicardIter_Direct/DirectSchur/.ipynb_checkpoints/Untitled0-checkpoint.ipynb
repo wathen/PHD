{
 "metadata": {
  "name": ""
 },
 "nbformat": 3,
 "nbformat_minor": 0,
 "worksheets": [
  {
   "cells": [
    {
     "cell_type": "code",
     "collapsed": false,
     "input": [
      "\n",
      "#!/opt/local/bin/python\n",
      "\n",
      "from dolfin import *\n",
      "import petsc4py\n",
      "import sys\n",
      "petsc4py.init(sys.argv)\n",
      "from petsc4py import PETSc\n",
      "\n",
      "# from MatrixOperations import *\n",
      "import numpy as np\n",
      "import os\n",
      "import scipy.io\n",
      "#from PyTrilinos import Epetra, EpetraExt, AztecOO, ML, Amesos\n",
      "#from scipy2Trilinos import scipy_csr_matrix2CrsMatrix\n",
      "import PETScIO as IO\n",
      "import time\n",
      "import common\n",
      "import CheckPetsc4py as CP\n",
      "import NSprecond\n",
      "from scipy.sparse import  spdiags\n",
      "import MatrixOperations as MO\n",
      "import ExactSol\n",
      "import Solver as S\n",
      "import matplotlib.pylab as plt\n",
      "\n",
      "m =2\n",
      "errL2u =np.zeros((m-1,1))\n",
      "errH1u =np.zeros((m-1,1))\n",
      "errL2p =np.zeros((m-1,1))\n",
      "\n",
      "l2uorder =  np.zeros((m-1,1))\n",
      "H1uorder =np.zeros((m-1,1))\n",
      "l2porder =  np.zeros((m-1,1))\n",
      "NN = np.zeros((m-1,1))\n",
      "DoF = np.zeros((m-1,1))\n",
      "Vdim = np.zeros((m-1,1))\n",
      "Qdim = np.zeros((m-1,1))\n",
      "Wdim = np.zeros((m-1,1))\n",
      "l2uorder = np.zeros((m-1,1))\n",
      "l2porder = np.zeros((m-1,1))\n",
      "nonlinear = np.zeros((m-1,1))\n",
      "SolTime = np.zeros((m-1,1))\n",
      "AvIt = np.zeros((m-1,1))\n",
      "nn = 2\n",
      "\n",
      "dim = 2\n",
      "Solver = 'PCD'\n",
      "Saving = 'no'\n",
      "case = 2\n",
      "parameters['linear_algebra_backend'] = 'uBLAS'\n",
      "# parameters = CP.ParameterSetup()\n",
      "def LOG(arg):\n",
      "    if INFO:\n",
      "        print(arg)\n",
      "\n",
      "\n",
      "\n",
      "\n",
      "for xx in xrange(1,m):\n",
      "    print xx\n",
      "    NN[xx-1] = xx+2\n",
      "    nn = 2**(NN[xx-1])\n",
      "    # Create mesh and define function space\n",
      "    nn = int(nn)\n",
      "\n",
      "\n",
      "    mesh = UnitSquareMesh(nn,nn)\n",
      "    # tic()\n",
      "    parameters[\"form_compiler\"][\"quadrature_degree\"] = -1\n",
      "\n",
      "    parameters['reorder_dofs_serial'] = False\n",
      "    V = VectorFunctionSpace(mesh, \"CG\", 2)\n",
      "    Q = FunctionSpace(mesh, \"CG\", 1)\n",
      "    ones = Function(Q)\n",
      "    ones.vector()[:]=(0*ones.vector().array()+1)\n",
      "    # QQ = VectorFunctionSpace(mesh,\"B\",3)\n",
      "    # V = V+QQ\n",
      "    parameters['reorder_dofs_serial'] = False\n",
      "    # print 'time to create function spaces', toc(),'\\n\\n'\n",
      "    W = V*Q\n",
      "    Vdim[xx-1] = V.dim()\n",
      "    Qdim[xx-1] = Q.dim()\n",
      "    Wdim[xx-1] = W.dim()\n",
      "    print \"\\n\\nV:  \",Vdim[xx-1],\"Q:  \",Qdim[xx-1],\"W:  \",Wdim[xx-1],\"\\n\\n\"\n",
      "\n",
      "    u_is = PETSc.IS().createGeneral(range(W.dim()-1))\n",
      "    def boundary(x, on_boundary):\n",
      "        return on_boundary\n",
      "\n",
      "\n",
      "    u0, p0, Laplacian, Advection, gradPres = ExactSol.NS2D(case)\n",
      "\n",
      "    R = 10.0\n",
      "    # MU = Constant(0.01)\n",
      "    # MU = 1000.0\n",
      "    MU = 10./1\n",
      "    bcc = DirichletBC(W.sub(0),u0, boundary)\n",
      "    bcs = [bcc]\n",
      "\n",
      "    (u, p) = TrialFunctions(W)\n",
      "    (v, q) = TestFunctions(W)\n",
      "\n",
      "\n",
      "\n",
      "\n",
      "    f = -MU*Laplacian+Advection+gradPres\n",
      "\n",
      "\n",
      "    n = FacetNormal(mesh)\n",
      "    h = CellSize(mesh)\n",
      "    h_avg =avg(h)\n",
      "    d = 0\n",
      "    u_k,p_k = common.Stokes(V,Q,u0,f,[1,1,MU])\n",
      "    # p_k.vector()[:] = p_k.vector().array()\n",
      "    pConst = - assemble(p_k*dx)/assemble(ones*dx)\n",
      "    p_k.vector()[:] += pConst\n",
      "    # u_k = Function(V)\n",
      "    # p_k = Function(Q)\n",
      "    # plot(u_k)\n",
      "    # plot(p_k)\n",
      "    uOld = np.concatenate((u_k.vector().array(),p_k.vector().array()), axis=0)\n",
      "    r = IO.arrayToVec(uOld)\n",
      "\n",
      "    a11 = MU*inner(grad(v), grad(u))*dx + inner((grad(u)*u_k),v)*dx + (1/2)*div(u_k)*inner(u,v)*dx - (1/2)*inner(u_k,n)*inner(u,v)*ds\n",
      "    a12 = div(v)*p*dx\n",
      "    a21 = div(u)*q*dx\n",
      "    L1  = inner(v, f)*dx\n",
      "    a = a11-a12-a21\n",
      "\n",
      "\n",
      "    r11 = MU*inner(grad(v), grad(u_k))*dx + inner((grad(u_k)*u_k),v)*dx + (1/2)*div(u_k)*inner(u_k,v)*dx - (1/2)*inner(u_k,n)*inner(u_k,v)*ds\n",
      "    r12 = div(v)*p_k*dx\n",
      "    r21 = div(u_k)*q*dx\n",
      "    RHSform = r11-r12-r21\n",
      "    # RHSform = 0\n",
      "\n",
      "\n",
      "    prec = MU*inner(grad(v), grad(u))*dx + inner((grad(u)*u_k),v)*dx + (1/2)*div(u_k)*inner(u,v)*dx - (1/2)*inner(u_k,n)*inner(u,v)*ds - div(v)*p*dx\n",
      "\n",
      "    bc = DirichletBC(W.sub(0),Expression((\"0.0\",\"0.0\")), boundary)\n",
      "    bcp = DirichletBC(W.sub(1),Expression((\"0.0\")), boundary)\n",
      "    bcs = [bc,bcp]\n",
      "\n",
      "    eps = 1.0           # error measure ||u-u_k||\n",
      "    tol = 1.0E-6       # tolerance\n",
      "    iter = 0            # iteration counter\n",
      "    maxiter = 10        # max no of iterations allowed\n",
      "    # parameters = CP.ParameterSetup()\n",
      "    outerit = 0\n",
      "\n",
      "    parameters['linear_algebra_backend'] = 'uBLAS'\n",
      "    if Solver == \"LSC\":\n",
      "        parameters['linear_algebra_backend'] = 'uBLAS'\n",
      "        BQB = assemble(inner(u,v)*dx- div(v)*p*dx-div(u)*q*dx)\n",
      "        bc.apply(BQB)\n",
      "        BQB = BQB.sparray()\n",
      "        X = BQB[0:V.dim(),0:V.dim()]\n",
      "        Xdiag = X.diagonal()\n",
      "        # Xdiag = X.sum(1).A\n",
      "        # print Xdiag\n",
      "        B = BQB[V.dim():W.dim(),0:V.dim()]\n",
      "        Bt = BQB[0:V.dim(),V.dim():W.dim()]\n",
      "        d = spdiags(1.0/Xdiag, 0, len(Xdiag), len(Xdiag))\n",
      "        L = B*d*Bt\n",
      "        Bd = B*d\n",
      "        dBt = d*Bt\n",
      "        L = PETSc.Mat().createAIJ(size=L.shape,csr=(L.indptr, L.indices, L.data))\n",
      "        Bd = PETSc.Mat().createAIJ(size=Bd.shape,csr=(Bd.indptr, Bd.indices, Bd.data))\n",
      "        dBt = PETSc.Mat().createAIJ(size=dBt.shape,csr=(dBt.indptr, dBt.indices, dBt.data))\n",
      "    elif Solver == \"PCD\":\n",
      "        (pQ) = TrialFunction(Q)\n",
      "        (qQ) = TestFunction(Q)\n",
      "        print MU\n",
      "        QQ = assemble(inner(pQ,qQ)*dx)\n",
      "        L = assemble(inner(grad(pQ),grad(qQ))*dx)\n",
      "\n",
      "        fp = MU*inner(grad(qQ), grad(pQ))*dx+inner((u_k[0]*grad(pQ)[0]+u_k[1]*grad(pQ)[1]),qQ)*dx + (1/2)*div(u_k)*inner(pQ,qQ)*dx - (1/2)*(u_k[0]*n[0]+u_k[1]*n[1])*inner(pQ,qQ)*ds\n",
      "        L = CP.Assemble(L)\n",
      "        # Mass = CP.Assemble(Mass)\n",
      "\n",
      "    # print L\n",
      "    SolutionTime = 0\n",
      "    while eps > tol and iter < maxiter:\n",
      "        iter += 1\n",
      "        x = Function(W)\n",
      "\n",
      "        uu = Function(W)\n",
      "        tic()\n",
      "        PP,Pb = assemble_system(prec, L1,bcs)\n",
      "        AA, bb = assemble_system(a, L1 - RHSform,  bcs)\n",
      "        A,b = CP.Assemble(AA,bb)\n",
      "        P = CP.Assemble(PP)\n",
      "        u = b.duplicate()\n",
      "        print toc()\n",
      "        print A\n",
      "        # b = b.getSubVector(t_is)\n",
      "        plt.spy(PP.sparray())\n",
      "        # plt.savefig(\"plt1\")\n",
      "        F = assemble(fp)\n",
      "        bcp.apply(F)\n",
      "        F = CP.Assemble(F)\n",
      "        # L = CP.Assemble(L)\n",
      "        P = S.ExactPrecond(PP,QQ,L,F,[V,Q])\n",
      "        bcp.apply(QQ)\n",
      "        Mass = CP.Assemble(QQ)\n",
      "        # P = IO.matToSparse(P)\n",
      "        # plt.spy(P)\n",
      "        # plt.savefig(\"plt2\")\n",
      "        # ss\n",
      "        # # P[W.dim()-1,W.dim()-1]  += 1\n",
      "        # P.assemblyBegin() # Make matrices useable.\n",
      "        # P.assemblyEnd()\n",
      "\n",
      "        ksp = PETSc.KSP().create()\n",
      "        ksp.setTolerances(1e-5)\n",
      "        ksp.setOperators(A,P) #.getSubMatrix(u_is,u_is),P.getSubMatrix(u_is,u_is))\n",
      "        nsp = PETSc.NullSpace().create(constant=True)\n",
      "        ksp.setNullSpace(nsp)\n",
      "#         A.destroy()\n",
      "#         P.destroy()\n",
      "        reshist = {}\n",
      "        def monitor(ksp, its, fgnorm):\n",
      "            reshist[its] = fgnorm\n",
      "        ksp.setMonitor(monitor)\n",
      "        OptDB = PETSc.Options()\n",
      "        OptDB['pc_factor_shift_amount'] = \"0.1\"\n",
      "        OptDB['ksp_monitor_residual'] = ' '\n",
      "        OptDB['pc_factor_mat_ordering_type'] = 'rcm'\n",
      "        OptDB['pc_factor_mat_solver_package']  = 'mumps'\n",
      "        # kspLAMG.max_it = 1\n",
      "        ksp.setFromOptions()\n",
      "        ksp.setType('gmres')\n",
      "        pc = ksp.getPC()\n",
      "        pc.setType(PETSc.PC.Type.LU)\n",
      "\n",
      "        ksp.max_it = 100\n",
      "        # PETSc.ViewerHDF5.DRAW(P)\n",
      "        toc()\n",
      "        ksp.solve(b,u) #.getSubVector(u_is), u.getSubVector(u_is))\n",
      "        NSits = ksp.its\n",
      "        ksp.destroy()\n",
      "        time = toc()\n",
      "        print \":::::::::::::::::::::::::::::::::::::::::::::\",NSits\n",
      "        print time\n",
      "        SolutionTime = SolutionTime +time\n",
      "        outerit += NSits\n",
      "\n",
      "\n",
      "        \n",
      "        \n",
      "        ksp = PETSc.KSP()\n",
      "        ksp.create(comm=PETSc.COMM_WORLD)\n",
      "        ksp.setTolerances(1e-5)\n",
      "        ksp.setType('gmres')\n",
      "        pc = ksp.getPC()\n",
      "        ksp.max_it=100\n",
      "        reshist1 = {}\n",
      "        def monitor(ksp, its, fgnorm):\n",
      "            reshist1[its] = fgnorm\n",
      "        ksp.setMonitor(monitor)\n",
      "\n",
      "        pc.setType(PETSc.PC.Type.PYTHON)\n",
      "        if Solver == \"LSC\":\n",
      "            pc.setPythonContext(NSprecond.LSCnew(W,A,L,Bd,dBt))\n",
      "        elif Solver == \"PCD\":\n",
      "            F = assemble(fp)\n",
      "            F = CP.Assemble(F)\n",
      "            pc.setPythonContext(NSprecond.PCDdirect(W, Mass, F, L))\n",
      "\n",
      "        ksp.setOperators(A)\n",
      "        # OptDB = PETSc.Options()\n",
      "        # OptDB['pc_factor_shift_amount'] = 1\n",
      "        # OptDB['pc_factor_mat_ordering_type'] = 'rcm'\n",
      "        # OptDB['pc_factor_mat_solver_package']  = 'mumps'\n",
      "        ksp.setFromOptions()\n",
      "\n",
      "\n",
      "        x = b.duplicate()\n",
      "        toc()\n",
      "        ksp.solve(b, x)\n",
      "\n",
      "        time = toc()\n",
      "        print time\n",
      "        SolutionTime = SolutionTime +time\n",
      "        print \":::::::::::::::::::::::::::::::::::::::::::::\",ksp.its\n",
      "        outerit += ksp.its   \n",
      "\n",
      "\n",
      "\n",
      "\n",
      "        \n",
      "        for line in reshist.values():\n",
      "            print line\n",
      "        uu = IO.vecToArray(u)\n",
      "        UU = uu[0:Vdim[xx-1][0]]\n",
      "        # time = time+toc()\n",
      "        u1 = Function(V)\n",
      "        u1.vector()[:] = u1.vector()[:] + UU\n",
      "\n",
      "        pp = uu[V.dim():V.dim()+Q.dim()]\n",
      "        # time = time+toc()\n",
      "        p1 = Function(Q)\n",
      "        # n = pp.shape\n",
      "        # pend = assemble(pa*dx)\n",
      "\n",
      "\n",
      "        # pp = Function(Q)\n",
      "        # p1.vector()[:] = pa.vector().array()- assemble(pa*dx)/assemble(ones*dx)\n",
      "        p1.vector()[:] = p1.vector()[:] +  pp\n",
      "        p1.vector()[:] += - assemble(p1*dx)/assemble(ones*dx)\n",
      "        diff = u1.vector().array()\n",
      "        # print p1.vector().array()\n",
      "        eps = np.linalg.norm(diff, ord=np.Inf) #+np.linalg.norm(p1.vector().array(),ord=np.Inf)\n",
      "\n",
      "        print '\\n\\n\\niter=%d: norm=%g' % (iter, eps)\n",
      "        print np.linalg.norm(p1.vector().array(), ord=np.Inf)\n",
      "        u2 = Function(V)\n",
      "        u2.vector()[:] = u1.vector().array() + u_k.vector().array()\n",
      "        p2 = Function(Q)\n",
      "        p2.vector()[:] = p1.vector().array() + p_k.vector().array()\n",
      "        p2.vector()[:] += - assemble(p2*dx)/assemble(ones*dx)\n",
      "        u_k.assign(u2)\n",
      "        p_k.assign(p2)\n",
      "\n",
      "        # plot(p_k)\n",
      "\n",
      "        uOld = np.concatenate((u_k.vector().array(),p_k.vector().array()), axis=0)\n",
      "        r = IO.arrayToVec(uOld)\n",
      "        # plot(p_k)\n",
      "    SolTime[xx-1] = SolutionTime/iter\n",
      "    AvIt[xx-1] = np.ceil(outerit/iter)\n",
      "\n",
      "    ue = u0\n",
      "    pe = p0\n",
      "\n",
      "\n",
      "    AvIt[xx-1] = np.ceil(outerit/iter)\n",
      "    u = interpolate(ue,V)\n",
      "    p = interpolate(pe,Q)\n",
      "\n",
      "    ua = Function(V)\n",
      "    ua.vector()[:] = u_k.vector().array()\n",
      "    # nonlinear[xx-1] = assemble(inner((grad(ua)*ua),ua)*dx+(1/2)*div(ua)*inner(ua,ua)*dx- (1/2)*inner(ua,n)*inner(ua,ua)*ds)\n",
      "    VelocityE = VectorFunctionSpace(mesh,\"CG\",5)\n",
      "    u = interpolate(ue,VelocityE)\n",
      "\n",
      "    PressureE = FunctionSpace(mesh,\"CG\",4)\n",
      "    parameters[\"form_compiler\"][\"quadrature_degree\"] = 5\n",
      "\n",
      "    Nv  = ua.vector().array().shape\n",
      "\n",
      "    X = IO.vecToArray(r)\n",
      "    xu = X[0:V.dim()]\n",
      "    ua = Function(V)\n",
      "    ua.vector()[:] = xu\n",
      "\n",
      "    pp = X[V.dim():V.dim()+Q.dim()]\n",
      "\n",
      "\n",
      "    n = pp.shape\n",
      "    pa = Function(Q)\n",
      "    pa.vector()[:] = pp\n",
      "\n",
      "    pend = assemble(pa*dx)\n",
      "\n",
      "    ones = Function(Q)\n",
      "    ones.vector()[:]=(0*pp+1)\n",
      "    pp = Function(Q)\n",
      "    pp.vector()[:] = pa.vector().array()- assemble(pa*dx)/assemble(ones*dx)\n",
      "\n",
      "    pInterp = interpolate(pe,PressureE)\n",
      "    pe = Function(PressureE)\n",
      "    pe.vector()[:] = pInterp.vector().array()\n",
      "    const = - assemble(pe*dx)/assemble(ones*dx)\n",
      "    pe.vector()[:] = pe.vector()[:]+const\n",
      "\n",
      "\n",
      "\n",
      "\n",
      "    ErrorU = Function(V)\n",
      "    ErrorP = Function(Q)\n",
      "\n",
      "    ErrorU = ue-ua\n",
      "    ErrorP = pe-pp\n",
      "\n",
      "\n",
      "    # errL2u[xx-1]= errornorm(ue, ua, norm_type='L2', degree_rise=8)\n",
      "    # errH1u[xx-1]= errornorm(ue, ua, norm_type='H10', degree_rise=8)\n",
      "    # errL2p[xx-1]= errornorm(pe, pp, norm_type='L2', degree_rise=8)\n",
      "\n",
      "    errL2u[xx-1]= errornorm(ue, ua, norm_type='L2', degree_rise=8)\n",
      "    # sqrt(abs(assemble(inner(ErrorU, ErrorU)*dx)))\n",
      "    # errornorm(ue, ua, norm_type='L2', degree_rise=8)\n",
      "    errH1u[xx-1]= errornorm(ue, ua, norm_type='H10', degree_rise=8)\n",
      "    # sqrt(abs(assemble(inner(grad(ErrorU), grad(ErrorU))*dx)))\n",
      "    # errornorm(ue, ua, norm_type='H10', degree_rise=8)\n",
      "    errL2p[xx-1]= sqrt(abs(assemble(inner(ErrorP, ErrorP)*dx)))\n",
      "    # errornorm(pe, pp, norm_type='L2', degree_rise=8)\n",
      "\n",
      "    if xx == 1:\n",
      "        l2uorder[xx-1] = 0\n",
      "        l2porder[xx-1] = 0\n",
      "    else:\n",
      "        l2uorder[xx-1] =  np.abs(np.log2(errL2u[xx-2]/errL2u[xx-1]))\n",
      "        H1uorder[xx-1] =  np.abs(np.log2(errH1u[xx-2]/errH1u[xx-1]))\n",
      "\n",
      "        l2porder[xx-1] =  np.abs(np.log2(errL2p[xx-2]/errL2p[xx-1]))\n",
      "    print errL2u[xx-1]\n",
      "    print errL2p[xx-1]\n",
      "    # del  solver\n",
      "\n",
      "\n",
      "\n",
      "\n",
      "print nonlinear\n",
      "\n",
      "\n",
      "\n",
      "print \"Velocity Elements rate of convergence \", np.log2(np.average((errL2u[0:m-2]/errL2u[1:m-1])))\n",
      "print \"Pressure Elements rate of convergence \", np.log2(np.average((errL2p[0:m-2]/errL2p[1:m-1])))\n",
      "\n",
      "\n",
      "import pandas as pd\n",
      "# tableTitles = [\"Total DoF\",\"V DoF\",\"Q DoF\",\"AvIt\",\"V-L2\",\"V-order\",\"P-L2\",\"P-order\"]\n",
      "# tableValues = np.concatenate((Wdim,Vdim,Qdim,AvIt,errL2u,l2uorder,errL2p,l2porder),axis=1)\n",
      "# df = pd.DataFrame(tableValues, columns = tableTitles)\n",
      "# pd.set_option('precision',3)\n",
      "# print df\n",
      "# print df.to_latex()\n",
      "\n",
      "print \"\\n\\n   Velocity convergence\"\n",
      "VelocityTitles = [\"Total DoF\",\"V DoF\",\"Soln Time\",\"AvIt\",\"V-L2\",\"L2-order\",\"V-H1\",\"H1-order\"]\n",
      "VelocityValues = np.concatenate((Wdim,Vdim,SolTime,AvIt,errL2u,l2uorder,errH1u,H1uorder),axis=1)\n",
      "VelocityTable= pd.DataFrame(VelocityValues, columns = VelocityTitles)\n",
      "pd.set_option('precision',3)\n",
      "VelocityTable = MO.PandasFormat(VelocityTable,\"V-L2\",\"%2.4e\")\n",
      "VelocityTable = MO.PandasFormat(VelocityTable,'V-H1',\"%2.4e\")\n",
      "VelocityTable = MO.PandasFormat(VelocityTable,\"H1-order\",\"%1.2f\")\n",
      "VelocityTable = MO.PandasFormat(VelocityTable,'L2-order',\"%1.2f\")\n",
      "print VelocityTable\n",
      "\n",
      "print \"\\n\\n   Pressure convergence\"\n",
      "PressureTitles = [\"Total DoF\",\"P DoF\",\"Soln Time\",\"AvIt\",\"P-L2\",\"L2-order\"]\n",
      "PressureValues = np.concatenate((Wdim,Qdim,SolTime,AvIt,errL2p,l2porder),axis=1)\n",
      "PressureTable= pd.DataFrame(PressureValues, columns = PressureTitles)\n",
      "pd.set_option('precision',3)\n",
      "PressureTable = MO.PandasFormat(PressureTable,\"P-L2\",\"%2.4e\")\n",
      "PressureTable = MO.PandasFormat(PressureTable,'L2-order',\"%1.2f\")\n",
      "print PressureTable\n",
      "\n",
      "\n",
      "LatexTitles = [\"l\",\"IT\",\"DoFu\",\"Dofp\",\"V-L2\",\"L2-order\",\"V-H1\",\"H1-order\",\"P-L2\",\"PL2-order\"]\n",
      "LatexValues = np.concatenate((NN,AvIt,Vdim,Qdim,errL2u,l2uorder,errH1u,H1uorder,errL2p,l2porder), axis=1)\n",
      "LatexTable = pd.DataFrame(LatexValues, columns = LatexTitles)\n",
      "pd.set_option('precision',3)\n",
      "LatexTable = MO.PandasFormat(LatexTable,\"V-L2\",\"%2.4e\")\n",
      "LatexTable = MO.PandasFormat(LatexTable,'V-H1',\"%2.4e\")\n",
      "LatexTable = MO.PandasFormat(LatexTable,\"H1-order\",\"%1.2f\")\n",
      "LatexTable = MO.PandasFormat(LatexTable,'L2-order',\"%1.2f\")\n",
      "LatexTable = MO.PandasFormat(LatexTable,\"P-L2\",\"%2.4e\")\n",
      "LatexTable = MO.PandasFormat(LatexTable,'PL2-order',\"%1.2f\")\n",
      "print LatexTable\n",
      "\n",
      "\n",
      "\n",
      "# plot(u_k)\n",
      "# # plot(interpolate(ue,V))\n",
      "\n",
      "# plot(p_k)\n",
      "# # plot(interpolate(p0,Q))\n",
      "\n",
      "# interactive()\n",
      "\n",
      "# plt.show()\n"
     ],
     "language": "python",
     "metadata": {},
     "outputs": [
      {
       "output_type": "stream",
       "stream": "stderr",
       "text": [
        "DEBUG:UFL:No integrals left after transformation, returning empty form.\n"
       ]
      },
      {
       "output_type": "stream",
       "stream": "stderr",
       "text": [
        "DEBUG:FFC:Reusing form from cache.\n"
       ]
      },
      {
       "output_type": "stream",
       "stream": "stderr",
       "text": [
        "DEBUG:UFL:No integrals left after transformation, returning empty form.\n"
       ]
      },
      {
       "output_type": "stream",
       "stream": "stderr",
       "text": [
        "DEBUG:FFC:Reusing form from cache.\n"
       ]
      },
      {
       "output_type": "stream",
       "stream": "stderr",
       "text": [
        "DEBUG:UFL:No integrals left after transformation, returning empty form.\n"
       ]
      },
      {
       "output_type": "stream",
       "stream": "stderr",
       "text": [
        "DEBUG:FFC:Reusing form from cache.\n"
       ]
      },
      {
       "output_type": "stream",
       "stream": "stdout",
       "text": [
        "1\n",
        "\n",
        "\n",
        "V:   [ 18.] Q:   [ 4.] W:   [ 22.] \n",
        "\n",
        "\n",
        "  NS Exact Solution:\n"
       ]
      },
      {
       "output_type": "stream",
       "stream": "stderr",
       "text": [
        "DEBUG:UFL:No integrals left after transformation, returning empty form.\n"
       ]
      },
      {
       "output_type": "stream",
       "stream": "stderr",
       "text": [
        "DEBUG:FFC:Reusing form from cache.\n"
       ]
      },
      {
       "output_type": "stream",
       "stream": "stderr",
       "text": [
        "DEBUG:UFL:No integrals left after transformation, returning empty form.\n"
       ]
      },
      {
       "output_type": "stream",
       "stream": "stderr",
       "text": [
        "DEBUG:UFL:No integrals left after transformation, returning empty form.\n"
       ]
      },
      {
       "output_type": "stream",
       "stream": "stderr",
       "text": [
        "DEBUG:FFC:Reusing form from cache.\n"
       ]
      },
      {
       "output_type": "stream",
       "stream": "stderr",
       "text": [
        "INFO:FFC:Adjusting missing element domain to Domain(Cell('triangle', 2), 'triangle_multiverse', 2, 2).\n"
       ]
      },
      {
       "output_type": "stream",
       "stream": "stderr",
       "text": [
        "INFO:FFC:Adjusting element degree from ? to 2\n"
       ]
      },
      {
       "output_type": "stream",
       "stream": "stderr",
       "text": [
        "INFO:FFC:Adjusting missing element domain to Domain(Cell('triangle', 2), 'triangle_multiverse', 2, 2).\n"
       ]
      },
      {
       "output_type": "stream",
       "stream": "stderr",
       "text": [
        "INFO:FFC:Adjusting element degree from ? to 2\n"
       ]
      },
      {
       "output_type": "stream",
       "stream": "stderr",
       "text": [
        "INFO:FFC:Adjusting missing element domain to Domain(Cell('triangle', 2), 'triangle_multiverse', 2, 2).\n"
       ]
      },
      {
       "output_type": "stream",
       "stream": "stderr",
       "text": [
        "INFO:FFC:Adjusting element degree from ? to 2\n"
       ]
      },
      {
       "output_type": "stream",
       "stream": "stderr",
       "text": [
        "INFO:FFC:Adjusting missing element domain to Domain(Cell('triangle', 2), 'triangle_multiverse', 2, 2).\n"
       ]
      },
      {
       "output_type": "stream",
       "stream": "stderr",
       "text": [
        "INFO:FFC:Adjusting element degree from ? to 2\n"
       ]
      },
      {
       "output_type": "stream",
       "stream": "stderr",
       "text": [
        "INFO:FFC:Adjusting missing element domain to Domain(Cell('triangle', 2), 'triangle_multiverse', 2, 2).\n"
       ]
      },
      {
       "output_type": "stream",
       "stream": "stderr",
       "text": [
        "INFO:FFC:Adjusting element degree from ? to 2\n"
       ]
      },
      {
       "output_type": "stream",
       "stream": "stderr",
       "text": [
        "INFO:FFC:Adjusting missing element domain to Domain(Cell('triangle', 2), 'triangle_multiverse', 2, 2).\n"
       ]
      },
      {
       "output_type": "stream",
       "stream": "stderr",
       "text": [
        "INFO:FFC:Adjusting element degree from ? to 2\n"
       ]
      },
      {
       "output_type": "stream",
       "stream": "stderr",
       "text": [
        "INFO:FFC:Adjusting missing element domain to Domain(Cell('triangle', 2), 'triangle_multiverse', 2, 2).\n"
       ]
      },
      {
       "output_type": "stream",
       "stream": "stderr",
       "text": [
        "INFO:FFC:Adjusting element degree from ? to 2\n"
       ]
      },
      {
       "output_type": "stream",
       "stream": "stderr",
       "text": [
        "INFO:FFC:Adjusting missing element domain to Domain(Cell('triangle', 2), 'triangle_multiverse', 2, 2).\n"
       ]
      },
      {
       "output_type": "stream",
       "stream": "stderr",
       "text": [
        "INFO:FFC:Adjusting element degree from ? to 2\n"
       ]
      },
      {
       "output_type": "stream",
       "stream": "stderr",
       "text": [
        "INFO:FFC:Adjusting missing element domain to Domain(Cell('triangle', 2), 'triangle_multiverse', 2, 2).\n"
       ]
      },
      {
       "output_type": "stream",
       "stream": "stderr",
       "text": [
        "INFO:FFC:Adjusting element degree from ? to 2\n"
       ]
      },
      {
       "output_type": "stream",
       "stream": "stderr",
       "text": [
        "DEBUG:UFL:No integrals left after transformation, returning empty form.\n"
       ]
      },
      {
       "output_type": "stream",
       "stream": "stderr",
       "text": [
        "DEBUG:FFC:Reusing form from cache.\n"
       ]
      },
      {
       "output_type": "stream",
       "stream": "stderr",
       "text": [
        "DEBUG:UFL:No integrals left after transformation, returning empty form.\n"
       ]
      },
      {
       "output_type": "stream",
       "stream": "stderr",
       "text": [
        "DEBUG:UFL:No integrals left after transformation, returning empty form.\n"
       ]
      },
      {
       "output_type": "stream",
       "stream": "stderr",
       "text": [
        "DEBUG:FFC:Reusing form from cache.\n"
       ]
      },
      {
       "output_type": "stream",
       "stream": "stderr",
       "text": [
        "INFO:FFC:Adjusting missing element domain to Domain(Cell('triangle', 2), 'triangle_multiverse', 2, 2).\n"
       ]
      },
      {
       "output_type": "stream",
       "stream": "stderr",
       "text": [
        "INFO:FFC:Adjusting element degree from ? to 2\n"
       ]
      },
      {
       "output_type": "stream",
       "stream": "stderr",
       "text": [
        "INFO:FFC:Adjusting missing element domain to Domain(Cell('triangle', 2), 'triangle_multiverse', 2, 2).\n"
       ]
      },
      {
       "output_type": "stream",
       "stream": "stderr",
       "text": [
        "INFO:FFC:Adjusting element degree from ? to 2\n"
       ]
      },
      {
       "output_type": "stream",
       "stream": "stderr",
       "text": [
        "INFO:FFC:Adjusting missing element domain to Domain(Cell('triangle', 2), 'triangle_multiverse', 2, 2).\n"
       ]
      },
      {
       "output_type": "stream",
       "stream": "stderr",
       "text": [
        "INFO:FFC:Adjusting element degree from ? to 2\n"
       ]
      },
      {
       "output_type": "stream",
       "stream": "stderr",
       "text": [
        "INFO:FFC:Adjusting missing element domain to Domain(Cell('triangle', 2), 'triangle_multiverse', 2, 2).\n"
       ]
      },
      {
       "output_type": "stream",
       "stream": "stderr",
       "text": [
        "INFO:FFC:Adjusting element degree from ? to 2\n"
       ]
      },
      {
       "output_type": "stream",
       "stream": "stderr",
       "text": [
        "INFO:FFC:Adjusting missing element domain to Domain(Cell('triangle', 2), 'triangle_multiverse', 2, 2).\n"
       ]
      },
      {
       "output_type": "stream",
       "stream": "stderr",
       "text": [
        "INFO:FFC:Adjusting element degree from ? to 2\n"
       ]
      },
      {
       "output_type": "stream",
       "stream": "stderr",
       "text": [
        "INFO:FFC:Adjusting missing element domain to Domain(Cell('triangle', 2), 'triangle_multiverse', 2, 2).\n"
       ]
      },
      {
       "output_type": "stream",
       "stream": "stderr",
       "text": [
        "INFO:FFC:Adjusting element degree from ? to 2\n"
       ]
      },
      {
       "output_type": "stream",
       "stream": "stderr",
       "text": [
        "INFO:FFC:Adjusting missing element domain to Domain(Cell('triangle', 2), 'triangle_multiverse', 2, 2).\n"
       ]
      },
      {
       "output_type": "stream",
       "stream": "stderr",
       "text": [
        "INFO:FFC:Adjusting element degree from ? to 2\n"
       ]
      },
      {
       "output_type": "stream",
       "stream": "stderr",
       "text": [
        "INFO:FFC:Adjusting missing element domain to Domain(Cell('triangle', 2), 'triangle_multiverse', 2, 2).\n"
       ]
      },
      {
       "output_type": "stream",
       "stream": "stderr",
       "text": [
        "INFO:FFC:Adjusting element degree from ? to 2\n"
       ]
      },
      {
       "output_type": "stream",
       "stream": "stderr",
       "text": [
        "INFO:FFC:Adjusting missing element domain to Domain(Cell('triangle', 2), 'triangle_multiverse', 2, 2).\n"
       ]
      },
      {
       "output_type": "stream",
       "stream": "stderr",
       "text": [
        "INFO:FFC:Adjusting element degree from ? to 2\n"
       ]
      },
      {
       "output_type": "stream",
       "stream": "stderr",
       "text": [
        "DEBUG:FFC:Reusing form from cache.\n"
       ]
      },
      {
       "output_type": "stream",
       "stream": "stderr",
       "text": [
        "DEBUG:FFC:Reusing form from cache.\n"
       ]
      },
      {
       "output_type": "stream",
       "stream": "stderr",
       "text": [
        "DEBUG:FFC:Reusing form from cache.\n"
       ]
      },
      {
       "output_type": "stream",
       "stream": "stderr",
       "text": [
        "DEBUG:FFC:Reusing form from cache.\n"
       ]
      },
      {
       "output_type": "stream",
       "stream": "stderr",
       "text": [
        "DEBUG:FFC:Reusing form from cache.\n"
       ]
      },
      {
       "output_type": "stream",
       "stream": "stdout",
       "text": [
        "\n",
        "  u = ( y**3 , x**3 )\n",
        "\n",
        "  p = ( x**2 )\n",
        "\n",
        "0.02561211586\n",
        "3\n",
        "10.0"
       ]
      },
      {
       "output_type": "stream",
       "stream": "stderr",
       "text": [
        "DEBUG:UFL:No integrals left after transformation, returning empty form.\n"
       ]
      },
      {
       "output_type": "stream",
       "stream": "stderr",
       "text": [
        "DEBUG:UFL:No integrals left after transformation, returning empty form.\n"
       ]
      },
      {
       "output_type": "stream",
       "stream": "stderr",
       "text": [
        "DEBUG:FFC:Reusing form from cache.\n"
       ]
      },
      {
       "output_type": "stream",
       "stream": "stderr",
       "text": [
        "DEBUG:UFL:No integrals left after transformation, returning empty form.\n"
       ]
      },
      {
       "output_type": "stream",
       "stream": "stderr",
       "text": [
        "DEBUG:UFL:No integrals left after transformation, returning empty form.\n"
       ]
      },
      {
       "output_type": "stream",
       "stream": "stderr",
       "text": [
        "DEBUG:FFC:Reusing form from cache.\n"
       ]
      },
      {
       "output_type": "stream",
       "stream": "stderr",
       "text": [
        "DEBUG:UFL:No integrals left after transformation, returning empty form.\n"
       ]
      },
      {
       "output_type": "stream",
       "stream": "stderr",
       "text": [
        "DEBUG:UFL:No integrals left after transformation, returning empty form.\n"
       ]
      },
      {
       "output_type": "stream",
       "stream": "stderr",
       "text": [
        "DEBUG:FFC:Reusing form from cache.\n"
       ]
      },
      {
       "output_type": "stream",
       "stream": "stderr",
       "text": [
        "INFO:FFC:Adjusting missing element domain to Domain(Cell('triangle', 2), 'triangle_multiverse', 2, 2).\n"
       ]
      },
      {
       "output_type": "stream",
       "stream": "stderr",
       "text": [
        "INFO:FFC:Adjusting element degree from ? to 2\n"
       ]
      },
      {
       "output_type": "stream",
       "stream": "stderr",
       "text": [
        "INFO:FFC:Adjusting missing element domain to Domain(Cell('triangle', 2), 'triangle_multiverse', 2, 2).\n"
       ]
      },
      {
       "output_type": "stream",
       "stream": "stderr",
       "text": [
        "INFO:FFC:Adjusting element degree from ? to 2\n"
       ]
      },
      {
       "output_type": "stream",
       "stream": "stderr",
       "text": [
        "INFO:FFC:Adjusting missing element domain to Domain(Cell('triangle', 2), 'triangle_multiverse', 2, 2).\n"
       ]
      },
      {
       "output_type": "stream",
       "stream": "stderr",
       "text": [
        "INFO:FFC:Adjusting element degree from ? to 2\n"
       ]
      },
      {
       "output_type": "stream",
       "stream": "stderr",
       "text": [
        "INFO:FFC:Adjusting missing element domain to Domain(Cell('triangle', 2), 'triangle_multiverse', 2, 2).\n"
       ]
      },
      {
       "output_type": "stream",
       "stream": "stderr",
       "text": [
        "INFO:FFC:Adjusting element degree from ? to 2\n"
       ]
      },
      {
       "output_type": "stream",
       "stream": "stderr",
       "text": [
        "INFO:FFC:Adjusting missing element domain to Domain(Cell('triangle', 2), 'triangle_multiverse', 2, 2).\n"
       ]
      },
      {
       "output_type": "stream",
       "stream": "stderr",
       "text": [
        "INFO:FFC:Adjusting element degree from ? to 2\n"
       ]
      },
      {
       "output_type": "stream",
       "stream": "stderr",
       "text": [
        "INFO:FFC:Adjusting missing element domain to Domain(Cell('triangle', 2), 'triangle_multiverse', 2, 2).\n"
       ]
      },
      {
       "output_type": "stream",
       "stream": "stderr",
       "text": [
        "INFO:FFC:Adjusting element degree from ? to 2\n"
       ]
      },
      {
       "output_type": "stream",
       "stream": "stderr",
       "text": [
        "INFO:FFC:Adjusting missing element domain to Domain(Cell('triangle', 2), 'triangle_multiverse', 2, 2).\n"
       ]
      },
      {
       "output_type": "stream",
       "stream": "stderr",
       "text": [
        "INFO:FFC:Adjusting element degree from ? to 2\n"
       ]
      },
      {
       "output_type": "stream",
       "stream": "stderr",
       "text": [
        "INFO:FFC:Adjusting missing element domain to Domain(Cell('triangle', 2), 'triangle_multiverse', 2, 2).\n"
       ]
      },
      {
       "output_type": "stream",
       "stream": "stderr",
       "text": [
        "INFO:FFC:Adjusting element degree from ? to 2\n"
       ]
      },
      {
       "output_type": "stream",
       "stream": "stderr",
       "text": [
        "INFO:FFC:Adjusting missing element domain to Domain(Cell('triangle', 2), 'triangle_multiverse', 2, 2).\n"
       ]
      },
      {
       "output_type": "stream",
       "stream": "stderr",
       "text": [
        "INFO:FFC:Adjusting element degree from ? to 2\n"
       ]
      },
      {
       "output_type": "stream",
       "stream": "stderr",
       "text": [
        "DEBUG:UFL:No integrals left after transformation, returning empty form.\n"
       ]
      },
      {
       "output_type": "stream",
       "stream": "stderr",
       "text": [
        "DEBUG:FFC:Reusing form from cache.\n"
       ]
      },
      {
       "output_type": "stream",
       "stream": "stderr",
       "text": [
        "DEBUG:UFL:No integrals left after transformation, returning empty form.\n"
       ]
      },
      {
       "output_type": "stream",
       "stream": "stderr",
       "text": [
        "DEBUG:UFL:No integrals left after transformation, returning empty form.\n"
       ]
      },
      {
       "output_type": "stream",
       "stream": "stderr",
       "text": [
        "DEBUG:FFC:Reusing form from cache.\n"
       ]
      },
      {
       "output_type": "stream",
       "stream": "stderr",
       "text": [
        "INFO:FFC:Adjusting missing element domain to Domain(Cell('triangle', 2), 'triangle_multiverse', 2, 2).\n"
       ]
      },
      {
       "output_type": "stream",
       "stream": "stderr",
       "text": [
        "INFO:FFC:Adjusting element degree from ? to 2\n"
       ]
      },
      {
       "output_type": "stream",
       "stream": "stderr",
       "text": [
        "INFO:FFC:Adjusting missing element domain to Domain(Cell('triangle', 2), 'triangle_multiverse', 2, 2).\n"
       ]
      },
      {
       "output_type": "stream",
       "stream": "stderr",
       "text": [
        "INFO:FFC:Adjusting element degree from ? to 2\n"
       ]
      },
      {
       "output_type": "stream",
       "stream": "stderr",
       "text": [
        "INFO:FFC:Adjusting missing element domain to Domain(Cell('triangle', 2), 'triangle_multiverse', 2, 2).\n"
       ]
      },
      {
       "output_type": "stream",
       "stream": "stderr",
       "text": [
        "INFO:FFC:Adjusting element degree from ? to 2\n"
       ]
      },
      {
       "output_type": "stream",
       "stream": "stderr",
       "text": [
        "INFO:FFC:Adjusting missing element domain to Domain(Cell('triangle', 2), 'triangle_multiverse', 2, 2).\n"
       ]
      },
      {
       "output_type": "stream",
       "stream": "stderr",
       "text": [
        "INFO:FFC:Adjusting element degree from ? to 2\n"
       ]
      },
      {
       "output_type": "stream",
       "stream": "stderr",
       "text": [
        "INFO:FFC:Adjusting missing element domain to Domain(Cell('triangle', 2), 'triangle_multiverse', 2, 2).\n"
       ]
      },
      {
       "output_type": "stream",
       "stream": "stderr",
       "text": [
        "INFO:FFC:Adjusting element degree from ? to 2\n"
       ]
      },
      {
       "output_type": "stream",
       "stream": "stderr",
       "text": [
        "INFO:FFC:Adjusting missing element domain to Domain(Cell('triangle', 2), 'triangle_multiverse', 2, 2).\n"
       ]
      },
      {
       "output_type": "stream",
       "stream": "stderr",
       "text": [
        "INFO:FFC:Adjusting element degree from ? to 2\n"
       ]
      },
      {
       "output_type": "stream",
       "stream": "stderr",
       "text": [
        "INFO:FFC:Adjusting missing element domain to Domain(Cell('triangle', 2), 'triangle_multiverse', 2, 2).\n"
       ]
      },
      {
       "output_type": "stream",
       "stream": "stderr",
       "text": [
        "INFO:FFC:Adjusting element degree from ? to 2\n"
       ]
      },
      {
       "output_type": "stream",
       "stream": "stderr",
       "text": [
        "INFO:FFC:Adjusting missing element domain to Domain(Cell('triangle', 2), 'triangle_multiverse', 2, 2).\n"
       ]
      },
      {
       "output_type": "stream",
       "stream": "stderr",
       "text": [
        "INFO:FFC:Adjusting element degree from ? to 2\n"
       ]
      },
      {
       "output_type": "stream",
       "stream": "stderr",
       "text": [
        "INFO:FFC:Adjusting missing element domain to Domain(Cell('triangle', 2), 'triangle_multiverse', 2, 2).\n"
       ]
      },
      {
       "output_type": "stream",
       "stream": "stderr",
       "text": [
        "INFO:FFC:Adjusting element degree from ? to 2\n"
       ]
      },
      {
       "output_type": "stream",
       "stream": "stderr",
       "text": [
        "DEBUG:UFL:No integrals left after transformation, returning empty form.\n"
       ]
      },
      {
       "output_type": "stream",
       "stream": "stderr",
       "text": [
        "DEBUG:FFC:Reusing form from cache.\n"
       ]
      },
      {
       "output_type": "stream",
       "stream": "stdout",
       "text": [
        "\n",
        "0.0546820163727"
       ]
      },
      {
       "output_type": "stream",
       "stream": "stderr",
       "text": [
        "DEBUG:UFL:No integrals left after transformation, returning empty form.\n"
       ]
      },
      {
       "output_type": "stream",
       "stream": "stderr",
       "text": [
        "DEBUG:UFL:No integrals left after transformation, returning empty form.\n"
       ]
      },
      {
       "output_type": "stream",
       "stream": "stderr",
       "text": [
        "DEBUG:FFC:Reusing form from cache.\n"
       ]
      },
      {
       "output_type": "stream",
       "stream": "stdout",
       "text": [
        "\n",
        "<petsc4py.PETSc.Mat object at 0x74b6890>\n",
        "#####################"
       ]
      },
      {
       "output_type": "stream",
       "stream": "stderr",
       "text": [
        "/usr/local/lib/python2.7/dist-packages/scipy/sparse/compressed.py:728: SparseEfficiencyWarning: Changing the sparsity structure of a csr_matrix is expensive. lil_matrix is more efficient.\n",
        "  SparseEfficiencyWarning)\n",
        "DEBUG:FFC:Reusing form from cache.\n"
       ]
      },
      {
       "output_type": "stream",
       "stream": "stderr",
       "text": [
        "DEBUG:FFC:Reusing form from cache.\n"
       ]
      },
      {
       "output_type": "stream",
       "stream": "stderr",
       "text": [
        "DEBUG:FFC:Reusing form from cache.\n"
       ]
      },
      {
       "output_type": "stream",
       "stream": "stderr",
       "text": [
        "DEBUG:FFC:Reusing form from cache.\n"
       ]
      },
      {
       "output_type": "stream",
       "stream": "stderr",
       "text": [
        "DEBUG:FFC:Reusing form from cache.\n"
       ]
      },
      {
       "output_type": "stream",
       "stream": "stderr",
       "text": [
        "DEBUG:FFC:Reusing form from cache.\n"
       ]
      },
      {
       "output_type": "stream",
       "stream": "stderr",
       "text": [
        "INFO:FFC:Adjusting missing element domain to Domain(Cell('triangle', 2), 'triangle_multiverse', 2, 2).\n"
       ]
      },
      {
       "output_type": "stream",
       "stream": "stderr",
       "text": [
        "INFO:FFC:Adjusting element degree from ? to 2\n"
       ]
      },
      {
       "output_type": "stream",
       "stream": "stderr",
       "text": [
        "INFO:FFC:Adjusting missing element domain to Domain(Cell('triangle', 2), 'triangle_multiverse', 2, 2).\n"
       ]
      },
      {
       "output_type": "stream",
       "stream": "stderr",
       "text": [
        "INFO:FFC:Adjusting element degree from ? to 2\n"
       ]
      },
      {
       "output_type": "stream",
       "stream": "stderr",
       "text": [
        "INFO:FFC:Adjusting missing element domain to Domain(Cell('triangle', 2), 'triangle_multiverse', 2, 2).\n"
       ]
      },
      {
       "output_type": "stream",
       "stream": "stderr",
       "text": [
        "INFO:FFC:Adjusting element degree from ? to 2\n"
       ]
      },
      {
       "output_type": "stream",
       "stream": "stderr",
       "text": [
        "INFO:FFC:Adjusting missing element domain to Domain(Cell('triangle', 2), 'triangle_multiverse', 2, 2).\n"
       ]
      },
      {
       "output_type": "stream",
       "stream": "stderr",
       "text": [
        "INFO:FFC:Adjusting element degree from ? to 2\n"
       ]
      },
      {
       "output_type": "stream",
       "stream": "stderr",
       "text": [
        "INFO:FFC:Adjusting missing element domain to Domain(Cell('triangle', 2), 'triangle_multiverse', 2, 2).\n"
       ]
      },
      {
       "output_type": "stream",
       "stream": "stderr",
       "text": [
        "INFO:FFC:Adjusting element degree from ? to 2\n"
       ]
      },
      {
       "output_type": "stream",
       "stream": "stderr",
       "text": [
        "INFO:FFC:Adjusting missing element domain to Domain(Cell('triangle', 2), 'triangle_multiverse', 2, 2).\n"
       ]
      },
      {
       "output_type": "stream",
       "stream": "stderr",
       "text": [
        "INFO:FFC:Adjusting element degree from ? to 2\n"
       ]
      },
      {
       "output_type": "stream",
       "stream": "stderr",
       "text": [
        "INFO:FFC:Adjusting missing element domain to Domain(Cell('triangle', 2), 'triangle_multiverse', 2, 2).\n"
       ]
      },
      {
       "output_type": "stream",
       "stream": "stderr",
       "text": [
        "INFO:FFC:Adjusting element degree from ? to 2\n"
       ]
      },
      {
       "output_type": "stream",
       "stream": "stderr",
       "text": [
        "INFO:FFC:Adjusting missing element domain to Domain(Cell('triangle', 2), 'triangle_multiverse', 2, 2).\n"
       ]
      },
      {
       "output_type": "stream",
       "stream": "stderr",
       "text": [
        "INFO:FFC:Adjusting element degree from ? to 2\n"
       ]
      },
      {
       "output_type": "stream",
       "stream": "stderr",
       "text": [
        "INFO:FFC:Adjusting missing element domain to Domain(Cell('triangle', 2), 'triangle_multiverse', 2, 2).\n"
       ]
      },
      {
       "output_type": "stream",
       "stream": "stderr",
       "text": [
        "INFO:FFC:Adjusting element degree from ? to 2\n"
       ]
      },
      {
       "output_type": "stream",
       "stream": "stderr",
       "text": [
        "DEBUG:FFC:Reusing form from cache.\n"
       ]
      },
      {
       "output_type": "stream",
       "stream": "stderr",
       "text": [
        "DEBUG:FFC:Reusing form from cache.\n"
       ]
      },
      {
       "output_type": "stream",
       "stream": "stderr",
       "text": [
        "INFO:FFC:Adjusting missing element domain to Domain(Cell('triangle', 2), 'triangle_multiverse', 2, 2).\n"
       ]
      },
      {
       "output_type": "stream",
       "stream": "stderr",
       "text": [
        "INFO:FFC:Adjusting element degree from ? to 2\n"
       ]
      },
      {
       "output_type": "stream",
       "stream": "stderr",
       "text": [
        "INFO:FFC:Adjusting missing element domain to Domain(Cell('triangle', 2), 'triangle_multiverse', 2, 2).\n"
       ]
      },
      {
       "output_type": "stream",
       "stream": "stderr",
       "text": [
        "INFO:FFC:Adjusting element degree from ? to 2\n"
       ]
      },
      {
       "output_type": "stream",
       "stream": "stderr",
       "text": [
        "INFO:FFC:Adjusting missing element domain to Domain(Cell('triangle', 2), 'triangle_multiverse', 2, 2).\n"
       ]
      },
      {
       "output_type": "stream",
       "stream": "stderr",
       "text": [
        "INFO:FFC:Adjusting element degree from ? to 2\n"
       ]
      },
      {
       "output_type": "stream",
       "stream": "stderr",
       "text": [
        "INFO:FFC:Adjusting missing element domain to Domain(Cell('triangle', 2), 'triangle_multiverse', 2, 2).\n"
       ]
      },
      {
       "output_type": "stream",
       "stream": "stderr",
       "text": [
        "INFO:FFC:Adjusting element degree from ? to 2\n"
       ]
      },
      {
       "output_type": "stream",
       "stream": "stderr",
       "text": [
        "INFO:FFC:Adjusting missing element domain to Domain(Cell('triangle', 2), 'triangle_multiverse', 2, 2).\n"
       ]
      },
      {
       "output_type": "stream",
       "stream": "stderr",
       "text": [
        "INFO:FFC:Adjusting element degree from ? to 2\n"
       ]
      },
      {
       "output_type": "stream",
       "stream": "stderr",
       "text": [
        "INFO:FFC:Adjusting missing element domain to Domain(Cell('triangle', 2), 'triangle_multiverse', 2, 2).\n"
       ]
      },
      {
       "output_type": "stream",
       "stream": "stderr",
       "text": [
        "INFO:FFC:Adjusting element degree from ? to 2\n"
       ]
      },
      {
       "output_type": "stream",
       "stream": "stderr",
       "text": [
        "INFO:FFC:Adjusting missing element domain to Domain(Cell('triangle', 2), 'triangle_multiverse', 2, 2).\n"
       ]
      },
      {
       "output_type": "stream",
       "stream": "stderr",
       "text": [
        "INFO:FFC:Adjusting element degree from ? to 2\n"
       ]
      },
      {
       "output_type": "stream",
       "stream": "stderr",
       "text": [
        "INFO:FFC:Adjusting missing element domain to Domain(Cell('triangle', 2), 'triangle_multiverse', 2, 2).\n"
       ]
      },
      {
       "output_type": "stream",
       "stream": "stderr",
       "text": [
        "INFO:FFC:Adjusting element degree from ? to 2\n"
       ]
      },
      {
       "output_type": "stream",
       "stream": "stderr",
       "text": [
        "INFO:FFC:Adjusting missing element domain to Domain(Cell('triangle', 2), 'triangle_multiverse', 2, 2).\n"
       ]
      },
      {
       "output_type": "stream",
       "stream": "stderr",
       "text": [
        "INFO:FFC:Adjusting element degree from ? to 2\n"
       ]
      },
      {
       "output_type": "stream",
       "stream": "stderr",
       "text": [
        "DEBUG:UFL:No integrals left after transformation, returning empty form.\n"
       ]
      },
      {
       "output_type": "stream",
       "stream": "stderr",
       "text": [
        "DEBUG:FFC:Reusing form from cache.\n"
       ]
      },
      {
       "output_type": "stream",
       "stream": "stderr",
       "text": [
        "DEBUG:FFC:Reusing form from cache.\n"
       ]
      },
      {
       "output_type": "stream",
       "stream": "stdout",
       "text": [
        " 21\n",
        "##################### 21\n",
        "::::::::::::::::::::::::::::::::::::::::::::: 100\n",
        "0.169340133667\n",
        "0.172313213348\n",
        "::::::::::::::::::::::::::::::::::::::::::::: 1\n",
        "0.00963912573379\n",
        "0.00961635190986\n",
        "0.00955119879207\n",
        "0.00951706079804\n",
        "0.00948343375825\n",
        "0.00945015798517\n",
        "0.00941723008185\n",
        "0.00938464399645\n",
        "0.00935239385602\n",
        "0.00932047392758\n",
        "0.00928887861423\n",
        "0.00925760245091\n",
        "0.00922664010062\n",
        "0.0091959863504\n",
        "0.00916563610773\n",
        "0.00913558439701\n",
        "0.00910582635603\n",
        "0.00907635723277\n",
        "0.00904717238222\n",
        "0.00901826726316\n",
        "0.00898963743534\n",
        "0.00896127855654\n",
        "0.00893318637984\n",
        "0.00890535675095\n",
        "0.00887778560558\n",
        "0.00885046896697\n",
        "0.00882340294355\n",
        "0.00879658372649\n",
        "0.00877000758755\n",
        "0.00874367087686\n",
        "0.0212853121237\n",
        "0.0212853121237\n",
        "0.0107260450242\n",
        "0.00820601317777\n",
        "0.00692409381579\n",
        "0.00610889195585\n",
        "0.00552932119021\n",
        "0.00508913799757\n",
        "0.00473984392795\n",
        "0.00445385425464\n",
        "0.00421408430139\n",
        "0.00400928820234\n",
        "0.00383171412062\n",
        "0.00367582067685\n",
        "0.00353752719889\n",
        "0.00341375321253\n",
        "0.00330212381467\n",
        "0.00320077462219\n",
        "0.00310821881929\n",
        "0.00302325421296\n",
        "0.00294489680549\n",
        "0.00287233238295\n",
        "0.00280488061614\n",
        "0.00274196802309\n",
        "0.00268310731902\n",
        "0.00262788144359\n",
        "0.00257593106275\n",
        "0.00252694468615\n",
        "0.00248065077657\n",
        "0.00243681139381\n",
        "0.0128139520683\n",
        "0.0128139520683\n",
        "0.0108764091665\n",
        "0.00985819498976\n",
        "0.00931922431733\n",
        "0.00886706388472\n",
        "0.00847501821947\n",
        "0.00813076326914\n",
        "0.00782531629419\n",
        "0.00755189418943\n",
        "0.0073052654986\n",
        "0.00708132198434\n",
        "0.00687678644546\n",
        "0.00668900836413\n",
        "0.0065158177947\n",
        "0.00635541884147\n",
        "0.00620631064271\n",
        "0.00606722784243\n",
        "0.00593709511324\n",
        "0.00581499197158\n",
        "0.00570012524122\n",
        "0.00559180727456\n",
        "0.00548943856123\n",
        "0.00539249371603\n",
        "0.00530051009683\n",
        "0.00521307848822\n",
        "0.00512983542193\n",
        "0.00505045680474\n",
        "0.00497465259863\n",
        "0.00490216235385\n",
        "0.0239980099451\n",
        "0.0239980099451\n",
        "0.0131782586177\n",
        "0.0111262673806\n",
        "0.0108876435363\n",
        "0.00977269842756\n",
        "0.00963375126992\n",
        "0.00866500677943\n",
        "0.00862626918826\n",
        "0.0086262549829\n",
        "0.0086162519624\n",
        "\n",
        "\n",
        "\n",
        "iter=1: norm=0.000596509\n",
        "4.16826818505e-05\n",
        "0.0226540565491\n",
        "<petsc4py.PETSc.Mat object at 0x764bd70>\n",
        "#####################"
       ]
      },
      {
       "output_type": "stream",
       "stream": "stderr",
       "text": [
        "DEBUG:FFC:Reusing form from cache.\n"
       ]
      },
      {
       "output_type": "stream",
       "stream": "stderr",
       "text": [
        "DEBUG:FFC:Reusing form from cache.\n"
       ]
      },
      {
       "output_type": "stream",
       "stream": "stderr",
       "text": [
        "DEBUG:FFC:Reusing form from cache.\n"
       ]
      },
      {
       "output_type": "stream",
       "stream": "stderr",
       "text": [
        "DEBUG:FFC:Reusing form from cache.\n"
       ]
      },
      {
       "output_type": "stream",
       "stream": "stderr",
       "text": [
        "DEBUG:FFC:Reusing form from cache.\n"
       ]
      },
      {
       "output_type": "stream",
       "stream": "stderr",
       "text": [
        "DEBUG:FFC:Reusing form from cache.\n"
       ]
      },
      {
       "output_type": "stream",
       "stream": "stderr",
       "text": [
        "INFO:FFC:Adjusting missing element domain to Domain(Cell('triangle', 2), 'triangle_multiverse', 2, 2).\n"
       ]
      },
      {
       "output_type": "stream",
       "stream": "stderr",
       "text": [
        "INFO:FFC:Adjusting element degree from ? to 2\n"
       ]
      },
      {
       "output_type": "stream",
       "stream": "stderr",
       "text": [
        "INFO:FFC:Adjusting missing element domain to Domain(Cell('triangle', 2), 'triangle_multiverse', 2, 2).\n"
       ]
      },
      {
       "output_type": "stream",
       "stream": "stderr",
       "text": [
        "INFO:FFC:Adjusting element degree from ? to 2\n"
       ]
      },
      {
       "output_type": "stream",
       "stream": "stderr",
       "text": [
        "INFO:FFC:Adjusting missing element domain to Domain(Cell('triangle', 2), 'triangle_multiverse', 2, 2).\n"
       ]
      },
      {
       "output_type": "stream",
       "stream": "stderr",
       "text": [
        "INFO:FFC:Adjusting element degree from ? to 2\n"
       ]
      },
      {
       "output_type": "stream",
       "stream": "stderr",
       "text": [
        "INFO:FFC:Adjusting missing element domain to Domain(Cell('triangle', 2), 'triangle_multiverse', 2, 2).\n"
       ]
      },
      {
       "output_type": "stream",
       "stream": "stderr",
       "text": [
        "INFO:FFC:Adjusting element degree from ? to 2\n"
       ]
      },
      {
       "output_type": "stream",
       "stream": "stderr",
       "text": [
        "INFO:FFC:Adjusting missing element domain to Domain(Cell('triangle', 2), 'triangle_multiverse', 2, 2).\n"
       ]
      },
      {
       "output_type": "stream",
       "stream": "stderr",
       "text": [
        "INFO:FFC:Adjusting element degree from ? to 2\n"
       ]
      },
      {
       "output_type": "stream",
       "stream": "stderr",
       "text": [
        "INFO:FFC:Adjusting missing element domain to Domain(Cell('triangle', 2), 'triangle_multiverse', 2, 2).\n"
       ]
      },
      {
       "output_type": "stream",
       "stream": "stderr",
       "text": [
        "INFO:FFC:Adjusting element degree from ? to 2\n"
       ]
      },
      {
       "output_type": "stream",
       "stream": "stderr",
       "text": [
        "INFO:FFC:Adjusting missing element domain to Domain(Cell('triangle', 2), 'triangle_multiverse', 2, 2).\n"
       ]
      },
      {
       "output_type": "stream",
       "stream": "stderr",
       "text": [
        "INFO:FFC:Adjusting element degree from ? to 2\n"
       ]
      },
      {
       "output_type": "stream",
       "stream": "stderr",
       "text": [
        "INFO:FFC:Adjusting missing element domain to Domain(Cell('triangle', 2), 'triangle_multiverse', 2, 2).\n"
       ]
      },
      {
       "output_type": "stream",
       "stream": "stderr",
       "text": [
        "INFO:FFC:Adjusting element degree from ? to 2\n"
       ]
      },
      {
       "output_type": "stream",
       "stream": "stderr",
       "text": [
        "INFO:FFC:Adjusting missing element domain to Domain(Cell('triangle', 2), 'triangle_multiverse', 2, 2).\n"
       ]
      },
      {
       "output_type": "stream",
       "stream": "stderr",
       "text": [
        "INFO:FFC:Adjusting element degree from ? to 2\n"
       ]
      },
      {
       "output_type": "stream",
       "stream": "stderr",
       "text": [
        "DEBUG:FFC:Reusing form from cache.\n"
       ]
      },
      {
       "output_type": "stream",
       "stream": "stderr",
       "text": [
        "DEBUG:FFC:Reusing form from cache.\n"
       ]
      },
      {
       "output_type": "stream",
       "stream": "stderr",
       "text": [
        "INFO:FFC:Adjusting missing element domain to Domain(Cell('triangle', 2), 'triangle_multiverse', 2, 2).\n"
       ]
      },
      {
       "output_type": "stream",
       "stream": "stderr",
       "text": [
        "INFO:FFC:Adjusting element degree from ? to 2\n"
       ]
      },
      {
       "output_type": "stream",
       "stream": "stderr",
       "text": [
        "INFO:FFC:Adjusting missing element domain to Domain(Cell('triangle', 2), 'triangle_multiverse', 2, 2).\n"
       ]
      },
      {
       "output_type": "stream",
       "stream": "stderr",
       "text": [
        "INFO:FFC:Adjusting element degree from ? to 2\n"
       ]
      },
      {
       "output_type": "stream",
       "stream": "stderr",
       "text": [
        "INFO:FFC:Adjusting missing element domain to Domain(Cell('triangle', 2), 'triangle_multiverse', 2, 2).\n"
       ]
      },
      {
       "output_type": "stream",
       "stream": "stderr",
       "text": [
        "INFO:FFC:Adjusting element degree from ? to 2\n"
       ]
      },
      {
       "output_type": "stream",
       "stream": "stderr",
       "text": [
        "INFO:FFC:Adjusting missing element domain to Domain(Cell('triangle', 2), 'triangle_multiverse', 2, 2).\n"
       ]
      },
      {
       "output_type": "stream",
       "stream": "stderr",
       "text": [
        "INFO:FFC:Adjusting element degree from ? to 2\n"
       ]
      },
      {
       "output_type": "stream",
       "stream": "stderr",
       "text": [
        "INFO:FFC:Adjusting missing element domain to Domain(Cell('triangle', 2), 'triangle_multiverse', 2, 2).\n"
       ]
      },
      {
       "output_type": "stream",
       "stream": "stderr",
       "text": [
        "INFO:FFC:Adjusting element degree from ? to 2\n"
       ]
      },
      {
       "output_type": "stream",
       "stream": "stderr",
       "text": [
        "INFO:FFC:Adjusting missing element domain to Domain(Cell('triangle', 2), 'triangle_multiverse', 2, 2).\n"
       ]
      },
      {
       "output_type": "stream",
       "stream": "stderr",
       "text": [
        "INFO:FFC:Adjusting element degree from ? to 2\n"
       ]
      },
      {
       "output_type": "stream",
       "stream": "stderr",
       "text": [
        "INFO:FFC:Adjusting missing element domain to Domain(Cell('triangle', 2), 'triangle_multiverse', 2, 2).\n"
       ]
      },
      {
       "output_type": "stream",
       "stream": "stderr",
       "text": [
        "INFO:FFC:Adjusting element degree from ? to 2\n"
       ]
      },
      {
       "output_type": "stream",
       "stream": "stderr",
       "text": [
        "INFO:FFC:Adjusting missing element domain to Domain(Cell('triangle', 2), 'triangle_multiverse', 2, 2).\n"
       ]
      },
      {
       "output_type": "stream",
       "stream": "stderr",
       "text": [
        "INFO:FFC:Adjusting element degree from ? to 2\n"
       ]
      },
      {
       "output_type": "stream",
       "stream": "stderr",
       "text": [
        "INFO:FFC:Adjusting missing element domain to Domain(Cell('triangle', 2), 'triangle_multiverse', 2, 2).\n"
       ]
      },
      {
       "output_type": "stream",
       "stream": "stderr",
       "text": [
        "INFO:FFC:Adjusting element degree from ? to 2\n"
       ]
      },
      {
       "output_type": "stream",
       "stream": "stderr",
       "text": [
        "DEBUG:UFL:No integrals left after transformation, returning empty form.\n"
       ]
      },
      {
       "output_type": "stream",
       "stream": "stderr",
       "text": [
        "DEBUG:FFC:Reusing form from cache.\n"
       ]
      },
      {
       "output_type": "stream",
       "stream": "stderr",
       "text": [
        "DEBUG:FFC:Reusing form from cache.\n"
       ]
      },
      {
       "output_type": "stream",
       "stream": "stdout",
       "text": [
        " 18\n",
        "##################### 18\n",
        "::::::::::::::::::::::::::::::::::::::::::::: 3\n",
        "0.0752060413361\n",
        "0.0777640342712\n",
        "::::::::::::::::::::::::::::::::::::::::::::: 1\n",
        "0.0104666874453\n",
        "0.0103647051715\n",
        "0.0103507782361\n",
        "1.06918663273e-08\n",
        "\n",
        "\n",
        "\n",
        "iter=2: norm=0.00756544\n",
        "2.86220338518e-14\n",
        "0.0235090255737\n",
        "<petsc4py.PETSc.Mat object at 0x764ba70>\n",
        "#####################"
       ]
      },
      {
       "output_type": "stream",
       "stream": "stderr",
       "text": [
        "DEBUG:FFC:Reusing form from cache.\n"
       ]
      },
      {
       "output_type": "stream",
       "stream": "stderr",
       "text": [
        "DEBUG:FFC:Reusing form from cache.\n"
       ]
      },
      {
       "output_type": "stream",
       "stream": "stderr",
       "text": [
        "DEBUG:FFC:Reusing form from cache.\n"
       ]
      },
      {
       "output_type": "stream",
       "stream": "stderr",
       "text": [
        "DEBUG:FFC:Reusing form from cache.\n"
       ]
      },
      {
       "output_type": "stream",
       "stream": "stderr",
       "text": [
        "DEBUG:FFC:Reusing form from cache.\n"
       ]
      },
      {
       "output_type": "stream",
       "stream": "stderr",
       "text": [
        "DEBUG:FFC:Reusing form from cache.\n"
       ]
      },
      {
       "output_type": "stream",
       "stream": "stderr",
       "text": [
        "INFO:FFC:Adjusting missing element domain to Domain(Cell('triangle', 2), 'triangle_multiverse', 2, 2).\n"
       ]
      },
      {
       "output_type": "stream",
       "stream": "stderr",
       "text": [
        "INFO:FFC:Adjusting element degree from ? to 2\n"
       ]
      },
      {
       "output_type": "stream",
       "stream": "stderr",
       "text": [
        "INFO:FFC:Adjusting missing element domain to Domain(Cell('triangle', 2), 'triangle_multiverse', 2, 2).\n"
       ]
      },
      {
       "output_type": "stream",
       "stream": "stderr",
       "text": [
        "INFO:FFC:Adjusting element degree from ? to 2\n"
       ]
      },
      {
       "output_type": "stream",
       "stream": "stderr",
       "text": [
        "INFO:FFC:Adjusting missing element domain to Domain(Cell('triangle', 2), 'triangle_multiverse', 2, 2).\n"
       ]
      },
      {
       "output_type": "stream",
       "stream": "stderr",
       "text": [
        "INFO:FFC:Adjusting element degree from ? to 2\n"
       ]
      },
      {
       "output_type": "stream",
       "stream": "stderr",
       "text": [
        "INFO:FFC:Adjusting missing element domain to Domain(Cell('triangle', 2), 'triangle_multiverse', 2, 2).\n"
       ]
      },
      {
       "output_type": "stream",
       "stream": "stderr",
       "text": [
        "INFO:FFC:Adjusting element degree from ? to 2\n"
       ]
      },
      {
       "output_type": "stream",
       "stream": "stderr",
       "text": [
        "INFO:FFC:Adjusting missing element domain to Domain(Cell('triangle', 2), 'triangle_multiverse', 2, 2).\n"
       ]
      },
      {
       "output_type": "stream",
       "stream": "stderr",
       "text": [
        "INFO:FFC:Adjusting element degree from ? to 2\n"
       ]
      },
      {
       "output_type": "stream",
       "stream": "stderr",
       "text": [
        "INFO:FFC:Adjusting missing element domain to Domain(Cell('triangle', 2), 'triangle_multiverse', 2, 2).\n"
       ]
      },
      {
       "output_type": "stream",
       "stream": "stderr",
       "text": [
        "INFO:FFC:Adjusting element degree from ? to 2\n"
       ]
      },
      {
       "output_type": "stream",
       "stream": "stderr",
       "text": [
        "INFO:FFC:Adjusting missing element domain to Domain(Cell('triangle', 2), 'triangle_multiverse', 2, 2).\n"
       ]
      },
      {
       "output_type": "stream",
       "stream": "stderr",
       "text": [
        "INFO:FFC:Adjusting element degree from ? to 2\n"
       ]
      },
      {
       "output_type": "stream",
       "stream": "stderr",
       "text": [
        "INFO:FFC:Adjusting missing element domain to Domain(Cell('triangle', 2), 'triangle_multiverse', 2, 2).\n"
       ]
      },
      {
       "output_type": "stream",
       "stream": "stderr",
       "text": [
        "INFO:FFC:Adjusting element degree from ? to 2\n"
       ]
      },
      {
       "output_type": "stream",
       "stream": "stderr",
       "text": [
        "INFO:FFC:Adjusting missing element domain to Domain(Cell('triangle', 2), 'triangle_multiverse', 2, 2).\n"
       ]
      },
      {
       "output_type": "stream",
       "stream": "stderr",
       "text": [
        "INFO:FFC:Adjusting element degree from ? to 2\n"
       ]
      },
      {
       "output_type": "stream",
       "stream": "stderr",
       "text": [
        "DEBUG:FFC:Reusing form from cache.\n"
       ]
      },
      {
       "output_type": "stream",
       "stream": "stderr",
       "text": [
        "DEBUG:FFC:Reusing form from cache.\n"
       ]
      },
      {
       "output_type": "stream",
       "stream": "stderr",
       "text": [
        "INFO:FFC:Adjusting missing element domain to Domain(Cell('triangle', 2), 'triangle_multiverse', 2, 2).\n"
       ]
      },
      {
       "output_type": "stream",
       "stream": "stderr",
       "text": [
        "INFO:FFC:Adjusting element degree from ? to 2\n"
       ]
      },
      {
       "output_type": "stream",
       "stream": "stderr",
       "text": [
        "INFO:FFC:Adjusting missing element domain to Domain(Cell('triangle', 2), 'triangle_multiverse', 2, 2).\n"
       ]
      },
      {
       "output_type": "stream",
       "stream": "stderr",
       "text": [
        "INFO:FFC:Adjusting element degree from ? to 2\n"
       ]
      },
      {
       "output_type": "stream",
       "stream": "stderr",
       "text": [
        "INFO:FFC:Adjusting missing element domain to Domain(Cell('triangle', 2), 'triangle_multiverse', 2, 2).\n"
       ]
      },
      {
       "output_type": "stream",
       "stream": "stderr",
       "text": [
        "INFO:FFC:Adjusting element degree from ? to 2\n"
       ]
      },
      {
       "output_type": "stream",
       "stream": "stderr",
       "text": [
        "INFO:FFC:Adjusting missing element domain to Domain(Cell('triangle', 2), 'triangle_multiverse', 2, 2).\n"
       ]
      },
      {
       "output_type": "stream",
       "stream": "stderr",
       "text": [
        "INFO:FFC:Adjusting element degree from ? to 2\n"
       ]
      },
      {
       "output_type": "stream",
       "stream": "stderr",
       "text": [
        "INFO:FFC:Adjusting missing element domain to Domain(Cell('triangle', 2), 'triangle_multiverse', 2, 2).\n"
       ]
      },
      {
       "output_type": "stream",
       "stream": "stderr",
       "text": [
        "INFO:FFC:Adjusting element degree from ? to 2\n"
       ]
      },
      {
       "output_type": "stream",
       "stream": "stderr",
       "text": [
        "INFO:FFC:Adjusting missing element domain to Domain(Cell('triangle', 2), 'triangle_multiverse', 2, 2).\n"
       ]
      },
      {
       "output_type": "stream",
       "stream": "stderr",
       "text": [
        "INFO:FFC:Adjusting element degree from ? to 2\n"
       ]
      },
      {
       "output_type": "stream",
       "stream": "stderr",
       "text": [
        "INFO:FFC:Adjusting missing element domain to Domain(Cell('triangle', 2), 'triangle_multiverse', 2, 2).\n"
       ]
      },
      {
       "output_type": "stream",
       "stream": "stderr",
       "text": [
        "INFO:FFC:Adjusting element degree from ? to 2\n"
       ]
      },
      {
       "output_type": "stream",
       "stream": "stderr",
       "text": [
        "INFO:FFC:Adjusting missing element domain to Domain(Cell('triangle', 2), 'triangle_multiverse', 2, 2).\n"
       ]
      },
      {
       "output_type": "stream",
       "stream": "stderr",
       "text": [
        "INFO:FFC:Adjusting element degree from ? to 2\n"
       ]
      },
      {
       "output_type": "stream",
       "stream": "stderr",
       "text": [
        "INFO:FFC:Adjusting missing element domain to Domain(Cell('triangle', 2), 'triangle_multiverse', 2, 2).\n"
       ]
      },
      {
       "output_type": "stream",
       "stream": "stderr",
       "text": [
        "INFO:FFC:Adjusting element degree from ? to 2\n"
       ]
      },
      {
       "output_type": "stream",
       "stream": "stderr",
       "text": [
        "DEBUG:UFL:No integrals left after transformation, returning empty form.\n"
       ]
      },
      {
       "output_type": "stream",
       "stream": "stderr",
       "text": [
        "DEBUG:FFC:Reusing form from cache.\n"
       ]
      },
      {
       "output_type": "stream",
       "stream": "stderr",
       "text": [
        "DEBUG:FFC:Reusing form from cache.\n"
       ]
      },
      {
       "output_type": "stream",
       "stream": "stdout",
       "text": [
        " 20\n",
        "##################### 20\n",
        "::::::::::::::::::::::::::::::::::::::::::::: 100\n",
        "0.0774159431458\n",
        "0.0799310207367\n",
        "::::::::::::::::::::::::::::::::::::::::::::: 1\n",
        "2.76429204072e-05\n",
        "2.75212207577e-05\n",
        "2.71182513064e-05\n",
        "2.70592775739e-05\n",
        "2.66069520505e-05\n",
        "2.61765770697e-05\n",
        "2.57664327802e-05\n",
        "2.53749823061e-05\n",
        "2.50008474106e-05\n",
        "2.46427880447e-05\n",
        "2.4299685029e-05\n",
        "2.39705253162e-05\n",
        "2.36543893918e-05\n",
        "2.33504404564e-05\n",
        "2.30579150984e-05\n",
        "2.27761152209e-05\n",
        "2.25044010285e-05\n",
        "2.22421849131e-05\n",
        "2.19889261047e-05\n",
        "2.17441259785e-05\n",
        "2.15073239238e-05\n",
        "2.12780936967e-05\n",
        "2.10560401928e-05\n",
        "2.08407965813e-05\n",
        "2.06320217565e-05\n",
        "2.04293980632e-05\n",
        "2.02326292642e-05\n",
        "2.00414387185e-05\n",
        "1.98555677455e-05\n",
        "1.96747741532e-05\n",
        "7.37744115133e-05\n",
        "7.09739841702e-05\n",
        "6.96481487001e-05\n",
        "6.88608014919e-05\n",
        "6.11186936788e-05\n",
        "5.54178472407e-05\n",
        "5.10621450698e-05\n",
        "4.75946443628e-05\n",
        "4.47494513948e-05\n",
        "4.23602376722e-05\n",
        "4.03169230679e-05\n",
        "3.85433669059e-05\n",
        "3.69850000334e-05\n",
        "3.56015539623e-05\n",
        "3.4362577153e-05\n",
        "3.32445578471e-05\n",
        "3.22290146605e-05\n",
        "3.1301192363e-05\n",
        "3.04491484765e-05\n",
        "2.96630994273e-05\n",
        "2.8934943357e-05\n",
        "2.82579058257e-05\n",
        "2.76262726678e-05\n",
        "2.70351857527e-05\n",
        "2.64804848582e-05\n",
        "2.59585838399e-05\n",
        "2.54663726358e-05\n",
        "2.50011389714e-05\n",
        "2.45605052475e-05\n",
        "2.41423772502e-05\n",
        "0.000117313899492\n",
        "0.000117313899492\n",
        "0.000117313899492\n",
        "9.80999328267e-05\n",
        "5.69794326284e-05\n",
        "4.39775830251e-05\n",
        "3.71095551585e-05\n",
        "3.26990917637e-05\n",
        "2.95610945445e-05\n",
        "2.71818564667e-05\n",
        "2.52978412733e-05\n",
        "2.37580950172e-05\n",
        "2.24691099051e-05\n",
        "2.13694633292e-05\n",
        "2.04169226008e-05\n",
        "1.95813663251e-05\n",
        "1.88406560394e-05\n",
        "1.81781070133e-05\n",
        "1.75808741795e-05\n",
        "1.70388859694e-05\n",
        "1.65441189993e-05\n",
        "1.60900918818e-05\n",
        "1.5671503994e-05\n",
        "1.52839725654e-05\n",
        "1.49238379482e-05\n",
        "1.45880171129e-05\n",
        "1.42738918613e-05\n",
        "1.39792224346e-05\n",
        "1.37020799692e-05\n",
        "1.34407931257e-05\n",
        "6.89085413693e-05\n",
        "6.89085413693e-05\n",
        "6.89085413693e-05\n",
        "6.82829794148e-05\n",
        "2.61377712947e-05\n",
        "1.92459012064e-05\n",
        "1.59397897841e-05\n",
        "1.39051494945e-05\n",
        "1.24922442301e-05\n",
        "1.14377134472e-05\n",
        "1.06118598215e-05\n",
        "\n",
        "\n",
        "\n",
        "iter=3: norm=6.06484e-06\n",
        "4.03474831163e-07\n",
        "0.0225749015808\n",
        "<petsc4py.PETSc.Mat object at 0x765f7d0>\n",
        "#####################"
       ]
      },
      {
       "output_type": "stream",
       "stream": "stderr",
       "text": [
        "DEBUG:FFC:Reusing form from cache.\n"
       ]
      },
      {
       "output_type": "stream",
       "stream": "stderr",
       "text": [
        "DEBUG:FFC:Reusing form from cache.\n"
       ]
      },
      {
       "output_type": "stream",
       "stream": "stderr",
       "text": [
        "DEBUG:FFC:Reusing form from cache.\n"
       ]
      },
      {
       "output_type": "stream",
       "stream": "stderr",
       "text": [
        "DEBUG:FFC:Reusing form from cache.\n"
       ]
      },
      {
       "output_type": "stream",
       "stream": "stderr",
       "text": [
        "DEBUG:FFC:Reusing form from cache.\n"
       ]
      },
      {
       "output_type": "stream",
       "stream": "stderr",
       "text": [
        "DEBUG:FFC:Reusing form from cache.\n"
       ]
      },
      {
       "output_type": "stream",
       "stream": "stderr",
       "text": [
        "INFO:FFC:Adjusting missing element domain to Domain(Cell('triangle', 2), 'triangle_multiverse', 2, 2).\n"
       ]
      },
      {
       "output_type": "stream",
       "stream": "stderr",
       "text": [
        "INFO:FFC:Adjusting element degree from ? to 2\n"
       ]
      },
      {
       "output_type": "stream",
       "stream": "stderr",
       "text": [
        "INFO:FFC:Adjusting missing element domain to Domain(Cell('triangle', 2), 'triangle_multiverse', 2, 2).\n"
       ]
      },
      {
       "output_type": "stream",
       "stream": "stderr",
       "text": [
        "INFO:FFC:Adjusting element degree from ? to 2\n"
       ]
      },
      {
       "output_type": "stream",
       "stream": "stderr",
       "text": [
        "INFO:FFC:Adjusting missing element domain to Domain(Cell('triangle', 2), 'triangle_multiverse', 2, 2).\n"
       ]
      },
      {
       "output_type": "stream",
       "stream": "stderr",
       "text": [
        "INFO:FFC:Adjusting element degree from ? to 2\n"
       ]
      },
      {
       "output_type": "stream",
       "stream": "stderr",
       "text": [
        "INFO:FFC:Adjusting missing element domain to Domain(Cell('triangle', 2), 'triangle_multiverse', 2, 2).\n"
       ]
      },
      {
       "output_type": "stream",
       "stream": "stderr",
       "text": [
        "INFO:FFC:Adjusting element degree from ? to 2\n"
       ]
      },
      {
       "output_type": "stream",
       "stream": "stderr",
       "text": [
        "INFO:FFC:Adjusting missing element domain to Domain(Cell('triangle', 2), 'triangle_multiverse', 2, 2).\n"
       ]
      },
      {
       "output_type": "stream",
       "stream": "stderr",
       "text": [
        "INFO:FFC:Adjusting element degree from ? to 2\n"
       ]
      },
      {
       "output_type": "stream",
       "stream": "stderr",
       "text": [
        "INFO:FFC:Adjusting missing element domain to Domain(Cell('triangle', 2), 'triangle_multiverse', 2, 2).\n"
       ]
      },
      {
       "output_type": "stream",
       "stream": "stderr",
       "text": [
        "INFO:FFC:Adjusting element degree from ? to 2\n"
       ]
      },
      {
       "output_type": "stream",
       "stream": "stderr",
       "text": [
        "INFO:FFC:Adjusting missing element domain to Domain(Cell('triangle', 2), 'triangle_multiverse', 2, 2).\n"
       ]
      },
      {
       "output_type": "stream",
       "stream": "stderr",
       "text": [
        "INFO:FFC:Adjusting element degree from ? to 2\n"
       ]
      },
      {
       "output_type": "stream",
       "stream": "stderr",
       "text": [
        "INFO:FFC:Adjusting missing element domain to Domain(Cell('triangle', 2), 'triangle_multiverse', 2, 2).\n"
       ]
      },
      {
       "output_type": "stream",
       "stream": "stderr",
       "text": [
        "INFO:FFC:Adjusting element degree from ? to 2\n"
       ]
      },
      {
       "output_type": "stream",
       "stream": "stderr",
       "text": [
        "INFO:FFC:Adjusting missing element domain to Domain(Cell('triangle', 2), 'triangle_multiverse', 2, 2).\n"
       ]
      },
      {
       "output_type": "stream",
       "stream": "stderr",
       "text": [
        "INFO:FFC:Adjusting element degree from ? to 2\n"
       ]
      },
      {
       "output_type": "stream",
       "stream": "stderr",
       "text": [
        "DEBUG:FFC:Reusing form from cache.\n"
       ]
      },
      {
       "output_type": "stream",
       "stream": "stderr",
       "text": [
        "DEBUG:FFC:Reusing form from cache.\n"
       ]
      },
      {
       "output_type": "stream",
       "stream": "stderr",
       "text": [
        "INFO:FFC:Adjusting missing element domain to Domain(Cell('triangle', 2), 'triangle_multiverse', 2, 2).\n"
       ]
      },
      {
       "output_type": "stream",
       "stream": "stderr",
       "text": [
        "INFO:FFC:Adjusting element degree from ? to 2\n"
       ]
      },
      {
       "output_type": "stream",
       "stream": "stderr",
       "text": [
        "INFO:FFC:Adjusting missing element domain to Domain(Cell('triangle', 2), 'triangle_multiverse', 2, 2).\n"
       ]
      },
      {
       "output_type": "stream",
       "stream": "stderr",
       "text": [
        "INFO:FFC:Adjusting element degree from ? to 2\n"
       ]
      },
      {
       "output_type": "stream",
       "stream": "stderr",
       "text": [
        "INFO:FFC:Adjusting missing element domain to Domain(Cell('triangle', 2), 'triangle_multiverse', 2, 2).\n"
       ]
      },
      {
       "output_type": "stream",
       "stream": "stderr",
       "text": [
        "INFO:FFC:Adjusting element degree from ? to 2\n"
       ]
      },
      {
       "output_type": "stream",
       "stream": "stderr",
       "text": [
        "INFO:FFC:Adjusting missing element domain to Domain(Cell('triangle', 2), 'triangle_multiverse', 2, 2).\n"
       ]
      },
      {
       "output_type": "stream",
       "stream": "stderr",
       "text": [
        "INFO:FFC:Adjusting element degree from ? to 2\n"
       ]
      },
      {
       "output_type": "stream",
       "stream": "stderr",
       "text": [
        "INFO:FFC:Adjusting missing element domain to Domain(Cell('triangle', 2), 'triangle_multiverse', 2, 2).\n"
       ]
      },
      {
       "output_type": "stream",
       "stream": "stderr",
       "text": [
        "INFO:FFC:Adjusting element degree from ? to 2\n"
       ]
      },
      {
       "output_type": "stream",
       "stream": "stderr",
       "text": [
        "INFO:FFC:Adjusting missing element domain to Domain(Cell('triangle', 2), 'triangle_multiverse', 2, 2).\n"
       ]
      },
      {
       "output_type": "stream",
       "stream": "stderr",
       "text": [
        "INFO:FFC:Adjusting element degree from ? to 2\n"
       ]
      },
      {
       "output_type": "stream",
       "stream": "stderr",
       "text": [
        "INFO:FFC:Adjusting missing element domain to Domain(Cell('triangle', 2), 'triangle_multiverse', 2, 2).\n"
       ]
      },
      {
       "output_type": "stream",
       "stream": "stderr",
       "text": [
        "INFO:FFC:Adjusting element degree from ? to 2\n"
       ]
      },
      {
       "output_type": "stream",
       "stream": "stderr",
       "text": [
        "INFO:FFC:Adjusting missing element domain to Domain(Cell('triangle', 2), 'triangle_multiverse', 2, 2).\n"
       ]
      },
      {
       "output_type": "stream",
       "stream": "stderr",
       "text": [
        "INFO:FFC:Adjusting element degree from ? to 2\n"
       ]
      },
      {
       "output_type": "stream",
       "stream": "stderr",
       "text": [
        "INFO:FFC:Adjusting missing element domain to Domain(Cell('triangle', 2), 'triangle_multiverse', 2, 2).\n"
       ]
      },
      {
       "output_type": "stream",
       "stream": "stderr",
       "text": [
        "INFO:FFC:Adjusting element degree from ? to 2\n"
       ]
      },
      {
       "output_type": "stream",
       "stream": "stderr",
       "text": [
        "DEBUG:UFL:No integrals left after transformation, returning empty form.\n"
       ]
      },
      {
       "output_type": "stream",
       "stream": "stderr",
       "text": [
        "DEBUG:FFC:Reusing form from cache.\n"
       ]
      },
      {
       "output_type": "stream",
       "stream": "stderr",
       "text": [
        "DEBUG:FFC:Reusing form from cache.\n"
       ]
      },
      {
       "output_type": "stream",
       "stream": "stdout",
       "text": [
        " 22\n",
        "##################### 22\n",
        "::::::::::::::::::::::::::::::::::::::::::::: 5\n",
        "0.074450969696\n",
        "0.0776720046997\n",
        "::::::::::::::::::::::::::::::::::::::::::::: 1\n",
        "1.94249828995e-05\n",
        "1.94219391381e-05\n",
        "1.941702157e-05\n",
        "1.93783148929e-05\n",
        "1.91859851245e-05\n",
        "4.05922871374e-18\n",
        "\n",
        "\n",
        "\n",
        "iter=4: norm=1.43502e-05\n",
        "2.64425830771e-07\n",
        "0.0228600502014\n",
        "<petsc4py.PETSc.Mat object at 0x765fa10>\n",
        "#####################"
       ]
      },
      {
       "output_type": "stream",
       "stream": "stderr",
       "text": [
        "DEBUG:FFC:Reusing form from cache.\n"
       ]
      },
      {
       "output_type": "stream",
       "stream": "stderr",
       "text": [
        "DEBUG:FFC:Reusing form from cache.\n"
       ]
      },
      {
       "output_type": "stream",
       "stream": "stderr",
       "text": [
        "DEBUG:FFC:Reusing form from cache.\n"
       ]
      },
      {
       "output_type": "stream",
       "stream": "stderr",
       "text": [
        "DEBUG:FFC:Reusing form from cache.\n"
       ]
      },
      {
       "output_type": "stream",
       "stream": "stderr",
       "text": [
        "DEBUG:FFC:Reusing form from cache.\n"
       ]
      },
      {
       "output_type": "stream",
       "stream": "stderr",
       "text": [
        "DEBUG:UFL:No integrals left after transformation, returning empty form.\n"
       ]
      },
      {
       "output_type": "stream",
       "stream": "stderr",
       "text": [
        "DEBUG:FFC:Reusing form from cache.\n"
       ]
      },
      {
       "output_type": "stream",
       "stream": "stderr",
       "text": [
        "DEBUG:UFL:No integrals left after transformation, returning empty form.\n"
       ]
      },
      {
       "output_type": "stream",
       "stream": "stderr",
       "text": [
        "DEBUG:FFC:Reusing form from cache.\n"
       ]
      },
      {
       "output_type": "stream",
       "stream": "stderr",
       "text": [
        "DEBUG:FFC:Reusing form from cache.\n"
       ]
      },
      {
       "output_type": "stream",
       "stream": "stderr",
       "text": [
        "DEBUG:FFC:Reusing form from cache.\n"
       ]
      },
      {
       "output_type": "stream",
       "stream": "stderr",
       "text": [
        "DEBUG:FFC:Reusing form from cache.\n"
       ]
      },
      {
       "output_type": "stream",
       "stream": "stderr",
       "text": [
        "DEBUG:FFC:Reusing form from cache.\n"
       ]
      },
      {
       "output_type": "stream",
       "stream": "stderr",
       "text": [
        "DEBUG:FFC:Reusing form from cache.\n"
       ]
      },
      {
       "output_type": "stream",
       "stream": "stderr",
       "text": [
        "DEBUG:UFL:No integrals left after transformation, returning empty form.\n"
       ]
      },
      {
       "output_type": "stream",
       "stream": "stderr",
       "text": [
        "DEBUG:FFC:Reusing form from cache.\n"
       ]
      },
      {
       "output_type": "stream",
       "stream": "stderr",
       "text": [
        "DEBUG:FFC:Reusing form from cache.\n"
       ]
      },
      {
       "output_type": "stream",
       "stream": "stderr",
       "text": [
        "DEBUG:UFL:No integrals left after transformation, returning empty form.\n"
       ]
      },
      {
       "output_type": "stream",
       "stream": "stderr",
       "text": [
        "DEBUG:FFC:Reusing form from cache.\n"
       ]
      },
      {
       "output_type": "stream",
       "stream": "stderr",
       "text": [
        "DEBUG:FFC:Reusing form from cache.\n"
       ]
      },
      {
       "output_type": "stream",
       "stream": "stderr",
       "text": [
        "DEBUG:FFC:Reusing form from cache.\n"
       ]
      },
      {
       "output_type": "stream",
       "stream": "stdout",
       "text": [
        " 21\n",
        "##################### 21\n",
        "::::::::::::::::::::::::::::::::::::::::::::: 100\n",
        "0.0767509937286\n",
        "0.0797901153564\n",
        "::::::::::::::::::::::::::::::::::::::::::::: 1\n",
        "5.12758951916e-08\n",
        "5.12526835737e-08\n",
        "5.12521445472e-08\n",
        "5.12439194637e-08\n",
        "5.12299623828e-08\n",
        "5.1216343339e-08\n",
        "5.12025312691e-08\n",
        "5.11887072763e-08\n",
        "5.11748886012e-08\n",
        "5.11610802057e-08\n",
        "5.11472828452e-08\n",
        "5.11334966242e-08\n",
        "5.11197215431e-08\n",
        "5.11059575884e-08\n",
        "5.10922047456e-08\n",
        "5.10784629997e-08\n",
        "5.10647323356e-08\n",
        "5.10510127386e-08\n",
        "5.10373041939e-08\n",
        "5.10236066865e-08\n",
        "5.10099202018e-08\n",
        "5.09962447249e-08\n",
        "5.0982580241e-08\n",
        "5.09689267355e-08\n",
        "5.09552841936e-08\n",
        "5.09416526007e-08\n",
        "5.09280319422e-08\n",
        "5.09144222034e-08\n",
        "5.09008233698e-08\n",
        "5.08872354268e-08\n",
        "6.02361930051e-08\n",
        "6.02361930051e-08\n",
        "5.74028376212e-08\n",
        "5.50998546242e-08\n",
        "5.30748520186e-08\n",
        "5.1258023258e-08\n",
        "4.96158527185e-08\n",
        "4.81220328336e-08\n",
        "4.67554933293e-08\n",
        "4.54991288716e-08\n",
        "4.43388886003e-08\n",
        "4.32631088358e-08\n",
        "4.22620157244e-08\n",
        "4.13273489382e-08\n",
        "4.04520730813e-08\n",
        "3.96301536207e-08\n",
        "3.88563809616e-08\n",
        "3.81262308967e-08\n",
        "3.74357528659e-08\n",
        "3.67814797039e-08\n",
        "3.61603541574e-08\n",
        "3.55696686089e-08\n",
        "3.5007015292e-08\n",
        "3.4470244905e-08\n",
        "3.39574319986e-08\n",
        "3.34668458655e-08\n",
        "3.29969259266e-08\n",
        "3.25462608163e-08\n",
        "3.21135705266e-08\n",
        "3.16976910948e-08\n",
        "1.44912467134e-07\n",
        "1.44912467134e-07\n",
        "9.07204275223e-08\n",
        "8.45514301562e-08\n",
        "7.50231351057e-08\n",
        "6.94562378513e-08\n",
        "6.45534086201e-08\n",
        "6.06613160686e-08\n",
        "5.73749381775e-08\n",
        "5.45752860715e-08\n",
        "5.21482887004e-08\n",
        "5.00188652076e-08\n",
        "4.81306388695e-08\n",
        "4.64412881102e-08\n",
        "4.49181834388e-08\n",
        "4.35357333675e-08\n",
        "4.22735420179e-08\n",
        "4.11151276269e-08\n",
        "4.00470068158e-08\n",
        "3.90580278654e-08\n",
        "3.81388766656e-08\n",
        "3.72817048661e-08\n",
        "3.64798460457e-08\n",
        "3.57275962879e-08\n",
        "3.50200425754e-08\n",
        "3.4352927157e-08\n",
        "3.37225393008e-08\n",
        "3.31256281317e-08\n",
        "3.25593318614e-08\n",
        "3.20211198925e-08\n",
        "1.64522777409e-07\n",
        "1.64522777409e-07\n",
        "7.86549321778e-08\n",
        "7.7122974898e-08\n",
        "6.88179093807e-08\n",
        "6.26309872735e-08\n",
        "5.7858578532e-08\n",
        "5.40335253863e-08\n",
        "5.08788859316e-08\n",
        "4.82192318146e-08\n",
        "4.59373332575e-08\n",
        "\n",
        "\n",
        "\n",
        "iter=5: norm=2.17447e-09\n",
        "2.60690261807e-09\n",
        "[ 0.04750524]"
       ]
      },
      {
       "output_type": "stream",
       "stream": "stdout",
       "text": [
        "\n",
        "[ 1.79455342]\n",
        "[[ 0.]]\n",
        "Velocity Elements rate of convergence  nan\n",
        "Pressure Elements rate of convergence  nan\n",
        "\n",
        "\n",
        "   Velocity convergence\n",
        "   Total DoF  V DoF  Soln Time  AvIt        V-L2 L2-order        V-H1 H1-order\n",
        "0         22     18       0.19    62  4.7505e-02     0.00  3.2890e-01     0.00\n",
        "\n",
        "\n",
        "   Pressure convergence\n",
        "   Total DoF  P DoF  Soln Time  AvIt        P-L2 L2-order\n",
        "0         22      4       0.19    62  1.7946e+00     0.00\n",
        "   l  IT  DoFu  Dofp        V-L2 L2-order        V-H1 H1-order        P-L2  \\\n",
        "0  0  62    18     4  4.7505e-02     0.00  3.2890e-01     0.00  1.7946e+00   \n",
        "\n",
        "  PL2-order  \n",
        "0      0.00  \n"
       ]
      },
      {
       "output_type": "stream",
       "stream": "stderr",
       "text": [
        "/usr/local/lib/python2.7/dist-packages/numpy/core/_methods.py:55: RuntimeWarning: Mean of empty slice.\n",
        "  warnings.warn(\"Mean of empty slice.\", RuntimeWarning)\n"
       ]
      }
     ],
     "prompt_number": 1
    },
    {
     "cell_type": "code",
     "collapsed": false,
     "input": [
      "reshist1"
     ],
     "language": "python",
     "metadata": {},
     "outputs": [
      {
       "metadata": {},
       "output_type": "pyout",
       "prompt_number": 7,
       "text": [
        "{0: 5.374589787137567e-08, 1: 1.3342602706262998e-23}"
       ]
      }
     ],
     "prompt_number": 7
    }
   ],
   "metadata": {}
  }
 ]
}
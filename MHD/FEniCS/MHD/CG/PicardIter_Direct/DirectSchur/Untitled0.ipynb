{
 "metadata": {
  "name": ""
 },
 "nbformat": 3,
 "nbformat_minor": 0,
 "worksheets": [
  {
   "cells": [
    {
     "cell_type": "code",
     "collapsed": false,
     "input": [
      "\n",
      "#!/opt/local/bin/python\n",
      "\n",
      "from dolfin import *\n",
      "import petsc4py\n",
      "import sys\n",
      "petsc4py.init(sys.argv)\n",
      "from petsc4py import PETSc\n",
      "\n",
      "# from MatrixOperations import *\n",
      "import numpy as np\n",
      "import os\n",
      "import scipy.io\n",
      "#from PyTrilinos import Epetra, EpetraExt, AztecOO, ML, Amesos\n",
      "#from scipy2Trilinos import scipy_csr_matrix2CrsMatrix\n",
      "import PETScIO as IO\n",
      "import time\n",
      "import common\n",
      "import CheckPetsc4py as CP\n",
      "import NSprecond\n",
      "from scipy.sparse import  spdiags\n",
      "import MatrixOperations as MO\n",
      "import ExactSol\n",
      "import Solver as S\n",
      "import matplotlib.pylab as plt\n",
      "\n",
      "m =2\n",
      "errL2u =np.zeros((m-1,1))\n",
      "errH1u =np.zeros((m-1,1))\n",
      "errL2p =np.zeros((m-1,1))\n",
      "\n",
      "l2uorder =  np.zeros((m-1,1))\n",
      "H1uorder =np.zeros((m-1,1))\n",
      "l2porder =  np.zeros((m-1,1))\n",
      "NN = np.zeros((m-1,1))\n",
      "DoF = np.zeros((m-1,1))\n",
      "Vdim = np.zeros((m-1,1))\n",
      "Qdim = np.zeros((m-1,1))\n",
      "Wdim = np.zeros((m-1,1))\n",
      "l2uorder = np.zeros((m-1,1))\n",
      "l2porder = np.zeros((m-1,1))\n",
      "nonlinear = np.zeros((m-1,1))\n",
      "SolTime = np.zeros((m-1,1))\n",
      "AvIt = np.zeros((m-1,1))\n",
      "nn = 2\n",
      "\n",
      "dim = 2\n",
      "Solver = 'PCD'\n",
      "Saving = 'no'\n",
      "case = 4\n",
      "parameters['linear_algebra_backend'] = 'uBLAS'\n",
      "# parameters = CP.ParameterSetup()\n",
      "def LOG(arg):\n",
      "    if INFO:\n",
      "        print(arg)\n",
      "\n",
      "\n",
      "\n",
      "\n",
      "for xx in xrange(1,m):\n",
      "    print xx\n",
      "    NN[xx-1] = xx+2\n",
      "    nn = 2**(NN[xx-1])\n",
      "    # Create mesh and define function space\n",
      "    nn = int(nn)\n",
      "\n",
      "\n",
      "    mesh = UnitSquareMesh(nn,nn)\n",
      "    # tic()\n",
      "    parameters[\"form_compiler\"][\"quadrature_degree\"] = -1\n",
      "\n",
      "    parameters['reorder_dofs_serial'] = False\n",
      "    V = VectorFunctionSpace(mesh, \"CG\", 2)\n",
      "    Q = FunctionSpace(mesh, \"CG\", 1)\n",
      "    ones = Function(Q)\n",
      "    ones.vector()[:]=(0*ones.vector().array()+1)\n",
      "    # QQ = VectorFunctionSpace(mesh,\"B\",3)\n",
      "    # V = V+QQ\n",
      "    parameters['reorder_dofs_serial'] = False\n",
      "    # print 'time to create function spaces', toc(),'\\n\\n'\n",
      "    W = V*Q\n",
      "    Vdim[xx-1] = V.dim()\n",
      "    Qdim[xx-1] = Q.dim()\n",
      "    Wdim[xx-1] = W.dim()\n",
      "    print \"\\n\\nV:  \",Vdim[xx-1],\"Q:  \",Qdim[xx-1],\"W:  \",Wdim[xx-1],\"\\n\\n\"\n",
      "\n",
      "    u_is = PETSc.IS().createGeneral(range(W.dim()-1))\n",
      "    def boundary(x, on_boundary):\n",
      "        return on_boundary\n",
      "\n",
      "\n",
      "    u0, p0, Laplacian, Advection, gradPres = ExactSol.NS2D(case)\n",
      "\n",
      "    R = 10.0\n",
      "    # MU = Constant(0.01)\n",
      "    # MU = 1000.0\n",
      "    MU = 10./1\n",
      "    bcc = DirichletBC(W.sub(0),u0, boundary)\n",
      "    bcs = [bcc]\n",
      "\n",
      "    (u, p) = TrialFunctions(W)\n",
      "    (v, q) = TestFunctions(W)\n",
      "\n",
      "\n",
      "\n",
      "\n",
      "    f = -MU*Laplacian+Advection+gradPres\n",
      "\n",
      "\n",
      "    n = FacetNormal(mesh)\n",
      "    h = CellSize(mesh)\n",
      "    h_avg =avg(h)\n",
      "    d = 0\n",
      "    u_k,p_k = common.Stokes(V,Q,u0,f,[1,1,MU])\n",
      "    # p_k.vector()[:] = p_k.vector().array()\n",
      "    pConst = - assemble(p_k*dx)/assemble(ones*dx)\n",
      "    p_k.vector()[:] += pConst\n",
      "    # u_k = Function(V)\n",
      "    # p_k = Function(Q)\n",
      "    # plot(u_k)\n",
      "    # plot(p_k)\n",
      "    uOld = np.concatenate((u_k.vector().array(),p_k.vector().array()), axis=0)\n",
      "    r = IO.arrayToVec(uOld)\n",
      "\n",
      "    a11 = MU*inner(grad(v), grad(u))*dx + inner((grad(u)*u_k),v)*dx + (1/2)*div(u_k)*inner(u,v)*dx - (1/2)*inner(u_k,n)*inner(u,v)*ds\n",
      "    a12 = div(v)*p*dx\n",
      "    a21 = div(u)*q*dx\n",
      "    L1  = inner(v, f)*dx\n",
      "    a = a11-a12-a21\n",
      "\n",
      "\n",
      "    r11 = MU*inner(grad(v), grad(u_k))*dx + inner((grad(u_k)*u_k),v)*dx + (1/2)*div(u_k)*inner(u_k,v)*dx - (1/2)*inner(u_k,n)*inner(u_k,v)*ds\n",
      "    r12 = div(v)*p_k*dx\n",
      "    r21 = div(u_k)*q*dx\n",
      "    RHSform = r11-r12-r21\n",
      "    # RHSform = 0\n",
      "\n",
      "\n",
      "    prec = MU*inner(grad(v), grad(u))*dx + inner((grad(u)*u_k),v)*dx + (1/2)*div(u_k)*inner(u,v)*dx - (1/2)*inner(u_k,n)*inner(u,v)*ds - div(v)*p*dx\n",
      "\n",
      "    bc = DirichletBC(W.sub(0),Expression((\"0.0\",\"0.0\")), boundary)\n",
      "    bcp = DirichletBC(W.sub(1),Expression((\"0.0\")), boundary)\n",
      "    bcs = [bc,bcp]\n",
      "\n",
      "    eps = 1.0           # error measure ||u-u_k||\n",
      "    tol = 1.0E-6       # tolerance\n",
      "    iter = 0            # iteration counter\n",
      "    maxiter = 10        # max no of iterations allowed\n",
      "    # parameters = CP.ParameterSetup()\n",
      "    outerit = 0\n",
      "\n",
      "    parameters['linear_algebra_backend'] = 'uBLAS'\n",
      "    if Solver == \"LSC\":\n",
      "        parameters['linear_algebra_backend'] = 'uBLAS'\n",
      "        BQB = assemble(inner(u,v)*dx- div(v)*p*dx-div(u)*q*dx)\n",
      "        bc.apply(BQB)\n",
      "        BQB = BQB.sparray()\n",
      "        X = BQB[0:V.dim(),0:V.dim()]\n",
      "        Xdiag = X.diagonal()\n",
      "        # Xdiag = X.sum(1).A\n",
      "        # print Xdiag\n",
      "        B = BQB[V.dim():W.dim(),0:V.dim()]\n",
      "        Bt = BQB[0:V.dim(),V.dim():W.dim()]\n",
      "        d = spdiags(1.0/Xdiag, 0, len(Xdiag), len(Xdiag))\n",
      "        L = B*d*Bt\n",
      "        Bd = B*d\n",
      "        dBt = d*Bt\n",
      "        L = PETSc.Mat().createAIJ(size=L.shape,csr=(L.indptr, L.indices, L.data))\n",
      "        Bd = PETSc.Mat().createAIJ(size=Bd.shape,csr=(Bd.indptr, Bd.indices, Bd.data))\n",
      "        dBt = PETSc.Mat().createAIJ(size=dBt.shape,csr=(dBt.indptr, dBt.indices, dBt.data))\n",
      "    elif Solver == \"PCD\":\n",
      "        (pQ) = TrialFunction(Q)\n",
      "        (qQ) = TestFunction(Q)\n",
      "        print MU\n",
      "        QQ = assemble(inner(pQ,qQ)*dx)\n",
      "        L = assemble(inner(grad(pQ),grad(qQ))*dx)\n",
      "\n",
      "        fp = MU*inner(grad(qQ), grad(pQ))*dx+inner((u_k[0]*grad(pQ)[0]+u_k[1]*grad(pQ)[1]),qQ)*dx + (1/2)*div(u_k)*inner(pQ,qQ)*dx - (1/2)*(u_k[0]*n[0]+u_k[1]*n[1])*inner(pQ,qQ)*ds\n",
      "        L = CP.Assemble(L)\n",
      "        # Mass = CP.Assemble(Mass)\n",
      "\n",
      "    # print L\n",
      "    SolutionTime = 0\n",
      "    while eps > tol and iter < maxiter:\n",
      "        iter += 1\n",
      "        x = Function(W)\n",
      "\n",
      "        uu = Function(W)\n",
      "        tic()\n",
      "        PP,Pb = assemble_system(prec, L1,bcs)\n",
      "        AA, bb = assemble_system(a, L1 - RHSform,  bcs)\n",
      "        A,b = CP.Assemble(AA,bb)\n",
      "        P = CP.Assemble(PP)\n",
      "        u = b.duplicate()\n",
      "        print toc()\n",
      "        print A\n",
      "        # b = b.getSubVector(t_is)\n",
      "        plt.spy(PP.sparray())\n",
      "        # plt.savefig(\"plt1\")\n",
      "        F = assemble(fp)\n",
      "        bcp.apply(F)\n",
      "        F = CP.Assemble(F)\n",
      "        # L = CP.Assemble(L)\n",
      "        P = S.ExactPrecond(PP,QQ,L,F,[V,Q])\n",
      "        bcp.apply(QQ)\n",
      "        Mass = CP.Assemble(QQ)\n",
      "        # P = IO.matToSparse(P)\n",
      "        # plt.spy(P)\n",
      "        # plt.savefig(\"plt2\")\n",
      "        # ss\n",
      "        # # P[W.dim()-1,W.dim()-1]  += 1\n",
      "        # P.assemblyBegin() # Make matrices useable.\n",
      "        # P.assemblyEnd()\n",
      "\n",
      "        ksp = PETSc.KSP().create()\n",
      "        ksp.setTolerances(1e-5)\n",
      "        ksp.setOperators(A,P) #.getSubMatrix(u_is,u_is),P.getSubMatrix(u_is,u_is))\n",
      "        nsp = PETSc.NullSpace().create(constant=True)\n",
      "        ksp.setNullSpace(nsp)\n",
      "#         A.destroy()\n",
      "#         P.destroy()\n",
      "        reshist = {}\n",
      "        def monitor(ksp, its, fgnorm):\n",
      "            reshist[its] = fgnorm\n",
      "        ksp.setMonitor(monitor)\n",
      "        OptDB = PETSc.Options()\n",
      "        OptDB['pc_factor_shift_amount'] = \"0.1\"\n",
      "        OptDB['ksp_monitor_residual'] = ' '\n",
      "        OptDB['pc_factor_mat_ordering_type'] = 'rcm'\n",
      "        OptDB['pc_factor_mat_solver_package']  = 'mumps'\n",
      "        # kspLAMG.max_it = 1\n",
      "        ksp.setFromOptions()\n",
      "        ksp.setType('gmres')\n",
      "        pc = ksp.getPC()\n",
      "        pc.setType(PETSc.PC.Type.LU)\n",
      "\n",
      "        ksp.max_it = 100\n",
      "        # PETSc.ViewerHDF5.DRAW(P)\n",
      "        toc()\n",
      "        ksp.solve(b,u) #.getSubVector(u_is), u.getSubVector(u_is))\n",
      "        NSits = ksp.its\n",
      "        ksp.destroy()\n",
      "        time = toc()\n",
      "        print \":::::::::::::::::::::::::::::::::::::::::::::\",NSits\n",
      "        print time\n",
      "        SolutionTime = SolutionTime +time\n",
      "        outerit += NSits\n",
      "\n",
      "\n",
      "        \n",
      "        \n",
      "        ksp = PETSc.KSP()\n",
      "        ksp.create(comm=PETSc.COMM_WORLD)\n",
      "        ksp.setTolerances(1e-5)\n",
      "        ksp.setType('gmres')\n",
      "        pc = ksp.getPC()\n",
      "        ksp.max_it=100\n",
      "        reshist1 = {}\n",
      "        def monitor(ksp, its, fgnorm):\n",
      "            reshist1[its] = fgnorm\n",
      "        ksp.setMonitor(monitor)\n",
      "\n",
      "        pc.setType(PETSc.PC.Type.PYTHON)\n",
      "        if Solver == \"LSC\":\n",
      "            pc.setPythonContext(NSprecond.LSCnew(W,A,L,Bd,dBt))\n",
      "        elif Solver == \"PCD\":\n",
      "            F = assemble(fp)\n",
      "            F = CP.Assemble(F)\n",
      "            pc.setPythonContext(NSprecond.PCDdirect(W, Mass, F, L))\n",
      "\n",
      "        ksp.setOperators(A)\n",
      "        # OptDB = PETSc.Options()\n",
      "        # OptDB['pc_factor_shift_amount'] = 1\n",
      "        # OptDB['pc_factor_mat_ordering_type'] = 'rcm'\n",
      "        # OptDB['pc_factor_mat_solver_package']  = 'mumps'\n",
      "        ksp.setFromOptions()\n",
      "\n",
      "\n",
      "        x = b.duplicate()\n",
      "        toc()\n",
      "        ksp.solve(b, x)\n",
      "\n",
      "        time = toc()\n",
      "        print time\n",
      "        SolutionTime = SolutionTime +time\n",
      "        print \":::::::::::::::::::::::::::::::::::::::::::::\",ksp.its\n",
      "        outerit += ksp.its   \n",
      "\n",
      "\n",
      "\n",
      "\n",
      "        \n",
      "        for line in reshist.values():\n",
      "            print line\n",
      "        uu = IO.vecToArray(u)\n",
      "        UU = uu[0:Vdim[xx-1][0]]\n",
      "        # time = time+toc()\n",
      "        u1 = Function(V)\n",
      "        u1.vector()[:] = u1.vector()[:] + UU\n",
      "\n",
      "        pp = uu[V.dim():V.dim()+Q.dim()]\n",
      "        # time = time+toc()\n",
      "        p1 = Function(Q)\n",
      "        # n = pp.shape\n",
      "        # pend = assemble(pa*dx)\n",
      "\n",
      "\n",
      "        # pp = Function(Q)\n",
      "        # p1.vector()[:] = pa.vector().array()- assemble(pa*dx)/assemble(ones*dx)\n",
      "        p1.vector()[:] = p1.vector()[:] +  pp\n",
      "        p1.vector()[:] += - assemble(p1*dx)/assemble(ones*dx)\n",
      "        diff = u1.vector().array()\n",
      "        # print p1.vector().array()\n",
      "        eps = np.linalg.norm(diff, ord=np.Inf) #+np.linalg.norm(p1.vector().array(),ord=np.Inf)\n",
      "\n",
      "        print '\\n\\n\\niter=%d: norm=%g' % (iter, eps)\n",
      "        print np.linalg.norm(p1.vector().array(), ord=np.Inf)\n",
      "        u2 = Function(V)\n",
      "        u2.vector()[:] = u1.vector().array() + u_k.vector().array()\n",
      "        p2 = Function(Q)\n",
      "        p2.vector()[:] = p1.vector().array() + p_k.vector().array()\n",
      "        p2.vector()[:] += - assemble(p2*dx)/assemble(ones*dx)\n",
      "        u_k.assign(u2)\n",
      "        p_k.assign(p2)\n",
      "\n",
      "        # plot(p_k)\n",
      "\n",
      "        uOld = np.concatenate((u_k.vector().array(),p_k.vector().array()), axis=0)\n",
      "        r = IO.arrayToVec(uOld)\n",
      "        # plot(p_k)\n",
      "    SolTime[xx-1] = SolutionTime/iter\n",
      "    AvIt[xx-1] = np.ceil(outerit/iter)\n",
      "\n",
      "    ue = u0\n",
      "    pe = p0\n",
      "\n",
      "\n",
      "    AvIt[xx-1] = np.ceil(outerit/iter)\n",
      "    u = interpolate(ue,V)\n",
      "    p = interpolate(pe,Q)\n",
      "\n",
      "    ua = Function(V)\n",
      "    ua.vector()[:] = u_k.vector().array()\n",
      "    # nonlinear[xx-1] = assemble(inner((grad(ua)*ua),ua)*dx+(1/2)*div(ua)*inner(ua,ua)*dx- (1/2)*inner(ua,n)*inner(ua,ua)*ds)\n",
      "    VelocityE = VectorFunctionSpace(mesh,\"CG\",5)\n",
      "    u = interpolate(ue,VelocityE)\n",
      "\n",
      "    PressureE = FunctionSpace(mesh,\"CG\",4)\n",
      "    parameters[\"form_compiler\"][\"quadrature_degree\"] = 5\n",
      "\n",
      "    Nv  = ua.vector().array().shape\n",
      "\n",
      "    X = IO.vecToArray(r)\n",
      "    xu = X[0:V.dim()]\n",
      "    ua = Function(V)\n",
      "    ua.vector()[:] = xu\n",
      "\n",
      "    pp = X[V.dim():V.dim()+Q.dim()]\n",
      "\n",
      "\n",
      "    n = pp.shape\n",
      "    pa = Function(Q)\n",
      "    pa.vector()[:] = pp\n",
      "\n",
      "    pend = assemble(pa*dx)\n",
      "\n",
      "    ones = Function(Q)\n",
      "    ones.vector()[:]=(0*pp+1)\n",
      "    pp = Function(Q)\n",
      "    pp.vector()[:] = pa.vector().array()- assemble(pa*dx)/assemble(ones*dx)\n",
      "\n",
      "    pInterp = interpolate(pe,PressureE)\n",
      "    pe = Function(PressureE)\n",
      "    pe.vector()[:] = pInterp.vector().array()\n",
      "    const = - assemble(pe*dx)/assemble(ones*dx)\n",
      "    pe.vector()[:] = pe.vector()[:]+const\n",
      "\n",
      "\n",
      "\n",
      "\n",
      "    ErrorU = Function(V)\n",
      "    ErrorP = Function(Q)\n",
      "\n",
      "    ErrorU = ue-ua\n",
      "    ErrorP = pe-pp\n",
      "\n",
      "\n",
      "    # errL2u[xx-1]= errornorm(ue, ua, norm_type='L2', degree_rise=8)\n",
      "    # errH1u[xx-1]= errornorm(ue, ua, norm_type='H10', degree_rise=8)\n",
      "    # errL2p[xx-1]= errornorm(pe, pp, norm_type='L2', degree_rise=8)\n",
      "\n",
      "    errL2u[xx-1]= errornorm(ue, ua, norm_type='L2', degree_rise=8)\n",
      "    # sqrt(abs(assemble(inner(ErrorU, ErrorU)*dx)))\n",
      "    # errornorm(ue, ua, norm_type='L2', degree_rise=8)\n",
      "    errH1u[xx-1]= errornorm(ue, ua, norm_type='H10', degree_rise=8)\n",
      "    # sqrt(abs(assemble(inner(grad(ErrorU), grad(ErrorU))*dx)))\n",
      "    # errornorm(ue, ua, norm_type='H10', degree_rise=8)\n",
      "    errL2p[xx-1]= sqrt(abs(assemble(inner(ErrorP, ErrorP)*dx)))\n",
      "    # errornorm(pe, pp, norm_type='L2', degree_rise=8)\n",
      "\n",
      "    if xx == 1:\n",
      "        l2uorder[xx-1] = 0\n",
      "        l2porder[xx-1] = 0\n",
      "    else:\n",
      "        l2uorder[xx-1] =  np.abs(np.log2(errL2u[xx-2]/errL2u[xx-1]))\n",
      "        H1uorder[xx-1] =  np.abs(np.log2(errH1u[xx-2]/errH1u[xx-1]))\n",
      "\n",
      "        l2porder[xx-1] =  np.abs(np.log2(errL2p[xx-2]/errL2p[xx-1]))\n",
      "    print errL2u[xx-1]\n",
      "    print errL2p[xx-1]\n",
      "    # del  solver\n",
      "\n",
      "\n",
      "\n",
      "\n",
      "print nonlinear\n",
      "\n",
      "\n",
      "\n",
      "print \"Velocity Elements rate of convergence \", np.log2(np.average((errL2u[0:m-2]/errL2u[1:m-1])))\n",
      "print \"Pressure Elements rate of convergence \", np.log2(np.average((errL2p[0:m-2]/errL2p[1:m-1])))\n",
      "\n",
      "\n",
      "import pandas as pd\n",
      "# tableTitles = [\"Total DoF\",\"V DoF\",\"Q DoF\",\"AvIt\",\"V-L2\",\"V-order\",\"P-L2\",\"P-order\"]\n",
      "# tableValues = np.concatenate((Wdim,Vdim,Qdim,AvIt,errL2u,l2uorder,errL2p,l2porder),axis=1)\n",
      "# df = pd.DataFrame(tableValues, columns = tableTitles)\n",
      "# pd.set_option('precision',3)\n",
      "# print df\n",
      "# print df.to_latex()\n",
      "\n",
      "print \"\\n\\n   Velocity convergence\"\n",
      "VelocityTitles = [\"Total DoF\",\"V DoF\",\"Soln Time\",\"AvIt\",\"V-L2\",\"L2-order\",\"V-H1\",\"H1-order\"]\n",
      "VelocityValues = np.concatenate((Wdim,Vdim,SolTime,AvIt,errL2u,l2uorder,errH1u,H1uorder),axis=1)\n",
      "VelocityTable= pd.DataFrame(VelocityValues, columns = VelocityTitles)\n",
      "pd.set_option('precision',3)\n",
      "VelocityTable = MO.PandasFormat(VelocityTable,\"V-L2\",\"%2.4e\")\n",
      "VelocityTable = MO.PandasFormat(VelocityTable,'V-H1',\"%2.4e\")\n",
      "VelocityTable = MO.PandasFormat(VelocityTable,\"H1-order\",\"%1.2f\")\n",
      "VelocityTable = MO.PandasFormat(VelocityTable,'L2-order',\"%1.2f\")\n",
      "print VelocityTable\n",
      "\n",
      "print \"\\n\\n   Pressure convergence\"\n",
      "PressureTitles = [\"Total DoF\",\"P DoF\",\"Soln Time\",\"AvIt\",\"P-L2\",\"L2-order\"]\n",
      "PressureValues = np.concatenate((Wdim,Qdim,SolTime,AvIt,errL2p,l2porder),axis=1)\n",
      "PressureTable= pd.DataFrame(PressureValues, columns = PressureTitles)\n",
      "pd.set_option('precision',3)\n",
      "PressureTable = MO.PandasFormat(PressureTable,\"P-L2\",\"%2.4e\")\n",
      "PressureTable = MO.PandasFormat(PressureTable,'L2-order',\"%1.2f\")\n",
      "print PressureTable\n",
      "\n",
      "\n",
      "LatexTitles = [\"l\",\"IT\",\"DoFu\",\"Dofp\",\"V-L2\",\"L2-order\",\"V-H1\",\"H1-order\",\"P-L2\",\"PL2-order\"]\n",
      "LatexValues = np.concatenate((NN,AvIt,Vdim,Qdim,errL2u,l2uorder,errH1u,H1uorder,errL2p,l2porder), axis=1)\n",
      "LatexTable = pd.DataFrame(LatexValues, columns = LatexTitles)\n",
      "pd.set_option('precision',3)\n",
      "LatexTable = MO.PandasFormat(LatexTable,\"V-L2\",\"%2.4e\")\n",
      "LatexTable = MO.PandasFormat(LatexTable,'V-H1',\"%2.4e\")\n",
      "LatexTable = MO.PandasFormat(LatexTable,\"H1-order\",\"%1.2f\")\n",
      "LatexTable = MO.PandasFormat(LatexTable,'L2-order',\"%1.2f\")\n",
      "LatexTable = MO.PandasFormat(LatexTable,\"P-L2\",\"%2.4e\")\n",
      "LatexTable = MO.PandasFormat(LatexTable,'PL2-order',\"%1.2f\")\n",
      "print LatexTable\n",
      "\n",
      "\n",
      "\n",
      "# plot(u_k)\n",
      "# # plot(interpolate(ue,V))\n",
      "\n",
      "# plot(p_k)\n",
      "# # plot(interpolate(p0,Q))\n",
      "\n",
      "# interactive()\n",
      "\n",
      "\n",
      "# plt.show()\n"
     ],
     "language": "python",
     "metadata": {},
     "outputs": [
      {
       "output_type": "stream",
       "stream": "stderr",
       "text": [
        "DEBUG:UFL:No integrals left after transformation, returning empty form.\n"
       ]
      },
      {
       "output_type": "stream",
       "stream": "stderr",
       "text": [
        "DEBUG:FFC:Reusing form from cache.\n"
       ]
      },
      {
       "output_type": "stream",
       "stream": "stderr",
       "text": [
        "DEBUG:UFL:No integrals left after transformation, returning empty form.\n"
       ]
      },
      {
       "output_type": "stream",
       "stream": "stderr",
       "text": [
        "DEBUG:FFC:Reusing form from cache.\n"
       ]
      },
      {
       "output_type": "stream",
       "stream": "stderr",
       "text": [
        "DEBUG:UFL:No integrals left after transformation, returning empty form.\n"
       ]
      },
      {
       "output_type": "stream",
       "stream": "stderr",
       "text": [
        "DEBUG:FFC:Reusing form from cache.\n"
       ]
      },
      {
       "output_type": "stream",
       "stream": "stdout",
       "text": [
        "1\n",
        "\n",
        "\n",
        "V:   [ 578.] Q:   [ 81.] W:   [ 659.] \n",
        "\n",
        "\n",
        "  NS Exact Solution:\n"
       ]
      },
      {
       "output_type": "stream",
       "stream": "stderr",
       "text": [
        "DEBUG:UFL:No integrals left after transformation, returning empty form.\n"
       ]
      },
      {
       "output_type": "stream",
       "stream": "stderr",
       "text": [
        "DEBUG:FFC:Reusing form from cache.\n"
       ]
      },
      {
       "output_type": "stream",
       "stream": "stderr",
       "text": [
        "DEBUG:UFL:No integrals left after transformation, returning empty form.\n"
       ]
      },
      {
       "output_type": "stream",
       "stream": "stderr",
       "text": [
        "DEBUG:UFL:No integrals left after transformation, returning empty form.\n"
       ]
      },
      {
       "output_type": "stream",
       "stream": "stderr",
       "text": [
        "DEBUG:FFC:Reusing form from cache.\n"
       ]
      },
      {
       "output_type": "stream",
       "stream": "stderr",
       "text": [
        "INFO:FFC:Adjusting missing element domain to Domain(Cell('triangle', 2), 'triangle_multiverse', 2, 2).\n"
       ]
      },
      {
       "output_type": "stream",
       "stream": "stderr",
       "text": [
        "INFO:FFC:Adjusting element degree from ? to 2\n"
       ]
      },
      {
       "output_type": "stream",
       "stream": "stderr",
       "text": [
        "INFO:FFC:Adjusting missing element domain to Domain(Cell('triangle', 2), 'triangle_multiverse', 2, 2).\n"
       ]
      },
      {
       "output_type": "stream",
       "stream": "stderr",
       "text": [
        "INFO:FFC:Adjusting element degree from ? to 2\n"
       ]
      },
      {
       "output_type": "stream",
       "stream": "stderr",
       "text": [
        "INFO:FFC:Adjusting missing element domain to Domain(Cell('triangle', 2), 'triangle_multiverse', 2, 2).\n"
       ]
      },
      {
       "output_type": "stream",
       "stream": "stderr",
       "text": [
        "INFO:FFC:Adjusting element degree from ? to 2\n"
       ]
      },
      {
       "output_type": "stream",
       "stream": "stderr",
       "text": [
        "INFO:FFC:Adjusting missing element domain to Domain(Cell('triangle', 2), 'triangle_multiverse', 2, 2).\n"
       ]
      },
      {
       "output_type": "stream",
       "stream": "stderr",
       "text": [
        "INFO:FFC:Adjusting element degree from ? to 2\n"
       ]
      },
      {
       "output_type": "stream",
       "stream": "stderr",
       "text": [
        "INFO:FFC:Adjusting missing element domain to Domain(Cell('triangle', 2), 'triangle_multiverse', 2, 2).\n"
       ]
      },
      {
       "output_type": "stream",
       "stream": "stderr",
       "text": [
        "INFO:FFC:Adjusting element degree from ? to 2\n"
       ]
      },
      {
       "output_type": "stream",
       "stream": "stderr",
       "text": [
        "INFO:FFC:Adjusting missing element domain to Domain(Cell('triangle', 2), 'triangle_multiverse', 2, 2).\n"
       ]
      },
      {
       "output_type": "stream",
       "stream": "stderr",
       "text": [
        "INFO:FFC:Adjusting element degree from ? to 2\n"
       ]
      },
      {
       "output_type": "stream",
       "stream": "stderr",
       "text": [
        "INFO:FFC:Adjusting missing element domain to Domain(Cell('triangle', 2), 'triangle_multiverse', 2, 2).\n"
       ]
      },
      {
       "output_type": "stream",
       "stream": "stderr",
       "text": [
        "INFO:FFC:Adjusting element degree from ? to 2\n"
       ]
      },
      {
       "output_type": "stream",
       "stream": "stderr",
       "text": [
        "INFO:FFC:Adjusting missing element domain to Domain(Cell('triangle', 2), 'triangle_multiverse', 2, 2).\n"
       ]
      },
      {
       "output_type": "stream",
       "stream": "stderr",
       "text": [
        "INFO:FFC:Adjusting element degree from ? to 2\n"
       ]
      },
      {
       "output_type": "stream",
       "stream": "stderr",
       "text": [
        "INFO:FFC:Adjusting missing element domain to Domain(Cell('triangle', 2), 'triangle_multiverse', 2, 2).\n"
       ]
      },
      {
       "output_type": "stream",
       "stream": "stderr",
       "text": [
        "INFO:FFC:Adjusting element degree from ? to 2\n"
       ]
      },
      {
       "output_type": "stream",
       "stream": "stderr",
       "text": [
        "DEBUG:UFL:No integrals left after transformation, returning empty form.\n"
       ]
      },
      {
       "output_type": "stream",
       "stream": "stderr",
       "text": [
        "DEBUG:FFC:Reusing form from cache.\n"
       ]
      },
      {
       "output_type": "stream",
       "stream": "stderr",
       "text": [
        "DEBUG:UFL:No integrals left after transformation, returning empty form.\n"
       ]
      },
      {
       "output_type": "stream",
       "stream": "stderr",
       "text": [
        "DEBUG:UFL:No integrals left after transformation, returning empty form.\n"
       ]
      },
      {
       "output_type": "stream",
       "stream": "stderr",
       "text": [
        "DEBUG:FFC:Reusing form from cache.\n"
       ]
      },
      {
       "output_type": "stream",
       "stream": "stderr",
       "text": [
        "INFO:FFC:Adjusting missing element domain to Domain(Cell('triangle', 2), 'triangle_multiverse', 2, 2).\n"
       ]
      },
      {
       "output_type": "stream",
       "stream": "stderr",
       "text": [
        "INFO:FFC:Adjusting element degree from ? to 2\n"
       ]
      },
      {
       "output_type": "stream",
       "stream": "stderr",
       "text": [
        "INFO:FFC:Adjusting missing element domain to Domain(Cell('triangle', 2), 'triangle_multiverse', 2, 2).\n"
       ]
      },
      {
       "output_type": "stream",
       "stream": "stderr",
       "text": [
        "INFO:FFC:Adjusting element degree from ? to 2\n"
       ]
      },
      {
       "output_type": "stream",
       "stream": "stderr",
       "text": [
        "INFO:FFC:Adjusting missing element domain to Domain(Cell('triangle', 2), 'triangle_multiverse', 2, 2).\n"
       ]
      },
      {
       "output_type": "stream",
       "stream": "stderr",
       "text": [
        "INFO:FFC:Adjusting element degree from ? to 2\n"
       ]
      },
      {
       "output_type": "stream",
       "stream": "stderr",
       "text": [
        "INFO:FFC:Adjusting missing element domain to Domain(Cell('triangle', 2), 'triangle_multiverse', 2, 2).\n"
       ]
      },
      {
       "output_type": "stream",
       "stream": "stderr",
       "text": [
        "INFO:FFC:Adjusting element degree from ? to 2\n"
       ]
      },
      {
       "output_type": "stream",
       "stream": "stderr",
       "text": [
        "INFO:FFC:Adjusting missing element domain to Domain(Cell('triangle', 2), 'triangle_multiverse', 2, 2).\n"
       ]
      },
      {
       "output_type": "stream",
       "stream": "stderr",
       "text": [
        "INFO:FFC:Adjusting element degree from ? to 2\n"
       ]
      },
      {
       "output_type": "stream",
       "stream": "stderr",
       "text": [
        "INFO:FFC:Adjusting missing element domain to Domain(Cell('triangle', 2), 'triangle_multiverse', 2, 2).\n"
       ]
      },
      {
       "output_type": "stream",
       "stream": "stderr",
       "text": [
        "INFO:FFC:Adjusting element degree from ? to 2\n"
       ]
      },
      {
       "output_type": "stream",
       "stream": "stderr",
       "text": [
        "INFO:FFC:Adjusting missing element domain to Domain(Cell('triangle', 2), 'triangle_multiverse', 2, 2).\n"
       ]
      },
      {
       "output_type": "stream",
       "stream": "stderr",
       "text": [
        "INFO:FFC:Adjusting element degree from ? to 2\n"
       ]
      },
      {
       "output_type": "stream",
       "stream": "stderr",
       "text": [
        "INFO:FFC:Adjusting missing element domain to Domain(Cell('triangle', 2), 'triangle_multiverse', 2, 2).\n"
       ]
      },
      {
       "output_type": "stream",
       "stream": "stderr",
       "text": [
        "INFO:FFC:Adjusting element degree from ? to 2\n"
       ]
      },
      {
       "output_type": "stream",
       "stream": "stderr",
       "text": [
        "INFO:FFC:Adjusting missing element domain to Domain(Cell('triangle', 2), 'triangle_multiverse', 2, 2).\n"
       ]
      },
      {
       "output_type": "stream",
       "stream": "stderr",
       "text": [
        "INFO:FFC:Adjusting element degree from ? to 2\n"
       ]
      },
      {
       "output_type": "stream",
       "stream": "stderr",
       "text": [
        "DEBUG:FFC:Reusing form from cache.\n"
       ]
      },
      {
       "output_type": "stream",
       "stream": "stdout",
       "text": [
        "\n",
        "  u = ( x*y*exp(x + y) + x*exp(x + y) , -x*y*exp(x + y) - y*exp(x + y) )\n",
        "\n",
        "  p = ( exp(y)*sin(x) )\n",
        "\n",
        "0.0225369930267\n",
        "51"
       ]
      },
      {
       "output_type": "stream",
       "stream": "stderr",
       "text": [
        "DEBUG:FFC:Reusing form from cache.\n"
       ]
      },
      {
       "output_type": "stream",
       "stream": "stderr",
       "text": [
        "DEBUG:FFC:Reusing form from cache.\n"
       ]
      },
      {
       "output_type": "stream",
       "stream": "stderr",
       "text": [
        "DEBUG:FFC:Reusing form from cache.\n"
       ]
      },
      {
       "output_type": "stream",
       "stream": "stderr",
       "text": [
        "DEBUG:FFC:Reusing form from cache.\n"
       ]
      },
      {
       "output_type": "stream",
       "stream": "stderr",
       "text": [
        "DEBUG:UFL:No integrals left after transformation, returning empty form.\n"
       ]
      },
      {
       "output_type": "stream",
       "stream": "stderr",
       "text": [
        "DEBUG:UFL:No integrals left after transformation, returning empty form.\n"
       ]
      },
      {
       "output_type": "stream",
       "stream": "stderr",
       "text": [
        "DEBUG:FFC:Reusing form from cache.\n"
       ]
      },
      {
       "output_type": "stream",
       "stream": "stderr",
       "text": [
        "DEBUG:UFL:No integrals left after transformation, returning empty form.\n"
       ]
      },
      {
       "output_type": "stream",
       "stream": "stderr",
       "text": [
        "DEBUG:UFL:No integrals left after transformation, returning empty form.\n"
       ]
      },
      {
       "output_type": "stream",
       "stream": "stderr",
       "text": [
        "DEBUG:FFC:Reusing form from cache.\n"
       ]
      },
      {
       "output_type": "stream",
       "stream": "stderr",
       "text": [
        "DEBUG:UFL:No integrals left after transformation, returning empty form.\n"
       ]
      },
      {
       "output_type": "stream",
       "stream": "stderr",
       "text": [
        "DEBUG:UFL:No integrals left after transformation, returning empty form.\n"
       ]
      },
      {
       "output_type": "stream",
       "stream": "stderr",
       "text": [
        "DEBUG:FFC:Reusing form from cache.\n"
       ]
      },
      {
       "output_type": "stream",
       "stream": "stderr",
       "text": [
        "INFO:FFC:Adjusting missing element domain to Domain(Cell('triangle', 2), 'triangle_multiverse', 2, 2).\n"
       ]
      },
      {
       "output_type": "stream",
       "stream": "stderr",
       "text": [
        "INFO:FFC:Adjusting element degree from ? to 2\n"
       ]
      },
      {
       "output_type": "stream",
       "stream": "stderr",
       "text": [
        "INFO:FFC:Adjusting missing element domain to Domain(Cell('triangle', 2), 'triangle_multiverse', 2, 2).\n"
       ]
      },
      {
       "output_type": "stream",
       "stream": "stderr",
       "text": [
        "INFO:FFC:Adjusting element degree from ? to 2\n"
       ]
      },
      {
       "output_type": "stream",
       "stream": "stderr",
       "text": [
        "INFO:FFC:Adjusting missing element domain to Domain(Cell('triangle', 2), 'triangle_multiverse', 2, 2).\n"
       ]
      },
      {
       "output_type": "stream",
       "stream": "stderr",
       "text": [
        "INFO:FFC:Adjusting element degree from ? to 2\n"
       ]
      },
      {
       "output_type": "stream",
       "stream": "stderr",
       "text": [
        "INFO:FFC:Adjusting missing element domain to Domain(Cell('triangle', 2), 'triangle_multiverse', 2, 2).\n"
       ]
      },
      {
       "output_type": "stream",
       "stream": "stderr",
       "text": [
        "INFO:FFC:Adjusting element degree from ? to 2\n"
       ]
      },
      {
       "output_type": "stream",
       "stream": "stderr",
       "text": [
        "INFO:FFC:Adjusting missing element domain to Domain(Cell('triangle', 2), 'triangle_multiverse', 2, 2).\n"
       ]
      },
      {
       "output_type": "stream",
       "stream": "stderr",
       "text": [
        "INFO:FFC:Adjusting element degree from ? to 2\n"
       ]
      },
      {
       "output_type": "stream",
       "stream": "stderr",
       "text": [
        "INFO:FFC:Adjusting missing element domain to Domain(Cell('triangle', 2), 'triangle_multiverse', 2, 2).\n"
       ]
      },
      {
       "output_type": "stream",
       "stream": "stderr",
       "text": [
        "INFO:FFC:Adjusting element degree from ? to 2\n"
       ]
      },
      {
       "output_type": "stream",
       "stream": "stderr",
       "text": [
        "INFO:FFC:Adjusting missing element domain to Domain(Cell('triangle', 2), 'triangle_multiverse', 2, 2).\n"
       ]
      },
      {
       "output_type": "stream",
       "stream": "stderr",
       "text": [
        "INFO:FFC:Adjusting element degree from ? to 2\n"
       ]
      },
      {
       "output_type": "stream",
       "stream": "stderr",
       "text": [
        "INFO:FFC:Adjusting missing element domain to Domain(Cell('triangle', 2), 'triangle_multiverse', 2, 2).\n"
       ]
      },
      {
       "output_type": "stream",
       "stream": "stderr",
       "text": [
        "INFO:FFC:Adjusting element degree from ? to 2\n"
       ]
      },
      {
       "output_type": "stream",
       "stream": "stderr",
       "text": [
        "INFO:FFC:Adjusting missing element domain to Domain(Cell('triangle', 2), 'triangle_multiverse', 2, 2).\n"
       ]
      },
      {
       "output_type": "stream",
       "stream": "stderr",
       "text": [
        "INFO:FFC:Adjusting element degree from ? to 2\n"
       ]
      },
      {
       "output_type": "stream",
       "stream": "stderr",
       "text": [
        "DEBUG:UFL:No integrals left after transformation, returning empty form.\n"
       ]
      },
      {
       "output_type": "stream",
       "stream": "stderr",
       "text": [
        "DEBUG:FFC:Reusing form from cache.\n"
       ]
      },
      {
       "output_type": "stream",
       "stream": "stderr",
       "text": [
        "DEBUG:UFL:No integrals left after transformation, returning empty form.\n"
       ]
      },
      {
       "output_type": "stream",
       "stream": "stderr",
       "text": [
        "DEBUG:UFL:No integrals left after transformation, returning empty form.\n"
       ]
      },
      {
       "output_type": "stream",
       "stream": "stderr",
       "text": [
        "DEBUG:FFC:Reusing form from cache.\n"
       ]
      },
      {
       "output_type": "stream",
       "stream": "stderr",
       "text": [
        "INFO:FFC:Adjusting missing element domain to Domain(Cell('triangle', 2), 'triangle_multiverse', 2, 2).\n"
       ]
      },
      {
       "output_type": "stream",
       "stream": "stderr",
       "text": [
        "INFO:FFC:Adjusting element degree from ? to 2\n"
       ]
      },
      {
       "output_type": "stream",
       "stream": "stderr",
       "text": [
        "INFO:FFC:Adjusting missing element domain to Domain(Cell('triangle', 2), 'triangle_multiverse', 2, 2).\n"
       ]
      },
      {
       "output_type": "stream",
       "stream": "stderr",
       "text": [
        "INFO:FFC:Adjusting element degree from ? to 2\n"
       ]
      },
      {
       "output_type": "stream",
       "stream": "stderr",
       "text": [
        "INFO:FFC:Adjusting missing element domain to Domain(Cell('triangle', 2), 'triangle_multiverse', 2, 2).\n"
       ]
      },
      {
       "output_type": "stream",
       "stream": "stderr",
       "text": [
        "INFO:FFC:Adjusting element degree from ? to 2\n"
       ]
      },
      {
       "output_type": "stream",
       "stream": "stderr",
       "text": [
        "INFO:FFC:Adjusting missing element domain to Domain(Cell('triangle', 2), 'triangle_multiverse', 2, 2).\n"
       ]
      },
      {
       "output_type": "stream",
       "stream": "stderr",
       "text": [
        "INFO:FFC:Adjusting element degree from ? to 2\n"
       ]
      },
      {
       "output_type": "stream",
       "stream": "stderr",
       "text": [
        "INFO:FFC:Adjusting missing element domain to Domain(Cell('triangle', 2), 'triangle_multiverse', 2, 2).\n"
       ]
      },
      {
       "output_type": "stream",
       "stream": "stderr",
       "text": [
        "INFO:FFC:Adjusting element degree from ? to 2\n"
       ]
      },
      {
       "output_type": "stream",
       "stream": "stderr",
       "text": [
        "INFO:FFC:Adjusting missing element domain to Domain(Cell('triangle', 2), 'triangle_multiverse', 2, 2).\n"
       ]
      },
      {
       "output_type": "stream",
       "stream": "stderr",
       "text": [
        "INFO:FFC:Adjusting element degree from ? to 2\n"
       ]
      },
      {
       "output_type": "stream",
       "stream": "stderr",
       "text": [
        "INFO:FFC:Adjusting missing element domain to Domain(Cell('triangle', 2), 'triangle_multiverse', 2, 2).\n"
       ]
      },
      {
       "output_type": "stream",
       "stream": "stderr",
       "text": [
        "INFO:FFC:Adjusting element degree from ? to 2\n"
       ]
      },
      {
       "output_type": "stream",
       "stream": "stderr",
       "text": [
        "INFO:FFC:Adjusting missing element domain to Domain(Cell('triangle', 2), 'triangle_multiverse', 2, 2).\n"
       ]
      },
      {
       "output_type": "stream",
       "stream": "stderr",
       "text": [
        "INFO:FFC:Adjusting element degree from ? to 2\n"
       ]
      },
      {
       "output_type": "stream",
       "stream": "stderr",
       "text": [
        "INFO:FFC:Adjusting missing element domain to Domain(Cell('triangle', 2), 'triangle_multiverse', 2, 2).\n"
       ]
      },
      {
       "output_type": "stream",
       "stream": "stderr",
       "text": [
        "INFO:FFC:Adjusting element degree from ? to 2\n"
       ]
      },
      {
       "output_type": "stream",
       "stream": "stderr",
       "text": [
        "DEBUG:UFL:No integrals left after transformation, returning empty form.\n"
       ]
      },
      {
       "output_type": "stream",
       "stream": "stderr",
       "text": [
        "DEBUG:FFC:Reusing form from cache.\n"
       ]
      },
      {
       "output_type": "stream",
       "stream": "stdout",
       "text": [
        "\n",
        "10.0\n",
        "0.0608720779419"
       ]
      },
      {
       "output_type": "stream",
       "stream": "stderr",
       "text": [
        "DEBUG:UFL:No integrals left after transformation, returning empty form.\n"
       ]
      },
      {
       "output_type": "stream",
       "stream": "stderr",
       "text": [
        "DEBUG:UFL:No integrals left after transformation, returning empty form.\n"
       ]
      },
      {
       "output_type": "stream",
       "stream": "stderr",
       "text": [
        "DEBUG:FFC:Reusing form from cache.\n"
       ]
      },
      {
       "output_type": "stream",
       "stream": "stdout",
       "text": [
        "\n",
        "<petsc4py.PETSc.Mat object at 0x74ac950>\n",
        "#####################"
       ]
      },
      {
       "output_type": "stream",
       "stream": "stdout",
       "text": [
        " 659\n",
        "#####################"
       ]
      },
      {
       "output_type": "stream",
       "stream": "stderr",
       "text": [
        "DEBUG:FFC:Reusing form from cache.\n"
       ]
      },
      {
       "output_type": "stream",
       "stream": "stdout",
       "text": [
        " 659\n",
        "::::::::::::::::::::::::::::::::::::::::::::: 100\n",
        "3.07533192635\n",
        "3.13654708862"
       ]
      },
      {
       "output_type": "stream",
       "stream": "stderr",
       "text": [
        "DEBUG:FFC:Reusing form from cache.\n"
       ]
      },
      {
       "output_type": "stream",
       "stream": "stderr",
       "text": [
        "DEBUG:FFC:Reusing form from cache.\n"
       ]
      },
      {
       "output_type": "stream",
       "stream": "stderr",
       "text": [
        "DEBUG:FFC:Reusing form from cache.\n"
       ]
      },
      {
       "output_type": "stream",
       "stream": "stderr",
       "text": [
        "DEBUG:FFC:Reusing form from cache.\n"
       ]
      },
      {
       "output_type": "stream",
       "stream": "stderr",
       "text": [
        "DEBUG:FFC:Reusing form from cache.\n"
       ]
      },
      {
       "output_type": "stream",
       "stream": "stderr",
       "text": [
        "INFO:FFC:Adjusting missing element domain to Domain(Cell('triangle', 2), 'triangle_multiverse', 2, 2).\n"
       ]
      },
      {
       "output_type": "stream",
       "stream": "stderr",
       "text": [
        "INFO:FFC:Adjusting element degree from ? to 2\n"
       ]
      },
      {
       "output_type": "stream",
       "stream": "stderr",
       "text": [
        "INFO:FFC:Adjusting missing element domain to Domain(Cell('triangle', 2), 'triangle_multiverse', 2, 2).\n"
       ]
      },
      {
       "output_type": "stream",
       "stream": "stderr",
       "text": [
        "INFO:FFC:Adjusting element degree from ? to 2\n"
       ]
      },
      {
       "output_type": "stream",
       "stream": "stderr",
       "text": [
        "INFO:FFC:Adjusting missing element domain to Domain(Cell('triangle', 2), 'triangle_multiverse', 2, 2).\n"
       ]
      },
      {
       "output_type": "stream",
       "stream": "stderr",
       "text": [
        "INFO:FFC:Adjusting element degree from ? to 2\n"
       ]
      },
      {
       "output_type": "stream",
       "stream": "stderr",
       "text": [
        "INFO:FFC:Adjusting missing element domain to Domain(Cell('triangle', 2), 'triangle_multiverse', 2, 2).\n"
       ]
      },
      {
       "output_type": "stream",
       "stream": "stderr",
       "text": [
        "INFO:FFC:Adjusting element degree from ? to 2\n"
       ]
      },
      {
       "output_type": "stream",
       "stream": "stderr",
       "text": [
        "INFO:FFC:Adjusting missing element domain to Domain(Cell('triangle', 2), 'triangle_multiverse', 2, 2).\n"
       ]
      },
      {
       "output_type": "stream",
       "stream": "stderr",
       "text": [
        "INFO:FFC:Adjusting element degree from ? to 2\n"
       ]
      },
      {
       "output_type": "stream",
       "stream": "stderr",
       "text": [
        "INFO:FFC:Adjusting missing element domain to Domain(Cell('triangle', 2), 'triangle_multiverse', 2, 2).\n"
       ]
      },
      {
       "output_type": "stream",
       "stream": "stderr",
       "text": [
        "INFO:FFC:Adjusting element degree from ? to 2\n"
       ]
      },
      {
       "output_type": "stream",
       "stream": "stderr",
       "text": [
        "INFO:FFC:Adjusting missing element domain to Domain(Cell('triangle', 2), 'triangle_multiverse', 2, 2).\n"
       ]
      },
      {
       "output_type": "stream",
       "stream": "stderr",
       "text": [
        "INFO:FFC:Adjusting element degree from ? to 2\n"
       ]
      },
      {
       "output_type": "stream",
       "stream": "stderr",
       "text": [
        "INFO:FFC:Adjusting missing element domain to Domain(Cell('triangle', 2), 'triangle_multiverse', 2, 2).\n"
       ]
      },
      {
       "output_type": "stream",
       "stream": "stderr",
       "text": [
        "INFO:FFC:Adjusting element degree from ? to 2\n"
       ]
      },
      {
       "output_type": "stream",
       "stream": "stderr",
       "text": [
        "INFO:FFC:Adjusting missing element domain to Domain(Cell('triangle', 2), 'triangle_multiverse', 2, 2).\n"
       ]
      },
      {
       "output_type": "stream",
       "stream": "stderr",
       "text": [
        "INFO:FFC:Adjusting element degree from ? to 2\n"
       ]
      },
      {
       "output_type": "stream",
       "stream": "stderr",
       "text": [
        "DEBUG:FFC:Reusing form from cache.\n"
       ]
      },
      {
       "output_type": "stream",
       "stream": "stderr",
       "text": [
        "DEBUG:FFC:Reusing form from cache.\n"
       ]
      },
      {
       "output_type": "stream",
       "stream": "stderr",
       "text": [
        "INFO:FFC:Adjusting missing element domain to Domain(Cell('triangle', 2), 'triangle_multiverse', 2, 2).\n"
       ]
      },
      {
       "output_type": "stream",
       "stream": "stderr",
       "text": [
        "INFO:FFC:Adjusting element degree from ? to 2\n"
       ]
      },
      {
       "output_type": "stream",
       "stream": "stderr",
       "text": [
        "INFO:FFC:Adjusting missing element domain to Domain(Cell('triangle', 2), 'triangle_multiverse', 2, 2).\n"
       ]
      },
      {
       "output_type": "stream",
       "stream": "stderr",
       "text": [
        "INFO:FFC:Adjusting element degree from ? to 2\n"
       ]
      },
      {
       "output_type": "stream",
       "stream": "stderr",
       "text": [
        "INFO:FFC:Adjusting missing element domain to Domain(Cell('triangle', 2), 'triangle_multiverse', 2, 2).\n"
       ]
      },
      {
       "output_type": "stream",
       "stream": "stderr",
       "text": [
        "INFO:FFC:Adjusting element degree from ? to 2\n"
       ]
      },
      {
       "output_type": "stream",
       "stream": "stderr",
       "text": [
        "INFO:FFC:Adjusting missing element domain to Domain(Cell('triangle', 2), 'triangle_multiverse', 2, 2).\n"
       ]
      },
      {
       "output_type": "stream",
       "stream": "stderr",
       "text": [
        "INFO:FFC:Adjusting element degree from ? to 2\n"
       ]
      },
      {
       "output_type": "stream",
       "stream": "stderr",
       "text": [
        "INFO:FFC:Adjusting missing element domain to Domain(Cell('triangle', 2), 'triangle_multiverse', 2, 2).\n"
       ]
      },
      {
       "output_type": "stream",
       "stream": "stderr",
       "text": [
        "INFO:FFC:Adjusting element degree from ? to 2\n"
       ]
      },
      {
       "output_type": "stream",
       "stream": "stderr",
       "text": [
        "INFO:FFC:Adjusting missing element domain to Domain(Cell('triangle', 2), 'triangle_multiverse', 2, 2).\n"
       ]
      },
      {
       "output_type": "stream",
       "stream": "stderr",
       "text": [
        "INFO:FFC:Adjusting element degree from ? to 2\n"
       ]
      },
      {
       "output_type": "stream",
       "stream": "stderr",
       "text": [
        "INFO:FFC:Adjusting missing element domain to Domain(Cell('triangle', 2), 'triangle_multiverse', 2, 2).\n"
       ]
      },
      {
       "output_type": "stream",
       "stream": "stderr",
       "text": [
        "INFO:FFC:Adjusting element degree from ? to 2\n"
       ]
      },
      {
       "output_type": "stream",
       "stream": "stderr",
       "text": [
        "INFO:FFC:Adjusting missing element domain to Domain(Cell('triangle', 2), 'triangle_multiverse', 2, 2).\n"
       ]
      },
      {
       "output_type": "stream",
       "stream": "stderr",
       "text": [
        "INFO:FFC:Adjusting element degree from ? to 2\n"
       ]
      },
      {
       "output_type": "stream",
       "stream": "stderr",
       "text": [
        "INFO:FFC:Adjusting missing element domain to Domain(Cell('triangle', 2), 'triangle_multiverse', 2, 2).\n"
       ]
      },
      {
       "output_type": "stream",
       "stream": "stderr",
       "text": [
        "INFO:FFC:Adjusting element degree from ? to 2\n"
       ]
      },
      {
       "output_type": "stream",
       "stream": "stderr",
       "text": [
        "DEBUG:UFL:No integrals left after transformation, returning empty form.\n"
       ]
      },
      {
       "output_type": "stream",
       "stream": "stderr",
       "text": [
        "DEBUG:FFC:Reusing form from cache.\n"
       ]
      },
      {
       "output_type": "stream",
       "stream": "stderr",
       "text": [
        "DEBUG:FFC:Reusing form from cache.\n"
       ]
      },
      {
       "output_type": "stream",
       "stream": "stdout",
       "text": [
        "\n",
        "::::::::::::::::::::::::::::::::::::::::::::: 100\n",
        "0.656598351094\n",
        "0.656474221149\n",
        "0.654717112261\n",
        "0.653923338106\n",
        "0.653870508467\n",
        "0.653866562968\n",
        "0.653852285482\n",
        "0.653829161936\n",
        "0.653743137122\n",
        "0.653660698273\n",
        "0.653482355093\n",
        "0.653381063464\n",
        "0.65330822584\n",
        "0.652498363494\n",
        "0.652488938828\n",
        "0.65205849413\n",
        "0.652036542603\n",
        "0.652001161253\n",
        "0.651938892702\n",
        "0.65170103075\n",
        "0.650523228503\n",
        "0.649363368215\n",
        "0.647617592465\n",
        "0.647503395487\n",
        "0.647502951776\n",
        "0.647274334249\n",
        "0.645209757645\n",
        "0.645072589909\n",
        "0.64495307773\n",
        "0.644555799643\n",
        "0.644400232594\n",
        "0.644400232592\n",
        "0.644400232567\n",
        "0.644400232551\n",
        "0.64440023255\n",
        "0.644400232502\n",
        "0.644400232489\n",
        "0.644400232489\n",
        "0.644400232448\n",
        "0.644400232444\n",
        "0.64440023243\n",
        "0.644400232423\n",
        "0.644400232383\n",
        "0.644400232367\n",
        "0.644400232346\n",
        "0.644400232344\n",
        "0.644400232341\n",
        "0.64440023234\n",
        "0.644400232201\n",
        "0.644400232194\n",
        "0.644400232131\n",
        "0.644400231816\n",
        "0.644400231804\n",
        "0.644400230048\n",
        "0.644400229539\n",
        "0.644400226654\n",
        "0.644400224201\n",
        "0.644400220462\n",
        "0.644400199874\n",
        "0.644400101593\n",
        "0.644399393771\n",
        "0.644399393771\n",
        "0.64439939377\n",
        "0.64439939377\n",
        "0.64439939377\n",
        "0.64439939377\n",
        "0.64439939377\n",
        "0.64439939377\n",
        "0.644399393769\n",
        "0.644399393769\n",
        "0.644399393769\n",
        "0.644399393769\n",
        "0.644399393769\n",
        "0.644399393769\n",
        "0.644399393768\n",
        "0.644399393768\n",
        "0.644399393768\n",
        "0.644399393768\n",
        "0.644399393767\n",
        "0.644399393767\n",
        "0.644399393766\n",
        "0.644399393764\n",
        "0.644399393764\n",
        "0.644399393748\n",
        "0.64439939374\n",
        "0.644399393707\n",
        "0.644399393617\n",
        "0.644399393473\n",
        "0.644399392861\n",
        "0.644399389933\n",
        "0.644399372667\n",
        "0.644399372667\n",
        "0.644399372667\n",
        "0.644399372667\n",
        "0.644399372667\n",
        "0.644399372667\n",
        "0.644399372667\n",
        "0.644399372667\n",
        "0.644399372667\n",
        "0.644399372667\n",
        "0.644399372667\n",
        "\n",
        "\n",
        "\n",
        "iter=1: norm=1.06509e-05\n",
        "0.000225738851375\n",
        "0.0324501991272\n",
        "<petsc4py.PETSc.Mat object at 0x3d2c050>\n",
        "#####################"
       ]
      },
      {
       "output_type": "stream",
       "stream": "stdout",
       "text": [
        " 659\n",
        "#####################"
       ]
      },
      {
       "output_type": "stream",
       "stream": "stderr",
       "text": [
        "DEBUG:FFC:Reusing form from cache.\n"
       ]
      },
      {
       "output_type": "stream",
       "stream": "stdout",
       "text": [
        " 659\n",
        "::::::::::::::::::::::::::::::::::::::::::::: 100\n",
        "3.06120920181\n",
        "3.12221121788"
       ]
      },
      {
       "output_type": "stream",
       "stream": "stderr",
       "text": [
        "DEBUG:FFC:Reusing form from cache.\n"
       ]
      },
      {
       "output_type": "stream",
       "stream": "stderr",
       "text": [
        "DEBUG:FFC:Reusing form from cache.\n"
       ]
      },
      {
       "output_type": "stream",
       "stream": "stderr",
       "text": [
        "DEBUG:FFC:Reusing form from cache.\n"
       ]
      },
      {
       "output_type": "stream",
       "stream": "stderr",
       "text": [
        "DEBUG:FFC:Reusing form from cache.\n"
       ]
      },
      {
       "output_type": "stream",
       "stream": "stderr",
       "text": [
        "DEBUG:FFC:Reusing form from cache.\n"
       ]
      },
      {
       "output_type": "stream",
       "stream": "stderr",
       "text": [
        "INFO:FFC:Adjusting missing element domain to Domain(Cell('triangle', 2), 'triangle_multiverse', 2, 2).\n"
       ]
      },
      {
       "output_type": "stream",
       "stream": "stderr",
       "text": [
        "INFO:FFC:Adjusting element degree from ? to 2\n"
       ]
      },
      {
       "output_type": "stream",
       "stream": "stderr",
       "text": [
        "INFO:FFC:Adjusting missing element domain to Domain(Cell('triangle', 2), 'triangle_multiverse', 2, 2).\n"
       ]
      },
      {
       "output_type": "stream",
       "stream": "stderr",
       "text": [
        "INFO:FFC:Adjusting element degree from ? to 2\n"
       ]
      },
      {
       "output_type": "stream",
       "stream": "stderr",
       "text": [
        "INFO:FFC:Adjusting missing element domain to Domain(Cell('triangle', 2), 'triangle_multiverse', 2, 2).\n"
       ]
      },
      {
       "output_type": "stream",
       "stream": "stderr",
       "text": [
        "INFO:FFC:Adjusting element degree from ? to 2\n"
       ]
      },
      {
       "output_type": "stream",
       "stream": "stderr",
       "text": [
        "INFO:FFC:Adjusting missing element domain to Domain(Cell('triangle', 2), 'triangle_multiverse', 2, 2).\n"
       ]
      },
      {
       "output_type": "stream",
       "stream": "stderr",
       "text": [
        "INFO:FFC:Adjusting element degree from ? to 2\n"
       ]
      },
      {
       "output_type": "stream",
       "stream": "stderr",
       "text": [
        "INFO:FFC:Adjusting missing element domain to Domain(Cell('triangle', 2), 'triangle_multiverse', 2, 2).\n"
       ]
      },
      {
       "output_type": "stream",
       "stream": "stderr",
       "text": [
        "INFO:FFC:Adjusting element degree from ? to 2\n"
       ]
      },
      {
       "output_type": "stream",
       "stream": "stderr",
       "text": [
        "INFO:FFC:Adjusting missing element domain to Domain(Cell('triangle', 2), 'triangle_multiverse', 2, 2).\n"
       ]
      },
      {
       "output_type": "stream",
       "stream": "stderr",
       "text": [
        "INFO:FFC:Adjusting element degree from ? to 2\n"
       ]
      },
      {
       "output_type": "stream",
       "stream": "stderr",
       "text": [
        "INFO:FFC:Adjusting missing element domain to Domain(Cell('triangle', 2), 'triangle_multiverse', 2, 2).\n"
       ]
      },
      {
       "output_type": "stream",
       "stream": "stderr",
       "text": [
        "INFO:FFC:Adjusting element degree from ? to 2\n"
       ]
      },
      {
       "output_type": "stream",
       "stream": "stderr",
       "text": [
        "INFO:FFC:Adjusting missing element domain to Domain(Cell('triangle', 2), 'triangle_multiverse', 2, 2).\n"
       ]
      },
      {
       "output_type": "stream",
       "stream": "stderr",
       "text": [
        "INFO:FFC:Adjusting element degree from ? to 2\n"
       ]
      },
      {
       "output_type": "stream",
       "stream": "stderr",
       "text": [
        "INFO:FFC:Adjusting missing element domain to Domain(Cell('triangle', 2), 'triangle_multiverse', 2, 2).\n"
       ]
      },
      {
       "output_type": "stream",
       "stream": "stderr",
       "text": [
        "INFO:FFC:Adjusting element degree from ? to 2\n"
       ]
      },
      {
       "output_type": "stream",
       "stream": "stderr",
       "text": [
        "DEBUG:FFC:Reusing form from cache.\n"
       ]
      },
      {
       "output_type": "stream",
       "stream": "stderr",
       "text": [
        "DEBUG:FFC:Reusing form from cache.\n"
       ]
      },
      {
       "output_type": "stream",
       "stream": "stderr",
       "text": [
        "INFO:FFC:Adjusting missing element domain to Domain(Cell('triangle', 2), 'triangle_multiverse', 2, 2).\n"
       ]
      },
      {
       "output_type": "stream",
       "stream": "stderr",
       "text": [
        "INFO:FFC:Adjusting element degree from ? to 2\n"
       ]
      },
      {
       "output_type": "stream",
       "stream": "stderr",
       "text": [
        "INFO:FFC:Adjusting missing element domain to Domain(Cell('triangle', 2), 'triangle_multiverse', 2, 2).\n"
       ]
      },
      {
       "output_type": "stream",
       "stream": "stderr",
       "text": [
        "INFO:FFC:Adjusting element degree from ? to 2\n"
       ]
      },
      {
       "output_type": "stream",
       "stream": "stderr",
       "text": [
        "INFO:FFC:Adjusting missing element domain to Domain(Cell('triangle', 2), 'triangle_multiverse', 2, 2).\n"
       ]
      },
      {
       "output_type": "stream",
       "stream": "stderr",
       "text": [
        "INFO:FFC:Adjusting element degree from ? to 2\n"
       ]
      },
      {
       "output_type": "stream",
       "stream": "stderr",
       "text": [
        "INFO:FFC:Adjusting missing element domain to Domain(Cell('triangle', 2), 'triangle_multiverse', 2, 2).\n"
       ]
      },
      {
       "output_type": "stream",
       "stream": "stderr",
       "text": [
        "INFO:FFC:Adjusting element degree from ? to 2\n"
       ]
      },
      {
       "output_type": "stream",
       "stream": "stderr",
       "text": [
        "INFO:FFC:Adjusting missing element domain to Domain(Cell('triangle', 2), 'triangle_multiverse', 2, 2).\n"
       ]
      },
      {
       "output_type": "stream",
       "stream": "stderr",
       "text": [
        "INFO:FFC:Adjusting element degree from ? to 2\n"
       ]
      },
      {
       "output_type": "stream",
       "stream": "stderr",
       "text": [
        "INFO:FFC:Adjusting missing element domain to Domain(Cell('triangle', 2), 'triangle_multiverse', 2, 2).\n"
       ]
      },
      {
       "output_type": "stream",
       "stream": "stderr",
       "text": [
        "INFO:FFC:Adjusting element degree from ? to 2\n"
       ]
      },
      {
       "output_type": "stream",
       "stream": "stderr",
       "text": [
        "INFO:FFC:Adjusting missing element domain to Domain(Cell('triangle', 2), 'triangle_multiverse', 2, 2).\n"
       ]
      },
      {
       "output_type": "stream",
       "stream": "stderr",
       "text": [
        "INFO:FFC:Adjusting element degree from ? to 2\n"
       ]
      },
      {
       "output_type": "stream",
       "stream": "stderr",
       "text": [
        "INFO:FFC:Adjusting missing element domain to Domain(Cell('triangle', 2), 'triangle_multiverse', 2, 2).\n"
       ]
      },
      {
       "output_type": "stream",
       "stream": "stderr",
       "text": [
        "INFO:FFC:Adjusting element degree from ? to 2\n"
       ]
      },
      {
       "output_type": "stream",
       "stream": "stderr",
       "text": [
        "INFO:FFC:Adjusting missing element domain to Domain(Cell('triangle', 2), 'triangle_multiverse', 2, 2).\n"
       ]
      },
      {
       "output_type": "stream",
       "stream": "stderr",
       "text": [
        "INFO:FFC:Adjusting element degree from ? to 2\n"
       ]
      },
      {
       "output_type": "stream",
       "stream": "stderr",
       "text": [
        "DEBUG:UFL:No integrals left after transformation, returning empty form.\n"
       ]
      },
      {
       "output_type": "stream",
       "stream": "stderr",
       "text": [
        "DEBUG:FFC:Reusing form from cache.\n"
       ]
      },
      {
       "output_type": "stream",
       "stream": "stderr",
       "text": [
        "DEBUG:FFC:Reusing form from cache.\n"
       ]
      },
      {
       "output_type": "stream",
       "stream": "stdout",
       "text": [
        "\n",
        "::::::::::::::::::::::::::::::::::::::::::::: 100\n",
        "0.656755949319\n",
        "0.656740682199\n",
        "0.65638947876\n",
        "0.656317920321\n",
        "0.654406120731\n",
        "0.654355958616\n",
        "0.653730658944\n",
        "0.653649788406\n",
        "0.653536551959\n",
        "0.653523305641\n",
        "0.653305861975\n",
        "0.652923150533\n",
        "0.652741499897\n",
        "0.652560654247\n",
        "0.652438793167\n",
        "0.652277463577\n",
        "0.651300924549\n",
        "0.651013019031\n",
        "0.651010615391\n",
        "0.650998516195\n",
        "0.650973704912\n",
        "0.650583016401\n",
        "0.650575259534\n",
        "0.650493546748\n",
        "0.650212105469\n",
        "0.650211666388\n",
        "0.649916439433\n",
        "0.649908943008\n",
        "0.649865369619\n",
        "0.649637273226\n",
        "0.649292372644\n",
        "0.64929236742\n",
        "0.649292342843\n",
        "0.649292331195\n",
        "0.649292328828\n",
        "0.649292302197\n",
        "0.649292300468\n",
        "0.649292299236\n",
        "0.649292264358\n",
        "0.649292262635\n",
        "0.649292254326\n",
        "0.649292254198\n",
        "0.649292229563\n",
        "0.649292219441\n",
        "0.649292123991\n",
        "0.649292123366\n",
        "0.649292123292\n",
        "0.649291820417\n",
        "0.649291728974\n",
        "0.649291304086\n",
        "0.649290164434\n",
        "0.649290104724\n",
        "0.64928720826\n",
        "0.649286943504\n",
        "0.649284142726\n",
        "0.649274925854\n",
        "0.649274094841\n",
        "0.649267299012\n",
        "0.649258352663\n",
        "0.649250603671\n",
        "0.649248040605\n",
        "0.64924804058\n",
        "0.649248040433\n",
        "0.64924804041\n",
        "0.649248040399\n",
        "0.649248040292\n",
        "0.649248040286\n",
        "0.649248040278\n",
        "0.649248040117\n",
        "0.649248040049\n",
        "0.649248040041\n",
        "0.649248040041\n",
        "0.649248039969\n",
        "0.649248039969\n",
        "0.649248039394\n",
        "0.6492480392\n",
        "0.649248039162\n",
        "0.649248038179\n",
        "0.649248036301\n",
        "0.649248036089\n",
        "0.64924802651\n",
        "0.649247991657\n",
        "0.649247943459\n",
        "0.649247943229\n",
        "0.649247915787\n",
        "0.649247876087\n",
        "0.649247876059\n",
        "0.649247832023\n",
        "0.649247686308\n",
        "0.649247654797\n",
        "0.649246242549\n",
        "0.649246242535\n",
        "0.649246242458\n",
        "0.64924624244\n",
        "0.649246242433\n",
        "0.649246242367\n",
        "0.649246242363\n",
        "0.649246242359\n",
        "0.649246242266\n",
        "0.649246242245\n",
        "0.649246242238\n",
        "\n",
        "\n",
        "\n",
        "iter=2: norm=2.8154e-05\n",
        "0.00110743885867\n",
        "0.032390832901\n",
        "<petsc4py.PETSc.Mat object at 0x3cf69b0>\n",
        "#####################"
       ]
      },
      {
       "output_type": "stream",
       "stream": "stdout",
       "text": [
        " 659\n",
        "#####################"
       ]
      },
      {
       "output_type": "stream",
       "stream": "stderr",
       "text": [
        "DEBUG:FFC:Reusing form from cache.\n"
       ]
      },
      {
       "output_type": "stream",
       "stream": "stdout",
       "text": [
        " 659\n",
        "::::::::::::::::::::::::::::::::::::::::::::: 100\n",
        "3.0996119976\n",
        "3.160820961"
       ]
      },
      {
       "output_type": "stream",
       "stream": "stderr",
       "text": [
        "DEBUG:FFC:Reusing form from cache.\n"
       ]
      },
      {
       "output_type": "stream",
       "stream": "stderr",
       "text": [
        "DEBUG:FFC:Reusing form from cache.\n"
       ]
      },
      {
       "output_type": "stream",
       "stream": "stderr",
       "text": [
        "DEBUG:FFC:Reusing form from cache.\n"
       ]
      },
      {
       "output_type": "stream",
       "stream": "stderr",
       "text": [
        "DEBUG:FFC:Reusing form from cache.\n"
       ]
      },
      {
       "output_type": "stream",
       "stream": "stderr",
       "text": [
        "DEBUG:FFC:Reusing form from cache.\n"
       ]
      },
      {
       "output_type": "stream",
       "stream": "stderr",
       "text": [
        "INFO:FFC:Adjusting missing element domain to Domain(Cell('triangle', 2), 'triangle_multiverse', 2, 2).\n"
       ]
      },
      {
       "output_type": "stream",
       "stream": "stderr",
       "text": [
        "INFO:FFC:Adjusting element degree from ? to 2\n"
       ]
      },
      {
       "output_type": "stream",
       "stream": "stderr",
       "text": [
        "INFO:FFC:Adjusting missing element domain to Domain(Cell('triangle', 2), 'triangle_multiverse', 2, 2).\n"
       ]
      },
      {
       "output_type": "stream",
       "stream": "stderr",
       "text": [
        "INFO:FFC:Adjusting element degree from ? to 2\n"
       ]
      },
      {
       "output_type": "stream",
       "stream": "stderr",
       "text": [
        "INFO:FFC:Adjusting missing element domain to Domain(Cell('triangle', 2), 'triangle_multiverse', 2, 2).\n"
       ]
      },
      {
       "output_type": "stream",
       "stream": "stderr",
       "text": [
        "INFO:FFC:Adjusting element degree from ? to 2\n"
       ]
      },
      {
       "output_type": "stream",
       "stream": "stderr",
       "text": [
        "INFO:FFC:Adjusting missing element domain to Domain(Cell('triangle', 2), 'triangle_multiverse', 2, 2).\n"
       ]
      },
      {
       "output_type": "stream",
       "stream": "stderr",
       "text": [
        "INFO:FFC:Adjusting element degree from ? to 2\n"
       ]
      },
      {
       "output_type": "stream",
       "stream": "stderr",
       "text": [
        "INFO:FFC:Adjusting missing element domain to Domain(Cell('triangle', 2), 'triangle_multiverse', 2, 2).\n"
       ]
      },
      {
       "output_type": "stream",
       "stream": "stderr",
       "text": [
        "INFO:FFC:Adjusting element degree from ? to 2\n"
       ]
      },
      {
       "output_type": "stream",
       "stream": "stderr",
       "text": [
        "INFO:FFC:Adjusting missing element domain to Domain(Cell('triangle', 2), 'triangle_multiverse', 2, 2).\n"
       ]
      },
      {
       "output_type": "stream",
       "stream": "stderr",
       "text": [
        "INFO:FFC:Adjusting element degree from ? to 2\n"
       ]
      },
      {
       "output_type": "stream",
       "stream": "stderr",
       "text": [
        "INFO:FFC:Adjusting missing element domain to Domain(Cell('triangle', 2), 'triangle_multiverse', 2, 2).\n"
       ]
      },
      {
       "output_type": "stream",
       "stream": "stderr",
       "text": [
        "INFO:FFC:Adjusting element degree from ? to 2\n"
       ]
      },
      {
       "output_type": "stream",
       "stream": "stderr",
       "text": [
        "INFO:FFC:Adjusting missing element domain to Domain(Cell('triangle', 2), 'triangle_multiverse', 2, 2).\n"
       ]
      },
      {
       "output_type": "stream",
       "stream": "stderr",
       "text": [
        "INFO:FFC:Adjusting element degree from ? to 2\n"
       ]
      },
      {
       "output_type": "stream",
       "stream": "stderr",
       "text": [
        "INFO:FFC:Adjusting missing element domain to Domain(Cell('triangle', 2), 'triangle_multiverse', 2, 2).\n"
       ]
      },
      {
       "output_type": "stream",
       "stream": "stderr",
       "text": [
        "INFO:FFC:Adjusting element degree from ? to 2\n"
       ]
      },
      {
       "output_type": "stream",
       "stream": "stderr",
       "text": [
        "DEBUG:FFC:Reusing form from cache.\n"
       ]
      },
      {
       "output_type": "stream",
       "stream": "stderr",
       "text": [
        "DEBUG:FFC:Reusing form from cache.\n"
       ]
      },
      {
       "output_type": "stream",
       "stream": "stderr",
       "text": [
        "INFO:FFC:Adjusting missing element domain to Domain(Cell('triangle', 2), 'triangle_multiverse', 2, 2).\n"
       ]
      },
      {
       "output_type": "stream",
       "stream": "stderr",
       "text": [
        "INFO:FFC:Adjusting element degree from ? to 2\n"
       ]
      },
      {
       "output_type": "stream",
       "stream": "stderr",
       "text": [
        "INFO:FFC:Adjusting missing element domain to Domain(Cell('triangle', 2), 'triangle_multiverse', 2, 2).\n"
       ]
      },
      {
       "output_type": "stream",
       "stream": "stderr",
       "text": [
        "INFO:FFC:Adjusting element degree from ? to 2\n"
       ]
      },
      {
       "output_type": "stream",
       "stream": "stderr",
       "text": [
        "INFO:FFC:Adjusting missing element domain to Domain(Cell('triangle', 2), 'triangle_multiverse', 2, 2).\n"
       ]
      },
      {
       "output_type": "stream",
       "stream": "stderr",
       "text": [
        "INFO:FFC:Adjusting element degree from ? to 2\n"
       ]
      },
      {
       "output_type": "stream",
       "stream": "stderr",
       "text": [
        "INFO:FFC:Adjusting missing element domain to Domain(Cell('triangle', 2), 'triangle_multiverse', 2, 2).\n"
       ]
      },
      {
       "output_type": "stream",
       "stream": "stderr",
       "text": [
        "INFO:FFC:Adjusting element degree from ? to 2\n"
       ]
      },
      {
       "output_type": "stream",
       "stream": "stderr",
       "text": [
        "INFO:FFC:Adjusting missing element domain to Domain(Cell('triangle', 2), 'triangle_multiverse', 2, 2).\n"
       ]
      },
      {
       "output_type": "stream",
       "stream": "stderr",
       "text": [
        "INFO:FFC:Adjusting element degree from ? to 2\n"
       ]
      },
      {
       "output_type": "stream",
       "stream": "stderr",
       "text": [
        "INFO:FFC:Adjusting missing element domain to Domain(Cell('triangle', 2), 'triangle_multiverse', 2, 2).\n"
       ]
      },
      {
       "output_type": "stream",
       "stream": "stderr",
       "text": [
        "INFO:FFC:Adjusting element degree from ? to 2\n"
       ]
      },
      {
       "output_type": "stream",
       "stream": "stderr",
       "text": [
        "INFO:FFC:Adjusting missing element domain to Domain(Cell('triangle', 2), 'triangle_multiverse', 2, 2).\n"
       ]
      },
      {
       "output_type": "stream",
       "stream": "stderr",
       "text": [
        "INFO:FFC:Adjusting element degree from ? to 2\n"
       ]
      },
      {
       "output_type": "stream",
       "stream": "stderr",
       "text": [
        "INFO:FFC:Adjusting missing element domain to Domain(Cell('triangle', 2), 'triangle_multiverse', 2, 2).\n"
       ]
      },
      {
       "output_type": "stream",
       "stream": "stderr",
       "text": [
        "INFO:FFC:Adjusting element degree from ? to 2\n"
       ]
      },
      {
       "output_type": "stream",
       "stream": "stderr",
       "text": [
        "INFO:FFC:Adjusting missing element domain to Domain(Cell('triangle', 2), 'triangle_multiverse', 2, 2).\n"
       ]
      },
      {
       "output_type": "stream",
       "stream": "stderr",
       "text": [
        "INFO:FFC:Adjusting element degree from ? to 2\n"
       ]
      },
      {
       "output_type": "stream",
       "stream": "stderr",
       "text": [
        "DEBUG:UFL:No integrals left after transformation, returning empty form.\n"
       ]
      },
      {
       "output_type": "stream",
       "stream": "stderr",
       "text": [
        "DEBUG:FFC:Reusing form from cache.\n"
       ]
      },
      {
       "output_type": "stream",
       "stream": "stderr",
       "text": [
        "DEBUG:FFC:Reusing form from cache.\n"
       ]
      },
      {
       "output_type": "stream",
       "stream": "stdout",
       "text": [
        "\n",
        "::::::::::::::::::::::::::::::::::::::::::::: 100\n",
        "0.716881214168\n",
        "0.65785563769\n",
        "0.656738255286\n",
        "0.655952435988\n",
        "0.655951216039\n",
        "0.655498467026\n",
        "0.654472283248\n",
        "0.654257511919\n",
        "0.654107239643\n",
        "0.65396234759\n",
        "0.653952358052\n",
        "0.653944559189\n",
        "0.653936065593\n",
        "0.65327010668\n",
        "0.653145945203\n",
        "0.65261380309\n",
        "0.6519983942\n",
        "0.649532952803\n",
        "0.647607484587\n",
        "0.647484177654\n",
        "0.647267350044\n",
        "0.647265342793\n",
        "0.64682232014\n",
        "0.646822295118\n",
        "0.646689205996\n",
        "0.646656267861\n",
        "0.644350639387\n",
        "0.64416970337\n",
        "0.643916797008\n",
        "0.640391904755\n",
        "0.640327169699\n",
        "0.640327169692\n",
        "0.640327169596\n",
        "0.640327169216\n",
        "0.640327169182\n",
        "0.640327168259\n",
        "0.640327164229\n",
        "0.640327159266\n",
        "0.640327154023\n",
        "0.640327153572\n",
        "0.640327149028\n",
        "0.640327146903\n",
        "0.64032714656\n",
        "0.640327145615\n",
        "0.640327090062\n",
        "0.640327089301\n",
        "0.640327088351\n",
        "0.640327028347\n",
        "0.640327008668\n",
        "0.640326840799\n",
        "0.640326821656\n",
        "0.640326798022\n",
        "0.640326794629\n",
        "0.640326692886\n",
        "0.640324992595\n",
        "0.640324741019\n",
        "0.640322094067\n",
        "0.640257640039\n",
        "0.640252202303\n",
        "0.640152468636\n",
        "0.640093046241\n",
        "0.640093046234\n",
        "0.640093046139\n",
        "0.640093046019\n",
        "0.640093045777\n",
        "0.640093045221\n",
        "0.640093043897\n",
        "0.640093042212\n",
        "0.640093042022\n",
        "0.640093041154\n",
        "0.640093037964\n",
        "0.640093037945\n",
        "0.640093037214\n",
        "0.640093035116\n",
        "0.640093034135\n",
        "0.640093034135\n",
        "0.640093028855\n",
        "0.640093027604\n",
        "0.640093023615\n",
        "0.640093020407\n",
        "0.640093006143\n",
        "0.640093005458\n",
        "0.640093001179\n",
        "0.640093000508\n",
        "0.640093000505\n",
        "0.640092996596\n",
        "0.640092993139\n",
        "0.6400920938\n",
        "0.640091895183\n",
        "0.640091359947\n",
        "0.640091304377\n",
        "0.640091304377\n",
        "0.640091304377\n",
        "0.640091304376\n",
        "0.640091304376\n",
        "0.640091304376\n",
        "0.640091304375\n",
        "0.640091304373\n",
        "0.640091304373\n",
        "0.640091304372\n",
        "0.640091304369\n",
        "\n",
        "\n",
        "\n",
        "iter=3: norm=3.00999e-06\n",
        "0.000163608315475\n",
        "0.0328149795532\n",
        "<petsc4py.PETSc.Mat object at 0x764ba10>\n",
        "#####################"
       ]
      },
      {
       "output_type": "stream",
       "stream": "stdout",
       "text": [
        " 659\n",
        "#####################"
       ]
      },
      {
       "output_type": "stream",
       "stream": "stderr",
       "text": [
        "DEBUG:FFC:Reusing form from cache.\n"
       ]
      },
      {
       "output_type": "stream",
       "stream": "stdout",
       "text": [
        " 659\n",
        "::::::::::::::::::::::::::::::::::::::::::::: 100\n",
        "3.10837507248\n",
        "3.17141699791"
       ]
      },
      {
       "output_type": "stream",
       "stream": "stderr",
       "text": [
        "DEBUG:FFC:Reusing form from cache.\n"
       ]
      },
      {
       "output_type": "stream",
       "stream": "stderr",
       "text": [
        "DEBUG:FFC:Reusing form from cache.\n"
       ]
      },
      {
       "output_type": "stream",
       "stream": "stderr",
       "text": [
        "DEBUG:FFC:Reusing form from cache.\n"
       ]
      },
      {
       "output_type": "stream",
       "stream": "stderr",
       "text": [
        "DEBUG:FFC:Reusing form from cache.\n"
       ]
      },
      {
       "output_type": "stream",
       "stream": "stderr",
       "text": [
        "DEBUG:FFC:Reusing form from cache.\n"
       ]
      },
      {
       "output_type": "stream",
       "stream": "stderr",
       "text": [
        "INFO:FFC:Adjusting missing element domain to Domain(Cell('triangle', 2), 'triangle_multiverse', 2, 2).\n"
       ]
      },
      {
       "output_type": "stream",
       "stream": "stderr",
       "text": [
        "INFO:FFC:Adjusting element degree from ? to 2\n"
       ]
      },
      {
       "output_type": "stream",
       "stream": "stderr",
       "text": [
        "INFO:FFC:Adjusting missing element domain to Domain(Cell('triangle', 2), 'triangle_multiverse', 2, 2).\n"
       ]
      },
      {
       "output_type": "stream",
       "stream": "stderr",
       "text": [
        "INFO:FFC:Adjusting element degree from ? to 2\n"
       ]
      },
      {
       "output_type": "stream",
       "stream": "stderr",
       "text": [
        "INFO:FFC:Adjusting missing element domain to Domain(Cell('triangle', 2), 'triangle_multiverse', 2, 2).\n"
       ]
      },
      {
       "output_type": "stream",
       "stream": "stderr",
       "text": [
        "INFO:FFC:Adjusting element degree from ? to 2\n"
       ]
      },
      {
       "output_type": "stream",
       "stream": "stderr",
       "text": [
        "INFO:FFC:Adjusting missing element domain to Domain(Cell('triangle', 2), 'triangle_multiverse', 2, 2).\n"
       ]
      },
      {
       "output_type": "stream",
       "stream": "stderr",
       "text": [
        "INFO:FFC:Adjusting element degree from ? to 2\n"
       ]
      },
      {
       "output_type": "stream",
       "stream": "stderr",
       "text": [
        "INFO:FFC:Adjusting missing element domain to Domain(Cell('triangle', 2), 'triangle_multiverse', 2, 2).\n"
       ]
      },
      {
       "output_type": "stream",
       "stream": "stderr",
       "text": [
        "INFO:FFC:Adjusting element degree from ? to 2\n"
       ]
      },
      {
       "output_type": "stream",
       "stream": "stderr",
       "text": [
        "INFO:FFC:Adjusting missing element domain to Domain(Cell('triangle', 2), 'triangle_multiverse', 2, 2).\n"
       ]
      },
      {
       "output_type": "stream",
       "stream": "stderr",
       "text": [
        "INFO:FFC:Adjusting element degree from ? to 2\n"
       ]
      },
      {
       "output_type": "stream",
       "stream": "stderr",
       "text": [
        "INFO:FFC:Adjusting missing element domain to Domain(Cell('triangle', 2), 'triangle_multiverse', 2, 2).\n"
       ]
      },
      {
       "output_type": "stream",
       "stream": "stderr",
       "text": [
        "INFO:FFC:Adjusting element degree from ? to 2\n"
       ]
      },
      {
       "output_type": "stream",
       "stream": "stderr",
       "text": [
        "INFO:FFC:Adjusting missing element domain to Domain(Cell('triangle', 2), 'triangle_multiverse', 2, 2).\n"
       ]
      },
      {
       "output_type": "stream",
       "stream": "stderr",
       "text": [
        "INFO:FFC:Adjusting element degree from ? to 2\n"
       ]
      },
      {
       "output_type": "stream",
       "stream": "stderr",
       "text": [
        "INFO:FFC:Adjusting missing element domain to Domain(Cell('triangle', 2), 'triangle_multiverse', 2, 2).\n"
       ]
      },
      {
       "output_type": "stream",
       "stream": "stderr",
       "text": [
        "INFO:FFC:Adjusting element degree from ? to 2\n"
       ]
      },
      {
       "output_type": "stream",
       "stream": "stderr",
       "text": [
        "DEBUG:FFC:Reusing form from cache.\n"
       ]
      },
      {
       "output_type": "stream",
       "stream": "stderr",
       "text": [
        "DEBUG:FFC:Reusing form from cache.\n"
       ]
      },
      {
       "output_type": "stream",
       "stream": "stderr",
       "text": [
        "INFO:FFC:Adjusting missing element domain to Domain(Cell('triangle', 2), 'triangle_multiverse', 2, 2).\n"
       ]
      },
      {
       "output_type": "stream",
       "stream": "stderr",
       "text": [
        "INFO:FFC:Adjusting element degree from ? to 2\n"
       ]
      },
      {
       "output_type": "stream",
       "stream": "stderr",
       "text": [
        "INFO:FFC:Adjusting missing element domain to Domain(Cell('triangle', 2), 'triangle_multiverse', 2, 2).\n"
       ]
      },
      {
       "output_type": "stream",
       "stream": "stderr",
       "text": [
        "INFO:FFC:Adjusting element degree from ? to 2\n"
       ]
      },
      {
       "output_type": "stream",
       "stream": "stderr",
       "text": [
        "INFO:FFC:Adjusting missing element domain to Domain(Cell('triangle', 2), 'triangle_multiverse', 2, 2).\n"
       ]
      },
      {
       "output_type": "stream",
       "stream": "stderr",
       "text": [
        "INFO:FFC:Adjusting element degree from ? to 2\n"
       ]
      },
      {
       "output_type": "stream",
       "stream": "stderr",
       "text": [
        "INFO:FFC:Adjusting missing element domain to Domain(Cell('triangle', 2), 'triangle_multiverse', 2, 2).\n"
       ]
      },
      {
       "output_type": "stream",
       "stream": "stderr",
       "text": [
        "INFO:FFC:Adjusting element degree from ? to 2\n"
       ]
      },
      {
       "output_type": "stream",
       "stream": "stderr",
       "text": [
        "INFO:FFC:Adjusting missing element domain to Domain(Cell('triangle', 2), 'triangle_multiverse', 2, 2).\n"
       ]
      },
      {
       "output_type": "stream",
       "stream": "stderr",
       "text": [
        "INFO:FFC:Adjusting element degree from ? to 2\n"
       ]
      },
      {
       "output_type": "stream",
       "stream": "stderr",
       "text": [
        "INFO:FFC:Adjusting missing element domain to Domain(Cell('triangle', 2), 'triangle_multiverse', 2, 2).\n"
       ]
      },
      {
       "output_type": "stream",
       "stream": "stderr",
       "text": [
        "INFO:FFC:Adjusting element degree from ? to 2\n"
       ]
      },
      {
       "output_type": "stream",
       "stream": "stderr",
       "text": [
        "INFO:FFC:Adjusting missing element domain to Domain(Cell('triangle', 2), 'triangle_multiverse', 2, 2).\n"
       ]
      },
      {
       "output_type": "stream",
       "stream": "stderr",
       "text": [
        "INFO:FFC:Adjusting element degree from ? to 2\n"
       ]
      },
      {
       "output_type": "stream",
       "stream": "stderr",
       "text": [
        "INFO:FFC:Adjusting missing element domain to Domain(Cell('triangle', 2), 'triangle_multiverse', 2, 2).\n"
       ]
      },
      {
       "output_type": "stream",
       "stream": "stderr",
       "text": [
        "INFO:FFC:Adjusting element degree from ? to 2\n"
       ]
      },
      {
       "output_type": "stream",
       "stream": "stderr",
       "text": [
        "INFO:FFC:Adjusting missing element domain to Domain(Cell('triangle', 2), 'triangle_multiverse', 2, 2).\n"
       ]
      },
      {
       "output_type": "stream",
       "stream": "stderr",
       "text": [
        "INFO:FFC:Adjusting element degree from ? to 2\n"
       ]
      },
      {
       "output_type": "stream",
       "stream": "stderr",
       "text": [
        "DEBUG:UFL:No integrals left after transformation, returning empty form.\n"
       ]
      },
      {
       "output_type": "stream",
       "stream": "stderr",
       "text": [
        "DEBUG:FFC:Reusing form from cache.\n"
       ]
      },
      {
       "output_type": "stream",
       "stream": "stderr",
       "text": [
        "DEBUG:FFC:Reusing form from cache.\n"
       ]
      },
      {
       "output_type": "stream",
       "stream": "stdout",
       "text": [
        "\n",
        "::::::::::::::::::::::::::::::::::::::::::::: 100\n",
        "0.655651613372\n",
        "0.655624217366\n",
        "0.655610327131\n",
        "0.655351916142\n",
        "0.655169761514\n",
        "0.655093194066\n",
        "0.654920416644\n",
        "0.654406611329\n",
        "0.654405978216\n",
        "0.654041897265\n",
        "0.653870052975\n",
        "0.652019135531\n",
        "0.651908818806\n",
        "0.651829755366\n",
        "0.651828694244\n",
        "0.651812010483\n",
        "0.651023747977\n",
        "0.650993579746\n",
        "0.650976886706\n",
        "0.650831797197\n",
        "0.650811897944\n",
        "0.65076189209\n",
        "0.650750839431\n",
        "0.650713841965\n",
        "0.650654815505\n",
        "0.650255547163\n",
        "0.649846236237\n",
        "0.649839006211\n",
        "0.649807120259\n",
        "0.648361494687\n",
        "0.647040188826\n",
        "0.647040187302\n",
        "0.647040182824\n",
        "0.647040166242\n",
        "0.647040166054\n",
        "0.647040165795\n",
        "0.647040164804\n",
        "0.647040153358\n",
        "0.647040148492\n",
        "0.647040135221\n",
        "0.647040134926\n",
        "0.647040111235\n",
        "0.647040020849\n",
        "0.647040020812\n",
        "0.647039910811\n",
        "0.647039864836\n",
        "0.647039864371\n",
        "0.647039557271\n",
        "0.647039033206\n",
        "0.647038712077\n",
        "0.647038666406\n",
        "0.647038590175\n",
        "0.647038058864\n",
        "0.647036493752\n",
        "0.647036047094\n",
        "0.647035927449\n",
        "0.647034369893\n",
        "0.647031314147\n",
        "0.647013166983\n",
        "0.646991343692\n",
        "0.646964123073\n",
        "0.646964123072\n",
        "0.646964123071\n",
        "0.646964123068\n",
        "0.646964123065\n",
        "0.646964123061\n",
        "0.646964123061\n",
        "0.646964123053\n",
        "0.646964123051\n",
        "0.646964123034\n",
        "0.646964123034\n",
        "0.646964123017\n",
        "0.646964123001\n",
        "0.646964122976\n",
        "0.646964122913\n",
        "0.646964122907\n",
        "0.646964122802\n",
        "0.646964122793\n",
        "0.64696412251\n",
        "0.64696412226\n",
        "0.64696412226\n",
        "0.64696412226\n",
        "0.646964121842\n",
        "0.646964121663\n",
        "0.64696412135\n",
        "0.646964120756\n",
        "0.646964120754\n",
        "0.646964119817\n",
        "0.646964111442\n",
        "0.646964105972\n",
        "0.64696407635\n",
        "0.64696407635\n",
        "0.64696407635\n",
        "0.64696407635\n",
        "0.64696407635\n",
        "0.64696407635\n",
        "0.64696407635\n",
        "0.64696407635\n",
        "0.64696407635\n",
        "0.64696407635\n",
        "0.64696407635\n",
        "\n",
        "\n",
        "\n",
        "iter=4: norm=0.00032772\n",
        "0.00528227407224\n",
        "0.0338959693909\n",
        "<petsc4py.PETSc.Mat object at 0x8a2bcb0>\n",
        "#####################"
       ]
      },
      {
       "output_type": "stream",
       "stream": "stdout",
       "text": [
        " 659\n",
        "#####################"
       ]
      },
      {
       "output_type": "stream",
       "stream": "stderr",
       "text": [
        "DEBUG:FFC:Reusing form from cache.\n"
       ]
      },
      {
       "output_type": "stream",
       "stream": "stdout",
       "text": [
        " 659\n",
        "::::::::::::::::::::::::::::::::::::::::::::: 100\n",
        "3.14517688751\n",
        "3.207862854"
       ]
      },
      {
       "output_type": "stream",
       "stream": "stderr",
       "text": [
        "DEBUG:FFC:Reusing form from cache.\n"
       ]
      },
      {
       "output_type": "stream",
       "stream": "stderr",
       "text": [
        "DEBUG:FFC:Reusing form from cache.\n"
       ]
      },
      {
       "output_type": "stream",
       "stream": "stderr",
       "text": [
        "DEBUG:FFC:Reusing form from cache.\n"
       ]
      },
      {
       "output_type": "stream",
       "stream": "stderr",
       "text": [
        "DEBUG:FFC:Reusing form from cache.\n"
       ]
      },
      {
       "output_type": "stream",
       "stream": "stderr",
       "text": [
        "DEBUG:FFC:Reusing form from cache.\n"
       ]
      },
      {
       "output_type": "stream",
       "stream": "stderr",
       "text": [
        "INFO:FFC:Adjusting missing element domain to Domain(Cell('triangle', 2), 'triangle_multiverse', 2, 2).\n"
       ]
      },
      {
       "output_type": "stream",
       "stream": "stderr",
       "text": [
        "INFO:FFC:Adjusting element degree from ? to 2\n"
       ]
      },
      {
       "output_type": "stream",
       "stream": "stderr",
       "text": [
        "INFO:FFC:Adjusting missing element domain to Domain(Cell('triangle', 2), 'triangle_multiverse', 2, 2).\n"
       ]
      },
      {
       "output_type": "stream",
       "stream": "stderr",
       "text": [
        "INFO:FFC:Adjusting element degree from ? to 2\n"
       ]
      },
      {
       "output_type": "stream",
       "stream": "stderr",
       "text": [
        "INFO:FFC:Adjusting missing element domain to Domain(Cell('triangle', 2), 'triangle_multiverse', 2, 2).\n"
       ]
      },
      {
       "output_type": "stream",
       "stream": "stderr",
       "text": [
        "INFO:FFC:Adjusting element degree from ? to 2\n"
       ]
      },
      {
       "output_type": "stream",
       "stream": "stderr",
       "text": [
        "INFO:FFC:Adjusting missing element domain to Domain(Cell('triangle', 2), 'triangle_multiverse', 2, 2).\n"
       ]
      },
      {
       "output_type": "stream",
       "stream": "stderr",
       "text": [
        "INFO:FFC:Adjusting element degree from ? to 2\n"
       ]
      },
      {
       "output_type": "stream",
       "stream": "stderr",
       "text": [
        "INFO:FFC:Adjusting missing element domain to Domain(Cell('triangle', 2), 'triangle_multiverse', 2, 2).\n"
       ]
      },
      {
       "output_type": "stream",
       "stream": "stderr",
       "text": [
        "INFO:FFC:Adjusting element degree from ? to 2\n"
       ]
      },
      {
       "output_type": "stream",
       "stream": "stderr",
       "text": [
        "INFO:FFC:Adjusting missing element domain to Domain(Cell('triangle', 2), 'triangle_multiverse', 2, 2).\n"
       ]
      },
      {
       "output_type": "stream",
       "stream": "stderr",
       "text": [
        "INFO:FFC:Adjusting element degree from ? to 2\n"
       ]
      },
      {
       "output_type": "stream",
       "stream": "stderr",
       "text": [
        "INFO:FFC:Adjusting missing element domain to Domain(Cell('triangle', 2), 'triangle_multiverse', 2, 2).\n"
       ]
      },
      {
       "output_type": "stream",
       "stream": "stderr",
       "text": [
        "INFO:FFC:Adjusting element degree from ? to 2\n"
       ]
      },
      {
       "output_type": "stream",
       "stream": "stderr",
       "text": [
        "INFO:FFC:Adjusting missing element domain to Domain(Cell('triangle', 2), 'triangle_multiverse', 2, 2).\n"
       ]
      },
      {
       "output_type": "stream",
       "stream": "stderr",
       "text": [
        "INFO:FFC:Adjusting element degree from ? to 2\n"
       ]
      },
      {
       "output_type": "stream",
       "stream": "stderr",
       "text": [
        "INFO:FFC:Adjusting missing element domain to Domain(Cell('triangle', 2), 'triangle_multiverse', 2, 2).\n"
       ]
      },
      {
       "output_type": "stream",
       "stream": "stderr",
       "text": [
        "INFO:FFC:Adjusting element degree from ? to 2\n"
       ]
      },
      {
       "output_type": "stream",
       "stream": "stderr",
       "text": [
        "DEBUG:FFC:Reusing form from cache.\n"
       ]
      },
      {
       "output_type": "stream",
       "stream": "stderr",
       "text": [
        "DEBUG:FFC:Reusing form from cache.\n"
       ]
      },
      {
       "output_type": "stream",
       "stream": "stderr",
       "text": [
        "INFO:FFC:Adjusting missing element domain to Domain(Cell('triangle', 2), 'triangle_multiverse', 2, 2).\n"
       ]
      },
      {
       "output_type": "stream",
       "stream": "stderr",
       "text": [
        "INFO:FFC:Adjusting element degree from ? to 2\n"
       ]
      },
      {
       "output_type": "stream",
       "stream": "stderr",
       "text": [
        "INFO:FFC:Adjusting missing element domain to Domain(Cell('triangle', 2), 'triangle_multiverse', 2, 2).\n"
       ]
      },
      {
       "output_type": "stream",
       "stream": "stderr",
       "text": [
        "INFO:FFC:Adjusting element degree from ? to 2\n"
       ]
      },
      {
       "output_type": "stream",
       "stream": "stderr",
       "text": [
        "INFO:FFC:Adjusting missing element domain to Domain(Cell('triangle', 2), 'triangle_multiverse', 2, 2).\n"
       ]
      },
      {
       "output_type": "stream",
       "stream": "stderr",
       "text": [
        "INFO:FFC:Adjusting element degree from ? to 2\n"
       ]
      },
      {
       "output_type": "stream",
       "stream": "stderr",
       "text": [
        "INFO:FFC:Adjusting missing element domain to Domain(Cell('triangle', 2), 'triangle_multiverse', 2, 2).\n"
       ]
      },
      {
       "output_type": "stream",
       "stream": "stderr",
       "text": [
        "INFO:FFC:Adjusting element degree from ? to 2\n"
       ]
      },
      {
       "output_type": "stream",
       "stream": "stderr",
       "text": [
        "INFO:FFC:Adjusting missing element domain to Domain(Cell('triangle', 2), 'triangle_multiverse', 2, 2).\n"
       ]
      },
      {
       "output_type": "stream",
       "stream": "stderr",
       "text": [
        "INFO:FFC:Adjusting element degree from ? to 2\n"
       ]
      },
      {
       "output_type": "stream",
       "stream": "stderr",
       "text": [
        "INFO:FFC:Adjusting missing element domain to Domain(Cell('triangle', 2), 'triangle_multiverse', 2, 2).\n"
       ]
      },
      {
       "output_type": "stream",
       "stream": "stderr",
       "text": [
        "INFO:FFC:Adjusting element degree from ? to 2\n"
       ]
      },
      {
       "output_type": "stream",
       "stream": "stderr",
       "text": [
        "INFO:FFC:Adjusting missing element domain to Domain(Cell('triangle', 2), 'triangle_multiverse', 2, 2).\n"
       ]
      },
      {
       "output_type": "stream",
       "stream": "stderr",
       "text": [
        "INFO:FFC:Adjusting element degree from ? to 2\n"
       ]
      },
      {
       "output_type": "stream",
       "stream": "stderr",
       "text": [
        "INFO:FFC:Adjusting missing element domain to Domain(Cell('triangle', 2), 'triangle_multiverse', 2, 2).\n"
       ]
      },
      {
       "output_type": "stream",
       "stream": "stderr",
       "text": [
        "INFO:FFC:Adjusting element degree from ? to 2\n"
       ]
      },
      {
       "output_type": "stream",
       "stream": "stderr",
       "text": [
        "INFO:FFC:Adjusting missing element domain to Domain(Cell('triangle', 2), 'triangle_multiverse', 2, 2).\n"
       ]
      },
      {
       "output_type": "stream",
       "stream": "stderr",
       "text": [
        "INFO:FFC:Adjusting element degree from ? to 2\n"
       ]
      },
      {
       "output_type": "stream",
       "stream": "stderr",
       "text": [
        "DEBUG:UFL:No integrals left after transformation, returning empty form.\n"
       ]
      },
      {
       "output_type": "stream",
       "stream": "stderr",
       "text": [
        "DEBUG:FFC:Reusing form from cache.\n"
       ]
      },
      {
       "output_type": "stream",
       "stream": "stderr",
       "text": [
        "DEBUG:FFC:Reusing form from cache.\n"
       ]
      },
      {
       "output_type": "stream",
       "stream": "stdout",
       "text": [
        "\n",
        "::::::::::::::::::::::::::::::::::::::::::::: 100\n",
        "14.1892178764\n",
        "1.04514361169\n",
        "0.697471847792\n",
        "0.658331121844\n",
        "0.657453439855\n",
        "0.655255698145\n",
        "0.655184019786\n",
        "0.653793716509\n",
        "0.651957247306\n",
        "0.651748608365\n",
        "0.65108061892\n",
        "0.650886308129\n",
        "0.650565294431\n",
        "0.650168040421\n",
        "0.649984110218\n",
        "0.649492333814\n",
        "0.649224344784\n",
        "0.649154057744\n",
        "0.649139005566\n",
        "0.647390401761\n",
        "0.646563760606\n",
        "0.646202874722\n",
        "0.646190028085\n",
        "0.646097351881\n",
        "0.645948956781\n",
        "0.645913365455\n",
        "0.645833639603\n",
        "0.64559814311\n",
        "0.643696941849\n",
        "0.643222709351\n",
        "0.643221432682\n",
        "0.643221432682\n",
        "0.64322143268\n",
        "0.643221432678\n",
        "0.643221432674\n",
        "0.643221432638\n",
        "0.643221432619\n",
        "0.643221432615\n",
        "0.6432214326\n",
        "0.643221432582\n",
        "0.643221432533\n",
        "0.643221432533\n",
        "0.643221432465\n",
        "0.643221432423\n",
        "0.643221432421\n",
        "0.643221431226\n",
        "0.643221430677\n",
        "0.643221427925\n",
        "0.643221427722\n",
        "0.643221426708\n",
        "0.643221419344\n",
        "0.643221403292\n",
        "0.643221403284\n",
        "0.643221370942\n",
        "0.643221293858\n",
        "0.643221271994\n",
        "0.643220842325\n",
        "0.643219134179\n",
        "0.643218816396\n",
        "0.643214445631\n",
        "0.64320679988\n",
        "0.64320679988\n",
        "0.64320679987\n",
        "0.643206799833\n",
        "0.643206799776\n",
        "0.64320679977\n",
        "0.643206799747\n",
        "0.643206799743\n",
        "0.643206799721\n",
        "0.643206799661\n",
        "0.643206799641\n",
        "0.643206799637\n",
        "0.643206799617\n",
        "0.643206799453\n",
        "0.643206798691\n",
        "0.643206798691\n",
        "0.643206798659\n",
        "0.643206798583\n",
        "0.643206798178\n",
        "0.643206798022\n",
        "0.643206797842\n",
        "0.643206796423\n",
        "0.643206795271\n",
        "0.643206795266\n",
        "0.643206781628\n",
        "0.643206774267\n",
        "0.64320677238\n",
        "0.643206768503\n",
        "0.643206768389\n",
        "0.643206362513\n",
        "0.643205966631\n",
        "0.643205966631\n",
        "0.643205966631\n",
        "0.643205966629\n",
        "0.643205966628\n",
        "0.643205966628\n",
        "0.643205966628\n",
        "0.643205966627\n",
        "0.643205966626\n",
        "0.643205966623\n",
        "0.643205966622\n",
        "\n",
        "\n",
        "\n",
        "iter=5: norm=1.71422e-05\n",
        "0.00105711495212\n",
        "0.0325870513916\n",
        "<petsc4py.PETSc.Mat object at 0x7539a10>\n",
        "#####################"
       ]
      },
      {
       "output_type": "stream",
       "stream": "stdout",
       "text": [
        " 659\n",
        "#####################"
       ]
      },
      {
       "output_type": "stream",
       "stream": "stderr",
       "text": [
        "DEBUG:FFC:Reusing form from cache.\n"
       ]
      },
      {
       "output_type": "stream",
       "stream": "stdout",
       "text": [
        " 659\n",
        "::::::::::::::::::::::::::::::::::::::::::::: 100\n",
        "3.1312019825\n",
        "3.19346499443"
       ]
      },
      {
       "output_type": "stream",
       "stream": "stderr",
       "text": [
        "DEBUG:FFC:Reusing form from cache.\n"
       ]
      },
      {
       "output_type": "stream",
       "stream": "stderr",
       "text": [
        "DEBUG:FFC:Reusing form from cache.\n"
       ]
      },
      {
       "output_type": "stream",
       "stream": "stderr",
       "text": [
        "DEBUG:FFC:Reusing form from cache.\n"
       ]
      },
      {
       "output_type": "stream",
       "stream": "stderr",
       "text": [
        "DEBUG:FFC:Reusing form from cache.\n"
       ]
      },
      {
       "output_type": "stream",
       "stream": "stderr",
       "text": [
        "DEBUG:FFC:Reusing form from cache.\n"
       ]
      },
      {
       "output_type": "stream",
       "stream": "stderr",
       "text": [
        "INFO:FFC:Adjusting missing element domain to Domain(Cell('triangle', 2), 'triangle_multiverse', 2, 2).\n"
       ]
      },
      {
       "output_type": "stream",
       "stream": "stderr",
       "text": [
        "INFO:FFC:Adjusting element degree from ? to 2\n"
       ]
      },
      {
       "output_type": "stream",
       "stream": "stderr",
       "text": [
        "INFO:FFC:Adjusting missing element domain to Domain(Cell('triangle', 2), 'triangle_multiverse', 2, 2).\n"
       ]
      },
      {
       "output_type": "stream",
       "stream": "stderr",
       "text": [
        "INFO:FFC:Adjusting element degree from ? to 2\n"
       ]
      },
      {
       "output_type": "stream",
       "stream": "stderr",
       "text": [
        "INFO:FFC:Adjusting missing element domain to Domain(Cell('triangle', 2), 'triangle_multiverse', 2, 2).\n"
       ]
      },
      {
       "output_type": "stream",
       "stream": "stderr",
       "text": [
        "INFO:FFC:Adjusting element degree from ? to 2\n"
       ]
      },
      {
       "output_type": "stream",
       "stream": "stderr",
       "text": [
        "INFO:FFC:Adjusting missing element domain to Domain(Cell('triangle', 2), 'triangle_multiverse', 2, 2).\n"
       ]
      },
      {
       "output_type": "stream",
       "stream": "stderr",
       "text": [
        "INFO:FFC:Adjusting element degree from ? to 2\n"
       ]
      },
      {
       "output_type": "stream",
       "stream": "stderr",
       "text": [
        "INFO:FFC:Adjusting missing element domain to Domain(Cell('triangle', 2), 'triangle_multiverse', 2, 2).\n"
       ]
      },
      {
       "output_type": "stream",
       "stream": "stderr",
       "text": [
        "INFO:FFC:Adjusting element degree from ? to 2\n"
       ]
      },
      {
       "output_type": "stream",
       "stream": "stderr",
       "text": [
        "INFO:FFC:Adjusting missing element domain to Domain(Cell('triangle', 2), 'triangle_multiverse', 2, 2).\n"
       ]
      },
      {
       "output_type": "stream",
       "stream": "stderr",
       "text": [
        "INFO:FFC:Adjusting element degree from ? to 2\n"
       ]
      },
      {
       "output_type": "stream",
       "stream": "stderr",
       "text": [
        "INFO:FFC:Adjusting missing element domain to Domain(Cell('triangle', 2), 'triangle_multiverse', 2, 2).\n"
       ]
      },
      {
       "output_type": "stream",
       "stream": "stderr",
       "text": [
        "INFO:FFC:Adjusting element degree from ? to 2\n"
       ]
      },
      {
       "output_type": "stream",
       "stream": "stderr",
       "text": [
        "INFO:FFC:Adjusting missing element domain to Domain(Cell('triangle', 2), 'triangle_multiverse', 2, 2).\n"
       ]
      },
      {
       "output_type": "stream",
       "stream": "stderr",
       "text": [
        "INFO:FFC:Adjusting element degree from ? to 2\n"
       ]
      },
      {
       "output_type": "stream",
       "stream": "stderr",
       "text": [
        "INFO:FFC:Adjusting missing element domain to Domain(Cell('triangle', 2), 'triangle_multiverse', 2, 2).\n"
       ]
      },
      {
       "output_type": "stream",
       "stream": "stderr",
       "text": [
        "INFO:FFC:Adjusting element degree from ? to 2\n"
       ]
      },
      {
       "output_type": "stream",
       "stream": "stderr",
       "text": [
        "DEBUG:FFC:Reusing form from cache.\n"
       ]
      },
      {
       "output_type": "stream",
       "stream": "stderr",
       "text": [
        "DEBUG:FFC:Reusing form from cache.\n"
       ]
      },
      {
       "output_type": "stream",
       "stream": "stderr",
       "text": [
        "INFO:FFC:Adjusting missing element domain to Domain(Cell('triangle', 2), 'triangle_multiverse', 2, 2).\n"
       ]
      },
      {
       "output_type": "stream",
       "stream": "stderr",
       "text": [
        "INFO:FFC:Adjusting element degree from ? to 2\n"
       ]
      },
      {
       "output_type": "stream",
       "stream": "stderr",
       "text": [
        "INFO:FFC:Adjusting missing element domain to Domain(Cell('triangle', 2), 'triangle_multiverse', 2, 2).\n"
       ]
      },
      {
       "output_type": "stream",
       "stream": "stderr",
       "text": [
        "INFO:FFC:Adjusting element degree from ? to 2\n"
       ]
      },
      {
       "output_type": "stream",
       "stream": "stderr",
       "text": [
        "INFO:FFC:Adjusting missing element domain to Domain(Cell('triangle', 2), 'triangle_multiverse', 2, 2).\n"
       ]
      },
      {
       "output_type": "stream",
       "stream": "stderr",
       "text": [
        "INFO:FFC:Adjusting element degree from ? to 2\n"
       ]
      },
      {
       "output_type": "stream",
       "stream": "stderr",
       "text": [
        "INFO:FFC:Adjusting missing element domain to Domain(Cell('triangle', 2), 'triangle_multiverse', 2, 2).\n"
       ]
      },
      {
       "output_type": "stream",
       "stream": "stderr",
       "text": [
        "INFO:FFC:Adjusting element degree from ? to 2\n"
       ]
      },
      {
       "output_type": "stream",
       "stream": "stderr",
       "text": [
        "INFO:FFC:Adjusting missing element domain to Domain(Cell('triangle', 2), 'triangle_multiverse', 2, 2).\n"
       ]
      },
      {
       "output_type": "stream",
       "stream": "stderr",
       "text": [
        "INFO:FFC:Adjusting element degree from ? to 2\n"
       ]
      },
      {
       "output_type": "stream",
       "stream": "stderr",
       "text": [
        "INFO:FFC:Adjusting missing element domain to Domain(Cell('triangle', 2), 'triangle_multiverse', 2, 2).\n"
       ]
      },
      {
       "output_type": "stream",
       "stream": "stderr",
       "text": [
        "INFO:FFC:Adjusting element degree from ? to 2\n"
       ]
      },
      {
       "output_type": "stream",
       "stream": "stderr",
       "text": [
        "INFO:FFC:Adjusting missing element domain to Domain(Cell('triangle', 2), 'triangle_multiverse', 2, 2).\n"
       ]
      },
      {
       "output_type": "stream",
       "stream": "stderr",
       "text": [
        "INFO:FFC:Adjusting element degree from ? to 2\n"
       ]
      },
      {
       "output_type": "stream",
       "stream": "stderr",
       "text": [
        "INFO:FFC:Adjusting missing element domain to Domain(Cell('triangle', 2), 'triangle_multiverse', 2, 2).\n"
       ]
      },
      {
       "output_type": "stream",
       "stream": "stderr",
       "text": [
        "INFO:FFC:Adjusting element degree from ? to 2\n"
       ]
      },
      {
       "output_type": "stream",
       "stream": "stderr",
       "text": [
        "INFO:FFC:Adjusting missing element domain to Domain(Cell('triangle', 2), 'triangle_multiverse', 2, 2).\n"
       ]
      },
      {
       "output_type": "stream",
       "stream": "stderr",
       "text": [
        "INFO:FFC:Adjusting element degree from ? to 2\n"
       ]
      },
      {
       "output_type": "stream",
       "stream": "stderr",
       "text": [
        "DEBUG:UFL:No integrals left after transformation, returning empty form.\n"
       ]
      },
      {
       "output_type": "stream",
       "stream": "stderr",
       "text": [
        "DEBUG:FFC:Reusing form from cache.\n"
       ]
      },
      {
       "output_type": "stream",
       "stream": "stderr",
       "text": [
        "DEBUG:FFC:Reusing form from cache.\n"
       ]
      },
      {
       "output_type": "stream",
       "stream": "stdout",
       "text": [
        "\n",
        "::::::::::::::::::::::::::::::::::::::::::::: 100\n",
        "0.857036732218\n",
        "0.854055149616\n",
        "0.776795311116\n",
        "0.775395119351\n",
        "0.741068187783\n",
        "0.741067606788\n",
        "0.73649108047\n",
        "0.730524587291\n",
        "0.727704363243\n",
        "0.714656372295\n",
        "0.696898310335\n",
        "0.695610980077\n",
        "0.69536706499\n",
        "0.695289464129\n",
        "0.694653796233\n",
        "0.690643625952\n",
        "0.688824328872\n",
        "0.688399868148\n",
        "0.688171212353\n",
        "0.688120282851\n",
        "0.685378674133\n",
        "0.677467915726\n",
        "0.670003307656\n",
        "0.664361525817\n",
        "0.664045222187\n",
        "0.663852528545\n",
        "0.663362782154\n",
        "0.661716200869\n",
        "0.661711092592\n",
        "0.661705217646\n",
        "0.650742187301\n",
        "0.650742110854\n",
        "0.650742093961\n",
        "0.650742081879\n",
        "0.650741452237\n",
        "0.650741415197\n",
        "0.650741389145\n",
        "0.650740701629\n",
        "0.650740689622\n",
        "0.650739509881\n",
        "0.650738829859\n",
        "0.650738363541\n",
        "0.650737365184\n",
        "0.650737113053\n",
        "0.650737087815\n",
        "0.650736579285\n",
        "0.650736094852\n",
        "0.65073563061\n",
        "0.650735311605\n",
        "0.650735297885\n",
        "0.650734651351\n",
        "0.650734131329\n",
        "0.650733635549\n",
        "0.650733231042\n",
        "0.650732779989\n",
        "0.650732524571\n",
        "0.65073252406\n",
        "0.650724156855\n",
        "0.650697484672\n",
        "0.650694805769\n",
        "0.650509573327\n",
        "0.650509573212\n",
        "0.650509573197\n",
        "0.650509573197\n",
        "0.650509572461\n",
        "0.650509572454\n",
        "0.650509572453\n",
        "0.650509571673\n",
        "0.650509571671\n",
        "0.650509570844\n",
        "0.650509569505\n",
        "0.65050956948\n",
        "0.650509568498\n",
        "0.650509568098\n",
        "0.650509567847\n",
        "0.650509567029\n",
        "0.650509566297\n",
        "0.650509565526\n",
        "0.650509565389\n",
        "0.650509565312\n",
        "0.650509564702\n",
        "0.650509563681\n",
        "0.650509562594\n",
        "0.650509562251\n",
        "0.650509561868\n",
        "0.650509561429\n",
        "0.650509561425\n",
        "0.650509546083\n",
        "0.65050951578\n",
        "0.650509501365\n",
        "0.650509201997\n",
        "0.650509201997\n",
        "0.650509201997\n",
        "0.650509201997\n",
        "0.650509201997\n",
        "0.650509201997\n",
        "0.650509201997\n",
        "0.650509201996\n",
        "0.650509201996\n",
        "0.650509201995\n",
        "0.650509201994\n",
        "\n",
        "\n",
        "\n",
        "iter=6: norm=0.000173711\n",
        "0.0021541598169\n",
        "0.0324759483337\n",
        "<petsc4py.PETSc.Mat object at 0x89c2e90>\n",
        "#####################"
       ]
      },
      {
       "output_type": "stream",
       "stream": "stdout",
       "text": [
        " 659\n",
        "#####################"
       ]
      },
      {
       "output_type": "stream",
       "stream": "stderr",
       "text": [
        "DEBUG:FFC:Reusing form from cache.\n"
       ]
      },
      {
       "output_type": "stream",
       "stream": "stdout",
       "text": [
        " 659\n",
        "::::::::::::::::::::::::::::::::::::::::::::: 100\n",
        "3.17217898369\n",
        "3.23378205299"
       ]
      },
      {
       "output_type": "stream",
       "stream": "stderr",
       "text": [
        "DEBUG:FFC:Reusing form from cache.\n"
       ]
      },
      {
       "output_type": "stream",
       "stream": "stderr",
       "text": [
        "DEBUG:FFC:Reusing form from cache.\n"
       ]
      },
      {
       "output_type": "stream",
       "stream": "stderr",
       "text": [
        "DEBUG:FFC:Reusing form from cache.\n"
       ]
      },
      {
       "output_type": "stream",
       "stream": "stderr",
       "text": [
        "DEBUG:FFC:Reusing form from cache.\n"
       ]
      },
      {
       "output_type": "stream",
       "stream": "stderr",
       "text": [
        "DEBUG:FFC:Reusing form from cache.\n"
       ]
      },
      {
       "output_type": "stream",
       "stream": "stderr",
       "text": [
        "INFO:FFC:Adjusting missing element domain to Domain(Cell('triangle', 2), 'triangle_multiverse', 2, 2).\n"
       ]
      },
      {
       "output_type": "stream",
       "stream": "stderr",
       "text": [
        "INFO:FFC:Adjusting element degree from ? to 2\n"
       ]
      },
      {
       "output_type": "stream",
       "stream": "stderr",
       "text": [
        "INFO:FFC:Adjusting missing element domain to Domain(Cell('triangle', 2), 'triangle_multiverse', 2, 2).\n"
       ]
      },
      {
       "output_type": "stream",
       "stream": "stderr",
       "text": [
        "INFO:FFC:Adjusting element degree from ? to 2\n"
       ]
      },
      {
       "output_type": "stream",
       "stream": "stderr",
       "text": [
        "INFO:FFC:Adjusting missing element domain to Domain(Cell('triangle', 2), 'triangle_multiverse', 2, 2).\n"
       ]
      },
      {
       "output_type": "stream",
       "stream": "stderr",
       "text": [
        "INFO:FFC:Adjusting element degree from ? to 2\n"
       ]
      },
      {
       "output_type": "stream",
       "stream": "stderr",
       "text": [
        "INFO:FFC:Adjusting missing element domain to Domain(Cell('triangle', 2), 'triangle_multiverse', 2, 2).\n"
       ]
      },
      {
       "output_type": "stream",
       "stream": "stderr",
       "text": [
        "INFO:FFC:Adjusting element degree from ? to 2\n"
       ]
      },
      {
       "output_type": "stream",
       "stream": "stderr",
       "text": [
        "INFO:FFC:Adjusting missing element domain to Domain(Cell('triangle', 2), 'triangle_multiverse', 2, 2).\n"
       ]
      },
      {
       "output_type": "stream",
       "stream": "stderr",
       "text": [
        "INFO:FFC:Adjusting element degree from ? to 2\n"
       ]
      },
      {
       "output_type": "stream",
       "stream": "stderr",
       "text": [
        "INFO:FFC:Adjusting missing element domain to Domain(Cell('triangle', 2), 'triangle_multiverse', 2, 2).\n"
       ]
      },
      {
       "output_type": "stream",
       "stream": "stderr",
       "text": [
        "INFO:FFC:Adjusting element degree from ? to 2\n"
       ]
      },
      {
       "output_type": "stream",
       "stream": "stderr",
       "text": [
        "INFO:FFC:Adjusting missing element domain to Domain(Cell('triangle', 2), 'triangle_multiverse', 2, 2).\n"
       ]
      },
      {
       "output_type": "stream",
       "stream": "stderr",
       "text": [
        "INFO:FFC:Adjusting element degree from ? to 2\n"
       ]
      },
      {
       "output_type": "stream",
       "stream": "stderr",
       "text": [
        "INFO:FFC:Adjusting missing element domain to Domain(Cell('triangle', 2), 'triangle_multiverse', 2, 2).\n"
       ]
      },
      {
       "output_type": "stream",
       "stream": "stderr",
       "text": [
        "INFO:FFC:Adjusting element degree from ? to 2\n"
       ]
      },
      {
       "output_type": "stream",
       "stream": "stderr",
       "text": [
        "INFO:FFC:Adjusting missing element domain to Domain(Cell('triangle', 2), 'triangle_multiverse', 2, 2).\n"
       ]
      },
      {
       "output_type": "stream",
       "stream": "stderr",
       "text": [
        "INFO:FFC:Adjusting element degree from ? to 2\n"
       ]
      },
      {
       "output_type": "stream",
       "stream": "stderr",
       "text": [
        "DEBUG:FFC:Reusing form from cache.\n"
       ]
      },
      {
       "output_type": "stream",
       "stream": "stderr",
       "text": [
        "DEBUG:FFC:Reusing form from cache.\n"
       ]
      },
      {
       "output_type": "stream",
       "stream": "stderr",
       "text": [
        "INFO:FFC:Adjusting missing element domain to Domain(Cell('triangle', 2), 'triangle_multiverse', 2, 2).\n"
       ]
      },
      {
       "output_type": "stream",
       "stream": "stderr",
       "text": [
        "INFO:FFC:Adjusting element degree from ? to 2\n"
       ]
      },
      {
       "output_type": "stream",
       "stream": "stderr",
       "text": [
        "INFO:FFC:Adjusting missing element domain to Domain(Cell('triangle', 2), 'triangle_multiverse', 2, 2).\n"
       ]
      },
      {
       "output_type": "stream",
       "stream": "stderr",
       "text": [
        "INFO:FFC:Adjusting element degree from ? to 2\n"
       ]
      },
      {
       "output_type": "stream",
       "stream": "stderr",
       "text": [
        "INFO:FFC:Adjusting missing element domain to Domain(Cell('triangle', 2), 'triangle_multiverse', 2, 2).\n"
       ]
      },
      {
       "output_type": "stream",
       "stream": "stderr",
       "text": [
        "INFO:FFC:Adjusting element degree from ? to 2\n"
       ]
      },
      {
       "output_type": "stream",
       "stream": "stderr",
       "text": [
        "INFO:FFC:Adjusting missing element domain to Domain(Cell('triangle', 2), 'triangle_multiverse', 2, 2).\n"
       ]
      },
      {
       "output_type": "stream",
       "stream": "stderr",
       "text": [
        "INFO:FFC:Adjusting element degree from ? to 2\n"
       ]
      },
      {
       "output_type": "stream",
       "stream": "stderr",
       "text": [
        "INFO:FFC:Adjusting missing element domain to Domain(Cell('triangle', 2), 'triangle_multiverse', 2, 2).\n"
       ]
      },
      {
       "output_type": "stream",
       "stream": "stderr",
       "text": [
        "INFO:FFC:Adjusting element degree from ? to 2\n"
       ]
      },
      {
       "output_type": "stream",
       "stream": "stderr",
       "text": [
        "INFO:FFC:Adjusting missing element domain to Domain(Cell('triangle', 2), 'triangle_multiverse', 2, 2).\n"
       ]
      },
      {
       "output_type": "stream",
       "stream": "stderr",
       "text": [
        "INFO:FFC:Adjusting element degree from ? to 2\n"
       ]
      },
      {
       "output_type": "stream",
       "stream": "stderr",
       "text": [
        "INFO:FFC:Adjusting missing element domain to Domain(Cell('triangle', 2), 'triangle_multiverse', 2, 2).\n"
       ]
      },
      {
       "output_type": "stream",
       "stream": "stderr",
       "text": [
        "INFO:FFC:Adjusting element degree from ? to 2\n"
       ]
      },
      {
       "output_type": "stream",
       "stream": "stderr",
       "text": [
        "INFO:FFC:Adjusting missing element domain to Domain(Cell('triangle', 2), 'triangle_multiverse', 2, 2).\n"
       ]
      },
      {
       "output_type": "stream",
       "stream": "stderr",
       "text": [
        "INFO:FFC:Adjusting element degree from ? to 2\n"
       ]
      },
      {
       "output_type": "stream",
       "stream": "stderr",
       "text": [
        "INFO:FFC:Adjusting missing element domain to Domain(Cell('triangle', 2), 'triangle_multiverse', 2, 2).\n"
       ]
      },
      {
       "output_type": "stream",
       "stream": "stderr",
       "text": [
        "INFO:FFC:Adjusting element degree from ? to 2\n"
       ]
      },
      {
       "output_type": "stream",
       "stream": "stderr",
       "text": [
        "DEBUG:UFL:No integrals left after transformation, returning empty form.\n"
       ]
      },
      {
       "output_type": "stream",
       "stream": "stderr",
       "text": [
        "DEBUG:FFC:Reusing form from cache.\n"
       ]
      },
      {
       "output_type": "stream",
       "stream": "stderr",
       "text": [
        "DEBUG:FFC:Reusing form from cache.\n"
       ]
      },
      {
       "output_type": "stream",
       "stream": "stdout",
       "text": [
        "\n",
        "::::::::::::::::::::::::::::::::::::::::::::: 100\n",
        "2.10703773591\n",
        "1.6889475458\n",
        "1.68664656063\n",
        "0.794948921708\n",
        "0.782096549534\n",
        "0.739085627959\n",
        "0.734873920017\n",
        "0.72691179906\n",
        "0.697303765558\n",
        "0.686073039159\n",
        "0.680006949273\n",
        "0.679836994682\n",
        "0.677240633578\n",
        "0.677186330751\n",
        "0.677029520863\n",
        "0.676922634441\n",
        "0.676844100942\n",
        "0.674986248371\n",
        "0.674339243612\n",
        "0.673958150092\n",
        "0.671704754963\n",
        "0.669230731251\n",
        "0.669142643886\n",
        "0.659194877555\n",
        "0.658069346772\n",
        "0.656490028748\n",
        "0.655980712767\n",
        "0.655980397914\n",
        "0.655929286954\n",
        "0.655892088904\n",
        "0.655196261488\n",
        "0.655196261451\n",
        "0.655196261402\n",
        "0.65519626134\n",
        "0.655196260781\n",
        "0.655196240845\n",
        "0.655196194107\n",
        "0.655196192561\n",
        "0.655196177675\n",
        "0.655196173223\n",
        "0.655196172443\n",
        "0.655196171934\n",
        "0.655196171907\n",
        "0.655196157418\n",
        "0.65519609139\n",
        "0.655195344212\n",
        "0.655195338415\n",
        "0.655195331427\n",
        "0.655194098413\n",
        "0.655194067658\n",
        "0.655193103772\n",
        "0.655193042508\n",
        "0.65519248586\n",
        "0.655191224862\n",
        "0.65519096271\n",
        "0.655186164899\n",
        "0.655156411871\n",
        "0.655145829498\n",
        "0.655143622837\n",
        "0.655110957865\n",
        "0.65508122025\n",
        "0.655081220226\n",
        "0.655081220223\n",
        "0.65508122022\n",
        "0.655081219556\n",
        "0.655081219548\n",
        "0.655081219541\n",
        "0.655081219473\n",
        "0.655081219452\n",
        "0.655081219306\n",
        "0.655081219255\n",
        "0.655081219172\n",
        "0.655081219076\n",
        "0.655081217785\n",
        "0.655081216653\n",
        "0.65508121309\n",
        "0.655081213086\n",
        "0.655081210622\n",
        "0.655081210078\n",
        "0.655081201694\n",
        "0.65508119686\n",
        "0.655081190987\n",
        "0.655081177147\n",
        "0.655081167342\n",
        "0.65508111929\n",
        "0.655081118105\n",
        "0.655080694007\n",
        "0.655079675278\n",
        "0.655079404892\n",
        "0.655074848562\n",
        "0.655063924679\n",
        "0.655063924624\n",
        "0.655063924619\n",
        "0.65506392461\n",
        "0.655063923152\n",
        "0.655063923125\n",
        "0.655063922972\n",
        "0.655063922842\n",
        "0.655063922827\n",
        "0.655063922708\n",
        "0.655063922601\n",
        "\n",
        "\n",
        "\n",
        "iter=7: norm=0.000132445\n",
        "0.00544994693033\n",
        "0.032488822937\n",
        "<petsc4py.PETSc.Mat object at 0x89ca2f0>\n",
        "#####################"
       ]
      },
      {
       "output_type": "stream",
       "stream": "stdout",
       "text": [
        " 659\n",
        "#####################"
       ]
      },
      {
       "output_type": "stream",
       "stream": "stderr",
       "text": [
        "DEBUG:FFC:Reusing form from cache.\n"
       ]
      },
      {
       "output_type": "stream",
       "stream": "stdout",
       "text": [
        " 659\n",
        "::::::::::::::::::::::::::::::::::::::::::::: 100\n",
        "3.25542092323\n",
        "3.3165128231"
       ]
      },
      {
       "output_type": "stream",
       "stream": "stderr",
       "text": [
        "DEBUG:FFC:Reusing form from cache.\n"
       ]
      },
      {
       "output_type": "stream",
       "stream": "stderr",
       "text": [
        "DEBUG:FFC:Reusing form from cache.\n"
       ]
      },
      {
       "output_type": "stream",
       "stream": "stderr",
       "text": [
        "DEBUG:FFC:Reusing form from cache.\n"
       ]
      },
      {
       "output_type": "stream",
       "stream": "stderr",
       "text": [
        "DEBUG:FFC:Reusing form from cache.\n"
       ]
      },
      {
       "output_type": "stream",
       "stream": "stderr",
       "text": [
        "DEBUG:FFC:Reusing form from cache.\n"
       ]
      },
      {
       "output_type": "stream",
       "stream": "stderr",
       "text": [
        "INFO:FFC:Adjusting missing element domain to Domain(Cell('triangle', 2), 'triangle_multiverse', 2, 2).\n"
       ]
      },
      {
       "output_type": "stream",
       "stream": "stderr",
       "text": [
        "INFO:FFC:Adjusting element degree from ? to 2\n"
       ]
      },
      {
       "output_type": "stream",
       "stream": "stderr",
       "text": [
        "INFO:FFC:Adjusting missing element domain to Domain(Cell('triangle', 2), 'triangle_multiverse', 2, 2).\n"
       ]
      },
      {
       "output_type": "stream",
       "stream": "stderr",
       "text": [
        "INFO:FFC:Adjusting element degree from ? to 2\n"
       ]
      },
      {
       "output_type": "stream",
       "stream": "stderr",
       "text": [
        "INFO:FFC:Adjusting missing element domain to Domain(Cell('triangle', 2), 'triangle_multiverse', 2, 2).\n"
       ]
      },
      {
       "output_type": "stream",
       "stream": "stderr",
       "text": [
        "INFO:FFC:Adjusting element degree from ? to 2\n"
       ]
      },
      {
       "output_type": "stream",
       "stream": "stderr",
       "text": [
        "INFO:FFC:Adjusting missing element domain to Domain(Cell('triangle', 2), 'triangle_multiverse', 2, 2).\n"
       ]
      },
      {
       "output_type": "stream",
       "stream": "stderr",
       "text": [
        "INFO:FFC:Adjusting element degree from ? to 2\n"
       ]
      },
      {
       "output_type": "stream",
       "stream": "stderr",
       "text": [
        "INFO:FFC:Adjusting missing element domain to Domain(Cell('triangle', 2), 'triangle_multiverse', 2, 2).\n"
       ]
      },
      {
       "output_type": "stream",
       "stream": "stderr",
       "text": [
        "INFO:FFC:Adjusting element degree from ? to 2\n"
       ]
      },
      {
       "output_type": "stream",
       "stream": "stderr",
       "text": [
        "INFO:FFC:Adjusting missing element domain to Domain(Cell('triangle', 2), 'triangle_multiverse', 2, 2).\n"
       ]
      },
      {
       "output_type": "stream",
       "stream": "stderr",
       "text": [
        "INFO:FFC:Adjusting element degree from ? to 2\n"
       ]
      },
      {
       "output_type": "stream",
       "stream": "stderr",
       "text": [
        "INFO:FFC:Adjusting missing element domain to Domain(Cell('triangle', 2), 'triangle_multiverse', 2, 2).\n"
       ]
      },
      {
       "output_type": "stream",
       "stream": "stderr",
       "text": [
        "INFO:FFC:Adjusting element degree from ? to 2\n"
       ]
      },
      {
       "output_type": "stream",
       "stream": "stderr",
       "text": [
        "INFO:FFC:Adjusting missing element domain to Domain(Cell('triangle', 2), 'triangle_multiverse', 2, 2).\n"
       ]
      },
      {
       "output_type": "stream",
       "stream": "stderr",
       "text": [
        "INFO:FFC:Adjusting element degree from ? to 2\n"
       ]
      },
      {
       "output_type": "stream",
       "stream": "stderr",
       "text": [
        "INFO:FFC:Adjusting missing element domain to Domain(Cell('triangle', 2), 'triangle_multiverse', 2, 2).\n"
       ]
      },
      {
       "output_type": "stream",
       "stream": "stderr",
       "text": [
        "INFO:FFC:Adjusting element degree from ? to 2\n"
       ]
      },
      {
       "output_type": "stream",
       "stream": "stderr",
       "text": [
        "DEBUG:FFC:Reusing form from cache.\n"
       ]
      },
      {
       "output_type": "stream",
       "stream": "stderr",
       "text": [
        "DEBUG:FFC:Reusing form from cache.\n"
       ]
      },
      {
       "output_type": "stream",
       "stream": "stderr",
       "text": [
        "INFO:FFC:Adjusting missing element domain to Domain(Cell('triangle', 2), 'triangle_multiverse', 2, 2).\n"
       ]
      },
      {
       "output_type": "stream",
       "stream": "stderr",
       "text": [
        "INFO:FFC:Adjusting element degree from ? to 2\n"
       ]
      },
      {
       "output_type": "stream",
       "stream": "stderr",
       "text": [
        "INFO:FFC:Adjusting missing element domain to Domain(Cell('triangle', 2), 'triangle_multiverse', 2, 2).\n"
       ]
      },
      {
       "output_type": "stream",
       "stream": "stderr",
       "text": [
        "INFO:FFC:Adjusting element degree from ? to 2\n"
       ]
      },
      {
       "output_type": "stream",
       "stream": "stderr",
       "text": [
        "INFO:FFC:Adjusting missing element domain to Domain(Cell('triangle', 2), 'triangle_multiverse', 2, 2).\n"
       ]
      },
      {
       "output_type": "stream",
       "stream": "stderr",
       "text": [
        "INFO:FFC:Adjusting element degree from ? to 2\n"
       ]
      },
      {
       "output_type": "stream",
       "stream": "stderr",
       "text": [
        "INFO:FFC:Adjusting missing element domain to Domain(Cell('triangle', 2), 'triangle_multiverse', 2, 2).\n"
       ]
      },
      {
       "output_type": "stream",
       "stream": "stderr",
       "text": [
        "INFO:FFC:Adjusting element degree from ? to 2\n"
       ]
      },
      {
       "output_type": "stream",
       "stream": "stderr",
       "text": [
        "INFO:FFC:Adjusting missing element domain to Domain(Cell('triangle', 2), 'triangle_multiverse', 2, 2).\n"
       ]
      },
      {
       "output_type": "stream",
       "stream": "stderr",
       "text": [
        "INFO:FFC:Adjusting element degree from ? to 2\n"
       ]
      },
      {
       "output_type": "stream",
       "stream": "stderr",
       "text": [
        "INFO:FFC:Adjusting missing element domain to Domain(Cell('triangle', 2), 'triangle_multiverse', 2, 2).\n"
       ]
      },
      {
       "output_type": "stream",
       "stream": "stderr",
       "text": [
        "INFO:FFC:Adjusting element degree from ? to 2\n"
       ]
      },
      {
       "output_type": "stream",
       "stream": "stderr",
       "text": [
        "INFO:FFC:Adjusting missing element domain to Domain(Cell('triangle', 2), 'triangle_multiverse', 2, 2).\n"
       ]
      },
      {
       "output_type": "stream",
       "stream": "stderr",
       "text": [
        "INFO:FFC:Adjusting element degree from ? to 2\n"
       ]
      },
      {
       "output_type": "stream",
       "stream": "stderr",
       "text": [
        "INFO:FFC:Adjusting missing element domain to Domain(Cell('triangle', 2), 'triangle_multiverse', 2, 2).\n"
       ]
      },
      {
       "output_type": "stream",
       "stream": "stderr",
       "text": [
        "INFO:FFC:Adjusting element degree from ? to 2\n"
       ]
      },
      {
       "output_type": "stream",
       "stream": "stderr",
       "text": [
        "INFO:FFC:Adjusting missing element domain to Domain(Cell('triangle', 2), 'triangle_multiverse', 2, 2).\n"
       ]
      },
      {
       "output_type": "stream",
       "stream": "stderr",
       "text": [
        "INFO:FFC:Adjusting element degree from ? to 2\n"
       ]
      },
      {
       "output_type": "stream",
       "stream": "stderr",
       "text": [
        "DEBUG:UFL:No integrals left after transformation, returning empty form.\n"
       ]
      },
      {
       "output_type": "stream",
       "stream": "stderr",
       "text": [
        "DEBUG:FFC:Reusing form from cache.\n"
       ]
      },
      {
       "output_type": "stream",
       "stream": "stderr",
       "text": [
        "DEBUG:FFC:Reusing form from cache.\n"
       ]
      },
      {
       "output_type": "stream",
       "stream": "stdout",
       "text": [
        "\n",
        "::::::::::::::::::::::::::::::::::::::::::::: 100\n",
        "0.671801257085\n",
        "0.657284505879\n",
        "0.657195378149\n",
        "0.657194800944\n",
        "0.657044479856\n",
        "0.657006035557\n",
        "0.656188238421\n",
        "0.655882915747\n",
        "0.655716964942\n",
        "0.655712334292\n",
        "0.655709669148\n",
        "0.654585815506\n",
        "0.653879751649\n",
        "0.653877571527\n",
        "0.653048837949\n",
        "0.652615019551\n",
        "0.652591939682\n",
        "0.652589344541\n",
        "0.652569721902\n",
        "0.652442777165\n",
        "0.652422053406\n",
        "0.652387842774\n",
        "0.652387815089\n",
        "0.652310839838\n",
        "0.652309101328\n",
        "0.652226189449\n",
        "0.652224565657\n",
        "0.652213252809\n",
        "0.651752925136\n",
        "0.650369904801\n",
        "0.649615219208\n",
        "0.649615217014\n",
        "0.649615204094\n",
        "0.649615201928\n",
        "0.649615189498\n",
        "0.649615168874\n",
        "0.649615167821\n",
        "0.649615165903\n",
        "0.649615153849\n",
        "0.649615153489\n",
        "0.649615146741\n",
        "0.649615126596\n",
        "0.649615030733\n",
        "0.64961484754\n",
        "0.649614847525\n",
        "0.649614789812\n",
        "0.649614788165\n",
        "0.649614606315\n",
        "0.649614579314\n",
        "0.649614577873\n",
        "0.649614560552\n",
        "0.649614294588\n",
        "0.649614111604\n",
        "0.649613549699\n",
        "0.649613449838\n",
        "0.649613447796\n",
        "0.649613438703\n",
        "0.649612859764\n",
        "0.649606722912\n",
        "0.64959489914\n",
        "0.649535399839\n",
        "0.649535399758\n",
        "0.649535399367\n",
        "0.649535399334\n",
        "0.649535399045\n",
        "0.64953539882\n",
        "0.649535398358\n",
        "0.649535398287\n",
        "0.649535398287\n",
        "0.649535397091\n",
        "0.64953539707\n",
        "0.649535396697\n",
        "0.649535390085\n",
        "0.649535385308\n",
        "0.649535374777\n",
        "0.649535366507\n",
        "0.649535364787\n",
        "0.649535360682\n",
        "0.649535356584\n",
        "0.649535356338\n",
        "0.649535354338\n",
        "0.649535329002\n",
        "0.649535214148\n",
        "0.649535213773\n",
        "0.649535136018\n",
        "0.649533814021\n",
        "0.64953380225\n",
        "0.649533709269\n",
        "0.649532474292\n",
        "0.649512415635\n",
        "0.649499971822\n",
        "0.649499971702\n",
        "0.649499971412\n",
        "0.649499971411\n",
        "0.649499971189\n",
        "0.649499971176\n",
        "0.649499970357\n",
        "0.649499970357\n",
        "0.649499969061\n",
        "0.649499968629\n",
        "0.649499968109\n",
        "\n",
        "\n",
        "\n",
        "iter=8: norm=0.000154408\n",
        "0.00344838266178\n",
        "0.0328800678253\n",
        "<petsc4py.PETSc.Mat object at 0x3d2c050>\n",
        "#####################"
       ]
      },
      {
       "output_type": "stream",
       "stream": "stdout",
       "text": [
        " 659\n",
        "#####################"
       ]
      },
      {
       "output_type": "stream",
       "stream": "stderr",
       "text": [
        "DEBUG:FFC:Reusing form from cache.\n"
       ]
      },
      {
       "output_type": "stream",
       "stream": "stdout",
       "text": [
        " 659\n",
        "::::::::::::::::::::::::::::::::::::::::::::: 100\n",
        "3.20931410789\n",
        "3.27006006241"
       ]
      },
      {
       "output_type": "stream",
       "stream": "stderr",
       "text": [
        "DEBUG:FFC:Reusing form from cache.\n"
       ]
      },
      {
       "output_type": "stream",
       "stream": "stderr",
       "text": [
        "DEBUG:FFC:Reusing form from cache.\n"
       ]
      },
      {
       "output_type": "stream",
       "stream": "stderr",
       "text": [
        "DEBUG:FFC:Reusing form from cache.\n"
       ]
      },
      {
       "output_type": "stream",
       "stream": "stderr",
       "text": [
        "DEBUG:FFC:Reusing form from cache.\n"
       ]
      },
      {
       "output_type": "stream",
       "stream": "stderr",
       "text": [
        "DEBUG:FFC:Reusing form from cache.\n"
       ]
      },
      {
       "output_type": "stream",
       "stream": "stderr",
       "text": [
        "INFO:FFC:Adjusting missing element domain to Domain(Cell('triangle', 2), 'triangle_multiverse', 2, 2).\n"
       ]
      },
      {
       "output_type": "stream",
       "stream": "stderr",
       "text": [
        "INFO:FFC:Adjusting element degree from ? to 2\n"
       ]
      },
      {
       "output_type": "stream",
       "stream": "stderr",
       "text": [
        "INFO:FFC:Adjusting missing element domain to Domain(Cell('triangle', 2), 'triangle_multiverse', 2, 2).\n"
       ]
      },
      {
       "output_type": "stream",
       "stream": "stderr",
       "text": [
        "INFO:FFC:Adjusting element degree from ? to 2\n"
       ]
      },
      {
       "output_type": "stream",
       "stream": "stderr",
       "text": [
        "INFO:FFC:Adjusting missing element domain to Domain(Cell('triangle', 2), 'triangle_multiverse', 2, 2).\n"
       ]
      },
      {
       "output_type": "stream",
       "stream": "stderr",
       "text": [
        "INFO:FFC:Adjusting element degree from ? to 2\n"
       ]
      },
      {
       "output_type": "stream",
       "stream": "stderr",
       "text": [
        "INFO:FFC:Adjusting missing element domain to Domain(Cell('triangle', 2), 'triangle_multiverse', 2, 2).\n"
       ]
      },
      {
       "output_type": "stream",
       "stream": "stderr",
       "text": [
        "INFO:FFC:Adjusting element degree from ? to 2\n"
       ]
      },
      {
       "output_type": "stream",
       "stream": "stderr",
       "text": [
        "INFO:FFC:Adjusting missing element domain to Domain(Cell('triangle', 2), 'triangle_multiverse', 2, 2).\n"
       ]
      },
      {
       "output_type": "stream",
       "stream": "stderr",
       "text": [
        "INFO:FFC:Adjusting element degree from ? to 2\n"
       ]
      },
      {
       "output_type": "stream",
       "stream": "stderr",
       "text": [
        "INFO:FFC:Adjusting missing element domain to Domain(Cell('triangle', 2), 'triangle_multiverse', 2, 2).\n"
       ]
      },
      {
       "output_type": "stream",
       "stream": "stderr",
       "text": [
        "INFO:FFC:Adjusting element degree from ? to 2\n"
       ]
      },
      {
       "output_type": "stream",
       "stream": "stderr",
       "text": [
        "INFO:FFC:Adjusting missing element domain to Domain(Cell('triangle', 2), 'triangle_multiverse', 2, 2).\n"
       ]
      },
      {
       "output_type": "stream",
       "stream": "stderr",
       "text": [
        "INFO:FFC:Adjusting element degree from ? to 2\n"
       ]
      },
      {
       "output_type": "stream",
       "stream": "stderr",
       "text": [
        "INFO:FFC:Adjusting missing element domain to Domain(Cell('triangle', 2), 'triangle_multiverse', 2, 2).\n"
       ]
      },
      {
       "output_type": "stream",
       "stream": "stderr",
       "text": [
        "INFO:FFC:Adjusting element degree from ? to 2\n"
       ]
      },
      {
       "output_type": "stream",
       "stream": "stderr",
       "text": [
        "INFO:FFC:Adjusting missing element domain to Domain(Cell('triangle', 2), 'triangle_multiverse', 2, 2).\n"
       ]
      },
      {
       "output_type": "stream",
       "stream": "stderr",
       "text": [
        "INFO:FFC:Adjusting element degree from ? to 2\n"
       ]
      },
      {
       "output_type": "stream",
       "stream": "stderr",
       "text": [
        "DEBUG:FFC:Reusing form from cache.\n"
       ]
      },
      {
       "output_type": "stream",
       "stream": "stderr",
       "text": [
        "DEBUG:FFC:Reusing form from cache.\n"
       ]
      },
      {
       "output_type": "stream",
       "stream": "stderr",
       "text": [
        "INFO:FFC:Adjusting missing element domain to Domain(Cell('triangle', 2), 'triangle_multiverse', 2, 2).\n"
       ]
      },
      {
       "output_type": "stream",
       "stream": "stderr",
       "text": [
        "INFO:FFC:Adjusting element degree from ? to 2\n"
       ]
      },
      {
       "output_type": "stream",
       "stream": "stderr",
       "text": [
        "INFO:FFC:Adjusting missing element domain to Domain(Cell('triangle', 2), 'triangle_multiverse', 2, 2).\n"
       ]
      },
      {
       "output_type": "stream",
       "stream": "stderr",
       "text": [
        "INFO:FFC:Adjusting element degree from ? to 2\n"
       ]
      },
      {
       "output_type": "stream",
       "stream": "stderr",
       "text": [
        "INFO:FFC:Adjusting missing element domain to Domain(Cell('triangle', 2), 'triangle_multiverse', 2, 2).\n"
       ]
      },
      {
       "output_type": "stream",
       "stream": "stderr",
       "text": [
        "INFO:FFC:Adjusting element degree from ? to 2\n"
       ]
      },
      {
       "output_type": "stream",
       "stream": "stderr",
       "text": [
        "INFO:FFC:Adjusting missing element domain to Domain(Cell('triangle', 2), 'triangle_multiverse', 2, 2).\n"
       ]
      },
      {
       "output_type": "stream",
       "stream": "stderr",
       "text": [
        "INFO:FFC:Adjusting element degree from ? to 2\n"
       ]
      },
      {
       "output_type": "stream",
       "stream": "stderr",
       "text": [
        "INFO:FFC:Adjusting missing element domain to Domain(Cell('triangle', 2), 'triangle_multiverse', 2, 2).\n"
       ]
      },
      {
       "output_type": "stream",
       "stream": "stderr",
       "text": [
        "INFO:FFC:Adjusting element degree from ? to 2\n"
       ]
      },
      {
       "output_type": "stream",
       "stream": "stderr",
       "text": [
        "INFO:FFC:Adjusting missing element domain to Domain(Cell('triangle', 2), 'triangle_multiverse', 2, 2).\n"
       ]
      },
      {
       "output_type": "stream",
       "stream": "stderr",
       "text": [
        "INFO:FFC:Adjusting element degree from ? to 2\n"
       ]
      },
      {
       "output_type": "stream",
       "stream": "stderr",
       "text": [
        "INFO:FFC:Adjusting missing element domain to Domain(Cell('triangle', 2), 'triangle_multiverse', 2, 2).\n"
       ]
      },
      {
       "output_type": "stream",
       "stream": "stderr",
       "text": [
        "INFO:FFC:Adjusting element degree from ? to 2\n"
       ]
      },
      {
       "output_type": "stream",
       "stream": "stderr",
       "text": [
        "INFO:FFC:Adjusting missing element domain to Domain(Cell('triangle', 2), 'triangle_multiverse', 2, 2).\n"
       ]
      },
      {
       "output_type": "stream",
       "stream": "stderr",
       "text": [
        "INFO:FFC:Adjusting element degree from ? to 2\n"
       ]
      },
      {
       "output_type": "stream",
       "stream": "stderr",
       "text": [
        "INFO:FFC:Adjusting missing element domain to Domain(Cell('triangle', 2), 'triangle_multiverse', 2, 2).\n"
       ]
      },
      {
       "output_type": "stream",
       "stream": "stderr",
       "text": [
        "INFO:FFC:Adjusting element degree from ? to 2\n"
       ]
      },
      {
       "output_type": "stream",
       "stream": "stderr",
       "text": [
        "DEBUG:UFL:No integrals left after transformation, returning empty form.\n"
       ]
      },
      {
       "output_type": "stream",
       "stream": "stderr",
       "text": [
        "DEBUG:FFC:Reusing form from cache.\n"
       ]
      },
      {
       "output_type": "stream",
       "stream": "stderr",
       "text": [
        "DEBUG:FFC:Reusing form from cache.\n"
       ]
      },
      {
       "output_type": "stream",
       "stream": "stdout",
       "text": [
        "\n",
        "::::::::::::::::::::::::::::::::::::::::::::: 100\n",
        "10.9354147153\n",
        "0.764878996271\n",
        "0.750116937054\n",
        "0.749964694891\n",
        "0.6731415373\n",
        "0.658241664772\n",
        "0.652762904918\n",
        "0.652762441882\n",
        "0.65270154541\n",
        "0.652150647697\n",
        "0.652078268914\n",
        "0.652077459085\n",
        "0.651268777922\n",
        "0.65110678134\n",
        "0.651082462682\n",
        "0.65108128633\n",
        "0.65103858127\n",
        "0.65102963842\n",
        "0.650528578711\n",
        "0.650183898018\n",
        "0.650158289473\n",
        "0.650157697363\n",
        "0.649238863619\n",
        "0.647817758281\n",
        "0.647816752245\n",
        "0.647805489159\n",
        "0.647796830476\n",
        "0.647150477935\n",
        "0.646992904418\n",
        "0.646136540207\n",
        "0.645929453072\n",
        "0.645929453052\n",
        "0.645929449898\n",
        "0.645929448691\n",
        "0.645929447651\n",
        "0.645929446298\n",
        "0.645929443298\n",
        "0.645929438901\n",
        "0.645929438404\n",
        "0.645929437982\n",
        "0.645929430474\n",
        "0.645929406927\n",
        "0.645929398263\n",
        "0.645929397744\n",
        "0.645929375047\n",
        "0.645929354095\n",
        "0.645929251639\n",
        "0.645929248143\n",
        "0.645929242025\n",
        "0.64592923705\n",
        "0.645929228933\n",
        "0.645929150764\n",
        "0.645929092103\n",
        "0.645928929682\n",
        "0.645928928242\n",
        "0.645928918949\n",
        "0.64592890516\n",
        "0.645928880751\n",
        "0.645928835515\n",
        "0.645928209544\n",
        "0.645925540317\n",
        "0.645925540317\n",
        "0.645925540274\n",
        "0.645925540253\n",
        "0.645925540241\n",
        "0.645925540235\n",
        "0.645925540211\n",
        "0.645925540106\n",
        "0.645925540101\n",
        "0.645925540032\n",
        "0.645925539958\n",
        "0.645925539858\n",
        "0.645925539264\n",
        "0.645925539264\n",
        "0.645925538563\n",
        "0.645925537821\n",
        "0.645925537051\n",
        "0.645925536183\n",
        "0.64592553617\n",
        "0.645925534869\n",
        "0.64592553486\n",
        "0.645925530998\n",
        "0.645925530623\n",
        "0.645925460446\n",
        "0.64592545952\n",
        "0.645925287043\n",
        "0.645925210586\n",
        "0.645925112604\n",
        "0.645924407683\n",
        "0.645923899086\n",
        "0.645923894995\n",
        "0.645923894995\n",
        "0.645923894995\n",
        "0.645923894995\n",
        "0.645923894995\n",
        "0.645923894995\n",
        "0.645923894995\n",
        "0.645923894994\n",
        "0.645923894991\n",
        "0.645923894991\n",
        "0.645923894991\n",
        "\n",
        "\n",
        "\n",
        "iter=9: norm=9.126e-05\n",
        "0.000985404034112\n",
        "0.0325050354004\n",
        "<petsc4py.PETSc.Mat object at 0x8c3d470>\n",
        "#####################"
       ]
      },
      {
       "output_type": "stream",
       "stream": "stdout",
       "text": [
        " 659\n",
        "#####################"
       ]
      },
      {
       "output_type": "stream",
       "stream": "stderr",
       "text": [
        "DEBUG:FFC:Reusing form from cache.\n"
       ]
      },
      {
       "output_type": "stream",
       "stream": "stdout",
       "text": [
        " 659\n",
        "::::::::::::::::::::::::::::::::::::::::::::: 100\n",
        "3.21681690216\n",
        "3.27801990509"
       ]
      },
      {
       "output_type": "stream",
       "stream": "stderr",
       "text": [
        "DEBUG:FFC:Reusing form from cache.\n"
       ]
      },
      {
       "output_type": "stream",
       "stream": "stderr",
       "text": [
        "DEBUG:FFC:Reusing form from cache.\n"
       ]
      },
      {
       "output_type": "stream",
       "stream": "stderr",
       "text": [
        "DEBUG:FFC:Reusing form from cache.\n"
       ]
      },
      {
       "output_type": "stream",
       "stream": "stderr",
       "text": [
        "DEBUG:FFC:Reusing form from cache.\n"
       ]
      },
      {
       "output_type": "stream",
       "stream": "stderr",
       "text": [
        "DEBUG:UFL:No integrals left after transformation, returning empty form.\n"
       ]
      },
      {
       "output_type": "stream",
       "stream": "stderr",
       "text": [
        "DEBUG:FFC:Reusing form from cache.\n"
       ]
      },
      {
       "output_type": "stream",
       "stream": "stderr",
       "text": [
        "DEBUG:UFL:No integrals left after transformation, returning empty form.\n"
       ]
      },
      {
       "output_type": "stream",
       "stream": "stderr",
       "text": [
        "DEBUG:FFC:Reusing form from cache.\n"
       ]
      },
      {
       "output_type": "stream",
       "stream": "stderr",
       "text": [
        "DEBUG:FFC:Reusing form from cache.\n"
       ]
      },
      {
       "output_type": "stream",
       "stream": "stderr",
       "text": [
        "DEBUG:FFC:Reusing form from cache.\n"
       ]
      },
      {
       "output_type": "stream",
       "stream": "stderr",
       "text": [
        "DEBUG:FFC:Reusing form from cache.\n"
       ]
      },
      {
       "output_type": "stream",
       "stream": "stderr",
       "text": [
        "DEBUG:FFC:Reusing form from cache.\n"
       ]
      },
      {
       "output_type": "stream",
       "stream": "stderr",
       "text": [
        "DEBUG:FFC:Reusing form from cache.\n"
       ]
      },
      {
       "output_type": "stream",
       "stream": "stderr",
       "text": [
        "DEBUG:UFL:No integrals left after transformation, returning empty form.\n"
       ]
      },
      {
       "output_type": "stream",
       "stream": "stderr",
       "text": [
        "DEBUG:FFC:Reusing form from cache.\n"
       ]
      },
      {
       "output_type": "stream",
       "stream": "stderr",
       "text": [
        "DEBUG:FFC:Reusing form from cache.\n"
       ]
      },
      {
       "output_type": "stream",
       "stream": "stderr",
       "text": [
        "DEBUG:UFL:No integrals left after transformation, returning empty form.\n"
       ]
      },
      {
       "output_type": "stream",
       "stream": "stderr",
       "text": [
        "DEBUG:FFC:Reusing form from cache.\n"
       ]
      },
      {
       "output_type": "stream",
       "stream": "stderr",
       "text": [
        "DEBUG:FFC:Reusing form from cache.\n"
       ]
      },
      {
       "output_type": "stream",
       "stream": "stderr",
       "text": [
        "DEBUG:FFC:Reusing form from cache.\n"
       ]
      },
      {
       "output_type": "stream",
       "stream": "stdout",
       "text": [
        "\n",
        "::::::::::::::::::::::::::::::::::::::::::::: 100\n",
        "0.747752368899\n",
        "0.66185502794\n",
        "0.658565441045\n",
        "0.657150889702\n",
        "0.656662461407\n",
        "0.656389120915\n",
        "0.655579044601\n",
        "0.655362909916\n",
        "0.655199225381\n",
        "0.654887288378\n",
        "0.654655947173\n",
        "0.654205797414\n",
        "0.653738336751\n",
        "0.65367202468\n",
        "0.653658888894\n",
        "0.652842769828\n",
        "0.652794061496\n",
        "0.652199941457\n",
        "0.652195507625\n",
        "0.65212721494\n",
        "0.652098484502\n",
        "0.652091177975\n",
        "0.651301238811\n",
        "0.651159834299\n",
        "0.650977265041\n",
        "0.650973293346\n",
        "0.650969565535\n",
        "0.650633725793\n",
        "0.650462340181\n",
        "0.650451110539\n",
        "0.650366609159\n",
        "0.650366608976\n",
        "0.650366608795\n",
        "0.650366608688\n",
        "0.650366608645\n",
        "0.650366608642\n",
        "0.650366607476\n",
        "0.650366607452\n",
        "0.65036660743\n",
        "0.650366607351\n",
        "0.650366606611\n",
        "0.650366606611\n",
        "0.650366606099\n",
        "0.650366605051\n",
        "0.650366605045\n",
        "0.650366603667\n",
        "0.650366601691\n",
        "0.650366600833\n",
        "0.65036659851\n",
        "0.650366594134\n",
        "0.650366589479\n",
        "0.650366402522\n",
        "0.650366386126\n",
        "0.650366050604\n",
        "0.650365627401\n",
        "0.65036515697\n",
        "0.650364930812\n",
        "0.65036219708\n",
        "0.650359979175\n",
        "0.650357496672\n",
        "0.650357458207\n",
        "0.650357458207\n",
        "0.650357458207\n",
        "0.650357458207\n",
        "0.650357458207\n",
        "0.650357458207\n",
        "0.650357458206\n",
        "0.650357458205\n",
        "0.650357458205\n",
        "0.650357458205\n",
        "0.650357458204\n",
        "0.650357458204\n",
        "0.650357458204\n",
        "0.650357458202\n",
        "0.6503574582\n",
        "0.650357458199\n",
        "0.650357458188\n",
        "0.650357458181\n",
        "0.650357458168\n",
        "0.650357458166\n",
        "0.650357458007\n",
        "0.650357457783\n",
        "0.65035745726\n",
        "0.650357457242\n",
        "0.650357453987\n",
        "0.650357453243\n",
        "0.650357442202\n",
        "0.650357441957\n",
        "0.650357367697\n",
        "0.650357361042\n",
        "0.650357213771\n",
        "0.650357213771\n",
        "0.65035721377\n",
        "0.65035721377\n",
        "0.65035721377\n",
        "0.65035721377\n",
        "0.650357213768\n",
        "0.650357213768\n",
        "0.650357213768\n",
        "0.650357213768\n",
        "0.650357213766\n",
        "\n",
        "\n",
        "\n",
        "iter=10: norm=6.35312e-06\n",
        "0.00227308310436\n",
        "[ 0.00156288]"
       ]
      },
      {
       "output_type": "stream",
       "stream": "stdout",
       "text": [
        "\n",
        "[ 4.95846672]\n",
        "[[ 0.]]\n",
        "Velocity Elements rate of convergence  nan\n",
        "Pressure Elements rate of convergence  nan\n",
        "\n",
        "\n",
        "   Velocity convergence\n",
        "   Total DoF  V DoF  Soln Time  AvIt        V-L2 L2-order        V-H1 H1-order\n",
        "0        659    578       6.36   200  1.5629e-03     0.00  8.3885e-02     0.00\n",
        "\n",
        "\n",
        "   Pressure convergence\n",
        "   Total DoF  P DoF  Soln Time  AvIt        P-L2 L2-order\n",
        "0        659     81       6.36   200  4.9585e+00     0.00\n",
        "   l   IT  DoFu  Dofp        V-L2 L2-order        V-H1 H1-order        P-L2  \\\n",
        "0  3  200   578    81  1.5629e-03     0.00  8.3885e-02     0.00  4.9585e+00   \n",
        "\n",
        "  PL2-order  \n",
        "0      0.00  \n"
       ]
      }
     ],
     "prompt_number": 12
    },
    {
     "cell_type": "code",
     "collapsed": false,
     "input": [
      "reshist1"
     ],
     "language": "python",
     "metadata": {},
     "outputs": [
      {
       "metadata": {},
       "output_type": "pyout",
       "prompt_number": 11,
       "text": [
        "{0: 0.019391563227318644,\n",
        " 1: 0.01939155878817272,\n",
        " 2: 0.019391558588604814,\n",
        " 3: 0.019391493349593836,\n",
        " 4: 0.01939145864010477,\n",
        " 5: 0.01939145468433627,\n",
        " 6: 0.019391449643704997,\n",
        " 7: 0.019391397577219985,\n",
        " 8: 0.019391372234522676,\n",
        " 9: 0.019391327665314803,\n",
        " 10: 0.019391325802100897,\n",
        " 11: 0.019391296009048972,\n",
        " 12: 0.019391273852047967,\n",
        " 13: 0.019391269481582814,\n",
        " 14: 0.019391213748086097,\n",
        " 15: 0.01939118137726059,\n",
        " 16: 0.01939117869540069,\n",
        " 17: 0.019391138181966895,\n",
        " 18: 0.0193911163702342,\n",
        " 19: 0.019391115042203692,\n",
        " 20: 0.019391114283214973,\n",
        " 21: 0.019391057260625896,\n",
        " 22: 0.01939105720703303,\n",
        " 23: 0.019391053942177154,\n",
        " 24: 0.019391041903592192,\n",
        " 25: 0.019391041289241535,\n",
        " 26: 0.019391032526353724,\n",
        " 27: 0.019390987664356173,\n",
        " 28: 0.01939078633454187,\n",
        " 29: 0.01939075455053493,\n",
        " 30: 0.01939548589212694,\n",
        " 31: 0.019395169804696577,\n",
        " 32: 0.019394995087222058,\n",
        " 33: 0.01939499493889273,\n",
        " 34: 0.019394642216335085,\n",
        " 35: 0.019394437456107798,\n",
        " 36: 0.019394408757751433,\n",
        " 37: 0.019394377972070248,\n",
        " 38: 0.019394208998569053,\n",
        " 39: 0.01939409719475315,\n",
        " 40: 0.019393996747399632,\n",
        " 41: 0.01939393106362154,\n",
        " 42: 0.019393738326505854,\n",
        " 43: 0.019393717609939083,\n",
        " 44: 0.019393696141850617,\n",
        " 45: 0.019393380435461873,\n",
        " 46: 0.019393338261567163,\n",
        " 47: 0.0193933337202854,\n",
        " 48: 0.019393322963755934,\n",
        " 49: 0.019393299123570785,\n",
        " 50: 0.01939324525630114,\n",
        " 51: 0.019393225710792116,\n",
        " 52: 0.019393159818160702,\n",
        " 53: 0.019393159721113017,\n",
        " 54: 0.01939311343424266,\n",
        " 55: 0.01939306557219731,\n",
        " 56: 0.019393057550002334,\n",
        " 57: 0.01939304914549596,\n",
        " 58: 0.019393046105576055,\n",
        " 59: 0.019393045983947504,\n",
        " 60: 0.019394469229327967,\n",
        " 61: 0.019394297549001,\n",
        " 62: 0.019394296469378427,\n",
        " 63: 0.019393611152718586,\n",
        " 64: 0.019393552568603204,\n",
        " 65: 0.01939354619810596,\n",
        " 66: 0.019393240736894142,\n",
        " 67: 0.019393156576325024,\n",
        " 68: 0.01939280542575666,\n",
        " 69: 0.019392759256415423,\n",
        " 70: 0.019392676808719686,\n",
        " 71: 0.019392393114743448,\n",
        " 72: 0.019391975714674096,\n",
        " 73: 0.019391975282791202,\n",
        " 74: 0.019391972209214934,\n",
        " 75: 0.01939197220907344,\n",
        " 76: 0.01939188085989168,\n",
        " 77: 0.019391840581827097,\n",
        " 78: 0.01939182376371754,\n",
        " 79: 0.019391788993350957,\n",
        " 80: 0.019391788621966197,\n",
        " 81: 0.019391728032977736,\n",
        " 82: 0.0193917277904794,\n",
        " 83: 0.0193917277867929,\n",
        " 84: 0.019391717834833296,\n",
        " 85: 0.01939171499004059,\n",
        " 86: 0.01939169993632369,\n",
        " 87: 0.01939169754341072,\n",
        " 88: 0.01939168882848376,\n",
        " 89: 0.01939163499461852,\n",
        " 90: 0.01939354296443882,\n",
        " 91: 0.01939338861537113,\n",
        " 92: 0.019393377467861746,\n",
        " 93: 0.019393316138128842,\n",
        " 94: 0.019393237166547967,\n",
        " 95: 0.01939323694016347,\n",
        " 96: 0.019393200303836976,\n",
        " 97: 0.01939319610670285,\n",
        " 98: 0.019393167181807253,\n",
        " 99: 0.019393108399186867,\n",
        " 100: 0.01939306846731165}"
       ]
      }
     ],
     "prompt_number": 11
    }
   ],
   "metadata": {}
  }
 ]
}
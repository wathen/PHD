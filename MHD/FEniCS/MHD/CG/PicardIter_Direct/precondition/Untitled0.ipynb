{
 "metadata": {
  "name": ""
 },
 "nbformat": 3,
 "nbformat_minor": 0,
 "worksheets": [
  {
   "cells": [
    {
     "cell_type": "code",
     "collapsed": false,
     "input": [
      "#!/usr/bin/python\n",
      "\n",
      "# interpolate scalar gradient onto nedelec space\n",
      "from dolfin import *\n",
      "\n",
      "import petsc4py\n",
      "import sys\n",
      "\n",
      "petsc4py.init(sys.argv)\n",
      "\n",
      "from petsc4py import PETSc\n",
      "Print = PETSc.Sys.Print\n",
      "# from MatrixOperations import *\n",
      "import numpy as np\n",
      "import matplotlib.pylab as plt\n",
      "import PETScIO as IO\n",
      "import common\n",
      "import scipy\n",
      "import scipy.io\n",
      "import time as t\n",
      "\n",
      "import BiLinear as forms\n",
      "import IterOperations as Iter\n",
      "import MatrixOperations as MO\n",
      "import CheckPetsc4py as CP\n",
      "import Solver as S\n",
      "import ExactSol\n",
      "import P as Precond\n",
      "m = 2\n",
      "\n",
      "IterType = 'Full'\n",
      "\n",
      "\n",
      "errL2u =np.zeros((m-1,1))\n",
      "errH1u =np.zeros((m-1,1))\n",
      "errL2p =np.zeros((m-1,1))\n",
      "errL2b =np.zeros((m-1,1))\n",
      "errCurlb =np.zeros((m-1,1))\n",
      "errL2r =np.zeros((m-1,1))\n",
      "errH1r =np.zeros((m-1,1))\n",
      "\n",
      "\n",
      "\n",
      "l2uorder =  np.zeros((m-1,1))\n",
      "H1uorder =np.zeros((m-1,1))\n",
      "l2porder =  np.zeros((m-1,1))\n",
      "l2border =  np.zeros((m-1,1))\n",
      "Curlborder =np.zeros((m-1,1))\n",
      "l2rorder =  np.zeros((m-1,1))\n",
      "H1rorder = np.zeros((m-1,1))\n",
      "\n",
      "NN = np.zeros((m-1,1))\n",
      "DoF = np.zeros((m-1,1))\n",
      "Velocitydim = np.zeros((m-1,1))\n",
      "Magneticdim = np.zeros((m-1,1))\n",
      "Pressuredim = np.zeros((m-1,1))\n",
      "Lagrangedim = np.zeros((m-1,1))\n",
      "Wdim = np.zeros((m-1,1))\n",
      "iterations = np.zeros((m-1,1))\n",
      "SolTime = np.zeros((m-1,1))\n",
      "udiv = np.zeros((m-1,1))\n",
      "MU = np.zeros((m-1,1))\n",
      "level = np.zeros((m-1,1))\n",
      "NSave = np.zeros((m-1,1))\n",
      "Mave = np.zeros((m-1,1))\n",
      "\n",
      "nn = 2\n",
      "\n",
      "dim = 2\n",
      "ShowResultPlots = 'yes'\n",
      "split = 'Linear'\n",
      "\n",
      "MU[0]= 1e0\n",
      "for xx in xrange(1,m):\n",
      "    print xx\n",
      "    level[xx-1] = xx\n",
      "    nn = 2**(level[xx-1])\n",
      "\n",
      "\n",
      "    # Create mesh and define function space\n",
      "    nn = int(nn)\n",
      "    NN[xx-1] = nn/2\n",
      "\n",
      "    mesh = RectangleMesh(0, 0, 1, 1, nn, nn,'left')\n",
      "    parameters[\"form_compiler\"][\"precision\"] = 15\n",
      "    parameters[\"form_compiler\"][\"quadrature_degree\"] = -1\n",
      "    order = 2\n",
      "    parameters['reorder_dofs_serial'] = False\n",
      "    Velocity = VectorFunctionSpace(mesh, \"CG\", order)\n",
      "    Pressure = FunctionSpace(mesh, \"CG\", order-1)\n",
      "    Magnetic = FunctionSpace(mesh, \"N1curl\", order)\n",
      "    Lagrange = FunctionSpace(mesh, \"CG\", order)\n",
      "    W = MixedFunctionSpace([Velocity,Pressure,Magnetic,Lagrange])\n",
      "    # W = Velocity*Pressure*Magnetic*Lagrange\n",
      "    Velocitydim[xx-1] = Velocity.dim()\n",
      "    Pressuredim[xx-1] = Pressure.dim()\n",
      "    Magneticdim[xx-1] = Magnetic.dim()\n",
      "    Lagrangedim[xx-1] = Lagrange.dim()\n",
      "    Wdim[xx-1] = W.dim()\n",
      "    print \"\\n\\nW:  \",Wdim[xx-1],\"Velocity:  \",Velocitydim[xx-1],\"Pressure:  \",Pressuredim[xx-1],\"Magnetic:  \",Magneticdim[xx-1],\"Lagrange:  \",Lagrangedim[xx-1],\"\\n\\n\"\n",
      "    dim = [Velocity.dim(), Pressure.dim(), Magnetic.dim(), Lagrange.dim()]\n",
      "\n",
      "\n",
      "    def boundary(x, on_boundary):\n",
      "        return on_boundary\n",
      "\n",
      "    u0, p0,b0, r0, Laplacian, Advection, gradPres,CurlCurl, gradR, NS_Couple, M_Couple = ExactSol.MHD2D(4,1)\n",
      "\n",
      "    bcu = DirichletBC(W.sub(0),u0, boundary)\n",
      "    bcp = DirichletBC(W.sub(1),p0, boundary)\n",
      "    bcb = DirichletBC(W.sub(2),b0, boundary)\n",
      "    bcr = DirichletBC(W.sub(3),r0, boundary)\n",
      "\n",
      "    # bc = [u0,p0,b0,r0]\n",
      "    bcs = [bcu,bcb,bcr]\n",
      "    FSpaces = [Velocity,Pressure,Magnetic,Lagrange]\n",
      "\n",
      "\n",
      "    (u, p, b, r) = TrialFunctions(W)\n",
      "    (v, q, c,s ) = TestFunctions(W)\n",
      "    kappa = 1.0\n",
      "\n",
      "\n",
      "    Mu_m =1e2\n",
      "    MU = 1.0\n",
      "\n",
      "\n",
      "\n",
      "    F_NS = -MU*Laplacian+Advection+gradPres-kappa*NS_Couple\n",
      "\n",
      "    F_M = Mu_m*kappa*CurlCurl+gradR -kappa*M_Couple\n",
      "\n",
      "    params = [kappa,Mu_m,MU]\n",
      "\n",
      "    u_k,p_k,b_k,r_k = common.InitialGuess(FSpaces,[u0,p0,b0,r0],[F_NS,F_M],params,Neumann=Expression((\"0\",\"0\")),options =\"New\")\n",
      "    p_k.vector()[:]= p_k.vector().array()+np.abs(np.min(p_k.vector().array()))\n",
      "    x = Iter.u_prev(u_k,p_k,b_k,r_k)\n",
      "\n",
      "\n",
      "    ns,maxwell,CoupleTerm,Lmaxwell,Lns = forms.MHD2D(mesh, W,F_M,F_NS, u_k,b_k,params,IterType)\n",
      "\n",
      "\n",
      "    parameters['linear_algebra_backend'] = 'PETSc'\n",
      "\n",
      "    RHSform = forms.PicardRHS(mesh, W, u_k, p_k, b_k, r_k, params)\n",
      "\n",
      "    bcu = DirichletBC(W.sub(0),Expression((\"0\",\"0\")), boundary)\n",
      "    bcb = DirichletBC(W.sub(2),Expression((\"0\",\"0\")), boundary)\n",
      "    bcr = DirichletBC(W.sub(3),Expression((\"0\")), boundary)\n",
      "    bcs = [bcu,bcb,bcr]\n",
      "\n",
      "    eps = 1.0           # error measure ||u-u_k||\n",
      "    tol = 1.0E-5      # tolerance\n",
      "    iter = 0            # iteration counter\n",
      "    maxiter = 20       # max no of iterations allowed\n",
      "    SolutionTime = 0\n",
      "    outer = 0\n",
      "    parameters['linear_algebra_backend'] = 'PETSc'\n",
      "\n",
      "    p = forms.Preconditioner(mesh,W,u_k,b_k,params,IterType)\n",
      "\n",
      "    PP,Pb = assemble_system(p, Lns,bcs)\n",
      "    NS_is = PETSc.IS().createGeneral(range(Velocity.dim()+Pressure.dim()))\n",
      "    M_is = PETSc.IS().createGeneral(range(Velocity.dim()+Pressure.dim(),W.dim()))\n",
      "    if IterType == \"Full\" or IterType == \"MD\":\n",
      "        (pQ) = TrialFunction(Pressure)\n",
      "        (qQ) = TestFunction(Pressure)\n",
      "        print MU\n",
      "        Mass = assemble(inner(pQ,qQ)*dx)\n",
      "        L = assemble(inner(grad(pQ),grad(qQ))*dx)\n",
      "        n = FacetNormal(mesh)\n",
      "        fp = MU*inner(grad(qQ), grad(pQ))*dx+inner((u_k[0]*grad(pQ)[0]+u_k[1]*grad(pQ)[1]),qQ)*dx + (1/2)*div(u_k)*inner(pQ,qQ)*dx - (1/2)*(u_k[0]*n[0]+u_k[1]*n[1])*inner(pQ,qQ)*ds\n",
      "        # print \"hi\"\n",
      "        L = CP.Assemble(L)\n",
      "        Mass = CP.Assemble(Mass)\n",
      "\n",
      "    if IterType == \"CD\":\n",
      "        AA, bb = assemble_system(maxwell+ns+CoupleTerm, (Lmaxwell + Lns) - RHSform,  bcs)\n",
      "        A,b = CP.Assemble(AA,bb)\n",
      "        P = CP.Assemble(PP)\n",
      "        u = b.duplicate()\n",
      "\n",
      "    Mits = 0\n",
      "    NSits = 0\n",
      "    while eps > tol  and iter < maxiter:\n",
      "        iter += 1\n",
      "        if IterType == \"CD\":\n",
      "            bb = assemble((Lmaxwell + Lns) - RHSform)\n",
      "            for bc in bcs:\n",
      "                bc.apply(bb)\n",
      "\n",
      "            A,b = CP.Assemble(AA,bb)\n",
      "            P = CP.Assemble(PP)\n",
      "            print b\n",
      "            u = b.duplicate()\n",
      "\n",
      "        else:\n",
      "            AA, bb = assemble_system(maxwell+ns+CoupleTerm, (Lmaxwell + Lns) - RHSform,  bcs)\n",
      "            A,b = CP.Assemble(AA,bb)\n",
      "            P = CP.Assemble(PP)\n",
      "            u = b.duplicate()\n",
      "\n",
      "\n",
      "        tic()\n",
      "        if IterType != \"CD\":\n",
      "            F = assemble(fp)\n",
      "            F = CP.Assemble(F)\n",
      "        u,it1,it2 = S.solve(A,b,P,[NS_is,M_is],FSpaces,IterType,Mass,L,F)\n",
      "        time = toc()\n",
      "    "
     ],
     "language": "python",
     "metadata": {},
     "outputs": [
      {
       "output_type": "stream",
       "stream": "stderr",
       "text": [
        "/usr/lib/pymodules/python2.7/matplotlib/__init__.py:1035: UserWarning:  This call to matplotlib.use() has no effect\n",
        "because the the backend has already been chosen;\n",
        "matplotlib.use() must be called *before* pylab, matplotlib.pyplot,\n",
        "or matplotlib.backends is imported for the first time.\n",
        "\n",
        "  warnings.warn(_use_error_msg)\n",
        "DEBUG:UFL:No integrals left after transformation, returning empty form.\n"
       ]
      },
      {
       "output_type": "stream",
       "stream": "stderr",
       "text": [
        "DEBUG:FFC:Reusing form from cache.\n"
       ]
      },
      {
       "output_type": "stream",
       "stream": "stderr",
       "text": [
        "DEBUG:UFL:No integrals left after transformation, returning empty form.\n"
       ]
      },
      {
       "output_type": "stream",
       "stream": "stderr",
       "text": [
        "DEBUG:FFC:Reusing form from cache.\n"
       ]
      },
      {
       "output_type": "stream",
       "stream": "stderr",
       "text": [
        "DEBUG:UFL:No integrals left after transformation, returning empty form.\n"
       ]
      },
      {
       "output_type": "stream",
       "stream": "stderr",
       "text": [
        "DEBUG:FFC:Reusing form from cache.\n"
       ]
      },
      {
       "output_type": "stream",
       "stream": "stderr",
       "text": [
        "DEBUG:UFL:No integrals left after transformation, returning empty form.\n"
       ]
      },
      {
       "output_type": "stream",
       "stream": "stderr",
       "text": [
        "DEBUG:FFC:Reusing form from cache.\n"
       ]
      },
      {
       "output_type": "stream",
       "stream": "stderr",
       "text": [
        "DEBUG:UFL:No integrals left after transformation, returning empty form.\n"
       ]
      },
      {
       "output_type": "stream",
       "stream": "stderr",
       "text": [
        "DEBUG:FFC:Reusing form from cache.\n"
       ]
      },
      {
       "output_type": "stream",
       "stream": "stdout",
       "text": [
        "1\n",
        "\n",
        "\n",
        "W:   [ 132.] Velocity:   [ 50.] Pressure:   [ 9.] Magnetic:   [ 48.] Lagrange:   [ 25.] \n",
        "\n",
        "\n",
        "  NS Exact Solution:\n"
       ]
      },
      {
       "output_type": "stream",
       "stream": "stderr",
       "text": [
        "DEBUG:UFL:No integrals left after transformation, returning empty form.\n"
       ]
      },
      {
       "output_type": "stream",
       "stream": "stderr",
       "text": [
        "DEBUG:FFC:Reusing form from cache.\n"
       ]
      },
      {
       "output_type": "stream",
       "stream": "stderr",
       "text": [
        "DEBUG:UFL:No integrals left after transformation, returning empty form.\n"
       ]
      },
      {
       "output_type": "stream",
       "stream": "stderr",
       "text": [
        "DEBUG:UFL:No integrals left after transformation, returning empty form.\n"
       ]
      },
      {
       "output_type": "stream",
       "stream": "stderr",
       "text": [
        "DEBUG:FFC:Reusing form from cache.\n"
       ]
      },
      {
       "output_type": "stream",
       "stream": "stderr",
       "text": [
        "INFO:FFC:Adjusting missing element domain to Domain(Cell('triangle', 2), 'triangle_multiverse', 2, 2).\n"
       ]
      },
      {
       "output_type": "stream",
       "stream": "stderr",
       "text": [
        "INFO:FFC:Adjusting element degree from ? to 2\n"
       ]
      },
      {
       "output_type": "stream",
       "stream": "stderr",
       "text": [
        "INFO:FFC:Adjusting missing element domain to Domain(Cell('triangle', 2), 'triangle_multiverse', 2, 2).\n"
       ]
      },
      {
       "output_type": "stream",
       "stream": "stderr",
       "text": [
        "INFO:FFC:Adjusting element degree from ? to 2\n"
       ]
      },
      {
       "output_type": "stream",
       "stream": "stderr",
       "text": [
        "INFO:FFC:Adjusting missing element domain to Domain(Cell('triangle', 2), 'triangle_multiverse', 2, 2).\n"
       ]
      },
      {
       "output_type": "stream",
       "stream": "stderr",
       "text": [
        "INFO:FFC:Adjusting element degree from ? to 2\n"
       ]
      },
      {
       "output_type": "stream",
       "stream": "stderr",
       "text": [
        "INFO:FFC:Adjusting missing element domain to Domain(Cell('triangle', 2), 'triangle_multiverse', 2, 2).\n"
       ]
      },
      {
       "output_type": "stream",
       "stream": "stderr",
       "text": [
        "INFO:FFC:Adjusting element degree from ? to 2\n"
       ]
      },
      {
       "output_type": "stream",
       "stream": "stderr",
       "text": [
        "INFO:FFC:Adjusting missing element domain to Domain(Cell('triangle', 2), 'triangle_multiverse', 2, 2).\n"
       ]
      },
      {
       "output_type": "stream",
       "stream": "stderr",
       "text": [
        "INFO:FFC:Adjusting element degree from ? to 2\n"
       ]
      },
      {
       "output_type": "stream",
       "stream": "stderr",
       "text": [
        "INFO:FFC:Adjusting missing element domain to Domain(Cell('triangle', 2), 'triangle_multiverse', 2, 2).\n"
       ]
      },
      {
       "output_type": "stream",
       "stream": "stderr",
       "text": [
        "INFO:FFC:Adjusting element degree from ? to 2\n"
       ]
      },
      {
       "output_type": "stream",
       "stream": "stderr",
       "text": [
        "INFO:FFC:Adjusting missing element domain to Domain(Cell('triangle', 2), 'triangle_multiverse', 2, 2).\n"
       ]
      },
      {
       "output_type": "stream",
       "stream": "stderr",
       "text": [
        "INFO:FFC:Adjusting element degree from ? to 2\n"
       ]
      },
      {
       "output_type": "stream",
       "stream": "stderr",
       "text": [
        "INFO:FFC:Adjusting missing element domain to Domain(Cell('triangle', 2), 'triangle_multiverse', 2, 2).\n"
       ]
      },
      {
       "output_type": "stream",
       "stream": "stderr",
       "text": [
        "INFO:FFC:Adjusting element degree from ? to 2\n"
       ]
      },
      {
       "output_type": "stream",
       "stream": "stderr",
       "text": [
        "INFO:FFC:Adjusting missing element domain to Domain(Cell('triangle', 2), 'triangle_multiverse', 2, 2).\n"
       ]
      },
      {
       "output_type": "stream",
       "stream": "stderr",
       "text": [
        "INFO:FFC:Adjusting element degree from ? to 2\n"
       ]
      },
      {
       "output_type": "stream",
       "stream": "stderr",
       "text": [
        "INFO:FFC:Adjusting missing element domain to Domain(Cell('triangle', 2), 'triangle_multiverse', 2, 2).\n"
       ]
      },
      {
       "output_type": "stream",
       "stream": "stderr",
       "text": [
        "INFO:FFC:Adjusting element degree from ? to 2\n"
       ]
      },
      {
       "output_type": "stream",
       "stream": "stderr",
       "text": [
        "INFO:FFC:Adjusting missing element domain to Domain(Cell('triangle', 2), 'triangle_multiverse', 2, 2).\n"
       ]
      },
      {
       "output_type": "stream",
       "stream": "stderr",
       "text": [
        "INFO:FFC:Adjusting element degree from ? to 2\n"
       ]
      },
      {
       "output_type": "stream",
       "stream": "stderr",
       "text": [
        "INFO:FFC:Adjusting missing element domain to Domain(Cell('triangle', 2), 'triangle_multiverse', 2, 2).\n"
       ]
      },
      {
       "output_type": "stream",
       "stream": "stderr",
       "text": [
        "INFO:FFC:Adjusting element degree from ? to 2\n"
       ]
      },
      {
       "output_type": "stream",
       "stream": "stderr",
       "text": [
        "DEBUG:UFL:No integrals left after transformation, returning empty form.\n"
       ]
      },
      {
       "output_type": "stream",
       "stream": "stderr",
       "text": [
        "DEBUG:FFC:Reusing form from cache.\n"
       ]
      },
      {
       "output_type": "stream",
       "stream": "stdout",
       "text": [
        "\n",
        "  u = ( x*y*exp(x + y) + x*exp(x + y) , -x*y*exp(x + y) - y*exp(x + y) )\n",
        "\n",
        "  p = ( exp(y)*sin(x) )\n",
        "\n",
        "  Maxwell Exact Solution:\n",
        "\n",
        "  b = ( exp(x + y)*cos(x) , exp(x + y)*sin(x) - exp(x + y)*cos(x) )\n",
        "\n",
        "  p = ( x*sin(2*pi*x)*sin(2*pi*y) )\n",
        "\n",
        "0.0290310382843"
       ]
      },
      {
       "output_type": "stream",
       "stream": "stderr",
       "text": [
        "DEBUG:UFL:No integrals left after transformation, returning empty form.\n"
       ]
      },
      {
       "output_type": "stream",
       "stream": "stderr",
       "text": [
        "DEBUG:UFL:No integrals left after transformation, returning empty form.\n"
       ]
      },
      {
       "output_type": "stream",
       "stream": "stderr",
       "text": [
        "DEBUG:FFC:Reusing form from cache.\n"
       ]
      },
      {
       "output_type": "stream",
       "stream": "stderr",
       "text": [
        "INFO:FFC:Adjusting missing element domain to Domain(Cell('triangle', 2), 'triangle_multiverse', 2, 2).\n"
       ]
      },
      {
       "output_type": "stream",
       "stream": "stderr",
       "text": [
        "INFO:FFC:Adjusting element degree from ? to 2\n"
       ]
      },
      {
       "output_type": "stream",
       "stream": "stderr",
       "text": [
        "INFO:FFC:Adjusting missing element domain to Domain(Cell('triangle', 2), 'triangle_multiverse', 2, 2).\n"
       ]
      },
      {
       "output_type": "stream",
       "stream": "stderr",
       "text": [
        "INFO:FFC:Adjusting element degree from ? to 2\n"
       ]
      },
      {
       "output_type": "stream",
       "stream": "stderr",
       "text": [
        "INFO:FFC:Adjusting missing element domain to Domain(Cell('triangle', 2), 'triangle_multiverse', 2, 2).\n"
       ]
      },
      {
       "output_type": "stream",
       "stream": "stderr",
       "text": [
        "INFO:FFC:Adjusting element degree from ? to 2\n"
       ]
      },
      {
       "output_type": "stream",
       "stream": "stderr",
       "text": [
        "INFO:FFC:Adjusting missing element domain to Domain(Cell('triangle', 2), 'triangle_multiverse', 2, 2).\n"
       ]
      },
      {
       "output_type": "stream",
       "stream": "stderr",
       "text": [
        "INFO:FFC:Adjusting element degree from ? to 2\n"
       ]
      },
      {
       "output_type": "stream",
       "stream": "stderr",
       "text": [
        "INFO:FFC:Adjusting missing element domain to Domain(Cell('triangle', 2), 'triangle_multiverse', 2, 2).\n"
       ]
      },
      {
       "output_type": "stream",
       "stream": "stderr",
       "text": [
        "INFO:FFC:Adjusting element degree from ? to 2\n"
       ]
      },
      {
       "output_type": "stream",
       "stream": "stderr",
       "text": [
        "INFO:FFC:Adjusting missing element domain to Domain(Cell('triangle', 2), 'triangle_multiverse', 2, 2).\n"
       ]
      },
      {
       "output_type": "stream",
       "stream": "stderr",
       "text": [
        "INFO:FFC:Adjusting element degree from ? to 2\n"
       ]
      },
      {
       "output_type": "stream",
       "stream": "stderr",
       "text": [
        "INFO:FFC:Adjusting missing element domain to Domain(Cell('triangle', 2), 'triangle_multiverse', 2, 2).\n"
       ]
      },
      {
       "output_type": "stream",
       "stream": "stderr",
       "text": [
        "INFO:FFC:Adjusting element degree from ? to 2\n"
       ]
      },
      {
       "output_type": "stream",
       "stream": "stderr",
       "text": [
        "INFO:FFC:Adjusting missing element domain to Domain(Cell('triangle', 2), 'triangle_multiverse', 2, 2).\n"
       ]
      },
      {
       "output_type": "stream",
       "stream": "stderr",
       "text": [
        "INFO:FFC:Adjusting element degree from ? to 2\n"
       ]
      },
      {
       "output_type": "stream",
       "stream": "stderr",
       "text": [
        "INFO:FFC:Adjusting missing element domain to Domain(Cell('triangle', 2), 'triangle_multiverse', 2, 2).\n"
       ]
      },
      {
       "output_type": "stream",
       "stream": "stderr",
       "text": [
        "INFO:FFC:Adjusting element degree from ? to 2\n"
       ]
      },
      {
       "output_type": "stream",
       "stream": "stderr",
       "text": [
        "INFO:FFC:Adjusting missing element domain to Domain(Cell('triangle', 2), 'triangle_multiverse', 2, 2).\n"
       ]
      },
      {
       "output_type": "stream",
       "stream": "stderr",
       "text": [
        "INFO:FFC:Adjusting element degree from ? to 2\n"
       ]
      },
      {
       "output_type": "stream",
       "stream": "stderr",
       "text": [
        "INFO:FFC:Adjusting missing element domain to Domain(Cell('triangle', 2), 'triangle_multiverse', 2, 2).\n"
       ]
      },
      {
       "output_type": "stream",
       "stream": "stderr",
       "text": [
        "INFO:FFC:Adjusting element degree from ? to 2\n"
       ]
      },
      {
       "output_type": "stream",
       "stream": "stderr",
       "text": [
        "INFO:FFC:Adjusting missing element domain to Domain(Cell('triangle', 2), 'triangle_multiverse', 2, 2).\n"
       ]
      },
      {
       "output_type": "stream",
       "stream": "stderr",
       "text": [
        "INFO:FFC:Adjusting element degree from ? to 2\n"
       ]
      },
      {
       "output_type": "stream",
       "stream": "stderr",
       "text": [
        "DEBUG:FFC:Reusing form from cache.\n"
       ]
      },
      {
       "output_type": "stream",
       "stream": "stdout",
       "text": [
        "\n",
        "7461"
       ]
      },
      {
       "output_type": "stream",
       "stream": "stderr",
       "text": [
        "DEBUG:FFC:Reusing form from cache.\n"
       ]
      },
      {
       "output_type": "stream",
       "stream": "stderr",
       "text": [
        "DEBUG:FFC:Reusing form from cache.\n"
       ]
      },
      {
       "output_type": "stream",
       "stream": "stderr",
       "text": [
        "DEBUG:UFL:No integrals left after transformation, returning empty form.\n"
       ]
      },
      {
       "output_type": "stream",
       "stream": "stderr",
       "text": [
        "DEBUG:FFC:Reusing form from cache.\n"
       ]
      },
      {
       "output_type": "stream",
       "stream": "stderr",
       "text": [
        "DEBUG:UFL:No integrals left after transformation, returning empty form.\n"
       ]
      },
      {
       "output_type": "stream",
       "stream": "stderr",
       "text": [
        "DEBUG:UFL:No integrals left after transformation, returning empty form.\n"
       ]
      },
      {
       "output_type": "stream",
       "stream": "stderr",
       "text": [
        "DEBUG:FFC:Reusing form from cache.\n"
       ]
      },
      {
       "output_type": "stream",
       "stream": "stderr",
       "text": [
        "INFO:FFC:Adjusting missing element domain to Domain(Cell('triangle', 2), 'triangle_multiverse', 2, 2).\n"
       ]
      },
      {
       "output_type": "stream",
       "stream": "stderr",
       "text": [
        "INFO:FFC:Adjusting element degree from ? to 2\n"
       ]
      },
      {
       "output_type": "stream",
       "stream": "stderr",
       "text": [
        "INFO:FFC:Adjusting missing element domain to Domain(Cell('triangle', 2), 'triangle_multiverse', 2, 2).\n"
       ]
      },
      {
       "output_type": "stream",
       "stream": "stderr",
       "text": [
        "INFO:FFC:Adjusting element degree from ? to 2\n"
       ]
      },
      {
       "output_type": "stream",
       "stream": "stderr",
       "text": [
        "INFO:FFC:Adjusting missing element domain to Domain(Cell('triangle', 2), 'triangle_multiverse', 2, 2).\n"
       ]
      },
      {
       "output_type": "stream",
       "stream": "stderr",
       "text": [
        "INFO:FFC:Adjusting element degree from ? to 2\n"
       ]
      },
      {
       "output_type": "stream",
       "stream": "stderr",
       "text": [
        "INFO:FFC:Adjusting missing element domain to Domain(Cell('triangle', 2), 'triangle_multiverse', 2, 2).\n"
       ]
      },
      {
       "output_type": "stream",
       "stream": "stderr",
       "text": [
        "INFO:FFC:Adjusting element degree from ? to 2\n"
       ]
      },
      {
       "output_type": "stream",
       "stream": "stderr",
       "text": [
        "INFO:FFC:Adjusting missing element domain to Domain(Cell('triangle', 2), 'triangle_multiverse', 2, 2).\n"
       ]
      },
      {
       "output_type": "stream",
       "stream": "stderr",
       "text": [
        "INFO:FFC:Adjusting element degree from ? to 2\n"
       ]
      },
      {
       "output_type": "stream",
       "stream": "stderr",
       "text": [
        "INFO:FFC:Adjusting missing element domain to Domain(Cell('triangle', 2), 'triangle_multiverse', 2, 2).\n"
       ]
      },
      {
       "output_type": "stream",
       "stream": "stderr",
       "text": [
        "INFO:FFC:Adjusting element degree from ? to 2\n"
       ]
      },
      {
       "output_type": "stream",
       "stream": "stderr",
       "text": [
        "INFO:FFC:Adjusting missing element domain to Domain(Cell('triangle', 2), 'triangle_multiverse', 2, 2).\n"
       ]
      },
      {
       "output_type": "stream",
       "stream": "stderr",
       "text": [
        "INFO:FFC:Adjusting element degree from ? to 2\n"
       ]
      },
      {
       "output_type": "stream",
       "stream": "stderr",
       "text": [
        "INFO:FFC:Adjusting missing element domain to Domain(Cell('triangle', 2), 'triangle_multiverse', 2, 2).\n"
       ]
      },
      {
       "output_type": "stream",
       "stream": "stderr",
       "text": [
        "INFO:FFC:Adjusting element degree from ? to 2\n"
       ]
      },
      {
       "output_type": "stream",
       "stream": "stderr",
       "text": [
        "INFO:FFC:Adjusting missing element domain to Domain(Cell('triangle', 2), 'triangle_multiverse', 2, 2).\n"
       ]
      },
      {
       "output_type": "stream",
       "stream": "stderr",
       "text": [
        "INFO:FFC:Adjusting element degree from ? to 2\n"
       ]
      },
      {
       "output_type": "stream",
       "stream": "stderr",
       "text": [
        "DEBUG:UFL:No integrals left after transformation, returning empty form.\n"
       ]
      },
      {
       "output_type": "stream",
       "stream": "stderr",
       "text": [
        "DEBUG:FFC:Reusing form from cache.\n"
       ]
      },
      {
       "output_type": "stream",
       "stream": "stderr",
       "text": [
        "DEBUG:UFL:No integrals left after transformation, returning empty form.\n"
       ]
      },
      {
       "output_type": "stream",
       "stream": "stderr",
       "text": [
        "DEBUG:UFL:No integrals left after transformation, returning empty form.\n"
       ]
      },
      {
       "output_type": "stream",
       "stream": "stderr",
       "text": [
        "DEBUG:FFC:Reusing form from cache.\n"
       ]
      },
      {
       "output_type": "stream",
       "stream": "stdout",
       "text": [
        "\n",
        "0.0262711048126\n",
        "number of iterations"
       ]
      },
      {
       "output_type": "stream",
       "stream": "stderr",
       "text": [
        "DEBUG:UFL:No integrals left after transformation, returning empty form.\n"
       ]
      },
      {
       "output_type": "stream",
       "stream": "stderr",
       "text": [
        "DEBUG:UFL:No integrals left after transformation, returning empty form.\n"
       ]
      },
      {
       "output_type": "stream",
       "stream": "stdout",
       "text": [
        " 7\n",
        "Calling FFC just-in-time (JIT) compiler, this may take some time.\n"
       ]
      },
      {
       "output_type": "stream",
       "stream": "stderr",
       "text": [
        "Level 25:FFC:Calling FFC just-in-time (JIT) compiler, this may take some time.\n"
       ]
      },
      {
       "output_type": "stream",
       "stream": "stderr",
       "text": [
        "INFO:FFC:Compiling form ffc_form_8d1f81f1aff3622a8e01c992d9e9b18b29904d2a\n",
        "\n"
       ]
      },
      {
       "output_type": "stream",
       "stream": "stderr",
       "text": [
        "INFO:FFC:Compiler stage 1: Analyzing form(s)\n"
       ]
      },
      {
       "output_type": "stream",
       "stream": "stderr",
       "text": [
        "INFO:FFC:-----------------------------------\n"
       ]
      },
      {
       "output_type": "stream",
       "stream": "stderr",
       "text": [
        "INFO:FFC:  \n"
       ]
      },
      {
       "output_type": "stream",
       "stream": "stderr",
       "text": [
        "INFO:FFC:  Name:                   ''\n",
        "  Cell:                   <triangle cell in 2D>\n",
        "  Topological dimension:  2\n",
        "  Geometric dimension:    2\n",
        "  Rank:                   2\n",
        "  Number of coefficients: 1\n",
        "  Arguments:              '[v_{-2}, v_{-1}]'\n",
        "  Coefficients:           '[f_20]'\n",
        "  Argument names:         '[v0, v1]'\n",
        "  Coefficient names:      '[w0]'\n",
        "  Unique elements:        'Mixed<Vector<2 x CG2(?)>, CG1(?), N1curl2(?), CG2(?)>, N1\n",
        "                          curl2(?)'\n",
        "  Unique sub elements:    'Mixed<Vector<2 x CG2(?)>, CG1(?), N1curl2(?), CG2(?)>, N1\n",
        "                          curl2(?), Vector<2 x CG2(?)>, CG1(?), CG2(?)'\n",
        "  Domains:                (Domain(Cell('triangle', 2), 'triangle_multiverse', 2, 2),\n",
        "                          )\n",
        "  Top level domains:      (Domain(Cell('triangle', 2), 'triangle_multiverse', 2, 2),\n",
        "                          )\n",
        "  \n"
       ]
      },
      {
       "output_type": "stream",
       "stream": "stderr",
       "text": [
        "INFO:FFC:  Extracting monomial form representation from UFL form\n"
       ]
      },
      {
       "output_type": "stream",
       "stream": "stderr",
       "text": [
        "INFO:FFC:  Transforming monomial form to reference element\n"
       ]
      },
      {
       "output_type": "stream",
       "stream": "stderr",
       "text": [
        "DEBUG:FFC:  Reusing element from cache\n"
       ]
      },
      {
       "output_type": "stream",
       "stream": "stderr",
       "text": [
        "DEBUG:FFC:  Reusing element from cache\n"
       ]
      },
      {
       "output_type": "stream",
       "stream": "stderr",
       "text": [
        "DEBUG:FFC:  Reusing element from cache\n"
       ]
      },
      {
       "output_type": "stream",
       "stream": "stderr",
       "text": [
        "DEBUG:FFC:  Reusing element from cache\n"
       ]
      },
      {
       "output_type": "stream",
       "stream": "stderr",
       "text": [
        "DEBUG:FFC:  Reusing element from cache\n"
       ]
      },
      {
       "output_type": "stream",
       "stream": "stderr",
       "text": [
        "DEBUG:FFC:  Reusing element from cache\n"
       ]
      },
      {
       "output_type": "stream",
       "stream": "stderr",
       "text": [
        "DEBUG:FFC:  Reusing element from cache\n"
       ]
      },
      {
       "output_type": "stream",
       "stream": "stderr",
       "text": [
        "DEBUG:FFC:  Reusing element from cache\n"
       ]
      },
      {
       "output_type": "stream",
       "stream": "stderr",
       "text": [
        "DEBUG:FFC:  Reusing element from cache\n"
       ]
      },
      {
       "output_type": "stream",
       "stream": "stderr",
       "text": [
        "DEBUG:FFC:  Reusing element from cache\n"
       ]
      },
      {
       "output_type": "stream",
       "stream": "stderr",
       "text": [
        "DEBUG:FFC:  Reusing element from cache\n"
       ]
      },
      {
       "output_type": "stream",
       "stream": "stderr",
       "text": [
        "DEBUG:FFC:  Reusing element from cache\n"
       ]
      },
      {
       "output_type": "stream",
       "stream": "stderr",
       "text": [
        "DEBUG:FFC:  Reusing element from cache\n"
       ]
      },
      {
       "output_type": "stream",
       "stream": "stderr",
       "text": [
        "DEBUG:FFC:  Reusing element from cache\n"
       ]
      },
      {
       "output_type": "stream",
       "stream": "stderr",
       "text": [
        "DEBUG:FFC:  Reusing element from cache\n"
       ]
      },
      {
       "output_type": "stream",
       "stream": "stderr",
       "text": [
        "DEBUG:FFC:  Reusing element from cache\n"
       ]
      },
      {
       "output_type": "stream",
       "stream": "stderr",
       "text": [
        "DEBUG:FFC:  Reusing element from cache\n"
       ]
      },
      {
       "output_type": "stream",
       "stream": "stderr",
       "text": [
        "DEBUG:FFC:  Reusing element from cache\n"
       ]
      },
      {
       "output_type": "stream",
       "stream": "stderr",
       "text": [
        "DEBUG:FFC:  Reusing element from cache\n"
       ]
      },
      {
       "output_type": "stream",
       "stream": "stderr",
       "text": [
        "DEBUG:FFC:  Reusing element from cache\n"
       ]
      },
      {
       "output_type": "stream",
       "stream": "stderr",
       "text": [
        "DEBUG:FFC:  Reusing element from cache\n"
       ]
      },
      {
       "output_type": "stream",
       "stream": "stderr",
       "text": [
        "DEBUG:FFC:  Reusing element from cache\n"
       ]
      },
      {
       "output_type": "stream",
       "stream": "stderr",
       "text": [
        "DEBUG:FFC:  Reusing element from cache\n"
       ]
      },
      {
       "output_type": "stream",
       "stream": "stderr",
       "text": [
        "DEBUG:FFC:  Reusing element from cache\n"
       ]
      },
      {
       "output_type": "stream",
       "stream": "stderr",
       "text": [
        "DEBUG:FFC:  Reusing element from cache\n"
       ]
      },
      {
       "output_type": "stream",
       "stream": "stderr",
       "text": [
        "DEBUG:FFC:  Reusing element from cache\n"
       ]
      },
      {
       "output_type": "stream",
       "stream": "stderr",
       "text": [
        "DEBUG:FFC:  Reusing element from cache\n"
       ]
      },
      {
       "output_type": "stream",
       "stream": "stderr",
       "text": [
        "DEBUG:FFC:  Reusing element from cache\n"
       ]
      },
      {
       "output_type": "stream",
       "stream": "stderr",
       "text": [
        "DEBUG:FFC:  Reusing element from cache\n"
       ]
      },
      {
       "output_type": "stream",
       "stream": "stderr",
       "text": [
        "DEBUG:FFC:  Reusing element from cache\n"
       ]
      },
      {
       "output_type": "stream",
       "stream": "stderr",
       "text": [
        "DEBUG:FFC:  Reusing element from cache\n"
       ]
      },
      {
       "output_type": "stream",
       "stream": "stderr",
       "text": [
        "DEBUG:FFC:  Reusing element from cache\n"
       ]
      },
      {
       "output_type": "stream",
       "stream": "stderr",
       "text": [
        "DEBUG:FFC:  Reusing element from cache\n"
       ]
      },
      {
       "output_type": "stream",
       "stream": "stderr",
       "text": [
        "DEBUG:FFC:  Reusing element from cache\n"
       ]
      },
      {
       "output_type": "stream",
       "stream": "stderr",
       "text": [
        "DEBUG:FFC:  Reusing element from cache\n"
       ]
      },
      {
       "output_type": "stream",
       "stream": "stderr",
       "text": [
        "DEBUG:FFC:  Reusing element from cache\n"
       ]
      },
      {
       "output_type": "stream",
       "stream": "stderr",
       "text": [
        "DEBUG:FFC:  Reusing element from cache\n"
       ]
      },
      {
       "output_type": "stream",
       "stream": "stderr",
       "text": [
        "DEBUG:FFC:  Reusing element from cache\n"
       ]
      },
      {
       "output_type": "stream",
       "stream": "stderr",
       "text": [
        "DEBUG:FFC:  Reusing element from cache\n"
       ]
      },
      {
       "output_type": "stream",
       "stream": "stderr",
       "text": [
        "DEBUG:FFC:  Reusing element from cache\n"
       ]
      },
      {
       "output_type": "stream",
       "stream": "stderr",
       "text": [
        "DEBUG:FFC:  Reusing element from cache\n"
       ]
      },
      {
       "output_type": "stream",
       "stream": "stderr",
       "text": [
        "DEBUG:FFC:  Reusing element from cache\n"
       ]
      },
      {
       "output_type": "stream",
       "stream": "stderr",
       "text": [
        "DEBUG:FFC:  Reusing element from cache\n"
       ]
      },
      {
       "output_type": "stream",
       "stream": "stderr",
       "text": [
        "DEBUG:FFC:  Reusing element from cache\n"
       ]
      },
      {
       "output_type": "stream",
       "stream": "stderr",
       "text": [
        "DEBUG:FFC:  Reusing element from cache\n"
       ]
      },
      {
       "output_type": "stream",
       "stream": "stderr",
       "text": [
        "DEBUG:FFC:  Reusing element from cache\n"
       ]
      },
      {
       "output_type": "stream",
       "stream": "stderr",
       "text": [
        "DEBUG:FFC:  Reusing element from cache\n"
       ]
      },
      {
       "output_type": "stream",
       "stream": "stderr",
       "text": [
        "DEBUG:FFC:  Reusing element from cache\n"
       ]
      },
      {
       "output_type": "stream",
       "stream": "stderr",
       "text": [
        "DEBUG:FFC:  Reusing element from cache\n"
       ]
      },
      {
       "output_type": "stream",
       "stream": "stderr",
       "text": [
        "DEBUG:FFC:  Reusing element from cache\n"
       ]
      },
      {
       "output_type": "stream",
       "stream": "stderr",
       "text": [
        "DEBUG:FFC:  Reusing element from cache\n"
       ]
      },
      {
       "output_type": "stream",
       "stream": "stderr",
       "text": [
        "DEBUG:FFC:  Reusing element from cache\n"
       ]
      },
      {
       "output_type": "stream",
       "stream": "stderr",
       "text": [
        "DEBUG:FFC:  Reusing element from cache\n"
       ]
      },
      {
       "output_type": "stream",
       "stream": "stderr",
       "text": [
        "DEBUG:FFC:  Reusing element from cache\n"
       ]
      },
      {
       "output_type": "stream",
       "stream": "stderr",
       "text": [
        "DEBUG:FFC:  Reusing element from cache\n"
       ]
      },
      {
       "output_type": "stream",
       "stream": "stderr",
       "text": [
        "DEBUG:FFC:  Reusing element from cache\n"
       ]
      },
      {
       "output_type": "stream",
       "stream": "stderr",
       "text": [
        "DEBUG:FFC:  Reusing element from cache\n"
       ]
      },
      {
       "output_type": "stream",
       "stream": "stderr",
       "text": [
        "DEBUG:FFC:  Reusing element from cache\n"
       ]
      },
      {
       "output_type": "stream",
       "stream": "stderr",
       "text": [
        "DEBUG:FFC:  Reusing element from cache\n"
       ]
      },
      {
       "output_type": "stream",
       "stream": "stderr",
       "text": [
        "DEBUG:FFC:  Reusing element from cache\n"
       ]
      },
      {
       "output_type": "stream",
       "stream": "stderr",
       "text": [
        "DEBUG:FFC:  Reusing element from cache\n"
       ]
      },
      {
       "output_type": "stream",
       "stream": "stderr",
       "text": [
        "DEBUG:FFC:  Reusing element from cache\n"
       ]
      },
      {
       "output_type": "stream",
       "stream": "stderr",
       "text": [
        "DEBUG:FFC:  Reusing element from cache\n"
       ]
      },
      {
       "output_type": "stream",
       "stream": "stderr",
       "text": [
        "DEBUG:FFC:  Reusing element from cache\n"
       ]
      },
      {
       "output_type": "stream",
       "stream": "stderr",
       "text": [
        "DEBUG:FFC:  Reusing element from cache\n"
       ]
      },
      {
       "output_type": "stream",
       "stream": "stderr",
       "text": [
        "DEBUG:FFC:  Reusing element from cache\n"
       ]
      },
      {
       "output_type": "stream",
       "stream": "stderr",
       "text": [
        "DEBUG:FFC:  Reusing element from cache\n"
       ]
      },
      {
       "output_type": "stream",
       "stream": "stderr",
       "text": [
        "DEBUG:FFC:  Reusing element from cache\n"
       ]
      },
      {
       "output_type": "stream",
       "stream": "stderr",
       "text": [
        "DEBUG:FFC:  Reusing element from cache\n"
       ]
      },
      {
       "output_type": "stream",
       "stream": "stderr",
       "text": [
        "DEBUG:FFC:  Reusing element from cache\n"
       ]
      },
      {
       "output_type": "stream",
       "stream": "stderr",
       "text": [
        "DEBUG:FFC:  Reusing element from cache\n"
       ]
      },
      {
       "output_type": "stream",
       "stream": "stderr",
       "text": [
        "DEBUG:FFC:  Reusing element from cache\n"
       ]
      },
      {
       "output_type": "stream",
       "stream": "stderr",
       "text": [
        "DEBUG:FFC:  Reusing element from cache\n"
       ]
      },
      {
       "output_type": "stream",
       "stream": "stderr",
       "text": [
        "DEBUG:FFC:  Reusing element from cache\n"
       ]
      },
      {
       "output_type": "stream",
       "stream": "stderr",
       "text": [
        "DEBUG:FFC:  Reusing element from cache\n"
       ]
      },
      {
       "output_type": "stream",
       "stream": "stderr",
       "text": [
        "DEBUG:FFC:  Reusing element from cache\n"
       ]
      },
      {
       "output_type": "stream",
       "stream": "stderr",
       "text": [
        "DEBUG:FFC:  Reusing element from cache\n"
       ]
      },
      {
       "output_type": "stream",
       "stream": "stderr",
       "text": [
        "DEBUG:FFC:  Reusing element from cache\n"
       ]
      },
      {
       "output_type": "stream",
       "stream": "stderr",
       "text": [
        "DEBUG:FFC:  Reusing element from cache\n"
       ]
      },
      {
       "output_type": "stream",
       "stream": "stderr",
       "text": [
        "DEBUG:FFC:  Reusing element from cache\n"
       ]
      },
      {
       "output_type": "stream",
       "stream": "stderr",
       "text": [
        "DEBUG:FFC:  Reusing element from cache\n"
       ]
      },
      {
       "output_type": "stream",
       "stream": "stderr",
       "text": [
        "DEBUG:FFC:  Reusing element from cache\n"
       ]
      },
      {
       "output_type": "stream",
       "stream": "stderr",
       "text": [
        "DEBUG:FFC:  Reusing element from cache\n"
       ]
      },
      {
       "output_type": "stream",
       "stream": "stderr",
       "text": [
        "DEBUG:FFC:  Reusing element from cache\n"
       ]
      },
      {
       "output_type": "stream",
       "stream": "stderr",
       "text": [
        "DEBUG:FFC:  Reusing element from cache\n"
       ]
      },
      {
       "output_type": "stream",
       "stream": "stderr",
       "text": [
        "DEBUG:FFC:  Reusing element from cache\n"
       ]
      },
      {
       "output_type": "stream",
       "stream": "stderr",
       "text": [
        "DEBUG:FFC:  Reusing element from cache\n"
       ]
      },
      {
       "output_type": "stream",
       "stream": "stderr",
       "text": [
        "DEBUG:FFC:  Reusing element from cache\n"
       ]
      },
      {
       "output_type": "stream",
       "stream": "stderr",
       "text": [
        "DEBUG:FFC:  Reusing element from cache\n"
       ]
      },
      {
       "output_type": "stream",
       "stream": "stderr",
       "text": [
        "DEBUG:FFC:  Reusing element from cache\n"
       ]
      },
      {
       "output_type": "stream",
       "stream": "stderr",
       "text": [
        "DEBUG:FFC:  Reusing element from cache\n"
       ]
      },
      {
       "output_type": "stream",
       "stream": "stderr",
       "text": [
        "DEBUG:FFC:  Reusing element from cache\n"
       ]
      },
      {
       "output_type": "stream",
       "stream": "stderr",
       "text": [
        "DEBUG:FFC:  Reusing element from cache\n"
       ]
      },
      {
       "output_type": "stream",
       "stream": "stderr",
       "text": [
        "DEBUG:FFC:  Reusing element from cache\n"
       ]
      },
      {
       "output_type": "stream",
       "stream": "stderr",
       "text": [
        "DEBUG:FFC:  Reusing element from cache\n"
       ]
      },
      {
       "output_type": "stream",
       "stream": "stderr",
       "text": [
        "DEBUG:FFC:  Reusing element from cache\n"
       ]
      },
      {
       "output_type": "stream",
       "stream": "stderr",
       "text": [
        "DEBUG:FFC:  Reusing element from cache\n"
       ]
      },
      {
       "output_type": "stream",
       "stream": "stderr",
       "text": [
        "DEBUG:FFC:  Estimated cost of tensor representation: 4\n"
       ]
      },
      {
       "output_type": "stream",
       "stream": "stderr",
       "text": [
        "INFO:FFC:  representation:    auto --> quadrature\n"
       ]
      },
      {
       "output_type": "stream",
       "stream": "stderr",
       "text": [
        "DEBUG:FFC:  Selecting quadrature degree based on total polynomial degree of integrand: 5\n"
       ]
      },
      {
       "output_type": "stream",
       "stream": "stderr",
       "text": [
        "INFO:FFC:  quadrature_degree: auto --> 5\n"
       ]
      },
      {
       "output_type": "stream",
       "stream": "stderr",
       "text": [
        "INFO:FFC:  quadrature_rule:   auto --> default\n"
       ]
      },
      {
       "output_type": "stream",
       "stream": "stderr",
       "text": [
        "INFO:FFC:  \n"
       ]
      },
      {
       "output_type": "stream",
       "stream": "stderr",
       "text": [
        "INFO:FFC:Compiler stage 1 finished in 0.0673549 seconds.\n",
        "\n"
       ]
      },
      {
       "output_type": "stream",
       "stream": "stderr",
       "text": [
        "INFO:FFC:Compiler stage 2: Computing intermediate representation\n"
       ]
      },
      {
       "output_type": "stream",
       "stream": "stderr",
       "text": [
        "INFO:FFC:-------------------------------------------------------\n"
       ]
      },
      {
       "output_type": "stream",
       "stream": "stderr",
       "text": [
        "INFO:FFC:  Computing representation of 5 elements\n"
       ]
      },
      {
       "output_type": "stream",
       "stream": "stderr",
       "text": [
        "DEBUG:FFC:  Reusing element from cache\n"
       ]
      },
      {
       "output_type": "stream",
       "stream": "stderr",
       "text": [
        "DEBUG:FFC:  Reusing element from cache\n"
       ]
      },
      {
       "output_type": "stream",
       "stream": "stderr",
       "text": [
        "DEBUG:FFC:  Reusing element from cache\n"
       ]
      },
      {
       "output_type": "stream",
       "stream": "stderr",
       "text": [
        "DEBUG:FFC:  Reusing element from cache\n"
       ]
      },
      {
       "output_type": "stream",
       "stream": "stderr",
       "text": [
        "DEBUG:FFC:  Reusing element from cache\n"
       ]
      },
      {
       "output_type": "stream",
       "stream": "stderr",
       "text": [
        "DEBUG:FFC:  Reusing element from cache\n"
       ]
      },
      {
       "output_type": "stream",
       "stream": "stderr",
       "text": [
        "DEBUG:FFC:  Reusing element from cache\n"
       ]
      },
      {
       "output_type": "stream",
       "stream": "stderr",
       "text": [
        "DEBUG:FFC:  Reusing element from cache\n"
       ]
      },
      {
       "output_type": "stream",
       "stream": "stderr",
       "text": [
        "DEBUG:FFC:  Reusing element from cache\n"
       ]
      },
      {
       "output_type": "stream",
       "stream": "stderr",
       "text": [
        "DEBUG:FFC:  Reusing element from cache\n"
       ]
      },
      {
       "output_type": "stream",
       "stream": "stderr",
       "text": [
        "DEBUG:FFC:  Reusing element from cache\n"
       ]
      },
      {
       "output_type": "stream",
       "stream": "stderr",
       "text": [
        "INFO:FFC:  Computing representation of 5 dofmaps\n"
       ]
      },
      {
       "output_type": "stream",
       "stream": "stderr",
       "text": [
        "DEBUG:FFC:  Reusing element from cache\n"
       ]
      },
      {
       "output_type": "stream",
       "stream": "stderr",
       "text": [
        "DEBUG:FFC:  Reusing element from cache\n"
       ]
      },
      {
       "output_type": "stream",
       "stream": "stderr",
       "text": [
        "DEBUG:FFC:  Reusing element from cache\n"
       ]
      },
      {
       "output_type": "stream",
       "stream": "stderr",
       "text": [
        "DEBUG:FFC:  Reusing element from cache\n"
       ]
      },
      {
       "output_type": "stream",
       "stream": "stderr",
       "text": [
        "DEBUG:FFC:  Reusing element from cache\n"
       ]
      },
      {
       "output_type": "stream",
       "stream": "stderr",
       "text": [
        "INFO:FFC:  Computing representation of integrals\n"
       ]
      },
      {
       "output_type": "stream",
       "stream": "stderr",
       "text": [
        "INFO:FFC:  Computing quadrature representation\n"
       ]
      },
      {
       "output_type": "stream",
       "stream": "stderr",
       "text": [
        "DEBUG:FFC:  Reusing element from cache\n"
       ]
      },
      {
       "output_type": "stream",
       "stream": "stderr",
       "text": [
        "DEBUG:FFC:  Reusing element from cache\n"
       ]
      },
      {
       "output_type": "stream",
       "stream": "stderr",
       "text": [
        "DEBUG:FFC:  Reusing element from cache\n"
       ]
      },
      {
       "output_type": "stream",
       "stream": "stderr",
       "text": [
        "DEBUG:FFC:  Reusing element from cache\n"
       ]
      },
      {
       "output_type": "stream",
       "stream": "stderr",
       "text": [
        "DEBUG:FFC:  Reusing element from cache\n"
       ]
      },
      {
       "output_type": "stream",
       "stream": "stderr",
       "text": [
        "DEBUG:FFC:  Reusing element from cache\n"
       ]
      },
      {
       "output_type": "stream",
       "stream": "stderr",
       "text": [
        "DEBUG:FFC:  \n",
        "  QG-utils, psi_tables:\n",
        "  {7: {MixedElement(*[VectorElement('Lagrange', Domain(Cell('triangle', 2), 'triangle_multiverse', 2, 2), 2, 2, None), FiniteElement('Lagrange', Domain(Cell('triangle', 2), 'triangle_multiverse', 2, 2), 1, None), FiniteElement('Nedelec 1st kind H(curl)', Domain(Cell('triangle', 2), 'triangle_multiverse', 2, 2), 2, None), FiniteElement('Lagrange', Domain(Cell('triangle', 2), 'triangle_multiverse', 2, 2), 2, None)], **{'value_shape': (6,) }): {None: {None: {(0, 1): array([[[ -3.33333333e-01,   5.94853971e-01,   5.94853971e-01, ...,\n",
        "            -8.80568256e-01,  -8.80568256e-01,   7.61136513e-01],\n",
        "          [  0.00000000e+00,   0.00000000e+00,   0.00000000e+00, ...,\n",
        "             0.00000000e+00,   0.00000000e+00,   0.00000000e+00],\n",
        "          [  0.00000000e+00,   0.00000000e+00,   0.00000000e+00, ...,\n",
        "             0.00000000e+00,   0.00000000e+00,   0.00000000e+00],\n",
        "          [  0.00000000e+00,   0.00000000e+00,   0.00000000e+00, ...,\n",
        "             0.00000000e+00,   0.00000000e+00,   0.00000000e+00],\n",
        "          [  0.00000000e+00,   0.00000000e+00,   0.00000000e+00, ...,\n",
        "             0.00000000e+00,   0.00000000e+00,   0.00000000e+00],\n",
        "          [  0.00000000e+00,   0.00000000e+00,   0.00000000e+00, ...,\n",
        "             0.00000000e+00,   0.00000000e+00,   0.00000000e+00]],\n",
        "  \n",
        "         [[  8.32667268e-17,   2.22044605e-16,  -2.22044605e-16, ...,\n",
        "             1.52655666e-16,  -2.77555756e-16,   9.71445147e-17],\n",
        "          [  0.00000000e+00,   0.00000000e+00,   0.00000000e+00, ...,\n",
        "             0.00000000e+00,   0.00000000e+00,   0.00000000e+00],\n",
        "          [  0.00000000e+00,   0.00000000e+00,   0.00000000e+00, ...,\n",
        "             0.00000000e+00,   0.00000000e+00,   0.00000000e+00],\n",
        "          [  0.00000000e+00,   0.00000000e+00,   0.00000000e+00, ...,\n",
        "             0.00000000e+00,   0.00000000e+00,   0.00000000e+00],\n",
        "          [  0.00000000e+00,   0.00000000e+00,   0.00000000e+00, ...,\n",
        "             0.00000000e+00,   0.00000000e+00,   0.00000000e+00],\n",
        "          [  0.00000000e+00,   0.00000000e+00,   0.00000000e+00, ...,\n",
        "             0.00000000e+00,   0.00000000e+00,   0.00000000e+00]],\n",
        "  \n",
        "         [[  3.33333333e-01,  -5.94853971e-01,   2.18970794e+00, ...,\n",
        "             8.80568256e-01,  -7.61136513e-01,   8.80568256e-01],\n",
        "          [  0.00000000e+00,   0.00000000e+00,   0.00000000e+00, ...,\n",
        "             0.00000000e+00,   0.00000000e+00,   0.00000000e+00],\n",
        "          [  0.00000000e+00,   0.00000000e+00,   0.00000000e+00, ...,\n",
        "             0.00000000e+00,   0.00000000e+00,   0.00000000e+00],\n",
        "          [  0.00000000e+00,   0.00000000e+00,   0.00000000e+00, ...,\n",
        "             0.00000000e+00,   0.00000000e+00,   0.00000000e+00],\n",
        "          [  0.00000000e+00,   0.00000000e+00,   0.00000000e+00, ...,\n",
        "             0.00000000e+00,   0.00000000e+00,   0.00000000e+00],\n",
        "          [  0.00000000e+00,   0.00000000e+00,   0.00000000e+00, ...,\n",
        "             0.00000000e+00,   0.00000000e+00,   0.00000000e+00]],\n",
        "  \n",
        "         ..., \n",
        "         [[  0.00000000e+00,   0.00000000e+00,   0.00000000e+00, ...,\n",
        "             0.00000000e+00,   0.00000000e+00,   0.00000000e+00],\n",
        "          [  0.00000000e+00,   0.00000000e+00,   0.00000000e+00, ...,\n",
        "             0.00000000e+00,   0.00000000e+00,   0.00000000e+00],\n",
        "          [  0.00000000e+00,   0.00000000e+00,   0.00000000e+00, ...,\n",
        "             0.00000000e+00,   0.00000000e+00,   0.00000000e+00],\n",
        "          [  0.00000000e+00,   0.00000000e+00,   0.00000000e+00, ...,\n",
        "             0.00000000e+00,   0.00000000e+00,   0.00000000e+00],\n",
        "          [  0.00000000e+00,   0.00000000e+00,   0.00000000e+00, ...,\n",
        "             0.00000000e+00,   0.00000000e+00,   0.00000000e+00],\n",
        "          [  1.33333333e+00,   3.18970794e+00,   4.05146029e-01, ...,\n",
        "             2.38863487e-01,   1.88056826e+00,   1.88056826e+00]],\n",
        "  \n",
        "         [[  0.00000000e+00,   0.00000000e+00,   0.00000000e+00, ...,\n",
        "             0.00000000e+00,   0.00000000e+00,   0.00000000e+00],\n",
        "          [  0.00000000e+00,   0.00000000e+00,   0.00000000e+00, ...,\n",
        "             0.00000000e+00,   0.00000000e+00,   0.00000000e+00],\n",
        "          [  0.00000000e+00,   0.00000000e+00,   0.00000000e+00, ...,\n",
        "             0.00000000e+00,   0.00000000e+00,   0.00000000e+00],\n",
        "          [  0.00000000e+00,   0.00000000e+00,   0.00000000e+00, ...,\n",
        "             0.00000000e+00,   0.00000000e+00,   0.00000000e+00],\n",
        "          [  0.00000000e+00,   0.00000000e+00,   0.00000000e+00, ...,\n",
        "             0.00000000e+00,   0.00000000e+00,   0.00000000e+00],\n",
        "          [ -1.66533454e-16,   4.44089210e-16,  -2.78456191e+00, ...,\n",
        "             3.33066907e-16,   1.64170477e+00,  -1.64170477e+00]],\n",
        "  \n",
        "         [[  0.00000000e+00,   0.00000000e+00,   0.00000000e+00, ...,\n",
        "             0.00000000e+00,   0.00000000e+00,   0.00000000e+00],\n",
        "          [  0.00000000e+00,   0.00000000e+00,   0.00000000e+00, ...,\n",
        "             0.00000000e+00,   0.00000000e+00,   0.00000000e+00],\n",
        "          [  0.00000000e+00,   0.00000000e+00,   0.00000000e+00, ...,\n",
        "             0.00000000e+00,   0.00000000e+00,   0.00000000e+00],\n",
        "          [  0.00000000e+00,   0.00000000e+00,   0.00000000e+00, ...,\n",
        "             0.00000000e+00,   0.00000000e+00,   0.00000000e+00],\n",
        "          [  0.00000000e+00,   0.00000000e+00,   0.00000000e+00, ...,\n",
        "             0.00000000e+00,   0.00000000e+00,   0.00000000e+00],\n",
        "          [ -1.33333333e+00,  -3.18970794e+00,  -4.05146029e-01, ...,\n",
        "            -2.38863487e-01,  -1.88056826e+00,  -1.88056826e+00]]]), (1, 0): array([[[ -3.33333333e-01,   5.94853971e-01,   5.94853971e-01, ...,\n",
        "            -8.80568256e-01,  -8.80568256e-01,   7.61136513e-01],\n",
        "          [  0.00000000e+00,   0.00000000e+00,   0.00000000e+00, ...,\n",
        "             0.00000000e+00,   0.00000000e+00,   0.00000000e+00],\n",
        "          [  0.00000000e+00,   0.00000000e+00,   0.00000000e+00, ...,\n",
        "             0.00000000e+00,   0.00000000e+00,   0.00000000e+00],\n",
        "          [  0.00000000e+00,   0.00000000e+00,   0.00000000e+00, ...,\n",
        "             0.00000000e+00,   0.00000000e+00,   0.00000000e+00],\n",
        "          [  0.00000000e+00,   0.00000000e+00,   0.00000000e+00, ...,\n",
        "             0.00000000e+00,   0.00000000e+00,   0.00000000e+00],\n",
        "          [  0.00000000e+00,   0.00000000e+00,   0.00000000e+00, ...,\n",
        "             0.00000000e+00,   0.00000000e+00,   0.00000000e+00]],\n",
        "  \n",
        "         [[  3.33333333e-01,   2.18970794e+00,  -5.94853971e-01, ...,\n",
        "            -7.61136513e-01,   8.80568256e-01,   8.80568256e-01],\n",
        "          [  0.00000000e+00,   0.00000000e+00,   0.00000000e+00, ...,\n",
        "             0.00000000e+00,   0.00000000e+00,   0.00000000e+00],\n",
        "          [  0.00000000e+00,   0.00000000e+00,   0.00000000e+00, ...,\n",
        "             0.00000000e+00,   0.00000000e+00,   0.00000000e+00],\n",
        "          [  0.00000000e+00,   0.00000000e+00,   0.00000000e+00, ...,\n",
        "             0.00000000e+00,   0.00000000e+00,   0.00000000e+00],\n",
        "          [  0.00000000e+00,   0.00000000e+00,   0.00000000e+00, ...,\n",
        "             0.00000000e+00,   0.00000000e+00,   0.00000000e+00],\n",
        "          [  0.00000000e+00,   0.00000000e+00,   0.00000000e+00, ...,\n",
        "             0.00000000e+00,   0.00000000e+00,   0.00000000e+00]],\n",
        "  \n",
        "         [[  0.00000000e+00,   0.00000000e+00,   0.00000000e+00, ...,\n",
        "             0.00000000e+00,   0.00000000e+00,   0.00000000e+00],\n",
        "          [  0.00000000e+00,   0.00000000e+00,   0.00000000e+00, ...,\n",
        "             0.00000000e+00,   0.00000000e+00,   0.00000000e+00],\n",
        "          [  0.00000000e+00,   0.00000000e+00,   0.00000000e+00, ...,\n",
        "             0.00000000e+00,   0.00000000e+00,   0.00000000e+00],\n",
        "          [  0.00000000e+00,   0.00000000e+00,   0.00000000e+00, ...,\n",
        "             0.00000000e+00,   0.00000000e+00,   0.00000000e+00],\n",
        "          [  0.00000000e+00,   0.00000000e+00,   0.00000000e+00, ...,\n",
        "             0.00000000e+00,   0.00000000e+00,   0.00000000e+00],\n",
        "          [  0.00000000e+00,   0.00000000e+00,   0.00000000e+00, ...,\n",
        "             0.00000000e+00,   0.00000000e+00,   0.00000000e+00]],\n",
        "  \n",
        "         ..., \n",
        "         [[  0.00000000e+00,   0.00000000e+00,   0.00000000e+00, ...,\n",
        "             0.00000000e+00,   0.00000000e+00,   0.00000000e+00],\n",
        "          [  0.00000000e+00,   0.00000000e+00,   0.00000000e+00, ...,\n",
        "             0.00000000e+00,   0.00000000e+00,   0.00000000e+00],\n",
        "          [  0.00000000e+00,   0.00000000e+00,   0.00000000e+00, ...,\n",
        "             0.00000000e+00,   0.00000000e+00,   0.00000000e+00],\n",
        "          [  0.00000000e+00,   0.00000000e+00,   0.00000000e+00, ...,\n",
        "             0.00000000e+00,   0.00000000e+00,   0.00000000e+00],\n",
        "          [  0.00000000e+00,   0.00000000e+00,   0.00000000e+00, ...,\n",
        "             0.00000000e+00,   0.00000000e+00,   0.00000000e+00],\n",
        "          [  1.33333333e+00,   4.05146029e-01,   3.18970794e+00, ...,\n",
        "             1.88056826e+00,   2.38863487e-01,   1.88056826e+00]],\n",
        "  \n",
        "         [[  0.00000000e+00,   0.00000000e+00,   0.00000000e+00, ...,\n",
        "             0.00000000e+00,   0.00000000e+00,   0.00000000e+00],\n",
        "          [  0.00000000e+00,   0.00000000e+00,   0.00000000e+00, ...,\n",
        "             0.00000000e+00,   0.00000000e+00,   0.00000000e+00],\n",
        "          [  0.00000000e+00,   0.00000000e+00,   0.00000000e+00, ...,\n",
        "             0.00000000e+00,   0.00000000e+00,   0.00000000e+00],\n",
        "          [  0.00000000e+00,   0.00000000e+00,   0.00000000e+00, ...,\n",
        "             0.00000000e+00,   0.00000000e+00,   0.00000000e+00],\n",
        "          [  0.00000000e+00,   0.00000000e+00,   0.00000000e+00, ...,\n",
        "             0.00000000e+00,   0.00000000e+00,   0.00000000e+00],\n",
        "          [ -1.33333333e+00,  -4.05146029e-01,  -3.18970794e+00, ...,\n",
        "            -1.88056826e+00,  -2.38863487e-01,  -1.88056826e+00]],\n",
        "  \n",
        "         [[  0.00000000e+00,   0.00000000e+00,   0.00000000e+00, ...,\n",
        "             0.00000000e+00,   0.00000000e+00,   0.00000000e+00],\n",
        "          [  0.00000000e+00,   0.00000000e+00,   0.00000000e+00, ...,\n",
        "             0.00000000e+00,   0.00000000e+00,   0.00000000e+00],\n",
        "          [  0.00000000e+00,   0.00000000e+00,   0.00000000e+00, ...,\n",
        "             0.00000000e+00,   0.00000000e+00,   0.00000000e+00],\n",
        "          [  0.00000000e+00,   0.00000000e+00,   0.00000000e+00, ...,\n",
        "             0.00000000e+00,   0.00000000e+00,   0.00000000e+00],\n",
        "          [  0.00000000e+00,   0.00000000e+00,   0.00000000e+00, ...,\n",
        "             0.00000000e+00,   0.00000000e+00,   0.00000000e+00],\n",
        "          [ -2.15331488e-16,  -2.78456191e+00,  -4.37374128e-16, ...,\n",
        "             1.64170477e+00,  -4.36972564e-16,  -1.64170477e+00]]]), (0, 0): array([[[-0.11111111, -0.08076859, -0.08076859, ..., -0.02807494,\n",
        "           -0.02807494, -0.0525839 ],\n",
        "          [ 0.        ,  0.        ,  0.        , ...,  0.        ,\n",
        "            0.        ,  0.        ],\n",
        "          [ 0.        ,  0.        ,  0.        , ...,  0.        ,\n",
        "            0.        ,  0.        ],\n",
        "          [ 0.        ,  0.        ,  0.        , ...,  0.        ,\n",
        "            0.        ,  0.        ],\n",
        "          [ 0.        ,  0.        ,  0.        , ...,  0.        ,\n",
        "            0.        ,  0.        ],\n",
        "          [ 0.        ,  0.        ,  0.        , ...,  0.        ,\n",
        "            0.        ,  0.        ]],\n",
        "  \n",
        "         [[-0.11111111,  0.47435261, -0.08076859, ..., -0.0525839 ,\n",
        "           -0.02807494, -0.02807494],\n",
        "          [ 0.        ,  0.        ,  0.        , ...,  0.        ,\n",
        "            0.        ,  0.        ],\n",
        "          [ 0.        ,  0.        ,  0.        , ...,  0.        ,\n",
        "            0.        ,  0.        ],\n",
        "          [ 0.        ,  0.        ,  0.        , ...,  0.        ,\n",
        "            0.        ,  0.        ],\n",
        "          [ 0.        ,  0.        ,  0.        , ...,  0.        ,\n",
        "            0.        ,  0.        ],\n",
        "          [ 0.        ,  0.        ,  0.        , ...,  0.        ,\n",
        "            0.        ,  0.        ]],\n",
        "  \n",
        "         [[-0.11111111, -0.08076859,  0.47435261, ..., -0.02807494,\n",
        "           -0.0525839 , -0.02807494],\n",
        "          [ 0.        ,  0.        ,  0.        , ...,  0.        ,\n",
        "            0.        ,  0.        ],\n",
        "          [ 0.        ,  0.        ,  0.        , ...,  0.        ,\n",
        "            0.        ,  0.        ],\n",
        "          [ 0.        ,  0.        ,  0.        , ...,  0.        ,\n",
        "            0.        ,  0.        ],\n",
        "          [ 0.        ,  0.        ,  0.        , ...,  0.        ,\n",
        "            0.        ,  0.        ],\n",
        "          [ 0.        ,  0.        ,  0.        , ...,  0.        ,\n",
        "            0.        ,  0.        ]],\n",
        "  \n",
        "         ..., \n",
        "         [[ 0.        ,  0.        ,  0.        , ...,  0.        ,\n",
        "            0.        ,  0.        ],\n",
        "          [ 0.        ,  0.        ,  0.        , ...,  0.        ,\n",
        "            0.        ,  0.        ],\n",
        "          [ 0.        ,  0.        ,  0.        , ...,  0.        ,\n",
        "            0.        ,  0.        ],\n",
        "          [ 0.        ,  0.        ,  0.        , ...,  0.        ,\n",
        "            0.        ,  0.        ],\n",
        "          [ 0.        ,  0.        ,  0.        , ...,  0.        ,\n",
        "            0.        ,  0.        ],\n",
        "          [ 0.44444444,  0.32307438,  0.32307438, ...,  0.11229977,\n",
        "            0.11229977,  0.88413424]],\n",
        "  \n",
        "         [[ 0.        ,  0.        ,  0.        , ...,  0.        ,\n",
        "            0.        ,  0.        ],\n",
        "          [ 0.        ,  0.        ,  0.        , ...,  0.        ,\n",
        "            0.        ,  0.        ],\n",
        "          [ 0.        ,  0.        ,  0.        , ...,  0.        ,\n",
        "            0.        ,  0.        ],\n",
        "          [ 0.        ,  0.        ,  0.        , ...,  0.        ,\n",
        "            0.        ,  0.        ],\n",
        "          [ 0.        ,  0.        ,  0.        , ...,  0.        ,\n",
        "            0.        ,  0.        ],\n",
        "          [ 0.44444444,  0.04103583,  0.32307438, ...,  0.88413424,\n",
        "            0.11229977,  0.11229977]],\n",
        "  \n",
        "         [[ 0.        ,  0.        ,  0.        , ...,  0.        ,\n",
        "            0.        ,  0.        ],\n",
        "          [ 0.        ,  0.        ,  0.        , ...,  0.        ,\n",
        "            0.        ,  0.        ],\n",
        "          [ 0.        ,  0.        ,  0.        , ...,  0.        ,\n",
        "            0.        ,  0.        ],\n",
        "          [ 0.        ,  0.        ,  0.        , ...,  0.        ,\n",
        "            0.        ,  0.        ],\n",
        "          [ 0.        ,  0.        ,  0.        , ...,  0.        ,\n",
        "            0.        ,  0.        ],\n",
        "          [ 0.44444444,  0.32307438,  0.04103583, ...,  0.11229977,\n",
        "            0.88413424,  0.11229977]]])}}}, FiniteElement('Nedelec 1st kind H(curl)', Domain(Cell('triangle', 2), 'triangle_multiverse', 2, 2), 2, None): {None: {None: {(0, 0): array([[[-0.11111111111111123, -0.22178786944409243, 0.47435260858553874,\n",
        "           0.060250681060318188, 0.35784229121279992, -0.052583901102545391,\n",
        "           -0.41399217765895763],\n",
        "          [-0.22222222222222221, 0.94870521717107681, -0.16153718838377432,\n",
        "           -0.16153718838377373, -0.10516780220509069, -0.056149886446156858,\n",
        "           -0.05614988644615794]],\n",
        "  \n",
        "         [[0.22222222222222249, 0.16153718838377457, -0.9487052171710767,\n",
        "           0.16153718838377434, 0.056149886446157982, 0.10516780220509073,\n",
        "           0.056149886446157787],\n",
        "          [0.11111111111111108, -0.47435260858553807, 0.22178786944409243,\n",
        "           -0.060250681060318362, 0.05258390110254535, -0.35784229121280015,\n",
        "           0.41399217765895752]],\n",
        "  \n",
        "         [[0.11111111111111104, -0.060250681060317966, -0.47435260858553829,\n",
        "           0.22178786944409265, 0.41399217765895785, 0.052583901102545252,\n",
        "           -0.35784229121280003],\n",
        "          [-0.11111111111111124, -0.22178786944409196, -0.63588979696931258,\n",
        "           1.1704930866151697, 0.35784229121279987, -0.0035659853436116121,\n",
        "           -0.46301009341789084]],\n",
        "  \n",
        "         [[-0.2222222222222221, -0.16153718838377451, 0.94870521717107692,\n",
        "           -0.16153718838377429, -0.056149886446157593, -0.10516780220509062,\n",
        "           -0.056149886446157454],\n",
        "          [-0.11111111111111094, -0.22178786944409284, 1.1704930866151693,\n",
        "           -0.6358897969693128, 0.35784229121279987, -0.46301009341789068,\n",
        "           -0.0035659853436119104]],\n",
        "  \n",
        "         [[-0.11111111111111102, -0.63588979696931225, -0.22178786944409268,\n",
        "           1.1704930866151693, -0.0035659853436125072, 0.35784229121280015,\n",
        "           -0.46301009341789012],\n",
        "          [0.11111111111111141, -0.47435260858553802, -0.060250681060318154,\n",
        "           0.22178786944409234, 0.052583901102545488, 0.41399217765895746,\n",
        "           -0.35784229121279937]],\n",
        "  \n",
        "         [[-0.11111111111111138, 1.170493086615169, -0.22178786944409223,\n",
        "           -0.63588979696931291, -0.46301009341789062, 0.35784229121279987,\n",
        "           -0.0035659853436126321],\n",
        "          [-0.22222222222222243, 0.94870521717107659, -0.16153718838377398,\n",
        "           -0.16153718838377398, -0.1051678022050907, -0.056149886446157302,\n",
        "           -0.056149886446157982]],\n",
        "  \n",
        "         [[2.6666666666666701, 0.81029205858765296, 1.938446260605297,\n",
        "           1.3743691595964724, 3.7611365128409258, 0.67379863735389178,\n",
        "           2.2174675750974089],\n",
        "          [-2.2204460492503131e-16, 1.8318679906315083e-15,\n",
        "           0.5640771010088218, -0.56407710100882191, -2.2204460492503131e-16,\n",
        "           -1.5436689377435158, 1.543668937743516]],\n",
        "  \n",
        "         [[-2.5128435383744485e-16, 0.56407710100882191,\n",
        "           -7.5519855650537044e-16, -0.56407710100882158, -1.543668937743518,\n",
        "           2.2983420480300907e-16, 1.5436689377435162],\n",
        "          [2.6666666666666692, 1.9384462606052946, 0.81029205858765119,\n",
        "           1.3743691595964704, 0.67379863735389156, 3.7611365128409227,\n",
        "           2.2174675750974089]]], dtype=object)}}}}}\n"
       ]
      },
      {
       "output_type": "stream",
       "stream": "stderr",
       "text": [
        "DEBUG:FFC:  \n",
        "  QG-utils, psi_tables, flat_tables:\n",
        "  {'FE0_C5_D10': array([[  0.00000000e+00,   0.00000000e+00,   0.00000000e+00,\n",
        "            0.00000000e+00,   0.00000000e+00,   0.00000000e+00,\n",
        "            0.00000000e+00,   0.00000000e+00,   0.00000000e+00,\n",
        "            0.00000000e+00,   0.00000000e+00,   0.00000000e+00,\n",
        "            0.00000000e+00,   0.00000000e+00,   0.00000000e+00,\n",
        "            0.00000000e+00,   0.00000000e+00,   0.00000000e+00,\n",
        "            0.00000000e+00,   0.00000000e+00,   0.00000000e+00,\n",
        "            0.00000000e+00,   0.00000000e+00,  -3.33333333e-01,\n",
        "            3.33333333e-01,   0.00000000e+00,   1.33333333e+00,\n",
        "           -1.33333333e+00,  -2.15331488e-16],\n",
        "         [  0.00000000e+00,   0.00000000e+00,   0.00000000e+00,\n",
        "            0.00000000e+00,   0.00000000e+00,   0.00000000e+00,\n",
        "            0.00000000e+00,   0.00000000e+00,   0.00000000e+00,\n",
        "            0.00000000e+00,   0.00000000e+00,   0.00000000e+00,\n",
        "            0.00000000e+00,   0.00000000e+00,   0.00000000e+00,\n",
        "            0.00000000e+00,   0.00000000e+00,   0.00000000e+00,\n",
        "            0.00000000e+00,   0.00000000e+00,   0.00000000e+00,\n",
        "            0.00000000e+00,   0.00000000e+00,   5.94853971e-01,\n",
        "            2.18970794e+00,   0.00000000e+00,   4.05146029e-01,\n",
        "           -4.05146029e-01,  -2.78456191e+00],\n",
        "         [  0.00000000e+00,   0.00000000e+00,   0.00000000e+00,\n",
        "            0.00000000e+00,   0.00000000e+00,   0.00000000e+00,\n",
        "            0.00000000e+00,   0.00000000e+00,   0.00000000e+00,\n",
        "            0.00000000e+00,   0.00000000e+00,   0.00000000e+00,\n",
        "            0.00000000e+00,   0.00000000e+00,   0.00000000e+00,\n",
        "            0.00000000e+00,   0.00000000e+00,   0.00000000e+00,\n",
        "            0.00000000e+00,   0.00000000e+00,   0.00000000e+00,\n",
        "            0.00000000e+00,   0.00000000e+00,   5.94853971e-01,\n",
        "           -5.94853971e-01,   0.00000000e+00,   3.18970794e+00,\n",
        "           -3.18970794e+00,  -4.37374128e-16],\n",
        "         [  0.00000000e+00,   0.00000000e+00,   0.00000000e+00,\n",
        "            0.00000000e+00,   0.00000000e+00,   0.00000000e+00,\n",
        "            0.00000000e+00,   0.00000000e+00,   0.00000000e+00,\n",
        "            0.00000000e+00,   0.00000000e+00,   0.00000000e+00,\n",
        "            0.00000000e+00,   0.00000000e+00,   0.00000000e+00,\n",
        "            0.00000000e+00,   0.00000000e+00,   0.00000000e+00,\n",
        "            0.00000000e+00,   0.00000000e+00,   0.00000000e+00,\n",
        "            0.00000000e+00,   0.00000000e+00,  -2.18970794e+00,\n",
        "           -5.94853971e-01,   0.00000000e+00,   4.05146029e-01,\n",
        "           -4.05146029e-01,   2.78456191e+00],\n",
        "         [  0.00000000e+00,   0.00000000e+00,   0.00000000e+00,\n",
        "            0.00000000e+00,   0.00000000e+00,   0.00000000e+00,\n",
        "            0.00000000e+00,   0.00000000e+00,   0.00000000e+00,\n",
        "            0.00000000e+00,   0.00000000e+00,   0.00000000e+00,\n",
        "            0.00000000e+00,   0.00000000e+00,   0.00000000e+00,\n",
        "            0.00000000e+00,   0.00000000e+00,   0.00000000e+00,\n",
        "            0.00000000e+00,   0.00000000e+00,   0.00000000e+00,\n",
        "            0.00000000e+00,   0.00000000e+00,  -8.80568256e-01,\n",
        "           -7.61136513e-01,   0.00000000e+00,   1.88056826e+00,\n",
        "           -1.88056826e+00,   1.64170477e+00],\n",
        "         [  0.00000000e+00,   0.00000000e+00,   0.00000000e+00,\n",
        "            0.00000000e+00,   0.00000000e+00,   0.00000000e+00,\n",
        "            0.00000000e+00,   0.00000000e+00,   0.00000000e+00,\n",
        "            0.00000000e+00,   0.00000000e+00,   0.00000000e+00,\n",
        "            0.00000000e+00,   0.00000000e+00,   0.00000000e+00,\n",
        "            0.00000000e+00,   0.00000000e+00,   0.00000000e+00,\n",
        "            0.00000000e+00,   0.00000000e+00,   0.00000000e+00,\n",
        "            0.00000000e+00,   0.00000000e+00,  -8.80568256e-01,\n",
        "            8.80568256e-01,   0.00000000e+00,   2.38863487e-01,\n",
        "           -2.38863487e-01,  -4.36972564e-16],\n",
        "         [  0.00000000e+00,   0.00000000e+00,   0.00000000e+00,\n",
        "            0.00000000e+00,   0.00000000e+00,   0.00000000e+00,\n",
        "            0.00000000e+00,   0.00000000e+00,   0.00000000e+00,\n",
        "            0.00000000e+00,   0.00000000e+00,   0.00000000e+00,\n",
        "            0.00000000e+00,   0.00000000e+00,   0.00000000e+00,\n",
        "            0.00000000e+00,   0.00000000e+00,   0.00000000e+00,\n",
        "            0.00000000e+00,   0.00000000e+00,   0.00000000e+00,\n",
        "            0.00000000e+00,   0.00000000e+00,   7.61136513e-01,\n",
        "            8.80568256e-01,   0.00000000e+00,   1.88056826e+00,\n",
        "           -1.88056826e+00,  -1.64170477e+00]]), 'FE0_C4_D10': array([[  0.        ,   0.        ,   0.        ,   0.        ,\n",
        "            0.        ,   0.        ,   0.        ,   0.        ,\n",
        "            0.        ,   0.        ,   0.        ,   0.        ,\n",
        "            0.        ,   0.        ,   0.        ,   0.66666667,\n",
        "            0.33333333,  -2.        ,  -0.33333333,  -1.        ,\n",
        "            0.66666667,   2.66666667,   2.66666667,   0.        ,\n",
        "            0.        ,   0.        ,   0.        ,   0.        ,   0.        ],\n",
        "         [  0.        ,   0.        ,   0.        ,   0.        ,\n",
        "            0.        ,   0.        ,   0.        ,   0.        ,\n",
        "            0.        ,   0.        ,   0.        ,   0.        ,\n",
        "            0.        ,   0.        ,   0.        ,   4.37941588,\n",
        "           -0.59485397,   0.78456191,   0.59485397,  -3.78456191,\n",
        "            4.37941588,   6.37941588, -10.32795559,   0.        ,\n",
        "            0.        ,   0.        ,   0.        ,   0.        ,   0.        ],\n",
        "         [  0.        ,   0.        ,   0.        ,   0.        ,\n",
        "            0.        ,   0.        ,   0.        ,   0.        ,\n",
        "            0.        ,   0.        ,   0.        ,   0.        ,\n",
        "            0.        ,   0.        ,   0.        ,  -1.18970794,\n",
        "            2.18970794,  -2.        ,  -2.18970794,  -1.        ,\n",
        "           -1.18970794,   6.37941588,   6.37941588,   0.        ,\n",
        "            0.        ,   0.        ,   0.        ,   0.        ,   0.        ],\n",
        "         [  0.        ,   0.        ,   0.        ,   0.        ,\n",
        "            0.        ,   0.        ,   0.        ,   0.        ,\n",
        "            0.        ,   0.        ,   0.        ,   0.        ,\n",
        "            0.        ,   0.        ,   0.        ,  -1.18970794,\n",
        "           -0.59485397,  -4.78456191,   0.59485397,   1.78456191,\n",
        "           -1.18970794,  -4.75883177,  11.94853971,   0.        ,\n",
        "            0.        ,   0.        ,   0.        ,   0.        ,   0.        ],\n",
        "         [  0.        ,   0.        ,   0.        ,   0.        ,\n",
        "            0.        ,   0.        ,   0.        ,   0.        ,\n",
        "            0.        ,   0.        ,   0.        ,   0.        ,\n",
        "            0.        ,   0.        ,   0.        ,  -1.52227303,\n",
        "            0.88056826,  -3.64170477,  -0.88056826,   0.64170477,\n",
        "           -1.52227303,   0.47772697,  10.32795559,   0.        ,\n",
        "            0.        ,   0.        ,   0.        ,   0.        ,   0.        ],\n",
        "         [  0.        ,   0.        ,   0.        ,   0.        ,\n",
        "            0.        ,   0.        ,   0.        ,   0.        ,\n",
        "            0.        ,   0.        ,   0.        ,   0.        ,\n",
        "            0.        ,   0.        ,   0.        ,   1.76113651,\n",
        "           -0.76113651,  -2.        ,   0.76113651,  -1.        ,\n",
        "            1.76113651,   0.47772697,   0.47772697,   0.        ,\n",
        "            0.        ,   0.        ,   0.        ,   0.        ,   0.        ],\n",
        "         [  0.        ,   0.        ,   0.        ,   0.        ,\n",
        "            0.        ,   0.        ,   0.        ,   0.        ,\n",
        "            0.        ,   0.        ,   0.        ,   0.        ,\n",
        "            0.        ,   0.        ,   0.        ,   1.76113651,\n",
        "            0.88056826,  -0.35829523,  -0.88056826,  -2.64170477,\n",
        "            1.76113651,   7.04454605,  -2.80568256,   0.        ,\n",
        "            0.        ,   0.        ,   0.        ,   0.        ,   0.        ]]), 'FE0_C1_D01': array([[  0.00000000e+00,   0.00000000e+00,   0.00000000e+00,\n",
        "            0.00000000e+00,   0.00000000e+00,   0.00000000e+00,\n",
        "           -3.33333333e-01,   8.32667268e-17,   3.33333333e-01,\n",
        "            1.33333333e+00,  -1.66533454e-16,  -1.33333333e+00,\n",
        "            0.00000000e+00,   0.00000000e+00,   0.00000000e+00,\n",
        "            0.00000000e+00,   0.00000000e+00,   0.00000000e+00,\n",
        "            0.00000000e+00,   0.00000000e+00,   0.00000000e+00,\n",
        "            0.00000000e+00,   0.00000000e+00,   0.00000000e+00,\n",
        "            0.00000000e+00,   0.00000000e+00,   0.00000000e+00,\n",
        "            0.00000000e+00,   0.00000000e+00],\n",
        "         [  0.00000000e+00,   0.00000000e+00,   0.00000000e+00,\n",
        "            0.00000000e+00,   0.00000000e+00,   0.00000000e+00,\n",
        "            5.94853971e-01,   2.22044605e-16,  -5.94853971e-01,\n",
        "            3.18970794e+00,   4.44089210e-16,  -3.18970794e+00,\n",
        "            0.00000000e+00,   0.00000000e+00,   0.00000000e+00,\n",
        "            0.00000000e+00,   0.00000000e+00,   0.00000000e+00,\n",
        "            0.00000000e+00,   0.00000000e+00,   0.00000000e+00,\n",
        "            0.00000000e+00,   0.00000000e+00,   0.00000000e+00,\n",
        "            0.00000000e+00,   0.00000000e+00,   0.00000000e+00,\n",
        "            0.00000000e+00,   0.00000000e+00],\n",
        "         [  0.00000000e+00,   0.00000000e+00,   0.00000000e+00,\n",
        "            0.00000000e+00,   0.00000000e+00,   0.00000000e+00,\n",
        "            5.94853971e-01,  -2.22044605e-16,   2.18970794e+00,\n",
        "            4.05146029e-01,  -2.78456191e+00,  -4.05146029e-01,\n",
        "            0.00000000e+00,   0.00000000e+00,   0.00000000e+00,\n",
        "            0.00000000e+00,   0.00000000e+00,   0.00000000e+00,\n",
        "            0.00000000e+00,   0.00000000e+00,   0.00000000e+00,\n",
        "            0.00000000e+00,   0.00000000e+00,   0.00000000e+00,\n",
        "            0.00000000e+00,   0.00000000e+00,   0.00000000e+00,\n",
        "            0.00000000e+00,   0.00000000e+00],\n",
        "         [  0.00000000e+00,   0.00000000e+00,   0.00000000e+00,\n",
        "            0.00000000e+00,   0.00000000e+00,   0.00000000e+00,\n",
        "           -2.18970794e+00,   5.55111512e-17,  -5.94853971e-01,\n",
        "            4.05146029e-01,   2.78456191e+00,  -4.05146029e-01,\n",
        "            0.00000000e+00,   0.00000000e+00,   0.00000000e+00,\n",
        "            0.00000000e+00,   0.00000000e+00,   0.00000000e+00,\n",
        "            0.00000000e+00,   0.00000000e+00,   0.00000000e+00,\n",
        "            0.00000000e+00,   0.00000000e+00,   0.00000000e+00,\n",
        "            0.00000000e+00,   0.00000000e+00,   0.00000000e+00,\n",
        "            0.00000000e+00,   0.00000000e+00],\n",
        "         [  0.00000000e+00,   0.00000000e+00,   0.00000000e+00,\n",
        "            0.00000000e+00,   0.00000000e+00,   0.00000000e+00,\n",
        "           -8.80568256e-01,   1.52655666e-16,   8.80568256e-01,\n",
        "            2.38863487e-01,   3.33066907e-16,  -2.38863487e-01,\n",
        "            0.00000000e+00,   0.00000000e+00,   0.00000000e+00,\n",
        "            0.00000000e+00,   0.00000000e+00,   0.00000000e+00,\n",
        "            0.00000000e+00,   0.00000000e+00,   0.00000000e+00,\n",
        "            0.00000000e+00,   0.00000000e+00,   0.00000000e+00,\n",
        "            0.00000000e+00,   0.00000000e+00,   0.00000000e+00,\n",
        "            0.00000000e+00,   0.00000000e+00],\n",
        "         [  0.00000000e+00,   0.00000000e+00,   0.00000000e+00,\n",
        "            0.00000000e+00,   0.00000000e+00,   0.00000000e+00,\n",
        "           -8.80568256e-01,  -2.77555756e-16,  -7.61136513e-01,\n",
        "            1.88056826e+00,   1.64170477e+00,  -1.88056826e+00,\n",
        "            0.00000000e+00,   0.00000000e+00,   0.00000000e+00,\n",
        "            0.00000000e+00,   0.00000000e+00,   0.00000000e+00,\n",
        "            0.00000000e+00,   0.00000000e+00,   0.00000000e+00,\n",
        "            0.00000000e+00,   0.00000000e+00,   0.00000000e+00,\n",
        "            0.00000000e+00,   0.00000000e+00,   0.00000000e+00,\n",
        "            0.00000000e+00,   0.00000000e+00],\n",
        "         [  0.00000000e+00,   0.00000000e+00,   0.00000000e+00,\n",
        "            0.00000000e+00,   0.00000000e+00,   0.00000000e+00,\n",
        "            7.61136513e-01,   9.71445147e-17,   8.80568256e-01,\n",
        "            1.88056826e+00,  -1.64170477e+00,  -1.88056826e+00,\n",
        "            0.00000000e+00,   0.00000000e+00,   0.00000000e+00,\n",
        "            0.00000000e+00,   0.00000000e+00,   0.00000000e+00,\n",
        "            0.00000000e+00,   0.00000000e+00,   0.00000000e+00,\n",
        "            0.00000000e+00,   0.00000000e+00,   0.00000000e+00,\n",
        "            0.00000000e+00,   0.00000000e+00,   0.00000000e+00,\n",
        "            0.00000000e+00,   0.00000000e+00]]), 'FE0_C3_D01': array([[  0.        ,   0.        ,   0.        ,   0.        ,\n",
        "            0.        ,   0.        ,   0.        ,   0.        ,\n",
        "            0.        ,   0.        ,   0.        ,   0.        ,\n",
        "            0.        ,   0.        ,   0.        ,  -0.33333333,\n",
        "           -0.66666667,  -1.        ,   0.66666667,  -2.        ,\n",
        "           -0.33333333,   2.66666667,   2.66666667,   0.        ,\n",
        "            0.        ,   0.        ,   0.        ,   0.        ,   0.        ],\n",
        "         [  0.        ,   0.        ,   0.        ,   0.        ,\n",
        "            0.        ,   0.        ,   0.        ,   0.        ,\n",
        "            0.        ,   0.        ,   0.        ,   0.        ,\n",
        "            0.        ,   0.        ,   0.        ,  -2.18970794,\n",
        "            1.18970794,  -1.        ,  -1.18970794,  -2.        ,\n",
        "           -2.18970794,   6.37941588,   6.37941588,   0.        ,\n",
        "            0.        ,   0.        ,   0.        ,   0.        ,   0.        ],\n",
        "         [  0.        ,   0.        ,   0.        ,   0.        ,\n",
        "            0.        ,   0.        ,   0.        ,   0.        ,\n",
        "            0.        ,   0.        ,   0.        ,   0.        ,\n",
        "            0.        ,   0.        ,   0.        ,   0.59485397,\n",
        "           -4.37941588,  -3.78456191,   4.37941588,   0.78456191,\n",
        "            0.59485397, -10.32795559,   6.37941588,   0.        ,\n",
        "            0.        ,   0.        ,   0.        ,   0.        ,   0.        ],\n",
        "         [  0.        ,   0.        ,   0.        ,   0.        ,\n",
        "            0.        ,   0.        ,   0.        ,   0.        ,\n",
        "            0.        ,   0.        ,   0.        ,   0.        ,\n",
        "            0.        ,   0.        ,   0.        ,   0.59485397,\n",
        "            1.18970794,   1.78456191,  -1.18970794,  -4.78456191,\n",
        "            0.59485397,  11.94853971,  -4.75883177,   0.        ,\n",
        "            0.        ,   0.        ,   0.        ,   0.        ,   0.        ],\n",
        "         [  0.        ,   0.        ,   0.        ,   0.        ,\n",
        "            0.        ,   0.        ,   0.        ,   0.        ,\n",
        "            0.        ,   0.        ,   0.        ,   0.        ,\n",
        "            0.        ,   0.        ,   0.        ,   0.76113651,\n",
        "           -1.76113651,  -1.        ,   1.76113651,  -2.        ,\n",
        "            0.76113651,   0.47772697,   0.47772697,   0.        ,\n",
        "            0.        ,   0.        ,   0.        ,   0.        ,   0.        ],\n",
        "         [  0.        ,   0.        ,   0.        ,   0.        ,\n",
        "            0.        ,   0.        ,   0.        ,   0.        ,\n",
        "            0.        ,   0.        ,   0.        ,   0.        ,\n",
        "            0.        ,   0.        ,   0.        ,  -0.88056826,\n",
        "            1.52227303,   0.64170477,  -1.52227303,  -3.64170477,\n",
        "           -0.88056826,  10.32795559,   0.47772697,   0.        ,\n",
        "            0.        ,   0.        ,   0.        ,   0.        ,   0.        ],\n",
        "         [  0.        ,   0.        ,   0.        ,   0.        ,\n",
        "            0.        ,   0.        ,   0.        ,   0.        ,\n",
        "            0.        ,   0.        ,   0.        ,   0.        ,\n",
        "            0.        ,   0.        ,   0.        ,  -0.88056826,\n",
        "           -1.76113651,  -2.64170477,   1.76113651,  -0.35829523,\n",
        "           -0.88056826,  -2.80568256,   7.04454605,   0.        ,\n",
        "            0.        ,   0.        ,   0.        ,   0.        ,   0.        ]]), 'FE0_C3_D10': array([[  0.00000000e+00,   0.00000000e+00,   0.00000000e+00,\n",
        "            0.00000000e+00,   0.00000000e+00,   0.00000000e+00,\n",
        "            0.00000000e+00,   0.00000000e+00,   0.00000000e+00,\n",
        "            0.00000000e+00,   0.00000000e+00,   0.00000000e+00,\n",
        "            0.00000000e+00,   0.00000000e+00,   0.00000000e+00,\n",
        "           -1.33333333e+00,  -1.44815967e-16,  -1.33333333e+00,\n",
        "            7.13859989e-17,  -1.66666667e+00,   1.66666667e+00,\n",
        "           -2.66666667e+00,   5.33333333e+00,   0.00000000e+00,\n",
        "            0.00000000e+00,   0.00000000e+00,   0.00000000e+00,\n",
        "            0.00000000e+00,   0.00000000e+00],\n",
        "         [  0.00000000e+00,   0.00000000e+00,   0.00000000e+00,\n",
        "            0.00000000e+00,   0.00000000e+00,   0.00000000e+00,\n",
        "            0.00000000e+00,   0.00000000e+00,   0.00000000e+00,\n",
        "            0.00000000e+00,   0.00000000e+00,   0.00000000e+00,\n",
        "            0.00000000e+00,   0.00000000e+00,   0.00000000e+00,\n",
        "           -4.05146029e-01,   2.36650974e-16,  -4.05146029e-01,\n",
        "           -1.30623163e-15,  -2.59485397e+00,   2.59485397e+00,\n",
        "           -8.10292059e-01,   1.62058412e+00,   0.00000000e+00,\n",
        "            0.00000000e+00,   0.00000000e+00,   0.00000000e+00,\n",
        "            0.00000000e+00,   0.00000000e+00],\n",
        "         [  0.00000000e+00,   0.00000000e+00,   0.00000000e+00,\n",
        "            0.00000000e+00,   0.00000000e+00,   0.00000000e+00,\n",
        "            0.00000000e+00,   0.00000000e+00,   0.00000000e+00,\n",
        "            0.00000000e+00,   0.00000000e+00,   0.00000000e+00,\n",
        "            0.00000000e+00,   0.00000000e+00,   0.00000000e+00,\n",
        "           -3.18970794e+00,  -1.10119527e-15,  -3.18970794e+00,\n",
        "            8.91139685e-16,   1.89707941e-01,  -1.89707941e-01,\n",
        "           -6.37941588e+00,   1.27588318e+01,   0.00000000e+00,\n",
        "            0.00000000e+00,   0.00000000e+00,   0.00000000e+00,\n",
        "            0.00000000e+00,   0.00000000e+00],\n",
        "         [  0.00000000e+00,   0.00000000e+00,   0.00000000e+00,\n",
        "            0.00000000e+00,   0.00000000e+00,   0.00000000e+00,\n",
        "            0.00000000e+00,   0.00000000e+00,   0.00000000e+00,\n",
        "            0.00000000e+00,   0.00000000e+00,   0.00000000e+00,\n",
        "            0.00000000e+00,   0.00000000e+00,   0.00000000e+00,\n",
        "           -4.05146029e-01,   4.30096392e-16,  -4.05146029e-01,\n",
        "            6.29249945e-16,  -2.59485397e+00,   2.59485397e+00,\n",
        "           -8.10292059e-01,   1.62058412e+00,   0.00000000e+00,\n",
        "            0.00000000e+00,   0.00000000e+00,   0.00000000e+00,\n",
        "            0.00000000e+00,   0.00000000e+00],\n",
        "         [  0.00000000e+00,   0.00000000e+00,   0.00000000e+00,\n",
        "            0.00000000e+00,   0.00000000e+00,   0.00000000e+00,\n",
        "            0.00000000e+00,   0.00000000e+00,   0.00000000e+00,\n",
        "            0.00000000e+00,   0.00000000e+00,   0.00000000e+00,\n",
        "            0.00000000e+00,   0.00000000e+00,   0.00000000e+00,\n",
        "           -1.88056826e+00,  -3.69718884e-16,  -1.88056826e+00,\n",
        "            8.83593272e-16,  -1.11943174e+00,   1.11943174e+00,\n",
        "           -3.76113651e+00,   7.52227303e+00,   0.00000000e+00,\n",
        "            0.00000000e+00,   0.00000000e+00,   0.00000000e+00,\n",
        "            0.00000000e+00,   0.00000000e+00],\n",
        "         [  0.00000000e+00,   0.00000000e+00,   0.00000000e+00,\n",
        "            0.00000000e+00,   0.00000000e+00,   0.00000000e+00,\n",
        "            0.00000000e+00,   0.00000000e+00,   0.00000000e+00,\n",
        "            0.00000000e+00,   0.00000000e+00,   0.00000000e+00,\n",
        "            0.00000000e+00,   0.00000000e+00,   0.00000000e+00,\n",
        "           -2.38863487e-01,   4.19040218e-16,  -2.38863487e-01,\n",
        "           -4.11919303e-16,  -2.76113651e+00,   2.76113651e+00,\n",
        "           -4.77726974e-01,   9.55453949e-01,   0.00000000e+00,\n",
        "            0.00000000e+00,   0.00000000e+00,   0.00000000e+00,\n",
        "            0.00000000e+00,   0.00000000e+00],\n",
        "         [  0.00000000e+00,   0.00000000e+00,   0.00000000e+00,\n",
        "            0.00000000e+00,   0.00000000e+00,   0.00000000e+00,\n",
        "            0.00000000e+00,   0.00000000e+00,   0.00000000e+00,\n",
        "            0.00000000e+00,   0.00000000e+00,   0.00000000e+00,\n",
        "            0.00000000e+00,   0.00000000e+00,   0.00000000e+00,\n",
        "           -1.88056826e+00,  -4.83769236e-16,  -1.88056826e+00,\n",
        "           -2.57515972e-16,  -1.11943174e+00,   1.11943174e+00,\n",
        "           -3.76113651e+00,   7.52227303e+00,   0.00000000e+00,\n",
        "            0.00000000e+00,   0.00000000e+00,   0.00000000e+00,\n",
        "            0.00000000e+00,   0.00000000e+00]]), 'FE0_C5_D01': array([[  0.00000000e+00,   0.00000000e+00,   0.00000000e+00,\n",
        "            0.00000000e+00,   0.00000000e+00,   0.00000000e+00,\n",
        "            0.00000000e+00,   0.00000000e+00,   0.00000000e+00,\n",
        "            0.00000000e+00,   0.00000000e+00,   0.00000000e+00,\n",
        "            0.00000000e+00,   0.00000000e+00,   0.00000000e+00,\n",
        "            0.00000000e+00,   0.00000000e+00,   0.00000000e+00,\n",
        "            0.00000000e+00,   0.00000000e+00,   0.00000000e+00,\n",
        "            0.00000000e+00,   0.00000000e+00,  -3.33333333e-01,\n",
        "            8.32667268e-17,   3.33333333e-01,   1.33333333e+00,\n",
        "           -1.66533454e-16,  -1.33333333e+00],\n",
        "         [  0.00000000e+00,   0.00000000e+00,   0.00000000e+00,\n",
        "            0.00000000e+00,   0.00000000e+00,   0.00000000e+00,\n",
        "            0.00000000e+00,   0.00000000e+00,   0.00000000e+00,\n",
        "            0.00000000e+00,   0.00000000e+00,   0.00000000e+00,\n",
        "            0.00000000e+00,   0.00000000e+00,   0.00000000e+00,\n",
        "            0.00000000e+00,   0.00000000e+00,   0.00000000e+00,\n",
        "            0.00000000e+00,   0.00000000e+00,   0.00000000e+00,\n",
        "            0.00000000e+00,   0.00000000e+00,   5.94853971e-01,\n",
        "            2.22044605e-16,  -5.94853971e-01,   3.18970794e+00,\n",
        "            4.44089210e-16,  -3.18970794e+00],\n",
        "         [  0.00000000e+00,   0.00000000e+00,   0.00000000e+00,\n",
        "            0.00000000e+00,   0.00000000e+00,   0.00000000e+00,\n",
        "            0.00000000e+00,   0.00000000e+00,   0.00000000e+00,\n",
        "            0.00000000e+00,   0.00000000e+00,   0.00000000e+00,\n",
        "            0.00000000e+00,   0.00000000e+00,   0.00000000e+00,\n",
        "            0.00000000e+00,   0.00000000e+00,   0.00000000e+00,\n",
        "            0.00000000e+00,   0.00000000e+00,   0.00000000e+00,\n",
        "            0.00000000e+00,   0.00000000e+00,   5.94853971e-01,\n",
        "           -2.22044605e-16,   2.18970794e+00,   4.05146029e-01,\n",
        "           -2.78456191e+00,  -4.05146029e-01],\n",
        "         [  0.00000000e+00,   0.00000000e+00,   0.00000000e+00,\n",
        "            0.00000000e+00,   0.00000000e+00,   0.00000000e+00,\n",
        "            0.00000000e+00,   0.00000000e+00,   0.00000000e+00,\n",
        "            0.00000000e+00,   0.00000000e+00,   0.00000000e+00,\n",
        "            0.00000000e+00,   0.00000000e+00,   0.00000000e+00,\n",
        "            0.00000000e+00,   0.00000000e+00,   0.00000000e+00,\n",
        "            0.00000000e+00,   0.00000000e+00,   0.00000000e+00,\n",
        "            0.00000000e+00,   0.00000000e+00,  -2.18970794e+00,\n",
        "            5.55111512e-17,  -5.94853971e-01,   4.05146029e-01,\n",
        "            2.78456191e+00,  -4.05146029e-01],\n",
        "         [  0.00000000e+00,   0.00000000e+00,   0.00000000e+00,\n",
        "            0.00000000e+00,   0.00000000e+00,   0.00000000e+00,\n",
        "            0.00000000e+00,   0.00000000e+00,   0.00000000e+00,\n",
        "            0.00000000e+00,   0.00000000e+00,   0.00000000e+00,\n",
        "            0.00000000e+00,   0.00000000e+00,   0.00000000e+00,\n",
        "            0.00000000e+00,   0.00000000e+00,   0.00000000e+00,\n",
        "            0.00000000e+00,   0.00000000e+00,   0.00000000e+00,\n",
        "            0.00000000e+00,   0.00000000e+00,  -8.80568256e-01,\n",
        "            1.52655666e-16,   8.80568256e-01,   2.38863487e-01,\n",
        "            3.33066907e-16,  -2.38863487e-01],\n",
        "         [  0.00000000e+00,   0.00000000e+00,   0.00000000e+00,\n",
        "            0.00000000e+00,   0.00000000e+00,   0.00000000e+00,\n",
        "            0.00000000e+00,   0.00000000e+00,   0.00000000e+00,\n",
        "            0.00000000e+00,   0.00000000e+00,   0.00000000e+00,\n",
        "            0.00000000e+00,   0.00000000e+00,   0.00000000e+00,\n",
        "            0.00000000e+00,   0.00000000e+00,   0.00000000e+00,\n",
        "            0.00000000e+00,   0.00000000e+00,   0.00000000e+00,\n",
        "            0.00000000e+00,   0.00000000e+00,  -8.80568256e-01,\n",
        "           -2.77555756e-16,  -7.61136513e-01,   1.88056826e+00,\n",
        "            1.64170477e+00,  -1.88056826e+00],\n",
        "         [  0.00000000e+00,   0.00000000e+00,   0.00000000e+00,\n",
        "            0.00000000e+00,   0.00000000e+00,   0.00000000e+00,\n",
        "            0.00000000e+00,   0.00000000e+00,   0.00000000e+00,\n",
        "            0.00000000e+00,   0.00000000e+00,   0.00000000e+00,\n",
        "            0.00000000e+00,   0.00000000e+00,   0.00000000e+00,\n",
        "            0.00000000e+00,   0.00000000e+00,   0.00000000e+00,\n",
        "            0.00000000e+00,   0.00000000e+00,   0.00000000e+00,\n",
        "            0.00000000e+00,   0.00000000e+00,   7.61136513e-01,\n",
        "            9.71445147e-17,   8.80568256e-01,   1.88056826e+00,\n",
        "           -1.64170477e+00,  -1.88056826e+00]]), 'FE1_C0': array([[-0.11111111111111123, 0.22222222222222249, 0.11111111111111104,\n",
        "          -0.2222222222222221, -0.11111111111111102, -0.11111111111111138,\n",
        "          2.6666666666666701, -2.5128435383744485e-16],\n",
        "         [-0.22178786944409243, 0.16153718838377457, -0.060250681060317966,\n",
        "          -0.16153718838377451, -0.63588979696931225, 1.170493086615169,\n",
        "          0.81029205858765296, 0.56407710100882191],\n",
        "         [0.47435260858553874, -0.9487052171710767, -0.47435260858553829,\n",
        "          0.94870521717107692, -0.22178786944409268, -0.22178786944409223,\n",
        "          1.938446260605297, -7.5519855650537044e-16],\n",
        "         [0.060250681060318188, 0.16153718838377434, 0.22178786944409265,\n",
        "          -0.16153718838377429, 1.1704930866151693, -0.63588979696931291,\n",
        "          1.3743691595964724, -0.56407710100882158],\n",
        "         [0.35784229121279992, 0.056149886446157982, 0.41399217765895785,\n",
        "          -0.056149886446157593, -0.0035659853436125072,\n",
        "          -0.46301009341789062, 3.7611365128409258, -1.543668937743518],\n",
        "         [-0.052583901102545391, 0.10516780220509073, 0.052583901102545252,\n",
        "          -0.10516780220509062, 0.35784229121280015, 0.35784229121279987,\n",
        "          0.67379863735389178, 2.2983420480300907e-16],\n",
        "         [-0.41399217765895763, 0.056149886446157787, -0.35784229121280003,\n",
        "          -0.056149886446157454, -0.46301009341789012,\n",
        "          -0.0035659853436126321, 2.2174675750974089, 1.5436689377435162]], dtype=object), 'FE1_C1': array([[-0.22222222222222221, 0.11111111111111108, -0.11111111111111124,\n",
        "          -0.11111111111111094, 0.11111111111111141, -0.22222222222222243,\n",
        "          -2.2204460492503131e-16, 2.6666666666666692],\n",
        "         [0.94870521717107681, -0.47435260858553807, -0.22178786944409196,\n",
        "          -0.22178786944409284, -0.47435260858553802, 0.94870521717107659,\n",
        "          1.8318679906315083e-15, 1.9384462606052946],\n",
        "         [-0.16153718838377432, 0.22178786944409243, -0.63588979696931258,\n",
        "          1.1704930866151693, -0.060250681060318154, -0.16153718838377398,\n",
        "          0.5640771010088218, 0.81029205858765119],\n",
        "         [-0.16153718838377373, -0.060250681060318362, 1.1704930866151697,\n",
        "          -0.6358897969693128, 0.22178786944409234, -0.16153718838377398,\n",
        "          -0.56407710100882191, 1.3743691595964704],\n",
        "         [-0.10516780220509069, 0.05258390110254535, 0.35784229121279987,\n",
        "          0.35784229121279987, 0.052583901102545488, -0.1051678022050907,\n",
        "          -2.2204460492503131e-16, 0.67379863735389156],\n",
        "         [-0.056149886446156858, -0.35784229121280015,\n",
        "          -0.0035659853436116121, -0.46301009341789068, 0.41399217765895746,\n",
        "          -0.056149886446157302, -1.5436689377435158, 3.7611365128409227],\n",
        "         [-0.05614988644615794, 0.41399217765895752, -0.46301009341789084,\n",
        "          -0.0035659853436119104, -0.35784229121279937,\n",
        "          -0.056149886446157982, 1.543668937743516, 2.2174675750974089]], dtype=object), 'FE0_C2_D10': array([[ 0.,  0.,  0.,  0.,  0.,  0.,  0.,  0.,  0.,  0.,  0.,  0., -1.,\n",
        "           1.,  0.,  0.,  0.,  0.,  0.,  0.,  0.,  0.,  0.,  0.,  0.,  0.,\n",
        "           0.,  0.,  0.],\n",
        "         [ 0.,  0.,  0.,  0.,  0.,  0.,  0.,  0.,  0.,  0.,  0.,  0., -1.,\n",
        "           1.,  0.,  0.,  0.,  0.,  0.,  0.,  0.,  0.,  0.,  0.,  0.,  0.,\n",
        "           0.,  0.,  0.],\n",
        "         [ 0.,  0.,  0.,  0.,  0.,  0.,  0.,  0.,  0.,  0.,  0.,  0., -1.,\n",
        "           1.,  0.,  0.,  0.,  0.,  0.,  0.,  0.,  0.,  0.,  0.,  0.,  0.,\n",
        "           0.,  0.,  0.],\n",
        "         [ 0.,  0.,  0.,  0.,  0.,  0.,  0.,  0.,  0.,  0.,  0.,  0., -1.,\n",
        "           1.,  0.,  0.,  0.,  0.,  0.,  0.,  0.,  0.,  0.,  0.,  0.,  0.,\n",
        "           0.,  0.,  0.],\n",
        "         [ 0.,  0.,  0.,  0.,  0.,  0.,  0.,  0.,  0.,  0.,  0.,  0., -1.,\n",
        "           1.,  0.,  0.,  0.,  0.,  0.,  0.,  0.,  0.,  0.,  0.,  0.,  0.,\n",
        "           0.,  0.,  0.],\n",
        "         [ 0.,  0.,  0.,  0.,  0.,  0.,  0.,  0.,  0.,  0.,  0.,  0., -1.,\n",
        "           1.,  0.,  0.,  0.,  0.,  0.,  0.,  0.,  0.,  0.,  0.,  0.,  0.,\n",
        "           0.,  0.,  0.],\n",
        "         [ 0.,  0.,  0.,  0.,  0.,  0.,  0.,  0.,  0.,  0.,  0.,  0., -1.,\n",
        "           1.,  0.,  0.,  0.,  0.,  0.,  0.,  0.,  0.,  0.,  0.,  0.,  0.,\n",
        "           0.,  0.,  0.]]), 'FE0_C1_D10': array([[  0.00000000e+00,   0.00000000e+00,   0.00000000e+00,\n",
        "            0.00000000e+00,   0.00000000e+00,   0.00000000e+00,\n",
        "           -3.33333333e-01,   3.33333333e-01,   0.00000000e+00,\n",
        "            1.33333333e+00,  -1.33333333e+00,  -2.15331488e-16,\n",
        "            0.00000000e+00,   0.00000000e+00,   0.00000000e+00,\n",
        "            0.00000000e+00,   0.00000000e+00,   0.00000000e+00,\n",
        "            0.00000000e+00,   0.00000000e+00,   0.00000000e+00,\n",
        "            0.00000000e+00,   0.00000000e+00,   0.00000000e+00,\n",
        "            0.00000000e+00,   0.00000000e+00,   0.00000000e+00,\n",
        "            0.00000000e+00,   0.00000000e+00],\n",
        "         [  0.00000000e+00,   0.00000000e+00,   0.00000000e+00,\n",
        "            0.00000000e+00,   0.00000000e+00,   0.00000000e+00,\n",
        "            5.94853971e-01,   2.18970794e+00,   0.00000000e+00,\n",
        "            4.05146029e-01,  -4.05146029e-01,  -2.78456191e+00,\n",
        "            0.00000000e+00,   0.00000000e+00,   0.00000000e+00,\n",
        "            0.00000000e+00,   0.00000000e+00,   0.00000000e+00,\n",
        "            0.00000000e+00,   0.00000000e+00,   0.00000000e+00,\n",
        "            0.00000000e+00,   0.00000000e+00,   0.00000000e+00,\n",
        "            0.00000000e+00,   0.00000000e+00,   0.00000000e+00,\n",
        "            0.00000000e+00,   0.00000000e+00],\n",
        "         [  0.00000000e+00,   0.00000000e+00,   0.00000000e+00,\n",
        "            0.00000000e+00,   0.00000000e+00,   0.00000000e+00,\n",
        "            5.94853971e-01,  -5.94853971e-01,   0.00000000e+00,\n",
        "            3.18970794e+00,  -3.18970794e+00,  -4.37374128e-16,\n",
        "            0.00000000e+00,   0.00000000e+00,   0.00000000e+00,\n",
        "            0.00000000e+00,   0.00000000e+00,   0.00000000e+00,\n",
        "            0.00000000e+00,   0.00000000e+00,   0.00000000e+00,\n",
        "            0.00000000e+00,   0.00000000e+00,   0.00000000e+00,\n",
        "            0.00000000e+00,   0.00000000e+00,   0.00000000e+00,\n",
        "            0.00000000e+00,   0.00000000e+00],\n",
        "         [  0.00000000e+00,   0.00000000e+00,   0.00000000e+00,\n",
        "            0.00000000e+00,   0.00000000e+00,   0.00000000e+00,\n",
        "           -2.18970794e+00,  -5.94853971e-01,   0.00000000e+00,\n",
        "            4.05146029e-01,  -4.05146029e-01,   2.78456191e+00,\n",
        "            0.00000000e+00,   0.00000000e+00,   0.00000000e+00,\n",
        "            0.00000000e+00,   0.00000000e+00,   0.00000000e+00,\n",
        "            0.00000000e+00,   0.00000000e+00,   0.00000000e+00,\n",
        "            0.00000000e+00,   0.00000000e+00,   0.00000000e+00,\n",
        "            0.00000000e+00,   0.00000000e+00,   0.00000000e+00,\n",
        "            0.00000000e+00,   0.00000000e+00],\n",
        "         [  0.00000000e+00,   0.00000000e+00,   0.00000000e+00,\n",
        "            0.00000000e+00,   0.00000000e+00,   0.00000000e+00,\n",
        "           -8.80568256e-01,  -7.61136513e-01,   0.00000000e+00,\n",
        "            1.88056826e+00,  -1.88056826e+00,   1.64170477e+00,\n",
        "            0.00000000e+00,   0.00000000e+00,   0.00000000e+00,\n",
        "            0.00000000e+00,   0.00000000e+00,   0.00000000e+00,\n",
        "            0.00000000e+00,   0.00000000e+00,   0.00000000e+00,\n",
        "            0.00000000e+00,   0.00000000e+00,   0.00000000e+00,\n",
        "            0.00000000e+00,   0.00000000e+00,   0.00000000e+00,\n",
        "            0.00000000e+00,   0.00000000e+00],\n",
        "         [  0.00000000e+00,   0.00000000e+00,   0.00000000e+00,\n",
        "            0.00000000e+00,   0.00000000e+00,   0.00000000e+00,\n",
        "           -8.80568256e-01,   8.80568256e-01,   0.00000000e+00,\n",
        "            2.38863487e-01,  -2.38863487e-01,  -4.36972564e-16,\n",
        "            0.00000000e+00,   0.00000000e+00,   0.00000000e+00,\n",
        "            0.00000000e+00,   0.00000000e+00,   0.00000000e+00,\n",
        "            0.00000000e+00,   0.00000000e+00,   0.00000000e+00,\n",
        "            0.00000000e+00,   0.00000000e+00,   0.00000000e+00,\n",
        "            0.00000000e+00,   0.00000000e+00,   0.00000000e+00,\n",
        "            0.00000000e+00,   0.00000000e+00],\n",
        "         [  0.00000000e+00,   0.00000000e+00,   0.00000000e+00,\n",
        "            0.00000000e+00,   0.00000000e+00,   0.00000000e+00,\n",
        "            7.61136513e-01,   8.80568256e-01,   0.00000000e+00,\n",
        "            1.88056826e+00,  -1.88056826e+00,  -1.64170477e+00,\n",
        "            0.00000000e+00,   0.00000000e+00,   0.00000000e+00,\n",
        "            0.00000000e+00,   0.00000000e+00,   0.00000000e+00,\n",
        "            0.00000000e+00,   0.00000000e+00,   0.00000000e+00,\n",
        "            0.00000000e+00,   0.00000000e+00,   0.00000000e+00,\n",
        "            0.00000000e+00,   0.00000000e+00,   0.00000000e+00,\n",
        "            0.00000000e+00,   0.00000000e+00]]), 'FE0_C0_D10': array([[ -3.33333333e-01,   3.33333333e-01,   0.00000000e+00,\n",
        "            1.33333333e+00,  -1.33333333e+00,  -2.15331488e-16,\n",
        "            0.00000000e+00,   0.00000000e+00,   0.00000000e+00,\n",
        "            0.00000000e+00,   0.00000000e+00,   0.00000000e+00,\n",
        "            0.00000000e+00,   0.00000000e+00,   0.00000000e+00,\n",
        "            0.00000000e+00,   0.00000000e+00,   0.00000000e+00,\n",
        "            0.00000000e+00,   0.00000000e+00,   0.00000000e+00,\n",
        "            0.00000000e+00,   0.00000000e+00,   0.00000000e+00,\n",
        "            0.00000000e+00,   0.00000000e+00,   0.00000000e+00,\n",
        "            0.00000000e+00,   0.00000000e+00],\n",
        "         [  5.94853971e-01,   2.18970794e+00,   0.00000000e+00,\n",
        "            4.05146029e-01,  -4.05146029e-01,  -2.78456191e+00,\n",
        "            0.00000000e+00,   0.00000000e+00,   0.00000000e+00,\n",
        "            0.00000000e+00,   0.00000000e+00,   0.00000000e+00,\n",
        "            0.00000000e+00,   0.00000000e+00,   0.00000000e+00,\n",
        "            0.00000000e+00,   0.00000000e+00,   0.00000000e+00,\n",
        "            0.00000000e+00,   0.00000000e+00,   0.00000000e+00,\n",
        "            0.00000000e+00,   0.00000000e+00,   0.00000000e+00,\n",
        "            0.00000000e+00,   0.00000000e+00,   0.00000000e+00,\n",
        "            0.00000000e+00,   0.00000000e+00],\n",
        "         [  5.94853971e-01,  -5.94853971e-01,   0.00000000e+00,\n",
        "            3.18970794e+00,  -3.18970794e+00,  -4.37374128e-16,\n",
        "            0.00000000e+00,   0.00000000e+00,   0.00000000e+00,\n",
        "            0.00000000e+00,   0.00000000e+00,   0.00000000e+00,\n",
        "            0.00000000e+00,   0.00000000e+00,   0.00000000e+00,\n",
        "            0.00000000e+00,   0.00000000e+00,   0.00000000e+00,\n",
        "            0.00000000e+00,   0.00000000e+00,   0.00000000e+00,\n",
        "            0.00000000e+00,   0.00000000e+00,   0.00000000e+00,\n",
        "            0.00000000e+00,   0.00000000e+00,   0.00000000e+00,\n",
        "            0.00000000e+00,   0.00000000e+00],\n",
        "         [ -2.18970794e+00,  -5.94853971e-01,   0.00000000e+00,\n",
        "            4.05146029e-01,  -4.05146029e-01,   2.78456191e+00,\n",
        "            0.00000000e+00,   0.00000000e+00,   0.00000000e+00,\n",
        "            0.00000000e+00,   0.00000000e+00,   0.00000000e+00,\n",
        "            0.00000000e+00,   0.00000000e+00,   0.00000000e+00,\n",
        "            0.00000000e+00,   0.00000000e+00,   0.00000000e+00,\n",
        "            0.00000000e+00,   0.00000000e+00,   0.00000000e+00,\n",
        "            0.00000000e+00,   0.00000000e+00,   0.00000000e+00,\n",
        "            0.00000000e+00,   0.00000000e+00,   0.00000000e+00,\n",
        "            0.00000000e+00,   0.00000000e+00],\n",
        "         [ -8.80568256e-01,  -7.61136513e-01,   0.00000000e+00,\n",
        "            1.88056826e+00,  -1.88056826e+00,   1.64170477e+00,\n",
        "            0.00000000e+00,   0.00000000e+00,   0.00000000e+00,\n",
        "            0.00000000e+00,   0.00000000e+00,   0.00000000e+00,\n",
        "            0.00000000e+00,   0.00000000e+00,   0.00000000e+00,\n",
        "            0.00000000e+00,   0.00000000e+00,   0.00000000e+00,\n",
        "            0.00000000e+00,   0.00000000e+00,   0.00000000e+00,\n",
        "            0.00000000e+00,   0.00000000e+00,   0.00000000e+00,\n",
        "            0.00000000e+00,   0.00000000e+00,   0.00000000e+00,\n",
        "            0.00000000e+00,   0.00000000e+00],\n",
        "         [ -8.80568256e-01,   8.80568256e-01,   0.00000000e+00,\n",
        "            2.38863487e-01,  -2.38863487e-01,  -4.36972564e-16,\n",
        "            0.00000000e+00,   0.00000000e+00,   0.00000000e+00,\n",
        "            0.00000000e+00,   0.00000000e+00,   0.00000000e+00,\n",
        "            0.00000000e+00,   0.00000000e+00,   0.00000000e+00,\n",
        "            0.00000000e+00,   0.00000000e+00,   0.00000000e+00,\n",
        "            0.00000000e+00,   0.00000000e+00,   0.00000000e+00,\n",
        "            0.00000000e+00,   0.00000000e+00,   0.00000000e+00,\n",
        "            0.00000000e+00,   0.00000000e+00,   0.00000000e+00,\n",
        "            0.00000000e+00,   0.00000000e+00],\n",
        "         [  7.61136513e-01,   8.80568256e-01,   0.00000000e+00,\n",
        "            1.88056826e+00,  -1.88056826e+00,  -1.64170477e+00,\n",
        "            0.00000000e+00,   0.00000000e+00,   0.00000000e+00,\n",
        "            0.00000000e+00,   0.00000000e+00,   0.00000000e+00,\n",
        "            0.00000000e+00,   0.00000000e+00,   0.00000000e+00,\n",
        "            0.00000000e+00,   0.00000000e+00,   0.00000000e+00,\n",
        "            0.00000000e+00,   0.00000000e+00,   0.00000000e+00,\n",
        "            0.00000000e+00,   0.00000000e+00,   0.00000000e+00,\n",
        "            0.00000000e+00,   0.00000000e+00,   0.00000000e+00,\n",
        "            0.00000000e+00,   0.00000000e+00]]), 'FE0_C0_D01': array([[ -3.33333333e-01,   8.32667268e-17,   3.33333333e-01,\n",
        "            1.33333333e+00,  -1.66533454e-16,  -1.33333333e+00,\n",
        "            0.00000000e+00,   0.00000000e+00,   0.00000000e+00,\n",
        "            0.00000000e+00,   0.00000000e+00,   0.00000000e+00,\n",
        "            0.00000000e+00,   0.00000000e+00,   0.00000000e+00,\n",
        "            0.00000000e+00,   0.00000000e+00,   0.00000000e+00,\n",
        "            0.00000000e+00,   0.00000000e+00,   0.00000000e+00,\n",
        "            0.00000000e+00,   0.00000000e+00,   0.00000000e+00,\n",
        "            0.00000000e+00,   0.00000000e+00,   0.00000000e+00,\n",
        "            0.00000000e+00,   0.00000000e+00],\n",
        "         [  5.94853971e-01,   2.22044605e-16,  -5.94853971e-01,\n",
        "            3.18970794e+00,   4.44089210e-16,  -3.18970794e+00,\n",
        "            0.00000000e+00,   0.00000000e+00,   0.00000000e+00,\n",
        "            0.00000000e+00,   0.00000000e+00,   0.00000000e+00,\n",
        "            0.00000000e+00,   0.00000000e+00,   0.00000000e+00,\n",
        "            0.00000000e+00,   0.00000000e+00,   0.00000000e+00,\n",
        "            0.00000000e+00,   0.00000000e+00,   0.00000000e+00,\n",
        "            0.00000000e+00,   0.00000000e+00,   0.00000000e+00,\n",
        "            0.00000000e+00,   0.00000000e+00,   0.00000000e+00,\n",
        "            0.00000000e+00,   0.00000000e+00],\n",
        "         [  5.94853971e-01,  -2.22044605e-16,   2.18970794e+00,\n",
        "            4.05146029e-01,  -2.78456191e+00,  -4.05146029e-01,\n",
        "            0.00000000e+00,   0.00000000e+00,   0.00000000e+00,\n",
        "            0.00000000e+00,   0.00000000e+00,   0.00000000e+00,\n",
        "            0.00000000e+00,   0.00000000e+00,   0.00000000e+00,\n",
        "            0.00000000e+00,   0.00000000e+00,   0.00000000e+00,\n",
        "            0.00000000e+00,   0.00000000e+00,   0.00000000e+00,\n",
        "            0.00000000e+00,   0.00000000e+00,   0.00000000e+00,\n",
        "            0.00000000e+00,   0.00000000e+00,   0.00000000e+00,\n",
        "            0.00000000e+00,   0.00000000e+00],\n",
        "         [ -2.18970794e+00,   5.55111512e-17,  -5.94853971e-01,\n",
        "            4.05146029e-01,   2.78456191e+00,  -4.05146029e-01,\n",
        "            0.00000000e+00,   0.00000000e+00,   0.00000000e+00,\n",
        "            0.00000000e+00,   0.00000000e+00,   0.00000000e+00,\n",
        "            0.00000000e+00,   0.00000000e+00,   0.00000000e+00,\n",
        "            0.00000000e+00,   0.00000000e+00,   0.00000000e+00,\n",
        "            0.00000000e+00,   0.00000000e+00,   0.00000000e+00,\n",
        "            0.00000000e+00,   0.00000000e+00,   0.00000000e+00,\n",
        "            0.00000000e+00,   0.00000000e+00,   0.00000000e+00,\n",
        "            0.00000000e+00,   0.00000000e+00],\n",
        "         [ -8.80568256e-01,   1.52655666e-16,   8.80568256e-01,\n",
        "            2.38863487e-01,   3.33066907e-16,  -2.38863487e-01,\n",
        "            0.00000000e+00,   0.00000000e+00,   0.00000000e+00,\n",
        "            0.00000000e+00,   0.00000000e+00,   0.00000000e+00,\n",
        "            0.00000000e+00,   0.00000000e+00,   0.00000000e+00,\n",
        "            0.00000000e+00,   0.00000000e+00,   0.00000000e+00,\n",
        "            0.00000000e+00,   0.00000000e+00,   0.00000000e+00,\n",
        "            0.00000000e+00,   0.00000000e+00,   0.00000000e+00,\n",
        "            0.00000000e+00,   0.00000000e+00,   0.00000000e+00,\n",
        "            0.00000000e+00,   0.00000000e+00],\n",
        "         [ -8.80568256e-01,  -2.77555756e-16,  -7.61136513e-01,\n",
        "            1.88056826e+00,   1.64170477e+00,  -1.88056826e+00,\n",
        "            0.00000000e+00,   0.00000000e+00,   0.00000000e+00,\n",
        "            0.00000000e+00,   0.00000000e+00,   0.00000000e+00,\n",
        "            0.00000000e+00,   0.00000000e+00,   0.00000000e+00,\n",
        "            0.00000000e+00,   0.00000000e+00,   0.00000000e+00,\n",
        "            0.00000000e+00,   0.00000000e+00,   0.00000000e+00,\n",
        "            0.00000000e+00,   0.00000000e+00,   0.00000000e+00,\n",
        "            0.00000000e+00,   0.00000000e+00,   0.00000000e+00,\n",
        "            0.00000000e+00,   0.00000000e+00],\n",
        "         [  7.61136513e-01,   9.71445147e-17,   8.80568256e-01,\n",
        "            1.88056826e+00,  -1.64170477e+00,  -1.88056826e+00,\n",
        "            0.00000000e+00,   0.00000000e+00,   0.00000000e+00,\n",
        "            0.00000000e+00,   0.00000000e+00,   0.00000000e+00,\n",
        "            0.00000000e+00,   0.00000000e+00,   0.00000000e+00,\n",
        "            0.00000000e+00,   0.00000000e+00,   0.00000000e+00,\n",
        "            0.00000000e+00,   0.00000000e+00,   0.00000000e+00,\n",
        "            0.00000000e+00,   0.00000000e+00,   0.00000000e+00,\n",
        "            0.00000000e+00,   0.00000000e+00,   0.00000000e+00,\n",
        "            0.00000000e+00,   0.00000000e+00]]), 'FE0_C2_D01': array([[ 0.,  0.,  0.,  0.,  0.,  0.,  0.,  0.,  0.,  0.,  0.,  0., -1.,\n",
        "           0.,  1.,  0.,  0.,  0.,  0.,  0.,  0.,  0.,  0.,  0.,  0.,  0.,\n",
        "           0.,  0.,  0.],\n",
        "         [ 0.,  0.,  0.,  0.,  0.,  0.,  0.,  0.,  0.,  0.,  0.,  0., -1.,\n",
        "           0.,  1.,  0.,  0.,  0.,  0.,  0.,  0.,  0.,  0.,  0.,  0.,  0.,\n",
        "           0.,  0.,  0.],\n",
        "         [ 0.,  0.,  0.,  0.,  0.,  0.,  0.,  0.,  0.,  0.,  0.,  0., -1.,\n",
        "           0.,  1.,  0.,  0.,  0.,  0.,  0.,  0.,  0.,  0.,  0.,  0.,  0.,\n",
        "           0.,  0.,  0.],\n",
        "         [ 0.,  0.,  0.,  0.,  0.,  0.,  0.,  0.,  0.,  0.,  0.,  0., -1.,\n",
        "           0.,  1.,  0.,  0.,  0.,  0.,  0.,  0.,  0.,  0.,  0.,  0.,  0.,\n",
        "           0.,  0.,  0.],\n",
        "         [ 0.,  0.,  0.,  0.,  0.,  0.,  0.,  0.,  0.,  0.,  0.,  0., -1.,\n",
        "           0.,  1.,  0.,  0.,  0.,  0.,  0.,  0.,  0.,  0.,  0.,  0.,  0.,\n",
        "           0.,  0.,  0.],\n",
        "         [ 0.,  0.,  0.,  0.,  0.,  0.,  0.,  0.,  0.,  0.,  0.,  0., -1.,\n",
        "           0.,  1.,  0.,  0.,  0.,  0.,  0.,  0.,  0.,  0.,  0.,  0.,  0.,\n",
        "           0.,  0.,  0.],\n",
        "         [ 0.,  0.,  0.,  0.,  0.,  0.,  0.,  0.,  0.,  0.,  0.,  0., -1.,\n",
        "           0.,  1.,  0.,  0.,  0.,  0.,  0.,  0.,  0.,  0.,  0.,  0.,  0.,\n",
        "           0.,  0.,  0.]]), 'FE0_C4_D01': array([[  0.00000000e+00,   0.00000000e+00,   0.00000000e+00,\n",
        "            0.00000000e+00,   0.00000000e+00,   0.00000000e+00,\n",
        "            0.00000000e+00,   0.00000000e+00,   0.00000000e+00,\n",
        "            0.00000000e+00,   0.00000000e+00,   0.00000000e+00,\n",
        "            0.00000000e+00,   0.00000000e+00,   0.00000000e+00,\n",
        "           -1.47104551e-15,   1.33333333e+00,  -1.66666667e+00,\n",
        "            1.66666667e+00,  -1.33333333e+00,  -6.66133815e-16,\n",
        "            5.33333333e+00,  -2.66666667e+00,   0.00000000e+00,\n",
        "            0.00000000e+00,   0.00000000e+00,   0.00000000e+00,\n",
        "            0.00000000e+00,   0.00000000e+00],\n",
        "         [  0.00000000e+00,   0.00000000e+00,   0.00000000e+00,\n",
        "            0.00000000e+00,   0.00000000e+00,   0.00000000e+00,\n",
        "            0.00000000e+00,   0.00000000e+00,   0.00000000e+00,\n",
        "            0.00000000e+00,   0.00000000e+00,   0.00000000e+00,\n",
        "            0.00000000e+00,   0.00000000e+00,   0.00000000e+00,\n",
        "           -2.88657986e-15,   3.18970794e+00,   1.89707941e-01,\n",
        "           -1.89707941e-01,  -3.18970794e+00,  -1.99840144e-15,\n",
        "            1.27588318e+01,  -6.37941588e+00,   0.00000000e+00,\n",
        "            0.00000000e+00,   0.00000000e+00,   0.00000000e+00,\n",
        "            0.00000000e+00,   0.00000000e+00],\n",
        "         [  0.00000000e+00,   0.00000000e+00,   0.00000000e+00,\n",
        "            0.00000000e+00,   0.00000000e+00,   0.00000000e+00,\n",
        "            0.00000000e+00,   0.00000000e+00,   0.00000000e+00,\n",
        "            0.00000000e+00,   0.00000000e+00,   0.00000000e+00,\n",
        "            0.00000000e+00,   0.00000000e+00,   0.00000000e+00,\n",
        "            4.44089210e-16,   4.05146029e-01,  -2.59485397e+00,\n",
        "            2.59485397e+00,  -4.05146029e-01,   1.77635684e-15,\n",
        "            1.62058412e+00,  -8.10292059e-01,   0.00000000e+00,\n",
        "            0.00000000e+00,   0.00000000e+00,   0.00000000e+00,\n",
        "            0.00000000e+00,   0.00000000e+00],\n",
        "         [  0.00000000e+00,   0.00000000e+00,   0.00000000e+00,\n",
        "            0.00000000e+00,   0.00000000e+00,   0.00000000e+00,\n",
        "            0.00000000e+00,   0.00000000e+00,   0.00000000e+00,\n",
        "            0.00000000e+00,   0.00000000e+00,   0.00000000e+00,\n",
        "            0.00000000e+00,   0.00000000e+00,   0.00000000e+00,\n",
        "           -2.33146835e-15,   4.05146029e-01,  -2.59485397e+00,\n",
        "            2.59485397e+00,  -4.05146029e-01,  -1.88737914e-15,\n",
        "            1.62058412e+00,  -8.10292059e-01,   0.00000000e+00,\n",
        "            0.00000000e+00,   0.00000000e+00,   0.00000000e+00,\n",
        "            0.00000000e+00,   0.00000000e+00],\n",
        "         [  0.00000000e+00,   0.00000000e+00,   0.00000000e+00,\n",
        "            0.00000000e+00,   0.00000000e+00,   0.00000000e+00,\n",
        "            0.00000000e+00,   0.00000000e+00,   0.00000000e+00,\n",
        "            0.00000000e+00,   0.00000000e+00,   0.00000000e+00,\n",
        "            0.00000000e+00,   0.00000000e+00,   0.00000000e+00,\n",
        "           -2.49800181e-16,   2.38863487e-01,  -2.76113651e+00,\n",
        "            2.76113651e+00,  -2.38863487e-01,   6.10622664e-16,\n",
        "            9.55453949e-01,  -4.77726974e-01,   0.00000000e+00,\n",
        "            0.00000000e+00,   0.00000000e+00,   0.00000000e+00,\n",
        "            0.00000000e+00,   0.00000000e+00],\n",
        "         [  0.00000000e+00,   0.00000000e+00,   0.00000000e+00,\n",
        "            0.00000000e+00,   0.00000000e+00,   0.00000000e+00,\n",
        "            0.00000000e+00,   0.00000000e+00,   0.00000000e+00,\n",
        "            0.00000000e+00,   0.00000000e+00,   0.00000000e+00,\n",
        "            0.00000000e+00,   0.00000000e+00,   0.00000000e+00,\n",
        "           -3.77475828e-15,   1.88056826e+00,  -1.11943174e+00,\n",
        "            1.11943174e+00,  -1.88056826e+00,  -3.21964677e-15,\n",
        "            7.52227303e+00,  -3.76113651e+00,   0.00000000e+00,\n",
        "            0.00000000e+00,   0.00000000e+00,   0.00000000e+00,\n",
        "            0.00000000e+00,   0.00000000e+00],\n",
        "         [  0.00000000e+00,   0.00000000e+00,   0.00000000e+00,\n",
        "            0.00000000e+00,   0.00000000e+00,   0.00000000e+00,\n",
        "            0.00000000e+00,   0.00000000e+00,   0.00000000e+00,\n",
        "            0.00000000e+00,   0.00000000e+00,   0.00000000e+00,\n",
        "            0.00000000e+00,   0.00000000e+00,   0.00000000e+00,\n",
        "           -9.71445147e-16,   1.88056826e+00,  -1.11943174e+00,\n",
        "            1.11943174e+00,  -1.88056826e+00,   2.22044605e-16,\n",
        "            7.52227303e+00,  -3.76113651e+00,   0.00000000e+00,\n",
        "            0.00000000e+00,   0.00000000e+00,   0.00000000e+00,\n",
        "            0.00000000e+00,   0.00000000e+00]]), 'FE0_C5': array([[ 0.        ,  0.        ,  0.        ,  0.        ,  0.        ,\n",
        "           0.        ,  0.        ,  0.        ,  0.        ,  0.        ,\n",
        "           0.        ,  0.        ,  0.        ,  0.        ,  0.        ,\n",
        "           0.        ,  0.        ,  0.        ,  0.        ,  0.        ,\n",
        "           0.        ,  0.        ,  0.        , -0.11111111, -0.11111111,\n",
        "          -0.11111111,  0.44444444,  0.44444444,  0.44444444],\n",
        "         [ 0.        ,  0.        ,  0.        ,  0.        ,  0.        ,\n",
        "           0.        ,  0.        ,  0.        ,  0.        ,  0.        ,\n",
        "           0.        ,  0.        ,  0.        ,  0.        ,  0.        ,\n",
        "           0.        ,  0.        ,  0.        ,  0.        ,  0.        ,\n",
        "           0.        ,  0.        ,  0.        , -0.08076859,  0.47435261,\n",
        "          -0.08076859,  0.32307438,  0.04103583,  0.32307438],\n",
        "         [ 0.        ,  0.        ,  0.        ,  0.        ,  0.        ,\n",
        "           0.        ,  0.        ,  0.        ,  0.        ,  0.        ,\n",
        "           0.        ,  0.        ,  0.        ,  0.        ,  0.        ,\n",
        "           0.        ,  0.        ,  0.        ,  0.        ,  0.        ,\n",
        "           0.        ,  0.        ,  0.        , -0.08076859, -0.08076859,\n",
        "           0.47435261,  0.32307438,  0.32307438,  0.04103583],\n",
        "         [ 0.        ,  0.        ,  0.        ,  0.        ,  0.        ,\n",
        "           0.        ,  0.        ,  0.        ,  0.        ,  0.        ,\n",
        "           0.        ,  0.        ,  0.        ,  0.        ,  0.        ,\n",
        "           0.        ,  0.        ,  0.        ,  0.        ,  0.        ,\n",
        "           0.        ,  0.        ,  0.        ,  0.47435261, -0.08076859,\n",
        "          -0.08076859,  0.04103583,  0.32307438,  0.32307438],\n",
        "         [ 0.        ,  0.        ,  0.        ,  0.        ,  0.        ,\n",
        "           0.        ,  0.        ,  0.        ,  0.        ,  0.        ,\n",
        "           0.        ,  0.        ,  0.        ,  0.        ,  0.        ,\n",
        "           0.        ,  0.        ,  0.        ,  0.        ,  0.        ,\n",
        "           0.        ,  0.        ,  0.        , -0.02807494, -0.0525839 ,\n",
        "          -0.02807494,  0.11229977,  0.88413424,  0.11229977],\n",
        "         [ 0.        ,  0.        ,  0.        ,  0.        ,  0.        ,\n",
        "           0.        ,  0.        ,  0.        ,  0.        ,  0.        ,\n",
        "           0.        ,  0.        ,  0.        ,  0.        ,  0.        ,\n",
        "           0.        ,  0.        ,  0.        ,  0.        ,  0.        ,\n",
        "           0.        ,  0.        ,  0.        , -0.02807494, -0.02807494,\n",
        "          -0.0525839 ,  0.11229977,  0.11229977,  0.88413424],\n",
        "         [ 0.        ,  0.        ,  0.        ,  0.        ,  0.        ,\n",
        "           0.        ,  0.        ,  0.        ,  0.        ,  0.        ,\n",
        "           0.        ,  0.        ,  0.        ,  0.        ,  0.        ,\n",
        "           0.        ,  0.        ,  0.        ,  0.        ,  0.        ,\n",
        "           0.        ,  0.        ,  0.        , -0.0525839 , -0.02807494,\n",
        "          -0.02807494,  0.88413424,  0.11229977,  0.11229977]]), 'FE0_C4': array([[  0.00000000e+00,   0.00000000e+00,   0.00000000e+00,\n",
        "            0.00000000e+00,   0.00000000e+00,   0.00000000e+00,\n",
        "            0.00000000e+00,   0.00000000e+00,   0.00000000e+00,\n",
        "            0.00000000e+00,   0.00000000e+00,   0.00000000e+00,\n",
        "            0.00000000e+00,   0.00000000e+00,   0.00000000e+00,\n",
        "           -2.22222222e-01,   1.11111111e-01,  -1.11111111e-01,\n",
        "           -1.11111111e-01,   1.11111111e-01,  -2.22222222e-01,\n",
        "           -2.22044605e-16,   2.66666667e+00,   0.00000000e+00,\n",
        "            0.00000000e+00,   0.00000000e+00,   0.00000000e+00,\n",
        "            0.00000000e+00,   0.00000000e+00],\n",
        "         [  0.00000000e+00,   0.00000000e+00,   0.00000000e+00,\n",
        "            0.00000000e+00,   0.00000000e+00,   0.00000000e+00,\n",
        "            0.00000000e+00,   0.00000000e+00,   0.00000000e+00,\n",
        "            0.00000000e+00,   0.00000000e+00,   0.00000000e+00,\n",
        "            0.00000000e+00,   0.00000000e+00,   0.00000000e+00,\n",
        "            9.48705217e-01,  -4.74352609e-01,  -2.21787869e-01,\n",
        "           -2.21787869e-01,  -4.74352609e-01,   9.48705217e-01,\n",
        "            1.83186799e-15,   1.93844626e+00,   0.00000000e+00,\n",
        "            0.00000000e+00,   0.00000000e+00,   0.00000000e+00,\n",
        "            0.00000000e+00,   0.00000000e+00],\n",
        "         [  0.00000000e+00,   0.00000000e+00,   0.00000000e+00,\n",
        "            0.00000000e+00,   0.00000000e+00,   0.00000000e+00,\n",
        "            0.00000000e+00,   0.00000000e+00,   0.00000000e+00,\n",
        "            0.00000000e+00,   0.00000000e+00,   0.00000000e+00,\n",
        "            0.00000000e+00,   0.00000000e+00,   0.00000000e+00,\n",
        "           -1.61537188e-01,   2.21787869e-01,  -6.35889797e-01,\n",
        "            1.17049309e+00,  -6.02506811e-02,  -1.61537188e-01,\n",
        "            5.64077101e-01,   8.10292059e-01,   0.00000000e+00,\n",
        "            0.00000000e+00,   0.00000000e+00,   0.00000000e+00,\n",
        "            0.00000000e+00,   0.00000000e+00],\n",
        "         [  0.00000000e+00,   0.00000000e+00,   0.00000000e+00,\n",
        "            0.00000000e+00,   0.00000000e+00,   0.00000000e+00,\n",
        "            0.00000000e+00,   0.00000000e+00,   0.00000000e+00,\n",
        "            0.00000000e+00,   0.00000000e+00,   0.00000000e+00,\n",
        "            0.00000000e+00,   0.00000000e+00,   0.00000000e+00,\n",
        "           -1.61537188e-01,  -6.02506811e-02,   1.17049309e+00,\n",
        "           -6.35889797e-01,   2.21787869e-01,  -1.61537188e-01,\n",
        "           -5.64077101e-01,   1.37436916e+00,   0.00000000e+00,\n",
        "            0.00000000e+00,   0.00000000e+00,   0.00000000e+00,\n",
        "            0.00000000e+00,   0.00000000e+00],\n",
        "         [  0.00000000e+00,   0.00000000e+00,   0.00000000e+00,\n",
        "            0.00000000e+00,   0.00000000e+00,   0.00000000e+00,\n",
        "            0.00000000e+00,   0.00000000e+00,   0.00000000e+00,\n",
        "            0.00000000e+00,   0.00000000e+00,   0.00000000e+00,\n",
        "            0.00000000e+00,   0.00000000e+00,   0.00000000e+00,\n",
        "           -1.05167802e-01,   5.25839011e-02,   3.57842291e-01,\n",
        "            3.57842291e-01,   5.25839011e-02,  -1.05167802e-01,\n",
        "           -2.22044605e-16,   6.73798637e-01,   0.00000000e+00,\n",
        "            0.00000000e+00,   0.00000000e+00,   0.00000000e+00,\n",
        "            0.00000000e+00,   0.00000000e+00],\n",
        "         [  0.00000000e+00,   0.00000000e+00,   0.00000000e+00,\n",
        "            0.00000000e+00,   0.00000000e+00,   0.00000000e+00,\n",
        "            0.00000000e+00,   0.00000000e+00,   0.00000000e+00,\n",
        "            0.00000000e+00,   0.00000000e+00,   0.00000000e+00,\n",
        "            0.00000000e+00,   0.00000000e+00,   0.00000000e+00,\n",
        "           -5.61498864e-02,  -3.57842291e-01,  -3.56598534e-03,\n",
        "           -4.63010093e-01,   4.13992178e-01,  -5.61498864e-02,\n",
        "           -1.54366894e+00,   3.76113651e+00,   0.00000000e+00,\n",
        "            0.00000000e+00,   0.00000000e+00,   0.00000000e+00,\n",
        "            0.00000000e+00,   0.00000000e+00],\n",
        "         [  0.00000000e+00,   0.00000000e+00,   0.00000000e+00,\n",
        "            0.00000000e+00,   0.00000000e+00,   0.00000000e+00,\n",
        "            0.00000000e+00,   0.00000000e+00,   0.00000000e+00,\n",
        "            0.00000000e+00,   0.00000000e+00,   0.00000000e+00,\n",
        "            0.00000000e+00,   0.00000000e+00,   0.00000000e+00,\n",
        "           -5.61498864e-02,   4.13992178e-01,  -4.63010093e-01,\n",
        "           -3.56598534e-03,  -3.57842291e-01,  -5.61498864e-02,\n",
        "            1.54366894e+00,   2.21746758e+00,   0.00000000e+00,\n",
        "            0.00000000e+00,   0.00000000e+00,   0.00000000e+00,\n",
        "            0.00000000e+00,   0.00000000e+00]]), 'FE0_C3': array([[  0.00000000e+00,   0.00000000e+00,   0.00000000e+00,\n",
        "            0.00000000e+00,   0.00000000e+00,   0.00000000e+00,\n",
        "            0.00000000e+00,   0.00000000e+00,   0.00000000e+00,\n",
        "            0.00000000e+00,   0.00000000e+00,   0.00000000e+00,\n",
        "            0.00000000e+00,   0.00000000e+00,   0.00000000e+00,\n",
        "           -1.11111111e-01,   2.22222222e-01,   1.11111111e-01,\n",
        "           -2.22222222e-01,  -1.11111111e-01,  -1.11111111e-01,\n",
        "            2.66666667e+00,  -2.51284354e-16,   0.00000000e+00,\n",
        "            0.00000000e+00,   0.00000000e+00,   0.00000000e+00,\n",
        "            0.00000000e+00,   0.00000000e+00],\n",
        "         [  0.00000000e+00,   0.00000000e+00,   0.00000000e+00,\n",
        "            0.00000000e+00,   0.00000000e+00,   0.00000000e+00,\n",
        "            0.00000000e+00,   0.00000000e+00,   0.00000000e+00,\n",
        "            0.00000000e+00,   0.00000000e+00,   0.00000000e+00,\n",
        "            0.00000000e+00,   0.00000000e+00,   0.00000000e+00,\n",
        "           -2.21787869e-01,   1.61537188e-01,  -6.02506811e-02,\n",
        "           -1.61537188e-01,  -6.35889797e-01,   1.17049309e+00,\n",
        "            8.10292059e-01,   5.64077101e-01,   0.00000000e+00,\n",
        "            0.00000000e+00,   0.00000000e+00,   0.00000000e+00,\n",
        "            0.00000000e+00,   0.00000000e+00],\n",
        "         [  0.00000000e+00,   0.00000000e+00,   0.00000000e+00,\n",
        "            0.00000000e+00,   0.00000000e+00,   0.00000000e+00,\n",
        "            0.00000000e+00,   0.00000000e+00,   0.00000000e+00,\n",
        "            0.00000000e+00,   0.00000000e+00,   0.00000000e+00,\n",
        "            0.00000000e+00,   0.00000000e+00,   0.00000000e+00,\n",
        "            4.74352609e-01,  -9.48705217e-01,  -4.74352609e-01,\n",
        "            9.48705217e-01,  -2.21787869e-01,  -2.21787869e-01,\n",
        "            1.93844626e+00,  -7.55198557e-16,   0.00000000e+00,\n",
        "            0.00000000e+00,   0.00000000e+00,   0.00000000e+00,\n",
        "            0.00000000e+00,   0.00000000e+00],\n",
        "         [  0.00000000e+00,   0.00000000e+00,   0.00000000e+00,\n",
        "            0.00000000e+00,   0.00000000e+00,   0.00000000e+00,\n",
        "            0.00000000e+00,   0.00000000e+00,   0.00000000e+00,\n",
        "            0.00000000e+00,   0.00000000e+00,   0.00000000e+00,\n",
        "            0.00000000e+00,   0.00000000e+00,   0.00000000e+00,\n",
        "            6.02506811e-02,   1.61537188e-01,   2.21787869e-01,\n",
        "           -1.61537188e-01,   1.17049309e+00,  -6.35889797e-01,\n",
        "            1.37436916e+00,  -5.64077101e-01,   0.00000000e+00,\n",
        "            0.00000000e+00,   0.00000000e+00,   0.00000000e+00,\n",
        "            0.00000000e+00,   0.00000000e+00],\n",
        "         [  0.00000000e+00,   0.00000000e+00,   0.00000000e+00,\n",
        "            0.00000000e+00,   0.00000000e+00,   0.00000000e+00,\n",
        "            0.00000000e+00,   0.00000000e+00,   0.00000000e+00,\n",
        "            0.00000000e+00,   0.00000000e+00,   0.00000000e+00,\n",
        "            0.00000000e+00,   0.00000000e+00,   0.00000000e+00,\n",
        "            3.57842291e-01,   5.61498864e-02,   4.13992178e-01,\n",
        "           -5.61498864e-02,  -3.56598534e-03,  -4.63010093e-01,\n",
        "            3.76113651e+00,  -1.54366894e+00,   0.00000000e+00,\n",
        "            0.00000000e+00,   0.00000000e+00,   0.00000000e+00,\n",
        "            0.00000000e+00,   0.00000000e+00],\n",
        "         [  0.00000000e+00,   0.00000000e+00,   0.00000000e+00,\n",
        "            0.00000000e+00,   0.00000000e+00,   0.00000000e+00,\n",
        "            0.00000000e+00,   0.00000000e+00,   0.00000000e+00,\n",
        "            0.00000000e+00,   0.00000000e+00,   0.00000000e+00,\n",
        "            0.00000000e+00,   0.00000000e+00,   0.00000000e+00,\n",
        "           -5.25839011e-02,   1.05167802e-01,   5.25839011e-02,\n",
        "           -1.05167802e-01,   3.57842291e-01,   3.57842291e-01,\n",
        "            6.73798637e-01,   2.29834205e-16,   0.00000000e+00,\n",
        "            0.00000000e+00,   0.00000000e+00,   0.00000000e+00,\n",
        "            0.00000000e+00,   0.00000000e+00],\n",
        "         [  0.00000000e+00,   0.00000000e+00,   0.00000000e+00,\n",
        "            0.00000000e+00,   0.00000000e+00,   0.00000000e+00,\n",
        "            0.00000000e+00,   0.00000000e+00,   0.00000000e+00,\n",
        "            0.00000000e+00,   0.00000000e+00,   0.00000000e+00,\n",
        "            0.00000000e+00,   0.00000000e+00,   0.00000000e+00,\n",
        "           -4.13992178e-01,   5.61498864e-02,  -3.57842291e-01,\n",
        "           -5.61498864e-02,  -4.63010093e-01,  -3.56598534e-03,\n",
        "            2.21746758e+00,   1.54366894e+00,   0.00000000e+00,\n",
        "            0.00000000e+00,   0.00000000e+00,   0.00000000e+00,\n",
        "            0.00000000e+00,   0.00000000e+00]]), 'FE0_C2': array([[ 0.        ,  0.        ,  0.        ,  0.        ,  0.        ,\n",
        "           0.        ,  0.        ,  0.        ,  0.        ,  0.        ,\n",
        "           0.        ,  0.        ,  0.33333333,  0.33333333,  0.33333333,\n",
        "           0.        ,  0.        ,  0.        ,  0.        ,  0.        ,\n",
        "           0.        ,  0.        ,  0.        ,  0.        ,  0.        ,\n",
        "           0.        ,  0.        ,  0.        ,  0.        ],\n",
        "         [ 0.        ,  0.        ,  0.        ,  0.        ,  0.        ,\n",
        "           0.        ,  0.        ,  0.        ,  0.        ,  0.        ,\n",
        "           0.        ,  0.        ,  0.10128651,  0.79742699,  0.10128651,\n",
        "           0.        ,  0.        ,  0.        ,  0.        ,  0.        ,\n",
        "           0.        ,  0.        ,  0.        ,  0.        ,  0.        ,\n",
        "           0.        ,  0.        ,  0.        ,  0.        ],\n",
        "         [ 0.        ,  0.        ,  0.        ,  0.        ,  0.        ,\n",
        "           0.        ,  0.        ,  0.        ,  0.        ,  0.        ,\n",
        "           0.        ,  0.        ,  0.10128651,  0.10128651,  0.79742699,\n",
        "           0.        ,  0.        ,  0.        ,  0.        ,  0.        ,\n",
        "           0.        ,  0.        ,  0.        ,  0.        ,  0.        ,\n",
        "           0.        ,  0.        ,  0.        ,  0.        ],\n",
        "         [ 0.        ,  0.        ,  0.        ,  0.        ,  0.        ,\n",
        "           0.        ,  0.        ,  0.        ,  0.        ,  0.        ,\n",
        "           0.        ,  0.        ,  0.79742699,  0.10128651,  0.10128651,\n",
        "           0.        ,  0.        ,  0.        ,  0.        ,  0.        ,\n",
        "           0.        ,  0.        ,  0.        ,  0.        ,  0.        ,\n",
        "           0.        ,  0.        ,  0.        ,  0.        ],\n",
        "         [ 0.        ,  0.        ,  0.        ,  0.        ,  0.        ,\n",
        "           0.        ,  0.        ,  0.        ,  0.        ,  0.        ,\n",
        "           0.        ,  0.        ,  0.47014206,  0.05971587,  0.47014206,\n",
        "           0.        ,  0.        ,  0.        ,  0.        ,  0.        ,\n",
        "           0.        ,  0.        ,  0.        ,  0.        ,  0.        ,\n",
        "           0.        ,  0.        ,  0.        ,  0.        ],\n",
        "         [ 0.        ,  0.        ,  0.        ,  0.        ,  0.        ,\n",
        "           0.        ,  0.        ,  0.        ,  0.        ,  0.        ,\n",
        "           0.        ,  0.        ,  0.47014206,  0.47014206,  0.05971587,\n",
        "           0.        ,  0.        ,  0.        ,  0.        ,  0.        ,\n",
        "           0.        ,  0.        ,  0.        ,  0.        ,  0.        ,\n",
        "           0.        ,  0.        ,  0.        ,  0.        ],\n",
        "         [ 0.        ,  0.        ,  0.        ,  0.        ,  0.        ,\n",
        "           0.        ,  0.        ,  0.        ,  0.        ,  0.        ,\n",
        "           0.        ,  0.        ,  0.05971587,  0.47014206,  0.47014206,\n",
        "           0.        ,  0.        ,  0.        ,  0.        ,  0.        ,\n",
        "           0.        ,  0.        ,  0.        ,  0.        ,  0.        ,\n",
        "           0.        ,  0.        ,  0.        ,  0.        ]]), 'FE0_C1': array([[ 0.        ,  0.        ,  0.        ,  0.        ,  0.        ,\n",
        "           0.        , -0.11111111, -0.11111111, -0.11111111,  0.44444444,\n",
        "           0.44444444,  0.44444444,  0.        ,  0.        ,  0.        ,\n",
        "           0.        ,  0.        ,  0.        ,  0.        ,  0.        ,\n",
        "           0.        ,  0.        ,  0.        ,  0.        ,  0.        ,\n",
        "           0.        ,  0.        ,  0.        ,  0.        ],\n",
        "         [ 0.        ,  0.        ,  0.        ,  0.        ,  0.        ,\n",
        "           0.        , -0.08076859,  0.47435261, -0.08076859,  0.32307438,\n",
        "           0.04103583,  0.32307438,  0.        ,  0.        ,  0.        ,\n",
        "           0.        ,  0.        ,  0.        ,  0.        ,  0.        ,\n",
        "           0.        ,  0.        ,  0.        ,  0.        ,  0.        ,\n",
        "           0.        ,  0.        ,  0.        ,  0.        ],\n",
        "         [ 0.        ,  0.        ,  0.        ,  0.        ,  0.        ,\n",
        "           0.        , -0.08076859, -0.08076859,  0.47435261,  0.32307438,\n",
        "           0.32307438,  0.04103583,  0.        ,  0.        ,  0.        ,\n",
        "           0.        ,  0.        ,  0.        ,  0.        ,  0.        ,\n",
        "           0.        ,  0.        ,  0.        ,  0.        ,  0.        ,\n",
        "           0.        ,  0.        ,  0.        ,  0.        ],\n",
        "         [ 0.        ,  0.        ,  0.        ,  0.        ,  0.        ,\n",
        "           0.        ,  0.47435261, -0.08076859, -0.08076859,  0.04103583,\n",
        "           0.32307438,  0.32307438,  0.        ,  0.        ,  0.        ,\n",
        "           0.        ,  0.        ,  0.        ,  0.        ,  0.        ,\n",
        "           0.        ,  0.        ,  0.        ,  0.        ,  0.        ,\n",
        "           0.        ,  0.        ,  0.        ,  0.        ],\n",
        "         [ 0.        ,  0.        ,  0.        ,  0.        ,  0.        ,\n",
        "           0.        , -0.02807494, -0.0525839 , -0.02807494,  0.11229977,\n",
        "           0.88413424,  0.11229977,  0.        ,  0.        ,  0.        ,\n",
        "           0.        ,  0.        ,  0.        ,  0.        ,  0.        ,\n",
        "           0.        ,  0.        ,  0.        ,  0.        ,  0.        ,\n",
        "           0.        ,  0.        ,  0.        ,  0.        ],\n",
        "         [ 0.        ,  0.        ,  0.        ,  0.        ,  0.        ,\n",
        "           0.        , -0.02807494, -0.02807494, -0.0525839 ,  0.11229977,\n",
        "           0.11229977,  0.88413424,  0.        ,  0.        ,  0.        ,\n",
        "           0.        ,  0.        ,  0.        ,  0.        ,  0.        ,\n",
        "           0.        ,  0.        ,  0.        ,  0.        ,  0.        ,\n",
        "           0.        ,  0.        ,  0.        ,  0.        ],\n",
        "         [ 0.        ,  0.        ,  0.        ,  0.        ,  0.        ,\n",
        "           0.        , -0.0525839 , -0.02807494, -0.02807494,  0.88413424,\n",
        "           0.11229977,  0.11229977,  0.        ,  0.        ,  0.        ,\n",
        "           0.        ,  0.        ,  0.        ,  0.        ,  0.        ,\n",
        "           0.        ,  0.        ,  0.        ,  0.        ,  0.        ,\n",
        "           0.        ,  0.        ,  0.        ,  0.        ]]), 'FE0_C0': array([[-0.11111111, -0.11111111, -0.11111111,  0.44444444,  0.44444444,\n",
        "           0.44444444,  0.        ,  0.        ,  0.        ,  0.        ,\n",
        "           0.        ,  0.        ,  0.        ,  0.        ,  0.        ,\n",
        "           0.        ,  0.        ,  0.        ,  0.        ,  0.        ,\n",
        "           0.        ,  0.        ,  0.        ,  0.        ,  0.        ,\n",
        "           0.        ,  0.        ,  0.        ,  0.        ],\n",
        "         [-0.08076859,  0.47435261, -0.08076859,  0.32307438,  0.04103583,\n",
        "           0.32307438,  0.        ,  0.        ,  0.        ,  0.        ,\n",
        "           0.        ,  0.        ,  0.        ,  0.        ,  0.        ,\n",
        "           0.        ,  0.        ,  0.        ,  0.        ,  0.        ,\n",
        "           0.        ,  0.        ,  0.        ,  0.        ,  0.        ,\n",
        "           0.        ,  0.        ,  0.        ,  0.        ],\n",
        "         [-0.08076859, -0.08076859,  0.47435261,  0.32307438,  0.32307438,\n",
        "           0.04103583,  0.        ,  0.        ,  0.        ,  0.        ,\n",
        "           0.        ,  0.        ,  0.        ,  0.        ,  0.        ,\n",
        "           0.        ,  0.        ,  0.        ,  0.        ,  0.        ,\n",
        "           0.        ,  0.        ,  0.        ,  0.        ,  0.        ,\n",
        "           0.        ,  0.        ,  0.        ,  0.        ],\n",
        "         [ 0.47435261, -0.08076859, -0.08076859,  0.04103583,  0.32307438,\n",
        "           0.32307438,  0.        ,  0.        ,  0.        ,  0.        ,\n",
        "           0.        ,  0.        ,  0.        ,  0.        ,  0.        ,\n",
        "           0.        ,  0.        ,  0.        ,  0.        ,  0.        ,\n",
        "           0.        ,  0.        ,  0.        ,  0.        ,  0.        ,\n",
        "           0.        ,  0.        ,  0.        ,  0.        ],\n",
        "         [-0.02807494, -0.0525839 , -0.02807494,  0.11229977,  0.88413424,\n",
        "           0.11229977,  0.        ,  0.        ,  0.        ,  0.        ,\n",
        "           0.        ,  0.        ,  0.        ,  0.        ,  0.        ,\n",
        "           0.        ,  0.        ,  0.        ,  0.        ,  0.        ,\n",
        "           0.        ,  0.        ,  0.        ,  0.        ,  0.        ,\n",
        "           0.        ,  0.        ,  0.        ,  0.        ],\n",
        "         [-0.02807494, -0.02807494, -0.0525839 ,  0.11229977,  0.11229977,\n",
        "           0.88413424,  0.        ,  0.        ,  0.        ,  0.        ,\n",
        "           0.        ,  0.        ,  0.        ,  0.        ,  0.        ,\n",
        "           0.        ,  0.        ,  0.        ,  0.        ,  0.        ,\n",
        "           0.        ,  0.        ,  0.        ,  0.        ,  0.        ,\n",
        "           0.        ,  0.        ,  0.        ,  0.        ],\n",
        "         [-0.0525839 , -0.02807494, -0.02807494,  0.88413424,  0.11229977,\n",
        "           0.11229977,  0.        ,  0.        ,  0.        ,  0.        ,\n",
        "           0.        ,  0.        ,  0.        ,  0.        ,  0.        ,\n",
        "           0.        ,  0.        ,  0.        ,  0.        ,  0.        ,\n",
        "           0.        ,  0.        ,  0.        ,  0.        ,  0.        ,\n",
        "           0.        ,  0.        ,  0.        ,  0.        ]])}\n"
       ]
      },
      {
       "output_type": "stream",
       "stream": "stderr",
       "text": [
        "DEBUG:FFC:  \n",
        "  tables: {'FE0_C5_D10': array([[  0.00000000e+00,   0.00000000e+00,   0.00000000e+00,\n",
        "            0.00000000e+00,   0.00000000e+00,   0.00000000e+00,\n",
        "            0.00000000e+00,   0.00000000e+00,   0.00000000e+00,\n",
        "            0.00000000e+00,   0.00000000e+00,   0.00000000e+00,\n",
        "            0.00000000e+00,   0.00000000e+00,   0.00000000e+00,\n",
        "            0.00000000e+00,   0.00000000e+00,   0.00000000e+00,\n",
        "            0.00000000e+00,   0.00000000e+00,   0.00000000e+00,\n",
        "            0.00000000e+00,   0.00000000e+00,  -3.33333333e-01,\n",
        "            3.33333333e-01,   0.00000000e+00,   1.33333333e+00,\n",
        "           -1.33333333e+00,  -2.15331488e-16],\n",
        "         [  0.00000000e+00,   0.00000000e+00,   0.00000000e+00,\n",
        "            0.00000000e+00,   0.00000000e+00,   0.00000000e+00,\n",
        "            0.00000000e+00,   0.00000000e+00,   0.00000000e+00,\n",
        "            0.00000000e+00,   0.00000000e+00,   0.00000000e+00,\n",
        "            0.00000000e+00,   0.00000000e+00,   0.00000000e+00,\n",
        "            0.00000000e+00,   0.00000000e+00,   0.00000000e+00,\n",
        "            0.00000000e+00,   0.00000000e+00,   0.00000000e+00,\n",
        "            0.00000000e+00,   0.00000000e+00,   5.94853971e-01,\n",
        "            2.18970794e+00,   0.00000000e+00,   4.05146029e-01,\n",
        "           -4.05146029e-01,  -2.78456191e+00],\n",
        "         [  0.00000000e+00,   0.00000000e+00,   0.00000000e+00,\n",
        "            0.00000000e+00,   0.00000000e+00,   0.00000000e+00,\n",
        "            0.00000000e+00,   0.00000000e+00,   0.00000000e+00,\n",
        "            0.00000000e+00,   0.00000000e+00,   0.00000000e+00,\n",
        "            0.00000000e+00,   0.00000000e+00,   0.00000000e+00,\n",
        "            0.00000000e+00,   0.00000000e+00,   0.00000000e+00,\n",
        "            0.00000000e+00,   0.00000000e+00,   0.00000000e+00,\n",
        "            0.00000000e+00,   0.00000000e+00,   5.94853971e-01,\n",
        "           -5.94853971e-01,   0.00000000e+00,   3.18970794e+00,\n",
        "           -3.18970794e+00,  -4.37374128e-16],\n",
        "         [  0.00000000e+00,   0.00000000e+00,   0.00000000e+00,\n",
        "            0.00000000e+00,   0.00000000e+00,   0.00000000e+00,\n",
        "            0.00000000e+00,   0.00000000e+00,   0.00000000e+00,\n",
        "            0.00000000e+00,   0.00000000e+00,   0.00000000e+00,\n",
        "            0.00000000e+00,   0.00000000e+00,   0.00000000e+00,\n",
        "            0.00000000e+00,   0.00000000e+00,   0.00000000e+00,\n",
        "            0.00000000e+00,   0.00000000e+00,   0.00000000e+00,\n",
        "            0.00000000e+00,   0.00000000e+00,  -2.18970794e+00,\n",
        "           -5.94853971e-01,   0.00000000e+00,   4.05146029e-01,\n",
        "           -4.05146029e-01,   2.78456191e+00],\n",
        "         [  0.00000000e+00,   0.00000000e+00,   0.00000000e+00,\n",
        "            0.00000000e+00,   0.00000000e+00,   0.00000000e+00,\n",
        "            0.00000000e+00,   0.00000000e+00,   0.00000000e+00,\n",
        "            0.00000000e+00,   0.00000000e+00,   0.00000000e+00,\n",
        "            0.00000000e+00,   0.00000000e+00,   0.00000000e+00,\n",
        "            0.00000000e+00,   0.00000000e+00,   0.00000000e+00,\n",
        "            0.00000000e+00,   0.00000000e+00,   0.00000000e+00,\n",
        "            0.00000000e+00,   0.00000000e+00,  -8.80568256e-01,\n",
        "           -7.61136513e-01,   0.00000000e+00,   1.88056826e+00,\n",
        "           -1.88056826e+00,   1.64170477e+00],\n",
        "         [  0.00000000e+00,   0.00000000e+00,   0.00000000e+00,\n",
        "            0.00000000e+00,   0.00000000e+00,   0.00000000e+00,\n",
        "            0.00000000e+00,   0.00000000e+00,   0.00000000e+00,\n",
        "            0.00000000e+00,   0.00000000e+00,   0.00000000e+00,\n",
        "            0.00000000e+00,   0.00000000e+00,   0.00000000e+00,\n",
        "            0.00000000e+00,   0.00000000e+00,   0.00000000e+00,\n",
        "            0.00000000e+00,   0.00000000e+00,   0.00000000e+00,\n",
        "            0.00000000e+00,   0.00000000e+00,  -8.80568256e-01,\n",
        "            8.80568256e-01,   0.00000000e+00,   2.38863487e-01,\n",
        "           -2.38863487e-01,  -4.36972564e-16],\n",
        "         [  0.00000000e+00,   0.00000000e+00,   0.00000000e+00,\n",
        "            0.00000000e+00,   0.00000000e+00,   0.00000000e+00,\n",
        "            0.00000000e+00,   0.00000000e+00,   0.00000000e+00,\n",
        "            0.00000000e+00,   0.00000000e+00,   0.00000000e+00,\n",
        "            0.00000000e+00,   0.00000000e+00,   0.00000000e+00,\n",
        "            0.00000000e+00,   0.00000000e+00,   0.00000000e+00,\n",
        "            0.00000000e+00,   0.00000000e+00,   0.00000000e+00,\n",
        "            0.00000000e+00,   0.00000000e+00,   7.61136513e-01,\n",
        "            8.80568256e-01,   0.00000000e+00,   1.88056826e+00,\n",
        "           -1.88056826e+00,  -1.64170477e+00]]), 'FE0_C4_D10': array([[  0.        ,   0.        ,   0.        ,   0.        ,\n",
        "            0.        ,   0.        ,   0.        ,   0.        ,\n",
        "            0.        ,   0.        ,   0.        ,   0.        ,\n",
        "            0.        ,   0.        ,   0.        ,   0.66666667,\n",
        "            0.33333333,  -2.        ,  -0.33333333,  -1.        ,\n",
        "            0.66666667,   2.66666667,   2.66666667,   0.        ,\n",
        "            0.        ,   0.        ,   0.        ,   0.        ,   0.        ],\n",
        "         [  0.        ,   0.        ,   0.        ,   0.        ,\n",
        "            0.        ,   0.        ,   0.        ,   0.        ,\n",
        "            0.        ,   0.        ,   0.        ,   0.        ,\n",
        "            0.        ,   0.        ,   0.        ,   4.37941588,\n",
        "           -0.59485397,   0.78456191,   0.59485397,  -3.78456191,\n",
        "            4.37941588,   6.37941588, -10.32795559,   0.        ,\n",
        "            0.        ,   0.        ,   0.        ,   0.        ,   0.        ],\n",
        "         [  0.        ,   0.        ,   0.        ,   0.        ,\n",
        "            0.        ,   0.        ,   0.        ,   0.        ,\n",
        "            0.        ,   0.        ,   0.        ,   0.        ,\n",
        "            0.        ,   0.        ,   0.        ,  -1.18970794,\n",
        "            2.18970794,  -2.        ,  -2.18970794,  -1.        ,\n",
        "           -1.18970794,   6.37941588,   6.37941588,   0.        ,\n",
        "            0.        ,   0.        ,   0.        ,   0.        ,   0.        ],\n",
        "         [  0.        ,   0.        ,   0.        ,   0.        ,\n",
        "            0.        ,   0.        ,   0.        ,   0.        ,\n",
        "            0.        ,   0.        ,   0.        ,   0.        ,\n",
        "            0.        ,   0.        ,   0.        ,  -1.18970794,\n",
        "           -0.59485397,  -4.78456191,   0.59485397,   1.78456191,\n",
        "           -1.18970794,  -4.75883177,  11.94853971,   0.        ,\n",
        "            0.        ,   0.        ,   0.        ,   0.        ,   0.        ],\n",
        "         [  0.        ,   0.        ,   0.        ,   0.        ,\n",
        "            0.        ,   0.        ,   0.        ,   0.        ,\n",
        "            0.        ,   0.        ,   0.        ,   0.        ,\n",
        "            0.        ,   0.        ,   0.        ,  -1.52227303,\n",
        "            0.88056826,  -3.64170477,  -0.88056826,   0.64170477,\n",
        "           -1.52227303,   0.47772697,  10.32795559,   0.        ,\n",
        "            0.        ,   0.        ,   0.        ,   0.        ,   0.        ],\n",
        "         [  0.        ,   0.        ,   0.        ,   0.        ,\n",
        "            0.        ,   0.        ,   0.        ,   0.        ,\n",
        "            0.        ,   0.        ,   0.        ,   0.        ,\n",
        "            0.        ,   0.        ,   0.        ,   1.76113651,\n",
        "           -0.76113651,  -2.        ,   0.76113651,  -1.        ,\n",
        "            1.76113651,   0.47772697,   0.47772697,   0.        ,\n",
        "            0.        ,   0.        ,   0.        ,   0.        ,   0.        ],\n",
        "         [  0.        ,   0.        ,   0.        ,   0.        ,\n",
        "            0.        ,   0.        ,   0.        ,   0.        ,\n",
        "            0.        ,   0.        ,   0.        ,   0.        ,\n",
        "            0.        ,   0.        ,   0.        ,   1.76113651,\n",
        "            0.88056826,  -0.35829523,  -0.88056826,  -2.64170477,\n",
        "            1.76113651,   7.04454605,  -2.80568256,   0.        ,\n",
        "            0.        ,   0.        ,   0.        ,   0.        ,   0.        ]]), 'FE0_C1_D01': array([[  0.00000000e+00,   0.00000000e+00,   0.00000000e+00,\n",
        "            0.00000000e+00,   0.00000000e+00,   0.00000000e+00,\n",
        "           -3.33333333e-01,   8.32667268e-17,   3.33333333e-01,\n",
        "            1.33333333e+00,  -1.66533454e-16,  -1.33333333e+00,\n",
        "            0.00000000e+00,   0.00000000e+00,   0.00000000e+00,\n",
        "            0.00000000e+00,   0.00000000e+00,   0.00000000e+00,\n",
        "            0.00000000e+00,   0.00000000e+00,   0.00000000e+00,\n",
        "            0.00000000e+00,   0.00000000e+00,   0.00000000e+00,\n",
        "            0.00000000e+00,   0.00000000e+00,   0.00000000e+00,\n",
        "            0.00000000e+00,   0.00000000e+00],\n",
        "         [  0.00000000e+00,   0.00000000e+00,   0.00000000e+00,\n",
        "            0.00000000e+00,   0.00000000e+00,   0.00000000e+00,\n",
        "            5.94853971e-01,   2.22044605e-16,  -5.94853971e-01,\n",
        "            3.18970794e+00,   4.44089210e-16,  -3.18970794e+00,\n",
        "            0.00000000e+00,   0.00000000e+00,   0.00000000e+00,\n",
        "            0.00000000e+00,   0.00000000e+00,   0.00000000e+00,\n",
        "            0.00000000e+00,   0.00000000e+00,   0.00000000e+00,\n",
        "            0.00000000e+00,   0.00000000e+00,   0.00000000e+00,\n",
        "            0.00000000e+00,   0.00000000e+00,   0.00000000e+00,\n",
        "            0.00000000e+00,   0.00000000e+00],\n",
        "         [  0.00000000e+00,   0.00000000e+00,   0.00000000e+00,\n",
        "            0.00000000e+00,   0.00000000e+00,   0.00000000e+00,\n",
        "            5.94853971e-01,  -2.22044605e-16,   2.18970794e+00,\n",
        "            4.05146029e-01,  -2.78456191e+00,  -4.05146029e-01,\n",
        "            0.00000000e+00,   0.00000000e+00,   0.00000000e+00,\n",
        "            0.00000000e+00,   0.00000000e+00,   0.00000000e+00,\n",
        "            0.00000000e+00,   0.00000000e+00,   0.00000000e+00,\n",
        "            0.00000000e+00,   0.00000000e+00,   0.00000000e+00,\n",
        "            0.00000000e+00,   0.00000000e+00,   0.00000000e+00,\n",
        "            0.00000000e+00,   0.00000000e+00],\n",
        "         [  0.00000000e+00,   0.00000000e+00,   0.00000000e+00,\n",
        "            0.00000000e+00,   0.00000000e+00,   0.00000000e+00,\n",
        "           -2.18970794e+00,   5.55111512e-17,  -5.94853971e-01,\n",
        "            4.05146029e-01,   2.78456191e+00,  -4.05146029e-01,\n",
        "            0.00000000e+00,   0.00000000e+00,   0.00000000e+00,\n",
        "            0.00000000e+00,   0.00000000e+00,   0.00000000e+00,\n",
        "            0.00000000e+00,   0.00000000e+00,   0.00000000e+00,\n",
        "            0.00000000e+00,   0.00000000e+00,   0.00000000e+00,\n",
        "            0.00000000e+00,   0.00000000e+00,   0.00000000e+00,\n",
        "            0.00000000e+00,   0.00000000e+00],\n",
        "         [  0.00000000e+00,   0.00000000e+00,   0.00000000e+00,\n",
        "            0.00000000e+00,   0.00000000e+00,   0.00000000e+00,\n",
        "           -8.80568256e-01,   1.52655666e-16,   8.80568256e-01,\n",
        "            2.38863487e-01,   3.33066907e-16,  -2.38863487e-01,\n",
        "            0.00000000e+00,   0.00000000e+00,   0.00000000e+00,\n",
        "            0.00000000e+00,   0.00000000e+00,   0.00000000e+00,\n",
        "            0.00000000e+00,   0.00000000e+00,   0.00000000e+00,\n",
        "            0.00000000e+00,   0.00000000e+00,   0.00000000e+00,\n",
        "            0.00000000e+00,   0.00000000e+00,   0.00000000e+00,\n",
        "            0.00000000e+00,   0.00000000e+00],\n",
        "         [  0.00000000e+00,   0.00000000e+00,   0.00000000e+00,\n",
        "            0.00000000e+00,   0.00000000e+00,   0.00000000e+00,\n",
        "           -8.80568256e-01,  -2.77555756e-16,  -7.61136513e-01,\n",
        "            1.88056826e+00,   1.64170477e+00,  -1.88056826e+00,\n",
        "            0.00000000e+00,   0.00000000e+00,   0.00000000e+00,\n",
        "            0.00000000e+00,   0.00000000e+00,   0.00000000e+00,\n",
        "            0.00000000e+00,   0.00000000e+00,   0.00000000e+00,\n",
        "            0.00000000e+00,   0.00000000e+00,   0.00000000e+00,\n",
        "            0.00000000e+00,   0.00000000e+00,   0.00000000e+00,\n",
        "            0.00000000e+00,   0.00000000e+00],\n",
        "         [  0.00000000e+00,   0.00000000e+00,   0.00000000e+00,\n",
        "            0.00000000e+00,   0.00000000e+00,   0.00000000e+00,\n",
        "            7.61136513e-01,   9.71445147e-17,   8.80568256e-01,\n",
        "            1.88056826e+00,  -1.64170477e+00,  -1.88056826e+00,\n",
        "            0.00000000e+00,   0.00000000e+00,   0.00000000e+00,\n",
        "            0.00000000e+00,   0.00000000e+00,   0.00000000e+00,\n",
        "            0.00000000e+00,   0.00000000e+00,   0.00000000e+00,\n",
        "            0.00000000e+00,   0.00000000e+00,   0.00000000e+00,\n",
        "            0.00000000e+00,   0.00000000e+00,   0.00000000e+00,\n",
        "            0.00000000e+00,   0.00000000e+00]]), 'FE0_C3_D01': array([[  0.        ,   0.        ,   0.        ,   0.        ,\n",
        "            0.        ,   0.        ,   0.        ,   0.        ,\n",
        "            0.        ,   0.        ,   0.        ,   0.        ,\n",
        "            0.        ,   0.        ,   0.        ,  -0.33333333,\n",
        "           -0.66666667,  -1.        ,   0.66666667,  -2.        ,\n",
        "           -0.33333333,   2.66666667,   2.66666667,   0.        ,\n",
        "            0.        ,   0.        ,   0.        ,   0.        ,   0.        ],\n",
        "         [  0.        ,   0.        ,   0.        ,   0.        ,\n",
        "            0.        ,   0.        ,   0.        ,   0.        ,\n",
        "            0.        ,   0.        ,   0.        ,   0.        ,\n",
        "            0.        ,   0.        ,   0.        ,  -2.18970794,\n",
        "            1.18970794,  -1.        ,  -1.18970794,  -2.        ,\n",
        "           -2.18970794,   6.37941588,   6.37941588,   0.        ,\n",
        "            0.        ,   0.        ,   0.        ,   0.        ,   0.        ],\n",
        "         [  0.        ,   0.        ,   0.        ,   0.        ,\n",
        "            0.        ,   0.        ,   0.        ,   0.        ,\n",
        "            0.        ,   0.        ,   0.        ,   0.        ,\n",
        "            0.        ,   0.        ,   0.        ,   0.59485397,\n",
        "           -4.37941588,  -3.78456191,   4.37941588,   0.78456191,\n",
        "            0.59485397, -10.32795559,   6.37941588,   0.        ,\n",
        "            0.        ,   0.        ,   0.        ,   0.        ,   0.        ],\n",
        "         [  0.        ,   0.        ,   0.        ,   0.        ,\n",
        "            0.        ,   0.        ,   0.        ,   0.        ,\n",
        "            0.        ,   0.        ,   0.        ,   0.        ,\n",
        "            0.        ,   0.        ,   0.        ,   0.59485397,\n",
        "            1.18970794,   1.78456191,  -1.18970794,  -4.78456191,\n",
        "            0.59485397,  11.94853971,  -4.75883177,   0.        ,\n",
        "            0.        ,   0.        ,   0.        ,   0.        ,   0.        ],\n",
        "         [  0.        ,   0.        ,   0.        ,   0.        ,\n",
        "            0.        ,   0.        ,   0.        ,   0.        ,\n",
        "            0.        ,   0.        ,   0.        ,   0.        ,\n",
        "            0.        ,   0.        ,   0.        ,   0.76113651,\n",
        "           -1.76113651,  -1.        ,   1.76113651,  -2.        ,\n",
        "            0.76113651,   0.47772697,   0.47772697,   0.        ,\n",
        "            0.        ,   0.        ,   0.        ,   0.        ,   0.        ],\n",
        "         [  0.        ,   0.        ,   0.        ,   0.        ,\n",
        "            0.        ,   0.        ,   0.        ,   0.        ,\n",
        "            0.        ,   0.        ,   0.        ,   0.        ,\n",
        "            0.        ,   0.        ,   0.        ,  -0.88056826,\n",
        "            1.52227303,   0.64170477,  -1.52227303,  -3.64170477,\n",
        "           -0.88056826,  10.32795559,   0.47772697,   0.        ,\n",
        "            0.        ,   0.        ,   0.        ,   0.        ,   0.        ],\n",
        "         [  0.        ,   0.        ,   0.        ,   0.        ,\n",
        "            0.        ,   0.        ,   0.        ,   0.        ,\n",
        "            0.        ,   0.        ,   0.        ,   0.        ,\n",
        "            0.        ,   0.        ,   0.        ,  -0.88056826,\n",
        "           -1.76113651,  -2.64170477,   1.76113651,  -0.35829523,\n",
        "           -0.88056826,  -2.80568256,   7.04454605,   0.        ,\n",
        "            0.        ,   0.        ,   0.        ,   0.        ,   0.        ]]), 'FE0_C3_D10': array([[  0.00000000e+00,   0.00000000e+00,   0.00000000e+00,\n",
        "            0.00000000e+00,   0.00000000e+00,   0.00000000e+00,\n",
        "            0.00000000e+00,   0.00000000e+00,   0.00000000e+00,\n",
        "            0.00000000e+00,   0.00000000e+00,   0.00000000e+00,\n",
        "            0.00000000e+00,   0.00000000e+00,   0.00000000e+00,\n",
        "           -1.33333333e+00,  -1.44815967e-16,  -1.33333333e+00,\n",
        "            7.13859989e-17,  -1.66666667e+00,   1.66666667e+00,\n",
        "           -2.66666667e+00,   5.33333333e+00,   0.00000000e+00,\n",
        "            0.00000000e+00,   0.00000000e+00,   0.00000000e+00,\n",
        "            0.00000000e+00,   0.00000000e+00],\n",
        "         [  0.00000000e+00,   0.00000000e+00,   0.00000000e+00,\n",
        "            0.00000000e+00,   0.00000000e+00,   0.00000000e+00,\n",
        "            0.00000000e+00,   0.00000000e+00,   0.00000000e+00,\n",
        "            0.00000000e+00,   0.00000000e+00,   0.00000000e+00,\n",
        "            0.00000000e+00,   0.00000000e+00,   0.00000000e+00,\n",
        "           -4.05146029e-01,   2.36650974e-16,  -4.05146029e-01,\n",
        "           -1.30623163e-15,  -2.59485397e+00,   2.59485397e+00,\n",
        "           -8.10292059e-01,   1.62058412e+00,   0.00000000e+00,\n",
        "            0.00000000e+00,   0.00000000e+00,   0.00000000e+00,\n",
        "            0.00000000e+00,   0.00000000e+00],\n",
        "         [  0.00000000e+00,   0.00000000e+00,   0.00000000e+00,\n",
        "            0.00000000e+00,   0.00000000e+00,   0.00000000e+00,\n",
        "            0.00000000e+00,   0.00000000e+00,   0.00000000e+00,\n",
        "            0.00000000e+00,   0.00000000e+00,   0.00000000e+00,\n",
        "            0.00000000e+00,   0.00000000e+00,   0.00000000e+00,\n",
        "           -3.18970794e+00,  -1.10119527e-15,  -3.18970794e+00,\n",
        "            8.91139685e-16,   1.89707941e-01,  -1.89707941e-01,\n",
        "           -6.37941588e+00,   1.27588318e+01,   0.00000000e+00,\n",
        "            0.00000000e+00,   0.00000000e+00,   0.00000000e+00,\n",
        "            0.00000000e+00,   0.00000000e+00],\n",
        "         [  0.00000000e+00,   0.00000000e+00,   0.00000000e+00,\n",
        "            0.00000000e+00,   0.00000000e+00,   0.00000000e+00,\n",
        "            0.00000000e+00,   0.00000000e+00,   0.00000000e+00,\n",
        "            0.00000000e+00,   0.00000000e+00,   0.00000000e+00,\n",
        "            0.00000000e+00,   0.00000000e+00,   0.00000000e+00,\n",
        "           -4.05146029e-01,   4.30096392e-16,  -4.05146029e-01,\n",
        "            6.29249945e-16,  -2.59485397e+00,   2.59485397e+00,\n",
        "           -8.10292059e-01,   1.62058412e+00,   0.00000000e+00,\n",
        "            0.00000000e+00,   0.00000000e+00,   0.00000000e+00,\n",
        "            0.00000000e+00,   0.00000000e+00],\n",
        "         [  0.00000000e+00,   0.00000000e+00,   0.00000000e+00,\n",
        "            0.00000000e+00,   0.00000000e+00,   0.00000000e+00,\n",
        "            0.00000000e+00,   0.00000000e+00,   0.00000000e+00,\n",
        "            0.00000000e+00,   0.00000000e+00,   0.00000000e+00,\n",
        "            0.00000000e+00,   0.00000000e+00,   0.00000000e+00,\n",
        "           -1.88056826e+00,  -3.69718884e-16,  -1.88056826e+00,\n",
        "            8.83593272e-16,  -1.11943174e+00,   1.11943174e+00,\n",
        "           -3.76113651e+00,   7.52227303e+00,   0.00000000e+00,\n",
        "            0.00000000e+00,   0.00000000e+00,   0.00000000e+00,\n",
        "            0.00000000e+00,   0.00000000e+00],\n",
        "         [  0.00000000e+00,   0.00000000e+00,   0.00000000e+00,\n",
        "            0.00000000e+00,   0.00000000e+00,   0.00000000e+00,\n",
        "            0.00000000e+00,   0.00000000e+00,   0.00000000e+00,\n",
        "            0.00000000e+00,   0.00000000e+00,   0.00000000e+00,\n",
        "            0.00000000e+00,   0.00000000e+00,   0.00000000e+00,\n",
        "           -2.38863487e-01,   4.19040218e-16,  -2.38863487e-01,\n",
        "           -4.11919303e-16,  -2.76113651e+00,   2.76113651e+00,\n",
        "           -4.77726974e-01,   9.55453949e-01,   0.00000000e+00,\n",
        "            0.00000000e+00,   0.00000000e+00,   0.00000000e+00,\n",
        "            0.00000000e+00,   0.00000000e+00],\n",
        "         [  0.00000000e+00,   0.00000000e+00,   0.00000000e+00,\n",
        "            0.00000000e+00,   0.00000000e+00,   0.00000000e+00,\n",
        "            0.00000000e+00,   0.00000000e+00,   0.00000000e+00,\n",
        "            0.00000000e+00,   0.00000000e+00,   0.00000000e+00,\n",
        "            0.00000000e+00,   0.00000000e+00,   0.00000000e+00,\n",
        "           -1.88056826e+00,  -4.83769236e-16,  -1.88056826e+00,\n",
        "           -2.57515972e-16,  -1.11943174e+00,   1.11943174e+00,\n",
        "           -3.76113651e+00,   7.52227303e+00,   0.00000000e+00,\n",
        "            0.00000000e+00,   0.00000000e+00,   0.00000000e+00,\n",
        "            0.00000000e+00,   0.00000000e+00]]), 'FE0_C5_D01': array([[  0.00000000e+00,   0.00000000e+00,   0.00000000e+00,\n",
        "            0.00000000e+00,   0.00000000e+00,   0.00000000e+00,\n",
        "            0.00000000e+00,   0.00000000e+00,   0.00000000e+00,\n",
        "            0.00000000e+00,   0.00000000e+00,   0.00000000e+00,\n",
        "            0.00000000e+00,   0.00000000e+00,   0.00000000e+00,\n",
        "            0.00000000e+00,   0.00000000e+00,   0.00000000e+00,\n",
        "            0.00000000e+00,   0.00000000e+00,   0.00000000e+00,\n",
        "            0.00000000e+00,   0.00000000e+00,  -3.33333333e-01,\n",
        "            8.32667268e-17,   3.33333333e-01,   1.33333333e+00,\n",
        "           -1.66533454e-16,  -1.33333333e+00],\n",
        "         [  0.00000000e+00,   0.00000000e+00,   0.00000000e+00,\n",
        "            0.00000000e+00,   0.00000000e+00,   0.00000000e+00,\n",
        "            0.00000000e+00,   0.00000000e+00,   0.00000000e+00,\n",
        "            0.00000000e+00,   0.00000000e+00,   0.00000000e+00,\n",
        "            0.00000000e+00,   0.00000000e+00,   0.00000000e+00,\n",
        "            0.00000000e+00,   0.00000000e+00,   0.00000000e+00,\n",
        "            0.00000000e+00,   0.00000000e+00,   0.00000000e+00,\n",
        "            0.00000000e+00,   0.00000000e+00,   5.94853971e-01,\n",
        "            2.22044605e-16,  -5.94853971e-01,   3.18970794e+00,\n",
        "            4.44089210e-16,  -3.18970794e+00],\n",
        "         [  0.00000000e+00,   0.00000000e+00,   0.00000000e+00,\n",
        "            0.00000000e+00,   0.00000000e+00,   0.00000000e+00,\n",
        "            0.00000000e+00,   0.00000000e+00,   0.00000000e+00,\n",
        "            0.00000000e+00,   0.00000000e+00,   0.00000000e+00,\n",
        "            0.00000000e+00,   0.00000000e+00,   0.00000000e+00,\n",
        "            0.00000000e+00,   0.00000000e+00,   0.00000000e+00,\n",
        "            0.00000000e+00,   0.00000000e+00,   0.00000000e+00,\n",
        "            0.00000000e+00,   0.00000000e+00,   5.94853971e-01,\n",
        "           -2.22044605e-16,   2.18970794e+00,   4.05146029e-01,\n",
        "           -2.78456191e+00,  -4.05146029e-01],\n",
        "         [  0.00000000e+00,   0.00000000e+00,   0.00000000e+00,\n",
        "            0.00000000e+00,   0.00000000e+00,   0.00000000e+00,\n",
        "            0.00000000e+00,   0.00000000e+00,   0.00000000e+00,\n",
        "            0.00000000e+00,   0.00000000e+00,   0.00000000e+00,\n",
        "            0.00000000e+00,   0.00000000e+00,   0.00000000e+00,\n",
        "            0.00000000e+00,   0.00000000e+00,   0.00000000e+00,\n",
        "            0.00000000e+00,   0.00000000e+00,   0.00000000e+00,\n",
        "            0.00000000e+00,   0.00000000e+00,  -2.18970794e+00,\n",
        "            5.55111512e-17,  -5.94853971e-01,   4.05146029e-01,\n",
        "            2.78456191e+00,  -4.05146029e-01],\n",
        "         [  0.00000000e+00,   0.00000000e+00,   0.00000000e+00,\n",
        "            0.00000000e+00,   0.00000000e+00,   0.00000000e+00,\n",
        "            0.00000000e+00,   0.00000000e+00,   0.00000000e+00,\n",
        "            0.00000000e+00,   0.00000000e+00,   0.00000000e+00,\n",
        "            0.00000000e+00,   0.00000000e+00,   0.00000000e+00,\n",
        "            0.00000000e+00,   0.00000000e+00,   0.00000000e+00,\n",
        "            0.00000000e+00,   0.00000000e+00,   0.00000000e+00,\n",
        "            0.00000000e+00,   0.00000000e+00,  -8.80568256e-01,\n",
        "            1.52655666e-16,   8.80568256e-01,   2.38863487e-01,\n",
        "            3.33066907e-16,  -2.38863487e-01],\n",
        "         [  0.00000000e+00,   0.00000000e+00,   0.00000000e+00,\n",
        "            0.00000000e+00,   0.00000000e+00,   0.00000000e+00,\n",
        "            0.00000000e+00,   0.00000000e+00,   0.00000000e+00,\n",
        "            0.00000000e+00,   0.00000000e+00,   0.00000000e+00,\n",
        "            0.00000000e+00,   0.00000000e+00,   0.00000000e+00,\n",
        "            0.00000000e+00,   0.00000000e+00,   0.00000000e+00,\n",
        "            0.00000000e+00,   0.00000000e+00,   0.00000000e+00,\n",
        "            0.00000000e+00,   0.00000000e+00,  -8.80568256e-01,\n",
        "           -2.77555756e-16,  -7.61136513e-01,   1.88056826e+00,\n",
        "            1.64170477e+00,  -1.88056826e+00],\n",
        "         [  0.00000000e+00,   0.00000000e+00,   0.00000000e+00,\n",
        "            0.00000000e+00,   0.00000000e+00,   0.00000000e+00,\n",
        "            0.00000000e+00,   0.00000000e+00,   0.00000000e+00,\n",
        "            0.00000000e+00,   0.00000000e+00,   0.00000000e+00,\n",
        "            0.00000000e+00,   0.00000000e+00,   0.00000000e+00,\n",
        "            0.00000000e+00,   0.00000000e+00,   0.00000000e+00,\n",
        "            0.00000000e+00,   0.00000000e+00,   0.00000000e+00,\n",
        "            0.00000000e+00,   0.00000000e+00,   7.61136513e-01,\n",
        "            9.71445147e-17,   8.80568256e-01,   1.88056826e+00,\n",
        "           -1.64170477e+00,  -1.88056826e+00]]), 'FE1_C0': array([[-0.11111111111111123, 0.22222222222222249, 0.11111111111111104,\n",
        "          -0.2222222222222221, -0.11111111111111102, -0.11111111111111138,\n",
        "          2.6666666666666701, -2.5128435383744485e-16],\n",
        "         [-0.22178786944409243, 0.16153718838377457, -0.060250681060317966,\n",
        "          -0.16153718838377451, -0.63588979696931225, 1.170493086615169,\n",
        "          0.81029205858765296, 0.56407710100882191],\n",
        "         [0.47435260858553874, -0.9487052171710767, -0.47435260858553829,\n",
        "          0.94870521717107692, -0.22178786944409268, -0.22178786944409223,\n",
        "          1.938446260605297, -7.5519855650537044e-16],\n",
        "         [0.060250681060318188, 0.16153718838377434, 0.22178786944409265,\n",
        "          -0.16153718838377429, 1.1704930866151693, -0.63588979696931291,\n",
        "          1.3743691595964724, -0.56407710100882158],\n",
        "         [0.35784229121279992, 0.056149886446157982, 0.41399217765895785,\n",
        "          -0.056149886446157593, -0.0035659853436125072,\n",
        "          -0.46301009341789062, 3.7611365128409258, -1.543668937743518],\n",
        "         [-0.052583901102545391, 0.10516780220509073, 0.052583901102545252,\n",
        "          -0.10516780220509062, 0.35784229121280015, 0.35784229121279987,\n",
        "          0.67379863735389178, 2.2983420480300907e-16],\n",
        "         [-0.41399217765895763, 0.056149886446157787, -0.35784229121280003,\n",
        "          -0.056149886446157454, -0.46301009341789012,\n",
        "          -0.0035659853436126321, 2.2174675750974089, 1.5436689377435162]], dtype=object), 'FE1_C1': array([[-0.22222222222222221, 0.11111111111111108, -0.11111111111111124,\n",
        "          -0.11111111111111094, 0.11111111111111141, -0.22222222222222243,\n",
        "          -2.2204460492503131e-16, 2.6666666666666692],\n",
        "         [0.94870521717107681, -0.47435260858553807, -0.22178786944409196,\n",
        "          -0.22178786944409284, -0.47435260858553802, 0.94870521717107659,\n",
        "          1.8318679906315083e-15, 1.9384462606052946],\n",
        "         [-0.16153718838377432, 0.22178786944409243, -0.63588979696931258,\n",
        "          1.1704930866151693, -0.060250681060318154, -0.16153718838377398,\n",
        "          0.5640771010088218, 0.81029205858765119],\n",
        "         [-0.16153718838377373, -0.060250681060318362, 1.1704930866151697,\n",
        "          -0.6358897969693128, 0.22178786944409234, -0.16153718838377398,\n",
        "          -0.56407710100882191, 1.3743691595964704],\n",
        "         [-0.10516780220509069, 0.05258390110254535, 0.35784229121279987,\n",
        "          0.35784229121279987, 0.052583901102545488, -0.1051678022050907,\n",
        "          -2.2204460492503131e-16, 0.67379863735389156],\n",
        "         [-0.056149886446156858, -0.35784229121280015,\n",
        "          -0.0035659853436116121, -0.46301009341789068, 0.41399217765895746,\n",
        "          -0.056149886446157302, -1.5436689377435158, 3.7611365128409227],\n",
        "         [-0.05614988644615794, 0.41399217765895752, -0.46301009341789084,\n",
        "          -0.0035659853436119104, -0.35784229121279937,\n",
        "          -0.056149886446157982, 1.543668937743516, 2.2174675750974089]], dtype=object), 'FE0_C2_D10': array([[ 0.,  0.,  0.,  0.,  0.,  0.,  0.,  0.,  0.,  0.,  0.,  0., -1.,\n",
        "           1.,  0.,  0.,  0.,  0.,  0.,  0.,  0.,  0.,  0.,  0.,  0.,  0.,\n",
        "           0.,  0.,  0.],\n",
        "         [ 0.,  0.,  0.,  0.,  0.,  0.,  0.,  0.,  0.,  0.,  0.,  0., -1.,\n",
        "           1.,  0.,  0.,  0.,  0.,  0.,  0.,  0.,  0.,  0.,  0.,  0.,  0.,\n",
        "           0.,  0.,  0.],\n",
        "         [ 0.,  0.,  0.,  0.,  0.,  0.,  0.,  0.,  0.,  0.,  0.,  0., -1.,\n",
        "           1.,  0.,  0.,  0.,  0.,  0.,  0.,  0.,  0.,  0.,  0.,  0.,  0.,\n",
        "           0.,  0.,  0.],\n",
        "         [ 0.,  0.,  0.,  0.,  0.,  0.,  0.,  0.,  0.,  0.,  0.,  0., -1.,\n",
        "           1.,  0.,  0.,  0.,  0.,  0.,  0.,  0.,  0.,  0.,  0.,  0.,  0.,\n",
        "           0.,  0.,  0.],\n",
        "         [ 0.,  0.,  0.,  0.,  0.,  0.,  0.,  0.,  0.,  0.,  0.,  0., -1.,\n",
        "           1.,  0.,  0.,  0.,  0.,  0.,  0.,  0.,  0.,  0.,  0.,  0.,  0.,\n",
        "           0.,  0.,  0.],\n",
        "         [ 0.,  0.,  0.,  0.,  0.,  0.,  0.,  0.,  0.,  0.,  0.,  0., -1.,\n",
        "           1.,  0.,  0.,  0.,  0.,  0.,  0.,  0.,  0.,  0.,  0.,  0.,  0.,\n",
        "           0.,  0.,  0.],\n",
        "         [ 0.,  0.,  0.,  0.,  0.,  0.,  0.,  0.,  0.,  0.,  0.,  0., -1.,\n",
        "           1.,  0.,  0.,  0.,  0.,  0.,  0.,  0.,  0.,  0.,  0.,  0.,  0.,\n",
        "           0.,  0.,  0.]]), 'FE0_C1_D10': array([[  0.00000000e+00,   0.00000000e+00,   0.00000000e+00,\n",
        "            0.00000000e+00,   0.00000000e+00,   0.00000000e+00,\n",
        "           -3.33333333e-01,   3.33333333e-01,   0.00000000e+00,\n",
        "            1.33333333e+00,  -1.33333333e+00,  -2.15331488e-16,\n",
        "            0.00000000e+00,   0.00000000e+00,   0.00000000e+00,\n",
        "            0.00000000e+00,   0.00000000e+00,   0.00000000e+00,\n",
        "            0.00000000e+00,   0.00000000e+00,   0.00000000e+00,\n",
        "            0.00000000e+00,   0.00000000e+00,   0.00000000e+00,\n",
        "            0.00000000e+00,   0.00000000e+00,   0.00000000e+00,\n",
        "            0.00000000e+00,   0.00000000e+00],\n",
        "         [  0.00000000e+00,   0.00000000e+00,   0.00000000e+00,\n",
        "            0.00000000e+00,   0.00000000e+00,   0.00000000e+00,\n",
        "            5.94853971e-01,   2.18970794e+00,   0.00000000e+00,\n",
        "            4.05146029e-01,  -4.05146029e-01,  -2.78456191e+00,\n",
        "            0.00000000e+00,   0.00000000e+00,   0.00000000e+00,\n",
        "            0.00000000e+00,   0.00000000e+00,   0.00000000e+00,\n",
        "            0.00000000e+00,   0.00000000e+00,   0.00000000e+00,\n",
        "            0.00000000e+00,   0.00000000e+00,   0.00000000e+00,\n",
        "            0.00000000e+00,   0.00000000e+00,   0.00000000e+00,\n",
        "            0.00000000e+00,   0.00000000e+00],\n",
        "         [  0.00000000e+00,   0.00000000e+00,   0.00000000e+00,\n",
        "            0.00000000e+00,   0.00000000e+00,   0.00000000e+00,\n",
        "            5.94853971e-01,  -5.94853971e-01,   0.00000000e+00,\n",
        "            3.18970794e+00,  -3.18970794e+00,  -4.37374128e-16,\n",
        "            0.00000000e+00,   0.00000000e+00,   0.00000000e+00,\n",
        "            0.00000000e+00,   0.00000000e+00,   0.00000000e+00,\n",
        "            0.00000000e+00,   0.00000000e+00,   0.00000000e+00,\n",
        "            0.00000000e+00,   0.00000000e+00,   0.00000000e+00,\n",
        "            0.00000000e+00,   0.00000000e+00,   0.00000000e+00,\n",
        "            0.00000000e+00,   0.00000000e+00],\n",
        "         [  0.00000000e+00,   0.00000000e+00,   0.00000000e+00,\n",
        "            0.00000000e+00,   0.00000000e+00,   0.00000000e+00,\n",
        "           -2.18970794e+00,  -5.94853971e-01,   0.00000000e+00,\n",
        "            4.05146029e-01,  -4.05146029e-01,   2.78456191e+00,\n",
        "            0.00000000e+00,   0.00000000e+00,   0.00000000e+00,\n",
        "            0.00000000e+00,   0.00000000e+00,   0.00000000e+00,\n",
        "            0.00000000e+00,   0.00000000e+00,   0.00000000e+00,\n",
        "            0.00000000e+00,   0.00000000e+00,   0.00000000e+00,\n",
        "            0.00000000e+00,   0.00000000e+00,   0.00000000e+00,\n",
        "            0.00000000e+00,   0.00000000e+00],\n",
        "         [  0.00000000e+00,   0.00000000e+00,   0.00000000e+00,\n",
        "            0.00000000e+00,   0.00000000e+00,   0.00000000e+00,\n",
        "           -8.80568256e-01,  -7.61136513e-01,   0.00000000e+00,\n",
        "            1.88056826e+00,  -1.88056826e+00,   1.64170477e+00,\n",
        "            0.00000000e+00,   0.00000000e+00,   0.00000000e+00,\n",
        "            0.00000000e+00,   0.00000000e+00,   0.00000000e+00,\n",
        "            0.00000000e+00,   0.00000000e+00,   0.00000000e+00,\n",
        "            0.00000000e+00,   0.00000000e+00,   0.00000000e+00,\n",
        "            0.00000000e+00,   0.00000000e+00,   0.00000000e+00,\n",
        "            0.00000000e+00,   0.00000000e+00],\n",
        "         [  0.00000000e+00,   0.00000000e+00,   0.00000000e+00,\n",
        "            0.00000000e+00,   0.00000000e+00,   0.00000000e+00,\n",
        "           -8.80568256e-01,   8.80568256e-01,   0.00000000e+00,\n",
        "            2.38863487e-01,  -2.38863487e-01,  -4.36972564e-16,\n",
        "            0.00000000e+00,   0.00000000e+00,   0.00000000e+00,\n",
        "            0.00000000e+00,   0.00000000e+00,   0.00000000e+00,\n",
        "            0.00000000e+00,   0.00000000e+00,   0.00000000e+00,\n",
        "            0.00000000e+00,   0.00000000e+00,   0.00000000e+00,\n",
        "            0.00000000e+00,   0.00000000e+00,   0.00000000e+00,\n",
        "            0.00000000e+00,   0.00000000e+00],\n",
        "         [  0.00000000e+00,   0.00000000e+00,   0.00000000e+00,\n",
        "            0.00000000e+00,   0.00000000e+00,   0.00000000e+00,\n",
        "            7.61136513e-01,   8.80568256e-01,   0.00000000e+00,\n",
        "            1.88056826e+00,  -1.88056826e+00,  -1.64170477e+00,\n",
        "            0.00000000e+00,   0.00000000e+00,   0.00000000e+00,\n",
        "            0.00000000e+00,   0.00000000e+00,   0.00000000e+00,\n",
        "            0.00000000e+00,   0.00000000e+00,   0.00000000e+00,\n",
        "            0.00000000e+00,   0.00000000e+00,   0.00000000e+00,\n",
        "            0.00000000e+00,   0.00000000e+00,   0.00000000e+00,\n",
        "            0.00000000e+00,   0.00000000e+00]]), 'FE0_C0_D10': array([[ -3.33333333e-01,   3.33333333e-01,   0.00000000e+00,\n",
        "            1.33333333e+00,  -1.33333333e+00,  -2.15331488e-16,\n",
        "            0.00000000e+00,   0.00000000e+00,   0.00000000e+00,\n",
        "            0.00000000e+00,   0.00000000e+00,   0.00000000e+00,\n",
        "            0.00000000e+00,   0.00000000e+00,   0.00000000e+00,\n",
        "            0.00000000e+00,   0.00000000e+00,   0.00000000e+00,\n",
        "            0.00000000e+00,   0.00000000e+00,   0.00000000e+00,\n",
        "            0.00000000e+00,   0.00000000e+00,   0.00000000e+00,\n",
        "            0.00000000e+00,   0.00000000e+00,   0.00000000e+00,\n",
        "            0.00000000e+00,   0.00000000e+00],\n",
        "         [  5.94853971e-01,   2.18970794e+00,   0.00000000e+00,\n",
        "            4.05146029e-01,  -4.05146029e-01,  -2.78456191e+00,\n",
        "            0.00000000e+00,   0.00000000e+00,   0.00000000e+00,\n",
        "            0.00000000e+00,   0.00000000e+00,   0.00000000e+00,\n",
        "            0.00000000e+00,   0.00000000e+00,   0.00000000e+00,\n",
        "            0.00000000e+00,   0.00000000e+00,   0.00000000e+00,\n",
        "            0.00000000e+00,   0.00000000e+00,   0.00000000e+00,\n",
        "            0.00000000e+00,   0.00000000e+00,   0.00000000e+00,\n",
        "            0.00000000e+00,   0.00000000e+00,   0.00000000e+00,\n",
        "            0.00000000e+00,   0.00000000e+00],\n",
        "         [  5.94853971e-01,  -5.94853971e-01,   0.00000000e+00,\n",
        "            3.18970794e+00,  -3.18970794e+00,  -4.37374128e-16,\n",
        "            0.00000000e+00,   0.00000000e+00,   0.00000000e+00,\n",
        "            0.00000000e+00,   0.00000000e+00,   0.00000000e+00,\n",
        "            0.00000000e+00,   0.00000000e+00,   0.00000000e+00,\n",
        "            0.00000000e+00,   0.00000000e+00,   0.00000000e+00,\n",
        "            0.00000000e+00,   0.00000000e+00,   0.00000000e+00,\n",
        "            0.00000000e+00,   0.00000000e+00,   0.00000000e+00,\n",
        "            0.00000000e+00,   0.00000000e+00,   0.00000000e+00,\n",
        "            0.00000000e+00,   0.00000000e+00],\n",
        "         [ -2.18970794e+00,  -5.94853971e-01,   0.00000000e+00,\n",
        "            4.05146029e-01,  -4.05146029e-01,   2.78456191e+00,\n",
        "            0.00000000e+00,   0.00000000e+00,   0.00000000e+00,\n",
        "            0.00000000e+00,   0.00000000e+00,   0.00000000e+00,\n",
        "            0.00000000e+00,   0.00000000e+00,   0.00000000e+00,\n",
        "            0.00000000e+00,   0.00000000e+00,   0.00000000e+00,\n",
        "            0.00000000e+00,   0.00000000e+00,   0.00000000e+00,\n",
        "            0.00000000e+00,   0.00000000e+00,   0.00000000e+00,\n",
        "            0.00000000e+00,   0.00000000e+00,   0.00000000e+00,\n",
        "            0.00000000e+00,   0.00000000e+00],\n",
        "         [ -8.80568256e-01,  -7.61136513e-01,   0.00000000e+00,\n",
        "            1.88056826e+00,  -1.88056826e+00,   1.64170477e+00,\n",
        "            0.00000000e+00,   0.00000000e+00,   0.00000000e+00,\n",
        "            0.00000000e+00,   0.00000000e+00,   0.00000000e+00,\n",
        "            0.00000000e+00,   0.00000000e+00,   0.00000000e+00,\n",
        "            0.00000000e+00,   0.00000000e+00,   0.00000000e+00,\n",
        "            0.00000000e+00,   0.00000000e+00,   0.00000000e+00,\n",
        "            0.00000000e+00,   0.00000000e+00,   0.00000000e+00,\n",
        "            0.00000000e+00,   0.00000000e+00,   0.00000000e+00,\n",
        "            0.00000000e+00,   0.00000000e+00],\n",
        "         [ -8.80568256e-01,   8.80568256e-01,   0.00000000e+00,\n",
        "            2.38863487e-01,  -2.38863487e-01,  -4.36972564e-16,\n",
        "            0.00000000e+00,   0.00000000e+00,   0.00000000e+00,\n",
        "            0.00000000e+00,   0.00000000e+00,   0.00000000e+00,\n",
        "            0.00000000e+00,   0.00000000e+00,   0.00000000e+00,\n",
        "            0.00000000e+00,   0.00000000e+00,   0.00000000e+00,\n",
        "            0.00000000e+00,   0.00000000e+00,   0.00000000e+00,\n",
        "            0.00000000e+00,   0.00000000e+00,   0.00000000e+00,\n",
        "            0.00000000e+00,   0.00000000e+00,   0.00000000e+00,\n",
        "            0.00000000e+00,   0.00000000e+00],\n",
        "         [  7.61136513e-01,   8.80568256e-01,   0.00000000e+00,\n",
        "            1.88056826e+00,  -1.88056826e+00,  -1.64170477e+00,\n",
        "            0.00000000e+00,   0.00000000e+00,   0.00000000e+00,\n",
        "            0.00000000e+00,   0.00000000e+00,   0.00000000e+00,\n",
        "            0.00000000e+00,   0.00000000e+00,   0.00000000e+00,\n",
        "            0.00000000e+00,   0.00000000e+00,   0.00000000e+00,\n",
        "            0.00000000e+00,   0.00000000e+00,   0.00000000e+00,\n",
        "            0.00000000e+00,   0.00000000e+00,   0.00000000e+00,\n",
        "            0.00000000e+00,   0.00000000e+00,   0.00000000e+00,\n",
        "            0.00000000e+00,   0.00000000e+00]]), 'FE0_C0_D01': array([[ -3.33333333e-01,   8.32667268e-17,   3.33333333e-01,\n",
        "            1.33333333e+00,  -1.66533454e-16,  -1.33333333e+00,\n",
        "            0.00000000e+00,   0.00000000e+00,   0.00000000e+00,\n",
        "            0.00000000e+00,   0.00000000e+00,   0.00000000e+00,\n",
        "            0.00000000e+00,   0.00000000e+00,   0.00000000e+00,\n",
        "            0.00000000e+00,   0.00000000e+00,   0.00000000e+00,\n",
        "            0.00000000e+00,   0.00000000e+00,   0.00000000e+00,\n",
        "            0.00000000e+00,   0.00000000e+00,   0.00000000e+00,\n",
        "            0.00000000e+00,   0.00000000e+00,   0.00000000e+00,\n",
        "            0.00000000e+00,   0.00000000e+00],\n",
        "         [  5.94853971e-01,   2.22044605e-16,  -5.94853971e-01,\n",
        "            3.18970794e+00,   4.44089210e-16,  -3.18970794e+00,\n",
        "            0.00000000e+00,   0.00000000e+00,   0.00000000e+00,\n",
        "            0.00000000e+00,   0.00000000e+00,   0.00000000e+00,\n",
        "            0.00000000e+00,   0.00000000e+00,   0.00000000e+00,\n",
        "            0.00000000e+00,   0.00000000e+00,   0.00000000e+00,\n",
        "            0.00000000e+00,   0.00000000e+00,   0.00000000e+00,\n",
        "            0.00000000e+00,   0.00000000e+00,   0.00000000e+00,\n",
        "            0.00000000e+00,   0.00000000e+00,   0.00000000e+00,\n",
        "            0.00000000e+00,   0.00000000e+00],\n",
        "         [  5.94853971e-01,  -2.22044605e-16,   2.18970794e+00,\n",
        "            4.05146029e-01,  -2.78456191e+00,  -4.05146029e-01,\n",
        "            0.00000000e+00,   0.00000000e+00,   0.00000000e+00,\n",
        "            0.00000000e+00,   0.00000000e+00,   0.00000000e+00,\n",
        "            0.00000000e+00,   0.00000000e+00,   0.00000000e+00,\n",
        "            0.00000000e+00,   0.00000000e+00,   0.00000000e+00,\n",
        "            0.00000000e+00,   0.00000000e+00,   0.00000000e+00,\n",
        "            0.00000000e+00,   0.00000000e+00,   0.00000000e+00,\n",
        "            0.00000000e+00,   0.00000000e+00,   0.00000000e+00,\n",
        "            0.00000000e+00,   0.00000000e+00],\n",
        "         [ -2.18970794e+00,   5.55111512e-17,  -5.94853971e-01,\n",
        "            4.05146029e-01,   2.78456191e+00,  -4.05146029e-01,\n",
        "            0.00000000e+00,   0.00000000e+00,   0.00000000e+00,\n",
        "            0.00000000e+00,   0.00000000e+00,   0.00000000e+00,\n",
        "            0.00000000e+00,   0.00000000e+00,   0.00000000e+00,\n",
        "            0.00000000e+00,   0.00000000e+00,   0.00000000e+00,\n",
        "            0.00000000e+00,   0.00000000e+00,   0.00000000e+00,\n",
        "            0.00000000e+00,   0.00000000e+00,   0.00000000e+00,\n",
        "            0.00000000e+00,   0.00000000e+00,   0.00000000e+00,\n",
        "            0.00000000e+00,   0.00000000e+00],\n",
        "         [ -8.80568256e-01,   1.52655666e-16,   8.80568256e-01,\n",
        "            2.38863487e-01,   3.33066907e-16,  -2.38863487e-01,\n",
        "            0.00000000e+00,   0.00000000e+00,   0.00000000e+00,\n",
        "            0.00000000e+00,   0.00000000e+00,   0.00000000e+00,\n",
        "            0.00000000e+00,   0.00000000e+00,   0.00000000e+00,\n",
        "            0.00000000e+00,   0.00000000e+00,   0.00000000e+00,\n",
        "            0.00000000e+00,   0.00000000e+00,   0.00000000e+00,\n",
        "            0.00000000e+00,   0.00000000e+00,   0.00000000e+00,\n",
        "            0.00000000e+00,   0.00000000e+00,   0.00000000e+00,\n",
        "            0.00000000e+00,   0.00000000e+00],\n",
        "         [ -8.80568256e-01,  -2.77555756e-16,  -7.61136513e-01,\n",
        "            1.88056826e+00,   1.64170477e+00,  -1.88056826e+00,\n",
        "            0.00000000e+00,   0.00000000e+00,   0.00000000e+00,\n",
        "            0.00000000e+00,   0.00000000e+00,   0.00000000e+00,\n",
        "            0.00000000e+00,   0.00000000e+00,   0.00000000e+00,\n",
        "            0.00000000e+00,   0.00000000e+00,   0.00000000e+00,\n",
        "            0.00000000e+00,   0.00000000e+00,   0.00000000e+00,\n",
        "            0.00000000e+00,   0.00000000e+00,   0.00000000e+00,\n",
        "            0.00000000e+00,   0.00000000e+00,   0.00000000e+00,\n",
        "            0.00000000e+00,   0.00000000e+00],\n",
        "         [  7.61136513e-01,   9.71445147e-17,   8.80568256e-01,\n",
        "            1.88056826e+00,  -1.64170477e+00,  -1.88056826e+00,\n",
        "            0.00000000e+00,   0.00000000e+00,   0.00000000e+00,\n",
        "            0.00000000e+00,   0.00000000e+00,   0.00000000e+00,\n",
        "            0.00000000e+00,   0.00000000e+00,   0.00000000e+00,\n",
        "            0.00000000e+00,   0.00000000e+00,   0.00000000e+00,\n",
        "            0.00000000e+00,   0.00000000e+00,   0.00000000e+00,\n",
        "            0.00000000e+00,   0.00000000e+00,   0.00000000e+00,\n",
        "            0.00000000e+00,   0.00000000e+00,   0.00000000e+00,\n",
        "            0.00000000e+00,   0.00000000e+00]]), 'FE0_C2_D01': array([[ 0.,  0.,  0.,  0.,  0.,  0.,  0.,  0.,  0.,  0.,  0.,  0., -1.,\n",
        "           0.,  1.,  0.,  0.,  0.,  0.,  0.,  0.,  0.,  0.,  0.,  0.,  0.,\n",
        "           0.,  0.,  0.],\n",
        "         [ 0.,  0.,  0.,  0.,  0.,  0.,  0.,  0.,  0.,  0.,  0.,  0., -1.,\n",
        "           0.,  1.,  0.,  0.,  0.,  0.,  0.,  0.,  0.,  0.,  0.,  0.,  0.,\n",
        "           0.,  0.,  0.],\n",
        "         [ 0.,  0.,  0.,  0.,  0.,  0.,  0.,  0.,  0.,  0.,  0.,  0., -1.,\n",
        "           0.,  1.,  0.,  0.,  0.,  0.,  0.,  0.,  0.,  0.,  0.,  0.,  0.,\n",
        "           0.,  0.,  0.],\n",
        "         [ 0.,  0.,  0.,  0.,  0.,  0.,  0.,  0.,  0.,  0.,  0.,  0., -1.,\n",
        "           0.,  1.,  0.,  0.,  0.,  0.,  0.,  0.,  0.,  0.,  0.,  0.,  0.,\n",
        "           0.,  0.,  0.],\n",
        "         [ 0.,  0.,  0.,  0.,  0.,  0.,  0.,  0.,  0.,  0.,  0.,  0., -1.,\n",
        "           0.,  1.,  0.,  0.,  0.,  0.,  0.,  0.,  0.,  0.,  0.,  0.,  0.,\n",
        "           0.,  0.,  0.],\n",
        "         [ 0.,  0.,  0.,  0.,  0.,  0.,  0.,  0.,  0.,  0.,  0.,  0., -1.,\n",
        "           0.,  1.,  0.,  0.,  0.,  0.,  0.,  0.,  0.,  0.,  0.,  0.,  0.,\n",
        "           0.,  0.,  0.],\n",
        "         [ 0.,  0.,  0.,  0.,  0.,  0.,  0.,  0.,  0.,  0.,  0.,  0., -1.,\n",
        "           0.,  1.,  0.,  0.,  0.,  0.,  0.,  0.,  0.,  0.,  0.,  0.,  0.,\n",
        "           0.,  0.,  0.]]), 'FE0_C4_D01': array([[  0.00000000e+00,   0.00000000e+00,   0.00000000e+00,\n",
        "            0.00000000e+00,   0.00000000e+00,   0.00000000e+00,\n",
        "            0.00000000e+00,   0.00000000e+00,   0.00000000e+00,\n",
        "            0.00000000e+00,   0.00000000e+00,   0.00000000e+00,\n",
        "            0.00000000e+00,   0.00000000e+00,   0.00000000e+00,\n",
        "           -1.47104551e-15,   1.33333333e+00,  -1.66666667e+00,\n",
        "            1.66666667e+00,  -1.33333333e+00,  -6.66133815e-16,\n",
        "            5.33333333e+00,  -2.66666667e+00,   0.00000000e+00,\n",
        "            0.00000000e+00,   0.00000000e+00,   0.00000000e+00,\n",
        "            0.00000000e+00,   0.00000000e+00],\n",
        "         [  0.00000000e+00,   0.00000000e+00,   0.00000000e+00,\n",
        "            0.00000000e+00,   0.00000000e+00,   0.00000000e+00,\n",
        "            0.00000000e+00,   0.00000000e+00,   0.00000000e+00,\n",
        "            0.00000000e+00,   0.00000000e+00,   0.00000000e+00,\n",
        "            0.00000000e+00,   0.00000000e+00,   0.00000000e+00,\n",
        "           -2.88657986e-15,   3.18970794e+00,   1.89707941e-01,\n",
        "           -1.89707941e-01,  -3.18970794e+00,  -1.99840144e-15,\n",
        "            1.27588318e+01,  -6.37941588e+00,   0.00000000e+00,\n",
        "            0.00000000e+00,   0.00000000e+00,   0.00000000e+00,\n",
        "            0.00000000e+00,   0.00000000e+00],\n",
        "         [  0.00000000e+00,   0.00000000e+00,   0.00000000e+00,\n",
        "            0.00000000e+00,   0.00000000e+00,   0.00000000e+00,\n",
        "            0.00000000e+00,   0.00000000e+00,   0.00000000e+00,\n",
        "            0.00000000e+00,   0.00000000e+00,   0.00000000e+00,\n",
        "            0.00000000e+00,   0.00000000e+00,   0.00000000e+00,\n",
        "            4.44089210e-16,   4.05146029e-01,  -2.59485397e+00,\n",
        "            2.59485397e+00,  -4.05146029e-01,   1.77635684e-15,\n",
        "            1.62058412e+00,  -8.10292059e-01,   0.00000000e+00,\n",
        "            0.00000000e+00,   0.00000000e+00,   0.00000000e+00,\n",
        "            0.00000000e+00,   0.00000000e+00],\n",
        "         [  0.00000000e+00,   0.00000000e+00,   0.00000000e+00,\n",
        "            0.00000000e+00,   0.00000000e+00,   0.00000000e+00,\n",
        "            0.00000000e+00,   0.00000000e+00,   0.00000000e+00,\n",
        "            0.00000000e+00,   0.00000000e+00,   0.00000000e+00,\n",
        "            0.00000000e+00,   0.00000000e+00,   0.00000000e+00,\n",
        "           -2.33146835e-15,   4.05146029e-01,  -2.59485397e+00,\n",
        "            2.59485397e+00,  -4.05146029e-01,  -1.88737914e-15,\n",
        "            1.62058412e+00,  -8.10292059e-01,   0.00000000e+00,\n",
        "            0.00000000e+00,   0.00000000e+00,   0.00000000e+00,\n",
        "            0.00000000e+00,   0.00000000e+00],\n",
        "         [  0.00000000e+00,   0.00000000e+00,   0.00000000e+00,\n",
        "            0.00000000e+00,   0.00000000e+00,   0.00000000e+00,\n",
        "            0.00000000e+00,   0.00000000e+00,   0.00000000e+00,\n",
        "            0.00000000e+00,   0.00000000e+00,   0.00000000e+00,\n",
        "            0.00000000e+00,   0.00000000e+00,   0.00000000e+00,\n",
        "           -2.49800181e-16,   2.38863487e-01,  -2.76113651e+00,\n",
        "            2.76113651e+00,  -2.38863487e-01,   6.10622664e-16,\n",
        "            9.55453949e-01,  -4.77726974e-01,   0.00000000e+00,\n",
        "            0.00000000e+00,   0.00000000e+00,   0.00000000e+00,\n",
        "            0.00000000e+00,   0.00000000e+00],\n",
        "         [  0.00000000e+00,   0.00000000e+00,   0.00000000e+00,\n",
        "            0.00000000e+00,   0.00000000e+00,   0.00000000e+00,\n",
        "            0.00000000e+00,   0.00000000e+00,   0.00000000e+00,\n",
        "            0.00000000e+00,   0.00000000e+00,   0.00000000e+00,\n",
        "            0.00000000e+00,   0.00000000e+00,   0.00000000e+00,\n",
        "           -3.77475828e-15,   1.88056826e+00,  -1.11943174e+00,\n",
        "            1.11943174e+00,  -1.88056826e+00,  -3.21964677e-15,\n",
        "            7.52227303e+00,  -3.76113651e+00,   0.00000000e+00,\n",
        "            0.00000000e+00,   0.00000000e+00,   0.00000000e+00,\n",
        "            0.00000000e+00,   0.00000000e+00],\n",
        "         [  0.00000000e+00,   0.00000000e+00,   0.00000000e+00,\n",
        "            0.00000000e+00,   0.00000000e+00,   0.00000000e+00,\n",
        "            0.00000000e+00,   0.00000000e+00,   0.00000000e+00,\n",
        "            0.00000000e+00,   0.00000000e+00,   0.00000000e+00,\n",
        "            0.00000000e+00,   0.00000000e+00,   0.00000000e+00,\n",
        "           -9.71445147e-16,   1.88056826e+00,  -1.11943174e+00,\n",
        "            1.11943174e+00,  -1.88056826e+00,   2.22044605e-16,\n",
        "            7.52227303e+00,  -3.76113651e+00,   0.00000000e+00,\n",
        "            0.00000000e+00,   0.00000000e+00,   0.00000000e+00,\n",
        "            0.00000000e+00,   0.00000000e+00]]), 'FE0_C5': array([[ 0.        ,  0.        ,  0.        ,  0.        ,  0.        ,\n",
        "           0.        ,  0.        ,  0.        ,  0.        ,  0.        ,\n",
        "           0.        ,  0.        ,  0.        ,  0.        ,  0.        ,\n",
        "           0.        ,  0.        ,  0.        ,  0.        ,  0.        ,\n",
        "           0.        ,  0.        ,  0.        , -0.11111111, -0.11111111,\n",
        "          -0.11111111,  0.44444444,  0.44444444,  0.44444444],\n",
        "         [ 0.        ,  0.        ,  0.        ,  0.        ,  0.        ,\n",
        "           0.        ,  0.        ,  0.        ,  0.        ,  0.        ,\n",
        "           0.        ,  0.        ,  0.        ,  0.        ,  0.        ,\n",
        "           0.        ,  0.        ,  0.        ,  0.        ,  0.        ,\n",
        "           0.        ,  0.        ,  0.        , -0.08076859,  0.47435261,\n",
        "          -0.08076859,  0.32307438,  0.04103583,  0.32307438],\n",
        "         [ 0.        ,  0.        ,  0.        ,  0.        ,  0.        ,\n",
        "           0.        ,  0.        ,  0.        ,  0.        ,  0.        ,\n",
        "           0.        ,  0.        ,  0.        ,  0.        ,  0.        ,\n",
        "           0.        ,  0.        ,  0.        ,  0.        ,  0.        ,\n",
        "           0.        ,  0.        ,  0.        , -0.08076859, -0.08076859,\n",
        "           0.47435261,  0.32307438,  0.32307438,  0.04103583],\n",
        "         [ 0.        ,  0.        ,  0.        ,  0.        ,  0.        ,\n",
        "           0.        ,  0.        ,  0.        ,  0.        ,  0.        ,\n",
        "           0.        ,  0.        ,  0.        ,  0.        ,  0.        ,\n",
        "           0.        ,  0.        ,  0.        ,  0.        ,  0.        ,\n",
        "           0.        ,  0.        ,  0.        ,  0.47435261, -0.08076859,\n",
        "          -0.08076859,  0.04103583,  0.32307438,  0.32307438],\n",
        "         [ 0.        ,  0.        ,  0.        ,  0.        ,  0.        ,\n",
        "           0.        ,  0.        ,  0.        ,  0.        ,  0.        ,\n",
        "           0.        ,  0.        ,  0.        ,  0.        ,  0.        ,\n",
        "           0.        ,  0.        ,  0.        ,  0.        ,  0.        ,\n",
        "           0.        ,  0.        ,  0.        , -0.02807494, -0.0525839 ,\n",
        "          -0.02807494,  0.11229977,  0.88413424,  0.11229977],\n",
        "         [ 0.        ,  0.        ,  0.        ,  0.        ,  0.        ,\n",
        "           0.        ,  0.        ,  0.        ,  0.        ,  0.        ,\n",
        "           0.        ,  0.        ,  0.        ,  0.        ,  0.        ,\n",
        "           0.        ,  0.        ,  0.        ,  0.        ,  0.        ,\n",
        "           0.        ,  0.        ,  0.        , -0.02807494, -0.02807494,\n",
        "          -0.0525839 ,  0.11229977,  0.11229977,  0.88413424],\n",
        "         [ 0.        ,  0.        ,  0.        ,  0.        ,  0.        ,\n",
        "           0.        ,  0.        ,  0.        ,  0.        ,  0.        ,\n",
        "           0.        ,  0.        ,  0.        ,  0.        ,  0.        ,\n",
        "           0.        ,  0.        ,  0.        ,  0.        ,  0.        ,\n",
        "           0.        ,  0.        ,  0.        , -0.0525839 , -0.02807494,\n",
        "          -0.02807494,  0.88413424,  0.11229977,  0.11229977]]), 'FE0_C4': array([[  0.00000000e+00,   0.00000000e+00,   0.00000000e+00,\n",
        "            0.00000000e+00,   0.00000000e+00,   0.00000000e+00,\n",
        "            0.00000000e+00,   0.00000000e+00,   0.00000000e+00,\n",
        "            0.00000000e+00,   0.00000000e+00,   0.00000000e+00,\n",
        "            0.00000000e+00,   0.00000000e+00,   0.00000000e+00,\n",
        "           -2.22222222e-01,   1.11111111e-01,  -1.11111111e-01,\n",
        "           -1.11111111e-01,   1.11111111e-01,  -2.22222222e-01,\n",
        "           -2.22044605e-16,   2.66666667e+00,   0.00000000e+00,\n",
        "            0.00000000e+00,   0.00000000e+00,   0.00000000e+00,\n",
        "            0.00000000e+00,   0.00000000e+00],\n",
        "         [  0.00000000e+00,   0.00000000e+00,   0.00000000e+00,\n",
        "            0.00000000e+00,   0.00000000e+00,   0.00000000e+00,\n",
        "            0.00000000e+00,   0.00000000e+00,   0.00000000e+00,\n",
        "            0.00000000e+00,   0.00000000e+00,   0.00000000e+00,\n",
        "            0.00000000e+00,   0.00000000e+00,   0.00000000e+00,\n",
        "            9.48705217e-01,  -4.74352609e-01,  -2.21787869e-01,\n",
        "           -2.21787869e-01,  -4.74352609e-01,   9.48705217e-01,\n",
        "            1.83186799e-15,   1.93844626e+00,   0.00000000e+00,\n",
        "            0.00000000e+00,   0.00000000e+00,   0.00000000e+00,\n",
        "            0.00000000e+00,   0.00000000e+00],\n",
        "         [  0.00000000e+00,   0.00000000e+00,   0.00000000e+00,\n",
        "            0.00000000e+00,   0.00000000e+00,   0.00000000e+00,\n",
        "            0.00000000e+00,   0.00000000e+00,   0.00000000e+00,\n",
        "            0.00000000e+00,   0.00000000e+00,   0.00000000e+00,\n",
        "            0.00000000e+00,   0.00000000e+00,   0.00000000e+00,\n",
        "           -1.61537188e-01,   2.21787869e-01,  -6.35889797e-01,\n",
        "            1.17049309e+00,  -6.02506811e-02,  -1.61537188e-01,\n",
        "            5.64077101e-01,   8.10292059e-01,   0.00000000e+00,\n",
        "            0.00000000e+00,   0.00000000e+00,   0.00000000e+00,\n",
        "            0.00000000e+00,   0.00000000e+00],\n",
        "         [  0.00000000e+00,   0.00000000e+00,   0.00000000e+00,\n",
        "            0.00000000e+00,   0.00000000e+00,   0.00000000e+00,\n",
        "            0.00000000e+00,   0.00000000e+00,   0.00000000e+00,\n",
        "            0.00000000e+00,   0.00000000e+00,   0.00000000e+00,\n",
        "            0.00000000e+00,   0.00000000e+00,   0.00000000e+00,\n",
        "           -1.61537188e-01,  -6.02506811e-02,   1.17049309e+00,\n",
        "           -6.35889797e-01,   2.21787869e-01,  -1.61537188e-01,\n",
        "           -5.64077101e-01,   1.37436916e+00,   0.00000000e+00,\n",
        "            0.00000000e+00,   0.00000000e+00,   0.00000000e+00,\n",
        "            0.00000000e+00,   0.00000000e+00],\n",
        "         [  0.00000000e+00,   0.00000000e+00,   0.00000000e+00,\n",
        "            0.00000000e+00,   0.00000000e+00,   0.00000000e+00,\n",
        "            0.00000000e+00,   0.00000000e+00,   0.00000000e+00,\n",
        "            0.00000000e+00,   0.00000000e+00,   0.00000000e+00,\n",
        "            0.00000000e+00,   0.00000000e+00,   0.00000000e+00,\n",
        "           -1.05167802e-01,   5.25839011e-02,   3.57842291e-01,\n",
        "            3.57842291e-01,   5.25839011e-02,  -1.05167802e-01,\n",
        "           -2.22044605e-16,   6.73798637e-01,   0.00000000e+00,\n",
        "            0.00000000e+00,   0.00000000e+00,   0.00000000e+00,\n",
        "            0.00000000e+00,   0.00000000e+00],\n",
        "         [  0.00000000e+00,   0.00000000e+00,   0.00000000e+00,\n",
        "            0.00000000e+00,   0.00000000e+00,   0.00000000e+00,\n",
        "            0.00000000e+00,   0.00000000e+00,   0.00000000e+00,\n",
        "            0.00000000e+00,   0.00000000e+00,   0.00000000e+00,\n",
        "            0.00000000e+00,   0.00000000e+00,   0.00000000e+00,\n",
        "           -5.61498864e-02,  -3.57842291e-01,  -3.56598534e-03,\n",
        "           -4.63010093e-01,   4.13992178e-01,  -5.61498864e-02,\n",
        "           -1.54366894e+00,   3.76113651e+00,   0.00000000e+00,\n",
        "            0.00000000e+00,   0.00000000e+00,   0.00000000e+00,\n",
        "            0.00000000e+00,   0.00000000e+00],\n",
        "         [  0.00000000e+00,   0.00000000e+00,   0.00000000e+00,\n",
        "            0.00000000e+00,   0.00000000e+00,   0.00000000e+00,\n",
        "            0.00000000e+00,   0.00000000e+00,   0.00000000e+00,\n",
        "            0.00000000e+00,   0.00000000e+00,   0.00000000e+00,\n",
        "            0.00000000e+00,   0.00000000e+00,   0.00000000e+00,\n",
        "           -5.61498864e-02,   4.13992178e-01,  -4.63010093e-01,\n",
        "           -3.56598534e-03,  -3.57842291e-01,  -5.61498864e-02,\n",
        "            1.54366894e+00,   2.21746758e+00,   0.00000000e+00,\n",
        "            0.00000000e+00,   0.00000000e+00,   0.00000000e+00,\n",
        "            0.00000000e+00,   0.00000000e+00]]), 'FE0_C3': array([[  0.00000000e+00,   0.00000000e+00,   0.00000000e+00,\n",
        "            0.00000000e+00,   0.00000000e+00,   0.00000000e+00,\n",
        "            0.00000000e+00,   0.00000000e+00,   0.00000000e+00,\n",
        "            0.00000000e+00,   0.00000000e+00,   0.00000000e+00,\n",
        "            0.00000000e+00,   0.00000000e+00,   0.00000000e+00,\n",
        "           -1.11111111e-01,   2.22222222e-01,   1.11111111e-01,\n",
        "           -2.22222222e-01,  -1.11111111e-01,  -1.11111111e-01,\n",
        "            2.66666667e+00,  -2.51284354e-16,   0.00000000e+00,\n",
        "            0.00000000e+00,   0.00000000e+00,   0.00000000e+00,\n",
        "            0.00000000e+00,   0.00000000e+00],\n",
        "         [  0.00000000e+00,   0.00000000e+00,   0.00000000e+00,\n",
        "            0.00000000e+00,   0.00000000e+00,   0.00000000e+00,\n",
        "            0.00000000e+00,   0.00000000e+00,   0.00000000e+00,\n",
        "            0.00000000e+00,   0.00000000e+00,   0.00000000e+00,\n",
        "            0.00000000e+00,   0.00000000e+00,   0.00000000e+00,\n",
        "           -2.21787869e-01,   1.61537188e-01,  -6.02506811e-02,\n",
        "           -1.61537188e-01,  -6.35889797e-01,   1.17049309e+00,\n",
        "            8.10292059e-01,   5.64077101e-01,   0.00000000e+00,\n",
        "            0.00000000e+00,   0.00000000e+00,   0.00000000e+00,\n",
        "            0.00000000e+00,   0.00000000e+00],\n",
        "         [  0.00000000e+00,   0.00000000e+00,   0.00000000e+00,\n",
        "            0.00000000e+00,   0.00000000e+00,   0.00000000e+00,\n",
        "            0.00000000e+00,   0.00000000e+00,   0.00000000e+00,\n",
        "            0.00000000e+00,   0.00000000e+00,   0.00000000e+00,\n",
        "            0.00000000e+00,   0.00000000e+00,   0.00000000e+00,\n",
        "            4.74352609e-01,  -9.48705217e-01,  -4.74352609e-01,\n",
        "            9.48705217e-01,  -2.21787869e-01,  -2.21787869e-01,\n",
        "            1.93844626e+00,  -7.55198557e-16,   0.00000000e+00,\n",
        "            0.00000000e+00,   0.00000000e+00,   0.00000000e+00,\n",
        "            0.00000000e+00,   0.00000000e+00],\n",
        "         [  0.00000000e+00,   0.00000000e+00,   0.00000000e+00,\n",
        "            0.00000000e+00,   0.00000000e+00,   0.00000000e+00,\n",
        "            0.00000000e+00,   0.00000000e+00,   0.00000000e+00,\n",
        "            0.00000000e+00,   0.00000000e+00,   0.00000000e+00,\n",
        "            0.00000000e+00,   0.00000000e+00,   0.00000000e+00,\n",
        "            6.02506811e-02,   1.61537188e-01,   2.21787869e-01,\n",
        "           -1.61537188e-01,   1.17049309e+00,  -6.35889797e-01,\n",
        "            1.37436916e+00,  -5.64077101e-01,   0.00000000e+00,\n",
        "            0.00000000e+00,   0.00000000e+00,   0.00000000e+00,\n",
        "            0.00000000e+00,   0.00000000e+00],\n",
        "         [  0.00000000e+00,   0.00000000e+00,   0.00000000e+00,\n",
        "            0.00000000e+00,   0.00000000e+00,   0.00000000e+00,\n",
        "            0.00000000e+00,   0.00000000e+00,   0.00000000e+00,\n",
        "            0.00000000e+00,   0.00000000e+00,   0.00000000e+00,\n",
        "            0.00000000e+00,   0.00000000e+00,   0.00000000e+00,\n",
        "            3.57842291e-01,   5.61498864e-02,   4.13992178e-01,\n",
        "           -5.61498864e-02,  -3.56598534e-03,  -4.63010093e-01,\n",
        "            3.76113651e+00,  -1.54366894e+00,   0.00000000e+00,\n",
        "            0.00000000e+00,   0.00000000e+00,   0.00000000e+00,\n",
        "            0.00000000e+00,   0.00000000e+00],\n",
        "         [  0.00000000e+00,   0.00000000e+00,   0.00000000e+00,\n",
        "            0.00000000e+00,   0.00000000e+00,   0.00000000e+00,\n",
        "            0.00000000e+00,   0.00000000e+00,   0.00000000e+00,\n",
        "            0.00000000e+00,   0.00000000e+00,   0.00000000e+00,\n",
        "            0.00000000e+00,   0.00000000e+00,   0.00000000e+00,\n",
        "           -5.25839011e-02,   1.05167802e-01,   5.25839011e-02,\n",
        "           -1.05167802e-01,   3.57842291e-01,   3.57842291e-01,\n",
        "            6.73798637e-01,   2.29834205e-16,   0.00000000e+00,\n",
        "            0.00000000e+00,   0.00000000e+00,   0.00000000e+00,\n",
        "            0.00000000e+00,   0.00000000e+00],\n",
        "         [  0.00000000e+00,   0.00000000e+00,   0.00000000e+00,\n",
        "            0.00000000e+00,   0.00000000e+00,   0.00000000e+00,\n",
        "            0.00000000e+00,   0.00000000e+00,   0.00000000e+00,\n",
        "            0.00000000e+00,   0.00000000e+00,   0.00000000e+00,\n",
        "            0.00000000e+00,   0.00000000e+00,   0.00000000e+00,\n",
        "           -4.13992178e-01,   5.61498864e-02,  -3.57842291e-01,\n",
        "           -5.61498864e-02,  -4.63010093e-01,  -3.56598534e-03,\n",
        "            2.21746758e+00,   1.54366894e+00,   0.00000000e+00,\n",
        "            0.00000000e+00,   0.00000000e+00,   0.00000000e+00,\n",
        "            0.00000000e+00,   0.00000000e+00]]), 'FE0_C2': array([[ 0.        ,  0.        ,  0.        ,  0.        ,  0.        ,\n",
        "           0.        ,  0.        ,  0.        ,  0.        ,  0.        ,\n",
        "           0.        ,  0.        ,  0.33333333,  0.33333333,  0.33333333,\n",
        "           0.        ,  0.        ,  0.        ,  0.        ,  0.        ,\n",
        "           0.        ,  0.        ,  0.        ,  0.        ,  0.        ,\n",
        "           0.        ,  0.        ,  0.        ,  0.        ],\n",
        "         [ 0.        ,  0.        ,  0.        ,  0.        ,  0.        ,\n",
        "           0.        ,  0.        ,  0.        ,  0.        ,  0.        ,\n",
        "           0.        ,  0.        ,  0.10128651,  0.79742699,  0.10128651,\n",
        "           0.        ,  0.        ,  0.        ,  0.        ,  0.        ,\n",
        "           0.        ,  0.        ,  0.        ,  0.        ,  0.        ,\n",
        "           0.        ,  0.        ,  0.        ,  0.        ],\n",
        "         [ 0.        ,  0.        ,  0.        ,  0.        ,  0.        ,\n",
        "           0.        ,  0.        ,  0.        ,  0.        ,  0.        ,\n",
        "           0.        ,  0.        ,  0.10128651,  0.10128651,  0.79742699,\n",
        "           0.        ,  0.        ,  0.        ,  0.        ,  0.        ,\n",
        "           0.        ,  0.        ,  0.        ,  0.        ,  0.        ,\n",
        "           0.        ,  0.        ,  0.        ,  0.        ],\n",
        "         [ 0.        ,  0.        ,  0.        ,  0.        ,  0.        ,\n",
        "           0.        ,  0.        ,  0.        ,  0.        ,  0.        ,\n",
        "           0.        ,  0.        ,  0.79742699,  0.10128651,  0.10128651,\n",
        "           0.        ,  0.        ,  0.        ,  0.        ,  0.        ,\n",
        "           0.        ,  0.        ,  0.        ,  0.        ,  0.        ,\n",
        "           0.        ,  0.        ,  0.        ,  0.        ],\n",
        "         [ 0.        ,  0.        ,  0.        ,  0.        ,  0.        ,\n",
        "           0.        ,  0.        ,  0.        ,  0.        ,  0.        ,\n",
        "           0.        ,  0.        ,  0.47014206,  0.05971587,  0.47014206,\n",
        "           0.        ,  0.        ,  0.        ,  0.        ,  0.        ,\n",
        "           0.        ,  0.        ,  0.        ,  0.        ,  0.        ,\n",
        "           0.        ,  0.        ,  0.        ,  0.        ],\n",
        "         [ 0.        ,  0.        ,  0.        ,  0.        ,  0.        ,\n",
        "           0.        ,  0.        ,  0.        ,  0.        ,  0.        ,\n",
        "           0.        ,  0.        ,  0.47014206,  0.47014206,  0.05971587,\n",
        "           0.        ,  0.        ,  0.        ,  0.        ,  0.        ,\n",
        "           0.        ,  0.        ,  0.        ,  0.        ,  0.        ,\n",
        "           0.        ,  0.        ,  0.        ,  0.        ],\n",
        "         [ 0.        ,  0.        ,  0.        ,  0.        ,  0.        ,\n",
        "           0.        ,  0.        ,  0.        ,  0.        ,  0.        ,\n",
        "           0.        ,  0.        ,  0.05971587,  0.47014206,  0.47014206,\n",
        "           0.        ,  0.        ,  0.        ,  0.        ,  0.        ,\n",
        "           0.        ,  0.        ,  0.        ,  0.        ,  0.        ,\n",
        "           0.        ,  0.        ,  0.        ,  0.        ]]), 'FE0_C1': array([[ 0.        ,  0.        ,  0.        ,  0.        ,  0.        ,\n",
        "           0.        , -0.11111111, -0.11111111, -0.11111111,  0.44444444,\n",
        "           0.44444444,  0.44444444,  0.        ,  0.        ,  0.        ,\n",
        "           0.        ,  0.        ,  0.        ,  0.        ,  0.        ,\n",
        "           0.        ,  0.        ,  0.        ,  0.        ,  0.        ,\n",
        "           0.        ,  0.        ,  0.        ,  0.        ],\n",
        "         [ 0.        ,  0.        ,  0.        ,  0.        ,  0.        ,\n",
        "           0.        , -0.08076859,  0.47435261, -0.08076859,  0.32307438,\n",
        "           0.04103583,  0.32307438,  0.        ,  0.        ,  0.        ,\n",
        "           0.        ,  0.        ,  0.        ,  0.        ,  0.        ,\n",
        "           0.        ,  0.        ,  0.        ,  0.        ,  0.        ,\n",
        "           0.        ,  0.        ,  0.        ,  0.        ],\n",
        "         [ 0.        ,  0.        ,  0.        ,  0.        ,  0.        ,\n",
        "           0.        , -0.08076859, -0.08076859,  0.47435261,  0.32307438,\n",
        "           0.32307438,  0.04103583,  0.        ,  0.        ,  0.        ,\n",
        "           0.        ,  0.        ,  0.        ,  0.        ,  0.        ,\n",
        "           0.        ,  0.        ,  0.        ,  0.        ,  0.        ,\n",
        "           0.        ,  0.        ,  0.        ,  0.        ],\n",
        "         [ 0.        ,  0.        ,  0.        ,  0.        ,  0.        ,\n",
        "           0.        ,  0.47435261, -0.08076859, -0.08076859,  0.04103583,\n",
        "           0.32307438,  0.32307438,  0.        ,  0.        ,  0.        ,\n",
        "           0.        ,  0.        ,  0.        ,  0.        ,  0.        ,\n",
        "           0.        ,  0.        ,  0.        ,  0.        ,  0.        ,\n",
        "           0.        ,  0.        ,  0.        ,  0.        ],\n",
        "         [ 0.        ,  0.        ,  0.        ,  0.        ,  0.        ,\n",
        "           0.        , -0.02807494, -0.0525839 , -0.02807494,  0.11229977,\n",
        "           0.88413424,  0.11229977,  0.        ,  0.        ,  0.        ,\n",
        "           0.        ,  0.        ,  0.        ,  0.        ,  0.        ,\n",
        "           0.        ,  0.        ,  0.        ,  0.        ,  0.        ,\n",
        "           0.        ,  0.        ,  0.        ,  0.        ],\n",
        "         [ 0.        ,  0.        ,  0.        ,  0.        ,  0.        ,\n",
        "           0.        , -0.02807494, -0.02807494, -0.0525839 ,  0.11229977,\n",
        "           0.11229977,  0.88413424,  0.        ,  0.        ,  0.        ,\n",
        "           0.        ,  0.        ,  0.        ,  0.        ,  0.        ,\n",
        "           0.        ,  0.        ,  0.        ,  0.        ,  0.        ,\n",
        "           0.        ,  0.        ,  0.        ,  0.        ],\n",
        "         [ 0.        ,  0.        ,  0.        ,  0.        ,  0.        ,\n",
        "           0.        , -0.0525839 , -0.02807494, -0.02807494,  0.88413424,\n",
        "           0.11229977,  0.11229977,  0.        ,  0.        ,  0.        ,\n",
        "           0.        ,  0.        ,  0.        ,  0.        ,  0.        ,\n",
        "           0.        ,  0.        ,  0.        ,  0.        ,  0.        ,\n",
        "           0.        ,  0.        ,  0.        ,  0.        ]]), 'FE0_C0': array([[-0.11111111, -0.11111111, -0.11111111,  0.44444444,  0.44444444,\n",
        "           0.44444444,  0.        ,  0.        ,  0.        ,  0.        ,\n",
        "           0.        ,  0.        ,  0.        ,  0.        ,  0.        ,\n",
        "           0.        ,  0.        ,  0.        ,  0.        ,  0.        ,\n",
        "           0.        ,  0.        ,  0.        ,  0.        ,  0.        ,\n",
        "           0.        ,  0.        ,  0.        ,  0.        ],\n",
        "         [-0.08076859,  0.47435261, -0.08076859,  0.32307438,  0.04103583,\n",
        "           0.32307438,  0.        ,  0.        ,  0.        ,  0.        ,\n",
        "           0.        ,  0.        ,  0.        ,  0.        ,  0.        ,\n",
        "           0.        ,  0.        ,  0.        ,  0.        ,  0.        ,\n",
        "           0.        ,  0.        ,  0.        ,  0.        ,  0.        ,\n",
        "           0.        ,  0.        ,  0.        ,  0.        ],\n",
        "         [-0.08076859, -0.08076859,  0.47435261,  0.32307438,  0.32307438,\n",
        "           0.04103583,  0.        ,  0.        ,  0.        ,  0.        ,\n",
        "           0.        ,  0.        ,  0.        ,  0.        ,  0.        ,\n",
        "           0.        ,  0.        ,  0.        ,  0.        ,  0.        ,\n",
        "           0.        ,  0.        ,  0.        ,  0.        ,  0.        ,\n",
        "           0.        ,  0.        ,  0.        ,  0.        ],\n",
        "         [ 0.47435261, -0.08076859, -0.08076859,  0.04103583,  0.32307438,\n",
        "           0.32307438,  0.        ,  0.        ,  0.        ,  0.        ,\n",
        "           0.        ,  0.        ,  0.        ,  0.        ,  0.        ,\n",
        "           0.        ,  0.        ,  0.        ,  0.        ,  0.        ,\n",
        "           0.        ,  0.        ,  0.        ,  0.        ,  0.        ,\n",
        "           0.        ,  0.        ,  0.        ,  0.        ],\n",
        "         [-0.02807494, -0.0525839 , -0.02807494,  0.11229977,  0.88413424,\n",
        "           0.11229977,  0.        ,  0.        ,  0.        ,  0.        ,\n",
        "           0.        ,  0.        ,  0.        ,  0.        ,  0.        ,\n",
        "           0.        ,  0.        ,  0.        ,  0.        ,  0.        ,\n",
        "           0.        ,  0.        ,  0.        ,  0.        ,  0.        ,\n",
        "           0.        ,  0.        ,  0.        ,  0.        ],\n",
        "         [-0.02807494, -0.02807494, -0.0525839 ,  0.11229977,  0.11229977,\n",
        "           0.88413424,  0.        ,  0.        ,  0.        ,  0.        ,\n",
        "           0.        ,  0.        ,  0.        ,  0.        ,  0.        ,\n",
        "           0.        ,  0.        ,  0.        ,  0.        ,  0.        ,\n",
        "           0.        ,  0.        ,  0.        ,  0.        ,  0.        ,\n",
        "           0.        ,  0.        ,  0.        ,  0.        ],\n",
        "         [-0.0525839 , -0.02807494, -0.02807494,  0.88413424,  0.11229977,\n",
        "           0.11229977,  0.        ,  0.        ,  0.        ,  0.        ,\n",
        "           0.        ,  0.        ,  0.        ,  0.        ,  0.        ,\n",
        "           0.        ,  0.        ,  0.        ,  0.        ,  0.        ,\n",
        "           0.        ,  0.        ,  0.        ,  0.        ,  0.        ,\n",
        "           0.        ,  0.        ,  0.        ,  0.        ]])}\n"
       ]
      },
      {
       "output_type": "stream",
       "stream": "stderr",
       "text": [
        "DEBUG:FFC:  \n",
        "  name_map: {}\n"
       ]
      },
      {
       "output_type": "stream",
       "stream": "stderr",
       "text": [
        "DEBUG:FFC:  \n",
        "  inv_name_map: {'FE0_C5_D10': 'FE0_C5_D10', 'FE0_C1_D01': 'FE0_C1_D01', 'FE0_C3_D01': 'FE0_C3_D01', 'FE0_C5_D01': 'FE0_C5_D01', 'FE0_C3_D10': 'FE0_C3_D10', 'FE1_C0': 'FE1_C0', 'FE1_C1': 'FE1_C1', 'FE0_C0': 'FE0_C0', 'FE0_C2_D10': 'FE0_C2_D10', 'FE0_C1_D10': 'FE0_C1_D10', 'FE0_C0_D10': 'FE0_C0_D10', 'FE0_C0_D01': 'FE0_C0_D01', 'FE0_C4_D10': 'FE0_C4_D10', 'FE0_C4_D01': 'FE0_C4_D01', 'FE0_C5': 'FE0_C5', 'FE0_C4': 'FE0_C4', 'FE0_C3': 'FE0_C3', 'FE0_C2': 'FE0_C2', 'FE0_C1': 'FE0_C1', 'FE0_C2_D01': 'FE0_C2_D01'}\n"
       ]
      },
      {
       "output_type": "stream",
       "stream": "stderr",
       "text": [
        "DEBUG:FFC:  \n",
        "  QG-utils, psi_tables, unique_tables:\n",
        "  {'FE0_C5_D10': array([[ 0.        ,  0.        ,  0.        ,  0.        ,  0.        ,\n",
        "           0.        ,  0.        ,  0.        ,  0.        ,  0.        ,\n",
        "           0.        ,  0.        ,  0.        ,  0.        ,  0.        ,\n",
        "           0.        ,  0.        ,  0.        ,  0.        ,  0.        ,\n",
        "           0.        ,  0.        ,  0.        , -0.33333333,  0.33333333,\n",
        "           0.        ,  1.33333333, -1.33333333,  0.        ],\n",
        "         [ 0.        ,  0.        ,  0.        ,  0.        ,  0.        ,\n",
        "           0.        ,  0.        ,  0.        ,  0.        ,  0.        ,\n",
        "           0.        ,  0.        ,  0.        ,  0.        ,  0.        ,\n",
        "           0.        ,  0.        ,  0.        ,  0.        ,  0.        ,\n",
        "           0.        ,  0.        ,  0.        ,  0.59485397,  2.18970794,\n",
        "           0.        ,  0.40514603, -0.40514603, -2.78456191],\n",
        "         [ 0.        ,  0.        ,  0.        ,  0.        ,  0.        ,\n",
        "           0.        ,  0.        ,  0.        ,  0.        ,  0.        ,\n",
        "           0.        ,  0.        ,  0.        ,  0.        ,  0.        ,\n",
        "           0.        ,  0.        ,  0.        ,  0.        ,  0.        ,\n",
        "           0.        ,  0.        ,  0.        ,  0.59485397, -0.59485397,\n",
        "           0.        ,  3.18970794, -3.18970794,  0.        ],\n",
        "         [ 0.        ,  0.        ,  0.        ,  0.        ,  0.        ,\n",
        "           0.        ,  0.        ,  0.        ,  0.        ,  0.        ,\n",
        "           0.        ,  0.        ,  0.        ,  0.        ,  0.        ,\n",
        "           0.        ,  0.        ,  0.        ,  0.        ,  0.        ,\n",
        "           0.        ,  0.        ,  0.        , -2.18970794, -0.59485397,\n",
        "           0.        ,  0.40514603, -0.40514603,  2.78456191],\n",
        "         [ 0.        ,  0.        ,  0.        ,  0.        ,  0.        ,\n",
        "           0.        ,  0.        ,  0.        ,  0.        ,  0.        ,\n",
        "           0.        ,  0.        ,  0.        ,  0.        ,  0.        ,\n",
        "           0.        ,  0.        ,  0.        ,  0.        ,  0.        ,\n",
        "           0.        ,  0.        ,  0.        , -0.88056826, -0.76113651,\n",
        "           0.        ,  1.88056826, -1.88056826,  1.64170477],\n",
        "         [ 0.        ,  0.        ,  0.        ,  0.        ,  0.        ,\n",
        "           0.        ,  0.        ,  0.        ,  0.        ,  0.        ,\n",
        "           0.        ,  0.        ,  0.        ,  0.        ,  0.        ,\n",
        "           0.        ,  0.        ,  0.        ,  0.        ,  0.        ,\n",
        "           0.        ,  0.        ,  0.        , -0.88056826,  0.88056826,\n",
        "           0.        ,  0.23886349, -0.23886349,  0.        ],\n",
        "         [ 0.        ,  0.        ,  0.        ,  0.        ,  0.        ,\n",
        "           0.        ,  0.        ,  0.        ,  0.        ,  0.        ,\n",
        "           0.        ,  0.        ,  0.        ,  0.        ,  0.        ,\n",
        "           0.        ,  0.        ,  0.        ,  0.        ,  0.        ,\n",
        "           0.        ,  0.        ,  0.        ,  0.76113651,  0.88056826,\n",
        "           0.        ,  1.88056826, -1.88056826, -1.64170477]]), 'FE0_C4_D10': array([[  0.        ,   0.        ,   0.        ,   0.        ,\n",
        "            0.        ,   0.        ,   0.        ,   0.        ,\n",
        "            0.        ,   0.        ,   0.        ,   0.        ,\n",
        "            0.        ,   0.        ,   0.        ,   0.66666667,\n",
        "            0.33333333,  -2.        ,  -0.33333333,  -1.        ,\n",
        "            0.66666667,   2.66666667,   2.66666667,   0.        ,\n",
        "            0.        ,   0.        ,   0.        ,   0.        ,   0.        ],\n",
        "         [  0.        ,   0.        ,   0.        ,   0.        ,\n",
        "            0.        ,   0.        ,   0.        ,   0.        ,\n",
        "            0.        ,   0.        ,   0.        ,   0.        ,\n",
        "            0.        ,   0.        ,   0.        ,   4.37941588,\n",
        "           -0.59485397,   0.78456191,   0.59485397,  -3.78456191,\n",
        "            4.37941588,   6.37941588, -10.32795559,   0.        ,\n",
        "            0.        ,   0.        ,   0.        ,   0.        ,   0.        ],\n",
        "         [  0.        ,   0.        ,   0.        ,   0.        ,\n",
        "            0.        ,   0.        ,   0.        ,   0.        ,\n",
        "            0.        ,   0.        ,   0.        ,   0.        ,\n",
        "            0.        ,   0.        ,   0.        ,  -1.18970794,\n",
        "            2.18970794,  -2.        ,  -2.18970794,  -1.        ,\n",
        "           -1.18970794,   6.37941588,   6.37941588,   0.        ,\n",
        "            0.        ,   0.        ,   0.        ,   0.        ,   0.        ],\n",
        "         [  0.        ,   0.        ,   0.        ,   0.        ,\n",
        "            0.        ,   0.        ,   0.        ,   0.        ,\n",
        "            0.        ,   0.        ,   0.        ,   0.        ,\n",
        "            0.        ,   0.        ,   0.        ,  -1.18970794,\n",
        "           -0.59485397,  -4.78456191,   0.59485397,   1.78456191,\n",
        "           -1.18970794,  -4.75883177,  11.94853971,   0.        ,\n",
        "            0.        ,   0.        ,   0.        ,   0.        ,   0.        ],\n",
        "         [  0.        ,   0.        ,   0.        ,   0.        ,\n",
        "            0.        ,   0.        ,   0.        ,   0.        ,\n",
        "            0.        ,   0.        ,   0.        ,   0.        ,\n",
        "            0.        ,   0.        ,   0.        ,  -1.52227303,\n",
        "            0.88056826,  -3.64170477,  -0.88056826,   0.64170477,\n",
        "           -1.52227303,   0.47772697,  10.32795559,   0.        ,\n",
        "            0.        ,   0.        ,   0.        ,   0.        ,   0.        ],\n",
        "         [  0.        ,   0.        ,   0.        ,   0.        ,\n",
        "            0.        ,   0.        ,   0.        ,   0.        ,\n",
        "            0.        ,   0.        ,   0.        ,   0.        ,\n",
        "            0.        ,   0.        ,   0.        ,   1.76113651,\n",
        "           -0.76113651,  -2.        ,   0.76113651,  -1.        ,\n",
        "            1.76113651,   0.47772697,   0.47772697,   0.        ,\n",
        "            0.        ,   0.        ,   0.        ,   0.        ,   0.        ],\n",
        "         [  0.        ,   0.        ,   0.        ,   0.        ,\n",
        "            0.        ,   0.        ,   0.        ,   0.        ,\n",
        "            0.        ,   0.        ,   0.        ,   0.        ,\n",
        "            0.        ,   0.        ,   0.        ,   1.76113651,\n",
        "            0.88056826,  -0.35829523,  -0.88056826,  -2.64170477,\n",
        "            1.76113651,   7.04454605,  -2.80568256,   0.        ,\n",
        "            0.        ,   0.        ,   0.        ,   0.        ,   0.        ]]), 'FE0_C1_D01': array([[ 0.        ,  0.        ,  0.        ,  0.        ,  0.        ,\n",
        "           0.        , -0.33333333,  0.        ,  0.33333333,  1.33333333,\n",
        "           0.        , -1.33333333,  0.        ,  0.        ,  0.        ,\n",
        "           0.        ,  0.        ,  0.        ,  0.        ,  0.        ,\n",
        "           0.        ,  0.        ,  0.        ,  0.        ,  0.        ,\n",
        "           0.        ,  0.        ,  0.        ,  0.        ],\n",
        "         [ 0.        ,  0.        ,  0.        ,  0.        ,  0.        ,\n",
        "           0.        ,  0.59485397,  0.        , -0.59485397,  3.18970794,\n",
        "           0.        , -3.18970794,  0.        ,  0.        ,  0.        ,\n",
        "           0.        ,  0.        ,  0.        ,  0.        ,  0.        ,\n",
        "           0.        ,  0.        ,  0.        ,  0.        ,  0.        ,\n",
        "           0.        ,  0.        ,  0.        ,  0.        ],\n",
        "         [ 0.        ,  0.        ,  0.        ,  0.        ,  0.        ,\n",
        "           0.        ,  0.59485397,  0.        ,  2.18970794,  0.40514603,\n",
        "          -2.78456191, -0.40514603,  0.        ,  0.        ,  0.        ,\n",
        "           0.        ,  0.        ,  0.        ,  0.        ,  0.        ,\n",
        "           0.        ,  0.        ,  0.        ,  0.        ,  0.        ,\n",
        "           0.        ,  0.        ,  0.        ,  0.        ],\n",
        "         [ 0.        ,  0.        ,  0.        ,  0.        ,  0.        ,\n",
        "           0.        , -2.18970794,  0.        , -0.59485397,  0.40514603,\n",
        "           2.78456191, -0.40514603,  0.        ,  0.        ,  0.        ,\n",
        "           0.        ,  0.        ,  0.        ,  0.        ,  0.        ,\n",
        "           0.        ,  0.        ,  0.        ,  0.        ,  0.        ,\n",
        "           0.        ,  0.        ,  0.        ,  0.        ],\n",
        "         [ 0.        ,  0.        ,  0.        ,  0.        ,  0.        ,\n",
        "           0.        , -0.88056826,  0.        ,  0.88056826,  0.23886349,\n",
        "           0.        , -0.23886349,  0.        ,  0.        ,  0.        ,\n",
        "           0.        ,  0.        ,  0.        ,  0.        ,  0.        ,\n",
        "           0.        ,  0.        ,  0.        ,  0.        ,  0.        ,\n",
        "           0.        ,  0.        ,  0.        ,  0.        ],\n",
        "         [ 0.        ,  0.        ,  0.        ,  0.        ,  0.        ,\n",
        "           0.        , -0.88056826,  0.        , -0.76113651,  1.88056826,\n",
        "           1.64170477, -1.88056826,  0.        ,  0.        ,  0.        ,\n",
        "           0.        ,  0.        ,  0.        ,  0.        ,  0.        ,\n",
        "           0.        ,  0.        ,  0.        ,  0.        ,  0.        ,\n",
        "           0.        ,  0.        ,  0.        ,  0.        ],\n",
        "         [ 0.        ,  0.        ,  0.        ,  0.        ,  0.        ,\n",
        "           0.        ,  0.76113651,  0.        ,  0.88056826,  1.88056826,\n",
        "          -1.64170477, -1.88056826,  0.        ,  0.        ,  0.        ,\n",
        "           0.        ,  0.        ,  0.        ,  0.        ,  0.        ,\n",
        "           0.        ,  0.        ,  0.        ,  0.        ,  0.        ,\n",
        "           0.        ,  0.        ,  0.        ,  0.        ]]), 'FE0_C3_D01': array([[  0.        ,   0.        ,   0.        ,   0.        ,\n",
        "            0.        ,   0.        ,   0.        ,   0.        ,\n",
        "            0.        ,   0.        ,   0.        ,   0.        ,\n",
        "            0.        ,   0.        ,   0.        ,  -0.33333333,\n",
        "           -0.66666667,  -1.        ,   0.66666667,  -2.        ,\n",
        "           -0.33333333,   2.66666667,   2.66666667,   0.        ,\n",
        "            0.        ,   0.        ,   0.        ,   0.        ,   0.        ],\n",
        "         [  0.        ,   0.        ,   0.        ,   0.        ,\n",
        "            0.        ,   0.        ,   0.        ,   0.        ,\n",
        "            0.        ,   0.        ,   0.        ,   0.        ,\n",
        "            0.        ,   0.        ,   0.        ,  -2.18970794,\n",
        "            1.18970794,  -1.        ,  -1.18970794,  -2.        ,\n",
        "           -2.18970794,   6.37941588,   6.37941588,   0.        ,\n",
        "            0.        ,   0.        ,   0.        ,   0.        ,   0.        ],\n",
        "         [  0.        ,   0.        ,   0.        ,   0.        ,\n",
        "            0.        ,   0.        ,   0.        ,   0.        ,\n",
        "            0.        ,   0.        ,   0.        ,   0.        ,\n",
        "            0.        ,   0.        ,   0.        ,   0.59485397,\n",
        "           -4.37941588,  -3.78456191,   4.37941588,   0.78456191,\n",
        "            0.59485397, -10.32795559,   6.37941588,   0.        ,\n",
        "            0.        ,   0.        ,   0.        ,   0.        ,   0.        ],\n",
        "         [  0.        ,   0.        ,   0.        ,   0.        ,\n",
        "            0.        ,   0.        ,   0.        ,   0.        ,\n",
        "            0.        ,   0.        ,   0.        ,   0.        ,\n",
        "            0.        ,   0.        ,   0.        ,   0.59485397,\n",
        "            1.18970794,   1.78456191,  -1.18970794,  -4.78456191,\n",
        "            0.59485397,  11.94853971,  -4.75883177,   0.        ,\n",
        "            0.        ,   0.        ,   0.        ,   0.        ,   0.        ],\n",
        "         [  0.        ,   0.        ,   0.        ,   0.        ,\n",
        "            0.        ,   0.        ,   0.        ,   0.        ,\n",
        "            0.        ,   0.        ,   0.        ,   0.        ,\n",
        "            0.        ,   0.        ,   0.        ,   0.76113651,\n",
        "           -1.76113651,  -1.        ,   1.76113651,  -2.        ,\n",
        "            0.76113651,   0.47772697,   0.47772697,   0.        ,\n",
        "            0.        ,   0.        ,   0.        ,   0.        ,   0.        ],\n",
        "         [  0.        ,   0.        ,   0.        ,   0.        ,\n",
        "            0.        ,   0.        ,   0.        ,   0.        ,\n",
        "            0.        ,   0.        ,   0.        ,   0.        ,\n",
        "            0.        ,   0.        ,   0.        ,  -0.88056826,\n",
        "            1.52227303,   0.64170477,  -1.52227303,  -3.64170477,\n",
        "           -0.88056826,  10.32795559,   0.47772697,   0.        ,\n",
        "            0.        ,   0.        ,   0.        ,   0.        ,   0.        ],\n",
        "         [  0.        ,   0.        ,   0.        ,   0.        ,\n",
        "            0.        ,   0.        ,   0.        ,   0.        ,\n",
        "            0.        ,   0.        ,   0.        ,   0.        ,\n",
        "            0.        ,   0.        ,   0.        ,  -0.88056826,\n",
        "           -1.76113651,  -2.64170477,   1.76113651,  -0.35829523,\n",
        "           -0.88056826,  -2.80568256,   7.04454605,   0.        ,\n",
        "            0.        ,   0.        ,   0.        ,   0.        ,   0.        ]]), 'FE0_C3_D10': array([[  0.        ,   0.        ,   0.        ,   0.        ,\n",
        "            0.        ,   0.        ,   0.        ,   0.        ,\n",
        "            0.        ,   0.        ,   0.        ,   0.        ,\n",
        "            0.        ,   0.        ,   0.        ,  -1.33333333,\n",
        "            0.        ,  -1.33333333,   0.        ,  -1.66666667,\n",
        "            1.66666667,  -2.66666667,   5.33333333,   0.        ,\n",
        "            0.        ,   0.        ,   0.        ,   0.        ,   0.        ],\n",
        "         [  0.        ,   0.        ,   0.        ,   0.        ,\n",
        "            0.        ,   0.        ,   0.        ,   0.        ,\n",
        "            0.        ,   0.        ,   0.        ,   0.        ,\n",
        "            0.        ,   0.        ,   0.        ,  -0.40514603,\n",
        "            0.        ,  -0.40514603,   0.        ,  -2.59485397,\n",
        "            2.59485397,  -0.81029206,   1.62058412,   0.        ,\n",
        "            0.        ,   0.        ,   0.        ,   0.        ,   0.        ],\n",
        "         [  0.        ,   0.        ,   0.        ,   0.        ,\n",
        "            0.        ,   0.        ,   0.        ,   0.        ,\n",
        "            0.        ,   0.        ,   0.        ,   0.        ,\n",
        "            0.        ,   0.        ,   0.        ,  -3.18970794,\n",
        "            0.        ,  -3.18970794,   0.        ,   0.18970794,\n",
        "           -0.18970794,  -6.37941588,  12.75883177,   0.        ,\n",
        "            0.        ,   0.        ,   0.        ,   0.        ,   0.        ],\n",
        "         [  0.        ,   0.        ,   0.        ,   0.        ,\n",
        "            0.        ,   0.        ,   0.        ,   0.        ,\n",
        "            0.        ,   0.        ,   0.        ,   0.        ,\n",
        "            0.        ,   0.        ,   0.        ,  -0.40514603,\n",
        "            0.        ,  -0.40514603,   0.        ,  -2.59485397,\n",
        "            2.59485397,  -0.81029206,   1.62058412,   0.        ,\n",
        "            0.        ,   0.        ,   0.        ,   0.        ,   0.        ],\n",
        "         [  0.        ,   0.        ,   0.        ,   0.        ,\n",
        "            0.        ,   0.        ,   0.        ,   0.        ,\n",
        "            0.        ,   0.        ,   0.        ,   0.        ,\n",
        "            0.        ,   0.        ,   0.        ,  -1.88056826,\n",
        "            0.        ,  -1.88056826,   0.        ,  -1.11943174,\n",
        "            1.11943174,  -3.76113651,   7.52227303,   0.        ,\n",
        "            0.        ,   0.        ,   0.        ,   0.        ,   0.        ],\n",
        "         [  0.        ,   0.        ,   0.        ,   0.        ,\n",
        "            0.        ,   0.        ,   0.        ,   0.        ,\n",
        "            0.        ,   0.        ,   0.        ,   0.        ,\n",
        "            0.        ,   0.        ,   0.        ,  -0.23886349,\n",
        "            0.        ,  -0.23886349,   0.        ,  -2.76113651,\n",
        "            2.76113651,  -0.47772697,   0.95545395,   0.        ,\n",
        "            0.        ,   0.        ,   0.        ,   0.        ,   0.        ],\n",
        "         [  0.        ,   0.        ,   0.        ,   0.        ,\n",
        "            0.        ,   0.        ,   0.        ,   0.        ,\n",
        "            0.        ,   0.        ,   0.        ,   0.        ,\n",
        "            0.        ,   0.        ,   0.        ,  -1.88056826,\n",
        "            0.        ,  -1.88056826,   0.        ,  -1.11943174,\n",
        "            1.11943174,  -3.76113651,   7.52227303,   0.        ,\n",
        "            0.        ,   0.        ,   0.        ,   0.        ,   0.        ]]), 'FE0_C5_D01': array([[ 0.        ,  0.        ,  0.        ,  0.        ,  0.        ,\n",
        "           0.        ,  0.        ,  0.        ,  0.        ,  0.        ,\n",
        "           0.        ,  0.        ,  0.        ,  0.        ,  0.        ,\n",
        "           0.        ,  0.        ,  0.        ,  0.        ,  0.        ,\n",
        "           0.        ,  0.        ,  0.        , -0.33333333,  0.        ,\n",
        "           0.33333333,  1.33333333,  0.        , -1.33333333],\n",
        "         [ 0.        ,  0.        ,  0.        ,  0.        ,  0.        ,\n",
        "           0.        ,  0.        ,  0.        ,  0.        ,  0.        ,\n",
        "           0.        ,  0.        ,  0.        ,  0.        ,  0.        ,\n",
        "           0.        ,  0.        ,  0.        ,  0.        ,  0.        ,\n",
        "           0.        ,  0.        ,  0.        ,  0.59485397,  0.        ,\n",
        "          -0.59485397,  3.18970794,  0.        , -3.18970794],\n",
        "         [ 0.        ,  0.        ,  0.        ,  0.        ,  0.        ,\n",
        "           0.        ,  0.        ,  0.        ,  0.        ,  0.        ,\n",
        "           0.        ,  0.        ,  0.        ,  0.        ,  0.        ,\n",
        "           0.        ,  0.        ,  0.        ,  0.        ,  0.        ,\n",
        "           0.        ,  0.        ,  0.        ,  0.59485397,  0.        ,\n",
        "           2.18970794,  0.40514603, -2.78456191, -0.40514603],\n",
        "         [ 0.        ,  0.        ,  0.        ,  0.        ,  0.        ,\n",
        "           0.        ,  0.        ,  0.        ,  0.        ,  0.        ,\n",
        "           0.        ,  0.        ,  0.        ,  0.        ,  0.        ,\n",
        "           0.        ,  0.        ,  0.        ,  0.        ,  0.        ,\n",
        "           0.        ,  0.        ,  0.        , -2.18970794,  0.        ,\n",
        "          -0.59485397,  0.40514603,  2.78456191, -0.40514603],\n",
        "         [ 0.        ,  0.        ,  0.        ,  0.        ,  0.        ,\n",
        "           0.        ,  0.        ,  0.        ,  0.        ,  0.        ,\n",
        "           0.        ,  0.        ,  0.        ,  0.        ,  0.        ,\n",
        "           0.        ,  0.        ,  0.        ,  0.        ,  0.        ,\n",
        "           0.        ,  0.        ,  0.        , -0.88056826,  0.        ,\n",
        "           0.88056826,  0.23886349,  0.        , -0.23886349],\n",
        "         [ 0.        ,  0.        ,  0.        ,  0.        ,  0.        ,\n",
        "           0.        ,  0.        ,  0.        ,  0.        ,  0.        ,\n",
        "           0.        ,  0.        ,  0.        ,  0.        ,  0.        ,\n",
        "           0.        ,  0.        ,  0.        ,  0.        ,  0.        ,\n",
        "           0.        ,  0.        ,  0.        , -0.88056826,  0.        ,\n",
        "          -0.76113651,  1.88056826,  1.64170477, -1.88056826],\n",
        "         [ 0.        ,  0.        ,  0.        ,  0.        ,  0.        ,\n",
        "           0.        ,  0.        ,  0.        ,  0.        ,  0.        ,\n",
        "           0.        ,  0.        ,  0.        ,  0.        ,  0.        ,\n",
        "           0.        ,  0.        ,  0.        ,  0.        ,  0.        ,\n",
        "           0.        ,  0.        ,  0.        ,  0.76113651,  0.        ,\n",
        "           0.88056826,  1.88056826, -1.64170477, -1.88056826]]), 'FE1_C0': array([[-0.11111111111111123, 0.22222222222222249, 0.11111111111111104,\n",
        "          -0.2222222222222221, -0.11111111111111102, -0.11111111111111138,\n",
        "          2.6666666666666701, 0],\n",
        "         [-0.22178786944409243, 0.16153718838377457, -0.060250681060317966,\n",
        "          -0.16153718838377451, -0.63588979696931225, 1.170493086615169,\n",
        "          0.81029205858765296, 0.56407710100882191],\n",
        "         [0.47435260858553874, -0.9487052171710767, -0.47435260858553829,\n",
        "          0.94870521717107692, -0.22178786944409268, -0.22178786944409223,\n",
        "          1.938446260605297, 0],\n",
        "         [0.060250681060318188, 0.16153718838377434, 0.22178786944409265,\n",
        "          -0.16153718838377429, 1.1704930866151693, -0.63588979696931291,\n",
        "          1.3743691595964724, -0.56407710100882158],\n",
        "         [0.35784229121279992, 0.056149886446157982, 0.41399217765895785,\n",
        "          -0.056149886446157593, -0.0035659853436125072,\n",
        "          -0.46301009341789062, 3.7611365128409258, -1.543668937743518],\n",
        "         [-0.052583901102545391, 0.10516780220509073, 0.052583901102545252,\n",
        "          -0.10516780220509062, 0.35784229121280015, 0.35784229121279987,\n",
        "          0.67379863735389178, 0],\n",
        "         [-0.41399217765895763, 0.056149886446157787, -0.35784229121280003,\n",
        "          -0.056149886446157454, -0.46301009341789012,\n",
        "          -0.0035659853436126321, 2.2174675750974089, 1.5436689377435162]], dtype=object), 'FE1_C1': array([[-0.22222222222222221, 0.11111111111111108, -0.11111111111111124,\n",
        "          -0.11111111111111094, 0.11111111111111141, -0.22222222222222243, 0,\n",
        "          2.6666666666666692],\n",
        "         [0.94870521717107681, -0.47435260858553807, -0.22178786944409196,\n",
        "          -0.22178786944409284, -0.47435260858553802, 0.94870521717107659, 0,\n",
        "          1.9384462606052946],\n",
        "         [-0.16153718838377432, 0.22178786944409243, -0.63588979696931258,\n",
        "          1.1704930866151693, -0.060250681060318154, -0.16153718838377398,\n",
        "          0.5640771010088218, 0.81029205858765119],\n",
        "         [-0.16153718838377373, -0.060250681060318362, 1.1704930866151697,\n",
        "          -0.6358897969693128, 0.22178786944409234, -0.16153718838377398,\n",
        "          -0.56407710100882191, 1.3743691595964704],\n",
        "         [-0.10516780220509069, 0.05258390110254535, 0.35784229121279987,\n",
        "          0.35784229121279987, 0.052583901102545488, -0.1051678022050907, 0,\n",
        "          0.67379863735389156],\n",
        "         [-0.056149886446156858, -0.35784229121280015,\n",
        "          -0.0035659853436116121, -0.46301009341789068, 0.41399217765895746,\n",
        "          -0.056149886446157302, -1.5436689377435158, 3.7611365128409227],\n",
        "         [-0.05614988644615794, 0.41399217765895752, -0.46301009341789084,\n",
        "          -0.0035659853436119104, -0.35784229121279937,\n",
        "          -0.056149886446157982, 1.543668937743516, 2.2174675750974089]], dtype=object), 'FE0_C2_D10': array([[ 0.,  0.,  0.,  0.,  0.,  0.,  0.,  0.,  0.,  0.,  0.,  0., -1.,\n",
        "           1.,  0.,  0.,  0.,  0.,  0.,  0.,  0.,  0.,  0.,  0.,  0.,  0.,\n",
        "           0.,  0.,  0.],\n",
        "         [ 0.,  0.,  0.,  0.,  0.,  0.,  0.,  0.,  0.,  0.,  0.,  0., -1.,\n",
        "           1.,  0.,  0.,  0.,  0.,  0.,  0.,  0.,  0.,  0.,  0.,  0.,  0.,\n",
        "           0.,  0.,  0.],\n",
        "         [ 0.,  0.,  0.,  0.,  0.,  0.,  0.,  0.,  0.,  0.,  0.,  0., -1.,\n",
        "           1.,  0.,  0.,  0.,  0.,  0.,  0.,  0.,  0.,  0.,  0.,  0.,  0.,\n",
        "           0.,  0.,  0.],\n",
        "         [ 0.,  0.,  0.,  0.,  0.,  0.,  0.,  0.,  0.,  0.,  0.,  0., -1.,\n",
        "           1.,  0.,  0.,  0.,  0.,  0.,  0.,  0.,  0.,  0.,  0.,  0.,  0.,\n",
        "           0.,  0.,  0.],\n",
        "         [ 0.,  0.,  0.,  0.,  0.,  0.,  0.,  0.,  0.,  0.,  0.,  0., -1.,\n",
        "           1.,  0.,  0.,  0.,  0.,  0.,  0.,  0.,  0.,  0.,  0.,  0.,  0.,\n",
        "           0.,  0.,  0.],\n",
        "         [ 0.,  0.,  0.,  0.,  0.,  0.,  0.,  0.,  0.,  0.,  0.,  0., -1.,\n",
        "           1.,  0.,  0.,  0.,  0.,  0.,  0.,  0.,  0.,  0.,  0.,  0.,  0.,\n",
        "           0.,  0.,  0.],\n",
        "         [ 0.,  0.,  0.,  0.,  0.,  0.,  0.,  0.,  0.,  0.,  0.,  0., -1.,\n",
        "           1.,  0.,  0.,  0.,  0.,  0.,  0.,  0.,  0.,  0.,  0.,  0.,  0.,\n",
        "           0.,  0.,  0.]]), 'FE0_C1_D10': array([[ 0.        ,  0.        ,  0.        ,  0.        ,  0.        ,\n",
        "           0.        , -0.33333333,  0.33333333,  0.        ,  1.33333333,\n",
        "          -1.33333333,  0.        ,  0.        ,  0.        ,  0.        ,\n",
        "           0.        ,  0.        ,  0.        ,  0.        ,  0.        ,\n",
        "           0.        ,  0.        ,  0.        ,  0.        ,  0.        ,\n",
        "           0.        ,  0.        ,  0.        ,  0.        ],\n",
        "         [ 0.        ,  0.        ,  0.        ,  0.        ,  0.        ,\n",
        "           0.        ,  0.59485397,  2.18970794,  0.        ,  0.40514603,\n",
        "          -0.40514603, -2.78456191,  0.        ,  0.        ,  0.        ,\n",
        "           0.        ,  0.        ,  0.        ,  0.        ,  0.        ,\n",
        "           0.        ,  0.        ,  0.        ,  0.        ,  0.        ,\n",
        "           0.        ,  0.        ,  0.        ,  0.        ],\n",
        "         [ 0.        ,  0.        ,  0.        ,  0.        ,  0.        ,\n",
        "           0.        ,  0.59485397, -0.59485397,  0.        ,  3.18970794,\n",
        "          -3.18970794,  0.        ,  0.        ,  0.        ,  0.        ,\n",
        "           0.        ,  0.        ,  0.        ,  0.        ,  0.        ,\n",
        "           0.        ,  0.        ,  0.        ,  0.        ,  0.        ,\n",
        "           0.        ,  0.        ,  0.        ,  0.        ],\n",
        "         [ 0.        ,  0.        ,  0.        ,  0.        ,  0.        ,\n",
        "           0.        , -2.18970794, -0.59485397,  0.        ,  0.40514603,\n",
        "          -0.40514603,  2.78456191,  0.        ,  0.        ,  0.        ,\n",
        "           0.        ,  0.        ,  0.        ,  0.        ,  0.        ,\n",
        "           0.        ,  0.        ,  0.        ,  0.        ,  0.        ,\n",
        "           0.        ,  0.        ,  0.        ,  0.        ],\n",
        "         [ 0.        ,  0.        ,  0.        ,  0.        ,  0.        ,\n",
        "           0.        , -0.88056826, -0.76113651,  0.        ,  1.88056826,\n",
        "          -1.88056826,  1.64170477,  0.        ,  0.        ,  0.        ,\n",
        "           0.        ,  0.        ,  0.        ,  0.        ,  0.        ,\n",
        "           0.        ,  0.        ,  0.        ,  0.        ,  0.        ,\n",
        "           0.        ,  0.        ,  0.        ,  0.        ],\n",
        "         [ 0.        ,  0.        ,  0.        ,  0.        ,  0.        ,\n",
        "           0.        , -0.88056826,  0.88056826,  0.        ,  0.23886349,\n",
        "          -0.23886349,  0.        ,  0.        ,  0.        ,  0.        ,\n",
        "           0.        ,  0.        ,  0.        ,  0.        ,  0.        ,\n",
        "           0.        ,  0.        ,  0.        ,  0.        ,  0.        ,\n",
        "           0.        ,  0.        ,  0.        ,  0.        ],\n",
        "         [ 0.        ,  0.        ,  0.        ,  0.        ,  0.        ,\n",
        "           0.        ,  0.76113651,  0.88056826,  0.        ,  1.88056826,\n",
        "          -1.88056826, -1.64170477,  0.        ,  0.        ,  0.        ,\n",
        "           0.        ,  0.        ,  0.        ,  0.        ,  0.        ,\n",
        "           0.        ,  0.        ,  0.        ,  0.        ,  0.        ,\n",
        "           0.        ,  0.        ,  0.        ,  0.        ]]), 'FE0_C0_D10': array([[-0.33333333,  0.33333333,  0.        ,  1.33333333, -1.33333333,\n",
        "           0.        ,  0.        ,  0.        ,  0.        ,  0.        ,\n",
        "           0.        ,  0.        ,  0.        ,  0.        ,  0.        ,\n",
        "           0.        ,  0.        ,  0.        ,  0.        ,  0.        ,\n",
        "           0.        ,  0.        ,  0.        ,  0.        ,  0.        ,\n",
        "           0.        ,  0.        ,  0.        ,  0.        ],\n",
        "         [ 0.59485397,  2.18970794,  0.        ,  0.40514603, -0.40514603,\n",
        "          -2.78456191,  0.        ,  0.        ,  0.        ,  0.        ,\n",
        "           0.        ,  0.        ,  0.        ,  0.        ,  0.        ,\n",
        "           0.        ,  0.        ,  0.        ,  0.        ,  0.        ,\n",
        "           0.        ,  0.        ,  0.        ,  0.        ,  0.        ,\n",
        "           0.        ,  0.        ,  0.        ,  0.        ],\n",
        "         [ 0.59485397, -0.59485397,  0.        ,  3.18970794, -3.18970794,\n",
        "           0.        ,  0.        ,  0.        ,  0.        ,  0.        ,\n",
        "           0.        ,  0.        ,  0.        ,  0.        ,  0.        ,\n",
        "           0.        ,  0.        ,  0.        ,  0.        ,  0.        ,\n",
        "           0.        ,  0.        ,  0.        ,  0.        ,  0.        ,\n",
        "           0.        ,  0.        ,  0.        ,  0.        ],\n",
        "         [-2.18970794, -0.59485397,  0.        ,  0.40514603, -0.40514603,\n",
        "           2.78456191,  0.        ,  0.        ,  0.        ,  0.        ,\n",
        "           0.        ,  0.        ,  0.        ,  0.        ,  0.        ,\n",
        "           0.        ,  0.        ,  0.        ,  0.        ,  0.        ,\n",
        "           0.        ,  0.        ,  0.        ,  0.        ,  0.        ,\n",
        "           0.        ,  0.        ,  0.        ,  0.        ],\n",
        "         [-0.88056826, -0.76113651,  0.        ,  1.88056826, -1.88056826,\n",
        "           1.64170477,  0.        ,  0.        ,  0.        ,  0.        ,\n",
        "           0.        ,  0.        ,  0.        ,  0.        ,  0.        ,\n",
        "           0.        ,  0.        ,  0.        ,  0.        ,  0.        ,\n",
        "           0.        ,  0.        ,  0.        ,  0.        ,  0.        ,\n",
        "           0.        ,  0.        ,  0.        ,  0.        ],\n",
        "         [-0.88056826,  0.88056826,  0.        ,  0.23886349, -0.23886349,\n",
        "           0.        ,  0.        ,  0.        ,  0.        ,  0.        ,\n",
        "           0.        ,  0.        ,  0.        ,  0.        ,  0.        ,\n",
        "           0.        ,  0.        ,  0.        ,  0.        ,  0.        ,\n",
        "           0.        ,  0.        ,  0.        ,  0.        ,  0.        ,\n",
        "           0.        ,  0.        ,  0.        ,  0.        ],\n",
        "         [ 0.76113651,  0.88056826,  0.        ,  1.88056826, -1.88056826,\n",
        "          -1.64170477,  0.        ,  0.        ,  0.        ,  0.        ,\n",
        "           0.        ,  0.        ,  0.        ,  0.        ,  0.        ,\n",
        "           0.        ,  0.        ,  0.        ,  0.        ,  0.        ,\n",
        "           0.        ,  0.        ,  0.        ,  0.        ,  0.        ,\n",
        "           0.        ,  0.        ,  0.        ,  0.        ]]), 'FE0_C0_D01': array([[-0.33333333,  0.        ,  0.33333333,  1.33333333,  0.        ,\n",
        "          -1.33333333,  0.        ,  0.        ,  0.        ,  0.        ,\n",
        "           0.        ,  0.        ,  0.        ,  0.        ,  0.        ,\n",
        "           0.        ,  0.        ,  0.        ,  0.        ,  0.        ,\n",
        "           0.        ,  0.        ,  0.        ,  0.        ,  0.        ,\n",
        "           0.        ,  0.        ,  0.        ,  0.        ],\n",
        "         [ 0.59485397,  0.        , -0.59485397,  3.18970794,  0.        ,\n",
        "          -3.18970794,  0.        ,  0.        ,  0.        ,  0.        ,\n",
        "           0.        ,  0.        ,  0.        ,  0.        ,  0.        ,\n",
        "           0.        ,  0.        ,  0.        ,  0.        ,  0.        ,\n",
        "           0.        ,  0.        ,  0.        ,  0.        ,  0.        ,\n",
        "           0.        ,  0.        ,  0.        ,  0.        ],\n",
        "         [ 0.59485397,  0.        ,  2.18970794,  0.40514603, -2.78456191,\n",
        "          -0.40514603,  0.        ,  0.        ,  0.        ,  0.        ,\n",
        "           0.        ,  0.        ,  0.        ,  0.        ,  0.        ,\n",
        "           0.        ,  0.        ,  0.        ,  0.        ,  0.        ,\n",
        "           0.        ,  0.        ,  0.        ,  0.        ,  0.        ,\n",
        "           0.        ,  0.        ,  0.        ,  0.        ],\n",
        "         [-2.18970794,  0.        , -0.59485397,  0.40514603,  2.78456191,\n",
        "          -0.40514603,  0.        ,  0.        ,  0.        ,  0.        ,\n",
        "           0.        ,  0.        ,  0.        ,  0.        ,  0.        ,\n",
        "           0.        ,  0.        ,  0.        ,  0.        ,  0.        ,\n",
        "           0.        ,  0.        ,  0.        ,  0.        ,  0.        ,\n",
        "           0.        ,  0.        ,  0.        ,  0.        ],\n",
        "         [-0.88056826,  0.        ,  0.88056826,  0.23886349,  0.        ,\n",
        "          -0.23886349,  0.        ,  0.        ,  0.        ,  0.        ,\n",
        "           0.        ,  0.        ,  0.        ,  0.        ,  0.        ,\n",
        "           0.        ,  0.        ,  0.        ,  0.        ,  0.        ,\n",
        "           0.        ,  0.        ,  0.        ,  0.        ,  0.        ,\n",
        "           0.        ,  0.        ,  0.        ,  0.        ],\n",
        "         [-0.88056826,  0.        , -0.76113651,  1.88056826,  1.64170477,\n",
        "          -1.88056826,  0.        ,  0.        ,  0.        ,  0.        ,\n",
        "           0.        ,  0.        ,  0.        ,  0.        ,  0.        ,\n",
        "           0.        ,  0.        ,  0.        ,  0.        ,  0.        ,\n",
        "           0.        ,  0.        ,  0.        ,  0.        ,  0.        ,\n",
        "           0.        ,  0.        ,  0.        ,  0.        ],\n",
        "         [ 0.76113651,  0.        ,  0.88056826,  1.88056826, -1.64170477,\n",
        "          -1.88056826,  0.        ,  0.        ,  0.        ,  0.        ,\n",
        "           0.        ,  0.        ,  0.        ,  0.        ,  0.        ,\n",
        "           0.        ,  0.        ,  0.        ,  0.        ,  0.        ,\n",
        "           0.        ,  0.        ,  0.        ,  0.        ,  0.        ,\n",
        "           0.        ,  0.        ,  0.        ,  0.        ]]), 'FE0_C2_D01': array([[ 0.,  0.,  0.,  0.,  0.,  0.,  0.,  0.,  0.,  0.,  0.,  0., -1.,\n",
        "           0.,  1.,  0.,  0.,  0.,  0.,  0.,  0.,  0.,  0.,  0.,  0.,  0.,\n",
        "           0.,  0.,  0.],\n",
        "         [ 0.,  0.,  0.,  0.,  0.,  0.,  0.,  0.,  0.,  0.,  0.,  0., -1.,\n",
        "           0.,  1.,  0.,  0.,  0.,  0.,  0.,  0.,  0.,  0.,  0.,  0.,  0.,\n",
        "           0.,  0.,  0.],\n",
        "         [ 0.,  0.,  0.,  0.,  0.,  0.,  0.,  0.,  0.,  0.,  0.,  0., -1.,\n",
        "           0.,  1.,  0.,  0.,  0.,  0.,  0.,  0.,  0.,  0.,  0.,  0.,  0.,\n",
        "           0.,  0.,  0.],\n",
        "         [ 0.,  0.,  0.,  0.,  0.,  0.,  0.,  0.,  0.,  0.,  0.,  0., -1.,\n",
        "           0.,  1.,  0.,  0.,  0.,  0.,  0.,  0.,  0.,  0.,  0.,  0.,  0.,\n",
        "           0.,  0.,  0.],\n",
        "         [ 0.,  0.,  0.,  0.,  0.,  0.,  0.,  0.,  0.,  0.,  0.,  0., -1.,\n",
        "           0.,  1.,  0.,  0.,  0.,  0.,  0.,  0.,  0.,  0.,  0.,  0.,  0.,\n",
        "           0.,  0.,  0.],\n",
        "         [ 0.,  0.,  0.,  0.,  0.,  0.,  0.,  0.,  0.,  0.,  0.,  0., -1.,\n",
        "           0.,  1.,  0.,  0.,  0.,  0.,  0.,  0.,  0.,  0.,  0.,  0.,  0.,\n",
        "           0.,  0.,  0.],\n",
        "         [ 0.,  0.,  0.,  0.,  0.,  0.,  0.,  0.,  0.,  0.,  0.,  0., -1.,\n",
        "           0.,  1.,  0.,  0.,  0.,  0.,  0.,  0.,  0.,  0.,  0.,  0.,  0.,\n",
        "           0.,  0.,  0.]]), 'FE0_C4_D01': array([[  0.        ,   0.        ,   0.        ,   0.        ,\n",
        "            0.        ,   0.        ,   0.        ,   0.        ,\n",
        "            0.        ,   0.        ,   0.        ,   0.        ,\n",
        "            0.        ,   0.        ,   0.        ,   0.        ,\n",
        "            1.33333333,  -1.66666667,   1.66666667,  -1.33333333,\n",
        "            0.        ,   5.33333333,  -2.66666667,   0.        ,\n",
        "            0.        ,   0.        ,   0.        ,   0.        ,   0.        ],\n",
        "         [  0.        ,   0.        ,   0.        ,   0.        ,\n",
        "            0.        ,   0.        ,   0.        ,   0.        ,\n",
        "            0.        ,   0.        ,   0.        ,   0.        ,\n",
        "            0.        ,   0.        ,   0.        ,   0.        ,\n",
        "            3.18970794,   0.18970794,  -0.18970794,  -3.18970794,\n",
        "            0.        ,  12.75883177,  -6.37941588,   0.        ,\n",
        "            0.        ,   0.        ,   0.        ,   0.        ,   0.        ],\n",
        "         [  0.        ,   0.        ,   0.        ,   0.        ,\n",
        "            0.        ,   0.        ,   0.        ,   0.        ,\n",
        "            0.        ,   0.        ,   0.        ,   0.        ,\n",
        "            0.        ,   0.        ,   0.        ,   0.        ,\n",
        "            0.40514603,  -2.59485397,   2.59485397,  -0.40514603,\n",
        "            0.        ,   1.62058412,  -0.81029206,   0.        ,\n",
        "            0.        ,   0.        ,   0.        ,   0.        ,   0.        ],\n",
        "         [  0.        ,   0.        ,   0.        ,   0.        ,\n",
        "            0.        ,   0.        ,   0.        ,   0.        ,\n",
        "            0.        ,   0.        ,   0.        ,   0.        ,\n",
        "            0.        ,   0.        ,   0.        ,   0.        ,\n",
        "            0.40514603,  -2.59485397,   2.59485397,  -0.40514603,\n",
        "            0.        ,   1.62058412,  -0.81029206,   0.        ,\n",
        "            0.        ,   0.        ,   0.        ,   0.        ,   0.        ],\n",
        "         [  0.        ,   0.        ,   0.        ,   0.        ,\n",
        "            0.        ,   0.        ,   0.        ,   0.        ,\n",
        "            0.        ,   0.        ,   0.        ,   0.        ,\n",
        "            0.        ,   0.        ,   0.        ,   0.        ,\n",
        "            0.23886349,  -2.76113651,   2.76113651,  -0.23886349,\n",
        "            0.        ,   0.95545395,  -0.47772697,   0.        ,\n",
        "            0.        ,   0.        ,   0.        ,   0.        ,   0.        ],\n",
        "         [  0.        ,   0.        ,   0.        ,   0.        ,\n",
        "            0.        ,   0.        ,   0.        ,   0.        ,\n",
        "            0.        ,   0.        ,   0.        ,   0.        ,\n",
        "            0.        ,   0.        ,   0.        ,   0.        ,\n",
        "            1.88056826,  -1.11943174,   1.11943174,  -1.88056826,\n",
        "            0.        ,   7.52227303,  -3.76113651,   0.        ,\n",
        "            0.        ,   0.        ,   0.        ,   0.        ,   0.        ],\n",
        "         [  0.        ,   0.        ,   0.        ,   0.        ,\n",
        "            0.        ,   0.        ,   0.        ,   0.        ,\n",
        "            0.        ,   0.        ,   0.        ,   0.        ,\n",
        "            0.        ,   0.        ,   0.        ,   0.        ,\n",
        "            1.88056826,  -1.11943174,   1.11943174,  -1.88056826,\n",
        "            0.        ,   7.52227303,  -3.76113651,   0.        ,\n",
        "            0.        ,   0.        ,   0.        ,   0.        ,   0.        ]]), 'FE0_C5': array([[ 0.        ,  0.        ,  0.        ,  0.        ,  0.        ,\n",
        "           0.        ,  0.        ,  0.        ,  0.        ,  0.        ,\n",
        "           0.        ,  0.        ,  0.        ,  0.        ,  0.        ,\n",
        "           0.        ,  0.        ,  0.        ,  0.        ,  0.        ,\n",
        "           0.        ,  0.        ,  0.        , -0.11111111, -0.11111111,\n",
        "          -0.11111111,  0.44444444,  0.44444444,  0.44444444],\n",
        "         [ 0.        ,  0.        ,  0.        ,  0.        ,  0.        ,\n",
        "           0.        ,  0.        ,  0.        ,  0.        ,  0.        ,\n",
        "           0.        ,  0.        ,  0.        ,  0.        ,  0.        ,\n",
        "           0.        ,  0.        ,  0.        ,  0.        ,  0.        ,\n",
        "           0.        ,  0.        ,  0.        , -0.08076859,  0.47435261,\n",
        "          -0.08076859,  0.32307438,  0.04103583,  0.32307438],\n",
        "         [ 0.        ,  0.        ,  0.        ,  0.        ,  0.        ,\n",
        "           0.        ,  0.        ,  0.        ,  0.        ,  0.        ,\n",
        "           0.        ,  0.        ,  0.        ,  0.        ,  0.        ,\n",
        "           0.        ,  0.        ,  0.        ,  0.        ,  0.        ,\n",
        "           0.        ,  0.        ,  0.        , -0.08076859, -0.08076859,\n",
        "           0.47435261,  0.32307438,  0.32307438,  0.04103583],\n",
        "         [ 0.        ,  0.        ,  0.        ,  0.        ,  0.        ,\n",
        "           0.        ,  0.        ,  0.        ,  0.        ,  0.        ,\n",
        "           0.        ,  0.        ,  0.        ,  0.        ,  0.        ,\n",
        "           0.        ,  0.        ,  0.        ,  0.        ,  0.        ,\n",
        "           0.        ,  0.        ,  0.        ,  0.47435261, -0.08076859,\n",
        "          -0.08076859,  0.04103583,  0.32307438,  0.32307438],\n",
        "         [ 0.        ,  0.        ,  0.        ,  0.        ,  0.        ,\n",
        "           0.        ,  0.        ,  0.        ,  0.        ,  0.        ,\n",
        "           0.        ,  0.        ,  0.        ,  0.        ,  0.        ,\n",
        "           0.        ,  0.        ,  0.        ,  0.        ,  0.        ,\n",
        "           0.        ,  0.        ,  0.        , -0.02807494, -0.0525839 ,\n",
        "          -0.02807494,  0.11229977,  0.88413424,  0.11229977],\n",
        "         [ 0.        ,  0.        ,  0.        ,  0.        ,  0.        ,\n",
        "           0.        ,  0.        ,  0.        ,  0.        ,  0.        ,\n",
        "           0.        ,  0.        ,  0.        ,  0.        ,  0.        ,\n",
        "           0.        ,  0.        ,  0.        ,  0.        ,  0.        ,\n",
        "           0.        ,  0.        ,  0.        , -0.02807494, -0.02807494,\n",
        "          -0.0525839 ,  0.11229977,  0.11229977,  0.88413424],\n",
        "         [ 0.        ,  0.        ,  0.        ,  0.        ,  0.        ,\n",
        "           0.        ,  0.        ,  0.        ,  0.        ,  0.        ,\n",
        "           0.        ,  0.        ,  0.        ,  0.        ,  0.        ,\n",
        "           0.        ,  0.        ,  0.        ,  0.        ,  0.        ,\n",
        "           0.        ,  0.        ,  0.        , -0.0525839 , -0.02807494,\n",
        "          -0.02807494,  0.88413424,  0.11229977,  0.11229977]]), 'FE0_C4': array([[  0.00000000e+00,   0.00000000e+00,   0.00000000e+00,\n",
        "            0.00000000e+00,   0.00000000e+00,   0.00000000e+00,\n",
        "            0.00000000e+00,   0.00000000e+00,   0.00000000e+00,\n",
        "            0.00000000e+00,   0.00000000e+00,   0.00000000e+00,\n",
        "            0.00000000e+00,   0.00000000e+00,   0.00000000e+00,\n",
        "           -2.22222222e-01,   1.11111111e-01,  -1.11111111e-01,\n",
        "           -1.11111111e-01,   1.11111111e-01,  -2.22222222e-01,\n",
        "            0.00000000e+00,   2.66666667e+00,   0.00000000e+00,\n",
        "            0.00000000e+00,   0.00000000e+00,   0.00000000e+00,\n",
        "            0.00000000e+00,   0.00000000e+00],\n",
        "         [  0.00000000e+00,   0.00000000e+00,   0.00000000e+00,\n",
        "            0.00000000e+00,   0.00000000e+00,   0.00000000e+00,\n",
        "            0.00000000e+00,   0.00000000e+00,   0.00000000e+00,\n",
        "            0.00000000e+00,   0.00000000e+00,   0.00000000e+00,\n",
        "            0.00000000e+00,   0.00000000e+00,   0.00000000e+00,\n",
        "            9.48705217e-01,  -4.74352609e-01,  -2.21787869e-01,\n",
        "           -2.21787869e-01,  -4.74352609e-01,   9.48705217e-01,\n",
        "            0.00000000e+00,   1.93844626e+00,   0.00000000e+00,\n",
        "            0.00000000e+00,   0.00000000e+00,   0.00000000e+00,\n",
        "            0.00000000e+00,   0.00000000e+00],\n",
        "         [  0.00000000e+00,   0.00000000e+00,   0.00000000e+00,\n",
        "            0.00000000e+00,   0.00000000e+00,   0.00000000e+00,\n",
        "            0.00000000e+00,   0.00000000e+00,   0.00000000e+00,\n",
        "            0.00000000e+00,   0.00000000e+00,   0.00000000e+00,\n",
        "            0.00000000e+00,   0.00000000e+00,   0.00000000e+00,\n",
        "           -1.61537188e-01,   2.21787869e-01,  -6.35889797e-01,\n",
        "            1.17049309e+00,  -6.02506811e-02,  -1.61537188e-01,\n",
        "            5.64077101e-01,   8.10292059e-01,   0.00000000e+00,\n",
        "            0.00000000e+00,   0.00000000e+00,   0.00000000e+00,\n",
        "            0.00000000e+00,   0.00000000e+00],\n",
        "         [  0.00000000e+00,   0.00000000e+00,   0.00000000e+00,\n",
        "            0.00000000e+00,   0.00000000e+00,   0.00000000e+00,\n",
        "            0.00000000e+00,   0.00000000e+00,   0.00000000e+00,\n",
        "            0.00000000e+00,   0.00000000e+00,   0.00000000e+00,\n",
        "            0.00000000e+00,   0.00000000e+00,   0.00000000e+00,\n",
        "           -1.61537188e-01,  -6.02506811e-02,   1.17049309e+00,\n",
        "           -6.35889797e-01,   2.21787869e-01,  -1.61537188e-01,\n",
        "           -5.64077101e-01,   1.37436916e+00,   0.00000000e+00,\n",
        "            0.00000000e+00,   0.00000000e+00,   0.00000000e+00,\n",
        "            0.00000000e+00,   0.00000000e+00],\n",
        "         [  0.00000000e+00,   0.00000000e+00,   0.00000000e+00,\n",
        "            0.00000000e+00,   0.00000000e+00,   0.00000000e+00,\n",
        "            0.00000000e+00,   0.00000000e+00,   0.00000000e+00,\n",
        "            0.00000000e+00,   0.00000000e+00,   0.00000000e+00,\n",
        "            0.00000000e+00,   0.00000000e+00,   0.00000000e+00,\n",
        "           -1.05167802e-01,   5.25839011e-02,   3.57842291e-01,\n",
        "            3.57842291e-01,   5.25839011e-02,  -1.05167802e-01,\n",
        "            0.00000000e+00,   6.73798637e-01,   0.00000000e+00,\n",
        "            0.00000000e+00,   0.00000000e+00,   0.00000000e+00,\n",
        "            0.00000000e+00,   0.00000000e+00],\n",
        "         [  0.00000000e+00,   0.00000000e+00,   0.00000000e+00,\n",
        "            0.00000000e+00,   0.00000000e+00,   0.00000000e+00,\n",
        "            0.00000000e+00,   0.00000000e+00,   0.00000000e+00,\n",
        "            0.00000000e+00,   0.00000000e+00,   0.00000000e+00,\n",
        "            0.00000000e+00,   0.00000000e+00,   0.00000000e+00,\n",
        "           -5.61498864e-02,  -3.57842291e-01,  -3.56598534e-03,\n",
        "           -4.63010093e-01,   4.13992178e-01,  -5.61498864e-02,\n",
        "           -1.54366894e+00,   3.76113651e+00,   0.00000000e+00,\n",
        "            0.00000000e+00,   0.00000000e+00,   0.00000000e+00,\n",
        "            0.00000000e+00,   0.00000000e+00],\n",
        "         [  0.00000000e+00,   0.00000000e+00,   0.00000000e+00,\n",
        "            0.00000000e+00,   0.00000000e+00,   0.00000000e+00,\n",
        "            0.00000000e+00,   0.00000000e+00,   0.00000000e+00,\n",
        "            0.00000000e+00,   0.00000000e+00,   0.00000000e+00,\n",
        "            0.00000000e+00,   0.00000000e+00,   0.00000000e+00,\n",
        "           -5.61498864e-02,   4.13992178e-01,  -4.63010093e-01,\n",
        "           -3.56598534e-03,  -3.57842291e-01,  -5.61498864e-02,\n",
        "            1.54366894e+00,   2.21746758e+00,   0.00000000e+00,\n",
        "            0.00000000e+00,   0.00000000e+00,   0.00000000e+00,\n",
        "            0.00000000e+00,   0.00000000e+00]]), 'FE0_C3': array([[  0.00000000e+00,   0.00000000e+00,   0.00000000e+00,\n",
        "            0.00000000e+00,   0.00000000e+00,   0.00000000e+00,\n",
        "            0.00000000e+00,   0.00000000e+00,   0.00000000e+00,\n",
        "            0.00000000e+00,   0.00000000e+00,   0.00000000e+00,\n",
        "            0.00000000e+00,   0.00000000e+00,   0.00000000e+00,\n",
        "           -1.11111111e-01,   2.22222222e-01,   1.11111111e-01,\n",
        "           -2.22222222e-01,  -1.11111111e-01,  -1.11111111e-01,\n",
        "            2.66666667e+00,   0.00000000e+00,   0.00000000e+00,\n",
        "            0.00000000e+00,   0.00000000e+00,   0.00000000e+00,\n",
        "            0.00000000e+00,   0.00000000e+00],\n",
        "         [  0.00000000e+00,   0.00000000e+00,   0.00000000e+00,\n",
        "            0.00000000e+00,   0.00000000e+00,   0.00000000e+00,\n",
        "            0.00000000e+00,   0.00000000e+00,   0.00000000e+00,\n",
        "            0.00000000e+00,   0.00000000e+00,   0.00000000e+00,\n",
        "            0.00000000e+00,   0.00000000e+00,   0.00000000e+00,\n",
        "           -2.21787869e-01,   1.61537188e-01,  -6.02506811e-02,\n",
        "           -1.61537188e-01,  -6.35889797e-01,   1.17049309e+00,\n",
        "            8.10292059e-01,   5.64077101e-01,   0.00000000e+00,\n",
        "            0.00000000e+00,   0.00000000e+00,   0.00000000e+00,\n",
        "            0.00000000e+00,   0.00000000e+00],\n",
        "         [  0.00000000e+00,   0.00000000e+00,   0.00000000e+00,\n",
        "            0.00000000e+00,   0.00000000e+00,   0.00000000e+00,\n",
        "            0.00000000e+00,   0.00000000e+00,   0.00000000e+00,\n",
        "            0.00000000e+00,   0.00000000e+00,   0.00000000e+00,\n",
        "            0.00000000e+00,   0.00000000e+00,   0.00000000e+00,\n",
        "            4.74352609e-01,  -9.48705217e-01,  -4.74352609e-01,\n",
        "            9.48705217e-01,  -2.21787869e-01,  -2.21787869e-01,\n",
        "            1.93844626e+00,   0.00000000e+00,   0.00000000e+00,\n",
        "            0.00000000e+00,   0.00000000e+00,   0.00000000e+00,\n",
        "            0.00000000e+00,   0.00000000e+00],\n",
        "         [  0.00000000e+00,   0.00000000e+00,   0.00000000e+00,\n",
        "            0.00000000e+00,   0.00000000e+00,   0.00000000e+00,\n",
        "            0.00000000e+00,   0.00000000e+00,   0.00000000e+00,\n",
        "            0.00000000e+00,   0.00000000e+00,   0.00000000e+00,\n",
        "            0.00000000e+00,   0.00000000e+00,   0.00000000e+00,\n",
        "            6.02506811e-02,   1.61537188e-01,   2.21787869e-01,\n",
        "           -1.61537188e-01,   1.17049309e+00,  -6.35889797e-01,\n",
        "            1.37436916e+00,  -5.64077101e-01,   0.00000000e+00,\n",
        "            0.00000000e+00,   0.00000000e+00,   0.00000000e+00,\n",
        "            0.00000000e+00,   0.00000000e+00],\n",
        "         [  0.00000000e+00,   0.00000000e+00,   0.00000000e+00,\n",
        "            0.00000000e+00,   0.00000000e+00,   0.00000000e+00,\n",
        "            0.00000000e+00,   0.00000000e+00,   0.00000000e+00,\n",
        "            0.00000000e+00,   0.00000000e+00,   0.00000000e+00,\n",
        "            0.00000000e+00,   0.00000000e+00,   0.00000000e+00,\n",
        "            3.57842291e-01,   5.61498864e-02,   4.13992178e-01,\n",
        "           -5.61498864e-02,  -3.56598534e-03,  -4.63010093e-01,\n",
        "            3.76113651e+00,  -1.54366894e+00,   0.00000000e+00,\n",
        "            0.00000000e+00,   0.00000000e+00,   0.00000000e+00,\n",
        "            0.00000000e+00,   0.00000000e+00],\n",
        "         [  0.00000000e+00,   0.00000000e+00,   0.00000000e+00,\n",
        "            0.00000000e+00,   0.00000000e+00,   0.00000000e+00,\n",
        "            0.00000000e+00,   0.00000000e+00,   0.00000000e+00,\n",
        "            0.00000000e+00,   0.00000000e+00,   0.00000000e+00,\n",
        "            0.00000000e+00,   0.00000000e+00,   0.00000000e+00,\n",
        "           -5.25839011e-02,   1.05167802e-01,   5.25839011e-02,\n",
        "           -1.05167802e-01,   3.57842291e-01,   3.57842291e-01,\n",
        "            6.73798637e-01,   0.00000000e+00,   0.00000000e+00,\n",
        "            0.00000000e+00,   0.00000000e+00,   0.00000000e+00,\n",
        "            0.00000000e+00,   0.00000000e+00],\n",
        "         [  0.00000000e+00,   0.00000000e+00,   0.00000000e+00,\n",
        "            0.00000000e+00,   0.00000000e+00,   0.00000000e+00,\n",
        "            0.00000000e+00,   0.00000000e+00,   0.00000000e+00,\n",
        "            0.00000000e+00,   0.00000000e+00,   0.00000000e+00,\n",
        "            0.00000000e+00,   0.00000000e+00,   0.00000000e+00,\n",
        "           -4.13992178e-01,   5.61498864e-02,  -3.57842291e-01,\n",
        "           -5.61498864e-02,  -4.63010093e-01,  -3.56598534e-03,\n",
        "            2.21746758e+00,   1.54366894e+00,   0.00000000e+00,\n",
        "            0.00000000e+00,   0.00000000e+00,   0.00000000e+00,\n",
        "            0.00000000e+00,   0.00000000e+00]]), 'FE0_C2': array([[ 0.        ,  0.        ,  0.        ,  0.        ,  0.        ,\n",
        "           0.        ,  0.        ,  0.        ,  0.        ,  0.        ,\n",
        "           0.        ,  0.        ,  0.33333333,  0.33333333,  0.33333333,\n",
        "           0.        ,  0.        ,  0.        ,  0.        ,  0.        ,\n",
        "           0.        ,  0.        ,  0.        ,  0.        ,  0.        ,\n",
        "           0.        ,  0.        ,  0.        ,  0.        ],\n",
        "         [ 0.        ,  0.        ,  0.        ,  0.        ,  0.        ,\n",
        "           0.        ,  0.        ,  0.        ,  0.        ,  0.        ,\n",
        "           0.        ,  0.        ,  0.10128651,  0.79742699,  0.10128651,\n",
        "           0.        ,  0.        ,  0.        ,  0.        ,  0.        ,\n",
        "           0.        ,  0.        ,  0.        ,  0.        ,  0.        ,\n",
        "           0.        ,  0.        ,  0.        ,  0.        ],\n",
        "         [ 0.        ,  0.        ,  0.        ,  0.        ,  0.        ,\n",
        "           0.        ,  0.        ,  0.        ,  0.        ,  0.        ,\n",
        "           0.        ,  0.        ,  0.10128651,  0.10128651,  0.79742699,\n",
        "           0.        ,  0.        ,  0.        ,  0.        ,  0.        ,\n",
        "           0.        ,  0.        ,  0.        ,  0.        ,  0.        ,\n",
        "           0.        ,  0.        ,  0.        ,  0.        ],\n",
        "         [ 0.        ,  0.        ,  0.        ,  0.        ,  0.        ,\n",
        "           0.        ,  0.        ,  0.        ,  0.        ,  0.        ,\n",
        "           0.        ,  0.        ,  0.79742699,  0.10128651,  0.10128651,\n",
        "           0.        ,  0.        ,  0.        ,  0.        ,  0.        ,\n",
        "           0.        ,  0.        ,  0.        ,  0.        ,  0.        ,\n",
        "           0.        ,  0.        ,  0.        ,  0.        ],\n",
        "         [ 0.        ,  0.        ,  0.        ,  0.        ,  0.        ,\n",
        "           0.        ,  0.        ,  0.        ,  0.        ,  0.        ,\n",
        "           0.        ,  0.        ,  0.47014206,  0.05971587,  0.47014206,\n",
        "           0.        ,  0.        ,  0.        ,  0.        ,  0.        ,\n",
        "           0.        ,  0.        ,  0.        ,  0.        ,  0.        ,\n",
        "           0.        ,  0.        ,  0.        ,  0.        ],\n",
        "         [ 0.        ,  0.        ,  0.        ,  0.        ,  0.        ,\n",
        "           0.        ,  0.        ,  0.        ,  0.        ,  0.        ,\n",
        "           0.        ,  0.        ,  0.47014206,  0.47014206,  0.05971587,\n",
        "           0.        ,  0.        ,  0.        ,  0.        ,  0.        ,\n",
        "           0.        ,  0.        ,  0.        ,  0.        ,  0.        ,\n",
        "           0.        ,  0.        ,  0.        ,  0.        ],\n",
        "         [ 0.        ,  0.        ,  0.        ,  0.        ,  0.        ,\n",
        "           0.        ,  0.        ,  0.        ,  0.        ,  0.        ,\n",
        "           0.        ,  0.        ,  0.05971587,  0.47014206,  0.47014206,\n",
        "           0.        ,  0.        ,  0.        ,  0.        ,  0.        ,\n",
        "           0.        ,  0.        ,  0.        ,  0.        ,  0.        ,\n",
        "           0.        ,  0.        ,  0.        ,  0.        ]]), 'FE0_C1': array([[ 0.        ,  0.        ,  0.        ,  0.        ,  0.        ,\n",
        "           0.        , -0.11111111, -0.11111111, -0.11111111,  0.44444444,\n",
        "           0.44444444,  0.44444444,  0.        ,  0.        ,  0.        ,\n",
        "           0.        ,  0.        ,  0.        ,  0.        ,  0.        ,\n",
        "           0.        ,  0.        ,  0.        ,  0.        ,  0.        ,\n",
        "           0.        ,  0.        ,  0.        ,  0.        ],\n",
        "         [ 0.        ,  0.        ,  0.        ,  0.        ,  0.        ,\n",
        "           0.        , -0.08076859,  0.47435261, -0.08076859,  0.32307438,\n",
        "           0.04103583,  0.32307438,  0.        ,  0.        ,  0.        ,\n",
        "           0.        ,  0.        ,  0.        ,  0.        ,  0.        ,\n",
        "           0.        ,  0.        ,  0.        ,  0.        ,  0.        ,\n",
        "           0.        ,  0.        ,  0.        ,  0.        ],\n",
        "         [ 0.        ,  0.        ,  0.        ,  0.        ,  0.        ,\n",
        "           0.        , -0.08076859, -0.08076859,  0.47435261,  0.32307438,\n",
        "           0.32307438,  0.04103583,  0.        ,  0.        ,  0.        ,\n",
        "           0.        ,  0.        ,  0.        ,  0.        ,  0.        ,\n",
        "           0.        ,  0.        ,  0.        ,  0.        ,  0.        ,\n",
        "           0.        ,  0.        ,  0.        ,  0.        ],\n",
        "         [ 0.        ,  0.        ,  0.        ,  0.        ,  0.        ,\n",
        "           0.        ,  0.47435261, -0.08076859, -0.08076859,  0.04103583,\n",
        "           0.32307438,  0.32307438,  0.        ,  0.        ,  0.        ,\n",
        "           0.        ,  0.        ,  0.        ,  0.        ,  0.        ,\n",
        "           0.        ,  0.        ,  0.        ,  0.        ,  0.        ,\n",
        "           0.        ,  0.        ,  0.        ,  0.        ],\n",
        "         [ 0.        ,  0.        ,  0.        ,  0.        ,  0.        ,\n",
        "           0.        , -0.02807494, -0.0525839 , -0.02807494,  0.11229977,\n",
        "           0.88413424,  0.11229977,  0.        ,  0.        ,  0.        ,\n",
        "           0.        ,  0.        ,  0.        ,  0.        ,  0.        ,\n",
        "           0.        ,  0.        ,  0.        ,  0.        ,  0.        ,\n",
        "           0.        ,  0.        ,  0.        ,  0.        ],\n",
        "         [ 0.        ,  0.        ,  0.        ,  0.        ,  0.        ,\n",
        "           0.        , -0.02807494, -0.02807494, -0.0525839 ,  0.11229977,\n",
        "           0.11229977,  0.88413424,  0.        ,  0.        ,  0.        ,\n",
        "           0.        ,  0.        ,  0.        ,  0.        ,  0.        ,\n",
        "           0.        ,  0.        ,  0.        ,  0.        ,  0.        ,\n",
        "           0.        ,  0.        ,  0.        ,  0.        ],\n",
        "         [ 0.        ,  0.        ,  0.        ,  0.        ,  0.        ,\n",
        "           0.        , -0.0525839 , -0.02807494, -0.02807494,  0.88413424,\n",
        "           0.11229977,  0.11229977,  0.        ,  0.        ,  0.        ,\n",
        "           0.        ,  0.        ,  0.        ,  0.        ,  0.        ,\n",
        "           0.        ,  0.        ,  0.        ,  0.        ,  0.        ,\n",
        "           0.        ,  0.        ,  0.        ,  0.        ]]), 'FE0_C0': array([[-0.11111111, -0.11111111, -0.11111111,  0.44444444,  0.44444444,\n",
        "           0.44444444,  0.        ,  0.        ,  0.        ,  0.        ,\n",
        "           0.        ,  0.        ,  0.        ,  0.        ,  0.        ,\n",
        "           0.        ,  0.        ,  0.        ,  0.        ,  0.        ,\n",
        "           0.        ,  0.        ,  0.        ,  0.        ,  0.        ,\n",
        "           0.        ,  0.        ,  0.        ,  0.        ],\n",
        "         [-0.08076859,  0.47435261, -0.08076859,  0.32307438,  0.04103583,\n",
        "           0.32307438,  0.        ,  0.        ,  0.        ,  0.        ,\n",
        "           0.        ,  0.        ,  0.        ,  0.        ,  0.        ,\n",
        "           0.        ,  0.        ,  0.        ,  0.        ,  0.        ,\n",
        "           0.        ,  0.        ,  0.        ,  0.        ,  0.        ,\n",
        "           0.        ,  0.        ,  0.        ,  0.        ],\n",
        "         [-0.08076859, -0.08076859,  0.47435261,  0.32307438,  0.32307438,\n",
        "           0.04103583,  0.        ,  0.        ,  0.        ,  0.        ,\n",
        "           0.        ,  0.        ,  0.        ,  0.        ,  0.        ,\n",
        "           0.        ,  0.        ,  0.        ,  0.        ,  0.        ,\n",
        "           0.        ,  0.        ,  0.        ,  0.        ,  0.        ,\n",
        "           0.        ,  0.        ,  0.        ,  0.        ],\n",
        "         [ 0.47435261, -0.08076859, -0.08076859,  0.04103583,  0.32307438,\n",
        "           0.32307438,  0.        ,  0.        ,  0.        ,  0.        ,\n",
        "           0.        ,  0.        ,  0.        ,  0.        ,  0.        ,\n",
        "           0.        ,  0.        ,  0.        ,  0.        ,  0.        ,\n",
        "           0.        ,  0.        ,  0.        ,  0.        ,  0.        ,\n",
        "           0.        ,  0.        ,  0.        ,  0.        ],\n",
        "         [-0.02807494, -0.0525839 , -0.02807494,  0.11229977,  0.88413424,\n",
        "           0.11229977,  0.        ,  0.        ,  0.        ,  0.        ,\n",
        "           0.        ,  0.        ,  0.        ,  0.        ,  0.        ,\n",
        "           0.        ,  0.        ,  0.        ,  0.        ,  0.        ,\n",
        "           0.        ,  0.        ,  0.        ,  0.        ,  0.        ,\n",
        "           0.        ,  0.        ,  0.        ,  0.        ],\n",
        "         [-0.02807494, -0.02807494, -0.0525839 ,  0.11229977,  0.11229977,\n",
        "           0.88413424,  0.        ,  0.        ,  0.        ,  0.        ,\n",
        "           0.        ,  0.        ,  0.        ,  0.        ,  0.        ,\n",
        "           0.        ,  0.        ,  0.        ,  0.        ,  0.        ,\n",
        "           0.        ,  0.        ,  0.        ,  0.        ,  0.        ,\n",
        "           0.        ,  0.        ,  0.        ,  0.        ],\n",
        "         [-0.0525839 , -0.02807494, -0.02807494,  0.88413424,  0.11229977,\n",
        "           0.11229977,  0.        ,  0.        ,  0.        ,  0.        ,\n",
        "           0.        ,  0.        ,  0.        ,  0.        ,  0.        ,\n",
        "           0.        ,  0.        ,  0.        ,  0.        ,  0.        ,\n",
        "           0.        ,  0.        ,  0.        ,  0.        ,  0.        ,\n",
        "           0.        ,  0.        ,  0.        ,  0.        ]])}\n"
       ]
      },
      {
       "output_type": "stream",
       "stream": "stderr",
       "text": [
        "DEBUG:FFC:  \n",
        "  QG-utils, psi_tables, name_map:\n",
        "  {'FE0_C5_D10': ('FE0_C5_D10', (), False, False), 'FE0_C1_D01': ('FE0_C1_D01', (), False, False), 'FE0_C3_D01': ('FE0_C3_D01', (), False, False), 'FE0_C5_D01': ('FE0_C5_D01', (), False, False), 'FE0_C3_D10': ('FE0_C3_D10', (), False, False), 'FE1_C0': ('FE1_C0', (), False, False), 'FE1_C1': ('FE1_C1', (), False, False), 'FE0_C0': ('FE0_C0', (), False, False), 'FE0_C2_D10': ('FE0_C2_D10', (), False, False), 'FE0_C1_D10': ('FE0_C1_D10', (), False, False), 'FE0_C0_D10': ('FE0_C0_D10', (), False, False), 'FE0_C0_D01': ('FE0_C0_D01', (), False, False), 'FE0_C4_D10': ('FE0_C4_D10', (), False, False), 'FE0_C4_D01': ('FE0_C4_D01', (), False, False), 'FE0_C5': ('FE0_C5', (), False, False), 'FE0_C4': ('FE0_C4', (), False, False), 'FE0_C3': ('FE0_C3', (), False, False), 'FE0_C2': ('FE0_C2', (), False, False), 'FE0_C1': ('FE0_C1', (), False, False), 'FE0_C2_D01': ('FE0_C2_D01', (), False, False)}\n"
       ]
      },
      {
       "output_type": "stream",
       "stream": "stderr",
       "text": [
        "INFO:FFC:  Transforming cell integral\n"
       ]
      },
      {
       "output_type": "stream",
       "stream": "stderr",
       "text": [
        "DEBUG:FFC:  Reusing element from cache\n"
       ]
      },
      {
       "output_type": "stream",
       "stream": "stderr",
       "text": [
        "DEBUG:FFC:  Reusing element from cache\n"
       ]
      },
      {
       "output_type": "stream",
       "stream": "stderr",
       "text": [
        "DEBUG:FFC:  Reusing element from cache\n"
       ]
      },
      {
       "output_type": "stream",
       "stream": "stderr",
       "text": [
        "DEBUG:FFC:  Reusing element from cache\n"
       ]
      },
      {
       "output_type": "stream",
       "stream": "stderr",
       "text": [
        "DEBUG:FFC:  Reusing element from cache\n"
       ]
      },
      {
       "output_type": "stream",
       "stream": "stderr",
       "text": [
        "DEBUG:FFC:  Reusing element from cache\n"
       ]
      },
      {
       "output_type": "stream",
       "stream": "stderr",
       "text": [
        "DEBUG:FFC:  Reusing element from cache\n"
       ]
      },
      {
       "output_type": "stream",
       "stream": "stderr",
       "text": [
        "DEBUG:FFC:  Reusing element from cache\n"
       ]
      },
      {
       "output_type": "stream",
       "stream": "stderr",
       "text": [
        "DEBUG:FFC:  Reusing element from cache\n"
       ]
      },
      {
       "output_type": "stream",
       "stream": "stderr",
       "text": [
        "DEBUG:FFC:  Reusing element from cache\n"
       ]
      },
      {
       "output_type": "stream",
       "stream": "stderr",
       "text": [
        "DEBUG:FFC:  Reusing element from cache\n"
       ]
      },
      {
       "output_type": "stream",
       "stream": "stderr",
       "text": [
        "DEBUG:FFC:  Reusing element from cache\n"
       ]
      },
      {
       "output_type": "stream",
       "stream": "stderr",
       "text": [
        "DEBUG:FFC:  Reusing element from cache\n"
       ]
      },
      {
       "output_type": "stream",
       "stream": "stderr",
       "text": [
        "DEBUG:FFC:  Reusing element from cache\n"
       ]
      },
      {
       "output_type": "stream",
       "stream": "stderr",
       "text": [
        "DEBUG:FFC:  Reusing element from cache\n"
       ]
      },
      {
       "output_type": "stream",
       "stream": "stderr",
       "text": [
        "DEBUG:FFC:  Reusing element from cache\n"
       ]
      },
      {
       "output_type": "stream",
       "stream": "stderr",
       "text": [
        "DEBUG:FFC:  Reusing element from cache\n"
       ]
      },
      {
       "output_type": "stream",
       "stream": "stderr",
       "text": [
        "DEBUG:FFC:  Reusing element from cache\n"
       ]
      },
      {
       "output_type": "stream",
       "stream": "stderr",
       "text": [
        "DEBUG:FFC:  Reusing element from cache\n"
       ]
      },
      {
       "output_type": "stream",
       "stream": "stderr",
       "text": [
        "DEBUG:FFC:  Reusing element from cache\n"
       ]
      },
      {
       "output_type": "stream",
       "stream": "stderr",
       "text": [
        "DEBUG:FFC:  Reusing element from cache\n"
       ]
      },
      {
       "output_type": "stream",
       "stream": "stderr",
       "text": [
        "DEBUG:FFC:  Reusing element from cache\n"
       ]
      },
      {
       "output_type": "stream",
       "stream": "stderr",
       "text": [
        "DEBUG:FFC:  Reusing element from cache\n"
       ]
      },
      {
       "output_type": "stream",
       "stream": "stderr",
       "text": [
        "DEBUG:FFC:  Reusing element from cache\n"
       ]
      },
      {
       "output_type": "stream",
       "stream": "stderr",
       "text": [
        "DEBUG:FFC:  Reusing element from cache\n"
       ]
      },
      {
       "output_type": "stream",
       "stream": "stderr",
       "text": [
        "DEBUG:FFC:  Reusing element from cache\n"
       ]
      },
      {
       "output_type": "stream",
       "stream": "stderr",
       "text": [
        "DEBUG:FFC:  Reusing element from cache\n"
       ]
      },
      {
       "output_type": "stream",
       "stream": "stderr",
       "text": [
        "DEBUG:FFC:  Reusing element from cache\n"
       ]
      },
      {
       "output_type": "stream",
       "stream": "stderr",
       "text": [
        "DEBUG:FFC:  Reusing element from cache\n"
       ]
      },
      {
       "output_type": "stream",
       "stream": "stderr",
       "text": [
        "DEBUG:FFC:  Reusing element from cache\n"
       ]
      },
      {
       "output_type": "stream",
       "stream": "stderr",
       "text": [
        "DEBUG:FFC:  Reusing element from cache\n"
       ]
      },
      {
       "output_type": "stream",
       "stream": "stderr",
       "text": [
        "DEBUG:FFC:  Reusing element from cache\n"
       ]
      },
      {
       "output_type": "stream",
       "stream": "stderr",
       "text": [
        "DEBUG:FFC:  Reusing element from cache\n"
       ]
      },
      {
       "output_type": "stream",
       "stream": "stderr",
       "text": [
        "DEBUG:FFC:  Reusing element from cache\n"
       ]
      },
      {
       "output_type": "stream",
       "stream": "stderr",
       "text": [
        "DEBUG:FFC:  Reusing element from cache\n"
       ]
      },
      {
       "output_type": "stream",
       "stream": "stderr",
       "text": [
        "DEBUG:FFC:  Reusing element from cache\n"
       ]
      },
      {
       "output_type": "stream",
       "stream": "stderr",
       "text": [
        "DEBUG:FFC:  Reusing element from cache\n"
       ]
      },
      {
       "output_type": "stream",
       "stream": "stderr",
       "text": [
        "DEBUG:FFC:  Reusing element from cache\n"
       ]
      },
      {
       "output_type": "stream",
       "stream": "stderr",
       "text": [
        "DEBUG:FFC:  Reusing element from cache\n"
       ]
      },
      {
       "output_type": "stream",
       "stream": "stderr",
       "text": [
        "DEBUG:FFC:  Reusing element from cache\n"
       ]
      },
      {
       "output_type": "stream",
       "stream": "stderr",
       "text": [
        "DEBUG:FFC:  Reusing element from cache\n"
       ]
      },
      {
       "output_type": "stream",
       "stream": "stderr",
       "text": [
        "DEBUG:FFC:  Reusing element from cache\n"
       ]
      },
      {
       "output_type": "stream",
       "stream": "stderr",
       "text": [
        "DEBUG:FFC:  Reusing element from cache\n"
       ]
      },
      {
       "output_type": "stream",
       "stream": "stderr",
       "text": [
        "DEBUG:FFC:  Reusing element from cache\n"
       ]
      },
      {
       "output_type": "stream",
       "stream": "stderr",
       "text": [
        "DEBUG:FFC:  Reusing element from cache\n"
       ]
      },
      {
       "output_type": "stream",
       "stream": "stderr",
       "text": [
        "DEBUG:FFC:  Reusing element from cache\n"
       ]
      },
      {
       "output_type": "stream",
       "stream": "stderr",
       "text": [
        "DEBUG:FFC:  Reusing element from cache\n"
       ]
      },
      {
       "output_type": "stream",
       "stream": "stderr",
       "text": [
        "DEBUG:FFC:  Reusing element from cache\n"
       ]
      },
      {
       "output_type": "stream",
       "stream": "stderr",
       "text": [
        "DEBUG:FFC:  Reusing element from cache\n"
       ]
      },
      {
       "output_type": "stream",
       "stream": "stderr",
       "text": [
        "DEBUG:FFC:  Reusing element from cache\n"
       ]
      },
      {
       "output_type": "stream",
       "stream": "stderr",
       "text": [
        "DEBUG:FFC:  Reusing element from cache\n"
       ]
      },
      {
       "output_type": "stream",
       "stream": "stderr",
       "text": [
        "DEBUG:FFC:  Reusing element from cache\n"
       ]
      },
      {
       "output_type": "stream",
       "stream": "stderr",
       "text": [
        "INFO:FFC:  Computing representation of forms\n"
       ]
      },
      {
       "output_type": "stream",
       "stream": "stderr",
       "text": [
        "INFO:FFC:  \n"
       ]
      },
      {
       "output_type": "stream",
       "stream": "stderr",
       "text": [
        "INFO:FFC:Compiler stage 2 finished in 1.03403 seconds.\n",
        "\n"
       ]
      },
      {
       "output_type": "stream",
       "stream": "stderr",
       "text": [
        "INFO:FFC:Compiler stage 3: Optimizing intermediate representation\n"
       ]
      },
      {
       "output_type": "stream",
       "stream": "stderr",
       "text": [
        "INFO:FFC:--------------------------------------------------------\n"
       ]
      },
      {
       "output_type": "stream",
       "stream": "stderr",
       "text": [
        "INFO:FFC:  Skipping optimizations, add -O to optimize\n"
       ]
      },
      {
       "output_type": "stream",
       "stream": "stderr",
       "text": [
        "INFO:FFC:  \n"
       ]
      },
      {
       "output_type": "stream",
       "stream": "stderr",
       "text": [
        "INFO:FFC:Compiler stage 3 finished in 0.00104094 seconds.\n",
        "\n"
       ]
      },
      {
       "output_type": "stream",
       "stream": "stderr",
       "text": [
        "INFO:FFC:Compiler stage 4: Generating code\n"
       ]
      },
      {
       "output_type": "stream",
       "stream": "stderr",
       "text": [
        "INFO:FFC:---------------------------------\n"
       ]
      },
      {
       "output_type": "stream",
       "stream": "stderr",
       "text": [
        "INFO:FFC:  Generating code for 5 element(s)\n"
       ]
      },
      {
       "output_type": "stream",
       "stream": "stderr",
       "text": [
        "DEBUG:FFC:  Removing unused variable: tmp7\n"
       ]
      },
      {
       "output_type": "stream",
       "stream": "stderr",
       "text": [
        "DEBUG:FFC:  Removing unused variable: tmp6\n"
       ]
      },
      {
       "output_type": "stream",
       "stream": "stderr",
       "text": [
        "DEBUG:FFC:  Removing unused variable: tmp5\n"
       ]
      },
      {
       "output_type": "stream",
       "stream": "stderr",
       "text": [
        "DEBUG:FFC:  Removing unused variable: tt\n"
       ]
      },
      {
       "output_type": "stream",
       "stream": "stderr",
       "text": [
        "DEBUG:FFC:  Removing unused variable: ss\n"
       ]
      },
      {
       "output_type": "stream",
       "stream": "stderr",
       "text": [
        "DEBUG:FFC:  Removing unused variable: rr\n"
       ]
      },
      {
       "output_type": "stream",
       "stream": "stderr",
       "text": [
        "DEBUG:FFC:  Removing unused variable: tmp7\n"
       ]
      },
      {
       "output_type": "stream",
       "stream": "stderr",
       "text": [
        "DEBUG:FFC:  Removing unused variable: tmp6\n"
       ]
      },
      {
       "output_type": "stream",
       "stream": "stderr",
       "text": [
        "DEBUG:FFC:  Removing unused variable: tmp5\n"
       ]
      },
      {
       "output_type": "stream",
       "stream": "stderr",
       "text": [
        "DEBUG:FFC:  Removing unused variable: tt\n"
       ]
      },
      {
       "output_type": "stream",
       "stream": "stderr",
       "text": [
        "DEBUG:FFC:  Removing unused variable: ss\n"
       ]
      },
      {
       "output_type": "stream",
       "stream": "stderr",
       "text": [
        "DEBUG:FFC:  Removing unused variable: rr\n"
       ]
      },
      {
       "output_type": "stream",
       "stream": "stderr",
       "text": [
        "DEBUG:FFC:  Removing unused variable: tmp7\n"
       ]
      },
      {
       "output_type": "stream",
       "stream": "stderr",
       "text": [
        "DEBUG:FFC:  Removing unused variable: tmp6\n"
       ]
      },
      {
       "output_type": "stream",
       "stream": "stderr",
       "text": [
        "DEBUG:FFC:  Removing unused variable: tmp5\n"
       ]
      },
      {
       "output_type": "stream",
       "stream": "stderr",
       "text": [
        "DEBUG:FFC:  Removing unused variable: tt\n"
       ]
      },
      {
       "output_type": "stream",
       "stream": "stderr",
       "text": [
        "DEBUG:FFC:  Removing unused variable: ss\n"
       ]
      },
      {
       "output_type": "stream",
       "stream": "stderr",
       "text": [
        "DEBUG:FFC:  Removing unused variable: rr\n"
       ]
      },
      {
       "output_type": "stream",
       "stream": "stderr",
       "text": [
        "DEBUG:FFC:  Removing unused variable: tmp7\n"
       ]
      },
      {
       "output_type": "stream",
       "stream": "stderr",
       "text": [
        "DEBUG:FFC:  Removing unused variable: tmp6\n"
       ]
      },
      {
       "output_type": "stream",
       "stream": "stderr",
       "text": [
        "DEBUG:FFC:  Removing unused variable: tmp5\n"
       ]
      },
      {
       "output_type": "stream",
       "stream": "stderr",
       "text": [
        "DEBUG:FFC:  Removing unused variable: tt\n"
       ]
      },
      {
       "output_type": "stream",
       "stream": "stderr",
       "text": [
        "DEBUG:FFC:  Removing unused variable: ss\n"
       ]
      },
      {
       "output_type": "stream",
       "stream": "stderr",
       "text": [
        "DEBUG:FFC:  Removing unused variable: rr\n"
       ]
      },
      {
       "output_type": "stream",
       "stream": "stderr",
       "text": [
        "DEBUG:FFC:  Removing unused variable: tmp7\n"
       ]
      },
      {
       "output_type": "stream",
       "stream": "stderr",
       "text": [
        "DEBUG:FFC:  Removing unused variable: tmp6\n"
       ]
      },
      {
       "output_type": "stream",
       "stream": "stderr",
       "text": [
        "DEBUG:FFC:  Removing unused variable: tmp5\n"
       ]
      },
      {
       "output_type": "stream",
       "stream": "stderr",
       "text": [
        "DEBUG:FFC:  Removing unused variable: tt\n"
       ]
      },
      {
       "output_type": "stream",
       "stream": "stderr",
       "text": [
        "DEBUG:FFC:  Removing unused variable: ss\n"
       ]
      },
      {
       "output_type": "stream",
       "stream": "stderr",
       "text": [
        "DEBUG:FFC:  Removing unused variable: rr\n"
       ]
      },
      {
       "output_type": "stream",
       "stream": "stderr",
       "text": [
        "DEBUG:FFC:  Removing unused variable: tmp7\n"
       ]
      },
      {
       "output_type": "stream",
       "stream": "stderr",
       "text": [
        "DEBUG:FFC:  Removing unused variable: tmp6\n"
       ]
      },
      {
       "output_type": "stream",
       "stream": "stderr",
       "text": [
        "DEBUG:FFC:  Removing unused variable: tmp5\n"
       ]
      },
      {
       "output_type": "stream",
       "stream": "stderr",
       "text": [
        "DEBUG:FFC:  Removing unused variable: tt\n"
       ]
      },
      {
       "output_type": "stream",
       "stream": "stderr",
       "text": [
        "DEBUG:FFC:  Removing unused variable: ss\n"
       ]
      },
      {
       "output_type": "stream",
       "stream": "stderr",
       "text": [
        "DEBUG:FFC:  Removing unused variable: rr\n"
       ]
      },
      {
       "output_type": "stream",
       "stream": "stderr",
       "text": [
        "DEBUG:FFC:  Removing unused variable: tmp7\n"
       ]
      },
      {
       "output_type": "stream",
       "stream": "stderr",
       "text": [
        "DEBUG:FFC:  Removing unused variable: tmp6\n"
       ]
      },
      {
       "output_type": "stream",
       "stream": "stderr",
       "text": [
        "DEBUG:FFC:  Removing unused variable: tmp5\n"
       ]
      },
      {
       "output_type": "stream",
       "stream": "stderr",
       "text": [
        "DEBUG:FFC:  Removing unused variable: tt\n"
       ]
      },
      {
       "output_type": "stream",
       "stream": "stderr",
       "text": [
        "DEBUG:FFC:  Removing unused variable: ss\n"
       ]
      },
      {
       "output_type": "stream",
       "stream": "stderr",
       "text": [
        "DEBUG:FFC:  Removing unused variable: rr\n"
       ]
      },
      {
       "output_type": "stream",
       "stream": "stderr",
       "text": [
        "DEBUG:FFC:  Removing unused variable: tmp7\n"
       ]
      },
      {
       "output_type": "stream",
       "stream": "stderr",
       "text": [
        "DEBUG:FFC:  Removing unused variable: tmp6\n"
       ]
      },
      {
       "output_type": "stream",
       "stream": "stderr",
       "text": [
        "DEBUG:FFC:  Removing unused variable: tmp5\n"
       ]
      },
      {
       "output_type": "stream",
       "stream": "stderr",
       "text": [
        "DEBUG:FFC:  Removing unused variable: tt\n"
       ]
      },
      {
       "output_type": "stream",
       "stream": "stderr",
       "text": [
        "DEBUG:FFC:  Removing unused variable: ss\n"
       ]
      },
      {
       "output_type": "stream",
       "stream": "stderr",
       "text": [
        "DEBUG:FFC:  Removing unused variable: rr\n"
       ]
      },
      {
       "output_type": "stream",
       "stream": "stderr",
       "text": [
        "DEBUG:FFC:  Removing unused variable: tmp7\n"
       ]
      },
      {
       "output_type": "stream",
       "stream": "stderr",
       "text": [
        "DEBUG:FFC:  Removing unused variable: tmp6\n"
       ]
      },
      {
       "output_type": "stream",
       "stream": "stderr",
       "text": [
        "DEBUG:FFC:  Removing unused variable: tmp5\n"
       ]
      },
      {
       "output_type": "stream",
       "stream": "stderr",
       "text": [
        "DEBUG:FFC:  Removing unused variable: tt\n"
       ]
      },
      {
       "output_type": "stream",
       "stream": "stderr",
       "text": [
        "DEBUG:FFC:  Removing unused variable: ss\n"
       ]
      },
      {
       "output_type": "stream",
       "stream": "stderr",
       "text": [
        "DEBUG:FFC:  Removing unused variable: rr\n"
       ]
      },
      {
       "output_type": "stream",
       "stream": "stderr",
       "text": [
        "DEBUG:FFC:  Removing unused variable: tmp7\n"
       ]
      },
      {
       "output_type": "stream",
       "stream": "stderr",
       "text": [
        "DEBUG:FFC:  Removing unused variable: tmp6\n"
       ]
      },
      {
       "output_type": "stream",
       "stream": "stderr",
       "text": [
        "DEBUG:FFC:  Removing unused variable: tmp5\n"
       ]
      },
      {
       "output_type": "stream",
       "stream": "stderr",
       "text": [
        "DEBUG:FFC:  Removing unused variable: tt\n"
       ]
      },
      {
       "output_type": "stream",
       "stream": "stderr",
       "text": [
        "DEBUG:FFC:  Removing unused variable: ss\n"
       ]
      },
      {
       "output_type": "stream",
       "stream": "stderr",
       "text": [
        "DEBUG:FFC:  Removing unused variable: rr\n"
       ]
      },
      {
       "output_type": "stream",
       "stream": "stderr",
       "text": [
        "DEBUG:FFC:  Removing unused variable: tmp7\n"
       ]
      },
      {
       "output_type": "stream",
       "stream": "stderr",
       "text": [
        "DEBUG:FFC:  Removing unused variable: tmp6\n"
       ]
      },
      {
       "output_type": "stream",
       "stream": "stderr",
       "text": [
        "DEBUG:FFC:  Removing unused variable: tmp5\n"
       ]
      },
      {
       "output_type": "stream",
       "stream": "stderr",
       "text": [
        "DEBUG:FFC:  Removing unused variable: tt\n"
       ]
      },
      {
       "output_type": "stream",
       "stream": "stderr",
       "text": [
        "DEBUG:FFC:  Removing unused variable: ss\n"
       ]
      },
      {
       "output_type": "stream",
       "stream": "stderr",
       "text": [
        "DEBUG:FFC:  Removing unused variable: rr\n"
       ]
      },
      {
       "output_type": "stream",
       "stream": "stderr",
       "text": [
        "DEBUG:FFC:  Removing unused variable: tmp7\n"
       ]
      },
      {
       "output_type": "stream",
       "stream": "stderr",
       "text": [
        "DEBUG:FFC:  Removing unused variable: tmp6\n"
       ]
      },
      {
       "output_type": "stream",
       "stream": "stderr",
       "text": [
        "DEBUG:FFC:  Removing unused variable: tmp5\n"
       ]
      },
      {
       "output_type": "stream",
       "stream": "stderr",
       "text": [
        "DEBUG:FFC:  Removing unused variable: tt\n"
       ]
      },
      {
       "output_type": "stream",
       "stream": "stderr",
       "text": [
        "DEBUG:FFC:  Removing unused variable: ss\n"
       ]
      },
      {
       "output_type": "stream",
       "stream": "stderr",
       "text": [
        "DEBUG:FFC:  Removing unused variable: rr\n"
       ]
      },
      {
       "output_type": "stream",
       "stream": "stderr",
       "text": [
        "DEBUG:FFC:  Removing unused variable: tmp7\n"
       ]
      },
      {
       "output_type": "stream",
       "stream": "stderr",
       "text": [
        "DEBUG:FFC:  Removing unused variable: tmp6\n"
       ]
      },
      {
       "output_type": "stream",
       "stream": "stderr",
       "text": [
        "DEBUG:FFC:  Removing unused variable: tmp5\n"
       ]
      },
      {
       "output_type": "stream",
       "stream": "stderr",
       "text": [
        "DEBUG:FFC:  Removing unused variable: tt\n"
       ]
      },
      {
       "output_type": "stream",
       "stream": "stderr",
       "text": [
        "DEBUG:FFC:  Removing unused variable: ss\n"
       ]
      },
      {
       "output_type": "stream",
       "stream": "stderr",
       "text": [
        "DEBUG:FFC:  Removing unused variable: rr\n"
       ]
      },
      {
       "output_type": "stream",
       "stream": "stderr",
       "text": [
        "DEBUG:FFC:  Removing unused variable: tmp7\n"
       ]
      },
      {
       "output_type": "stream",
       "stream": "stderr",
       "text": [
        "DEBUG:FFC:  Removing unused variable: tmp6\n"
       ]
      },
      {
       "output_type": "stream",
       "stream": "stderr",
       "text": [
        "DEBUG:FFC:  Removing unused variable: tmp5\n"
       ]
      },
      {
       "output_type": "stream",
       "stream": "stderr",
       "text": [
        "DEBUG:FFC:  Removing unused variable: tt\n"
       ]
      },
      {
       "output_type": "stream",
       "stream": "stderr",
       "text": [
        "DEBUG:FFC:  Removing unused variable: ss\n"
       ]
      },
      {
       "output_type": "stream",
       "stream": "stderr",
       "text": [
        "DEBUG:FFC:  Removing unused variable: rr\n"
       ]
      },
      {
       "output_type": "stream",
       "stream": "stderr",
       "text": [
        "DEBUG:FFC:  Removing unused variable: tmp7\n"
       ]
      },
      {
       "output_type": "stream",
       "stream": "stderr",
       "text": [
        "DEBUG:FFC:  Removing unused variable: tmp6\n"
       ]
      },
      {
       "output_type": "stream",
       "stream": "stderr",
       "text": [
        "DEBUG:FFC:  Removing unused variable: tmp5\n"
       ]
      },
      {
       "output_type": "stream",
       "stream": "stderr",
       "text": [
        "DEBUG:FFC:  Removing unused variable: tt\n"
       ]
      },
      {
       "output_type": "stream",
       "stream": "stderr",
       "text": [
        "DEBUG:FFC:  Removing unused variable: ss\n"
       ]
      },
      {
       "output_type": "stream",
       "stream": "stderr",
       "text": [
        "DEBUG:FFC:  Removing unused variable: rr\n"
       ]
      },
      {
       "output_type": "stream",
       "stream": "stderr",
       "text": [
        "DEBUG:FFC:  Removing unused variable: tmp7\n"
       ]
      },
      {
       "output_type": "stream",
       "stream": "stderr",
       "text": [
        "DEBUG:FFC:  Removing unused variable: tmp6\n"
       ]
      },
      {
       "output_type": "stream",
       "stream": "stderr",
       "text": [
        "DEBUG:FFC:  Removing unused variable: tmp5\n"
       ]
      },
      {
       "output_type": "stream",
       "stream": "stderr",
       "text": [
        "DEBUG:FFC:  Removing unused variable: tt\n"
       ]
      },
      {
       "output_type": "stream",
       "stream": "stderr",
       "text": [
        "DEBUG:FFC:  Removing unused variable: ss\n"
       ]
      },
      {
       "output_type": "stream",
       "stream": "stderr",
       "text": [
        "DEBUG:FFC:  Removing unused variable: rr\n"
       ]
      },
      {
       "output_type": "stream",
       "stream": "stderr",
       "text": [
        "DEBUG:FFC:  Removing unused variable: tmp7\n"
       ]
      },
      {
       "output_type": "stream",
       "stream": "stderr",
       "text": [
        "DEBUG:FFC:  Removing unused variable: tmp6\n"
       ]
      },
      {
       "output_type": "stream",
       "stream": "stderr",
       "text": [
        "DEBUG:FFC:  Removing unused variable: tmp5\n"
       ]
      },
      {
       "output_type": "stream",
       "stream": "stderr",
       "text": [
        "DEBUG:FFC:  Removing unused variable: tt\n"
       ]
      },
      {
       "output_type": "stream",
       "stream": "stderr",
       "text": [
        "DEBUG:FFC:  Removing unused variable: ss\n"
       ]
      },
      {
       "output_type": "stream",
       "stream": "stderr",
       "text": [
        "DEBUG:FFC:  Removing unused variable: rr\n"
       ]
      },
      {
       "output_type": "stream",
       "stream": "stderr",
       "text": [
        "DEBUG:FFC:  Removing unused variable: tmp7\n"
       ]
      },
      {
       "output_type": "stream",
       "stream": "stderr",
       "text": [
        "DEBUG:FFC:  Removing unused variable: tmp6\n"
       ]
      },
      {
       "output_type": "stream",
       "stream": "stderr",
       "text": [
        "DEBUG:FFC:  Removing unused variable: tmp5\n"
       ]
      },
      {
       "output_type": "stream",
       "stream": "stderr",
       "text": [
        "DEBUG:FFC:  Removing unused variable: tt\n"
       ]
      },
      {
       "output_type": "stream",
       "stream": "stderr",
       "text": [
        "DEBUG:FFC:  Removing unused variable: ss\n"
       ]
      },
      {
       "output_type": "stream",
       "stream": "stderr",
       "text": [
        "DEBUG:FFC:  Removing unused variable: rr\n"
       ]
      },
      {
       "output_type": "stream",
       "stream": "stderr",
       "text": [
        "DEBUG:FFC:  Removing unused variable: tmp7\n"
       ]
      },
      {
       "output_type": "stream",
       "stream": "stderr",
       "text": [
        "DEBUG:FFC:  Removing unused variable: tmp6\n"
       ]
      },
      {
       "output_type": "stream",
       "stream": "stderr",
       "text": [
        "DEBUG:FFC:  Removing unused variable: tmp5\n"
       ]
      },
      {
       "output_type": "stream",
       "stream": "stderr",
       "text": [
        "DEBUG:FFC:  Removing unused variable: tt\n"
       ]
      },
      {
       "output_type": "stream",
       "stream": "stderr",
       "text": [
        "DEBUG:FFC:  Removing unused variable: ss\n"
       ]
      },
      {
       "output_type": "stream",
       "stream": "stderr",
       "text": [
        "DEBUG:FFC:  Removing unused variable: rr\n"
       ]
      },
      {
       "output_type": "stream",
       "stream": "stderr",
       "text": [
        "DEBUG:FFC:  Removing unused variable: tmp7\n"
       ]
      },
      {
       "output_type": "stream",
       "stream": "stderr",
       "text": [
        "DEBUG:FFC:  Removing unused variable: tmp6\n"
       ]
      },
      {
       "output_type": "stream",
       "stream": "stderr",
       "text": [
        "DEBUG:FFC:  Removing unused variable: tmp5\n"
       ]
      },
      {
       "output_type": "stream",
       "stream": "stderr",
       "text": [
        "DEBUG:FFC:  Removing unused variable: tt\n"
       ]
      },
      {
       "output_type": "stream",
       "stream": "stderr",
       "text": [
        "DEBUG:FFC:  Removing unused variable: ss\n"
       ]
      },
      {
       "output_type": "stream",
       "stream": "stderr",
       "text": [
        "DEBUG:FFC:  Removing unused variable: rr\n"
       ]
      },
      {
       "output_type": "stream",
       "stream": "stderr",
       "text": [
        "DEBUG:FFC:  Removing unused variable: tmp7\n"
       ]
      },
      {
       "output_type": "stream",
       "stream": "stderr",
       "text": [
        "DEBUG:FFC:  Removing unused variable: tmp6\n"
       ]
      },
      {
       "output_type": "stream",
       "stream": "stderr",
       "text": [
        "DEBUG:FFC:  Removing unused variable: tmp5\n"
       ]
      },
      {
       "output_type": "stream",
       "stream": "stderr",
       "text": [
        "DEBUG:FFC:  Removing unused variable: tt\n"
       ]
      },
      {
       "output_type": "stream",
       "stream": "stderr",
       "text": [
        "DEBUG:FFC:  Removing unused variable: ss\n"
       ]
      },
      {
       "output_type": "stream",
       "stream": "stderr",
       "text": [
        "DEBUG:FFC:  Removing unused variable: rr\n"
       ]
      },
      {
       "output_type": "stream",
       "stream": "stderr",
       "text": [
        "DEBUG:FFC:  Removing unused variable: tmp7\n"
       ]
      },
      {
       "output_type": "stream",
       "stream": "stderr",
       "text": [
        "DEBUG:FFC:  Removing unused variable: tmp6\n"
       ]
      },
      {
       "output_type": "stream",
       "stream": "stderr",
       "text": [
        "DEBUG:FFC:  Removing unused variable: tmp5\n"
       ]
      },
      {
       "output_type": "stream",
       "stream": "stderr",
       "text": [
        "DEBUG:FFC:  Removing unused variable: tt\n"
       ]
      },
      {
       "output_type": "stream",
       "stream": "stderr",
       "text": [
        "DEBUG:FFC:  Removing unused variable: ss\n"
       ]
      },
      {
       "output_type": "stream",
       "stream": "stderr",
       "text": [
        "DEBUG:FFC:  Removing unused variable: rr\n"
       ]
      },
      {
       "output_type": "stream",
       "stream": "stderr",
       "text": [
        "DEBUG:FFC:  Removing unused variable: tmp7\n"
       ]
      },
      {
       "output_type": "stream",
       "stream": "stderr",
       "text": [
        "DEBUG:FFC:  Removing unused variable: tmp6\n"
       ]
      },
      {
       "output_type": "stream",
       "stream": "stderr",
       "text": [
        "DEBUG:FFC:  Removing unused variable: tmp5\n"
       ]
      },
      {
       "output_type": "stream",
       "stream": "stderr",
       "text": [
        "DEBUG:FFC:  Removing unused variable: tt\n"
       ]
      },
      {
       "output_type": "stream",
       "stream": "stderr",
       "text": [
        "DEBUG:FFC:  Removing unused variable: ss\n"
       ]
      },
      {
       "output_type": "stream",
       "stream": "stderr",
       "text": [
        "DEBUG:FFC:  Removing unused variable: rr\n"
       ]
      },
      {
       "output_type": "stream",
       "stream": "stderr",
       "text": [
        "DEBUG:FFC:  Removing unused variable: tmp7\n"
       ]
      },
      {
       "output_type": "stream",
       "stream": "stderr",
       "text": [
        "DEBUG:FFC:  Removing unused variable: tmp6\n"
       ]
      },
      {
       "output_type": "stream",
       "stream": "stderr",
       "text": [
        "DEBUG:FFC:  Removing unused variable: tmp5\n"
       ]
      },
      {
       "output_type": "stream",
       "stream": "stderr",
       "text": [
        "DEBUG:FFC:  Removing unused variable: tt\n"
       ]
      },
      {
       "output_type": "stream",
       "stream": "stderr",
       "text": [
        "DEBUG:FFC:  Removing unused variable: ss\n"
       ]
      },
      {
       "output_type": "stream",
       "stream": "stderr",
       "text": [
        "DEBUG:FFC:  Removing unused variable: rr\n"
       ]
      },
      {
       "output_type": "stream",
       "stream": "stderr",
       "text": [
        "DEBUG:FFC:  Removing unused variable: tmp7\n"
       ]
      },
      {
       "output_type": "stream",
       "stream": "stderr",
       "text": [
        "DEBUG:FFC:  Removing unused variable: tmp6\n"
       ]
      },
      {
       "output_type": "stream",
       "stream": "stderr",
       "text": [
        "DEBUG:FFC:  Removing unused variable: tmp5\n"
       ]
      },
      {
       "output_type": "stream",
       "stream": "stderr",
       "text": [
        "DEBUG:FFC:  Removing unused variable: tt\n"
       ]
      },
      {
       "output_type": "stream",
       "stream": "stderr",
       "text": [
        "DEBUG:FFC:  Removing unused variable: ss\n"
       ]
      },
      {
       "output_type": "stream",
       "stream": "stderr",
       "text": [
        "DEBUG:FFC:  Removing unused variable: rr\n"
       ]
      },
      {
       "output_type": "stream",
       "stream": "stderr",
       "text": [
        "DEBUG:FFC:  Removing unused variable: tmp7\n"
       ]
      },
      {
       "output_type": "stream",
       "stream": "stderr",
       "text": [
        "DEBUG:FFC:  Removing unused variable: tmp6\n"
       ]
      },
      {
       "output_type": "stream",
       "stream": "stderr",
       "text": [
        "DEBUG:FFC:  Removing unused variable: tmp5\n"
       ]
      },
      {
       "output_type": "stream",
       "stream": "stderr",
       "text": [
        "DEBUG:FFC:  Removing unused variable: tt\n"
       ]
      },
      {
       "output_type": "stream",
       "stream": "stderr",
       "text": [
        "DEBUG:FFC:  Removing unused variable: ss\n"
       ]
      },
      {
       "output_type": "stream",
       "stream": "stderr",
       "text": [
        "DEBUG:FFC:  Removing unused variable: rr\n"
       ]
      },
      {
       "output_type": "stream",
       "stream": "stderr",
       "text": [
        "DEBUG:FFC:  Removing unused variable: tmp7\n"
       ]
      },
      {
       "output_type": "stream",
       "stream": "stderr",
       "text": [
        "DEBUG:FFC:  Removing unused variable: tmp6\n"
       ]
      },
      {
       "output_type": "stream",
       "stream": "stderr",
       "text": [
        "DEBUG:FFC:  Removing unused variable: tmp5\n"
       ]
      },
      {
       "output_type": "stream",
       "stream": "stderr",
       "text": [
        "DEBUG:FFC:  Removing unused variable: tt\n"
       ]
      },
      {
       "output_type": "stream",
       "stream": "stderr",
       "text": [
        "DEBUG:FFC:  Removing unused variable: ss\n"
       ]
      },
      {
       "output_type": "stream",
       "stream": "stderr",
       "text": [
        "DEBUG:FFC:  Removing unused variable: rr\n"
       ]
      },
      {
       "output_type": "stream",
       "stream": "stderr",
       "text": [
        "DEBUG:FFC:  Removing unused variable: tmp7\n"
       ]
      },
      {
       "output_type": "stream",
       "stream": "stderr",
       "text": [
        "DEBUG:FFC:  Removing unused variable: tmp6\n"
       ]
      },
      {
       "output_type": "stream",
       "stream": "stderr",
       "text": [
        "DEBUG:FFC:  Removing unused variable: tmp5\n"
       ]
      },
      {
       "output_type": "stream",
       "stream": "stderr",
       "text": [
        "DEBUG:FFC:  Removing unused variable: tt\n"
       ]
      },
      {
       "output_type": "stream",
       "stream": "stderr",
       "text": [
        "DEBUG:FFC:  Removing unused variable: ss\n"
       ]
      },
      {
       "output_type": "stream",
       "stream": "stderr",
       "text": [
        "DEBUG:FFC:  Removing unused variable: rr\n"
       ]
      },
      {
       "output_type": "stream",
       "stream": "stderr",
       "text": [
        "DEBUG:FFC:  Removing unused variable: tmp7\n"
       ]
      },
      {
       "output_type": "stream",
       "stream": "stderr",
       "text": [
        "DEBUG:FFC:  Removing unused variable: tmp6\n"
       ]
      },
      {
       "output_type": "stream",
       "stream": "stderr",
       "text": [
        "DEBUG:FFC:  Removing unused variable: tmp5\n"
       ]
      },
      {
       "output_type": "stream",
       "stream": "stderr",
       "text": [
        "DEBUG:FFC:  Removing unused variable: tt\n"
       ]
      },
      {
       "output_type": "stream",
       "stream": "stderr",
       "text": [
        "DEBUG:FFC:  Removing unused variable: ss\n"
       ]
      },
      {
       "output_type": "stream",
       "stream": "stderr",
       "text": [
        "DEBUG:FFC:  Removing unused variable: rr\n"
       ]
      },
      {
       "output_type": "stream",
       "stream": "stderr",
       "text": [
        "DEBUG:FFC:  Removing unused variable: tmp7\n"
       ]
      },
      {
       "output_type": "stream",
       "stream": "stderr",
       "text": [
        "DEBUG:FFC:  Removing unused variable: tmp6\n"
       ]
      },
      {
       "output_type": "stream",
       "stream": "stderr",
       "text": [
        "DEBUG:FFC:  Removing unused variable: tmp5\n"
       ]
      },
      {
       "output_type": "stream",
       "stream": "stderr",
       "text": [
        "DEBUG:FFC:  Removing unused variable: tt\n"
       ]
      },
      {
       "output_type": "stream",
       "stream": "stderr",
       "text": [
        "DEBUG:FFC:  Removing unused variable: ss\n"
       ]
      },
      {
       "output_type": "stream",
       "stream": "stderr",
       "text": [
        "DEBUG:FFC:  Removing unused variable: rr\n"
       ]
      },
      {
       "output_type": "stream",
       "stream": "stderr",
       "text": [
        "DEBUG:FFC:  Removing unused variable: tmp7\n"
       ]
      },
      {
       "output_type": "stream",
       "stream": "stderr",
       "text": [
        "DEBUG:FFC:  Removing unused variable: tmp6\n"
       ]
      },
      {
       "output_type": "stream",
       "stream": "stderr",
       "text": [
        "DEBUG:FFC:  Removing unused variable: tmp5\n"
       ]
      },
      {
       "output_type": "stream",
       "stream": "stderr",
       "text": [
        "DEBUG:FFC:  Removing unused variable: tt\n"
       ]
      },
      {
       "output_type": "stream",
       "stream": "stderr",
       "text": [
        "DEBUG:FFC:  Removing unused variable: ss\n"
       ]
      },
      {
       "output_type": "stream",
       "stream": "stderr",
       "text": [
        "DEBUG:FFC:  Removing unused variable: rr\n"
       ]
      },
      {
       "output_type": "stream",
       "stream": "stderr",
       "text": [
        "DEBUG:FFC:  Removing unused variable: tmp7\n"
       ]
      },
      {
       "output_type": "stream",
       "stream": "stderr",
       "text": [
        "DEBUG:FFC:  Removing unused variable: tmp6\n"
       ]
      },
      {
       "output_type": "stream",
       "stream": "stderr",
       "text": [
        "DEBUG:FFC:  Removing unused variable: tmp5\n"
       ]
      },
      {
       "output_type": "stream",
       "stream": "stderr",
       "text": [
        "DEBUG:FFC:  Removing unused variable: tt\n"
       ]
      },
      {
       "output_type": "stream",
       "stream": "stderr",
       "text": [
        "DEBUG:FFC:  Removing unused variable: ss\n"
       ]
      },
      {
       "output_type": "stream",
       "stream": "stderr",
       "text": [
        "DEBUG:FFC:  Removing unused variable: rr\n"
       ]
      },
      {
       "output_type": "stream",
       "stream": "stderr",
       "text": [
        "DEBUG:FFC:  Removing unused variable: tmp7\n"
       ]
      },
      {
       "output_type": "stream",
       "stream": "stderr",
       "text": [
        "DEBUG:FFC:  Removing unused variable: tmp6\n"
       ]
      },
      {
       "output_type": "stream",
       "stream": "stderr",
       "text": [
        "DEBUG:FFC:  Removing unused variable: tmp5\n"
       ]
      },
      {
       "output_type": "stream",
       "stream": "stderr",
       "text": [
        "DEBUG:FFC:  Removing unused variable: tt\n"
       ]
      },
      {
       "output_type": "stream",
       "stream": "stderr",
       "text": [
        "DEBUG:FFC:  Removing unused variable: ss\n"
       ]
      },
      {
       "output_type": "stream",
       "stream": "stderr",
       "text": [
        "DEBUG:FFC:  Removing unused variable: rr\n"
       ]
      },
      {
       "output_type": "stream",
       "stream": "stderr",
       "text": [
        "DEBUG:FFC:  Removing unused variable: tmp7\n"
       ]
      },
      {
       "output_type": "stream",
       "stream": "stderr",
       "text": [
        "DEBUG:FFC:  Removing unused variable: tmp6\n"
       ]
      },
      {
       "output_type": "stream",
       "stream": "stderr",
       "text": [
        "DEBUG:FFC:  Removing unused variable: tmp5\n"
       ]
      },
      {
       "output_type": "stream",
       "stream": "stderr",
       "text": [
        "DEBUG:FFC:  Removing unused variable: tt\n"
       ]
      },
      {
       "output_type": "stream",
       "stream": "stderr",
       "text": [
        "DEBUG:FFC:  Removing unused variable: ss\n"
       ]
      },
      {
       "output_type": "stream",
       "stream": "stderr",
       "text": [
        "DEBUG:FFC:  Removing unused variable: rr\n"
       ]
      },
      {
       "output_type": "stream",
       "stream": "stderr",
       "text": [
        "DEBUG:FFC:  Removing unused variable: tmp7\n"
       ]
      },
      {
       "output_type": "stream",
       "stream": "stderr",
       "text": [
        "DEBUG:FFC:  Removing unused variable: tmp6\n"
       ]
      },
      {
       "output_type": "stream",
       "stream": "stderr",
       "text": [
        "DEBUG:FFC:  Removing unused variable: tmp5\n"
       ]
      },
      {
       "output_type": "stream",
       "stream": "stderr",
       "text": [
        "DEBUG:FFC:  Removing unused variable: tt\n"
       ]
      },
      {
       "output_type": "stream",
       "stream": "stderr",
       "text": [
        "DEBUG:FFC:  Removing unused variable: ss\n"
       ]
      },
      {
       "output_type": "stream",
       "stream": "stderr",
       "text": [
        "DEBUG:FFC:  Removing unused variable: rr\n"
       ]
      },
      {
       "output_type": "stream",
       "stream": "stderr",
       "text": [
        "DEBUG:FFC:  Removing unused variable: tmp7\n"
       ]
      },
      {
       "output_type": "stream",
       "stream": "stderr",
       "text": [
        "DEBUG:FFC:  Removing unused variable: tmp6\n"
       ]
      },
      {
       "output_type": "stream",
       "stream": "stderr",
       "text": [
        "DEBUG:FFC:  Removing unused variable: tmp5\n"
       ]
      },
      {
       "output_type": "stream",
       "stream": "stderr",
       "text": [
        "DEBUG:FFC:  Removing unused variable: tt\n"
       ]
      },
      {
       "output_type": "stream",
       "stream": "stderr",
       "text": [
        "DEBUG:FFC:  Removing unused variable: ss\n"
       ]
      },
      {
       "output_type": "stream",
       "stream": "stderr",
       "text": [
        "DEBUG:FFC:  Removing unused variable: rr\n"
       ]
      },
      {
       "output_type": "stream",
       "stream": "stderr",
       "text": [
        "DEBUG:FFC:  Removing unused variable: tmp2\n"
       ]
      },
      {
       "output_type": "stream",
       "stream": "stderr",
       "text": [
        "DEBUG:FFC:  Removing unused variable: tmp1\n"
       ]
      },
      {
       "output_type": "stream",
       "stream": "stderr",
       "text": [
        "DEBUG:FFC:  Removing unused variable: tmp7\n"
       ]
      },
      {
       "output_type": "stream",
       "stream": "stderr",
       "text": [
        "DEBUG:FFC:  Removing unused variable: tmp6\n"
       ]
      },
      {
       "output_type": "stream",
       "stream": "stderr",
       "text": [
        "DEBUG:FFC:  Removing unused variable: tmp5\n"
       ]
      },
      {
       "output_type": "stream",
       "stream": "stderr",
       "text": [
        "DEBUG:FFC:  Removing unused variable: tt\n"
       ]
      },
      {
       "output_type": "stream",
       "stream": "stderr",
       "text": [
        "DEBUG:FFC:  Removing unused variable: ss\n"
       ]
      },
      {
       "output_type": "stream",
       "stream": "stderr",
       "text": [
        "DEBUG:FFC:  Removing unused variable: rr\n"
       ]
      },
      {
       "output_type": "stream",
       "stream": "stderr",
       "text": [
        "DEBUG:FFC:  Removing unused variable: tmp2\n"
       ]
      },
      {
       "output_type": "stream",
       "stream": "stderr",
       "text": [
        "DEBUG:FFC:  Removing unused variable: tmp1\n"
       ]
      },
      {
       "output_type": "stream",
       "stream": "stderr",
       "text": [
        "DEBUG:FFC:  Removing unused variable: tmp7\n"
       ]
      },
      {
       "output_type": "stream",
       "stream": "stderr",
       "text": [
        "DEBUG:FFC:  Removing unused variable: tmp6\n"
       ]
      },
      {
       "output_type": "stream",
       "stream": "stderr",
       "text": [
        "DEBUG:FFC:  Removing unused variable: tmp5\n"
       ]
      },
      {
       "output_type": "stream",
       "stream": "stderr",
       "text": [
        "DEBUG:FFC:  Removing unused variable: tt\n"
       ]
      },
      {
       "output_type": "stream",
       "stream": "stderr",
       "text": [
        "DEBUG:FFC:  Removing unused variable: ss\n"
       ]
      },
      {
       "output_type": "stream",
       "stream": "stderr",
       "text": [
        "DEBUG:FFC:  Removing unused variable: rr\n"
       ]
      },
      {
       "output_type": "stream",
       "stream": "stderr",
       "text": [
        "DEBUG:FFC:  Removing unused variable: tmp2\n"
       ]
      },
      {
       "output_type": "stream",
       "stream": "stderr",
       "text": [
        "DEBUG:FFC:  Removing unused variable: tmp1\n"
       ]
      },
      {
       "output_type": "stream",
       "stream": "stderr",
       "text": [
        "DEBUG:FFC:  Removing unused variable: tmp7\n"
       ]
      },
      {
       "output_type": "stream",
       "stream": "stderr",
       "text": [
        "DEBUG:FFC:  Removing unused variable: tmp6\n"
       ]
      },
      {
       "output_type": "stream",
       "stream": "stderr",
       "text": [
        "DEBUG:FFC:  Removing unused variable: tmp5\n"
       ]
      },
      {
       "output_type": "stream",
       "stream": "stderr",
       "text": [
        "DEBUG:FFC:  Removing unused variable: tt\n"
       ]
      },
      {
       "output_type": "stream",
       "stream": "stderr",
       "text": [
        "DEBUG:FFC:  Removing unused variable: ss\n"
       ]
      },
      {
       "output_type": "stream",
       "stream": "stderr",
       "text": [
        "DEBUG:FFC:  Removing unused variable: rr\n"
       ]
      },
      {
       "output_type": "stream",
       "stream": "stderr",
       "text": [
        "DEBUG:FFC:  Removing unused variable: tmp2\n"
       ]
      },
      {
       "output_type": "stream",
       "stream": "stderr",
       "text": [
        "DEBUG:FFC:  Removing unused variable: tmp1\n"
       ]
      },
      {
       "output_type": "stream",
       "stream": "stderr",
       "text": [
        "DEBUG:FFC:  Removing unused variable: tmp7\n"
       ]
      },
      {
       "output_type": "stream",
       "stream": "stderr",
       "text": [
        "DEBUG:FFC:  Removing unused variable: tmp6\n"
       ]
      },
      {
       "output_type": "stream",
       "stream": "stderr",
       "text": [
        "DEBUG:FFC:  Removing unused variable: tmp5\n"
       ]
      },
      {
       "output_type": "stream",
       "stream": "stderr",
       "text": [
        "DEBUG:FFC:  Removing unused variable: tt\n"
       ]
      },
      {
       "output_type": "stream",
       "stream": "stderr",
       "text": [
        "DEBUG:FFC:  Removing unused variable: ss\n"
       ]
      },
      {
       "output_type": "stream",
       "stream": "stderr",
       "text": [
        "DEBUG:FFC:  Removing unused variable: rr\n"
       ]
      },
      {
       "output_type": "stream",
       "stream": "stderr",
       "text": [
        "DEBUG:FFC:  Removing unused variable: tmp2\n"
       ]
      },
      {
       "output_type": "stream",
       "stream": "stderr",
       "text": [
        "DEBUG:FFC:  Removing unused variable: tmp1\n"
       ]
      },
      {
       "output_type": "stream",
       "stream": "stderr",
       "text": [
        "DEBUG:FFC:  Removing unused variable: tmp7\n"
       ]
      },
      {
       "output_type": "stream",
       "stream": "stderr",
       "text": [
        "DEBUG:FFC:  Removing unused variable: tmp6\n"
       ]
      },
      {
       "output_type": "stream",
       "stream": "stderr",
       "text": [
        "DEBUG:FFC:  Removing unused variable: tmp5\n"
       ]
      },
      {
       "output_type": "stream",
       "stream": "stderr",
       "text": [
        "DEBUG:FFC:  Removing unused variable: tt\n"
       ]
      },
      {
       "output_type": "stream",
       "stream": "stderr",
       "text": [
        "DEBUG:FFC:  Removing unused variable: ss\n"
       ]
      },
      {
       "output_type": "stream",
       "stream": "stderr",
       "text": [
        "DEBUG:FFC:  Removing unused variable: rr\n"
       ]
      },
      {
       "output_type": "stream",
       "stream": "stderr",
       "text": [
        "DEBUG:FFC:  Removing unused variable: tmp2\n"
       ]
      },
      {
       "output_type": "stream",
       "stream": "stderr",
       "text": [
        "DEBUG:FFC:  Removing unused variable: tmp1\n"
       ]
      },
      {
       "output_type": "stream",
       "stream": "stderr",
       "text": [
        "DEBUG:FFC:  Removing unused variable: tmp7\n"
       ]
      },
      {
       "output_type": "stream",
       "stream": "stderr",
       "text": [
        "DEBUG:FFC:  Removing unused variable: tmp6\n"
       ]
      },
      {
       "output_type": "stream",
       "stream": "stderr",
       "text": [
        "DEBUG:FFC:  Removing unused variable: tmp5\n"
       ]
      },
      {
       "output_type": "stream",
       "stream": "stderr",
       "text": [
        "DEBUG:FFC:  Removing unused variable: tt\n"
       ]
      },
      {
       "output_type": "stream",
       "stream": "stderr",
       "text": [
        "DEBUG:FFC:  Removing unused variable: ss\n"
       ]
      },
      {
       "output_type": "stream",
       "stream": "stderr",
       "text": [
        "DEBUG:FFC:  Removing unused variable: rr\n"
       ]
      },
      {
       "output_type": "stream",
       "stream": "stderr",
       "text": [
        "DEBUG:FFC:  Removing unused variable: tmp7\n"
       ]
      },
      {
       "output_type": "stream",
       "stream": "stderr",
       "text": [
        "DEBUG:FFC:  Removing unused variable: tmp6\n"
       ]
      },
      {
       "output_type": "stream",
       "stream": "stderr",
       "text": [
        "DEBUG:FFC:  Removing unused variable: tmp5\n"
       ]
      },
      {
       "output_type": "stream",
       "stream": "stderr",
       "text": [
        "DEBUG:FFC:  Removing unused variable: tt\n"
       ]
      },
      {
       "output_type": "stream",
       "stream": "stderr",
       "text": [
        "DEBUG:FFC:  Removing unused variable: ss\n"
       ]
      },
      {
       "output_type": "stream",
       "stream": "stderr",
       "text": [
        "DEBUG:FFC:  Removing unused variable: rr\n"
       ]
      },
      {
       "output_type": "stream",
       "stream": "stderr",
       "text": [
        "DEBUG:FFC:  Removing unused variable: tmp7\n"
       ]
      },
      {
       "output_type": "stream",
       "stream": "stderr",
       "text": [
        "DEBUG:FFC:  Removing unused variable: tmp6\n"
       ]
      },
      {
       "output_type": "stream",
       "stream": "stderr",
       "text": [
        "DEBUG:FFC:  Removing unused variable: tmp5\n"
       ]
      },
      {
       "output_type": "stream",
       "stream": "stderr",
       "text": [
        "DEBUG:FFC:  Removing unused variable: tt\n"
       ]
      },
      {
       "output_type": "stream",
       "stream": "stderr",
       "text": [
        "DEBUG:FFC:  Removing unused variable: ss\n"
       ]
      },
      {
       "output_type": "stream",
       "stream": "stderr",
       "text": [
        "DEBUG:FFC:  Removing unused variable: rr\n"
       ]
      },
      {
       "output_type": "stream",
       "stream": "stderr",
       "text": [
        "DEBUG:FFC:  Removing unused variable: tmp7\n"
       ]
      },
      {
       "output_type": "stream",
       "stream": "stderr",
       "text": [
        "DEBUG:FFC:  Removing unused variable: tmp6\n"
       ]
      },
      {
       "output_type": "stream",
       "stream": "stderr",
       "text": [
        "DEBUG:FFC:  Removing unused variable: tmp5\n"
       ]
      },
      {
       "output_type": "stream",
       "stream": "stderr",
       "text": [
        "DEBUG:FFC:  Removing unused variable: tt\n"
       ]
      },
      {
       "output_type": "stream",
       "stream": "stderr",
       "text": [
        "DEBUG:FFC:  Removing unused variable: ss\n"
       ]
      },
      {
       "output_type": "stream",
       "stream": "stderr",
       "text": [
        "DEBUG:FFC:  Removing unused variable: rr\n"
       ]
      },
      {
       "output_type": "stream",
       "stream": "stderr",
       "text": [
        "DEBUG:FFC:  Removing unused variable: tmp7\n"
       ]
      },
      {
       "output_type": "stream",
       "stream": "stderr",
       "text": [
        "DEBUG:FFC:  Removing unused variable: tmp6\n"
       ]
      },
      {
       "output_type": "stream",
       "stream": "stderr",
       "text": [
        "DEBUG:FFC:  Removing unused variable: tmp5\n"
       ]
      },
      {
       "output_type": "stream",
       "stream": "stderr",
       "text": [
        "DEBUG:FFC:  Removing unused variable: tt\n"
       ]
      },
      {
       "output_type": "stream",
       "stream": "stderr",
       "text": [
        "DEBUG:FFC:  Removing unused variable: ss\n"
       ]
      },
      {
       "output_type": "stream",
       "stream": "stderr",
       "text": [
        "DEBUG:FFC:  Removing unused variable: rr\n"
       ]
      },
      {
       "output_type": "stream",
       "stream": "stderr",
       "text": [
        "DEBUG:FFC:  Removing unused variable: tmp7\n"
       ]
      },
      {
       "output_type": "stream",
       "stream": "stderr",
       "text": [
        "DEBUG:FFC:  Removing unused variable: tmp6\n"
       ]
      },
      {
       "output_type": "stream",
       "stream": "stderr",
       "text": [
        "DEBUG:FFC:  Removing unused variable: tmp5\n"
       ]
      },
      {
       "output_type": "stream",
       "stream": "stderr",
       "text": [
        "DEBUG:FFC:  Removing unused variable: tt\n"
       ]
      },
      {
       "output_type": "stream",
       "stream": "stderr",
       "text": [
        "DEBUG:FFC:  Removing unused variable: ss\n"
       ]
      },
      {
       "output_type": "stream",
       "stream": "stderr",
       "text": [
        "DEBUG:FFC:  Removing unused variable: rr\n"
       ]
      },
      {
       "output_type": "stream",
       "stream": "stderr",
       "text": [
        "DEBUG:FFC:  Removing unused variable: tmp7\n"
       ]
      },
      {
       "output_type": "stream",
       "stream": "stderr",
       "text": [
        "DEBUG:FFC:  Removing unused variable: tmp6\n"
       ]
      },
      {
       "output_type": "stream",
       "stream": "stderr",
       "text": [
        "DEBUG:FFC:  Removing unused variable: tmp5\n"
       ]
      },
      {
       "output_type": "stream",
       "stream": "stderr",
       "text": [
        "DEBUG:FFC:  Removing unused variable: tt\n"
       ]
      },
      {
       "output_type": "stream",
       "stream": "stderr",
       "text": [
        "DEBUG:FFC:  Removing unused variable: ss\n"
       ]
      },
      {
       "output_type": "stream",
       "stream": "stderr",
       "text": [
        "DEBUG:FFC:  Removing unused variable: rr\n"
       ]
      },
      {
       "output_type": "stream",
       "stream": "stderr",
       "text": [
        "DEBUG:FFC:  Removing unused variable: tmp7\n"
       ]
      },
      {
       "output_type": "stream",
       "stream": "stderr",
       "text": [
        "DEBUG:FFC:  Removing unused variable: tmp6\n"
       ]
      },
      {
       "output_type": "stream",
       "stream": "stderr",
       "text": [
        "DEBUG:FFC:  Removing unused variable: tmp5\n"
       ]
      },
      {
       "output_type": "stream",
       "stream": "stderr",
       "text": [
        "DEBUG:FFC:  Removing unused variable: tt\n"
       ]
      },
      {
       "output_type": "stream",
       "stream": "stderr",
       "text": [
        "DEBUG:FFC:  Removing unused variable: ss\n"
       ]
      },
      {
       "output_type": "stream",
       "stream": "stderr",
       "text": [
        "DEBUG:FFC:  Removing unused variable: rr\n"
       ]
      },
      {
       "output_type": "stream",
       "stream": "stderr",
       "text": [
        "DEBUG:FFC:  Removing unused variable: tmp7\n"
       ]
      },
      {
       "output_type": "stream",
       "stream": "stderr",
       "text": [
        "DEBUG:FFC:  Removing unused variable: tmp6\n"
       ]
      },
      {
       "output_type": "stream",
       "stream": "stderr",
       "text": [
        "DEBUG:FFC:  Removing unused variable: tmp5\n"
       ]
      },
      {
       "output_type": "stream",
       "stream": "stderr",
       "text": [
        "DEBUG:FFC:  Removing unused variable: tt\n"
       ]
      },
      {
       "output_type": "stream",
       "stream": "stderr",
       "text": [
        "DEBUG:FFC:  Removing unused variable: ss\n"
       ]
      },
      {
       "output_type": "stream",
       "stream": "stderr",
       "text": [
        "DEBUG:FFC:  Removing unused variable: rr\n"
       ]
      },
      {
       "output_type": "stream",
       "stream": "stderr",
       "text": [
        "DEBUG:FFC:  Removing unused variable: tmp7\n"
       ]
      },
      {
       "output_type": "stream",
       "stream": "stderr",
       "text": [
        "DEBUG:FFC:  Removing unused variable: tmp6\n"
       ]
      },
      {
       "output_type": "stream",
       "stream": "stderr",
       "text": [
        "DEBUG:FFC:  Removing unused variable: tmp5\n"
       ]
      },
      {
       "output_type": "stream",
       "stream": "stderr",
       "text": [
        "DEBUG:FFC:  Removing unused variable: tt\n"
       ]
      },
      {
       "output_type": "stream",
       "stream": "stderr",
       "text": [
        "DEBUG:FFC:  Removing unused variable: ss\n"
       ]
      },
      {
       "output_type": "stream",
       "stream": "stderr",
       "text": [
        "DEBUG:FFC:  Removing unused variable: rr\n"
       ]
      },
      {
       "output_type": "stream",
       "stream": "stderr",
       "text": [
        "DEBUG:FFC:  Removing unused variable: tmp7\n"
       ]
      },
      {
       "output_type": "stream",
       "stream": "stderr",
       "text": [
        "DEBUG:FFC:  Removing unused variable: tmp6\n"
       ]
      },
      {
       "output_type": "stream",
       "stream": "stderr",
       "text": [
        "DEBUG:FFC:  Removing unused variable: tmp5\n"
       ]
      },
      {
       "output_type": "stream",
       "stream": "stderr",
       "text": [
        "DEBUG:FFC:  Removing unused variable: tt\n"
       ]
      },
      {
       "output_type": "stream",
       "stream": "stderr",
       "text": [
        "DEBUG:FFC:  Removing unused variable: ss\n"
       ]
      },
      {
       "output_type": "stream",
       "stream": "stderr",
       "text": [
        "DEBUG:FFC:  Removing unused variable: rr\n"
       ]
      },
      {
       "output_type": "stream",
       "stream": "stderr",
       "text": [
        "DEBUG:FFC:  Removing unused variable: tmp7\n"
       ]
      },
      {
       "output_type": "stream",
       "stream": "stderr",
       "text": [
        "DEBUG:FFC:  Removing unused variable: tmp6\n"
       ]
      },
      {
       "output_type": "stream",
       "stream": "stderr",
       "text": [
        "DEBUG:FFC:  Removing unused variable: tmp5\n"
       ]
      },
      {
       "output_type": "stream",
       "stream": "stderr",
       "text": [
        "DEBUG:FFC:  Removing unused variable: tt\n"
       ]
      },
      {
       "output_type": "stream",
       "stream": "stderr",
       "text": [
        "DEBUG:FFC:  Removing unused variable: ss\n"
       ]
      },
      {
       "output_type": "stream",
       "stream": "stderr",
       "text": [
        "DEBUG:FFC:  Removing unused variable: rr\n"
       ]
      },
      {
       "output_type": "stream",
       "stream": "stderr",
       "text": [
        "DEBUG:FFC:  Removing unused variable: tmp7\n"
       ]
      },
      {
       "output_type": "stream",
       "stream": "stderr",
       "text": [
        "DEBUG:FFC:  Removing unused variable: tmp6\n"
       ]
      },
      {
       "output_type": "stream",
       "stream": "stderr",
       "text": [
        "DEBUG:FFC:  Removing unused variable: tmp5\n"
       ]
      },
      {
       "output_type": "stream",
       "stream": "stderr",
       "text": [
        "DEBUG:FFC:  Removing unused variable: tt\n"
       ]
      },
      {
       "output_type": "stream",
       "stream": "stderr",
       "text": [
        "DEBUG:FFC:  Removing unused variable: ss\n"
       ]
      },
      {
       "output_type": "stream",
       "stream": "stderr",
       "text": [
        "DEBUG:FFC:  Removing unused variable: rr\n"
       ]
      },
      {
       "output_type": "stream",
       "stream": "stderr",
       "text": [
        "DEBUG:FFC:  Removing unused variable: tmp7\n"
       ]
      },
      {
       "output_type": "stream",
       "stream": "stderr",
       "text": [
        "DEBUG:FFC:  Removing unused variable: tmp6\n"
       ]
      },
      {
       "output_type": "stream",
       "stream": "stderr",
       "text": [
        "DEBUG:FFC:  Removing unused variable: tmp5\n"
       ]
      },
      {
       "output_type": "stream",
       "stream": "stderr",
       "text": [
        "DEBUG:FFC:  Removing unused variable: tt\n"
       ]
      },
      {
       "output_type": "stream",
       "stream": "stderr",
       "text": [
        "DEBUG:FFC:  Removing unused variable: ss\n"
       ]
      },
      {
       "output_type": "stream",
       "stream": "stderr",
       "text": [
        "DEBUG:FFC:  Removing unused variable: rr\n"
       ]
      },
      {
       "output_type": "stream",
       "stream": "stderr",
       "text": [
        "DEBUG:FFC:  Removing unused variable: tmp7\n"
       ]
      },
      {
       "output_type": "stream",
       "stream": "stderr",
       "text": [
        "DEBUG:FFC:  Removing unused variable: tmp6\n"
       ]
      },
      {
       "output_type": "stream",
       "stream": "stderr",
       "text": [
        "DEBUG:FFC:  Removing unused variable: tmp5\n"
       ]
      },
      {
       "output_type": "stream",
       "stream": "stderr",
       "text": [
        "DEBUG:FFC:  Removing unused variable: tt\n"
       ]
      },
      {
       "output_type": "stream",
       "stream": "stderr",
       "text": [
        "DEBUG:FFC:  Removing unused variable: ss\n"
       ]
      },
      {
       "output_type": "stream",
       "stream": "stderr",
       "text": [
        "DEBUG:FFC:  Removing unused variable: rr\n"
       ]
      },
      {
       "output_type": "stream",
       "stream": "stderr",
       "text": [
        "DEBUG:FFC:  Removing unused variable: tmp7\n"
       ]
      },
      {
       "output_type": "stream",
       "stream": "stderr",
       "text": [
        "DEBUG:FFC:  Removing unused variable: tmp6\n"
       ]
      },
      {
       "output_type": "stream",
       "stream": "stderr",
       "text": [
        "DEBUG:FFC:  Removing unused variable: tmp5\n"
       ]
      },
      {
       "output_type": "stream",
       "stream": "stderr",
       "text": [
        "DEBUG:FFC:  Removing unused variable: tt\n"
       ]
      },
      {
       "output_type": "stream",
       "stream": "stderr",
       "text": [
        "DEBUG:FFC:  Removing unused variable: ss\n"
       ]
      },
      {
       "output_type": "stream",
       "stream": "stderr",
       "text": [
        "DEBUG:FFC:  Removing unused variable: rr\n"
       ]
      },
      {
       "output_type": "stream",
       "stream": "stderr",
       "text": [
        "DEBUG:FFC:  Removing unused variable: tmp7\n"
       ]
      },
      {
       "output_type": "stream",
       "stream": "stderr",
       "text": [
        "DEBUG:FFC:  Removing unused variable: tmp6\n"
       ]
      },
      {
       "output_type": "stream",
       "stream": "stderr",
       "text": [
        "DEBUG:FFC:  Removing unused variable: tmp5\n"
       ]
      },
      {
       "output_type": "stream",
       "stream": "stderr",
       "text": [
        "DEBUG:FFC:  Removing unused variable: tt\n"
       ]
      },
      {
       "output_type": "stream",
       "stream": "stderr",
       "text": [
        "DEBUG:FFC:  Removing unused variable: ss\n"
       ]
      },
      {
       "output_type": "stream",
       "stream": "stderr",
       "text": [
        "DEBUG:FFC:  Removing unused variable: rr\n"
       ]
      },
      {
       "output_type": "stream",
       "stream": "stderr",
       "text": [
        "DEBUG:FFC:  Removing unused variable: tmp7\n"
       ]
      },
      {
       "output_type": "stream",
       "stream": "stderr",
       "text": [
        "DEBUG:FFC:  Removing unused variable: tmp6\n"
       ]
      },
      {
       "output_type": "stream",
       "stream": "stderr",
       "text": [
        "DEBUG:FFC:  Removing unused variable: tmp5\n"
       ]
      },
      {
       "output_type": "stream",
       "stream": "stderr",
       "text": [
        "DEBUG:FFC:  Removing unused variable: tt\n"
       ]
      },
      {
       "output_type": "stream",
       "stream": "stderr",
       "text": [
        "DEBUG:FFC:  Removing unused variable: ss\n"
       ]
      },
      {
       "output_type": "stream",
       "stream": "stderr",
       "text": [
        "DEBUG:FFC:  Removing unused variable: rr\n"
       ]
      },
      {
       "output_type": "stream",
       "stream": "stderr",
       "text": [
        "DEBUG:FFC:  Removing unused variable: tmp7\n"
       ]
      },
      {
       "output_type": "stream",
       "stream": "stderr",
       "text": [
        "DEBUG:FFC:  Removing unused variable: tmp6\n"
       ]
      },
      {
       "output_type": "stream",
       "stream": "stderr",
       "text": [
        "DEBUG:FFC:  Removing unused variable: tmp5\n"
       ]
      },
      {
       "output_type": "stream",
       "stream": "stderr",
       "text": [
        "DEBUG:FFC:  Removing unused variable: tt\n"
       ]
      },
      {
       "output_type": "stream",
       "stream": "stderr",
       "text": [
        "DEBUG:FFC:  Removing unused variable: ss\n"
       ]
      },
      {
       "output_type": "stream",
       "stream": "stderr",
       "text": [
        "DEBUG:FFC:  Removing unused variable: rr\n"
       ]
      },
      {
       "output_type": "stream",
       "stream": "stderr",
       "text": [
        "DEBUG:FFC:  Removing unused variable: tmp7\n"
       ]
      },
      {
       "output_type": "stream",
       "stream": "stderr",
       "text": [
        "DEBUG:FFC:  Removing unused variable: tmp6\n"
       ]
      },
      {
       "output_type": "stream",
       "stream": "stderr",
       "text": [
        "DEBUG:FFC:  Removing unused variable: tmp5\n"
       ]
      },
      {
       "output_type": "stream",
       "stream": "stderr",
       "text": [
        "DEBUG:FFC:  Removing unused variable: tt\n"
       ]
      },
      {
       "output_type": "stream",
       "stream": "stderr",
       "text": [
        "DEBUG:FFC:  Removing unused variable: ss\n"
       ]
      },
      {
       "output_type": "stream",
       "stream": "stderr",
       "text": [
        "DEBUG:FFC:  Removing unused variable: rr\n"
       ]
      },
      {
       "output_type": "stream",
       "stream": "stderr",
       "text": [
        "DEBUG:FFC:  Removing unused variable: tmp7\n"
       ]
      },
      {
       "output_type": "stream",
       "stream": "stderr",
       "text": [
        "DEBUG:FFC:  Removing unused variable: tmp6\n"
       ]
      },
      {
       "output_type": "stream",
       "stream": "stderr",
       "text": [
        "DEBUG:FFC:  Removing unused variable: tmp5\n"
       ]
      },
      {
       "output_type": "stream",
       "stream": "stderr",
       "text": [
        "DEBUG:FFC:  Removing unused variable: tt\n"
       ]
      },
      {
       "output_type": "stream",
       "stream": "stderr",
       "text": [
        "DEBUG:FFC:  Removing unused variable: ss\n"
       ]
      },
      {
       "output_type": "stream",
       "stream": "stderr",
       "text": [
        "DEBUG:FFC:  Removing unused variable: rr\n"
       ]
      },
      {
       "output_type": "stream",
       "stream": "stderr",
       "text": [
        "DEBUG:FFC:  Removing unused variable: tmp7\n"
       ]
      },
      {
       "output_type": "stream",
       "stream": "stderr",
       "text": [
        "DEBUG:FFC:  Removing unused variable: tmp6\n"
       ]
      },
      {
       "output_type": "stream",
       "stream": "stderr",
       "text": [
        "DEBUG:FFC:  Removing unused variable: tmp5\n"
       ]
      },
      {
       "output_type": "stream",
       "stream": "stderr",
       "text": [
        "DEBUG:FFC:  Removing unused variable: tt\n"
       ]
      },
      {
       "output_type": "stream",
       "stream": "stderr",
       "text": [
        "DEBUG:FFC:  Removing unused variable: ss\n"
       ]
      },
      {
       "output_type": "stream",
       "stream": "stderr",
       "text": [
        "DEBUG:FFC:  Removing unused variable: rr\n"
       ]
      },
      {
       "output_type": "stream",
       "stream": "stderr",
       "text": [
        "DEBUG:FFC:  Removing unused variable: tmp7\n"
       ]
      },
      {
       "output_type": "stream",
       "stream": "stderr",
       "text": [
        "DEBUG:FFC:  Removing unused variable: tmp6\n"
       ]
      },
      {
       "output_type": "stream",
       "stream": "stderr",
       "text": [
        "DEBUG:FFC:  Removing unused variable: tmp5\n"
       ]
      },
      {
       "output_type": "stream",
       "stream": "stderr",
       "text": [
        "DEBUG:FFC:  Removing unused variable: tt\n"
       ]
      },
      {
       "output_type": "stream",
       "stream": "stderr",
       "text": [
        "DEBUG:FFC:  Removing unused variable: ss\n"
       ]
      },
      {
       "output_type": "stream",
       "stream": "stderr",
       "text": [
        "DEBUG:FFC:  Removing unused variable: rr\n"
       ]
      },
      {
       "output_type": "stream",
       "stream": "stderr",
       "text": [
        "DEBUG:FFC:  Removing unused variable: tmp7\n"
       ]
      },
      {
       "output_type": "stream",
       "stream": "stderr",
       "text": [
        "DEBUG:FFC:  Removing unused variable: tmp6\n"
       ]
      },
      {
       "output_type": "stream",
       "stream": "stderr",
       "text": [
        "DEBUG:FFC:  Removing unused variable: tmp5\n"
       ]
      },
      {
       "output_type": "stream",
       "stream": "stderr",
       "text": [
        "DEBUG:FFC:  Removing unused variable: tt\n"
       ]
      },
      {
       "output_type": "stream",
       "stream": "stderr",
       "text": [
        "DEBUG:FFC:  Removing unused variable: ss\n"
       ]
      },
      {
       "output_type": "stream",
       "stream": "stderr",
       "text": [
        "DEBUG:FFC:  Removing unused variable: rr\n"
       ]
      },
      {
       "output_type": "stream",
       "stream": "stderr",
       "text": [
        "DEBUG:FFC:  Removing unused variable: tmp7\n"
       ]
      },
      {
       "output_type": "stream",
       "stream": "stderr",
       "text": [
        "DEBUG:FFC:  Removing unused variable: tmp6\n"
       ]
      },
      {
       "output_type": "stream",
       "stream": "stderr",
       "text": [
        "DEBUG:FFC:  Removing unused variable: tmp5\n"
       ]
      },
      {
       "output_type": "stream",
       "stream": "stderr",
       "text": [
        "DEBUG:FFC:  Removing unused variable: tt\n"
       ]
      },
      {
       "output_type": "stream",
       "stream": "stderr",
       "text": [
        "DEBUG:FFC:  Removing unused variable: ss\n"
       ]
      },
      {
       "output_type": "stream",
       "stream": "stderr",
       "text": [
        "DEBUG:FFC:  Removing unused variable: rr\n"
       ]
      },
      {
       "output_type": "stream",
       "stream": "stderr",
       "text": [
        "DEBUG:FFC:  Removing unused variable: tmp7\n"
       ]
      },
      {
       "output_type": "stream",
       "stream": "stderr",
       "text": [
        "DEBUG:FFC:  Removing unused variable: tmp6\n"
       ]
      },
      {
       "output_type": "stream",
       "stream": "stderr",
       "text": [
        "DEBUG:FFC:  Removing unused variable: tmp5\n"
       ]
      },
      {
       "output_type": "stream",
       "stream": "stderr",
       "text": [
        "DEBUG:FFC:  Removing unused variable: tt\n"
       ]
      },
      {
       "output_type": "stream",
       "stream": "stderr",
       "text": [
        "DEBUG:FFC:  Removing unused variable: ss\n"
       ]
      },
      {
       "output_type": "stream",
       "stream": "stderr",
       "text": [
        "DEBUG:FFC:  Removing unused variable: rr\n"
       ]
      },
      {
       "output_type": "stream",
       "stream": "stderr",
       "text": [
        "DEBUG:FFC:  Removing unused variable: tmp7\n"
       ]
      },
      {
       "output_type": "stream",
       "stream": "stderr",
       "text": [
        "DEBUG:FFC:  Removing unused variable: tmp6\n"
       ]
      },
      {
       "output_type": "stream",
       "stream": "stderr",
       "text": [
        "DEBUG:FFC:  Removing unused variable: tmp5\n"
       ]
      },
      {
       "output_type": "stream",
       "stream": "stderr",
       "text": [
        "DEBUG:FFC:  Removing unused variable: tt\n"
       ]
      },
      {
       "output_type": "stream",
       "stream": "stderr",
       "text": [
        "DEBUG:FFC:  Removing unused variable: ss\n"
       ]
      },
      {
       "output_type": "stream",
       "stream": "stderr",
       "text": [
        "DEBUG:FFC:  Removing unused variable: rr\n"
       ]
      },
      {
       "output_type": "stream",
       "stream": "stderr",
       "text": [
        "DEBUG:FFC:  Removing unused variable: tmp7\n"
       ]
      },
      {
       "output_type": "stream",
       "stream": "stderr",
       "text": [
        "DEBUG:FFC:  Removing unused variable: tmp6\n"
       ]
      },
      {
       "output_type": "stream",
       "stream": "stderr",
       "text": [
        "DEBUG:FFC:  Removing unused variable: tmp5\n"
       ]
      },
      {
       "output_type": "stream",
       "stream": "stderr",
       "text": [
        "DEBUG:FFC:  Removing unused variable: tt\n"
       ]
      },
      {
       "output_type": "stream",
       "stream": "stderr",
       "text": [
        "DEBUG:FFC:  Removing unused variable: ss\n"
       ]
      },
      {
       "output_type": "stream",
       "stream": "stderr",
       "text": [
        "DEBUG:FFC:  Removing unused variable: rr\n"
       ]
      },
      {
       "output_type": "stream",
       "stream": "stderr",
       "text": [
        "DEBUG:FFC:  Removing unused variable: tmp7\n"
       ]
      },
      {
       "output_type": "stream",
       "stream": "stderr",
       "text": [
        "DEBUG:FFC:  Removing unused variable: tmp6\n"
       ]
      },
      {
       "output_type": "stream",
       "stream": "stderr",
       "text": [
        "DEBUG:FFC:  Removing unused variable: tmp5\n"
       ]
      },
      {
       "output_type": "stream",
       "stream": "stderr",
       "text": [
        "DEBUG:FFC:  Removing unused variable: tt\n"
       ]
      },
      {
       "output_type": "stream",
       "stream": "stderr",
       "text": [
        "DEBUG:FFC:  Removing unused variable: ss\n"
       ]
      },
      {
       "output_type": "stream",
       "stream": "stderr",
       "text": [
        "DEBUG:FFC:  Removing unused variable: rr\n"
       ]
      },
      {
       "output_type": "stream",
       "stream": "stderr",
       "text": [
        "DEBUG:FFC:  Removing unused variable: tmp2\n"
       ]
      },
      {
       "output_type": "stream",
       "stream": "stderr",
       "text": [
        "DEBUG:FFC:  Removing unused variable: tmp1\n"
       ]
      },
      {
       "output_type": "stream",
       "stream": "stderr",
       "text": [
        "DEBUG:FFC:  Removing unused variable: tmp7\n"
       ]
      },
      {
       "output_type": "stream",
       "stream": "stderr",
       "text": [
        "DEBUG:FFC:  Removing unused variable: tmp6\n"
       ]
      },
      {
       "output_type": "stream",
       "stream": "stderr",
       "text": [
        "DEBUG:FFC:  Removing unused variable: tmp5\n"
       ]
      },
      {
       "output_type": "stream",
       "stream": "stderr",
       "text": [
        "DEBUG:FFC:  Removing unused variable: tt\n"
       ]
      },
      {
       "output_type": "stream",
       "stream": "stderr",
       "text": [
        "DEBUG:FFC:  Removing unused variable: ss\n"
       ]
      },
      {
       "output_type": "stream",
       "stream": "stderr",
       "text": [
        "DEBUG:FFC:  Removing unused variable: rr\n"
       ]
      },
      {
       "output_type": "stream",
       "stream": "stderr",
       "text": [
        "DEBUG:FFC:  Removing unused variable: tmp2\n"
       ]
      },
      {
       "output_type": "stream",
       "stream": "stderr",
       "text": [
        "DEBUG:FFC:  Removing unused variable: tmp1\n"
       ]
      },
      {
       "output_type": "stream",
       "stream": "stderr",
       "text": [
        "DEBUG:FFC:  Removing unused variable: tmp7\n"
       ]
      },
      {
       "output_type": "stream",
       "stream": "stderr",
       "text": [
        "DEBUG:FFC:  Removing unused variable: tmp6\n"
       ]
      },
      {
       "output_type": "stream",
       "stream": "stderr",
       "text": [
        "DEBUG:FFC:  Removing unused variable: tmp5\n"
       ]
      },
      {
       "output_type": "stream",
       "stream": "stderr",
       "text": [
        "DEBUG:FFC:  Removing unused variable: tt\n"
       ]
      },
      {
       "output_type": "stream",
       "stream": "stderr",
       "text": [
        "DEBUG:FFC:  Removing unused variable: ss\n"
       ]
      },
      {
       "output_type": "stream",
       "stream": "stderr",
       "text": [
        "DEBUG:FFC:  Removing unused variable: rr\n"
       ]
      },
      {
       "output_type": "stream",
       "stream": "stderr",
       "text": [
        "DEBUG:FFC:  Removing unused variable: tmp2\n"
       ]
      },
      {
       "output_type": "stream",
       "stream": "stderr",
       "text": [
        "DEBUG:FFC:  Removing unused variable: tmp1\n"
       ]
      },
      {
       "output_type": "stream",
       "stream": "stderr",
       "text": [
        "DEBUG:FFC:  Removing unused variable: tmp7\n"
       ]
      },
      {
       "output_type": "stream",
       "stream": "stderr",
       "text": [
        "DEBUG:FFC:  Removing unused variable: tmp6\n"
       ]
      },
      {
       "output_type": "stream",
       "stream": "stderr",
       "text": [
        "DEBUG:FFC:  Removing unused variable: tmp5\n"
       ]
      },
      {
       "output_type": "stream",
       "stream": "stderr",
       "text": [
        "DEBUG:FFC:  Removing unused variable: tt\n"
       ]
      },
      {
       "output_type": "stream",
       "stream": "stderr",
       "text": [
        "DEBUG:FFC:  Removing unused variable: ss\n"
       ]
      },
      {
       "output_type": "stream",
       "stream": "stderr",
       "text": [
        "DEBUG:FFC:  Removing unused variable: rr\n"
       ]
      },
      {
       "output_type": "stream",
       "stream": "stderr",
       "text": [
        "DEBUG:FFC:  Removing unused variable: tmp7\n"
       ]
      },
      {
       "output_type": "stream",
       "stream": "stderr",
       "text": [
        "DEBUG:FFC:  Removing unused variable: tmp6\n"
       ]
      },
      {
       "output_type": "stream",
       "stream": "stderr",
       "text": [
        "DEBUG:FFC:  Removing unused variable: tmp5\n"
       ]
      },
      {
       "output_type": "stream",
       "stream": "stderr",
       "text": [
        "DEBUG:FFC:  Removing unused variable: tt\n"
       ]
      },
      {
       "output_type": "stream",
       "stream": "stderr",
       "text": [
        "DEBUG:FFC:  Removing unused variable: ss\n"
       ]
      },
      {
       "output_type": "stream",
       "stream": "stderr",
       "text": [
        "DEBUG:FFC:  Removing unused variable: rr\n"
       ]
      },
      {
       "output_type": "stream",
       "stream": "stderr",
       "text": [
        "DEBUG:FFC:  Removing unused variable: tmp7\n"
       ]
      },
      {
       "output_type": "stream",
       "stream": "stderr",
       "text": [
        "DEBUG:FFC:  Removing unused variable: tmp6\n"
       ]
      },
      {
       "output_type": "stream",
       "stream": "stderr",
       "text": [
        "DEBUG:FFC:  Removing unused variable: tmp5\n"
       ]
      },
      {
       "output_type": "stream",
       "stream": "stderr",
       "text": [
        "DEBUG:FFC:  Removing unused variable: tt\n"
       ]
      },
      {
       "output_type": "stream",
       "stream": "stderr",
       "text": [
        "DEBUG:FFC:  Removing unused variable: ss\n"
       ]
      },
      {
       "output_type": "stream",
       "stream": "stderr",
       "text": [
        "DEBUG:FFC:  Removing unused variable: rr\n"
       ]
      },
      {
       "output_type": "stream",
       "stream": "stderr",
       "text": [
        "DEBUG:FFC:  Removing unused variable: tmp7\n"
       ]
      },
      {
       "output_type": "stream",
       "stream": "stderr",
       "text": [
        "DEBUG:FFC:  Removing unused variable: tmp6\n"
       ]
      },
      {
       "output_type": "stream",
       "stream": "stderr",
       "text": [
        "DEBUG:FFC:  Removing unused variable: tmp5\n"
       ]
      },
      {
       "output_type": "stream",
       "stream": "stderr",
       "text": [
        "DEBUG:FFC:  Removing unused variable: tt\n"
       ]
      },
      {
       "output_type": "stream",
       "stream": "stderr",
       "text": [
        "DEBUG:FFC:  Removing unused variable: ss\n"
       ]
      },
      {
       "output_type": "stream",
       "stream": "stderr",
       "text": [
        "DEBUG:FFC:  Removing unused variable: rr\n"
       ]
      },
      {
       "output_type": "stream",
       "stream": "stderr",
       "text": [
        "DEBUG:FFC:  Removing unused variable: tmp7\n"
       ]
      },
      {
       "output_type": "stream",
       "stream": "stderr",
       "text": [
        "DEBUG:FFC:  Removing unused variable: tmp6\n"
       ]
      },
      {
       "output_type": "stream",
       "stream": "stderr",
       "text": [
        "DEBUG:FFC:  Removing unused variable: tmp5\n"
       ]
      },
      {
       "output_type": "stream",
       "stream": "stderr",
       "text": [
        "DEBUG:FFC:  Removing unused variable: tt\n"
       ]
      },
      {
       "output_type": "stream",
       "stream": "stderr",
       "text": [
        "DEBUG:FFC:  Removing unused variable: ss\n"
       ]
      },
      {
       "output_type": "stream",
       "stream": "stderr",
       "text": [
        "DEBUG:FFC:  Removing unused variable: rr\n"
       ]
      },
      {
       "output_type": "stream",
       "stream": "stderr",
       "text": [
        "DEBUG:FFC:  Removing unused variable: tmp7\n"
       ]
      },
      {
       "output_type": "stream",
       "stream": "stderr",
       "text": [
        "DEBUG:FFC:  Removing unused variable: tmp6\n"
       ]
      },
      {
       "output_type": "stream",
       "stream": "stderr",
       "text": [
        "DEBUG:FFC:  Removing unused variable: tmp5\n"
       ]
      },
      {
       "output_type": "stream",
       "stream": "stderr",
       "text": [
        "DEBUG:FFC:  Removing unused variable: tt\n"
       ]
      },
      {
       "output_type": "stream",
       "stream": "stderr",
       "text": [
        "DEBUG:FFC:  Removing unused variable: ss\n"
       ]
      },
      {
       "output_type": "stream",
       "stream": "stderr",
       "text": [
        "DEBUG:FFC:  Removing unused variable: rr\n"
       ]
      },
      {
       "output_type": "stream",
       "stream": "stderr",
       "text": [
        "DEBUG:FFC:  Removing unused variable: tmp7\n"
       ]
      },
      {
       "output_type": "stream",
       "stream": "stderr",
       "text": [
        "DEBUG:FFC:  Removing unused variable: tmp6\n"
       ]
      },
      {
       "output_type": "stream",
       "stream": "stderr",
       "text": [
        "DEBUG:FFC:  Removing unused variable: tmp5\n"
       ]
      },
      {
       "output_type": "stream",
       "stream": "stderr",
       "text": [
        "DEBUG:FFC:  Removing unused variable: tt\n"
       ]
      },
      {
       "output_type": "stream",
       "stream": "stderr",
       "text": [
        "DEBUG:FFC:  Removing unused variable: ss\n"
       ]
      },
      {
       "output_type": "stream",
       "stream": "stderr",
       "text": [
        "DEBUG:FFC:  Removing unused variable: rr\n"
       ]
      },
      {
       "output_type": "stream",
       "stream": "stderr",
       "text": [
        "DEBUG:FFC:  Removing unused variable: tmp7\n"
       ]
      },
      {
       "output_type": "stream",
       "stream": "stderr",
       "text": [
        "DEBUG:FFC:  Removing unused variable: tmp6\n"
       ]
      },
      {
       "output_type": "stream",
       "stream": "stderr",
       "text": [
        "DEBUG:FFC:  Removing unused variable: tmp5\n"
       ]
      },
      {
       "output_type": "stream",
       "stream": "stderr",
       "text": [
        "DEBUG:FFC:  Removing unused variable: tt\n"
       ]
      },
      {
       "output_type": "stream",
       "stream": "stderr",
       "text": [
        "DEBUG:FFC:  Removing unused variable: ss\n"
       ]
      },
      {
       "output_type": "stream",
       "stream": "stderr",
       "text": [
        "DEBUG:FFC:  Removing unused variable: rr\n"
       ]
      },
      {
       "output_type": "stream",
       "stream": "stderr",
       "text": [
        "DEBUG:FFC:  Removing unused variable: tmp7\n"
       ]
      },
      {
       "output_type": "stream",
       "stream": "stderr",
       "text": [
        "DEBUG:FFC:  Removing unused variable: tmp6\n"
       ]
      },
      {
       "output_type": "stream",
       "stream": "stderr",
       "text": [
        "DEBUG:FFC:  Removing unused variable: tmp5\n"
       ]
      },
      {
       "output_type": "stream",
       "stream": "stderr",
       "text": [
        "DEBUG:FFC:  Removing unused variable: tt\n"
       ]
      },
      {
       "output_type": "stream",
       "stream": "stderr",
       "text": [
        "DEBUG:FFC:  Removing unused variable: ss\n"
       ]
      },
      {
       "output_type": "stream",
       "stream": "stderr",
       "text": [
        "DEBUG:FFC:  Removing unused variable: rr\n"
       ]
      },
      {
       "output_type": "stream",
       "stream": "stderr",
       "text": [
        "DEBUG:FFC:  Removing unused variable: tmp7\n"
       ]
      },
      {
       "output_type": "stream",
       "stream": "stderr",
       "text": [
        "DEBUG:FFC:  Removing unused variable: tmp6\n"
       ]
      },
      {
       "output_type": "stream",
       "stream": "stderr",
       "text": [
        "DEBUG:FFC:  Removing unused variable: tmp5\n"
       ]
      },
      {
       "output_type": "stream",
       "stream": "stderr",
       "text": [
        "DEBUG:FFC:  Removing unused variable: tt\n"
       ]
      },
      {
       "output_type": "stream",
       "stream": "stderr",
       "text": [
        "DEBUG:FFC:  Removing unused variable: ss\n"
       ]
      },
      {
       "output_type": "stream",
       "stream": "stderr",
       "text": [
        "DEBUG:FFC:  Removing unused variable: rr\n"
       ]
      },
      {
       "output_type": "stream",
       "stream": "stderr",
       "text": [
        "DEBUG:FFC:  Removing unused variable: tmp7\n"
       ]
      },
      {
       "output_type": "stream",
       "stream": "stderr",
       "text": [
        "DEBUG:FFC:  Removing unused variable: tmp6\n"
       ]
      },
      {
       "output_type": "stream",
       "stream": "stderr",
       "text": [
        "DEBUG:FFC:  Removing unused variable: tmp5\n"
       ]
      },
      {
       "output_type": "stream",
       "stream": "stderr",
       "text": [
        "DEBUG:FFC:  Removing unused variable: tt\n"
       ]
      },
      {
       "output_type": "stream",
       "stream": "stderr",
       "text": [
        "DEBUG:FFC:  Removing unused variable: ss\n"
       ]
      },
      {
       "output_type": "stream",
       "stream": "stderr",
       "text": [
        "DEBUG:FFC:  Removing unused variable: rr\n"
       ]
      },
      {
       "output_type": "stream",
       "stream": "stderr",
       "text": [
        "DEBUG:FFC:  Removing unused variable: tmp7\n"
       ]
      },
      {
       "output_type": "stream",
       "stream": "stderr",
       "text": [
        "DEBUG:FFC:  Removing unused variable: tmp6\n"
       ]
      },
      {
       "output_type": "stream",
       "stream": "stderr",
       "text": [
        "DEBUG:FFC:  Removing unused variable: tmp5\n"
       ]
      },
      {
       "output_type": "stream",
       "stream": "stderr",
       "text": [
        "DEBUG:FFC:  Removing unused variable: tt\n"
       ]
      },
      {
       "output_type": "stream",
       "stream": "stderr",
       "text": [
        "DEBUG:FFC:  Removing unused variable: ss\n"
       ]
      },
      {
       "output_type": "stream",
       "stream": "stderr",
       "text": [
        "DEBUG:FFC:  Removing unused variable: rr\n"
       ]
      },
      {
       "output_type": "stream",
       "stream": "stderr",
       "text": [
        "DEBUG:FFC:  Removing unused variable: tmp7\n"
       ]
      },
      {
       "output_type": "stream",
       "stream": "stderr",
       "text": [
        "DEBUG:FFC:  Removing unused variable: tmp6\n"
       ]
      },
      {
       "output_type": "stream",
       "stream": "stderr",
       "text": [
        "DEBUG:FFC:  Removing unused variable: tmp5\n"
       ]
      },
      {
       "output_type": "stream",
       "stream": "stderr",
       "text": [
        "DEBUG:FFC:  Removing unused variable: tt\n"
       ]
      },
      {
       "output_type": "stream",
       "stream": "stderr",
       "text": [
        "DEBUG:FFC:  Removing unused variable: ss\n"
       ]
      },
      {
       "output_type": "stream",
       "stream": "stderr",
       "text": [
        "DEBUG:FFC:  Removing unused variable: rr\n"
       ]
      },
      {
       "output_type": "stream",
       "stream": "stderr",
       "text": [
        "DEBUG:FFC:  Removing unused variable: tmp7\n"
       ]
      },
      {
       "output_type": "stream",
       "stream": "stderr",
       "text": [
        "DEBUG:FFC:  Removing unused variable: tmp6\n"
       ]
      },
      {
       "output_type": "stream",
       "stream": "stderr",
       "text": [
        "DEBUG:FFC:  Removing unused variable: tmp5\n"
       ]
      },
      {
       "output_type": "stream",
       "stream": "stderr",
       "text": [
        "DEBUG:FFC:  Removing unused variable: tt\n"
       ]
      },
      {
       "output_type": "stream",
       "stream": "stderr",
       "text": [
        "DEBUG:FFC:  Removing unused variable: ss\n"
       ]
      },
      {
       "output_type": "stream",
       "stream": "stderr",
       "text": [
        "DEBUG:FFC:  Removing unused variable: rr\n"
       ]
      },
      {
       "output_type": "stream",
       "stream": "stderr",
       "text": [
        "DEBUG:FFC:  Removing unused variable: tmp7\n"
       ]
      },
      {
       "output_type": "stream",
       "stream": "stderr",
       "text": [
        "DEBUG:FFC:  Removing unused variable: tmp6\n"
       ]
      },
      {
       "output_type": "stream",
       "stream": "stderr",
       "text": [
        "DEBUG:FFC:  Removing unused variable: tmp5\n"
       ]
      },
      {
       "output_type": "stream",
       "stream": "stderr",
       "text": [
        "DEBUG:FFC:  Removing unused variable: tt\n"
       ]
      },
      {
       "output_type": "stream",
       "stream": "stderr",
       "text": [
        "DEBUG:FFC:  Removing unused variable: ss\n"
       ]
      },
      {
       "output_type": "stream",
       "stream": "stderr",
       "text": [
        "DEBUG:FFC:  Removing unused variable: rr\n"
       ]
      },
      {
       "output_type": "stream",
       "stream": "stderr",
       "text": [
        "DEBUG:FFC:  Removing unused variable: tmp7\n"
       ]
      },
      {
       "output_type": "stream",
       "stream": "stderr",
       "text": [
        "DEBUG:FFC:  Removing unused variable: tmp6\n"
       ]
      },
      {
       "output_type": "stream",
       "stream": "stderr",
       "text": [
        "DEBUG:FFC:  Removing unused variable: tmp5\n"
       ]
      },
      {
       "output_type": "stream",
       "stream": "stderr",
       "text": [
        "DEBUG:FFC:  Removing unused variable: tt\n"
       ]
      },
      {
       "output_type": "stream",
       "stream": "stderr",
       "text": [
        "DEBUG:FFC:  Removing unused variable: ss\n"
       ]
      },
      {
       "output_type": "stream",
       "stream": "stderr",
       "text": [
        "DEBUG:FFC:  Removing unused variable: rr\n"
       ]
      },
      {
       "output_type": "stream",
       "stream": "stderr",
       "text": [
        "DEBUG:FFC:  Removing unused variable: tmp7\n"
       ]
      },
      {
       "output_type": "stream",
       "stream": "stderr",
       "text": [
        "DEBUG:FFC:  Removing unused variable: tmp6\n"
       ]
      },
      {
       "output_type": "stream",
       "stream": "stderr",
       "text": [
        "DEBUG:FFC:  Removing unused variable: tmp5\n"
       ]
      },
      {
       "output_type": "stream",
       "stream": "stderr",
       "text": [
        "DEBUG:FFC:  Removing unused variable: tt\n"
       ]
      },
      {
       "output_type": "stream",
       "stream": "stderr",
       "text": [
        "DEBUG:FFC:  Removing unused variable: ss\n"
       ]
      },
      {
       "output_type": "stream",
       "stream": "stderr",
       "text": [
        "DEBUG:FFC:  Removing unused variable: rr\n"
       ]
      },
      {
       "output_type": "stream",
       "stream": "stderr",
       "text": [
        "DEBUG:FFC:  Removing unused variable: tmp7\n"
       ]
      },
      {
       "output_type": "stream",
       "stream": "stderr",
       "text": [
        "DEBUG:FFC:  Removing unused variable: tmp6\n"
       ]
      },
      {
       "output_type": "stream",
       "stream": "stderr",
       "text": [
        "DEBUG:FFC:  Removing unused variable: tmp5\n"
       ]
      },
      {
       "output_type": "stream",
       "stream": "stderr",
       "text": [
        "DEBUG:FFC:  Removing unused variable: tt\n"
       ]
      },
      {
       "output_type": "stream",
       "stream": "stderr",
       "text": [
        "DEBUG:FFC:  Removing unused variable: ss\n"
       ]
      },
      {
       "output_type": "stream",
       "stream": "stderr",
       "text": [
        "DEBUG:FFC:  Removing unused variable: rr\n"
       ]
      },
      {
       "output_type": "stream",
       "stream": "stderr",
       "text": [
        "DEBUG:FFC:  Removing unused variable: tmp7\n"
       ]
      },
      {
       "output_type": "stream",
       "stream": "stderr",
       "text": [
        "DEBUG:FFC:  Removing unused variable: tmp6\n"
       ]
      },
      {
       "output_type": "stream",
       "stream": "stderr",
       "text": [
        "DEBUG:FFC:  Removing unused variable: tmp5\n"
       ]
      },
      {
       "output_type": "stream",
       "stream": "stderr",
       "text": [
        "DEBUG:FFC:  Removing unused variable: tt\n"
       ]
      },
      {
       "output_type": "stream",
       "stream": "stderr",
       "text": [
        "DEBUG:FFC:  Removing unused variable: ss\n"
       ]
      },
      {
       "output_type": "stream",
       "stream": "stderr",
       "text": [
        "DEBUG:FFC:  Removing unused variable: rr\n"
       ]
      },
      {
       "output_type": "stream",
       "stream": "stderr",
       "text": [
        "DEBUG:FFC:  Removing unused variable: tmp7\n"
       ]
      },
      {
       "output_type": "stream",
       "stream": "stderr",
       "text": [
        "DEBUG:FFC:  Removing unused variable: tmp6\n"
       ]
      },
      {
       "output_type": "stream",
       "stream": "stderr",
       "text": [
        "DEBUG:FFC:  Removing unused variable: tmp5\n"
       ]
      },
      {
       "output_type": "stream",
       "stream": "stderr",
       "text": [
        "DEBUG:FFC:  Removing unused variable: tt\n"
       ]
      },
      {
       "output_type": "stream",
       "stream": "stderr",
       "text": [
        "DEBUG:FFC:  Removing unused variable: ss\n"
       ]
      },
      {
       "output_type": "stream",
       "stream": "stderr",
       "text": [
        "DEBUG:FFC:  Removing unused variable: rr\n"
       ]
      },
      {
       "output_type": "stream",
       "stream": "stderr",
       "text": [
        "DEBUG:FFC:  Removing unused variable: tmp7\n"
       ]
      },
      {
       "output_type": "stream",
       "stream": "stderr",
       "text": [
        "DEBUG:FFC:  Removing unused variable: tmp6\n"
       ]
      },
      {
       "output_type": "stream",
       "stream": "stderr",
       "text": [
        "DEBUG:FFC:  Removing unused variable: tmp5\n"
       ]
      },
      {
       "output_type": "stream",
       "stream": "stderr",
       "text": [
        "DEBUG:FFC:  Removing unused variable: tt\n"
       ]
      },
      {
       "output_type": "stream",
       "stream": "stderr",
       "text": [
        "DEBUG:FFC:  Removing unused variable: ss\n"
       ]
      },
      {
       "output_type": "stream",
       "stream": "stderr",
       "text": [
        "DEBUG:FFC:  Removing unused variable: rr\n"
       ]
      },
      {
       "output_type": "stream",
       "stream": "stderr",
       "text": [
        "DEBUG:FFC:  Removing unused variable: tmp7\n"
       ]
      },
      {
       "output_type": "stream",
       "stream": "stderr",
       "text": [
        "DEBUG:FFC:  Removing unused variable: tmp6\n"
       ]
      },
      {
       "output_type": "stream",
       "stream": "stderr",
       "text": [
        "DEBUG:FFC:  Removing unused variable: tmp5\n"
       ]
      },
      {
       "output_type": "stream",
       "stream": "stderr",
       "text": [
        "DEBUG:FFC:  Removing unused variable: tt\n"
       ]
      },
      {
       "output_type": "stream",
       "stream": "stderr",
       "text": [
        "DEBUG:FFC:  Removing unused variable: ss\n"
       ]
      },
      {
       "output_type": "stream",
       "stream": "stderr",
       "text": [
        "DEBUG:FFC:  Removing unused variable: rr\n"
       ]
      },
      {
       "output_type": "stream",
       "stream": "stderr",
       "text": [
        "DEBUG:FFC:  Removing unused variable: tmp7\n"
       ]
      },
      {
       "output_type": "stream",
       "stream": "stderr",
       "text": [
        "DEBUG:FFC:  Removing unused variable: tmp6\n"
       ]
      },
      {
       "output_type": "stream",
       "stream": "stderr",
       "text": [
        "DEBUG:FFC:  Removing unused variable: tmp5\n"
       ]
      },
      {
       "output_type": "stream",
       "stream": "stderr",
       "text": [
        "DEBUG:FFC:  Removing unused variable: tt\n"
       ]
      },
      {
       "output_type": "stream",
       "stream": "stderr",
       "text": [
        "DEBUG:FFC:  Removing unused variable: ss\n"
       ]
      },
      {
       "output_type": "stream",
       "stream": "stderr",
       "text": [
        "DEBUG:FFC:  Removing unused variable: rr\n"
       ]
      },
      {
       "output_type": "stream",
       "stream": "stderr",
       "text": [
        "DEBUG:FFC:  Removing unused variable: tmp7\n"
       ]
      },
      {
       "output_type": "stream",
       "stream": "stderr",
       "text": [
        "DEBUG:FFC:  Removing unused variable: tmp6\n"
       ]
      },
      {
       "output_type": "stream",
       "stream": "stderr",
       "text": [
        "DEBUG:FFC:  Removing unused variable: tmp5\n"
       ]
      },
      {
       "output_type": "stream",
       "stream": "stderr",
       "text": [
        "DEBUG:FFC:  Removing unused variable: tt\n"
       ]
      },
      {
       "output_type": "stream",
       "stream": "stderr",
       "text": [
        "DEBUG:FFC:  Removing unused variable: ss\n"
       ]
      },
      {
       "output_type": "stream",
       "stream": "stderr",
       "text": [
        "DEBUG:FFC:  Removing unused variable: rr\n"
       ]
      },
      {
       "output_type": "stream",
       "stream": "stderr",
       "text": [
        "DEBUG:FFC:  Removing unused variable: tmp7\n"
       ]
      },
      {
       "output_type": "stream",
       "stream": "stderr",
       "text": [
        "DEBUG:FFC:  Removing unused variable: tmp6\n"
       ]
      },
      {
       "output_type": "stream",
       "stream": "stderr",
       "text": [
        "DEBUG:FFC:  Removing unused variable: tmp5\n"
       ]
      },
      {
       "output_type": "stream",
       "stream": "stderr",
       "text": [
        "DEBUG:FFC:  Removing unused variable: tt\n"
       ]
      },
      {
       "output_type": "stream",
       "stream": "stderr",
       "text": [
        "DEBUG:FFC:  Removing unused variable: ss\n"
       ]
      },
      {
       "output_type": "stream",
       "stream": "stderr",
       "text": [
        "DEBUG:FFC:  Removing unused variable: rr\n"
       ]
      },
      {
       "output_type": "stream",
       "stream": "stderr",
       "text": [
        "DEBUG:FFC:  Removing unused variable: tmp7\n"
       ]
      },
      {
       "output_type": "stream",
       "stream": "stderr",
       "text": [
        "DEBUG:FFC:  Removing unused variable: tmp6\n"
       ]
      },
      {
       "output_type": "stream",
       "stream": "stderr",
       "text": [
        "DEBUG:FFC:  Removing unused variable: tmp5\n"
       ]
      },
      {
       "output_type": "stream",
       "stream": "stderr",
       "text": [
        "DEBUG:FFC:  Removing unused variable: tt\n"
       ]
      },
      {
       "output_type": "stream",
       "stream": "stderr",
       "text": [
        "DEBUG:FFC:  Removing unused variable: ss\n"
       ]
      },
      {
       "output_type": "stream",
       "stream": "stderr",
       "text": [
        "DEBUG:FFC:  Removing unused variable: rr\n"
       ]
      },
      {
       "output_type": "stream",
       "stream": "stderr",
       "text": [
        "DEBUG:FFC:  Removing unused variable: tmp7\n"
       ]
      },
      {
       "output_type": "stream",
       "stream": "stderr",
       "text": [
        "DEBUG:FFC:  Removing unused variable: tmp6\n"
       ]
      },
      {
       "output_type": "stream",
       "stream": "stderr",
       "text": [
        "DEBUG:FFC:  Removing unused variable: tmp5\n"
       ]
      },
      {
       "output_type": "stream",
       "stream": "stderr",
       "text": [
        "DEBUG:FFC:  Removing unused variable: tt\n"
       ]
      },
      {
       "output_type": "stream",
       "stream": "stderr",
       "text": [
        "DEBUG:FFC:  Removing unused variable: ss\n"
       ]
      },
      {
       "output_type": "stream",
       "stream": "stderr",
       "text": [
        "DEBUG:FFC:  Removing unused variable: rr\n"
       ]
      },
      {
       "output_type": "stream",
       "stream": "stderr",
       "text": [
        "DEBUG:FFC:  Removing unused variable: tmp2\n"
       ]
      },
      {
       "output_type": "stream",
       "stream": "stderr",
       "text": [
        "DEBUG:FFC:  Removing unused variable: tmp1\n"
       ]
      },
      {
       "output_type": "stream",
       "stream": "stderr",
       "text": [
        "DEBUG:FFC:  Removing unused variable: tmp7\n"
       ]
      },
      {
       "output_type": "stream",
       "stream": "stderr",
       "text": [
        "DEBUG:FFC:  Removing unused variable: tmp6\n"
       ]
      },
      {
       "output_type": "stream",
       "stream": "stderr",
       "text": [
        "DEBUG:FFC:  Removing unused variable: tmp5\n"
       ]
      },
      {
       "output_type": "stream",
       "stream": "stderr",
       "text": [
        "DEBUG:FFC:  Removing unused variable: tt\n"
       ]
      },
      {
       "output_type": "stream",
       "stream": "stderr",
       "text": [
        "DEBUG:FFC:  Removing unused variable: ss\n"
       ]
      },
      {
       "output_type": "stream",
       "stream": "stderr",
       "text": [
        "DEBUG:FFC:  Removing unused variable: rr\n"
       ]
      },
      {
       "output_type": "stream",
       "stream": "stderr",
       "text": [
        "DEBUG:FFC:  Removing unused variable: tmp2\n"
       ]
      },
      {
       "output_type": "stream",
       "stream": "stderr",
       "text": [
        "DEBUG:FFC:  Removing unused variable: tmp1\n"
       ]
      },
      {
       "output_type": "stream",
       "stream": "stderr",
       "text": [
        "DEBUG:FFC:  Removing unused variable: tmp7\n"
       ]
      },
      {
       "output_type": "stream",
       "stream": "stderr",
       "text": [
        "DEBUG:FFC:  Removing unused variable: tmp6\n"
       ]
      },
      {
       "output_type": "stream",
       "stream": "stderr",
       "text": [
        "DEBUG:FFC:  Removing unused variable: tmp5\n"
       ]
      },
      {
       "output_type": "stream",
       "stream": "stderr",
       "text": [
        "DEBUG:FFC:  Removing unused variable: tt\n"
       ]
      },
      {
       "output_type": "stream",
       "stream": "stderr",
       "text": [
        "DEBUG:FFC:  Removing unused variable: ss\n"
       ]
      },
      {
       "output_type": "stream",
       "stream": "stderr",
       "text": [
        "DEBUG:FFC:  Removing unused variable: rr\n"
       ]
      },
      {
       "output_type": "stream",
       "stream": "stderr",
       "text": [
        "DEBUG:FFC:  Removing unused variable: tmp2\n"
       ]
      },
      {
       "output_type": "stream",
       "stream": "stderr",
       "text": [
        "DEBUG:FFC:  Removing unused variable: tmp1\n"
       ]
      },
      {
       "output_type": "stream",
       "stream": "stderr",
       "text": [
        "DEBUG:FFC:  Removing unused variable: tmp7\n"
       ]
      },
      {
       "output_type": "stream",
       "stream": "stderr",
       "text": [
        "DEBUG:FFC:  Removing unused variable: tmp6\n"
       ]
      },
      {
       "output_type": "stream",
       "stream": "stderr",
       "text": [
        "DEBUG:FFC:  Removing unused variable: tmp5\n"
       ]
      },
      {
       "output_type": "stream",
       "stream": "stderr",
       "text": [
        "DEBUG:FFC:  Removing unused variable: tt\n"
       ]
      },
      {
       "output_type": "stream",
       "stream": "stderr",
       "text": [
        "DEBUG:FFC:  Removing unused variable: ss\n"
       ]
      },
      {
       "output_type": "stream",
       "stream": "stderr",
       "text": [
        "DEBUG:FFC:  Removing unused variable: rr\n"
       ]
      },
      {
       "output_type": "stream",
       "stream": "stderr",
       "text": [
        "DEBUG:FFC:  Removing unused variable: tmp7\n"
       ]
      },
      {
       "output_type": "stream",
       "stream": "stderr",
       "text": [
        "DEBUG:FFC:  Removing unused variable: tmp6\n"
       ]
      },
      {
       "output_type": "stream",
       "stream": "stderr",
       "text": [
        "DEBUG:FFC:  Removing unused variable: tmp5\n"
       ]
      },
      {
       "output_type": "stream",
       "stream": "stderr",
       "text": [
        "DEBUG:FFC:  Removing unused variable: tt\n"
       ]
      },
      {
       "output_type": "stream",
       "stream": "stderr",
       "text": [
        "DEBUG:FFC:  Removing unused variable: ss\n"
       ]
      },
      {
       "output_type": "stream",
       "stream": "stderr",
       "text": [
        "DEBUG:FFC:  Removing unused variable: rr\n"
       ]
      },
      {
       "output_type": "stream",
       "stream": "stderr",
       "text": [
        "DEBUG:FFC:  Removing unused variable: tmp7\n"
       ]
      },
      {
       "output_type": "stream",
       "stream": "stderr",
       "text": [
        "DEBUG:FFC:  Removing unused variable: tmp6\n"
       ]
      },
      {
       "output_type": "stream",
       "stream": "stderr",
       "text": [
        "DEBUG:FFC:  Removing unused variable: tmp5\n"
       ]
      },
      {
       "output_type": "stream",
       "stream": "stderr",
       "text": [
        "DEBUG:FFC:  Removing unused variable: tt\n"
       ]
      },
      {
       "output_type": "stream",
       "stream": "stderr",
       "text": [
        "DEBUG:FFC:  Removing unused variable: ss\n"
       ]
      },
      {
       "output_type": "stream",
       "stream": "stderr",
       "text": [
        "DEBUG:FFC:  Removing unused variable: rr\n"
       ]
      },
      {
       "output_type": "stream",
       "stream": "stderr",
       "text": [
        "DEBUG:FFC:  Removing unused variable: tmp7\n"
       ]
      },
      {
       "output_type": "stream",
       "stream": "stderr",
       "text": [
        "DEBUG:FFC:  Removing unused variable: tmp6\n"
       ]
      },
      {
       "output_type": "stream",
       "stream": "stderr",
       "text": [
        "DEBUG:FFC:  Removing unused variable: tmp5\n"
       ]
      },
      {
       "output_type": "stream",
       "stream": "stderr",
       "text": [
        "DEBUG:FFC:  Removing unused variable: tt\n"
       ]
      },
      {
       "output_type": "stream",
       "stream": "stderr",
       "text": [
        "DEBUG:FFC:  Removing unused variable: ss\n"
       ]
      },
      {
       "output_type": "stream",
       "stream": "stderr",
       "text": [
        "DEBUG:FFC:  Removing unused variable: rr\n"
       ]
      },
      {
       "output_type": "stream",
       "stream": "stderr",
       "text": [
        "DEBUG:FFC:  Removing unused variable: tmp7\n"
       ]
      },
      {
       "output_type": "stream",
       "stream": "stderr",
       "text": [
        "DEBUG:FFC:  Removing unused variable: tmp6\n"
       ]
      },
      {
       "output_type": "stream",
       "stream": "stderr",
       "text": [
        "DEBUG:FFC:  Removing unused variable: tmp5\n"
       ]
      },
      {
       "output_type": "stream",
       "stream": "stderr",
       "text": [
        "DEBUG:FFC:  Removing unused variable: tt\n"
       ]
      },
      {
       "output_type": "stream",
       "stream": "stderr",
       "text": [
        "DEBUG:FFC:  Removing unused variable: ss\n"
       ]
      },
      {
       "output_type": "stream",
       "stream": "stderr",
       "text": [
        "DEBUG:FFC:  Removing unused variable: rr\n"
       ]
      },
      {
       "output_type": "stream",
       "stream": "stderr",
       "text": [
        "DEBUG:FFC:  Removing unused variable: tmp7\n"
       ]
      },
      {
       "output_type": "stream",
       "stream": "stderr",
       "text": [
        "DEBUG:FFC:  Removing unused variable: tmp6\n"
       ]
      },
      {
       "output_type": "stream",
       "stream": "stderr",
       "text": [
        "DEBUG:FFC:  Removing unused variable: tmp5\n"
       ]
      },
      {
       "output_type": "stream",
       "stream": "stderr",
       "text": [
        "DEBUG:FFC:  Removing unused variable: tt\n"
       ]
      },
      {
       "output_type": "stream",
       "stream": "stderr",
       "text": [
        "DEBUG:FFC:  Removing unused variable: ss\n"
       ]
      },
      {
       "output_type": "stream",
       "stream": "stderr",
       "text": [
        "DEBUG:FFC:  Removing unused variable: rr\n"
       ]
      },
      {
       "output_type": "stream",
       "stream": "stderr",
       "text": [
        "DEBUG:FFC:  Removing unused variable: tmp7\n"
       ]
      },
      {
       "output_type": "stream",
       "stream": "stderr",
       "text": [
        "DEBUG:FFC:  Removing unused variable: tmp6\n"
       ]
      },
      {
       "output_type": "stream",
       "stream": "stderr",
       "text": [
        "DEBUG:FFC:  Removing unused variable: tmp5\n"
       ]
      },
      {
       "output_type": "stream",
       "stream": "stderr",
       "text": [
        "DEBUG:FFC:  Removing unused variable: tt\n"
       ]
      },
      {
       "output_type": "stream",
       "stream": "stderr",
       "text": [
        "DEBUG:FFC:  Removing unused variable: ss\n"
       ]
      },
      {
       "output_type": "stream",
       "stream": "stderr",
       "text": [
        "DEBUG:FFC:  Removing unused variable: rr\n"
       ]
      },
      {
       "output_type": "stream",
       "stream": "stderr",
       "text": [
        "DEBUG:FFC:  Removing unused variable: tmp7\n"
       ]
      },
      {
       "output_type": "stream",
       "stream": "stderr",
       "text": [
        "DEBUG:FFC:  Removing unused variable: tmp6\n"
       ]
      },
      {
       "output_type": "stream",
       "stream": "stderr",
       "text": [
        "DEBUG:FFC:  Removing unused variable: tmp5\n"
       ]
      },
      {
       "output_type": "stream",
       "stream": "stderr",
       "text": [
        "DEBUG:FFC:  Removing unused variable: tt\n"
       ]
      },
      {
       "output_type": "stream",
       "stream": "stderr",
       "text": [
        "DEBUG:FFC:  Removing unused variable: ss\n"
       ]
      },
      {
       "output_type": "stream",
       "stream": "stderr",
       "text": [
        "DEBUG:FFC:  Removing unused variable: rr\n"
       ]
      },
      {
       "output_type": "stream",
       "stream": "stderr",
       "text": [
        "DEBUG:FFC:  Removing unused variable: tmp7\n"
       ]
      },
      {
       "output_type": "stream",
       "stream": "stderr",
       "text": [
        "DEBUG:FFC:  Removing unused variable: tmp6\n"
       ]
      },
      {
       "output_type": "stream",
       "stream": "stderr",
       "text": [
        "DEBUG:FFC:  Removing unused variable: tmp5\n"
       ]
      },
      {
       "output_type": "stream",
       "stream": "stderr",
       "text": [
        "DEBUG:FFC:  Removing unused variable: tt\n"
       ]
      },
      {
       "output_type": "stream",
       "stream": "stderr",
       "text": [
        "DEBUG:FFC:  Removing unused variable: ss\n"
       ]
      },
      {
       "output_type": "stream",
       "stream": "stderr",
       "text": [
        "DEBUG:FFC:  Removing unused variable: rr\n"
       ]
      },
      {
       "output_type": "stream",
       "stream": "stderr",
       "text": [
        "DEBUG:FFC:  Removing unused variable: tmp7\n"
       ]
      },
      {
       "output_type": "stream",
       "stream": "stderr",
       "text": [
        "DEBUG:FFC:  Removing unused variable: tmp6\n"
       ]
      },
      {
       "output_type": "stream",
       "stream": "stderr",
       "text": [
        "DEBUG:FFC:  Removing unused variable: tmp5\n"
       ]
      },
      {
       "output_type": "stream",
       "stream": "stderr",
       "text": [
        "DEBUG:FFC:  Removing unused variable: tt\n"
       ]
      },
      {
       "output_type": "stream",
       "stream": "stderr",
       "text": [
        "DEBUG:FFC:  Removing unused variable: ss\n"
       ]
      },
      {
       "output_type": "stream",
       "stream": "stderr",
       "text": [
        "DEBUG:FFC:  Removing unused variable: rr\n"
       ]
      },
      {
       "output_type": "stream",
       "stream": "stderr",
       "text": [
        "DEBUG:FFC:  Removing unused variable: tmp7\n"
       ]
      },
      {
       "output_type": "stream",
       "stream": "stderr",
       "text": [
        "DEBUG:FFC:  Removing unused variable: tmp6\n"
       ]
      },
      {
       "output_type": "stream",
       "stream": "stderr",
       "text": [
        "DEBUG:FFC:  Removing unused variable: tmp5\n"
       ]
      },
      {
       "output_type": "stream",
       "stream": "stderr",
       "text": [
        "DEBUG:FFC:  Removing unused variable: tt\n"
       ]
      },
      {
       "output_type": "stream",
       "stream": "stderr",
       "text": [
        "DEBUG:FFC:  Removing unused variable: ss\n"
       ]
      },
      {
       "output_type": "stream",
       "stream": "stderr",
       "text": [
        "DEBUG:FFC:  Removing unused variable: rr\n"
       ]
      },
      {
       "output_type": "stream",
       "stream": "stderr",
       "text": [
        "DEBUG:FFC:  Removing unused variable: tmp7\n"
       ]
      },
      {
       "output_type": "stream",
       "stream": "stderr",
       "text": [
        "DEBUG:FFC:  Removing unused variable: tmp6\n"
       ]
      },
      {
       "output_type": "stream",
       "stream": "stderr",
       "text": [
        "DEBUG:FFC:  Removing unused variable: tmp5\n"
       ]
      },
      {
       "output_type": "stream",
       "stream": "stderr",
       "text": [
        "DEBUG:FFC:  Removing unused variable: tt\n"
       ]
      },
      {
       "output_type": "stream",
       "stream": "stderr",
       "text": [
        "DEBUG:FFC:  Removing unused variable: ss\n"
       ]
      },
      {
       "output_type": "stream",
       "stream": "stderr",
       "text": [
        "DEBUG:FFC:  Removing unused variable: rr\n"
       ]
      },
      {
       "output_type": "stream",
       "stream": "stderr",
       "text": [
        "DEBUG:FFC:  Removing unused variable: tmp7\n"
       ]
      },
      {
       "output_type": "stream",
       "stream": "stderr",
       "text": [
        "DEBUG:FFC:  Removing unused variable: tmp6\n"
       ]
      },
      {
       "output_type": "stream",
       "stream": "stderr",
       "text": [
        "DEBUG:FFC:  Removing unused variable: tmp5\n"
       ]
      },
      {
       "output_type": "stream",
       "stream": "stderr",
       "text": [
        "DEBUG:FFC:  Removing unused variable: tt\n"
       ]
      },
      {
       "output_type": "stream",
       "stream": "stderr",
       "text": [
        "DEBUG:FFC:  Removing unused variable: ss\n"
       ]
      },
      {
       "output_type": "stream",
       "stream": "stderr",
       "text": [
        "DEBUG:FFC:  Removing unused variable: rr\n"
       ]
      },
      {
       "output_type": "stream",
       "stream": "stderr",
       "text": [
        "DEBUG:FFC:  Removing unused variable: tmp7\n"
       ]
      },
      {
       "output_type": "stream",
       "stream": "stderr",
       "text": [
        "DEBUG:FFC:  Removing unused variable: tmp6\n"
       ]
      },
      {
       "output_type": "stream",
       "stream": "stderr",
       "text": [
        "DEBUG:FFC:  Removing unused variable: tmp5\n"
       ]
      },
      {
       "output_type": "stream",
       "stream": "stderr",
       "text": [
        "DEBUG:FFC:  Removing unused variable: tt\n"
       ]
      },
      {
       "output_type": "stream",
       "stream": "stderr",
       "text": [
        "DEBUG:FFC:  Removing unused variable: ss\n"
       ]
      },
      {
       "output_type": "stream",
       "stream": "stderr",
       "text": [
        "DEBUG:FFC:  Removing unused variable: rr\n"
       ]
      },
      {
       "output_type": "stream",
       "stream": "stderr",
       "text": [
        "DEBUG:FFC:  Removing unused variable: tmp7\n"
       ]
      },
      {
       "output_type": "stream",
       "stream": "stderr",
       "text": [
        "DEBUG:FFC:  Removing unused variable: tmp6\n"
       ]
      },
      {
       "output_type": "stream",
       "stream": "stderr",
       "text": [
        "DEBUG:FFC:  Removing unused variable: tmp5\n"
       ]
      },
      {
       "output_type": "stream",
       "stream": "stderr",
       "text": [
        "DEBUG:FFC:  Removing unused variable: tt\n"
       ]
      },
      {
       "output_type": "stream",
       "stream": "stderr",
       "text": [
        "DEBUG:FFC:  Removing unused variable: ss\n"
       ]
      },
      {
       "output_type": "stream",
       "stream": "stderr",
       "text": [
        "DEBUG:FFC:  Removing unused variable: rr\n"
       ]
      },
      {
       "output_type": "stream",
       "stream": "stderr",
       "text": [
        "INFO:FFC:  Generating code for 5 dofmap(s)\n"
       ]
      },
      {
       "output_type": "stream",
       "stream": "stderr",
       "text": [
        "INFO:FFC:  Generating code for integrals\n"
       ]
      },
      {
       "output_type": "stream",
       "stream": "stderr",
       "text": [
        "DEBUG:FFC:  Removing unused variable: circumradius\n"
       ]
      },
      {
       "output_type": "stream",
       "stream": "stderr",
       "text": [
        "DEBUG:FFC:  Removing unused variable: v0v1\n"
       ]
      },
      {
       "output_type": "stream",
       "stream": "stderr",
       "text": [
        "DEBUG:FFC:  Removing unused variable: v0v2\n"
       ]
      },
      {
       "output_type": "stream",
       "stream": "stderr",
       "text": [
        "DEBUG:FFC:  Removing unused variable: v1v2\n"
       ]
      },
      {
       "output_type": "stream",
       "stream": "stderr",
       "text": [
        "DEBUG:FFC:  Removing unused variable: volume\n"
       ]
      },
      {
       "output_type": "stream",
       "stream": "stderr",
       "text": [
        "INFO:FFC:  Cell, number of operations to compute tensor: 1118754\n"
       ]
      },
      {
       "output_type": "stream",
       "stream": "stderr",
       "text": [
        "INFO:FFC:  Generating code for forms\n"
       ]
      },
      {
       "output_type": "stream",
       "stream": "stderr",
       "text": [
        "INFO:FFC:  \n"
       ]
      },
      {
       "output_type": "stream",
       "stream": "stderr",
       "text": [
        "INFO:FFC:Compiler stage 4 finished in 0.69442 seconds.\n",
        "\n"
       ]
      },
      {
       "output_type": "stream",
       "stream": "stderr",
       "text": [
        "INFO:FFC:Compiler stage 4.1 finished in 7.15256e-06 seconds.\n",
        "\n"
       ]
      },
      {
       "output_type": "stream",
       "stream": "stderr",
       "text": [
        "INFO:FFC:Compiler stage 5: Formatting code\n"
       ]
      },
      {
       "output_type": "stream",
       "stream": "stderr",
       "text": [
        "INFO:FFC:---------------------------------\n"
       ]
      },
      {
       "output_type": "stream",
       "stream": "stderr",
       "text": [
        "INFO:FFC:  Output written to ./ffc_form_8d1f81f1aff3622a8e01c992d9e9b18b29904d2a.h.\n"
       ]
      },
      {
       "output_type": "stream",
       "stream": "stderr",
       "text": [
        "INFO:FFC:  \n"
       ]
      },
      {
       "output_type": "stream",
       "stream": "stderr",
       "text": [
        "INFO:FFC:Compiler stage 5 finished in 0.00174212 seconds.\n",
        "\n"
       ]
      },
      {
       "output_type": "stream",
       "stream": "stderr",
       "text": [
        "INFO:FFC:\u001b[1;37;32mFFC finished in 1.80023 seconds.\u001b[0m\n"
       ]
      },
      {
       "output_type": "stream",
       "stream": "stderr",
       "text": [
        "DEBUG:FFC:Compiling and linking Python extension module, this may take some time.\n"
       ]
      },
      {
       "output_type": "stream",
       "stream": "stderr",
       "text": [
        "INFO:FFC:Adjusting missing element domain to Domain(Cell('triangle', 2), 'triangle_multiverse', 2, 2).\n"
       ]
      },
      {
       "output_type": "stream",
       "stream": "stderr",
       "text": [
        "INFO:FFC:Adjusting element degree from ? to 2\n"
       ]
      },
      {
       "output_type": "stream",
       "stream": "stderr",
       "text": [
        "INFO:FFC:Adjusting missing element domain to Domain(Cell('triangle', 2), 'triangle_multiverse', 2, 2).\n"
       ]
      },
      {
       "output_type": "stream",
       "stream": "stderr",
       "text": [
        "INFO:FFC:Adjusting element degree from ? to 2\n"
       ]
      },
      {
       "output_type": "stream",
       "stream": "stderr",
       "text": [
        "INFO:FFC:Adjusting missing element domain to Domain(Cell('triangle', 2), 'triangle_multiverse', 2, 2).\n"
       ]
      },
      {
       "output_type": "stream",
       "stream": "stderr",
       "text": [
        "INFO:FFC:Adjusting element degree from ? to 2\n"
       ]
      },
      {
       "output_type": "stream",
       "stream": "stderr",
       "text": [
        "INFO:FFC:Adjusting missing element domain to Domain(Cell('triangle', 2), 'triangle_multiverse', 2, 2).\n"
       ]
      },
      {
       "output_type": "stream",
       "stream": "stderr",
       "text": [
        "INFO:FFC:Adjusting element degree from ? to 2\n"
       ]
      },
      {
       "output_type": "stream",
       "stream": "stderr",
       "text": [
        "INFO:FFC:Adjusting missing element domain to Domain(Cell('triangle', 2), 'triangle_multiverse', 2, 2).\n"
       ]
      },
      {
       "output_type": "stream",
       "stream": "stderr",
       "text": [
        "INFO:FFC:Adjusting element degree from ? to 2\n"
       ]
      },
      {
       "output_type": "stream",
       "stream": "stderr",
       "text": [
        "INFO:FFC:Adjusting missing element domain to Domain(Cell('triangle', 2), 'triangle_multiverse', 2, 2).\n"
       ]
      },
      {
       "output_type": "stream",
       "stream": "stderr",
       "text": [
        "INFO:FFC:Adjusting element degree from ? to 2\n"
       ]
      },
      {
       "output_type": "stream",
       "stream": "stderr",
       "text": [
        "INFO:FFC:Adjusting missing element domain to Domain(Cell('triangle', 2), 'triangle_multiverse', 2, 2).\n"
       ]
      },
      {
       "output_type": "stream",
       "stream": "stderr",
       "text": [
        "INFO:FFC:Adjusting element degree from ? to 2\n"
       ]
      },
      {
       "output_type": "stream",
       "stream": "stderr",
       "text": [
        "INFO:FFC:Adjusting missing element domain to Domain(Cell('triangle', 2), 'triangle_multiverse', 2, 2).\n"
       ]
      },
      {
       "output_type": "stream",
       "stream": "stderr",
       "text": [
        "INFO:FFC:Adjusting element degree from ? to 2\n"
       ]
      },
      {
       "output_type": "stream",
       "stream": "stderr",
       "text": [
        "INFO:FFC:Adjusting missing element domain to Domain(Cell('triangle', 2), 'triangle_multiverse', 2, 2).\n"
       ]
      },
      {
       "output_type": "stream",
       "stream": "stderr",
       "text": [
        "INFO:FFC:Adjusting element degree from ? to 2\n"
       ]
      },
      {
       "output_type": "stream",
       "stream": "stderr",
       "text": [
        "INFO:FFC:Adjusting missing element domain to Domain(Cell('triangle', 2), 'triangle_multiverse', 2, 2).\n"
       ]
      },
      {
       "output_type": "stream",
       "stream": "stderr",
       "text": [
        "INFO:FFC:Adjusting element degree from ? to 2\n"
       ]
      },
      {
       "output_type": "stream",
       "stream": "stderr",
       "text": [
        "INFO:FFC:Adjusting missing element domain to Domain(Cell('triangle', 2), 'triangle_multiverse', 2, 2).\n"
       ]
      },
      {
       "output_type": "stream",
       "stream": "stderr",
       "text": [
        "INFO:FFC:Adjusting element degree from ? to 2\n"
       ]
      },
      {
       "output_type": "stream",
       "stream": "stderr",
       "text": [
        "INFO:FFC:Adjusting missing element domain to Domain(Cell('triangle', 2), 'triangle_multiverse', 2, 2).\n"
       ]
      },
      {
       "output_type": "stream",
       "stream": "stderr",
       "text": [
        "INFO:FFC:Adjusting element degree from ? to 2\n"
       ]
      },
      {
       "output_type": "stream",
       "stream": "stderr",
       "text": [
        "DEBUG:UFL:No integrals left after transformation, returning empty form.\n"
       ]
      },
      {
       "output_type": "stream",
       "stream": "stderr",
       "text": [
        "DEBUG:FFC:Reusing form from cache.\n"
       ]
      },
      {
       "output_type": "stream",
       "stream": "stderr",
       "text": [
        "DEBUG:UFL:No integrals left after transformation, returning empty form.\n"
       ]
      },
      {
       "output_type": "stream",
       "stream": "stderr",
       "text": [
        "DEBUG:UFL:No integrals left after transformation, returning empty form.\n"
       ]
      },
      {
       "output_type": "stream",
       "stream": "stderr",
       "text": [
        "DEBUG:FFC:Reusing form from cache.\n"
       ]
      },
      {
       "output_type": "stream",
       "stream": "stderr",
       "text": [
        "DEBUG:UFL:No integrals left after transformation, returning empty form.\n"
       ]
      },
      {
       "output_type": "stream",
       "stream": "stderr",
       "text": [
        "DEBUG:UFL:No integrals left after transformation, returning empty form.\n"
       ]
      },
      {
       "output_type": "stream",
       "stream": "stderr",
       "text": [
        "DEBUG:FFC:Reusing form from cache.\n"
       ]
      },
      {
       "output_type": "stream",
       "stream": "stderr",
       "text": [
        "DEBUG:UFL:No integrals left after transformation, returning empty form.\n"
       ]
      },
      {
       "output_type": "stream",
       "stream": "stderr",
       "text": [
        "DEBUG:UFL:No integrals left after transformation, returning empty form.\n"
       ]
      },
      {
       "output_type": "stream",
       "stream": "stderr",
       "text": [
        "DEBUG:FFC:Reusing form from cache.\n"
       ]
      },
      {
       "output_type": "stream",
       "stream": "stderr",
       "text": [
        "INFO:FFC:Adjusting missing element domain to Domain(Cell('triangle', 2), 'triangle_multiverse', 2, 2).\n"
       ]
      },
      {
       "output_type": "stream",
       "stream": "stderr",
       "text": [
        "INFO:FFC:Adjusting element degree from ? to 2\n"
       ]
      },
      {
       "output_type": "stream",
       "stream": "stderr",
       "text": [
        "INFO:FFC:Adjusting missing element domain to Domain(Cell('triangle', 2), 'triangle_multiverse', 2, 2).\n"
       ]
      },
      {
       "output_type": "stream",
       "stream": "stderr",
       "text": [
        "INFO:FFC:Adjusting element degree from ? to 2\n"
       ]
      },
      {
       "output_type": "stream",
       "stream": "stderr",
       "text": [
        "INFO:FFC:Adjusting missing element domain to Domain(Cell('triangle', 2), 'triangle_multiverse', 2, 2).\n"
       ]
      },
      {
       "output_type": "stream",
       "stream": "stderr",
       "text": [
        "INFO:FFC:Adjusting element degree from ? to 2\n"
       ]
      },
      {
       "output_type": "stream",
       "stream": "stderr",
       "text": [
        "INFO:FFC:Adjusting missing element domain to Domain(Cell('triangle', 2), 'triangle_multiverse', 2, 2).\n"
       ]
      },
      {
       "output_type": "stream",
       "stream": "stderr",
       "text": [
        "INFO:FFC:Adjusting element degree from ? to 2\n"
       ]
      },
      {
       "output_type": "stream",
       "stream": "stderr",
       "text": [
        "INFO:FFC:Adjusting missing element domain to Domain(Cell('triangle', 2), 'triangle_multiverse', 2, 2).\n"
       ]
      },
      {
       "output_type": "stream",
       "stream": "stderr",
       "text": [
        "INFO:FFC:Adjusting element degree from ? to 2\n"
       ]
      },
      {
       "output_type": "stream",
       "stream": "stderr",
       "text": [
        "INFO:FFC:Adjusting missing element domain to Domain(Cell('triangle', 2), 'triangle_multiverse', 2, 2).\n"
       ]
      },
      {
       "output_type": "stream",
       "stream": "stderr",
       "text": [
        "INFO:FFC:Adjusting element degree from ? to 2\n"
       ]
      },
      {
       "output_type": "stream",
       "stream": "stderr",
       "text": [
        "INFO:FFC:Adjusting missing element domain to Domain(Cell('triangle', 2), 'triangle_multiverse', 2, 2).\n"
       ]
      },
      {
       "output_type": "stream",
       "stream": "stderr",
       "text": [
        "INFO:FFC:Adjusting element degree from ? to 2\n"
       ]
      },
      {
       "output_type": "stream",
       "stream": "stderr",
       "text": [
        "INFO:FFC:Adjusting missing element domain to Domain(Cell('triangle', 2), 'triangle_multiverse', 2, 2).\n"
       ]
      },
      {
       "output_type": "stream",
       "stream": "stderr",
       "text": [
        "INFO:FFC:Adjusting element degree from ? to 2\n"
       ]
      },
      {
       "output_type": "stream",
       "stream": "stderr",
       "text": [
        "INFO:FFC:Adjusting missing element domain to Domain(Cell('triangle', 2), 'triangle_multiverse', 2, 2).\n"
       ]
      },
      {
       "output_type": "stream",
       "stream": "stderr",
       "text": [
        "INFO:FFC:Adjusting element degree from ? to 2\n"
       ]
      },
      {
       "output_type": "stream",
       "stream": "stderr",
       "text": [
        "INFO:FFC:Adjusting missing element domain to Domain(Cell('triangle', 2), 'triangle_multiverse', 2, 2).\n"
       ]
      },
      {
       "output_type": "stream",
       "stream": "stderr",
       "text": [
        "INFO:FFC:Adjusting element degree from ? to 2\n"
       ]
      },
      {
       "output_type": "stream",
       "stream": "stderr",
       "text": [
        "INFO:FFC:Adjusting missing element domain to Domain(Cell('triangle', 2), 'triangle_multiverse', 2, 2).\n"
       ]
      },
      {
       "output_type": "stream",
       "stream": "stderr",
       "text": [
        "INFO:FFC:Adjusting element degree from ? to 2\n"
       ]
      },
      {
       "output_type": "stream",
       "stream": "stderr",
       "text": [
        "INFO:FFC:Adjusting missing element domain to Domain(Cell('triangle', 2), 'triangle_multiverse', 2, 2).\n"
       ]
      },
      {
       "output_type": "stream",
       "stream": "stderr",
       "text": [
        "INFO:FFC:Adjusting element degree from ? to 2\n"
       ]
      },
      {
       "output_type": "stream",
       "stream": "stderr",
       "text": [
        "INFO:FFC:Adjusting missing element domain to Domain(Cell('triangle', 2), 'triangle_multiverse', 2, 2).\n"
       ]
      },
      {
       "output_type": "stream",
       "stream": "stderr",
       "text": [
        "INFO:FFC:Adjusting element degree from ? to 2\n"
       ]
      },
      {
       "output_type": "stream",
       "stream": "stderr",
       "text": [
        "INFO:FFC:Adjusting missing element domain to Domain(Cell('triangle', 2), 'triangle_multiverse', 2, 2).\n"
       ]
      },
      {
       "output_type": "stream",
       "stream": "stderr",
       "text": [
        "INFO:FFC:Adjusting element degree from ? to 2\n"
       ]
      },
      {
       "output_type": "stream",
       "stream": "stderr",
       "text": [
        "INFO:FFC:Adjusting missing element domain to Domain(Cell('triangle', 2), 'triangle_multiverse', 2, 2).\n"
       ]
      },
      {
       "output_type": "stream",
       "stream": "stderr",
       "text": [
        "INFO:FFC:Adjusting element degree from ? to 2\n"
       ]
      },
      {
       "output_type": "stream",
       "stream": "stderr",
       "text": [
        "INFO:FFC:Adjusting missing element domain to Domain(Cell('triangle', 2), 'triangle_multiverse', 2, 2).\n"
       ]
      },
      {
       "output_type": "stream",
       "stream": "stderr",
       "text": [
        "INFO:FFC:Adjusting element degree from ? to 2\n"
       ]
      },
      {
       "output_type": "stream",
       "stream": "stderr",
       "text": [
        "INFO:FFC:Adjusting missing element domain to Domain(Cell('triangle', 2), 'triangle_multiverse', 2, 2).\n"
       ]
      },
      {
       "output_type": "stream",
       "stream": "stderr",
       "text": [
        "INFO:FFC:Adjusting element degree from ? to 2\n"
       ]
      },
      {
       "output_type": "stream",
       "stream": "stderr",
       "text": [
        "INFO:FFC:Adjusting missing element domain to Domain(Cell('triangle', 2), 'triangle_multiverse', 2, 2).\n"
       ]
      },
      {
       "output_type": "stream",
       "stream": "stderr",
       "text": [
        "INFO:FFC:Adjusting element degree from ? to 2\n"
       ]
      },
      {
       "output_type": "stream",
       "stream": "stderr",
       "text": [
        "INFO:FFC:Adjusting missing element domain to Domain(Cell('triangle', 2), 'triangle_multiverse', 2, 2).\n"
       ]
      },
      {
       "output_type": "stream",
       "stream": "stderr",
       "text": [
        "INFO:FFC:Adjusting element degree from ? to 2\n"
       ]
      },
      {
       "output_type": "stream",
       "stream": "stderr",
       "text": [
        "INFO:FFC:Adjusting missing element domain to Domain(Cell('triangle', 2), 'triangle_multiverse', 2, 2).\n"
       ]
      },
      {
       "output_type": "stream",
       "stream": "stderr",
       "text": [
        "INFO:FFC:Adjusting element degree from ? to 2\n"
       ]
      },
      {
       "output_type": "stream",
       "stream": "stderr",
       "text": [
        "INFO:FFC:Adjusting missing element domain to Domain(Cell('triangle', 2), 'triangle_multiverse', 2, 2).\n"
       ]
      },
      {
       "output_type": "stream",
       "stream": "stderr",
       "text": [
        "INFO:FFC:Adjusting element degree from ? to 2\n"
       ]
      },
      {
       "output_type": "stream",
       "stream": "stderr",
       "text": [
        "DEBUG:UFL:No integrals left after transformation, returning empty form.\n"
       ]
      },
      {
       "output_type": "stream",
       "stream": "stderr",
       "text": [
        "DEBUG:FFC:Reusing form from cache.\n"
       ]
      },
      {
       "output_type": "stream",
       "stream": "stderr",
       "text": [
        "DEBUG:UFL:No integrals left after transformation, returning empty form.\n"
       ]
      },
      {
       "output_type": "stream",
       "stream": "stderr",
       "text": [
        "DEBUG:UFL:No integrals left after transformation, returning empty form.\n"
       ]
      },
      {
       "output_type": "stream",
       "stream": "stderr",
       "text": [
        "DEBUG:FFC:Reusing form from cache.\n"
       ]
      },
      {
       "output_type": "stream",
       "stream": "stderr",
       "text": [
        "DEBUG:UFL:No integrals left after transformation, returning empty form.\n"
       ]
      },
      {
       "output_type": "stream",
       "stream": "stderr",
       "text": [
        "DEBUG:FFC:Reusing form from cache.\n"
       ]
      },
      {
       "output_type": "stream",
       "stream": "stderr",
       "text": [
        "DEBUG:UFL:No integrals left after transformation, returning empty form.\n"
       ]
      },
      {
       "output_type": "stream",
       "stream": "stderr",
       "text": [
        "DEBUG:FFC:Reusing form from cache.\n"
       ]
      },
      {
       "output_type": "stream",
       "stream": "stdout",
       "text": [
        "1.0\n",
        "1"
       ]
      },
      {
       "output_type": "stream",
       "stream": "stderr",
       "text": [
        "DEBUG:UFL:No integrals left after transformation, returning empty form.\n"
       ]
      },
      {
       "output_type": "stream",
       "stream": "stderr",
       "text": [
        "DEBUG:UFL:No integrals left after transformation, returning empty form.\n"
       ]
      },
      {
       "output_type": "stream",
       "stream": "stderr",
       "text": [
        "DEBUG:FFC:Reusing form from cache.\n"
       ]
      },
      {
       "output_type": "stream",
       "stream": "stderr",
       "text": [
        "INFO:FFC:Adjusting missing element domain to Domain(Cell('triangle', 2), 'triangle_multiverse', 2, 2).\n"
       ]
      },
      {
       "output_type": "stream",
       "stream": "stderr",
       "text": [
        "INFO:FFC:Adjusting element degree from ? to 2\n"
       ]
      },
      {
       "output_type": "stream",
       "stream": "stderr",
       "text": [
        "INFO:FFC:Adjusting missing element domain to Domain(Cell('triangle', 2), 'triangle_multiverse', 2, 2).\n"
       ]
      },
      {
       "output_type": "stream",
       "stream": "stderr",
       "text": [
        "INFO:FFC:Adjusting element degree from ? to 2\n"
       ]
      },
      {
       "output_type": "stream",
       "stream": "stderr",
       "text": [
        "INFO:FFC:Adjusting missing element domain to Domain(Cell('triangle', 2), 'triangle_multiverse', 2, 2).\n"
       ]
      },
      {
       "output_type": "stream",
       "stream": "stderr",
       "text": [
        "INFO:FFC:Adjusting element degree from ? to 2\n"
       ]
      },
      {
       "output_type": "stream",
       "stream": "stderr",
       "text": [
        "INFO:FFC:Adjusting missing element domain to Domain(Cell('triangle', 2), 'triangle_multiverse', 2, 2).\n"
       ]
      },
      {
       "output_type": "stream",
       "stream": "stderr",
       "text": [
        "INFO:FFC:Adjusting element degree from ? to 2\n"
       ]
      },
      {
       "output_type": "stream",
       "stream": "stderr",
       "text": [
        "INFO:FFC:Adjusting missing element domain to Domain(Cell('triangle', 2), 'triangle_multiverse', 2, 2).\n"
       ]
      },
      {
       "output_type": "stream",
       "stream": "stderr",
       "text": [
        "INFO:FFC:Adjusting element degree from ? to 2\n"
       ]
      },
      {
       "output_type": "stream",
       "stream": "stderr",
       "text": [
        "INFO:FFC:Adjusting missing element domain to Domain(Cell('triangle', 2), 'triangle_multiverse', 2, 2).\n"
       ]
      },
      {
       "output_type": "stream",
       "stream": "stderr",
       "text": [
        "INFO:FFC:Adjusting element degree from ? to 2\n"
       ]
      },
      {
       "output_type": "stream",
       "stream": "stderr",
       "text": [
        "INFO:FFC:Adjusting missing element domain to Domain(Cell('triangle', 2), 'triangle_multiverse', 2, 2).\n"
       ]
      },
      {
       "output_type": "stream",
       "stream": "stderr",
       "text": [
        "INFO:FFC:Adjusting element degree from ? to 2\n"
       ]
      },
      {
       "output_type": "stream",
       "stream": "stderr",
       "text": [
        "INFO:FFC:Adjusting missing element domain to Domain(Cell('triangle', 2), 'triangle_multiverse', 2, 2).\n"
       ]
      },
      {
       "output_type": "stream",
       "stream": "stderr",
       "text": [
        "INFO:FFC:Adjusting element degree from ? to 2\n"
       ]
      },
      {
       "output_type": "stream",
       "stream": "stderr",
       "text": [
        "INFO:FFC:Adjusting missing element domain to Domain(Cell('triangle', 2), 'triangle_multiverse', 2, 2).\n"
       ]
      },
      {
       "output_type": "stream",
       "stream": "stderr",
       "text": [
        "INFO:FFC:Adjusting element degree from ? to 2\n"
       ]
      },
      {
       "output_type": "stream",
       "stream": "stderr",
       "text": [
        "INFO:FFC:Adjusting missing element domain to Domain(Cell('triangle', 2), 'triangle_multiverse', 2, 2).\n"
       ]
      },
      {
       "output_type": "stream",
       "stream": "stderr",
       "text": [
        "INFO:FFC:Adjusting element degree from ? to 2\n"
       ]
      },
      {
       "output_type": "stream",
       "stream": "stderr",
       "text": [
        "INFO:FFC:Adjusting missing element domain to Domain(Cell('triangle', 2), 'triangle_multiverse', 2, 2).\n"
       ]
      },
      {
       "output_type": "stream",
       "stream": "stderr",
       "text": [
        "INFO:FFC:Adjusting element degree from ? to 2\n"
       ]
      },
      {
       "output_type": "stream",
       "stream": "stderr",
       "text": [
        "INFO:FFC:Adjusting missing element domain to Domain(Cell('triangle', 2), 'triangle_multiverse', 2, 2).\n"
       ]
      },
      {
       "output_type": "stream",
       "stream": "stderr",
       "text": [
        "INFO:FFC:Adjusting element degree from ? to 2\n"
       ]
      },
      {
       "output_type": "stream",
       "stream": "stderr",
       "text": [
        "INFO:FFC:Adjusting missing element domain to Domain(Cell('triangle', 2), 'triangle_multiverse', 2, 2).\n"
       ]
      },
      {
       "output_type": "stream",
       "stream": "stderr",
       "text": [
        "INFO:FFC:Adjusting element degree from ? to 2\n"
       ]
      },
      {
       "output_type": "stream",
       "stream": "stderr",
       "text": [
        "INFO:FFC:Adjusting missing element domain to Domain(Cell('triangle', 2), 'triangle_multiverse', 2, 2).\n"
       ]
      },
      {
       "output_type": "stream",
       "stream": "stderr",
       "text": [
        "INFO:FFC:Adjusting element degree from ? to 2\n"
       ]
      },
      {
       "output_type": "stream",
       "stream": "stderr",
       "text": [
        "INFO:FFC:Adjusting missing element domain to Domain(Cell('triangle', 2), 'triangle_multiverse', 2, 2).\n"
       ]
      },
      {
       "output_type": "stream",
       "stream": "stderr",
       "text": [
        "INFO:FFC:Adjusting element degree from ? to 2\n"
       ]
      },
      {
       "output_type": "stream",
       "stream": "stderr",
       "text": [
        "INFO:FFC:Adjusting missing element domain to Domain(Cell('triangle', 2), 'triangle_multiverse', 2, 2).\n"
       ]
      },
      {
       "output_type": "stream",
       "stream": "stderr",
       "text": [
        "INFO:FFC:Adjusting element degree from ? to 2\n"
       ]
      },
      {
       "output_type": "stream",
       "stream": "stderr",
       "text": [
        "INFO:FFC:Adjusting missing element domain to Domain(Cell('triangle', 2), 'triangle_multiverse', 2, 2).\n"
       ]
      },
      {
       "output_type": "stream",
       "stream": "stderr",
       "text": [
        "INFO:FFC:Adjusting element degree from ? to 2\n"
       ]
      },
      {
       "output_type": "stream",
       "stream": "stderr",
       "text": [
        "INFO:FFC:Adjusting missing element domain to Domain(Cell('triangle', 2), 'triangle_multiverse', 2, 2).\n"
       ]
      },
      {
       "output_type": "stream",
       "stream": "stderr",
       "text": [
        "INFO:FFC:Adjusting element degree from ? to 2\n"
       ]
      },
      {
       "output_type": "stream",
       "stream": "stderr",
       "text": [
        "INFO:FFC:Adjusting missing element domain to Domain(Cell('triangle', 2), 'triangle_multiverse', 2, 2).\n"
       ]
      },
      {
       "output_type": "stream",
       "stream": "stderr",
       "text": [
        "INFO:FFC:Adjusting element degree from ? to 2\n"
       ]
      },
      {
       "output_type": "stream",
       "stream": "stderr",
       "text": [
        "INFO:FFC:Adjusting missing element domain to Domain(Cell('triangle', 2), 'triangle_multiverse', 2, 2).\n"
       ]
      },
      {
       "output_type": "stream",
       "stream": "stderr",
       "text": [
        "INFO:FFC:Adjusting element degree from ? to 2\n"
       ]
      },
      {
       "output_type": "stream",
       "stream": "stderr",
       "text": [
        "INFO:FFC:Adjusting missing element domain to Domain(Cell('triangle', 2), 'triangle_multiverse', 2, 2).\n"
       ]
      },
      {
       "output_type": "stream",
       "stream": "stderr",
       "text": [
        "INFO:FFC:Adjusting element degree from ? to 2\n"
       ]
      },
      {
       "output_type": "stream",
       "stream": "stderr",
       "text": [
        "DEBUG:UFL:No integrals left after transformation, returning empty form.\n"
       ]
      },
      {
       "output_type": "stream",
       "stream": "stderr",
       "text": [
        "DEBUG:FFC:Reusing form from cache.\n"
       ]
      },
      {
       "output_type": "stream",
       "stream": "stderr",
       "text": [
        "DEBUG:FFC:Reusing form from cache.\n"
       ]
      },
      {
       "output_type": "stream",
       "stream": "stderr",
       "text": [
        "DEBUG:UFL:No integrals left after transformation, returning empty form.\n"
       ]
      },
      {
       "output_type": "stream",
       "stream": "stderr",
       "text": [
        "DEBUG:FFC:Reusing form from cache.\n"
       ]
      },
      {
       "output_type": "stream",
       "stream": "stderr",
       "text": [
        "DEBUG:UFL:No integrals left after transformation, returning empty form.\n"
       ]
      },
      {
       "output_type": "stream",
       "stream": "stderr",
       "text": [
        "DEBUG:FFC:Reusing form from cache.\n"
       ]
      },
      {
       "output_type": "stream",
       "stream": "stdout",
       "text": [
        "\n",
        "1\n",
        "1\n",
        "[ 0.  0.  0.  0.  0.  0.  0.  0.  0.  0.  0.  0.  0.  0.  0.  0.  0.  0.\n",
        "  0.  0.  0.  0.  0.  0.  0.  0.  0.  0.  0.  0.  0.  0.  0.  0.  0.  0.\n",
        "  0.  0.  0.  0.  0.  0.  0.  0.  0.  0.  0.  0.  0.  0.  0.  0.  0.  0.\n",
        "  0.  0.  0.  0.  0.  0.  0.  0.  0.  0.  0.  0.  0.  0.  0.  0.  0.  0.\n",
        "  0.  0.  0.  0.  0.  0.  0.  0.  0.  0.  0.  0.  0.  0.  0.  0.  0.  0.\n",
        "  0.  0.  0.  0.  0.  0.  0.  0.  0.  0.  0.  0.  0.  0.  0.  0.  0.  0.\n",
        "  0.  0.  0.  0.  0.  0.  0.  0.  0.  0.  0.  0.  0.  0.  0.  0.  0.  0.\n",
        "  0.  0.  0.  0.  0.  0.]\n",
        "1"
       ]
      },
      {
       "output_type": "stream",
       "stream": "stderr",
       "text": [
        "DEBUG:UFL:No integrals left after transformation, returning empty form.\n"
       ]
      },
      {
       "output_type": "stream",
       "stream": "stderr",
       "text": [
        "DEBUG:UFL:No integrals left after transformation, returning empty form.\n"
       ]
      },
      {
       "output_type": "stream",
       "stream": "stderr",
       "text": [
        "DEBUG:FFC:Reusing form from cache.\n"
       ]
      },
      {
       "output_type": "stream",
       "stream": "stderr",
       "text": [
        "INFO:FFC:Adjusting missing element domain to Domain(Cell('triangle', 2), 'triangle_multiverse', 2, 2).\n"
       ]
      },
      {
       "output_type": "stream",
       "stream": "stderr",
       "text": [
        "INFO:FFC:Adjusting element degree from ? to 2\n"
       ]
      },
      {
       "output_type": "stream",
       "stream": "stderr",
       "text": [
        "INFO:FFC:Adjusting missing element domain to Domain(Cell('triangle', 2), 'triangle_multiverse', 2, 2).\n"
       ]
      },
      {
       "output_type": "stream",
       "stream": "stderr",
       "text": [
        "INFO:FFC:Adjusting element degree from ? to 2\n"
       ]
      },
      {
       "output_type": "stream",
       "stream": "stderr",
       "text": [
        "INFO:FFC:Adjusting missing element domain to Domain(Cell('triangle', 2), 'triangle_multiverse', 2, 2).\n"
       ]
      },
      {
       "output_type": "stream",
       "stream": "stderr",
       "text": [
        "INFO:FFC:Adjusting element degree from ? to 2\n"
       ]
      },
      {
       "output_type": "stream",
       "stream": "stderr",
       "text": [
        "INFO:FFC:Adjusting missing element domain to Domain(Cell('triangle', 2), 'triangle_multiverse', 2, 2).\n"
       ]
      },
      {
       "output_type": "stream",
       "stream": "stderr",
       "text": [
        "INFO:FFC:Adjusting element degree from ? to 2\n"
       ]
      },
      {
       "output_type": "stream",
       "stream": "stderr",
       "text": [
        "INFO:FFC:Adjusting missing element domain to Domain(Cell('triangle', 2), 'triangle_multiverse', 2, 2).\n"
       ]
      },
      {
       "output_type": "stream",
       "stream": "stderr",
       "text": [
        "INFO:FFC:Adjusting element degree from ? to 2\n"
       ]
      },
      {
       "output_type": "stream",
       "stream": "stderr",
       "text": [
        "INFO:FFC:Adjusting missing element domain to Domain(Cell('triangle', 2), 'triangle_multiverse', 2, 2).\n"
       ]
      },
      {
       "output_type": "stream",
       "stream": "stderr",
       "text": [
        "INFO:FFC:Adjusting element degree from ? to 2\n"
       ]
      },
      {
       "output_type": "stream",
       "stream": "stderr",
       "text": [
        "INFO:FFC:Adjusting missing element domain to Domain(Cell('triangle', 2), 'triangle_multiverse', 2, 2).\n"
       ]
      },
      {
       "output_type": "stream",
       "stream": "stderr",
       "text": [
        "INFO:FFC:Adjusting element degree from ? to 2\n"
       ]
      },
      {
       "output_type": "stream",
       "stream": "stderr",
       "text": [
        "INFO:FFC:Adjusting missing element domain to Domain(Cell('triangle', 2), 'triangle_multiverse', 2, 2).\n"
       ]
      },
      {
       "output_type": "stream",
       "stream": "stderr",
       "text": [
        "INFO:FFC:Adjusting element degree from ? to 2\n"
       ]
      },
      {
       "output_type": "stream",
       "stream": "stderr",
       "text": [
        "INFO:FFC:Adjusting missing element domain to Domain(Cell('triangle', 2), 'triangle_multiverse', 2, 2).\n"
       ]
      },
      {
       "output_type": "stream",
       "stream": "stderr",
       "text": [
        "INFO:FFC:Adjusting element degree from ? to 2\n"
       ]
      },
      {
       "output_type": "stream",
       "stream": "stderr",
       "text": [
        "INFO:FFC:Adjusting missing element domain to Domain(Cell('triangle', 2), 'triangle_multiverse', 2, 2).\n"
       ]
      },
      {
       "output_type": "stream",
       "stream": "stderr",
       "text": [
        "INFO:FFC:Adjusting element degree from ? to 2\n"
       ]
      },
      {
       "output_type": "stream",
       "stream": "stderr",
       "text": [
        "INFO:FFC:Adjusting missing element domain to Domain(Cell('triangle', 2), 'triangle_multiverse', 2, 2).\n"
       ]
      },
      {
       "output_type": "stream",
       "stream": "stderr",
       "text": [
        "INFO:FFC:Adjusting element degree from ? to 2\n"
       ]
      },
      {
       "output_type": "stream",
       "stream": "stderr",
       "text": [
        "INFO:FFC:Adjusting missing element domain to Domain(Cell('triangle', 2), 'triangle_multiverse', 2, 2).\n"
       ]
      },
      {
       "output_type": "stream",
       "stream": "stderr",
       "text": [
        "INFO:FFC:Adjusting element degree from ? to 2\n"
       ]
      },
      {
       "output_type": "stream",
       "stream": "stderr",
       "text": [
        "INFO:FFC:Adjusting missing element domain to Domain(Cell('triangle', 2), 'triangle_multiverse', 2, 2).\n"
       ]
      },
      {
       "output_type": "stream",
       "stream": "stderr",
       "text": [
        "INFO:FFC:Adjusting element degree from ? to 2\n"
       ]
      },
      {
       "output_type": "stream",
       "stream": "stderr",
       "text": [
        "INFO:FFC:Adjusting missing element domain to Domain(Cell('triangle', 2), 'triangle_multiverse', 2, 2).\n"
       ]
      },
      {
       "output_type": "stream",
       "stream": "stderr",
       "text": [
        "INFO:FFC:Adjusting element degree from ? to 2\n"
       ]
      },
      {
       "output_type": "stream",
       "stream": "stderr",
       "text": [
        "INFO:FFC:Adjusting missing element domain to Domain(Cell('triangle', 2), 'triangle_multiverse', 2, 2).\n"
       ]
      },
      {
       "output_type": "stream",
       "stream": "stderr",
       "text": [
        "INFO:FFC:Adjusting element degree from ? to 2\n"
       ]
      },
      {
       "output_type": "stream",
       "stream": "stderr",
       "text": [
        "INFO:FFC:Adjusting missing element domain to Domain(Cell('triangle', 2), 'triangle_multiverse', 2, 2).\n"
       ]
      },
      {
       "output_type": "stream",
       "stream": "stderr",
       "text": [
        "INFO:FFC:Adjusting element degree from ? to 2\n"
       ]
      },
      {
       "output_type": "stream",
       "stream": "stderr",
       "text": [
        "INFO:FFC:Adjusting missing element domain to Domain(Cell('triangle', 2), 'triangle_multiverse', 2, 2).\n"
       ]
      },
      {
       "output_type": "stream",
       "stream": "stderr",
       "text": [
        "INFO:FFC:Adjusting element degree from ? to 2\n"
       ]
      },
      {
       "output_type": "stream",
       "stream": "stderr",
       "text": [
        "INFO:FFC:Adjusting missing element domain to Domain(Cell('triangle', 2), 'triangle_multiverse', 2, 2).\n"
       ]
      },
      {
       "output_type": "stream",
       "stream": "stderr",
       "text": [
        "INFO:FFC:Adjusting element degree from ? to 2\n"
       ]
      },
      {
       "output_type": "stream",
       "stream": "stderr",
       "text": [
        "INFO:FFC:Adjusting missing element domain to Domain(Cell('triangle', 2), 'triangle_multiverse', 2, 2).\n"
       ]
      },
      {
       "output_type": "stream",
       "stream": "stderr",
       "text": [
        "INFO:FFC:Adjusting element degree from ? to 2\n"
       ]
      },
      {
       "output_type": "stream",
       "stream": "stderr",
       "text": [
        "INFO:FFC:Adjusting missing element domain to Domain(Cell('triangle', 2), 'triangle_multiverse', 2, 2).\n"
       ]
      },
      {
       "output_type": "stream",
       "stream": "stderr",
       "text": [
        "INFO:FFC:Adjusting element degree from ? to 2\n"
       ]
      },
      {
       "output_type": "stream",
       "stream": "stderr",
       "text": [
        "INFO:FFC:Adjusting missing element domain to Domain(Cell('triangle', 2), 'triangle_multiverse', 2, 2).\n"
       ]
      },
      {
       "output_type": "stream",
       "stream": "stderr",
       "text": [
        "INFO:FFC:Adjusting element degree from ? to 2\n"
       ]
      },
      {
       "output_type": "stream",
       "stream": "stderr",
       "text": [
        "DEBUG:UFL:No integrals left after transformation, returning empty form.\n"
       ]
      },
      {
       "output_type": "stream",
       "stream": "stderr",
       "text": [
        "DEBUG:FFC:Reusing form from cache.\n"
       ]
      },
      {
       "output_type": "stream",
       "stream": "stderr",
       "text": [
        "DEBUG:FFC:Reusing form from cache.\n"
       ]
      },
      {
       "output_type": "stream",
       "stream": "stderr",
       "text": [
        "DEBUG:UFL:No integrals left after transformation, returning empty form.\n"
       ]
      },
      {
       "output_type": "stream",
       "stream": "stderr",
       "text": [
        "DEBUG:FFC:Reusing form from cache.\n"
       ]
      },
      {
       "output_type": "stream",
       "stream": "stderr",
       "text": [
        "DEBUG:UFL:No integrals left after transformation, returning empty form.\n"
       ]
      },
      {
       "output_type": "stream",
       "stream": "stderr",
       "text": [
        "DEBUG:FFC:Reusing form from cache.\n"
       ]
      },
      {
       "output_type": "stream",
       "stream": "stdout",
       "text": [
        "\n",
        "1\n",
        "1\n",
        "[ 0.  0.  0.  0.  0.  0.  0.  0.  0.  0.  0.  0.  0.  0.  0.  0.  0.  0.\n",
        "  0.  0.  0.  0.  0.  0.  0.  0.  0.  0.  0.  0.  0.  0.  0.  0.  0.  0.\n",
        "  0.  0.  0.  0.  0.  0.  0.  0.  0.  0.  0.  0.  0.  0.  0.  0.  0.  0.\n",
        "  0.  0.  0.  0.  0.  0.  0.  0.  0.  0.  0.  0.  0.  0.  0.  0.  0.  0.\n",
        "  0.  0.  0.  0.  0.  0.  0.  0.  0.  0.  0.  0.  0.  0.  0.  0.  0.  0.\n",
        "  0.  0.  0.  0.  0.  0.  0.  0.  0.  0.  0.  0.  0.  0.  0.  0.  0.  0.\n",
        "  0.  0.  0.  0.  0.  0.  0.  0.  0.  0.  0.  0.  0.  0.  0.  0.  0.  0.\n",
        "  0.  0.  0.  0.  0.  0.]\n",
        "1"
       ]
      },
      {
       "output_type": "stream",
       "stream": "stderr",
       "text": [
        "DEBUG:UFL:No integrals left after transformation, returning empty form.\n"
       ]
      },
      {
       "output_type": "stream",
       "stream": "stderr",
       "text": [
        "DEBUG:UFL:No integrals left after transformation, returning empty form.\n"
       ]
      },
      {
       "output_type": "stream",
       "stream": "stderr",
       "text": [
        "DEBUG:FFC:Reusing form from cache.\n"
       ]
      },
      {
       "output_type": "stream",
       "stream": "stderr",
       "text": [
        "INFO:FFC:Adjusting missing element domain to Domain(Cell('triangle', 2), 'triangle_multiverse', 2, 2).\n"
       ]
      },
      {
       "output_type": "stream",
       "stream": "stderr",
       "text": [
        "INFO:FFC:Adjusting element degree from ? to 2\n"
       ]
      },
      {
       "output_type": "stream",
       "stream": "stderr",
       "text": [
        "INFO:FFC:Adjusting missing element domain to Domain(Cell('triangle', 2), 'triangle_multiverse', 2, 2).\n"
       ]
      },
      {
       "output_type": "stream",
       "stream": "stderr",
       "text": [
        "INFO:FFC:Adjusting element degree from ? to 2\n"
       ]
      },
      {
       "output_type": "stream",
       "stream": "stderr",
       "text": [
        "INFO:FFC:Adjusting missing element domain to Domain(Cell('triangle', 2), 'triangle_multiverse', 2, 2).\n"
       ]
      },
      {
       "output_type": "stream",
       "stream": "stderr",
       "text": [
        "INFO:FFC:Adjusting element degree from ? to 2\n"
       ]
      },
      {
       "output_type": "stream",
       "stream": "stderr",
       "text": [
        "INFO:FFC:Adjusting missing element domain to Domain(Cell('triangle', 2), 'triangle_multiverse', 2, 2).\n"
       ]
      },
      {
       "output_type": "stream",
       "stream": "stderr",
       "text": [
        "INFO:FFC:Adjusting element degree from ? to 2\n"
       ]
      },
      {
       "output_type": "stream",
       "stream": "stderr",
       "text": [
        "INFO:FFC:Adjusting missing element domain to Domain(Cell('triangle', 2), 'triangle_multiverse', 2, 2).\n"
       ]
      },
      {
       "output_type": "stream",
       "stream": "stderr",
       "text": [
        "INFO:FFC:Adjusting element degree from ? to 2\n"
       ]
      },
      {
       "output_type": "stream",
       "stream": "stderr",
       "text": [
        "INFO:FFC:Adjusting missing element domain to Domain(Cell('triangle', 2), 'triangle_multiverse', 2, 2).\n"
       ]
      },
      {
       "output_type": "stream",
       "stream": "stderr",
       "text": [
        "INFO:FFC:Adjusting element degree from ? to 2\n"
       ]
      },
      {
       "output_type": "stream",
       "stream": "stderr",
       "text": [
        "INFO:FFC:Adjusting missing element domain to Domain(Cell('triangle', 2), 'triangle_multiverse', 2, 2).\n"
       ]
      },
      {
       "output_type": "stream",
       "stream": "stderr",
       "text": [
        "INFO:FFC:Adjusting element degree from ? to 2\n"
       ]
      },
      {
       "output_type": "stream",
       "stream": "stderr",
       "text": [
        "INFO:FFC:Adjusting missing element domain to Domain(Cell('triangle', 2), 'triangle_multiverse', 2, 2).\n"
       ]
      },
      {
       "output_type": "stream",
       "stream": "stderr",
       "text": [
        "INFO:FFC:Adjusting element degree from ? to 2\n"
       ]
      },
      {
       "output_type": "stream",
       "stream": "stderr",
       "text": [
        "INFO:FFC:Adjusting missing element domain to Domain(Cell('triangle', 2), 'triangle_multiverse', 2, 2).\n"
       ]
      },
      {
       "output_type": "stream",
       "stream": "stderr",
       "text": [
        "INFO:FFC:Adjusting element degree from ? to 2\n"
       ]
      },
      {
       "output_type": "stream",
       "stream": "stderr",
       "text": [
        "INFO:FFC:Adjusting missing element domain to Domain(Cell('triangle', 2), 'triangle_multiverse', 2, 2).\n"
       ]
      },
      {
       "output_type": "stream",
       "stream": "stderr",
       "text": [
        "INFO:FFC:Adjusting element degree from ? to 2\n"
       ]
      },
      {
       "output_type": "stream",
       "stream": "stderr",
       "text": [
        "INFO:FFC:Adjusting missing element domain to Domain(Cell('triangle', 2), 'triangle_multiverse', 2, 2).\n"
       ]
      },
      {
       "output_type": "stream",
       "stream": "stderr",
       "text": [
        "INFO:FFC:Adjusting element degree from ? to 2\n"
       ]
      },
      {
       "output_type": "stream",
       "stream": "stderr",
       "text": [
        "INFO:FFC:Adjusting missing element domain to Domain(Cell('triangle', 2), 'triangle_multiverse', 2, 2).\n"
       ]
      },
      {
       "output_type": "stream",
       "stream": "stderr",
       "text": [
        "INFO:FFC:Adjusting element degree from ? to 2\n"
       ]
      },
      {
       "output_type": "stream",
       "stream": "stderr",
       "text": [
        "INFO:FFC:Adjusting missing element domain to Domain(Cell('triangle', 2), 'triangle_multiverse', 2, 2).\n"
       ]
      },
      {
       "output_type": "stream",
       "stream": "stderr",
       "text": [
        "INFO:FFC:Adjusting element degree from ? to 2\n"
       ]
      },
      {
       "output_type": "stream",
       "stream": "stderr",
       "text": [
        "INFO:FFC:Adjusting missing element domain to Domain(Cell('triangle', 2), 'triangle_multiverse', 2, 2).\n"
       ]
      },
      {
       "output_type": "stream",
       "stream": "stderr",
       "text": [
        "INFO:FFC:Adjusting element degree from ? to 2\n"
       ]
      },
      {
       "output_type": "stream",
       "stream": "stderr",
       "text": [
        "INFO:FFC:Adjusting missing element domain to Domain(Cell('triangle', 2), 'triangle_multiverse', 2, 2).\n"
       ]
      },
      {
       "output_type": "stream",
       "stream": "stderr",
       "text": [
        "INFO:FFC:Adjusting element degree from ? to 2\n"
       ]
      },
      {
       "output_type": "stream",
       "stream": "stderr",
       "text": [
        "INFO:FFC:Adjusting missing element domain to Domain(Cell('triangle', 2), 'triangle_multiverse', 2, 2).\n"
       ]
      },
      {
       "output_type": "stream",
       "stream": "stderr",
       "text": [
        "INFO:FFC:Adjusting element degree from ? to 2\n"
       ]
      },
      {
       "output_type": "stream",
       "stream": "stderr",
       "text": [
        "INFO:FFC:Adjusting missing element domain to Domain(Cell('triangle', 2), 'triangle_multiverse', 2, 2).\n"
       ]
      },
      {
       "output_type": "stream",
       "stream": "stderr",
       "text": [
        "INFO:FFC:Adjusting element degree from ? to 2\n"
       ]
      },
      {
       "output_type": "stream",
       "stream": "stderr",
       "text": [
        "INFO:FFC:Adjusting missing element domain to Domain(Cell('triangle', 2), 'triangle_multiverse', 2, 2).\n"
       ]
      },
      {
       "output_type": "stream",
       "stream": "stderr",
       "text": [
        "INFO:FFC:Adjusting element degree from ? to 2\n"
       ]
      },
      {
       "output_type": "stream",
       "stream": "stderr",
       "text": [
        "INFO:FFC:Adjusting missing element domain to Domain(Cell('triangle', 2), 'triangle_multiverse', 2, 2).\n"
       ]
      },
      {
       "output_type": "stream",
       "stream": "stderr",
       "text": [
        "INFO:FFC:Adjusting element degree from ? to 2\n"
       ]
      },
      {
       "output_type": "stream",
       "stream": "stderr",
       "text": [
        "INFO:FFC:Adjusting missing element domain to Domain(Cell('triangle', 2), 'triangle_multiverse', 2, 2).\n"
       ]
      },
      {
       "output_type": "stream",
       "stream": "stderr",
       "text": [
        "INFO:FFC:Adjusting element degree from ? to 2\n"
       ]
      },
      {
       "output_type": "stream",
       "stream": "stderr",
       "text": [
        "INFO:FFC:Adjusting missing element domain to Domain(Cell('triangle', 2), 'triangle_multiverse', 2, 2).\n"
       ]
      },
      {
       "output_type": "stream",
       "stream": "stderr",
       "text": [
        "INFO:FFC:Adjusting element degree from ? to 2\n"
       ]
      },
      {
       "output_type": "stream",
       "stream": "stderr",
       "text": [
        "DEBUG:UFL:No integrals left after transformation, returning empty form.\n"
       ]
      },
      {
       "output_type": "stream",
       "stream": "stderr",
       "text": [
        "DEBUG:FFC:Reusing form from cache.\n"
       ]
      },
      {
       "output_type": "stream",
       "stream": "stderr",
       "text": [
        "DEBUG:FFC:Reusing form from cache.\n"
       ]
      },
      {
       "output_type": "stream",
       "stream": "stderr",
       "text": [
        "DEBUG:UFL:No integrals left after transformation, returning empty form.\n"
       ]
      },
      {
       "output_type": "stream",
       "stream": "stderr",
       "text": [
        "DEBUG:FFC:Reusing form from cache.\n"
       ]
      },
      {
       "output_type": "stream",
       "stream": "stderr",
       "text": [
        "DEBUG:UFL:No integrals left after transformation, returning empty form.\n"
       ]
      },
      {
       "output_type": "stream",
       "stream": "stderr",
       "text": [
        "DEBUG:FFC:Reusing form from cache.\n"
       ]
      },
      {
       "output_type": "stream",
       "stream": "stdout",
       "text": [
        "\n",
        "1\n",
        "1\n",
        "[ 0.  0.  0.  0.  0.  0.  0.  0.  0.  0.  0.  0.  0.  0.  0.  0.  0.  0.\n",
        "  0.  0.  0.  0.  0.  0.  0.  0.  0.  0.  0.  0.  0.  0.  0.  0.  0.  0.\n",
        "  0.  0.  0.  0.  0.  0.  0.  0.  0.  0.  0.  0.  0.  0.  0.  0.  0.  0.\n",
        "  0.  0.  0.  0.  0.  0.  0.  0.  0.  0.  0.  0.  0.  0.  0.  0.  0.  0.\n",
        "  0.  0.  0.  0.  0.  0.  0.  0.  0.  0.  0.  0.  0.  0.  0.  0.  0.  0.\n",
        "  0.  0.  0.  0.  0.  0.  0.  0.  0.  0.  0.  0.  0.  0.  0.  0.  0.  0.\n",
        "  0.  0.  0.  0.  0.  0.  0.  0.  0.  0.  0.  0.  0.  0.  0.  0.  0.  0.\n",
        "  0.  0.  0.  0.  0.  0.]\n",
        "1"
       ]
      },
      {
       "output_type": "stream",
       "stream": "stdout",
       "text": [
        "\n",
        "1\n",
        "1\n",
        "[ 0.  0.  0.  0.  0.  0.  0.  0.  0.  0.  0.  0.  0.  0.  0.  0.  0.  0.\n",
        "  0.  0.  0.  0.  0.  0.  0.  0.  0.  0.  0.  0.  0.  0.  0.  0.  0.  0.\n",
        "  0.  0.  0.  0.  0.  0.  0.  0.  0.  0.  0.  0.  0.  0.  0.  0.  0.  0.\n",
        "  0.  0.  0.  0.  0.  0.  0.  0.  0.  0.  0.  0.  0.  0.  0.  0.  0.  0.\n",
        "  0.  0.  0.  0.  0.  0.  0.  0.  0.  0.  0.  0.  0.  0.  0.  0.  0.  0.\n",
        "  0.  0.  0.  0.  0.  0.  0.  0.  0.  0.  0.  0.  0.  0.  0.  0.  0.  0.\n",
        "  0.  0.  0.  0.  0.  0.  0.  0.  0.  0.  0.  0.  0.  0.  0.  0.  0.  0.\n",
        "  0.  0.  0.  0.  0.  0.]"
       ]
      },
      {
       "output_type": "stream",
       "stream": "stderr",
       "text": [
        "DEBUG:UFL:No integrals left after transformation, returning empty form.\n"
       ]
      },
      {
       "output_type": "stream",
       "stream": "stderr",
       "text": [
        "DEBUG:UFL:No integrals left after transformation, returning empty form.\n"
       ]
      },
      {
       "output_type": "stream",
       "stream": "stderr",
       "text": [
        "DEBUG:FFC:Reusing form from cache.\n"
       ]
      },
      {
       "output_type": "stream",
       "stream": "stderr",
       "text": [
        "INFO:FFC:Adjusting missing element domain to Domain(Cell('triangle', 2), 'triangle_multiverse', 2, 2).\n"
       ]
      },
      {
       "output_type": "stream",
       "stream": "stderr",
       "text": [
        "INFO:FFC:Adjusting element degree from ? to 2\n"
       ]
      },
      {
       "output_type": "stream",
       "stream": "stderr",
       "text": [
        "INFO:FFC:Adjusting missing element domain to Domain(Cell('triangle', 2), 'triangle_multiverse', 2, 2).\n"
       ]
      },
      {
       "output_type": "stream",
       "stream": "stderr",
       "text": [
        "INFO:FFC:Adjusting element degree from ? to 2\n"
       ]
      },
      {
       "output_type": "stream",
       "stream": "stderr",
       "text": [
        "INFO:FFC:Adjusting missing element domain to Domain(Cell('triangle', 2), 'triangle_multiverse', 2, 2).\n"
       ]
      },
      {
       "output_type": "stream",
       "stream": "stderr",
       "text": [
        "INFO:FFC:Adjusting element degree from ? to 2\n"
       ]
      },
      {
       "output_type": "stream",
       "stream": "stderr",
       "text": [
        "INFO:FFC:Adjusting missing element domain to Domain(Cell('triangle', 2), 'triangle_multiverse', 2, 2).\n"
       ]
      },
      {
       "output_type": "stream",
       "stream": "stderr",
       "text": [
        "INFO:FFC:Adjusting element degree from ? to 2\n"
       ]
      },
      {
       "output_type": "stream",
       "stream": "stderr",
       "text": [
        "INFO:FFC:Adjusting missing element domain to Domain(Cell('triangle', 2), 'triangle_multiverse', 2, 2).\n"
       ]
      },
      {
       "output_type": "stream",
       "stream": "stderr",
       "text": [
        "INFO:FFC:Adjusting element degree from ? to 2\n"
       ]
      },
      {
       "output_type": "stream",
       "stream": "stderr",
       "text": [
        "INFO:FFC:Adjusting missing element domain to Domain(Cell('triangle', 2), 'triangle_multiverse', 2, 2).\n"
       ]
      },
      {
       "output_type": "stream",
       "stream": "stderr",
       "text": [
        "INFO:FFC:Adjusting element degree from ? to 2\n"
       ]
      },
      {
       "output_type": "stream",
       "stream": "stderr",
       "text": [
        "INFO:FFC:Adjusting missing element domain to Domain(Cell('triangle', 2), 'triangle_multiverse', 2, 2).\n"
       ]
      },
      {
       "output_type": "stream",
       "stream": "stderr",
       "text": [
        "INFO:FFC:Adjusting element degree from ? to 2\n"
       ]
      },
      {
       "output_type": "stream",
       "stream": "stderr",
       "text": [
        "INFO:FFC:Adjusting missing element domain to Domain(Cell('triangle', 2), 'triangle_multiverse', 2, 2).\n"
       ]
      },
      {
       "output_type": "stream",
       "stream": "stderr",
       "text": [
        "INFO:FFC:Adjusting element degree from ? to 2\n"
       ]
      },
      {
       "output_type": "stream",
       "stream": "stderr",
       "text": [
        "INFO:FFC:Adjusting missing element domain to Domain(Cell('triangle', 2), 'triangle_multiverse', 2, 2).\n"
       ]
      },
      {
       "output_type": "stream",
       "stream": "stderr",
       "text": [
        "INFO:FFC:Adjusting element degree from ? to 2\n"
       ]
      },
      {
       "output_type": "stream",
       "stream": "stderr",
       "text": [
        "INFO:FFC:Adjusting missing element domain to Domain(Cell('triangle', 2), 'triangle_multiverse', 2, 2).\n"
       ]
      },
      {
       "output_type": "stream",
       "stream": "stderr",
       "text": [
        "INFO:FFC:Adjusting element degree from ? to 2\n"
       ]
      },
      {
       "output_type": "stream",
       "stream": "stderr",
       "text": [
        "INFO:FFC:Adjusting missing element domain to Domain(Cell('triangle', 2), 'triangle_multiverse', 2, 2).\n"
       ]
      },
      {
       "output_type": "stream",
       "stream": "stderr",
       "text": [
        "INFO:FFC:Adjusting element degree from ? to 2\n"
       ]
      },
      {
       "output_type": "stream",
       "stream": "stderr",
       "text": [
        "INFO:FFC:Adjusting missing element domain to Domain(Cell('triangle', 2), 'triangle_multiverse', 2, 2).\n"
       ]
      },
      {
       "output_type": "stream",
       "stream": "stderr",
       "text": [
        "INFO:FFC:Adjusting element degree from ? to 2\n"
       ]
      },
      {
       "output_type": "stream",
       "stream": "stderr",
       "text": [
        "INFO:FFC:Adjusting missing element domain to Domain(Cell('triangle', 2), 'triangle_multiverse', 2, 2).\n"
       ]
      },
      {
       "output_type": "stream",
       "stream": "stderr",
       "text": [
        "INFO:FFC:Adjusting element degree from ? to 2\n"
       ]
      },
      {
       "output_type": "stream",
       "stream": "stderr",
       "text": [
        "INFO:FFC:Adjusting missing element domain to Domain(Cell('triangle', 2), 'triangle_multiverse', 2, 2).\n"
       ]
      },
      {
       "output_type": "stream",
       "stream": "stderr",
       "text": [
        "INFO:FFC:Adjusting element degree from ? to 2\n"
       ]
      },
      {
       "output_type": "stream",
       "stream": "stderr",
       "text": [
        "INFO:FFC:Adjusting missing element domain to Domain(Cell('triangle', 2), 'triangle_multiverse', 2, 2).\n"
       ]
      },
      {
       "output_type": "stream",
       "stream": "stderr",
       "text": [
        "INFO:FFC:Adjusting element degree from ? to 2\n"
       ]
      },
      {
       "output_type": "stream",
       "stream": "stderr",
       "text": [
        "INFO:FFC:Adjusting missing element domain to Domain(Cell('triangle', 2), 'triangle_multiverse', 2, 2).\n"
       ]
      },
      {
       "output_type": "stream",
       "stream": "stderr",
       "text": [
        "INFO:FFC:Adjusting element degree from ? to 2\n"
       ]
      },
      {
       "output_type": "stream",
       "stream": "stderr",
       "text": [
        "INFO:FFC:Adjusting missing element domain to Domain(Cell('triangle', 2), 'triangle_multiverse', 2, 2).\n"
       ]
      },
      {
       "output_type": "stream",
       "stream": "stderr",
       "text": [
        "INFO:FFC:Adjusting element degree from ? to 2\n"
       ]
      },
      {
       "output_type": "stream",
       "stream": "stderr",
       "text": [
        "INFO:FFC:Adjusting missing element domain to Domain(Cell('triangle', 2), 'triangle_multiverse', 2, 2).\n"
       ]
      },
      {
       "output_type": "stream",
       "stream": "stderr",
       "text": [
        "INFO:FFC:Adjusting element degree from ? to 2\n"
       ]
      },
      {
       "output_type": "stream",
       "stream": "stderr",
       "text": [
        "INFO:FFC:Adjusting missing element domain to Domain(Cell('triangle', 2), 'triangle_multiverse', 2, 2).\n"
       ]
      },
      {
       "output_type": "stream",
       "stream": "stderr",
       "text": [
        "INFO:FFC:Adjusting element degree from ? to 2\n"
       ]
      },
      {
       "output_type": "stream",
       "stream": "stderr",
       "text": [
        "INFO:FFC:Adjusting missing element domain to Domain(Cell('triangle', 2), 'triangle_multiverse', 2, 2).\n"
       ]
      },
      {
       "output_type": "stream",
       "stream": "stderr",
       "text": [
        "INFO:FFC:Adjusting element degree from ? to 2\n"
       ]
      },
      {
       "output_type": "stream",
       "stream": "stderr",
       "text": [
        "INFO:FFC:Adjusting missing element domain to Domain(Cell('triangle', 2), 'triangle_multiverse', 2, 2).\n"
       ]
      },
      {
       "output_type": "stream",
       "stream": "stderr",
       "text": [
        "INFO:FFC:Adjusting element degree from ? to 2\n"
       ]
      },
      {
       "output_type": "stream",
       "stream": "stderr",
       "text": [
        "DEBUG:UFL:No integrals left after transformation, returning empty form.\n"
       ]
      },
      {
       "output_type": "stream",
       "stream": "stderr",
       "text": [
        "DEBUG:FFC:Reusing form from cache.\n"
       ]
      },
      {
       "output_type": "stream",
       "stream": "stderr",
       "text": [
        "DEBUG:FFC:Reusing form from cache.\n"
       ]
      },
      {
       "output_type": "stream",
       "stream": "stderr",
       "text": [
        "DEBUG:UFL:No integrals left after transformation, returning empty form.\n"
       ]
      },
      {
       "output_type": "stream",
       "stream": "stderr",
       "text": [
        "DEBUG:FFC:Reusing form from cache.\n"
       ]
      },
      {
       "output_type": "stream",
       "stream": "stderr",
       "text": [
        "DEBUG:UFL:No integrals left after transformation, returning empty form.\n"
       ]
      },
      {
       "output_type": "stream",
       "stream": "stderr",
       "text": [
        "DEBUG:FFC:Reusing form from cache.\n"
       ]
      },
      {
       "output_type": "stream",
       "stream": "stdout",
       "text": [
        "\n",
        "1"
       ]
      },
      {
       "output_type": "stream",
       "stream": "stderr",
       "text": [
        "DEBUG:UFL:No integrals left after transformation, returning empty form.\n"
       ]
      },
      {
       "output_type": "stream",
       "stream": "stderr",
       "text": [
        "DEBUG:UFL:No integrals left after transformation, returning empty form.\n"
       ]
      },
      {
       "output_type": "stream",
       "stream": "stderr",
       "text": [
        "DEBUG:FFC:Reusing form from cache.\n"
       ]
      },
      {
       "output_type": "stream",
       "stream": "stderr",
       "text": [
        "INFO:FFC:Adjusting missing element domain to Domain(Cell('triangle', 2), 'triangle_multiverse', 2, 2).\n"
       ]
      },
      {
       "output_type": "stream",
       "stream": "stderr",
       "text": [
        "INFO:FFC:Adjusting element degree from ? to 2\n"
       ]
      },
      {
       "output_type": "stream",
       "stream": "stderr",
       "text": [
        "INFO:FFC:Adjusting missing element domain to Domain(Cell('triangle', 2), 'triangle_multiverse', 2, 2).\n"
       ]
      },
      {
       "output_type": "stream",
       "stream": "stderr",
       "text": [
        "INFO:FFC:Adjusting element degree from ? to 2\n"
       ]
      },
      {
       "output_type": "stream",
       "stream": "stderr",
       "text": [
        "INFO:FFC:Adjusting missing element domain to Domain(Cell('triangle', 2), 'triangle_multiverse', 2, 2).\n"
       ]
      },
      {
       "output_type": "stream",
       "stream": "stderr",
       "text": [
        "INFO:FFC:Adjusting element degree from ? to 2\n"
       ]
      },
      {
       "output_type": "stream",
       "stream": "stderr",
       "text": [
        "INFO:FFC:Adjusting missing element domain to Domain(Cell('triangle', 2), 'triangle_multiverse', 2, 2).\n"
       ]
      },
      {
       "output_type": "stream",
       "stream": "stderr",
       "text": [
        "INFO:FFC:Adjusting element degree from ? to 2\n"
       ]
      },
      {
       "output_type": "stream",
       "stream": "stderr",
       "text": [
        "INFO:FFC:Adjusting missing element domain to Domain(Cell('triangle', 2), 'triangle_multiverse', 2, 2).\n"
       ]
      },
      {
       "output_type": "stream",
       "stream": "stderr",
       "text": [
        "INFO:FFC:Adjusting element degree from ? to 2\n"
       ]
      },
      {
       "output_type": "stream",
       "stream": "stderr",
       "text": [
        "INFO:FFC:Adjusting missing element domain to Domain(Cell('triangle', 2), 'triangle_multiverse', 2, 2).\n"
       ]
      },
      {
       "output_type": "stream",
       "stream": "stderr",
       "text": [
        "INFO:FFC:Adjusting element degree from ? to 2\n"
       ]
      },
      {
       "output_type": "stream",
       "stream": "stderr",
       "text": [
        "INFO:FFC:Adjusting missing element domain to Domain(Cell('triangle', 2), 'triangle_multiverse', 2, 2).\n"
       ]
      },
      {
       "output_type": "stream",
       "stream": "stderr",
       "text": [
        "INFO:FFC:Adjusting element degree from ? to 2\n"
       ]
      },
      {
       "output_type": "stream",
       "stream": "stderr",
       "text": [
        "INFO:FFC:Adjusting missing element domain to Domain(Cell('triangle', 2), 'triangle_multiverse', 2, 2).\n"
       ]
      },
      {
       "output_type": "stream",
       "stream": "stderr",
       "text": [
        "INFO:FFC:Adjusting element degree from ? to 2\n"
       ]
      },
      {
       "output_type": "stream",
       "stream": "stderr",
       "text": [
        "INFO:FFC:Adjusting missing element domain to Domain(Cell('triangle', 2), 'triangle_multiverse', 2, 2).\n"
       ]
      },
      {
       "output_type": "stream",
       "stream": "stderr",
       "text": [
        "INFO:FFC:Adjusting element degree from ? to 2\n"
       ]
      },
      {
       "output_type": "stream",
       "stream": "stderr",
       "text": [
        "INFO:FFC:Adjusting missing element domain to Domain(Cell('triangle', 2), 'triangle_multiverse', 2, 2).\n"
       ]
      },
      {
       "output_type": "stream",
       "stream": "stderr",
       "text": [
        "INFO:FFC:Adjusting element degree from ? to 2\n"
       ]
      },
      {
       "output_type": "stream",
       "stream": "stderr",
       "text": [
        "INFO:FFC:Adjusting missing element domain to Domain(Cell('triangle', 2), 'triangle_multiverse', 2, 2).\n"
       ]
      },
      {
       "output_type": "stream",
       "stream": "stderr",
       "text": [
        "INFO:FFC:Adjusting element degree from ? to 2\n"
       ]
      },
      {
       "output_type": "stream",
       "stream": "stderr",
       "text": [
        "INFO:FFC:Adjusting missing element domain to Domain(Cell('triangle', 2), 'triangle_multiverse', 2, 2).\n"
       ]
      },
      {
       "output_type": "stream",
       "stream": "stderr",
       "text": [
        "INFO:FFC:Adjusting element degree from ? to 2\n"
       ]
      },
      {
       "output_type": "stream",
       "stream": "stderr",
       "text": [
        "INFO:FFC:Adjusting missing element domain to Domain(Cell('triangle', 2), 'triangle_multiverse', 2, 2).\n"
       ]
      },
      {
       "output_type": "stream",
       "stream": "stderr",
       "text": [
        "INFO:FFC:Adjusting element degree from ? to 2\n"
       ]
      },
      {
       "output_type": "stream",
       "stream": "stderr",
       "text": [
        "INFO:FFC:Adjusting missing element domain to Domain(Cell('triangle', 2), 'triangle_multiverse', 2, 2).\n"
       ]
      },
      {
       "output_type": "stream",
       "stream": "stderr",
       "text": [
        "INFO:FFC:Adjusting element degree from ? to 2\n"
       ]
      },
      {
       "output_type": "stream",
       "stream": "stderr",
       "text": [
        "INFO:FFC:Adjusting missing element domain to Domain(Cell('triangle', 2), 'triangle_multiverse', 2, 2).\n"
       ]
      },
      {
       "output_type": "stream",
       "stream": "stderr",
       "text": [
        "INFO:FFC:Adjusting element degree from ? to 2\n"
       ]
      },
      {
       "output_type": "stream",
       "stream": "stderr",
       "text": [
        "INFO:FFC:Adjusting missing element domain to Domain(Cell('triangle', 2), 'triangle_multiverse', 2, 2).\n"
       ]
      },
      {
       "output_type": "stream",
       "stream": "stderr",
       "text": [
        "INFO:FFC:Adjusting element degree from ? to 2\n"
       ]
      },
      {
       "output_type": "stream",
       "stream": "stderr",
       "text": [
        "INFO:FFC:Adjusting missing element domain to Domain(Cell('triangle', 2), 'triangle_multiverse', 2, 2).\n"
       ]
      },
      {
       "output_type": "stream",
       "stream": "stderr",
       "text": [
        "INFO:FFC:Adjusting element degree from ? to 2\n"
       ]
      },
      {
       "output_type": "stream",
       "stream": "stderr",
       "text": [
        "INFO:FFC:Adjusting missing element domain to Domain(Cell('triangle', 2), 'triangle_multiverse', 2, 2).\n"
       ]
      },
      {
       "output_type": "stream",
       "stream": "stderr",
       "text": [
        "INFO:FFC:Adjusting element degree from ? to 2\n"
       ]
      },
      {
       "output_type": "stream",
       "stream": "stderr",
       "text": [
        "INFO:FFC:Adjusting missing element domain to Domain(Cell('triangle', 2), 'triangle_multiverse', 2, 2).\n"
       ]
      },
      {
       "output_type": "stream",
       "stream": "stderr",
       "text": [
        "INFO:FFC:Adjusting element degree from ? to 2\n"
       ]
      },
      {
       "output_type": "stream",
       "stream": "stderr",
       "text": [
        "INFO:FFC:Adjusting missing element domain to Domain(Cell('triangle', 2), 'triangle_multiverse', 2, 2).\n"
       ]
      },
      {
       "output_type": "stream",
       "stream": "stderr",
       "text": [
        "INFO:FFC:Adjusting element degree from ? to 2\n"
       ]
      },
      {
       "output_type": "stream",
       "stream": "stderr",
       "text": [
        "INFO:FFC:Adjusting missing element domain to Domain(Cell('triangle', 2), 'triangle_multiverse', 2, 2).\n"
       ]
      },
      {
       "output_type": "stream",
       "stream": "stderr",
       "text": [
        "INFO:FFC:Adjusting element degree from ? to 2\n"
       ]
      },
      {
       "output_type": "stream",
       "stream": "stderr",
       "text": [
        "DEBUG:UFL:No integrals left after transformation, returning empty form.\n"
       ]
      },
      {
       "output_type": "stream",
       "stream": "stderr",
       "text": [
        "DEBUG:FFC:Reusing form from cache.\n"
       ]
      },
      {
       "output_type": "stream",
       "stream": "stderr",
       "text": [
        "DEBUG:FFC:Reusing form from cache.\n"
       ]
      },
      {
       "output_type": "stream",
       "stream": "stderr",
       "text": [
        "DEBUG:UFL:No integrals left after transformation, returning empty form.\n"
       ]
      },
      {
       "output_type": "stream",
       "stream": "stderr",
       "text": [
        "DEBUG:FFC:Reusing form from cache.\n"
       ]
      },
      {
       "output_type": "stream",
       "stream": "stderr",
       "text": [
        "DEBUG:UFL:No integrals left after transformation, returning empty form.\n"
       ]
      },
      {
       "output_type": "stream",
       "stream": "stderr",
       "text": [
        "DEBUG:FFC:Reusing form from cache.\n"
       ]
      },
      {
       "output_type": "stream",
       "stream": "stdout",
       "text": [
        "\n",
        "1\n",
        "1\n",
        "[ 0.  0.  0.  0.  0.  0.  0.  0.  0.  0.  0.  0.  0.  0.  0.  0.  0.  0.\n",
        "  0.  0.  0.  0.  0.  0.  0.  0.  0.  0.  0.  0.  0.  0.  0.  0.  0.  0.\n",
        "  0.  0.  0.  0.  0.  0.  0.  0.  0.  0.  0.  0.  0.  0.  0.  0.  0.  0.\n",
        "  0.  0.  0.  0.  0.  0.  0.  0.  0.  0.  0.  0.  0.  0.  0.  0.  0.  0.\n",
        "  0.  0.  0.  0.  0.  0.  0.  0.  0.  0.  0.  0.  0.  0.  0.  0.  0.  0.\n",
        "  0.  0.  0.  0.  0.  0.  0.  0.  0.  0.  0.  0.  0.  0.  0.  0.  0.  0.\n",
        "  0.  0.  0.  0.  0.  0.  0.  0.  0.  0.  0.  0.  0.  0.  0.  0.  0.  0.\n",
        "  0.  0.  0.  0.  0.  0.]\n",
        "1"
       ]
      },
      {
       "output_type": "stream",
       "stream": "stderr",
       "text": [
        "DEBUG:UFL:No integrals left after transformation, returning empty form.\n"
       ]
      },
      {
       "output_type": "stream",
       "stream": "stderr",
       "text": [
        "DEBUG:UFL:No integrals left after transformation, returning empty form.\n"
       ]
      },
      {
       "output_type": "stream",
       "stream": "stderr",
       "text": [
        "DEBUG:FFC:Reusing form from cache.\n"
       ]
      },
      {
       "output_type": "stream",
       "stream": "stderr",
       "text": [
        "INFO:FFC:Adjusting missing element domain to Domain(Cell('triangle', 2), 'triangle_multiverse', 2, 2).\n"
       ]
      },
      {
       "output_type": "stream",
       "stream": "stderr",
       "text": [
        "INFO:FFC:Adjusting element degree from ? to 2\n"
       ]
      },
      {
       "output_type": "stream",
       "stream": "stderr",
       "text": [
        "INFO:FFC:Adjusting missing element domain to Domain(Cell('triangle', 2), 'triangle_multiverse', 2, 2).\n"
       ]
      },
      {
       "output_type": "stream",
       "stream": "stderr",
       "text": [
        "INFO:FFC:Adjusting element degree from ? to 2\n"
       ]
      },
      {
       "output_type": "stream",
       "stream": "stderr",
       "text": [
        "INFO:FFC:Adjusting missing element domain to Domain(Cell('triangle', 2), 'triangle_multiverse', 2, 2).\n"
       ]
      },
      {
       "output_type": "stream",
       "stream": "stderr",
       "text": [
        "INFO:FFC:Adjusting element degree from ? to 2\n"
       ]
      },
      {
       "output_type": "stream",
       "stream": "stderr",
       "text": [
        "INFO:FFC:Adjusting missing element domain to Domain(Cell('triangle', 2), 'triangle_multiverse', 2, 2).\n"
       ]
      },
      {
       "output_type": "stream",
       "stream": "stderr",
       "text": [
        "INFO:FFC:Adjusting element degree from ? to 2\n"
       ]
      },
      {
       "output_type": "stream",
       "stream": "stderr",
       "text": [
        "INFO:FFC:Adjusting missing element domain to Domain(Cell('triangle', 2), 'triangle_multiverse', 2, 2).\n"
       ]
      },
      {
       "output_type": "stream",
       "stream": "stderr",
       "text": [
        "INFO:FFC:Adjusting element degree from ? to 2\n"
       ]
      },
      {
       "output_type": "stream",
       "stream": "stderr",
       "text": [
        "INFO:FFC:Adjusting missing element domain to Domain(Cell('triangle', 2), 'triangle_multiverse', 2, 2).\n"
       ]
      },
      {
       "output_type": "stream",
       "stream": "stderr",
       "text": [
        "INFO:FFC:Adjusting element degree from ? to 2\n"
       ]
      },
      {
       "output_type": "stream",
       "stream": "stderr",
       "text": [
        "INFO:FFC:Adjusting missing element domain to Domain(Cell('triangle', 2), 'triangle_multiverse', 2, 2).\n"
       ]
      },
      {
       "output_type": "stream",
       "stream": "stderr",
       "text": [
        "INFO:FFC:Adjusting element degree from ? to 2\n"
       ]
      },
      {
       "output_type": "stream",
       "stream": "stderr",
       "text": [
        "INFO:FFC:Adjusting missing element domain to Domain(Cell('triangle', 2), 'triangle_multiverse', 2, 2).\n"
       ]
      },
      {
       "output_type": "stream",
       "stream": "stderr",
       "text": [
        "INFO:FFC:Adjusting element degree from ? to 2\n"
       ]
      },
      {
       "output_type": "stream",
       "stream": "stderr",
       "text": [
        "INFO:FFC:Adjusting missing element domain to Domain(Cell('triangle', 2), 'triangle_multiverse', 2, 2).\n"
       ]
      },
      {
       "output_type": "stream",
       "stream": "stderr",
       "text": [
        "INFO:FFC:Adjusting element degree from ? to 2\n"
       ]
      },
      {
       "output_type": "stream",
       "stream": "stderr",
       "text": [
        "INFO:FFC:Adjusting missing element domain to Domain(Cell('triangle', 2), 'triangle_multiverse', 2, 2).\n"
       ]
      },
      {
       "output_type": "stream",
       "stream": "stderr",
       "text": [
        "INFO:FFC:Adjusting element degree from ? to 2\n"
       ]
      },
      {
       "output_type": "stream",
       "stream": "stderr",
       "text": [
        "INFO:FFC:Adjusting missing element domain to Domain(Cell('triangle', 2), 'triangle_multiverse', 2, 2).\n"
       ]
      },
      {
       "output_type": "stream",
       "stream": "stderr",
       "text": [
        "INFO:FFC:Adjusting element degree from ? to 2\n"
       ]
      },
      {
       "output_type": "stream",
       "stream": "stderr",
       "text": [
        "INFO:FFC:Adjusting missing element domain to Domain(Cell('triangle', 2), 'triangle_multiverse', 2, 2).\n"
       ]
      },
      {
       "output_type": "stream",
       "stream": "stderr",
       "text": [
        "INFO:FFC:Adjusting element degree from ? to 2\n"
       ]
      },
      {
       "output_type": "stream",
       "stream": "stderr",
       "text": [
        "INFO:FFC:Adjusting missing element domain to Domain(Cell('triangle', 2), 'triangle_multiverse', 2, 2).\n"
       ]
      },
      {
       "output_type": "stream",
       "stream": "stderr",
       "text": [
        "INFO:FFC:Adjusting element degree from ? to 2\n"
       ]
      },
      {
       "output_type": "stream",
       "stream": "stderr",
       "text": [
        "INFO:FFC:Adjusting missing element domain to Domain(Cell('triangle', 2), 'triangle_multiverse', 2, 2).\n"
       ]
      },
      {
       "output_type": "stream",
       "stream": "stderr",
       "text": [
        "INFO:FFC:Adjusting element degree from ? to 2\n"
       ]
      },
      {
       "output_type": "stream",
       "stream": "stderr",
       "text": [
        "INFO:FFC:Adjusting missing element domain to Domain(Cell('triangle', 2), 'triangle_multiverse', 2, 2).\n"
       ]
      },
      {
       "output_type": "stream",
       "stream": "stderr",
       "text": [
        "INFO:FFC:Adjusting element degree from ? to 2\n"
       ]
      },
      {
       "output_type": "stream",
       "stream": "stderr",
       "text": [
        "INFO:FFC:Adjusting missing element domain to Domain(Cell('triangle', 2), 'triangle_multiverse', 2, 2).\n"
       ]
      },
      {
       "output_type": "stream",
       "stream": "stderr",
       "text": [
        "INFO:FFC:Adjusting element degree from ? to 2\n"
       ]
      },
      {
       "output_type": "stream",
       "stream": "stderr",
       "text": [
        "INFO:FFC:Adjusting missing element domain to Domain(Cell('triangle', 2), 'triangle_multiverse', 2, 2).\n"
       ]
      },
      {
       "output_type": "stream",
       "stream": "stderr",
       "text": [
        "INFO:FFC:Adjusting element degree from ? to 2\n"
       ]
      },
      {
       "output_type": "stream",
       "stream": "stderr",
       "text": [
        "INFO:FFC:Adjusting missing element domain to Domain(Cell('triangle', 2), 'triangle_multiverse', 2, 2).\n"
       ]
      },
      {
       "output_type": "stream",
       "stream": "stderr",
       "text": [
        "INFO:FFC:Adjusting element degree from ? to 2\n"
       ]
      },
      {
       "output_type": "stream",
       "stream": "stderr",
       "text": [
        "INFO:FFC:Adjusting missing element domain to Domain(Cell('triangle', 2), 'triangle_multiverse', 2, 2).\n"
       ]
      },
      {
       "output_type": "stream",
       "stream": "stderr",
       "text": [
        "INFO:FFC:Adjusting element degree from ? to 2\n"
       ]
      },
      {
       "output_type": "stream",
       "stream": "stderr",
       "text": [
        "INFO:FFC:Adjusting missing element domain to Domain(Cell('triangle', 2), 'triangle_multiverse', 2, 2).\n"
       ]
      },
      {
       "output_type": "stream",
       "stream": "stderr",
       "text": [
        "INFO:FFC:Adjusting element degree from ? to 2\n"
       ]
      },
      {
       "output_type": "stream",
       "stream": "stderr",
       "text": [
        "INFO:FFC:Adjusting missing element domain to Domain(Cell('triangle', 2), 'triangle_multiverse', 2, 2).\n"
       ]
      },
      {
       "output_type": "stream",
       "stream": "stderr",
       "text": [
        "INFO:FFC:Adjusting element degree from ? to 2\n"
       ]
      },
      {
       "output_type": "stream",
       "stream": "stderr",
       "text": [
        "DEBUG:UFL:No integrals left after transformation, returning empty form.\n"
       ]
      },
      {
       "output_type": "stream",
       "stream": "stderr",
       "text": [
        "DEBUG:FFC:Reusing form from cache.\n"
       ]
      },
      {
       "output_type": "stream",
       "stream": "stderr",
       "text": [
        "DEBUG:FFC:Reusing form from cache.\n"
       ]
      },
      {
       "output_type": "stream",
       "stream": "stderr",
       "text": [
        "DEBUG:UFL:No integrals left after transformation, returning empty form.\n"
       ]
      },
      {
       "output_type": "stream",
       "stream": "stderr",
       "text": [
        "DEBUG:FFC:Reusing form from cache.\n"
       ]
      },
      {
       "output_type": "stream",
       "stream": "stderr",
       "text": [
        "DEBUG:UFL:No integrals left after transformation, returning empty form.\n"
       ]
      },
      {
       "output_type": "stream",
       "stream": "stderr",
       "text": [
        "DEBUG:FFC:Reusing form from cache.\n"
       ]
      },
      {
       "output_type": "stream",
       "stream": "stdout",
       "text": [
        "\n",
        "1\n",
        "1\n",
        "[ 0.  0.  0.  0.  0.  0.  0.  0.  0.  0.  0.  0.  0.  0.  0.  0.  0.  0.\n",
        "  0.  0.  0.  0.  0.  0.  0.  0.  0.  0.  0.  0.  0.  0.  0.  0.  0.  0.\n",
        "  0.  0.  0.  0.  0.  0.  0.  0.  0.  0.  0.  0.  0.  0.  0.  0.  0.  0.\n",
        "  0.  0.  0.  0.  0.  0.  0.  0.  0.  0.  0.  0.  0.  0.  0.  0.  0.  0.\n",
        "  0.  0.  0.  0.  0.  0.  0.  0.  0.  0.  0.  0.  0.  0.  0.  0.  0.  0.\n",
        "  0.  0.  0.  0.  0.  0.  0.  0.  0.  0.  0.  0.  0.  0.  0.  0.  0.  0.\n",
        "  0.  0.  0.  0.  0.  0.  0.  0.  0.  0.  0.  0.  0.  0.  0.  0.  0.  0.\n",
        "  0.  0.  0.  0.  0.  0.]\n",
        "1"
       ]
      },
      {
       "output_type": "stream",
       "stream": "stderr",
       "text": [
        "DEBUG:UFL:No integrals left after transformation, returning empty form.\n"
       ]
      },
      {
       "output_type": "stream",
       "stream": "stderr",
       "text": [
        "DEBUG:UFL:No integrals left after transformation, returning empty form.\n"
       ]
      },
      {
       "output_type": "stream",
       "stream": "stderr",
       "text": [
        "DEBUG:FFC:Reusing form from cache.\n"
       ]
      },
      {
       "output_type": "stream",
       "stream": "stderr",
       "text": [
        "INFO:FFC:Adjusting missing element domain to Domain(Cell('triangle', 2), 'triangle_multiverse', 2, 2).\n"
       ]
      },
      {
       "output_type": "stream",
       "stream": "stderr",
       "text": [
        "INFO:FFC:Adjusting element degree from ? to 2\n"
       ]
      },
      {
       "output_type": "stream",
       "stream": "stderr",
       "text": [
        "INFO:FFC:Adjusting missing element domain to Domain(Cell('triangle', 2), 'triangle_multiverse', 2, 2).\n"
       ]
      },
      {
       "output_type": "stream",
       "stream": "stderr",
       "text": [
        "INFO:FFC:Adjusting element degree from ? to 2\n"
       ]
      },
      {
       "output_type": "stream",
       "stream": "stderr",
       "text": [
        "INFO:FFC:Adjusting missing element domain to Domain(Cell('triangle', 2), 'triangle_multiverse', 2, 2).\n"
       ]
      },
      {
       "output_type": "stream",
       "stream": "stderr",
       "text": [
        "INFO:FFC:Adjusting element degree from ? to 2\n"
       ]
      },
      {
       "output_type": "stream",
       "stream": "stderr",
       "text": [
        "INFO:FFC:Adjusting missing element domain to Domain(Cell('triangle', 2), 'triangle_multiverse', 2, 2).\n"
       ]
      },
      {
       "output_type": "stream",
       "stream": "stderr",
       "text": [
        "INFO:FFC:Adjusting element degree from ? to 2\n"
       ]
      },
      {
       "output_type": "stream",
       "stream": "stderr",
       "text": [
        "INFO:FFC:Adjusting missing element domain to Domain(Cell('triangle', 2), 'triangle_multiverse', 2, 2).\n"
       ]
      },
      {
       "output_type": "stream",
       "stream": "stderr",
       "text": [
        "INFO:FFC:Adjusting element degree from ? to 2\n"
       ]
      },
      {
       "output_type": "stream",
       "stream": "stderr",
       "text": [
        "INFO:FFC:Adjusting missing element domain to Domain(Cell('triangle', 2), 'triangle_multiverse', 2, 2).\n"
       ]
      },
      {
       "output_type": "stream",
       "stream": "stderr",
       "text": [
        "INFO:FFC:Adjusting element degree from ? to 2\n"
       ]
      },
      {
       "output_type": "stream",
       "stream": "stderr",
       "text": [
        "INFO:FFC:Adjusting missing element domain to Domain(Cell('triangle', 2), 'triangle_multiverse', 2, 2).\n"
       ]
      },
      {
       "output_type": "stream",
       "stream": "stderr",
       "text": [
        "INFO:FFC:Adjusting element degree from ? to 2\n"
       ]
      },
      {
       "output_type": "stream",
       "stream": "stderr",
       "text": [
        "INFO:FFC:Adjusting missing element domain to Domain(Cell('triangle', 2), 'triangle_multiverse', 2, 2).\n"
       ]
      },
      {
       "output_type": "stream",
       "stream": "stderr",
       "text": [
        "INFO:FFC:Adjusting element degree from ? to 2\n"
       ]
      },
      {
       "output_type": "stream",
       "stream": "stderr",
       "text": [
        "INFO:FFC:Adjusting missing element domain to Domain(Cell('triangle', 2), 'triangle_multiverse', 2, 2).\n"
       ]
      },
      {
       "output_type": "stream",
       "stream": "stderr",
       "text": [
        "INFO:FFC:Adjusting element degree from ? to 2\n"
       ]
      },
      {
       "output_type": "stream",
       "stream": "stderr",
       "text": [
        "INFO:FFC:Adjusting missing element domain to Domain(Cell('triangle', 2), 'triangle_multiverse', 2, 2).\n"
       ]
      },
      {
       "output_type": "stream",
       "stream": "stderr",
       "text": [
        "INFO:FFC:Adjusting element degree from ? to 2\n"
       ]
      },
      {
       "output_type": "stream",
       "stream": "stderr",
       "text": [
        "INFO:FFC:Adjusting missing element domain to Domain(Cell('triangle', 2), 'triangle_multiverse', 2, 2).\n"
       ]
      },
      {
       "output_type": "stream",
       "stream": "stderr",
       "text": [
        "INFO:FFC:Adjusting element degree from ? to 2\n"
       ]
      },
      {
       "output_type": "stream",
       "stream": "stderr",
       "text": [
        "INFO:FFC:Adjusting missing element domain to Domain(Cell('triangle', 2), 'triangle_multiverse', 2, 2).\n"
       ]
      },
      {
       "output_type": "stream",
       "stream": "stderr",
       "text": [
        "INFO:FFC:Adjusting element degree from ? to 2\n"
       ]
      },
      {
       "output_type": "stream",
       "stream": "stderr",
       "text": [
        "INFO:FFC:Adjusting missing element domain to Domain(Cell('triangle', 2), 'triangle_multiverse', 2, 2).\n"
       ]
      },
      {
       "output_type": "stream",
       "stream": "stderr",
       "text": [
        "INFO:FFC:Adjusting element degree from ? to 2\n"
       ]
      },
      {
       "output_type": "stream",
       "stream": "stderr",
       "text": [
        "INFO:FFC:Adjusting missing element domain to Domain(Cell('triangle', 2), 'triangle_multiverse', 2, 2).\n"
       ]
      },
      {
       "output_type": "stream",
       "stream": "stderr",
       "text": [
        "INFO:FFC:Adjusting element degree from ? to 2\n"
       ]
      },
      {
       "output_type": "stream",
       "stream": "stderr",
       "text": [
        "INFO:FFC:Adjusting missing element domain to Domain(Cell('triangle', 2), 'triangle_multiverse', 2, 2).\n"
       ]
      },
      {
       "output_type": "stream",
       "stream": "stderr",
       "text": [
        "INFO:FFC:Adjusting element degree from ? to 2\n"
       ]
      },
      {
       "output_type": "stream",
       "stream": "stderr",
       "text": [
        "INFO:FFC:Adjusting missing element domain to Domain(Cell('triangle', 2), 'triangle_multiverse', 2, 2).\n"
       ]
      },
      {
       "output_type": "stream",
       "stream": "stderr",
       "text": [
        "INFO:FFC:Adjusting element degree from ? to 2\n"
       ]
      },
      {
       "output_type": "stream",
       "stream": "stderr",
       "text": [
        "INFO:FFC:Adjusting missing element domain to Domain(Cell('triangle', 2), 'triangle_multiverse', 2, 2).\n"
       ]
      },
      {
       "output_type": "stream",
       "stream": "stderr",
       "text": [
        "INFO:FFC:Adjusting element degree from ? to 2\n"
       ]
      },
      {
       "output_type": "stream",
       "stream": "stderr",
       "text": [
        "INFO:FFC:Adjusting missing element domain to Domain(Cell('triangle', 2), 'triangle_multiverse', 2, 2).\n"
       ]
      },
      {
       "output_type": "stream",
       "stream": "stderr",
       "text": [
        "INFO:FFC:Adjusting element degree from ? to 2\n"
       ]
      },
      {
       "output_type": "stream",
       "stream": "stderr",
       "text": [
        "INFO:FFC:Adjusting missing element domain to Domain(Cell('triangle', 2), 'triangle_multiverse', 2, 2).\n"
       ]
      },
      {
       "output_type": "stream",
       "stream": "stderr",
       "text": [
        "INFO:FFC:Adjusting element degree from ? to 2\n"
       ]
      },
      {
       "output_type": "stream",
       "stream": "stderr",
       "text": [
        "INFO:FFC:Adjusting missing element domain to Domain(Cell('triangle', 2), 'triangle_multiverse', 2, 2).\n"
       ]
      },
      {
       "output_type": "stream",
       "stream": "stderr",
       "text": [
        "INFO:FFC:Adjusting element degree from ? to 2\n"
       ]
      },
      {
       "output_type": "stream",
       "stream": "stderr",
       "text": [
        "INFO:FFC:Adjusting missing element domain to Domain(Cell('triangle', 2), 'triangle_multiverse', 2, 2).\n"
       ]
      },
      {
       "output_type": "stream",
       "stream": "stderr",
       "text": [
        "INFO:FFC:Adjusting element degree from ? to 2\n"
       ]
      },
      {
       "output_type": "stream",
       "stream": "stderr",
       "text": [
        "DEBUG:UFL:No integrals left after transformation, returning empty form.\n"
       ]
      },
      {
       "output_type": "stream",
       "stream": "stderr",
       "text": [
        "DEBUG:FFC:Reusing form from cache.\n"
       ]
      },
      {
       "output_type": "stream",
       "stream": "stderr",
       "text": [
        "DEBUG:FFC:Reusing form from cache.\n"
       ]
      },
      {
       "output_type": "stream",
       "stream": "stderr",
       "text": [
        "DEBUG:UFL:No integrals left after transformation, returning empty form.\n"
       ]
      },
      {
       "output_type": "stream",
       "stream": "stderr",
       "text": [
        "DEBUG:FFC:Reusing form from cache.\n"
       ]
      },
      {
       "output_type": "stream",
       "stream": "stderr",
       "text": [
        "DEBUG:UFL:No integrals left after transformation, returning empty form.\n"
       ]
      },
      {
       "output_type": "stream",
       "stream": "stderr",
       "text": [
        "DEBUG:FFC:Reusing form from cache.\n"
       ]
      },
      {
       "output_type": "stream",
       "stream": "stdout",
       "text": [
        "\n",
        "1\n",
        "1\n",
        "[ 0.  0.  0.  0.  0.  0.  0.  0.  0.  0.  0.  0.  0.  0.  0.  0.  0.  0.\n",
        "  0.  0.  0.  0.  0.  0.  0.  0.  0.  0.  0.  0.  0.  0.  0.  0.  0.  0.\n",
        "  0.  0.  0.  0.  0.  0.  0.  0.  0.  0.  0.  0.  0.  0.  0.  0.  0.  0.\n",
        "  0.  0.  0.  0.  0.  0.  0.  0.  0.  0.  0.  0.  0.  0.  0.  0.  0.  0.\n",
        "  0.  0.  0.  0.  0.  0.  0.  0.  0.  0.  0.  0.  0.  0.  0.  0.  0.  0.\n",
        "  0.  0.  0.  0.  0.  0.  0.  0.  0.  0.  0.  0.  0.  0.  0.  0.  0.  0.\n",
        "  0.  0.  0.  0.  0.  0.  0.  0.  0.  0.  0.  0.  0.  0.  0.  0.  0.  0.\n",
        "  0.  0.  0.  0.  0.  0.]\n",
        "1"
       ]
      },
      {
       "output_type": "stream",
       "stream": "stderr",
       "text": [
        "DEBUG:UFL:No integrals left after transformation, returning empty form.\n"
       ]
      },
      {
       "output_type": "stream",
       "stream": "stderr",
       "text": [
        "DEBUG:UFL:No integrals left after transformation, returning empty form.\n"
       ]
      },
      {
       "output_type": "stream",
       "stream": "stderr",
       "text": [
        "DEBUG:FFC:Reusing form from cache.\n"
       ]
      },
      {
       "output_type": "stream",
       "stream": "stderr",
       "text": [
        "INFO:FFC:Adjusting missing element domain to Domain(Cell('triangle', 2), 'triangle_multiverse', 2, 2).\n"
       ]
      },
      {
       "output_type": "stream",
       "stream": "stderr",
       "text": [
        "INFO:FFC:Adjusting element degree from ? to 2\n"
       ]
      },
      {
       "output_type": "stream",
       "stream": "stderr",
       "text": [
        "INFO:FFC:Adjusting missing element domain to Domain(Cell('triangle', 2), 'triangle_multiverse', 2, 2).\n"
       ]
      },
      {
       "output_type": "stream",
       "stream": "stderr",
       "text": [
        "INFO:FFC:Adjusting element degree from ? to 2\n"
       ]
      },
      {
       "output_type": "stream",
       "stream": "stderr",
       "text": [
        "INFO:FFC:Adjusting missing element domain to Domain(Cell('triangle', 2), 'triangle_multiverse', 2, 2).\n"
       ]
      },
      {
       "output_type": "stream",
       "stream": "stderr",
       "text": [
        "INFO:FFC:Adjusting element degree from ? to 2\n"
       ]
      },
      {
       "output_type": "stream",
       "stream": "stderr",
       "text": [
        "INFO:FFC:Adjusting missing element domain to Domain(Cell('triangle', 2), 'triangle_multiverse', 2, 2).\n"
       ]
      },
      {
       "output_type": "stream",
       "stream": "stderr",
       "text": [
        "INFO:FFC:Adjusting element degree from ? to 2\n"
       ]
      },
      {
       "output_type": "stream",
       "stream": "stderr",
       "text": [
        "INFO:FFC:Adjusting missing element domain to Domain(Cell('triangle', 2), 'triangle_multiverse', 2, 2).\n"
       ]
      },
      {
       "output_type": "stream",
       "stream": "stderr",
       "text": [
        "INFO:FFC:Adjusting element degree from ? to 2\n"
       ]
      },
      {
       "output_type": "stream",
       "stream": "stderr",
       "text": [
        "INFO:FFC:Adjusting missing element domain to Domain(Cell('triangle', 2), 'triangle_multiverse', 2, 2).\n"
       ]
      },
      {
       "output_type": "stream",
       "stream": "stderr",
       "text": [
        "INFO:FFC:Adjusting element degree from ? to 2\n"
       ]
      },
      {
       "output_type": "stream",
       "stream": "stderr",
       "text": [
        "INFO:FFC:Adjusting missing element domain to Domain(Cell('triangle', 2), 'triangle_multiverse', 2, 2).\n"
       ]
      },
      {
       "output_type": "stream",
       "stream": "stderr",
       "text": [
        "INFO:FFC:Adjusting element degree from ? to 2\n"
       ]
      },
      {
       "output_type": "stream",
       "stream": "stderr",
       "text": [
        "INFO:FFC:Adjusting missing element domain to Domain(Cell('triangle', 2), 'triangle_multiverse', 2, 2).\n"
       ]
      },
      {
       "output_type": "stream",
       "stream": "stderr",
       "text": [
        "INFO:FFC:Adjusting element degree from ? to 2\n"
       ]
      },
      {
       "output_type": "stream",
       "stream": "stderr",
       "text": [
        "INFO:FFC:Adjusting missing element domain to Domain(Cell('triangle', 2), 'triangle_multiverse', 2, 2).\n"
       ]
      },
      {
       "output_type": "stream",
       "stream": "stderr",
       "text": [
        "INFO:FFC:Adjusting element degree from ? to 2\n"
       ]
      },
      {
       "output_type": "stream",
       "stream": "stderr",
       "text": [
        "INFO:FFC:Adjusting missing element domain to Domain(Cell('triangle', 2), 'triangle_multiverse', 2, 2).\n"
       ]
      },
      {
       "output_type": "stream",
       "stream": "stderr",
       "text": [
        "INFO:FFC:Adjusting element degree from ? to 2\n"
       ]
      },
      {
       "output_type": "stream",
       "stream": "stderr",
       "text": [
        "INFO:FFC:Adjusting missing element domain to Domain(Cell('triangle', 2), 'triangle_multiverse', 2, 2).\n"
       ]
      },
      {
       "output_type": "stream",
       "stream": "stderr",
       "text": [
        "INFO:FFC:Adjusting element degree from ? to 2\n"
       ]
      },
      {
       "output_type": "stream",
       "stream": "stderr",
       "text": [
        "INFO:FFC:Adjusting missing element domain to Domain(Cell('triangle', 2), 'triangle_multiverse', 2, 2).\n"
       ]
      },
      {
       "output_type": "stream",
       "stream": "stderr",
       "text": [
        "INFO:FFC:Adjusting element degree from ? to 2\n"
       ]
      },
      {
       "output_type": "stream",
       "stream": "stderr",
       "text": [
        "INFO:FFC:Adjusting missing element domain to Domain(Cell('triangle', 2), 'triangle_multiverse', 2, 2).\n"
       ]
      },
      {
       "output_type": "stream",
       "stream": "stderr",
       "text": [
        "INFO:FFC:Adjusting element degree from ? to 2\n"
       ]
      },
      {
       "output_type": "stream",
       "stream": "stderr",
       "text": [
        "INFO:FFC:Adjusting missing element domain to Domain(Cell('triangle', 2), 'triangle_multiverse', 2, 2).\n"
       ]
      },
      {
       "output_type": "stream",
       "stream": "stderr",
       "text": [
        "INFO:FFC:Adjusting element degree from ? to 2\n"
       ]
      },
      {
       "output_type": "stream",
       "stream": "stderr",
       "text": [
        "INFO:FFC:Adjusting missing element domain to Domain(Cell('triangle', 2), 'triangle_multiverse', 2, 2).\n"
       ]
      },
      {
       "output_type": "stream",
       "stream": "stderr",
       "text": [
        "INFO:FFC:Adjusting element degree from ? to 2\n"
       ]
      },
      {
       "output_type": "stream",
       "stream": "stderr",
       "text": [
        "INFO:FFC:Adjusting missing element domain to Domain(Cell('triangle', 2), 'triangle_multiverse', 2, 2).\n"
       ]
      },
      {
       "output_type": "stream",
       "stream": "stderr",
       "text": [
        "INFO:FFC:Adjusting element degree from ? to 2\n"
       ]
      },
      {
       "output_type": "stream",
       "stream": "stderr",
       "text": [
        "INFO:FFC:Adjusting missing element domain to Domain(Cell('triangle', 2), 'triangle_multiverse', 2, 2).\n"
       ]
      },
      {
       "output_type": "stream",
       "stream": "stderr",
       "text": [
        "INFO:FFC:Adjusting element degree from ? to 2\n"
       ]
      },
      {
       "output_type": "stream",
       "stream": "stderr",
       "text": [
        "INFO:FFC:Adjusting missing element domain to Domain(Cell('triangle', 2), 'triangle_multiverse', 2, 2).\n"
       ]
      },
      {
       "output_type": "stream",
       "stream": "stderr",
       "text": [
        "INFO:FFC:Adjusting element degree from ? to 2\n"
       ]
      },
      {
       "output_type": "stream",
       "stream": "stderr",
       "text": [
        "INFO:FFC:Adjusting missing element domain to Domain(Cell('triangle', 2), 'triangle_multiverse', 2, 2).\n"
       ]
      },
      {
       "output_type": "stream",
       "stream": "stderr",
       "text": [
        "INFO:FFC:Adjusting element degree from ? to 2\n"
       ]
      },
      {
       "output_type": "stream",
       "stream": "stderr",
       "text": [
        "INFO:FFC:Adjusting missing element domain to Domain(Cell('triangle', 2), 'triangle_multiverse', 2, 2).\n"
       ]
      },
      {
       "output_type": "stream",
       "stream": "stderr",
       "text": [
        "INFO:FFC:Adjusting element degree from ? to 2\n"
       ]
      },
      {
       "output_type": "stream",
       "stream": "stderr",
       "text": [
        "INFO:FFC:Adjusting missing element domain to Domain(Cell('triangle', 2), 'triangle_multiverse', 2, 2).\n"
       ]
      },
      {
       "output_type": "stream",
       "stream": "stderr",
       "text": [
        "INFO:FFC:Adjusting element degree from ? to 2\n"
       ]
      },
      {
       "output_type": "stream",
       "stream": "stderr",
       "text": [
        "DEBUG:UFL:No integrals left after transformation, returning empty form.\n"
       ]
      },
      {
       "output_type": "stream",
       "stream": "stderr",
       "text": [
        "DEBUG:FFC:Reusing form from cache.\n"
       ]
      },
      {
       "output_type": "stream",
       "stream": "stderr",
       "text": [
        "DEBUG:FFC:Reusing form from cache.\n"
       ]
      },
      {
       "output_type": "stream",
       "stream": "stderr",
       "text": [
        "DEBUG:UFL:No integrals left after transformation, returning empty form.\n"
       ]
      },
      {
       "output_type": "stream",
       "stream": "stderr",
       "text": [
        "DEBUG:FFC:Reusing form from cache.\n"
       ]
      },
      {
       "output_type": "stream",
       "stream": "stderr",
       "text": [
        "DEBUG:UFL:No integrals left after transformation, returning empty form.\n"
       ]
      },
      {
       "output_type": "stream",
       "stream": "stderr",
       "text": [
        "DEBUG:FFC:Reusing form from cache.\n"
       ]
      },
      {
       "output_type": "stream",
       "stream": "stdout",
       "text": [
        "\n",
        "1\n",
        "1\n",
        "[ 0.  0.  0.  0.  0.  0.  0.  0.  0.  0.  0.  0.  0.  0.  0.  0.  0.  0.\n",
        "  0.  0.  0.  0.  0.  0.  0.  0.  0.  0.  0.  0.  0.  0.  0.  0.  0.  0.\n",
        "  0.  0.  0.  0.  0.  0.  0.  0.  0.  0.  0.  0.  0.  0.  0.  0.  0.  0.\n",
        "  0.  0.  0.  0.  0.  0.  0.  0.  0.  0.  0.  0.  0.  0.  0.  0.  0.  0.\n",
        "  0.  0.  0.  0.  0.  0.  0.  0.  0.  0.  0.  0.  0.  0.  0.  0.  0.  0.\n",
        "  0.  0.  0.  0.  0.  0.  0.  0.  0.  0.  0.  0.  0.  0.  0.  0.  0.  0.\n",
        "  0.  0.  0.  0.  0.  0.  0.  0.  0.  0.  0.  0.  0.  0.  0.  0.  0.  0.\n",
        "  0.  0.  0.  0.  0.  0.]\n",
        "1"
       ]
      },
      {
       "output_type": "stream",
       "stream": "stderr",
       "text": [
        "DEBUG:UFL:No integrals left after transformation, returning empty form.\n"
       ]
      },
      {
       "output_type": "stream",
       "stream": "stderr",
       "text": [
        "DEBUG:UFL:No integrals left after transformation, returning empty form.\n"
       ]
      },
      {
       "output_type": "stream",
       "stream": "stderr",
       "text": [
        "DEBUG:FFC:Reusing form from cache.\n"
       ]
      },
      {
       "output_type": "stream",
       "stream": "stderr",
       "text": [
        "INFO:FFC:Adjusting missing element domain to Domain(Cell('triangle', 2), 'triangle_multiverse', 2, 2).\n"
       ]
      },
      {
       "output_type": "stream",
       "stream": "stderr",
       "text": [
        "INFO:FFC:Adjusting element degree from ? to 2\n"
       ]
      },
      {
       "output_type": "stream",
       "stream": "stderr",
       "text": [
        "INFO:FFC:Adjusting missing element domain to Domain(Cell('triangle', 2), 'triangle_multiverse', 2, 2).\n"
       ]
      },
      {
       "output_type": "stream",
       "stream": "stderr",
       "text": [
        "INFO:FFC:Adjusting element degree from ? to 2\n"
       ]
      },
      {
       "output_type": "stream",
       "stream": "stderr",
       "text": [
        "INFO:FFC:Adjusting missing element domain to Domain(Cell('triangle', 2), 'triangle_multiverse', 2, 2).\n"
       ]
      },
      {
       "output_type": "stream",
       "stream": "stderr",
       "text": [
        "INFO:FFC:Adjusting element degree from ? to 2\n"
       ]
      },
      {
       "output_type": "stream",
       "stream": "stderr",
       "text": [
        "INFO:FFC:Adjusting missing element domain to Domain(Cell('triangle', 2), 'triangle_multiverse', 2, 2).\n"
       ]
      },
      {
       "output_type": "stream",
       "stream": "stderr",
       "text": [
        "INFO:FFC:Adjusting element degree from ? to 2\n"
       ]
      },
      {
       "output_type": "stream",
       "stream": "stderr",
       "text": [
        "INFO:FFC:Adjusting missing element domain to Domain(Cell('triangle', 2), 'triangle_multiverse', 2, 2).\n"
       ]
      },
      {
       "output_type": "stream",
       "stream": "stderr",
       "text": [
        "INFO:FFC:Adjusting element degree from ? to 2\n"
       ]
      },
      {
       "output_type": "stream",
       "stream": "stderr",
       "text": [
        "INFO:FFC:Adjusting missing element domain to Domain(Cell('triangle', 2), 'triangle_multiverse', 2, 2).\n"
       ]
      },
      {
       "output_type": "stream",
       "stream": "stderr",
       "text": [
        "INFO:FFC:Adjusting element degree from ? to 2\n"
       ]
      },
      {
       "output_type": "stream",
       "stream": "stderr",
       "text": [
        "INFO:FFC:Adjusting missing element domain to Domain(Cell('triangle', 2), 'triangle_multiverse', 2, 2).\n"
       ]
      },
      {
       "output_type": "stream",
       "stream": "stderr",
       "text": [
        "INFO:FFC:Adjusting element degree from ? to 2\n"
       ]
      },
      {
       "output_type": "stream",
       "stream": "stderr",
       "text": [
        "INFO:FFC:Adjusting missing element domain to Domain(Cell('triangle', 2), 'triangle_multiverse', 2, 2).\n"
       ]
      },
      {
       "output_type": "stream",
       "stream": "stderr",
       "text": [
        "INFO:FFC:Adjusting element degree from ? to 2\n"
       ]
      },
      {
       "output_type": "stream",
       "stream": "stderr",
       "text": [
        "INFO:FFC:Adjusting missing element domain to Domain(Cell('triangle', 2), 'triangle_multiverse', 2, 2).\n"
       ]
      },
      {
       "output_type": "stream",
       "stream": "stderr",
       "text": [
        "INFO:FFC:Adjusting element degree from ? to 2\n"
       ]
      },
      {
       "output_type": "stream",
       "stream": "stderr",
       "text": [
        "INFO:FFC:Adjusting missing element domain to Domain(Cell('triangle', 2), 'triangle_multiverse', 2, 2).\n"
       ]
      },
      {
       "output_type": "stream",
       "stream": "stderr",
       "text": [
        "INFO:FFC:Adjusting element degree from ? to 2\n"
       ]
      },
      {
       "output_type": "stream",
       "stream": "stderr",
       "text": [
        "INFO:FFC:Adjusting missing element domain to Domain(Cell('triangle', 2), 'triangle_multiverse', 2, 2).\n"
       ]
      },
      {
       "output_type": "stream",
       "stream": "stderr",
       "text": [
        "INFO:FFC:Adjusting element degree from ? to 2\n"
       ]
      },
      {
       "output_type": "stream",
       "stream": "stderr",
       "text": [
        "INFO:FFC:Adjusting missing element domain to Domain(Cell('triangle', 2), 'triangle_multiverse', 2, 2).\n"
       ]
      },
      {
       "output_type": "stream",
       "stream": "stderr",
       "text": [
        "INFO:FFC:Adjusting element degree from ? to 2\n"
       ]
      },
      {
       "output_type": "stream",
       "stream": "stderr",
       "text": [
        "INFO:FFC:Adjusting missing element domain to Domain(Cell('triangle', 2), 'triangle_multiverse', 2, 2).\n"
       ]
      },
      {
       "output_type": "stream",
       "stream": "stderr",
       "text": [
        "INFO:FFC:Adjusting element degree from ? to 2\n"
       ]
      },
      {
       "output_type": "stream",
       "stream": "stderr",
       "text": [
        "INFO:FFC:Adjusting missing element domain to Domain(Cell('triangle', 2), 'triangle_multiverse', 2, 2).\n"
       ]
      },
      {
       "output_type": "stream",
       "stream": "stderr",
       "text": [
        "INFO:FFC:Adjusting element degree from ? to 2\n"
       ]
      },
      {
       "output_type": "stream",
       "stream": "stderr",
       "text": [
        "INFO:FFC:Adjusting missing element domain to Domain(Cell('triangle', 2), 'triangle_multiverse', 2, 2).\n"
       ]
      },
      {
       "output_type": "stream",
       "stream": "stderr",
       "text": [
        "INFO:FFC:Adjusting element degree from ? to 2\n"
       ]
      },
      {
       "output_type": "stream",
       "stream": "stderr",
       "text": [
        "INFO:FFC:Adjusting missing element domain to Domain(Cell('triangle', 2), 'triangle_multiverse', 2, 2).\n"
       ]
      },
      {
       "output_type": "stream",
       "stream": "stderr",
       "text": [
        "INFO:FFC:Adjusting element degree from ? to 2\n"
       ]
      },
      {
       "output_type": "stream",
       "stream": "stderr",
       "text": [
        "INFO:FFC:Adjusting missing element domain to Domain(Cell('triangle', 2), 'triangle_multiverse', 2, 2).\n"
       ]
      },
      {
       "output_type": "stream",
       "stream": "stderr",
       "text": [
        "INFO:FFC:Adjusting element degree from ? to 2\n"
       ]
      },
      {
       "output_type": "stream",
       "stream": "stderr",
       "text": [
        "INFO:FFC:Adjusting missing element domain to Domain(Cell('triangle', 2), 'triangle_multiverse', 2, 2).\n"
       ]
      },
      {
       "output_type": "stream",
       "stream": "stderr",
       "text": [
        "INFO:FFC:Adjusting element degree from ? to 2\n"
       ]
      },
      {
       "output_type": "stream",
       "stream": "stderr",
       "text": [
        "INFO:FFC:Adjusting missing element domain to Domain(Cell('triangle', 2), 'triangle_multiverse', 2, 2).\n"
       ]
      },
      {
       "output_type": "stream",
       "stream": "stderr",
       "text": [
        "INFO:FFC:Adjusting element degree from ? to 2\n"
       ]
      },
      {
       "output_type": "stream",
       "stream": "stderr",
       "text": [
        "INFO:FFC:Adjusting missing element domain to Domain(Cell('triangle', 2), 'triangle_multiverse', 2, 2).\n"
       ]
      },
      {
       "output_type": "stream",
       "stream": "stderr",
       "text": [
        "INFO:FFC:Adjusting element degree from ? to 2\n"
       ]
      },
      {
       "output_type": "stream",
       "stream": "stderr",
       "text": [
        "INFO:FFC:Adjusting missing element domain to Domain(Cell('triangle', 2), 'triangle_multiverse', 2, 2).\n"
       ]
      },
      {
       "output_type": "stream",
       "stream": "stderr",
       "text": [
        "INFO:FFC:Adjusting element degree from ? to 2\n"
       ]
      },
      {
       "output_type": "stream",
       "stream": "stderr",
       "text": [
        "DEBUG:UFL:No integrals left after transformation, returning empty form.\n"
       ]
      },
      {
       "output_type": "stream",
       "stream": "stderr",
       "text": [
        "DEBUG:FFC:Reusing form from cache.\n"
       ]
      },
      {
       "output_type": "stream",
       "stream": "stderr",
       "text": [
        "DEBUG:FFC:Reusing form from cache.\n"
       ]
      },
      {
       "output_type": "stream",
       "stream": "stderr",
       "text": [
        "DEBUG:UFL:No integrals left after transformation, returning empty form.\n"
       ]
      },
      {
       "output_type": "stream",
       "stream": "stderr",
       "text": [
        "DEBUG:FFC:Reusing form from cache.\n"
       ]
      },
      {
       "output_type": "stream",
       "stream": "stderr",
       "text": [
        "DEBUG:UFL:No integrals left after transformation, returning empty form.\n"
       ]
      },
      {
       "output_type": "stream",
       "stream": "stderr",
       "text": [
        "DEBUG:FFC:Reusing form from cache.\n"
       ]
      },
      {
       "output_type": "stream",
       "stream": "stdout",
       "text": [
        "\n",
        "1\n",
        "1\n",
        "[ 0.  0.  0.  0.  0.  0.  0.  0.  0.  0.  0.  0.  0.  0.  0.  0.  0.  0.\n",
        "  0.  0.  0.  0.  0.  0.  0.  0.  0.  0.  0.  0.  0.  0.  0.  0.  0.  0.\n",
        "  0.  0.  0.  0.  0.  0.  0.  0.  0.  0.  0.  0.  0.  0.  0.  0.  0.  0.\n",
        "  0.  0.  0.  0.  0.  0.  0.  0.  0.  0.  0.  0.  0.  0.  0.  0.  0.  0.\n",
        "  0.  0.  0.  0.  0.  0.  0.  0.  0.  0.  0.  0.  0.  0.  0.  0.  0.  0.\n",
        "  0.  0.  0.  0.  0.  0.  0.  0.  0.  0.  0.  0.  0.  0.  0.  0.  0.  0.\n",
        "  0.  0.  0.  0.  0.  0.  0.  0.  0.  0.  0.  0.  0.  0.  0.  0.  0.  0.\n",
        "  0.  0.  0.  0.  0.  0.]\n",
        "1"
       ]
      },
      {
       "output_type": "stream",
       "stream": "stderr",
       "text": [
        "DEBUG:UFL:No integrals left after transformation, returning empty form.\n"
       ]
      },
      {
       "output_type": "stream",
       "stream": "stderr",
       "text": [
        "DEBUG:UFL:No integrals left after transformation, returning empty form.\n"
       ]
      },
      {
       "output_type": "stream",
       "stream": "stderr",
       "text": [
        "DEBUG:FFC:Reusing form from cache.\n"
       ]
      },
      {
       "output_type": "stream",
       "stream": "stderr",
       "text": [
        "INFO:FFC:Adjusting missing element domain to Domain(Cell('triangle', 2), 'triangle_multiverse', 2, 2).\n"
       ]
      },
      {
       "output_type": "stream",
       "stream": "stderr",
       "text": [
        "INFO:FFC:Adjusting element degree from ? to 2\n"
       ]
      },
      {
       "output_type": "stream",
       "stream": "stderr",
       "text": [
        "INFO:FFC:Adjusting missing element domain to Domain(Cell('triangle', 2), 'triangle_multiverse', 2, 2).\n"
       ]
      },
      {
       "output_type": "stream",
       "stream": "stderr",
       "text": [
        "INFO:FFC:Adjusting element degree from ? to 2\n"
       ]
      },
      {
       "output_type": "stream",
       "stream": "stderr",
       "text": [
        "INFO:FFC:Adjusting missing element domain to Domain(Cell('triangle', 2), 'triangle_multiverse', 2, 2).\n"
       ]
      },
      {
       "output_type": "stream",
       "stream": "stderr",
       "text": [
        "INFO:FFC:Adjusting element degree from ? to 2\n"
       ]
      },
      {
       "output_type": "stream",
       "stream": "stderr",
       "text": [
        "INFO:FFC:Adjusting missing element domain to Domain(Cell('triangle', 2), 'triangle_multiverse', 2, 2).\n"
       ]
      },
      {
       "output_type": "stream",
       "stream": "stderr",
       "text": [
        "INFO:FFC:Adjusting element degree from ? to 2\n"
       ]
      },
      {
       "output_type": "stream",
       "stream": "stderr",
       "text": [
        "INFO:FFC:Adjusting missing element domain to Domain(Cell('triangle', 2), 'triangle_multiverse', 2, 2).\n"
       ]
      },
      {
       "output_type": "stream",
       "stream": "stderr",
       "text": [
        "INFO:FFC:Adjusting element degree from ? to 2\n"
       ]
      },
      {
       "output_type": "stream",
       "stream": "stderr",
       "text": [
        "INFO:FFC:Adjusting missing element domain to Domain(Cell('triangle', 2), 'triangle_multiverse', 2, 2).\n"
       ]
      },
      {
       "output_type": "stream",
       "stream": "stderr",
       "text": [
        "INFO:FFC:Adjusting element degree from ? to 2\n"
       ]
      },
      {
       "output_type": "stream",
       "stream": "stderr",
       "text": [
        "INFO:FFC:Adjusting missing element domain to Domain(Cell('triangle', 2), 'triangle_multiverse', 2, 2).\n"
       ]
      },
      {
       "output_type": "stream",
       "stream": "stderr",
       "text": [
        "INFO:FFC:Adjusting element degree from ? to 2\n"
       ]
      },
      {
       "output_type": "stream",
       "stream": "stderr",
       "text": [
        "INFO:FFC:Adjusting missing element domain to Domain(Cell('triangle', 2), 'triangle_multiverse', 2, 2).\n"
       ]
      },
      {
       "output_type": "stream",
       "stream": "stderr",
       "text": [
        "INFO:FFC:Adjusting element degree from ? to 2\n"
       ]
      },
      {
       "output_type": "stream",
       "stream": "stderr",
       "text": [
        "INFO:FFC:Adjusting missing element domain to Domain(Cell('triangle', 2), 'triangle_multiverse', 2, 2).\n"
       ]
      },
      {
       "output_type": "stream",
       "stream": "stderr",
       "text": [
        "INFO:FFC:Adjusting element degree from ? to 2\n"
       ]
      },
      {
       "output_type": "stream",
       "stream": "stderr",
       "text": [
        "INFO:FFC:Adjusting missing element domain to Domain(Cell('triangle', 2), 'triangle_multiverse', 2, 2).\n"
       ]
      },
      {
       "output_type": "stream",
       "stream": "stderr",
       "text": [
        "INFO:FFC:Adjusting element degree from ? to 2\n"
       ]
      },
      {
       "output_type": "stream",
       "stream": "stderr",
       "text": [
        "INFO:FFC:Adjusting missing element domain to Domain(Cell('triangle', 2), 'triangle_multiverse', 2, 2).\n"
       ]
      },
      {
       "output_type": "stream",
       "stream": "stderr",
       "text": [
        "INFO:FFC:Adjusting element degree from ? to 2\n"
       ]
      },
      {
       "output_type": "stream",
       "stream": "stderr",
       "text": [
        "INFO:FFC:Adjusting missing element domain to Domain(Cell('triangle', 2), 'triangle_multiverse', 2, 2).\n"
       ]
      },
      {
       "output_type": "stream",
       "stream": "stderr",
       "text": [
        "INFO:FFC:Adjusting element degree from ? to 2\n"
       ]
      },
      {
       "output_type": "stream",
       "stream": "stderr",
       "text": [
        "INFO:FFC:Adjusting missing element domain to Domain(Cell('triangle', 2), 'triangle_multiverse', 2, 2).\n"
       ]
      },
      {
       "output_type": "stream",
       "stream": "stderr",
       "text": [
        "INFO:FFC:Adjusting element degree from ? to 2\n"
       ]
      },
      {
       "output_type": "stream",
       "stream": "stderr",
       "text": [
        "INFO:FFC:Adjusting missing element domain to Domain(Cell('triangle', 2), 'triangle_multiverse', 2, 2).\n"
       ]
      },
      {
       "output_type": "stream",
       "stream": "stderr",
       "text": [
        "INFO:FFC:Adjusting element degree from ? to 2\n"
       ]
      },
      {
       "output_type": "stream",
       "stream": "stderr",
       "text": [
        "INFO:FFC:Adjusting missing element domain to Domain(Cell('triangle', 2), 'triangle_multiverse', 2, 2).\n"
       ]
      },
      {
       "output_type": "stream",
       "stream": "stderr",
       "text": [
        "INFO:FFC:Adjusting element degree from ? to 2\n"
       ]
      },
      {
       "output_type": "stream",
       "stream": "stderr",
       "text": [
        "INFO:FFC:Adjusting missing element domain to Domain(Cell('triangle', 2), 'triangle_multiverse', 2, 2).\n"
       ]
      },
      {
       "output_type": "stream",
       "stream": "stderr",
       "text": [
        "INFO:FFC:Adjusting element degree from ? to 2\n"
       ]
      },
      {
       "output_type": "stream",
       "stream": "stderr",
       "text": [
        "INFO:FFC:Adjusting missing element domain to Domain(Cell('triangle', 2), 'triangle_multiverse', 2, 2).\n"
       ]
      },
      {
       "output_type": "stream",
       "stream": "stderr",
       "text": [
        "INFO:FFC:Adjusting element degree from ? to 2\n"
       ]
      },
      {
       "output_type": "stream",
       "stream": "stderr",
       "text": [
        "INFO:FFC:Adjusting missing element domain to Domain(Cell('triangle', 2), 'triangle_multiverse', 2, 2).\n"
       ]
      },
      {
       "output_type": "stream",
       "stream": "stderr",
       "text": [
        "INFO:FFC:Adjusting element degree from ? to 2\n"
       ]
      },
      {
       "output_type": "stream",
       "stream": "stderr",
       "text": [
        "INFO:FFC:Adjusting missing element domain to Domain(Cell('triangle', 2), 'triangle_multiverse', 2, 2).\n"
       ]
      },
      {
       "output_type": "stream",
       "stream": "stderr",
       "text": [
        "INFO:FFC:Adjusting element degree from ? to 2\n"
       ]
      },
      {
       "output_type": "stream",
       "stream": "stderr",
       "text": [
        "INFO:FFC:Adjusting missing element domain to Domain(Cell('triangle', 2), 'triangle_multiverse', 2, 2).\n"
       ]
      },
      {
       "output_type": "stream",
       "stream": "stderr",
       "text": [
        "INFO:FFC:Adjusting element degree from ? to 2\n"
       ]
      },
      {
       "output_type": "stream",
       "stream": "stderr",
       "text": [
        "INFO:FFC:Adjusting missing element domain to Domain(Cell('triangle', 2), 'triangle_multiverse', 2, 2).\n"
       ]
      },
      {
       "output_type": "stream",
       "stream": "stderr",
       "text": [
        "INFO:FFC:Adjusting element degree from ? to 2\n"
       ]
      },
      {
       "output_type": "stream",
       "stream": "stderr",
       "text": [
        "DEBUG:UFL:No integrals left after transformation, returning empty form.\n"
       ]
      },
      {
       "output_type": "stream",
       "stream": "stderr",
       "text": [
        "DEBUG:FFC:Reusing form from cache.\n"
       ]
      },
      {
       "output_type": "stream",
       "stream": "stderr",
       "text": [
        "DEBUG:FFC:Reusing form from cache.\n"
       ]
      },
      {
       "output_type": "stream",
       "stream": "stderr",
       "text": [
        "DEBUG:UFL:No integrals left after transformation, returning empty form.\n"
       ]
      },
      {
       "output_type": "stream",
       "stream": "stderr",
       "text": [
        "DEBUG:FFC:Reusing form from cache.\n"
       ]
      },
      {
       "output_type": "stream",
       "stream": "stderr",
       "text": [
        "DEBUG:UFL:No integrals left after transformation, returning empty form.\n"
       ]
      },
      {
       "output_type": "stream",
       "stream": "stderr",
       "text": [
        "DEBUG:FFC:Reusing form from cache.\n"
       ]
      },
      {
       "output_type": "stream",
       "stream": "stdout",
       "text": [
        "\n",
        "1\n",
        "1\n",
        "[ 0.  0.  0.  0.  0.  0.  0.  0.  0.  0.  0.  0.  0.  0.  0.  0.  0.  0.\n",
        "  0.  0.  0.  0.  0.  0.  0.  0.  0.  0.  0.  0.  0.  0.  0.  0.  0.  0.\n",
        "  0.  0.  0.  0.  0.  0.  0.  0.  0.  0.  0.  0.  0.  0.  0.  0.  0.  0.\n",
        "  0.  0.  0.  0.  0.  0.  0.  0.  0.  0.  0.  0.  0.  0.  0.  0.  0.  0.\n",
        "  0.  0.  0.  0.  0.  0.  0.  0.  0.  0.  0.  0.  0.  0.  0.  0.  0.  0.\n",
        "  0.  0.  0.  0.  0.  0.  0.  0.  0.  0.  0.  0.  0.  0.  0.  0.  0.  0.\n",
        "  0.  0.  0.  0.  0.  0.  0.  0.  0.  0.  0.  0.  0.  0.  0.  0.  0.  0.\n",
        "  0.  0.  0.  0.  0.  0.]\n",
        "1"
       ]
      },
      {
       "output_type": "stream",
       "stream": "stderr",
       "text": [
        "DEBUG:UFL:No integrals left after transformation, returning empty form.\n"
       ]
      },
      {
       "output_type": "stream",
       "stream": "stderr",
       "text": [
        "DEBUG:UFL:No integrals left after transformation, returning empty form.\n"
       ]
      },
      {
       "output_type": "stream",
       "stream": "stderr",
       "text": [
        "DEBUG:FFC:Reusing form from cache.\n"
       ]
      },
      {
       "output_type": "stream",
       "stream": "stderr",
       "text": [
        "INFO:FFC:Adjusting missing element domain to Domain(Cell('triangle', 2), 'triangle_multiverse', 2, 2).\n"
       ]
      },
      {
       "output_type": "stream",
       "stream": "stderr",
       "text": [
        "INFO:FFC:Adjusting element degree from ? to 2\n"
       ]
      },
      {
       "output_type": "stream",
       "stream": "stderr",
       "text": [
        "INFO:FFC:Adjusting missing element domain to Domain(Cell('triangle', 2), 'triangle_multiverse', 2, 2).\n"
       ]
      },
      {
       "output_type": "stream",
       "stream": "stderr",
       "text": [
        "INFO:FFC:Adjusting element degree from ? to 2\n"
       ]
      },
      {
       "output_type": "stream",
       "stream": "stderr",
       "text": [
        "INFO:FFC:Adjusting missing element domain to Domain(Cell('triangle', 2), 'triangle_multiverse', 2, 2).\n"
       ]
      },
      {
       "output_type": "stream",
       "stream": "stderr",
       "text": [
        "INFO:FFC:Adjusting element degree from ? to 2\n"
       ]
      },
      {
       "output_type": "stream",
       "stream": "stderr",
       "text": [
        "INFO:FFC:Adjusting missing element domain to Domain(Cell('triangle', 2), 'triangle_multiverse', 2, 2).\n"
       ]
      },
      {
       "output_type": "stream",
       "stream": "stderr",
       "text": [
        "INFO:FFC:Adjusting element degree from ? to 2\n"
       ]
      },
      {
       "output_type": "stream",
       "stream": "stderr",
       "text": [
        "INFO:FFC:Adjusting missing element domain to Domain(Cell('triangle', 2), 'triangle_multiverse', 2, 2).\n"
       ]
      },
      {
       "output_type": "stream",
       "stream": "stderr",
       "text": [
        "INFO:FFC:Adjusting element degree from ? to 2\n"
       ]
      },
      {
       "output_type": "stream",
       "stream": "stderr",
       "text": [
        "INFO:FFC:Adjusting missing element domain to Domain(Cell('triangle', 2), 'triangle_multiverse', 2, 2).\n"
       ]
      },
      {
       "output_type": "stream",
       "stream": "stderr",
       "text": [
        "INFO:FFC:Adjusting element degree from ? to 2\n"
       ]
      },
      {
       "output_type": "stream",
       "stream": "stderr",
       "text": [
        "INFO:FFC:Adjusting missing element domain to Domain(Cell('triangle', 2), 'triangle_multiverse', 2, 2).\n"
       ]
      },
      {
       "output_type": "stream",
       "stream": "stderr",
       "text": [
        "INFO:FFC:Adjusting element degree from ? to 2\n"
       ]
      },
      {
       "output_type": "stream",
       "stream": "stderr",
       "text": [
        "INFO:FFC:Adjusting missing element domain to Domain(Cell('triangle', 2), 'triangle_multiverse', 2, 2).\n"
       ]
      },
      {
       "output_type": "stream",
       "stream": "stderr",
       "text": [
        "INFO:FFC:Adjusting element degree from ? to 2\n"
       ]
      },
      {
       "output_type": "stream",
       "stream": "stderr",
       "text": [
        "INFO:FFC:Adjusting missing element domain to Domain(Cell('triangle', 2), 'triangle_multiverse', 2, 2).\n"
       ]
      },
      {
       "output_type": "stream",
       "stream": "stderr",
       "text": [
        "INFO:FFC:Adjusting element degree from ? to 2\n"
       ]
      },
      {
       "output_type": "stream",
       "stream": "stderr",
       "text": [
        "INFO:FFC:Adjusting missing element domain to Domain(Cell('triangle', 2), 'triangle_multiverse', 2, 2).\n"
       ]
      },
      {
       "output_type": "stream",
       "stream": "stderr",
       "text": [
        "INFO:FFC:Adjusting element degree from ? to 2\n"
       ]
      },
      {
       "output_type": "stream",
       "stream": "stderr",
       "text": [
        "INFO:FFC:Adjusting missing element domain to Domain(Cell('triangle', 2), 'triangle_multiverse', 2, 2).\n"
       ]
      },
      {
       "output_type": "stream",
       "stream": "stderr",
       "text": [
        "INFO:FFC:Adjusting element degree from ? to 2\n"
       ]
      },
      {
       "output_type": "stream",
       "stream": "stderr",
       "text": [
        "INFO:FFC:Adjusting missing element domain to Domain(Cell('triangle', 2), 'triangle_multiverse', 2, 2).\n"
       ]
      },
      {
       "output_type": "stream",
       "stream": "stderr",
       "text": [
        "INFO:FFC:Adjusting element degree from ? to 2\n"
       ]
      },
      {
       "output_type": "stream",
       "stream": "stderr",
       "text": [
        "INFO:FFC:Adjusting missing element domain to Domain(Cell('triangle', 2), 'triangle_multiverse', 2, 2).\n"
       ]
      },
      {
       "output_type": "stream",
       "stream": "stderr",
       "text": [
        "INFO:FFC:Adjusting element degree from ? to 2\n"
       ]
      },
      {
       "output_type": "stream",
       "stream": "stderr",
       "text": [
        "INFO:FFC:Adjusting missing element domain to Domain(Cell('triangle', 2), 'triangle_multiverse', 2, 2).\n"
       ]
      },
      {
       "output_type": "stream",
       "stream": "stderr",
       "text": [
        "INFO:FFC:Adjusting element degree from ? to 2\n"
       ]
      },
      {
       "output_type": "stream",
       "stream": "stderr",
       "text": [
        "INFO:FFC:Adjusting missing element domain to Domain(Cell('triangle', 2), 'triangle_multiverse', 2, 2).\n"
       ]
      },
      {
       "output_type": "stream",
       "stream": "stderr",
       "text": [
        "INFO:FFC:Adjusting element degree from ? to 2\n"
       ]
      },
      {
       "output_type": "stream",
       "stream": "stderr",
       "text": [
        "INFO:FFC:Adjusting missing element domain to Domain(Cell('triangle', 2), 'triangle_multiverse', 2, 2).\n"
       ]
      },
      {
       "output_type": "stream",
       "stream": "stderr",
       "text": [
        "INFO:FFC:Adjusting element degree from ? to 2\n"
       ]
      },
      {
       "output_type": "stream",
       "stream": "stderr",
       "text": [
        "INFO:FFC:Adjusting missing element domain to Domain(Cell('triangle', 2), 'triangle_multiverse', 2, 2).\n"
       ]
      },
      {
       "output_type": "stream",
       "stream": "stderr",
       "text": [
        "INFO:FFC:Adjusting element degree from ? to 2\n"
       ]
      },
      {
       "output_type": "stream",
       "stream": "stderr",
       "text": [
        "INFO:FFC:Adjusting missing element domain to Domain(Cell('triangle', 2), 'triangle_multiverse', 2, 2).\n"
       ]
      },
      {
       "output_type": "stream",
       "stream": "stderr",
       "text": [
        "INFO:FFC:Adjusting element degree from ? to 2\n"
       ]
      },
      {
       "output_type": "stream",
       "stream": "stderr",
       "text": [
        "INFO:FFC:Adjusting missing element domain to Domain(Cell('triangle', 2), 'triangle_multiverse', 2, 2).\n"
       ]
      },
      {
       "output_type": "stream",
       "stream": "stderr",
       "text": [
        "INFO:FFC:Adjusting element degree from ? to 2\n"
       ]
      },
      {
       "output_type": "stream",
       "stream": "stderr",
       "text": [
        "INFO:FFC:Adjusting missing element domain to Domain(Cell('triangle', 2), 'triangle_multiverse', 2, 2).\n"
       ]
      },
      {
       "output_type": "stream",
       "stream": "stderr",
       "text": [
        "INFO:FFC:Adjusting element degree from ? to 2\n"
       ]
      },
      {
       "output_type": "stream",
       "stream": "stderr",
       "text": [
        "INFO:FFC:Adjusting missing element domain to Domain(Cell('triangle', 2), 'triangle_multiverse', 2, 2).\n"
       ]
      },
      {
       "output_type": "stream",
       "stream": "stderr",
       "text": [
        "INFO:FFC:Adjusting element degree from ? to 2\n"
       ]
      },
      {
       "output_type": "stream",
       "stream": "stderr",
       "text": [
        "DEBUG:UFL:No integrals left after transformation, returning empty form.\n"
       ]
      },
      {
       "output_type": "stream",
       "stream": "stderr",
       "text": [
        "DEBUG:FFC:Reusing form from cache.\n"
       ]
      },
      {
       "output_type": "stream",
       "stream": "stderr",
       "text": [
        "DEBUG:FFC:Reusing form from cache.\n"
       ]
      },
      {
       "output_type": "stream",
       "stream": "stderr",
       "text": [
        "DEBUG:UFL:No integrals left after transformation, returning empty form.\n"
       ]
      },
      {
       "output_type": "stream",
       "stream": "stderr",
       "text": [
        "DEBUG:FFC:Reusing form from cache.\n"
       ]
      },
      {
       "output_type": "stream",
       "stream": "stderr",
       "text": [
        "DEBUG:UFL:No integrals left after transformation, returning empty form.\n"
       ]
      },
      {
       "output_type": "stream",
       "stream": "stderr",
       "text": [
        "DEBUG:FFC:Reusing form from cache.\n"
       ]
      },
      {
       "output_type": "stream",
       "stream": "stdout",
       "text": [
        "\n",
        "1\n",
        "1\n",
        "[ 0.  0.  0.  0.  0.  0.  0.  0.  0.  0.  0.  0.  0.  0.  0.  0.  0.  0.\n",
        "  0.  0.  0.  0.  0.  0.  0.  0.  0.  0.  0.  0.  0.  0.  0.  0.  0.  0.\n",
        "  0.  0.  0.  0.  0.  0.  0.  0.  0.  0.  0.  0.  0.  0.  0.  0.  0.  0.\n",
        "  0.  0.  0.  0.  0.  0.  0.  0.  0.  0.  0.  0.  0.  0.  0.  0.  0.  0.\n",
        "  0.  0.  0.  0.  0.  0.  0.  0.  0.  0.  0.  0.  0.  0.  0.  0.  0.  0.\n",
        "  0.  0.  0.  0.  0.  0.  0.  0.  0.  0.  0.  0.  0.  0.  0.  0.  0.  0.\n",
        "  0.  0.  0.  0.  0.  0.  0.  0.  0.  0.  0.  0.  0.  0.  0.  0.  0.  0.\n",
        "  0.  0.  0.  0.  0.  0.]\n",
        "1"
       ]
      },
      {
       "output_type": "stream",
       "stream": "stdout",
       "text": [
        "\n",
        "1\n",
        "1\n",
        "[ 0.  0.  0.  0.  0.  0.  0.  0.  0.  0.  0.  0.  0.  0.  0.  0.  0.  0.\n",
        "  0.  0.  0.  0.  0.  0.  0.  0.  0.  0.  0.  0.  0.  0.  0.  0.  0.  0.\n",
        "  0.  0.  0.  0.  0.  0.  0.  0.  0.  0.  0.  0.  0.  0.  0.  0.  0.  0.\n",
        "  0.  0.  0.  0.  0.  0.  0.  0.  0.  0.  0.  0.  0.  0.  0.  0.  0.  0.\n",
        "  0.  0.  0.  0.  0.  0.  0.  0.  0.  0.  0.  0.  0.  0.  0.  0.  0.  0.\n",
        "  0.  0.  0.  0.  0.  0.  0.  0.  0.  0.  0.  0.  0.  0.  0.  0.  0.  0.\n",
        "  0.  0.  0.  0.  0.  0.  0.  0.  0.  0.  0.  0.  0.  0.  0.  0.  0.  0.\n",
        "  0.  0.  0.  0.  0.  0.]"
       ]
      },
      {
       "output_type": "stream",
       "stream": "stderr",
       "text": [
        "DEBUG:UFL:No integrals left after transformation, returning empty form.\n"
       ]
      },
      {
       "output_type": "stream",
       "stream": "stderr",
       "text": [
        "DEBUG:UFL:No integrals left after transformation, returning empty form.\n"
       ]
      },
      {
       "output_type": "stream",
       "stream": "stderr",
       "text": [
        "DEBUG:FFC:Reusing form from cache.\n"
       ]
      },
      {
       "output_type": "stream",
       "stream": "stderr",
       "text": [
        "INFO:FFC:Adjusting missing element domain to Domain(Cell('triangle', 2), 'triangle_multiverse', 2, 2).\n"
       ]
      },
      {
       "output_type": "stream",
       "stream": "stderr",
       "text": [
        "INFO:FFC:Adjusting element degree from ? to 2\n"
       ]
      },
      {
       "output_type": "stream",
       "stream": "stderr",
       "text": [
        "INFO:FFC:Adjusting missing element domain to Domain(Cell('triangle', 2), 'triangle_multiverse', 2, 2).\n"
       ]
      },
      {
       "output_type": "stream",
       "stream": "stderr",
       "text": [
        "INFO:FFC:Adjusting element degree from ? to 2\n"
       ]
      },
      {
       "output_type": "stream",
       "stream": "stderr",
       "text": [
        "INFO:FFC:Adjusting missing element domain to Domain(Cell('triangle', 2), 'triangle_multiverse', 2, 2).\n"
       ]
      },
      {
       "output_type": "stream",
       "stream": "stderr",
       "text": [
        "INFO:FFC:Adjusting element degree from ? to 2\n"
       ]
      },
      {
       "output_type": "stream",
       "stream": "stderr",
       "text": [
        "INFO:FFC:Adjusting missing element domain to Domain(Cell('triangle', 2), 'triangle_multiverse', 2, 2).\n"
       ]
      },
      {
       "output_type": "stream",
       "stream": "stderr",
       "text": [
        "INFO:FFC:Adjusting element degree from ? to 2\n"
       ]
      },
      {
       "output_type": "stream",
       "stream": "stderr",
       "text": [
        "INFO:FFC:Adjusting missing element domain to Domain(Cell('triangle', 2), 'triangle_multiverse', 2, 2).\n"
       ]
      },
      {
       "output_type": "stream",
       "stream": "stderr",
       "text": [
        "INFO:FFC:Adjusting element degree from ? to 2\n"
       ]
      },
      {
       "output_type": "stream",
       "stream": "stderr",
       "text": [
        "INFO:FFC:Adjusting missing element domain to Domain(Cell('triangle', 2), 'triangle_multiverse', 2, 2).\n"
       ]
      },
      {
       "output_type": "stream",
       "stream": "stderr",
       "text": [
        "INFO:FFC:Adjusting element degree from ? to 2\n"
       ]
      },
      {
       "output_type": "stream",
       "stream": "stderr",
       "text": [
        "INFO:FFC:Adjusting missing element domain to Domain(Cell('triangle', 2), 'triangle_multiverse', 2, 2).\n"
       ]
      },
      {
       "output_type": "stream",
       "stream": "stderr",
       "text": [
        "INFO:FFC:Adjusting element degree from ? to 2\n"
       ]
      },
      {
       "output_type": "stream",
       "stream": "stderr",
       "text": [
        "INFO:FFC:Adjusting missing element domain to Domain(Cell('triangle', 2), 'triangle_multiverse', 2, 2).\n"
       ]
      },
      {
       "output_type": "stream",
       "stream": "stderr",
       "text": [
        "INFO:FFC:Adjusting element degree from ? to 2\n"
       ]
      },
      {
       "output_type": "stream",
       "stream": "stderr",
       "text": [
        "INFO:FFC:Adjusting missing element domain to Domain(Cell('triangle', 2), 'triangle_multiverse', 2, 2).\n"
       ]
      },
      {
       "output_type": "stream",
       "stream": "stderr",
       "text": [
        "INFO:FFC:Adjusting element degree from ? to 2\n"
       ]
      },
      {
       "output_type": "stream",
       "stream": "stderr",
       "text": [
        "INFO:FFC:Adjusting missing element domain to Domain(Cell('triangle', 2), 'triangle_multiverse', 2, 2).\n"
       ]
      },
      {
       "output_type": "stream",
       "stream": "stderr",
       "text": [
        "INFO:FFC:Adjusting element degree from ? to 2\n"
       ]
      },
      {
       "output_type": "stream",
       "stream": "stderr",
       "text": [
        "INFO:FFC:Adjusting missing element domain to Domain(Cell('triangle', 2), 'triangle_multiverse', 2, 2).\n"
       ]
      },
      {
       "output_type": "stream",
       "stream": "stderr",
       "text": [
        "INFO:FFC:Adjusting element degree from ? to 2\n"
       ]
      },
      {
       "output_type": "stream",
       "stream": "stderr",
       "text": [
        "INFO:FFC:Adjusting missing element domain to Domain(Cell('triangle', 2), 'triangle_multiverse', 2, 2).\n"
       ]
      },
      {
       "output_type": "stream",
       "stream": "stderr",
       "text": [
        "INFO:FFC:Adjusting element degree from ? to 2\n"
       ]
      },
      {
       "output_type": "stream",
       "stream": "stderr",
       "text": [
        "INFO:FFC:Adjusting missing element domain to Domain(Cell('triangle', 2), 'triangle_multiverse', 2, 2).\n"
       ]
      },
      {
       "output_type": "stream",
       "stream": "stderr",
       "text": [
        "INFO:FFC:Adjusting element degree from ? to 2\n"
       ]
      },
      {
       "output_type": "stream",
       "stream": "stderr",
       "text": [
        "INFO:FFC:Adjusting missing element domain to Domain(Cell('triangle', 2), 'triangle_multiverse', 2, 2).\n"
       ]
      },
      {
       "output_type": "stream",
       "stream": "stderr",
       "text": [
        "INFO:FFC:Adjusting element degree from ? to 2\n"
       ]
      },
      {
       "output_type": "stream",
       "stream": "stderr",
       "text": [
        "INFO:FFC:Adjusting missing element domain to Domain(Cell('triangle', 2), 'triangle_multiverse', 2, 2).\n"
       ]
      },
      {
       "output_type": "stream",
       "stream": "stderr",
       "text": [
        "INFO:FFC:Adjusting element degree from ? to 2\n"
       ]
      },
      {
       "output_type": "stream",
       "stream": "stderr",
       "text": [
        "INFO:FFC:Adjusting missing element domain to Domain(Cell('triangle', 2), 'triangle_multiverse', 2, 2).\n"
       ]
      },
      {
       "output_type": "stream",
       "stream": "stderr",
       "text": [
        "INFO:FFC:Adjusting element degree from ? to 2\n"
       ]
      },
      {
       "output_type": "stream",
       "stream": "stderr",
       "text": [
        "INFO:FFC:Adjusting missing element domain to Domain(Cell('triangle', 2), 'triangle_multiverse', 2, 2).\n"
       ]
      },
      {
       "output_type": "stream",
       "stream": "stderr",
       "text": [
        "INFO:FFC:Adjusting element degree from ? to 2\n"
       ]
      },
      {
       "output_type": "stream",
       "stream": "stderr",
       "text": [
        "INFO:FFC:Adjusting missing element domain to Domain(Cell('triangle', 2), 'triangle_multiverse', 2, 2).\n"
       ]
      },
      {
       "output_type": "stream",
       "stream": "stderr",
       "text": [
        "INFO:FFC:Adjusting element degree from ? to 2\n"
       ]
      },
      {
       "output_type": "stream",
       "stream": "stderr",
       "text": [
        "INFO:FFC:Adjusting missing element domain to Domain(Cell('triangle', 2), 'triangle_multiverse', 2, 2).\n"
       ]
      },
      {
       "output_type": "stream",
       "stream": "stderr",
       "text": [
        "INFO:FFC:Adjusting element degree from ? to 2\n"
       ]
      },
      {
       "output_type": "stream",
       "stream": "stderr",
       "text": [
        "INFO:FFC:Adjusting missing element domain to Domain(Cell('triangle', 2), 'triangle_multiverse', 2, 2).\n"
       ]
      },
      {
       "output_type": "stream",
       "stream": "stderr",
       "text": [
        "INFO:FFC:Adjusting element degree from ? to 2\n"
       ]
      },
      {
       "output_type": "stream",
       "stream": "stderr",
       "text": [
        "INFO:FFC:Adjusting missing element domain to Domain(Cell('triangle', 2), 'triangle_multiverse', 2, 2).\n"
       ]
      },
      {
       "output_type": "stream",
       "stream": "stderr",
       "text": [
        "INFO:FFC:Adjusting element degree from ? to 2\n"
       ]
      },
      {
       "output_type": "stream",
       "stream": "stderr",
       "text": [
        "DEBUG:UFL:No integrals left after transformation, returning empty form.\n"
       ]
      },
      {
       "output_type": "stream",
       "stream": "stderr",
       "text": [
        "DEBUG:FFC:Reusing form from cache.\n"
       ]
      },
      {
       "output_type": "stream",
       "stream": "stderr",
       "text": [
        "DEBUG:FFC:Reusing form from cache.\n"
       ]
      },
      {
       "output_type": "stream",
       "stream": "stderr",
       "text": [
        "DEBUG:UFL:No integrals left after transformation, returning empty form.\n"
       ]
      },
      {
       "output_type": "stream",
       "stream": "stderr",
       "text": [
        "DEBUG:FFC:Reusing form from cache.\n"
       ]
      },
      {
       "output_type": "stream",
       "stream": "stderr",
       "text": [
        "DEBUG:UFL:No integrals left after transformation, returning empty form.\n"
       ]
      },
      {
       "output_type": "stream",
       "stream": "stderr",
       "text": [
        "DEBUG:FFC:Reusing form from cache.\n"
       ]
      },
      {
       "output_type": "stream",
       "stream": "stdout",
       "text": [
        "\n",
        "1"
       ]
      },
      {
       "output_type": "stream",
       "stream": "stderr",
       "text": [
        "DEBUG:UFL:No integrals left after transformation, returning empty form.\n"
       ]
      },
      {
       "output_type": "stream",
       "stream": "stderr",
       "text": [
        "DEBUG:UFL:No integrals left after transformation, returning empty form.\n"
       ]
      },
      {
       "output_type": "stream",
       "stream": "stderr",
       "text": [
        "DEBUG:FFC:Reusing form from cache.\n"
       ]
      },
      {
       "output_type": "stream",
       "stream": "stderr",
       "text": [
        "INFO:FFC:Adjusting missing element domain to Domain(Cell('triangle', 2), 'triangle_multiverse', 2, 2).\n"
       ]
      },
      {
       "output_type": "stream",
       "stream": "stderr",
       "text": [
        "INFO:FFC:Adjusting element degree from ? to 2\n"
       ]
      },
      {
       "output_type": "stream",
       "stream": "stderr",
       "text": [
        "INFO:FFC:Adjusting missing element domain to Domain(Cell('triangle', 2), 'triangle_multiverse', 2, 2).\n"
       ]
      },
      {
       "output_type": "stream",
       "stream": "stderr",
       "text": [
        "INFO:FFC:Adjusting element degree from ? to 2\n"
       ]
      },
      {
       "output_type": "stream",
       "stream": "stderr",
       "text": [
        "INFO:FFC:Adjusting missing element domain to Domain(Cell('triangle', 2), 'triangle_multiverse', 2, 2).\n"
       ]
      },
      {
       "output_type": "stream",
       "stream": "stderr",
       "text": [
        "INFO:FFC:Adjusting element degree from ? to 2\n"
       ]
      },
      {
       "output_type": "stream",
       "stream": "stderr",
       "text": [
        "INFO:FFC:Adjusting missing element domain to Domain(Cell('triangle', 2), 'triangle_multiverse', 2, 2).\n"
       ]
      },
      {
       "output_type": "stream",
       "stream": "stderr",
       "text": [
        "INFO:FFC:Adjusting element degree from ? to 2\n"
       ]
      },
      {
       "output_type": "stream",
       "stream": "stderr",
       "text": [
        "INFO:FFC:Adjusting missing element domain to Domain(Cell('triangle', 2), 'triangle_multiverse', 2, 2).\n"
       ]
      },
      {
       "output_type": "stream",
       "stream": "stderr",
       "text": [
        "INFO:FFC:Adjusting element degree from ? to 2\n"
       ]
      },
      {
       "output_type": "stream",
       "stream": "stderr",
       "text": [
        "INFO:FFC:Adjusting missing element domain to Domain(Cell('triangle', 2), 'triangle_multiverse', 2, 2).\n"
       ]
      },
      {
       "output_type": "stream",
       "stream": "stderr",
       "text": [
        "INFO:FFC:Adjusting element degree from ? to 2\n"
       ]
      },
      {
       "output_type": "stream",
       "stream": "stderr",
       "text": [
        "INFO:FFC:Adjusting missing element domain to Domain(Cell('triangle', 2), 'triangle_multiverse', 2, 2).\n"
       ]
      },
      {
       "output_type": "stream",
       "stream": "stderr",
       "text": [
        "INFO:FFC:Adjusting element degree from ? to 2\n"
       ]
      },
      {
       "output_type": "stream",
       "stream": "stderr",
       "text": [
        "INFO:FFC:Adjusting missing element domain to Domain(Cell('triangle', 2), 'triangle_multiverse', 2, 2).\n"
       ]
      },
      {
       "output_type": "stream",
       "stream": "stderr",
       "text": [
        "INFO:FFC:Adjusting element degree from ? to 2\n"
       ]
      },
      {
       "output_type": "stream",
       "stream": "stderr",
       "text": [
        "INFO:FFC:Adjusting missing element domain to Domain(Cell('triangle', 2), 'triangle_multiverse', 2, 2).\n"
       ]
      },
      {
       "output_type": "stream",
       "stream": "stderr",
       "text": [
        "INFO:FFC:Adjusting element degree from ? to 2\n"
       ]
      },
      {
       "output_type": "stream",
       "stream": "stderr",
       "text": [
        "INFO:FFC:Adjusting missing element domain to Domain(Cell('triangle', 2), 'triangle_multiverse', 2, 2).\n"
       ]
      },
      {
       "output_type": "stream",
       "stream": "stderr",
       "text": [
        "INFO:FFC:Adjusting element degree from ? to 2\n"
       ]
      },
      {
       "output_type": "stream",
       "stream": "stderr",
       "text": [
        "INFO:FFC:Adjusting missing element domain to Domain(Cell('triangle', 2), 'triangle_multiverse', 2, 2).\n"
       ]
      },
      {
       "output_type": "stream",
       "stream": "stderr",
       "text": [
        "INFO:FFC:Adjusting element degree from ? to 2\n"
       ]
      },
      {
       "output_type": "stream",
       "stream": "stderr",
       "text": [
        "INFO:FFC:Adjusting missing element domain to Domain(Cell('triangle', 2), 'triangle_multiverse', 2, 2).\n"
       ]
      },
      {
       "output_type": "stream",
       "stream": "stderr",
       "text": [
        "INFO:FFC:Adjusting element degree from ? to 2\n"
       ]
      },
      {
       "output_type": "stream",
       "stream": "stderr",
       "text": [
        "INFO:FFC:Adjusting missing element domain to Domain(Cell('triangle', 2), 'triangle_multiverse', 2, 2).\n"
       ]
      },
      {
       "output_type": "stream",
       "stream": "stderr",
       "text": [
        "INFO:FFC:Adjusting element degree from ? to 2\n"
       ]
      },
      {
       "output_type": "stream",
       "stream": "stderr",
       "text": [
        "INFO:FFC:Adjusting missing element domain to Domain(Cell('triangle', 2), 'triangle_multiverse', 2, 2).\n"
       ]
      },
      {
       "output_type": "stream",
       "stream": "stderr",
       "text": [
        "INFO:FFC:Adjusting element degree from ? to 2\n"
       ]
      },
      {
       "output_type": "stream",
       "stream": "stderr",
       "text": [
        "INFO:FFC:Adjusting missing element domain to Domain(Cell('triangle', 2), 'triangle_multiverse', 2, 2).\n"
       ]
      },
      {
       "output_type": "stream",
       "stream": "stderr",
       "text": [
        "INFO:FFC:Adjusting element degree from ? to 2\n"
       ]
      },
      {
       "output_type": "stream",
       "stream": "stderr",
       "text": [
        "INFO:FFC:Adjusting missing element domain to Domain(Cell('triangle', 2), 'triangle_multiverse', 2, 2).\n"
       ]
      },
      {
       "output_type": "stream",
       "stream": "stderr",
       "text": [
        "INFO:FFC:Adjusting element degree from ? to 2\n"
       ]
      },
      {
       "output_type": "stream",
       "stream": "stderr",
       "text": [
        "INFO:FFC:Adjusting missing element domain to Domain(Cell('triangle', 2), 'triangle_multiverse', 2, 2).\n"
       ]
      },
      {
       "output_type": "stream",
       "stream": "stderr",
       "text": [
        "INFO:FFC:Adjusting element degree from ? to 2\n"
       ]
      },
      {
       "output_type": "stream",
       "stream": "stderr",
       "text": [
        "INFO:FFC:Adjusting missing element domain to Domain(Cell('triangle', 2), 'triangle_multiverse', 2, 2).\n"
       ]
      },
      {
       "output_type": "stream",
       "stream": "stderr",
       "text": [
        "INFO:FFC:Adjusting element degree from ? to 2\n"
       ]
      },
      {
       "output_type": "stream",
       "stream": "stderr",
       "text": [
        "INFO:FFC:Adjusting missing element domain to Domain(Cell('triangle', 2), 'triangle_multiverse', 2, 2).\n"
       ]
      },
      {
       "output_type": "stream",
       "stream": "stderr",
       "text": [
        "INFO:FFC:Adjusting element degree from ? to 2\n"
       ]
      },
      {
       "output_type": "stream",
       "stream": "stderr",
       "text": [
        "INFO:FFC:Adjusting missing element domain to Domain(Cell('triangle', 2), 'triangle_multiverse', 2, 2).\n"
       ]
      },
      {
       "output_type": "stream",
       "stream": "stderr",
       "text": [
        "INFO:FFC:Adjusting element degree from ? to 2\n"
       ]
      },
      {
       "output_type": "stream",
       "stream": "stderr",
       "text": [
        "INFO:FFC:Adjusting missing element domain to Domain(Cell('triangle', 2), 'triangle_multiverse', 2, 2).\n"
       ]
      },
      {
       "output_type": "stream",
       "stream": "stderr",
       "text": [
        "INFO:FFC:Adjusting element degree from ? to 2\n"
       ]
      },
      {
       "output_type": "stream",
       "stream": "stderr",
       "text": [
        "DEBUG:UFL:No integrals left after transformation, returning empty form.\n"
       ]
      },
      {
       "output_type": "stream",
       "stream": "stderr",
       "text": [
        "DEBUG:FFC:Reusing form from cache.\n"
       ]
      },
      {
       "output_type": "stream",
       "stream": "stderr",
       "text": [
        "DEBUG:FFC:Reusing form from cache.\n"
       ]
      },
      {
       "output_type": "stream",
       "stream": "stderr",
       "text": [
        "DEBUG:UFL:No integrals left after transformation, returning empty form.\n"
       ]
      },
      {
       "output_type": "stream",
       "stream": "stderr",
       "text": [
        "DEBUG:FFC:Reusing form from cache.\n"
       ]
      },
      {
       "output_type": "stream",
       "stream": "stderr",
       "text": [
        "DEBUG:UFL:No integrals left after transformation, returning empty form.\n"
       ]
      },
      {
       "output_type": "stream",
       "stream": "stderr",
       "text": [
        "DEBUG:FFC:Reusing form from cache.\n"
       ]
      },
      {
       "output_type": "stream",
       "stream": "stdout",
       "text": [
        "\n",
        "1\n",
        "1\n",
        "[ 0.  0.  0.  0.  0.  0.  0.  0.  0.  0.  0.  0.  0.  0.  0.  0.  0.  0.\n",
        "  0.  0.  0.  0.  0.  0.  0.  0.  0.  0.  0.  0.  0.  0.  0.  0.  0.  0.\n",
        "  0.  0.  0.  0.  0.  0.  0.  0.  0.  0.  0.  0.  0.  0.  0.  0.  0.  0.\n",
        "  0.  0.  0.  0.  0.  0.  0.  0.  0.  0.  0.  0.  0.  0.  0.  0.  0.  0.\n",
        "  0.  0.  0.  0.  0.  0.  0.  0.  0.  0.  0.  0.  0.  0.  0.  0.  0.  0.\n",
        "  0.  0.  0.  0.  0.  0.  0.  0.  0.  0.  0.  0.  0.  0.  0.  0.  0.  0.\n",
        "  0.  0.  0.  0.  0.  0.  0.  0.  0.  0.  0.  0.  0.  0.  0.  0.  0.  0.\n",
        "  0.  0.  0.  0.  0.  0.]\n",
        "1"
       ]
      },
      {
       "output_type": "stream",
       "stream": "stderr",
       "text": [
        "DEBUG:UFL:No integrals left after transformation, returning empty form.\n"
       ]
      },
      {
       "output_type": "stream",
       "stream": "stderr",
       "text": [
        "DEBUG:UFL:No integrals left after transformation, returning empty form.\n"
       ]
      },
      {
       "output_type": "stream",
       "stream": "stderr",
       "text": [
        "DEBUG:FFC:Reusing form from cache.\n"
       ]
      },
      {
       "output_type": "stream",
       "stream": "stderr",
       "text": [
        "INFO:FFC:Adjusting missing element domain to Domain(Cell('triangle', 2), 'triangle_multiverse', 2, 2).\n"
       ]
      },
      {
       "output_type": "stream",
       "stream": "stderr",
       "text": [
        "INFO:FFC:Adjusting element degree from ? to 2\n"
       ]
      },
      {
       "output_type": "stream",
       "stream": "stderr",
       "text": [
        "INFO:FFC:Adjusting missing element domain to Domain(Cell('triangle', 2), 'triangle_multiverse', 2, 2).\n"
       ]
      },
      {
       "output_type": "stream",
       "stream": "stderr",
       "text": [
        "INFO:FFC:Adjusting element degree from ? to 2\n"
       ]
      },
      {
       "output_type": "stream",
       "stream": "stderr",
       "text": [
        "INFO:FFC:Adjusting missing element domain to Domain(Cell('triangle', 2), 'triangle_multiverse', 2, 2).\n"
       ]
      },
      {
       "output_type": "stream",
       "stream": "stderr",
       "text": [
        "INFO:FFC:Adjusting element degree from ? to 2\n"
       ]
      },
      {
       "output_type": "stream",
       "stream": "stderr",
       "text": [
        "INFO:FFC:Adjusting missing element domain to Domain(Cell('triangle', 2), 'triangle_multiverse', 2, 2).\n"
       ]
      },
      {
       "output_type": "stream",
       "stream": "stderr",
       "text": [
        "INFO:FFC:Adjusting element degree from ? to 2\n"
       ]
      },
      {
       "output_type": "stream",
       "stream": "stderr",
       "text": [
        "INFO:FFC:Adjusting missing element domain to Domain(Cell('triangle', 2), 'triangle_multiverse', 2, 2).\n"
       ]
      },
      {
       "output_type": "stream",
       "stream": "stderr",
       "text": [
        "INFO:FFC:Adjusting element degree from ? to 2\n"
       ]
      },
      {
       "output_type": "stream",
       "stream": "stderr",
       "text": [
        "INFO:FFC:Adjusting missing element domain to Domain(Cell('triangle', 2), 'triangle_multiverse', 2, 2).\n"
       ]
      },
      {
       "output_type": "stream",
       "stream": "stderr",
       "text": [
        "INFO:FFC:Adjusting element degree from ? to 2\n"
       ]
      },
      {
       "output_type": "stream",
       "stream": "stderr",
       "text": [
        "INFO:FFC:Adjusting missing element domain to Domain(Cell('triangle', 2), 'triangle_multiverse', 2, 2).\n"
       ]
      },
      {
       "output_type": "stream",
       "stream": "stderr",
       "text": [
        "INFO:FFC:Adjusting element degree from ? to 2\n"
       ]
      },
      {
       "output_type": "stream",
       "stream": "stderr",
       "text": [
        "INFO:FFC:Adjusting missing element domain to Domain(Cell('triangle', 2), 'triangle_multiverse', 2, 2).\n"
       ]
      },
      {
       "output_type": "stream",
       "stream": "stderr",
       "text": [
        "INFO:FFC:Adjusting element degree from ? to 2\n"
       ]
      },
      {
       "output_type": "stream",
       "stream": "stderr",
       "text": [
        "INFO:FFC:Adjusting missing element domain to Domain(Cell('triangle', 2), 'triangle_multiverse', 2, 2).\n"
       ]
      },
      {
       "output_type": "stream",
       "stream": "stderr",
       "text": [
        "INFO:FFC:Adjusting element degree from ? to 2\n"
       ]
      },
      {
       "output_type": "stream",
       "stream": "stderr",
       "text": [
        "INFO:FFC:Adjusting missing element domain to Domain(Cell('triangle', 2), 'triangle_multiverse', 2, 2).\n"
       ]
      },
      {
       "output_type": "stream",
       "stream": "stderr",
       "text": [
        "INFO:FFC:Adjusting element degree from ? to 2\n"
       ]
      },
      {
       "output_type": "stream",
       "stream": "stderr",
       "text": [
        "INFO:FFC:Adjusting missing element domain to Domain(Cell('triangle', 2), 'triangle_multiverse', 2, 2).\n"
       ]
      },
      {
       "output_type": "stream",
       "stream": "stderr",
       "text": [
        "INFO:FFC:Adjusting element degree from ? to 2\n"
       ]
      },
      {
       "output_type": "stream",
       "stream": "stderr",
       "text": [
        "INFO:FFC:Adjusting missing element domain to Domain(Cell('triangle', 2), 'triangle_multiverse', 2, 2).\n"
       ]
      },
      {
       "output_type": "stream",
       "stream": "stderr",
       "text": [
        "INFO:FFC:Adjusting element degree from ? to 2\n"
       ]
      },
      {
       "output_type": "stream",
       "stream": "stderr",
       "text": [
        "INFO:FFC:Adjusting missing element domain to Domain(Cell('triangle', 2), 'triangle_multiverse', 2, 2).\n"
       ]
      },
      {
       "output_type": "stream",
       "stream": "stderr",
       "text": [
        "INFO:FFC:Adjusting element degree from ? to 2\n"
       ]
      },
      {
       "output_type": "stream",
       "stream": "stderr",
       "text": [
        "INFO:FFC:Adjusting missing element domain to Domain(Cell('triangle', 2), 'triangle_multiverse', 2, 2).\n"
       ]
      },
      {
       "output_type": "stream",
       "stream": "stderr",
       "text": [
        "INFO:FFC:Adjusting element degree from ? to 2\n"
       ]
      },
      {
       "output_type": "stream",
       "stream": "stderr",
       "text": [
        "INFO:FFC:Adjusting missing element domain to Domain(Cell('triangle', 2), 'triangle_multiverse', 2, 2).\n"
       ]
      },
      {
       "output_type": "stream",
       "stream": "stderr",
       "text": [
        "INFO:FFC:Adjusting element degree from ? to 2\n"
       ]
      },
      {
       "output_type": "stream",
       "stream": "stderr",
       "text": [
        "INFO:FFC:Adjusting missing element domain to Domain(Cell('triangle', 2), 'triangle_multiverse', 2, 2).\n"
       ]
      },
      {
       "output_type": "stream",
       "stream": "stderr",
       "text": [
        "INFO:FFC:Adjusting element degree from ? to 2\n"
       ]
      },
      {
       "output_type": "stream",
       "stream": "stderr",
       "text": [
        "INFO:FFC:Adjusting missing element domain to Domain(Cell('triangle', 2), 'triangle_multiverse', 2, 2).\n"
       ]
      },
      {
       "output_type": "stream",
       "stream": "stderr",
       "text": [
        "INFO:FFC:Adjusting element degree from ? to 2\n"
       ]
      },
      {
       "output_type": "stream",
       "stream": "stderr",
       "text": [
        "INFO:FFC:Adjusting missing element domain to Domain(Cell('triangle', 2), 'triangle_multiverse', 2, 2).\n"
       ]
      },
      {
       "output_type": "stream",
       "stream": "stderr",
       "text": [
        "INFO:FFC:Adjusting element degree from ? to 2\n"
       ]
      },
      {
       "output_type": "stream",
       "stream": "stderr",
       "text": [
        "INFO:FFC:Adjusting missing element domain to Domain(Cell('triangle', 2), 'triangle_multiverse', 2, 2).\n"
       ]
      },
      {
       "output_type": "stream",
       "stream": "stderr",
       "text": [
        "INFO:FFC:Adjusting element degree from ? to 2\n"
       ]
      },
      {
       "output_type": "stream",
       "stream": "stderr",
       "text": [
        "INFO:FFC:Adjusting missing element domain to Domain(Cell('triangle', 2), 'triangle_multiverse', 2, 2).\n"
       ]
      },
      {
       "output_type": "stream",
       "stream": "stderr",
       "text": [
        "INFO:FFC:Adjusting element degree from ? to 2\n"
       ]
      },
      {
       "output_type": "stream",
       "stream": "stderr",
       "text": [
        "INFO:FFC:Adjusting missing element domain to Domain(Cell('triangle', 2), 'triangle_multiverse', 2, 2).\n"
       ]
      },
      {
       "output_type": "stream",
       "stream": "stderr",
       "text": [
        "INFO:FFC:Adjusting element degree from ? to 2\n"
       ]
      },
      {
       "output_type": "stream",
       "stream": "stderr",
       "text": [
        "DEBUG:UFL:No integrals left after transformation, returning empty form.\n"
       ]
      },
      {
       "output_type": "stream",
       "stream": "stderr",
       "text": [
        "DEBUG:FFC:Reusing form from cache.\n"
       ]
      },
      {
       "output_type": "stream",
       "stream": "stderr",
       "text": [
        "DEBUG:FFC:Reusing form from cache.\n"
       ]
      },
      {
       "output_type": "stream",
       "stream": "stderr",
       "text": [
        "DEBUG:UFL:No integrals left after transformation, returning empty form.\n"
       ]
      },
      {
       "output_type": "stream",
       "stream": "stderr",
       "text": [
        "DEBUG:FFC:Reusing form from cache.\n"
       ]
      },
      {
       "output_type": "stream",
       "stream": "stderr",
       "text": [
        "DEBUG:UFL:No integrals left after transformation, returning empty form.\n"
       ]
      },
      {
       "output_type": "stream",
       "stream": "stderr",
       "text": [
        "DEBUG:FFC:Reusing form from cache.\n"
       ]
      },
      {
       "output_type": "stream",
       "stream": "stdout",
       "text": [
        "\n",
        "1\n",
        "1\n",
        "[ 0.  0.  0.  0.  0.  0.  0.  0.  0.  0.  0.  0.  0.  0.  0.  0.  0.  0.\n",
        "  0.  0.  0.  0.  0.  0.  0.  0.  0.  0.  0.  0.  0.  0.  0.  0.  0.  0.\n",
        "  0.  0.  0.  0.  0.  0.  0.  0.  0.  0.  0.  0.  0.  0.  0.  0.  0.  0.\n",
        "  0.  0.  0.  0.  0.  0.  0.  0.  0.  0.  0.  0.  0.  0.  0.  0.  0.  0.\n",
        "  0.  0.  0.  0.  0.  0.  0.  0.  0.  0.  0.  0.  0.  0.  0.  0.  0.  0.\n",
        "  0.  0.  0.  0.  0.  0.  0.  0.  0.  0.  0.  0.  0.  0.  0.  0.  0.  0.\n",
        "  0.  0.  0.  0.  0.  0.  0.  0.  0.  0.  0.  0.  0.  0.  0.  0.  0.  0.\n",
        "  0.  0.  0.  0.  0.  0.]\n",
        "1"
       ]
      },
      {
       "output_type": "stream",
       "stream": "stderr",
       "text": [
        "DEBUG:UFL:No integrals left after transformation, returning empty form.\n"
       ]
      },
      {
       "output_type": "stream",
       "stream": "stderr",
       "text": [
        "DEBUG:UFL:No integrals left after transformation, returning empty form.\n"
       ]
      },
      {
       "output_type": "stream",
       "stream": "stderr",
       "text": [
        "DEBUG:FFC:Reusing form from cache.\n"
       ]
      },
      {
       "output_type": "stream",
       "stream": "stderr",
       "text": [
        "INFO:FFC:Adjusting missing element domain to Domain(Cell('triangle', 2), 'triangle_multiverse', 2, 2).\n"
       ]
      },
      {
       "output_type": "stream",
       "stream": "stderr",
       "text": [
        "INFO:FFC:Adjusting element degree from ? to 2\n"
       ]
      },
      {
       "output_type": "stream",
       "stream": "stderr",
       "text": [
        "INFO:FFC:Adjusting missing element domain to Domain(Cell('triangle', 2), 'triangle_multiverse', 2, 2).\n"
       ]
      },
      {
       "output_type": "stream",
       "stream": "stderr",
       "text": [
        "INFO:FFC:Adjusting element degree from ? to 2\n"
       ]
      },
      {
       "output_type": "stream",
       "stream": "stderr",
       "text": [
        "INFO:FFC:Adjusting missing element domain to Domain(Cell('triangle', 2), 'triangle_multiverse', 2, 2).\n"
       ]
      },
      {
       "output_type": "stream",
       "stream": "stderr",
       "text": [
        "INFO:FFC:Adjusting element degree from ? to 2\n"
       ]
      },
      {
       "output_type": "stream",
       "stream": "stderr",
       "text": [
        "INFO:FFC:Adjusting missing element domain to Domain(Cell('triangle', 2), 'triangle_multiverse', 2, 2).\n"
       ]
      },
      {
       "output_type": "stream",
       "stream": "stderr",
       "text": [
        "INFO:FFC:Adjusting element degree from ? to 2\n"
       ]
      },
      {
       "output_type": "stream",
       "stream": "stderr",
       "text": [
        "INFO:FFC:Adjusting missing element domain to Domain(Cell('triangle', 2), 'triangle_multiverse', 2, 2).\n"
       ]
      },
      {
       "output_type": "stream",
       "stream": "stderr",
       "text": [
        "INFO:FFC:Adjusting element degree from ? to 2\n"
       ]
      },
      {
       "output_type": "stream",
       "stream": "stderr",
       "text": [
        "INFO:FFC:Adjusting missing element domain to Domain(Cell('triangle', 2), 'triangle_multiverse', 2, 2).\n"
       ]
      },
      {
       "output_type": "stream",
       "stream": "stderr",
       "text": [
        "INFO:FFC:Adjusting element degree from ? to 2\n"
       ]
      },
      {
       "output_type": "stream",
       "stream": "stderr",
       "text": [
        "INFO:FFC:Adjusting missing element domain to Domain(Cell('triangle', 2), 'triangle_multiverse', 2, 2).\n"
       ]
      },
      {
       "output_type": "stream",
       "stream": "stderr",
       "text": [
        "INFO:FFC:Adjusting element degree from ? to 2\n"
       ]
      },
      {
       "output_type": "stream",
       "stream": "stderr",
       "text": [
        "INFO:FFC:Adjusting missing element domain to Domain(Cell('triangle', 2), 'triangle_multiverse', 2, 2).\n"
       ]
      },
      {
       "output_type": "stream",
       "stream": "stderr",
       "text": [
        "INFO:FFC:Adjusting element degree from ? to 2\n"
       ]
      },
      {
       "output_type": "stream",
       "stream": "stderr",
       "text": [
        "INFO:FFC:Adjusting missing element domain to Domain(Cell('triangle', 2), 'triangle_multiverse', 2, 2).\n"
       ]
      },
      {
       "output_type": "stream",
       "stream": "stderr",
       "text": [
        "INFO:FFC:Adjusting element degree from ? to 2\n"
       ]
      },
      {
       "output_type": "stream",
       "stream": "stderr",
       "text": [
        "INFO:FFC:Adjusting missing element domain to Domain(Cell('triangle', 2), 'triangle_multiverse', 2, 2).\n"
       ]
      },
      {
       "output_type": "stream",
       "stream": "stderr",
       "text": [
        "INFO:FFC:Adjusting element degree from ? to 2\n"
       ]
      },
      {
       "output_type": "stream",
       "stream": "stderr",
       "text": [
        "INFO:FFC:Adjusting missing element domain to Domain(Cell('triangle', 2), 'triangle_multiverse', 2, 2).\n"
       ]
      },
      {
       "output_type": "stream",
       "stream": "stderr",
       "text": [
        "INFO:FFC:Adjusting element degree from ? to 2\n"
       ]
      },
      {
       "output_type": "stream",
       "stream": "stderr",
       "text": [
        "INFO:FFC:Adjusting missing element domain to Domain(Cell('triangle', 2), 'triangle_multiverse', 2, 2).\n"
       ]
      },
      {
       "output_type": "stream",
       "stream": "stderr",
       "text": [
        "INFO:FFC:Adjusting element degree from ? to 2\n"
       ]
      },
      {
       "output_type": "stream",
       "stream": "stderr",
       "text": [
        "INFO:FFC:Adjusting missing element domain to Domain(Cell('triangle', 2), 'triangle_multiverse', 2, 2).\n"
       ]
      },
      {
       "output_type": "stream",
       "stream": "stderr",
       "text": [
        "INFO:FFC:Adjusting element degree from ? to 2\n"
       ]
      },
      {
       "output_type": "stream",
       "stream": "stderr",
       "text": [
        "INFO:FFC:Adjusting missing element domain to Domain(Cell('triangle', 2), 'triangle_multiverse', 2, 2).\n"
       ]
      },
      {
       "output_type": "stream",
       "stream": "stderr",
       "text": [
        "INFO:FFC:Adjusting element degree from ? to 2\n"
       ]
      },
      {
       "output_type": "stream",
       "stream": "stderr",
       "text": [
        "INFO:FFC:Adjusting missing element domain to Domain(Cell('triangle', 2), 'triangle_multiverse', 2, 2).\n"
       ]
      },
      {
       "output_type": "stream",
       "stream": "stderr",
       "text": [
        "INFO:FFC:Adjusting element degree from ? to 2\n"
       ]
      },
      {
       "output_type": "stream",
       "stream": "stderr",
       "text": [
        "INFO:FFC:Adjusting missing element domain to Domain(Cell('triangle', 2), 'triangle_multiverse', 2, 2).\n"
       ]
      },
      {
       "output_type": "stream",
       "stream": "stderr",
       "text": [
        "INFO:FFC:Adjusting element degree from ? to 2\n"
       ]
      },
      {
       "output_type": "stream",
       "stream": "stderr",
       "text": [
        "INFO:FFC:Adjusting missing element domain to Domain(Cell('triangle', 2), 'triangle_multiverse', 2, 2).\n"
       ]
      },
      {
       "output_type": "stream",
       "stream": "stderr",
       "text": [
        "INFO:FFC:Adjusting element degree from ? to 2\n"
       ]
      },
      {
       "output_type": "stream",
       "stream": "stderr",
       "text": [
        "INFO:FFC:Adjusting missing element domain to Domain(Cell('triangle', 2), 'triangle_multiverse', 2, 2).\n"
       ]
      },
      {
       "output_type": "stream",
       "stream": "stderr",
       "text": [
        "INFO:FFC:Adjusting element degree from ? to 2\n"
       ]
      },
      {
       "output_type": "stream",
       "stream": "stderr",
       "text": [
        "INFO:FFC:Adjusting missing element domain to Domain(Cell('triangle', 2), 'triangle_multiverse', 2, 2).\n"
       ]
      },
      {
       "output_type": "stream",
       "stream": "stderr",
       "text": [
        "INFO:FFC:Adjusting element degree from ? to 2\n"
       ]
      },
      {
       "output_type": "stream",
       "stream": "stderr",
       "text": [
        "INFO:FFC:Adjusting missing element domain to Domain(Cell('triangle', 2), 'triangle_multiverse', 2, 2).\n"
       ]
      },
      {
       "output_type": "stream",
       "stream": "stderr",
       "text": [
        "INFO:FFC:Adjusting element degree from ? to 2\n"
       ]
      },
      {
       "output_type": "stream",
       "stream": "stderr",
       "text": [
        "INFO:FFC:Adjusting missing element domain to Domain(Cell('triangle', 2), 'triangle_multiverse', 2, 2).\n"
       ]
      },
      {
       "output_type": "stream",
       "stream": "stderr",
       "text": [
        "INFO:FFC:Adjusting element degree from ? to 2\n"
       ]
      },
      {
       "output_type": "stream",
       "stream": "stderr",
       "text": [
        "DEBUG:UFL:No integrals left after transformation, returning empty form.\n"
       ]
      },
      {
       "output_type": "stream",
       "stream": "stderr",
       "text": [
        "DEBUG:FFC:Reusing form from cache.\n"
       ]
      },
      {
       "output_type": "stream",
       "stream": "stderr",
       "text": [
        "DEBUG:FFC:Reusing form from cache.\n"
       ]
      },
      {
       "output_type": "stream",
       "stream": "stderr",
       "text": [
        "DEBUG:UFL:No integrals left after transformation, returning empty form.\n"
       ]
      },
      {
       "output_type": "stream",
       "stream": "stderr",
       "text": [
        "DEBUG:FFC:Reusing form from cache.\n"
       ]
      },
      {
       "output_type": "stream",
       "stream": "stderr",
       "text": [
        "DEBUG:UFL:No integrals left after transformation, returning empty form.\n"
       ]
      },
      {
       "output_type": "stream",
       "stream": "stderr",
       "text": [
        "DEBUG:FFC:Reusing form from cache.\n"
       ]
      },
      {
       "output_type": "stream",
       "stream": "stdout",
       "text": [
        "\n",
        "1\n",
        "1\n",
        "[ 0.  0.  0.  0.  0.  0.  0.  0.  0.  0.  0.  0.  0.  0.  0.  0.  0.  0.\n",
        "  0.  0.  0.  0.  0.  0.  0.  0.  0.  0.  0.  0.  0.  0.  0.  0.  0.  0.\n",
        "  0.  0.  0.  0.  0.  0.  0.  0.  0.  0.  0.  0.  0.  0.  0.  0.  0.  0.\n",
        "  0.  0.  0.  0.  0.  0.  0.  0.  0.  0.  0.  0.  0.  0.  0.  0.  0.  0.\n",
        "  0.  0.  0.  0.  0.  0.  0.  0.  0.  0.  0.  0.  0.  0.  0.  0.  0.  0.\n",
        "  0.  0.  0.  0.  0.  0.  0.  0.  0.  0.  0.  0.  0.  0.  0.  0.  0.  0.\n",
        "  0.  0.  0.  0.  0.  0.  0.  0.  0.  0.  0.  0.  0.  0.  0.  0.  0.  0.\n",
        "  0.  0.  0.  0.  0.  0.]\n",
        "1"
       ]
      },
      {
       "output_type": "stream",
       "stream": "stderr",
       "text": [
        "DEBUG:UFL:No integrals left after transformation, returning empty form.\n"
       ]
      },
      {
       "output_type": "stream",
       "stream": "stderr",
       "text": [
        "DEBUG:UFL:No integrals left after transformation, returning empty form.\n"
       ]
      },
      {
       "output_type": "stream",
       "stream": "stderr",
       "text": [
        "DEBUG:FFC:Reusing form from cache.\n"
       ]
      },
      {
       "output_type": "stream",
       "stream": "stderr",
       "text": [
        "INFO:FFC:Adjusting missing element domain to Domain(Cell('triangle', 2), 'triangle_multiverse', 2, 2).\n"
       ]
      },
      {
       "output_type": "stream",
       "stream": "stderr",
       "text": [
        "INFO:FFC:Adjusting element degree from ? to 2\n"
       ]
      },
      {
       "output_type": "stream",
       "stream": "stderr",
       "text": [
        "INFO:FFC:Adjusting missing element domain to Domain(Cell('triangle', 2), 'triangle_multiverse', 2, 2).\n"
       ]
      },
      {
       "output_type": "stream",
       "stream": "stderr",
       "text": [
        "INFO:FFC:Adjusting element degree from ? to 2\n"
       ]
      },
      {
       "output_type": "stream",
       "stream": "stderr",
       "text": [
        "INFO:FFC:Adjusting missing element domain to Domain(Cell('triangle', 2), 'triangle_multiverse', 2, 2).\n"
       ]
      },
      {
       "output_type": "stream",
       "stream": "stderr",
       "text": [
        "INFO:FFC:Adjusting element degree from ? to 2\n"
       ]
      },
      {
       "output_type": "stream",
       "stream": "stderr",
       "text": [
        "INFO:FFC:Adjusting missing element domain to Domain(Cell('triangle', 2), 'triangle_multiverse', 2, 2).\n"
       ]
      },
      {
       "output_type": "stream",
       "stream": "stderr",
       "text": [
        "INFO:FFC:Adjusting element degree from ? to 2\n"
       ]
      },
      {
       "output_type": "stream",
       "stream": "stderr",
       "text": [
        "INFO:FFC:Adjusting missing element domain to Domain(Cell('triangle', 2), 'triangle_multiverse', 2, 2).\n"
       ]
      },
      {
       "output_type": "stream",
       "stream": "stderr",
       "text": [
        "INFO:FFC:Adjusting element degree from ? to 2\n"
       ]
      },
      {
       "output_type": "stream",
       "stream": "stderr",
       "text": [
        "INFO:FFC:Adjusting missing element domain to Domain(Cell('triangle', 2), 'triangle_multiverse', 2, 2).\n"
       ]
      },
      {
       "output_type": "stream",
       "stream": "stderr",
       "text": [
        "INFO:FFC:Adjusting element degree from ? to 2\n"
       ]
      },
      {
       "output_type": "stream",
       "stream": "stderr",
       "text": [
        "INFO:FFC:Adjusting missing element domain to Domain(Cell('triangle', 2), 'triangle_multiverse', 2, 2).\n"
       ]
      },
      {
       "output_type": "stream",
       "stream": "stderr",
       "text": [
        "INFO:FFC:Adjusting element degree from ? to 2\n"
       ]
      },
      {
       "output_type": "stream",
       "stream": "stderr",
       "text": [
        "INFO:FFC:Adjusting missing element domain to Domain(Cell('triangle', 2), 'triangle_multiverse', 2, 2).\n"
       ]
      },
      {
       "output_type": "stream",
       "stream": "stderr",
       "text": [
        "INFO:FFC:Adjusting element degree from ? to 2\n"
       ]
      },
      {
       "output_type": "stream",
       "stream": "stderr",
       "text": [
        "INFO:FFC:Adjusting missing element domain to Domain(Cell('triangle', 2), 'triangle_multiverse', 2, 2).\n"
       ]
      },
      {
       "output_type": "stream",
       "stream": "stderr",
       "text": [
        "INFO:FFC:Adjusting element degree from ? to 2\n"
       ]
      },
      {
       "output_type": "stream",
       "stream": "stderr",
       "text": [
        "INFO:FFC:Adjusting missing element domain to Domain(Cell('triangle', 2), 'triangle_multiverse', 2, 2).\n"
       ]
      },
      {
       "output_type": "stream",
       "stream": "stderr",
       "text": [
        "INFO:FFC:Adjusting element degree from ? to 2\n"
       ]
      },
      {
       "output_type": "stream",
       "stream": "stderr",
       "text": [
        "INFO:FFC:Adjusting missing element domain to Domain(Cell('triangle', 2), 'triangle_multiverse', 2, 2).\n"
       ]
      },
      {
       "output_type": "stream",
       "stream": "stderr",
       "text": [
        "INFO:FFC:Adjusting element degree from ? to 2\n"
       ]
      },
      {
       "output_type": "stream",
       "stream": "stderr",
       "text": [
        "INFO:FFC:Adjusting missing element domain to Domain(Cell('triangle', 2), 'triangle_multiverse', 2, 2).\n"
       ]
      },
      {
       "output_type": "stream",
       "stream": "stderr",
       "text": [
        "INFO:FFC:Adjusting element degree from ? to 2\n"
       ]
      },
      {
       "output_type": "stream",
       "stream": "stderr",
       "text": [
        "INFO:FFC:Adjusting missing element domain to Domain(Cell('triangle', 2), 'triangle_multiverse', 2, 2).\n"
       ]
      },
      {
       "output_type": "stream",
       "stream": "stderr",
       "text": [
        "INFO:FFC:Adjusting element degree from ? to 2\n"
       ]
      },
      {
       "output_type": "stream",
       "stream": "stderr",
       "text": [
        "INFO:FFC:Adjusting missing element domain to Domain(Cell('triangle', 2), 'triangle_multiverse', 2, 2).\n"
       ]
      },
      {
       "output_type": "stream",
       "stream": "stderr",
       "text": [
        "INFO:FFC:Adjusting element degree from ? to 2\n"
       ]
      },
      {
       "output_type": "stream",
       "stream": "stderr",
       "text": [
        "INFO:FFC:Adjusting missing element domain to Domain(Cell('triangle', 2), 'triangle_multiverse', 2, 2).\n"
       ]
      },
      {
       "output_type": "stream",
       "stream": "stderr",
       "text": [
        "INFO:FFC:Adjusting element degree from ? to 2\n"
       ]
      },
      {
       "output_type": "stream",
       "stream": "stderr",
       "text": [
        "INFO:FFC:Adjusting missing element domain to Domain(Cell('triangle', 2), 'triangle_multiverse', 2, 2).\n"
       ]
      },
      {
       "output_type": "stream",
       "stream": "stderr",
       "text": [
        "INFO:FFC:Adjusting element degree from ? to 2\n"
       ]
      },
      {
       "output_type": "stream",
       "stream": "stderr",
       "text": [
        "INFO:FFC:Adjusting missing element domain to Domain(Cell('triangle', 2), 'triangle_multiverse', 2, 2).\n"
       ]
      },
      {
       "output_type": "stream",
       "stream": "stderr",
       "text": [
        "INFO:FFC:Adjusting element degree from ? to 2\n"
       ]
      },
      {
       "output_type": "stream",
       "stream": "stderr",
       "text": [
        "INFO:FFC:Adjusting missing element domain to Domain(Cell('triangle', 2), 'triangle_multiverse', 2, 2).\n"
       ]
      },
      {
       "output_type": "stream",
       "stream": "stderr",
       "text": [
        "INFO:FFC:Adjusting element degree from ? to 2\n"
       ]
      },
      {
       "output_type": "stream",
       "stream": "stderr",
       "text": [
        "INFO:FFC:Adjusting missing element domain to Domain(Cell('triangle', 2), 'triangle_multiverse', 2, 2).\n"
       ]
      },
      {
       "output_type": "stream",
       "stream": "stderr",
       "text": [
        "INFO:FFC:Adjusting element degree from ? to 2\n"
       ]
      },
      {
       "output_type": "stream",
       "stream": "stderr",
       "text": [
        "INFO:FFC:Adjusting missing element domain to Domain(Cell('triangle', 2), 'triangle_multiverse', 2, 2).\n"
       ]
      },
      {
       "output_type": "stream",
       "stream": "stderr",
       "text": [
        "INFO:FFC:Adjusting element degree from ? to 2\n"
       ]
      },
      {
       "output_type": "stream",
       "stream": "stderr",
       "text": [
        "INFO:FFC:Adjusting missing element domain to Domain(Cell('triangle', 2), 'triangle_multiverse', 2, 2).\n"
       ]
      },
      {
       "output_type": "stream",
       "stream": "stderr",
       "text": [
        "INFO:FFC:Adjusting element degree from ? to 2\n"
       ]
      },
      {
       "output_type": "stream",
       "stream": "stderr",
       "text": [
        "DEBUG:UFL:No integrals left after transformation, returning empty form.\n"
       ]
      },
      {
       "output_type": "stream",
       "stream": "stderr",
       "text": [
        "DEBUG:FFC:Reusing form from cache.\n"
       ]
      },
      {
       "output_type": "stream",
       "stream": "stderr",
       "text": [
        "DEBUG:FFC:Reusing form from cache.\n"
       ]
      },
      {
       "output_type": "stream",
       "stream": "stderr",
       "text": [
        "DEBUG:UFL:No integrals left after transformation, returning empty form.\n"
       ]
      },
      {
       "output_type": "stream",
       "stream": "stderr",
       "text": [
        "DEBUG:FFC:Reusing form from cache.\n"
       ]
      },
      {
       "output_type": "stream",
       "stream": "stderr",
       "text": [
        "DEBUG:UFL:No integrals left after transformation, returning empty form.\n"
       ]
      },
      {
       "output_type": "stream",
       "stream": "stderr",
       "text": [
        "DEBUG:FFC:Reusing form from cache.\n"
       ]
      },
      {
       "output_type": "stream",
       "stream": "stdout",
       "text": [
        "\n",
        "1\n",
        "1\n",
        "[ 0.  0.  0.  0.  0.  0.  0.  0.  0.  0.  0.  0.  0.  0.  0.  0.  0.  0.\n",
        "  0.  0.  0.  0.  0.  0.  0.  0.  0.  0.  0.  0.  0.  0.  0.  0.  0.  0.\n",
        "  0.  0.  0.  0.  0.  0.  0.  0.  0.  0.  0.  0.  0.  0.  0.  0.  0.  0.\n",
        "  0.  0.  0.  0.  0.  0.  0.  0.  0.  0.  0.  0.  0.  0.  0.  0.  0.  0.\n",
        "  0.  0.  0.  0.  0.  0.  0.  0.  0.  0.  0.  0.  0.  0.  0.  0.  0.  0.\n",
        "  0.  0.  0.  0.  0.  0.  0.  0.  0.  0.  0.  0.  0.  0.  0.  0.  0.  0.\n",
        "  0.  0.  0.  0.  0.  0.  0.  0.  0.  0.  0.  0.  0.  0.  0.  0.  0.  0.\n",
        "  0.  0.  0.  0.  0.  0.]\n",
        "1"
       ]
      },
      {
       "output_type": "stream",
       "stream": "stderr",
       "text": [
        "DEBUG:UFL:No integrals left after transformation, returning empty form.\n"
       ]
      },
      {
       "output_type": "stream",
       "stream": "stderr",
       "text": [
        "DEBUG:UFL:No integrals left after transformation, returning empty form.\n"
       ]
      },
      {
       "output_type": "stream",
       "stream": "stderr",
       "text": [
        "DEBUG:FFC:Reusing form from cache.\n"
       ]
      },
      {
       "output_type": "stream",
       "stream": "stderr",
       "text": [
        "INFO:FFC:Adjusting missing element domain to Domain(Cell('triangle', 2), 'triangle_multiverse', 2, 2).\n"
       ]
      },
      {
       "output_type": "stream",
       "stream": "stderr",
       "text": [
        "INFO:FFC:Adjusting element degree from ? to 2\n"
       ]
      },
      {
       "output_type": "stream",
       "stream": "stderr",
       "text": [
        "INFO:FFC:Adjusting missing element domain to Domain(Cell('triangle', 2), 'triangle_multiverse', 2, 2).\n"
       ]
      },
      {
       "output_type": "stream",
       "stream": "stderr",
       "text": [
        "INFO:FFC:Adjusting element degree from ? to 2\n"
       ]
      },
      {
       "output_type": "stream",
       "stream": "stderr",
       "text": [
        "INFO:FFC:Adjusting missing element domain to Domain(Cell('triangle', 2), 'triangle_multiverse', 2, 2).\n"
       ]
      },
      {
       "output_type": "stream",
       "stream": "stderr",
       "text": [
        "INFO:FFC:Adjusting element degree from ? to 2\n"
       ]
      },
      {
       "output_type": "stream",
       "stream": "stderr",
       "text": [
        "INFO:FFC:Adjusting missing element domain to Domain(Cell('triangle', 2), 'triangle_multiverse', 2, 2).\n"
       ]
      },
      {
       "output_type": "stream",
       "stream": "stderr",
       "text": [
        "INFO:FFC:Adjusting element degree from ? to 2\n"
       ]
      },
      {
       "output_type": "stream",
       "stream": "stderr",
       "text": [
        "INFO:FFC:Adjusting missing element domain to Domain(Cell('triangle', 2), 'triangle_multiverse', 2, 2).\n"
       ]
      },
      {
       "output_type": "stream",
       "stream": "stderr",
       "text": [
        "INFO:FFC:Adjusting element degree from ? to 2\n"
       ]
      },
      {
       "output_type": "stream",
       "stream": "stderr",
       "text": [
        "INFO:FFC:Adjusting missing element domain to Domain(Cell('triangle', 2), 'triangle_multiverse', 2, 2).\n"
       ]
      },
      {
       "output_type": "stream",
       "stream": "stderr",
       "text": [
        "INFO:FFC:Adjusting element degree from ? to 2\n"
       ]
      },
      {
       "output_type": "stream",
       "stream": "stderr",
       "text": [
        "INFO:FFC:Adjusting missing element domain to Domain(Cell('triangle', 2), 'triangle_multiverse', 2, 2).\n"
       ]
      },
      {
       "output_type": "stream",
       "stream": "stderr",
       "text": [
        "INFO:FFC:Adjusting element degree from ? to 2\n"
       ]
      },
      {
       "output_type": "stream",
       "stream": "stderr",
       "text": [
        "INFO:FFC:Adjusting missing element domain to Domain(Cell('triangle', 2), 'triangle_multiverse', 2, 2).\n"
       ]
      },
      {
       "output_type": "stream",
       "stream": "stderr",
       "text": [
        "INFO:FFC:Adjusting element degree from ? to 2\n"
       ]
      },
      {
       "output_type": "stream",
       "stream": "stderr",
       "text": [
        "INFO:FFC:Adjusting missing element domain to Domain(Cell('triangle', 2), 'triangle_multiverse', 2, 2).\n"
       ]
      },
      {
       "output_type": "stream",
       "stream": "stderr",
       "text": [
        "INFO:FFC:Adjusting element degree from ? to 2\n"
       ]
      },
      {
       "output_type": "stream",
       "stream": "stderr",
       "text": [
        "INFO:FFC:Adjusting missing element domain to Domain(Cell('triangle', 2), 'triangle_multiverse', 2, 2).\n"
       ]
      },
      {
       "output_type": "stream",
       "stream": "stderr",
       "text": [
        "INFO:FFC:Adjusting element degree from ? to 2\n"
       ]
      },
      {
       "output_type": "stream",
       "stream": "stderr",
       "text": [
        "INFO:FFC:Adjusting missing element domain to Domain(Cell('triangle', 2), 'triangle_multiverse', 2, 2).\n"
       ]
      },
      {
       "output_type": "stream",
       "stream": "stderr",
       "text": [
        "INFO:FFC:Adjusting element degree from ? to 2\n"
       ]
      },
      {
       "output_type": "stream",
       "stream": "stderr",
       "text": [
        "INFO:FFC:Adjusting missing element domain to Domain(Cell('triangle', 2), 'triangle_multiverse', 2, 2).\n"
       ]
      },
      {
       "output_type": "stream",
       "stream": "stderr",
       "text": [
        "INFO:FFC:Adjusting element degree from ? to 2\n"
       ]
      },
      {
       "output_type": "stream",
       "stream": "stderr",
       "text": [
        "INFO:FFC:Adjusting missing element domain to Domain(Cell('triangle', 2), 'triangle_multiverse', 2, 2).\n"
       ]
      },
      {
       "output_type": "stream",
       "stream": "stderr",
       "text": [
        "INFO:FFC:Adjusting element degree from ? to 2\n"
       ]
      },
      {
       "output_type": "stream",
       "stream": "stderr",
       "text": [
        "INFO:FFC:Adjusting missing element domain to Domain(Cell('triangle', 2), 'triangle_multiverse', 2, 2).\n"
       ]
      },
      {
       "output_type": "stream",
       "stream": "stderr",
       "text": [
        "INFO:FFC:Adjusting element degree from ? to 2\n"
       ]
      },
      {
       "output_type": "stream",
       "stream": "stderr",
       "text": [
        "INFO:FFC:Adjusting missing element domain to Domain(Cell('triangle', 2), 'triangle_multiverse', 2, 2).\n"
       ]
      },
      {
       "output_type": "stream",
       "stream": "stderr",
       "text": [
        "INFO:FFC:Adjusting element degree from ? to 2\n"
       ]
      },
      {
       "output_type": "stream",
       "stream": "stderr",
       "text": [
        "INFO:FFC:Adjusting missing element domain to Domain(Cell('triangle', 2), 'triangle_multiverse', 2, 2).\n"
       ]
      },
      {
       "output_type": "stream",
       "stream": "stderr",
       "text": [
        "INFO:FFC:Adjusting element degree from ? to 2\n"
       ]
      },
      {
       "output_type": "stream",
       "stream": "stderr",
       "text": [
        "INFO:FFC:Adjusting missing element domain to Domain(Cell('triangle', 2), 'triangle_multiverse', 2, 2).\n"
       ]
      },
      {
       "output_type": "stream",
       "stream": "stderr",
       "text": [
        "INFO:FFC:Adjusting element degree from ? to 2\n"
       ]
      },
      {
       "output_type": "stream",
       "stream": "stderr",
       "text": [
        "INFO:FFC:Adjusting missing element domain to Domain(Cell('triangle', 2), 'triangle_multiverse', 2, 2).\n"
       ]
      },
      {
       "output_type": "stream",
       "stream": "stderr",
       "text": [
        "INFO:FFC:Adjusting element degree from ? to 2\n"
       ]
      },
      {
       "output_type": "stream",
       "stream": "stderr",
       "text": [
        "INFO:FFC:Adjusting missing element domain to Domain(Cell('triangle', 2), 'triangle_multiverse', 2, 2).\n"
       ]
      },
      {
       "output_type": "stream",
       "stream": "stderr",
       "text": [
        "INFO:FFC:Adjusting element degree from ? to 2\n"
       ]
      },
      {
       "output_type": "stream",
       "stream": "stderr",
       "text": [
        "INFO:FFC:Adjusting missing element domain to Domain(Cell('triangle', 2), 'triangle_multiverse', 2, 2).\n"
       ]
      },
      {
       "output_type": "stream",
       "stream": "stderr",
       "text": [
        "INFO:FFC:Adjusting element degree from ? to 2\n"
       ]
      },
      {
       "output_type": "stream",
       "stream": "stderr",
       "text": [
        "INFO:FFC:Adjusting missing element domain to Domain(Cell('triangle', 2), 'triangle_multiverse', 2, 2).\n"
       ]
      },
      {
       "output_type": "stream",
       "stream": "stderr",
       "text": [
        "INFO:FFC:Adjusting element degree from ? to 2\n"
       ]
      },
      {
       "output_type": "stream",
       "stream": "stderr",
       "text": [
        "DEBUG:UFL:No integrals left after transformation, returning empty form.\n"
       ]
      },
      {
       "output_type": "stream",
       "stream": "stderr",
       "text": [
        "DEBUG:FFC:Reusing form from cache.\n"
       ]
      },
      {
       "output_type": "stream",
       "stream": "stderr",
       "text": [
        "DEBUG:FFC:Reusing form from cache.\n"
       ]
      },
      {
       "output_type": "stream",
       "stream": "stderr",
       "text": [
        "DEBUG:UFL:No integrals left after transformation, returning empty form.\n"
       ]
      },
      {
       "output_type": "stream",
       "stream": "stderr",
       "text": [
        "DEBUG:FFC:Reusing form from cache.\n"
       ]
      },
      {
       "output_type": "stream",
       "stream": "stderr",
       "text": [
        "DEBUG:UFL:No integrals left after transformation, returning empty form.\n"
       ]
      },
      {
       "output_type": "stream",
       "stream": "stderr",
       "text": [
        "DEBUG:FFC:Reusing form from cache.\n"
       ]
      },
      {
       "output_type": "stream",
       "stream": "stdout",
       "text": [
        "\n",
        "1\n",
        "1\n",
        "[ 0.  0.  0.  0.  0.  0.  0.  0.  0.  0.  0.  0.  0.  0.  0.  0.  0.  0.\n",
        "  0.  0.  0.  0.  0.  0.  0.  0.  0.  0.  0.  0.  0.  0.  0.  0.  0.  0.\n",
        "  0.  0.  0.  0.  0.  0.  0.  0.  0.  0.  0.  0.  0.  0.  0.  0.  0.  0.\n",
        "  0.  0.  0.  0.  0.  0.  0.  0.  0.  0.  0.  0.  0.  0.  0.  0.  0.  0.\n",
        "  0.  0.  0.  0.  0.  0.  0.  0.  0.  0.  0.  0.  0.  0.  0.  0.  0.  0.\n",
        "  0.  0.  0.  0.  0.  0.  0.  0.  0.  0.  0.  0.  0.  0.  0.  0.  0.  0.\n",
        "  0.  0.  0.  0.  0.  0.  0.  0.  0.  0.  0.  0.  0.  0.  0.  0.  0.  0.\n",
        "  0.  0.  0.  0.  0.  0.]\n",
        "1"
       ]
      },
      {
       "output_type": "stream",
       "stream": "stderr",
       "text": [
        "DEBUG:UFL:No integrals left after transformation, returning empty form.\n"
       ]
      },
      {
       "output_type": "stream",
       "stream": "stderr",
       "text": [
        "DEBUG:UFL:No integrals left after transformation, returning empty form.\n"
       ]
      },
      {
       "output_type": "stream",
       "stream": "stderr",
       "text": [
        "DEBUG:FFC:Reusing form from cache.\n"
       ]
      },
      {
       "output_type": "stream",
       "stream": "stderr",
       "text": [
        "INFO:FFC:Adjusting missing element domain to Domain(Cell('triangle', 2), 'triangle_multiverse', 2, 2).\n"
       ]
      },
      {
       "output_type": "stream",
       "stream": "stderr",
       "text": [
        "INFO:FFC:Adjusting element degree from ? to 2\n"
       ]
      },
      {
       "output_type": "stream",
       "stream": "stderr",
       "text": [
        "INFO:FFC:Adjusting missing element domain to Domain(Cell('triangle', 2), 'triangle_multiverse', 2, 2).\n"
       ]
      },
      {
       "output_type": "stream",
       "stream": "stderr",
       "text": [
        "INFO:FFC:Adjusting element degree from ? to 2\n"
       ]
      },
      {
       "output_type": "stream",
       "stream": "stderr",
       "text": [
        "INFO:FFC:Adjusting missing element domain to Domain(Cell('triangle', 2), 'triangle_multiverse', 2, 2).\n"
       ]
      },
      {
       "output_type": "stream",
       "stream": "stderr",
       "text": [
        "INFO:FFC:Adjusting element degree from ? to 2\n"
       ]
      },
      {
       "output_type": "stream",
       "stream": "stderr",
       "text": [
        "INFO:FFC:Adjusting missing element domain to Domain(Cell('triangle', 2), 'triangle_multiverse', 2, 2).\n"
       ]
      },
      {
       "output_type": "stream",
       "stream": "stderr",
       "text": [
        "INFO:FFC:Adjusting element degree from ? to 2\n"
       ]
      },
      {
       "output_type": "stream",
       "stream": "stderr",
       "text": [
        "INFO:FFC:Adjusting missing element domain to Domain(Cell('triangle', 2), 'triangle_multiverse', 2, 2).\n"
       ]
      },
      {
       "output_type": "stream",
       "stream": "stderr",
       "text": [
        "INFO:FFC:Adjusting element degree from ? to 2\n"
       ]
      },
      {
       "output_type": "stream",
       "stream": "stderr",
       "text": [
        "INFO:FFC:Adjusting missing element domain to Domain(Cell('triangle', 2), 'triangle_multiverse', 2, 2).\n"
       ]
      },
      {
       "output_type": "stream",
       "stream": "stderr",
       "text": [
        "INFO:FFC:Adjusting element degree from ? to 2\n"
       ]
      },
      {
       "output_type": "stream",
       "stream": "stderr",
       "text": [
        "INFO:FFC:Adjusting missing element domain to Domain(Cell('triangle', 2), 'triangle_multiverse', 2, 2).\n"
       ]
      },
      {
       "output_type": "stream",
       "stream": "stderr",
       "text": [
        "INFO:FFC:Adjusting element degree from ? to 2\n"
       ]
      },
      {
       "output_type": "stream",
       "stream": "stderr",
       "text": [
        "INFO:FFC:Adjusting missing element domain to Domain(Cell('triangle', 2), 'triangle_multiverse', 2, 2).\n"
       ]
      },
      {
       "output_type": "stream",
       "stream": "stderr",
       "text": [
        "INFO:FFC:Adjusting element degree from ? to 2\n"
       ]
      },
      {
       "output_type": "stream",
       "stream": "stderr",
       "text": [
        "INFO:FFC:Adjusting missing element domain to Domain(Cell('triangle', 2), 'triangle_multiverse', 2, 2).\n"
       ]
      },
      {
       "output_type": "stream",
       "stream": "stderr",
       "text": [
        "INFO:FFC:Adjusting element degree from ? to 2\n"
       ]
      },
      {
       "output_type": "stream",
       "stream": "stderr",
       "text": [
        "INFO:FFC:Adjusting missing element domain to Domain(Cell('triangle', 2), 'triangle_multiverse', 2, 2).\n"
       ]
      },
      {
       "output_type": "stream",
       "stream": "stderr",
       "text": [
        "INFO:FFC:Adjusting element degree from ? to 2\n"
       ]
      },
      {
       "output_type": "stream",
       "stream": "stderr",
       "text": [
        "INFO:FFC:Adjusting missing element domain to Domain(Cell('triangle', 2), 'triangle_multiverse', 2, 2).\n"
       ]
      },
      {
       "output_type": "stream",
       "stream": "stderr",
       "text": [
        "INFO:FFC:Adjusting element degree from ? to 2\n"
       ]
      },
      {
       "output_type": "stream",
       "stream": "stderr",
       "text": [
        "INFO:FFC:Adjusting missing element domain to Domain(Cell('triangle', 2), 'triangle_multiverse', 2, 2).\n"
       ]
      },
      {
       "output_type": "stream",
       "stream": "stderr",
       "text": [
        "INFO:FFC:Adjusting element degree from ? to 2\n"
       ]
      },
      {
       "output_type": "stream",
       "stream": "stderr",
       "text": [
        "INFO:FFC:Adjusting missing element domain to Domain(Cell('triangle', 2), 'triangle_multiverse', 2, 2).\n"
       ]
      },
      {
       "output_type": "stream",
       "stream": "stderr",
       "text": [
        "INFO:FFC:Adjusting element degree from ? to 2\n"
       ]
      },
      {
       "output_type": "stream",
       "stream": "stderr",
       "text": [
        "INFO:FFC:Adjusting missing element domain to Domain(Cell('triangle', 2), 'triangle_multiverse', 2, 2).\n"
       ]
      },
      {
       "output_type": "stream",
       "stream": "stderr",
       "text": [
        "INFO:FFC:Adjusting element degree from ? to 2\n"
       ]
      },
      {
       "output_type": "stream",
       "stream": "stderr",
       "text": [
        "INFO:FFC:Adjusting missing element domain to Domain(Cell('triangle', 2), 'triangle_multiverse', 2, 2).\n"
       ]
      },
      {
       "output_type": "stream",
       "stream": "stderr",
       "text": [
        "INFO:FFC:Adjusting element degree from ? to 2\n"
       ]
      },
      {
       "output_type": "stream",
       "stream": "stderr",
       "text": [
        "INFO:FFC:Adjusting missing element domain to Domain(Cell('triangle', 2), 'triangle_multiverse', 2, 2).\n"
       ]
      },
      {
       "output_type": "stream",
       "stream": "stderr",
       "text": [
        "INFO:FFC:Adjusting element degree from ? to 2\n"
       ]
      },
      {
       "output_type": "stream",
       "stream": "stderr",
       "text": [
        "INFO:FFC:Adjusting missing element domain to Domain(Cell('triangle', 2), 'triangle_multiverse', 2, 2).\n"
       ]
      },
      {
       "output_type": "stream",
       "stream": "stderr",
       "text": [
        "INFO:FFC:Adjusting element degree from ? to 2\n"
       ]
      },
      {
       "output_type": "stream",
       "stream": "stderr",
       "text": [
        "INFO:FFC:Adjusting missing element domain to Domain(Cell('triangle', 2), 'triangle_multiverse', 2, 2).\n"
       ]
      },
      {
       "output_type": "stream",
       "stream": "stderr",
       "text": [
        "INFO:FFC:Adjusting element degree from ? to 2\n"
       ]
      },
      {
       "output_type": "stream",
       "stream": "stderr",
       "text": [
        "INFO:FFC:Adjusting missing element domain to Domain(Cell('triangle', 2), 'triangle_multiverse', 2, 2).\n"
       ]
      },
      {
       "output_type": "stream",
       "stream": "stderr",
       "text": [
        "INFO:FFC:Adjusting element degree from ? to 2\n"
       ]
      },
      {
       "output_type": "stream",
       "stream": "stderr",
       "text": [
        "INFO:FFC:Adjusting missing element domain to Domain(Cell('triangle', 2), 'triangle_multiverse', 2, 2).\n"
       ]
      },
      {
       "output_type": "stream",
       "stream": "stderr",
       "text": [
        "INFO:FFC:Adjusting element degree from ? to 2\n"
       ]
      },
      {
       "output_type": "stream",
       "stream": "stderr",
       "text": [
        "INFO:FFC:Adjusting missing element domain to Domain(Cell('triangle', 2), 'triangle_multiverse', 2, 2).\n"
       ]
      },
      {
       "output_type": "stream",
       "stream": "stderr",
       "text": [
        "INFO:FFC:Adjusting element degree from ? to 2\n"
       ]
      },
      {
       "output_type": "stream",
       "stream": "stderr",
       "text": [
        "DEBUG:UFL:No integrals left after transformation, returning empty form.\n"
       ]
      },
      {
       "output_type": "stream",
       "stream": "stderr",
       "text": [
        "DEBUG:FFC:Reusing form from cache.\n"
       ]
      },
      {
       "output_type": "stream",
       "stream": "stderr",
       "text": [
        "DEBUG:FFC:Reusing form from cache.\n"
       ]
      },
      {
       "output_type": "stream",
       "stream": "stderr",
       "text": [
        "DEBUG:UFL:No integrals left after transformation, returning empty form.\n"
       ]
      },
      {
       "output_type": "stream",
       "stream": "stderr",
       "text": [
        "DEBUG:FFC:Reusing form from cache.\n"
       ]
      },
      {
       "output_type": "stream",
       "stream": "stderr",
       "text": [
        "DEBUG:UFL:No integrals left after transformation, returning empty form.\n"
       ]
      },
      {
       "output_type": "stream",
       "stream": "stderr",
       "text": [
        "DEBUG:FFC:Reusing form from cache.\n"
       ]
      },
      {
       "output_type": "stream",
       "stream": "stdout",
       "text": [
        "\n",
        "1\n",
        "1\n",
        "[ 0.  0.  0.  0.  0.  0.  0.  0.  0.  0.  0.  0.  0.  0.  0.  0.  0.  0.\n",
        "  0.  0.  0.  0.  0.  0.  0.  0.  0.  0.  0.  0.  0.  0.  0.  0.  0.  0.\n",
        "  0.  0.  0.  0.  0.  0.  0.  0.  0.  0.  0.  0.  0.  0.  0.  0.  0.  0.\n",
        "  0.  0.  0.  0.  0.  0.  0.  0.  0.  0.  0.  0.  0.  0.  0.  0.  0.  0.\n",
        "  0.  0.  0.  0.  0.  0.  0.  0.  0.  0.  0.  0.  0.  0.  0.  0.  0.  0.\n",
        "  0.  0.  0.  0.  0.  0.  0.  0.  0.  0.  0.  0.  0.  0.  0.  0.  0.  0.\n",
        "  0.  0.  0.  0.  0.  0.  0.  0.  0.  0.  0.  0.  0.  0.  0.  0.  0.  0.\n",
        "  0.  0.  0.  0.  0.  0.]\n",
        "1"
       ]
      },
      {
       "output_type": "stream",
       "stream": "stderr",
       "text": [
        "DEBUG:UFL:No integrals left after transformation, returning empty form.\n"
       ]
      },
      {
       "output_type": "stream",
       "stream": "stderr",
       "text": [
        "DEBUG:UFL:No integrals left after transformation, returning empty form.\n"
       ]
      },
      {
       "output_type": "stream",
       "stream": "stderr",
       "text": [
        "DEBUG:FFC:Reusing form from cache.\n"
       ]
      },
      {
       "output_type": "stream",
       "stream": "stderr",
       "text": [
        "INFO:FFC:Adjusting missing element domain to Domain(Cell('triangle', 2), 'triangle_multiverse', 2, 2).\n"
       ]
      },
      {
       "output_type": "stream",
       "stream": "stderr",
       "text": [
        "INFO:FFC:Adjusting element degree from ? to 2\n"
       ]
      },
      {
       "output_type": "stream",
       "stream": "stderr",
       "text": [
        "INFO:FFC:Adjusting missing element domain to Domain(Cell('triangle', 2), 'triangle_multiverse', 2, 2).\n"
       ]
      },
      {
       "output_type": "stream",
       "stream": "stderr",
       "text": [
        "INFO:FFC:Adjusting element degree from ? to 2\n"
       ]
      },
      {
       "output_type": "stream",
       "stream": "stderr",
       "text": [
        "INFO:FFC:Adjusting missing element domain to Domain(Cell('triangle', 2), 'triangle_multiverse', 2, 2).\n"
       ]
      },
      {
       "output_type": "stream",
       "stream": "stderr",
       "text": [
        "INFO:FFC:Adjusting element degree from ? to 2\n"
       ]
      },
      {
       "output_type": "stream",
       "stream": "stderr",
       "text": [
        "INFO:FFC:Adjusting missing element domain to Domain(Cell('triangle', 2), 'triangle_multiverse', 2, 2).\n"
       ]
      },
      {
       "output_type": "stream",
       "stream": "stderr",
       "text": [
        "INFO:FFC:Adjusting element degree from ? to 2\n"
       ]
      },
      {
       "output_type": "stream",
       "stream": "stderr",
       "text": [
        "INFO:FFC:Adjusting missing element domain to Domain(Cell('triangle', 2), 'triangle_multiverse', 2, 2).\n"
       ]
      },
      {
       "output_type": "stream",
       "stream": "stderr",
       "text": [
        "INFO:FFC:Adjusting element degree from ? to 2\n"
       ]
      },
      {
       "output_type": "stream",
       "stream": "stderr",
       "text": [
        "INFO:FFC:Adjusting missing element domain to Domain(Cell('triangle', 2), 'triangle_multiverse', 2, 2).\n"
       ]
      },
      {
       "output_type": "stream",
       "stream": "stderr",
       "text": [
        "INFO:FFC:Adjusting element degree from ? to 2\n"
       ]
      },
      {
       "output_type": "stream",
       "stream": "stderr",
       "text": [
        "INFO:FFC:Adjusting missing element domain to Domain(Cell('triangle', 2), 'triangle_multiverse', 2, 2).\n"
       ]
      },
      {
       "output_type": "stream",
       "stream": "stderr",
       "text": [
        "INFO:FFC:Adjusting element degree from ? to 2\n"
       ]
      },
      {
       "output_type": "stream",
       "stream": "stderr",
       "text": [
        "INFO:FFC:Adjusting missing element domain to Domain(Cell('triangle', 2), 'triangle_multiverse', 2, 2).\n"
       ]
      },
      {
       "output_type": "stream",
       "stream": "stderr",
       "text": [
        "INFO:FFC:Adjusting element degree from ? to 2\n"
       ]
      },
      {
       "output_type": "stream",
       "stream": "stderr",
       "text": [
        "INFO:FFC:Adjusting missing element domain to Domain(Cell('triangle', 2), 'triangle_multiverse', 2, 2).\n"
       ]
      },
      {
       "output_type": "stream",
       "stream": "stderr",
       "text": [
        "INFO:FFC:Adjusting element degree from ? to 2\n"
       ]
      },
      {
       "output_type": "stream",
       "stream": "stderr",
       "text": [
        "INFO:FFC:Adjusting missing element domain to Domain(Cell('triangle', 2), 'triangle_multiverse', 2, 2).\n"
       ]
      },
      {
       "output_type": "stream",
       "stream": "stderr",
       "text": [
        "INFO:FFC:Adjusting element degree from ? to 2\n"
       ]
      },
      {
       "output_type": "stream",
       "stream": "stderr",
       "text": [
        "INFO:FFC:Adjusting missing element domain to Domain(Cell('triangle', 2), 'triangle_multiverse', 2, 2).\n"
       ]
      },
      {
       "output_type": "stream",
       "stream": "stderr",
       "text": [
        "INFO:FFC:Adjusting element degree from ? to 2\n"
       ]
      },
      {
       "output_type": "stream",
       "stream": "stderr",
       "text": [
        "INFO:FFC:Adjusting missing element domain to Domain(Cell('triangle', 2), 'triangle_multiverse', 2, 2).\n"
       ]
      },
      {
       "output_type": "stream",
       "stream": "stderr",
       "text": [
        "INFO:FFC:Adjusting element degree from ? to 2\n"
       ]
      },
      {
       "output_type": "stream",
       "stream": "stderr",
       "text": [
        "INFO:FFC:Adjusting missing element domain to Domain(Cell('triangle', 2), 'triangle_multiverse', 2, 2).\n"
       ]
      },
      {
       "output_type": "stream",
       "stream": "stderr",
       "text": [
        "INFO:FFC:Adjusting element degree from ? to 2\n"
       ]
      },
      {
       "output_type": "stream",
       "stream": "stderr",
       "text": [
        "INFO:FFC:Adjusting missing element domain to Domain(Cell('triangle', 2), 'triangle_multiverse', 2, 2).\n"
       ]
      },
      {
       "output_type": "stream",
       "stream": "stderr",
       "text": [
        "INFO:FFC:Adjusting element degree from ? to 2\n"
       ]
      },
      {
       "output_type": "stream",
       "stream": "stderr",
       "text": [
        "INFO:FFC:Adjusting missing element domain to Domain(Cell('triangle', 2), 'triangle_multiverse', 2, 2).\n"
       ]
      },
      {
       "output_type": "stream",
       "stream": "stderr",
       "text": [
        "INFO:FFC:Adjusting element degree from ? to 2\n"
       ]
      },
      {
       "output_type": "stream",
       "stream": "stderr",
       "text": [
        "INFO:FFC:Adjusting missing element domain to Domain(Cell('triangle', 2), 'triangle_multiverse', 2, 2).\n"
       ]
      },
      {
       "output_type": "stream",
       "stream": "stderr",
       "text": [
        "INFO:FFC:Adjusting element degree from ? to 2\n"
       ]
      },
      {
       "output_type": "stream",
       "stream": "stderr",
       "text": [
        "INFO:FFC:Adjusting missing element domain to Domain(Cell('triangle', 2), 'triangle_multiverse', 2, 2).\n"
       ]
      },
      {
       "output_type": "stream",
       "stream": "stderr",
       "text": [
        "INFO:FFC:Adjusting element degree from ? to 2\n"
       ]
      },
      {
       "output_type": "stream",
       "stream": "stderr",
       "text": [
        "INFO:FFC:Adjusting missing element domain to Domain(Cell('triangle', 2), 'triangle_multiverse', 2, 2).\n"
       ]
      },
      {
       "output_type": "stream",
       "stream": "stderr",
       "text": [
        "INFO:FFC:Adjusting element degree from ? to 2\n"
       ]
      },
      {
       "output_type": "stream",
       "stream": "stderr",
       "text": [
        "INFO:FFC:Adjusting missing element domain to Domain(Cell('triangle', 2), 'triangle_multiverse', 2, 2).\n"
       ]
      },
      {
       "output_type": "stream",
       "stream": "stderr",
       "text": [
        "INFO:FFC:Adjusting element degree from ? to 2\n"
       ]
      },
      {
       "output_type": "stream",
       "stream": "stderr",
       "text": [
        "INFO:FFC:Adjusting missing element domain to Domain(Cell('triangle', 2), 'triangle_multiverse', 2, 2).\n"
       ]
      },
      {
       "output_type": "stream",
       "stream": "stderr",
       "text": [
        "INFO:FFC:Adjusting element degree from ? to 2\n"
       ]
      },
      {
       "output_type": "stream",
       "stream": "stderr",
       "text": [
        "INFO:FFC:Adjusting missing element domain to Domain(Cell('triangle', 2), 'triangle_multiverse', 2, 2).\n"
       ]
      },
      {
       "output_type": "stream",
       "stream": "stderr",
       "text": [
        "INFO:FFC:Adjusting element degree from ? to 2\n"
       ]
      },
      {
       "output_type": "stream",
       "stream": "stderr",
       "text": [
        "DEBUG:UFL:No integrals left after transformation, returning empty form.\n"
       ]
      },
      {
       "output_type": "stream",
       "stream": "stderr",
       "text": [
        "DEBUG:FFC:Reusing form from cache.\n"
       ]
      },
      {
       "output_type": "stream",
       "stream": "stderr",
       "text": [
        "DEBUG:FFC:Reusing form from cache.\n"
       ]
      },
      {
       "output_type": "stream",
       "stream": "stderr",
       "text": [
        "DEBUG:UFL:No integrals left after transformation, returning empty form.\n"
       ]
      },
      {
       "output_type": "stream",
       "stream": "stderr",
       "text": [
        "DEBUG:FFC:Reusing form from cache.\n"
       ]
      },
      {
       "output_type": "stream",
       "stream": "stderr",
       "text": [
        "DEBUG:UFL:No integrals left after transformation, returning empty form.\n"
       ]
      },
      {
       "output_type": "stream",
       "stream": "stderr",
       "text": [
        "DEBUG:FFC:Reusing form from cache.\n"
       ]
      },
      {
       "output_type": "stream",
       "stream": "stdout",
       "text": [
        "\n",
        "1\n",
        "1\n",
        "[ 0.  0.  0.  0.  0.  0.  0.  0.  0.  0.  0.  0.  0.  0.  0.  0.  0.  0.\n",
        "  0.  0.  0.  0.  0.  0.  0.  0.  0.  0.  0.  0.  0.  0.  0.  0.  0.  0.\n",
        "  0.  0.  0.  0.  0.  0.  0.  0.  0.  0.  0.  0.  0.  0.  0.  0.  0.  0.\n",
        "  0.  0.  0.  0.  0.  0.  0.  0.  0.  0.  0.  0.  0.  0.  0.  0.  0.  0.\n",
        "  0.  0.  0.  0.  0.  0.  0.  0.  0.  0.  0.  0.  0.  0.  0.  0.  0.  0.\n",
        "  0.  0.  0.  0.  0.  0.  0.  0.  0.  0.  0.  0.  0.  0.  0.  0.  0.  0.\n",
        "  0.  0.  0.  0.  0.  0.  0.  0.  0.  0.  0.  0.  0.  0.  0.  0.  0.  0.\n",
        "  0.  0.  0.  0.  0.  0.]\n",
        "1"
       ]
      },
      {
       "output_type": "stream",
       "stream": "stdout",
       "text": [
        "\n",
        "1\n",
        "1\n",
        "[ 0.  0.  0.  0.  0.  0.  0.  0.  0.  0.  0.  0.  0.  0.  0.  0.  0.  0.\n",
        "  0.  0.  0.  0.  0.  0.  0.  0.  0.  0.  0.  0.  0.  0.  0.  0.  0.  0.\n",
        "  0.  0.  0.  0.  0.  0.  0.  0.  0.  0.  0.  0.  0.  0.  0.  0.  0.  0.\n",
        "  0.  0.  0.  0.  0.  0.  0.  0.  0.  0.  0.  0.  0.  0.  0.  0.  0.  0.\n",
        "  0.  0.  0.  0.  0.  0.  0.  0.  0.  0.  0.  0.  0.  0.  0.  0.  0.  0.\n",
        "  0.  0.  0.  0.  0.  0.  0.  0.  0.  0.  0.  0.  0.  0.  0.  0.  0.  0.\n",
        "  0.  0.  0.  0.  0.  0.  0.  0.  0.  0.  0.  0.  0.  0.  0.  0.  0.  0.\n",
        "  0.  0.  0.  0.  0.  0.]\n"
       ]
      }
     ],
     "prompt_number": 1
    },
    {
     "cell_type": "code",
     "collapsed": false,
     "input": [
      "Mass = IO.matToSparse(Mass)\n",
      "Mass.tocsc()\n",
      "import scipy.sparse as sp"
     ],
     "language": "python",
     "metadata": {},
     "outputs": [],
     "prompt_number": 36
    },
    {
     "cell_type": "code",
     "collapsed": false,
     "input": [
      "Schur = sp.rand(Mass.shape[0], Mass.shape[0], density=0.00, format='csr')\n",
      "ksp = PETSc.KSP().create()\n",
      "pc = ksp.getPC()\n",
      "ksp.setOperators(F,F)\n",
      "ksp.setType('gmres')\n",
      "pc.setType('hypre')\n",
      "for i in range(0,Mass.shape[0]):\n",
      "    Col = Mass.getcol(i)\n",
      "    Col = Col.toarray()\n",
      "    Col = IO.arrayToVec(Col)\n",
      "    u = Col.duplicate()\n",
      "    ksp.solve(Col,u)\n",
      "    Col = L*u\n",
      "    Schur[i,:] = Col\n",
      "\n",
      "Schur = Schur.transpose()\n",
      "# Schur = PETSc.Mat().createAIJ(size=Schur.transpose().shape,csr=(Schur.transpose().indptr, Schur.transpose().indices, Schur.transpose().data))    "
     ],
     "language": "python",
     "metadata": {},
     "outputs": [],
     "prompt_number": 44
    },
    {
     "cell_type": "code",
     "collapsed": false,
     "input": [
      "Schur[np.array([0.0,1.0],dtype='int32'),np.array([0.0,1.0],dtype='int32')]=np.array([0.0,1.0])"
     ],
     "language": "python",
     "metadata": {},
     "outputs": [],
     "prompt_number": 38
    },
    {
     "cell_type": "code",
     "collapsed": false,
     "input": [
      "P = IO.matToSparse(P)"
     ],
     "language": "python",
     "metadata": {},
     "outputs": [
      {
       "ename": "AttributeError",
       "evalue": "getValuesCSR not found",
       "output_type": "pyerr",
       "traceback": [
        "\u001b[1;31m---------------------------------------------------------------------------\u001b[0m\n\u001b[1;31mAttributeError\u001b[0m                            Traceback (most recent call last)",
        "\u001b[1;32m<ipython-input-39-3eb565c14271>\u001b[0m in \u001b[0;36m<module>\u001b[1;34m()\u001b[0m\n\u001b[1;32m----> 1\u001b[1;33m \u001b[0mP\u001b[0m \u001b[1;33m=\u001b[0m \u001b[0mIO\u001b[0m\u001b[1;33m.\u001b[0m\u001b[0mmatToSparse\u001b[0m\u001b[1;33m(\u001b[0m\u001b[0mP\u001b[0m\u001b[1;33m)\u001b[0m\u001b[1;33m\u001b[0m\u001b[0m\n\u001b[0m",
        "\u001b[1;32m/home/mwathen/Dropbox/MastersResearch/MHD/FEniCS/Classes/PETScIO.pyc\u001b[0m in \u001b[0;36mmatToSparse\u001b[1;34m(mat)\u001b[0m\n\u001b[0;32m    123\u001b[0m     \u001b[1;32mimport\u001b[0m \u001b[0mscipy\u001b[0m\u001b[1;33m.\u001b[0m\u001b[0msparse\u001b[0m \u001b[1;32mas\u001b[0m \u001b[0msparse\u001b[0m\u001b[1;33m\u001b[0m\u001b[0m\n\u001b[0;32m    124\u001b[0m \u001b[1;33m\u001b[0m\u001b[0m\n\u001b[1;32m--> 125\u001b[1;33m     \u001b[0mdata\u001b[0m \u001b[1;33m=\u001b[0m \u001b[0mmat\u001b[0m\u001b[1;33m.\u001b[0m\u001b[0mgetValuesCSR\u001b[0m\u001b[1;33m(\u001b[0m\u001b[1;33m)\u001b[0m\u001b[1;33m\u001b[0m\u001b[0m\n\u001b[0m\u001b[0;32m    126\u001b[0m \u001b[1;33m\u001b[0m\u001b[0m\n\u001b[0;32m    127\u001b[0m     \u001b[1;33m(\u001b[0m\u001b[0mIstart\u001b[0m\u001b[1;33m,\u001b[0m\u001b[0mIend\u001b[0m\u001b[1;33m)\u001b[0m \u001b[1;33m=\u001b[0m \u001b[0mmat\u001b[0m\u001b[1;33m.\u001b[0m\u001b[0mgetOwnershipRange\u001b[0m\u001b[1;33m(\u001b[0m\u001b[1;33m)\u001b[0m\u001b[1;33m\u001b[0m\u001b[0m\n",
        "\u001b[1;32m/usr/local/lib/python2.7/dist-packages/scipy/sparse/base.pyc\u001b[0m in \u001b[0;36m__getattr__\u001b[1;34m(self, attr)\u001b[0m\n\u001b[0;32m    438\u001b[0m             \u001b[1;32mreturn\u001b[0m \u001b[0mself\u001b[0m\u001b[1;33m.\u001b[0m\u001b[0mgetnnz\u001b[0m\u001b[1;33m(\u001b[0m\u001b[1;33m)\u001b[0m\u001b[1;33m\u001b[0m\u001b[0m\n\u001b[0;32m    439\u001b[0m         \u001b[1;32melse\u001b[0m\u001b[1;33m:\u001b[0m\u001b[1;33m\u001b[0m\u001b[0m\n\u001b[1;32m--> 440\u001b[1;33m             \u001b[1;32mraise\u001b[0m \u001b[0mAttributeError\u001b[0m\u001b[1;33m(\u001b[0m\u001b[0mattr\u001b[0m \u001b[1;33m+\u001b[0m \u001b[1;34m\" not found\"\u001b[0m\u001b[1;33m)\u001b[0m\u001b[1;33m\u001b[0m\u001b[0m\n\u001b[0m\u001b[0;32m    441\u001b[0m \u001b[1;33m\u001b[0m\u001b[0m\n\u001b[0;32m    442\u001b[0m     \u001b[1;32mdef\u001b[0m \u001b[0mtranspose\u001b[0m\u001b[1;33m(\u001b[0m\u001b[0mself\u001b[0m\u001b[1;33m)\u001b[0m\u001b[1;33m:\u001b[0m\u001b[1;33m\u001b[0m\u001b[0m\n",
        "\u001b[1;31mAttributeError\u001b[0m: getValuesCSR not found"
       ]
      }
     ],
     "prompt_number": 39
    },
    {
     "cell_type": "code",
     "collapsed": false,
     "input": [
      "import matplotlib.pylab as plt\n",
      "plt.spy(P)\n",
      "plt.show()"
     ],
     "language": "python",
     "metadata": {},
     "outputs": [],
     "prompt_number": 40
    },
    {
     "cell_type": "code",
     "collapsed": false,
     "input": [
      "P = P.tocsr()\n",
      "P[Velocity.dim():Velocity.dim()+Pressure.dim(),Velocity.dim():Velocity.dim()+Pressure.dim()]  = Schur"
     ],
     "language": "python",
     "metadata": {},
     "outputs": [],
     "prompt_number": 45
    },
    {
     "cell_type": "code",
     "collapsed": false,
     "input": [
      "plt.spy(P)\n",
      "plt.show()"
     ],
     "language": "python",
     "metadata": {},
     "outputs": [],
     "prompt_number": 46
    }
   ],
   "metadata": {}
  }
 ]
}
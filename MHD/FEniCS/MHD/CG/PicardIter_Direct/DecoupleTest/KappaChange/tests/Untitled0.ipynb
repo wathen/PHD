{
 "metadata": {
  "name": ""
 },
 "nbformat": 3,
 "nbformat_minor": 0,
 "worksheets": [
  {
   "cells": [
    {
     "cell_type": "code",
     "collapsed": false,
     "input": [
      "import pandas as pd"
     ],
     "language": "python",
     "metadata": {},
     "outputs": [],
     "prompt_number": 1
    },
    {
     "cell_type": "code",
     "collapsed": false,
     "input": [
      "ls *"
     ],
     "language": "python",
     "metadata": {},
     "outputs": [
      {
       "output_type": "stream",
       "stream": "stdout",
       "text": [
        "CDmu.py  CD.py  Fullmu.py  Full.py  MDmu.py  MD.py  run  Untitled0.ipynb\r\n",
        "\r\n",
        "Output:\r\n",
        "CDkappatest  CDmutest  Fullkappatest  Fullmutest  MDkappatest  MDmutest\r\n",
        "\r\n",
        "Output1:\r\n"
       ]
      },
      {
       "output_type": "stream",
       "stream": "stdout",
       "text": [
        "CDkappatest  CDmutest  MDmutest\r\n",
        "\r\n",
        "Output2:\r\n"
       ]
      },
      {
       "output_type": "stream",
       "stream": "stdout",
       "text": [
        "CDkappatest  Fullkappatest  MDkappatest  Untitled0.ipynb\r\n",
        "CDmutest     Fullmutest     MDmutest\r\n"
       ]
      }
     ],
     "prompt_number": 2
    },
    {
     "cell_type": "code",
     "collapsed": false,
     "input": [
      "pd.read_csv(\"Output/CDkappatest\") #.to_latex()"
     ],
     "language": "python",
     "metadata": {},
     "outputs": [
      {
       "html": [
        "<div style=\"max-height:1000px;max-width:1500px;overflow:auto;\">\n",
        "<table border=\"1\" class=\"dataframe\">\n",
        "  <thead>\n",
        "    <tr style=\"text-align: right;\">\n",
        "      <th></th>\n",
        "      <th>Unnamed: 0</th>\n",
        "      <th>l</th>\n",
        "      <th>DoF</th>\n",
        "      <th>it</th>\n",
        "      <th>it.1</th>\n",
        "      <th>it.2</th>\n",
        "      <th>it.3</th>\n",
        "      <th>it.4</th>\n",
        "      <th>it.5</th>\n",
        "      <th>it.6</th>\n",
        "      <th>it.7</th>\n",
        "      <th>it.8</th>\n",
        "    </tr>\n",
        "  </thead>\n",
        "  <tbody>\n",
        "    <tr>\n",
        "      <th>0</th>\n",
        "      <td> 0</td>\n",
        "      <td> 0</td>\n",
        "      <td>       0</td>\n",
        "      <td>  1</td>\n",
        "      <td>  0.000</td>\n",
        "      <td> 0.0000</td>\n",
        "      <td> 10</td>\n",
        "      <td>  0.000000</td>\n",
        "      <td> 0.000000</td>\n",
        "      <td> 1.000000e+02</td>\n",
        "      <td> 0.000000e+00</td>\n",
        "      <td> 0.000000e+00</td>\n",
        "    </tr>\n",
        "    <tr>\n",
        "      <th>1</th>\n",
        "      <td> 1</td>\n",
        "      <td> 5</td>\n",
        "      <td>   24132</td>\n",
        "      <td> 16</td>\n",
        "      <td> 29.000</td>\n",
        "      <td> 3.4375</td>\n",
        "      <td> 24</td>\n",
        "      <td> 29.000000</td>\n",
        "      <td> 2.416667</td>\n",
        "      <td> 1.000000e+13</td>\n",
        "      <td> 1.740000e-11</td>\n",
        "      <td> 1.300000e-12</td>\n",
        "    </tr>\n",
        "    <tr>\n",
        "      <th>2</th>\n",
        "      <td> 2</td>\n",
        "      <td> 6</td>\n",
        "      <td>   95364</td>\n",
        "      <td> 16</td>\n",
        "      <td> 29.125</td>\n",
        "      <td> 3.4375</td>\n",
        "      <td> 24</td>\n",
        "      <td> 29.250000</td>\n",
        "      <td> 2.416667</td>\n",
        "      <td> 1.000000e+13</td>\n",
        "      <td> 1.800000e-11</td>\n",
        "      <td> 1.300000e-12</td>\n",
        "    </tr>\n",
        "    <tr>\n",
        "      <th>3</th>\n",
        "      <td> 3</td>\n",
        "      <td> 7</td>\n",
        "      <td>  379140</td>\n",
        "      <td> 16</td>\n",
        "      <td> 28.875</td>\n",
        "      <td> 3.5000</td>\n",
        "      <td> 24</td>\n",
        "      <td> 29.166667</td>\n",
        "      <td> 2.500000</td>\n",
        "      <td> 1.000000e+13</td>\n",
        "      <td> 1.820000e-11</td>\n",
        "      <td> 1.300000e-12</td>\n",
        "    </tr>\n",
        "    <tr>\n",
        "      <th>4</th>\n",
        "      <td> 4</td>\n",
        "      <td> 8</td>\n",
        "      <td> 1511940</td>\n",
        "      <td> 16</td>\n",
        "      <td> 28.500</td>\n",
        "      <td> 3.5625</td>\n",
        "      <td> 24</td>\n",
        "      <td> 29.166667</td>\n",
        "      <td> 2.541667</td>\n",
        "      <td> 1.000000e+13</td>\n",
        "      <td> 1.780000e-11</td>\n",
        "      <td> 1.300000e-12</td>\n",
        "    </tr>\n",
        "  </tbody>\n",
        "</table>\n",
        "</div>"
       ],
       "metadata": {},
       "output_type": "pyout",
       "prompt_number": 19,
       "text": [
        "   Unnamed: 0  l      DoF  it    it.1    it.2  it.3       it.4      it.5          it.6          it.7          it.8\n",
        "0           0  0        0   1   0.000  0.0000    10   0.000000  0.000000  1.000000e+02  0.000000e+00  0.000000e+00\n",
        "1           1  5    24132  16  29.000  3.4375    24  29.000000  2.416667  1.000000e+13  1.740000e-11  1.300000e-12\n",
        "2           2  6    95364  16  29.125  3.4375    24  29.250000  2.416667  1.000000e+13  1.800000e-11  1.300000e-12\n",
        "3           3  7   379140  16  28.875  3.5000    24  29.166667  2.500000  1.000000e+13  1.820000e-11  1.300000e-12\n",
        "4           4  8  1511940  16  28.500  3.5625    24  29.166667  2.541667  1.000000e+13  1.780000e-11  1.300000e-12"
       ]
      }
     ],
     "prompt_number": 19
    }
   ],
   "metadata": {}
  }
 ]
}
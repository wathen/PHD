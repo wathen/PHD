{
 "metadata": {
  "name": "",
  "signature": "sha256:7ca7db8709dcc513bf519d9ec658c353f2c6b3326b7dac83baa95b8d9a11da7b"
 },
 "nbformat": 3,
 "nbformat_minor": 0,
 "worksheets": [
  {
   "cells": [
    {
     "cell_type": "code",
     "collapsed": false,
     "input": [
      "import MatrixOperations\n",
      "import DirectOperations\n",
      "import os\n",
      "import sys\n",
      "import subprocess"
     ],
     "language": "python",
     "metadata": {},
     "outputs": [],
     "prompt_number": 2
    },
    {
     "cell_type": "code",
     "collapsed": false,
     "input": [
      "MatrixOperations.__file__\n"
     ],
     "language": "python",
     "metadata": {},
     "outputs": [
      {
       "metadata": {},
       "output_type": "pyout",
       "prompt_number": 4,
       "text": [
        "'/Users/michaelwathen/Dropbox/MastersResearch/MHD/FEniCS/Classes/MatrixOperations.py'"
       ]
      }
     ],
     "prompt_number": 4
    },
    {
     "cell_type": "code",
     "collapsed": false,
     "input": [
      "mkdir = \"mkdir Files\"  \n",
      "cp = \"cp \"+MatrixOperations.__file__+\" Files\"\n",
      "tar = \"tar -zcvf Files.tar.gz Files/ \"\n",
      "\n",
      "process = subprocess.Popen(mkdir.split(), stdout=subprocess.PIPE)\n",
      "output = process.communicate()[0]\n",
      "process = subprocess.Popen(cd.split(), stdout=subprocess.PIPE)\n",
      "output = process.communicate()[0]\n",
      "process = subprocess.Popen(tar.split(), stdout=subprocess.PIPE)\n",
      "output = process.communicate()[0]\n",
      "\n"
     ],
     "language": "python",
     "metadata": {},
     "outputs": [],
     "prompt_number": 18
    },
    {
     "cell_type": "code",
     "collapsed": false,
     "input": [
      "def Modules(mod):\n",
      "    mkdir = \"mkdir Files\"\n",
      "    process = subprocess.Popen(mkdir.split(), stdout=subprocess.PIPE)\n",
      "    output = process.communicate()[0]\n",
      "    for modules in mod:\n",
      "        cp = \"cp \"+modules.__file__+\" Files\"\n",
      "        process = subprocess.Popen(cd.split(), stdout=subprocess.PIPE)\n",
      "        output = process.communicate()[0]\n",
      "\n",
      "    tar = \"tar -zcvf Files.tar.gz Files/ \"\n",
      "    process = subprocess.Popen(tar.split(), stdout=subprocess.PIPE)\n",
      "    output = process.communicate()[0]\n",
      "    \n",
      "    rm = \"rm -rf Files \"\n",
      "    process = subprocess.Popen(rm.split(), stdout=subprocess.PIPE)\n",
      "    output = process.communicate()[0]\n",
      "    \n",
      "      \n"
     ],
     "language": "python",
     "metadata": {},
     "outputs": []
    }
   ],
   "metadata": {}
  }
 ]
}
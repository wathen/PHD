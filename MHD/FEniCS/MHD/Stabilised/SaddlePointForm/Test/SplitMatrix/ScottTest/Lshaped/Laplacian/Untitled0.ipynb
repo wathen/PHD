{
 "metadata": {
  "name": "",
  "signature": "sha256:119259f4d081480a8573e02ab55db4aaa640c2e4a02d7ba37315c95d15450437"
 },
 "nbformat": 3,
 "nbformat_minor": 0,
 "worksheets": [
  {
   "cells": [
    {
     "cell_type": "code",
     "collapsed": false,
     "input": [
      "import petsc4py\n",
      "import sys\n",
      "\n",
      "petsc4py.init(sys.argv)\n",
      "\n",
      "from petsc4py import PETSc\n",
      "import mshr\n",
      "from dolfin import *\n",
      "import sympy as sy\n",
      "import numpy as np\n",
      "import ExactSol\n",
      "import MatrixOperations as MO\n",
      "import CheckPetsc4py as CP\n",
      "\n",
      "n = 4\n",
      "# domain = mshr.Rectangle(Point(-1., -1.), Point(1., 1.)) - mshr.Rectangle(Point(0., -1.), Point(1., 0.) )\n",
      "# mesh = mshr.generate_mesh(domain, n)\n",
      "mesh = RectangleMesh(-1,-1,1,1,n,n, 'crossed')\n",
      "cell_f = CellFunction('size_t', mesh, 0)\n",
      "for cell in cells(mesh):\n",
      "    v = cell.get_vertex_coordinates()\n",
      "    y = v[np.arange(0,6,2)]\n",
      "    x = v[np.arange(1,6,2)]\n",
      "    xone = np.ones(3)\n",
      "    xone[x > 0] = 0\n",
      "    yone = np.ones(3)\n",
      "    yone[y < 0] = 0\n",
      "    if np.sum(xone)+ np.sum(yone)>5.5:\n",
      "        cell_f[cell] = 1\n",
      "mesh = SubMesh(mesh, cell_f, 0)\n"
     ],
     "language": "python",
     "metadata": {},
     "outputs": [],
     "prompt_number": 5
    },
    {
     "cell_type": "code",
     "collapsed": false,
     "input": [
      "plot(mesh)"
     ],
     "language": "python",
     "metadata": {},
     "outputs": [
      {
       "metadata": {},
       "output_type": "pyout",
       "prompt_number": 6,
       "text": [
        "<dolfin.cpp.io.VTKPlotter; proxy of <Swig Object of type 'std::shared_ptr< dolfin::VTKPlotter > *' at 0x113e21e70> >"
       ]
      }
     ],
     "prompt_number": 6
    },
    {
     "cell_type": "code",
     "collapsed": false,
     "input": [],
     "language": "python",
     "metadata": {},
     "outputs": []
    }
   ],
   "metadata": {}
  }
 ]
}
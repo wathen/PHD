{
 "metadata": {
  "name": "",
  "signature": "sha256:60c9cc397ca3223e38267e6171caa621187069e89d194e6035a44cc10b1d3251"
 },
 "nbformat": 3,
 "nbformat_minor": 0,
 "worksheets": [
  {
   "cells": [
    {
     "cell_type": "code",
     "collapsed": false,
     "input": [
      "from mshr import *\n",
      "from dolfin import *\n"
     ],
     "language": "python",
     "metadata": {},
     "outputs": [],
     "prompt_number": 3
    },
    {
     "cell_type": "code",
     "collapsed": false,
     "input": [],
     "language": "python",
     "metadata": {},
     "outputs": []
    },
    {
     "cell_type": "code",
     "collapsed": false,
     "input": [
      "# domain = Rectangle(Point(-1., -1.), df.Point(1., 1.)) - Rectangle(df.Point(0., -1.), df.Point(1., 0.) )"
     ],
     "language": "python",
     "metadata": {},
     "outputs": [],
     "prompt_number": 7
    },
    {
     "cell_type": "code",
     "collapsed": false,
     "input": [
      "domain = Rectangle(Point(-1., -1.), Point(1., 1.)) - Rectangle(Point(0., -1.), Point(1., 0.) )\n",
      "mesh = generate_mesh(domain, 10)\n",
      "# df.plot(mesh)"
     ],
     "language": "python",
     "metadata": {},
     "outputs": [],
     "prompt_number": 4
    },
    {
     "cell_type": "code",
     "collapsed": false,
     "input": [
      "class Left(SubDomain):\n",
      "    def inside(self, x, on_boundary):\n",
      "        return near(x[0], -1.0)\n",
      "\n",
      "class Right(SubDomain):\n",
      "    def inside(self, x, on_boundary):\n",
      "        return near(x[0], 1.0)\n",
      "\n",
      "class Bottom(SubDomain):\n",
      "    def inside(self, x, on_boundary):\n",
      "        return near(x[1], -1.0)\n",
      "\n",
      "class Top(SubDomain):\n",
      "    def inside(self, x, on_boundary):\n",
      "        return near(x[1], 1.0)\n",
      "    \n",
      "class CornerTop(SubDomain):\n",
      "    def inside(self, x, on_boundary):\n",
      "        return near(x[1], 0.0)\n",
      "    \n",
      "class CornerLeft(SubDomain):\n",
      "    def inside(self, x, on_boundary):\n",
      "        return near(x[0], 0.0)\n",
      "    \n",
      "left = Left()\n",
      "top = Top()\n",
      "right = Right()\n",
      "bottom = Bottom()\n",
      "cleft = CornerLeft()\n",
      "ctop = CornerTop()\n"
     ],
     "language": "python",
     "metadata": {},
     "outputs": [],
     "prompt_number": 5
    },
    {
     "cell_type": "code",
     "collapsed": false,
     "input": [
      "domains = CellFunction(\"size_t\", mesh)\n",
      "domains.set_all(0)\n",
      "\n",
      "# Initialize mesh function for boundary domains\n",
      "boundaries = FacetFunction(\"size_t\", mesh)\n",
      "boundaries.set_all(0)\n",
      "\n",
      "left.mark(boundaries, 1)\n",
      "top.mark(boundaries, 1)\n",
      "bottom.mark(boundaries, 1)\n",
      "cleft.mark(boundaries, 1)\n",
      "ctop.mark(boundaries, 1)\n",
      "\n",
      "right.mark(boundaries, 2)"
     ],
     "language": "python",
     "metadata": {},
     "outputs": []
    }
   ],
   "metadata": {}
  }
 ]
}
{
 "metadata": {
  "name": "",
  "signature": "sha256:e5e6c9f9fa900d14dfc3ff58215969ed5177dd003daa7eac3cbf3e240cba2ae8"
 },
 "nbformat": 3,
 "nbformat_minor": 0,
 "worksheets": [
  {
   "cells": [
    {
     "cell_type": "code",
     "collapsed": false,
     "input": [
      "import ExactSol\n",
      "from dolfin import *\n",
      "import sympy as sy\n",
      "import mshr\n",
      "n = 2**8\n",
      "domain = mshr.Rectangle(Point(-1., -1.), Point(1., 1.)) - mshr.Rectangle(Point(0., 0.), Point(1., 1.) )\n",
      "mesh = mshr.generate_mesh(domain, n)\n",
      "order = 2\n",
      "Velocity = VectorFunctionSpace(mesh, \"CG\", order)\n",
      "Pressure = FunctionSpace(mesh, \"CG\", order-1)\n",
      "Magnetic = FunctionSpace(mesh, \"N1curl\", order-1)\n",
      "Lagrange = FunctionSpace(mesh, \"CG\", order-1)"
     ],
     "language": "python",
     "metadata": {},
     "outputs": [
      {
       "output_type": "stream",
       "stream": "stderr",
       "text": [
        "DEBUG:FFC:Reusing form from cache.\n"
       ]
      },
      {
       "output_type": "stream",
       "stream": "stderr",
       "text": [
        "DEBUG:FFC:Reusing form from cache.\n"
       ]
      },
      {
       "output_type": "stream",
       "stream": "stderr",
       "text": [
        "DEBUG:FFC:Reusing form from cache.\n"
       ]
      },
      {
       "output_type": "stream",
       "stream": "stderr",
       "text": [
        "DEBUG:FFC:Reusing form from cache.\n"
       ]
      }
     ],
     "prompt_number": 11
    },
    {
     "cell_type": "code",
     "collapsed": false,
     "input": [
      "u0, p0,b0, r0, Laplacian, Advection, gradPres,CurlCurl, gradR, NS_Couple, M_Couple = ExactSol.MHD2D(1,1, mesh)\n",
      "# plot(interpolate(u0, Velocity), prefix='Velocity').write_png()\n",
      "# plot(interpolate(b0, Magnetic), prefix='Magnetic').write_png()\n",
      "plot(interpolate(p0, Pressure),elevate=0.0, prefix='Pressure').write_png()\n",
      "plot(interpolate(r0, Lagrange), elevate=0.0, prefix='Lagrange').write_png()"
     ],
     "language": "python",
     "metadata": {},
     "outputs": [
      {
       "output_type": "stream",
       "stream": "stdout",
       "text": [
        "\n",
        "   >>>>>>>>>>>>>>>>>>>>>>>>>>\n",
        "     MHD 2D Exact Solution:\n",
        "   >>>>>>>>>>>>>>>>>>>>>>>>>>\n",
        "\n",
        " ----------------------\n",
        "   NS Exact Solution:\n",
        " ----------------------\n",
        "  u = ("
       ]
      },
      {
       "output_type": "stream",
       "stream": "stdout",
       "text": [
        " exp(x)*sin(y) , exp(x)*cos(y) )\n",
        "\n",
        "  p = ( sin(x)*cos(y) )\n",
        "\n",
        " ---------------------------\n",
        "   Maxwell Exact Solution:\n",
        " ---------------------------\n",
        "  b = ("
       ]
      },
      {
       "output_type": "stream",
       "stream": "stdout",
       "text": [
        " exp(x + y)*cos(x) , exp(x + y)*sin(x) - exp(x + y)*cos(x) )\n",
        "\n",
        "  p = ( x*sin(2*pi*x)*sin(2*pi*y) )\n",
        "\n"
       ]
      }
     ],
     "prompt_number": 12
    },
    {
     "cell_type": "code",
     "collapsed": false,
     "input": [],
     "language": "python",
     "metadata": {},
     "outputs": []
    },
    {
     "cell_type": "code",
     "collapsed": false,
     "input": [
      "plot(interpolate(u0, Velocity))"
     ],
     "language": "python",
     "metadata": {},
     "outputs": [
      {
       "metadata": {},
       "output_type": "pyout",
       "prompt_number": 10,
       "text": [
        "<dolfin.cpp.io.VTKPlotter; proxy of <Swig Object of type 'std::shared_ptr< dolfin::VTKPlotter > *' at 0x10ee79cf0> >"
       ]
      }
     ],
     "prompt_number": 10
    },
    {
     "cell_type": "code",
     "collapsed": false,
     "input": [
      "\n",
      "x = symbols('x')\n",
      "y = symbols('y')"
     ],
     "language": "python",
     "metadata": {},
     "outputs": [],
     "prompt_number": 3
    },
    {
     "cell_type": "code",
     "collapsed": false,
     "input": [
      "u = sy.sin(x)*sy.exp(y)\n",
      "v = sy.cos(y)*sy.exp(x)\n",
      "p = sy.sin(x)*sy.cos(y)\n",
      "uu = x*y*sy.cos(x)\n",
      "b = sy.diff(uu,y)\n",
      "d = -sy.diff(uu,x)\n",
      "r = x*sy.sin(2*sy.pi*y)*sy.sin(2*sy.pi*x)\n",
      "u0 = Expression((sy.ccode(u),sy.ccode(v)))\n",
      "p0 = Expression(sy.ccode(p))\n",
      "b0 = Expression((sy.ccode(b),sy.ccode(d)))\n",
      "r0 = Expression(sy.ccode(r).replace('M_PI','pi'))"
     ],
     "language": "python",
     "metadata": {},
     "outputs": [
      {
       "output_type": "stream",
       "stream": "stderr",
       "text": [
        "In instant.recompile: The module did not compile with command 'make VERBOSE=1', see '/Users/michaelwathen/.instant/error/dolfin_compile_code_358b32b173ffb19451187b80f23ed4445a12378e/compile.log'\n"
       ]
      },
      {
       "output_type": "stream",
       "stream": "stderr",
       "text": [
        "ERROR:instant:In instant.recompile: The module did not compile with command 'make VERBOSE=1', see '/Users/michaelwathen/.instant/error/dolfin_compile_code_358b32b173ffb19451187b80f23ed4445a12378e/compile.log'\n"
       ]
      },
      {
       "ename": "RuntimeError",
       "evalue": "In instant.recompile: The module did not compile with command 'make VERBOSE=1', see '/Users/michaelwathen/.instant/error/dolfin_compile_code_358b32b173ffb19451187b80f23ed4445a12378e/compile.log'",
       "output_type": "pyerr",
       "traceback": [
        "\u001b[0;31m---------------------------------------------------------------------------\u001b[0m\n\u001b[0;31mRuntimeError\u001b[0m                              Traceback (most recent call last)",
        "\u001b[0;32m<ipython-input-6-65bce1133d72>\u001b[0m in \u001b[0;36m<module>\u001b[0;34m()\u001b[0m\n\u001b[1;32m      6\u001b[0m \u001b[0md\u001b[0m \u001b[0;34m=\u001b[0m \u001b[0;34m-\u001b[0m\u001b[0msy\u001b[0m\u001b[0;34m.\u001b[0m\u001b[0mdiff\u001b[0m\u001b[0;34m(\u001b[0m\u001b[0muu\u001b[0m\u001b[0;34m,\u001b[0m\u001b[0mx\u001b[0m\u001b[0;34m)\u001b[0m\u001b[0;34m\u001b[0m\u001b[0m\n\u001b[1;32m      7\u001b[0m \u001b[0mr\u001b[0m \u001b[0;34m=\u001b[0m \u001b[0mx\u001b[0m\u001b[0;34m*\u001b[0m\u001b[0msy\u001b[0m\u001b[0;34m.\u001b[0m\u001b[0msin\u001b[0m\u001b[0;34m(\u001b[0m\u001b[0;36m2\u001b[0m\u001b[0;34m*\u001b[0m\u001b[0msy\u001b[0m\u001b[0;34m.\u001b[0m\u001b[0mpi\u001b[0m\u001b[0;34m*\u001b[0m\u001b[0my\u001b[0m\u001b[0;34m)\u001b[0m\u001b[0;34m*\u001b[0m\u001b[0msy\u001b[0m\u001b[0;34m.\u001b[0m\u001b[0msin\u001b[0m\u001b[0;34m(\u001b[0m\u001b[0;36m2\u001b[0m\u001b[0;34m*\u001b[0m\u001b[0msy\u001b[0m\u001b[0;34m.\u001b[0m\u001b[0mpi\u001b[0m\u001b[0;34m*\u001b[0m\u001b[0mx\u001b[0m\u001b[0;34m)\u001b[0m\u001b[0;34m\u001b[0m\u001b[0m\n\u001b[0;32m----> 8\u001b[0;31m \u001b[0mu0\u001b[0m \u001b[0;34m=\u001b[0m \u001b[0mExpression\u001b[0m\u001b[0;34m(\u001b[0m\u001b[0;34m(\u001b[0m\u001b[0msy\u001b[0m\u001b[0;34m.\u001b[0m\u001b[0mccode\u001b[0m\u001b[0;34m(\u001b[0m\u001b[0mu\u001b[0m\u001b[0;34m)\u001b[0m\u001b[0;34m,\u001b[0m\u001b[0msy\u001b[0m\u001b[0;34m.\u001b[0m\u001b[0mccode\u001b[0m\u001b[0;34m(\u001b[0m\u001b[0mv\u001b[0m\u001b[0;34m)\u001b[0m\u001b[0;34m)\u001b[0m\u001b[0;34m)\u001b[0m\u001b[0;34m\u001b[0m\u001b[0m\n\u001b[0m\u001b[1;32m      9\u001b[0m \u001b[0mp0\u001b[0m \u001b[0;34m=\u001b[0m \u001b[0mExpression\u001b[0m\u001b[0;34m(\u001b[0m\u001b[0msy\u001b[0m\u001b[0;34m.\u001b[0m\u001b[0mccode\u001b[0m\u001b[0;34m(\u001b[0m\u001b[0mp\u001b[0m\u001b[0;34m)\u001b[0m\u001b[0;34m)\u001b[0m\u001b[0;34m\u001b[0m\u001b[0m\n\u001b[1;32m     10\u001b[0m \u001b[0mb0\u001b[0m \u001b[0;34m=\u001b[0m \u001b[0mExpression\u001b[0m\u001b[0;34m(\u001b[0m\u001b[0;34m(\u001b[0m\u001b[0msy\u001b[0m\u001b[0;34m.\u001b[0m\u001b[0mccode\u001b[0m\u001b[0;34m(\u001b[0m\u001b[0mb\u001b[0m\u001b[0;34m)\u001b[0m\u001b[0;34m,\u001b[0m\u001b[0msy\u001b[0m\u001b[0;34m.\u001b[0m\u001b[0mccode\u001b[0m\u001b[0;34m(\u001b[0m\u001b[0md\u001b[0m\u001b[0;34m)\u001b[0m\u001b[0;34m)\u001b[0m\u001b[0;34m)\u001b[0m\u001b[0;34m\u001b[0m\u001b[0m\n",
        "\u001b[0;32m/Users/michaelwathen/.hashdist/bld/profile/2ik4xg6kjxpj/lib/python2.7/site-packages/dolfin/functions/expression.py\u001b[0m in \u001b[0;36m__new__\u001b[0;34m(cls, cppcode, element, cell, domain, degree, name, label, mpi_comm, **kwargs)\u001b[0m\n\u001b[1;32m    600\u001b[0m         cpp_base, members = compile_expressions([cppcode],\n\u001b[1;32m    601\u001b[0m                                                 \u001b[0;34m[\u001b[0m\u001b[0mgeneric_function_members\u001b[0m\u001b[0;34m]\u001b[0m\u001b[0;34m,\u001b[0m\u001b[0;31m \u001b[0m\u001b[0;31m\\\u001b[0m\u001b[0;34m\u001b[0m\u001b[0m\n\u001b[0;32m--> 602\u001b[0;31m                                                 mpi_comm=mpi_comm)\n\u001b[0m\u001b[1;32m    603\u001b[0m         \u001b[0mcpp_base\u001b[0m\u001b[0;34m,\u001b[0m \u001b[0mmembers\u001b[0m \u001b[0;34m=\u001b[0m \u001b[0mcpp_base\u001b[0m\u001b[0;34m[\u001b[0m\u001b[0;36m0\u001b[0m\u001b[0;34m]\u001b[0m\u001b[0;34m,\u001b[0m \u001b[0mmembers\u001b[0m\u001b[0;34m[\u001b[0m\u001b[0;36m0\u001b[0m\u001b[0;34m]\u001b[0m\u001b[0;34m\u001b[0m\u001b[0m\n\u001b[1;32m    604\u001b[0m \u001b[0;34m\u001b[0m\u001b[0m\n",
        "\u001b[0;32m/Users/michaelwathen/.hashdist/bld/profile/2ik4xg6kjxpj/lib/python2.7/site-packages/dolfin/compilemodules/expressions.py\u001b[0m in \u001b[0;36mcompile_expressions\u001b[0;34m(cppargs, generic_function_members, mpi_comm)\u001b[0m\n\u001b[1;32m    215\u001b[0m         \u001b[0mcode_snippets\u001b[0m\u001b[0;34m)\u001b[0m\u001b[0;34m,\u001b[0m \u001b[0mclassnames\u001b[0m\u001b[0;34m,\u001b[0m \u001b[0madditional_declarations\u001b[0m\u001b[0;34m=\u001b[0m\u001b[0;34m\"\\n\"\u001b[0m\u001b[0;34m.\u001b[0m\u001b[0mjoin\u001b[0m\u001b[0;34m(\u001b[0m\u001b[0;31m\\\u001b[0m\u001b[0;34m\u001b[0m\u001b[0m\n\u001b[1;32m    216\u001b[0m                                                      additional_declarations),\n\u001b[0;32m--> 217\u001b[0;31m                                                  mpi_comm=mpi_comm)\n\u001b[0m\u001b[1;32m    218\u001b[0m \u001b[0;34m\u001b[0m\u001b[0m\n\u001b[1;32m    219\u001b[0m     \u001b[0;32mreturn\u001b[0m \u001b[0mexpression_classes\u001b[0m\u001b[0;34m,\u001b[0m \u001b[0mall_members\u001b[0m\u001b[0;34m\u001b[0m\u001b[0m\n",
        "\u001b[0;32m/Users/michaelwathen/.hashdist/bld/profile/2ik4xg6kjxpj/lib/python2.7/site-packages/dolfin/compilemodules/expressions.py\u001b[0m in \u001b[0;36mcompile_expression_code\u001b[0;34m(code, classnames, module_name, additional_declarations, mpi_comm)\u001b[0m\n\u001b[1;32m    143\u001b[0m     compiled_module = compile_extension_module(\\\n\u001b[1;32m    144\u001b[0m         \u001b[0mcode\u001b[0m\u001b[0;34m,\u001b[0m \u001b[0madditional_declarations\u001b[0m\u001b[0;34m=\u001b[0m\u001b[0madditional_declarations\u001b[0m\u001b[0;34m,\u001b[0m\u001b[0;31m \u001b[0m\u001b[0;31m\\\u001b[0m\u001b[0;34m\u001b[0m\u001b[0m\n\u001b[0;32m--> 145\u001b[0;31m         mpi_comm=mpi_comm)\n\u001b[0m\u001b[1;32m    146\u001b[0m \u001b[0;34m\u001b[0m\u001b[0m\n\u001b[1;32m    147\u001b[0m     \u001b[0;31m# Get the compiled class\u001b[0m\u001b[0;34m\u001b[0m\u001b[0;34m\u001b[0m\u001b[0m\n",
        "\u001b[0;32m/Users/michaelwathen/.hashdist/bld/profile/2ik4xg6kjxpj/lib/python2.7/site-packages/dolfin/compilemodules/jit.py\u001b[0m in \u001b[0;36mmpi_jit\u001b[0;34m(*args, **kwargs)\u001b[0m\n\u001b[1;32m     62\u001b[0m         \u001b[0;31m# Just call JIT compiler when running in serial\u001b[0m\u001b[0;34m\u001b[0m\u001b[0;34m\u001b[0m\u001b[0m\n\u001b[1;32m     63\u001b[0m         \u001b[0;32mif\u001b[0m \u001b[0mMPI\u001b[0m\u001b[0;34m.\u001b[0m\u001b[0msize\u001b[0m\u001b[0;34m(\u001b[0m\u001b[0mmpi_comm\u001b[0m\u001b[0;34m)\u001b[0m \u001b[0;34m==\u001b[0m \u001b[0;36m1\u001b[0m\u001b[0;34m:\u001b[0m\u001b[0;34m\u001b[0m\u001b[0m\n\u001b[0;32m---> 64\u001b[0;31m             \u001b[0;32mreturn\u001b[0m \u001b[0mlocal_jit\u001b[0m\u001b[0;34m(\u001b[0m\u001b[0;34m*\u001b[0m\u001b[0margs\u001b[0m\u001b[0;34m,\u001b[0m \u001b[0;34m**\u001b[0m\u001b[0mkwargs\u001b[0m\u001b[0;34m)\u001b[0m\u001b[0;34m\u001b[0m\u001b[0m\n\u001b[0m\u001b[1;32m     65\u001b[0m \u001b[0;34m\u001b[0m\u001b[0m\n\u001b[1;32m     66\u001b[0m         \u001b[0;31m# Compile first on process 0\u001b[0m\u001b[0;34m\u001b[0m\u001b[0;34m\u001b[0m\u001b[0m\n",
        "\u001b[0;32m/Users/michaelwathen/.hashdist/bld/profile/2ik4xg6kjxpj/lib/python2.7/site-packages/dolfin/compilemodules/compilemodule.py\u001b[0m in \u001b[0;36mcompile_extension_module\u001b[0;34m(code, module_name, additional_declarations, additional_system_headers, mpi_comm, **instant_kwargs)\u001b[0m\n\u001b[1;32m    456\u001b[0m         \u001b[0mcode\u001b[0m              \u001b[0;34m=\u001b[0m \u001b[0mcode\u001b[0m\u001b[0;34m,\u001b[0m\u001b[0;34m\u001b[0m\u001b[0m\n\u001b[1;32m    457\u001b[0m         \u001b[0madditional_declarations\u001b[0m \u001b[0;34m=\u001b[0m \u001b[0m_additional_declarations\u001b[0m \u001b[0;34m%\u001b[0m \u001b[0mdeclaration_strs\u001b[0m\u001b[0;34m,\u001b[0m\u001b[0;34m\u001b[0m\u001b[0m\n\u001b[0;32m--> 458\u001b[0;31m         **instant_kwargs)\n\u001b[0m\u001b[1;32m    459\u001b[0m \u001b[0;34m\u001b[0m\u001b[0m\n\u001b[1;32m    460\u001b[0m     \u001b[0msys\u001b[0m\u001b[0;34m.\u001b[0m\u001b[0mstdout\u001b[0m\u001b[0;34m.\u001b[0m\u001b[0mflush\u001b[0m\u001b[0;34m(\u001b[0m\u001b[0;34m)\u001b[0m\u001b[0;34m\u001b[0m\u001b[0m\n",
        "\u001b[0;32m/Users/michaelwathen/.hashdist/bld/profile/2ik4xg6kjxpj/lib/python2.7/site-packages/instant/build.pyc\u001b[0m in \u001b[0;36mbuild_module\u001b[0;34m(modulename, source_directory, code, init_code, additional_definitions, additional_declarations, sources, wrap_headers, local_headers, system_headers, include_dirs, library_dirs, libraries, swigargs, swig_include_dirs, cppargs, lddargs, object_files, arrays, generate_interface, generate_setup, cmake_packages, signature, cache_dir)\u001b[0m\n\u001b[1;32m    561\u001b[0m \u001b[0;34m\u001b[0m\u001b[0m\n\u001b[1;32m    562\u001b[0m         \u001b[0;31m# Recompile if necessary\u001b[0m\u001b[0;34m\u001b[0m\u001b[0;34m\u001b[0m\u001b[0m\n\u001b[0;32m--> 563\u001b[0;31m         \u001b[0mrecompile\u001b[0m\u001b[0;34m(\u001b[0m\u001b[0mmodulename\u001b[0m\u001b[0;34m,\u001b[0m \u001b[0mmodule_path\u001b[0m\u001b[0;34m,\u001b[0m \u001b[0mnew_compilation_checksum\u001b[0m\u001b[0;34m,\u001b[0m \u001b[0mbuild_system\u001b[0m\u001b[0;34m)\u001b[0m\u001b[0;34m\u001b[0m\u001b[0m\n\u001b[0m\u001b[1;32m    564\u001b[0m \u001b[0;34m\u001b[0m\u001b[0m\n\u001b[1;32m    565\u001b[0m         \u001b[0;31m# --- Load, cache, and return module\u001b[0m\u001b[0;34m\u001b[0m\u001b[0;34m\u001b[0m\u001b[0m\n",
        "\u001b[0;32m/Users/michaelwathen/.hashdist/bld/profile/2ik4xg6kjxpj/lib/python2.7/site-packages/instant/build.pyc\u001b[0m in \u001b[0;36mrecompile\u001b[0;34m(modulename, module_path, new_compilation_checksum, build_system)\u001b[0m\n\u001b[1;32m    163\u001b[0m                     \u001b[0mos\u001b[0m\u001b[0;34m.\u001b[0m\u001b[0mremove\u001b[0m\u001b[0;34m(\u001b[0m\u001b[0mcompilation_checksum_filename\u001b[0m\u001b[0;34m)\u001b[0m\u001b[0;34m\u001b[0m\u001b[0m\n\u001b[1;32m    164\u001b[0m                 \u001b[0mmsg\u001b[0m \u001b[0;34m=\u001b[0m \u001b[0;34m\"In instant.recompile: The module did not compile with command '%s', see '%s'\"\u001b[0m\u001b[0;34m\u001b[0m\u001b[0m\n\u001b[0;32m--> 165\u001b[0;31m                 \u001b[0minstant_error\u001b[0m\u001b[0;34m(\u001b[0m\u001b[0mmsg\u001b[0m \u001b[0;34m%\u001b[0m \u001b[0;34m(\u001b[0m\u001b[0mcmd\u001b[0m\u001b[0;34m,\u001b[0m \u001b[0mcompile_log_filename_dest\u001b[0m\u001b[0;34m)\u001b[0m\u001b[0;34m)\u001b[0m\u001b[0;34m\u001b[0m\u001b[0m\n\u001b[0m\u001b[1;32m    166\u001b[0m \u001b[0;34m\u001b[0m\u001b[0m\n\u001b[1;32m    167\u001b[0m     \u001b[0;32mfinally\u001b[0m\u001b[0;34m:\u001b[0m\u001b[0;34m\u001b[0m\u001b[0m\n",
        "\u001b[0;32m/Users/michaelwathen/.hashdist/bld/profile/2ik4xg6kjxpj/lib/python2.7/site-packages/instant/output.pyc\u001b[0m in \u001b[0;36minstant_error\u001b[0;34m(*message)\u001b[0m\n\u001b[1;32m     83\u001b[0m     \u001b[0m_log\u001b[0m\u001b[0;34m.\u001b[0m\u001b[0merror\u001b[0m\u001b[0;34m(\u001b[0m\u001b[0;34m*\u001b[0m\u001b[0mmessage\u001b[0m\u001b[0;34m)\u001b[0m\u001b[0;34m\u001b[0m\u001b[0m\n\u001b[1;32m     84\u001b[0m     \u001b[0mtext\u001b[0m \u001b[0;34m=\u001b[0m \u001b[0mmessage\u001b[0m\u001b[0;34m[\u001b[0m\u001b[0;36m0\u001b[0m\u001b[0;34m]\u001b[0m \u001b[0;34m%\u001b[0m \u001b[0mmessage\u001b[0m\u001b[0;34m[\u001b[0m\u001b[0;36m1\u001b[0m\u001b[0;34m:\u001b[0m\u001b[0;34m]\u001b[0m\u001b[0;34m\u001b[0m\u001b[0m\n\u001b[0;32m---> 85\u001b[0;31m     \u001b[0;32mraise\u001b[0m \u001b[0mRuntimeError\u001b[0m\u001b[0;34m(\u001b[0m\u001b[0mtext\u001b[0m\u001b[0;34m)\u001b[0m\u001b[0;34m\u001b[0m\u001b[0m\n\u001b[0m\u001b[1;32m     86\u001b[0m \u001b[0;34m\u001b[0m\u001b[0m\n\u001b[1;32m     87\u001b[0m \u001b[0;32mdef\u001b[0m \u001b[0minstant_assert\u001b[0m\u001b[0;34m(\u001b[0m\u001b[0mcondition\u001b[0m\u001b[0;34m,\u001b[0m \u001b[0;34m*\u001b[0m\u001b[0mmessage\u001b[0m\u001b[0;34m)\u001b[0m\u001b[0;34m:\u001b[0m\u001b[0;34m\u001b[0m\u001b[0m\n",
        "\u001b[0;31mRuntimeError\u001b[0m: In instant.recompile: The module did not compile with command 'make VERBOSE=1', see '/Users/michaelwathen/.instant/error/dolfin_compile_code_358b32b173ffb19451187b80f23ed4445a12378e/compile.log'"
       ]
      }
     ],
     "prompt_number": 6
    },
    {
     "cell_type": "code",
     "collapsed": false,
     "input": [
      "plot(interpolate(u0, Velocity))\n"
     ],
     "language": "python",
     "metadata": {},
     "outputs": [
      {
       "metadata": {},
       "output_type": "pyout",
       "prompt_number": 4,
       "text": [
        "<dolfin.cpp.io.VTKPlotter; proxy of <Swig Object of type 'std::shared_ptr< dolfin::VTKPlotter > *' at 0x108b375d0> >"
       ]
      }
     ],
     "prompt_number": 4
    }
   ],
   "metadata": {}
  }
 ]
}
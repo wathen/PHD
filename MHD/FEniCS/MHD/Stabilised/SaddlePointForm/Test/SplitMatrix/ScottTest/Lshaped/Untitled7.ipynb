{
 "metadata": {
  "name": "",
  "signature": "sha256:f33b997ed3c3996e6f982c2febf2cb8ce5ebd4e76a45f198120bca76b184e98d"
 },
 "nbformat": 3,
 "nbformat_minor": 0,
 "worksheets": [
  {
   "cells": [
    {
     "cell_type": "code",
     "collapsed": false,
     "input": [
      "import sympy as sy\n",
      "from dolfin import *\n",
      "import numpy as np\n",
      "\n",
      "def polarx(u, rho, phi):\n",
      "    return sy.cos(phi)*sy.diff(u, rho) - (1./rho)*sy.sin(phi)*sy.diff(u, phi)\n",
      "\n",
      "def polary(u, rho, phi):\n",
      "    return sy.sin(phi)*sy.diff(u, rho) + (1./rho)*sy.cos(phi)*sy.diff(u, phi)\n",
      "\n",
      "def polarr(u, x, y):\n",
      "    return (1./sqrt(x**2 + y**2))*(x*sy.diff(u,x)+y*sy.diff(u,y))\n",
      "\n",
      "def polart(u, x, y):\n",
      "    return -y*sy.diff(u,x)+x*sy.diff(u,y)\n",
      "\n",
      "l = 0.54448373678246\n",
      "omega = (3./2)*np.pi\n",
      "\n",
      "z = sy.symbols('z')\n",
      "\n",
      "x = sy.symbols('x[0]')\n",
      "y = sy.symbols('x[1]')\n",
      "rho = sy.sqrt(x**2 + y**2)\n",
      "phi = sy.atan2(y,x)\n",
      "\n",
      "# looked at all the exact solutions and they seems to be the same as the paper.....\n",
      "psi = (sy.sin((1+l)*phi)*sy.cos(l*omega))/(1+l) - sy.cos((1+l)*phi) - (sy.sin((1-l)*phi)*sy.cos(l*omega))/(1-l) + sy.cos((1-l)*phi)\n",
      "\n",
      "psi_prime = polart(psi, x, y)\n",
      "psi_3prime = polart(polart(psi_prime, x, y), x, y)\n",
      "\n",
      "u = rho**l*((1+l)*sy.sin(phi)*psi + sy.cos(phi)*psi_prime)\n",
      "v = rho**l*(-(1+l)*sy.cos(phi)*psi + sy.sin(phi)*psi_prime)\n",
      "\n",
      "uu0 = Expression((sy.ccode(u),sy.ccode(v)))\n",
      "ub0 = Expression((str(sy.ccode(u)).replace('atan2(x[1], x[0])','(atan2(x[1], x[0])+2*pi)'),str(sy.ccode(v)).replace('atan2(x[1], x[0])','(atan2(x[1], x[0])+2*pi)')))\n",
      "\n",
      "p = -rho**(l-1)*((1+l)**2*psi_prime + psi_3prime)/(1-l)\n",
      "pu0 = Expression(sy.ccode(p))\n",
      "pb0 = Expression(str(sy.ccode(p)).replace('atan2(x[1], x[0])','(atan2(x[1], x[0])+2*pi)'))\n",
      "\n",
      "f = rho**(2./3)*sy.sin((2./3)*phi)\n",
      "b = sy.diff(f,x)\n",
      "d = sy.diff(f,y)\n",
      "bu0 = Expression((sy.ccode(b),sy.ccode(d)))\n",
      "bb0 = Expression((str(sy.ccode(b)).replace('atan2(x[1], x[0])','(atan2(x[1], x[0])+2*pi)'),str(sy.ccode(d)).replace('atan2(x[1], x[0])','(atan2(x[1], x[0])+2*pi)')))\n",
      "\n",
      "r = sy.diff(x,y)\n",
      "ru0 = Expression(sy.ccode(r))\n",
      "\n",
      "#Laplacian\n",
      "L1 = sy.diff(u,x,x)+sy.diff(u,y,y)\n",
      "L2 = sy.diff(v,x,x)+sy.diff(v,y,y)\n",
      "\n",
      "A1 = u*sy.diff(u,x)+v*sy.diff(u,y)\n",
      "A2 = u*sy.diff(v,x)+v*sy.diff(v,y)\n",
      "\n",
      "P1 = sy.diff(p,x)\n",
      "P2 = sy.diff(p,y)\n",
      "\n",
      "\n",
      "# Curl-curl\n",
      "C1 = sy.diff(d,x,y) - sy.diff(b,y,y)\n",
      "C2 = sy.diff(b,x,y) - sy.diff(d,x,x)\n",
      "\n",
      "R1 = sy.diff(r,x)\n",
      "R2 = sy.diff(r,y)\n",
      "\n",
      "\n",
      "NS1 = -d*(sy.diff(d,x)-sy.diff(b,y))\n",
      "NS2 = b*(sy.diff(d,x)-sy.diff(b,y))\n",
      "\n",
      "M1 = sy.diff(u*d-v*b,y)\n",
      "M2 = -sy.diff(u*d-v*b,x)\n"
     ],
     "language": "python",
     "metadata": {},
     "outputs": [],
     "prompt_number": 1
    },
    {
     "cell_type": "code",
     "collapsed": false,
     "input": [
      "velocity = open('Solution/velocity.t','w')\n",
      "magnetic = open('Solution/magnetic.t','w')\n",
      "pressure = open('Solution/pressure.t','w')\n",
      "advection = open('Solution/advection.t','w')\n",
      "laplacian = open('Solution/laplacian.t','w')\n",
      "pressureGrad = open('Solution/pressureGrad.t','w')\n",
      "curlcurl = open('Solution/curlcurl.t','w')\n",
      "Mcouple = open('Solution/Mcouple.t','w')\n",
      "NScouple = open('Solution/NScouple.t','w')\n",
      "\n",
      "u = velocity.write(str(sy.ccode(u))+'\\n')\n",
      "v = velocity.write(str(sy.ccode(v))+'\\n')\n",
      "b = magnetic.write(str(sy.ccode(b))+'\\n')\n",
      "d = magnetic.write(str(sy.ccode(d))+'\\n')\n",
      "p = pressure.write(str(sy.ccode(p))+'\\n')\n",
      "\n",
      "L1 = laplacian.write(str(sy.ccode(L1))+'\\n')\n",
      "L2 = laplacian.write(str(sy.ccode(L2))+'\\n')\n",
      "A1 = advection.write(str(sy.ccode(A1))+'\\n')\n",
      "A2 = advection.write(str(sy.ccode(A2))+'\\n')\n",
      "P1 = pressureGrad.write(str(sy.ccode(P1))+'\\n')\n",
      "P2 = pressureGrad.write(str(sy.ccode(P2))+'\\n')\n",
      "\n",
      "C1 = curlcurl.write(str(sy.ccode(C1))+'\\n')\n",
      "C2 = curlcurl.write(str(sy.ccode(C2))+'\\n')\n",
      "M1 = Mcouple.write(str(sy.ccode(M1))+'\\n')\n",
      "M2 = Mcouple.write(str(sy.ccode(M2))+'\\n')\n",
      "NS1 = NScouple.write(str(sy.ccode(NS1))+'\\n')\n",
      "NS2 = NScouple.write(str(sy.ccode(NS2))+'\\n')\n",
      "\n",
      "velocity.close()\n",
      "magnetic.close()\n",
      "pressure.close()\n",
      "advection.close()\n",
      "laplacian.close()\n",
      "pressureGrad.close()\n",
      "curlcurl.close()\n",
      "Mcouple.close()\n",
      "NScouple.close()"
     ],
     "language": "python",
     "metadata": {},
     "outputs": [],
     "prompt_number": 2
    },
    {
     "cell_type": "code",
     "collapsed": false,
     "input": [
      "V1.readline()"
     ],
     "language": "python",
     "metadata": {},
     "outputs": [
      {
       "metadata": {},
       "output_type": "pyout",
       "prompt_number": 23,
       "text": [
        "''"
       ]
      }
     ],
     "prompt_number": 23
    },
    {
     "cell_type": "code",
     "collapsed": false,
     "input": [
      "str(sy.ccode(u))"
     ],
     "language": "python",
     "metadata": {},
     "outputs": [
      {
       "ename": "AttributeError",
       "evalue": "'NoneType' object has no attribute 'is_Atom'",
       "output_type": "pyerr",
       "traceback": [
        "\u001b[0;31m---------------------------------------------------------------------------\u001b[0m\n\u001b[0;31mAttributeError\u001b[0m                            Traceback (most recent call last)",
        "\u001b[0;32m<ipython-input-3-c346650020b0>\u001b[0m in \u001b[0;36m<module>\u001b[0;34m()\u001b[0m\n\u001b[0;32m----> 1\u001b[0;31m \u001b[0mstr\u001b[0m\u001b[0;34m(\u001b[0m\u001b[0msy\u001b[0m\u001b[0;34m.\u001b[0m\u001b[0mccode\u001b[0m\u001b[0;34m(\u001b[0m\u001b[0mu\u001b[0m\u001b[0;34m)\u001b[0m\u001b[0;34m)\u001b[0m\u001b[0;34m\u001b[0m\u001b[0m\n\u001b[0m",
        "\u001b[0;32m/Users/michaelwathen/.hashdist/bld/profile/2ik4xg6kjxpj/lib/python2.7/site-packages/sympy/printing/ccode.pyc\u001b[0m in \u001b[0;36mccode\u001b[0;34m(expr, assign_to, **settings)\u001b[0m\n\u001b[1;32m    277\u001b[0m \u001b[0;34m\u001b[0m\u001b[0m\n\u001b[1;32m    278\u001b[0m     \"\"\"\n\u001b[0;32m--> 279\u001b[0;31m     \u001b[0;32mreturn\u001b[0m \u001b[0mCCodePrinter\u001b[0m\u001b[0;34m(\u001b[0m\u001b[0msettings\u001b[0m\u001b[0;34m)\u001b[0m\u001b[0;34m.\u001b[0m\u001b[0mdoprint\u001b[0m\u001b[0;34m(\u001b[0m\u001b[0mexpr\u001b[0m\u001b[0;34m,\u001b[0m \u001b[0massign_to\u001b[0m\u001b[0;34m)\u001b[0m\u001b[0;34m\u001b[0m\u001b[0m\n\u001b[0m\u001b[1;32m    280\u001b[0m \u001b[0;34m\u001b[0m\u001b[0m\n\u001b[1;32m    281\u001b[0m \u001b[0;34m\u001b[0m\u001b[0m\n",
        "\u001b[0;32m/Users/michaelwathen/.hashdist/bld/profile/2ik4xg6kjxpj/lib/python2.7/site-packages/sympy/printing/ccode.pyc\u001b[0m in \u001b[0;36mdoprint\u001b[0;34m(self, expr, assign_to)\u001b[0m\n\u001b[1;32m     91\u001b[0m                 \u001b[0mlines\u001b[0m\u001b[0;34m.\u001b[0m\u001b[0mappend\u001b[0m\u001b[0;34m(\u001b[0m\u001b[0;34m\"}\"\u001b[0m\u001b[0;34m)\u001b[0m\u001b[0;34m\u001b[0m\u001b[0m\n\u001b[1;32m     92\u001b[0m         \u001b[0;32melse\u001b[0m\u001b[0;34m:\u001b[0m\u001b[0;34m\u001b[0m\u001b[0m\n\u001b[0;32m---> 93\u001b[0;31m             \u001b[0mcode0\u001b[0m \u001b[0;34m=\u001b[0m \u001b[0mself\u001b[0m\u001b[0;34m.\u001b[0m\u001b[0m_doprint_a_piece\u001b[0m\u001b[0;34m(\u001b[0m\u001b[0mexpr\u001b[0m\u001b[0;34m,\u001b[0m \u001b[0massign_to\u001b[0m\u001b[0;34m)\u001b[0m\u001b[0;34m\u001b[0m\u001b[0m\n\u001b[0m\u001b[1;32m     94\u001b[0m             \u001b[0mlines\u001b[0m\u001b[0;34m.\u001b[0m\u001b[0mextend\u001b[0m\u001b[0;34m(\u001b[0m\u001b[0mcode0\u001b[0m\u001b[0;34m)\u001b[0m\u001b[0;34m\u001b[0m\u001b[0m\n\u001b[1;32m     95\u001b[0m \u001b[0;34m\u001b[0m\u001b[0m\n",
        "\u001b[0;32m/Users/michaelwathen/.hashdist/bld/profile/2ik4xg6kjxpj/lib/python2.7/site-packages/sympy/printing/codeprinter.pyc\u001b[0m in \u001b[0;36m_doprint_a_piece\u001b[0;34m(self, expr, assign_to)\u001b[0m\n\u001b[1;32m     45\u001b[0m         \u001b[0;32mfrom\u001b[0m \u001b[0msympy\u001b[0m\u001b[0;34m.\u001b[0m\u001b[0mtensor\u001b[0m \u001b[0;32mimport\u001b[0m \u001b[0mget_contraction_structure\u001b[0m\u001b[0;34m\u001b[0m\u001b[0m\n\u001b[1;32m     46\u001b[0m         \u001b[0;32mif\u001b[0m \u001b[0mself\u001b[0m\u001b[0;34m.\u001b[0m\u001b[0m_settings\u001b[0m\u001b[0;34m.\u001b[0m\u001b[0mget\u001b[0m\u001b[0;34m(\u001b[0m\u001b[0;34m'contract'\u001b[0m\u001b[0;34m,\u001b[0m \u001b[0mTrue\u001b[0m\u001b[0;34m)\u001b[0m\u001b[0;34m:\u001b[0m\u001b[0;34m\u001b[0m\u001b[0m\n\u001b[0;32m---> 47\u001b[0;31m             \u001b[0md\u001b[0m \u001b[0;34m=\u001b[0m \u001b[0mget_contraction_structure\u001b[0m\u001b[0;34m(\u001b[0m\u001b[0mexpr\u001b[0m\u001b[0;34m)\u001b[0m\u001b[0;34m\u001b[0m\u001b[0m\n\u001b[0m\u001b[1;32m     48\u001b[0m         \u001b[0;32melse\u001b[0m\u001b[0;34m:\u001b[0m\u001b[0;34m\u001b[0m\u001b[0m\n\u001b[1;32m     49\u001b[0m             \u001b[0md\u001b[0m \u001b[0;34m=\u001b[0m \u001b[0;34m{\u001b[0m\u001b[0mNone\u001b[0m\u001b[0;34m:\u001b[0m \u001b[0;34m(\u001b[0m\u001b[0mexpr\u001b[0m\u001b[0;34m,\u001b[0m\u001b[0;34m)\u001b[0m\u001b[0;34m}\u001b[0m\u001b[0;34m\u001b[0m\u001b[0m\n",
        "\u001b[0;32m/Users/michaelwathen/.hashdist/bld/profile/2ik4xg6kjxpj/lib/python2.7/site-packages/sympy/tensor/index_methods.pyc\u001b[0m in \u001b[0;36mget_contraction_structure\u001b[0;34m(expr)\u001b[0m\n\u001b[1;32m    374\u001b[0m         \u001b[0mjunk\u001b[0m\u001b[0;34m,\u001b[0m \u001b[0mkey\u001b[0m \u001b[0;34m=\u001b[0m \u001b[0m_remove_repeated\u001b[0m\u001b[0;34m(\u001b[0m\u001b[0mexpr\u001b[0m\u001b[0;34m.\u001b[0m\u001b[0mindices\u001b[0m\u001b[0;34m)\u001b[0m\u001b[0;34m\u001b[0m\u001b[0m\n\u001b[1;32m    375\u001b[0m         \u001b[0;32mreturn\u001b[0m \u001b[0;34m{\u001b[0m\u001b[0mkey\u001b[0m \u001b[0;32mor\u001b[0m \u001b[0mNone\u001b[0m\u001b[0;34m:\u001b[0m \u001b[0mset\u001b[0m\u001b[0;34m(\u001b[0m\u001b[0;34m[\u001b[0m\u001b[0mexpr\u001b[0m\u001b[0;34m]\u001b[0m\u001b[0;34m)\u001b[0m\u001b[0;34m}\u001b[0m\u001b[0;34m\u001b[0m\u001b[0m\n\u001b[0;32m--> 376\u001b[0;31m     \u001b[0;32melif\u001b[0m \u001b[0mexpr\u001b[0m\u001b[0;34m.\u001b[0m\u001b[0mis_Atom\u001b[0m\u001b[0;34m:\u001b[0m\u001b[0;34m\u001b[0m\u001b[0m\n\u001b[0m\u001b[1;32m    377\u001b[0m         \u001b[0;32mreturn\u001b[0m \u001b[0;34m{\u001b[0m\u001b[0mNone\u001b[0m\u001b[0;34m:\u001b[0m \u001b[0mset\u001b[0m\u001b[0;34m(\u001b[0m\u001b[0;34m[\u001b[0m\u001b[0mexpr\u001b[0m\u001b[0;34m]\u001b[0m\u001b[0;34m)\u001b[0m\u001b[0;34m}\u001b[0m\u001b[0;34m\u001b[0m\u001b[0m\n\u001b[1;32m    378\u001b[0m     \u001b[0;32melif\u001b[0m \u001b[0mexpr\u001b[0m\u001b[0;34m.\u001b[0m\u001b[0mis_Mul\u001b[0m\u001b[0;34m:\u001b[0m\u001b[0;34m\u001b[0m\u001b[0m\n",
        "\u001b[0;31mAttributeError\u001b[0m: 'NoneType' object has no attribute 'is_Atom'"
       ]
      }
     ],
     "prompt_number": 3
    },
    {
     "cell_type": "code",
     "collapsed": false,
     "input": [],
     "language": "python",
     "metadata": {},
     "outputs": [],
     "prompt_number": 23
    },
    {
     "cell_type": "code",
     "collapsed": false,
     "input": [],
     "language": "python",
     "metadata": {},
     "outputs": []
    }
   ],
   "metadata": {}
  }
 ]
}
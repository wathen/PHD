{
 "metadata": {
  "name": "",
  "signature": "sha256:97c8d5099cf85c55b1a21c6d7dd7f2b0ff26251a002dc7c731feed20d7c8df86"
 },
 "nbformat": 3,
 "nbformat_minor": 0,
 "worksheets": [
  {
   "cells": [
    {
     "cell_type": "code",
     "collapsed": false,
     "input": [
      "#!/usr/bin/python\n",
      "\n",
      "# interpolate scalar gradient onto nedelec space\n",
      "\n",
      "import petsc4py\n",
      "import sys\n",
      "\n",
      "petsc4py.init(sys.argv)\n",
      "\n",
      "from petsc4py import PETSc\n",
      "from dolfin import *\n",
      "import mshr\n",
      "Print = PETSc.Sys.Print\n",
      "# from MatrixOperations import *\n",
      "import numpy as np\n",
      "import PETScIO as IO\n",
      "import common\n",
      "import scipy\n",
      "import scipy.io\n",
      "import time\n",
      "\n",
      "import BiLinear as forms\n",
      "import IterOperations as Iter\n",
      "import MatrixOperations as MO\n",
      "import CheckPetsc4py as CP\n",
      "import Solver as S\n",
      "import MHDmatrixPrecondSetup as PrecondSetup\n",
      "import NSprecondSetup\n",
      "import MHDprec as MHDpreconditioner\n",
      "import memory_profiler\n",
      "import gc\n",
      "import MHDmulti\n",
      "import MHDmatrixSetup as MHDsetup\n",
      "import HartmanChannel\n",
      "#@profile\n",
      "m = 4\n",
      "\n",
      "set_log_active(False)\n",
      "errL2u =np.zeros((m-1,1))\n",
      "errH1u =np.zeros((m-1,1))\n",
      "errL2p =np.zeros((m-1,1))\n",
      "errL2b =np.zeros((m-1,1))\n",
      "errCurlb =np.zeros((m-1,1))\n",
      "errL2r =np.zeros((m-1,1))\n",
      "errH1r =np.zeros((m-1,1))\n",
      "\n",
      "\n",
      "\n",
      "l2uorder =  np.zeros((m-1,1))\n",
      "H1uorder =np.zeros((m-1,1))\n",
      "l2porder =  np.zeros((m-1,1))\n",
      "l2border =  np.zeros((m-1,1))\n",
      "Curlborder =np.zeros((m-1,1))\n",
      "l2rorder =  np.zeros((m-1,1))\n",
      "H1rorder = np.zeros((m-1,1))\n",
      "\n",
      "NN = np.zeros((m-1,1))\n",
      "DoF = np.zeros((m-1,1))\n",
      "Velocitydim = np.zeros((m-1,1))\n",
      "Magneticdim = np.zeros((m-1,1))\n",
      "Pressuredim = np.zeros((m-1,1))\n",
      "Lagrangedim = np.zeros((m-1,1))\n",
      "Wdim = np.zeros((m-1,1))\n",
      "iterations = np.zeros((m-1,1))\n",
      "SolTime = np.zeros((m-1,1))\n",
      "udiv = np.zeros((m-1,1))\n",
      "MU = np.zeros((m-1,1))\n",
      "level = np.zeros((m-1,1))\n",
      "NSave = np.zeros((m-1,1))\n",
      "Mave = np.zeros((m-1,1))\n",
      "TotalTime = np.zeros((m-1,1))\n",
      "\n",
      "def polarr(u, x, y):\n",
      "    return (1./sqrt(x**2 + y**2))*(x*sy.diff(u,x)+y*sy.diff(u,y))\n",
      "\n",
      "def polart(u, x, y):\n",
      "    return -y*sy.diff(u,x)+x*sy.diff(u,y)\n",
      "\n",
      "\n",
      "nn = 2\n",
      "\n",
      "dim = 2\n",
      "ShowResultPlots = 'yes'\n",
      "split = 'Linear'\n",
      "MU[0]= 1e0\n",
      "for xx in xrange(1,m):\n",
      "    print xx\n",
      "    level[xx-1] = xx\n",
      "    nn = 2**(level[xx-1])\n",
      "\n",
      "\n",
      "\n",
      "    # Create mesh and define function space\n",
      "    nn = int(nn)\n",
      "    NN[xx-1] = nn/2\n",
      "    L = 10\n",
      "    y0 = 2\n",
      "    z0 = 1\n",
      "    mesh, boundaries, domains = HartmanChannel.Domain(nn, L, y0, z0)\n",
      "    # set_log_level(WARNING)\n",
      "\n",
      "    order = 2\n",
      "    parameters['reorder_dofs_serial'] = False\n",
      "    Velocity = VectorFunctionSpace(mesh, \"CG\", order)\n",
      "    Pressure = FunctionSpace(mesh, \"CG\", order-1)\n",
      "    VecPressure = VectorFunctionSpace(mesh, \"CG\", order-1)\n",
      "    Magnetic = FunctionSpace(mesh, \"N1curl\", order-1)\n",
      "    Lagrange = FunctionSpace(mesh, \"CG\", order-1)\n",
      "    W = MixedFunctionSpace([Velocity, Pressure, Magnetic,Lagrange])\n",
      "    # W = Velocity*Pressure*Magnetic*Lagrange\n",
      "    Velocitydim[xx-1] = Velocity.dim()\n",
      "    Pressuredim[xx-1] = Pressure.dim()\n",
      "    Magneticdim[xx-1] = Magnetic.dim()\n",
      "    Lagrangedim[xx-1] = Lagrange.dim()\n",
      "    Wdim[xx-1] = W.dim()\n",
      "    print \"\\n\\nW:  \",Wdim[xx-1],\"Velocity:  \",Velocitydim[xx-1],\"Pressure:  \",Pressuredim[xx-1],\"Magnetic:  \",Magneticdim[xx-1],\"Lagrange:  \",Lagrangedim[xx-1],\"\\n\\n\"\n",
      "    dim = [Velocity.dim(), Pressure.dim(), Magnetic.dim(), Lagrange.dim()]\n",
      "\n",
      "\n",
      "    def boundary(x, on_boundary):\n",
      "        return on_boundary\n",
      "\n",
      "\n",
      "    FSpaces = [Velocity,Pressure,Magnetic,Lagrange]\n",
      "\n",
      "    kappa = 1.0\n",
      "    Mu_m =10.0\n",
      "    MU = 1.0\n",
      "\n",
      "    N = FacetNormal(mesh)\n",
      "    ds = Measure('ds', domain=mesh, subdomain_data=boundaries)\n",
      "\n",
      "    # g = inner(p0*N - MU*grad(u0)*N,v)*dx\n",
      "\n",
      "    IterType = 'Full'\n",
      "    Split = \"No\"\n",
      "    Saddle = \"No\"\n",
      "    Stokes = \"No\"\n",
      "    SetupType = 'python-class'\n",
      "    # F_NS = -MU*Laplacian+Advection+gradPres-kappa*NS_Couple\n",
      "    # if kappa == 0:\n",
      "    #     F_M = Mu_m*CurlCurl+gradR -kappa*M_Couple\n",
      "    # else:\n",
      "    #     F_M = Mu_m*kappa*CurlCurl+gradR -kappa*M_Couple\n",
      "    params = [kappa,Mu_m,MU]\n",
      "\n",
      "    F_M = Expression((\"0.0\",\"0.0\",\"0.0\"))\n",
      "    F_S = Expression((\"0.0\",\"0.0\",\"0.0\"))\n",
      "    n = FacetNormal(mesh)\n",
      "\n",
      "    trunc = 10\n",
      "    u0, b0, pN = HartmanChannel.ExactSol(mesh, params, y0, z0, trunc)\n",
      "\n",
      "    b = Expression((\"0.0\",\"1.0\",\"0.0\"))\n",
      "    r = Expression((\"0.0\"))\n",
      "\n",
      "\n",
      "    u_k = Function(Velocity)\n",
      "    p_k = Function(Pressure)\n",
      "    b_k = Function(Magnetic)\n",
      "    r_k = Function(Lagrange)\n",
      "#     u_k, p_k = HartmanChannel.Stokes(Velocity, Pressure, F_S, F_S, pN, params, boundaries, domains)\n",
      "#     b_k, r_k = HartmanChannel.Maxwell(Magnetic, Lagrange, F_M, b0, r, params, boundaries)\n",
      "\n",
      "    # print u_k.vector().array()\n",
      "    # print p_k.vector().array()\n",
      "    # print b_k.vector().array()\n",
      "    # print r_k.vector().array()\n",
      "    # sss\n",
      "    # bcu = DirichletBC(W.sub(0),u0, boundaries, 1)\n",
      "    # bcb = DirichletBC(W.sub(2),b0, boundaries, 1)\n",
      "    # bcr = DirichletBC(W.sub(3),r0, boundaries, 1)\n",
      "    # print bcu.get_boundary_values()\n",
      "    # print bcb.get_boundary_values()\n",
      "    # print bcr.get_boundary_values()\n",
      "    # ssss\n",
      "\n",
      "    # (u, p, b, r) = TrialFunctions(W)\n",
      "    # (v, q, c, s) = TestFunctions(W)\n",
      "\n",
      "\n",
      "\n",
      "    # m11 = params[1]*params[0]*inner(curl(b),curl(c))*dx\n",
      "    # m21 = inner(c,grad(r))*dx\n",
      "    # m12 = inner(b,grad(s))*dx\n",
      "\n",
      "    # a11 = params[2]*inner(grad(v), grad(u))*dx + inner((grad(u)*u_k),v)*dx + (1./2)*div(u_k)*inner(u,v)*dx - (1./2)*inner(u_k,n)*inner(u,v)*ds\n",
      "    # a12 = -div(v)*p*dx\n",
      "    # a21 = -div(u)*q*dx\n",
      "\n",
      "    # CoupleT = params[0]*(v[0]*b_k[1]-v[1]*b_k[0])*curl(b)*dx\n",
      "    # Couple = -params[0]*(u[0]*b_k[1]-u[1]*b_k[0])*curl(c)*dx\n",
      "\n",
      "    # a = m11 + m12 + m21 + a11 + a21 + a12 + Couple + CoupleT\n",
      "\n",
      "\n",
      "    # Lns  = inner(v, F_NS)*dx + inner(Neumann,v)*ds(2)\n",
      "    # Lmaxwell  = inner(c, F_M)*dx\n",
      "\n",
      "\n",
      "    # m11 = params[1]*params[0]*inner(curl(b_k),curl(c))*dx\n",
      "    # m21 = inner(c,grad(r_k))*dx\n",
      "    # m12 = inner(b_k,grad(s))*dx\n",
      "\n",
      "    # a11 = params[2]*inner(grad(v), grad(u_k))*dx + inner((grad(u_k)*u_k),v)*dx + (1./2)*div(u_k)*inner(u_k,v)*dx - (1./2)*inner(u_k,n)*inner(u_k,v)*ds\n",
      "    # a12 = -div(v)*p_k*dx\n",
      "    # a21 = -div(u_k)*q*dx\n",
      "    # CoupleT = params[0]*(v[0]*b_k[1]-v[1]*b_k[0])*curl(b_k)*dx\n",
      "    # Couple = -params[0]*(u_k[0]*b_k[1]-u_k[1]*b_k[0])*curl(c)*dx\n",
      "\n",
      "    # L = Lns + Lmaxwell - (m11 + m12 + m21 + a11 + a21 + a12 + Couple + CoupleT)\n",
      "\n",
      "\n",
      "    # MO.PrintStr(\"Seting up initial guess matricies\",2,\"=\",\"\\n\\n\",\"\\n\")\n",
      "    # BCtime = time.time()\n",
      "    # BC = MHDsetup.BoundaryIndices(mesh)\n",
      "    # MO.StrTimePrint(\"BC index function, time: \", time.time()-BCtime)\n",
      "    # Hiptmairtol = 1e-6\n",
      "    # HiptmairMatrices = PrecondSetup.MagneticSetup(Magnetic, Lagrange, b0, r0, Hiptmairtol, params)\n",
      "\n",
      "\n",
      "    # MO.PrintStr(\"Setting up MHD initial guess\",5,\"+\",\"\\n\\n\",\"\\n\\n\")\n",
      "    # # u_k,p_k,b_k,r_k = common.InitialGuess(FSpaces,[u0,p0,b0,r0],[F_NS,F_M],params,HiptmairMatrices,1e-10,Neumann=None,options =\"New\")\n",
      "\n",
      "\n",
      "\n",
      "\n",
      "    # ones = Function(Pressure)\n",
      "    # ones.vector()[:]=(0*ones.vector().array()+1)\n",
      "    # # pConst = - assemble(p_k*dx)/assemble(ones*dx)\n",
      "    # # p_k.vector()[:] += - assemble(p_k*dx)/assemble(ones*dx)\n",
      "    # x = Iter.u_prev(u_k,p_k,b_k,r_k)\n",
      "\n",
      "    # KSPlinearfluids, MatrixLinearFluids = PrecondSetup.FluidLinearSetup(Pressure, MU)\n",
      "    # kspFp, Fp = PrecondSetup.FluidNonLinearSetup(Pressure, MU, u_k)\n",
      "    # #plot(b_k)\n",
      "\n",
      "    # # ns,maxwell,CoupleTerm,Lmaxwell,Lns = forms.MHD2D(mesh, W,F_M,F_NS, u_k,b_k,params,IterType,\"CG\",Saddle,Stokes)\n",
      "    # # RHSform = forms.PicardRHS(mesh, W, u_k, p_k, b_k, r_k, params,\"CG\",Saddle,Stokes)\n",
      "\n",
      "    # # bcu = DirichletBC(W.sub(0),Expression((\"0.0\",\"0.0\")), boundaries, 1)\n",
      "    # # bcb = DirichletBC(W.sub(2),Expression((\"0.0\",\"0.0\")), boundaries, 1)\n",
      "    # # bcr = DirichletBC(W.sub(3),Expression((\"0.0\")), boundaries, 1)\n",
      "    # # bcs = [bcu,bcb,bcr]\n",
      "    # IS = MO.IndexSet(W, 'Blocks')\n",
      "\n",
      "    # parameters['linear_algebra_backend'] = 'uBLAS'\n",
      "\n",
      "    # eps = 1.0           # error measure ||u-u_k||\n",
      "    # tol = 1.0E-4     # tolerance\n",
      "    # iter = 0            # iteration counter\n",
      "    # maxiter = 10       # max no of iterations allowed\n",
      "    # SolutionTime = 0\n",
      "    # outer = 0\n",
      "    # # parameters['linear_algebra_backend'] = 'uBLAS'\n",
      "\n",
      "    # # FSpaces = [Velocity,Magnetic,Pressure,Lagrange]\n",
      "\n",
      "    # u_is = PETSc.IS().createGeneral(range(Velocity.dim()))\n",
      "    # NS_is = PETSc.IS().createGeneral(range(Velocity.dim()+Pressure.dim()))\n",
      "    # M_is = PETSc.IS().createGeneral(range(Velocity.dim()+Pressure.dim(),W.dim()))\n",
      "    # OuterTol = 1e-5\n",
      "    # InnerTol = 1e-5\n",
      "    # NSits =0\n",
      "    # Mits =0\n",
      "    # TotalStart =time.time()\n",
      "    # SolutionTime = 0\n",
      "    # while eps > tol  and iter < maxiter:\n",
      "    #     iter += 1\n",
      "    #     MO.PrintStr(\"Iter \"+str(iter),7,\"=\",\"\\n\\n\",\"\\n\\n\")\n",
      "\n",
      "    #     # if iter == 1:\n",
      "    #     #     bcu = DirichletBC(W.sub(0),u0, boundaries, 1)\n",
      "    #     #     bcb = DirichletBC(W.sub(2),b0, boundaries, 1)\n",
      "    #     #     bcr = DirichletBC(W.sub(3),r0, boundaries, 1)\n",
      "    #     #     bcs = [bcu,bcb,bcr]\n",
      "    #     # else:\n",
      "    #     bcu = DirichletBC(W.sub(0),Expression((\"0.0\",\"0.0\")), boundary)\n",
      "    #     bcb = DirichletBC(W.sub(2),Expression((\"0.0\",\"0.0\")), boundary)\n",
      "    #     bcr = DirichletBC(W.sub(3),Expression(\"0.0\"), boundary)\n",
      "    #     bcs = [bcu,bcb,bcr]\n",
      "    #     # if iter == 1:\n",
      "    #     # , L\n",
      "    #     A, b = assemble_system(a, L, bcs)\n",
      "\n",
      "    #     # AA = assemble(a)\n",
      "\n",
      "    #     # bb = assemble(L)\n",
      "\n",
      "    #     # for bc in bcs:\n",
      "    #     #     bc.apply(AA,bb)\n",
      "\n",
      "\n",
      "    #     # print A.sparray().todense()\n",
      "    #     # MO.StoreMatrix(A.sparray(),'name')\n",
      "    #     A, b = CP.Assemble(A,b)\n",
      "    #     u = b.duplicate()\n",
      "    #     # print b.array\n",
      "    #     # ssss\n",
      "    #     # L = assemble(L)\n",
      "    #     # print L.array()\n",
      "    #     # for bc in bcs:\n",
      "    #     #     bc.apply(L)\n",
      "\n",
      "    #     # print L.array()\n",
      "    #     # MO.StrTimePrint(\"MHD total assemble, time: \", time.time()-AssembleTime)\n",
      "\n",
      "    #     # u = b.duplicate()\n",
      "    #     # kspFp, Fp = PrecondSetup.FluidNonLinearSetup(Pressure, MU, u_k)\n",
      "    #     # print \"Inititial guess norm: \",  u.norm(PETSc.NormType.NORM_INFINITY)\n",
      "    #     # #A,Q\n",
      "    #     n = FacetNormal(mesh)\n",
      "    #     b_t = TrialFunction(Velocity)\n",
      "    #     c_t = TestFunction(Velocity)\n",
      "    #     mat =  as_matrix([[b_k[1]*b_k[1],-b_k[1]*b_k[0]],[-b_k[1]*b_k[0],b_k[0]*b_k[0]]])\n",
      "    #     aa = params[2]*inner(grad(b_t), grad(c_t))*dx(W.mesh()) + inner((grad(b_t)*u_k),c_t)*dx(W.mesh()) +(1./2)*div(u_k)*inner(c_t,b_t)*dx(W.mesh()) - (1./2)*inner(u_k,n)*inner(c_t,b_t)*ds(W.mesh())+kappa/Mu_m*inner(mat*b_t,c_t)*dx(W.mesh())\n",
      "    #     ShiftedMass = assemble(aa)\n",
      "    #     bcu.apply(ShiftedMass)\n",
      "    #     ShiftedMass = CP.Assemble(ShiftedMass)\n",
      "    #     kspF = NSprecondSetup.LSCKSPnonlinear(ShiftedMass)\n",
      "\n",
      "    #     stime = time.time()\n",
      "\n",
      "    #     u, mits,nsits = S.solve(A,b,u,params,W,'Direct',IterType,OuterTol,InnerTol,HiptmairMatrices,Hiptmairtol,KSPlinearfluids, Fp,kspF)\n",
      "    #     Soltime = time.time()- stime\n",
      "    #     MO.StrTimePrint(\"MHD solve, time: \", Soltime)\n",
      "    #     Mits += mits\n",
      "    #     NSits += nsits\n",
      "    #     SolutionTime += Soltime\n",
      "\n",
      "    #     u1, p1, b1, r1, eps= Iter.PicardToleranceDecouple(u,x,FSpaces,dim,\"2\",iter)\n",
      "    #     p1.vector()[:] += - assemble(p1*dx)/assemble(ones*dx)\n",
      "    #     u_k.assign(u1)\n",
      "    #     p_k.assign(p1)\n",
      "    #     b_k.assign(b1)\n",
      "    #     r_k.assign(r1)\n",
      "    #     uOld= np.concatenate((u_k.vector().array(),p_k.vector().array(),b_k.vector().array(),r_k.vector().array()), axis=0)\n",
      "    #     x = IO.arrayToVec(uOld)\n",
      "\n",
      "\n",
      "    # SolTime[xx-1] = SolutionTime/iter\n",
      "    # NSave[xx-1] = (float(NSits)/iter)\n",
      "    # Mave[xx-1] = (float(Mits)/iter)\n",
      "    # iterations[xx-1] = iter\n",
      "    # TotalTime[xx-1] = time.time() - TotalStart\n",
      "\n",
      "    XX= np.concatenate((u_k.vector().array(),p_k.vector().array(),b_k.vector().array(),r_k.vector().array()), axis=0)\n",
      "    dim = [Velocity.dim(), Pressure.dim(), Magnetic.dim(),Lagrange.dim()]\n",
      "    # u0, p0, b0, r0, F_NS, F_M, F_MX, F_S, gradu0, Neumann, p0vec = Lshaped.Solution2(mesh, params)\n",
      "\n",
      "    ExactSolution = [u0,pN,b0,r]\n",
      "    # errL2u[xx-1], errH1u[xx-1], errL2p[xx-1], errL2b[xx-1], errCurlb[xx-1], errL2r[xx-1], errH1r[xx-1] = Iter.Errors(XX,mesh,FSpaces,ExactSolution,order,dim, \"CG\")\n",
      "    print float(Wdim[xx-1][0])/Wdim[xx-2][0]\n",
      "    if xx > 1:\n",
      "       l2uorder[xx-1] =  np.abs(np.log2(errL2u[xx-2]/errL2u[xx-1])/np.log2(sqrt(float(Velocitydim[xx-1][0])/Velocitydim[xx-2][0])))\n",
      "       H1uorder[xx-1] =  np.abs(np.log2(errH1u[xx-2]/errH1u[xx-1])/np.log2(sqrt(float(Velocitydim[xx-1][0])/Velocitydim[xx-2][0])))\n",
      "\n",
      "       l2porder[xx-1] =  np.abs(np.log2(errL2p[xx-2]/errL2p[xx-1])/np.log2(sqrt(float(Pressuredim[xx-1][0])/Pressuredim[xx-2][0])))\n",
      "\n",
      "       l2border[xx-1] =  np.abs(np.log2(errL2b[xx-2]/errL2b[xx-1])/np.log2(sqrt(float(Magneticdim[xx-1][0])/Magneticdim[xx-2][0])))\n",
      "       Curlborder[xx-1] =  np.abs(np.log2(errCurlb[xx-2]/errCurlb[xx-1])/np.log2(sqrt(float(Magneticdim[xx-1][0])/Magneticdim[xx-2][0])))\n",
      "\n",
      "       l2rorder[xx-1] =  np.abs(np.log2(errL2r[xx-2]/errL2r[xx-1])/np.log2(sqrt(float(Lagrangedim[xx-1][0])/Lagrangedim[xx-2][0])))\n",
      "       H1rorder[xx-1] =  np.abs(np.log2(errH1r[xx-2]/errH1r[xx-1])/np.log2(sqrt(float(Lagrangedim[xx-1][0])/Lagrangedim[xx-2][0])))\n",
      "\n",
      "\n",
      "\n",
      "\n",
      "import pandas as pd\n",
      "\n",
      "\n",
      "\n",
      "LatexTitles = [\"l\",\"DoFu\",\"Dofp\",\"V-L2\",\"L2-order\",\"V-H1\",\"H1-order\",\"P-L2\",\"PL2-order\"]\n",
      "LatexValues = np.concatenate((level,Velocitydim,Pressuredim,errL2u,l2uorder,errH1u,H1uorder,errL2p,l2porder), axis=1)\n",
      "LatexTable = pd.DataFrame(LatexValues, columns = LatexTitles)\n",
      "pd.set_option('precision',3)\n",
      "LatexTable = MO.PandasFormat(LatexTable,\"V-L2\",\"%2.4e\")\n",
      "LatexTable = MO.PandasFormat(LatexTable,'V-H1',\"%2.4e\")\n",
      "LatexTable = MO.PandasFormat(LatexTable,\"H1-order\",\"%1.2f\")\n",
      "LatexTable = MO.PandasFormat(LatexTable,'L2-order',\"%1.2f\")\n",
      "LatexTable = MO.PandasFormat(LatexTable,\"P-L2\",\"%2.4e\")\n",
      "LatexTable = MO.PandasFormat(LatexTable,'PL2-order',\"%1.2f\")\n",
      "print LatexTable.to_latex()\n",
      "\n",
      "\n",
      "print \"\\n\\n   Magnetic convergence\"\n",
      "MagneticTitles = [\"l\",\"B DoF\",\"R DoF\",\"B-L2\",\"L2-order\",\"B-Curl\",\"HCurl-order\"]\n",
      "MagneticValues = np.concatenate((level,Magneticdim,Lagrangedim,errL2b,l2border,errCurlb,Curlborder),axis=1)\n",
      "MagneticTable= pd.DataFrame(MagneticValues, columns = MagneticTitles)\n",
      "pd.set_option('precision',3)\n",
      "MagneticTable = MO.PandasFormat(MagneticTable,\"B-Curl\",\"%2.4e\")\n",
      "MagneticTable = MO.PandasFormat(MagneticTable,'B-L2',\"%2.4e\")\n",
      "MagneticTable = MO.PandasFormat(MagneticTable,\"L2-order\",\"%1.2f\")\n",
      "MagneticTable = MO.PandasFormat(MagneticTable,'HCurl-order',\"%1.2f\")\n",
      "print MagneticTable.to_latex()\n",
      "\n",
      "print \"\\n\\n   Lagrange convergence\"\n",
      "LagrangeTitles = [\"l\",\"B DoF\",\"R DoF\",\"R-L2\",\"L2-order\",\"R-H1\",\"H1-order\"]\n",
      "LagrangeValues = np.concatenate((level,Magneticdim,Lagrangedim,errL2r,l2rorder,errH1r,H1rorder),axis=1)\n",
      "LagrangeTable= pd.DataFrame(LagrangeValues, columns = LagrangeTitles)\n",
      "pd.set_option('precision',3)\n",
      "LagrangeTable = MO.PandasFormat(LagrangeTable,\"R-L2\",\"%2.4e\")\n",
      "LagrangeTable = MO.PandasFormat(LagrangeTable,'R-H1',\"%2.4e\")\n",
      "LagrangeTable = MO.PandasFormat(LagrangeTable,\"L2-order\",\"%1.2f\")\n",
      "LagrangeTable = MO.PandasFormat(LagrangeTable,'H1-order',\"%1.2f\")\n",
      "print LagrangeTable.to_latex()\n",
      "\n",
      "\n",
      "\n",
      "\n",
      "import pandas as pd\n",
      "\n",
      "\n",
      "\n",
      "\n",
      "print \"\\n\\n   Iteration table\"\n",
      "if IterType == \"Full\":\n",
      "    IterTitles = [\"l\",\"DoF\",\"AV solve Time\",\"Total picard time\",\"picard iterations\",\"Av Outer its\",\"Av Inner its\",]\n",
      "else:\n",
      "    IterTitles = [\"l\",\"DoF\",\"AV solve Time\",\"Total picard time\",\"picard iterations\",\"Av NS iters\",\"Av M iters\"]\n",
      "IterValues = np.concatenate((level,Wdim,SolTime,TotalTime,iterations,Mave,NSave),axis=1)\n",
      "IterTable= pd.DataFrame(IterValues, columns = IterTitles)\n",
      "if IterType == \"Full\":\n",
      "    IterTable = MO.PandasFormat(IterTable,'Av Outer its',\"%2.1f\")\n",
      "    IterTable = MO.PandasFormat(IterTable,'Av Inner its',\"%2.1f\")\n",
      "else:\n",
      "    IterTable = MO.PandasFormat(IterTable,'Av NS iters',\"%2.1f\")\n",
      "    IterTable = MO.PandasFormat(IterTable,'Av M iters',\"%2.1f\")\n",
      "print IterTable\n",
      "# print \" \\n  Outer Tol:  \",OuterTol, \"Inner Tol:   \", InnerTol\n",
      "\n",
      "# tableName = \"2d_Lshaped_nu=\"+str(MU)+\"_nu_m=\"+str(Mu_m)+\"_kappa=\"+str(kappa)+\"_l=\"+str(np.min(level))+\"-\"+str(np.max(level))+\"Approx.tex\"\n",
      "# IterTable.to_latex(tableName)\n",
      "\n",
      "# # # if (ShowResultPlots == 'yes'):\n",
      "\n",
      "#    plot(interpolate(u0,Velocity))\n",
      "#\n",
      "# u = plot(interpolate(u0,Velocity))\n",
      "# p = plot(interpolate(pN,Pressure))\n",
      "# b = plot(interpolate(b0,Magnetic))\n",
      "\n",
      "\n",
      "#\n",
      "#    plot(interpolate(p0,Pressure))\n",
      "#\n",
      "#    plot(interpolate(b0,Magnetic))\n",
      "#\n",
      "#    plot(r_k)\n",
      "#    plot(interpolate(r0,Lagrange))\n",
      "#\n",
      "#    interactive()\n",
      "\n",
      "interactive()\n"
     ],
     "language": "python",
     "metadata": {},
     "outputs": [
      {
       "output_type": "stream",
       "stream": "stderr",
       "text": [
        "DEBUG:FFC:Reusing form from cache.\n"
       ]
      },
      {
       "output_type": "stream",
       "stream": "stderr",
       "text": [
        "DEBUG:FFC:Reusing form from cache.\n"
       ]
      },
      {
       "output_type": "stream",
       "stream": "stderr",
       "text": [
        "DEBUG:FFC:Reusing form from cache.\n"
       ]
      },
      {
       "output_type": "stream",
       "stream": "stderr",
       "text": [
        "DEBUG:FFC:Reusing form from cache.\n"
       ]
      },
      {
       "output_type": "stream",
       "stream": "stderr",
       "text": [
        "DEBUG:FFC:Reusing form from cache.\n"
       ]
      },
      {
       "output_type": "stream",
       "stream": "stderr",
       "text": [
        "DEBUG:FFC:Reusing form from cache.\n"
       ]
      },
      {
       "output_type": "stream",
       "stream": "stdout",
       "text": [
        "1\n",
        "\n",
        "\n",
        "W:  "
       ]
      },
      {
       "output_type": "stream",
       "stream": "stderr",
       "text": [
        "DEBUG:FFC:Reusing form from cache.\n"
       ]
      },
      {
       "output_type": "stream",
       "stream": "stderr",
       "text": [
        "DEBUG:FFC:Reusing form from cache.\n"
       ]
      },
      {
       "output_type": "stream",
       "stream": "stderr",
       "text": [
        "DEBUG:FFC:Reusing form from cache.\n"
       ]
      },
      {
       "output_type": "stream",
       "stream": "stderr",
       "text": [
        "DEBUG:FFC:Reusing form from cache.\n"
       ]
      },
      {
       "output_type": "stream",
       "stream": "stderr",
       "text": [
        "DEBUG:FFC:Reusing form from cache.\n"
       ]
      },
      {
       "output_type": "stream",
       "stream": "stderr",
       "text": [
        "DEBUG:FFC:Reusing form from cache.\n"
       ]
      },
      {
       "output_type": "stream",
       "stream": "stdout",
       "text": [
        " [ 527.] Velocity:   [ 375.] Pressure:   [ 27.] Magnetic:   [ 98.] Lagrange:   [ 27.] \n",
        "\n",
        "\n",
        "[1.0, 10.0, 1.0]"
       ]
      },
      {
       "output_type": "stream",
       "stream": "stderr",
       "text": [
        "DEBUG:FFC:Reusing form from cache.\n"
       ]
      },
      {
       "output_type": "stream",
       "stream": "stderr",
       "text": [
        "DEBUG:FFC:Reusing form from cache.\n"
       ]
      },
      {
       "output_type": "stream",
       "stream": "stdout",
       "text": [
        "\n",
        "inf"
       ]
      },
      {
       "output_type": "stream",
       "stream": "stderr",
       "text": [
        "DEBUG:FFC:Reusing form from cache.\n"
       ]
      },
      {
       "output_type": "stream",
       "stream": "stderr",
       "text": [
        "DEBUG:FFC:Reusing form from cache.\n"
       ]
      },
      {
       "output_type": "stream",
       "stream": "stderr",
       "text": [
        "DEBUG:FFC:Reusing form from cache.\n"
       ]
      },
      {
       "output_type": "stream",
       "stream": "stderr",
       "text": [
        "DEBUG:FFC:Reusing form from cache.\n"
       ]
      },
      {
       "output_type": "stream",
       "stream": "stderr",
       "text": [
        "DEBUG:FFC:Reusing form from cache.\n"
       ]
      },
      {
       "output_type": "stream",
       "stream": "stderr",
       "text": [
        "DEBUG:FFC:Reusing form from cache.\n"
       ]
      },
      {
       "output_type": "stream",
       "stream": "stdout",
       "text": [
        "\n",
        "2\n",
        "\n",
        "\n",
        "W:  "
       ]
      },
      {
       "output_type": "stream",
       "stream": "stderr",
       "text": [
        "DEBUG:FFC:Reusing form from cache.\n"
       ]
      },
      {
       "output_type": "stream",
       "stream": "stderr",
       "text": [
        "DEBUG:FFC:Reusing form from cache.\n"
       ]
      },
      {
       "output_type": "stream",
       "stream": "stderr",
       "text": [
        "DEBUG:FFC:Reusing form from cache.\n"
       ]
      },
      {
       "output_type": "stream",
       "stream": "stderr",
       "text": [
        "DEBUG:FFC:Reusing form from cache.\n"
       ]
      },
      {
       "output_type": "stream",
       "stream": "stderr",
       "text": [
        "DEBUG:FFC:Reusing form from cache.\n"
       ]
      },
      {
       "output_type": "stream",
       "stream": "stderr",
       "text": [
        "DEBUG:FFC:Reusing form from cache.\n"
       ]
      },
      {
       "output_type": "stream",
       "stream": "stdout",
       "text": [
        " [ 3041.] Velocity:   [ 2187.] Pressure:   [ 125.] Magnetic:   [ 604.] Lagrange:   [ 125.] \n",
        "\n",
        "\n",
        "[1.0, 10.0, 1.0]"
       ]
      },
      {
       "output_type": "stream",
       "stream": "stderr",
       "text": [
        "DEBUG:FFC:Reusing form from cache.\n"
       ]
      },
      {
       "output_type": "stream",
       "stream": "stderr",
       "text": [
        "DEBUG:FFC:Reusing form from cache.\n"
       ]
      },
      {
       "output_type": "stream",
       "stream": "stdout",
       "text": [
        "\n",
        "5.77039848197"
       ]
      },
      {
       "output_type": "stream",
       "stream": "stderr",
       "text": [
        "DEBUG:FFC:Reusing form from cache.\n"
       ]
      },
      {
       "output_type": "stream",
       "stream": "stderr",
       "text": [
        "DEBUG:FFC:Reusing form from cache.\n"
       ]
      },
      {
       "output_type": "stream",
       "stream": "stderr",
       "text": [
        "DEBUG:FFC:Reusing form from cache.\n"
       ]
      },
      {
       "output_type": "stream",
       "stream": "stderr",
       "text": [
        "DEBUG:FFC:Reusing form from cache.\n"
       ]
      },
      {
       "output_type": "stream",
       "stream": "stderr",
       "text": [
        "DEBUG:FFC:Reusing form from cache.\n"
       ]
      },
      {
       "output_type": "stream",
       "stream": "stderr",
       "text": [
        "DEBUG:FFC:Reusing form from cache.\n"
       ]
      },
      {
       "output_type": "stream",
       "stream": "stdout",
       "text": [
        "\n",
        "3\n",
        "\n",
        "\n",
        "W:  "
       ]
      },
      {
       "output_type": "stream",
       "stream": "stderr",
       "text": [
        "DEBUG:FFC:Reusing form from cache.\n"
       ]
      },
      {
       "output_type": "stream",
       "stream": "stderr",
       "text": [
        "DEBUG:FFC:Reusing form from cache.\n"
       ]
      },
      {
       "output_type": "stream",
       "stream": "stderr",
       "text": [
        "DEBUG:FFC:Reusing form from cache.\n"
       ]
      },
      {
       "output_type": "stream",
       "stream": "stderr",
       "text": [
        "DEBUG:FFC:Reusing form from cache.\n"
       ]
      },
      {
       "output_type": "stream",
       "stream": "stderr",
       "text": [
        "DEBUG:FFC:Reusing form from cache.\n"
       ]
      },
      {
       "output_type": "stream",
       "stream": "stderr",
       "text": [
        "DEBUG:FFC:Reusing form from cache.\n"
       ]
      },
      {
       "output_type": "stream",
       "stream": "stdout",
       "text": [
        " [ 20381.] Velocity:   [ 14739.] Pressure:   [ 729.] Magnetic:   [ 4184.] Lagrange:   [ 729.] \n",
        "\n",
        "\n",
        "[1.0, 10.0, 1.0]"
       ]
      },
      {
       "output_type": "stream",
       "stream": "stderr",
       "text": [
        "DEBUG:FFC:Reusing form from cache.\n"
       ]
      },
      {
       "output_type": "stream",
       "stream": "stderr",
       "text": [
        "DEBUG:FFC:Reusing form from cache.\n"
       ]
      },
      {
       "output_type": "stream",
       "stream": "stdout",
       "text": [
        "\n",
        "6.70207168695"
       ]
      },
      {
       "output_type": "stream",
       "stream": "stdout",
       "text": [
        "\n",
        "\\begin{tabular}{lrrrllllll}\n",
        "\\toprule\n",
        "{} &  l &   DoFu &  Dofp &        V-L2 & L2-order &        V-H1 & H1-order &        P-L2 & PL2-order \\\\\n",
        "\\midrule\n",
        "0 &  1 &    375 &    27 &  0.0000e+00 &     0.00 &  0.0000e+00 &     0.00 &  0.0000e+00 &      0.00 \\\\\n",
        "1 &  2 &   2187 &   125 &  0.0000e+00 &      nan &  0.0000e+00 &      nan &  0.0000e+00 &       nan \\\\\n",
        "2 &  3 &  14739 &   729 &  0.0000e+00 &      nan &  0.0000e+00 &      nan &  0.0000e+00 &       nan \\\\\n",
        "\\bottomrule\n",
        "\\end{tabular}\n",
        "\n",
        "\n",
        "\n",
        "   Magnetic convergence\n",
        "\\begin{tabular}{lrrrllll}\n",
        "\\toprule\n",
        "{} &  l &  B DoF &  R DoF &        B-L2 & L2-order &      B-Curl & HCurl-order \\\\\n",
        "\\midrule\n",
        "0 &  1 &     98 &     27 &  0.0000e+00 &     0.00 &  0.0000e+00 &        0.00 \\\\\n",
        "1 &  2 &    604 &    125 &  0.0000e+00 &      nan &  0.0000e+00 &         nan \\\\\n",
        "2 &  3 &   4184 &    729 &  0.0000e+00 &      nan &  0.0000e+00 &         nan \\\\\n",
        "\\bottomrule\n",
        "\\end{tabular}\n",
        "\n",
        "\n",
        "\n",
        "   Lagrange convergence\n",
        "\\begin{tabular}{lrrrllll}\n",
        "\\toprule\n",
        "{} &  l &  B DoF &  R DoF &        R-L2 & L2-order &        R-H1 & H1-order \\\\\n",
        "\\midrule\n",
        "0 &  1 &     98 &     27 &  0.0000e+00 &     0.00 &  0.0000e+00 &     0.00 \\\\\n",
        "1 &  2 &    604 &    125 &  0.0000e+00 &      nan &  0.0000e+00 &      nan \\\\\n",
        "2 &  3 &   4184 &    729 &  0.0000e+00 &      nan &  0.0000e+00 &      nan \\\\\n",
        "\\bottomrule\n",
        "\\end{tabular}\n",
        "\n",
        "\n",
        "\n",
        "   Iteration table\n",
        "   l    DoF  AV solve Time  Total picard time  picard iterations Av Outer its  \\\n",
        "0  1    527              0                  0                  0          0.0   \n",
        "1  2   3041              0                  0                  0          0.0   \n",
        "2  3  20381              0                  0                  0          0.0   \n",
        "\n",
        "  Av Inner its  \n",
        "0          0.0  \n",
        "1          0.0  \n",
        "2          0.0  \n"
       ]
      }
     ],
     "prompt_number": 1
    },
    {
     "cell_type": "code",
     "collapsed": false,
     "input": [
      "u = plot(u_k)\n",
      "p = plot(p_k)\n",
      "b = plot(b_k)\n",
      "\n",
      "\n",
      "#"
     ],
     "language": "python",
     "metadata": {},
     "outputs": [
      {
       "metadata": {},
       "output_type": "pyout",
       "prompt_number": 5,
       "text": [
        "<dolfin.cpp.io.VTKPlotter; proxy of <Swig Object of type 'std::shared_ptr< dolfin::VTKPlotter > *' at 0x10ebac810> >"
       ]
      }
     ],
     "prompt_number": 5
    },
    {
     "cell_type": "code",
     "collapsed": false,
     "input": [
      "plot(interpolate(b0,Magnetic) , interactive=True)"
     ],
     "language": "python",
     "metadata": {},
     "outputs": []
    },
    {
     "cell_type": "code",
     "collapsed": false,
     "input": [],
     "language": "python",
     "metadata": {},
     "outputs": []
    },
    {
     "cell_type": "code",
     "collapsed": false,
     "input": [
      "plot(interpolate(pN,Pressure), interactive=True)"
     ],
     "language": "python",
     "metadata": {},
     "outputs": [
      {
       "metadata": {},
       "output_type": "pyout",
       "prompt_number": 7,
       "text": [
        "<dolfin.cpp.io.VTKPlotter; proxy of <Swig Object of type 'std::shared_ptr< dolfin::VTKPlotter > *' at 0x119cda150> >"
       ]
      }
     ],
     "prompt_number": 7
    },
    {
     "cell_type": "code",
     "collapsed": false,
     "input": [
      "A/(2*A)"
     ],
     "language": "python",
     "metadata": {},
     "outputs": [
      {
       "metadata": {},
       "output_type": "pyout",
       "prompt_number": 18,
       "text": [
        "array([[ 0.5],\n",
        "       [ 0.5]])"
       ]
      }
     ],
     "prompt_number": 18
    },
    {
     "cell_type": "code",
     "collapsed": false,
     "input": [
      "print np.sin(A*2)\n",
      "print np.sin(A[0]*2)"
     ],
     "language": "python",
     "metadata": {},
     "outputs": [
      {
       "output_type": "stream",
       "stream": "stdout",
       "text": [
        "[[ 0.26354666]\n",
        " [ 0.99733648]]\n",
        "[ 0.26354666]\n"
       ]
      }
     ],
     "prompt_number": 12
    }
   ],
   "metadata": {}
  }
 ]
}
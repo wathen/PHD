{
 "metadata": {
  "name": "",
  "signature": "sha256:174c1a62f14788d8a4ac74ec1637128c7b051d56ad9fbc9e280a85be9e652a55"
 },
 "nbformat": 3,
 "nbformat_minor": 0,
 "worksheets": [
  {
   "cells": [
    {
     "cell_type": "code",
     "collapsed": false,
     "input": [
      "#!/usr/bin/python\n",
      "\n",
      "# interpolate scalar gradient onto nedelec space\n",
      "\n",
      "import petsc4py\n",
      "import sys\n",
      "\n",
      "petsc4py.init(sys.argv)\n",
      "\n",
      "from petsc4py import PETSc\n",
      "from dolfin import *\n",
      "Print = PETSc.Sys.Print\n",
      "# from MatrixOperations import *\n",
      "import numpy as np\n",
      "import PETScIO as IO\n",
      "import common\n",
      "import scipy\n",
      "import scipy.io\n",
      "import time\n",
      "\n",
      "import BiLinear as forms\n",
      "import IterOperations as Iter\n",
      "import MatrixOperations as MO\n",
      "import CheckPetsc4py as CP\n",
      "import ExactSol\n",
      "import Solver as S\n",
      "import MHDmatrixPrecondSetup as PrecondSetup\n",
      "import NSprecondSetup\n",
      "import MHDprec as MHDpreconditioner\n",
      "import memory_profiler\n",
      "import gc\n",
      "import MHDmulti\n",
      "import MHDmatrixSetup as MHDsetup\n",
      "from scipy.sparse import coo_matrix, csr_matrix, spdiags, bmat, linalg\n",
      "\n",
      "#@profile\n",
      "m = 2\n",
      "\n",
      "\n",
      "errL2u =np.zeros((m-1,1))\n",
      "errH1u =np.zeros((m-1,1))\n",
      "errL2p =np.zeros((m-1,1))\n",
      "errL2b =np.zeros((m-1,1))\n",
      "errCurlb =np.zeros((m-1,1))\n",
      "errL2r =np.zeros((m-1,1))\n",
      "errH1r =np.zeros((m-1,1))\n",
      "\n",
      "\n",
      "\n",
      "l2uorder =  np.zeros((m-1,1))\n",
      "H1uorder =np.zeros((m-1,1))\n",
      "l2porder =  np.zeros((m-1,1))\n",
      "l2border =  np.zeros((m-1,1))\n",
      "Curlborder =np.zeros((m-1,1))\n",
      "l2rorder =  np.zeros((m-1,1))\n",
      "H1rorder = np.zeros((m-1,1))\n",
      "\n",
      "NN = np.zeros((m-1,1))\n",
      "DoF = np.zeros((m-1,1))\n",
      "Velocitydim = np.zeros((m-1,1))\n",
      "Magneticdim = np.zeros((m-1,1))\n",
      "Pressuredim = np.zeros((m-1,1))\n",
      "Lagrangedim = np.zeros((m-1,1))\n",
      "Wdim = np.zeros((m-1,1))\n",
      "iterations = np.zeros((m-1,1))\n",
      "SolTime = np.zeros((m-1,1))\n",
      "udiv = np.zeros((m-1,1))\n",
      "MU = np.zeros((m-1,1))\n",
      "level = np.zeros((m-1,1))\n",
      "NSave = np.zeros((m-1,1))\n",
      "Mave = np.zeros((m-1,1))\n",
      "TotalTime = np.zeros((m-1,1))\n",
      "\n",
      "nn = 2\n",
      "\n",
      "dim = 2\n",
      "ShowResultPlots = 'yes'\n",
      "split = 'Linear'\n",
      "parameters[\"form_compiler\"][\"no-evaluate_basis_derivatives\"] = False\n",
      "\n",
      "MU[0]= 1e0\n",
      "for xx in xrange(1,m):\n",
      "    print xx\n",
      "    level[xx-1] = xx + 1e0\n",
      "    nn = 2**(level[xx-1])\n",
      "\n",
      "\n",
      "\n",
      "    # Create mesh and define function space\n",
      "    nn = int(nn)\n",
      "    NN[xx-1] = nn/2\n",
      "    # parameters[\"form_compiler\"][\"quadrature_degree\"] = 6\n",
      "    # parameters = CP.ParameterSetup()\n",
      "    mesh = UnitSquareMesh(nn,nn)\n",
      "    # mesh = RectangleMesh(0,0,2*np.pi,2*np.pi,nn,nn)\n",
      "    order = 2\n",
      "    \n",
      "    \n",
      "    parameters['reorder_dofs_serial'] = False\n",
      "    Velocity = VectorFunctionSpace(mesh, \"CG\", order)\n",
      "    Pressure = FunctionSpace(mesh, \"CG\", order)\n",
      "    Magnetic = FunctionSpace(mesh, \"N1curl\", order)\n",
      "    Lagrange = FunctionSpace(mesh, \"CG\", order)\n",
      "    W = MixedFunctionSpace([Velocity, Pressure, Magnetic,Lagrange])\n",
      "    # W = Velocity*Pressure*Magnetic*Lagrange\n",
      "    Velocitydim[xx-1] = Velocity.dim()\n",
      "    Pressuredim[xx-1] = Pressure.dim()\n",
      "    Magneticdim[xx-1] = Magnetic.dim()\n",
      "    Lagrangedim[xx-1] = Lagrange.dim()\n",
      "    Wdim[xx-1] = W.dim()\n",
      "    print \"\\n\\nW:  \",Wdim[xx-1],\"Velocity:  \",Velocitydim[xx-1],\"Pressure:  \",Pressuredim[xx-1],\"Magnetic:  \",Magneticdim[xx-1],\"Lagrange:  \",Lagrangedim[xx-1],\"\\n\\n\"\n",
      "    dim = [Velocity.dim(), Pressure.dim(), Magnetic.dim(), Lagrange.dim()]\n",
      "\n",
      "\n",
      "    def boundary(x, on_boundary):\n",
      "        return on_boundary\n",
      "\n",
      "    u0, p0,b0, r0, Laplacian, Advection, gradPres,CurlCurl, gradR, NS_Couple, M_Couple = ExactSol.MHD2D(4,1)\n",
      "\n",
      "\n",
      "    bcu = DirichletBC(Velocity,u0, boundary)\n",
      "    bcb = DirichletBC(Magnetic,Expression(('0','0')), boundary)\n",
      "    bcr = DirichletBC(Lagrange,Expression(('0')), boundary)\n",
      "\n",
      "    # bc = [u0,p0,b0,r0]\n",
      "    bcs = [bcu,bcb,bcr]\n",
      "    FSpaces = [Velocity,Pressure,Magnetic,Lagrange]\n",
      "\n",
      "\n",
      "    (u, b, p, r) = TrialFunctions(W)\n",
      "    (v, c, q, s) = TestFunctions(W)\n",
      "    kappa = 10.0\n",
      "    Mu_m =10.0\n",
      "    MU = 1.0/1\n",
      "    IterType = 'Full'\n",
      "    Split = \"No\"\n",
      "    Saddle = \"No\"\n",
      "    Stokes = \"No\"\n",
      "    SetupType = 'python-class'\n",
      "    F_NS = -MU*Laplacian+Advection+gradPres-kappa*NS_Couple\n",
      "    if kappa == 0:\n",
      "        F_M = Mu_m*CurlCurl+gradR -kappa*M_Couple\n",
      "    else:\n",
      "        F_M = Mu_m*kappa*CurlCurl+gradR -kappa*M_Couple\n",
      "    params = [kappa,Mu_m,MU]\n",
      "\n",
      "    MO.PrintStr(\"Seting up initial guess matricies\",2,\"=\",\"\\n\\n\",\"\\n\")\n",
      "    BCtime = time.time()\n",
      "    BC = MHDsetup.BoundaryIndices(mesh)\n",
      "    MO.StrTimePrint(\"BC index function, time: \", time.time()-BCtime)\n",
      "    Hiptmairtol = 1e-5\n",
      "    HiptmairMatrices = PrecondSetup.MagneticSetup(Magnetic, Lagrange, b0, r0, Hiptmairtol, params)\n",
      "    print HiptmairMatrices\n",
      "    C = HiptmairMatrices[0]\n",
      "    Px = HiptmairMatrices[1][0]\n",
      "    Py = HiptmairMatrices[1][1]\n",
      "\n",
      "\n",
      "    VecV = VectorFunctionSpace(mesh,\"CG\",order)\n",
      "\n",
      "\n",
      "\n",
      "\n",
      "\n",
      "\n",
      "\n",
      "\n",
      "\n",
      "\n",
      "def HiptmairAnyOrder(Magnetic,Lagrange):\n",
      "    mesh = Magnetic.mesh()\n",
      "    VecLagrange = VectorFunctionSpace(mesh, \"CG\", Magnetic.__dict__['_FunctionSpace___degree'])\n",
      "\n",
      "    def boundary(x, on_boundary):\n",
      "        return on_boundary\n",
      "\n",
      "    dim = mesh.geometry().dim()\n",
      "    u0 = []\n",
      "    for i in range(dim):\n",
      "        u0.append('0.0')\n",
      "    u0 = Expression(u0)\n",
      "    VecBC = DirichletBC(VecLagrange, u0, boundary)\n",
      "    BCb = DirichletBC(Magnetic, u0, boundary)\n",
      "    BCr = DirichletBC(Lagrange, Expression(('0.0')), boundary)\n",
      "\n",
      "    p = TestFunction(Lagrange)\n",
      "    q = TrialFunction(Lagrange)\n",
      "    u = TestFunction(Magnetic)\n",
      "    v = TrialFunction(Magnetic)\n",
      "    Vu = TestFunction(VecLagrange)\n",
      "    Vv = TrialFunction(VecLagrange)\n",
      "\n",
      "    M = assemble(inner(u,v)*dx)\n",
      "    # BCb.apply(M)\n",
      "    B = assemble(inner(v,grad(p))*dx)\n",
      "    L = assemble(inner(grad(Vu),grad(Vv))*dx + inner(Vu,Vv)*dx)\n",
      "    l = assemble(inner(grad(p),grad(q))*dx)\n",
      "    VecBC.apply(L)\n",
      "    BCr.apply(l)\n",
      "    L = CP.Scipy2PETSc(L.sparray())\n",
      "    B = CP.Scipy2PETSc(B.sparray())\n",
      "    M = CP.Scipy2PETSc(M.sparray())\n",
      "    l = CP.Scipy2PETSc(l.sparray())\n",
      "\n",
      "    ksp = PETSc.KSP()\n",
      "    ksp.create(comm=PETSc.COMM_WORLD)\n",
      "    pc = ksp.getPC()\n",
      "    ksp.setType('cg')\n",
      "    pc.setType('bjacobi')\n",
      "    ksp.setOperators(M,M)\n",
      "    ksp.setTolerances(1e-8)\n",
      "\n",
      "\n",
      "    return VecLagrange, ksp, L, l, B, [BCb, BCr, VecBC]\n",
      "\n",
      "\n",
      "\n",
      "VecLagrange, ksp, L, l, B, BC = HiptmairAnyOrder(Magnetic,Lagrange)\n",
      "def GradOp(ksp,B,u):\n",
      "    Bu = B.createVecRight()\n",
      "    B.multTranspose(u,Bu)\n",
      "    v = Bu.duplicate()\n",
      "    ksp.solve(Bu,v)\n",
      "    return v\n",
      "\n",
      "def TransGradOp(ksp,B,u):\n",
      "    Bu = u.duplicate()\n",
      "    ksp.solve(u,Bu)\n",
      "    v = B.createVecLeft()\n",
      "    B.mult(Bu,v)\n",
      "    return v\n",
      "\n",
      "\n",
      "def BCapply(V,BC,x,opt = \"PETSc\"):\n",
      "    v = Function(V)\n",
      "    v.vector()[:] = x.array\n",
      "    BC.apply(v.vector())\n",
      "    if opt == \"PETSc\":\n",
      "        x = IO.arrayToVec(v.vector().array())\n",
      "        return x\n",
      "    else:\n",
      "        return v\n",
      "\n",
      "def PETScToFunc(V,x):\n",
      "    v = Function(V)\n",
      "    v.vector()[:] = x.array\n",
      "    return x\n",
      "\n",
      "def FuncToPETSc(x):\n",
      "    return IO.arrayToVec(x.vector().array())\n",
      "\n",
      "\n",
      "Hdiv = FunctionSpace(mesh,'BDM',order)\n",
      "\n",
      "f = Expression(('(x[0])','(x[1])'))\n",
      "\n",
      "Ft = interpolate(f,Magnetic)\n",
      "x = IO.arrayToVec(Ft.vector().array())\n",
      "print x.array\n",
      "Pxx = Px.createVecRight()\n",
      "Px.multTranspose(x,Pxx)\n",
      "Pyy  = Py.createVecRight()\n",
      "Py.multTranspose(x,Pyy)\n",
      "PPP = CP.PETSc2Scipy(Px)\n",
      "print (PPP*PPP.T).nnz\n",
      "print (PPP*PPP.T).diagonal()\n",
      "\n",
      "MO.StoreMatrix(PPP,\"P\")\n",
      "\n",
      "P = np.concatenate((Pxx.array,Pyy.array),axis=1)\n",
      "# print P\n",
      "f = BCapply(Magnetic,BC[0],x,\"dolfin\")\n",
      "fVec = project(f,VecLagrange)\n",
      "BC[2].apply(fVec.vector())\n",
      "# plot(fVec, interactive=True)\n",
      "uVec = FuncToPETSc(fVec)\n",
      "\n",
      "for i in range(len(uVec.array)):\n",
      "    print uVec.array[i], '    ', P[i], '    ', 1./(P[i]/uVec.array[i])\n",
      "print uVec.array\n",
      "print P\n",
      "print np.max(abs(uVec.array-P))\n",
      "\n",
      "\n",
      "print \"\\n\\n\\n\\n\"\n"
     ],
     "language": "python",
     "metadata": {},
     "outputs": [
      {
       "output_type": "stream",
       "stream": "stderr",
       "text": [
        "DEBUG:FFC:          Reusing form from cache.\n"
       ]
      },
      {
       "output_type": "stream",
       "stream": "stderr",
       "text": [
        "DEBUG:FFC:          Reusing form from cache.\n"
       ]
      },
      {
       "output_type": "stream",
       "stream": "stderr",
       "text": [
        "DEBUG:FFC:          Reusing form from cache.\n"
       ]
      },
      {
       "output_type": "stream",
       "stream": "stderr",
       "text": [
        "DEBUG:FFC:          Reusing form from cache.\n"
       ]
      },
      {
       "output_type": "stream",
       "stream": "stderr",
       "text": [
        "DEBUG:FFC:          Reusing form from cache.\n"
       ]
      },
      {
       "output_type": "stream",
       "stream": "stdout",
       "text": [
        "1\n",
        "\n",
        "\n",
        "W:   [ 500.] Velocity:   [ 162.] Pressure:   [ 81.] Magnetic:   [ 176.] Lagrange:   [ 81.] \n",
        "\n",
        "\n",
        "\n",
        "   >>>>>>>>>>>>>>>>>>>>>>>>>>\n",
        "     MHD 2D Exact Solution:\n",
        "   >>>>>>>>>>>>>>>>>>>>>>>>>>\n",
        "\n",
        " ----------------------\n",
        "   NS Exact Solution:\n",
        " ----------------------\n",
        "  u = ("
       ]
      },
      {
       "output_type": "stream",
       "stream": "stdout",
       "text": [
        " x*y*exp(x + y) + x*exp(x + y) , -x*y*exp(x + y) - y*exp(x + y) )\n",
        "\n",
        "  p = ( exp(y)*sin(x) )\n",
        "\n",
        " ---------------------------\n",
        "   Maxwell Exact Solution:\n",
        " ---------------------------\n",
        "  b = ( exp(x + y)*cos(x) , exp(x + y)*sin(x) - exp(x + y)*cos(x) )\n",
        "\n",
        "  p = ( x*sin(2*pi*x)*sin(2*pi*y) )\n",
        "\n",
        "\n",
        "\n",
        "====================================="
       ]
      },
      {
       "output_type": "stream",
       "stream": "stderr",
       "text": [
        "DEBUG:FFC:          Reusing form from cache.\n"
       ]
      },
      {
       "output_type": "stream",
       "stream": "stderr",
       "text": [
        "DEBUG:FFC:          Reusing form from cache.\n"
       ]
      },
      {
       "output_type": "stream",
       "stream": "stderr",
       "text": [
        "DEBUG:FFC:          Reusing form from cache.\n"
       ]
      },
      {
       "output_type": "stream",
       "stream": "stderr",
       "text": [
        "DEBUG:FFC:          Reusing form from cache.\n"
       ]
      },
      {
       "output_type": "stream",
       "stream": "stderr",
       "text": [
        "DEBUG:FFC:          Reusing form from cache.\n"
       ]
      },
      {
       "output_type": "stream",
       "stream": "stderr",
       "text": [
        "DEBUG:FFC:          Reusing form from cache.\n"
       ]
      },
      {
       "output_type": "stream",
       "stream": "stdout",
       "text": [
        "\n",
        "  Seting up initial guess matricies\n",
        "=====================================\n",
        "\n",
        "BC index function, time:                  ==>   0.000380    time:  14:46\n",
        " ==================================\n",
        "   Preconditioning Magnetic setup\n",
        " ==================================\n",
        "Hiptmair Laplacians BC assembled, time:   ==>   0.004050    time:  14:46\n",
        "PETSc Laplacians assembled, time:         ==>   0.000934    time:  14:46\n",
        "Shifted Curl-Curl assembled, time:        ==>   0.003339    time:  14:46\n",
        "Hiptmair Setup time:                      ==>   0.000172    time:  14:46\n",
        "[None, None, <petsc4py.PETSc.KSP object at 0x10ed77f50>, <petsc4py.PETSc.KSP object at 0x10f4314d0>, <petsc4py.PETSc.KSP object at 0x10f4319b0>, <petsc4py.PETSc.Vec object at 0x10f5ac7d0>, <petsc4py.PETSc.Mat object at 0x10ed77890>]\n"
       ]
      },
      {
       "ename": "TypeError",
       "evalue": "'NoneType' object has no attribute '__getitem__'",
       "output_type": "pyerr",
       "traceback": [
        "\u001b[0;31m---------------------------------------------------------------------------\u001b[0m\n\u001b[0;31mTypeError\u001b[0m                                 Traceback (most recent call last)",
        "\u001b[0;32m<ipython-input-91-57082fa65b8e>\u001b[0m in \u001b[0;36m<module>\u001b[0;34m()\u001b[0m\n\u001b[1;32m    153\u001b[0m     \u001b[0;32mprint\u001b[0m \u001b[0mHiptmairMatrices\u001b[0m\u001b[0;34m\u001b[0m\u001b[0m\n\u001b[1;32m    154\u001b[0m     \u001b[0mC\u001b[0m \u001b[0;34m=\u001b[0m \u001b[0mHiptmairMatrices\u001b[0m\u001b[0;34m[\u001b[0m\u001b[0;36m0\u001b[0m\u001b[0;34m]\u001b[0m\u001b[0;34m\u001b[0m\u001b[0m\n\u001b[0;32m--> 155\u001b[0;31m     \u001b[0mPx\u001b[0m \u001b[0;34m=\u001b[0m \u001b[0mHiptmairMatrices\u001b[0m\u001b[0;34m[\u001b[0m\u001b[0;36m1\u001b[0m\u001b[0;34m]\u001b[0m\u001b[0;34m[\u001b[0m\u001b[0;36m0\u001b[0m\u001b[0;34m]\u001b[0m\u001b[0;34m\u001b[0m\u001b[0m\n\u001b[0m\u001b[1;32m    156\u001b[0m     \u001b[0mPy\u001b[0m \u001b[0;34m=\u001b[0m \u001b[0mHiptmairMatrices\u001b[0m\u001b[0;34m[\u001b[0m\u001b[0;36m1\u001b[0m\u001b[0;34m]\u001b[0m\u001b[0;34m[\u001b[0m\u001b[0;36m1\u001b[0m\u001b[0;34m]\u001b[0m\u001b[0;34m\u001b[0m\u001b[0m\n\u001b[1;32m    157\u001b[0m \u001b[0;34m\u001b[0m\u001b[0m\n",
        "\u001b[0;31mTypeError\u001b[0m: 'NoneType' object has no attribute '__getitem__'"
       ]
      }
     ],
     "prompt_number": 91
    },
    {
     "cell_type": "code",
     "collapsed": false,
     "input": [
      "f = Expression(('(x[0])','(x[1])'))\n",
      "\n",
      "Ft = interpolate(f,Magnetic)\n",
      "x = IO.arrayToVec(Ft.vector().array())\n",
      "print x.array\n",
      "Pxx = Px.createVecRight()\n",
      "Px.multTranspose(x,Pxx)\n",
      "Pyy  = Py.createVecRight()\n",
      "Py.multTranspose(x,Pyy)\n",
      "PPP = CP.PETSc2Scipy(Px)\n",
      "print (PPP*PPP.T).nnz\n",
      "print (PPP*PPP.T).diagonal()\n",
      "\n",
      "MO.StoreMatrix(PPP,\"P\")\n",
      "\n",
      "P = np.concatenate((Pxx.array,Pyy.array),axis=1)\n",
      "# print P\n",
      "f = BCapply(Magnetic,BC[0],x,\"dolfin\")\n",
      "fVec = interpolate(f,VecLagrange)\n",
      "BC[2].apply(fVec.vector())\n",
      "# plot(fVec, interactive=True)\n",
      "uVec = FuncToPETSc(fVec)\n",
      "\n",
      "for i in range(len(uVec.array)):\n",
      "    print uVec.array[i], '    ', P[i], '    ', 1./(P[i]/uVec.array[i])\n",
      "print uVec.array\n",
      "print P\n",
      "print np.max(abs(uVec.array-P))\n",
      "\n",
      "\n",
      "print \"\\n\\n\\n\\n\""
     ],
     "language": "python",
     "metadata": {},
     "outputs": [
      {
       "output_type": "stream",
       "stream": "stdout",
       "text": [
        "[ 0.03125  0.0625   0.03125  0.03125  0.03125  0.03125  0.125    0.09375\n",
        "  0.09375  0.03125  0.1875   0.15625  0.15625  0.03125  0.25     0.21875\n",
        "  0.21875  0.09375  0.125    0.03125  0.09375  0.09375  0.1875   0.09375\n",
        "  0.09375  0.25     0.15625  0.09375  0.3125   0.21875  0.15625  0.1875\n",
        "  0.03125  0.15625  0.15625  0.25     0.09375  0.15625  0.3125   0.15625\n",
        "  0.15625  0.375    0.21875  0.21875  0.25     0.03125  0.21875  0.21875\n",
        "  0.3125   0.09375  0.21875  0.375    0.15625  0.21875  0.4375   0.21875]\n",
        "134\n",
        "[ 0.        0.015625  0.        0.015625  0.        0.        0.015625  0.\n",
        "  0.03125   0.        0.015625  0.        0.03125   0.        0.        0.\n",
        "  0.015625  0.        0.015625  0.015625  0.        0.        0.03125\n",
        "  0.03125   0.        0.03125   0.03125   0.        0.015625  0.015625  0.\n",
        "  0.015625  0.015625  0.        0.        0.03125   0.03125   0.        0.03125\n",
        "  0.03125   0.        0.015625  0.015625  0.        0.        0.        0.\n",
        "  0.        0.015625  0.        0.        0.015625  0.        0.        0.015625\n",
        "  0.      ]\n",
        "0.0      0.0      nan\n",
        "0.0      0.0      nan\n",
        "0.0      0.0      nan\n",
        "0.0      0.0      nan\n",
        "0.0      0.0      nan\n",
        "0.0      0.0      nan\n",
        "0.375      0.046875      8.0\n",
        "0.625      0.078125      8.0\n",
        "0.875      0.109375      8.0\n",
        "0.0      0.0      nan\n",
        "0.0      0.0      nan\n",
        "0.375      0.0625      6.0\n",
        "0.625      0.09375      6.66666666667\n",
        "0.875      0.125      7.0\n",
        "0.0      0.0      nan\n",
        "0.0      0.0      nan\n",
        "0.375      0.078125      4.8\n",
        "0.625      0.109375      5.71428571429\n",
        "0.875      0.140625      6.22222222222\n",
        "0.0      0.0      nan\n",
        "0.0      0.0      nan\n",
        "0.0      0.0      nan\n",
        "0.0      0.0      nan\n",
        "0.0      0.0      nan\n",
        "0.0      0.0      nan\n",
        "0.0      0.0      nan\n",
        "0.0      0.0      nan\n",
        "0.0      0.0      nan\n",
        "0.0      0.0      nan\n",
        "0.0      0.0      nan\n",
        "0.0      0.0      nan\n",
        "0.375      0.046875      8.0\n",
        "0.375      0.0625      6.0\n",
        "0.375      0.078125      4.8\n",
        "0.0      0.0      nan\n",
        "0.0      0.0      nan\n",
        "0.625      0.078125      8.0\n",
        "0.625      0.09375      6.66666666667\n",
        "0.625      0.109375      5.71428571429\n",
        "0.0      0.0      nan\n",
        "0.0      0.0      nan\n",
        "0.875      0.109375      8.0\n",
        "0.875      0.125      7.0\n",
        "0.875      0.140625      6.22222222222\n",
        "0.0      0.0      nan\n",
        "0.0      0.0      nan\n",
        "0.0      0.0      nan\n",
        "0.0      0.0      nan\n",
        "0.0      0.0      nan\n",
        "0.0      0.0      nan\n",
        "[ 0.     0.     0.     0.     0.     0.     0.375  0.625  0.875  0.     0.\n",
        "  0.375  0.625  0.875  0.     0.     0.375  0.625  0.875  0.     0.     0.\n",
        "  0.     0.     0.     0.     0.     0.     0.     0.     0.     0.375\n",
        "  0.375  0.375  0.     0.     0.625  0.625  0.625  0.     0.     0.875\n",
        "  0.875  0.875  0.     0.     0.     0.     0.     0.   ]\n",
        "[ 0.        0.        0.        0.        0.        0.        0.046875\n",
        "  0.078125  0.109375  0.        0.        0.0625    0.09375   0.125     0.\n",
        "  0.        0.078125  0.109375  0.140625  0.        0.        0.        0.\n",
        "  0.        0.        0.        0.        0.        0.        0.        0.\n",
        "  0.046875  0.0625    0.078125  0.        0.        0.078125  0.09375\n",
        "  0.109375  0.        0.        0.109375  0.125     0.140625  0.        0.\n",
        "  0.        0.        0.        0.      ]\n",
        "0.765625\n",
        "\n",
        "\n",
        "\n",
        "\n",
        "\n"
       ]
      }
     ],
     "prompt_number": 67
    },
    {
     "cell_type": "code",
     "collapsed": false,
     "input": [
      "map = Lagrange.dofmap()\n",
      "print VecV.dofmap().cell_dofs(0)\n",
      "\n",
      "\n",
      "\n",
      "cell = Cell(mesh,0)\n",
      "print map.tabulate_coordinates(cell)\n",
      "# map.cell_dofs(0)\n",
      "cell.get_vertex_coordinates()\n",
      "\n",
      "# map.cell_dofs\n",
      "\n"
     ],
     "language": "python",
     "metadata": {},
     "outputs": [
      {
       "output_type": "stream",
       "stream": "stdout",
       "text": [
        "[ 0  1  6 25 26 31]\n",
        "[[ 0.     0.   ]\n",
        " [ 0.25   0.   ]\n",
        " [ 0.25   0.25 ]\n",
        " [ 0.25   0.125]\n",
        " [ 0.125  0.125]\n",
        " [ 0.125  0.   ]]\n"
       ]
      },
      {
       "metadata": {},
       "output_type": "pyout",
       "prompt_number": 95,
       "text": [
        "array([ 0.  ,  0.  ,  0.25,  0.  ,  0.25,  0.25])"
       ]
      }
     ],
     "prompt_number": 95
    },
    {
     "cell_type": "code",
     "collapsed": false,
     "input": [],
     "language": "python",
     "metadata": {},
     "outputs": [],
     "prompt_number": 88
    },
    {
     "cell_type": "code",
     "collapsed": false,
     "input": [
      "u = Function(VecLagrange)\n",
      "u.vector()[:] = uVec.array\n",
      "v = Function(VecLagrange)\n",
      "v.vector()[:] = P"
     ],
     "language": "python",
     "metadata": {},
     "outputs": [],
     "prompt_number": 89
    },
    {
     "cell_type": "code",
     "collapsed": false,
     "input": [
      "plot(u)\n",
      "plot(v)"
     ],
     "language": "python",
     "metadata": {},
     "outputs": [
      {
       "metadata": {},
       "output_type": "pyout",
       "prompt_number": 20,
       "text": [
        "<dolfin.cpp.io.VTKPlotter; proxy of <Swig Object of type 'std::shared_ptr< dolfin::VTKPlotter > *' at 0x11b9819f0> >"
       ]
      }
     ],
     "prompt_number": 20
    },
    {
     "cell_type": "code",
     "collapsed": false,
     "input": [
      "v = Function(VecLagrange)"
     ],
     "language": "python",
     "metadata": {},
     "outputs": [],
     "prompt_number": 27
    },
    {
     "cell_type": "code",
     "collapsed": false,
     "input": [],
     "language": "python",
     "metadata": {},
     "outputs": []
    },
    {
     "cell_type": "code",
     "collapsed": false,
     "input": [
      "N = FacetNormal(mesh)\n"
     ],
     "language": "python",
     "metadata": {},
     "outputs": [],
     "prompt_number": 28
    },
    {
     "cell_type": "code",
     "collapsed": false,
     "input": [],
     "language": "python",
     "metadata": {},
     "outputs": [
      {
       "latex": [
        "${w_h^233}$"
       ],
       "metadata": {},
       "output_type": "pyout",
       "png": "[encoded data removed]",
       "prompt_number": 32,
       "text": [
        "Coefficient(VectorElement('Lagrange', Domain(Cell('triangle', 2), label='dolfin_mesh_with_id_0', data='<data with id 0>'), 1, dim=2, quad_scheme=None), 233)"
       ]
      }
     ],
     "prompt_number": 32
    },
    {
     "cell_type": "code",
     "collapsed": false,
     "input": [
      "for i in range(VecLagrange.dim()):\n",
      "    v.vector()[i] = 1\n",
      "    v[0]*N[0]*dS(mesh)\n",
      "\n",
      "    assemble(v[1]*N[1]*ds(mesh))\n",
      "    print assemble(jump(v,N)*dS(mesh))\n",
      "\n",
      "\n"
     ],
     "language": "python",
     "metadata": {},
     "outputs": [
      {
       "output_type": "stream",
       "stream": "stderr",
       "text": [
        "DEBUG:FFC:          Reusing form from cache.\n"
       ]
      },
      {
       "output_type": "stream",
       "stream": "stderr",
       "text": [
        "DEBUG:FFC:          Reusing form from cache.\n"
       ]
      },
      {
       "output_type": "stream",
       "stream": "stderr",
       "text": [
        "DEBUG:FFC:          Reusing form from cache.\n"
       ]
      },
      {
       "output_type": "stream",
       "stream": "stderr",
       "text": [
        "DEBUG:FFC:          Reusing form from cache.\n"
       ]
      },
      {
       "output_type": "stream",
       "stream": "stderr",
       "text": [
        "DEBUG:FFC:          Reusing form from cache.\n"
       ]
      },
      {
       "output_type": "stream",
       "stream": "stderr",
       "text": [
        "DEBUG:FFC:          Reusing form from cache.\n"
       ]
      },
      {
       "output_type": "stream",
       "stream": "stderr",
       "text": [
        "DEBUG:FFC:          Reusing form from cache.\n"
       ]
      },
      {
       "output_type": "stream",
       "stream": "stderr",
       "text": [
        "DEBUG:FFC:          Reusing form from cache.\n"
       ]
      },
      {
       "output_type": "stream",
       "stream": "stderr",
       "text": [
        "DEBUG:FFC:          Reusing form from cache.\n"
       ]
      },
      {
       "output_type": "stream",
       "stream": "stderr",
       "text": [
        "DEBUG:FFC:          Reusing form from cache.\n"
       ]
      },
      {
       "output_type": "stream",
       "stream": "stderr",
       "text": [
        "DEBUG:FFC:          Reusing form from cache.\n"
       ]
      },
      {
       "output_type": "stream",
       "stream": "stderr",
       "text": [
        "DEBUG:FFC:          Reusing form from cache.\n"
       ]
      },
      {
       "output_type": "stream",
       "stream": "stderr",
       "text": [
        "DEBUG:FFC:          Reusing form from cache.\n"
       ]
      },
      {
       "output_type": "stream",
       "stream": "stderr",
       "text": [
        "DEBUG:FFC:          Reusing form from cache.\n"
       ]
      },
      {
       "output_type": "stream",
       "stream": "stderr",
       "text": [
        "DEBUG:FFC:          Reusing form from cache.\n"
       ]
      },
      {
       "output_type": "stream",
       "stream": "stderr",
       "text": [
        "DEBUG:FFC:          Reusing form from cache.\n"
       ]
      },
      {
       "output_type": "stream",
       "stream": "stderr",
       "text": [
        "DEBUG:FFC:          Reusing form from cache.\n"
       ]
      },
      {
       "output_type": "stream",
       "stream": "stderr",
       "text": [
        "DEBUG:FFC:          Reusing form from cache.\n"
       ]
      },
      {
       "output_type": "stream",
       "stream": "stderr",
       "text": [
        "DEBUG:FFC:          Reusing form from cache.\n"
       ]
      },
      {
       "output_type": "stream",
       "stream": "stderr",
       "text": [
        "DEBUG:FFC:          Reusing form from cache.\n"
       ]
      },
      {
       "output_type": "stream",
       "stream": "stderr",
       "text": [
        "DEBUG:FFC:          Reusing form from cache.\n"
       ]
      },
      {
       "output_type": "stream",
       "stream": "stderr",
       "text": [
        "DEBUG:FFC:          Reusing form from cache.\n"
       ]
      },
      {
       "output_type": "stream",
       "stream": "stderr",
       "text": [
        "DEBUG:FFC:          Reusing form from cache.\n"
       ]
      },
      {
       "output_type": "stream",
       "stream": "stderr",
       "text": [
        "DEBUG:FFC:          Reusing form from cache.\n"
       ]
      },
      {
       "output_type": "stream",
       "stream": "stderr",
       "text": [
        "DEBUG:FFC:          Reusing form from cache.\n"
       ]
      },
      {
       "output_type": "stream",
       "stream": "stderr",
       "text": [
        "DEBUG:FFC:          Reusing form from cache.\n"
       ]
      },
      {
       "output_type": "stream",
       "stream": "stderr",
       "text": [
        "DEBUG:FFC:          Reusing form from cache.\n"
       ]
      },
      {
       "output_type": "stream",
       "stream": "stderr",
       "text": [
        "DEBUG:FFC:          Reusing form from cache.\n"
       ]
      },
      {
       "output_type": "stream",
       "stream": "stderr",
       "text": [
        "DEBUG:FFC:          Reusing form from cache.\n"
       ]
      },
      {
       "output_type": "stream",
       "stream": "stderr",
       "text": [
        "DEBUG:FFC:          Reusing form from cache.\n"
       ]
      },
      {
       "output_type": "stream",
       "stream": "stderr",
       "text": [
        "DEBUG:FFC:          Reusing form from cache.\n"
       ]
      },
      {
       "output_type": "stream",
       "stream": "stderr",
       "text": [
        "DEBUG:FFC:          Reusing form from cache.\n"
       ]
      },
      {
       "output_type": "stream",
       "stream": "stderr",
       "text": [
        "DEBUG:FFC:          Reusing form from cache.\n"
       ]
      },
      {
       "output_type": "stream",
       "stream": "stderr",
       "text": [
        "DEBUG:FFC:          Reusing form from cache.\n"
       ]
      },
      {
       "output_type": "stream",
       "stream": "stderr",
       "text": [
        "DEBUG:FFC:          Reusing form from cache.\n"
       ]
      },
      {
       "output_type": "stream",
       "stream": "stderr",
       "text": [
        "DEBUG:FFC:          Reusing form from cache.\n"
       ]
      },
      {
       "output_type": "stream",
       "stream": "stderr",
       "text": [
        "DEBUG:FFC:          Reusing form from cache.\n"
       ]
      },
      {
       "output_type": "stream",
       "stream": "stderr",
       "text": [
        "DEBUG:FFC:          Reusing form from cache.\n"
       ]
      },
      {
       "output_type": "stream",
       "stream": "stderr",
       "text": [
        "DEBUG:FFC:          Reusing form from cache.\n"
       ]
      },
      {
       "output_type": "stream",
       "stream": "stderr",
       "text": [
        "DEBUG:FFC:          Reusing form from cache.\n"
       ]
      },
      {
       "output_type": "stream",
       "stream": "stderr",
       "text": [
        "DEBUG:FFC:          Reusing form from cache.\n"
       ]
      },
      {
       "output_type": "stream",
       "stream": "stderr",
       "text": [
        "DEBUG:FFC:          Reusing form from cache.\n"
       ]
      },
      {
       "output_type": "stream",
       "stream": "stderr",
       "text": [
        "DEBUG:FFC:          Reusing form from cache.\n"
       ]
      },
      {
       "output_type": "stream",
       "stream": "stderr",
       "text": [
        "DEBUG:FFC:          Reusing form from cache.\n"
       ]
      },
      {
       "output_type": "stream",
       "stream": "stderr",
       "text": [
        "DEBUG:FFC:          Reusing form from cache.\n"
       ]
      },
      {
       "output_type": "stream",
       "stream": "stderr",
       "text": [
        "DEBUG:FFC:          Reusing form from cache.\n"
       ]
      },
      {
       "output_type": "stream",
       "stream": "stdout",
       "text": [
        "0.0\n",
        "0.0\n",
        "0.0\n",
        "0.0\n",
        "0.0\n",
        "0.0\n",
        "0.0\n",
        "0.0\n",
        "0.0\n",
        "0.0\n",
        "0.0\n",
        "0.0\n",
        "0.0\n",
        "0.0\n",
        "0.0\n",
        "0.0\n",
        "0.0\n",
        "0.0\n",
        "0.0\n",
        "0.0\n",
        "0.0\n",
        "0.0\n",
        "0.0"
       ]
      },
      {
       "output_type": "stream",
       "stream": "stderr",
       "text": [
        "DEBUG:FFC:          Reusing form from cache.\n"
       ]
      },
      {
       "output_type": "stream",
       "stream": "stderr",
       "text": [
        "DEBUG:FFC:          Reusing form from cache.\n"
       ]
      },
      {
       "output_type": "stream",
       "stream": "stderr",
       "text": [
        "DEBUG:FFC:          Reusing form from cache.\n"
       ]
      },
      {
       "output_type": "stream",
       "stream": "stderr",
       "text": [
        "DEBUG:FFC:          Reusing form from cache.\n"
       ]
      },
      {
       "output_type": "stream",
       "stream": "stderr",
       "text": [
        "DEBUG:FFC:          Reusing form from cache.\n"
       ]
      },
      {
       "output_type": "stream",
       "stream": "stderr",
       "text": [
        "DEBUG:FFC:          Reusing form from cache.\n"
       ]
      },
      {
       "output_type": "stream",
       "stream": "stderr",
       "text": [
        "DEBUG:FFC:          Reusing form from cache.\n"
       ]
      },
      {
       "output_type": "stream",
       "stream": "stderr",
       "text": [
        "DEBUG:FFC:          Reusing form from cache.\n"
       ]
      },
      {
       "output_type": "stream",
       "stream": "stderr",
       "text": [
        "DEBUG:FFC:          Reusing form from cache.\n"
       ]
      },
      {
       "output_type": "stream",
       "stream": "stderr",
       "text": [
        "DEBUG:FFC:          Reusing form from cache.\n"
       ]
      },
      {
       "output_type": "stream",
       "stream": "stderr",
       "text": [
        "DEBUG:FFC:          Reusing form from cache.\n"
       ]
      },
      {
       "output_type": "stream",
       "stream": "stderr",
       "text": [
        "DEBUG:FFC:          Reusing form from cache.\n"
       ]
      },
      {
       "output_type": "stream",
       "stream": "stderr",
       "text": [
        "DEBUG:FFC:          Reusing form from cache.\n"
       ]
      },
      {
       "output_type": "stream",
       "stream": "stderr",
       "text": [
        "DEBUG:FFC:          Reusing form from cache.\n"
       ]
      },
      {
       "output_type": "stream",
       "stream": "stderr",
       "text": [
        "DEBUG:FFC:          Reusing form from cache.\n"
       ]
      },
      {
       "output_type": "stream",
       "stream": "stderr",
       "text": [
        "DEBUG:FFC:          Reusing form from cache.\n"
       ]
      },
      {
       "output_type": "stream",
       "stream": "stderr",
       "text": [
        "DEBUG:FFC:          Reusing form from cache.\n"
       ]
      },
      {
       "output_type": "stream",
       "stream": "stderr",
       "text": [
        "DEBUG:FFC:          Reusing form from cache.\n"
       ]
      },
      {
       "output_type": "stream",
       "stream": "stderr",
       "text": [
        "DEBUG:FFC:          Reusing form from cache.\n"
       ]
      },
      {
       "output_type": "stream",
       "stream": "stderr",
       "text": [
        "DEBUG:FFC:          Reusing form from cache.\n"
       ]
      },
      {
       "output_type": "stream",
       "stream": "stderr",
       "text": [
        "DEBUG:FFC:          Reusing form from cache.\n"
       ]
      },
      {
       "output_type": "stream",
       "stream": "stderr",
       "text": [
        "DEBUG:FFC:          Reusing form from cache.\n"
       ]
      },
      {
       "output_type": "stream",
       "stream": "stderr",
       "text": [
        "DEBUG:FFC:          Reusing form from cache.\n"
       ]
      },
      {
       "output_type": "stream",
       "stream": "stderr",
       "text": [
        "DEBUG:FFC:          Reusing form from cache.\n"
       ]
      },
      {
       "output_type": "stream",
       "stream": "stderr",
       "text": [
        "DEBUG:FFC:          Reusing form from cache.\n"
       ]
      },
      {
       "output_type": "stream",
       "stream": "stderr",
       "text": [
        "DEBUG:FFC:          Reusing form from cache.\n"
       ]
      },
      {
       "output_type": "stream",
       "stream": "stderr",
       "text": [
        "DEBUG:FFC:          Reusing form from cache.\n"
       ]
      },
      {
       "output_type": "stream",
       "stream": "stderr",
       "text": [
        "DEBUG:FFC:          Reusing form from cache.\n"
       ]
      },
      {
       "output_type": "stream",
       "stream": "stderr",
       "text": [
        "DEBUG:FFC:          Reusing form from cache.\n"
       ]
      },
      {
       "output_type": "stream",
       "stream": "stderr",
       "text": [
        "DEBUG:FFC:          Reusing form from cache.\n"
       ]
      },
      {
       "output_type": "stream",
       "stream": "stderr",
       "text": [
        "DEBUG:FFC:          Reusing form from cache.\n"
       ]
      },
      {
       "output_type": "stream",
       "stream": "stderr",
       "text": [
        "DEBUG:FFC:          Reusing form from cache.\n"
       ]
      },
      {
       "output_type": "stream",
       "stream": "stderr",
       "text": [
        "DEBUG:FFC:          Reusing form from cache.\n"
       ]
      },
      {
       "output_type": "stream",
       "stream": "stderr",
       "text": [
        "DEBUG:FFC:          Reusing form from cache.\n"
       ]
      },
      {
       "output_type": "stream",
       "stream": "stderr",
       "text": [
        "DEBUG:FFC:          Reusing form from cache.\n"
       ]
      },
      {
       "output_type": "stream",
       "stream": "stderr",
       "text": [
        "DEBUG:FFC:          Reusing form from cache.\n"
       ]
      },
      {
       "output_type": "stream",
       "stream": "stderr",
       "text": [
        "DEBUG:FFC:          Reusing form from cache.\n"
       ]
      },
      {
       "output_type": "stream",
       "stream": "stderr",
       "text": [
        "DEBUG:FFC:          Reusing form from cache.\n"
       ]
      },
      {
       "output_type": "stream",
       "stream": "stderr",
       "text": [
        "DEBUG:FFC:          Reusing form from cache.\n"
       ]
      },
      {
       "output_type": "stream",
       "stream": "stderr",
       "text": [
        "DEBUG:FFC:          Reusing form from cache.\n"
       ]
      },
      {
       "output_type": "stream",
       "stream": "stderr",
       "text": [
        "DEBUG:FFC:          Reusing form from cache.\n"
       ]
      },
      {
       "output_type": "stream",
       "stream": "stderr",
       "text": [
        "DEBUG:FFC:          Reusing form from cache.\n"
       ]
      },
      {
       "output_type": "stream",
       "stream": "stderr",
       "text": [
        "DEBUG:FFC:          Reusing form from cache.\n"
       ]
      },
      {
       "output_type": "stream",
       "stream": "stderr",
       "text": [
        "DEBUG:FFC:          Reusing form from cache.\n"
       ]
      },
      {
       "output_type": "stream",
       "stream": "stdout",
       "text": [
        "\n",
        "0.0\n",
        "0.0\n",
        "0.0\n",
        "0.0\n",
        "0.0\n",
        "0.0\n",
        "0.0\n",
        "0.0\n",
        "0.0\n",
        "0.0\n",
        "0.0\n",
        "0.0\n",
        "0.0\n",
        "0.0\n",
        "0.0\n",
        "0.0\n",
        "0.0\n",
        "0.0\n",
        "0.0\n",
        "0.0\n",
        "0.0\n",
        "0.0"
       ]
      },
      {
       "output_type": "stream",
       "stream": "stderr",
       "text": [
        "DEBUG:FFC:          Reusing form from cache.\n"
       ]
      },
      {
       "output_type": "stream",
       "stream": "stderr",
       "text": [
        "DEBUG:FFC:          Reusing form from cache.\n"
       ]
      },
      {
       "output_type": "stream",
       "stream": "stderr",
       "text": [
        "DEBUG:FFC:          Reusing form from cache.\n"
       ]
      },
      {
       "output_type": "stream",
       "stream": "stderr",
       "text": [
        "DEBUG:FFC:          Reusing form from cache.\n"
       ]
      },
      {
       "output_type": "stream",
       "stream": "stderr",
       "text": [
        "DEBUG:FFC:          Reusing form from cache.\n"
       ]
      },
      {
       "output_type": "stream",
       "stream": "stderr",
       "text": [
        "DEBUG:FFC:          Reusing form from cache.\n"
       ]
      },
      {
       "output_type": "stream",
       "stream": "stderr",
       "text": [
        "DEBUG:FFC:          Reusing form from cache.\n"
       ]
      },
      {
       "output_type": "stream",
       "stream": "stderr",
       "text": [
        "DEBUG:FFC:          Reusing form from cache.\n"
       ]
      },
      {
       "output_type": "stream",
       "stream": "stderr",
       "text": [
        "DEBUG:FFC:          Reusing form from cache.\n"
       ]
      },
      {
       "output_type": "stream",
       "stream": "stderr",
       "text": [
        "DEBUG:FFC:          Reusing form from cache.\n"
       ]
      },
      {
       "output_type": "stream",
       "stream": "stdout",
       "text": [
        "\n",
        "0.0\n",
        "0.0\n",
        "0.0\n",
        "0.0\n",
        "0.0\n"
       ]
      }
     ],
     "prompt_number": 62
    },
    {
     "cell_type": "code",
     "collapsed": false,
     "input": [],
     "language": "python",
     "metadata": {},
     "outputs": []
    },
    {
     "cell_type": "code",
     "collapsed": false,
     "input": [],
     "language": "python",
     "metadata": {},
     "outputs": []
    },
    {
     "cell_type": "code",
     "collapsed": false,
     "input": [],
     "language": "python",
     "metadata": {},
     "outputs": []
    },
    {
     "cell_type": "code",
     "collapsed": false,
     "input": [],
     "language": "python",
     "metadata": {},
     "outputs": []
    },
    {
     "cell_type": "code",
     "collapsed": false,
     "input": [],
     "language": "python",
     "metadata": {},
     "outputs": []
    },
    {
     "cell_type": "code",
     "collapsed": false,
     "input": [],
     "language": "python",
     "metadata": {},
     "outputs": []
    }
   ],
   "metadata": {}
  }
 ]
}
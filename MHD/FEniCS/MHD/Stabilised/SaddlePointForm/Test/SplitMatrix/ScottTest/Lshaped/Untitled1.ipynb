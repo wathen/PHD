{
 "metadata": {
  "name": "",
  "signature": "sha256:125bea93445804acf7524cc97d7d4351faa04aaa9049ecb265fe8e4ac97ed83e"
 },
 "nbformat": 3,
 "nbformat_minor": 0,
 "worksheets": [
  {
   "cells": [
    {
     "cell_type": "code",
     "collapsed": false,
     "input": [
      "#!/usr/bin/python\n",
      "\n",
      "# interpolate scalar gradient onto nedelec space\n",
      "\n",
      "import petsc4py\n",
      "import sys\n",
      "\n",
      "petsc4py.init(sys.argv)\n",
      "\n",
      "from petsc4py import PETSc\n",
      "from dolfin import *\n",
      "import mshr\n",
      "Print = PETSc.Sys.Print\n",
      "# from MatrixOperations import *\n",
      "import numpy as np\n",
      "import PETScIO as IO\n",
      "import common\n",
      "import scipy\n",
      "import scipy.io\n",
      "import time\n",
      "\n",
      "import BiLinear as forms\n",
      "import IterOperations as Iter\n",
      "import MatrixOperations as MO\n",
      "import CheckPetsc4py as CP\n",
      "import ExactSol\n",
      "import Solver as S\n",
      "import MHDmatrixPrecondSetup as PrecondSetup\n",
      "import NSprecondSetup\n",
      "import MHDprec as MHDpreconditioner\n",
      "import memory_profiler\n",
      "import gc\n",
      "import MHDmulti\n",
      "import MHDmatrixSetup as MHDsetup\n",
      "import Lshaped\n",
      "#@profile\n",
      "m = 4\n",
      "\n",
      "set_log_active(False)\n",
      "errL2u =np.zeros((m-1,1))\n",
      "errH1u =np.zeros((m-1,1))\n",
      "errL2p =np.zeros((m-1,1))\n",
      "errL2b =np.zeros((m-1,1))\n",
      "errCurlb =np.zeros((m-1,1))\n",
      "errL2r =np.zeros((m-1,1))\n",
      "errH1r =np.zeros((m-1,1))\n",
      "\n",
      "\n",
      "\n",
      "l2uorder =  np.zeros((m-1,1))\n",
      "H1uorder =np.zeros((m-1,1))\n",
      "l2porder =  np.zeros((m-1,1))\n",
      "l2border =  np.zeros((m-1,1))\n",
      "Curlborder =np.zeros((m-1,1))\n",
      "l2rorder =  np.zeros((m-1,1))\n",
      "H1rorder = np.zeros((m-1,1))\n",
      "\n",
      "NN = np.zeros((m-1,1))\n",
      "DoF = np.zeros((m-1,1))\n",
      "Velocitydim = np.zeros((m-1,1))\n",
      "Magneticdim = np.zeros((m-1,1))\n",
      "Pressuredim = np.zeros((m-1,1))\n",
      "Lagrangedim = np.zeros((m-1,1))\n",
      "Wdim = np.zeros((m-1,1))\n",
      "iterations = np.zeros((m-1,1))\n",
      "SolTime = np.zeros((m-1,1))\n",
      "udiv = np.zeros((m-1,1))\n",
      "MU = np.zeros((m-1,1))\n",
      "level = np.zeros((m-1,1))\n",
      "NSave = np.zeros((m-1,1))\n",
      "Mave = np.zeros((m-1,1))\n",
      "TotalTime = np.zeros((m-1,1))\n",
      "\n",
      "nn = 2\n",
      "\n",
      "dim = 2\n",
      "ShowResultPlots = 'yes'\n",
      "split = 'Linear'\n",
      "\n",
      "MU[0]= 1e0\n",
      "for xx in xrange(1,m):\n",
      "    print xx\n",
      "    level[xx-1] = xx + 0\n",
      "    nn = 2**(level[xx-1])\n",
      "\n",
      "\n",
      "\n",
      "    # Create mesh and define function space\n",
      "    nn = int(nn)\n",
      "    NN[xx-1] = nn/2\n",
      "    # parameters[\"form_compiler\"][\"quadrature_degree\"] = 6\n",
      "    # parameters = CP.ParameterSetup()\n",
      "    # mesh = UnitSquareMesh(nn,nn)\n",
      "    # domain = mshr.Rectangle(Point(0., 0.), Point(1., 2.)) + mshr.Rectangle(Point(1., 0.), Point(2., 1.))\n",
      "    # mesh = mshr.generate_mesh(domain, nn)\n",
      "    mesh, boundaries, domains = Lshaped.Domain(nn)\n",
      "    # set_log_level(WARNING)\n",
      "\n",
      "    order = 2\n",
      "    parameters['reorder_dofs_serial'] = False\n",
      "    Velocity = VectorFunctionSpace(mesh, \"CG\", order)\n",
      "    Pressure = FunctionSpace(mesh, \"CG\", order-1)\n",
      "    Magnetic = FunctionSpace(mesh, \"N1curl\", order-1)\n",
      "    Lagrange = FunctionSpace(mesh, \"CG\", order-1)\n",
      "    W = MixedFunctionSpace([Velocity, Pressure, Magnetic,Lagrange])\n",
      "    # W = Velocity*Pressure*Magnetic*Lagrange\n",
      "    Velocitydim[xx-1] = Velocity.dim()\n",
      "    Pressuredim[xx-1] = Pressure.dim()\n",
      "    Magneticdim[xx-1] = Magnetic.dim()\n",
      "    Lagrangedim[xx-1] = Lagrange.dim()\n",
      "    Wdim[xx-1] = W.dim()\n",
      "    print \"\\n\\nW:  \",Wdim[xx-1],\"Velocity:  \",Velocitydim[xx-1],\"Pressure:  \",Pressuredim[xx-1],\"Magnetic:  \",Magneticdim[xx-1],\"Lagrange:  \",Lagrangedim[xx-1],\"\\n\\n\"\n",
      "    dim = [Velocity.dim(), Pressure.dim(), Magnetic.dim(), Lagrange.dim()]\n",
      "\n",
      "\n",
      "    def boundary(x, on_boundary):\n",
      "        return on_boundary\n",
      "\n",
      "\n",
      "    FSpaces = [Velocity,Pressure,Magnetic,Lagrange]\n",
      "\n",
      "\n",
      "\n",
      "    kappa = 1.0\n",
      "    Mu_m =1e4\n",
      "    MU = 1.0\n",
      "\n",
      "    N = FacetNormal(mesh)\n",
      "    ds = Measure('ds', domain=mesh, subdomain_data=boundaries)\n",
      "    dx = Measure('dx', domain=mesh)\n",
      "\n",
      "    # g = inner(p0*N - MU*grad(u0)*N,v)*dx\n",
      "\n",
      "    IterType = 'Full'\n",
      "    Split = \"No\"\n",
      "    Saddle = \"No\"\n",
      "    Stokes = \"No\"\n",
      "    SetupType = 'python-class'\n",
      "    # F_NS = -MU*Laplacian+Advection+gradPres-kappa*NS_Couple\n",
      "    # if kappa == 0:\n",
      "    #     F_M = Mu_m*CurlCurl+gradR -kappa*M_Couple\n",
      "    # else:\n",
      "    #     F_M = Mu_m*kappa*CurlCurl+gradR -kappa*M_Couple\n",
      "    params = [kappa,Mu_m,MU]\n",
      "    u0, p0, b0, r0, F_NS, F_M, gradu0, Neumann = Lshaped.Solution(mesh, params)\n",
      "\n",
      "\n",
      "    u_k, p_k = Lshaped.Stokes(Velocity, Pressure, F_NS, u0, p0, Neumann, params, boundaries, domains)\n",
      "    b_k, r_k = Lshaped.Maxwell(Magnetic, Lagrange, F_M, b0, r0, params,boundaries)\n",
      "    # print u_k.vector().array()\n",
      "    # print p_k.vector().array()\n",
      "    # print b_k.vector().array()\n",
      "    # print r_k.vector().array()\n",
      "    # bcu = DirichletBC(W.sub(0),u0, boundaries, 1)\n",
      "    # bcb = DirichletBC(W.sub(2),b0, boundaries, 1)\n",
      "    # bcr = DirichletBC(W.sub(3),r0, boundaries, 1)\n",
      "    # print bcu.get_boundary_values()\n",
      "    # print bcb.get_boundary_values()\n",
      "    # print bcr.get_boundary_values()\n",
      "    # ssss\n",
      "\n",
      "    (u, p, b, r) = TrialFunctions(W)\n",
      "    (v, q, c, s) = TestFunctions(W)\n",
      "\n",
      "    n = FacetNormal(mesh)\n",
      "\n",
      "    # u_k = Function(Velocity)\n",
      "    # p_k = Function(Pressure)\n",
      "    # b_k = Function(Magnetic)\n",
      "    # r_k = Function(Lagrange)\n",
      "\n",
      "    m11 = params[1]*params[0]*inner(curl(b),curl(c))*dx\n",
      "    m21 = inner(c,grad(r))*dx\n",
      "    m12 = inner(b,grad(s))*dx\n",
      "\n",
      "    a11 = params[2]*inner(grad(v), grad(u))*dx + inner((grad(u)*u_k),v)*dx #+(1./2)*div(u_k)*inner(u,v)*dx - (1./2)*inner(u_k,n)*inner(u,v)*ds\n",
      "    a12 = -div(v)*p*dx\n",
      "    a21 = -div(u)*q*dx\n",
      "\n",
      "    CoupleT = params[0]*(v[0]*b_k[1]-v[1]*b_k[0])*curl(b)*dx\n",
      "    Couple = -params[0]*(u[0]*b_k[1]-u[1]*b_k[0])*curl(c)*dx\n",
      "\n",
      "    a = m11 + m12 + m21 + a11 + a21 + a12 + Couple + CoupleT\n",
      "\n",
      "\n",
      "    Lns  = inner(v, F_NS)*dx + inner(Neumann,v)*ds(2)\n",
      "    Lmaxwell  = inner(c, F_M)*dx\n",
      "\n",
      "\n",
      "    m11 = params[1]*params[0]*inner(curl(b_k),curl(c))*dx\n",
      "    m21 = inner(c,grad(r_k))*dx\n",
      "    m12 = inner(b_k,grad(s))*dx\n",
      "\n",
      "    a11 = params[2]*inner(grad(v), grad(u_k))*dx + inner((grad(u_k)*u_k),v)*dx #+(1./2)*div(u_k)*inner(u_k,v)*dx - (1./2)*inner(u_k,n)*inner(u_k,v)*ds\n",
      "    a12 = -div(v)*p_k*dx\n",
      "    a21 = -div(u_k)*q*dx\n",
      "    CoupleT = params[0]*(v[0]*b_k[1]-v[1]*b_k[0])*curl(b_k)*dx\n",
      "    Couple = -params[0]*(u_k[0]*b_k[1]-u_k[1]*b_k[0])*curl(c)*dx\n",
      "\n",
      "    L = Lns + Lmaxwell - (m11 + m12 + m21 + a11 + a21 + a12 + Couple + CoupleT)\n",
      "\n",
      "\n",
      "    MO.PrintStr(\"Seting up initial guess matricies\",2,\"=\",\"\\n\\n\",\"\\n\")\n",
      "    BCtime = time.time()\n",
      "    BC = MHDsetup.BoundaryIndices(mesh)\n",
      "    MO.StrTimePrint(\"BC index function, time: \", time.time()-BCtime)\n",
      "    Hiptmairtol = 1e-6\n",
      "    HiptmairMatrices = PrecondSetup.MagneticSetup(Magnetic, Lagrange, b0, r0, Hiptmairtol, params)\n",
      "\n",
      "\n",
      "    MO.PrintStr(\"Setting up MHD initial guess\",5,\"+\",\"\\n\\n\",\"\\n\\n\")\n",
      "    # u_k,p_k,b_k,r_k = common.InitialGuess(FSpaces,[u0,p0,b0,r0],[F_NS,F_M],params,HiptmairMatrices,1e-10,Neumann=None,options =\"New\")\n",
      "\n",
      "\n",
      "\n",
      "\n",
      "    ones = Function(Pressure)\n",
      "    ones.vector()[:]=(0*ones.vector().array()+1)\n",
      "    # pConst = - assemble(p_k*dx)/assemble(ones*dx)\n",
      "    # p_k.vector()[:] += - assemble(p_k*dx)/assemble(ones*dx)\n",
      "    x = Iter.u_prev(u_k,p_k,b_k,r_k)\n",
      "\n",
      "    KSPlinearfluids, MatrixLinearFluids = PrecondSetup.FluidLinearSetup(Pressure, MU)\n",
      "    kspFp, Fp = PrecondSetup.FluidNonLinearSetup(Pressure, MU, u_k)\n",
      "    #plot(b_k)\n",
      "\n",
      "    # ns,maxwell,CoupleTerm,Lmaxwell,Lns = forms.MHD2D(mesh, W,F_M,F_NS, u_k,b_k,params,IterType,\"CG\",Saddle,Stokes)\n",
      "    # RHSform = forms.PicardRHS(mesh, W, u_k, p_k, b_k, r_k, params,\"CG\",Saddle,Stokes)\n",
      "\n",
      "    # bcu = DirichletBC(W.sub(0),Expression((\"0.0\",\"0.0\")), boundaries, 1)\n",
      "    # bcb = DirichletBC(W.sub(2),Expression((\"0.0\",\"0.0\")), boundaries, 1)\n",
      "    # bcr = DirichletBC(W.sub(3),Expression((\"0.0\")), boundaries, 1)\n",
      "    # bcs = [bcu,bcb,bcr]\n",
      "    IS = MO.IndexSet(W, 'Blocks')\n",
      "\n",
      "    parameters['linear_algebra_backend'] = 'uBLAS'\n",
      "\n",
      "    eps = 1.0           # error measure ||u-u_k||\n",
      "    tol = 1.0E-4     # tolerance\n",
      "    iter = 0            # iteration counter\n",
      "    maxiter = 10       # max no of iterations allowed\n",
      "    SolutionTime = 0\n",
      "    outer = 0\n",
      "    # parameters['linear_algebra_backend'] = 'uBLAS'\n",
      "\n",
      "    # FSpaces = [Velocity,Magnetic,Pressure,Lagrange]\n",
      "\n",
      "    u_is = PETSc.IS().createGeneral(range(Velocity.dim()))\n",
      "    NS_is = PETSc.IS().createGeneral(range(Velocity.dim()+Pressure.dim()))\n",
      "    M_is = PETSc.IS().createGeneral(range(Velocity.dim()+Pressure.dim(),W.dim()))\n",
      "    OuterTol = 1e-5\n",
      "    InnerTol = 1e-5\n",
      "    NSits =0\n",
      "    Mits =0\n",
      "    TotalStart =time.time()\n",
      "    SolutionTime = 0\n",
      "    while eps > tol  and iter < maxiter:\n",
      "        iter += 1\n",
      "        MO.PrintStr(\"Iter \"+str(iter),7,\"=\",\"\\n\\n\",\"\\n\\n\")\n",
      "\n",
      "        # if iter == 1:\n",
      "        #     bcu = DirichletBC(W.sub(0),u0, boundaries, 1)\n",
      "        #     bcb = DirichletBC(W.sub(2),b0, boundaries, 1)\n",
      "        #     bcr = DirichletBC(W.sub(3),r0, boundaries, 1)\n",
      "        #     bcs = [bcu,bcb,bcr]\n",
      "        # else:\n",
      "        bcu = DirichletBC(W.sub(0),Expression((\"0.0\",\"0.0\")), boundaries, 1)\n",
      "        bcb = DirichletBC(W.sub(2),Expression((\"0.0\",\"0.0\")), boundaries, 1)\n",
      "        bcr = DirichletBC(W.sub(3),Expression(\"0.0\"), boundaries, 1)\n",
      "        bcs = [bcu,bcb,bcr]\n",
      "        # if iter == 1:\n",
      "        # , L\n",
      "        A, b = assemble_system(a, L, bcs)\n",
      "\n",
      "        # AA = assemble(a)\n",
      "\n",
      "        # bb = assemble(L)\n",
      "\n",
      "        # for bc in bcs:\n",
      "        #     bc.apply(AA,bb)\n",
      "\n",
      "\n",
      "        # print A.sparray().todense()\n",
      "        # MO.StoreMatrix(A.sparray(),'name')\n",
      "        A, b = CP.Assemble(A,b)\n",
      "        u = b.duplicate()\n",
      "        # print b.array\n",
      "        # ssss\n",
      "        # L = assemble(L)\n",
      "        # print L.array()\n",
      "        # for bc in bcs:\n",
      "        #     bc.apply(L)\n",
      "\n",
      "        # print L.array()\n",
      "        # MO.StrTimePrint(\"MHD total assemble, time: \", time.time()-AssembleTime)\n",
      "\n",
      "        # u = b.duplicate()\n",
      "        # kspFp, Fp = PrecondSetup.FluidNonLinearSetup(Pressure, MU, u_k)\n",
      "        # print \"Inititial guess norm: \",  u.norm(PETSc.NormType.NORM_INFINITY)\n",
      "        # #A,Q\n",
      "\n",
      "        stime = time.time()\n",
      "        u, mits,nsits = S.solve(A,b,u,params,W,'Direct',IterType,OuterTol,InnerTol,HiptmairMatrices,Hiptmairtol,KSPlinearfluids, Fp,1)\n",
      "        Soltime = time.time()- stime\n",
      "        MO.StrTimePrint(\"MHD solve, time: \", Soltime)\n",
      "        Mits += mits\n",
      "        NSits += nsits\n",
      "        SolutionTime += Soltime\n",
      "\n",
      "        u1, p1, b1, r1, eps= Iter.PicardToleranceDecouple(u,x,FSpaces,dim,\"2\",iter)\n",
      "        p1.vector()[:] += - assemble(p1*dx)/assemble(ones*dx)\n",
      "        u_k.assign(u1)\n",
      "        p_k.assign(p1)\n",
      "        b_k.assign(b1)\n",
      "        r_k.assign(r1)\n",
      "        uOld= np.concatenate((u_k.vector().array(),p_k.vector().array(),b_k.vector().array(),r_k.vector().array()), axis=0)\n",
      "        x = IO.arrayToVec(uOld)\n",
      "\n",
      "\n",
      "\n",
      "    XX= np.concatenate((u_k.vector().array(),p_k.vector().array(),b_k.vector().array(),r_k.vector().array()), axis=0)\n",
      "    SolTime[xx-1] = SolutionTime/iter\n",
      "    NSave[xx-1] = (float(NSits)/iter)\n",
      "    Mave[xx-1] = (float(Mits)/iter)\n",
      "    iterations[xx-1] = iter\n",
      "    TotalTime[xx-1] = time.time() - TotalStart\n",
      "    dim = [Velocity.dim(), Pressure.dim(), Magnetic.dim(),Lagrange.dim()]\n",
      "\n",
      "    ExactSolution = [u0,p0,b0,r0]\n",
      "    errL2u[xx-1], errH1u[xx-1], errL2p[xx-1], errL2b[xx-1], errCurlb[xx-1], errL2r[xx-1], errH1r[xx-1] = Iter.Errors(x,mesh,FSpaces,ExactSolution,order,dim, \"CG\")\n",
      "    print float(Wdim[xx-1][0])/Wdim[xx-2][0]\n",
      "    if xx > 1:\n",
      "       l2uorder[xx-1] =  np.abs(np.log2(errL2u[xx-2]/errL2u[xx-1])/np.log2(sqrt(float(Velocitydim[xx-1][0])/Velocitydim[xx-2][0])))\n",
      "       H1uorder[xx-1] =  np.abs(np.log2(errH1u[xx-2]/errH1u[xx-1])/np.log2(sqrt(float(Velocitydim[xx-1][0])/Velocitydim[xx-2][0])))\n",
      "\n",
      "       l2porder[xx-1] =  np.abs(np.log2(errL2p[xx-2]/errL2p[xx-1])/np.log2(sqrt(float(Pressuredim[xx-1][0])/Pressuredim[xx-2][0])))\n",
      "\n",
      "       l2border[xx-1] =  np.abs(np.log2(errL2b[xx-2]/errL2b[xx-1])/np.log2(sqrt(float(Magneticdim[xx-1][0])/Magneticdim[xx-2][0])))\n",
      "       Curlborder[xx-1] =  np.abs(np.log2(errCurlb[xx-2]/errCurlb[xx-1])/np.log2(sqrt(float(Magneticdim[xx-1][0])/Magneticdim[xx-2][0])))\n",
      "\n",
      "       l2rorder[xx-1] =  np.abs(np.log2(errL2r[xx-2]/errL2r[xx-1])/np.log2(sqrt(float(Lagrangedim[xx-1][0])/Lagrangedim[xx-2][0])))\n",
      "       H1rorder[xx-1] =  np.abs(np.log2(errH1r[xx-2]/errH1r[xx-1])/np.log2(sqrt(float(Lagrangedim[xx-1][0])/Lagrangedim[xx-2][0])))\n",
      "\n",
      "\n",
      "\n",
      "\n",
      "import pandas as pd\n",
      "\n",
      "\n",
      "\n",
      "LatexTitles = [\"l\",\"DoFu\",\"Dofp\",\"V-L2\",\"L2-order\",\"V-H1\",\"H1-order\",\"P-L2\",\"PL2-order\"]\n",
      "LatexValues = np.concatenate((level,Velocitydim,Pressuredim,errL2u,l2uorder,errH1u,H1uorder,errL2p,l2porder), axis=1)\n",
      "LatexTable = pd.DataFrame(LatexValues, columns = LatexTitles)\n",
      "pd.set_option('precision',3)\n",
      "LatexTable = MO.PandasFormat(LatexTable,\"V-L2\",\"%2.4e\")\n",
      "LatexTable = MO.PandasFormat(LatexTable,'V-H1',\"%2.4e\")\n",
      "LatexTable = MO.PandasFormat(LatexTable,\"H1-order\",\"%1.2f\")\n",
      "LatexTable = MO.PandasFormat(LatexTable,'L2-order',\"%1.2f\")\n",
      "LatexTable = MO.PandasFormat(LatexTable,\"P-L2\",\"%2.4e\")\n",
      "LatexTable = MO.PandasFormat(LatexTable,'PL2-order',\"%1.2f\")\n",
      "print LatexTable.to_latex()\n",
      "\n",
      "\n",
      "print \"\\n\\n   Magnetic convergence\"\n",
      "MagneticTitles = [\"l\",\"B DoF\",\"R DoF\",\"B-L2\",\"L2-order\",\"B-Curl\",\"HCurl-order\"]\n",
      "MagneticValues = np.concatenate((level,Magneticdim,Lagrangedim,errL2b,l2border,errCurlb,Curlborder),axis=1)\n",
      "MagneticTable= pd.DataFrame(MagneticValues, columns = MagneticTitles)\n",
      "pd.set_option('precision',3)\n",
      "MagneticTable = MO.PandasFormat(MagneticTable,\"B-Curl\",\"%2.4e\")\n",
      "MagneticTable = MO.PandasFormat(MagneticTable,'B-L2',\"%2.4e\")\n",
      "MagneticTable = MO.PandasFormat(MagneticTable,\"L2-order\",\"%1.2f\")\n",
      "MagneticTable = MO.PandasFormat(MagneticTable,'HCurl-order',\"%1.2f\")\n",
      "print MagneticTable.to_latex()\n",
      "\n",
      "print \"\\n\\n   Lagrange convergence\"\n",
      "LagrangeTitles = [\"l\",\"B DoF\",\"R DoF\",\"R-L2\",\"L2-order\",\"R-H1\",\"H1-order\"]\n",
      "LagrangeValues = np.concatenate((level,Magneticdim,Lagrangedim,errL2r,l2rorder,errH1r,H1rorder),axis=1)\n",
      "LagrangeTable= pd.DataFrame(LagrangeValues, columns = LagrangeTitles)\n",
      "pd.set_option('precision',3)\n",
      "LagrangeTable = MO.PandasFormat(LagrangeTable,\"R-L2\",\"%2.4e\")\n",
      "LagrangeTable = MO.PandasFormat(LagrangeTable,'R-H1',\"%2.4e\")\n",
      "LagrangeTable = MO.PandasFormat(LagrangeTable,\"L2-order\",\"%1.2f\")\n",
      "LagrangeTable = MO.PandasFormat(LagrangeTable,'H1-order',\"%1.2f\")\n",
      "print LagrangeTable.to_latex()\n",
      "\n",
      "\n",
      "\n",
      "\n",
      "import pandas as pd\n",
      "\n",
      "\n",
      "\n",
      "\n",
      "print \"\\n\\n   Iteration table\"\n",
      "if IterType == \"Full\":\n",
      "    IterTitles = [\"l\",\"DoF\",\"AV solve Time\",\"Total picard time\",\"picard iterations\",\"Av Outer its\",\"Av Inner its\",]\n",
      "else:\n",
      "    IterTitles = [\"l\",\"DoF\",\"AV solve Time\",\"Total picard time\",\"picard iterations\",\"Av NS iters\",\"Av M iters\"]\n",
      "IterValues = np.concatenate((level,Wdim,SolTime,TotalTime,iterations,Mave,NSave),axis=1)\n",
      "IterTable= pd.DataFrame(IterValues, columns = IterTitles)\n",
      "if IterType == \"Full\":\n",
      "    IterTable = MO.PandasFormat(IterTable,'Av Outer its',\"%2.1f\")\n",
      "    IterTable = MO.PandasFormat(IterTable,'Av Inner its',\"%2.1f\")\n",
      "else:\n",
      "    IterTable = MO.PandasFormat(IterTable,'Av NS iters',\"%2.1f\")\n",
      "    IterTable = MO.PandasFormat(IterTable,'Av M iters',\"%2.1f\")\n",
      "print IterTable\n",
      "print \" \\n  Outer Tol:  \",OuterTol, \"Inner Tol:   \", InnerTol\n",
      "\n",
      "# tableName = \"2d_Lshaped_nu=\"+str(MU)+\"_nu_m=\"+str(Mu_m)+\"_kappa=\"+str(kappa)+\"_l=\"+str(np.min(level))+\"-\"+str(np.max(level))+\"Approx.tex\"\n",
      "# IterTable.to_latex(tableName)\n",
      "\n",
      "# # # if (ShowResultPlots == 'yes'):\n",
      "\n",
      "#    plot(u_k)\n",
      "#    plot(interpolate(u0,Velocity))\n",
      "#\n",
      "#    plot(p_k)\n",
      "#\n",
      "#    plot(interpolate(p0,Pressure))\n",
      "#\n",
      "#    plot(b_k)\n",
      "#    plot(interpolate(b0,Magnetic))\n",
      "#\n",
      "#    plot(r_k)\n",
      "#    plot(interpolate(r0,Lagrange))\n",
      "#\n",
      "#    interactive()\n",
      "\n",
      "interactive()\n"
     ],
     "language": "python",
     "metadata": {},
     "outputs": [
      {
       "output_type": "stream",
       "stream": "stderr",
       "text": [
        "DEBUG:FFC:Reusing form from cache.\n"
       ]
      },
      {
       "output_type": "stream",
       "stream": "stderr",
       "text": [
        "DEBUG:FFC:Reusing form from cache.\n"
       ]
      },
      {
       "output_type": "stream",
       "stream": "stderr",
       "text": [
        "DEBUG:FFC:Reusing form from cache.\n"
       ]
      },
      {
       "output_type": "stream",
       "stream": "stderr",
       "text": [
        "DEBUG:FFC:Reusing form from cache.\n"
       ]
      },
      {
       "output_type": "stream",
       "stream": "stderr",
       "text": [
        "DEBUG:FFC:Reusing form from cache.\n"
       ]
      },
      {
       "output_type": "stream",
       "stream": "stdout",
       "text": [
        "1\n",
        "\n",
        "\n",
        "W:  "
       ]
      },
      {
       "output_type": "stream",
       "stream": "stderr",
       "text": [
        "DEBUG:FFC:Reusing form from cache.\n"
       ]
      },
      {
       "output_type": "stream",
       "stream": "stderr",
       "text": [
        "DEBUG:FFC:Reusing form from cache.\n"
       ]
      },
      {
       "output_type": "stream",
       "stream": "stderr",
       "text": [
        "DEBUG:FFC:Reusing form from cache.\n"
       ]
      },
      {
       "output_type": "stream",
       "stream": "stderr",
       "text": [
        "DEBUG:FFC:Reusing form from cache.\n"
       ]
      },
      {
       "output_type": "stream",
       "stream": "stderr",
       "text": [
        "DEBUG:FFC:Reusing form from cache.\n"
       ]
      },
      {
       "output_type": "stream",
       "stream": "stderr",
       "text": [
        "DEBUG:FFC:Reusing form from cache.\n"
       ]
      },
      {
       "output_type": "stream",
       "stream": "stderr",
       "text": [
        "DEBUG:FFC:Reusing form from cache.\n"
       ]
      },
      {
       "output_type": "stream",
       "stream": "stderr",
       "text": [
        "DEBUG:FFC:Reusing form from cache.\n"
       ]
      },
      {
       "output_type": "stream",
       "stream": "stdout",
       "text": [
        " [ 110.] Velocity:   [ 66.] Pressure:   [ 11.] Magnetic:   [ 22.] Lagrange:   [ 11.] \n",
        "\n",
        "\n",
        "\n",
        "\n",
        "====================================="
       ]
      },
      {
       "output_type": "stream",
       "stream": "stdout",
       "text": [
        "\n",
        "  Seting up initial guess matricies\n",
        "=====================================\n",
        "\n",
        "BC index function, time:                  ==>   0.001603    time:  15:46\n",
        " ==================================\n",
        "   Preconditioning Magnetic setup\n",
        " ==================================\n",
        "Compute edge boundary indices, time:    "
       ]
      },
      {
       "output_type": "stream",
       "stream": "stderr",
       "text": [
        "DEBUG:FFC:Reusing form from cache.\n"
       ]
      },
      {
       "output_type": "stream",
       "stream": "stderr",
       "text": [
        "DEBUG:FFC:Reusing form from cache.\n"
       ]
      },
      {
       "output_type": "stream",
       "stream": "stderr",
       "text": [
        "DEBUG:FFC:Reusing form from cache.\n"
       ]
      },
      {
       "output_type": "stream",
       "stream": "stderr",
       "text": [
        "DEBUG:FFC:Reusing form from cache.\n"
       ]
      },
      {
       "output_type": "stream",
       "stream": "stdout",
       "text": [
        "  ==>   0.000138    time:  15:46\n",
        "Data for C and P created, time:           ==>   0.000093    time:  15:46\n",
        "Work out boundary matrices, time:         ==>   0.000225    time:  15:46\n",
        "BC applied to gradient, time:             ==>   0.001288    time:  15:46\n",
        "BC applied to Prolongation, time:         ==>   0.002009    time:  15:46\n",
        "Hiptmair Laplacians BC assembled, time: "
       ]
      },
      {
       "output_type": "stream",
       "stream": "stderr",
       "text": [
        "DEBUG:FFC:Reusing form from cache.\n"
       ]
      },
      {
       "output_type": "stream",
       "stream": "stderr",
       "text": [
        "DEBUG:FFC:Reusing form from cache.\n"
       ]
      },
      {
       "output_type": "stream",
       "stream": "stderr",
       "text": [
        "DEBUG:FFC:Reusing form from cache.\n"
       ]
      },
      {
       "output_type": "stream",
       "stream": "stderr",
       "text": [
        "DEBUG:FFC:Reusing form from cache.\n"
       ]
      },
      {
       "output_type": "stream",
       "stream": "stdout",
       "text": [
        "  ==>   0.066789    time:  15:46\n",
        "PETSc Laplacians assembled, time:         ==>   0.002361    time:  15:46\n",
        "Shifted Curl-Curl assembled, time:        ==>   0.040020    time:  15:46\n",
        "Hiptmair Setup time:                      ==>   0.000500    time:  15:46\n",
        "\n",
        "\n",
        "   ++++++++++++++++++++++++++++++++\n",
        "     Setting up MHD initial guess\n",
        "   ++++++++++++++++++++++++++++++++\n",
        "\n",
        "\n",
        "\n",
        "\n",
        " ======================================\n",
        "   Preconditioning Fluid linear setup\n",
        " ======================================\n",
        "DG scalar Laplacian assemble, time:       ==>   0.005123    time:  15:46\n",
        "DG scalar mass matrix assemble, time:   "
       ]
      },
      {
       "output_type": "stream",
       "stream": "stderr",
       "text": [
        "DEBUG:FFC:Reusing form from cache.\n"
       ]
      },
      {
       "output_type": "stream",
       "stream": "stderr",
       "text": [
        "DEBUG:FFC:Reusing form from cache.\n"
       ]
      },
      {
       "output_type": "stream",
       "stream": "stderr",
       "text": [
        "DEBUG:FFC:Reusing form from cache.\n"
       ]
      },
      {
       "output_type": "stream",
       "stream": "stdout",
       "text": [
        "  ==>   0.014552    time:  15:46\n",
        "Linear fluid precond setup, time:         ==>   0.000214    time:  15:46\n",
        " ======================================\n",
        "   Preconditioning Fluid linear setup\n",
        " ======================================\n",
        "DG convection-diffusion assemble, time:   ==>   0.014891    time:  15:46\n",
        "Non-linear fluid precond, time:           ==>   0.000099    time:  15:46\n",
        "\n",
        "\n",
        "\n",
        "\n",
        "\n",
        "     ==========\n",
        "       Iter 1\n",
        "     ==========\n",
        "\n",
        "\n",
        "\n",
        "\n",
        "                                                          +++++++++++++++++++++++++"
       ]
      },
      {
       "output_type": "stream",
       "stream": "stderr",
       "text": [
        "DEBUG:FFC:Reusing form from cache.\n"
       ]
      },
      {
       "output_type": "stream",
       "stream": "stderr",
       "text": [
        "DEBUG:FFC:Reusing form from cache.\n"
       ]
      },
      {
       "output_type": "stream",
       "stream": "stderr",
       "text": [
        "DEBUG:FFC:Reusing form from cache.\n"
       ]
      },
      {
       "output_type": "stream",
       "stream": "stderr",
       "text": [
        "DEBUG:FFC:Reusing form from cache.\n"
       ]
      },
      {
       "output_type": "stream",
       "stream": "stderr",
       "text": [
        "DEBUG:FFC:Reusing form from cache.\n"
       ]
      },
      {
       "output_type": "stream",
       "stream": "stderr",
       "text": [
        "DEBUG:FFC:Reusing form from cache.\n"
       ]
      },
      {
       "output_type": "stream",
       "stream": "stdout",
       "text": [
        "\n",
        "                                                            Number iterations = 1\n",
        "                                                          +++++++++++++++++++++++++\n",
        "\n",
        "\n",
        "MHD solve, time:                          ==>   0.001695    time:  15:46\n",
        "(11,)\n",
        "11\n",
        "u-norm=0.0210695   p-norm=2.46935  \n",
        " b-norm=0.0296312   r-norm=1014.63 \n",
        "\n",
        "\n",
        "\n",
        "\n",
        "\n",
        "     ==========\n",
        "       Iter 2\n",
        "     ==========\n",
        "\n",
        "\n",
        "\n",
        "\n",
        "                                                          +++++++++++++++++++++++++"
       ]
      },
      {
       "output_type": "stream",
       "stream": "stderr",
       "text": [
        "DEBUG:FFC:Reusing form from cache.\n"
       ]
      },
      {
       "output_type": "stream",
       "stream": "stderr",
       "text": [
        "DEBUG:FFC:Reusing form from cache.\n"
       ]
      },
      {
       "output_type": "stream",
       "stream": "stderr",
       "text": [
        "DEBUG:FFC:Reusing form from cache.\n"
       ]
      },
      {
       "output_type": "stream",
       "stream": "stderr",
       "text": [
        "DEBUG:FFC:Reusing form from cache.\n"
       ]
      },
      {
       "output_type": "stream",
       "stream": "stderr",
       "text": [
        "DEBUG:FFC:Reusing form from cache.\n"
       ]
      },
      {
       "output_type": "stream",
       "stream": "stderr",
       "text": [
        "DEBUG:FFC:Reusing form from cache.\n"
       ]
      },
      {
       "output_type": "stream",
       "stream": "stdout",
       "text": [
        "\n",
        "                                                            Number iterations = 1\n",
        "                                                          +++++++++++++++++++++++++\n",
        "\n",
        "\n",
        "MHD solve, time:                          ==>   0.006259    time:  15:46\n",
        "(11,)\n",
        "11\n",
        "u-norm=0.0011411   p-norm=0.0295354  \n",
        " b-norm=1.50596e-06   r-norm=2.58674e-13 \n",
        "\n",
        "\n",
        "\n",
        "\n",
        "\n",
        "     ==========\n",
        "       Iter 3\n",
        "     ==========\n",
        "\n",
        "\n",
        "\n",
        "\n",
        "                                                          +++++++++++++++++++++++++"
       ]
      },
      {
       "output_type": "stream",
       "stream": "stderr",
       "text": [
        "DEBUG:FFC:Reusing form from cache.\n"
       ]
      },
      {
       "output_type": "stream",
       "stream": "stderr",
       "text": [
        "DEBUG:FFC:Reusing form from cache.\n"
       ]
      },
      {
       "output_type": "stream",
       "stream": "stderr",
       "text": [
        "DEBUG:FFC:Reusing form from cache.\n"
       ]
      },
      {
       "output_type": "stream",
       "stream": "stderr",
       "text": [
        "DEBUG:FFC:Reusing form from cache.\n"
       ]
      },
      {
       "output_type": "stream",
       "stream": "stderr",
       "text": [
        "DEBUG:FFC:Reusing form from cache.\n"
       ]
      },
      {
       "output_type": "stream",
       "stream": "stderr",
       "text": [
        "DEBUG:FFC:Reusing form from cache.\n"
       ]
      },
      {
       "output_type": "stream",
       "stream": "stdout",
       "text": [
        "\n",
        "                                                            Number iterations = 1\n",
        "                                                          +++++++++++++++++++++++++\n",
        "\n",
        "\n",
        "MHD solve, time:                          ==>   0.001964    time:  15:46\n",
        "(11,)\n",
        "11\n",
        "u-norm=3.25103e-05   p-norm=0.00133686  \n",
        " b-norm=2.28148e-10   r-norm=2.14689e-13 \n",
        "\n",
        "\n",
        "\n",
        "\n",
        "\n",
        "     ==========\n",
        "       Iter 4\n",
        "     ==========\n",
        "\n",
        "\n",
        "\n",
        "\n",
        "                                                          +++++++++++++++++++++++++"
       ]
      },
      {
       "output_type": "stream",
       "stream": "stderr",
       "text": [
        "DEBUG:FFC:Reusing form from cache.\n"
       ]
      },
      {
       "output_type": "stream",
       "stream": "stderr",
       "text": [
        "DEBUG:FFC:Reusing form from cache.\n"
       ]
      },
      {
       "output_type": "stream",
       "stream": "stderr",
       "text": [
        "DEBUG:FFC:Reusing form from cache.\n"
       ]
      },
      {
       "output_type": "stream",
       "stream": "stderr",
       "text": [
        "DEBUG:FFC:Reusing form from cache.\n"
       ]
      },
      {
       "output_type": "stream",
       "stream": "stderr",
       "text": [
        "DEBUG:FFC:Reusing form from cache.\n"
       ]
      },
      {
       "output_type": "stream",
       "stream": "stderr",
       "text": [
        "DEBUG:FFC:Reusing form from cache.\n"
       ]
      },
      {
       "output_type": "stream",
       "stream": "stderr",
       "text": [
        "DEBUG:FFC:Reusing form from cache.\n"
       ]
      },
      {
       "output_type": "stream",
       "stream": "stderr",
       "text": [
        "DEBUG:FFC:Reusing form from cache.\n"
       ]
      },
      {
       "output_type": "stream",
       "stream": "stderr",
       "text": [
        "DEBUG:FFC:Reusing form from cache.\n"
       ]
      },
      {
       "output_type": "stream",
       "stream": "stderr",
       "text": [
        "DEBUG:FFC:Reusing form from cache.\n"
       ]
      },
      {
       "output_type": "stream",
       "stream": "stderr",
       "text": [
        "DEBUG:FFC:Reusing form from cache.\n"
       ]
      },
      {
       "output_type": "stream",
       "stream": "stderr",
       "text": [
        "DEBUG:FFC:Reusing form from cache.\n"
       ]
      },
      {
       "output_type": "stream",
       "stream": "stderr",
       "text": [
        "DEBUG:FFC:Reusing form from cache.\n"
       ]
      },
      {
       "output_type": "stream",
       "stream": "stderr",
       "text": [
        "DEBUG:FFC:Reusing form from cache.\n"
       ]
      },
      {
       "output_type": "stream",
       "stream": "stderr",
       "text": [
        "DEBUG:FFC:Reusing form from cache.\n"
       ]
      },
      {
       "output_type": "stream",
       "stream": "stderr",
       "text": [
        "DEBUG:FFC:Reusing form from cache.\n"
       ]
      },
      {
       "output_type": "stream",
       "stream": "stderr",
       "text": [
        "DEBUG:FFC:Reusing form from cache.\n"
       ]
      },
      {
       "output_type": "stream",
       "stream": "stderr",
       "text": [
        "DEBUG:FFC:Reusing form from cache.\n"
       ]
      },
      {
       "output_type": "stream",
       "stream": "stderr",
       "text": [
        "DEBUG:FFC:Reusing form from cache.\n"
       ]
      },
      {
       "output_type": "stream",
       "stream": "stderr",
       "text": [
        "DEBUG:FFC:Reusing form from cache.\n"
       ]
      },
      {
       "output_type": "stream",
       "stream": "stderr",
       "text": [
        "DEBUG:FFC:Reusing form from cache.\n"
       ]
      },
      {
       "output_type": "stream",
       "stream": "stderr",
       "text": [
        "DEBUG:FFC:Reusing form from cache.\n"
       ]
      },
      {
       "output_type": "stream",
       "stream": "stderr",
       "text": [
        "DEBUG:FFC:Reusing form from cache.\n"
       ]
      },
      {
       "output_type": "stream",
       "stream": "stdout",
       "text": [
        "\n",
        "                                                            Number iterations = 1\n",
        "                                                          +++++++++++++++++++++++++\n",
        "\n",
        "\n",
        "MHD solve, time:                          ==>   0.002572    time:  15:46\n",
        "(11,)\n",
        "11\n",
        "u-norm=1.84087e-06   p-norm=4.03423e-05  \n",
        " b-norm=1.44361e-11   r-norm=1.93533e-13 \n",
        "\n",
        "\n",
        "\n",
        "inf"
       ]
      },
      {
       "output_type": "stream",
       "stream": "stderr",
       "text": [
        "DEBUG:FFC:Reusing form from cache.\n"
       ]
      },
      {
       "output_type": "stream",
       "stream": "stderr",
       "text": [
        "DEBUG:FFC:Reusing form from cache.\n"
       ]
      },
      {
       "output_type": "stream",
       "stream": "stderr",
       "text": [
        "DEBUG:FFC:Reusing form from cache.\n"
       ]
      },
      {
       "output_type": "stream",
       "stream": "stderr",
       "text": [
        "DEBUG:FFC:Reusing form from cache.\n"
       ]
      },
      {
       "output_type": "stream",
       "stream": "stderr",
       "text": [
        "DEBUG:FFC:Reusing form from cache.\n"
       ]
      },
      {
       "output_type": "stream",
       "stream": "stderr",
       "text": [
        "DEBUG:FFC:Reusing form from cache.\n"
       ]
      },
      {
       "output_type": "stream",
       "stream": "stderr",
       "text": [
        "DEBUG:FFC:Reusing form from cache.\n"
       ]
      },
      {
       "output_type": "stream",
       "stream": "stderr",
       "text": [
        "DEBUG:FFC:Reusing form from cache.\n"
       ]
      },
      {
       "output_type": "stream",
       "stream": "stderr",
       "text": [
        "DEBUG:FFC:Reusing form from cache.\n"
       ]
      },
      {
       "output_type": "stream",
       "stream": "stderr",
       "text": [
        "DEBUG:FFC:Reusing form from cache.\n"
       ]
      },
      {
       "output_type": "stream",
       "stream": "stderr",
       "text": [
        "DEBUG:FFC:Reusing form from cache.\n"
       ]
      },
      {
       "output_type": "stream",
       "stream": "stderr",
       "text": [
        "DEBUG:FFC:Reusing form from cache.\n"
       ]
      },
      {
       "output_type": "stream",
       "stream": "stderr",
       "text": [
        "DEBUG:FFC:Reusing form from cache.\n"
       ]
      },
      {
       "output_type": "stream",
       "stream": "stdout",
       "text": [
        "\n",
        "2\n",
        "\n",
        "\n",
        "W:   [ 372.] Velocity:   [ 226.] Pressure:   [ 33.] Magnetic:   [ 80.] Lagrange:   [ 33.] \n",
        "\n",
        "\n",
        "\n",
        "\n",
        "====================================="
       ]
      },
      {
       "output_type": "stream",
       "stream": "stderr",
       "text": [
        "DEBUG:FFC:Reusing form from cache.\n"
       ]
      },
      {
       "output_type": "stream",
       "stream": "stderr",
       "text": [
        "DEBUG:FFC:Reusing form from cache.\n"
       ]
      },
      {
       "output_type": "stream",
       "stream": "stderr",
       "text": [
        "DEBUG:FFC:Reusing form from cache.\n"
       ]
      },
      {
       "output_type": "stream",
       "stream": "stderr",
       "text": [
        "DEBUG:FFC:Reusing form from cache.\n"
       ]
      },
      {
       "output_type": "stream",
       "stream": "stdout",
       "text": [
        "\n",
        "  Seting up initial guess matricies\n",
        "=====================================\n",
        "\n",
        "BC index function, time:                  ==>   0.000719    time:  15:46\n",
        " ==================================\n",
        "   Preconditioning Magnetic setup\n",
        " ==================================\n",
        "Compute edge boundary indices, time:      ==>   0.000101    time:  15:46\n",
        "Data for C and P created, time:           ==>   0.000032    time:  15:46\n",
        "Work out boundary matrices, time:         ==>   0.000210    time:  15:46\n",
        "BC applied to gradient, time:             ==>   0.000667    time:  15:46\n",
        "BC applied to Prolongation, time:         ==>   0.001485    time:  15:46\n",
        "Hiptmair Laplacians BC assembled, time: "
       ]
      },
      {
       "output_type": "stream",
       "stream": "stderr",
       "text": [
        "DEBUG:FFC:Reusing form from cache.\n"
       ]
      },
      {
       "output_type": "stream",
       "stream": "stderr",
       "text": [
        "DEBUG:FFC:Reusing form from cache.\n"
       ]
      },
      {
       "output_type": "stream",
       "stream": "stderr",
       "text": [
        "DEBUG:FFC:Reusing form from cache.\n"
       ]
      },
      {
       "output_type": "stream",
       "stream": "stderr",
       "text": [
        "DEBUG:FFC:Reusing form from cache.\n"
       ]
      },
      {
       "output_type": "stream",
       "stream": "stderr",
       "text": [
        "DEBUG:FFC:Reusing form from cache.\n"
       ]
      },
      {
       "output_type": "stream",
       "stream": "stderr",
       "text": [
        "DEBUG:FFC:Reusing form from cache.\n"
       ]
      },
      {
       "output_type": "stream",
       "stream": "stderr",
       "text": [
        "DEBUG:FFC:Reusing form from cache.\n"
       ]
      },
      {
       "output_type": "stream",
       "stream": "stdout",
       "text": [
        "  ==>   0.010278    time:  15:46\n",
        "PETSc Laplacians assembled, time:         ==>   0.001396    time:  15:46\n",
        "Shifted Curl-Curl assembled, time:        ==>   0.018216    time:  15:46\n",
        "Hiptmair Setup time:                      ==>   0.000509    time:  15:46\n",
        "\n",
        "\n",
        "   ++++++++++++++++++++++++++++++++\n",
        "     Setting up MHD initial guess\n",
        "   ++++++++++++++++++++++++++++++++\n",
        "\n",
        "\n",
        "\n",
        "\n",
        " ======================================\n",
        "   Preconditioning Fluid linear setup\n",
        " ======================================\n",
        "DG scalar Laplacian assemble, time:       ==>   0.002605    time:  15:46\n",
        "DG scalar mass matrix assemble, time:     ==>   0.004415    time:  15:46\n",
        "Linear fluid precond setup, time:         ==>   0.000226    time:  15:46\n",
        " ======================================\n",
        "   Preconditioning Fluid linear setup\n",
        " ======================================\n",
        "DG convection-diffusion assemble, time:   ==>   0.003718    time:  15:46\n",
        "Non-linear fluid precond, time:           ==>   0.000095    time:  15:46\n",
        "\n",
        "\n",
        "\n",
        "\n",
        "\n",
        "     ==========\n",
        "       Iter 1\n",
        "     ==========\n",
        "\n",
        "\n",
        "\n",
        "\n",
        "                                                          +++++++++++++++++++++++++"
       ]
      },
      {
       "output_type": "stream",
       "stream": "stderr",
       "text": [
        "DEBUG:FFC:Reusing form from cache.\n"
       ]
      },
      {
       "output_type": "stream",
       "stream": "stderr",
       "text": [
        "DEBUG:FFC:Reusing form from cache.\n"
       ]
      },
      {
       "output_type": "stream",
       "stream": "stderr",
       "text": [
        "DEBUG:FFC:Reusing form from cache.\n"
       ]
      },
      {
       "output_type": "stream",
       "stream": "stderr",
       "text": [
        "DEBUG:FFC:Reusing form from cache.\n"
       ]
      },
      {
       "output_type": "stream",
       "stream": "stderr",
       "text": [
        "DEBUG:FFC:Reusing form from cache.\n"
       ]
      },
      {
       "output_type": "stream",
       "stream": "stderr",
       "text": [
        "DEBUG:FFC:Reusing form from cache.\n"
       ]
      },
      {
       "output_type": "stream",
       "stream": "stdout",
       "text": [
        "\n",
        "                                                            Number iterations = 1\n",
        "                                                          +++++++++++++++++++++++++\n",
        "\n",
        "\n",
        "MHD solve, time:                          ==>   0.004782    time:  15:46\n",
        "(33,)\n",
        "33\n",
        "u-norm=0.0143439   p-norm=1.96844  \n",
        " b-norm=0.0167029   r-norm=1707.11 \n",
        "\n",
        "\n",
        "\n",
        "\n",
        "\n",
        "     ==========\n",
        "       Iter 2\n",
        "     ==========\n",
        "\n",
        "\n",
        "\n",
        "\n",
        "                                                          +++++++++++++++++++++++++"
       ]
      },
      {
       "output_type": "stream",
       "stream": "stderr",
       "text": [
        "DEBUG:FFC:Reusing form from cache.\n"
       ]
      },
      {
       "output_type": "stream",
       "stream": "stderr",
       "text": [
        "DEBUG:FFC:Reusing form from cache.\n"
       ]
      },
      {
       "output_type": "stream",
       "stream": "stderr",
       "text": [
        "DEBUG:FFC:Reusing form from cache.\n"
       ]
      },
      {
       "output_type": "stream",
       "stream": "stderr",
       "text": [
        "DEBUG:FFC:Reusing form from cache.\n"
       ]
      },
      {
       "output_type": "stream",
       "stream": "stderr",
       "text": [
        "DEBUG:FFC:Reusing form from cache.\n"
       ]
      },
      {
       "output_type": "stream",
       "stream": "stderr",
       "text": [
        "DEBUG:FFC:Reusing form from cache.\n"
       ]
      },
      {
       "output_type": "stream",
       "stream": "stdout",
       "text": [
        "\n",
        "                                                            Number iterations = 1\n",
        "                                                          +++++++++++++++++++++++++\n",
        "\n",
        "\n",
        "MHD solve, time:                          ==>   0.004772    time:  15:46\n",
        "(33,)\n",
        "33\n",
        "u-norm=0.000291891   p-norm=0.0178975  \n",
        " b-norm=4.89758e-07   r-norm=6.23341e-13 \n",
        "\n",
        "\n",
        "\n",
        "\n",
        "\n",
        "     ==========\n",
        "       Iter 3\n",
        "     ==========\n",
        "\n",
        "\n",
        "\n",
        "\n",
        "                                                          +++++++++++++++++++++++++"
       ]
      },
      {
       "output_type": "stream",
       "stream": "stderr",
       "text": [
        "DEBUG:FFC:Reusing form from cache.\n"
       ]
      },
      {
       "output_type": "stream",
       "stream": "stderr",
       "text": [
        "DEBUG:FFC:Reusing form from cache.\n"
       ]
      },
      {
       "output_type": "stream",
       "stream": "stderr",
       "text": [
        "DEBUG:FFC:Reusing form from cache.\n"
       ]
      },
      {
       "output_type": "stream",
       "stream": "stderr",
       "text": [
        "DEBUG:FFC:Reusing form from cache.\n"
       ]
      },
      {
       "output_type": "stream",
       "stream": "stderr",
       "text": [
        "DEBUG:FFC:Reusing form from cache.\n"
       ]
      },
      {
       "output_type": "stream",
       "stream": "stderr",
       "text": [
        "DEBUG:FFC:Reusing form from cache.\n"
       ]
      },
      {
       "output_type": "stream",
       "stream": "stdout",
       "text": [
        "\n",
        "                                                            Number iterations = 1\n",
        "                                                          +++++++++++++++++++++++++\n",
        "\n",
        "\n",
        "MHD solve, time:                          ==>   0.004725    time:  15:46\n",
        "(33,)\n",
        "33\n",
        "u-norm=4.47131e-06   p-norm=0.000245348  \n",
        " b-norm=3.88229e-11   r-norm=5.42156e-13 \n",
        "\n",
        "\n",
        "\n",
        "\n",
        "\n",
        "     ==========\n",
        "       Iter 4\n",
        "     ==========\n",
        "\n",
        "\n",
        "\n",
        "\n",
        "                                                          +++++++++++++++++++++++++"
       ]
      },
      {
       "output_type": "stream",
       "stream": "stderr",
       "text": [
        "DEBUG:FFC:Reusing form from cache.\n"
       ]
      },
      {
       "output_type": "stream",
       "stream": "stderr",
       "text": [
        "DEBUG:FFC:Reusing form from cache.\n"
       ]
      },
      {
       "output_type": "stream",
       "stream": "stderr",
       "text": [
        "DEBUG:FFC:Reusing form from cache.\n"
       ]
      },
      {
       "output_type": "stream",
       "stream": "stderr",
       "text": [
        "DEBUG:FFC:Reusing form from cache.\n"
       ]
      },
      {
       "output_type": "stream",
       "stream": "stderr",
       "text": [
        "DEBUG:FFC:Reusing form from cache.\n"
       ]
      },
      {
       "output_type": "stream",
       "stream": "stderr",
       "text": [
        "DEBUG:FFC:Reusing form from cache.\n"
       ]
      },
      {
       "output_type": "stream",
       "stream": "stderr",
       "text": [
        "DEBUG:FFC:Reusing form from cache.\n"
       ]
      },
      {
       "output_type": "stream",
       "stream": "stderr",
       "text": [
        "DEBUG:FFC:Reusing form from cache.\n"
       ]
      },
      {
       "output_type": "stream",
       "stream": "stderr",
       "text": [
        "DEBUG:FFC:Reusing form from cache.\n"
       ]
      },
      {
       "output_type": "stream",
       "stream": "stderr",
       "text": [
        "DEBUG:FFC:Reusing form from cache.\n"
       ]
      },
      {
       "output_type": "stream",
       "stream": "stderr",
       "text": [
        "DEBUG:FFC:Reusing form from cache.\n"
       ]
      },
      {
       "output_type": "stream",
       "stream": "stderr",
       "text": [
        "DEBUG:FFC:Reusing form from cache.\n"
       ]
      },
      {
       "output_type": "stream",
       "stream": "stderr",
       "text": [
        "DEBUG:FFC:Reusing form from cache.\n"
       ]
      },
      {
       "output_type": "stream",
       "stream": "stderr",
       "text": [
        "DEBUG:FFC:Reusing form from cache.\n"
       ]
      },
      {
       "output_type": "stream",
       "stream": "stderr",
       "text": [
        "DEBUG:FFC:Reusing form from cache.\n"
       ]
      },
      {
       "output_type": "stream",
       "stream": "stderr",
       "text": [
        "DEBUG:FFC:Reusing form from cache.\n"
       ]
      },
      {
       "output_type": "stream",
       "stream": "stderr",
       "text": [
        "DEBUG:FFC:Reusing form from cache.\n"
       ]
      },
      {
       "output_type": "stream",
       "stream": "stderr",
       "text": [
        "DEBUG:FFC:Reusing form from cache.\n"
       ]
      },
      {
       "output_type": "stream",
       "stream": "stderr",
       "text": [
        "DEBUG:FFC:Reusing form from cache.\n"
       ]
      },
      {
       "output_type": "stream",
       "stream": "stderr",
       "text": [
        "DEBUG:FFC:Reusing form from cache.\n"
       ]
      },
      {
       "output_type": "stream",
       "stream": "stderr",
       "text": [
        "DEBUG:FFC:Reusing form from cache.\n"
       ]
      },
      {
       "output_type": "stream",
       "stream": "stderr",
       "text": [
        "DEBUG:FFC:Reusing form from cache.\n"
       ]
      },
      {
       "output_type": "stream",
       "stream": "stderr",
       "text": [
        "DEBUG:FFC:Reusing form from cache.\n"
       ]
      },
      {
       "output_type": "stream",
       "stream": "stdout",
       "text": [
        "\n",
        "                                                            Number iterations = 1\n",
        "                                                          +++++++++++++++++++++++++\n",
        "\n",
        "\n",
        "MHD solve, time:                          ==>   0.005092    time:  15:46\n",
        "(33,)\n",
        "33\n",
        "u-norm=8.02088e-08   p-norm=4.55773e-06  \n",
        " b-norm=4.15745e-13   r-norm=4.1721e-13 \n",
        "\n",
        "\n",
        "\n",
        "3.38181818182"
       ]
      },
      {
       "output_type": "stream",
       "stream": "stderr",
       "text": [
        "DEBUG:FFC:Reusing form from cache.\n"
       ]
      },
      {
       "output_type": "stream",
       "stream": "stderr",
       "text": [
        "DEBUG:FFC:Reusing form from cache.\n"
       ]
      },
      {
       "output_type": "stream",
       "stream": "stderr",
       "text": [
        "DEBUG:FFC:Reusing form from cache.\n"
       ]
      },
      {
       "output_type": "stream",
       "stream": "stderr",
       "text": [
        "DEBUG:FFC:Reusing form from cache.\n"
       ]
      },
      {
       "output_type": "stream",
       "stream": "stderr",
       "text": [
        "DEBUG:FFC:Reusing form from cache.\n"
       ]
      },
      {
       "output_type": "stream",
       "stream": "stderr",
       "text": [
        "DEBUG:FFC:Reusing form from cache.\n"
       ]
      },
      {
       "output_type": "stream",
       "stream": "stderr",
       "text": [
        "DEBUG:FFC:Reusing form from cache.\n"
       ]
      },
      {
       "output_type": "stream",
       "stream": "stderr",
       "text": [
        "DEBUG:FFC:Reusing form from cache.\n"
       ]
      },
      {
       "output_type": "stream",
       "stream": "stderr",
       "text": [
        "DEBUG:FFC:Reusing form from cache.\n"
       ]
      },
      {
       "output_type": "stream",
       "stream": "stderr",
       "text": [
        "DEBUG:FFC:Reusing form from cache.\n"
       ]
      },
      {
       "output_type": "stream",
       "stream": "stderr",
       "text": [
        "DEBUG:FFC:Reusing form from cache.\n"
       ]
      },
      {
       "output_type": "stream",
       "stream": "stderr",
       "text": [
        "DEBUG:FFC:Reusing form from cache.\n"
       ]
      },
      {
       "output_type": "stream",
       "stream": "stderr",
       "text": [
        "DEBUG:FFC:Reusing form from cache.\n"
       ]
      },
      {
       "output_type": "stream",
       "stream": "stdout",
       "text": [
        "\n",
        "3\n",
        "\n",
        "\n",
        "W:   [ 1364.] Velocity:   [ 834.] Pressure:   [ 113.] Magnetic:   [ 304.] Lagrange:   [ 113.] \n",
        "\n",
        "\n",
        "\n",
        "\n",
        "====================================="
       ]
      },
      {
       "output_type": "stream",
       "stream": "stderr",
       "text": [
        "DEBUG:FFC:Reusing form from cache.\n"
       ]
      },
      {
       "output_type": "stream",
       "stream": "stderr",
       "text": [
        "DEBUG:FFC:Reusing form from cache.\n"
       ]
      },
      {
       "output_type": "stream",
       "stream": "stderr",
       "text": [
        "DEBUG:FFC:Reusing form from cache.\n"
       ]
      },
      {
       "output_type": "stream",
       "stream": "stderr",
       "text": [
        "DEBUG:FFC:Reusing form from cache.\n"
       ]
      },
      {
       "output_type": "stream",
       "stream": "stdout",
       "text": [
        "\n",
        "  Seting up initial guess matricies\n",
        "=====================================\n",
        "\n",
        "BC index function, time:                  ==>   0.000412    time:  15:46\n",
        " ==================================\n",
        "   Preconditioning Magnetic setup\n",
        " ==================================\n",
        "Compute edge boundary indices, time:      ==>   0.000225    time:  15:46\n",
        "Data for C and P created, time:           ==>   0.000133    time:  15:46\n",
        "Work out boundary matrices, time:         ==>   0.000206    time:  15:46\n",
        "BC applied to gradient, time:             ==>   0.000667    time:  15:46\n",
        "BC applied to Prolongation, time:         ==>   0.001008    time:  15:46\n",
        "Hiptmair Laplacians BC assembled, time: "
       ]
      },
      {
       "output_type": "stream",
       "stream": "stderr",
       "text": [
        "DEBUG:FFC:Reusing form from cache.\n"
       ]
      },
      {
       "output_type": "stream",
       "stream": "stderr",
       "text": [
        "DEBUG:FFC:Reusing form from cache.\n"
       ]
      },
      {
       "output_type": "stream",
       "stream": "stdout",
       "text": [
        "  ==>   0.012641    time:  15:46\n",
        "PETSc Laplacians assembled, time:         ==>   0.001691    time:  15:46\n",
        "Shifted Curl-Curl assembled, time:      "
       ]
      },
      {
       "output_type": "stream",
       "stream": "stderr",
       "text": [
        "DEBUG:FFC:Reusing form from cache.\n"
       ]
      },
      {
       "output_type": "stream",
       "stream": "stderr",
       "text": [
        "DEBUG:FFC:Reusing form from cache.\n"
       ]
      },
      {
       "output_type": "stream",
       "stream": "stderr",
       "text": [
        "DEBUG:FFC:Reusing form from cache.\n"
       ]
      },
      {
       "output_type": "stream",
       "stream": "stderr",
       "text": [
        "DEBUG:FFC:Reusing form from cache.\n"
       ]
      },
      {
       "output_type": "stream",
       "stream": "stderr",
       "text": [
        "DEBUG:FFC:Reusing form from cache.\n"
       ]
      },
      {
       "output_type": "stream",
       "stream": "stdout",
       "text": [
        "  ==>   0.069760    time:  15:46\n",
        "Hiptmair Setup time:                      ==>   0.000188    time:  15:46\n",
        "\n",
        "\n",
        "   ++++++++++++++++++++++++++++++++\n",
        "     Setting up MHD initial guess\n",
        "   ++++++++++++++++++++++++++++++++\n",
        "\n",
        "\n",
        "\n",
        "\n",
        " ======================================\n",
        "   Preconditioning Fluid linear setup\n",
        " ======================================\n",
        "DG scalar Laplacian assemble, time:       ==>   0.002438    time:  15:46\n",
        "DG scalar mass matrix assemble, time:     ==>   0.002579    time:  15:46\n",
        "Linear fluid precond setup, time:         ==>   0.000200    time:  15:46\n",
        " ======================================\n",
        "   Preconditioning Fluid linear setup\n",
        " ======================================\n",
        "DG convection-diffusion assemble, time:   ==>   0.010389    time:  15:46\n",
        "Non-linear fluid precond, time:           ==>   0.000326    time:  15:46\n",
        "\n",
        "\n",
        "\n",
        "\n",
        "\n",
        "     ==========\n",
        "       Iter 1\n",
        "     ==========\n",
        "\n",
        "\n",
        "\n",
        "\n",
        "                                                          +++++++++++++++++++++++++"
       ]
      },
      {
       "output_type": "stream",
       "stream": "stderr",
       "text": [
        "DEBUG:FFC:Reusing form from cache.\n"
       ]
      },
      {
       "output_type": "stream",
       "stream": "stderr",
       "text": [
        "DEBUG:FFC:Reusing form from cache.\n"
       ]
      },
      {
       "output_type": "stream",
       "stream": "stderr",
       "text": [
        "DEBUG:FFC:Reusing form from cache.\n"
       ]
      },
      {
       "output_type": "stream",
       "stream": "stderr",
       "text": [
        "DEBUG:FFC:Reusing form from cache.\n"
       ]
      },
      {
       "output_type": "stream",
       "stream": "stderr",
       "text": [
        "DEBUG:FFC:Reusing form from cache.\n"
       ]
      },
      {
       "output_type": "stream",
       "stream": "stderr",
       "text": [
        "DEBUG:FFC:Reusing form from cache.\n"
       ]
      },
      {
       "output_type": "stream",
       "stream": "stdout",
       "text": [
        "\n",
        "                                                            Number iterations = 1\n",
        "                                                          +++++++++++++++++++++++++\n",
        "\n",
        "\n",
        "MHD solve, time:                          ==>   0.028567    time:  15:46\n",
        "(113,)\n",
        "113\n",
        "u-norm=0.0131211   p-norm=1.78206  \n",
        " b-norm=0.00737981   r-norm=2434.57 \n",
        "\n",
        "\n",
        "\n",
        "\n",
        "\n",
        "     ==========\n",
        "       Iter 2\n",
        "     ==========\n",
        "\n",
        "\n",
        "\n",
        "\n",
        "                                                          +++++++++++++++++++++++++"
       ]
      },
      {
       "output_type": "stream",
       "stream": "stderr",
       "text": [
        "DEBUG:FFC:Reusing form from cache.\n"
       ]
      },
      {
       "output_type": "stream",
       "stream": "stderr",
       "text": [
        "DEBUG:FFC:Reusing form from cache.\n"
       ]
      },
      {
       "output_type": "stream",
       "stream": "stderr",
       "text": [
        "DEBUG:FFC:Reusing form from cache.\n"
       ]
      },
      {
       "output_type": "stream",
       "stream": "stderr",
       "text": [
        "DEBUG:FFC:Reusing form from cache.\n"
       ]
      },
      {
       "output_type": "stream",
       "stream": "stderr",
       "text": [
        "DEBUG:FFC:Reusing form from cache.\n"
       ]
      },
      {
       "output_type": "stream",
       "stream": "stderr",
       "text": [
        "DEBUG:FFC:Reusing form from cache.\n"
       ]
      },
      {
       "output_type": "stream",
       "stream": "stdout",
       "text": [
        "\n",
        "                                                            Number iterations = 1\n",
        "                                                          +++++++++++++++++++++++++\n",
        "\n",
        "\n",
        "MHD solve, time:                          ==>   0.030187    time:  15:46\n",
        "(113,)\n",
        "113\n",
        "u-norm=0.000243824   p-norm=0.0151537  \n",
        " b-norm=1.86316e-07   r-norm=1.04801e-12 \n",
        "\n",
        "\n",
        "\n",
        "\n",
        "\n",
        "     ==========\n",
        "       Iter 3\n",
        "     ==========\n",
        "\n",
        "\n",
        "\n",
        "\n",
        "                                                          +++++++++++++++++++++++++"
       ]
      },
      {
       "output_type": "stream",
       "stream": "stderr",
       "text": [
        "DEBUG:FFC:Reusing form from cache.\n"
       ]
      },
      {
       "output_type": "stream",
       "stream": "stderr",
       "text": [
        "DEBUG:FFC:Reusing form from cache.\n"
       ]
      },
      {
       "output_type": "stream",
       "stream": "stderr",
       "text": [
        "DEBUG:FFC:Reusing form from cache.\n"
       ]
      },
      {
       "output_type": "stream",
       "stream": "stderr",
       "text": [
        "DEBUG:FFC:Reusing form from cache.\n"
       ]
      },
      {
       "output_type": "stream",
       "stream": "stderr",
       "text": [
        "DEBUG:FFC:Reusing form from cache.\n"
       ]
      },
      {
       "output_type": "stream",
       "stream": "stderr",
       "text": [
        "DEBUG:FFC:Reusing form from cache.\n"
       ]
      },
      {
       "output_type": "stream",
       "stream": "stdout",
       "text": [
        "\n",
        "                                                            Number iterations = 1\n",
        "                                                          +++++++++++++++++++++++++\n",
        "\n",
        "\n",
        "MHD solve, time:                          ==>   0.031507    time:  15:46\n",
        "(113,)\n",
        "113\n",
        "u-norm=3.18856e-06   p-norm=0.000195804  \n",
        " b-norm=1.5138e-11   r-norm=4.83288e-13 \n",
        "\n",
        "\n",
        "\n",
        "\n",
        "\n",
        "     ==========\n",
        "       Iter 4\n",
        "     ==========\n",
        "\n",
        "\n",
        "\n",
        "\n",
        "                                                          +++++++++++++++++++++++++"
       ]
      },
      {
       "output_type": "stream",
       "stream": "stderr",
       "text": [
        "DEBUG:FFC:Reusing form from cache.\n"
       ]
      },
      {
       "output_type": "stream",
       "stream": "stderr",
       "text": [
        "DEBUG:FFC:Reusing form from cache.\n"
       ]
      },
      {
       "output_type": "stream",
       "stream": "stderr",
       "text": [
        "DEBUG:FFC:Reusing form from cache.\n"
       ]
      },
      {
       "output_type": "stream",
       "stream": "stderr",
       "text": [
        "DEBUG:FFC:Reusing form from cache.\n"
       ]
      },
      {
       "output_type": "stream",
       "stream": "stderr",
       "text": [
        "DEBUG:FFC:Reusing form from cache.\n"
       ]
      },
      {
       "output_type": "stream",
       "stream": "stderr",
       "text": [
        "DEBUG:FFC:Reusing form from cache.\n"
       ]
      },
      {
       "output_type": "stream",
       "stream": "stderr",
       "text": [
        "DEBUG:FFC:Reusing form from cache.\n"
       ]
      },
      {
       "output_type": "stream",
       "stream": "stderr",
       "text": [
        "DEBUG:FFC:Reusing form from cache.\n"
       ]
      },
      {
       "output_type": "stream",
       "stream": "stderr",
       "text": [
        "DEBUG:FFC:Reusing form from cache.\n"
       ]
      },
      {
       "output_type": "stream",
       "stream": "stderr",
       "text": [
        "DEBUG:FFC:Reusing form from cache.\n"
       ]
      },
      {
       "output_type": "stream",
       "stream": "stderr",
       "text": [
        "DEBUG:FFC:Reusing form from cache.\n"
       ]
      },
      {
       "output_type": "stream",
       "stream": "stderr",
       "text": [
        "DEBUG:FFC:Reusing form from cache.\n"
       ]
      },
      {
       "output_type": "stream",
       "stream": "stderr",
       "text": [
        "DEBUG:FFC:Reusing form from cache.\n"
       ]
      },
      {
       "output_type": "stream",
       "stream": "stderr",
       "text": [
        "DEBUG:FFC:Reusing form from cache.\n"
       ]
      },
      {
       "output_type": "stream",
       "stream": "stderr",
       "text": [
        "DEBUG:FFC:Reusing form from cache.\n"
       ]
      },
      {
       "output_type": "stream",
       "stream": "stderr",
       "text": [
        "DEBUG:FFC:Reusing form from cache.\n"
       ]
      },
      {
       "output_type": "stream",
       "stream": "stderr",
       "text": [
        "DEBUG:FFC:Reusing form from cache.\n"
       ]
      },
      {
       "output_type": "stream",
       "stream": "stderr",
       "text": [
        "DEBUG:FFC:Reusing form from cache.\n"
       ]
      },
      {
       "output_type": "stream",
       "stream": "stderr",
       "text": [
        "DEBUG:FFC:Reusing form from cache.\n"
       ]
      },
      {
       "output_type": "stream",
       "stream": "stderr",
       "text": [
        "DEBUG:FFC:Reusing form from cache.\n"
       ]
      },
      {
       "output_type": "stream",
       "stream": "stderr",
       "text": [
        "DEBUG:FFC:Reusing form from cache.\n"
       ]
      },
      {
       "output_type": "stream",
       "stream": "stderr",
       "text": [
        "DEBUG:FFC:Reusing form from cache.\n"
       ]
      },
      {
       "output_type": "stream",
       "stream": "stderr",
       "text": [
        "DEBUG:FFC:Reusing form from cache.\n"
       ]
      },
      {
       "output_type": "stream",
       "stream": "stdout",
       "text": [
        "\n",
        "                                                            Number iterations = 1\n",
        "                                                          +++++++++++++++++++++++++\n",
        "\n",
        "\n",
        "MHD solve, time:                          ==>   0.033788    time:  15:46\n",
        "(113,)\n",
        "113\n",
        "u-norm=4.88128e-08   p-norm=3.34254e-06  \n",
        " b-norm=1.08653e-13   r-norm=4.7039e-13 \n",
        "\n",
        "\n",
        "\n",
        "3.66666666667"
       ]
      },
      {
       "output_type": "stream",
       "stream": "stdout",
       "text": [
        "\n",
        "\\begin{tabular}{lrrrllllll}\n",
        "\\toprule\n",
        "{} &  l &  DoFu &  Dofp &        V-L2 & L2-order &        V-H1 & H1-order &        P-L2 & PL2-order \\\\\n",
        "\\midrule\n",
        "0 &  1 &    66 &    11 &  2.2578e-01 &     0.00 &  1.6830e+00 &     0.00 &  4.0245e+00 &      0.00 \\\\\n",
        "1 &  2 &   226 &    33 &  1.0276e-01 &     1.28 &  1.2635e+00 &     0.47 &  2.8092e+00 &      0.65 \\\\\n",
        "2 &  3 &   834 &   113 &  4.3034e-02 &     1.33 &  8.8957e-01 &     0.54 &  1.8089e+00 &      0.72 \\\\\n",
        "\\bottomrule\n",
        "\\end{tabular}\n",
        "\n",
        "\n",
        "\n",
        "   Magnetic convergence\n",
        "\\begin{tabular}{lrrrllll}\n",
        "\\toprule\n",
        "{} &  l &  B DoF &  R DoF &        B-L2 & L2-order &      B-Curl & HCurl-order \\\\\n",
        "\\midrule\n",
        "0 &  1 &     22 &     11 &  3.7771e-01 &     0.00 &  1.2469e+00 &        0.00 \\\\\n",
        "1 &  2 &     80 &     33 &  3.3936e-01 &     0.17 &  1.6792e+00 &        0.46 \\\\\n",
        "2 &  3 &    304 &    113 &  3.2359e-01 &     0.07 &  2.1960e+00 &        0.40 \\\\\n",
        "\\bottomrule\n",
        "\\end{tabular}\n",
        "\n",
        "\n",
        "\n",
        "   Lagrange convergence\n",
        "\\begin{tabular}{lrrrllll}\n",
        "\\toprule\n",
        "{} &  l &  B DoF &  R DoF &        R-L2 & L2-order &        R-H1 & H1-order \\\\\n",
        "\\midrule\n",
        "0 &  1 &     22 &     11 &  1.4861e+03 &     0.00 &  7.2804e+03 &     0.00 \\\\\n",
        "1 &  2 &     80 &     33 &  3.2029e+03 &     1.40 &  2.1041e+04 &     1.93 \\\\\n",
        "2 &  3 &    304 &    113 &  5.3573e+03 &     0.84 &  5.4703e+04 &     1.55 \\\\\n",
        "\\bottomrule\n",
        "\\end{tabular}\n",
        "\n",
        "\n",
        "\n",
        "   Iteration table\n",
        "   l   DoF  AV solve Time  Total picard time  picard iterations Av Outer its  \\\n",
        "0  1   110           0.00               0.53                  4          1.0   \n",
        "1  2   372           0.00               0.72                  4          1.0   \n",
        "2  3  1364           0.03               2.37                  4          1.0   \n",
        "\n",
        "  Av Inner its  \n",
        "0          0.0  \n",
        "1          0.0  \n",
        "2          0.0  \n",
        " \n",
        "  Outer Tol:   1e-05 Inner Tol:    1e-05\n"
       ]
      }
     ],
     "prompt_number": 1
    },
    {
     "cell_type": "code",
     "collapsed": false,
     "input": [
      "plot(u_k)"
     ],
     "language": "python",
     "metadata": {},
     "outputs": [
      {
       "metadata": {},
       "output_type": "pyout",
       "prompt_number": 2,
       "text": [
        "<dolfin.cpp.io.VTKPlotter; proxy of <Swig Object of type 'std::shared_ptr< dolfin::VTKPlotter > *' at 0x10b8950f0> >"
       ]
      }
     ],
     "prompt_number": 2
    },
    {
     "cell_type": "code",
     "collapsed": false,
     "input": [
      "plot(r_k).write_png()"
     ],
     "language": "python",
     "metadata": {},
     "outputs": [],
     "prompt_number": 6
    },
    {
     "cell_type": "markdown",
     "metadata": {},
     "source": [
      "domain = mshr.Rectangle(Point(-1., -1.), Point(1., 1.)) - mshr.Rectangle(Point(0., -1.), Point(1., 0.) )\n",
      "mesh = mshr.generate_mesh(domain, 4)"
     ]
    },
    {
     "cell_type": "markdown",
     "metadata": {},
     "source": [
      "mesh.smooth()"
     ]
    },
    {
     "cell_type": "code",
     "collapsed": false,
     "input": [
      "mesh = RectangleMesh(-1,-1,1,1,4,4)"
     ],
     "language": "python",
     "metadata": {},
     "outputs": [],
     "prompt_number": 19
    },
    {
     "cell_type": "code",
     "collapsed": false,
     "input": [
      "mesh"
     ],
     "language": "python",
     "metadata": {},
     "outputs": [
      {
       "metadata": {},
       "output_type": "pyout",
       "prompt_number": 20,
       "svg": [
        "\n",
        "    <svg xmlns=\"http://www.w3.org/2000/svg\" version=\"1.1\" width=\"840\" height=\"840\">\n",
        "    <line x1=\"20\" y1=\"820\" x2=\"220\" y2=\"820\" style=\"fill:none; stroke:black; stroke-width:\"2\" />\n",
        "<line x1=\"20\" y1=\"820\" x2=\"20\" y2=\"620\" style=\"fill:none; stroke:black; stroke-width:\"2\" />\n",
        "<line x1=\"20\" y1=\"820\" x2=\"220\" y2=\"620\" style=\"fill:none; stroke:black; stroke-width:\"2\" />\n",
        "<line x1=\"220\" y1=\"820\" x2=\"420\" y2=\"820\" style=\"fill:none; stroke:black; stroke-width:\"2\" />\n",
        "<line x1=\"220\" y1=\"820\" x2=\"220\" y2=\"620\" style=\"fill:none; stroke:black; stroke-width:\"2\" />\n",
        "<line x1=\"220\" y1=\"820\" x2=\"420\" y2=\"620\" style=\"fill:none; stroke:black; stroke-width:\"2\" />\n",
        "<line x1=\"420\" y1=\"820\" x2=\"620\" y2=\"820\" style=\"fill:none; stroke:black; stroke-width:\"2\" />\n",
        "<line x1=\"420\" y1=\"820\" x2=\"420\" y2=\"620\" style=\"fill:none; stroke:black; stroke-width:\"2\" />\n",
        "<line x1=\"420\" y1=\"820\" x2=\"620\" y2=\"620\" style=\"fill:none; stroke:black; stroke-width:\"2\" />\n",
        "<line x1=\"620\" y1=\"820\" x2=\"820\" y2=\"820\" style=\"fill:none; stroke:black; stroke-width:\"2\" />\n",
        "<line x1=\"620\" y1=\"820\" x2=\"620\" y2=\"620\" style=\"fill:none; stroke:black; stroke-width:\"2\" />\n",
        "<line x1=\"620\" y1=\"820\" x2=\"820\" y2=\"620\" style=\"fill:none; stroke:black; stroke-width:\"2\" />\n",
        "<line x1=\"820\" y1=\"820\" x2=\"820\" y2=\"620\" style=\"fill:none; stroke:black; stroke-width:\"2\" />\n",
        "<line x1=\"20\" y1=\"620\" x2=\"220\" y2=\"620\" style=\"fill:none; stroke:black; stroke-width:\"2\" />\n",
        "<line x1=\"20\" y1=\"620\" x2=\"20\" y2=\"420\" style=\"fill:none; stroke:black; stroke-width:\"2\" />\n",
        "<line x1=\"20\" y1=\"620\" x2=\"220\" y2=\"420\" style=\"fill:none; stroke:black; stroke-width:\"2\" />\n",
        "<line x1=\"220\" y1=\"620\" x2=\"420\" y2=\"620\" style=\"fill:none; stroke:black; stroke-width:\"2\" />\n",
        "<line x1=\"220\" y1=\"620\" x2=\"220\" y2=\"420\" style=\"fill:none; stroke:black; stroke-width:\"2\" />\n",
        "<line x1=\"220\" y1=\"620\" x2=\"420\" y2=\"420\" style=\"fill:none; stroke:black; stroke-width:\"2\" />\n",
        "<line x1=\"420\" y1=\"620\" x2=\"620\" y2=\"620\" style=\"fill:none; stroke:black; stroke-width:\"2\" />\n",
        "<line x1=\"420\" y1=\"620\" x2=\"420\" y2=\"420\" style=\"fill:none; stroke:black; stroke-width:\"2\" />\n",
        "<line x1=\"420\" y1=\"620\" x2=\"620\" y2=\"420\" style=\"fill:none; stroke:black; stroke-width:\"2\" />\n",
        "<line x1=\"620\" y1=\"620\" x2=\"820\" y2=\"620\" style=\"fill:none; stroke:black; stroke-width:\"2\" />\n",
        "<line x1=\"620\" y1=\"620\" x2=\"620\" y2=\"420\" style=\"fill:none; stroke:black; stroke-width:\"2\" />\n",
        "<line x1=\"620\" y1=\"620\" x2=\"820\" y2=\"420\" style=\"fill:none; stroke:black; stroke-width:\"2\" />\n",
        "<line x1=\"820\" y1=\"620\" x2=\"820\" y2=\"420\" style=\"fill:none; stroke:black; stroke-width:\"2\" />\n",
        "<line x1=\"20\" y1=\"420\" x2=\"220\" y2=\"420\" style=\"fill:none; stroke:black; stroke-width:\"2\" />\n",
        "<line x1=\"20\" y1=\"420\" x2=\"20\" y2=\"220\" style=\"fill:none; stroke:black; stroke-width:\"2\" />\n",
        "<line x1=\"20\" y1=\"420\" x2=\"220\" y2=\"220\" style=\"fill:none; stroke:black; stroke-width:\"2\" />\n",
        "<line x1=\"220\" y1=\"420\" x2=\"420\" y2=\"420\" style=\"fill:none; stroke:black; stroke-width:\"2\" />\n",
        "<line x1=\"220\" y1=\"420\" x2=\"220\" y2=\"220\" style=\"fill:none; stroke:black; stroke-width:\"2\" />\n",
        "<line x1=\"220\" y1=\"420\" x2=\"420\" y2=\"220\" style=\"fill:none; stroke:black; stroke-width:\"2\" />\n",
        "<line x1=\"420\" y1=\"420\" x2=\"620\" y2=\"420\" style=\"fill:none; stroke:black; stroke-width:\"2\" />\n",
        "<line x1=\"420\" y1=\"420\" x2=\"420\" y2=\"220\" style=\"fill:none; stroke:black; stroke-width:\"2\" />\n",
        "<line x1=\"420\" y1=\"420\" x2=\"620\" y2=\"220\" style=\"fill:none; stroke:black; stroke-width:\"2\" />\n",
        "<line x1=\"620\" y1=\"420\" x2=\"820\" y2=\"420\" style=\"fill:none; stroke:black; stroke-width:\"2\" />\n",
        "<line x1=\"620\" y1=\"420\" x2=\"620\" y2=\"220\" style=\"fill:none; stroke:black; stroke-width:\"2\" />\n",
        "<line x1=\"620\" y1=\"420\" x2=\"820\" y2=\"220\" style=\"fill:none; stroke:black; stroke-width:\"2\" />\n",
        "<line x1=\"820\" y1=\"420\" x2=\"820\" y2=\"220\" style=\"fill:none; stroke:black; stroke-width:\"2\" />\n",
        "<line x1=\"20\" y1=\"220\" x2=\"220\" y2=\"220\" style=\"fill:none; stroke:black; stroke-width:\"2\" />\n",
        "<line x1=\"20\" y1=\"220\" x2=\"20\" y2=\"20\" style=\"fill:none; stroke:black; stroke-width:\"2\" />\n",
        "<line x1=\"20\" y1=\"220\" x2=\"220\" y2=\"20\" style=\"fill:none; stroke:black; stroke-width:\"2\" />\n",
        "<line x1=\"220\" y1=\"220\" x2=\"420\" y2=\"220\" style=\"fill:none; stroke:black; stroke-width:\"2\" />\n",
        "<line x1=\"220\" y1=\"220\" x2=\"220\" y2=\"20\" style=\"fill:none; stroke:black; stroke-width:\"2\" />\n",
        "<line x1=\"220\" y1=\"220\" x2=\"420\" y2=\"20\" style=\"fill:none; stroke:black; stroke-width:\"2\" />\n",
        "<line x1=\"420\" y1=\"220\" x2=\"620\" y2=\"220\" style=\"fill:none; stroke:black; stroke-width:\"2\" />\n",
        "<line x1=\"420\" y1=\"220\" x2=\"420\" y2=\"20\" style=\"fill:none; stroke:black; stroke-width:\"2\" />\n",
        "<line x1=\"420\" y1=\"220\" x2=\"620\" y2=\"20\" style=\"fill:none; stroke:black; stroke-width:\"2\" />\n",
        "<line x1=\"620\" y1=\"220\" x2=\"820\" y2=\"220\" style=\"fill:none; stroke:black; stroke-width:\"2\" />\n",
        "<line x1=\"620\" y1=\"220\" x2=\"620\" y2=\"20\" style=\"fill:none; stroke:black; stroke-width:\"2\" />\n",
        "<line x1=\"620\" y1=\"220\" x2=\"820\" y2=\"20\" style=\"fill:none; stroke:black; stroke-width:\"2\" />\n",
        "<line x1=\"820\" y1=\"220\" x2=\"820\" y2=\"20\" style=\"fill:none; stroke:black; stroke-width:\"2\" />\n",
        "<line x1=\"20\" y1=\"20\" x2=\"220\" y2=\"20\" style=\"fill:none; stroke:black; stroke-width:\"2\" />\n",
        "<line x1=\"220\" y1=\"20\" x2=\"420\" y2=\"20\" style=\"fill:none; stroke:black; stroke-width:\"2\" />\n",
        "<line x1=\"420\" y1=\"20\" x2=\"620\" y2=\"20\" style=\"fill:none; stroke:black; stroke-width:\"2\" />\n",
        "<line x1=\"620\" y1=\"20\" x2=\"820\" y2=\"20\" style=\"fill:none; stroke:black; stroke-width:\"2\" />\n",
        "    <circle cx=\"20\" cy=\"820\" r=\"2\" stroke=\"black\" stroke-width=\"0\" fill=\"red\" />\n",
        "<circle cx=\"220\" cy=\"820\" r=\"2\" stroke=\"black\" stroke-width=\"0\" fill=\"red\" />\n",
        "<circle cx=\"420\" cy=\"820\" r=\"2\" stroke=\"black\" stroke-width=\"0\" fill=\"red\" />\n",
        "<circle cx=\"620\" cy=\"820\" r=\"2\" stroke=\"black\" stroke-width=\"0\" fill=\"red\" />\n",
        "<circle cx=\"820\" cy=\"820\" r=\"2\" stroke=\"black\" stroke-width=\"0\" fill=\"red\" />\n",
        "<circle cx=\"20\" cy=\"620\" r=\"2\" stroke=\"black\" stroke-width=\"0\" fill=\"red\" />\n",
        "<circle cx=\"220\" cy=\"620\" r=\"2\" stroke=\"black\" stroke-width=\"0\" fill=\"red\" />\n",
        "<circle cx=\"420\" cy=\"620\" r=\"2\" stroke=\"black\" stroke-width=\"0\" fill=\"red\" />\n",
        "<circle cx=\"620\" cy=\"620\" r=\"2\" stroke=\"black\" stroke-width=\"0\" fill=\"red\" />\n",
        "<circle cx=\"820\" cy=\"620\" r=\"2\" stroke=\"black\" stroke-width=\"0\" fill=\"red\" />\n",
        "<circle cx=\"20\" cy=\"420\" r=\"2\" stroke=\"black\" stroke-width=\"0\" fill=\"red\" />\n",
        "<circle cx=\"220\" cy=\"420\" r=\"2\" stroke=\"black\" stroke-width=\"0\" fill=\"red\" />\n",
        "<circle cx=\"420\" cy=\"420\" r=\"2\" stroke=\"black\" stroke-width=\"0\" fill=\"red\" />\n",
        "<circle cx=\"620\" cy=\"420\" r=\"2\" stroke=\"black\" stroke-width=\"0\" fill=\"red\" />\n",
        "<circle cx=\"820\" cy=\"420\" r=\"2\" stroke=\"black\" stroke-width=\"0\" fill=\"red\" />\n",
        "<circle cx=\"20\" cy=\"220\" r=\"2\" stroke=\"black\" stroke-width=\"0\" fill=\"red\" />\n",
        "<circle cx=\"220\" cy=\"220\" r=\"2\" stroke=\"black\" stroke-width=\"0\" fill=\"red\" />\n",
        "<circle cx=\"420\" cy=\"220\" r=\"2\" stroke=\"black\" stroke-width=\"0\" fill=\"red\" />\n",
        "<circle cx=\"620\" cy=\"220\" r=\"2\" stroke=\"black\" stroke-width=\"0\" fill=\"red\" />\n",
        "<circle cx=\"820\" cy=\"220\" r=\"2\" stroke=\"black\" stroke-width=\"0\" fill=\"red\" />\n",
        "<circle cx=\"20\" cy=\"20\" r=\"2\" stroke=\"black\" stroke-width=\"0\" fill=\"red\" />\n",
        "<circle cx=\"220\" cy=\"20\" r=\"2\" stroke=\"black\" stroke-width=\"0\" fill=\"red\" />\n",
        "<circle cx=\"420\" cy=\"20\" r=\"2\" stroke=\"black\" stroke-width=\"0\" fill=\"red\" />\n",
        "<circle cx=\"620\" cy=\"20\" r=\"2\" stroke=\"black\" stroke-width=\"0\" fill=\"red\" />\n",
        "<circle cx=\"820\" cy=\"20\" r=\"2\" stroke=\"black\" stroke-width=\"0\" fill=\"red\" />\n",
        "    </svg>\n",
        "    "
       ],
       "text": [
        "<dolfin.cpp.mesh.RectangleMesh; proxy of <Swig Object of type 'std::shared_ptr< dolfin::RectangleMesh > *' at 0x10ee86120> >"
       ]
      }
     ],
     "prompt_number": 20
    },
    {
     "cell_type": "code",
     "collapsed": false,
     "input": [
      "print np.arange(1,6,2)\n",
      "mesh = RectangleMesh(-1,-1,1,1,2**3,2**3, 'crossed')\n",
      "cell_f = CellFunction('size_t', mesh, 0)\n",
      "for cell in cells(mesh):\n",
      "    v = cell.get_vertex_coordinates()\n",
      "    y = v[np.arange(0,6,2)] \n",
      "    x = v[np.arange(1,6,2)]\n",
      "    xone = np.ones(3)\n",
      "    xone[x > 0] = 0\n",
      "    yone = np.ones(3)\n",
      "    yone[y < 0] = 0\n",
      "    if np.sum(xone)+ np.sum(yone)>5.5:\n",
      "        cell_f[cell] = 1\n",
      "mesh0 = SubMesh(mesh, cell_f, 0)"
     ],
     "language": "python",
     "metadata": {},
     "outputs": [
      {
       "output_type": "stream",
       "stream": "stdout",
       "text": [
        "[1 3 5]\n"
       ]
      }
     ],
     "prompt_number": 77
    },
    {
     "cell_type": "code",
     "collapsed": false,
     "input": [
      "N2 = mesh0.num_vertices()\n",
      "N2"
     ],
     "language": "python",
     "metadata": {},
     "outputs": [
      {
       "metadata": {},
       "output_type": "pyout",
       "prompt_number": 78,
       "text": [
        "113"
       ]
      }
     ],
     "prompt_number": 78
    },
    {
     "cell_type": "code",
     "collapsed": false,
     "input": [
      "np.log2(3)/np.log2(sqrt(float(N2)/N1))\n"
     ],
     "language": "python",
     "metadata": {},
     "outputs": [
      {
       "metadata": {},
       "output_type": "pyout",
       "prompt_number": 81,
       "text": [
        "1.7850839384267885"
       ]
      }
     ],
     "prompt_number": 81
    }
   ],
   "metadata": {}
  }
 ]
}
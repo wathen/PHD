{
 "metadata": {
  "name": "",
  "signature": "sha256:f82aeffcf6843c7eeeac401dda72f276336031ed933c27328e70ce82ce8dbc34"
 },
 "nbformat": 3,
 "nbformat_minor": 0,
 "worksheets": [
  {
   "cells": [
    {
     "cell_type": "code",
     "collapsed": false,
     "input": [
      "#!/usr/bin/python\n",
      "\n",
      "# interpolate scalar gradient onto nedelec space\n",
      "\n",
      "import petsc4py\n",
      "import sys\n",
      "\n",
      "petsc4py.init(sys.argv)\n",
      "\n",
      "from petsc4py import PETSc\n",
      "from dolfin import *\n",
      "Print = PETSc.Sys.Print\n",
      "# from MatrixOperations import *\n",
      "import numpy as np\n",
      "import PETScIO as IO\n",
      "import common\n",
      "import scipy\n",
      "import scipy.io\n",
      "import time\n",
      "\n",
      "import BiLinear as forms\n",
      "import IterOperations as Iter\n",
      "import MatrixOperations as MO\n",
      "import CheckPetsc4py as CP\n",
      "import ExactSol\n",
      "import Solver as S\n",
      "import MHDmatrixPrecondSetup as PrecondSetup\n",
      "import NSprecondSetup\n",
      "import MHDprec as MHDpreconditioner\n",
      "import memory_profiler\n",
      "import gc\n",
      "import MHDmulti\n",
      "import MHDmatrixSetup as MHDsetup\n",
      "#@profile\n",
      "m = 2\n",
      "\n",
      "\n",
      "errL2u =np.zeros((m-1,1))\n",
      "errH1u =np.zeros((m-1,1))\n",
      "errL2p =np.zeros((m-1,1))\n",
      "errL2b =np.zeros((m-1,1))\n",
      "errCurlb =np.zeros((m-1,1))\n",
      "errL2r =np.zeros((m-1,1))\n",
      "errH1r =np.zeros((m-1,1))\n",
      "\n",
      "\n",
      "\n",
      "l2uorder =  np.zeros((m-1,1))\n",
      "H1uorder =np.zeros((m-1,1))\n",
      "l2porder =  np.zeros((m-1,1))\n",
      "l2border =  np.zeros((m-1,1))\n",
      "Curlborder =np.zeros((m-1,1))\n",
      "l2rorder =  np.zeros((m-1,1))\n",
      "H1rorder = np.zeros((m-1,1))\n",
      "\n",
      "NN = np.zeros((m-1,1))\n",
      "DoF = np.zeros((m-1,1))\n",
      "Velocitydim = np.zeros((m-1,1))\n",
      "Magneticdim = np.zeros((m-1,1))\n",
      "Pressuredim = np.zeros((m-1,1))\n",
      "Lagrangedim = np.zeros((m-1,1))\n",
      "Wdim = np.zeros((m-1,1))\n",
      "iterations = np.zeros((m-1,1))\n",
      "SolTime = np.zeros((m-1,1))\n",
      "udiv = np.zeros((m-1,1))\n",
      "MU = np.zeros((m-1,1))\n",
      "level = np.zeros((m-1,1))\n",
      "NSave = np.zeros((m-1,1))\n",
      "Mave = np.zeros((m-1,1))\n",
      "TotalTime = np.zeros((m-1,1))\n",
      "\n",
      "nn = 2\n",
      "\n",
      "dim = 2\n",
      "ShowResultPlots = 'yes'\n",
      "split = 'Linear'\n",
      "\n",
      "MU[0]= 1e0\n",
      "for xx in xrange(1,m):\n",
      "    print xx\n",
      "    level[xx-1] = xx+ 3\n",
      "    nn = 2**(level[xx-1])\n",
      "\n",
      "\n",
      "\n",
      "    # Create mesh and define function space\n",
      "    nn = int(nn)\n",
      "    NN[xx-1] = nn/2\n",
      "    # parameters[\"form_compiler\"][\"quadrature_degree\"] = 6\n",
      "    # parameters = CP.ParameterSetup()\n",
      "    mesh = UnitSquareMesh(nn,nn)\n",
      "\n",
      "    order = 2\n",
      "    parameters['reorder_dofs_serial'] = False\n",
      "    Velocity = VectorFunctionSpace(mesh, \"CG\", order)\n",
      "    Pressure = FunctionSpace(mesh, \"CG\", order-1)\n",
      "    Magnetic = FunctionSpace(mesh, \"N1curl\", order-1)\n",
      "    Lagrange = FunctionSpace(mesh, \"CG\", order-1)\n",
      "    W = MixedFunctionSpace([Velocity, Pressure, Magnetic,Lagrange])\n",
      "    # W = Velocity*Pressure*Magnetic*Lagrange\n",
      "    Velocitydim[xx-1] = Velocity.dim()\n",
      "    Pressuredim[xx-1] = Pressure.dim()\n",
      "    Magneticdim[xx-1] = Magnetic.dim()\n",
      "    Lagrangedim[xx-1] = Lagrange.dim()\n",
      "    Wdim[xx-1] = W.dim()\n",
      "    print \"\\n\\nW:  \",Wdim[xx-1],\"Velocity:  \",Velocitydim[xx-1],\"Pressure:  \",Pressuredim[xx-1],\"Magnetic:  \",Magneticdim[xx-1],\"Lagrange:  \",Lagrangedim[xx-1],\"\\n\\n\"\n",
      "    dim = [Velocity.dim(), Pressure.dim(), Magnetic.dim(), Lagrange.dim()]\n",
      "\n",
      "\n",
      "    def boundary(x, on_boundary):\n",
      "        return on_boundary\n",
      "\n",
      "    class Step2d(Expression):\n",
      "        def __init__(self, mesh):\n",
      "            self.mesh = mesh\n",
      "        def eval_cell(self, values, x, ufc_cell):\n",
      "            if x[0] >= 0.5 or x[1] >= 0.5:\n",
      "                values[0] = 1\n",
      "                values[1] = 0\n",
      "            else:\n",
      "                values[0] = 0\n",
      "                values[1] = 0\n",
      "        def value_shape(self):\n",
      "            return (2,)\n",
      "\n",
      "    class Step1d(Expression):\n",
      "        def __init__(self, mesh):\n",
      "            self.mesh = mesh\n",
      "        def eval_cell(self, values, x, ufc_cell):\n",
      "            if x[0] <= 0.5:\n",
      "                values[0] = 1\n",
      "            else:\n",
      "                values[0] = 0\n",
      "\n",
      "\n",
      "    u0 = Expression(('1.0','1.0'))\n",
      "    # u0 = Step2d(mesh)\n",
      "    # p0 = Expression(('1.0'))\n",
      "    p0 = Step1d(mesh)\n",
      "    # b0 = Expression(('1.0','1.0'))\n",
      "    b0 = Step2d(mesh)\n",
      "    # r0 = Expression(('1.0'))\n",
      "    r0 = Step1d(mesh)\n",
      "\n",
      "\n",
      "    # u0, p0,b0, r0, Laplacian, Advection, gradPres,CurlCurl, gradR, NS_Couple, M_Couple = ExactSol.MHD2D(4,1, mesh)\n",
      "    # u0 = Step2d(mesh)\n",
      "\n",
      "    bcu = DirichletBC(Velocity,u0, boundary)\n",
      "    bcb = DirichletBC(Magnetic,b0, boundary)\n",
      "    bcr = DirichletBC(Lagrange,r0, boundary)\n",
      "\n",
      "    # bc = [u0,p0,b0,r0]\n",
      "    bcs = [bcu,bcb,bcr]\n",
      "    FSpaces = [Velocity,Pressure,Magnetic,Lagrange]\n",
      "\n",
      "\n",
      "    (u, b, p, r) = TrialFunctions(W)\n",
      "    (v, c, q, s) = TestFunctions(W)\n",
      "    kappa = 10.0\n",
      "    Mu_m =10.0\n",
      "    MU = 1.0/1\n",
      "    IterType = 'Full'\n",
      "    Split = \"No\"\n",
      "    Saddle = \"No\"\n",
      "    Stokes = \"No\"\n",
      "    SetupType = 'python-class'\n",
      "    # F_NS = -MU*Laplacian+Advection+gradPres-kappa*NS_Couple\n",
      "    # if kappa == 0:\n",
      "    #     F_M = Mu_m*CurlCurl+gradR -kappa*M_Couple\n",
      "    # else:\n",
      "    #     F_M = Mu_m*kappa*CurlCurl+gradR -kappa*M_Couple\n",
      "    F_NS = Expression(('0.0','0.0'))\n",
      "    F_M = Expression(('0.0','0.0'))\n",
      "    params = [kappa,Mu_m,MU]\n",
      "\n",
      "    MO.PrintStr(\"Seting up initial guess matricies\",2,\"=\",\"\\n\\n\",\"\\n\")\n",
      "    BCtime = time.time()\n",
      "    BC = MHDsetup.BoundaryIndices(mesh)\n",
      "    MO.StrTimePrint(\"BC index function, time: \", time.time()-BCtime)\n",
      "    Hiptmairtol = 1e-6\n",
      "    HiptmairMatrices = PrecondSetup.MagneticSetup(Magnetic, Lagrange, b0, r0, Hiptmairtol, params)\n",
      "\n",
      "\n",
      "    MO.PrintStr(\"Setting up MHD initial guess\",5,\"+\",\"\\n\\n\",\"\\n\\n\")\n",
      "    u_k,p_k,b_k,r_k = common.InitialGuess(FSpaces,[u0,p0,b0,r0],[F_NS,F_M],params,HiptmairMatrices,1e-10,Neumann=Expression((\"0\",\"0\")),options =\"New\")\n",
      "    b_t = TrialFunction(Velocity)\n",
      "    c_t = TestFunction(Velocity)\n",
      "\n",
      "    ones = Function(Pressure)\n",
      "    ones.vector()[:]=(0*ones.vector().array()+1)\n",
      "    # pConst = - assemble(p_k*dx)/assemble(ones*dx)\n",
      "    p_k.vector()[:] += - assemble(p_k*dx)/assemble(ones*dx)\n",
      "    x = Iter.u_prev(u_k,p_k,b_k,r_k)\n",
      "\n",
      "    KSPlinearfluids, MatrixLinearFluids = PrecondSetup.FluidLinearSetup(Pressure, MU)\n",
      "    kspFp, Fp = PrecondSetup.FluidNonLinearSetup(Pressure, MU, u_k)\n",
      "    #plot(b_k)\n",
      "\n",
      "    ns,maxwell,CoupleTerm,Lmaxwell,Lns = forms.MHD2D(mesh, W,F_M,F_NS, u_k,b_k,params,IterType,\"CG\",Saddle,Stokes)\n",
      "    RHSform = forms.PicardRHS(mesh, W, u_k, p_k, b_k, r_k, params,\"CG\",Saddle,Stokes)\n",
      "\n",
      "    bcu = DirichletBC(W.sub(0),Expression((\"0.0\",\"0.0\")), boundary)\n",
      "    bcb = DirichletBC(W.sub(2),Expression((\"0.0\",\"0.0\")), boundary)\n",
      "    bcr = DirichletBC(W.sub(3),Expression((\"0.0\")), boundary)\n",
      "    bcs = [bcu,bcb,bcr]\n",
      "\n",
      "    parameters['linear_algebra_backend'] = 'uBLAS'\n",
      "\n",
      "    eps = 1.0           # error measure ||u-u_k||\n",
      "    tol = 1.0E-4     # tolerance\n",
      "    iter = 0            # iteration counter\n",
      "    maxiter = 20       # max no of iterations allowed\n",
      "    SolutionTime = 0\n",
      "    outer = 0\n",
      "    # parameters['linear_algebra_backend'] = 'uBLAS'\n",
      "\n",
      "    # FSpaces = [Velocity,Magnetic,Pressure,Lagrange]\n",
      "\n",
      "    if IterType == \"CD\":\n",
      "        MO.PrintStr(\"Setting up PETSc \"+SetupType,2,\"=\",\"\\n\",\"\\n\")\n",
      "        Alin = MHDsetup.Assemble(W,ns,maxwell,CoupleTerm,Lns,Lmaxwell,RHSform,bcs+BC, \"Linear\",IterType)\n",
      "        Fnlin,b = MHDsetup.Assemble(W,ns,maxwell,CoupleTerm,Lns,Lmaxwell,RHSform,bcs+BC, \"NonLinear\",IterType)\n",
      "        A = Fnlin+Alin\n",
      "        A,b = MHDsetup.SystemAssemble(FSpaces,A,b,SetupType,IterType)\n",
      "        u = b.duplicate()\n",
      "\n",
      "\n",
      "    u_is = PETSc.IS().createGeneral(range(Velocity.dim()))\n",
      "    NS_is = PETSc.IS().createGeneral(range(Velocity.dim()+Pressure.dim()))\n",
      "    M_is = PETSc.IS().createGeneral(range(Velocity.dim()+Pressure.dim(),W.dim()))\n",
      "    OuterTol = 1e-5\n",
      "    InnerTol = 1e-5\n",
      "    NSits =0\n",
      "    Mits =0\n",
      "    TotalStart =time.time()\n",
      "    SolutionTime = 0\n",
      "    while eps > tol  and iter < maxiter:\n",
      "        iter += 1\n",
      "        MO.PrintStr(\"Iter \"+str(iter),7,\"=\",\"\\n\\n\",\"\\n\\n\")\n",
      "        AssembleTime = time.time()\n",
      "        if IterType == \"CD\":\n",
      "            MO.StrTimePrint(\"MHD CD RHS assemble, time: \", time.time()-AssembleTime)\n",
      "            b = MHDsetup.Assemble(W,ns,maxwell,CoupleTerm,Lns,Lmaxwell,RHSform,bcs+BC, \"CD\",IterType)\n",
      "        else:\n",
      "            MO.PrintStr(\"Setting up PETSc \"+SetupType,2,\"=\",\"\\n\",\"\\n\")\n",
      "            if  Split == \"Yes\":\n",
      "                if iter == 1:\n",
      "                    Alin = MHDsetup.Assemble(W,ns,maxwell,CoupleTerm,Lns,Lmaxwell,RHSform,bcs+BC, \"Linear\",IterType)\n",
      "                    Fnlin,b = MHDsetup.Assemble(W,ns,maxwell,CoupleTerm,Lns,Lmaxwell,RHSform,bcs+BC, \"NonLinear\",IterType)\n",
      "                    A = Fnlin+Alin\n",
      "                    A,b = MHDsetup.SystemAssemble(FSpaces,A,b,SetupType,IterType)\n",
      "                    u = b.duplicate()\n",
      "                else:\n",
      "                    Fnline,b = MHDsetup.Assemble(W,ns,maxwell,CoupleTerm,Lns,Lmaxwell,RHSform,bcs+BC, \"NonLinear\",IterType)\n",
      "                    A = Fnlin+Alin\n",
      "                    A,b = MHDsetup.SystemAssemble(FSpaces,A,b,SetupType,IterType)\n",
      "            else:\n",
      "                AA, bb = assemble_system(maxwell+ns+CoupleTerm, (Lmaxwell + Lns) - RHSform,  bcs)\n",
      "                A,b = CP.Assemble(AA,bb)\n",
      "        # if iter == 1:\n",
      "        MO.StrTimePrint(\"MHD total assemble, time: \", time.time()-AssembleTime)\n",
      "\n",
      "        u = b.duplicate()\n",
      "        kspFp, Fp = PrecondSetup.FluidNonLinearSetup(Pressure, MU, u_k)\n",
      "        print \"Inititial guess norm: \",  u.norm(PETSc.NormType.NORM_INFINITY)\n",
      "        #A,Q\n",
      "        if IterType == 'Full':\n",
      "\n",
      "            n = FacetNormal(mesh)\n",
      "            mat =  as_matrix([[b_k[1]*b_k[1],-b_k[1]*b_k[0]],[-b_k[1]*b_k[0],b_k[0]*b_k[0]]])\n",
      "            a = params[2]*inner(grad(b_t), grad(c_t))*dx(W.mesh()) + inner((grad(b_t)*u_k),c_t)*dx(W.mesh()) +(1./2)*div(u_k)*inner(c_t,b_t)*dx(W.mesh()) - (1./2)*inner(u_k,n)*inner(c_t,b_t)*ds(W.mesh())+kappa/Mu_m*inner(mat*b_t,c_t)*dx(W.mesh())\n",
      "            ShiftedMass = assemble(a)\n",
      "            bcu.apply(ShiftedMass)\n",
      "            ShiftedMass = CP.Assemble(ShiftedMass)\n",
      "            kspF = NSprecondSetup.LSCKSPnonlinear(ShiftedMass)\n",
      "        else:\n",
      "            F = A.getSubMatrix(u_is,u_is)\n",
      "            kspF = NSprecondSetup.LSCKSPnonlinear(F)\n",
      "        stime = time.time()\n",
      "        u, mits,nsits = S.solve(A,b,u,params,W,'Directs',IterType,OuterTol,InnerTol,HiptmairMatrices,Hiptmairtol,KSPlinearfluids, Fp,kspF)\n",
      "        Soltime = time.time()- stime\n",
      "        MO.StrTimePrint(\"MHD solve, time: \", Soltime)\n",
      "        Mits += mits\n",
      "        NSits += nsits\n",
      "        SolutionTime += Soltime\n",
      "\n",
      "        u1, p1, b1, r1, eps= Iter.PicardToleranceDecouple(u,x,FSpaces,dim,\"2\",iter)\n",
      "        p1.vector()[:] += - assemble(p1*dx)/assemble(ones*dx)\n",
      "        u_k.assign(u1)\n",
      "        p_k.assign(p1)\n",
      "        b_k.assign(b1)\n",
      "        r_k.assign(r1)\n",
      "        uOld= np.concatenate((u_k.vector().array(),p_k.vector().array(),b_k.vector().array(),r_k.vector().array()), axis=0)\n",
      "        x = IO.arrayToVec(uOld)\n",
      "\n",
      "\n",
      "\n",
      "    XX= np.concatenate((u_k.vector().array(),p_k.vector().array(),b_k.vector().array(),r_k.vector().array()), axis=0)\n",
      "    SolTime[xx-1] = SolutionTime/iter\n",
      "    NSave[xx-1] = (float(NSits)/iter)\n",
      "    Mave[xx-1] = (float(Mits)/iter)\n",
      "    iterations[xx-1] = iter\n",
      "    TotalTime[xx-1] = time.time() - TotalStart\n",
      "    dim = [Velocity.dim(), Pressure.dim(), Magnetic.dim(),Lagrange.dim()]\n",
      "\n",
      "    ExactSolution = [u0,p0,b0,r0]\n",
      "    errL2u[xx-1], errH1u[xx-1], errL2p[xx-1], errL2b[xx-1], errCurlb[xx-1], errL2r[xx-1], errH1r[xx-1] = Iter.Errors(XX,mesh,FSpaces,ExactSolution,order,dim, \"CG\")\n",
      "\n",
      "    if xx > 1:\n",
      "       l2uorder[xx-1] =  np.abs(np.log2(errL2u[xx-2]/errL2u[xx-1]))\n",
      "       H1uorder[xx-1] =  np.abs(np.log2(errH1u[xx-2]/errH1u[xx-1]))\n",
      "\n",
      "       l2porder[xx-1] =  np.abs(np.log2(errL2p[xx-2]/errL2p[xx-1]))\n",
      "\n",
      "       l2border[xx-1] =  np.abs(np.log2(errL2b[xx-2]/errL2b[xx-1]))\n",
      "       Curlborder[xx-1] =  np.abs(np.log2(errCurlb[xx-2]/errCurlb[xx-1]))\n",
      "\n",
      "       l2rorder[xx-1] =  np.abs(np.log2(errL2r[xx-2]/errL2r[xx-1]))\n",
      "       H1rorder[xx-1] =  np.abs(np.log2(errH1r[xx-2]/errH1r[xx-1]))\n",
      "\n",
      "\n",
      "\n",
      "\n",
      "import pandas as pd\n",
      "\n",
      "\n",
      "\n",
      "LatexTitles = [\"l\",\"DoFu\",\"Dofp\",\"V-L2\",\"L2-order\",\"V-H1\",\"H1-order\",\"P-L2\",\"PL2-order\"]\n",
      "LatexValues = np.concatenate((level,Velocitydim,Pressuredim,errL2u,l2uorder,errH1u,H1uorder,errL2p,l2porder), axis=1)\n",
      "LatexTable = pd.DataFrame(LatexValues, columns = LatexTitles)\n",
      "pd.set_option('precision',3)\n",
      "LatexTable = MO.PandasFormat(LatexTable,\"V-L2\",\"%2.4e\")\n",
      "LatexTable = MO.PandasFormat(LatexTable,'V-H1',\"%2.4e\")\n",
      "LatexTable = MO.PandasFormat(LatexTable,\"H1-order\",\"%1.2f\")\n",
      "LatexTable = MO.PandasFormat(LatexTable,'L2-order',\"%1.2f\")\n",
      "LatexTable = MO.PandasFormat(LatexTable,\"P-L2\",\"%2.4e\")\n",
      "LatexTable = MO.PandasFormat(LatexTable,'PL2-order',\"%1.2f\")\n",
      "print LatexTable\n",
      "\n",
      "\n",
      "print \"\\n\\n   Magnetic convergence\"\n",
      "MagneticTitles = [\"l\",\"B DoF\",\"R DoF\",\"B-L2\",\"L2-order\",\"B-Curl\",\"HCurl-order\"]\n",
      "MagneticValues = np.concatenate((level,Magneticdim,Lagrangedim,errL2b,l2border,errCurlb,Curlborder),axis=1)\n",
      "MagneticTable= pd.DataFrame(MagneticValues, columns = MagneticTitles)\n",
      "pd.set_option('precision',3)\n",
      "MagneticTable = MO.PandasFormat(MagneticTable,\"B-Curl\",\"%2.4e\")\n",
      "MagneticTable = MO.PandasFormat(MagneticTable,'B-L2',\"%2.4e\")\n",
      "MagneticTable = MO.PandasFormat(MagneticTable,\"L2-order\",\"%1.2f\")\n",
      "MagneticTable = MO.PandasFormat(MagneticTable,'HCurl-order',\"%1.2f\")\n",
      "print MagneticTable\n",
      "\n",
      "print \"\\n\\n   Lagrange convergence\"\n",
      "LagrangeTitles = [\"l\",\"B DoF\",\"R DoF\",\"R-L2\",\"L2-order\",\"R-H1\",\"H1-order\"]\n",
      "LagrangeValues = np.concatenate((level,Lagrangedim,Lagrangedim,errL2r,l2rorder,errH1r,H1rorder),axis=1)\n",
      "LagrangeTable= pd.DataFrame(LagrangeValues, columns = LagrangeTitles)\n",
      "pd.set_option('precision',3)\n",
      "LagrangeTable = MO.PandasFormat(LagrangeTable,\"R-L2\",\"%2.4e\")\n",
      "LagrangeTable = MO.PandasFormat(LagrangeTable,'R-H1',\"%2.4e\")\n",
      "LagrangeTable = MO.PandasFormat(LagrangeTable,\"L2-order\",\"%1.2f\")\n",
      "LagrangeTable = MO.PandasFormat(LagrangeTable,'H1-order',\"%1.2f\")\n",
      "print LagrangeTable\n",
      "\n",
      "\n",
      "\n",
      "\n",
      "import pandas as pd\n",
      "\n",
      "\n",
      "\n",
      "\n",
      "print \"\\n\\n   Iteration table\"\n",
      "if IterType == \"Full\":\n",
      "    IterTitles = [\"l\",\"DoF\",\"AV solve Time\",\"Total picard time\",\"picard iterations\",\"Av Outer its\",\"Av Inner its\",]\n",
      "else:\n",
      "    IterTitles = [\"l\",\"DoF\",\"AV solve Time\",\"Total picard time\",\"picard iterations\",\"Av NS iters\",\"Av M iters\"]\n",
      "IterValues = np.concatenate((level,Wdim,SolTime,TotalTime,iterations,Mave,NSave),axis=1)\n",
      "IterTable= pd.DataFrame(IterValues, columns = IterTitles)\n",
      "if IterType == \"Full\":\n",
      "    IterTable = MO.PandasFormat(IterTable,'Av Outer its',\"%2.1f\")\n",
      "    IterTable = MO.PandasFormat(IterTable,'Av Inner its',\"%2.1f\")\n",
      "else:\n",
      "    IterTable = MO.PandasFormat(IterTable,'Av NS iters',\"%2.1f\")\n",
      "    IterTable = MO.PandasFormat(IterTable,'Av M iters',\"%2.1f\")\n",
      "print IterTable\n",
      "print \" \\n  Outer Tol:  \",OuterTol, \"Inner Tol:   \", InnerTol\n",
      "\n",
      "#    tableName = \"2d_nu=\"+str(MU)+\"_nu_m=\"+str(Mu_m)+\"_kappa=\"+str(kappa)+\"_l=\"+str(np.min(level))+\"-\"+str(np.max(level))+\".tex\"\n",
      "#    IterTable.to_latex(tableName)\n",
      "\n",
      "# # # if (ShowResultPlots == 'yes'):\n",
      "\n",
      "#    plot(u_k)\n",
      "#    plot(interpolate(u0,Velocity))\n",
      "#\n",
      "#    plot(p_k)\n",
      "#\n",
      "#    plot(interpolate(p0,Pressure))\n",
      "#\n",
      "#    plot(b_k)\n",
      "#    plot(interpolate(b0,Magnetic))\n",
      "#\n",
      "#    plot(r_k)\n",
      "#    plot(interpolate(r0,Lagrange))\n",
      "#\n",
      "#    interactive()\n",
      "\n",
      "interactive()\n"
     ],
     "language": "python",
     "metadata": {},
     "outputs": [
      {
       "output_type": "stream",
       "stream": "stderr",
       "text": [
        "DEBUG:FFC:Reusing form from cache.\n"
       ]
      },
      {
       "output_type": "stream",
       "stream": "stderr",
       "text": [
        "DEBUG:FFC:Reusing form from cache.\n"
       ]
      },
      {
       "output_type": "stream",
       "stream": "stderr",
       "text": [
        "DEBUG:FFC:Reusing form from cache.\n"
       ]
      },
      {
       "output_type": "stream",
       "stream": "stderr",
       "text": [
        "DEBUG:FFC:Reusing form from cache.\n"
       ]
      },
      {
       "output_type": "stream",
       "stream": "stdout",
       "text": [
        "1\n",
        "Calling FFC just-in-time (JIT) compiler, this may take some time.\n"
       ]
      },
      {
       "output_type": "stream",
       "stream": "stderr",
       "text": [
        "Level 25:FFC:Calling FFC just-in-time (JIT) compiler, this may take some time.\n"
       ]
      },
      {
       "output_type": "stream",
       "stream": "stderr",
       "text": [
        "INFO:FFC:Compiling form ffc_form_eb3d5a1f48d055e43a5522b17a8ddefeb0fba8be\n",
        "\n"
       ]
      },
      {
       "output_type": "stream",
       "stream": "stderr",
       "text": [
        "INFO:FFC:Compiler stage 1: Analyzing form(s)\n"
       ]
      },
      {
       "output_type": "stream",
       "stream": "stderr",
       "text": [
        "INFO:FFC:-----------------------------------\n"
       ]
      },
      {
       "output_type": "stream",
       "stream": "stderr",
       "text": [
        "INFO:FFC:  \n"
       ]
      },
      {
       "output_type": "stream",
       "stream": "stderr",
       "text": [
        "INFO:FFC:  Geometric dimension:       2\n",
        "  Number of cell subdomains: 0\n",
        "  Rank:                      1\n",
        "  Arguments:                 '(v_0)'\n",
        "  Number of coefficients:    0\n",
        "  Coefficients:              '[]'\n",
        "  Unique elements:           'Mixed<Vector<2 x CG2(?)>, CG1(?), N1curl1(?), DG1(?)>'\n",
        "  Unique sub elements:       'Mixed<Vector<2 x CG2(?)>, CG1(?), N1curl1(?), DG1(?)>,\n",
        "                              Vector<2 x CG2(?)>, CG1(?), N1curl1(?), DG1(?), CG2(?)\n",
        "                             '\n",
        "  \n"
       ]
      },
      {
       "output_type": "stream",
       "stream": "stderr",
       "text": [
        "INFO:FFC:  Extracting monomial form representation from UFL form\n"
       ]
      },
      {
       "output_type": "stream",
       "stream": "stderr",
       "text": [
        "INFO:FFC:  Transforming monomial form to reference element\n"
       ]
      },
      {
       "output_type": "stream",
       "stream": "stderr",
       "text": [
        "DEBUG:FFC:  Reusing element from cache\n"
       ]
      },
      {
       "output_type": "stream",
       "stream": "stderr",
       "text": [
        "DEBUG:FFC:  Reusing element from cache\n"
       ]
      },
      {
       "output_type": "stream",
       "stream": "stderr",
       "text": [
        "DEBUG:FFC:  Estimated cost of tensor representation: 0\n"
       ]
      },
      {
       "output_type": "stream",
       "stream": "stderr",
       "text": [
        "INFO:FFC:  representation:    auto --> tensor\n"
       ]
      },
      {
       "output_type": "stream",
       "stream": "stderr",
       "text": [
        "DEBUG:FFC:  Selecting quadrature degree based on total polynomial degree of integrand: 2\n"
       ]
      },
      {
       "output_type": "stream",
       "stream": "stderr",
       "text": [
        "INFO:FFC:  quadrature_degree: auto --> 2\n"
       ]
      },
      {
       "output_type": "stream",
       "stream": "stderr",
       "text": [
        "INFO:FFC:  quadrature_rule:   auto --> default\n"
       ]
      },
      {
       "output_type": "stream",
       "stream": "stderr",
       "text": [
        "INFO:FFC:  \n"
       ]
      },
      {
       "output_type": "stream",
       "stream": "stderr",
       "text": [
        "INFO:FFC:Compiler stage 1 finished in 0.24591 seconds.\n",
        "\n"
       ]
      },
      {
       "output_type": "stream",
       "stream": "stderr",
       "text": [
        "INFO:FFC:Compiler stage 2: Computing intermediate representation\n"
       ]
      },
      {
       "output_type": "stream",
       "stream": "stderr",
       "text": [
        "INFO:FFC:-------------------------------------------------------\n"
       ]
      },
      {
       "output_type": "stream",
       "stream": "stderr",
       "text": [
        "INFO:FFC:  Computing representation of 6 elements\n"
       ]
      },
      {
       "output_type": "stream",
       "stream": "stderr",
       "text": [
        "DEBUG:FFC:  Reusing element from cache\n"
       ]
      },
      {
       "output_type": "stream",
       "stream": "stderr",
       "text": [
        "DEBUG:FFC:  Reusing element from cache\n"
       ]
      },
      {
       "output_type": "stream",
       "stream": "stderr",
       "text": [
        "DEBUG:FFC:  Reusing element from cache\n"
       ]
      },
      {
       "output_type": "stream",
       "stream": "stderr",
       "text": [
        "DEBUG:FFC:  Reusing element from cache\n"
       ]
      },
      {
       "output_type": "stream",
       "stream": "stderr",
       "text": [
        "DEBUG:FFC:  Reusing element from cache\n"
       ]
      },
      {
       "output_type": "stream",
       "stream": "stderr",
       "text": [
        "DEBUG:FFC:  Reusing element from cache\n"
       ]
      },
      {
       "output_type": "stream",
       "stream": "stderr",
       "text": [
        "DEBUG:FFC:  Reusing element from cache\n"
       ]
      },
      {
       "output_type": "stream",
       "stream": "stderr",
       "text": [
        "DEBUG:FFC:  Reusing element from cache\n"
       ]
      },
      {
       "output_type": "stream",
       "stream": "stderr",
       "text": [
        "DEBUG:FFC:  Reusing element from cache\n"
       ]
      },
      {
       "output_type": "stream",
       "stream": "stderr",
       "text": [
        "DEBUG:FFC:  Reusing element from cache\n"
       ]
      },
      {
       "output_type": "stream",
       "stream": "stderr",
       "text": [
        "DEBUG:FFC:  Reusing element from cache\n"
       ]
      },
      {
       "output_type": "stream",
       "stream": "stderr",
       "text": [
        "DEBUG:FFC:  Reusing element from cache\n"
       ]
      },
      {
       "output_type": "stream",
       "stream": "stderr",
       "text": [
        "DEBUG:FFC:  Reusing element from cache\n"
       ]
      },
      {
       "output_type": "stream",
       "stream": "stderr",
       "text": [
        "INFO:FFC:  Computing representation of 6 dofmaps\n"
       ]
      },
      {
       "output_type": "stream",
       "stream": "stderr",
       "text": [
        "DEBUG:FFC:  Reusing element from cache\n"
       ]
      },
      {
       "output_type": "stream",
       "stream": "stderr",
       "text": [
        "DEBUG:FFC:  Reusing element from cache\n"
       ]
      },
      {
       "output_type": "stream",
       "stream": "stderr",
       "text": [
        "DEBUG:FFC:  Reusing element from cache\n"
       ]
      },
      {
       "output_type": "stream",
       "stream": "stderr",
       "text": [
        "DEBUG:FFC:  Reusing element from cache\n"
       ]
      },
      {
       "output_type": "stream",
       "stream": "stderr",
       "text": [
        "DEBUG:FFC:  Reusing element from cache\n"
       ]
      },
      {
       "output_type": "stream",
       "stream": "stderr",
       "text": [
        "DEBUG:FFC:  Reusing element from cache\n"
       ]
      },
      {
       "output_type": "stream",
       "stream": "stderr",
       "text": [
        "INFO:FFC:  Computing representation of integrals\n"
       ]
      },
      {
       "output_type": "stream",
       "stream": "stderr",
       "text": [
        "INFO:FFC:  Computing tensor representation\n"
       ]
      },
      {
       "output_type": "stream",
       "stream": "stderr",
       "text": [
        "INFO:FFC:  Extracting monomial form representation from UFL form\n"
       ]
      },
      {
       "output_type": "stream",
       "stream": "stderr",
       "text": [
        "INFO:FFC:  Transforming monomial form to reference element\n"
       ]
      },
      {
       "output_type": "stream",
       "stream": "stderr",
       "text": [
        "DEBUG:FFC:  Reusing element from cache\n"
       ]
      },
      {
       "output_type": "stream",
       "stream": "stderr",
       "text": [
        "DEBUG:FFC:  Reusing element from cache\n"
       ]
      },
      {
       "output_type": "stream",
       "stream": "stderr",
       "text": [
        "INFO:FFC:  Precomputing integrals on reference element\n"
       ]
      },
      {
       "output_type": "stream",
       "stream": "stderr",
       "text": [
        "DEBUG:FFC:  Reusing element from cache\n"
       ]
      },
      {
       "output_type": "stream",
       "stream": "stderr",
       "text": [
        "DEBUG:FFC:  21 entries computed in 0.00185 seconds\n"
       ]
      },
      {
       "output_type": "stream",
       "stream": "stderr",
       "text": [
        "DEBUG:FFC:  Shape of reference tensor: (21,)\n"
       ]
      },
      {
       "output_type": "stream",
       "stream": "stderr",
       "text": [
        "DEBUG:FFC:  Primary multi index:   rank = 1 dims = [21] indices = [[0], [1], [2], [3], [4], [5], [6], [7], [8], [9], [10], [11], [12], [13], [14], [15], [16], [17], [18], [19], [20]]\n"
       ]
      },
      {
       "output_type": "stream",
       "stream": "stderr",
       "text": [
        "DEBUG:FFC:  Secondary multi index: rank = 0 dims = [] indices = [[]]\n"
       ]
      },
      {
       "output_type": "stream",
       "stream": "stderr",
       "text": [
        "DEBUG:FFC:  Internal multi index:  rank = 0 dims = [] indices = [[]]\n"
       ]
      },
      {
       "output_type": "stream",
       "stream": "stderr",
       "text": [
        "DEBUG:FFC:  Secondary multi index: rank = 0 dims = [] indices = [[]]\n"
       ]
      },
      {
       "output_type": "stream",
       "stream": "stderr",
       "text": [
        "DEBUG:FFC:  External multi index:  rank = 0 dims = [] indices = [[]]\n"
       ]
      },
      {
       "output_type": "stream",
       "stream": "stderr",
       "text": [
        "DEBUG:FFC:  Reusing element from cache\n"
       ]
      },
      {
       "output_type": "stream",
       "stream": "stderr",
       "text": [
        "INFO:FFC:  Computing representation of forms\n"
       ]
      },
      {
       "output_type": "stream",
       "stream": "stderr",
       "text": [
        "INFO:FFC:  \n"
       ]
      },
      {
       "output_type": "stream",
       "stream": "stderr",
       "text": [
        "INFO:FFC:Compiler stage 2 finished in 0.0512581 seconds.\n",
        "\n"
       ]
      },
      {
       "output_type": "stream",
       "stream": "stderr",
       "text": [
        "INFO:FFC:Compiler stage 3: Optimizing intermediate representation\n"
       ]
      },
      {
       "output_type": "stream",
       "stream": "stderr",
       "text": [
        "INFO:FFC:--------------------------------------------------------\n"
       ]
      },
      {
       "output_type": "stream",
       "stream": "stderr",
       "text": [
        "INFO:FFC:  Skipping optimizations, add -O to optimize\n"
       ]
      },
      {
       "output_type": "stream",
       "stream": "stderr",
       "text": [
        "INFO:FFC:  \n"
       ]
      },
      {
       "output_type": "stream",
       "stream": "stderr",
       "text": [
        "INFO:FFC:Compiler stage 3 finished in 0.00214314 seconds.\n",
        "\n"
       ]
      },
      {
       "output_type": "stream",
       "stream": "stderr",
       "text": [
        "INFO:FFC:Compiler stage 4: Generating code\n"
       ]
      },
      {
       "output_type": "stream",
       "stream": "stderr",
       "text": [
        "INFO:FFC:---------------------------------\n"
       ]
      },
      {
       "output_type": "stream",
       "stream": "stderr",
       "text": [
        "INFO:FFC:  Generating code for 6 element(s)\n"
       ]
      },
      {
       "output_type": "stream",
       "stream": "stderr",
       "text": [
        "DEBUG:FFC:  Removing unused variable: tmp7\n"
       ]
      },
      {
       "output_type": "stream",
       "stream": "stderr",
       "text": [
        "DEBUG:FFC:  Removing unused variable: tmp6\n"
       ]
      },
      {
       "output_type": "stream",
       "stream": "stderr",
       "text": [
        "DEBUG:FFC:  Removing unused variable: tmp5\n"
       ]
      },
      {
       "output_type": "stream",
       "stream": "stderr",
       "text": [
        "DEBUG:FFC:  Removing unused variable: tt\n"
       ]
      },
      {
       "output_type": "stream",
       "stream": "stderr",
       "text": [
        "DEBUG:FFC:  Removing unused variable: ss\n"
       ]
      },
      {
       "output_type": "stream",
       "stream": "stderr",
       "text": [
        "DEBUG:FFC:  Removing unused variable: rr\n"
       ]
      },
      {
       "output_type": "stream",
       "stream": "stderr",
       "text": [
        "DEBUG:FFC:  Removing unused variable: tmp7\n"
       ]
      },
      {
       "output_type": "stream",
       "stream": "stderr",
       "text": [
        "DEBUG:FFC:  Removing unused variable: tmp6\n"
       ]
      },
      {
       "output_type": "stream",
       "stream": "stderr",
       "text": [
        "DEBUG:FFC:  Removing unused variable: tmp5\n"
       ]
      },
      {
       "output_type": "stream",
       "stream": "stderr",
       "text": [
        "DEBUG:FFC:  Removing unused variable: tt\n"
       ]
      },
      {
       "output_type": "stream",
       "stream": "stderr",
       "text": [
        "DEBUG:FFC:  Removing unused variable: ss\n"
       ]
      },
      {
       "output_type": "stream",
       "stream": "stderr",
       "text": [
        "DEBUG:FFC:  Removing unused variable: rr\n"
       ]
      },
      {
       "output_type": "stream",
       "stream": "stderr",
       "text": [
        "DEBUG:FFC:  Removing unused variable: tmp7\n"
       ]
      },
      {
       "output_type": "stream",
       "stream": "stderr",
       "text": [
        "DEBUG:FFC:  Removing unused variable: tmp6\n"
       ]
      },
      {
       "output_type": "stream",
       "stream": "stderr",
       "text": [
        "DEBUG:FFC:  Removing unused variable: tmp5\n"
       ]
      },
      {
       "output_type": "stream",
       "stream": "stderr",
       "text": [
        "DEBUG:FFC:  Removing unused variable: tt\n"
       ]
      },
      {
       "output_type": "stream",
       "stream": "stderr",
       "text": [
        "DEBUG:FFC:  Removing unused variable: ss\n"
       ]
      },
      {
       "output_type": "stream",
       "stream": "stderr",
       "text": [
        "DEBUG:FFC:  Removing unused variable: rr\n"
       ]
      },
      {
       "output_type": "stream",
       "stream": "stderr",
       "text": [
        "DEBUG:FFC:  Removing unused variable: tmp7\n"
       ]
      },
      {
       "output_type": "stream",
       "stream": "stderr",
       "text": [
        "DEBUG:FFC:  Removing unused variable: tmp6\n"
       ]
      },
      {
       "output_type": "stream",
       "stream": "stderr",
       "text": [
        "DEBUG:FFC:  Removing unused variable: tmp5\n"
       ]
      },
      {
       "output_type": "stream",
       "stream": "stderr",
       "text": [
        "DEBUG:FFC:  Removing unused variable: tt\n"
       ]
      },
      {
       "output_type": "stream",
       "stream": "stderr",
       "text": [
        "DEBUG:FFC:  Removing unused variable: ss\n"
       ]
      },
      {
       "output_type": "stream",
       "stream": "stderr",
       "text": [
        "DEBUG:FFC:  Removing unused variable: rr\n"
       ]
      },
      {
       "output_type": "stream",
       "stream": "stderr",
       "text": [
        "DEBUG:FFC:  Removing unused variable: tmp7\n"
       ]
      },
      {
       "output_type": "stream",
       "stream": "stderr",
       "text": [
        "DEBUG:FFC:  Removing unused variable: tmp6\n"
       ]
      },
      {
       "output_type": "stream",
       "stream": "stderr",
       "text": [
        "DEBUG:FFC:  Removing unused variable: tmp5\n"
       ]
      },
      {
       "output_type": "stream",
       "stream": "stderr",
       "text": [
        "DEBUG:FFC:  Removing unused variable: tt\n"
       ]
      },
      {
       "output_type": "stream",
       "stream": "stderr",
       "text": [
        "DEBUG:FFC:  Removing unused variable: ss\n"
       ]
      },
      {
       "output_type": "stream",
       "stream": "stderr",
       "text": [
        "DEBUG:FFC:  Removing unused variable: rr\n"
       ]
      },
      {
       "output_type": "stream",
       "stream": "stderr",
       "text": [
        "DEBUG:FFC:  Removing unused variable: tmp7\n"
       ]
      },
      {
       "output_type": "stream",
       "stream": "stderr",
       "text": [
        "DEBUG:FFC:  Removing unused variable: tmp6\n"
       ]
      },
      {
       "output_type": "stream",
       "stream": "stderr",
       "text": [
        "DEBUG:FFC:  Removing unused variable: tmp5\n"
       ]
      },
      {
       "output_type": "stream",
       "stream": "stderr",
       "text": [
        "DEBUG:FFC:  Removing unused variable: tt\n"
       ]
      },
      {
       "output_type": "stream",
       "stream": "stderr",
       "text": [
        "DEBUG:FFC:  Removing unused variable: ss\n"
       ]
      },
      {
       "output_type": "stream",
       "stream": "stderr",
       "text": [
        "DEBUG:FFC:  Removing unused variable: rr\n"
       ]
      },
      {
       "output_type": "stream",
       "stream": "stderr",
       "text": [
        "DEBUG:FFC:  Removing unused variable: tmp7\n"
       ]
      },
      {
       "output_type": "stream",
       "stream": "stderr",
       "text": [
        "DEBUG:FFC:  Removing unused variable: tmp6\n"
       ]
      },
      {
       "output_type": "stream",
       "stream": "stderr",
       "text": [
        "DEBUG:FFC:  Removing unused variable: tmp5\n"
       ]
      },
      {
       "output_type": "stream",
       "stream": "stderr",
       "text": [
        "DEBUG:FFC:  Removing unused variable: tt\n"
       ]
      },
      {
       "output_type": "stream",
       "stream": "stderr",
       "text": [
        "DEBUG:FFC:  Removing unused variable: ss\n"
       ]
      },
      {
       "output_type": "stream",
       "stream": "stderr",
       "text": [
        "DEBUG:FFC:  Removing unused variable: rr\n"
       ]
      },
      {
       "output_type": "stream",
       "stream": "stderr",
       "text": [
        "DEBUG:FFC:  Removing unused variable: tmp7\n"
       ]
      },
      {
       "output_type": "stream",
       "stream": "stderr",
       "text": [
        "DEBUG:FFC:  Removing unused variable: tmp6\n"
       ]
      },
      {
       "output_type": "stream",
       "stream": "stderr",
       "text": [
        "DEBUG:FFC:  Removing unused variable: tmp5\n"
       ]
      },
      {
       "output_type": "stream",
       "stream": "stderr",
       "text": [
        "DEBUG:FFC:  Removing unused variable: tt\n"
       ]
      },
      {
       "output_type": "stream",
       "stream": "stderr",
       "text": [
        "DEBUG:FFC:  Removing unused variable: ss\n"
       ]
      },
      {
       "output_type": "stream",
       "stream": "stderr",
       "text": [
        "DEBUG:FFC:  Removing unused variable: rr\n"
       ]
      },
      {
       "output_type": "stream",
       "stream": "stderr",
       "text": [
        "DEBUG:FFC:  Removing unused variable: tmp7\n"
       ]
      },
      {
       "output_type": "stream",
       "stream": "stderr",
       "text": [
        "DEBUG:FFC:  Removing unused variable: tmp6\n"
       ]
      },
      {
       "output_type": "stream",
       "stream": "stderr",
       "text": [
        "DEBUG:FFC:  Removing unused variable: tmp5\n"
       ]
      },
      {
       "output_type": "stream",
       "stream": "stderr",
       "text": [
        "DEBUG:FFC:  Removing unused variable: tt\n"
       ]
      },
      {
       "output_type": "stream",
       "stream": "stderr",
       "text": [
        "DEBUG:FFC:  Removing unused variable: ss\n"
       ]
      },
      {
       "output_type": "stream",
       "stream": "stderr",
       "text": [
        "DEBUG:FFC:  Removing unused variable: rr\n"
       ]
      },
      {
       "output_type": "stream",
       "stream": "stderr",
       "text": [
        "DEBUG:FFC:  Removing unused variable: tmp7\n"
       ]
      },
      {
       "output_type": "stream",
       "stream": "stderr",
       "text": [
        "DEBUG:FFC:  Removing unused variable: tmp6\n"
       ]
      },
      {
       "output_type": "stream",
       "stream": "stderr",
       "text": [
        "DEBUG:FFC:  Removing unused variable: tmp5\n"
       ]
      },
      {
       "output_type": "stream",
       "stream": "stderr",
       "text": [
        "DEBUG:FFC:  Removing unused variable: tt\n"
       ]
      },
      {
       "output_type": "stream",
       "stream": "stderr",
       "text": [
        "DEBUG:FFC:  Removing unused variable: ss\n"
       ]
      },
      {
       "output_type": "stream",
       "stream": "stderr",
       "text": [
        "DEBUG:FFC:  Removing unused variable: rr\n"
       ]
      },
      {
       "output_type": "stream",
       "stream": "stderr",
       "text": [
        "DEBUG:FFC:  Removing unused variable: tmp7\n"
       ]
      },
      {
       "output_type": "stream",
       "stream": "stderr",
       "text": [
        "DEBUG:FFC:  Removing unused variable: tmp6\n"
       ]
      },
      {
       "output_type": "stream",
       "stream": "stderr",
       "text": [
        "DEBUG:FFC:  Removing unused variable: tmp5\n"
       ]
      },
      {
       "output_type": "stream",
       "stream": "stderr",
       "text": [
        "DEBUG:FFC:  Removing unused variable: tt\n"
       ]
      },
      {
       "output_type": "stream",
       "stream": "stderr",
       "text": [
        "DEBUG:FFC:  Removing unused variable: ss\n"
       ]
      },
      {
       "output_type": "stream",
       "stream": "stderr",
       "text": [
        "DEBUG:FFC:  Removing unused variable: rr\n"
       ]
      },
      {
       "output_type": "stream",
       "stream": "stderr",
       "text": [
        "DEBUG:FFC:  Removing unused variable: tmp7\n"
       ]
      },
      {
       "output_type": "stream",
       "stream": "stderr",
       "text": [
        "DEBUG:FFC:  Removing unused variable: tmp6\n"
       ]
      },
      {
       "output_type": "stream",
       "stream": "stderr",
       "text": [
        "DEBUG:FFC:  Removing unused variable: tmp5\n"
       ]
      },
      {
       "output_type": "stream",
       "stream": "stderr",
       "text": [
        "DEBUG:FFC:  Removing unused variable: tt\n"
       ]
      },
      {
       "output_type": "stream",
       "stream": "stderr",
       "text": [
        "DEBUG:FFC:  Removing unused variable: ss\n"
       ]
      },
      {
       "output_type": "stream",
       "stream": "stderr",
       "text": [
        "DEBUG:FFC:  Removing unused variable: rr\n"
       ]
      },
      {
       "output_type": "stream",
       "stream": "stderr",
       "text": [
        "DEBUG:FFC:  Removing unused variable: tmp7\n"
       ]
      },
      {
       "output_type": "stream",
       "stream": "stderr",
       "text": [
        "DEBUG:FFC:  Removing unused variable: tmp6\n"
       ]
      },
      {
       "output_type": "stream",
       "stream": "stderr",
       "text": [
        "DEBUG:FFC:  Removing unused variable: tmp5\n"
       ]
      },
      {
       "output_type": "stream",
       "stream": "stderr",
       "text": [
        "DEBUG:FFC:  Removing unused variable: tt\n"
       ]
      },
      {
       "output_type": "stream",
       "stream": "stderr",
       "text": [
        "DEBUG:FFC:  Removing unused variable: ss\n"
       ]
      },
      {
       "output_type": "stream",
       "stream": "stderr",
       "text": [
        "DEBUG:FFC:  Removing unused variable: rr\n"
       ]
      },
      {
       "output_type": "stream",
       "stream": "stderr",
       "text": [
        "DEBUG:FFC:  Removing unused variable: tmp7\n"
       ]
      },
      {
       "output_type": "stream",
       "stream": "stderr",
       "text": [
        "DEBUG:FFC:  Removing unused variable: tmp6\n"
       ]
      },
      {
       "output_type": "stream",
       "stream": "stderr",
       "text": [
        "DEBUG:FFC:  Removing unused variable: tmp5\n"
       ]
      },
      {
       "output_type": "stream",
       "stream": "stderr",
       "text": [
        "DEBUG:FFC:  Removing unused variable: tt\n"
       ]
      },
      {
       "output_type": "stream",
       "stream": "stderr",
       "text": [
        "DEBUG:FFC:  Removing unused variable: ss\n"
       ]
      },
      {
       "output_type": "stream",
       "stream": "stderr",
       "text": [
        "DEBUG:FFC:  Removing unused variable: rr\n"
       ]
      },
      {
       "output_type": "stream",
       "stream": "stderr",
       "text": [
        "DEBUG:FFC:  Removing unused variable: tmp7\n"
       ]
      },
      {
       "output_type": "stream",
       "stream": "stderr",
       "text": [
        "DEBUG:FFC:  Removing unused variable: tmp6\n"
       ]
      },
      {
       "output_type": "stream",
       "stream": "stderr",
       "text": [
        "DEBUG:FFC:  Removing unused variable: tmp5\n"
       ]
      },
      {
       "output_type": "stream",
       "stream": "stderr",
       "text": [
        "DEBUG:FFC:  Removing unused variable: tt\n"
       ]
      },
      {
       "output_type": "stream",
       "stream": "stderr",
       "text": [
        "DEBUG:FFC:  Removing unused variable: ss\n"
       ]
      },
      {
       "output_type": "stream",
       "stream": "stderr",
       "text": [
        "DEBUG:FFC:  Removing unused variable: rr\n"
       ]
      },
      {
       "output_type": "stream",
       "stream": "stderr",
       "text": [
        "DEBUG:FFC:  Removing unused variable: tmp7\n"
       ]
      },
      {
       "output_type": "stream",
       "stream": "stderr",
       "text": [
        "DEBUG:FFC:  Removing unused variable: tmp6\n"
       ]
      },
      {
       "output_type": "stream",
       "stream": "stderr",
       "text": [
        "DEBUG:FFC:  Removing unused variable: tmp5\n"
       ]
      },
      {
       "output_type": "stream",
       "stream": "stderr",
       "text": [
        "DEBUG:FFC:  Removing unused variable: tt\n"
       ]
      },
      {
       "output_type": "stream",
       "stream": "stderr",
       "text": [
        "DEBUG:FFC:  Removing unused variable: ss\n"
       ]
      },
      {
       "output_type": "stream",
       "stream": "stderr",
       "text": [
        "DEBUG:FFC:  Removing unused variable: rr\n"
       ]
      },
      {
       "output_type": "stream",
       "stream": "stderr",
       "text": [
        "DEBUG:FFC:  Removing unused variable: tmp7\n"
       ]
      },
      {
       "output_type": "stream",
       "stream": "stderr",
       "text": [
        "DEBUG:FFC:  Removing unused variable: tmp6\n"
       ]
      },
      {
       "output_type": "stream",
       "stream": "stderr",
       "text": [
        "DEBUG:FFC:  Removing unused variable: tmp5\n"
       ]
      },
      {
       "output_type": "stream",
       "stream": "stderr",
       "text": [
        "DEBUG:FFC:  Removing unused variable: tt\n"
       ]
      },
      {
       "output_type": "stream",
       "stream": "stderr",
       "text": [
        "DEBUG:FFC:  Removing unused variable: ss\n"
       ]
      },
      {
       "output_type": "stream",
       "stream": "stderr",
       "text": [
        "DEBUG:FFC:  Removing unused variable: rr\n"
       ]
      },
      {
       "output_type": "stream",
       "stream": "stderr",
       "text": [
        "DEBUG:FFC:  Removing unused variable: tmp7\n"
       ]
      },
      {
       "output_type": "stream",
       "stream": "stderr",
       "text": [
        "DEBUG:FFC:  Removing unused variable: tmp6\n"
       ]
      },
      {
       "output_type": "stream",
       "stream": "stderr",
       "text": [
        "DEBUG:FFC:  Removing unused variable: tmp5\n"
       ]
      },
      {
       "output_type": "stream",
       "stream": "stderr",
       "text": [
        "DEBUG:FFC:  Removing unused variable: tt\n"
       ]
      },
      {
       "output_type": "stream",
       "stream": "stderr",
       "text": [
        "DEBUG:FFC:  Removing unused variable: ss\n"
       ]
      },
      {
       "output_type": "stream",
       "stream": "stderr",
       "text": [
        "DEBUG:FFC:  Removing unused variable: rr\n"
       ]
      },
      {
       "output_type": "stream",
       "stream": "stderr",
       "text": [
        "DEBUG:FFC:  Removing unused variable: tmp7\n"
       ]
      },
      {
       "output_type": "stream",
       "stream": "stderr",
       "text": [
        "DEBUG:FFC:  Removing unused variable: tmp6\n"
       ]
      },
      {
       "output_type": "stream",
       "stream": "stderr",
       "text": [
        "DEBUG:FFC:  Removing unused variable: tmp5\n"
       ]
      },
      {
       "output_type": "stream",
       "stream": "stderr",
       "text": [
        "DEBUG:FFC:  Removing unused variable: tt\n"
       ]
      },
      {
       "output_type": "stream",
       "stream": "stderr",
       "text": [
        "DEBUG:FFC:  Removing unused variable: ss\n"
       ]
      },
      {
       "output_type": "stream",
       "stream": "stderr",
       "text": [
        "DEBUG:FFC:  Removing unused variable: rr\n"
       ]
      },
      {
       "output_type": "stream",
       "stream": "stderr",
       "text": [
        "DEBUG:FFC:  Removing unused variable: tmp7\n"
       ]
      },
      {
       "output_type": "stream",
       "stream": "stderr",
       "text": [
        "DEBUG:FFC:  Removing unused variable: tmp6\n"
       ]
      },
      {
       "output_type": "stream",
       "stream": "stderr",
       "text": [
        "DEBUG:FFC:  Removing unused variable: tmp5\n"
       ]
      },
      {
       "output_type": "stream",
       "stream": "stderr",
       "text": [
        "DEBUG:FFC:  Removing unused variable: tt\n"
       ]
      },
      {
       "output_type": "stream",
       "stream": "stderr",
       "text": [
        "DEBUG:FFC:  Removing unused variable: ss\n"
       ]
      },
      {
       "output_type": "stream",
       "stream": "stderr",
       "text": [
        "DEBUG:FFC:  Removing unused variable: rr\n"
       ]
      },
      {
       "output_type": "stream",
       "stream": "stderr",
       "text": [
        "DEBUG:FFC:  Removing unused variable: tmp7\n"
       ]
      },
      {
       "output_type": "stream",
       "stream": "stderr",
       "text": [
        "DEBUG:FFC:  Removing unused variable: tmp6\n"
       ]
      },
      {
       "output_type": "stream",
       "stream": "stderr",
       "text": [
        "DEBUG:FFC:  Removing unused variable: tmp5\n"
       ]
      },
      {
       "output_type": "stream",
       "stream": "stderr",
       "text": [
        "DEBUG:FFC:  Removing unused variable: tt\n"
       ]
      },
      {
       "output_type": "stream",
       "stream": "stderr",
       "text": [
        "DEBUG:FFC:  Removing unused variable: ss\n"
       ]
      },
      {
       "output_type": "stream",
       "stream": "stderr",
       "text": [
        "DEBUG:FFC:  Removing unused variable: rr\n"
       ]
      },
      {
       "output_type": "stream",
       "stream": "stderr",
       "text": [
        "DEBUG:FFC:  Removing unused variable: tmp7\n"
       ]
      },
      {
       "output_type": "stream",
       "stream": "stderr",
       "text": [
        "DEBUG:FFC:  Removing unused variable: tmp6\n"
       ]
      },
      {
       "output_type": "stream",
       "stream": "stderr",
       "text": [
        "DEBUG:FFC:  Removing unused variable: tmp5\n"
       ]
      },
      {
       "output_type": "stream",
       "stream": "stderr",
       "text": [
        "DEBUG:FFC:  Removing unused variable: tt\n"
       ]
      },
      {
       "output_type": "stream",
       "stream": "stderr",
       "text": [
        "DEBUG:FFC:  Removing unused variable: ss\n"
       ]
      },
      {
       "output_type": "stream",
       "stream": "stderr",
       "text": [
        "DEBUG:FFC:  Removing unused variable: rr\n"
       ]
      },
      {
       "output_type": "stream",
       "stream": "stderr",
       "text": [
        "DEBUG:FFC:  Removing unused variable: tmp7\n"
       ]
      },
      {
       "output_type": "stream",
       "stream": "stderr",
       "text": [
        "DEBUG:FFC:  Removing unused variable: tmp6\n"
       ]
      },
      {
       "output_type": "stream",
       "stream": "stderr",
       "text": [
        "DEBUG:FFC:  Removing unused variable: tmp5\n"
       ]
      },
      {
       "output_type": "stream",
       "stream": "stderr",
       "text": [
        "DEBUG:FFC:  Removing unused variable: tt\n"
       ]
      },
      {
       "output_type": "stream",
       "stream": "stderr",
       "text": [
        "DEBUG:FFC:  Removing unused variable: ss\n"
       ]
      },
      {
       "output_type": "stream",
       "stream": "stderr",
       "text": [
        "DEBUG:FFC:  Removing unused variable: rr\n"
       ]
      },
      {
       "output_type": "stream",
       "stream": "stderr",
       "text": [
        "DEBUG:FFC:  Removing unused variable: tmp7\n"
       ]
      },
      {
       "output_type": "stream",
       "stream": "stderr",
       "text": [
        "DEBUG:FFC:  Removing unused variable: tmp6\n"
       ]
      },
      {
       "output_type": "stream",
       "stream": "stderr",
       "text": [
        "DEBUG:FFC:  Removing unused variable: tmp5\n"
       ]
      },
      {
       "output_type": "stream",
       "stream": "stderr",
       "text": [
        "DEBUG:FFC:  Removing unused variable: tt\n"
       ]
      },
      {
       "output_type": "stream",
       "stream": "stderr",
       "text": [
        "DEBUG:FFC:  Removing unused variable: ss\n"
       ]
      },
      {
       "output_type": "stream",
       "stream": "stderr",
       "text": [
        "DEBUG:FFC:  Removing unused variable: rr\n"
       ]
      },
      {
       "output_type": "stream",
       "stream": "stderr",
       "text": [
        "DEBUG:FFC:  Removing unused variable: tmp7\n"
       ]
      },
      {
       "output_type": "stream",
       "stream": "stderr",
       "text": [
        "DEBUG:FFC:  Removing unused variable: tmp6\n"
       ]
      },
      {
       "output_type": "stream",
       "stream": "stderr",
       "text": [
        "DEBUG:FFC:  Removing unused variable: tmp5\n"
       ]
      },
      {
       "output_type": "stream",
       "stream": "stderr",
       "text": [
        "DEBUG:FFC:  Removing unused variable: tt\n"
       ]
      },
      {
       "output_type": "stream",
       "stream": "stderr",
       "text": [
        "DEBUG:FFC:  Removing unused variable: ss\n"
       ]
      },
      {
       "output_type": "stream",
       "stream": "stderr",
       "text": [
        "DEBUG:FFC:  Removing unused variable: rr\n"
       ]
      },
      {
       "output_type": "stream",
       "stream": "stderr",
       "text": [
        "DEBUG:FFC:  Removing unused variable: tmp7\n"
       ]
      },
      {
       "output_type": "stream",
       "stream": "stderr",
       "text": [
        "DEBUG:FFC:  Removing unused variable: tmp6\n"
       ]
      },
      {
       "output_type": "stream",
       "stream": "stderr",
       "text": [
        "DEBUG:FFC:  Removing unused variable: tmp5\n"
       ]
      },
      {
       "output_type": "stream",
       "stream": "stderr",
       "text": [
        "DEBUG:FFC:  Removing unused variable: tt\n"
       ]
      },
      {
       "output_type": "stream",
       "stream": "stderr",
       "text": [
        "DEBUG:FFC:  Removing unused variable: ss\n"
       ]
      },
      {
       "output_type": "stream",
       "stream": "stderr",
       "text": [
        "DEBUG:FFC:  Removing unused variable: rr\n"
       ]
      },
      {
       "output_type": "stream",
       "stream": "stderr",
       "text": [
        "DEBUG:FFC:  Removing unused variable: tmp7\n"
       ]
      },
      {
       "output_type": "stream",
       "stream": "stderr",
       "text": [
        "DEBUG:FFC:  Removing unused variable: tmp6\n"
       ]
      },
      {
       "output_type": "stream",
       "stream": "stderr",
       "text": [
        "DEBUG:FFC:  Removing unused variable: tmp5\n"
       ]
      },
      {
       "output_type": "stream",
       "stream": "stderr",
       "text": [
        "DEBUG:FFC:  Removing unused variable: tt\n"
       ]
      },
      {
       "output_type": "stream",
       "stream": "stderr",
       "text": [
        "DEBUG:FFC:  Removing unused variable: ss\n"
       ]
      },
      {
       "output_type": "stream",
       "stream": "stderr",
       "text": [
        "DEBUG:FFC:  Removing unused variable: rr\n"
       ]
      },
      {
       "output_type": "stream",
       "stream": "stderr",
       "text": [
        "DEBUG:FFC:  Removing unused variable: tmp7\n"
       ]
      },
      {
       "output_type": "stream",
       "stream": "stderr",
       "text": [
        "DEBUG:FFC:  Removing unused variable: tmp6\n"
       ]
      },
      {
       "output_type": "stream",
       "stream": "stderr",
       "text": [
        "DEBUG:FFC:  Removing unused variable: tmp5\n"
       ]
      },
      {
       "output_type": "stream",
       "stream": "stderr",
       "text": [
        "DEBUG:FFC:  Removing unused variable: tt\n"
       ]
      },
      {
       "output_type": "stream",
       "stream": "stderr",
       "text": [
        "DEBUG:FFC:  Removing unused variable: ss\n"
       ]
      },
      {
       "output_type": "stream",
       "stream": "stderr",
       "text": [
        "DEBUG:FFC:  Removing unused variable: rr\n"
       ]
      },
      {
       "output_type": "stream",
       "stream": "stderr",
       "text": [
        "DEBUG:FFC:  Removing unused variable: tmp7\n"
       ]
      },
      {
       "output_type": "stream",
       "stream": "stderr",
       "text": [
        "DEBUG:FFC:  Removing unused variable: tmp6\n"
       ]
      },
      {
       "output_type": "stream",
       "stream": "stderr",
       "text": [
        "DEBUG:FFC:  Removing unused variable: tmp5\n"
       ]
      },
      {
       "output_type": "stream",
       "stream": "stderr",
       "text": [
        "DEBUG:FFC:  Removing unused variable: tt\n"
       ]
      },
      {
       "output_type": "stream",
       "stream": "stderr",
       "text": [
        "DEBUG:FFC:  Removing unused variable: ss\n"
       ]
      },
      {
       "output_type": "stream",
       "stream": "stderr",
       "text": [
        "DEBUG:FFC:  Removing unused variable: rr\n"
       ]
      },
      {
       "output_type": "stream",
       "stream": "stderr",
       "text": [
        "DEBUG:FFC:  Removing unused variable: tmp7\n"
       ]
      },
      {
       "output_type": "stream",
       "stream": "stderr",
       "text": [
        "DEBUG:FFC:  Removing unused variable: tmp6\n"
       ]
      },
      {
       "output_type": "stream",
       "stream": "stderr",
       "text": [
        "DEBUG:FFC:  Removing unused variable: tmp5\n"
       ]
      },
      {
       "output_type": "stream",
       "stream": "stderr",
       "text": [
        "DEBUG:FFC:  Removing unused variable: tt\n"
       ]
      },
      {
       "output_type": "stream",
       "stream": "stderr",
       "text": [
        "DEBUG:FFC:  Removing unused variable: ss\n"
       ]
      },
      {
       "output_type": "stream",
       "stream": "stderr",
       "text": [
        "DEBUG:FFC:  Removing unused variable: rr\n"
       ]
      },
      {
       "output_type": "stream",
       "stream": "stderr",
       "text": [
        "DEBUG:FFC:  Removing unused variable: tmp7\n"
       ]
      },
      {
       "output_type": "stream",
       "stream": "stderr",
       "text": [
        "DEBUG:FFC:  Removing unused variable: tmp6\n"
       ]
      },
      {
       "output_type": "stream",
       "stream": "stderr",
       "text": [
        "DEBUG:FFC:  Removing unused variable: tmp5\n"
       ]
      },
      {
       "output_type": "stream",
       "stream": "stderr",
       "text": [
        "DEBUG:FFC:  Removing unused variable: tt\n"
       ]
      },
      {
       "output_type": "stream",
       "stream": "stderr",
       "text": [
        "DEBUG:FFC:  Removing unused variable: ss\n"
       ]
      },
      {
       "output_type": "stream",
       "stream": "stderr",
       "text": [
        "DEBUG:FFC:  Removing unused variable: rr\n"
       ]
      },
      {
       "output_type": "stream",
       "stream": "stderr",
       "text": [
        "DEBUG:FFC:  Removing unused variable: tmp7\n"
       ]
      },
      {
       "output_type": "stream",
       "stream": "stderr",
       "text": [
        "DEBUG:FFC:  Removing unused variable: tmp6\n"
       ]
      },
      {
       "output_type": "stream",
       "stream": "stderr",
       "text": [
        "DEBUG:FFC:  Removing unused variable: tmp5\n"
       ]
      },
      {
       "output_type": "stream",
       "stream": "stderr",
       "text": [
        "DEBUG:FFC:  Removing unused variable: tt\n"
       ]
      },
      {
       "output_type": "stream",
       "stream": "stderr",
       "text": [
        "DEBUG:FFC:  Removing unused variable: ss\n"
       ]
      },
      {
       "output_type": "stream",
       "stream": "stderr",
       "text": [
        "DEBUG:FFC:  Removing unused variable: rr\n"
       ]
      },
      {
       "output_type": "stream",
       "stream": "stderr",
       "text": [
        "DEBUG:FFC:  Removing unused variable: tmp7\n"
       ]
      },
      {
       "output_type": "stream",
       "stream": "stderr",
       "text": [
        "DEBUG:FFC:  Removing unused variable: tmp6\n"
       ]
      },
      {
       "output_type": "stream",
       "stream": "stderr",
       "text": [
        "DEBUG:FFC:  Removing unused variable: tmp5\n"
       ]
      },
      {
       "output_type": "stream",
       "stream": "stderr",
       "text": [
        "DEBUG:FFC:  Removing unused variable: tt\n"
       ]
      },
      {
       "output_type": "stream",
       "stream": "stderr",
       "text": [
        "DEBUG:FFC:  Removing unused variable: ss\n"
       ]
      },
      {
       "output_type": "stream",
       "stream": "stderr",
       "text": [
        "DEBUG:FFC:  Removing unused variable: rr\n"
       ]
      },
      {
       "output_type": "stream",
       "stream": "stderr",
       "text": [
        "DEBUG:FFC:  Removing unused variable: tmp7\n"
       ]
      },
      {
       "output_type": "stream",
       "stream": "stderr",
       "text": [
        "DEBUG:FFC:  Removing unused variable: tmp6\n"
       ]
      },
      {
       "output_type": "stream",
       "stream": "stderr",
       "text": [
        "DEBUG:FFC:  Removing unused variable: tmp5\n"
       ]
      },
      {
       "output_type": "stream",
       "stream": "stderr",
       "text": [
        "DEBUG:FFC:  Removing unused variable: tt\n"
       ]
      },
      {
       "output_type": "stream",
       "stream": "stderr",
       "text": [
        "DEBUG:FFC:  Removing unused variable: ss\n"
       ]
      },
      {
       "output_type": "stream",
       "stream": "stderr",
       "text": [
        "DEBUG:FFC:  Removing unused variable: rr\n"
       ]
      },
      {
       "output_type": "stream",
       "stream": "stderr",
       "text": [
        "DEBUG:FFC:  Removing unused variable: tmp7\n"
       ]
      },
      {
       "output_type": "stream",
       "stream": "stderr",
       "text": [
        "DEBUG:FFC:  Removing unused variable: tmp6\n"
       ]
      },
      {
       "output_type": "stream",
       "stream": "stderr",
       "text": [
        "DEBUG:FFC:  Removing unused variable: tmp5\n"
       ]
      },
      {
       "output_type": "stream",
       "stream": "stderr",
       "text": [
        "DEBUG:FFC:  Removing unused variable: tt\n"
       ]
      },
      {
       "output_type": "stream",
       "stream": "stderr",
       "text": [
        "DEBUG:FFC:  Removing unused variable: ss\n"
       ]
      },
      {
       "output_type": "stream",
       "stream": "stderr",
       "text": [
        "DEBUG:FFC:  Removing unused variable: rr\n"
       ]
      },
      {
       "output_type": "stream",
       "stream": "stderr",
       "text": [
        "DEBUG:FFC:  Removing unused variable: tmp7\n"
       ]
      },
      {
       "output_type": "stream",
       "stream": "stderr",
       "text": [
        "DEBUG:FFC:  Removing unused variable: tmp6\n"
       ]
      },
      {
       "output_type": "stream",
       "stream": "stderr",
       "text": [
        "DEBUG:FFC:  Removing unused variable: tmp5\n"
       ]
      },
      {
       "output_type": "stream",
       "stream": "stderr",
       "text": [
        "DEBUG:FFC:  Removing unused variable: tt\n"
       ]
      },
      {
       "output_type": "stream",
       "stream": "stderr",
       "text": [
        "DEBUG:FFC:  Removing unused variable: ss\n"
       ]
      },
      {
       "output_type": "stream",
       "stream": "stderr",
       "text": [
        "DEBUG:FFC:  Removing unused variable: rr\n"
       ]
      },
      {
       "output_type": "stream",
       "stream": "stderr",
       "text": [
        "DEBUG:FFC:  Removing unused variable: tmp2\n"
       ]
      },
      {
       "output_type": "stream",
       "stream": "stderr",
       "text": [
        "DEBUG:FFC:  Removing unused variable: tmp1\n"
       ]
      },
      {
       "output_type": "stream",
       "stream": "stderr",
       "text": [
        "DEBUG:FFC:  Removing unused variable: tmp7\n"
       ]
      },
      {
       "output_type": "stream",
       "stream": "stderr",
       "text": [
        "DEBUG:FFC:  Removing unused variable: tmp6\n"
       ]
      },
      {
       "output_type": "stream",
       "stream": "stderr",
       "text": [
        "DEBUG:FFC:  Removing unused variable: tmp5\n"
       ]
      },
      {
       "output_type": "stream",
       "stream": "stderr",
       "text": [
        "DEBUG:FFC:  Removing unused variable: tt\n"
       ]
      },
      {
       "output_type": "stream",
       "stream": "stderr",
       "text": [
        "DEBUG:FFC:  Removing unused variable: ss\n"
       ]
      },
      {
       "output_type": "stream",
       "stream": "stderr",
       "text": [
        "DEBUG:FFC:  Removing unused variable: rr\n"
       ]
      },
      {
       "output_type": "stream",
       "stream": "stderr",
       "text": [
        "DEBUG:FFC:  Removing unused variable: tmp2\n"
       ]
      },
      {
       "output_type": "stream",
       "stream": "stderr",
       "text": [
        "DEBUG:FFC:  Removing unused variable: tmp1\n"
       ]
      },
      {
       "output_type": "stream",
       "stream": "stderr",
       "text": [
        "DEBUG:FFC:  Removing unused variable: tmp7\n"
       ]
      },
      {
       "output_type": "stream",
       "stream": "stderr",
       "text": [
        "DEBUG:FFC:  Removing unused variable: tmp6\n"
       ]
      },
      {
       "output_type": "stream",
       "stream": "stderr",
       "text": [
        "DEBUG:FFC:  Removing unused variable: tmp5\n"
       ]
      },
      {
       "output_type": "stream",
       "stream": "stderr",
       "text": [
        "DEBUG:FFC:  Removing unused variable: tt\n"
       ]
      },
      {
       "output_type": "stream",
       "stream": "stderr",
       "text": [
        "DEBUG:FFC:  Removing unused variable: ss\n"
       ]
      },
      {
       "output_type": "stream",
       "stream": "stderr",
       "text": [
        "DEBUG:FFC:  Removing unused variable: rr\n"
       ]
      },
      {
       "output_type": "stream",
       "stream": "stderr",
       "text": [
        "DEBUG:FFC:  Removing unused variable: tmp2\n"
       ]
      },
      {
       "output_type": "stream",
       "stream": "stderr",
       "text": [
        "DEBUG:FFC:  Removing unused variable: tmp1\n"
       ]
      },
      {
       "output_type": "stream",
       "stream": "stderr",
       "text": [
        "DEBUG:FFC:  Removing unused variable: tmp7\n"
       ]
      },
      {
       "output_type": "stream",
       "stream": "stderr",
       "text": [
        "DEBUG:FFC:  Removing unused variable: tmp6\n"
       ]
      },
      {
       "output_type": "stream",
       "stream": "stderr",
       "text": [
        "DEBUG:FFC:  Removing unused variable: tmp5\n"
       ]
      },
      {
       "output_type": "stream",
       "stream": "stderr",
       "text": [
        "DEBUG:FFC:  Removing unused variable: tt\n"
       ]
      },
      {
       "output_type": "stream",
       "stream": "stderr",
       "text": [
        "DEBUG:FFC:  Removing unused variable: ss\n"
       ]
      },
      {
       "output_type": "stream",
       "stream": "stderr",
       "text": [
        "DEBUG:FFC:  Removing unused variable: rr\n"
       ]
      },
      {
       "output_type": "stream",
       "stream": "stderr",
       "text": [
        "DEBUG:FFC:  Removing unused variable: tmp2\n"
       ]
      },
      {
       "output_type": "stream",
       "stream": "stderr",
       "text": [
        "DEBUG:FFC:  Removing unused variable: tmp1\n"
       ]
      },
      {
       "output_type": "stream",
       "stream": "stderr",
       "text": [
        "DEBUG:FFC:  Removing unused variable: tmp7\n"
       ]
      },
      {
       "output_type": "stream",
       "stream": "stderr",
       "text": [
        "DEBUG:FFC:  Removing unused variable: tmp6\n"
       ]
      },
      {
       "output_type": "stream",
       "stream": "stderr",
       "text": [
        "DEBUG:FFC:  Removing unused variable: tmp5\n"
       ]
      },
      {
       "output_type": "stream",
       "stream": "stderr",
       "text": [
        "DEBUG:FFC:  Removing unused variable: tt\n"
       ]
      },
      {
       "output_type": "stream",
       "stream": "stderr",
       "text": [
        "DEBUG:FFC:  Removing unused variable: ss\n"
       ]
      },
      {
       "output_type": "stream",
       "stream": "stderr",
       "text": [
        "DEBUG:FFC:  Removing unused variable: rr\n"
       ]
      },
      {
       "output_type": "stream",
       "stream": "stderr",
       "text": [
        "DEBUG:FFC:  Removing unused variable: tmp2\n"
       ]
      },
      {
       "output_type": "stream",
       "stream": "stderr",
       "text": [
        "DEBUG:FFC:  Removing unused variable: tmp1\n"
       ]
      },
      {
       "output_type": "stream",
       "stream": "stderr",
       "text": [
        "DEBUG:FFC:  Removing unused variable: tmp7\n"
       ]
      },
      {
       "output_type": "stream",
       "stream": "stderr",
       "text": [
        "DEBUG:FFC:  Removing unused variable: tmp6\n"
       ]
      },
      {
       "output_type": "stream",
       "stream": "stderr",
       "text": [
        "DEBUG:FFC:  Removing unused variable: tmp5\n"
       ]
      },
      {
       "output_type": "stream",
       "stream": "stderr",
       "text": [
        "DEBUG:FFC:  Removing unused variable: tt\n"
       ]
      },
      {
       "output_type": "stream",
       "stream": "stderr",
       "text": [
        "DEBUG:FFC:  Removing unused variable: ss\n"
       ]
      },
      {
       "output_type": "stream",
       "stream": "stderr",
       "text": [
        "DEBUG:FFC:  Removing unused variable: rr\n"
       ]
      },
      {
       "output_type": "stream",
       "stream": "stderr",
       "text": [
        "DEBUG:FFC:  Removing unused variable: tmp2\n"
       ]
      },
      {
       "output_type": "stream",
       "stream": "stderr",
       "text": [
        "DEBUG:FFC:  Removing unused variable: tmp1\n"
       ]
      },
      {
       "output_type": "stream",
       "stream": "stderr",
       "text": [
        "DEBUG:FFC:  Removing unused variable: tmp7\n"
       ]
      },
      {
       "output_type": "stream",
       "stream": "stderr",
       "text": [
        "DEBUG:FFC:  Removing unused variable: tmp6\n"
       ]
      },
      {
       "output_type": "stream",
       "stream": "stderr",
       "text": [
        "DEBUG:FFC:  Removing unused variable: tmp5\n"
       ]
      },
      {
       "output_type": "stream",
       "stream": "stderr",
       "text": [
        "DEBUG:FFC:  Removing unused variable: tt\n"
       ]
      },
      {
       "output_type": "stream",
       "stream": "stderr",
       "text": [
        "DEBUG:FFC:  Removing unused variable: ss\n"
       ]
      },
      {
       "output_type": "stream",
       "stream": "stderr",
       "text": [
        "DEBUG:FFC:  Removing unused variable: rr\n"
       ]
      },
      {
       "output_type": "stream",
       "stream": "stderr",
       "text": [
        "DEBUG:FFC:  Removing unused variable: tmp2\n"
       ]
      },
      {
       "output_type": "stream",
       "stream": "stderr",
       "text": [
        "DEBUG:FFC:  Removing unused variable: tmp1\n"
       ]
      },
      {
       "output_type": "stream",
       "stream": "stderr",
       "text": [
        "DEBUG:FFC:  Removing unused variable: tmp7\n"
       ]
      },
      {
       "output_type": "stream",
       "stream": "stderr",
       "text": [
        "DEBUG:FFC:  Removing unused variable: tmp6\n"
       ]
      },
      {
       "output_type": "stream",
       "stream": "stderr",
       "text": [
        "DEBUG:FFC:  Removing unused variable: tmp5\n"
       ]
      },
      {
       "output_type": "stream",
       "stream": "stderr",
       "text": [
        "DEBUG:FFC:  Removing unused variable: tt\n"
       ]
      },
      {
       "output_type": "stream",
       "stream": "stderr",
       "text": [
        "DEBUG:FFC:  Removing unused variable: ss\n"
       ]
      },
      {
       "output_type": "stream",
       "stream": "stderr",
       "text": [
        "DEBUG:FFC:  Removing unused variable: rr\n"
       ]
      },
      {
       "output_type": "stream",
       "stream": "stderr",
       "text": [
        "DEBUG:FFC:  Removing unused variable: tmp2\n"
       ]
      },
      {
       "output_type": "stream",
       "stream": "stderr",
       "text": [
        "DEBUG:FFC:  Removing unused variable: tmp1\n"
       ]
      },
      {
       "output_type": "stream",
       "stream": "stderr",
       "text": [
        "DEBUG:FFC:  Removing unused variable: tmp7\n"
       ]
      },
      {
       "output_type": "stream",
       "stream": "stderr",
       "text": [
        "DEBUG:FFC:  Removing unused variable: tmp6\n"
       ]
      },
      {
       "output_type": "stream",
       "stream": "stderr",
       "text": [
        "DEBUG:FFC:  Removing unused variable: tmp5\n"
       ]
      },
      {
       "output_type": "stream",
       "stream": "stderr",
       "text": [
        "DEBUG:FFC:  Removing unused variable: tt\n"
       ]
      },
      {
       "output_type": "stream",
       "stream": "stderr",
       "text": [
        "DEBUG:FFC:  Removing unused variable: ss\n"
       ]
      },
      {
       "output_type": "stream",
       "stream": "stderr",
       "text": [
        "DEBUG:FFC:  Removing unused variable: rr\n"
       ]
      },
      {
       "output_type": "stream",
       "stream": "stderr",
       "text": [
        "DEBUG:FFC:  Removing unused variable: tmp2\n"
       ]
      },
      {
       "output_type": "stream",
       "stream": "stderr",
       "text": [
        "DEBUG:FFC:  Removing unused variable: tmp1\n"
       ]
      },
      {
       "output_type": "stream",
       "stream": "stderr",
       "text": [
        "DEBUG:FFC:  Removing unused variable: tmp7\n"
       ]
      },
      {
       "output_type": "stream",
       "stream": "stderr",
       "text": [
        "DEBUG:FFC:  Removing unused variable: tmp6\n"
       ]
      },
      {
       "output_type": "stream",
       "stream": "stderr",
       "text": [
        "DEBUG:FFC:  Removing unused variable: tmp5\n"
       ]
      },
      {
       "output_type": "stream",
       "stream": "stderr",
       "text": [
        "DEBUG:FFC:  Removing unused variable: tt\n"
       ]
      },
      {
       "output_type": "stream",
       "stream": "stderr",
       "text": [
        "DEBUG:FFC:  Removing unused variable: ss\n"
       ]
      },
      {
       "output_type": "stream",
       "stream": "stderr",
       "text": [
        "DEBUG:FFC:  Removing unused variable: rr\n"
       ]
      },
      {
       "output_type": "stream",
       "stream": "stderr",
       "text": [
        "DEBUG:FFC:  Removing unused variable: tmp2\n"
       ]
      },
      {
       "output_type": "stream",
       "stream": "stderr",
       "text": [
        "DEBUG:FFC:  Removing unused variable: tmp1\n"
       ]
      },
      {
       "output_type": "stream",
       "stream": "stderr",
       "text": [
        "DEBUG:FFC:  Removing unused variable: tmp7\n"
       ]
      },
      {
       "output_type": "stream",
       "stream": "stderr",
       "text": [
        "DEBUG:FFC:  Removing unused variable: tmp6\n"
       ]
      },
      {
       "output_type": "stream",
       "stream": "stderr",
       "text": [
        "DEBUG:FFC:  Removing unused variable: tmp5\n"
       ]
      },
      {
       "output_type": "stream",
       "stream": "stderr",
       "text": [
        "DEBUG:FFC:  Removing unused variable: tt\n"
       ]
      },
      {
       "output_type": "stream",
       "stream": "stderr",
       "text": [
        "DEBUG:FFC:  Removing unused variable: ss\n"
       ]
      },
      {
       "output_type": "stream",
       "stream": "stderr",
       "text": [
        "DEBUG:FFC:  Removing unused variable: rr\n"
       ]
      },
      {
       "output_type": "stream",
       "stream": "stderr",
       "text": [
        "DEBUG:FFC:  Removing unused variable: tmp2\n"
       ]
      },
      {
       "output_type": "stream",
       "stream": "stderr",
       "text": [
        "DEBUG:FFC:  Removing unused variable: tmp1\n"
       ]
      },
      {
       "output_type": "stream",
       "stream": "stderr",
       "text": [
        "DEBUG:FFC:  Removing unused variable: tmp7\n"
       ]
      },
      {
       "output_type": "stream",
       "stream": "stderr",
       "text": [
        "DEBUG:FFC:  Removing unused variable: tmp6\n"
       ]
      },
      {
       "output_type": "stream",
       "stream": "stderr",
       "text": [
        "DEBUG:FFC:  Removing unused variable: tmp5\n"
       ]
      },
      {
       "output_type": "stream",
       "stream": "stderr",
       "text": [
        "DEBUG:FFC:  Removing unused variable: tt\n"
       ]
      },
      {
       "output_type": "stream",
       "stream": "stderr",
       "text": [
        "DEBUG:FFC:  Removing unused variable: ss\n"
       ]
      },
      {
       "output_type": "stream",
       "stream": "stderr",
       "text": [
        "DEBUG:FFC:  Removing unused variable: rr\n"
       ]
      },
      {
       "output_type": "stream",
       "stream": "stderr",
       "text": [
        "DEBUG:FFC:  Removing unused variable: tmp2\n"
       ]
      },
      {
       "output_type": "stream",
       "stream": "stderr",
       "text": [
        "DEBUG:FFC:  Removing unused variable: tmp1\n"
       ]
      },
      {
       "output_type": "stream",
       "stream": "stderr",
       "text": [
        "DEBUG:FFC:  Removing unused variable: tmp7\n"
       ]
      },
      {
       "output_type": "stream",
       "stream": "stderr",
       "text": [
        "DEBUG:FFC:  Removing unused variable: tmp6\n"
       ]
      },
      {
       "output_type": "stream",
       "stream": "stderr",
       "text": [
        "DEBUG:FFC:  Removing unused variable: tmp5\n"
       ]
      },
      {
       "output_type": "stream",
       "stream": "stderr",
       "text": [
        "DEBUG:FFC:  Removing unused variable: tt\n"
       ]
      },
      {
       "output_type": "stream",
       "stream": "stderr",
       "text": [
        "DEBUG:FFC:  Removing unused variable: ss\n"
       ]
      },
      {
       "output_type": "stream",
       "stream": "stderr",
       "text": [
        "DEBUG:FFC:  Removing unused variable: rr\n"
       ]
      },
      {
       "output_type": "stream",
       "stream": "stderr",
       "text": [
        "DEBUG:FFC:  Removing unused variable: tmp2\n"
       ]
      },
      {
       "output_type": "stream",
       "stream": "stderr",
       "text": [
        "DEBUG:FFC:  Removing unused variable: tmp1\n"
       ]
      },
      {
       "output_type": "stream",
       "stream": "stderr",
       "text": [
        "DEBUG:FFC:  Removing unused variable: tmp7\n"
       ]
      },
      {
       "output_type": "stream",
       "stream": "stderr",
       "text": [
        "DEBUG:FFC:  Removing unused variable: tmp6\n"
       ]
      },
      {
       "output_type": "stream",
       "stream": "stderr",
       "text": [
        "DEBUG:FFC:  Removing unused variable: tmp5\n"
       ]
      },
      {
       "output_type": "stream",
       "stream": "stderr",
       "text": [
        "DEBUG:FFC:  Removing unused variable: tt\n"
       ]
      },
      {
       "output_type": "stream",
       "stream": "stderr",
       "text": [
        "DEBUG:FFC:  Removing unused variable: ss\n"
       ]
      },
      {
       "output_type": "stream",
       "stream": "stderr",
       "text": [
        "DEBUG:FFC:  Removing unused variable: rr\n"
       ]
      },
      {
       "output_type": "stream",
       "stream": "stderr",
       "text": [
        "DEBUG:FFC:  Removing unused variable: tmp2\n"
       ]
      },
      {
       "output_type": "stream",
       "stream": "stderr",
       "text": [
        "DEBUG:FFC:  Removing unused variable: tmp1\n"
       ]
      },
      {
       "output_type": "stream",
       "stream": "stderr",
       "text": [
        "DEBUG:FFC:  Removing unused variable: tmp7\n"
       ]
      },
      {
       "output_type": "stream",
       "stream": "stderr",
       "text": [
        "DEBUG:FFC:  Removing unused variable: tmp6\n"
       ]
      },
      {
       "output_type": "stream",
       "stream": "stderr",
       "text": [
        "DEBUG:FFC:  Removing unused variable: tmp5\n"
       ]
      },
      {
       "output_type": "stream",
       "stream": "stderr",
       "text": [
        "DEBUG:FFC:  Removing unused variable: tt\n"
       ]
      },
      {
       "output_type": "stream",
       "stream": "stderr",
       "text": [
        "DEBUG:FFC:  Removing unused variable: ss\n"
       ]
      },
      {
       "output_type": "stream",
       "stream": "stderr",
       "text": [
        "DEBUG:FFC:  Removing unused variable: rr\n"
       ]
      },
      {
       "output_type": "stream",
       "stream": "stderr",
       "text": [
        "DEBUG:FFC:  Removing unused variable: tmp2\n"
       ]
      },
      {
       "output_type": "stream",
       "stream": "stderr",
       "text": [
        "DEBUG:FFC:  Removing unused variable: tmp1\n"
       ]
      },
      {
       "output_type": "stream",
       "stream": "stderr",
       "text": [
        "DEBUG:FFC:  Removing unused variable: tmp7\n"
       ]
      },
      {
       "output_type": "stream",
       "stream": "stderr",
       "text": [
        "DEBUG:FFC:  Removing unused variable: tmp6\n"
       ]
      },
      {
       "output_type": "stream",
       "stream": "stderr",
       "text": [
        "DEBUG:FFC:  Removing unused variable: tmp5\n"
       ]
      },
      {
       "output_type": "stream",
       "stream": "stderr",
       "text": [
        "DEBUG:FFC:  Removing unused variable: tt\n"
       ]
      },
      {
       "output_type": "stream",
       "stream": "stderr",
       "text": [
        "DEBUG:FFC:  Removing unused variable: ss\n"
       ]
      },
      {
       "output_type": "stream",
       "stream": "stderr",
       "text": [
        "DEBUG:FFC:  Removing unused variable: rr\n"
       ]
      },
      {
       "output_type": "stream",
       "stream": "stderr",
       "text": [
        "DEBUG:FFC:  Removing unused variable: tmp2\n"
       ]
      },
      {
       "output_type": "stream",
       "stream": "stderr",
       "text": [
        "DEBUG:FFC:  Removing unused variable: tmp1\n"
       ]
      },
      {
       "output_type": "stream",
       "stream": "stderr",
       "text": [
        "DEBUG:FFC:  Removing unused variable: tmp7\n"
       ]
      },
      {
       "output_type": "stream",
       "stream": "stderr",
       "text": [
        "DEBUG:FFC:  Removing unused variable: tmp6\n"
       ]
      },
      {
       "output_type": "stream",
       "stream": "stderr",
       "text": [
        "DEBUG:FFC:  Removing unused variable: tmp5\n"
       ]
      },
      {
       "output_type": "stream",
       "stream": "stderr",
       "text": [
        "DEBUG:FFC:  Removing unused variable: tt\n"
       ]
      },
      {
       "output_type": "stream",
       "stream": "stderr",
       "text": [
        "DEBUG:FFC:  Removing unused variable: ss\n"
       ]
      },
      {
       "output_type": "stream",
       "stream": "stderr",
       "text": [
        "DEBUG:FFC:  Removing unused variable: rr\n"
       ]
      },
      {
       "output_type": "stream",
       "stream": "stderr",
       "text": [
        "DEBUG:FFC:  Removing unused variable: tmp2\n"
       ]
      },
      {
       "output_type": "stream",
       "stream": "stderr",
       "text": [
        "DEBUG:FFC:  Removing unused variable: tmp1\n"
       ]
      },
      {
       "output_type": "stream",
       "stream": "stderr",
       "text": [
        "DEBUG:FFC:  Removing unused variable: tmp7\n"
       ]
      },
      {
       "output_type": "stream",
       "stream": "stderr",
       "text": [
        "DEBUG:FFC:  Removing unused variable: tmp6\n"
       ]
      },
      {
       "output_type": "stream",
       "stream": "stderr",
       "text": [
        "DEBUG:FFC:  Removing unused variable: tmp5\n"
       ]
      },
      {
       "output_type": "stream",
       "stream": "stderr",
       "text": [
        "DEBUG:FFC:  Removing unused variable: tt\n"
       ]
      },
      {
       "output_type": "stream",
       "stream": "stderr",
       "text": [
        "DEBUG:FFC:  Removing unused variable: ss\n"
       ]
      },
      {
       "output_type": "stream",
       "stream": "stderr",
       "text": [
        "DEBUG:FFC:  Removing unused variable: rr\n"
       ]
      },
      {
       "output_type": "stream",
       "stream": "stderr",
       "text": [
        "DEBUG:FFC:  Removing unused variable: tmp2\n"
       ]
      },
      {
       "output_type": "stream",
       "stream": "stderr",
       "text": [
        "DEBUG:FFC:  Removing unused variable: tmp1\n"
       ]
      },
      {
       "output_type": "stream",
       "stream": "stderr",
       "text": [
        "DEBUG:FFC:  Removing unused variable: tmp7\n"
       ]
      },
      {
       "output_type": "stream",
       "stream": "stderr",
       "text": [
        "DEBUG:FFC:  Removing unused variable: tmp6\n"
       ]
      },
      {
       "output_type": "stream",
       "stream": "stderr",
       "text": [
        "DEBUG:FFC:  Removing unused variable: tmp5\n"
       ]
      },
      {
       "output_type": "stream",
       "stream": "stderr",
       "text": [
        "DEBUG:FFC:  Removing unused variable: tt\n"
       ]
      },
      {
       "output_type": "stream",
       "stream": "stderr",
       "text": [
        "DEBUG:FFC:  Removing unused variable: ss\n"
       ]
      },
      {
       "output_type": "stream",
       "stream": "stderr",
       "text": [
        "DEBUG:FFC:  Removing unused variable: rr\n"
       ]
      },
      {
       "output_type": "stream",
       "stream": "stderr",
       "text": [
        "DEBUG:FFC:  Removing unused variable: tmp7\n"
       ]
      },
      {
       "output_type": "stream",
       "stream": "stderr",
       "text": [
        "DEBUG:FFC:  Removing unused variable: tmp6\n"
       ]
      },
      {
       "output_type": "stream",
       "stream": "stderr",
       "text": [
        "DEBUG:FFC:  Removing unused variable: tmp5\n"
       ]
      },
      {
       "output_type": "stream",
       "stream": "stderr",
       "text": [
        "DEBUG:FFC:  Removing unused variable: tt\n"
       ]
      },
      {
       "output_type": "stream",
       "stream": "stderr",
       "text": [
        "DEBUG:FFC:  Removing unused variable: ss\n"
       ]
      },
      {
       "output_type": "stream",
       "stream": "stderr",
       "text": [
        "DEBUG:FFC:  Removing unused variable: rr\n"
       ]
      },
      {
       "output_type": "stream",
       "stream": "stderr",
       "text": [
        "DEBUG:FFC:  Removing unused variable: tmp7\n"
       ]
      },
      {
       "output_type": "stream",
       "stream": "stderr",
       "text": [
        "DEBUG:FFC:  Removing unused variable: tmp6\n"
       ]
      },
      {
       "output_type": "stream",
       "stream": "stderr",
       "text": [
        "DEBUG:FFC:  Removing unused variable: tmp5\n"
       ]
      },
      {
       "output_type": "stream",
       "stream": "stderr",
       "text": [
        "DEBUG:FFC:  Removing unused variable: tt\n"
       ]
      },
      {
       "output_type": "stream",
       "stream": "stderr",
       "text": [
        "DEBUG:FFC:  Removing unused variable: ss\n"
       ]
      },
      {
       "output_type": "stream",
       "stream": "stderr",
       "text": [
        "DEBUG:FFC:  Removing unused variable: rr\n"
       ]
      },
      {
       "output_type": "stream",
       "stream": "stderr",
       "text": [
        "DEBUG:FFC:  Removing unused variable: tmp7\n"
       ]
      },
      {
       "output_type": "stream",
       "stream": "stderr",
       "text": [
        "DEBUG:FFC:  Removing unused variable: tmp6\n"
       ]
      },
      {
       "output_type": "stream",
       "stream": "stderr",
       "text": [
        "DEBUG:FFC:  Removing unused variable: tmp5\n"
       ]
      },
      {
       "output_type": "stream",
       "stream": "stderr",
       "text": [
        "DEBUG:FFC:  Removing unused variable: tt\n"
       ]
      },
      {
       "output_type": "stream",
       "stream": "stderr",
       "text": [
        "DEBUG:FFC:  Removing unused variable: ss\n"
       ]
      },
      {
       "output_type": "stream",
       "stream": "stderr",
       "text": [
        "DEBUG:FFC:  Removing unused variable: rr\n"
       ]
      },
      {
       "output_type": "stream",
       "stream": "stderr",
       "text": [
        "DEBUG:FFC:  Removing unused variable: tmp7\n"
       ]
      },
      {
       "output_type": "stream",
       "stream": "stderr",
       "text": [
        "DEBUG:FFC:  Removing unused variable: tmp6\n"
       ]
      },
      {
       "output_type": "stream",
       "stream": "stderr",
       "text": [
        "DEBUG:FFC:  Removing unused variable: tmp5\n"
       ]
      },
      {
       "output_type": "stream",
       "stream": "stderr",
       "text": [
        "DEBUG:FFC:  Removing unused variable: tt\n"
       ]
      },
      {
       "output_type": "stream",
       "stream": "stderr",
       "text": [
        "DEBUG:FFC:  Removing unused variable: ss\n"
       ]
      },
      {
       "output_type": "stream",
       "stream": "stderr",
       "text": [
        "DEBUG:FFC:  Removing unused variable: rr\n"
       ]
      },
      {
       "output_type": "stream",
       "stream": "stderr",
       "text": [
        "DEBUG:FFC:  Removing unused variable: tmp7\n"
       ]
      },
      {
       "output_type": "stream",
       "stream": "stderr",
       "text": [
        "DEBUG:FFC:  Removing unused variable: tmp6\n"
       ]
      },
      {
       "output_type": "stream",
       "stream": "stderr",
       "text": [
        "DEBUG:FFC:  Removing unused variable: tmp5\n"
       ]
      },
      {
       "output_type": "stream",
       "stream": "stderr",
       "text": [
        "DEBUG:FFC:  Removing unused variable: tt\n"
       ]
      },
      {
       "output_type": "stream",
       "stream": "stderr",
       "text": [
        "DEBUG:FFC:  Removing unused variable: ss\n"
       ]
      },
      {
       "output_type": "stream",
       "stream": "stderr",
       "text": [
        "DEBUG:FFC:  Removing unused variable: rr\n"
       ]
      },
      {
       "output_type": "stream",
       "stream": "stderr",
       "text": [
        "DEBUG:FFC:  Removing unused variable: tmp7\n"
       ]
      },
      {
       "output_type": "stream",
       "stream": "stderr",
       "text": [
        "DEBUG:FFC:  Removing unused variable: tmp6\n"
       ]
      },
      {
       "output_type": "stream",
       "stream": "stderr",
       "text": [
        "DEBUG:FFC:  Removing unused variable: tmp5\n"
       ]
      },
      {
       "output_type": "stream",
       "stream": "stderr",
       "text": [
        "DEBUG:FFC:  Removing unused variable: tt\n"
       ]
      },
      {
       "output_type": "stream",
       "stream": "stderr",
       "text": [
        "DEBUG:FFC:  Removing unused variable: ss\n"
       ]
      },
      {
       "output_type": "stream",
       "stream": "stderr",
       "text": [
        "DEBUG:FFC:  Removing unused variable: rr\n"
       ]
      },
      {
       "output_type": "stream",
       "stream": "stderr",
       "text": [
        "DEBUG:FFC:  Removing unused variable: tmp7\n"
       ]
      },
      {
       "output_type": "stream",
       "stream": "stderr",
       "text": [
        "DEBUG:FFC:  Removing unused variable: tmp6\n"
       ]
      },
      {
       "output_type": "stream",
       "stream": "stderr",
       "text": [
        "DEBUG:FFC:  Removing unused variable: tmp5\n"
       ]
      },
      {
       "output_type": "stream",
       "stream": "stderr",
       "text": [
        "DEBUG:FFC:  Removing unused variable: tt\n"
       ]
      },
      {
       "output_type": "stream",
       "stream": "stderr",
       "text": [
        "DEBUG:FFC:  Removing unused variable: ss\n"
       ]
      },
      {
       "output_type": "stream",
       "stream": "stderr",
       "text": [
        "DEBUG:FFC:  Removing unused variable: rr\n"
       ]
      },
      {
       "output_type": "stream",
       "stream": "stderr",
       "text": [
        "DEBUG:FFC:  Removing unused variable: tmp7\n"
       ]
      },
      {
       "output_type": "stream",
       "stream": "stderr",
       "text": [
        "DEBUG:FFC:  Removing unused variable: tmp6\n"
       ]
      },
      {
       "output_type": "stream",
       "stream": "stderr",
       "text": [
        "DEBUG:FFC:  Removing unused variable: tmp5\n"
       ]
      },
      {
       "output_type": "stream",
       "stream": "stderr",
       "text": [
        "DEBUG:FFC:  Removing unused variable: tt\n"
       ]
      },
      {
       "output_type": "stream",
       "stream": "stderr",
       "text": [
        "DEBUG:FFC:  Removing unused variable: ss\n"
       ]
      },
      {
       "output_type": "stream",
       "stream": "stderr",
       "text": [
        "DEBUG:FFC:  Removing unused variable: rr\n"
       ]
      },
      {
       "output_type": "stream",
       "stream": "stderr",
       "text": [
        "DEBUG:FFC:  Removing unused variable: tmp7\n"
       ]
      },
      {
       "output_type": "stream",
       "stream": "stderr",
       "text": [
        "DEBUG:FFC:  Removing unused variable: tmp6\n"
       ]
      },
      {
       "output_type": "stream",
       "stream": "stderr",
       "text": [
        "DEBUG:FFC:  Removing unused variable: tmp5\n"
       ]
      },
      {
       "output_type": "stream",
       "stream": "stderr",
       "text": [
        "DEBUG:FFC:  Removing unused variable: tt\n"
       ]
      },
      {
       "output_type": "stream",
       "stream": "stderr",
       "text": [
        "DEBUG:FFC:  Removing unused variable: ss\n"
       ]
      },
      {
       "output_type": "stream",
       "stream": "stderr",
       "text": [
        "DEBUG:FFC:  Removing unused variable: rr\n"
       ]
      },
      {
       "output_type": "stream",
       "stream": "stderr",
       "text": [
        "DEBUG:FFC:  Removing unused variable: tmp7\n"
       ]
      },
      {
       "output_type": "stream",
       "stream": "stderr",
       "text": [
        "DEBUG:FFC:  Removing unused variable: tmp6\n"
       ]
      },
      {
       "output_type": "stream",
       "stream": "stderr",
       "text": [
        "DEBUG:FFC:  Removing unused variable: tmp5\n"
       ]
      },
      {
       "output_type": "stream",
       "stream": "stderr",
       "text": [
        "DEBUG:FFC:  Removing unused variable: tt\n"
       ]
      },
      {
       "output_type": "stream",
       "stream": "stderr",
       "text": [
        "DEBUG:FFC:  Removing unused variable: ss\n"
       ]
      },
      {
       "output_type": "stream",
       "stream": "stderr",
       "text": [
        "DEBUG:FFC:  Removing unused variable: rr\n"
       ]
      },
      {
       "output_type": "stream",
       "stream": "stderr",
       "text": [
        "DEBUG:FFC:  Removing unused variable: tmp7\n"
       ]
      },
      {
       "output_type": "stream",
       "stream": "stderr",
       "text": [
        "DEBUG:FFC:  Removing unused variable: tmp6\n"
       ]
      },
      {
       "output_type": "stream",
       "stream": "stderr",
       "text": [
        "DEBUG:FFC:  Removing unused variable: tmp5\n"
       ]
      },
      {
       "output_type": "stream",
       "stream": "stderr",
       "text": [
        "DEBUG:FFC:  Removing unused variable: tt\n"
       ]
      },
      {
       "output_type": "stream",
       "stream": "stderr",
       "text": [
        "DEBUG:FFC:  Removing unused variable: ss\n"
       ]
      },
      {
       "output_type": "stream",
       "stream": "stderr",
       "text": [
        "DEBUG:FFC:  Removing unused variable: rr\n"
       ]
      },
      {
       "output_type": "stream",
       "stream": "stderr",
       "text": [
        "DEBUG:FFC:  Removing unused variable: tmp7\n"
       ]
      },
      {
       "output_type": "stream",
       "stream": "stderr",
       "text": [
        "DEBUG:FFC:  Removing unused variable: tmp6\n"
       ]
      },
      {
       "output_type": "stream",
       "stream": "stderr",
       "text": [
        "DEBUG:FFC:  Removing unused variable: tmp5\n"
       ]
      },
      {
       "output_type": "stream",
       "stream": "stderr",
       "text": [
        "DEBUG:FFC:  Removing unused variable: tt\n"
       ]
      },
      {
       "output_type": "stream",
       "stream": "stderr",
       "text": [
        "DEBUG:FFC:  Removing unused variable: ss\n"
       ]
      },
      {
       "output_type": "stream",
       "stream": "stderr",
       "text": [
        "DEBUG:FFC:  Removing unused variable: rr\n"
       ]
      },
      {
       "output_type": "stream",
       "stream": "stderr",
       "text": [
        "DEBUG:FFC:  Removing unused variable: tmp2\n"
       ]
      },
      {
       "output_type": "stream",
       "stream": "stderr",
       "text": [
        "DEBUG:FFC:  Removing unused variable: tmp1\n"
       ]
      },
      {
       "output_type": "stream",
       "stream": "stderr",
       "text": [
        "DEBUG:FFC:  Removing unused variable: tmp7\n"
       ]
      },
      {
       "output_type": "stream",
       "stream": "stderr",
       "text": [
        "DEBUG:FFC:  Removing unused variable: tmp6\n"
       ]
      },
      {
       "output_type": "stream",
       "stream": "stderr",
       "text": [
        "DEBUG:FFC:  Removing unused variable: tmp5\n"
       ]
      },
      {
       "output_type": "stream",
       "stream": "stderr",
       "text": [
        "DEBUG:FFC:  Removing unused variable: tt\n"
       ]
      },
      {
       "output_type": "stream",
       "stream": "stderr",
       "text": [
        "DEBUG:FFC:  Removing unused variable: ss\n"
       ]
      },
      {
       "output_type": "stream",
       "stream": "stderr",
       "text": [
        "DEBUG:FFC:  Removing unused variable: rr\n"
       ]
      },
      {
       "output_type": "stream",
       "stream": "stderr",
       "text": [
        "DEBUG:FFC:  Removing unused variable: tmp2\n"
       ]
      },
      {
       "output_type": "stream",
       "stream": "stderr",
       "text": [
        "DEBUG:FFC:  Removing unused variable: tmp1\n"
       ]
      },
      {
       "output_type": "stream",
       "stream": "stderr",
       "text": [
        "DEBUG:FFC:  Removing unused variable: tmp7\n"
       ]
      },
      {
       "output_type": "stream",
       "stream": "stderr",
       "text": [
        "DEBUG:FFC:  Removing unused variable: tmp6\n"
       ]
      },
      {
       "output_type": "stream",
       "stream": "stderr",
       "text": [
        "DEBUG:FFC:  Removing unused variable: tmp5\n"
       ]
      },
      {
       "output_type": "stream",
       "stream": "stderr",
       "text": [
        "DEBUG:FFC:  Removing unused variable: tt\n"
       ]
      },
      {
       "output_type": "stream",
       "stream": "stderr",
       "text": [
        "DEBUG:FFC:  Removing unused variable: ss\n"
       ]
      },
      {
       "output_type": "stream",
       "stream": "stderr",
       "text": [
        "DEBUG:FFC:  Removing unused variable: rr\n"
       ]
      },
      {
       "output_type": "stream",
       "stream": "stderr",
       "text": [
        "DEBUG:FFC:  Removing unused variable: tmp2\n"
       ]
      },
      {
       "output_type": "stream",
       "stream": "stderr",
       "text": [
        "DEBUG:FFC:  Removing unused variable: tmp1\n"
       ]
      },
      {
       "output_type": "stream",
       "stream": "stderr",
       "text": [
        "DEBUG:FFC:  Removing unused variable: tmp7\n"
       ]
      },
      {
       "output_type": "stream",
       "stream": "stderr",
       "text": [
        "DEBUG:FFC:  Removing unused variable: tmp6\n"
       ]
      },
      {
       "output_type": "stream",
       "stream": "stderr",
       "text": [
        "DEBUG:FFC:  Removing unused variable: tmp5\n"
       ]
      },
      {
       "output_type": "stream",
       "stream": "stderr",
       "text": [
        "DEBUG:FFC:  Removing unused variable: tt\n"
       ]
      },
      {
       "output_type": "stream",
       "stream": "stderr",
       "text": [
        "DEBUG:FFC:  Removing unused variable: ss\n"
       ]
      },
      {
       "output_type": "stream",
       "stream": "stderr",
       "text": [
        "DEBUG:FFC:  Removing unused variable: rr\n"
       ]
      },
      {
       "output_type": "stream",
       "stream": "stderr",
       "text": [
        "DEBUG:FFC:  Removing unused variable: tmp2\n"
       ]
      },
      {
       "output_type": "stream",
       "stream": "stderr",
       "text": [
        "DEBUG:FFC:  Removing unused variable: tmp1\n"
       ]
      },
      {
       "output_type": "stream",
       "stream": "stderr",
       "text": [
        "DEBUG:FFC:  Removing unused variable: tmp7\n"
       ]
      },
      {
       "output_type": "stream",
       "stream": "stderr",
       "text": [
        "DEBUG:FFC:  Removing unused variable: tmp6\n"
       ]
      },
      {
       "output_type": "stream",
       "stream": "stderr",
       "text": [
        "DEBUG:FFC:  Removing unused variable: tmp5\n"
       ]
      },
      {
       "output_type": "stream",
       "stream": "stderr",
       "text": [
        "DEBUG:FFC:  Removing unused variable: tt\n"
       ]
      },
      {
       "output_type": "stream",
       "stream": "stderr",
       "text": [
        "DEBUG:FFC:  Removing unused variable: ss\n"
       ]
      },
      {
       "output_type": "stream",
       "stream": "stderr",
       "text": [
        "DEBUG:FFC:  Removing unused variable: rr\n"
       ]
      },
      {
       "output_type": "stream",
       "stream": "stderr",
       "text": [
        "DEBUG:FFC:  Removing unused variable: tmp2\n"
       ]
      },
      {
       "output_type": "stream",
       "stream": "stderr",
       "text": [
        "DEBUG:FFC:  Removing unused variable: tmp1\n"
       ]
      },
      {
       "output_type": "stream",
       "stream": "stderr",
       "text": [
        "DEBUG:FFC:  Removing unused variable: tmp7\n"
       ]
      },
      {
       "output_type": "stream",
       "stream": "stderr",
       "text": [
        "DEBUG:FFC:  Removing unused variable: tmp6\n"
       ]
      },
      {
       "output_type": "stream",
       "stream": "stderr",
       "text": [
        "DEBUG:FFC:  Removing unused variable: tmp5\n"
       ]
      },
      {
       "output_type": "stream",
       "stream": "stderr",
       "text": [
        "DEBUG:FFC:  Removing unused variable: tt\n"
       ]
      },
      {
       "output_type": "stream",
       "stream": "stderr",
       "text": [
        "DEBUG:FFC:  Removing unused variable: ss\n"
       ]
      },
      {
       "output_type": "stream",
       "stream": "stderr",
       "text": [
        "DEBUG:FFC:  Removing unused variable: rr\n"
       ]
      },
      {
       "output_type": "stream",
       "stream": "stderr",
       "text": [
        "DEBUG:FFC:  Removing unused variable: tmp2\n"
       ]
      },
      {
       "output_type": "stream",
       "stream": "stderr",
       "text": [
        "DEBUG:FFC:  Removing unused variable: tmp1\n"
       ]
      },
      {
       "output_type": "stream",
       "stream": "stderr",
       "text": [
        "DEBUG:FFC:  Removing unused variable: tmp7\n"
       ]
      },
      {
       "output_type": "stream",
       "stream": "stderr",
       "text": [
        "DEBUG:FFC:  Removing unused variable: tmp6\n"
       ]
      },
      {
       "output_type": "stream",
       "stream": "stderr",
       "text": [
        "DEBUG:FFC:  Removing unused variable: tmp5\n"
       ]
      },
      {
       "output_type": "stream",
       "stream": "stderr",
       "text": [
        "DEBUG:FFC:  Removing unused variable: tt\n"
       ]
      },
      {
       "output_type": "stream",
       "stream": "stderr",
       "text": [
        "DEBUG:FFC:  Removing unused variable: ss\n"
       ]
      },
      {
       "output_type": "stream",
       "stream": "stderr",
       "text": [
        "DEBUG:FFC:  Removing unused variable: rr\n"
       ]
      },
      {
       "output_type": "stream",
       "stream": "stderr",
       "text": [
        "DEBUG:FFC:  Removing unused variable: tmp2\n"
       ]
      },
      {
       "output_type": "stream",
       "stream": "stderr",
       "text": [
        "DEBUG:FFC:  Removing unused variable: tmp1\n"
       ]
      },
      {
       "output_type": "stream",
       "stream": "stderr",
       "text": [
        "DEBUG:FFC:  Removing unused variable: tmp7\n"
       ]
      },
      {
       "output_type": "stream",
       "stream": "stderr",
       "text": [
        "DEBUG:FFC:  Removing unused variable: tmp6\n"
       ]
      },
      {
       "output_type": "stream",
       "stream": "stderr",
       "text": [
        "DEBUG:FFC:  Removing unused variable: tmp5\n"
       ]
      },
      {
       "output_type": "stream",
       "stream": "stderr",
       "text": [
        "DEBUG:FFC:  Removing unused variable: tt\n"
       ]
      },
      {
       "output_type": "stream",
       "stream": "stderr",
       "text": [
        "DEBUG:FFC:  Removing unused variable: ss\n"
       ]
      },
      {
       "output_type": "stream",
       "stream": "stderr",
       "text": [
        "DEBUG:FFC:  Removing unused variable: rr\n"
       ]
      },
      {
       "output_type": "stream",
       "stream": "stderr",
       "text": [
        "DEBUG:FFC:  Removing unused variable: tmp2\n"
       ]
      },
      {
       "output_type": "stream",
       "stream": "stderr",
       "text": [
        "DEBUG:FFC:  Removing unused variable: tmp1\n"
       ]
      },
      {
       "output_type": "stream",
       "stream": "stderr",
       "text": [
        "DEBUG:FFC:  Removing unused variable: tmp7\n"
       ]
      },
      {
       "output_type": "stream",
       "stream": "stderr",
       "text": [
        "DEBUG:FFC:  Removing unused variable: tmp6\n"
       ]
      },
      {
       "output_type": "stream",
       "stream": "stderr",
       "text": [
        "DEBUG:FFC:  Removing unused variable: tmp5\n"
       ]
      },
      {
       "output_type": "stream",
       "stream": "stderr",
       "text": [
        "DEBUG:FFC:  Removing unused variable: tt\n"
       ]
      },
      {
       "output_type": "stream",
       "stream": "stderr",
       "text": [
        "DEBUG:FFC:  Removing unused variable: ss\n"
       ]
      },
      {
       "output_type": "stream",
       "stream": "stderr",
       "text": [
        "DEBUG:FFC:  Removing unused variable: rr\n"
       ]
      },
      {
       "output_type": "stream",
       "stream": "stderr",
       "text": [
        "DEBUG:FFC:  Removing unused variable: tmp2\n"
       ]
      },
      {
       "output_type": "stream",
       "stream": "stderr",
       "text": [
        "DEBUG:FFC:  Removing unused variable: tmp1\n"
       ]
      },
      {
       "output_type": "stream",
       "stream": "stderr",
       "text": [
        "DEBUG:FFC:  Removing unused variable: tmp7\n"
       ]
      },
      {
       "output_type": "stream",
       "stream": "stderr",
       "text": [
        "DEBUG:FFC:  Removing unused variable: tmp6\n"
       ]
      },
      {
       "output_type": "stream",
       "stream": "stderr",
       "text": [
        "DEBUG:FFC:  Removing unused variable: tmp5\n"
       ]
      },
      {
       "output_type": "stream",
       "stream": "stderr",
       "text": [
        "DEBUG:FFC:  Removing unused variable: tt\n"
       ]
      },
      {
       "output_type": "stream",
       "stream": "stderr",
       "text": [
        "DEBUG:FFC:  Removing unused variable: ss\n"
       ]
      },
      {
       "output_type": "stream",
       "stream": "stderr",
       "text": [
        "DEBUG:FFC:  Removing unused variable: rr\n"
       ]
      },
      {
       "output_type": "stream",
       "stream": "stderr",
       "text": [
        "DEBUG:FFC:  Removing unused variable: tmp7\n"
       ]
      },
      {
       "output_type": "stream",
       "stream": "stderr",
       "text": [
        "DEBUG:FFC:  Removing unused variable: tmp6\n"
       ]
      },
      {
       "output_type": "stream",
       "stream": "stderr",
       "text": [
        "DEBUG:FFC:  Removing unused variable: tmp5\n"
       ]
      },
      {
       "output_type": "stream",
       "stream": "stderr",
       "text": [
        "DEBUG:FFC:  Removing unused variable: tt\n"
       ]
      },
      {
       "output_type": "stream",
       "stream": "stderr",
       "text": [
        "DEBUG:FFC:  Removing unused variable: ss\n"
       ]
      },
      {
       "output_type": "stream",
       "stream": "stderr",
       "text": [
        "DEBUG:FFC:  Removing unused variable: rr\n"
       ]
      },
      {
       "output_type": "stream",
       "stream": "stderr",
       "text": [
        "DEBUG:FFC:  Removing unused variable: tmp7\n"
       ]
      },
      {
       "output_type": "stream",
       "stream": "stderr",
       "text": [
        "DEBUG:FFC:  Removing unused variable: tmp6\n"
       ]
      },
      {
       "output_type": "stream",
       "stream": "stderr",
       "text": [
        "DEBUG:FFC:  Removing unused variable: tmp5\n"
       ]
      },
      {
       "output_type": "stream",
       "stream": "stderr",
       "text": [
        "DEBUG:FFC:  Removing unused variable: tt\n"
       ]
      },
      {
       "output_type": "stream",
       "stream": "stderr",
       "text": [
        "DEBUG:FFC:  Removing unused variable: ss\n"
       ]
      },
      {
       "output_type": "stream",
       "stream": "stderr",
       "text": [
        "DEBUG:FFC:  Removing unused variable: rr\n"
       ]
      },
      {
       "output_type": "stream",
       "stream": "stderr",
       "text": [
        "DEBUG:FFC:  Removing unused variable: tmp7\n"
       ]
      },
      {
       "output_type": "stream",
       "stream": "stderr",
       "text": [
        "DEBUG:FFC:  Removing unused variable: tmp6\n"
       ]
      },
      {
       "output_type": "stream",
       "stream": "stderr",
       "text": [
        "DEBUG:FFC:  Removing unused variable: tmp5\n"
       ]
      },
      {
       "output_type": "stream",
       "stream": "stderr",
       "text": [
        "DEBUG:FFC:  Removing unused variable: tt\n"
       ]
      },
      {
       "output_type": "stream",
       "stream": "stderr",
       "text": [
        "DEBUG:FFC:  Removing unused variable: ss\n"
       ]
      },
      {
       "output_type": "stream",
       "stream": "stderr",
       "text": [
        "DEBUG:FFC:  Removing unused variable: rr\n"
       ]
      },
      {
       "output_type": "stream",
       "stream": "stderr",
       "text": [
        "DEBUG:FFC:  Removing unused variable: tmp7\n"
       ]
      },
      {
       "output_type": "stream",
       "stream": "stderr",
       "text": [
        "DEBUG:FFC:  Removing unused variable: tmp6\n"
       ]
      },
      {
       "output_type": "stream",
       "stream": "stderr",
       "text": [
        "DEBUG:FFC:  Removing unused variable: tmp5\n"
       ]
      },
      {
       "output_type": "stream",
       "stream": "stderr",
       "text": [
        "DEBUG:FFC:  Removing unused variable: tt\n"
       ]
      },
      {
       "output_type": "stream",
       "stream": "stderr",
       "text": [
        "DEBUG:FFC:  Removing unused variable: ss\n"
       ]
      },
      {
       "output_type": "stream",
       "stream": "stderr",
       "text": [
        "DEBUG:FFC:  Removing unused variable: rr\n"
       ]
      },
      {
       "output_type": "stream",
       "stream": "stderr",
       "text": [
        "DEBUG:FFC:  Removing unused variable: tmp7\n"
       ]
      },
      {
       "output_type": "stream",
       "stream": "stderr",
       "text": [
        "DEBUG:FFC:  Removing unused variable: tmp6\n"
       ]
      },
      {
       "output_type": "stream",
       "stream": "stderr",
       "text": [
        "DEBUG:FFC:  Removing unused variable: tmp5\n"
       ]
      },
      {
       "output_type": "stream",
       "stream": "stderr",
       "text": [
        "DEBUG:FFC:  Removing unused variable: tt\n"
       ]
      },
      {
       "output_type": "stream",
       "stream": "stderr",
       "text": [
        "DEBUG:FFC:  Removing unused variable: ss\n"
       ]
      },
      {
       "output_type": "stream",
       "stream": "stderr",
       "text": [
        "DEBUG:FFC:  Removing unused variable: rr\n"
       ]
      },
      {
       "output_type": "stream",
       "stream": "stderr",
       "text": [
        "DEBUG:FFC:  Removing unused variable: tmp7\n"
       ]
      },
      {
       "output_type": "stream",
       "stream": "stderr",
       "text": [
        "DEBUG:FFC:  Removing unused variable: tmp6\n"
       ]
      },
      {
       "output_type": "stream",
       "stream": "stderr",
       "text": [
        "DEBUG:FFC:  Removing unused variable: tmp5\n"
       ]
      },
      {
       "output_type": "stream",
       "stream": "stderr",
       "text": [
        "DEBUG:FFC:  Removing unused variable: tt\n"
       ]
      },
      {
       "output_type": "stream",
       "stream": "stderr",
       "text": [
        "DEBUG:FFC:  Removing unused variable: ss\n"
       ]
      },
      {
       "output_type": "stream",
       "stream": "stderr",
       "text": [
        "DEBUG:FFC:  Removing unused variable: rr\n"
       ]
      },
      {
       "output_type": "stream",
       "stream": "stderr",
       "text": [
        "DEBUG:FFC:  Removing unused variable: tmp7\n"
       ]
      },
      {
       "output_type": "stream",
       "stream": "stderr",
       "text": [
        "DEBUG:FFC:  Removing unused variable: tmp6\n"
       ]
      },
      {
       "output_type": "stream",
       "stream": "stderr",
       "text": [
        "DEBUG:FFC:  Removing unused variable: tmp5\n"
       ]
      },
      {
       "output_type": "stream",
       "stream": "stderr",
       "text": [
        "DEBUG:FFC:  Removing unused variable: tt\n"
       ]
      },
      {
       "output_type": "stream",
       "stream": "stderr",
       "text": [
        "DEBUG:FFC:  Removing unused variable: ss\n"
       ]
      },
      {
       "output_type": "stream",
       "stream": "stderr",
       "text": [
        "DEBUG:FFC:  Removing unused variable: rr\n"
       ]
      },
      {
       "output_type": "stream",
       "stream": "stderr",
       "text": [
        "DEBUG:FFC:  Removing unused variable: tmp7\n"
       ]
      },
      {
       "output_type": "stream",
       "stream": "stderr",
       "text": [
        "DEBUG:FFC:  Removing unused variable: tmp6\n"
       ]
      },
      {
       "output_type": "stream",
       "stream": "stderr",
       "text": [
        "DEBUG:FFC:  Removing unused variable: tmp5\n"
       ]
      },
      {
       "output_type": "stream",
       "stream": "stderr",
       "text": [
        "DEBUG:FFC:  Removing unused variable: tt\n"
       ]
      },
      {
       "output_type": "stream",
       "stream": "stderr",
       "text": [
        "DEBUG:FFC:  Removing unused variable: ss\n"
       ]
      },
      {
       "output_type": "stream",
       "stream": "stderr",
       "text": [
        "DEBUG:FFC:  Removing unused variable: rr\n"
       ]
      },
      {
       "output_type": "stream",
       "stream": "stderr",
       "text": [
        "DEBUG:FFC:  Removing unused variable: tmp7\n"
       ]
      },
      {
       "output_type": "stream",
       "stream": "stderr",
       "text": [
        "DEBUG:FFC:  Removing unused variable: tmp6\n"
       ]
      },
      {
       "output_type": "stream",
       "stream": "stderr",
       "text": [
        "DEBUG:FFC:  Removing unused variable: tmp5\n"
       ]
      },
      {
       "output_type": "stream",
       "stream": "stderr",
       "text": [
        "DEBUG:FFC:  Removing unused variable: tt\n"
       ]
      },
      {
       "output_type": "stream",
       "stream": "stderr",
       "text": [
        "DEBUG:FFC:  Removing unused variable: ss\n"
       ]
      },
      {
       "output_type": "stream",
       "stream": "stderr",
       "text": [
        "DEBUG:FFC:  Removing unused variable: rr\n"
       ]
      },
      {
       "output_type": "stream",
       "stream": "stderr",
       "text": [
        "DEBUG:FFC:  Removing unused variable: tmp7\n"
       ]
      },
      {
       "output_type": "stream",
       "stream": "stderr",
       "text": [
        "DEBUG:FFC:  Removing unused variable: tmp6\n"
       ]
      },
      {
       "output_type": "stream",
       "stream": "stderr",
       "text": [
        "DEBUG:FFC:  Removing unused variable: tmp5\n"
       ]
      },
      {
       "output_type": "stream",
       "stream": "stderr",
       "text": [
        "DEBUG:FFC:  Removing unused variable: tt\n"
       ]
      },
      {
       "output_type": "stream",
       "stream": "stderr",
       "text": [
        "DEBUG:FFC:  Removing unused variable: ss\n"
       ]
      },
      {
       "output_type": "stream",
       "stream": "stderr",
       "text": [
        "DEBUG:FFC:  Removing unused variable: rr\n"
       ]
      },
      {
       "output_type": "stream",
       "stream": "stderr",
       "text": [
        "DEBUG:FFC:  Removing unused variable: tmp7\n"
       ]
      },
      {
       "output_type": "stream",
       "stream": "stderr",
       "text": [
        "DEBUG:FFC:  Removing unused variable: tmp6\n"
       ]
      },
      {
       "output_type": "stream",
       "stream": "stderr",
       "text": [
        "DEBUG:FFC:  Removing unused variable: tmp5\n"
       ]
      },
      {
       "output_type": "stream",
       "stream": "stderr",
       "text": [
        "DEBUG:FFC:  Removing unused variable: tt\n"
       ]
      },
      {
       "output_type": "stream",
       "stream": "stderr",
       "text": [
        "DEBUG:FFC:  Removing unused variable: ss\n"
       ]
      },
      {
       "output_type": "stream",
       "stream": "stderr",
       "text": [
        "DEBUG:FFC:  Removing unused variable: rr\n"
       ]
      },
      {
       "output_type": "stream",
       "stream": "stderr",
       "text": [
        "DEBUG:FFC:  Removing unused variable: tmp7\n"
       ]
      },
      {
       "output_type": "stream",
       "stream": "stderr",
       "text": [
        "DEBUG:FFC:  Removing unused variable: tmp6\n"
       ]
      },
      {
       "output_type": "stream",
       "stream": "stderr",
       "text": [
        "DEBUG:FFC:  Removing unused variable: tmp5\n"
       ]
      },
      {
       "output_type": "stream",
       "stream": "stderr",
       "text": [
        "DEBUG:FFC:  Removing unused variable: tt\n"
       ]
      },
      {
       "output_type": "stream",
       "stream": "stderr",
       "text": [
        "DEBUG:FFC:  Removing unused variable: ss\n"
       ]
      },
      {
       "output_type": "stream",
       "stream": "stderr",
       "text": [
        "DEBUG:FFC:  Removing unused variable: rr\n"
       ]
      },
      {
       "output_type": "stream",
       "stream": "stderr",
       "text": [
        "DEBUG:FFC:  Removing unused variable: tmp2\n"
       ]
      },
      {
       "output_type": "stream",
       "stream": "stderr",
       "text": [
        "DEBUG:FFC:  Removing unused variable: tmp1\n"
       ]
      },
      {
       "output_type": "stream",
       "stream": "stderr",
       "text": [
        "DEBUG:FFC:  Removing unused variable: tmp7\n"
       ]
      },
      {
       "output_type": "stream",
       "stream": "stderr",
       "text": [
        "DEBUG:FFC:  Removing unused variable: tmp6\n"
       ]
      },
      {
       "output_type": "stream",
       "stream": "stderr",
       "text": [
        "DEBUG:FFC:  Removing unused variable: tmp5\n"
       ]
      },
      {
       "output_type": "stream",
       "stream": "stderr",
       "text": [
        "DEBUG:FFC:  Removing unused variable: tt\n"
       ]
      },
      {
       "output_type": "stream",
       "stream": "stderr",
       "text": [
        "DEBUG:FFC:  Removing unused variable: ss\n"
       ]
      },
      {
       "output_type": "stream",
       "stream": "stderr",
       "text": [
        "DEBUG:FFC:  Removing unused variable: rr\n"
       ]
      },
      {
       "output_type": "stream",
       "stream": "stderr",
       "text": [
        "DEBUG:FFC:  Removing unused variable: tmp2\n"
       ]
      },
      {
       "output_type": "stream",
       "stream": "stderr",
       "text": [
        "DEBUG:FFC:  Removing unused variable: tmp1\n"
       ]
      },
      {
       "output_type": "stream",
       "stream": "stderr",
       "text": [
        "DEBUG:FFC:  Removing unused variable: tmp7\n"
       ]
      },
      {
       "output_type": "stream",
       "stream": "stderr",
       "text": [
        "DEBUG:FFC:  Removing unused variable: tmp6\n"
       ]
      },
      {
       "output_type": "stream",
       "stream": "stderr",
       "text": [
        "DEBUG:FFC:  Removing unused variable: tmp5\n"
       ]
      },
      {
       "output_type": "stream",
       "stream": "stderr",
       "text": [
        "DEBUG:FFC:  Removing unused variable: tt\n"
       ]
      },
      {
       "output_type": "stream",
       "stream": "stderr",
       "text": [
        "DEBUG:FFC:  Removing unused variable: ss\n"
       ]
      },
      {
       "output_type": "stream",
       "stream": "stderr",
       "text": [
        "DEBUG:FFC:  Removing unused variable: rr\n"
       ]
      },
      {
       "output_type": "stream",
       "stream": "stderr",
       "text": [
        "DEBUG:FFC:  Removing unused variable: tmp2\n"
       ]
      },
      {
       "output_type": "stream",
       "stream": "stderr",
       "text": [
        "DEBUG:FFC:  Removing unused variable: tmp1\n"
       ]
      },
      {
       "output_type": "stream",
       "stream": "stderr",
       "text": [
        "DEBUG:FFC:  Removing unused variable: tmp7\n"
       ]
      },
      {
       "output_type": "stream",
       "stream": "stderr",
       "text": [
        "DEBUG:FFC:  Removing unused variable: tmp6\n"
       ]
      },
      {
       "output_type": "stream",
       "stream": "stderr",
       "text": [
        "DEBUG:FFC:  Removing unused variable: tmp5\n"
       ]
      },
      {
       "output_type": "stream",
       "stream": "stderr",
       "text": [
        "DEBUG:FFC:  Removing unused variable: tt\n"
       ]
      },
      {
       "output_type": "stream",
       "stream": "stderr",
       "text": [
        "DEBUG:FFC:  Removing unused variable: ss\n"
       ]
      },
      {
       "output_type": "stream",
       "stream": "stderr",
       "text": [
        "DEBUG:FFC:  Removing unused variable: rr\n"
       ]
      },
      {
       "output_type": "stream",
       "stream": "stderr",
       "text": [
        "DEBUG:FFC:  Removing unused variable: tmp2\n"
       ]
      },
      {
       "output_type": "stream",
       "stream": "stderr",
       "text": [
        "DEBUG:FFC:  Removing unused variable: tmp1\n"
       ]
      },
      {
       "output_type": "stream",
       "stream": "stderr",
       "text": [
        "DEBUG:FFC:  Removing unused variable: tmp7\n"
       ]
      },
      {
       "output_type": "stream",
       "stream": "stderr",
       "text": [
        "DEBUG:FFC:  Removing unused variable: tmp6\n"
       ]
      },
      {
       "output_type": "stream",
       "stream": "stderr",
       "text": [
        "DEBUG:FFC:  Removing unused variable: tmp5\n"
       ]
      },
      {
       "output_type": "stream",
       "stream": "stderr",
       "text": [
        "DEBUG:FFC:  Removing unused variable: tt\n"
       ]
      },
      {
       "output_type": "stream",
       "stream": "stderr",
       "text": [
        "DEBUG:FFC:  Removing unused variable: ss\n"
       ]
      },
      {
       "output_type": "stream",
       "stream": "stderr",
       "text": [
        "DEBUG:FFC:  Removing unused variable: rr\n"
       ]
      },
      {
       "output_type": "stream",
       "stream": "stderr",
       "text": [
        "DEBUG:FFC:  Removing unused variable: tmp2\n"
       ]
      },
      {
       "output_type": "stream",
       "stream": "stderr",
       "text": [
        "DEBUG:FFC:  Removing unused variable: tmp1\n"
       ]
      },
      {
       "output_type": "stream",
       "stream": "stderr",
       "text": [
        "DEBUG:FFC:  Removing unused variable: tmp7\n"
       ]
      },
      {
       "output_type": "stream",
       "stream": "stderr",
       "text": [
        "DEBUG:FFC:  Removing unused variable: tmp6\n"
       ]
      },
      {
       "output_type": "stream",
       "stream": "stderr",
       "text": [
        "DEBUG:FFC:  Removing unused variable: tmp5\n"
       ]
      },
      {
       "output_type": "stream",
       "stream": "stderr",
       "text": [
        "DEBUG:FFC:  Removing unused variable: tt\n"
       ]
      },
      {
       "output_type": "stream",
       "stream": "stderr",
       "text": [
        "DEBUG:FFC:  Removing unused variable: ss\n"
       ]
      },
      {
       "output_type": "stream",
       "stream": "stderr",
       "text": [
        "DEBUG:FFC:  Removing unused variable: rr\n"
       ]
      },
      {
       "output_type": "stream",
       "stream": "stderr",
       "text": [
        "DEBUG:FFC:  Removing unused variable: tmp2\n"
       ]
      },
      {
       "output_type": "stream",
       "stream": "stderr",
       "text": [
        "DEBUG:FFC:  Removing unused variable: tmp1\n"
       ]
      },
      {
       "output_type": "stream",
       "stream": "stderr",
       "text": [
        "DEBUG:FFC:  Removing unused variable: tmp7\n"
       ]
      },
      {
       "output_type": "stream",
       "stream": "stderr",
       "text": [
        "DEBUG:FFC:  Removing unused variable: tmp6\n"
       ]
      },
      {
       "output_type": "stream",
       "stream": "stderr",
       "text": [
        "DEBUG:FFC:  Removing unused variable: tmp5\n"
       ]
      },
      {
       "output_type": "stream",
       "stream": "stderr",
       "text": [
        "DEBUG:FFC:  Removing unused variable: tt\n"
       ]
      },
      {
       "output_type": "stream",
       "stream": "stderr",
       "text": [
        "DEBUG:FFC:  Removing unused variable: ss\n"
       ]
      },
      {
       "output_type": "stream",
       "stream": "stderr",
       "text": [
        "DEBUG:FFC:  Removing unused variable: rr\n"
       ]
      },
      {
       "output_type": "stream",
       "stream": "stderr",
       "text": [
        "DEBUG:FFC:  Removing unused variable: tmp2\n"
       ]
      },
      {
       "output_type": "stream",
       "stream": "stderr",
       "text": [
        "DEBUG:FFC:  Removing unused variable: tmp1\n"
       ]
      },
      {
       "output_type": "stream",
       "stream": "stderr",
       "text": [
        "DEBUG:FFC:  Removing unused variable: tmp7\n"
       ]
      },
      {
       "output_type": "stream",
       "stream": "stderr",
       "text": [
        "DEBUG:FFC:  Removing unused variable: tmp6\n"
       ]
      },
      {
       "output_type": "stream",
       "stream": "stderr",
       "text": [
        "DEBUG:FFC:  Removing unused variable: tmp5\n"
       ]
      },
      {
       "output_type": "stream",
       "stream": "stderr",
       "text": [
        "DEBUG:FFC:  Removing unused variable: tt\n"
       ]
      },
      {
       "output_type": "stream",
       "stream": "stderr",
       "text": [
        "DEBUG:FFC:  Removing unused variable: ss\n"
       ]
      },
      {
       "output_type": "stream",
       "stream": "stderr",
       "text": [
        "DEBUG:FFC:  Removing unused variable: rr\n"
       ]
      },
      {
       "output_type": "stream",
       "stream": "stderr",
       "text": [
        "DEBUG:FFC:  Removing unused variable: tmp2\n"
       ]
      },
      {
       "output_type": "stream",
       "stream": "stderr",
       "text": [
        "DEBUG:FFC:  Removing unused variable: tmp1\n"
       ]
      },
      {
       "output_type": "stream",
       "stream": "stderr",
       "text": [
        "DEBUG:FFC:  Removing unused variable: tmp7\n"
       ]
      },
      {
       "output_type": "stream",
       "stream": "stderr",
       "text": [
        "DEBUG:FFC:  Removing unused variable: tmp6\n"
       ]
      },
      {
       "output_type": "stream",
       "stream": "stderr",
       "text": [
        "DEBUG:FFC:  Removing unused variable: tmp5\n"
       ]
      },
      {
       "output_type": "stream",
       "stream": "stderr",
       "text": [
        "DEBUG:FFC:  Removing unused variable: tt\n"
       ]
      },
      {
       "output_type": "stream",
       "stream": "stderr",
       "text": [
        "DEBUG:FFC:  Removing unused variable: ss\n"
       ]
      },
      {
       "output_type": "stream",
       "stream": "stderr",
       "text": [
        "DEBUG:FFC:  Removing unused variable: rr\n"
       ]
      },
      {
       "output_type": "stream",
       "stream": "stderr",
       "text": [
        "DEBUG:FFC:  Removing unused variable: tmp2\n"
       ]
      },
      {
       "output_type": "stream",
       "stream": "stderr",
       "text": [
        "DEBUG:FFC:  Removing unused variable: tmp1\n"
       ]
      },
      {
       "output_type": "stream",
       "stream": "stderr",
       "text": [
        "DEBUG:FFC:  Removing unused variable: tmp7\n"
       ]
      },
      {
       "output_type": "stream",
       "stream": "stderr",
       "text": [
        "DEBUG:FFC:  Removing unused variable: tmp6\n"
       ]
      },
      {
       "output_type": "stream",
       "stream": "stderr",
       "text": [
        "DEBUG:FFC:  Removing unused variable: tmp5\n"
       ]
      },
      {
       "output_type": "stream",
       "stream": "stderr",
       "text": [
        "DEBUG:FFC:  Removing unused variable: tt\n"
       ]
      },
      {
       "output_type": "stream",
       "stream": "stderr",
       "text": [
        "DEBUG:FFC:  Removing unused variable: ss\n"
       ]
      },
      {
       "output_type": "stream",
       "stream": "stderr",
       "text": [
        "DEBUG:FFC:  Removing unused variable: rr\n"
       ]
      },
      {
       "output_type": "stream",
       "stream": "stderr",
       "text": [
        "INFO:FFC:  Generating code for 6 dofmap(s)\n"
       ]
      },
      {
       "output_type": "stream",
       "stream": "stderr",
       "text": [
        "INFO:FFC:  Generating code for integrals\n"
       ]
      },
      {
       "output_type": "stream",
       "stream": "stderr",
       "text": [
        "INFO:FFC:  Generating code for forms\n"
       ]
      },
      {
       "output_type": "stream",
       "stream": "stderr",
       "text": [
        "INFO:FFC:  \n"
       ]
      },
      {
       "output_type": "stream",
       "stream": "stderr",
       "text": [
        "INFO:FFC:Compiler stage 4 finished in 1.06509 seconds.\n",
        "\n"
       ]
      },
      {
       "output_type": "stream",
       "stream": "stderr",
       "text": [
        "INFO:FFC:Compiler stage 4.1 finished in 1.09673e-05 seconds.\n",
        "\n"
       ]
      },
      {
       "output_type": "stream",
       "stream": "stderr",
       "text": [
        "INFO:FFC:Compiler stage 5: Formatting code\n"
       ]
      },
      {
       "output_type": "stream",
       "stream": "stderr",
       "text": [
        "INFO:FFC:---------------------------------\n"
       ]
      },
      {
       "output_type": "stream",
       "stream": "stderr",
       "text": [
        "INFO:FFC:  Output written to ./ffc_form_eb3d5a1f48d055e43a5522b17a8ddefeb0fba8be.h.\n"
       ]
      },
      {
       "output_type": "stream",
       "stream": "stderr",
       "text": [
        "INFO:FFC:  \n"
       ]
      },
      {
       "output_type": "stream",
       "stream": "stderr",
       "text": [
        "INFO:FFC:Compiler stage 5 finished in 0.00265598 seconds.\n",
        "\n"
       ]
      },
      {
       "output_type": "stream",
       "stream": "stderr",
       "text": [
        "INFO:FFC:\u001b[1;37;32mFFC finished in 1.37074 seconds.\u001b[0m\n"
       ]
      },
      {
       "output_type": "stream",
       "stream": "stderr",
       "text": [
        "DEBUG:FFC:Compiling and linking Python extension module, this may take some time.\n"
       ]
      },
      {
       "output_type": "stream",
       "stream": "stdout",
       "text": [
        "\n",
        "\n",
        "W:   [ 4803.] Velocity:   [ 2178.] Pressure:   [ 289.] Magnetic:   [ 800.] Lagrange:   [ 1536.] \n",
        "\n",
        "\n",
        "\n",
        "\n",
        "====================================="
       ]
      },
      {
       "output_type": "stream",
       "stream": "stdout",
       "text": [
        "\n",
        "  Seting up initial guess matricies\n",
        "=====================================\n",
        "\n",
        "BC index function, time:                  ==>   0.002731    time:  12:55\n",
        " ==================================\n",
        "   Preconditioning Magnetic setup\n",
        " ==================================\n",
        "Compute edge boundary indices, time:    "
       ]
      },
      {
       "output_type": "stream",
       "stream": "stdout",
       "text": [
        "  ==>   0.000254    time:  12:55\n",
        "Data for C and P created, time:           ==>   0.001021    time:  12:55\n",
        "Work out boundary matrices, time:         ==>   0.001199    time:  12:55\n"
       ]
      },
      {
       "ename": "ValueError",
       "evalue": "dimension mismatch",
       "output_type": "pyerr",
       "traceback": [
        "\u001b[0;31m---------------------------------------------------------------------------\u001b[0m\n\u001b[0;31mValueError\u001b[0m                                Traceback (most recent call last)",
        "\u001b[0;32m<ipython-input-3-1aa93d4338a2>\u001b[0m in \u001b[0;36m<module>\u001b[0;34m()\u001b[0m\n\u001b[1;32m    180\u001b[0m     \u001b[0mMO\u001b[0m\u001b[0;34m.\u001b[0m\u001b[0mStrTimePrint\u001b[0m\u001b[0;34m(\u001b[0m\u001b[0;34m\"BC index function, time: \"\u001b[0m\u001b[0;34m,\u001b[0m \u001b[0mtime\u001b[0m\u001b[0;34m.\u001b[0m\u001b[0mtime\u001b[0m\u001b[0;34m(\u001b[0m\u001b[0;34m)\u001b[0m\u001b[0;34m-\u001b[0m\u001b[0mBCtime\u001b[0m\u001b[0;34m)\u001b[0m\u001b[0;34m\u001b[0m\u001b[0m\n\u001b[1;32m    181\u001b[0m     \u001b[0mHiptmairtol\u001b[0m \u001b[0;34m=\u001b[0m \u001b[0;36m1e-6\u001b[0m\u001b[0;34m\u001b[0m\u001b[0m\n\u001b[0;32m--> 182\u001b[0;31m     \u001b[0mHiptmairMatrices\u001b[0m \u001b[0;34m=\u001b[0m \u001b[0mPrecondSetup\u001b[0m\u001b[0;34m.\u001b[0m\u001b[0mMagneticSetup\u001b[0m\u001b[0;34m(\u001b[0m\u001b[0mMagnetic\u001b[0m\u001b[0;34m,\u001b[0m \u001b[0mLagrange\u001b[0m\u001b[0;34m,\u001b[0m \u001b[0mb0\u001b[0m\u001b[0;34m,\u001b[0m \u001b[0mr0\u001b[0m\u001b[0;34m,\u001b[0m \u001b[0mHiptmairtol\u001b[0m\u001b[0;34m,\u001b[0m \u001b[0mparams\u001b[0m\u001b[0;34m)\u001b[0m\u001b[0;34m\u001b[0m\u001b[0m\n\u001b[0m\u001b[1;32m    183\u001b[0m \u001b[0;34m\u001b[0m\u001b[0m\n\u001b[1;32m    184\u001b[0m \u001b[0;34m\u001b[0m\u001b[0m\n",
        "\u001b[0;32m/Users/michaelwathen/Dropbox/PHDResearch/MHD/FEniCS/MHD/Stabilised/SaddlePointForm/Test/SplitMatrix/ScottTest/Lshaped/MHDmatrixPrecondSetup.pyc\u001b[0m in \u001b[0;36mMagneticSetup\u001b[0;34m(Magnetic, Lagrange, u0, p0, CGtol, params)\u001b[0m\n\u001b[1;32m     79\u001b[0m     \u001b[0;32mif\u001b[0m \u001b[0mMagnetic\u001b[0m\u001b[0;34m.\u001b[0m\u001b[0m__str__\u001b[0m\u001b[0;34m(\u001b[0m\u001b[0;34m)\u001b[0m\u001b[0;34m.\u001b[0m\u001b[0mfind\u001b[0m\u001b[0;34m(\u001b[0m\u001b[0;34m\"N1curl2\"\u001b[0m\u001b[0;34m)\u001b[0m \u001b[0;34m==\u001b[0m \u001b[0;34m-\u001b[0m\u001b[0;36m1\u001b[0m\u001b[0;34m:\u001b[0m\u001b[0;34m\u001b[0m\u001b[0m\n\u001b[1;32m     80\u001b[0m         \u001b[0mC\u001b[0m\u001b[0;34m,\u001b[0m \u001b[0mP\u001b[0m \u001b[0;34m=\u001b[0m \u001b[0mHiptmairSetup\u001b[0m\u001b[0;34m.\u001b[0m\u001b[0mHiptmairMatrixSetupBoundary\u001b[0m\u001b[0;34m(\u001b[0m\u001b[0mMagnetic\u001b[0m\u001b[0;34m.\u001b[0m\u001b[0mmesh\u001b[0m\u001b[0;34m(\u001b[0m\u001b[0;34m)\u001b[0m\u001b[0;34m,\u001b[0m \u001b[0mMagnetic\u001b[0m\u001b[0;34m.\u001b[0m\u001b[0mdim\u001b[0m\u001b[0;34m(\u001b[0m\u001b[0;34m)\u001b[0m\u001b[0;34m,\u001b[0m \u001b[0mLagrange\u001b[0m\u001b[0;34m.\u001b[0m\u001b[0mdim\u001b[0m\u001b[0;34m(\u001b[0m\u001b[0;34m)\u001b[0m\u001b[0;34m,\u001b[0m\u001b[0mMagnetic\u001b[0m\u001b[0;34m.\u001b[0m\u001b[0mmesh\u001b[0m\u001b[0;34m(\u001b[0m\u001b[0;34m)\u001b[0m\u001b[0;34m.\u001b[0m\u001b[0mgeometry\u001b[0m\u001b[0;34m(\u001b[0m\u001b[0;34m)\u001b[0m\u001b[0;34m.\u001b[0m\u001b[0mdim\u001b[0m\u001b[0;34m(\u001b[0m\u001b[0;34m)\u001b[0m\u001b[0;34m)\u001b[0m\u001b[0;34m\u001b[0m\u001b[0m\n\u001b[0;32m---> 81\u001b[0;31m         \u001b[0mG\u001b[0m\u001b[0;34m,\u001b[0m \u001b[0mP\u001b[0m \u001b[0;34m=\u001b[0m \u001b[0mHiptmairSetup\u001b[0m\u001b[0;34m.\u001b[0m\u001b[0mHiptmairBCsetupBoundary\u001b[0m\u001b[0;34m(\u001b[0m\u001b[0mC\u001b[0m\u001b[0;34m,\u001b[0m\u001b[0mP\u001b[0m\u001b[0;34m,\u001b[0m\u001b[0mMagnetic\u001b[0m\u001b[0;34m.\u001b[0m\u001b[0mmesh\u001b[0m\u001b[0;34m(\u001b[0m\u001b[0;34m)\u001b[0m\u001b[0;34m)\u001b[0m\u001b[0;34m\u001b[0m\u001b[0m\n\u001b[0m\u001b[1;32m     82\u001b[0m     \u001b[0;32melse\u001b[0m\u001b[0;34m:\u001b[0m\u001b[0;34m\u001b[0m\u001b[0m\n\u001b[1;32m     83\u001b[0m         \u001b[0mG\u001b[0m \u001b[0;34m=\u001b[0m \u001b[0mNone\u001b[0m\u001b[0;34m\u001b[0m\u001b[0m\n",
        "\u001b[0;32m/Users/michaelwathen/Dropbox/PHDResearch/MHD/FEniCS/Classes/HiptmairSetup.pyc\u001b[0m in \u001b[0;36mHiptmairBCsetupBoundary\u001b[0;34m(***failed resolving arguments***)\u001b[0m\n\u001b[1;32m    128\u001b[0m     \u001b[0;32mdel\u001b[0m \u001b[0mmesh\u001b[0m\u001b[0;34m\u001b[0m\u001b[0m\n\u001b[1;32m    129\u001b[0m     \u001b[0mtic\u001b[0m\u001b[0;34m(\u001b[0m\u001b[0;34m)\u001b[0m\u001b[0;34m\u001b[0m\u001b[0m\n\u001b[0;32m--> 130\u001b[0;31m     \u001b[0mC\u001b[0m \u001b[0;34m=\u001b[0m \u001b[0mC\u001b[0m\u001b[0;34m*\u001b[0m\u001b[0mDiaglagrange\u001b[0m\u001b[0;34m\u001b[0m\u001b[0m\n\u001b[0m\u001b[1;32m    131\u001b[0m     \u001b[0mG\u001b[0m \u001b[0;34m=\u001b[0m \u001b[0mPETSc\u001b[0m\u001b[0;34m.\u001b[0m\u001b[0mMat\u001b[0m\u001b[0;34m(\u001b[0m\u001b[0;34m)\u001b[0m\u001b[0;34m.\u001b[0m\u001b[0mcreateAIJ\u001b[0m\u001b[0;34m(\u001b[0m\u001b[0msize\u001b[0m\u001b[0;34m=\u001b[0m\u001b[0mC\u001b[0m\u001b[0;34m.\u001b[0m\u001b[0mshape\u001b[0m\u001b[0;34m,\u001b[0m\u001b[0mcsr\u001b[0m\u001b[0;34m=\u001b[0m\u001b[0;34m(\u001b[0m\u001b[0mC\u001b[0m\u001b[0;34m.\u001b[0m\u001b[0mindptr\u001b[0m\u001b[0;34m,\u001b[0m \u001b[0mC\u001b[0m\u001b[0;34m.\u001b[0m\u001b[0mindices\u001b[0m\u001b[0;34m,\u001b[0m \u001b[0mC\u001b[0m\u001b[0;34m.\u001b[0m\u001b[0mdata\u001b[0m\u001b[0;34m)\u001b[0m\u001b[0;34m)\u001b[0m\u001b[0;34m\u001b[0m\u001b[0m\n\u001b[1;32m    132\u001b[0m     \u001b[0mend\u001b[0m \u001b[0;34m=\u001b[0m \u001b[0mtoc\u001b[0m\u001b[0;34m(\u001b[0m\u001b[0;34m)\u001b[0m\u001b[0;34m\u001b[0m\u001b[0m\n",
        "\u001b[0;32m/Users/michaelwathen/InstalledPackages/lib/python2.7/site-packages/scipy/sparse/base.pyc\u001b[0m in \u001b[0;36m__mul__\u001b[0;34m(self, other)\u001b[0m\n\u001b[1;32m    312\u001b[0m         \u001b[0;32mif\u001b[0m \u001b[0missparse\u001b[0m\u001b[0;34m(\u001b[0m\u001b[0mother\u001b[0m\u001b[0;34m)\u001b[0m\u001b[0;34m:\u001b[0m\u001b[0;34m\u001b[0m\u001b[0m\n\u001b[1;32m    313\u001b[0m             \u001b[0;32mif\u001b[0m \u001b[0mself\u001b[0m\u001b[0;34m.\u001b[0m\u001b[0mshape\u001b[0m\u001b[0;34m[\u001b[0m\u001b[0;36m1\u001b[0m\u001b[0;34m]\u001b[0m \u001b[0;34m!=\u001b[0m \u001b[0mother\u001b[0m\u001b[0;34m.\u001b[0m\u001b[0mshape\u001b[0m\u001b[0;34m[\u001b[0m\u001b[0;36m0\u001b[0m\u001b[0;34m]\u001b[0m\u001b[0;34m:\u001b[0m\u001b[0;34m\u001b[0m\u001b[0m\n\u001b[0;32m--> 314\u001b[0;31m                 \u001b[0;32mraise\u001b[0m \u001b[0mValueError\u001b[0m\u001b[0;34m(\u001b[0m\u001b[0;34m'dimension mismatch'\u001b[0m\u001b[0;34m)\u001b[0m\u001b[0;34m\u001b[0m\u001b[0m\n\u001b[0m\u001b[1;32m    315\u001b[0m             \u001b[0;32mreturn\u001b[0m \u001b[0mself\u001b[0m\u001b[0;34m.\u001b[0m\u001b[0m_mul_sparse_matrix\u001b[0m\u001b[0;34m(\u001b[0m\u001b[0mother\u001b[0m\u001b[0;34m)\u001b[0m\u001b[0;34m\u001b[0m\u001b[0m\n\u001b[1;32m    316\u001b[0m \u001b[0;34m\u001b[0m\u001b[0m\n",
        "\u001b[0;31mValueError\u001b[0m: dimension mismatch"
       ]
      }
     ],
     "prompt_number": 3
    },
    {
     "cell_type": "code",
     "collapsed": false,
     "input": [
      "u0 = Step2d(mesh)\n",
      "\n",
      "plot(interpolate(r0,Lagrange))\n",
      "plot(r_k)"
     ],
     "language": "python",
     "metadata": {},
     "outputs": [
      {
       "metadata": {},
       "output_type": "pyout",
       "prompt_number": 2,
       "text": [
        "<dolfin.cpp.io.VTKPlotter; proxy of <Swig Object of type 'std::shared_ptr< dolfin::VTKPlotter > *' at 0x10fe81a20> >"
       ]
      }
     ],
     "prompt_number": 2
    },
    {
     "cell_type": "code",
     "collapsed": false,
     "input": [],
     "language": "python",
     "metadata": {},
     "outputs": []
    },
    {
     "cell_type": "code",
     "collapsed": false,
     "input": [],
     "language": "python",
     "metadata": {},
     "outputs": []
    },
    {
     "cell_type": "code",
     "collapsed": false,
     "input": [],
     "language": "python",
     "metadata": {},
     "outputs": []
    },
    {
     "cell_type": "code",
     "collapsed": false,
     "input": [
      "interpolate(b0,Magnetic).vector().array() - b_k.vector().array() "
     ],
     "language": "python",
     "metadata": {},
     "outputs": [
      {
       "metadata": {},
       "output_type": "pyout",
       "prompt_number": 3,
       "text": [
        "array([ -1.57876781e-02,  -1.91331688e-02,   0.00000000e+00,\n",
        "        -2.27183190e-02,   0.00000000e+00,  -3.40853279e-02,\n",
        "        -3.73201761e-02,   0.00000000e+00,  -2.50359022e-02,\n",
        "        -5.89123967e-02,  -6.20001171e-02,   0.00000000e+00,\n",
        "        -3.13493295e-02,  -9.99969272e-02,  -1.02843360e-01,\n",
        "         0.00000000e+00,  -4.73216712e-02,  -5.95640756e-02,\n",
        "        -6.34737098e-02,  -4.03757583e-12,   3.30902491e-02,\n",
        "        -3.48665350e-02,  -3.88958004e-02,  -4.03757583e-12,\n",
        "         1.68947722e-02,  -1.63444211e-02,  -2.04791012e-02,\n",
        "        -4.03757583e-12,   1.04320924e-02,   0.00000000e+00,\n",
        "        -4.23290760e-03,  -4.03757583e-12,   8.03109335e-03,\n",
        "        -1.34668465e-02,  -3.96845708e-02,  -4.33956352e-02,\n",
        "         0.00000000e+00,  -2.77652488e-02,  -5.62286302e-02,\n",
        "        -4.64094321e-02,  -4.29142819e-02,  -7.76416558e-02,\n",
        "        -5.34830961e-02,  -5.52998687e-02,  -1.06030378e-01,\n",
        "        -6.67171154e-02,  -4.34245487e-02,  -1.41031022e-02,\n",
        "         3.75375623e-02,  -2.84244751e-02,  -1.54840065e-02,\n",
        "         2.41272043e-02,  -1.39524864e-02,  -7.59902489e-03,\n",
        "         1.68788623e-02,   0.00000000e+00,   3.85263542e-03,\n",
        "         1.37516166e-02,  -1.04463020e-02,  -5.74845839e-02,\n",
        "        -6.13022223e-02,   0.00000000e+00,  -2.06806117e-02,\n",
        "        -7.06894921e-02,  -6.40138121e-02,  -2.96592031e-02,\n",
        "        -8.67330373e-02,  -6.97974941e-02,  -3.45202511e-02,\n",
        "        -1.04884028e-01,  -7.89737750e-02,  -3.00216575e-02,\n",
        "         3.70982018e-03,   3.44375771e-02,  -2.11859715e-02,\n",
        "        -1.00058059e-03,   2.51440611e-02,  -1.08326915e-02,\n",
        "         1.99752532e-03,   1.92167861e-02,   0.00000000e+00,\n",
        "         9.61639144e-03,   1.64011961e-02,  -7.72794417e-03,\n",
        "        -7.27954392e-02,   4.82971661e-02,   0.00000000e+00,\n",
        "        -1.48874097e-02,  -8.26396743e-02,   4.62154337e-02,\n",
        "        -2.04696340e-02,  -9.40080214e-02,   4.20244416e-02,\n",
        "        -2.29174123e-02,  -1.05675050e-01,   3.59361205e-02,\n",
        "        -2.07266720e-02,   9.84103550e-03,   2.88714359e-02,\n",
        "        -1.52622584e-02,   5.92121052e-03,   2.27096974e-02,\n",
        "        -8.02196297e-03,   7.15324504e-03,   1.84173515e-02,\n",
        "         0.00000000e+00,   1.22914775e-02,   1.62564880e-02,\n",
        "        -5.64078073e-03,   3.87887327e-02,   3.48038437e-02,\n",
        "         0.00000000e+00,  -1.06893664e-02,   3.16768994e-02,\n",
        "         3.33589762e-02,  -1.43729748e-02,   2.37996062e-02,\n",
        "         3.05450355e-02,  -1.58451978e-02,   1.62111310e-02,\n",
        "         2.66402888e-02,  -1.45622875e-02,   1.03781852e-02,\n",
        "         2.22629973e-02,  -1.09708544e-02,   7.74750466e-03,\n",
        "         1.83171875e-02,  -5.86404450e-03,   8.50324356e-03,\n",
        "         1.54407902e-02,   0.00000000e+00,   1.21552179e-02,\n",
        "         1.39437481e-02,  -4.19204987e-03,   2.66575423e-02,\n",
        "         2.26027563e-02,   0.00000000e+00,  -7.87053056e-03,\n",
        "         2.15491471e-02,   2.17078421e-02,  -1.04627863e-02,\n",
        "         1.61438180e-02,   1.99957521e-02,  -1.14630344e-02,\n",
        "         1.12236135e-02,   1.76733335e-02,  -1.06139919e-02,\n",
        "         7.66466305e-03,   1.51085615e-02,  -8.09435047e-03,\n",
        "         6.19725072e-03,   1.27711485e-02,  -4.36869842e-03,\n",
        "         7.00365877e-03,   1.10289495e-02,   0.00000000e+00,\n",
        "         9.83700267e-03,   1.01055353e-02,  -3.29468590e-03,\n",
        "         1.52777183e-02,   1.11563529e-02,   0.00000000e+00,\n",
        "        -6.15523365e-03,   1.15367939e-02,   1.07298295e-02,\n",
        "        -8.13672919e-03,   7.84949894e-03,   9.92039405e-03,\n",
        "        -8.89425606e-03,   4.76626165e-03,   8.83184080e-03,\n",
        "        -8.27428419e-03,   2.80598540e-03,   7.63656235e-03,\n",
        "        -6.35157514e-03,   2.35989116e-03,   6.55346744e-03,\n",
        "        -3.44615920e-03,   3.48960422e-03,   5.73694375e-03,\n",
        "         0.00000000e+00,   5.98248252e-03,   5.29971201e-03,\n",
        "        -2.86690930e-03,   4.18853335e-03,  -4.03757583e-12,\n",
        "         0.00000000e+00,  -5.34397144e-03,   1.30122152e-03,\n",
        "        -4.03757583e-12,  -7.04629480e-03,  -1.19749856e-03,\n",
        "        -4.03757583e-12,  -7.69373258e-03,  -2.92232944e-03,\n",
        "        -4.03757583e-12,  -7.18910565e-03,  -3.60970589e-03,\n",
        "        -4.03757583e-12,  -5.53428423e-03,  -3.07351854e-03,\n",
        "        -4.03757583e-12,  -3.00921417e-03,  -1.39506609e-03,\n",
        "        -4.03757583e-12,   0.00000000e+00,   1.15163379e-03,\n",
        "        -4.03757583e-12])"
       ]
      }
     ],
     "prompt_number": 3
    }
   ],
   "metadata": {}
  }
 ]
}
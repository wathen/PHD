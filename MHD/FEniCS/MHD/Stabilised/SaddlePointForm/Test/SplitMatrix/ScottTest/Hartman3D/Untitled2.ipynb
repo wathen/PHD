{
 "metadata": {
  "name": "",
  "signature": "sha256:b4531f7f56a1ae7e6cd3dce89fc5ad2dc0d513a3240e0217a6283d6ed5bd4c4b"
 },
 "nbformat": 3,
 "nbformat_minor": 0,
 "worksheets": [
  {
   "cells": [
    {
     "cell_type": "code",
     "collapsed": false,
     "input": [
      "from dolfin import *\n",
      "y0 = 2.\n",
      "z0 = 1.\n",
      "L = 10.\n",
      "n = 2"
     ],
     "language": "python",
     "metadata": {},
     "outputs": [],
     "prompt_number": 3
    },
    {
     "cell_type": "code",
     "collapsed": false,
     "input": [
      "mesh = BoxMesh(0., -y0, -z0, L, y0, z0, 5*n, 2*n, n)\n",
      "plot(mesh, interactive=True)"
     ],
     "language": "python",
     "metadata": {},
     "outputs": [
      {
       "metadata": {},
       "output_type": "pyout",
       "prompt_number": 7,
       "text": [
        "<dolfin.cpp.io.VTKPlotter; proxy of <Swig Object of type 'std::shared_ptr< dolfin::VTKPlotter > *' at 0x1102d4510> >"
       ]
      }
     ],
     "prompt_number": 7
    }
   ],
   "metadata": {}
  }
 ]
}
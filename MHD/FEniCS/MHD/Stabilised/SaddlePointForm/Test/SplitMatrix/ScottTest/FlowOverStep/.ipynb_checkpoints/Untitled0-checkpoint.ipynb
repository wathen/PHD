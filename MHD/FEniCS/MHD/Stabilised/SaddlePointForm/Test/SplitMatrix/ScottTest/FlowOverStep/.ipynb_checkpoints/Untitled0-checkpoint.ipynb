{
 "metadata": {
  "name": "",
  "signature": "sha256:7d64065be2fd93b485bb03328790b3b62d4c4a37aa9fffce1dbe82ccaff6d6b3"
 },
 "nbformat": 3,
 "nbformat_minor": 0,
 "worksheets": [
  {
   "cells": [
    {
     "cell_type": "code",
     "collapsed": false,
     "input": [
      "from dolfin import *\n",
      "import numpy as np\n",
      "import mshr   \n",
      "n = 4\n",
      "mesh = RectangleMesh(-0.25,-0.125,0.75,0.125,n,n, 'left')\n",
      "cell_f = CellFunction('size_t', mesh, 0)\n",
      "for cell in cells(mesh):\n",
      "    v = cell.get_vertex_coordinates()\n",
      "    y = v[np.arange(0,6,2)]\n",
      "    x = v[np.arange(1,6,2)]\n",
      "    xone = np.ones(3)\n",
      "    xone[x < 0] = 0\n",
      "    yone = np.ones(3)\n",
      "    yone[y > 0] = 0\n",
      "    if np.sum(xone)+ np.sum(yone)>5.5:\n",
      "        cell_f[cell] = 1\n",
      "mesh = SubMesh(mesh, cell_f, 0)\n",
      "plot(mesh)"
     ],
     "language": "python",
     "metadata": {},
     "outputs": [
      {
       "metadata": {},
       "output_type": "pyout",
       "prompt_number": 7,
       "text": [
        "<dolfin.cpp.io.VTKPlotter; proxy of <Swig Object of type 'std::shared_ptr< dolfin::VTKPlotter > *' at 0x107d9a570> >"
       ]
      }
     ],
     "prompt_number": 7
    },
    {
     "cell_type": "code",
     "collapsed": false,
     "input": [],
     "language": "python",
     "metadata": {},
     "outputs": []
    },
    {
     "cell_type": "code",
     "collapsed": false,
     "input": [],
     "language": "python",
     "metadata": {},
     "outputs": []
    },
    {
     "cell_type": "code",
     "collapsed": false,
     "input": [],
     "language": "python",
     "metadata": {},
     "outputs": []
    },
    {
     "cell_type": "code",
     "collapsed": false,
     "input": [],
     "language": "python",
     "metadata": {},
     "outputs": []
    },
    {
     "cell_type": "code",
     "collapsed": false,
     "input": [
      "plot(boundaries)"
     ],
     "language": "python",
     "metadata": {},
     "outputs": [
      {
       "metadata": {},
       "output_type": "pyout",
       "prompt_number": 9,
       "text": [
        "<dolfin.cpp.io.VTKPlotter; proxy of <Swig Object of type 'std::shared_ptr< dolfin::VTKPlotter > *' at 0x117846960> >"
       ]
      }
     ],
     "prompt_number": 9
    }
   ],
   "metadata": {}
  }
 ]
}
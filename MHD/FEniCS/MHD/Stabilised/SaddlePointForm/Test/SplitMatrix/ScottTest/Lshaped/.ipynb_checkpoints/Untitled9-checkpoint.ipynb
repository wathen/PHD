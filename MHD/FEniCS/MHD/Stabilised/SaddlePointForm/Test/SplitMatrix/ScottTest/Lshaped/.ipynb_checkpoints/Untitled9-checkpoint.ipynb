{
 "metadata": {
  "name": "",
  "signature": "sha256:e2ab9b0ed5030691f20e89649e029c3d2d065f928bcb5ea2f67bca9efa13e8f1"
 },
 "nbformat": 3,
 "nbformat_minor": 0,
 "worksheets": [
  {
   "cells": [
    {
     "cell_type": "code",
     "collapsed": false,
     "input": [
      "#!/usr/bin/python\n",
      "\n",
      "# interpolate scalar gradient onto nedelec space\n",
      "\n",
      "import petsc4py\n",
      "import sys\n",
      "\n",
      "petsc4py.init(sys.argv)\n",
      "\n",
      "from petsc4py import PETSc\n",
      "from dolfin import *\n",
      "import mshr\n",
      "Print = PETSc.Sys.Print\n",
      "# from MatrixOperations import *\n",
      "import numpy as np\n",
      "import PETScIO as IO\n",
      "import common\n",
      "import scipy\n",
      "import scipy.io\n",
      "import time\n",
      "\n",
      "import BiLinear as forms\n",
      "import IterOperations as Iter\n",
      "import MatrixOperations as MO\n",
      "import CheckPetsc4py as CP\n",
      "import ExactSol\n",
      "import Solver as S\n",
      "import MHDmatrixPrecondSetup as PrecondSetup\n",
      "import NSprecondSetup\n",
      "import MHDprec as MHDpreconditioner\n",
      "import memory_profiler\n",
      "import gc\n",
      "import MHDmulti\n",
      "import MHDmatrixSetup as MHDsetup\n",
      "import Lshaped\n",
      "#@profile\n",
      "m = 2\n",
      "\n",
      "set_log_active(False)\n",
      "errL2u =np.zeros((m-1,1))\n",
      "errH1u =np.zeros((m-1,1))\n",
      "errL2p =np.zeros((m-1,1))\n",
      "errL2b =np.zeros((m-1,1))\n",
      "errCurlb =np.zeros((m-1,1))\n",
      "errL2r =np.zeros((m-1,1))\n",
      "errH1r =np.zeros((m-1,1))\n",
      "\n",
      "\n",
      "\n",
      "l2uorder =  np.zeros((m-1,1))\n",
      "H1uorder =np.zeros((m-1,1))\n",
      "l2porder =  np.zeros((m-1,1))\n",
      "l2border =  np.zeros((m-1,1))\n",
      "Curlborder =np.zeros((m-1,1))\n",
      "l2rorder =  np.zeros((m-1,1))\n",
      "H1rorder = np.zeros((m-1,1))\n",
      "\n",
      "NN = np.zeros((m-1,1))\n",
      "DoF = np.zeros((m-1,1))\n",
      "Velocitydim = np.zeros((m-1,1))\n",
      "Magneticdim = np.zeros((m-1,1))\n",
      "Pressuredim = np.zeros((m-1,1))\n",
      "Lagrangedim = np.zeros((m-1,1))\n",
      "Wdim = np.zeros((m-1,1))\n",
      "iterations = np.zeros((m-1,1))\n",
      "SolTime = np.zeros((m-1,1))\n",
      "udiv = np.zeros((m-1,1))\n",
      "MU = np.zeros((m-1,1))\n",
      "level = np.zeros((m-1,1))\n",
      "NSave = np.zeros((m-1,1))\n",
      "Mave = np.zeros((m-1,1))\n",
      "TotalTime = np.zeros((m-1,1))\n",
      "\n",
      "\n",
      "\n",
      "nn = 2\n",
      "\n",
      "dim = 2\n",
      "ShowResultPlots = 'yes'\n",
      "split = 'Linear'\n",
      "uu0, ub0, pu0, pb0, bu0, bb0, ru0, Laplacian, Advection, gradPres, CurlCurl, gradR, NS_Couple, M_Couple = Lshaped.SolutionSetUp()\n",
      "MU[0]= 1e0\n"
     ],
     "language": "python",
     "metadata": {},
     "outputs": [
      {
       "output_type": "stream",
       "stream": "stdout",
       "text": [
        "                                              10.691742897\n",
        "                                             "
       ]
      },
      {
       "output_type": "stream",
       "stream": "stdout",
       "text": [
        " 14.8022511005\n"
       ]
      }
     ],
     "prompt_number": 1
    },
    {
     "cell_type": "code",
     "collapsed": false,
     "input": [
      "for xx in xrange(1,m):\n",
      "    print xx\n",
      "    level[xx-1] = xx + 3\n",
      "    nn = 2**(level[xx-1])\n",
      "\n",
      "\n",
      "\n",
      "    # Create mesh and define function space\n",
      "    nn = int(nn)\n",
      "    NN[xx-1] = nn/2\n",
      "    parameters[\"form_compiler\"][\"quadrature_degree\"] = -1\n",
      "    # parameters = CP.ParameterSetup()\n",
      "    # mesh = UnitSquareMesh(nn,nn)\n",
      "    # domain = mshr.Rectangle(Point(0., 0.), Point(1., 2.)) + mshr.Rectangle(Point(1., 0.), Point(2., 1.))\n",
      "    # mesh = mshr.generate_mesh(domain, nn)\n",
      "    mesh, boundaries, domains = Lshaped.Domain(nn)\n",
      "    # set_log_level(WARNING)\n",
      "\n",
      "    order = 2\n",
      "    parameters['reorder_dofs_serial'] = False\n",
      "    Velocity = VectorFunctionSpace(mesh, \"CG\", order)\n",
      "    Pressure = FunctionSpace(mesh, \"CG\", order-1)\n",
      "    VecPressure = VectorFunctionSpace(mesh, \"CG\", order-1)\n",
      "    Magnetic = FunctionSpace(mesh, \"N1curl\", order-1)\n",
      "    Lagrange = FunctionSpace(mesh, \"CG\", order-1)\n",
      "    W = MixedFunctionSpace([Velocity, Pressure, Magnetic,Lagrange])\n",
      "    # W = Velocity*Pressure*Magnetic*Lagrange\n",
      "    Velocitydim[xx-1] = Velocity.dim()\n",
      "    Pressuredim[xx-1] = Pressure.dim()\n",
      "    Magneticdim[xx-1] = Magnetic.dim()\n",
      "    Lagrangedim[xx-1] = Lagrange.dim()\n",
      "    Wdim[xx-1] = W.dim()\n",
      "    print \"\\n\\nW:  \",Wdim[xx-1],\"Velocity:  \",Velocitydim[xx-1],\"Pressure:  \",Pressuredim[xx-1],\"Magnetic:  \",Magneticdim[xx-1],\"Lagrange:  \",Lagrangedim[xx-1],\"\\n\\n\"\n",
      "    dim = [Velocity.dim(), Pressure.dim(), Magnetic.dim(), Lagrange.dim()]\n",
      "\n",
      "\n",
      "    def boundary(x, on_boundary):\n",
      "        return on_boundary\n",
      "\n",
      "\n",
      "    FSpaces = [Velocity,Pressure,Magnetic,Lagrange]\n",
      "\n",
      "    kappa = 1.0\n",
      "    Mu_m =10.0\n",
      "    MU = 1.0\n",
      "\n",
      "    N = FacetNormal(mesh)\n",
      "    ds = Measure('ds', domain=mesh, subdomain_data=boundaries)\n",
      "\n",
      "    # g = inner(p0*N - MU*grad(u0)*N,v)*dx\n",
      "\n",
      "    IterType = 'Full'\n",
      "    Split = \"No\"\n",
      "    Saddle = \"No\"\n",
      "    Stokes = \"No\"\n",
      "    SetupType = 'python-class'\n",
      "    # F_NS = -MU*Laplacian+Advection+gradPres-kappa*NS_Couple\n",
      "    # if kappa == 0:\n",
      "    #     F_M = Mu_m*CurlCurl+gradR -kappa*M_Couple\n",
      "    # else:\n",
      "    #     F_M = Mu_m*kappa*CurlCurl+gradR -kappa*M_Couple\n",
      "    params = [kappa,Mu_m,MU]\n",
      "    u0, p0, b0, r0, F_NS, F_M, F_MX, F_S, gradu0, Neumann, p0vec, bNone = Lshaped.SolutionMeshSetup(mesh, params, uu0, ub0, pu0, pb0, bu0, bb0, ru0, Laplacian, Advection, gradPres, CurlCurl, gradR, NS_Couple, M_Couple)\n",
      "    F_M = Expression((\"0.0\",\"0.0\"))\n",
      "    F_S = Expression((\"0.0\",\"0.0\"))\n",
      "    n = FacetNormal(mesh)"
     ],
     "language": "python",
     "metadata": {},
     "outputs": [
      {
       "output_type": "stream",
       "stream": "stderr",
       "text": [
        "DEBUG:FFC:Reusing form from cache.\n"
       ]
      },
      {
       "output_type": "stream",
       "stream": "stderr",
       "text": [
        "DEBUG:FFC:Reusing form from cache.\n"
       ]
      },
      {
       "output_type": "stream",
       "stream": "stderr",
       "text": [
        "DEBUG:FFC:Reusing form from cache.\n"
       ]
      },
      {
       "output_type": "stream",
       "stream": "stderr",
       "text": [
        "DEBUG:FFC:Reusing form from cache.\n"
       ]
      },
      {
       "output_type": "stream",
       "stream": "stderr",
       "text": [
        "DEBUG:FFC:Reusing form from cache.\n"
       ]
      },
      {
       "output_type": "stream",
       "stream": "stderr",
       "text": [
        "DEBUG:FFC:Reusing form from cache.\n"
       ]
      },
      {
       "output_type": "stream",
       "stream": "stdout",
       "text": [
        "1\n",
        "\n",
        "\n",
        "W:  "
       ]
      },
      {
       "output_type": "stream",
       "stream": "stdout",
       "text": [
        " [ 2724.] Velocity:   [ 1666.] Pressure:   [ 225.] Magnetic:   [ 608.] Lagrange:   [ 225.] \n",
        "\n",
        "\n"
       ]
      }
     ],
     "prompt_number": 10
    },
    {
     "cell_type": "code",
     "collapsed": false,
     "input": [],
     "language": "python",
     "metadata": {},
     "outputs": []
    },
    {
     "cell_type": "code",
     "collapsed": false,
     "input": [],
     "language": "python",
     "metadata": {},
     "outputs": []
    },
    {
     "cell_type": "code",
     "collapsed": false,
     "input": [],
     "language": "python",
     "metadata": {},
     "outputs": []
    },
    {
     "cell_type": "code",
     "collapsed": false,
     "input": [
      "p = plot(interpolate(p0,Pressure),prefix='pressure',elevate=--10.)\n",
      "\n",
      "# p.set_viewangle((30.,40.))\n",
      "# p.write_png()"
     ],
     "language": "python",
     "metadata": {},
     "outputs": [],
     "prompt_number": 11
    },
    {
     "cell_type": "code",
     "collapsed": false,
     "input": [],
     "language": "python",
     "metadata": {},
     "outputs": []
    },
    {
     "cell_type": "code",
     "collapsed": false,
     "input": [],
     "language": "python",
     "metadata": {},
     "outputs": []
    },
    {
     "cell_type": "code",
     "collapsed": false,
     "input": [],
     "language": "python",
     "metadata": {},
     "outputs": []
    },
    {
     "cell_type": "code",
     "collapsed": false,
     "input": [
      "p = plot(interpolate(p0,Pressure),prefix='pressure',interactive=True)\n"
     ],
     "language": "python",
     "metadata": {},
     "outputs": [],
     "prompt_number": 4
    },
    {
     "cell_type": "code",
     "collapsed": false,
     "input": [],
     "language": "python",
     "metadata": {},
     "outputs": []
    },
    {
     "cell_type": "code",
     "collapsed": false,
     "input": [],
     "language": "python",
     "metadata": {},
     "outputs": []
    }
   ],
   "metadata": {}
  }
 ]
}
{
 "metadata": {
  "name": "",
  "signature": "sha256:7480b9885c358f788a101692f392718c2b9f1742adebd269d636e804c88e927e"
 },
 "nbformat": 3,
 "nbformat_minor": 0,
 "worksheets": [
  {
   "cells": [
    {
     "cell_type": "code",
     "collapsed": false,
     "input": [
      "#!/usr/bin/python\n",
      "\n",
      "# interpolate scalar gradient onto nedelec space\n",
      "\n",
      "import petsc4py\n",
      "import sys\n",
      "\n",
      "petsc4py.init(sys.argv)\n",
      "\n",
      "from petsc4py import PETSc\n",
      "from dolfin import *\n",
      "Print = PETSc.Sys.Print\n",
      "# from MatrixOperations import *\n",
      "import numpy as np\n",
      "import PETScIO as IO\n",
      "import common\n",
      "import scipy\n",
      "import scipy.io\n",
      "import time\n",
      "\n",
      "import BiLinear as forms\n",
      "import IterOperations as Iter\n",
      "import MatrixOperations as MO\n",
      "import CheckPetsc4py as CP\n",
      "import ExactSol\n",
      "import Solver as S\n",
      "import MHDmatrixPrecondSetup as PrecondSetup\n",
      "import NSprecondSetup\n",
      "import MHDprec as MHDpreconditioner\n",
      "import memory_profiler\n",
      "import gc\n",
      "import MHDmulti\n",
      "import MHDmatrixSetup as MHDsetup\n",
      "from scipy.sparse import coo_matrix, csr_matrix, spdiags, bmat, linalg\n",
      "\n",
      "#@profile\n",
      "m = 2\n",
      "\n",
      "\n",
      "errL2u =np.zeros((m-1,1))\n",
      "errH1u =np.zeros((m-1,1))\n",
      "errL2p =np.zeros((m-1,1))\n",
      "errL2b =np.zeros((m-1,1))\n",
      "errCurlb =np.zeros((m-1,1))\n",
      "errL2r =np.zeros((m-1,1))\n",
      "errH1r =np.zeros((m-1,1))\n",
      "\n",
      "\n",
      "\n",
      "l2uorder =  np.zeros((m-1,1))\n",
      "H1uorder =np.zeros((m-1,1))\n",
      "l2porder =  np.zeros((m-1,1))\n",
      "l2border =  np.zeros((m-1,1))\n",
      "Curlborder =np.zeros((m-1,1))\n",
      "l2rorder =  np.zeros((m-1,1))\n",
      "H1rorder = np.zeros((m-1,1))\n",
      "\n",
      "NN = np.zeros((m-1,1))\n",
      "DoF = np.zeros((m-1,1))\n",
      "Velocitydim = np.zeros((m-1,1))\n",
      "Magneticdim = np.zeros((m-1,1))\n",
      "Pressuredim = np.zeros((m-1,1))\n",
      "Lagrangedim = np.zeros((m-1,1))\n",
      "Wdim = np.zeros((m-1,1))\n",
      "iterations = np.zeros((m-1,1))\n",
      "SolTime = np.zeros((m-1,1))\n",
      "udiv = np.zeros((m-1,1))\n",
      "MU = np.zeros((m-1,1))\n",
      "level = np.zeros((m-1,1))\n",
      "NSave = np.zeros((m-1,1))\n",
      "Mave = np.zeros((m-1,1))\n",
      "TotalTime = np.zeros((m-1,1))\n",
      "\n",
      "nn = 2\n",
      "\n",
      "dim = 2\n",
      "ShowResultPlots = 'yes'\n",
      "split = 'Linear'\n",
      "parameters[\"form_compiler\"][\"no-evaluate_basis_derivatives\"] = False\n",
      "\n",
      "MU[0]= 1e0\n",
      "for xx in xrange(1,m):\n",
      "    print xx\n",
      "    level[xx-1] = xx + 2\n",
      "    nn = 2**(level[xx-1])\n",
      "\n",
      "\n",
      "\n",
      "    # Create mesh and define function space\n",
      "    nn = int(nn)\n",
      "    NN[xx-1] = nn/2\n",
      "    # parameters[\"form_compiler\"][\"quadrature_degree\"] = 6\n",
      "    # parameters = CP.ParameterSetup()\n",
      "    # mesh = UnitSquareMesh(nn,nn)\n",
      "    mesh = RectangleMesh(0,0,2*np.pi,2*np.pi,nn,nn)\n",
      "    order = 1\n",
      "    parameters['reorder_dofs_serial'] = False\n",
      "    Velocity = VectorFunctionSpace(mesh, \"CG\", order)\n",
      "    Pressure = FunctionSpace(mesh, \"CG\", order)\n",
      "    Magnetic = FunctionSpace(mesh, \"N1curl\", order)\n",
      "    Lagrange = FunctionSpace(mesh, \"CG\", order)\n",
      "    W = MixedFunctionSpace([Velocity, Pressure, Magnetic,Lagrange])\n",
      "    # W = Velocity*Pressure*Magnetic*Lagrange\n",
      "    Velocitydim[xx-1] = Velocity.dim()\n",
      "    Pressuredim[xx-1] = Pressure.dim()\n",
      "    Magneticdim[xx-1] = Magnetic.dim()\n",
      "    Lagrangedim[xx-1] = Lagrange.dim()\n",
      "    Wdim[xx-1] = W.dim()\n",
      "    print \"\\n\\nW:  \",Wdim[xx-1],\"Velocity:  \",Velocitydim[xx-1],\"Pressure:  \",Pressuredim[xx-1],\"Magnetic:  \",Magneticdim[xx-1],\"Lagrange:  \",Lagrangedim[xx-1],\"\\n\\n\"\n",
      "    dim = [Velocity.dim(), Pressure.dim(), Magnetic.dim(), Lagrange.dim()]\n",
      "\n",
      "\n",
      "    def boundary(x, on_boundary):\n",
      "        return on_boundary\n",
      "\n",
      "    u0, p0,b0, r0, Laplacian, Advection, gradPres,CurlCurl, gradR, NS_Couple, M_Couple = ExactSol.MHD2D(4,1)\n",
      "\n",
      "\n",
      "    bcu = DirichletBC(Velocity,u0, boundary)\n",
      "    bcb = DirichletBC(Magnetic,Expression(('0','0')), boundary)\n",
      "    bcr = DirichletBC(Lagrange,Expression(('0')), boundary)\n",
      "\n",
      "    # bc = [u0,p0,b0,r0]\n",
      "    bcs = [bcu,bcb,bcr]\n",
      "    FSpaces = [Velocity,Pressure,Magnetic,Lagrange]\n",
      "\n",
      "\n",
      "    (u, b, p, r) = TrialFunctions(W)\n",
      "    (v, c, q, s) = TestFunctions(W)\n",
      "    kappa = 10.0\n",
      "    Mu_m =10.0\n",
      "    MU = 1.0/1\n",
      "    IterType = 'Full'\n",
      "    Split = \"No\"\n",
      "    Saddle = \"No\"\n",
      "    Stokes = \"No\"\n",
      "    SetupType = 'python-class'\n",
      "    F_NS = -MU*Laplacian+Advection+gradPres-kappa*NS_Couple\n",
      "    if kappa == 0:\n",
      "        F_M = Mu_m*CurlCurl+gradR -kappa*M_Couple\n",
      "    else:\n",
      "        F_M = Mu_m*kappa*CurlCurl+gradR -kappa*M_Couple\n",
      "    params = [kappa,Mu_m,MU]\n",
      "\n",
      "    MO.PrintStr(\"Seting up initial guess matricies\",2,\"=\",\"\\n\\n\",\"\\n\")\n",
      "    BCtime = time.time()\n",
      "    BC = MHDsetup.BoundaryIndices(mesh)\n",
      "    MO.StrTimePrint(\"BC index function, time: \", time.time()-BCtime)\n",
      "    Hiptmairtol = 1e-5\n",
      "    HiptmairMatrices = PrecondSetup.MagneticSetup(Magnetic, Lagrange, b0, r0, Hiptmairtol, params)\n",
      "    print HiptmairMatrices\n",
      "    C = HiptmairMatrices[0]\n",
      "    Px = CP.PETSc2Scipy(HiptmairMatrices[1][0])\n",
      "    Py = CP.PETSc2Scipy(HiptmairMatrices[1][1])\n",
      "\n",
      "\n",
      "    VecV = VectorFunctionSpace(mesh,\"CG\",1)\n",
      "\n",
      "\n",
      "\n",
      "interactive()\n"
     ],
     "language": "python",
     "metadata": {},
     "outputs": [
      {
       "output_type": "stream",
       "stream": "stderr",
       "text": [
        "DEBUG:FFC:Reusing form from cache.\n"
       ]
      },
      {
       "output_type": "stream",
       "stream": "stderr",
       "text": [
        "DEBUG:FFC:Reusing form from cache.\n"
       ]
      },
      {
       "output_type": "stream",
       "stream": "stderr",
       "text": [
        "DEBUG:FFC:Reusing form from cache.\n"
       ]
      },
      {
       "output_type": "stream",
       "stream": "stderr",
       "text": [
        "DEBUG:FFC:Reusing form from cache.\n"
       ]
      },
      {
       "output_type": "stream",
       "stream": "stderr",
       "text": [
        "DEBUG:FFC:Reusing form from cache.\n"
       ]
      },
      {
       "output_type": "stream",
       "stream": "stdout",
       "text": [
        "1\n",
        "\n",
        "\n",
        "W:  "
       ]
      },
      {
       "output_type": "stream",
       "stream": "stdout",
       "text": [
        " [ 532.] Velocity:   [ 162.] Pressure:   [ 81.] Magnetic:   [ 208.] Lagrange:   [ 81.] \n",
        "\n",
        "\n",
        "\n",
        "   >>>>>>>>>>>>>>>>>>>>>>>>>>\n",
        "     MHD 2D Exact Solution:\n",
        "   >>>>>>>>>>>>>>>>>>>>>>>>>>\n",
        "\n",
        " ----------------------\n",
        "   NS Exact Solution:\n",
        " ----------------------\n",
        "  u = ("
       ]
      },
      {
       "output_type": "stream",
       "stream": "stdout",
       "text": [
        " x*y*exp(x + y) + x*exp(x + y) , -x*y*exp(x + y) - y*exp(x + y) )\n",
        "\n",
        "  p = ( exp(y)*sin(x) )\n",
        "\n",
        " ---------------------------\n",
        "   Maxwell Exact Solution:\n",
        " ---------------------------\n",
        "  b = ("
       ]
      },
      {
       "output_type": "stream",
       "stream": "stdout",
       "text": [
        " exp(x + y)*cos(x) , exp(x + y)*sin(x) - exp(x + y)*cos(x) )\n",
        "\n",
        "  p = ( x*sin(2*pi*x)*sin(2*pi*y) )\n",
        "\n",
        "\n",
        "\n",
        "====================================="
       ]
      },
      {
       "output_type": "stream",
       "stream": "stderr",
       "text": [
        "DEBUG:FFC:Reusing form from cache.\n"
       ]
      },
      {
       "output_type": "stream",
       "stream": "stderr",
       "text": [
        "DEBUG:FFC:Reusing form from cache.\n"
       ]
      },
      {
       "output_type": "stream",
       "stream": "stderr",
       "text": [
        "DEBUG:FFC:Reusing form from cache.\n"
       ]
      },
      {
       "output_type": "stream",
       "stream": "stderr",
       "text": [
        "DEBUG:FFC:Reusing form from cache.\n"
       ]
      },
      {
       "output_type": "stream",
       "stream": "stdout",
       "text": [
        "\n",
        "  Seting up initial guess matricies\n",
        "=====================================\n",
        "\n",
        "BC index function, time:                  ==>   0.001714    time:  11:36\n",
        " ==================================\n",
        "   Preconditioning Magnetic setup\n",
        " ==================================\n",
        "Compute edge boundary indices, time:      ==>   0.000096    time:  11:36\n",
        "Data for C and P created, time:           ==>   0.000077    time:  11:36\n",
        "Work out boundary matrices, time:         ==>   0.000105    time:  11:36\n",
        "BC applied to gradient, time:             ==>   0.005697    time:  11:36\n",
        "BC applied to Prolongation, time:         ==>   0.000711    time:  11:36\n",
        "Hiptmair Laplacians BC assembled, time: "
       ]
      },
      {
       "output_type": "stream",
       "stream": "stderr",
       "text": [
        "DEBUG:FFC:Reusing form from cache.\n"
       ]
      },
      {
       "output_type": "stream",
       "stream": "stderr",
       "text": [
        "DEBUG:FFC:Reusing form from cache.\n"
       ]
      },
      {
       "output_type": "stream",
       "stream": "stderr",
       "text": [
        "DEBUG:FFC:Reusing form from cache.\n"
       ]
      },
      {
       "output_type": "stream",
       "stream": "stdout",
       "text": [
        "  ==>   0.028634    time:  11:36\n",
        "PETSc Laplacians assembled, time:         ==>   0.001023    time:  11:36\n",
        "Shifted Curl-Curl assembled, time:        ==>   0.018156    time:  11:36\n",
        "Hiptmair Setup time:                      ==>   0.008060    time:  11:36\n",
        "[<petsc4py.PETSc.Mat object at 0x10d4dbf50>, [<petsc4py.PETSc.Mat object at 0x10d4dbef0>, <petsc4py.PETSc.Mat object at 0x10d565770>], <petsc4py.PETSc.KSP object at 0x10d565a10>, <petsc4py.PETSc.KSP object at 0x10d565710>, <petsc4py.PETSc.KSP object at 0x10d6377d0>, <petsc4py.PETSc.Vec object at 0x10d637bf0>, <petsc4py.PETSc.Mat object at 0x10d565830>]\n"
       ]
      }
     ],
     "prompt_number": 1
    },
    {
     "cell_type": "code",
     "collapsed": false,
     "input": [
      "f = Expression('sin(x[0])')\n",
      "F = interpolate(f,Lagrange)\n",
      "F = IO.arrayToVec(F.vector().array())\n",
      "f = C.getVecLeft()\n",
      "C.mult(F,f)\n",
      "\n"
     ],
     "language": "python",
     "metadata": {},
     "outputs": [],
     "prompt_number": 3
    },
    {
     "cell_type": "code",
     "collapsed": false,
     "input": [
      "def HiptmairAnyOrder(Magnetic,Lagrange):\n",
      "    mesh = Magnetic.mesh()\n",
      "    VecLagrange = VectorFunctionSpace(mesh, \"CG\", Magnetic.__dict__['_FunctionSpace___degree'])\n",
      "\n",
      "    def boundary(x, on_boundary):\n",
      "        return on_boundary\n",
      "\n",
      "    dim = mesh.geometry().dim()\n",
      "    u0 = []\n",
      "    for i in range(dim):\n",
      "        u0.append('0.0')\n",
      "    u0 = Expression(u0)\n",
      "    VecBC = DirichletBC(VecLagrange, u0, boundary)\n",
      "    BCb = DirichletBC(Magnetic, u0, boundary)\n",
      "    BCr = DirichletBC(Lagrange, Expression(('0.0')), boundary)\n",
      "\n",
      "    p = TestFunction(Lagrange)\n",
      "    q = TrialFunction(Lagrange)\n",
      "    u = TestFunction(Magnetic)\n",
      "    v = TrialFunction(Magnetic)\n",
      "    Vu = TestFunction(VecLagrange)\n",
      "    Vv = TrialFunction(VecLagrange)\n",
      "\n",
      "    M = assemble(inner(u,v)*dx)\n",
      "    BCb.apply(M)\n",
      "    B = assemble(inner(u,grad(q))*dx)\n",
      "    L = assemble(inner(grad(Vu),grad(Vv))*dx + inner(Vu,Vv)*dx)\n",
      "    l = assemble(inner(grad(p),grad(q))*dx)\n",
      "    VecBC.apply(L)\n",
      "    BCr.apply(l)\n",
      "    L = CP.Scipy2PETSc(L.sparray())\n",
      "    B = CP.Scipy2PETSc(B.sparray())\n",
      "    M = CP.Scipy2PETSc(M.sparray())\n",
      "    l = CP.Scipy2PETSc(l.sparray())\n",
      "\n",
      "    ksp = PETSc.KSP()\n",
      "    ksp.create(comm=PETSc.COMM_WORLD)\n",
      "    pc = ksp.getPC()\n",
      "    ksp.setType('cg')\n",
      "    pc.setType('bjacobi')\n",
      "    ksp.setOperators(M,M)\n",
      "    ksp.setTolerances(1e-8)\n",
      "    \n",
      "    return VecLagrange, ksp, L, l, B, [VecBC, BCb, BCr]"
     ],
     "language": "python",
     "metadata": {},
     "outputs": [],
     "prompt_number": 4
    },
    {
     "cell_type": "code",
     "collapsed": false,
     "input": [
      "VecLagrange, ksp, L, l, B, [VecBC, BCb, BCr] = HiptmairAnyOrder(Magnetic,Lagrange)\n"
     ],
     "language": "python",
     "metadata": {},
     "outputs": [
      {
       "output_type": "stream",
       "stream": "stderr",
       "text": [
        "DEBUG:FFC:Reusing form from cache.\n"
       ]
      },
      {
       "output_type": "stream",
       "stream": "stderr",
       "text": [
        "DEBUG:FFC:Reusing form from cache.\n"
       ]
      },
      {
       "output_type": "stream",
       "stream": "stderr",
       "text": [
        "DEBUG:FFC:Reusing form from cache.\n"
       ]
      },
      {
       "output_type": "stream",
       "stream": "stderr",
       "text": [
        "DEBUG:FFC:Reusing form from cache.\n"
       ]
      },
      {
       "output_type": "stream",
       "stream": "stderr",
       "text": [
        "DEBUG:FFC:Reusing form from cache.\n"
       ]
      }
     ],
     "prompt_number": 5
    },
    {
     "cell_type": "code",
     "collapsed": false,
     "input": [],
     "language": "python",
     "metadata": {},
     "outputs": []
    },
    {
     "cell_type": "code",
     "collapsed": false,
     "input": [
      "ksp.Type.CHEBYSHEV"
     ],
     "language": "python",
     "metadata": {},
     "outputs": [
      {
       "metadata": {},
       "output_type": "pyout",
       "prompt_number": 6,
       "text": [
        "'chebyshev'"
       ]
      }
     ],
     "prompt_number": 6
    },
    {
     "cell_type": "code",
     "collapsed": false,
     "input": [],
     "language": "python",
     "metadata": {},
     "outputs": []
    },
    {
     "cell_type": "code",
     "collapsed": false,
     "input": [
      "u = TrialFunction(Magnetic)\n",
      "v = TestFunction(Magnetic)\n",
      "p = TrialFunction(Lagrange)\n",
      "q = TestFunction(Lagrange)\n",
      "M = assemble(inner(u,v)*dx).sparray()\n",
      "B = CP.Scipy2PETSc(assemble(inner(u,grad(q))*dx).sparray())\n",
      "B.createVecLeft().size"
     ],
     "language": "python",
     "metadata": {},
     "outputs": [
      {
       "output_type": "stream",
       "stream": "stderr",
       "text": [
        "DEBUG:FFC:Reusing form from cache.\n"
       ]
      },
      {
       "output_type": "stream",
       "stream": "stderr",
       "text": [
        "DEBUG:FFC:Reusing form from cache.\n"
       ]
      },
      {
       "metadata": {},
       "output_type": "pyout",
       "prompt_number": 7,
       "text": [
        "81"
       ]
      }
     ],
     "prompt_number": 7
    },
    {
     "cell_type": "code",
     "collapsed": false,
     "input": [],
     "language": "python",
     "metadata": {},
     "outputs": []
    },
    {
     "cell_type": "code",
     "collapsed": false,
     "input": [
      "mesh.hmin()"
     ],
     "language": "python",
     "metadata": {},
     "outputs": [
      {
       "metadata": {},
       "output_type": "pyout",
       "prompt_number": 8,
       "text": [
        "1.1107207345395849"
       ]
      }
     ],
     "prompt_number": 8
    },
    {
     "cell_type": "code",
     "collapsed": false,
     "input": [],
     "language": "python",
     "metadata": {},
     "outputs": []
    },
    {
     "cell_type": "code",
     "collapsed": false,
     "input": [
      "u = TrialFunction(Magnetic)\n",
      "v = TestFunction(Magnetic)\n",
      "f = Expression('sin(x[0])')\n",
      "F = interpolate(f,Lagrange)\n",
      "# f = np.zeros(Lagrange.dim())\n",
      "# f = np.zeros((Lagrange.dim(),1))[:,0]\n",
      "# f[0] = 1.0\n",
      "# F = Function(Lagrange)\n",
      "# F.vector()[:] = f\n",
      "u = Function(Magnetic)\n",
      "bcr.apply(F.vector())\n",
      "projection = project(grad(F),Magnetic, solver_type = \"lu\")\n",
      "print projection\n",
      "u = bcb.apply(projection.vector())\n",
      "print projection.vector().array()\n",
      "print C*F.vector().array()\n",
      "print \"\\n\\n\\n\"\n",
      "print (C*F.vector().array() - projection.vector().array())<1e-6\n",
      "print np.max(abs(projection.vector().array()-C*F.vector().array()))\n",
      "\n",
      "\n",
      "VecV = VectorFunctionSpace(mesh,\"CG\",1)\n",
      "f = Expression(('(x[0])','(x[1])'))\n",
      "Fmag = interpolate(f,Magnetic)\n",
      "print F.vector().array().shape\n",
      "bcrVec = DirichletBC(VecV,Expression(('0','0')), boundary)\n",
      "bcb.apply(Fmag.vector())\n",
      "print \"\\n\"\n",
      "projection =  B*linalg.inv(M)*Fmag.vector().array()\n",
      "print \"\\n\"\n",
      "P = Function(Lagrange)\n",
      "P.vector()[:] = projection\n",
      "bcr.apply(P.vector())\n",
      "print P.vector().array()\n",
      "print C.T*Fmag.vector().array()\n",
      "print \"\\n\\n\\n\"\n",
      "print abs(C.T*Fmag.vector().array() - P.vector().array())\n",
      "print np.max(abs(P.vector().array()-C.T*Fmag.vector().array()))#,"
     ],
     "language": "python",
     "metadata": {},
     "outputs": [
      {
       "output_type": "stream",
       "stream": "stderr",
       "text": [
        "DEBUG:FFC:Reusing form from cache.\n"
       ]
      },
      {
       "output_type": "stream",
       "stream": "stderr",
       "text": [
        "DEBUG:FFC:Reusing form from cache.\n"
       ]
      },
      {
       "output_type": "stream",
       "stream": "stdout",
       "text": [
        "f_112\n",
        "[  7.07106781e-01   7.07106781e-01   0.00000000e+00   7.07106781e-01\n",
        "   0.00000000e+00   1.00000000e+00   1.00000000e+00   0.00000000e+00\n",
        "   2.92893219e-01   7.07106781e-01   7.07106781e-01   0.00000000e+00\n",
        "  -2.92893219e-01  -1.27675648e-15  -2.33450868e-15   0.00000000e+00\n",
        "  -7.07106781e-01  -7.07106781e-01  -7.07106781e-01   0.00000000e+00\n",
        "  -7.07106781e-01  -1.00000000e+00  -1.00000000e+00   0.00000000e+00\n",
        "  -2.92893219e-01  -7.07106781e-01  -7.07106781e-01   0.00000000e+00\n",
        "   2.92893219e-01   0.00000000e+00   2.43493897e-15   0.00000000e+00\n",
        "   7.07106781e-01   5.93969318e-15   7.07106781e-01   7.07106781e-01\n",
        "   0.00000000e+00   4.58834359e-15   2.92893219e-01   2.92893219e-01\n",
        "   6.24500451e-16  -2.92893219e-01  -2.92893219e-01  -3.48419210e-15\n",
        "  -7.07106781e-01  -7.07106781e-01  -5.80091530e-15  -7.07106781e-01\n",
        "  -7.07106781e-01  -4.55682478e-15  -2.92893219e-01  -2.92893219e-01\n",
        "  -6.59897698e-16   2.92893219e-01   2.92893219e-01   0.00000000e+00\n",
        "   7.07106781e-01   7.07106781e-01   5.93969318e-15   7.07106781e-01\n",
        "   7.07106781e-01   0.00000000e+00   3.89965837e-15   2.92893219e-01\n",
        "   2.92893219e-01  -3.87999817e-16  -2.92893219e-01  -2.92893219e-01\n",
        "  -4.43048376e-15  -7.07106781e-01  -7.07106781e-01  -5.89441690e-15\n",
        "  -7.07106781e-01  -7.07106781e-01  -3.87007262e-15  -2.92893219e-01\n",
        "  -2.92893219e-01   4.73367798e-16   2.92893219e-01   2.92893219e-01\n",
        "   0.00000000e+00   7.07106781e-01   7.07106781e-01   5.91452141e-15\n",
        "   7.07106781e-01   7.07106781e-01   0.00000000e+00   3.92394450e-15\n",
        "   2.92893219e-01   2.92893219e-01  -5.13478149e-16  -2.92893219e-01\n",
        "  -2.92893219e-01  -4.44685126e-15  -7.07106781e-01  -7.07106781e-01\n",
        "  -5.96744876e-15  -7.07106781e-01  -7.07106781e-01  -3.88231114e-15\n",
        "  -2.92893219e-01  -2.92893219e-01   4.85722573e-16   2.92893219e-01\n",
        "   2.92893219e-01   0.00000000e+00   7.07106781e-01   7.07106781e-01\n",
        "   5.94434037e-15   7.07106781e-01   7.07106781e-01   0.00000000e+00\n",
        "   3.89965837e-15   2.92893219e-01   2.92893219e-01  -4.87804241e-16\n",
        "  -2.92893219e-01  -2.92893219e-01  -4.48215565e-15  -7.07106781e-01\n",
        "  -7.07106781e-01  -5.97247196e-15  -7.07106781e-01  -7.07106781e-01\n",
        "  -3.89965837e-15  -2.92893219e-01  -2.92893219e-01   5.27355937e-16\n",
        "   2.92893219e-01   2.92893219e-01   0.00000000e+00   7.07106781e-01\n",
        "   7.07106781e-01   5.89449162e-15   7.07106781e-01   7.07106781e-01\n",
        "   0.00000000e+00   3.91353616e-15   2.92893219e-01   2.92893219e-01\n",
        "  -4.57966998e-16  -2.92893219e-01  -2.92893219e-01  -4.46864767e-15\n",
        "  -7.07106781e-01  -7.07106781e-01  -5.96744876e-15  -7.07106781e-01\n",
        "  -7.07106781e-01  -3.89965837e-15  -2.92893219e-01  -2.92893219e-01\n",
        "   4.85722573e-16   2.92893219e-01   2.92893219e-01   0.00000000e+00\n",
        "   7.07106781e-01   7.07106781e-01   5.45861780e-15   7.07106781e-01\n",
        "   7.07106781e-01   0.00000000e+00   3.62210262e-15   2.92893219e-01\n",
        "   2.92893219e-01  -4.01588485e-16  -2.92893219e-01  -2.92893219e-01\n",
        "  -4.05177733e-15  -7.07106781e-01  -7.07106781e-01  -5.48809003e-15\n",
        "  -7.07106781e-01  -7.07106781e-01  -3.59825736e-15  -2.92893219e-01\n",
        "  -2.92893219e-01   5.27355937e-16   2.92893219e-01   2.92893219e-01\n",
        "   0.00000000e+00   7.07106781e-01   7.07106781e-01  -7.07106781e-01\n",
        "  -2.51820570e-15   0.00000000e+00   0.00000000e+00  -1.00000000e+00\n",
        "  -7.07106781e-01   0.00000000e+00  -7.07106781e-01  -1.00000000e+00\n",
        "   0.00000000e+00  -3.49720253e-15  -7.07106781e-01   0.00000000e+00\n",
        "   7.07106781e-01   2.37370663e-15   0.00000000e+00   1.00000000e+00\n",
        "   7.07106781e-01   0.00000000e+00   7.07106781e-01   1.00000000e+00\n",
        "   0.00000000e+00   0.00000000e+00   7.07106781e-01   0.00000000e+00]\n"
       ]
      },
      {
       "ename": "TypeError",
       "evalue": "only length-1 arrays can be converted to Python scalars",
       "output_type": "pyerr",
       "traceback": [
        "\u001b[0;31m---------------------------------------------------------------------------\u001b[0m\n\u001b[0;31mTypeError\u001b[0m                                 Traceback (most recent call last)",
        "\u001b[0;32m<ipython-input-9-be56d96e2a30>\u001b[0m in \u001b[0;36m<module>\u001b[0;34m()\u001b[0m\n\u001b[1;32m     14\u001b[0m \u001b[0mu\u001b[0m \u001b[0;34m=\u001b[0m \u001b[0mbcb\u001b[0m\u001b[0;34m.\u001b[0m\u001b[0mapply\u001b[0m\u001b[0;34m(\u001b[0m\u001b[0mprojection\u001b[0m\u001b[0;34m.\u001b[0m\u001b[0mvector\u001b[0m\u001b[0;34m(\u001b[0m\u001b[0;34m)\u001b[0m\u001b[0;34m)\u001b[0m\u001b[0;34m\u001b[0m\u001b[0m\n\u001b[1;32m     15\u001b[0m \u001b[0;32mprint\u001b[0m \u001b[0mprojection\u001b[0m\u001b[0;34m.\u001b[0m\u001b[0mvector\u001b[0m\u001b[0;34m(\u001b[0m\u001b[0;34m)\u001b[0m\u001b[0;34m.\u001b[0m\u001b[0marray\u001b[0m\u001b[0;34m(\u001b[0m\u001b[0;34m)\u001b[0m\u001b[0;34m\u001b[0m\u001b[0m\n\u001b[0;32m---> 16\u001b[0;31m \u001b[0;32mprint\u001b[0m \u001b[0mC\u001b[0m\u001b[0;34m*\u001b[0m\u001b[0mF\u001b[0m\u001b[0;34m.\u001b[0m\u001b[0mvector\u001b[0m\u001b[0;34m(\u001b[0m\u001b[0;34m)\u001b[0m\u001b[0;34m.\u001b[0m\u001b[0marray\u001b[0m\u001b[0;34m(\u001b[0m\u001b[0;34m)\u001b[0m\u001b[0;34m\u001b[0m\u001b[0m\n\u001b[0m\u001b[1;32m     17\u001b[0m \u001b[0;32mprint\u001b[0m \u001b[0;34m\"\\n\\n\\n\"\u001b[0m\u001b[0;34m\u001b[0m\u001b[0m\n\u001b[1;32m     18\u001b[0m \u001b[0;32mprint\u001b[0m \u001b[0;34m(\u001b[0m\u001b[0mC\u001b[0m\u001b[0;34m*\u001b[0m\u001b[0mF\u001b[0m\u001b[0;34m.\u001b[0m\u001b[0mvector\u001b[0m\u001b[0;34m(\u001b[0m\u001b[0;34m)\u001b[0m\u001b[0;34m.\u001b[0m\u001b[0marray\u001b[0m\u001b[0;34m(\u001b[0m\u001b[0;34m)\u001b[0m \u001b[0;34m-\u001b[0m \u001b[0mprojection\u001b[0m\u001b[0;34m.\u001b[0m\u001b[0mvector\u001b[0m\u001b[0;34m(\u001b[0m\u001b[0;34m)\u001b[0m\u001b[0;34m.\u001b[0m\u001b[0marray\u001b[0m\u001b[0;34m(\u001b[0m\u001b[0;34m)\u001b[0m\u001b[0;34m)\u001b[0m\u001b[0;34m<\u001b[0m\u001b[0;36m1e-6\u001b[0m\u001b[0;34m\u001b[0m\u001b[0m\n",
        "\u001b[0;32m/Users/michaelwathen/Packages/petsc-3.5.3/arch-darwin-c-opt/lib/petsc4py/lib/arch-darwin-c-opt/PETSc.so\u001b[0m in \u001b[0;36mpetsc4py.PETSc.Mat.__mul__ (src/petsc4py.PETSc.c:97380)\u001b[0;34m()\u001b[0m\n",
        "\u001b[0;32m/Users/michaelwathen/Packages/petsc-3.5.3/arch-darwin-c-opt/lib/petsc4py/lib/arch-darwin-c-opt/PETSc.so\u001b[0m in \u001b[0;36mpetsc4py.PETSc.mat_mul (src/petsc4py.PETSc.c:21660)\u001b[0;34m()\u001b[0m\n",
        "\u001b[0;32m/Users/michaelwathen/Packages/petsc-3.5.3/arch-darwin-c-opt/lib/petsc4py/lib/arch-darwin-c-opt/PETSc.so\u001b[0m in \u001b[0;36mpetsc4py.PETSc.mat_imul (src/petsc4py.PETSc.c:21165)\u001b[0;34m()\u001b[0m\n",
        "\u001b[0;32m/Users/michaelwathen/Packages/petsc-3.5.3/arch-darwin-c-opt/lib/petsc4py/lib/arch-darwin-c-opt/PETSc.so\u001b[0m in \u001b[0;36mpetsc4py.PETSc.Mat.scale (src/petsc4py.PETSc.c:116729)\u001b[0;34m()\u001b[0m\n",
        "\u001b[0;32m/Users/michaelwathen/Packages/petsc-3.5.3/arch-darwin-c-opt/lib/petsc4py/lib/arch-darwin-c-opt/PETSc.so\u001b[0m in \u001b[0;36mpetsc4py.PETSc.asScalar (src/petsc4py.PETSc.c:7080)\u001b[0;34m()\u001b[0m\n",
        "\u001b[0;31mTypeError\u001b[0m: only length-1 arrays can be converted to Python scalars"
       ]
      }
     ],
     "prompt_number": 9
    },
    {
     "cell_type": "code",
     "collapsed": false,
     "input": [],
     "language": "python",
     "metadata": {},
     "outputs": []
    },
    {
     "cell_type": "code",
     "collapsed": false,
     "input": [
      "C.data"
     ],
     "language": "python",
     "metadata": {},
     "outputs": [
      {
       "metadata": {},
       "output_type": "pyout",
       "prompt_number": 33,
       "text": [
        "array([ 1.,  1.,  1.,  1.,  1., -1.,  1.,  1.,  1., -1.,  1., -1., -1.,\n",
        "        1.,  1.,  1., -1.,  1., -1.,  1., -1.,  1., -1.,  1., -1.,  1.,\n",
        "       -1.,  1., -1., -1., -1.,  1.,  1.,  1., -1.,  1., -1.,  1., -1.,\n",
        "        1., -1.,  1., -1.,  1., -1.,  1., -1., -1., -1., -1., -1., -1.,\n",
        "       -1., -1.])"
       ]
      }
     ],
     "prompt_number": 33
    },
    {
     "cell_type": "code",
     "collapsed": false,
     "input": [
      "\n",
      "f = Expression(('sin(x[0])','sin(x[1])'))\n",
      "F = interpolate(f,VecV)\n",
      "Fvec = F\n",
      "bcrVec = DirichletBC(VecV,Expression(('0','0')), boundary)\n",
      "bcrVec.apply(Fvec.vector())\n",
      "\n",
      "bcrVec.apply(F.vector())\n",
      "\n",
      "# Fmag = interpolate(F,Magnetic)\n",
      "# bcb.apply(Fmag.vector())\n",
      "# print Fmag.vector().array()\n",
      "# print bmat([[Px,Py]]).shape\n",
      "# print bmat([[Px,Py]])*F.vector().array()\n",
      "# FmagP = bmat([[Px,Py]])*F.vector().array()\n",
      "# print np.max(abs(bmat([[Px,Py]])*F.vector().array()-Fmag.vector().array()))\n",
      "\n",
      "print \"\\n\\n\\n\\n\"\n",
      "Fmag = interpolate(f,Magnetic)\n",
      "# plot(Fmag)\n",
      "bcb.apply(Fmag.vector())\n",
      "Forig = interpolate(Fmag,VecV)\n",
      "# plot(Forig)\n",
      "bcrVec.apply(Forig.vector())\n",
      "print Forig.vector().array()\n",
      "print \"\\n\\n\"\n",
      "# print Fmag.vector().array()\n",
      "print (Fvec.vector().array())\n",
      "print \"\\n\\n\\n\\n\"\n",
      "print np.max(abs(bmat([[Px,Py]]).T*Fmag.vector().array()-Forig.vector().array()))\n",
      "\n"
     ],
     "language": "python",
     "metadata": {},
     "outputs": [
      {
       "output_type": "stream",
       "stream": "stdout",
       "text": [
        "\n",
        "\n",
        "\n",
        "\n",
        "\n",
        "[ 0.          0.          0.          0.          0.          0.          0.\n",
        "  0.          0.          0.          0.92387953  0.92387953  0.38268343\n",
        " -0.38268343 -0.92387953 -0.92387953 -0.38268343  0.          0.\n",
        "  0.92387953  0.92387953  0.38268343 -0.38268343 -0.92387953 -0.92387953\n",
        " -0.38268343  0.          0.          0.92387953  0.92387953  0.38268343\n",
        " -0.38268343 -0.92387953 -0.92387953 -0.38268343  0.          0.\n",
        "  0.92387953  0.92387953  0.38268343 -0.38268343 -0.92387953 -0.92387953\n",
        " -0.38268343  0.          0.          0.92387953  0.92387953  0.38268343\n",
        " -0.38268343 -0.92387953 -0.92387953 -0.38268343  0.          0.\n",
        "  0.92387953  0.92387953  0.38268343 -0.38268343 -0.92387953 -0.92387953\n",
        " -0.38268343  0.          0.          0.92387953  0.92387953  0.38268343\n",
        " -0.38268343 -0.92387953 -0.92387953 -0.38268343  0.          0.          0.\n",
        "  0.          0.          0.          0.          0.          0.          0.\n",
        "  0.          0.          0.          0.          0.          0.          0.\n",
        "  0.          0.          0.          0.92387953  0.92387953  0.92387953\n",
        "  0.92387953  0.92387953  0.92387953  0.92387953  0.          0.\n",
        "  0.92387953  0.92387953  0.92387953  0.92387953  0.92387953  0.92387953\n",
        "  0.92387953  0.          0.          0.38268343  0.38268343  0.38268343\n",
        "  0.38268343  0.38268343  0.38268343  0.38268343  0.          0.\n",
        " -0.38268343 -0.38268343 -0.38268343 -0.38268343 -0.38268343 -0.38268343\n",
        " -0.38268343  0.          0.         -0.92387953 -0.92387953 -0.92387953\n",
        " -0.92387953 -0.92387953 -0.92387953 -0.92387953  0.          0.\n",
        " -0.92387953 -0.92387953 -0.92387953 -0.92387953 -0.92387953 -0.92387953\n",
        " -0.92387953  0.          0.         -0.38268343 -0.38268343 -0.38268343\n",
        " -0.38268343 -0.38268343 -0.38268343 -0.38268343  0.          0.          0.\n",
        "  0.          0.          0.          0.          0.          0.          0.        ]\n",
        "\n",
        "\n",
        "\n",
        "[  0.00000000e+00   0.00000000e+00   0.00000000e+00   0.00000000e+00\n",
        "   0.00000000e+00   0.00000000e+00   0.00000000e+00   0.00000000e+00\n",
        "   0.00000000e+00   0.00000000e+00   7.07106781e-01   1.00000000e+00\n",
        "   7.07106781e-01   1.22464680e-16  -7.07106781e-01  -1.00000000e+00\n",
        "  -7.07106781e-01   0.00000000e+00   0.00000000e+00   7.07106781e-01\n",
        "   1.00000000e+00   7.07106781e-01   1.22464680e-16  -7.07106781e-01\n",
        "  -1.00000000e+00  -7.07106781e-01   0.00000000e+00   0.00000000e+00\n",
        "   7.07106781e-01   1.00000000e+00   7.07106781e-01   1.22464680e-16\n",
        "  -7.07106781e-01  -1.00000000e+00  -7.07106781e-01   0.00000000e+00\n",
        "   0.00000000e+00   7.07106781e-01   1.00000000e+00   7.07106781e-01\n",
        "   1.22464680e-16  -7.07106781e-01  -1.00000000e+00  -7.07106781e-01\n",
        "   0.00000000e+00   0.00000000e+00   7.07106781e-01   1.00000000e+00\n",
        "   7.07106781e-01   1.22464680e-16  -7.07106781e-01  -1.00000000e+00\n",
        "  -7.07106781e-01   0.00000000e+00   0.00000000e+00   7.07106781e-01\n",
        "   1.00000000e+00   7.07106781e-01   1.22464680e-16  -7.07106781e-01\n",
        "  -1.00000000e+00  -7.07106781e-01   0.00000000e+00   0.00000000e+00\n",
        "   7.07106781e-01   1.00000000e+00   7.07106781e-01   1.22464680e-16\n",
        "  -7.07106781e-01  -1.00000000e+00  -7.07106781e-01   0.00000000e+00\n",
        "   0.00000000e+00   0.00000000e+00   0.00000000e+00   0.00000000e+00\n",
        "   0.00000000e+00   0.00000000e+00   0.00000000e+00   0.00000000e+00\n",
        "   0.00000000e+00   0.00000000e+00   0.00000000e+00   0.00000000e+00\n",
        "   0.00000000e+00   0.00000000e+00   0.00000000e+00   0.00000000e+00\n",
        "   0.00000000e+00   0.00000000e+00   0.00000000e+00   7.07106781e-01\n",
        "   7.07106781e-01   7.07106781e-01   7.07106781e-01   7.07106781e-01\n",
        "   7.07106781e-01   7.07106781e-01   0.00000000e+00   0.00000000e+00\n",
        "   1.00000000e+00   1.00000000e+00   1.00000000e+00   1.00000000e+00\n",
        "   1.00000000e+00   1.00000000e+00   1.00000000e+00   0.00000000e+00\n",
        "   0.00000000e+00   7.07106781e-01   7.07106781e-01   7.07106781e-01\n",
        "   7.07106781e-01   7.07106781e-01   7.07106781e-01   7.07106781e-01\n",
        "   0.00000000e+00   0.00000000e+00   1.22464680e-16   1.22464680e-16\n",
        "   1.22464680e-16   1.22464680e-16   1.22464680e-16   1.22464680e-16\n",
        "   1.22464680e-16   0.00000000e+00   0.00000000e+00  -7.07106781e-01\n",
        "  -7.07106781e-01  -7.07106781e-01  -7.07106781e-01  -7.07106781e-01\n",
        "  -7.07106781e-01  -7.07106781e-01   0.00000000e+00   0.00000000e+00\n",
        "  -1.00000000e+00  -1.00000000e+00  -1.00000000e+00  -1.00000000e+00\n",
        "  -1.00000000e+00  -1.00000000e+00  -1.00000000e+00   0.00000000e+00\n",
        "   0.00000000e+00  -7.07106781e-01  -7.07106781e-01  -7.07106781e-01\n",
        "  -7.07106781e-01  -7.07106781e-01  -7.07106781e-01  -7.07106781e-01\n",
        "   0.00000000e+00   0.00000000e+00   0.00000000e+00   0.00000000e+00\n",
        "   0.00000000e+00   0.00000000e+00   0.00000000e+00   0.00000000e+00\n",
        "   0.00000000e+00   0.00000000e+00]\n",
        "\n",
        "\n",
        "\n",
        "\n",
        "\n",
        "0.993165635672\n"
       ]
      }
     ],
     "prompt_number": 10
    },
    {
     "cell_type": "code",
     "collapsed": false,
     "input": [],
     "language": "python",
     "metadata": {},
     "outputs": []
    },
    {
     "cell_type": "code",
     "collapsed": false,
     "input": [
      "map = Lagrange.dofmap()"
     ],
     "language": "python",
     "metadata": {},
     "outputs": [],
     "prompt_number": 2
    },
    {
     "cell_type": "code",
     "collapsed": false,
     "input": [
      "element = Lagrange.dolfin_element()"
     ],
     "language": "python",
     "metadata": {},
     "outputs": [],
     "prompt_number": 2
    },
    {
     "cell_type": "code",
     "collapsed": false,
     "input": [
      "element = Lagrange.dolfin_element()\n",
      "basis = np.zeros(2*element.space_dimension()*element.value_dimension(0))\n",
      "\n",
      "coords = np.array((0.0,0.0))\n",
      "cell = Cell(mesh, 1)\n",
      "vc = cell.get_vertex_coordinates()\n",
      "element.evaluate_basis_derivatives_all(1,basis, coords, vc, 2)\n",
      "\n",
      "print basis\n"
     ],
     "language": "python",
     "metadata": {},
     "outputs": [
      {
       "output_type": "stream",
       "stream": "stdout",
       "text": [
        "[ -1.11022302e-15  -6.36619772e-01  -6.36619772e-01   6.36619772e-01\n",
        "   6.36619772e-01   0.00000000e+00]\n"
       ]
      }
     ],
     "prompt_number": 5
    },
    {
     "cell_type": "code",
     "collapsed": false,
     "input": [
      "vc"
     ],
     "language": "python",
     "metadata": {},
     "outputs": [
      {
       "metadata": {},
       "output_type": "pyout",
       "prompt_number": 6,
       "text": [
        "array([ 0.        ,  0.        ,  0.        ,  0.78539816,  0.78539816,\n",
        "        0.78539816])"
       ]
      }
     ],
     "prompt_number": 6
    },
    {
     "cell_type": "code",
     "collapsed": false,
     "input": [
      "element.evaluate_basis_derivatives_all(1,basis, np.array((m.x(), m.y())), vc, 2)\n",
      "\n",
      "print basis\n"
     ],
     "language": "python",
     "metadata": {},
     "outputs": [
      {
       "output_type": "stream",
       "stream": "stdout",
       "text": [
        "[ -2.22044605e-15  -1.27323954e+00  -1.27323954e+00   1.27323954e+00\n",
        "   1.27323954e+00   0.00000000e+00]\n"
       ]
      }
     ],
     "prompt_number": 25
    },
    {
     "cell_type": "code",
     "collapsed": false,
     "input": [
      "m = cell.midpoint()"
     ],
     "language": "python",
     "metadata": {},
     "outputs": [],
     "prompt_number": 16
    },
    {
     "cell_type": "code",
     "collapsed": false,
     "input": [
      "np.array((m.x(), m.y()))"
     ],
     "language": "python",
     "metadata": {},
     "outputs": [
      {
       "metadata": {},
       "output_type": "pyout",
       "prompt_number": 24,
       "text": [
        "array([ 0.26179939,  0.52359878])"
       ]
      }
     ],
     "prompt_number": 24
    },
    {
     "cell_type": "code",
     "collapsed": false,
     "input": [
      "vc\n"
     ],
     "language": "python",
     "metadata": {},
     "outputs": [
      {
       "metadata": {},
       "output_type": "pyout",
       "prompt_number": 4,
       "text": [
        "array([ 0.        ,  0.        ,  0.78539816,  0.        ,  0.78539816,\n",
        "        0.78539816])"
       ]
      }
     ],
     "prompt_number": 4
    },
    {
     "cell_type": "code",
     "collapsed": false,
     "input": [
      "plot(Fmag)"
     ],
     "language": "python",
     "metadata": {},
     "outputs": [
      {
       "metadata": {},
       "output_type": "pyout",
       "prompt_number": 4,
       "text": [
        "<dolfin.cpp.io.VTKPlotter; proxy of <Swig Object of type 'std::shared_ptr< dolfin::VTKPlotter > *' at 0x11175dba0> >"
       ]
      }
     ],
     "prompt_number": 4
    },
    {
     "cell_type": "code",
     "collapsed": false,
     "input": [
      "replace?"
     ],
     "language": "python",
     "metadata": {},
     "outputs": [],
     "prompt_number": 5
    }
   ],
   "metadata": {}
  }
 ]
}
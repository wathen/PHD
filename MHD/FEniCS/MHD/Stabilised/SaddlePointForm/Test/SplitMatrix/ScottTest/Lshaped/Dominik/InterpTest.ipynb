{
 "metadata": {
  "name": "",
  "signature": "sha256:100973f4488f686b9eaf01cfffb164e9e1c0aa2f1046945ffdf7bc3ee69ad833"
 },
 "nbformat": 3,
 "nbformat_minor": 0,
 "worksheets": [
  {
   "cells": [
    {
     "cell_type": "code",
     "collapsed": false,
     "input": [
      "import sympy as sy\n",
      "import numpy as np\n",
      "from dolfin import *\n"
     ],
     "language": "python",
     "metadata": {},
     "outputs": [],
     "prompt_number": 2
    },
    {
     "cell_type": "code",
     "collapsed": false,
     "input": [
      "n = 2**2\n",
      "mesh = RectangleMesh(-1,-1,1,1,n,n, 'left')\n",
      "cell_f = CellFunction('size_t', mesh, 0)\n",
      "for cell in cells(mesh):\n",
      "    v = cell.get_vertex_coordinates()\n",
      "    y = v[np.arange(0,6,2)]\n",
      "    x = v[np.arange(1,6,2)]\n",
      "    xone = np.ones(3)\n",
      "    xone[x > 0] = 0\n",
      "    yone = np.ones(3)\n",
      "    yone[y < 0] = 0\n",
      "    if np.sum(xone)+ np.sum(yone)>5.5:\n",
      "        cell_f[cell] = 1\n",
      "mesh = SubMesh(mesh, cell_f, 0)"
     ],
     "language": "python",
     "metadata": {},
     "outputs": [],
     "prompt_number": 3
    },
    {
     "cell_type": "code",
     "collapsed": false,
     "input": [
      "x = sy.symbols('x[0]')\n",
      "y = sy.symbols('x[1]')\n",
      "rho = sy.sqrt(x**2 + y**2)\n",
      "phi = sy.atan2(y,x)\n",
      "\n",
      "f = rho**(2./3)*sy.sin((2./3)*phi)\n",
      "b = sy.diff(f,x)\n",
      "d = sy.diff(f,y)\n",
      "print sy.ccode(b)\n",
      "\n",
      "b0Upper = Expression((sy.ccode(b),sy.ccode(d)))\n",
      "b0Lower = Expression((str(sy.ccode(b)).replace('atan2(x[1], x[0])','(atan2(x[1], x[0])+2*pi)'),str(sy.ccode(d)).replace('atan2(x[1], x[0])','(atan2(x[1], x[0])+2*pi)')))\n",
      "fUpper = Expression(str(sy.ccode(f)))\n",
      "fLower = Expression(str(sy.ccode(f)).replace('atan2(x[1], x[0])','(atan2(x[1], x[0])+2*pi)'))\n",
      "class b0(Expression):\n",
      "    def __init__(self, mesh, bu0, bb0):\n",
      "        self.mesh = mesh\n",
      "        self.b0 = bu0\n",
      "        self.bb0 = bb0\n",
      "    def eval_cell(self, values, x, ufc_cell):\n",
      "        if abs(x[0]) < 1e-8 and abs(x[1]) < 1e-8:\n",
      "            values[0] = 0.0\n",
      "            values[1] = 0.0\n",
      "        else:\n",
      "            if x[1] < 0:\n",
      "                values[0] = self.bb0(x[0], x[1])[0]\n",
      "                values[1] = self.bb0(x[0], x[1])[1]\n",
      "            else:\n",
      "                values[0] = self.b0(x[0], x[1])[0]\n",
      "                values[1] = self.b0(x[0], x[1])[1]\n",
      "            # print values\n",
      "    def value_shape(self):\n",
      "        return (2,)\n",
      "    \n",
      "class f0(Expression):\n",
      "    def __init__(self, mesh, pu0, pb0):\n",
      "        self.mesh = mesh\n",
      "        self.p0 = pu0\n",
      "        self.b0 = pb0\n",
      "    def eval_cell(self, values, x, ufc_cell):\n",
      "        if abs(x[0]) < 1e-8 and abs(x[1]) < 1e-8:\n",
      "            values[0] = 0.0\n",
      "        else:\n",
      "            if x[1] < 0:\n",
      "                values[0] = self.b0(x[0], x[1])\n",
      "            else:\n",
      "                values[0] = self.p0(x[0], x[1])\n",
      "\n",
      "n = 2**2\n",
      "for i in range(5):\n",
      "    n = 2**i\n",
      "    mesh = RectangleMesh(-1,-1,1,1,n,n, 'left')\n",
      "    cell_f = CellFunction('size_t', mesh, 0)\n",
      "    for cell in cells(mesh):\n",
      "        v = cell.get_vertex_coordinates()\n",
      "        y = v[np.arange(0,6,2)]\n",
      "        x = v[np.arange(1,6,2)]\n",
      "        xone = np.ones(3)\n",
      "        xone[x > 0] = 0\n",
      "        yone = np.ones(3)\n",
      "        yone[y < 0] = 0\n",
      "        if np.sum(xone)+ np.sum(yone)>5.5:\n",
      "            cell_f[cell] = 1\n",
      "    mesh = SubMesh(mesh, cell_f, 0)\n",
      "\n",
      "    b = b0(mesh, b0Upper, b0Lower)\n",
      "    f = f0(mesh, fUpper, fLower)\n",
      "\n",
      "\n",
      "    # print \n",
      "    V = FunctionSpace(mesh, 'N1curl', 2)\n",
      "    Q = FunctionSpace(mesh, 'CG', 2)\n",
      "\n",
      "    B = interpolate(b, V)\n",
      "    F = interpolate(f, Q)\n",
      "    BB = project(grad(F), V)\n",
      "\n",
      "    print 'curl(BB)*curl(BB)   ', assemble(curl(BB)*curl(BB)*dx)\n",
      "    print 'curl(B)*curl(B)     ', assemble(curl(B)*curl(B)*dx)\n",
      "    print np.linalg.norm(BB.vector().array() - B.vector().array())"
     ],
     "language": "python",
     "metadata": {},
     "outputs": [
      {
       "output_type": "stream",
       "stream": "stderr",
       "text": [
        "DEBUG:FFC:Reusing form from cache.\n"
       ]
      },
      {
       "output_type": "stream",
       "stream": "stderr",
       "text": [
        "DEBUG:FFC:Reusing form from cache.\n"
       ]
      },
      {
       "output_type": "stream",
       "stream": "stderr",
       "text": [
        "DEBUG:FFC:Reusing form from cache.\n"
       ]
      },
      {
       "output_type": "stream",
       "stream": "stderr",
       "text": [
        "DEBUG:FFC:Reusing form from cache.\n"
       ]
      },
      {
       "output_type": "stream",
       "stream": "stdout",
       "text": [
        "0.666666666666667*x[0]*pow(pow(x[0], 2) + pow(x[1], 2), -0.666666666666667)*sin(0.666666666666667*atan2(x[1], x[0])) - 0.666666666666667*x[1]*pow(pow(x[0], 2) + pow(x[1], 2), -0.666666666666667)*cos(0.666666666666667*atan2(x[1], x[0]))\n",
        "curl(BB)*curl(BB)   "
       ]
      },
      {
       "output_type": "stream",
       "stream": "stderr",
       "text": [
        "DEBUG:FFC:Reusing form from cache.\n"
       ]
      },
      {
       "output_type": "stream",
       "stream": "stderr",
       "text": [
        "DEBUG:FFC:Reusing form from cache.\n"
       ]
      },
      {
       "output_type": "stream",
       "stream": "stderr",
       "text": [
        "DEBUG:FFC:Reusing form from cache.\n"
       ]
      },
      {
       "output_type": "stream",
       "stream": "stderr",
       "text": [
        "DEBUG:FFC:Reusing form from cache.\n"
       ]
      },
      {
       "output_type": "stream",
       "stream": "stderr",
       "text": [
        "DEBUG:FFC:Reusing form from cache.\n"
       ]
      },
      {
       "output_type": "stream",
       "stream": "stderr",
       "text": [
        "DEBUG:FFC:Reusing form from cache.\n"
       ]
      },
      {
       "output_type": "stream",
       "stream": "stdout",
       "text": [
        " 4.07936614125e-28\n",
        "curl(B)*curl(B)    1.85240155796\n",
        "1.84536032594\n",
        "curl(BB)*curl(BB)   "
       ]
      },
      {
       "output_type": "stream",
       "stream": "stderr",
       "text": [
        "DEBUG:FFC:Reusing form from cache.\n"
       ]
      },
      {
       "output_type": "stream",
       "stream": "stderr",
       "text": [
        "DEBUG:FFC:Reusing form from cache.\n"
       ]
      },
      {
       "output_type": "stream",
       "stream": "stderr",
       "text": [
        "DEBUG:FFC:Reusing form from cache.\n"
       ]
      },
      {
       "output_type": "stream",
       "stream": "stderr",
       "text": [
        "DEBUG:FFC:Reusing form from cache.\n"
       ]
      },
      {
       "output_type": "stream",
       "stream": "stderr",
       "text": [
        "DEBUG:FFC:Reusing form from cache.\n"
       ]
      },
      {
       "output_type": "stream",
       "stream": "stderr",
       "text": [
        "DEBUG:FFC:Reusing form from cache.\n"
       ]
      },
      {
       "output_type": "stream",
       "stream": "stdout",
       "text": [
        " 4.75734703589e-13\n",
        "curl(B)*curl(B)    0.422372956612\n",
        "0.394917888654\n",
        "curl(BB)*curl(BB)   "
       ]
      },
      {
       "output_type": "stream",
       "stream": "stderr",
       "text": [
        "DEBUG:FFC:Reusing form from cache.\n"
       ]
      },
      {
       "output_type": "stream",
       "stream": "stderr",
       "text": [
        "DEBUG:FFC:Reusing form from cache.\n"
       ]
      },
      {
       "output_type": "stream",
       "stream": "stderr",
       "text": [
        "DEBUG:FFC:Reusing form from cache.\n"
       ]
      },
      {
       "output_type": "stream",
       "stream": "stderr",
       "text": [
        "DEBUG:FFC:Reusing form from cache.\n"
       ]
      },
      {
       "output_type": "stream",
       "stream": "stderr",
       "text": [
        "DEBUG:FFC:Reusing form from cache.\n"
       ]
      },
      {
       "output_type": "stream",
       "stream": "stderr",
       "text": [
        "DEBUG:FFC:Reusing form from cache.\n"
       ]
      },
      {
       "output_type": "stream",
       "stream": "stdout",
       "text": [
        " 2.3536775173e-12\n",
        "curl(B)*curl(B)    0.675999149217\n",
        "0.249098972069\n",
        "curl(BB)*curl(BB)   "
       ]
      },
      {
       "output_type": "stream",
       "stream": "stderr",
       "text": [
        "DEBUG:FFC:Reusing form from cache.\n"
       ]
      },
      {
       "output_type": "stream",
       "stream": "stderr",
       "text": [
        "DEBUG:FFC:Reusing form from cache.\n"
       ]
      },
      {
       "output_type": "stream",
       "stream": "stderr",
       "text": [
        "DEBUG:FFC:Reusing form from cache.\n"
       ]
      },
      {
       "output_type": "stream",
       "stream": "stderr",
       "text": [
        "DEBUG:FFC:Reusing form from cache.\n"
       ]
      },
      {
       "output_type": "stream",
       "stream": "stderr",
       "text": [
        "DEBUG:FFC:Reusing form from cache.\n"
       ]
      },
      {
       "output_type": "stream",
       "stream": "stderr",
       "text": [
        "DEBUG:FFC:Reusing form from cache.\n"
       ]
      },
      {
       "output_type": "stream",
       "stream": "stdout",
       "text": [
        " 1.01476697715e-11\n",
        "curl(B)*curl(B)    1.07454911854\n",
        "0.156964877931\n",
        "curl(BB)*curl(BB)   "
       ]
      },
      {
       "output_type": "stream",
       "stream": "stderr",
       "text": [
        "DEBUG:FFC:Reusing form from cache.\n"
       ]
      },
      {
       "output_type": "stream",
       "stream": "stderr",
       "text": [
        "DEBUG:FFC:Reusing form from cache.\n"
       ]
      },
      {
       "output_type": "stream",
       "stream": "stdout",
       "text": [
        " 3.09607992316e-11\n",
        "curl(B)*curl(B)    1.70612040611\n",
        "0.0988864232664\n"
       ]
      }
     ],
     "prompt_number": 13
    },
    {
     "cell_type": "code",
     "collapsed": false,
     "input": [
      "plot(B)"
     ],
     "language": "python",
     "metadata": {},
     "outputs": [
      {
       "metadata": {},
       "output_type": "pyout",
       "prompt_number": 10,
       "text": [
        "<dolfin.cpp.io.VTKPlotter; proxy of <Swig Object of type 'std::shared_ptr< dolfin::VTKPlotter > *' at 0x109284ba0> >"
       ]
      }
     ],
     "prompt_number": 10
    },
    {
     "cell_type": "code",
     "collapsed": false,
     "input": [],
     "language": "python",
     "metadata": {},
     "outputs": []
    },
    {
     "cell_type": "code",
     "collapsed": false,
     "input": [
      "x = sy.symbols('x[0]')\n",
      "y = sy.symbols('x[1]')\n",
      "rho = sy.sqrt(x**2 + y**2)\n",
      "phi = sy.atan2(y,x)\n",
      "\n",
      "f = rho**(2./3)*sy.sin((2./3)*phi)\n",
      "b = sy.diff(f,x)\n",
      "d = sy.diff(f,y)\n",
      "print sy.ccode(b)\n",
      "\n",
      "b0 = Expression((sy.ccode(b),sy.ccode(d)))\n",
      "f = Expression(sy.ccode(f))\n",
      "\n",
      "mesh = UnitSquareMesh(500,500)\n",
      "V = FunctionSpace(mesh, 'N1curl', 5)\n",
      "Q = FunctionSpace(mesh, 'CG', 5)\n",
      "\n",
      "B = interpolate(b0, V)\n",
      "F = interpolate(f, Q)\n",
      "BB = project(grad(F), V)\n",
      "\n",
      "print np.linalg.norm(BB.vector().array() - B.vector().array())"
     ],
     "language": "python",
     "metadata": {},
     "outputs": [
      {
       "output_type": "stream",
       "stream": "stderr",
       "text": [
        "DEBUG:FFC:Reusing form from cache.\n"
       ]
      }
     ]
    },
    {
     "cell_type": "code",
     "collapsed": false,
     "input": [
      "import numpy as np\n"
     ],
     "language": "python",
     "metadata": {},
     "outputs": [],
     "prompt_number": 7
    }
   ],
   "metadata": {}
  }
 ]
}
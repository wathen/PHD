{
 "metadata": {
  "name": "",
  "signature": "sha256:17db0ebaacb8c9da8aad5a7a4000e7775113b482d642290759770638fd976087"
 },
 "nbformat": 3,
 "nbformat_minor": 0,
 "worksheets": [
  {
   "cells": [
    {
     "cell_type": "code",
     "collapsed": false,
     "input": [
      "#!/usr/bin/python\n",
      "\n",
      "# interpolate scalar gradient onto nedelec space\n",
      "\n",
      "import petsc4py\n",
      "import sys\n",
      "\n",
      "petsc4py.init(sys.argv)\n",
      "\n",
      "from petsc4py import PETSc\n",
      "from dolfin import *\n",
      "Print = PETSc.Sys.Print\n",
      "# from MatrixOperations import *\n",
      "import numpy as np\n",
      "import PETScIO as IO\n",
      "import common\n",
      "import scipy\n",
      "import scipy.io\n",
      "import time\n",
      "\n",
      "import BiLinear as forms\n",
      "import IterOperations as Iter\n",
      "import MatrixOperations as MO\n",
      "import CheckPetsc4py as CP\n",
      "import ExactSol\n",
      "import Solver as S\n",
      "import MHDmatrixPrecondSetup as PrecondSetup\n",
      "import NSprecondSetup\n",
      "import MHDprec as MHDpreconditioner\n",
      "import memory_profiler\n",
      "import gc\n",
      "import MHDmulti\n",
      "import MHDmatrixSetup as MHDsetup\n",
      "#@profile\n",
      "m = 2\n",
      "\n",
      "\n",
      "errL2u =np.zeros((m-1,1))\n",
      "errH1u =np.zeros((m-1,1))\n",
      "errL2p =np.zeros((m-1,1))\n",
      "errL2b =np.zeros((m-1,1))\n",
      "errCurlb =np.zeros((m-1,1))\n",
      "errL2r =np.zeros((m-1,1))\n",
      "errH1r =np.zeros((m-1,1))\n",
      "\n",
      "\n",
      "\n",
      "l2uorder =  np.zeros((m-1,1))\n",
      "H1uorder =np.zeros((m-1,1))\n",
      "l2porder =  np.zeros((m-1,1))\n",
      "l2border =  np.zeros((m-1,1))\n",
      "Curlborder =np.zeros((m-1,1))\n",
      "l2rorder =  np.zeros((m-1,1))\n",
      "H1rorder = np.zeros((m-1,1))\n",
      "\n",
      "NN = np.zeros((m-1,1))\n",
      "DoF = np.zeros((m-1,1))\n",
      "Velocitydim = np.zeros((m-1,1))\n",
      "Magneticdim = np.zeros((m-1,1))\n",
      "Pressuredim = np.zeros((m-1,1))\n",
      "Lagrangedim = np.zeros((m-1,1))\n",
      "Wdim = np.zeros((m-1,1))\n",
      "iterations = np.zeros((m-1,1))\n",
      "SolTime = np.zeros((m-1,1))\n",
      "udiv = np.zeros((m-1,1))\n",
      "MU = np.zeros((m-1,1))\n",
      "level = np.zeros((m-1,1))\n",
      "NSave = np.zeros((m-1,1))\n",
      "Mave = np.zeros((m-1,1))\n",
      "TotalTime = np.zeros((m-1,1))\n",
      "\n",
      "nn = 2\n",
      "\n",
      "dim = 2\n",
      "ShowResultPlots = 'yes'\n",
      "split = 'Linear'\n",
      "\n",
      "MU[0]= 1e0\n",
      "for xx in xrange(1,m):\n",
      "    print xx\n",
      "    level[xx-1] = xx+ 2\n",
      "    nn = 2**(level[xx-1])\n",
      "\n",
      "\n",
      "\n",
      "    # Create mesh and define function space\n",
      "    nn = int(nn)\n",
      "    NN[xx-1] = nn/2\n",
      "    # parameters[\"form_compiler\"][\"quadrature_degree\"] = 6\n",
      "    # parameters = CP.ParameterSetup()\n",
      "    mesh = UnitSquareMesh(nn,nn)\n",
      "\n",
      "    order = 2\n",
      "    parameters['reorder_dofs_serial'] = False\n",
      "    Velocity = VectorFunctionSpace(mesh, \"CG\", order)\n",
      "    Pressure = FunctionSpace(mesh, \"CG\", order-1)\n",
      "    Magnetic = FunctionSpace(mesh, \"N1curl\", order-1)\n",
      "    Lagrange = FunctionSpace(mesh, \"CG\", order-1)\n",
      "    W = MixedFunctionSpace([Velocity, Pressure, Magnetic,Lagrange])\n",
      "    # W = Velocity*Pressure*Magnetic*Lagrange\n",
      "    Velocitydim[xx-1] = Velocity.dim()\n",
      "    Pressuredim[xx-1] = Pressure.dim()\n",
      "    Magneticdim[xx-1] = Magnetic.dim()\n",
      "    Lagrangedim[xx-1] = Lagrange.dim()\n",
      "    Wdim[xx-1] = W.dim()\n",
      "    print \"\\n\\nW:  \",Wdim[xx-1],\"Velocity:  \",Velocitydim[xx-1],\"Pressure:  \",Pressuredim[xx-1],\"Magnetic:  \",Magneticdim[xx-1],\"Lagrange:  \",Lagrangedim[xx-1],\"\\n\\n\"\n",
      "    dim = [Velocity.dim(), Pressure.dim(), Magnetic.dim(), Lagrange.dim()]\n",
      "\n",
      "\n",
      "    def boundary(x, on_boundary):\n",
      "        return on_boundary\n",
      "\n",
      "    u0, p0,b0, r0, Laplacian, Advection, gradPres,CurlCurl, gradR, NS_Couple, M_Couple = ExactSol.MHD2D(4,1, mesh)\n",
      "\n"
     ],
     "language": "python",
     "metadata": {},
     "outputs": [
      {
       "output_type": "stream",
       "stream": "stderr",
       "text": [
        "DEBUG:FFC:Reusing form from cache.\n"
       ]
      },
      {
       "output_type": "stream",
       "stream": "stderr",
       "text": [
        "DEBUG:FFC:Reusing form from cache.\n"
       ]
      },
      {
       "output_type": "stream",
       "stream": "stderr",
       "text": [
        "DEBUG:FFC:Reusing form from cache.\n"
       ]
      },
      {
       "output_type": "stream",
       "stream": "stderr",
       "text": [
        "DEBUG:FFC:Reusing form from cache.\n"
       ]
      },
      {
       "output_type": "stream",
       "stream": "stderr",
       "text": [
        "DEBUG:FFC:Reusing form from cache.\n"
       ]
      },
      {
       "output_type": "stream",
       "stream": "stdout",
       "text": [
        "1\n",
        "\n",
        "\n",
        "W:   [ 948.] Velocity:   [ 578.] Pressure:   [ 81.] Magnetic:   [ 208.] Lagrange:   [ 81.] \n",
        "\n",
        "\n",
        "\n",
        "   >>>>>>>>>>>>>>>>>>>>>>>>>>\n",
        "     MHD 2D Exact Solution:\n",
        "   >>>>>>>>>>>>>>>>>>>>>>>>>>\n",
        "\n",
        " ----------------------\n",
        "   NS Exact Solution:\n",
        " ----------------------\n",
        "  u = ("
       ]
      },
      {
       "output_type": "stream",
       "stream": "stdout",
       "text": [
        " x*y*exp(x + y) + x*exp(x + y) , -x*y*exp(x + y) - y*exp(x + y) )\n",
        "\n",
        "  p = ( exp(y)*sin(x) )\n",
        "\n",
        " ---------------------------\n",
        "   Maxwell Exact Solution:\n",
        " ---------------------------\n",
        "  b = ("
       ]
      },
      {
       "output_type": "stream",
       "stream": "stdout",
       "text": [
        " exp(x + y)*cos(x) , exp(x + y)*sin(x) - exp(x + y)*cos(x) )\n",
        "\n",
        "  p = ( x*sin(2*pi*x)*sin(2*pi*y) )\n",
        "\n"
       ]
      }
     ],
     "prompt_number": 23
    },
    {
     "cell_type": "code",
     "collapsed": false,
     "input": [
      "p = plot(interpolate(b0,Magnetic), prefix='magnetic2d')\n",
      "p.write_png()"
     ],
     "language": "python",
     "metadata": {},
     "outputs": [],
     "prompt_number": 25
    },
    {
     "cell_type": "code",
     "collapsed": false,
     "input": [],
     "language": "python",
     "metadata": {},
     "outputs": []
    }
   ],
   "metadata": {}
  }
 ]
}
{
 "metadata": {
  "name": "",
  "signature": "sha256:8fd1b87d3445423af6bb7a214fe6e48930553071444829382914cd0ccecf6de5"
 },
 "nbformat": 3,
 "nbformat_minor": 0,
 "worksheets": [
  {
   "cells": [
    {
     "cell_type": "code",
     "collapsed": false,
     "input": [
      "#!/usr/bin/python\n",
      "\n",
      "# interpolate scalar gradient onto nedelec space\n",
      "\n",
      "import petsc4py\n",
      "import sys\n",
      "\n",
      "petsc4py.init(sys.argv)\n",
      "\n",
      "from petsc4py import PETSc\n",
      "from dolfin import *\n",
      "Print = PETSc.Sys.Print\n",
      "# from MatrixOperations import *\n",
      "import numpy as np\n",
      "import PETScIO as IO\n",
      "import common\n",
      "import scipy\n",
      "import scipy.io\n",
      "import time\n",
      "\n",
      "import BiLinear as forms\n",
      "import IterOperations as Iter\n",
      "import MatrixOperations as MO\n",
      "import CheckPetsc4py as CP\n",
      "import ExactSol\n",
      "import Solver as S\n",
      "import MHDmatrixPrecondSetup as PrecondSetup\n",
      "import NSprecondSetup\n",
      "import MHDprec as MHDpreconditioner\n",
      "import memory_profiler\n",
      "import gc\n",
      "import MHDmulti\n",
      "import MHDmatrixSetup as MHDsetup\n",
      "from scipy.sparse import coo_matrix, csr_matrix, spdiags, bmat, linalg\n",
      "\n",
      "#@profile\n",
      "m = 2\n",
      "\n",
      "\n",
      "errL2u =np.zeros((m-1,1))\n",
      "errH1u =np.zeros((m-1,1))\n",
      "errL2p =np.zeros((m-1,1))\n",
      "errL2b =np.zeros((m-1,1))\n",
      "errCurlb =np.zeros((m-1,1))\n",
      "errL2r =np.zeros((m-1,1))\n",
      "errH1r =np.zeros((m-1,1))\n",
      "\n",
      "\n",
      "\n",
      "l2uorder =  np.zeros((m-1,1))\n",
      "H1uorder =np.zeros((m-1,1))\n",
      "l2porder =  np.zeros((m-1,1))\n",
      "l2border =  np.zeros((m-1,1))\n",
      "Curlborder =np.zeros((m-1,1))\n",
      "l2rorder =  np.zeros((m-1,1))\n",
      "H1rorder = np.zeros((m-1,1))\n",
      "\n",
      "NN = np.zeros((m-1,1))\n",
      "DoF = np.zeros((m-1,1))\n",
      "Velocitydim = np.zeros((m-1,1))\n",
      "Magneticdim = np.zeros((m-1,1))\n",
      "Pressuredim = np.zeros((m-1,1))\n",
      "Lagrangedim = np.zeros((m-1,1))\n",
      "Wdim = np.zeros((m-1,1))\n",
      "iterations = np.zeros((m-1,1))\n",
      "SolTime = np.zeros((m-1,1))\n",
      "udiv = np.zeros((m-1,1))\n",
      "MU = np.zeros((m-1,1))\n",
      "level = np.zeros((m-1,1))\n",
      "NSave = np.zeros((m-1,1))\n",
      "Mave = np.zeros((m-1,1))\n",
      "TotalTime = np.zeros((m-1,1))\n",
      "\n",
      "nn = 2\n",
      "\n",
      "dim = 2\n",
      "ShowResultPlots = 'yes'\n",
      "split = 'Linear'\n",
      "parameters[\"form_compiler\"][\"no-evaluate_basis_derivatives\"] = False\n",
      "\n",
      "MU[0]= 1e0\n",
      "for xx in xrange(1,m):\n",
      "    print xx\n",
      "    level[xx-1] = xx + 1\n",
      "    nn = 2**(level[xx-1])\n",
      "\n",
      "\n",
      "\n",
      "    # Create mesh and define function space\n",
      "    nn = int(nn)\n",
      "    NN[xx-1] = nn/2\n",
      "    # parameters[\"form_compiler\"][\"quadrature_degree\"] = 6\n",
      "    # parameters = CP.ParameterSetup()\n",
      "#     mesh = UnitSquareMesh(nn,nn)\n",
      "    mesh = RectangleMesh(0,0,2*np.pi,2*np.pi,nn,nn)\n",
      "    order = 1\n",
      "    parameters['reorder_dofs_serial'] = False\n",
      "    Velocity = VectorFunctionSpace(mesh, \"CG\", order)\n",
      "    Pressure = FunctionSpace(mesh, \"CG\", order)\n",
      "    Magnetic = FunctionSpace(mesh, \"N1curl\", order)\n",
      "    Lagrange = FunctionSpace(mesh, \"CG\", order)\n",
      "    W = MixedFunctionSpace([Velocity, Pressure, Magnetic,Lagrange])\n",
      "    # W = Velocity*Pressure*Magnetic*Lagrange\n",
      "    Velocitydim[xx-1] = Velocity.dim()\n",
      "    Pressuredim[xx-1] = Pressure.dim()\n",
      "    Magneticdim[xx-1] = Magnetic.dim()\n",
      "    Lagrangedim[xx-1] = Lagrange.dim()\n",
      "    Wdim[xx-1] = W.dim()\n",
      "    print \"\\n\\nW:  \",Wdim[xx-1],\"Velocity:  \",Velocitydim[xx-1],\"Pressure:  \",Pressuredim[xx-1],\"Magnetic:  \",Magneticdim[xx-1],\"Lagrange:  \",Lagrangedim[xx-1],\"\\n\\n\"\n",
      "    dim = [Velocity.dim(), Pressure.dim(), Magnetic.dim(), Lagrange.dim()]\n",
      "\n",
      "\n",
      "    def boundary(x, on_boundary):\n",
      "        return on_boundary\n",
      "\n",
      "    u0, p0,b0, r0, Laplacian, Advection, gradPres,CurlCurl, gradR, NS_Couple, M_Couple = ExactSol.MHD2D(4,1)\n",
      "\n",
      "\n",
      "    bcu = DirichletBC(Velocity,u0, boundary)\n",
      "    bcb = DirichletBC(Magnetic,Expression(('0','0')), boundary)\n",
      "    bcr = DirichletBC(Lagrange,Expression(('0')), boundary)\n",
      "\n",
      "    # bc = [u0,p0,b0,r0]\n",
      "    bcs = [bcu,bcb,bcr]\n",
      "    FSpaces = [Velocity,Pressure,Magnetic,Lagrange]\n",
      "\n",
      "\n",
      "    (u, b, p, r) = TrialFunctions(W)\n",
      "    (v, c, q, s) = TestFunctions(W)\n",
      "    kappa = 10.0\n",
      "    Mu_m =10.0\n",
      "    MU = 1.0/1\n",
      "    IterType = 'Full'\n",
      "    Split = \"No\"\n",
      "    Saddle = \"No\"\n",
      "    Stokes = \"No\"\n",
      "    SetupType = 'python-class'\n",
      "    F_NS = -MU*Laplacian+Advection+gradPres-kappa*NS_Couple\n",
      "    if kappa == 0:\n",
      "        F_M = Mu_m*CurlCurl+gradR -kappa*M_Couple\n",
      "    else:\n",
      "        F_M = Mu_m*kappa*CurlCurl+gradR -kappa*M_Couple\n",
      "    params = [kappa,Mu_m,MU]\n",
      "\n",
      "    MO.PrintStr(\"Seting up initial guess matricies\",2,\"=\",\"\\n\\n\",\"\\n\")\n",
      "    BCtime = time.time()\n",
      "    BC = MHDsetup.BoundaryIndices(mesh)\n",
      "    MO.StrTimePrint(\"BC index function, time: \", time.time()-BCtime)\n",
      "    Hiptmairtol = 1e-5\n",
      "    HiptmairMatrices = PrecondSetup.MagneticSetup(Magnetic, Lagrange, b0, r0, Hiptmairtol, params)\n",
      "    print HiptmairMatrices\n",
      "    C = HiptmairMatrices[0]\n",
      "    Px = HiptmairMatrices[1][0]\n",
      "    Py = HiptmairMatrices[1][1]\n",
      "\n",
      "\n",
      "    VecV = VectorFunctionSpace(mesh,\"CG\",1)\n",
      "\n",
      "\n",
      "\n",
      "\n",
      "\n",
      "\n",
      "\n",
      "\n",
      "\n",
      "\n",
      "def HiptmairAnyOrder(Magnetic,Lagrange):\n",
      "    mesh = Magnetic.mesh()\n",
      "    VecLagrange = VectorFunctionSpace(mesh, \"CG\", Magnetic.__dict__['_FunctionSpace___degree'])\n",
      "\n",
      "    def boundary(x, on_boundary):\n",
      "        return on_boundary\n",
      "\n",
      "    dim = mesh.geometry().dim()\n",
      "    u0 = []\n",
      "    for i in range(dim):\n",
      "        u0.append('0.0')\n",
      "    u0 = Expression(u0)\n",
      "    VecBC = DirichletBC(VecLagrange, u0, boundary)\n",
      "    BCb = DirichletBC(Magnetic, u0, boundary)\n",
      "    BCr = DirichletBC(Lagrange, Expression(('0.0')), boundary)\n",
      "\n",
      "    p = TestFunction(Lagrange)\n",
      "    q = TrialFunction(Lagrange)\n",
      "    u = TestFunction(Magnetic)\n",
      "    v = TrialFunction(Magnetic)\n",
      "    Vu = TestFunction(VecLagrange)\n",
      "    Vv = TrialFunction(VecLagrange)\n",
      "\n",
      "    M = assemble(inner(u,v)*dx)\n",
      "    # BCb.apply(M)\n",
      "    B = assemble(inner(v,grad(p))*dx)\n",
      "    L = assemble(inner(grad(Vu),grad(Vv))*dx + inner(Vu,Vv)*dx)\n",
      "    l = assemble(inner(grad(p),grad(q))*dx)\n",
      "    VecBC.apply(L)\n",
      "    BCr.apply(l)\n",
      "    L = CP.Scipy2PETSc(L.sparray())\n",
      "    B = CP.Scipy2PETSc(B.sparray())\n",
      "    M = CP.Scipy2PETSc(M.sparray())\n",
      "    l = CP.Scipy2PETSc(l.sparray())\n",
      "\n",
      "    ksp = PETSc.KSP()\n",
      "    ksp.create(comm=PETSc.COMM_WORLD)\n",
      "    pc = ksp.getPC()\n",
      "    ksp.setType('cg')\n",
      "    pc.setType('bjacobi')\n",
      "    ksp.setOperators(M,M)\n",
      "    ksp.setTolerances(1e-8)\n",
      "\n",
      "\n",
      "    return VecLagrange, ksp, L, l, B, [BCb, BCr, VecBC]\n",
      "\n",
      "\n",
      "\n",
      "VecLagrange, ksp, L, l, B, BC = HiptmairAnyOrder(Magnetic,Lagrange)\n",
      "def GradOp(ksp,B,u):\n",
      "    Bu = B.createVecRight()\n",
      "    B.multTranspose(u,Bu)\n",
      "    v = Bu.duplicate()\n",
      "    ksp.solve(Bu,v)\n",
      "    return v\n",
      "\n",
      "def TransGradOp(ksp,B,u):\n",
      "    Bu = u.duplicate()\n",
      "    ksp.solve(u,Bu)\n",
      "    v = B.createVecLeft()\n",
      "    B.mult(Bu,v)\n",
      "    return v\n",
      "\n",
      "\n",
      "def BCapply(V,BC,x,opt = \"PETSc\"):\n",
      "    v = Function(V)\n",
      "    v.vector()[:] = x.array\n",
      "    BC.apply(v.vector())\n",
      "    if opt == \"PETSc\":\n",
      "        x = IO.arrayToVec(v.vector().array())\n",
      "        return x\n",
      "    else:\n",
      "        return v\n",
      "\n",
      "def PETScToFunc(V,x):\n",
      "    v = Function(V)\n",
      "    v.vector()[:] = x.array\n",
      "    return x\n",
      "\n",
      "def FuncToPETSc(x):\n",
      "    return IO.arrayToVec(x.vector().array())\n",
      "\n",
      "\n",
      "\n",
      "\n",
      "f = Expression(('(x[0])','(x[1])'))\n",
      "Ft = interpolate(f,Magnetic)\n",
      "x = IO.arrayToVec(Ft.vector().array())\n",
      "# Pxx = Px.createVecRight()\n",
      "# Px.multTranspose(x,Pxx)\n",
      "# Pyy  = Py.createVecRight()\n",
      "# Py.multTranspose(x,Pyy)\n",
      "PP = CP.Scipy2PETSc(bmat([[CP.PETSc2Scipy(Px),CP.PETSc2Scipy(Py)]]))\n",
      "P = PP.createVecRight()\n",
      "PP.multTranspose(x,P)\n",
      "\n",
      "\n",
      "P = np.concatenate((Pxx.array,Pyy.array),axis=1)\n",
      "PP = Function(VecLagrange)\n",
      "PP.vector()[:] = P\n",
      "\n",
      "\n",
      "f = BCapply(Magnetic,BC[0],x,\"dolfin\")\n",
      "fVec = interpolate(f,VecLagrange)\n",
      "BC[2].apply(fVec.vector())\n",
      "\n",
      "uVec = FuncToPETSc(fVec)\n",
      "\n",
      "print uVec.array\n",
      "print PP.vector().array()\n",
      "print np.max(abs(uVec.array-PP.vector().array()))\n",
      "# plot(Ft)\n",
      "# plot(PP)\n",
      "interactive()\n"
     ],
     "language": "python",
     "metadata": {},
     "outputs": [
      {
       "output_type": "stream",
       "stream": "stderr",
       "text": [
        "DEBUG:FFC:Reusing form from cache.\n"
       ]
      },
      {
       "output_type": "stream",
       "stream": "stderr",
       "text": [
        "DEBUG:FFC:Reusing form from cache.\n"
       ]
      },
      {
       "output_type": "stream",
       "stream": "stderr",
       "text": [
        "DEBUG:FFC:Reusing form from cache.\n"
       ]
      },
      {
       "output_type": "stream",
       "stream": "stderr",
       "text": [
        "DEBUG:FFC:Reusing form from cache.\n"
       ]
      },
      {
       "output_type": "stream",
       "stream": "stderr",
       "text": [
        "DEBUG:FFC:Reusing form from cache.\n"
       ]
      },
      {
       "output_type": "stream",
       "stream": "stdout",
       "text": [
        "1\n",
        "\n",
        "\n",
        "W:   [ 156.] Velocity:   [ 50.] Pressure:   [ 25.] Magnetic:   [ 56.] Lagrange:   [ 25.] \n",
        "\n",
        "\n",
        "\n",
        "   >>>>>>>>>>>>>>>>>>>>>>>>>>\n",
        "     MHD 2D Exact Solution:\n",
        "   >>>>>>>>>>>>>>>>>>>>>>>>>>\n",
        "\n",
        " ----------------------\n",
        "   NS Exact Solution:\n",
        " ----------------------\n",
        "  u = ("
       ]
      },
      {
       "output_type": "stream",
       "stream": "stdout",
       "text": [
        " x*y*exp(x + y) + x*exp(x + y) , -x*y*exp(x + y) - y*exp(x + y) )\n",
        "\n",
        "  p = ( exp(y)*sin(x) )\n",
        "\n",
        " ---------------------------\n",
        "   Maxwell Exact Solution:\n",
        " ---------------------------\n",
        "  b = ("
       ]
      },
      {
       "output_type": "stream",
       "stream": "stdout",
       "text": [
        " exp(x + y)*cos(x) , exp(x + y)*sin(x) - exp(x + y)*cos(x) )\n",
        "\n",
        "  p = ( x*sin(2*pi*x)*sin(2*pi*y) )\n",
        "\n",
        "\n",
        "\n",
        "====================================="
       ]
      },
      {
       "output_type": "stream",
       "stream": "stdout",
       "text": [
        "\n",
        "  Seting up initial guess matricies\n",
        "=====================================\n",
        "\n",
        "BC index function, time:                  ==>   0.000802    time:  20:56\n",
        " ==================================\n",
        "   Preconditioning Magnetic setup\n",
        " ==================================\n",
        "Compute edge boundary indices, time:    "
       ]
      },
      {
       "output_type": "stream",
       "stream": "stderr",
       "text": [
        "DEBUG:FFC:Reusing form from cache.\n"
       ]
      },
      {
       "output_type": "stream",
       "stream": "stderr",
       "text": [
        "DEBUG:FFC:Reusing form from cache.\n"
       ]
      },
      {
       "output_type": "stream",
       "stream": "stderr",
       "text": [
        "DEBUG:FFC:Reusing form from cache.\n"
       ]
      },
      {
       "output_type": "stream",
       "stream": "stderr",
       "text": [
        "DEBUG:FFC:Reusing form from cache.\n"
       ]
      },
      {
       "output_type": "stream",
       "stream": "stderr",
       "text": [
        "DEBUG:FFC:Reusing form from cache.\n"
       ]
      },
      {
       "output_type": "stream",
       "stream": "stderr",
       "text": [
        "DEBUG:FFC:Reusing form from cache.\n"
       ]
      },
      {
       "output_type": "stream",
       "stream": "stderr",
       "text": [
        "DEBUG:FFC:Reusing form from cache.\n"
       ]
      },
      {
       "output_type": "stream",
       "stream": "stderr",
       "text": [
        "DEBUG:FFC:Reusing form from cache.\n"
       ]
      },
      {
       "output_type": "stream",
       "stream": "stderr",
       "text": [
        "DEBUG:FFC:Reusing form from cache.\n"
       ]
      },
      {
       "output_type": "stream",
       "stream": "stderr",
       "text": [
        "DEBUG:FFC:Reusing form from cache.\n"
       ]
      },
      {
       "output_type": "stream",
       "stream": "stderr",
       "text": [
        "DEBUG:FFC:Reusing form from cache.\n"
       ]
      },
      {
       "output_type": "stream",
       "stream": "stderr",
       "text": [
        "DEBUG:FFC:Reusing form from cache.\n"
       ]
      },
      {
       "output_type": "stream",
       "stream": "stdout",
       "text": [
        "  ==>   0.000360    time:  20:56\n",
        "Data for C and P created, time:           ==>   0.000056    time:  20:56\n",
        "Work out boundary matrices, time:         ==>   0.000152    time:  20:56\n",
        "BC applied to gradient, time:             ==>   0.000561    time:  20:56\n",
        "BC applied to Prolongation, time:         ==>   0.000848    time:  20:56\n",
        "Hiptmair Laplacians BC assembled, time:   ==>   0.016730    time:  20:56\n",
        "PETSc Laplacians assembled, time:         ==>   0.003492    time:  20:56\n",
        "Shifted Curl-Curl assembled, time:        ==>   0.005584    time:  20:56\n",
        "Hiptmair Setup time:                      ==>   0.000201    time:  20:56\n",
        "[<petsc4py.PETSc.Mat object at 0x10e71ef50>, [<petsc4py.PETSc.Mat object at 0x10e71eb30>, <petsc4py.PETSc.Mat object at 0x10e8e9830>], <petsc4py.PETSc.KSP object at 0x10eca6770>, <petsc4py.PETSc.KSP object at 0x10eca6230>, <petsc4py.PETSc.KSP object at 0x10eca61d0>, <petsc4py.PETSc.Vec object at 0x10eca67d0>, <petsc4py.PETSc.Mat object at 0x10eca6710>]\n"
       ]
      },
      {
       "ename": "Error",
       "evalue": "error code 60\n[0] MatMultTranspose() line 2234 in /Users/michaelwathen/programs/petsc-3.5.2/src/mat/interface/matrix.c\n[0] Nonconforming object sizes\n[0] Mat mat,Vec y: global dim 50 56",
       "output_type": "pyerr",
       "traceback": [
        "\u001b[0;31m---------------------------------------------------------------------------\u001b[0m\n\u001b[0;31mError\u001b[0m                                     Traceback (most recent call last)",
        "\u001b[0;32m<ipython-input-21-3eb202e8be1b>\u001b[0m in \u001b[0;36m<module>\u001b[0;34m()\u001b[0m\n\u001b[1;32m    260\u001b[0m \u001b[0mPP\u001b[0m \u001b[0;34m=\u001b[0m \u001b[0mCP\u001b[0m\u001b[0;34m.\u001b[0m\u001b[0mScipy2PETSc\u001b[0m\u001b[0;34m(\u001b[0m\u001b[0mbmat\u001b[0m\u001b[0;34m(\u001b[0m\u001b[0;34m[\u001b[0m\u001b[0;34m[\u001b[0m\u001b[0mCP\u001b[0m\u001b[0;34m.\u001b[0m\u001b[0mPETSc2Scipy\u001b[0m\u001b[0;34m(\u001b[0m\u001b[0mPx\u001b[0m\u001b[0;34m)\u001b[0m\u001b[0;34m,\u001b[0m\u001b[0mCP\u001b[0m\u001b[0;34m.\u001b[0m\u001b[0mPETSc2Scipy\u001b[0m\u001b[0;34m(\u001b[0m\u001b[0mPy\u001b[0m\u001b[0;34m)\u001b[0m\u001b[0;34m]\u001b[0m\u001b[0;34m]\u001b[0m\u001b[0;34m)\u001b[0m\u001b[0;34m)\u001b[0m\u001b[0;34m\u001b[0m\u001b[0m\n\u001b[1;32m    261\u001b[0m \u001b[0mP\u001b[0m \u001b[0;34m=\u001b[0m \u001b[0mPP\u001b[0m\u001b[0;34m.\u001b[0m\u001b[0mcreateVecLeft\u001b[0m\u001b[0;34m(\u001b[0m\u001b[0;34m)\u001b[0m\u001b[0;34m\u001b[0m\u001b[0m\n\u001b[0;32m--> 262\u001b[0;31m \u001b[0mPP\u001b[0m\u001b[0;34m.\u001b[0m\u001b[0mmultTranspose\u001b[0m\u001b[0;34m(\u001b[0m\u001b[0mx\u001b[0m\u001b[0;34m,\u001b[0m\u001b[0mP\u001b[0m\u001b[0;34m)\u001b[0m\u001b[0;34m\u001b[0m\u001b[0m\n\u001b[0m\u001b[1;32m    263\u001b[0m \u001b[0;34m\u001b[0m\u001b[0m\n\u001b[1;32m    264\u001b[0m \u001b[0;34m\u001b[0m\u001b[0m\n",
        "\u001b[0;32m/Users/michaelwathen/programs/petsc-3.5.2/arch-darwin-c-opt/lib/petsc4py/lib/arch-darwin-c-opt/PETSc.so\u001b[0m in \u001b[0;36mpetsc4py.PETSc.Mat.multTranspose (src/petsc4py.PETSc.c:115340)\u001b[0;34m()\u001b[0m\n",
        "\u001b[0;31mError\u001b[0m: error code 60\n[0] MatMultTranspose() line 2234 in /Users/michaelwathen/programs/petsc-3.5.2/src/mat/interface/matrix.c\n[0] Nonconforming object sizes\n[0] Mat mat,Vec y: global dim 50 56"
       ]
      }
     ],
     "prompt_number": 21
    },
    {
     "cell_type": "code",
     "collapsed": false,
     "input": [
      "f = Expression(('(x[0])','(x[1])'))\n",
      "Ft = interpolate(f,VecLagrange)\n",
      "x = IO.arrayToVec(Ft.vector().array())\n",
      "Pxx = Px.createVecLeft()\n",
      "PP = CP.Scipy2PETSc(bmat([[CP.PETSc2Scipy(Px),CP.PETSc2Scipy(Py)]]))\n",
      "P = Px.createVecLeft()\n",
      "PP.mult(x,P)\n",
      "\n",
      "# P = np.concatenate((Pxx.array,Pyy.array),axis=1)\n",
      "\n",
      "f = BCapply(VecLagrange,BC[2],x,\"dolfin\")\n",
      "fVec = interpolate(f,Magnetic)\n",
      "BC[0].apply(fVec.vector())\n",
      "uVec = FuncToPETSc(fVec)\n",
      "\n",
      "print uVec.array\n",
      "print P.array\n",
      "print np.max(abs(uVec.array-P.array))"
     ],
     "language": "python",
     "metadata": {},
     "outputs": [
      {
       "output_type": "stream",
       "stream": "stdout",
       "text": [
        "[  1.23370055e+00   2.46740110e+00   0.00000000e+00   1.23370055e+00\n",
        "   0.00000000e+00   1.23370055e+00   3.70110165e+00   0.00000000e+00\n",
        "   3.70110165e+00   1.23370055e+00   4.93480220e+00   0.00000000e+00\n",
        "   6.16850275e+00   0.00000000e+00   4.10904827e-16   0.00000000e+00\n",
        "   3.70110165e+00   3.70110165e+00   3.70110165e+00   1.23370055e+00\n",
        "   0.00000000e+00   3.70110165e+00   7.40220330e+00   3.70110165e+00\n",
        "   3.70110165e+00   9.86960440e+00   6.16850275e+00   0.00000000e+00\n",
        "   4.93480220e+00   3.70110165e+00   6.16850275e+00   4.93480220e+00\n",
        "   1.23370055e+00   0.00000000e+00   6.16850275e+00   9.86960440e+00\n",
        "   3.70110165e+00   6.16850275e+00   1.23370055e+01   6.16850275e+00\n",
        "   0.00000000e+00   6.16850275e+00   3.70110165e+00   3.70110165e+00\n",
        "   0.00000000e+00   0.00000000e+00   0.00000000e+00   3.70110165e+00\n",
        "   4.93480220e+00   0.00000000e+00   3.70110165e+00   6.16850275e+00\n",
        "   0.00000000e+00   0.00000000e+00   7.40220330e+00   0.00000000e+00]\n",
        "[  1.23370055   2.4674011    0.           1.23370055   0.           1.23370055\n",
        "   3.70110165   0.           3.70110165   1.23370055   4.9348022    0.\n",
        "   6.16850275   0.           0.           0.           3.70110165\n",
        "   3.70110165   3.70110165   1.23370055   0.           3.70110165\n",
        "   7.4022033    3.70110165   3.70110165   9.8696044    6.16850275   0.\n",
        "   4.9348022    3.70110165   6.16850275   4.9348022    1.23370055   0.\n",
        "   6.16850275   9.8696044    3.70110165   6.16850275  12.3370055\n",
        "   6.16850275   0.           6.16850275   3.70110165   3.70110165   0.           0.\n",
        "   0.           3.70110165   4.9348022    0.           3.70110165\n",
        "   6.16850275   0.           0.           7.4022033    0.        ]\n",
        "1.06581410364e-14\n"
       ]
      }
     ],
     "prompt_number": 18
    },
    {
     "cell_type": "code",
     "collapsed": false,
     "input": [],
     "language": "python",
     "metadata": {},
     "outputs": []
    },
    {
     "cell_type": "code",
     "collapsed": false,
     "input": [
      "np.linalg.norm(PP.vector().array())"
     ],
     "language": "python",
     "metadata": {},
     "outputs": [
      {
       "metadata": {},
       "output_type": "pyout",
       "prompt_number": 17,
       "text": [
        "103.12792034132563"
       ]
      }
     ],
     "prompt_number": 17
    },
    {
     "cell_type": "markdown",
     "metadata": {},
     "source": [
      "1./(0.1875/0.01757812)"
     ]
    },
    {
     "cell_type": "code",
     "collapsed": false,
     "input": [
      "E = Edge(mesh, 9)\n",
      "E.length()"
     ],
     "language": "python",
     "metadata": {},
     "outputs": [
      {
       "metadata": {},
       "output_type": "pyout",
       "prompt_number": 13,
       "text": [
        "1.5707963267948966"
       ]
      }
     ],
     "prompt_number": 13
    },
    {
     "cell_type": "code",
     "collapsed": false,
     "input": [],
     "language": "python",
     "metadata": {},
     "outputs": []
    },
    {
     "cell_type": "code",
     "collapsed": false,
     "input": [],
     "language": "python",
     "metadata": {},
     "outputs": []
    },
    {
     "cell_type": "code",
     "collapsed": false,
     "input": [
      "E.length()"
     ],
     "language": "python",
     "metadata": {},
     "outputs": [
      {
       "metadata": {},
       "output_type": "pyout",
       "prompt_number": 7,
       "text": [
        "2.221441469079183"
       ]
      }
     ],
     "prompt_number": 7
    },
    {
     "cell_type": "code",
     "collapsed": false,
     "input": [
      "Px.getValuesCSR()"
     ],
     "language": "python",
     "metadata": {},
     "outputs": [
      {
       "metadata": {},
       "output_type": "pyout",
       "prompt_number": 3,
       "text": [
        "(array([ 0,  0,  1,  1,  2,  2,  2,  3,  3,  5,  5,  6,  6,  8,  8,  8,  8,\n",
        "         9,  9, 10, 11, 11, 11, 13, 15, 15, 17, 19, 19, 20, 21, 21, 22, 23,\n",
        "        23, 23, 25, 27, 27, 29, 31, 31, 32, 33, 33, 33, 33, 33, 33, 34, 34,\n",
        "        34, 35, 35, 35, 36, 36], dtype=int32),\n",
        " array([ 6,  6,  7,  6,  7,  8,  7,  8,  8, 11, 11,  6, 12, 11, 12,  7, 13,\n",
        "        12, 13,  8, 13, 16, 16, 11, 17, 16, 17, 12, 18, 17, 18, 13, 18, 16,\n",
        "        17, 18], dtype=int32),\n",
        " array([ 0.78539816,  0.78539816,  0.78539816,  0.78539816,  0.78539816,\n",
        "         0.78539816,  0.78539816,  0.78539816,  0.78539816,  0.78539816,\n",
        "         0.78539816,  0.78539816,  0.78539816,  0.78539816,  0.78539816,\n",
        "         0.78539816,  0.78539816,  0.78539816,  0.78539816,  0.78539816,\n",
        "         0.78539816,  0.78539816,  0.78539816,  0.78539816,  0.78539816,\n",
        "         0.78539816,  0.78539816,  0.78539816,  0.78539816,  0.78539816,\n",
        "         0.78539816,  0.78539816,  0.78539816,  0.78539816,  0.78539816,\n",
        "         0.78539816]))"
       ]
      }
     ],
     "prompt_number": 3
    },
    {
     "cell_type": "code",
     "collapsed": false,
     "input": [],
     "language": "python",
     "metadata": {},
     "outputs": []
    }
   ],
   "metadata": {}
  }
 ]
}
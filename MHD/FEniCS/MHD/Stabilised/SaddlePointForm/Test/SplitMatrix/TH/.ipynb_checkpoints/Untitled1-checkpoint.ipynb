{
 "metadata": {
  "name": "",
  "signature": "sha256:49f6a18988b977ab817bcd52a2a54603a08291c09b7221dac715a6bb063703b8"
 },
 "nbformat": 3,
 "nbformat_minor": 0,
 "worksheets": [
  {
   "cells": [
    {
     "cell_type": "code",
     "collapsed": false,
     "input": [
      "import petsc4py\n",
      "import sys\n",
      "\n",
      "petsc4py.init(sys.argv)\n",
      "\n",
      "from petsc4py import PETSc\n",
      "from dolfin import *\n",
      "Print = PETSc.Sys.Print\n",
      "# from MatrixOperations import *\n",
      "import numpy as np\n",
      "import PETScIO as IO\n",
      "import common\n",
      "import scipy\n",
      "import scipy.io\n",
      "import time\n",
      "\n",
      "import BiLinear as forms\n",
      "import IterOperations as Iter\n",
      "import MatrixOperations as MO\n",
      "import CheckPetsc4py as CP\n",
      "import ExactSol\n",
      "import Solver as S\n",
      "import MHDmatrixPrecondSetup as PrecondSetup\n",
      "import NSprecondSetup\n",
      "import MHDprec as MHDpreconditioner\n",
      "import memory_profiler\n",
      "import gc\n",
      "import MHDmulti\n",
      "import MHDmatrixSetup as MHDsetup\n",
      "from scipy.sparse import coo_matrix, csr_matrix, spdiags, bmat\n",
      "\n",
      "#@profile\n",
      "m = 2\n",
      "\n",
      "\n",
      "errL2u =np.zeros((m-1,1))\n",
      "errH1u =np.zeros((m-1,1))\n",
      "errL2p =np.zeros((m-1,1))\n",
      "errL2b =np.zeros((m-1,1))\n",
      "errCurlb =np.zeros((m-1,1))\n",
      "errL2r =np.zeros((m-1,1))\n",
      "errH1r =np.zeros((m-1,1))\n",
      "\n",
      "\n",
      "\n",
      "l2uorder =  np.zeros((m-1,1))\n",
      "H1uorder =np.zeros((m-1,1))\n",
      "l2porder =  np.zeros((m-1,1))\n",
      "l2border =  np.zeros((m-1,1))\n",
      "Curlborder =np.zeros((m-1,1))\n",
      "l2rorder =  np.zeros((m-1,1))\n",
      "H1rorder = np.zeros((m-1,1))\n",
      "\n",
      "NN = np.zeros((m-1,1))\n",
      "DoF = np.zeros((m-1,1))\n",
      "Velocitydim = np.zeros((m-1,1))\n",
      "Magneticdim = np.zeros((m-1,1))\n",
      "Pressuredim = np.zeros((m-1,1))\n",
      "Lagrangedim = np.zeros((m-1,1))\n",
      "Wdim = np.zeros((m-1,1))\n",
      "iterations = np.zeros((m-1,1))\n",
      "SolTime = np.zeros((m-1,1))\n",
      "udiv = np.zeros((m-1,1))\n",
      "MU = np.zeros((m-1,1))\n",
      "level = np.zeros((m-1,1))\n",
      "NSave = np.zeros((m-1,1))\n",
      "Mave = np.zeros((m-1,1))\n",
      "TotalTime = np.zeros((m-1,1))\n",
      "\n",
      "nn = 2\n",
      "\n",
      "dim = 2\n",
      "ShowResultPlots = 'yes'\n",
      "split = 'Linear'\n",
      "parameters[\"form_compiler\"][\"no-evaluate_basis_derivatives\"] = False\n",
      "\n",
      "MU[0]= 1e0\n",
      "for xx in xrange(1,m):\n",
      "    print xx\n",
      "    level[xx-1] = xx + 1\n",
      "    nn = 2**(level[xx-1])\n",
      "\n",
      "\n",
      "\n",
      "    # Create mesh and define function space\n",
      "    nn = int(nn)\n",
      "    NN[xx-1] = nn/2\n",
      "    # parameters[\"form_compiler\"][\"quadrature_degree\"] = 6\n",
      "    # parameters = CP.ParameterSetup()\n",
      "    mesh = UnitSquareMesh(nn,nn)\n",
      "#     mesh = RectangleMesh(0,0,2*np.pi,2*np.pi,nn,nn)\n",
      "    order = 2\n",
      "    parameters['reorder_dofs_serial'] = False\n",
      "    Velocity = VectorFunctionSpace(mesh, \"CG\", order)\n",
      "    Pressure = FunctionSpace(mesh, \"CG\", order)\n",
      "    Magnetic = FunctionSpace(mesh, \"N1curl\", order)\n",
      "    Lagrange = FunctionSpace(mesh, \"CG\", order)\n",
      "    W = MixedFunctionSpace([Velocity, Pressure, Magnetic,Lagrange])\n",
      "    # W = Velocity*Pressure*Magnetic*Lagrange\n",
      "    Velocitydim[xx-1] = Velocity.dim()\n",
      "    Pressuredim[xx-1] = Pressure.dim()\n",
      "    Magneticdim[xx-1] = Magnetic.dim()\n",
      "    Lagrangedim[xx-1] = Lagrange.dim()\n",
      "    Wdim[xx-1] = W.dim()\n",
      "    print \"\\n\\nW:  \",Wdim[xx-1],\"Velocity:  \",Velocitydim[xx-1],\"Pressure:  \",Pressuredim[xx-1],\"Magnetic:  \",Magneticdim[xx-1],\"Lagrange:  \",Lagrangedim[xx-1],\"\\n\\n\"\n",
      "    dim = [Velocity.dim(), Pressure.dim(), Magnetic.dim(), Lagrange.dim()]\n",
      "\n",
      "\n",
      "    def boundary(x, on_boundary):\n",
      "        return on_boundary\n",
      "\n",
      "    u0, p0,b0, r0, Laplacian, Advection, gradPres,CurlCurl, gradR, NS_Couple, M_Couple = ExactSol.MHD2D(4,1)\n",
      "\n",
      "\n",
      "    bcu = DirichletBC(Velocity,u0, boundary)\n",
      "    bcb = DirichletBC(Magnetic,Expression(('0','0')), boundary)\n",
      "    bcr = DirichletBC(Lagrange,Expression(('0')), boundary)\n",
      "\n",
      "    # bc = [u0,p0,b0,r0]\n",
      "    bcs = [bcu,bcb,bcr]\n",
      "    FSpaces = [Velocity,Pressure,Magnetic,Lagrange]\n",
      "\n",
      "\n",
      "    (u, b, p, r) = TrialFunctions(W)\n",
      "    (v, c, q, s) = TestFunctions(W)\n",
      "    kappa = 10.0\n",
      "    Mu_m =10.0\n",
      "    MU = 1.0/1\n",
      "    IterType = 'Full'\n",
      "    Split = \"No\"\n",
      "    Saddle = \"No\"\n",
      "    Stokes = \"No\"\n",
      "    SetupType = 'python-class'\n",
      "    F_NS = -MU*Laplacian+Advection+gradPres-kappa*NS_Couple\n",
      "    if kappa == 0:\n",
      "        F_M = Mu_m*CurlCurl+gradR -kappa*M_Couple\n",
      "    else:\n",
      "        F_M = Mu_m*kappa*CurlCurl+gradR -kappa*M_Couple\n",
      "    params = [kappa,Mu_m,MU]\n",
      "\n",
      "    MO.PrintStr(\"Seting up initial guess matricies\",2,\"=\",\"\\n\\n\",\"\\n\")\n",
      "    BCtime = time.time()\n",
      "    BC = MHDsetup.BoundaryIndices(mesh)\n",
      "    MO.StrTimePrint(\"BC index function, time: \", time.time()-BCtime)\n",
      "    Hiptmairtol = 1e-5\n",
      "    HiptmairMatrices = PrecondSetup.MagneticSetup(Magnetic, Lagrange, b0, r0, Hiptmairtol, params)\n",
      "    print HiptmairMatrices\n",
      "#     C = CP.PETSc2Scipy(HiptmairMatrices[0])\n",
      "#     Px = CP.PETSc2Scipy(HiptmairMatrices[1][0])\n",
      "#     Py = CP.PETSc2Scipy(HiptmairMatrices[1][1])\n",
      "\n",
      "\n",
      "    VecV = VectorFunctionSpace(mesh,\"CG\",1)\n",
      "\n",
      "\n",
      "\n",
      "interactive()"
     ],
     "language": "python",
     "metadata": {},
     "outputs": [
      {
       "output_type": "stream",
       "stream": "stderr",
       "text": [
        "DEBUG:FFC:Reusing form from cache.\n"
       ]
      },
      {
       "output_type": "stream",
       "stream": "stderr",
       "text": [
        "DEBUG:FFC:Reusing form from cache.\n"
       ]
      },
      {
       "output_type": "stream",
       "stream": "stderr",
       "text": [
        "DEBUG:FFC:Reusing form from cache.\n"
       ]
      },
      {
       "output_type": "stream",
       "stream": "stderr",
       "text": [
        "DEBUG:FFC:Reusing form from cache.\n"
       ]
      },
      {
       "output_type": "stream",
       "stream": "stderr",
       "text": [
        "DEBUG:FFC:Reusing form from cache.\n"
       ]
      },
      {
       "output_type": "stream",
       "stream": "stdout",
       "text": [
        "1\n",
        "\n",
        "\n",
        "W:   [ 500.] Velocity:   [ 162.] Pressure:   [ 81.] Magnetic:   [ 176.] Lagrange:   [ 81.] \n",
        "\n",
        "\n",
        "\n",
        "   >>>>>>>>>>>>>>>>>>>>>>>>>>\n",
        "     MHD 2D Exact Solution:\n",
        "   >>>>>>>>>>>>>>>>>>>>>>>>>>\n",
        "\n",
        " ----------------------\n",
        "   NS Exact Solution:\n",
        " ----------------------\n",
        "  u = ("
       ]
      },
      {
       "output_type": "stream",
       "stream": "stdout",
       "text": [
        " x*y*exp(x + y) + x*exp(x + y) , -x*y*exp(x + y) - y*exp(x + y) )\n",
        "\n",
        "  p = ( exp(y)*sin(x) )\n",
        "\n",
        " ---------------------------\n",
        "   Maxwell Exact Solution:\n",
        " ---------------------------\n",
        "  b = ( exp(x + y)*cos(x) , exp(x + y)*sin(x) - exp(x + y)*cos(x) )\n",
        "\n",
        "  p = ( x*sin(2*pi*x)*sin(2*pi*y) )\n",
        "\n",
        "\n",
        "\n",
        "====================================="
       ]
      },
      {
       "output_type": "stream",
       "stream": "stderr",
       "text": [
        "DEBUG:FFC:Reusing form from cache.\n"
       ]
      },
      {
       "output_type": "stream",
       "stream": "stderr",
       "text": [
        "DEBUG:FFC:Reusing form from cache.\n"
       ]
      },
      {
       "output_type": "stream",
       "stream": "stderr",
       "text": [
        "DEBUG:FFC:Reusing form from cache.\n"
       ]
      },
      {
       "output_type": "stream",
       "stream": "stderr",
       "text": [
        "DEBUG:FFC:Reusing form from cache.\n"
       ]
      },
      {
       "output_type": "stream",
       "stream": "stderr",
       "text": [
        "DEBUG:FFC:Reusing form from cache.\n"
       ]
      },
      {
       "output_type": "stream",
       "stream": "stderr",
       "text": [
        "DEBUG:FFC:Reusing form from cache.\n"
       ]
      },
      {
       "output_type": "stream",
       "stream": "stderr",
       "text": [
        "DEBUG:FFC:Reusing form from cache.\n"
       ]
      },
      {
       "output_type": "stream",
       "stream": "stdout",
       "text": [
        "\n",
        "  Seting up initial guess matricies\n",
        "=====================================\n",
        "\n",
        "BC index function, time:                  ==>   0.000363    time:  11:26\n",
        " ==================================\n",
        "   Preconditioning Magnetic setup\n",
        " ==================================\n",
        "Hiptmair Laplacians BC assembled, time:   ==>   0.004286    time:  11:26\n",
        "PETSc Laplacians assembled, time:         ==>   0.000978    time:  11:26\n",
        "Shifted Curl-Curl assembled, time:        ==>   0.003250    time:  11:26\n",
        "Hiptmair Setup time:                      ==>   0.000198    time:  11:26\n",
        "[None, None, <petsc4py.PETSc.KSP object at 0x1102860b0>, <petsc4py.PETSc.KSP object at 0x110286290>, <petsc4py.PETSc.KSP object at 0x110286890>, <petsc4py.PETSc.Vec object at 0x110286ad0>, <petsc4py.PETSc.Mat object at 0x10fafc290>]\n"
       ]
      }
     ],
     "prompt_number": 2
    },
    {
     "cell_type": "code",
     "collapsed": false,
     "input": [
      "element = Lagrange.dolfin_element()\n",
      "basis = np.zeros(2*element.space_dimension()*element.value_dimension(0))\n",
      "\n",
      "coords = np.array((0.0,0.0))\n",
      "cell = Cell(mesh, 1)\n",
      "vc = cell.get_vertex_coordinates()\n",
      "element.evaluate_basis_derivatives_all(1,basis, coords, vc, 2)\n",
      "\n",
      "print basis\n"
     ],
     "language": "python",
     "metadata": {},
     "outputs": [
      {
       "output_type": "stream",
       "stream": "stdout",
       "text": [
        "[ -1.77635684e-15  -1.20000000e+01   4.00000000e+00  -4.00000000e+00\n",
        "  -4.00000000e+00   0.00000000e+00  -5.24025268e-14  -1.50990331e-14\n",
        "   1.60000000e+01   1.50990331e-14  -1.60000000e+01   1.60000000e+01]\n"
       ]
      }
     ],
     "prompt_number": 3
    },
    {
     "cell_type": "code",
     "collapsed": false,
     "input": [],
     "language": "python",
     "metadata": {},
     "outputs": []
    },
    {
     "cell_type": "code",
     "collapsed": false,
     "input": [],
     "language": "python",
     "metadata": {},
     "outputs": []
    },
    {
     "cell_type": "code",
     "collapsed": false,
     "input": [],
     "language": "python",
     "metadata": {},
     "outputs": []
    }
   ],
   "metadata": {}
  }
 ]
}
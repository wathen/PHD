{
 "metadata": {
  "name": "",
  "signature": "sha256:e43953827b5a7f20123f54c24186d805b71bbcffbf23d350b7de0fecad851c0d"
 },
 "nbformat": 3,
 "nbformat_minor": 0,
 "worksheets": [
  {
   "cells": [
    {
     "cell_type": "code",
     "collapsed": false,
     "input": [
      "import petsc4py\n",
      "import sys\n",
      "\n",
      "petsc4py.init(sys.argv)\n",
      "\n",
      "from petsc4py import PETSc\n",
      "from dolfin import *\n",
      "Print = PETSc.Sys.Print\n",
      "# from MatrixOperations import *\n",
      "import numpy as np\n",
      "import PETScIO as IO\n",
      "import common\n",
      "import scipy\n",
      "import scipy.io\n",
      "import time\n",
      "\n",
      "import BiLinear as forms\n",
      "import IterOperations as Iter\n",
      "import MatrixOperations as MO\n",
      "import CheckPetsc4py as CP\n",
      "import ExactSol\n",
      "import Solver as S\n",
      "import NSprecondSetup\n",
      "import memory_profiler\n",
      "import gc\n",
      "from scipy.sparse import coo_matrix, csr_matrix, spdiags, bmat, linalg\n",
      "\n",
      "#@profile\n",
      "m = 2\n",
      "\n",
      "\n",
      "errL2u =np.zeros((m-1,1))\n",
      "errH1u =np.zeros((m-1,1))\n",
      "errL2p =np.zeros((m-1,1))\n",
      "errL2b =np.zeros((m-1,1))\n",
      "errCurlb =np.zeros((m-1,1))\n",
      "errL2r =np.zeros((m-1,1))\n",
      "errH1r =np.zeros((m-1,1))\n",
      "\n",
      "\n",
      "\n",
      "l2uorder =  np.zeros((m-1,1))\n",
      "H1uorder =np.zeros((m-1,1))\n",
      "l2porder =  np.zeros((m-1,1))\n",
      "l2border =  np.zeros((m-1,1))\n",
      "Curlborder =np.zeros((m-1,1))\n",
      "l2rorder =  np.zeros((m-1,1))\n",
      "H1rorder = np.zeros((m-1,1))\n",
      "\n",
      "NN = np.zeros((m-1,1))\n",
      "DoF = np.zeros((m-1,1))\n",
      "Velocitydim = np.zeros((m-1,1))\n",
      "Magneticdim = np.zeros((m-1,1))\n",
      "Pressuredim = np.zeros((m-1,1))\n",
      "Lagrangedim = np.zeros((m-1,1))\n",
      "Wdim = np.zeros((m-1,1))\n",
      "iterations = np.zeros((m-1,1))\n",
      "SolTime = np.zeros((m-1,1))\n",
      "udiv = np.zeros((m-1,1))\n",
      "MU = np.zeros((m-1,1))\n",
      "level = np.zeros((m-1,1))\n",
      "NSave = np.zeros((m-1,1))\n",
      "Mave = np.zeros((m-1,1))\n",
      "TotalTime = np.zeros((m-1,1))\n",
      "\n",
      "nn = 2\n",
      "\n",
      "dim = 2\n",
      "ShowResultPlots = 'yes'\n",
      "split = 'Linear'\n",
      "parameters[\"form_compiler\"][\"no-evaluate_basis_derivatives\"] = False\n",
      "\n",
      "MU[0]= 1e0\n",
      "for xx in xrange(1,m):\n",
      "    print xx\n",
      "    level[xx-1] = xx + 0\n",
      "    nn = 2**(level[xx-1])\n",
      "\n",
      "\n",
      "\n",
      "    # Create mesh and define function space\n",
      "    nn = int(nn)\n",
      "    NN[xx-1] = nn/2\n",
      "    # parameters[\"form_compiler\"][\"quadrature_degree\"] = 6\n",
      "    # parameters = CP.ParameterSetup()\n",
      "    mesh = UnitSquareMesh(nn,nn)\n",
      "    # mesh = RectangleMesh(0,0,2*np.pi,2*np.pi,nn,nn)\n",
      "    order = 2\n",
      "    parameters['reorder_dofs_serial'] = False\n",
      "    Velocity = VectorFunctionSpace(mesh, \"CG\", order)\n",
      "    Pressure = FunctionSpace(mesh, \"CG\", order)\n",
      "    Magnetic = FunctionSpace(mesh, \"N1curl\", order)\n",
      "    Lagrange = FunctionSpace(mesh, \"CG\", order)\n",
      "    W = MixedFunctionSpace([Velocity, Pressure, Magnetic,Lagrange])\n",
      "    print \"\\n\\nW:  \",Wdim[xx-1],\"Velocity:  \",Velocitydim[xx-1],\"Pressure:  \",Pressuredim[xx-1],\"Magnetic:  \",Magneticdim[xx-1],\"Lagrange:  \",Lagrangedim[xx-1],\"\\n\\n\"\n",
      "    dim = [Velocity.dim(), Pressure.dim(), Magnetic.dim(), Lagrange.dim()]\n",
      "\n",
      "\n",
      "    def boundary(x, on_boundary):\n",
      "        return on_boundary\n",
      "\n",
      "    u0, p0,b0, r0, Laplacian, Advection, gradPres,CurlCurl, gradR, NS_Couple, M_Couple = ExactSol.MHD2D(4,1)\n",
      "\n",
      "\n",
      "    bcu = DirichletBC(Velocity,u0, boundary)\n",
      "    bcb = DirichletBC(Magnetic,Expression(('0','0')), boundary)\n",
      "    bcr = DirichletBC(Lagrange,Expression(('0')), boundary)\n",
      "\n",
      "    # bc = [u0,p0,b0,r0]\n",
      "    bcs = [bcu,bcb,bcr]\n",
      "    FSpaces = [Velocity,Pressure,Magnetic,Lagrange]\n",
      "\n",
      "    kappa = 10.0\n",
      "    Mu_m =10.0\n",
      "    MU = 1.0/1\n",
      "    IterType = 'Full'\n",
      "    Split = \"No\"\n",
      "    Saddle = \"No\"\n",
      "    Stokes = \"No\"\n",
      "    SetupType = 'python-class'\n",
      "    F_NS = -MU*Laplacian+Advection+gradPres-kappa*NS_Couple\n",
      "    if kappa == 0:\n",
      "        F_M = Mu_m*CurlCurl+gradR -kappa*M_Couple\n",
      "    else:\n",
      "        F_M = Mu_m*kappa*CurlCurl+gradR -kappa*M_Couple\n",
      "    params = [kappa,Mu_m,MU]\n",
      "\n",
      "    MO.PrintStr(\"Seting up initial guess matricies\",2,\"=\",\"\\n\\n\",\"\\n\")\n",
      "\n",
      "    #C = HiptmairMatrices[0]\n",
      "    #Px = HiptmairMatrices[1][0]\n",
      "    #Py = HiptmairMatrices[1][1]\n",
      "\n",
      "\n"
     ],
     "language": "python",
     "metadata": {},
     "outputs": [
      {
       "output_type": "stream",
       "stream": "stderr",
       "text": [
        "DEBUG:FFC:Reusing form from cache.\n"
       ]
      },
      {
       "output_type": "stream",
       "stream": "stderr",
       "text": [
        "DEBUG:FFC:Reusing form from cache.\n"
       ]
      },
      {
       "output_type": "stream",
       "stream": "stderr",
       "text": [
        "DEBUG:FFC:Reusing form from cache.\n"
       ]
      },
      {
       "output_type": "stream",
       "stream": "stderr",
       "text": [
        "DEBUG:FFC:Reusing form from cache.\n"
       ]
      },
      {
       "output_type": "stream",
       "stream": "stderr",
       "text": [
        "DEBUG:FFC:Reusing form from cache.\n"
       ]
      },
      {
       "output_type": "stream",
       "stream": "stdout",
       "text": [
        "1\n",
        "\n",
        "\n",
        "W:  "
       ]
      },
      {
       "output_type": "stream",
       "stream": "stdout",
       "text": [
        " [ 0.] Velocity:   [ 0.] Pressure:   [ 0.] Magnetic:   [ 0.] Lagrange:   [ 0.] \n",
        "\n",
        "\n",
        "\n",
        "   >>>>>>>>>>>>>>>>>>>>>>>>>>\n",
        "     MHD 2D Exact Solution:\n",
        "   >>>>>>>>>>>>>>>>>>>>>>>>>>\n",
        "\n",
        " ----------------------\n",
        "   NS Exact Solution:\n",
        " ----------------------\n",
        "  u = ("
       ]
      },
      {
       "output_type": "stream",
       "stream": "stdout",
       "text": [
        " x*y*exp(x + y) + x*exp(x + y) , -x*y*exp(x + y) - y*exp(x + y) )\n",
        "\n",
        "  p = ( exp(y)*sin(x) )\n",
        "\n",
        " ---------------------------\n",
        "   Maxwell Exact Solution:\n",
        " ---------------------------\n",
        "  b = ("
       ]
      },
      {
       "output_type": "stream",
       "stream": "stdout",
       "text": [
        " exp(x + y)*cos(x) , exp(x + y)*sin(x) - exp(x + y)*cos(x) )\n",
        "\n",
        "  p = ( x*sin(2*pi*x)*sin(2*pi*y) )\n",
        "\n",
        "\n",
        "\n",
        "====================================="
       ]
      },
      {
       "output_type": "stream",
       "stream": "stdout",
       "text": [
        "\n",
        "  Seting up initial guess matricies\n",
        "=====================================\n",
        "\n"
       ]
      }
     ],
     "prompt_number": 1
    },
    {
     "cell_type": "code",
     "collapsed": false,
     "input": [
      "row = np.zeros(6)\n",
      "col = np.zeros(6)\n",
      "dataX = np.zeros(6)\n",
      "dataY = np.zeros(6)\n",
      "E = Edge(mesh,0)\n",
      "VertexNodes = E.entities(0)\n",
      "V1 = Vertex(mesh,VertexNodes[0])\n",
      "V2 = Vertex(mesh,VertexNodes[1])\n",
      "Xtang = V2.x(0)-V1.x(0)\n",
      "Ytang = V2.x(1)-V1.x(1)\n",
      "\n",
      "row[0] = E.global_index()\n",
      "col[0] = VertexNodes[0]\n",
      "col[1] = VertexNodes[1]\n",
      "col[2] = 0+mesh.num_vertices()\n",
      "dataX[2:5] = (1./6)*Xtang\n",
      "dataY[2:5] = (1./6)*Ytang\n",
      "\n",
      "row[1] = E.global_index()\n",
      "col[3] = VertexNodes[0]\n",
      "col[4] = VertexNodes[1]\n",
      "col[5] = 0+mesh.num_vertices()\n",
      "dataX[2:5] = (1./6)*Xtang\n",
      "dataY[2:5] = (1./6)*Ytang\n",
      "\n",
      "\n",
      "# for i in range(2):\n",
      "#     print i\n",
      "#     for j in range(3):\n",
      "        \n",
      "0+mesh.num_vertices()\n",
      "print mesh.num_edges()"
     ],
     "language": "python",
     "metadata": {},
     "outputs": [
      {
       "output_type": "stream",
       "stream": "stdout",
       "text": [
        "16\n"
       ]
      }
     ],
     "prompt_number": 26
    },
    {
     "cell_type": "code",
     "collapsed": false,
     "input": [
      "row = np.zeros(Magnetic.dim())\n",
      "col = np.zeros(12*mesh.num_edges())\n",
      "dataX = np.zeros(12*mesh.num_edges())\n",
      "dataY = np.zeros(12*mesh.num_edges())\n",
      "EdgeDOFmap = Magnetic.dofmap()\n",
      "\n",
      "k = 0\n",
      "i = 0\n",
      "for l in range(mesh.num_cells()):\n",
      "    C = Cell(mesh,l)\n",
      "    CellDOF = EdgeDOFmap.cell_dofs(l)\n",
      "    print CellDOF\n",
      "#     print len(C.entities(1))\n",
      "    jj = 0\n",
      "    for j in range(len(C.entities(1))):\n",
      "#         print j?\n",
      "        E = Edge(mesh,C.entities(1)[j])\n",
      "        VertexNodes = E.entities(0)\n",
      "        V1 = Vertex(mesh,VertexNodes[0])\n",
      "        V2 = Vertex(mesh,VertexNodes[1])\n",
      "        Xtang = V2.x(0)-V1.x(0)\n",
      "        Ytang = V2.x(1)-V1.x(1)\n",
      "\n",
      "        print CellDOF[jj]\n",
      "        row[k] = CellDOF[jj]\n",
      "        jj = jj + 1\n",
      "        kk = i\n",
      "        col[i] = VertexNodes[0]\n",
      "        i = i+1\n",
      "        col[i] = VertexNodes[1]\n",
      "        i = i+1\n",
      "        col[i] = j+mesh.num_vertices()\n",
      "        dataX[kk:i+1] = (1./6)*Xtang\n",
      "        dataY[kk:i+1] = (1./6)*Ytang\n",
      "\n",
      "        print CellDOF[jj]\n",
      "        k = k+1\n",
      "        row[k] = CellDOF[jj]\n",
      "        jj = jj + 1\n",
      "        kk = i\n",
      "        col[i] = VertexNodes[0]\n",
      "        i = i+1\n",
      "        col[i] = VertexNodes[1]\n",
      "        i = i+1\n",
      "        col[i] = j+mesh.num_vertices()\n",
      "        k = k+1\n",
      "        dataX[kk:i+1] = (1./6)*Xtang\n",
      "        dataY[kk:i+1] = (1./6)*Ytang\n",
      "    "
     ],
     "language": "python",
     "metadata": {},
     "outputs": [
      {
       "output_type": "stream",
       "stream": "stdout",
       "text": [
        "[ 0  1  2  3  4  5 32 33]\n",
        "0\n",
        "1\n",
        "2\n",
        "3\n",
        "4\n",
        "5\n",
        "[ 6  7  2  3  8  9 34 35]\n",
        "6\n",
        "7\n",
        "2\n",
        "3\n",
        "8\n",
        "9\n",
        "[10 11 12 13 14 15 36 37]\n",
        "10\n",
        "11\n",
        "12\n",
        "13\n",
        "14\n",
        "15\n",
        "[16 17 12 13  0  1 38 39]\n",
        "16\n",
        "17\n",
        "12\n",
        "13\n",
        "0\n",
        "1\n",
        "[18 19 20 21  6  7 40 41]\n",
        "18\n",
        "19\n",
        "20\n",
        "21\n",
        "6\n",
        "7\n",
        "[22 23 20 21 24 25 42 43]\n",
        "22\n",
        "23\n",
        "20\n",
        "21\n",
        "24\n",
        "25\n",
        "[26 27 28 29 16 17 44 45]\n",
        "26\n",
        "27\n",
        "28\n",
        "29\n",
        "16\n",
        "17\n",
        "[30 31 28 29 18 19 46 47]\n",
        "30\n",
        "31\n",
        "28\n",
        "29\n",
        "18\n",
        "19\n"
       ]
      }
     ],
     "prompt_number": 92
    },
    {
     "cell_type": "code",
     "collapsed": false,
     "input": [
      "row"
     ],
     "language": "python",
     "metadata": {},
     "outputs": [
      {
       "metadata": {},
       "output_type": "pyout",
       "prompt_number": 89,
       "text": [
        "array([  0.,   1.,   2.,   3.,   4.,   5.,   6.,   7.,   2.,   3.,   8.,\n",
        "         9.,  10.,  11.,  12.,  13.,  14.,  15.,  16.,  17.,  12.,  13.,\n",
        "         0.,   1.,  18.,  19.,  20.,  21.,   6.,   7.,  22.,  23.,  20.,\n",
        "        21.,  24.,  25.,  26.,  27.,  28.,  29.,  16.,  17.,  30.,  31.,\n",
        "        28.,  29.,  18.,  19.])"
       ]
      }
     ],
     "prompt_number": 89
    },
    {
     "cell_type": "markdown",
     "metadata": {},
     "source": []
    },
    {
     "cell_type": "code",
     "collapsed": false,
     "input": [
      "C = Cell(mesh,0)"
     ],
     "language": "python",
     "metadata": {},
     "outputs": [],
     "prompt_number": 58
    },
    {
     "cell_type": "code",
     "collapsed": false,
     "input": [
      "C.entities(2)\n"
     ],
     "language": "python",
     "metadata": {},
     "outputs": [
      {
       "metadata": {},
       "output_type": "pyout",
       "prompt_number": 62,
       "text": [
        "array([], dtype=uint32)"
       ]
      }
     ],
     "prompt_number": 62
    },
    {
     "cell_type": "code",
     "collapsed": false,
     "input": [
      "import petsc4py, sys\n",
      "petsc4py.init(sys.argv)\n",
      "from petsc4py import PETSc\n",
      "from dolfin import *\n",
      "\n",
      "# import matplotlib.pylab as plt\n",
      "import PETScIO as IO\n",
      "import numpy as np\n",
      "import scipy.sparse as sparse\n",
      "import CheckPetsc4py as CP\n",
      "import scipy.sparse.linalg as sparselin\n",
      "import scipy as sp\n",
      "import scipy.io\n",
      "\n",
      "mm = 2\n",
      "for x in xrange(1,mm):\n",
      "    nn = 2**(x)\n",
      "    print nn\n",
      "    mesh = UnitSquareMesh(nn,nn)\n",
      "    print \"Num edges   \", mesh.num_edges()\n",
      "    print \"Num vertices\", mesh.num_vertices()\n",
      "    print \"Num faces\", mesh.num_faces()\n",
      "    order = 2\n",
      "    parameters['reorder_dofs_serial'] = False\n",
      "    V = FunctionSpace(mesh, \"N1curl\", order)\n",
      "    Q = FunctionSpace(mesh, \"CG\", order)\n",
      "    (v) = TrialFunction(V)\n",
      "    (u) = TestFunction(V)\n",
      "\n",
      "\n",
      "    m = inner(u,v)*dx\n",
      "    # parameters['linear_algebra_backend'] = 'PETSc'\n",
      "    M = assemble(m)\n",
      "    M = CP.Assemble(M)\n",
      "\n",
      "    ksp = PETSc.KSP().create()\n",
      "    ksp.setOperators(M)\n",
      "    x = M.getVecLeft()\n",
      "    ksp.setFromOptions()\n",
      "    ksp.setType(ksp.Type.PREONLY)\n",
      "    # ksp.setTolerances(1e-1)\n",
      "    ksp.pc.setType(ksp.pc.Type.LU)\n",
      "\n",
      "\n",
      "    OptDB = PETSc.Options()\n",
      "    ksp.setFromOptions()\n",
      "    C = sparse.csr_matrix((V.dim(),Q.dim()))\n",
      "\n",
      "    tic()\n",
      "    for i in range(0,Q.dim()):\n",
      "        uOut = Function(V)\n",
      "        uu = Function(Q)\n",
      "        x = M.getVecRight()\n",
      "        zero = np.zeros((Q.dim(),1))[:,0]\n",
      "        zero[i] = 1\n",
      "        uu.vector()[:] = zero\n",
      "        L = assemble(inner(u, grad(uu))*dx)\n",
      "        # bcb.apply(L)\n",
      "        rhs = IO.arrayToVec(L.array())\n",
      "        ksp.solve(rhs,x)\n",
      "    #     x = project(grad(uu),V)\n",
      "        P = x.array\n",
      "        uOut.vector()[:] = P\n",
      "        low_values_indices = np.abs(P) < 1e-3\n",
      "        P[low_values_indices] = 0\n",
      "        low_values_indices = np.abs(P) > 1e-3\n",
      "        P[low_values_indices] = 1/3\n",
      "        #P=np.around(P)\n",
      "        pn = P.nonzero()[0]\n",
      "        for j in range(0,len(pn)):\n",
      "            C[pn[j],i] = P[pn[j]]\n",
      "        del uu\n",
      "    print toc()\n",
      "\n"
     ],
     "language": "python",
     "metadata": {},
     "outputs": [
      {
       "output_type": "stream",
       "stream": "stderr",
       "text": [
        "DEBUG:FFC:Reusing form from cache.\n"
       ]
      },
      {
       "output_type": "stream",
       "stream": "stderr",
       "text": [
        "DEBUG:FFC:Reusing form from cache.\n"
       ]
      },
      {
       "output_type": "stream",
       "stream": "stderr",
       "text": [
        "DEBUG:FFC:Reusing form from cache.\n"
       ]
      },
      {
       "output_type": "stream",
       "stream": "stderr",
       "text": [
        "DEBUG:FFC:Reusing form from cache.\n"
       ]
      },
      {
       "output_type": "stream",
       "stream": "stderr",
       "text": [
        "DEBUG:FFC:Reusing form from cache.\n"
       ]
      },
      {
       "output_type": "stream",
       "stream": "stderr",
       "text": [
        "DEBUG:FFC:Reusing form from cache.\n"
       ]
      },
      {
       "output_type": "stream",
       "stream": "stderr",
       "text": [
        "DEBUG:FFC:Reusing form from cache.\n"
       ]
      },
      {
       "output_type": "stream",
       "stream": "stderr",
       "text": [
        "DEBUG:FFC:Reusing form from cache.\n"
       ]
      },
      {
       "output_type": "stream",
       "stream": "stderr",
       "text": [
        "DEBUG:FFC:Reusing form from cache.\n"
       ]
      },
      {
       "output_type": "stream",
       "stream": "stderr",
       "text": [
        "DEBUG:FFC:Reusing form from cache.\n"
       ]
      },
      {
       "output_type": "stream",
       "stream": "stderr",
       "text": [
        "DEBUG:FFC:Reusing form from cache.\n"
       ]
      },
      {
       "output_type": "stream",
       "stream": "stderr",
       "text": [
        "DEBUG:FFC:Reusing form from cache.\n"
       ]
      },
      {
       "output_type": "stream",
       "stream": "stderr",
       "text": [
        "DEBUG:FFC:Reusing form from cache.\n"
       ]
      },
      {
       "output_type": "stream",
       "stream": "stderr",
       "text": [
        "DEBUG:FFC:Reusing form from cache.\n"
       ]
      },
      {
       "output_type": "stream",
       "stream": "stderr",
       "text": [
        "DEBUG:FFC:Reusing form from cache.\n"
       ]
      },
      {
       "output_type": "stream",
       "stream": "stderr",
       "text": [
        "DEBUG:FFC:Reusing form from cache.\n"
       ]
      },
      {
       "output_type": "stream",
       "stream": "stderr",
       "text": [
        "DEBUG:FFC:Reusing form from cache.\n"
       ]
      },
      {
       "output_type": "stream",
       "stream": "stderr",
       "text": [
        "DEBUG:FFC:Reusing form from cache.\n"
       ]
      },
      {
       "output_type": "stream",
       "stream": "stderr",
       "text": [
        "DEBUG:FFC:Reusing form from cache.\n"
       ]
      },
      {
       "output_type": "stream",
       "stream": "stderr",
       "text": [
        "DEBUG:FFC:Reusing form from cache.\n"
       ]
      },
      {
       "output_type": "stream",
       "stream": "stderr",
       "text": [
        "DEBUG:FFC:Reusing form from cache.\n"
       ]
      },
      {
       "output_type": "stream",
       "stream": "stderr",
       "text": [
        "DEBUG:FFC:Reusing form from cache.\n"
       ]
      },
      {
       "output_type": "stream",
       "stream": "stderr",
       "text": [
        "DEBUG:FFC:Reusing form from cache.\n"
       ]
      },
      {
       "output_type": "stream",
       "stream": "stderr",
       "text": [
        "DEBUG:FFC:Reusing form from cache.\n"
       ]
      },
      {
       "output_type": "stream",
       "stream": "stderr",
       "text": [
        "DEBUG:FFC:Reusing form from cache.\n"
       ]
      },
      {
       "output_type": "stream",
       "stream": "stderr",
       "text": [
        "DEBUG:FFC:Reusing form from cache.\n"
       ]
      },
      {
       "output_type": "stream",
       "stream": "stderr",
       "text": [
        "DEBUG:FFC:Reusing form from cache.\n"
       ]
      },
      {
       "output_type": "stream",
       "stream": "stderr",
       "text": [
        "DEBUG:FFC:Reusing form from cache.\n"
       ]
      },
      {
       "output_type": "stream",
       "stream": "stdout",
       "text": [
        "2\n",
        "Num edges    0\n",
        "Num vertices 9\n",
        "Num faces 8\n",
        "0.0779409408569"
       ]
      },
      {
       "output_type": "stream",
       "stream": "stdout",
       "text": [
        "\n"
       ]
      },
      {
       "metadata": {},
       "output_type": "pyout",
       "prompt_number": 5,
       "text": [
        "<dolfin.cpp.io.VTKPlotter; proxy of <Swig Object of type 'std::shared_ptr< dolfin::VTKPlotter > *' at 0x11a436660> >"
       ]
      }
     ],
     "prompt_number": 5
    },
    {
     "cell_type": "code",
     "collapsed": false,
     "input": [
      "C"
     ],
     "language": "python",
     "metadata": {},
     "outputs": [
      {
       "metadata": {},
       "output_type": "pyout",
       "prompt_number": 6,
       "text": [
        "<48x25 sparse matrix of type '<type 'numpy.float64'>'\n",
        "\twith 160 stored elements in Compressed Sparse Row format>"
       ]
      }
     ],
     "prompt_number": 6
    },
    {
     "cell_type": "code",
     "collapsed": false,
     "input": [
      "C"
     ],
     "language": "python",
     "metadata": {},
     "outputs": []
    }
   ],
   "metadata": {}
  }
 ]
}
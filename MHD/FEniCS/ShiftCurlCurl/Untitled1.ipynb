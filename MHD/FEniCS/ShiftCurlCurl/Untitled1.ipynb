{
 "metadata": {
  "name": ""
 },
 "nbformat": 3,
 "nbformat_minor": 0,
 "worksheets": [
  {
   "cells": [
    {
     "cell_type": "code",
     "collapsed": false,
     "input": [
      "\n",
      "from dolfin import *\n",
      "import numpy as np\n",
      "import scipy.sparse as sp\n",
      "import numpy\n",
      "from scipy2Trilinos import scipy_csr_matrix2CrsMatrix\n",
      "from PyTrilinos import Epetra, ML, AztecOO\n",
      "\n",
      "nn = 64\n",
      "mesh = RectangleMesh(0, 0, 1, 1, nn, nn,'crossed')\n",
      "\n",
      "order = 1\n",
      "Magnetic = FunctionSpace(mesh, \"N1curl\", order)\n",
      "Lagrange = FunctionSpace(mesh, \"CG\", order)\n",
      "L= FunctionSpace(mesh, \"DG\", order-1)\n",
      "C = sp.csr_matrix((Magnetic.dim(),Lagrange.dim()))\n",
      "\n",
      "parameters['linear_algebra_backend'] = 'uBLAS'\n",
      "\n",
      "u = Function(Lagrange)\n",
      "# for i in range(0, Lagrange.dim() ):\n",
      "#     zero = np.zeros((Lagrange.dim(),1))[:,0]\n",
      "#     zero[i] = 1\n",
      "#     u.vector()[:] = zero\n",
      "\n",
      "#     uu = grad(u)\n",
      "#     Pv = project(uu,Magnetic)\n",
      "#     P = Pv.vector().array()\n",
      "\n",
      "#     index = P.nonzero()\n",
      "#     index = index[0]\n",
      "#     for x in range(0,len(index)):\n",
      "#         if np.abs(P[index[x]]) < 1e-3:\n",
      "#             P[index[x]] = 0\n",
      "#     print P.shape, C.shape\n",
      "#     pn = P.nonzero()[0]\n",
      "#     for j in range(0,len(pn)):\n",
      "#         C[pn[j],i] = P[pn[j]]\n",
      "#     del P\n",
      "\n",
      "\n",
      "# print C.todense()\n",
      "\n",
      "\n",
      "(u) = TrialFunction(Magnetic)\n",
      "(v) = TestFunction(Magnetic)\n",
      "(p) = TrialFunction(Lagrange)\n",
      "(q) = TestFunction(Lagrange)\n",
      "a = dot(curl(u),curl(v))*dx + inner(u, v)*dx\n",
      "\n",
      "l = (inner(grad(p),grad(q))*dx)\n",
      "\n",
      "Acurl = assemble(a)\n",
      "Anode = assemble(l)\n",
      "Acurl = Acurl.sparray()\n",
      "Anode = Anode.sparray()\n",
      "D = C\n",
      "\n",
      "x = numpy.random.rand(Acurl.shape[1],1)\n",
      "b = Acurl*x\n",
      "x0 = numpy.ones((Acurl.shape[1],1))\n",
      "\n",
      "comm = Epetra.PyComm()\n",
      "A = scipy_csr_matrix2CrsMatrix(Acurl, comm)\n",
      "L = scipy_csr_matrix2CrsMatrix(Anode, comm)\n",
      "D = scipy_csr_matrix2CrsMatrix(C, comm)\n",
      "x0 = Epetra.Vector(x0)\n",
      "b = Epetra.Vector(b)\n",
      "\n",
      "\n",
      "\n",
      "# MLList = {\n",
      "#     \"default values\" : \"maxwell\",\n",
      "#     \"max levels\" : 10,\n",
      "#     \"prec type\" : \"MGV\",\n",
      "#     \"increasing or decreasing\" : \"decreasing\",\n",
      "#     \"aggregation: type\" : \"Uncoupled-MIS\",\n",
      "#     \"aggregation: damping factor\" : 1.333,\n",
      "#     \"eigen-analysis: type\" : \"cg\",\n",
      "#     \"eigen-analysis: iterations\" : 10,\n",
      "#     \"aggregation: edge prolongator drop threshold\" : 0.0,\n",
      "#     \"smoother: sweeps\" : 1,\n",
      "#     \"smoother: damping factor\" : 1.0,\n",
      "#     \"smoother: pre or post\" : \"both\",\n",
      "#     \"smoother: type\" : \"Hiptmair\",\n",
      "#     \"smoother: Hiptmair efficient symmetric\" : True,\n",
      "#     \"subsmoother: type\" : \"Chebyshev\",\n",
      "#     \"subsmoother: Chebyshev alpha\" : 20.0,\n",
      "#     \"subsmoother: node sweeps\" : 4,\n",
      "#     \"subsmoother: edge sweeps\" : 4,\n",
      "#     \"coarse: type\" : \"Amesos-KLU\",\n",
      "#     \"coarse: max size\" : 128\n",
      "# }\n",
      "\n",
      "ML_Hiptmair = ML.MultiLevelPreconditioner(A)\n",
      "\n",
      "ML_Hiptmair.ComputePreconditioner()\n",
      "# ML_Hiptmair.ComputePreconditioner()\n",
      "solver = AztecOO.AztecOO(A, x0, b)\n",
      "solver.SetPrecOperator(ML_Hiptmair)\n",
      "solver.SetAztecOption(AztecOO.AZ_solver, AztecOO.AZ_gmres);\n",
      "solver.SetAztecOption(AztecOO.AZ_output, 16);\n",
      "err = solver.Iterate(1550, 1e-5)"
     ],
     "language": "python",
     "metadata": {},
     "outputs": [
      {
       "output_type": "stream",
       "stream": "stderr",
       "text": [
        "DEBUG:UFL:No integrals left after transformation, returning empty form.\n"
       ]
      },
      {
       "output_type": "stream",
       "stream": "stderr",
       "text": [
        "DEBUG:FFC:Reusing form from cache.\n"
       ]
      },
      {
       "output_type": "stream",
       "stream": "stderr",
       "text": [
        "DEBUG:UFL:No integrals left after transformation, returning empty form.\n"
       ]
      },
      {
       "output_type": "stream",
       "stream": "stderr",
       "text": [
        "DEBUG:FFC:Reusing form from cache.\n"
       ]
      },
      {
       "output_type": "stream",
       "stream": "stderr",
       "text": [
        "DEBUG:UFL:No integrals left after transformation, returning empty form.\n"
       ]
      },
      {
       "output_type": "stream",
       "stream": "stderr",
       "text": [
        "DEBUG:FFC:Reusing form from cache.\n"
       ]
      },
      {
       "output_type": "stream",
       "stream": "stderr",
       "text": [
        "DEBUG:UFL:No integrals left after transformation, returning empty form.\n"
       ]
      },
      {
       "output_type": "stream",
       "stream": "stderr",
       "text": [
        "DEBUG:UFL:No integrals left after transformation, returning empty form.\n"
       ]
      },
      {
       "output_type": "stream",
       "stream": "stderr",
       "text": [
        "DEBUG:FFC:Reusing form from cache.\n"
       ]
      },
      {
       "output_type": "stream",
       "stream": "stderr",
       "text": [
        "DEBUG:UFL:No integrals left after transformation, returning empty form.\n"
       ]
      },
      {
       "output_type": "stream",
       "stream": "stderr",
       "text": [
        "DEBUG:UFL:No integrals left after transformation, returning empty form.\n"
       ]
      },
      {
       "output_type": "stream",
       "stream": "stderr",
       "text": [
        "DEBUG:FFC:Reusing form from cache.\n"
       ]
      }
     ],
     "prompt_number": 1
    },
    {
     "cell_type": "code",
     "collapsed": false,
     "input": [
      "x0 = x0.array"
     ],
     "language": "python",
     "metadata": {},
     "outputs": [],
     "prompt_number": 2
    },
    {
     "cell_type": "code",
     "collapsed": false,
     "input": [
      "x0=x0[:,0]"
     ],
     "language": "python",
     "metadata": {},
     "outputs": [],
     "prompt_number": 6
    },
    {
     "cell_type": "code",
     "collapsed": false,
     "input": [
      "norm(x-x0)"
     ],
     "language": "python",
     "metadata": {},
     "outputs": [
      {
       "ename": "AttributeError",
       "evalue": "'module' object has no attribute 'norm'",
       "output_type": "pyerr",
       "traceback": [
        "\u001b[1;31m---------------------------------------------------------------------------\u001b[0m\n\u001b[1;31mAttributeError\u001b[0m                            Traceback (most recent call last)",
        "\u001b[1;32m<ipython-input-8-3b8f8dda0b3c>\u001b[0m in \u001b[0;36m<module>\u001b[1;34m()\u001b[0m\n\u001b[1;32m----> 1\u001b[1;33m \u001b[0mnp\u001b[0m\u001b[1;33m.\u001b[0m\u001b[0mnorm\u001b[0m\u001b[1;33m(\u001b[0m\u001b[0mx\u001b[0m\u001b[1;33m-\u001b[0m\u001b[0mx0\u001b[0m\u001b[1;33m)\u001b[0m\u001b[1;33m\u001b[0m\u001b[0m\n\u001b[0m",
        "\u001b[1;31mAttributeError\u001b[0m: 'module' object has no attribute 'norm'"
       ]
      }
     ],
     "prompt_number": 8
    }
   ],
   "metadata": {}
  }
 ]
}
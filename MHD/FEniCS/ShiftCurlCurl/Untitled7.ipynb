{
 "metadata": {
  "name": "",
  "signature": "sha256:fc9355039c43a602cb871cfdf2ce7204ad065af7d341b0d8b63e7f1beb27fe36"
 },
 "nbformat": 3,
 "nbformat_minor": 0,
 "worksheets": [
  {
   "cells": [
    {
     "cell_type": "code",
     "collapsed": false,
     "input": [
      "from dolfin import *\n",
      "import numpy as np\n",
      "import scipy.sparse as sp\n",
      "import numpy\n",
      "import matplotlib.pylab as plt\n",
      "import scipy.io\n",
      "from scipy2Trilinos import scipy_csr_matrix2CrsMatrix\n",
      "from PyTrilinos import Epetra, ML, AztecOO, Teuchos\n",
      "from dolfin import *\n",
      "import petsc4py, sys\n",
      "petsc4py.init(sys.argv)\n",
      "from petsc4py import PETSc\n",
      "import matplotlib.pylab as plt\n",
      "import PETScIO as IO\n",
      "import numpy as np\n",
      "import scipy.sparse as sparse\n",
      "import CheckPetsc4py as CP\n",
      "import scipy.sparse.linalg as sparselin\n",
      "import scipy as sp\n",
      "import time\n",
      "nn = 2**1\n",
      "mesh = RectangleMesh(0, 0, 1, 1, nn, nn,'left')\n",
      "\n",
      "# domain_vertices = [Point(0.0, 0.0),\n",
      "#                      Point(10.0, 0.0),\n",
      "#                      Point(10.0, 2.0),\n",
      "#                      Point(8.0, 2.0),\n",
      "#                      Point(7.5, 1.0),\n",
      "#                      Point(2.5, 1.0),\n",
      "#                      Point(2.0, 4.0),\n",
      "#                      Point(0.0, 4.0),\n",
      "#                      Point(0.0, 0.0)]\n",
      "\n",
      "#     # Create empty Mesh\n",
      "# mesh = Mesh()\n",
      "# PolygonalMeshGenerator.generate(mesh, domain_vertices, 0.95);\n",
      "order  = 1\n",
      "Magnetic = FunctionSpace(mesh, \"N1curl\", order)\n",
      "Lagrange = FunctionSpace(mesh, \"CG\", order)\n",
      "# L= FunctionSpace(mesh, \"DG\", order-1)\n",
      "\n",
      "parameters['linear_algebra_backend'] = 'uBLAS'\n",
      "b0 = Expression((\"x[1]*x[1]*(x[1]-1)\",\"x[0]*x[0]*(x[0]-1)\"))"
     ],
     "language": "python",
     "metadata": {},
     "outputs": [
      {
       "output_type": "stream",
       "stream": "stderr",
       "text": [
        "DEBUG:UFL:No integrals left after transformation, returning empty form.\n"
       ]
      },
      {
       "output_type": "stream",
       "stream": "stderr",
       "text": [
        "DEBUG:FFC:Reusing form from cache.\n"
       ]
      },
      {
       "output_type": "stream",
       "stream": "stderr",
       "text": [
        "DEBUG:UFL:No integrals left after transformation, returning empty form.\n"
       ]
      },
      {
       "output_type": "stream",
       "stream": "stderr",
       "text": [
        "DEBUG:FFC:Reusing form from cache.\n"
       ]
      }
     ],
     "prompt_number": 1
    },
    {
     "cell_type": "code",
     "collapsed": false,
     "input": [
      "C = Cell(mesh,0)"
     ],
     "language": "python",
     "metadata": {},
     "outputs": [],
     "prompt_number": 2
    },
    {
     "cell_type": "code",
     "collapsed": false,
     "input": [
      "for cell in cells(mesh):\n",
      "  print \"cell\", cell.index(), \"has edges :\", cell.entities(1)"
     ],
     "language": "python",
     "metadata": {},
     "outputs": [
      {
       "output_type": "stream",
       "stream": "stdout",
       "text": [
        "cell 0 has edges : [0 1 2]\n",
        "cell 1 has edges : [3 4 5]\n",
        "cell 2 has edges : [6 7 8]\n",
        "cell 3 has edges : [ 9 10 11]\n",
        "cell 4 has edges : [12 13 14]\n",
        "cell 5 has edges : [15 16 17]\n",
        "cell 6 has edges : [18 19 20]\n",
        "cell 7 has edges : [21 22 23]\n",
        "cell 8 has edges : [24 25 26]\n",
        "cell 9 has edges : [27 28 29]\n",
        "cell 10 has edges : [30 22 31]\n",
        "cell 11 has edges : [32 33 34]\n",
        "cell 12 has edges : [35 36 37]\n",
        "cell 13 has edges : [ 9 38 39]\n",
        "cell 14 has edges : [40 41 42]\n",
        "cell 15 has edges : [40  8 43]\n",
        "cell 16 has edges : [44 45 46]\n",
        "cell 17 has edges : [15 44 47]\n",
        "cell 18 has edges : [47 48 49]\n",
        "cell 19 has edges : [50 51 52]\n",
        "cell 20 has edges : [12 50 53]\n",
        "cell 21 has edges : [53 54 55]\n",
        "cell 22 has edges : [56 57 58]\n",
        "cell 23 has edges : [ 3 56 59]\n",
        "cell 24 has edges : [59 60 61]\n",
        "cell 25 has edges : [62 63 64]\n",
        "cell 26 has edges : [18 62 65]\n",
        "cell 27 has edges : [65 66 67]\n",
        "cell 28 has edges : [68 69 70]\n",
        "cell 29 has edges : [71 31 72]\n",
        "cell 30 has edges : [73 74 75]\n",
        "cell 31 has edges : [76 77 78]\n",
        "cell 32 has edges : [79 80 81]\n",
        "cell 33 has edges : [82 83 84]\n",
        "cell 34 has edges : [85 86 87]\n",
        "cell 35 has edges : [88 89 63]\n",
        "cell 36 has edges : [90 91 92]\n",
        "cell 37 has edges : [93 92 94]\n",
        "cell 38 has edges : [95  0 96]\n",
        "cell 39 has edges : [ 2 97 98]\n",
        "cell 40 has edges : [ 99 100 101]\n",
        "cell 41 has edges : [102  70 103]\n",
        "cell 42 has edges : [104 105  87]\n",
        "cell 43 has edges : [ 96  74 106]\n",
        "cell 44 has edges : [107  37 106]\n",
        "cell 45 has edges : [107  99 108]\n",
        "cell 46 has edges : [108  97 109]\n",
        "cell 47 has edges : [110 111  71]\n",
        "cell 48 has edges : [ 93 112 113]\n",
        "cell 49 has edges : [114 115 116]\n",
        "cell 50 has edges : [117 118 119]\n",
        "cell 51 has edges : [ 14 120 121]\n",
        "cell 52 has edges : [ 20 122 123]\n",
        "cell 53 has edges : [  5 124 125]\n",
        "cell 54 has edges : [ 88 126 127]\n",
        "cell 55 has edges : [ 19 127 128]\n",
        "cell 56 has edges : [129 124  66]\n",
        "cell 57 has edges : [129  60 122]\n",
        "cell 58 has edges : [130  45 131]\n",
        "cell 59 has edges : [  4 131 132]\n",
        "cell 60 has edges : [133 120 134]\n",
        "cell 61 has edges : [133  54 118]\n",
        "cell 62 has edges : [ 17 135 136]\n",
        "cell 63 has edges : [ 13 137 138]\n",
        "cell 64 has edges : [139 135 137]\n",
        "cell 65 has edges : [139  48  51]\n",
        "cell 66 has edges : [130 140  57]\n",
        "cell 67 has edges : [ 16 140 141]\n",
        "cell 68 has edges : [111  77 142]\n",
        "cell 69 has edges : [110 143 144]\n",
        "cell 70 has edges : [ 68 145 104]\n",
        "cell 71 has edges : [145 146  84]\n",
        "cell 72 has edges : [147  10  75]\n",
        "cell 73 has edges : [147 148 149]\n",
        "cell 74 has edges : [ 35 150 151]\n",
        "cell 75 has edges : [152 153 154]\n",
        "cell 76 has edges : [116 155 156]\n",
        "cell 77 has edges : [157 155 158]\n",
        "cell 78 has edges : [159 160 113]\n",
        "cell 79 has edges : [ 94 161 162]\n",
        "cell 80 has edges : [ 34 163  42]\n",
        "cell 81 has edges : [164 161 165]\n",
        "cell 82 has edges : [159 157 164]\n",
        "cell 83 has edges : [166  41 167]\n",
        "cell 84 has edges : [  6 168 166]\n",
        "cell 85 has edges : [169  81 170]\n",
        "cell 86 has edges : [171 172 173]\n",
        "cell 87 has edges : [174 175 176]\n",
        "cell 88 has edges : [176 177  98]\n",
        "cell 89 has edges : [169 178 152]\n",
        "cell 90 has edges : [ 79 171 179]\n",
        "cell 91 has edges : [180 181 182]\n",
        "cell 92 has edges : [183 184 185]\n",
        "cell 93 has edges : [186 187 162]\n",
        "cell 94 has edges : [ 27  91 188]\n",
        "cell 95 has edges : [189 186 188]\n",
        "cell 96 has edges : [189 190 191]\n",
        "cell 97 has edges : [192 193 149]\n",
        "cell 98 has edges : [194 195 196]\n",
        "cell 99 has edges : [114 195 160]\n",
        "cell 100 has edges : [ 95 197 198]\n",
        "cell 101 has edges : [ 73 198 103]\n",
        "cell 102 has edges : [199 200  26]\n",
        "cell 103 has edges : [201 200 144]\n",
        "cell 104 has edges : [174 202 203]\n",
        "cell 105 has edges : [204 202 205]\n",
        "cell 106 has edges : [206 207 208]\n",
        "cell 107 has edges : [206 209  83]\n",
        "cell 108 has edges : [115 210 211]\n",
        "cell 109 has edges : [ 32 212 213]\n",
        "cell 110 has edges : [214 215 194]\n",
        "cell 111 has edges : [214 126 210]\n",
        "cell 112 has edges : [183 216 180]\n",
        "cell 113 has edges : [216 217  39]\n",
        "cell 114 has edges : [218 219 220]\n",
        "cell 115 has edges : [218 212 221]\n",
        "cell 116 has edges : [ 24 175 222]\n",
        "cell 117 has edges : [223 224 146]\n",
        "cell 118 has edges : [199 223 225]\n",
        "cell 119 has edges : [225 226  69]\n",
        "cell 120 has edges : [227 201  30]\n",
        "cell 121 has edges : [227 224 228]\n",
        "cell 122 has edges : [229 204  76]\n",
        "cell 123 has edges : [229  25 143]\n",
        "cell 124 has edges : [230 209 228]\n",
        "cell 125 has edges : [208 231 134]\n",
        "cell 126 has edges : [232 233   7]\n",
        "cell 127 has edges : [ 90 233 234]\n",
        "cell 128 has edges : [168 235 236]\n",
        "cell 129 has edges : [237 235 238]\n",
        "cell 130 has edges : [239 192 102]\n",
        "cell 131 has edges : [239 240 105]\n",
        "cell 132 has edges : [241 112 242]"
       ]
      },
      {
       "output_type": "stream",
       "stream": "stdout",
       "text": [
        "\n",
        "cell 133 has edges : [241 234  43]\n",
        "cell 134 has edges : [243   1 222]\n",
        "cell 135 has edges : [243 197 226]\n",
        "cell 136 has edges : [230 244  21]\n",
        "cell 137 has edges : [207 244 117]\n",
        "cell 138 has edges : [245 220 215]\n",
        "cell 139 has edges : [245 246  89]\n",
        "cell 140 has edges : [232 247 237]\n",
        "cell 141 has edges : [247  28 248]\n",
        "cell 142 has edges : [249 250  38]\n",
        "cell 143 has edges : [249 251 148]\n",
        "cell 144 has edges : [252  85  82]\n",
        "cell 145 has edges : [252 253 231]\n",
        "cell 146 has edges : [ 33 254 242]\n",
        "cell 147 has edges : [219 254 196]\n",
        "cell 148 has edges : [255 153 100]\n",
        "cell 149 has edges : [255 170 151]\n",
        "cell 150 has edges : [179 256 257]\n",
        "cell 151 has edges : [178 256 258]\n",
        "cell 152 has edges : [259  36  11]\n",
        "cell 153 has edges : [259 150 260]\n",
        "cell 154 has edges : [261  80 260]\n",
        "cell 155 has edges : [261 172 182]\n"
       ]
      }
     ],
     "prompt_number": 4
    },
    {
     "cell_type": "code",
     "collapsed": false,
     "input": [
      "(u) = TrialFunction(Magnetic)\n",
      "(v) = TestFunction(Magnetic)\n",
      "(p) = TrialFunction(Lagrange)\n",
      "(q) = TestFunction(Lagrange)\n",
      "V = FunctionSpace(mesh, \"N1curl\", order)\n",
      "Q = FunctionSpace(mesh, \"CG\", order)\n",
      "W = MixedFunctionSpace([V,Q])\n",
      "(uMix,pMix) = TrialFunctions(W)\n",
      "(vMix,qMix) = TestFunctions(W)\n",
      "a = inner(curl(v),curl(u))*dx\n",
      "m = inner(u,v)*dx\n",
      "b = inner(vMix,grad(pMix))*dx\n",
      "\n",
      "# <codecell>\n",
      "\n",
      "A = assemble(a)\n",
      "M = assemble(m)\n",
      "Ms = M.sparray()\n",
      "A = A.sparray()\n",
      "\n",
      "# <codecell>\n",
      "\n",
      "B = assemble(b)\n",
      "B = B.sparray()[W.dim()-V.dim():,W.dim()-Q.dim():]\n",
      "ksp = PETSc.KSP().create()\n",
      "# parameters['linear_algebra_backend'] = 'PETSc'\n",
      "M = assemble(m)\n",
      "M = CP.Assemble(M)\n",
      "ksp.setOperators(M)\n",
      "x = M.getVecLeft()\n",
      "ksp.setFromOptions()\n",
      "ksp.setType(ksp.Type.CG)\n",
      "ksp.setTolerances(1e-2)\n",
      "ksp.pc.setType(ksp.pc.Type.BJACOBI)\n",
      "\n",
      "# <codecell>\n",
      "\n",
      "OptDB = PETSc.Options()\n",
      "# OptDB[\"pc_factor_mat_ordering_type\"] = \"rcm\"\n",
      "# OptDB[\"pc_factor_mat_solver_package\"] = \"cholmod\"\n",
      "ksp.setFromOptions()\n",
      "C = sparse.csr_matrix((V.dim(),Q.dim()))\n",
      "IO.matToSparse\n",
      "\n",
      "# <codecell>\n",
      "\n",
      "CC = sparse.csr_matrix((V.dim(),Q.dim()))\n",
      "(v) = TrialFunction(V)\n",
      "(u) = TestFunction(V)\n",
      "tic()\n",
      "for i in range(0,Q.dim()):\n",
      "    uOut = Function(V)\n",
      "    uu = Function(Q)\n",
      "    x = M.getVecRight()\n",
      "    zero = np.zeros((Q.dim(),1))[:,0]\n",
      "    zero[i] = 1\n",
      "    uu.vector()[:] = zero\n",
      "    L = assemble(inner(u, grad(uu))*dx)\n",
      "    rhs = IO.arrayToVec(L.array())\n",
      "    ksp.solve(rhs,x)\n",
      "#     x = project(grad(uu),V)\n",
      "    P = x.array\n",
      "    uOut.vector()[:] = P\n",
      "    low_values_indices = np.abs(P) < 1e-3\n",
      "    P[low_values_indices] = 0\n",
      "    P=np.around(P)\n",
      "    pn = P.nonzero()[0]\n",
      "    for j in range(0,len(pn)):\n",
      "        CC[pn[j],i] = P[pn[j]]\n",
      "    del uu\n",
      "print toc()\n",
      "\n"
     ],
     "language": "python",
     "metadata": {},
     "outputs": [
      {
       "output_type": "stream",
       "stream": "stderr",
       "text": [
        "DEBUG:UFL:No integrals left after transformation, returning empty form.\n"
       ]
      },
      {
       "output_type": "stream",
       "stream": "stderr",
       "text": [
        "DEBUG:FFC:Reusing form from cache.\n"
       ]
      },
      {
       "output_type": "stream",
       "stream": "stderr",
       "text": [
        "DEBUG:UFL:No integrals left after transformation, returning empty form.\n"
       ]
      },
      {
       "output_type": "stream",
       "stream": "stderr",
       "text": [
        "DEBUG:FFC:Reusing form from cache.\n"
       ]
      },
      {
       "output_type": "stream",
       "stream": "stderr",
       "text": [
        "DEBUG:UFL:No integrals left after transformation, returning empty form.\n"
       ]
      },
      {
       "output_type": "stream",
       "stream": "stderr",
       "text": [
        "DEBUG:FFC:Reusing form from cache.\n"
       ]
      },
      {
       "output_type": "stream",
       "stream": "stderr",
       "text": [
        "DEBUG:UFL:No integrals left after transformation, returning empty form.\n"
       ]
      },
      {
       "output_type": "stream",
       "stream": "stderr",
       "text": [
        "DEBUG:UFL:No integrals left after transformation, returning empty form.\n"
       ]
      },
      {
       "output_type": "stream",
       "stream": "stderr",
       "text": [
        "DEBUG:FFC:Reusing form from cache.\n"
       ]
      },
      {
       "output_type": "stream",
       "stream": "stderr",
       "text": [
        "DEBUG:UFL:No integrals left after transformation, returning empty form.\n"
       ]
      },
      {
       "output_type": "stream",
       "stream": "stderr",
       "text": [
        "DEBUG:UFL:No integrals left after transformation, returning empty form.\n"
       ]
      },
      {
       "output_type": "stream",
       "stream": "stderr",
       "text": [
        "DEBUG:FFC:Reusing form from cache.\n"
       ]
      },
      {
       "output_type": "stream",
       "stream": "stderr",
       "text": [
        "DEBUG:UFL:No integrals left after transformation, returning empty form.\n"
       ]
      },
      {
       "output_type": "stream",
       "stream": "stderr",
       "text": [
        "DEBUG:UFL:No integrals left after transformation, returning empty form.\n"
       ]
      },
      {
       "output_type": "stream",
       "stream": "stderr",
       "text": [
        "DEBUG:FFC:Reusing form from cache.\n"
       ]
      },
      {
       "output_type": "stream",
       "stream": "stderr",
       "text": [
        "DEBUG:FFC:Reusing form from cache.\n"
       ]
      },
      {
       "output_type": "stream",
       "stream": "stderr",
       "text": [
        "DEBUG:UFL:No integrals left after transformation, returning empty form.\n"
       ]
      },
      {
       "output_type": "stream",
       "stream": "stderr",
       "text": [
        "DEBUG:FFC:Reusing form from cache.\n"
       ]
      },
      {
       "output_type": "stream",
       "stream": "stderr",
       "text": [
        "/usr/local/lib/python2.7/dist-packages/scipy/sparse/compressed.py:728: SparseEfficiencyWarning: Changing the sparsity structure of a csr_matrix is expensive. lil_matrix is more efficient.\n",
        "  SparseEfficiencyWarning)\n",
        "DEBUG:UFL:No integrals left after transformation, returning empty form.\n"
       ]
      },
      {
       "output_type": "stream",
       "stream": "stderr",
       "text": [
        "DEBUG:FFC:Reusing form from cache.\n"
       ]
      },
      {
       "output_type": "stream",
       "stream": "stderr",
       "text": [
        "DEBUG:UFL:No integrals left after transformation, returning empty form.\n"
       ]
      },
      {
       "output_type": "stream",
       "stream": "stderr",
       "text": [
        "DEBUG:FFC:Reusing form from cache.\n"
       ]
      },
      {
       "output_type": "stream",
       "stream": "stderr",
       "text": [
        "DEBUG:UFL:No integrals left after transformation, returning empty form.\n"
       ]
      },
      {
       "output_type": "stream",
       "stream": "stderr",
       "text": [
        "DEBUG:FFC:Reusing form from cache.\n"
       ]
      },
      {
       "output_type": "stream",
       "stream": "stderr",
       "text": [
        "DEBUG:UFL:No integrals left after transformation, returning empty form.\n"
       ]
      },
      {
       "output_type": "stream",
       "stream": "stderr",
       "text": [
        "DEBUG:FFC:Reusing form from cache.\n"
       ]
      },
      {
       "output_type": "stream",
       "stream": "stderr",
       "text": [
        "DEBUG:UFL:No integrals left after transformation, returning empty form.\n"
       ]
      },
      {
       "output_type": "stream",
       "stream": "stderr",
       "text": [
        "DEBUG:FFC:Reusing form from cache.\n"
       ]
      },
      {
       "output_type": "stream",
       "stream": "stderr",
       "text": [
        "DEBUG:UFL:No integrals left after transformation, returning empty form.\n"
       ]
      },
      {
       "output_type": "stream",
       "stream": "stderr",
       "text": [
        "DEBUG:FFC:Reusing form from cache.\n"
       ]
      },
      {
       "output_type": "stream",
       "stream": "stderr",
       "text": [
        "DEBUG:UFL:No integrals left after transformation, returning empty form.\n"
       ]
      },
      {
       "output_type": "stream",
       "stream": "stderr",
       "text": [
        "DEBUG:FFC:Reusing form from cache.\n"
       ]
      },
      {
       "output_type": "stream",
       "stream": "stderr",
       "text": [
        "DEBUG:UFL:No integrals left after transformation, returning empty form.\n"
       ]
      },
      {
       "output_type": "stream",
       "stream": "stderr",
       "text": [
        "DEBUG:FFC:Reusing form from cache.\n"
       ]
      },
      {
       "output_type": "stream",
       "stream": "stderr",
       "text": [
        "DEBUG:UFL:No integrals left after transformation, returning empty form.\n"
       ]
      },
      {
       "output_type": "stream",
       "stream": "stderr",
       "text": [
        "DEBUG:FFC:Reusing form from cache.\n"
       ]
      },
      {
       "output_type": "stream",
       "stream": "stderr",
       "text": [
        "DEBUG:UFL:No integrals left after transformation, returning empty form.\n"
       ]
      },
      {
       "output_type": "stream",
       "stream": "stderr",
       "text": [
        "DEBUG:FFC:Reusing form from cache.\n"
       ]
      },
      {
       "output_type": "stream",
       "stream": "stderr",
       "text": [
        "DEBUG:UFL:No integrals left after transformation, returning empty form.\n"
       ]
      },
      {
       "output_type": "stream",
       "stream": "stderr",
       "text": [
        "DEBUG:FFC:Reusing form from cache.\n"
       ]
      },
      {
       "output_type": "stream",
       "stream": "stderr",
       "text": [
        "DEBUG:UFL:No integrals left after transformation, returning empty form.\n"
       ]
      },
      {
       "output_type": "stream",
       "stream": "stderr",
       "text": [
        "DEBUG:FFC:Reusing form from cache.\n"
       ]
      },
      {
       "output_type": "stream",
       "stream": "stderr",
       "text": [
        "DEBUG:UFL:No integrals left after transformation, returning empty form.\n"
       ]
      },
      {
       "output_type": "stream",
       "stream": "stderr",
       "text": [
        "DEBUG:FFC:Reusing form from cache.\n"
       ]
      },
      {
       "output_type": "stream",
       "stream": "stderr",
       "text": [
        "DEBUG:UFL:No integrals left after transformation, returning empty form.\n"
       ]
      },
      {
       "output_type": "stream",
       "stream": "stderr",
       "text": [
        "DEBUG:FFC:Reusing form from cache.\n"
       ]
      },
      {
       "output_type": "stream",
       "stream": "stderr",
       "text": [
        "DEBUG:UFL:No integrals left after transformation, returning empty form.\n"
       ]
      },
      {
       "output_type": "stream",
       "stream": "stderr",
       "text": [
        "DEBUG:FFC:Reusing form from cache.\n"
       ]
      },
      {
       "output_type": "stream",
       "stream": "stderr",
       "text": [
        "DEBUG:UFL:No integrals left after transformation, returning empty form.\n"
       ]
      },
      {
       "output_type": "stream",
       "stream": "stderr",
       "text": [
        "DEBUG:FFC:Reusing form from cache.\n"
       ]
      },
      {
       "output_type": "stream",
       "stream": "stderr",
       "text": [
        "DEBUG:UFL:No integrals left after transformation, returning empty form.\n"
       ]
      },
      {
       "output_type": "stream",
       "stream": "stderr",
       "text": [
        "DEBUG:FFC:Reusing form from cache.\n"
       ]
      },
      {
       "output_type": "stream",
       "stream": "stderr",
       "text": [
        "DEBUG:UFL:No integrals left after transformation, returning empty form.\n"
       ]
      },
      {
       "output_type": "stream",
       "stream": "stderr",
       "text": [
        "DEBUG:FFC:Reusing form from cache.\n"
       ]
      },
      {
       "output_type": "stream",
       "stream": "stderr",
       "text": [
        "DEBUG:UFL:No integrals left after transformation, returning empty form.\n"
       ]
      },
      {
       "output_type": "stream",
       "stream": "stderr",
       "text": [
        "DEBUG:FFC:Reusing form from cache.\n"
       ]
      },
      {
       "output_type": "stream",
       "stream": "stderr",
       "text": [
        "DEBUG:UFL:No integrals left after transformation, returning empty form.\n"
       ]
      },
      {
       "output_type": "stream",
       "stream": "stderr",
       "text": [
        "DEBUG:FFC:Reusing form from cache.\n"
       ]
      },
      {
       "output_type": "stream",
       "stream": "stderr",
       "text": [
        "DEBUG:UFL:No integrals left after transformation, returning empty form.\n"
       ]
      },
      {
       "output_type": "stream",
       "stream": "stderr",
       "text": [
        "DEBUG:FFC:Reusing form from cache.\n"
       ]
      },
      {
       "output_type": "stream",
       "stream": "stderr",
       "text": [
        "DEBUG:UFL:No integrals left after transformation, returning empty form.\n"
       ]
      },
      {
       "output_type": "stream",
       "stream": "stderr",
       "text": [
        "DEBUG:FFC:Reusing form from cache.\n"
       ]
      },
      {
       "output_type": "stream",
       "stream": "stderr",
       "text": [
        "DEBUG:UFL:No integrals left after transformation, returning empty form.\n"
       ]
      },
      {
       "output_type": "stream",
       "stream": "stderr",
       "text": [
        "DEBUG:FFC:Reusing form from cache.\n"
       ]
      },
      {
       "output_type": "stream",
       "stream": "stderr",
       "text": [
        "DEBUG:UFL:No integrals left after transformation, returning empty form.\n"
       ]
      },
      {
       "output_type": "stream",
       "stream": "stderr",
       "text": [
        "DEBUG:FFC:Reusing form from cache.\n"
       ]
      },
      {
       "output_type": "stream",
       "stream": "stderr",
       "text": [
        "DEBUG:UFL:No integrals left after transformation, returning empty form.\n"
       ]
      },
      {
       "output_type": "stream",
       "stream": "stderr",
       "text": [
        "DEBUG:FFC:Reusing form from cache.\n"
       ]
      },
      {
       "output_type": "stream",
       "stream": "stderr",
       "text": [
        "DEBUG:UFL:No integrals left after transformation, returning empty form.\n"
       ]
      },
      {
       "output_type": "stream",
       "stream": "stderr",
       "text": [
        "DEBUG:FFC:Reusing form from cache.\n"
       ]
      },
      {
       "output_type": "stream",
       "stream": "stderr",
       "text": [
        "DEBUG:UFL:No integrals left after transformation, returning empty form.\n"
       ]
      },
      {
       "output_type": "stream",
       "stream": "stderr",
       "text": [
        "DEBUG:FFC:Reusing form from cache.\n"
       ]
      },
      {
       "output_type": "stream",
       "stream": "stderr",
       "text": [
        "DEBUG:UFL:No integrals left after transformation, returning empty form.\n"
       ]
      },
      {
       "output_type": "stream",
       "stream": "stderr",
       "text": [
        "DEBUG:FFC:Reusing form from cache.\n"
       ]
      },
      {
       "output_type": "stream",
       "stream": "stderr",
       "text": [
        "DEBUG:UFL:No integrals left after transformation, returning empty form.\n"
       ]
      },
      {
       "output_type": "stream",
       "stream": "stderr",
       "text": [
        "DEBUG:FFC:Reusing form from cache.\n"
       ]
      },
      {
       "output_type": "stream",
       "stream": "stderr",
       "text": [
        "DEBUG:UFL:No integrals left after transformation, returning empty form.\n"
       ]
      },
      {
       "output_type": "stream",
       "stream": "stderr",
       "text": [
        "DEBUG:FFC:Reusing form from cache.\n"
       ]
      },
      {
       "output_type": "stream",
       "stream": "stderr",
       "text": [
        "DEBUG:UFL:No integrals left after transformation, returning empty form.\n"
       ]
      },
      {
       "output_type": "stream",
       "stream": "stderr",
       "text": [
        "DEBUG:FFC:Reusing form from cache.\n"
       ]
      },
      {
       "output_type": "stream",
       "stream": "stderr",
       "text": [
        "DEBUG:UFL:No integrals left after transformation, returning empty form.\n"
       ]
      },
      {
       "output_type": "stream",
       "stream": "stderr",
       "text": [
        "DEBUG:FFC:Reusing form from cache.\n"
       ]
      },
      {
       "output_type": "stream",
       "stream": "stderr",
       "text": [
        "DEBUG:UFL:No integrals left after transformation, returning empty form.\n"
       ]
      },
      {
       "output_type": "stream",
       "stream": "stderr",
       "text": [
        "DEBUG:FFC:Reusing form from cache.\n"
       ]
      },
      {
       "output_type": "stream",
       "stream": "stderr",
       "text": [
        "DEBUG:UFL:No integrals left after transformation, returning empty form.\n"
       ]
      },
      {
       "output_type": "stream",
       "stream": "stderr",
       "text": [
        "DEBUG:FFC:Reusing form from cache.\n"
       ]
      },
      {
       "output_type": "stream",
       "stream": "stderr",
       "text": [
        "DEBUG:UFL:No integrals left after transformation, returning empty form.\n"
       ]
      },
      {
       "output_type": "stream",
       "stream": "stderr",
       "text": [
        "DEBUG:FFC:Reusing form from cache.\n"
       ]
      },
      {
       "output_type": "stream",
       "stream": "stderr",
       "text": [
        "DEBUG:UFL:No integrals left after transformation, returning empty form.\n"
       ]
      },
      {
       "output_type": "stream",
       "stream": "stderr",
       "text": [
        "DEBUG:FFC:Reusing form from cache.\n"
       ]
      },
      {
       "output_type": "stream",
       "stream": "stderr",
       "text": [
        "DEBUG:UFL:No integrals left after transformation, returning empty form.\n"
       ]
      },
      {
       "output_type": "stream",
       "stream": "stderr",
       "text": [
        "DEBUG:FFC:Reusing form from cache.\n"
       ]
      },
      {
       "output_type": "stream",
       "stream": "stderr",
       "text": [
        "DEBUG:UFL:No integrals left after transformation, returning empty form.\n"
       ]
      },
      {
       "output_type": "stream",
       "stream": "stderr",
       "text": [
        "DEBUG:FFC:Reusing form from cache.\n"
       ]
      },
      {
       "output_type": "stream",
       "stream": "stderr",
       "text": [
        "DEBUG:UFL:No integrals left after transformation, returning empty form.\n"
       ]
      },
      {
       "output_type": "stream",
       "stream": "stderr",
       "text": [
        "DEBUG:FFC:Reusing form from cache.\n"
       ]
      },
      {
       "output_type": "stream",
       "stream": "stderr",
       "text": [
        "DEBUG:UFL:No integrals left after transformation, returning empty form.\n"
       ]
      },
      {
       "output_type": "stream",
       "stream": "stderr",
       "text": [
        "DEBUG:FFC:Reusing form from cache.\n"
       ]
      },
      {
       "output_type": "stream",
       "stream": "stderr",
       "text": [
        "DEBUG:UFL:No integrals left after transformation, returning empty form.\n"
       ]
      },
      {
       "output_type": "stream",
       "stream": "stderr",
       "text": [
        "DEBUG:FFC:Reusing form from cache.\n"
       ]
      },
      {
       "output_type": "stream",
       "stream": "stderr",
       "text": [
        "DEBUG:UFL:No integrals left after transformation, returning empty form.\n"
       ]
      },
      {
       "output_type": "stream",
       "stream": "stderr",
       "text": [
        "DEBUG:FFC:Reusing form from cache.\n"
       ]
      },
      {
       "output_type": "stream",
       "stream": "stderr",
       "text": [
        "DEBUG:UFL:No integrals left after transformation, returning empty form.\n"
       ]
      },
      {
       "output_type": "stream",
       "stream": "stderr",
       "text": [
        "DEBUG:FFC:Reusing form from cache.\n"
       ]
      },
      {
       "output_type": "stream",
       "stream": "stderr",
       "text": [
        "DEBUG:UFL:No integrals left after transformation, returning empty form.\n"
       ]
      },
      {
       "output_type": "stream",
       "stream": "stderr",
       "text": [
        "DEBUG:FFC:Reusing form from cache.\n"
       ]
      },
      {
       "output_type": "stream",
       "stream": "stderr",
       "text": [
        "DEBUG:UFL:No integrals left after transformation, returning empty form.\n"
       ]
      },
      {
       "output_type": "stream",
       "stream": "stderr",
       "text": [
        "DEBUG:FFC:Reusing form from cache.\n"
       ]
      },
      {
       "output_type": "stream",
       "stream": "stderr",
       "text": [
        "DEBUG:UFL:No integrals left after transformation, returning empty form.\n"
       ]
      },
      {
       "output_type": "stream",
       "stream": "stderr",
       "text": [
        "DEBUG:FFC:Reusing form from cache.\n"
       ]
      },
      {
       "output_type": "stream",
       "stream": "stderr",
       "text": [
        "DEBUG:UFL:No integrals left after transformation, returning empty form.\n"
       ]
      },
      {
       "output_type": "stream",
       "stream": "stderr",
       "text": [
        "DEBUG:FFC:Reusing form from cache.\n"
       ]
      },
      {
       "output_type": "stream",
       "stream": "stderr",
       "text": [
        "DEBUG:UFL:No integrals left after transformation, returning empty form.\n"
       ]
      },
      {
       "output_type": "stream",
       "stream": "stderr",
       "text": [
        "DEBUG:FFC:Reusing form from cache.\n"
       ]
      },
      {
       "output_type": "stream",
       "stream": "stderr",
       "text": [
        "DEBUG:UFL:No integrals left after transformation, returning empty form.\n"
       ]
      },
      {
       "output_type": "stream",
       "stream": "stderr",
       "text": [
        "DEBUG:FFC:Reusing form from cache.\n"
       ]
      },
      {
       "output_type": "stream",
       "stream": "stderr",
       "text": [
        "DEBUG:UFL:No integrals left after transformation, returning empty form.\n"
       ]
      },
      {
       "output_type": "stream",
       "stream": "stderr",
       "text": [
        "DEBUG:FFC:Reusing form from cache.\n"
       ]
      },
      {
       "output_type": "stream",
       "stream": "stderr",
       "text": [
        "DEBUG:UFL:No integrals left after transformation, returning empty form.\n"
       ]
      },
      {
       "output_type": "stream",
       "stream": "stderr",
       "text": [
        "DEBUG:FFC:Reusing form from cache.\n"
       ]
      },
      {
       "output_type": "stream",
       "stream": "stderr",
       "text": [
        "DEBUG:UFL:No integrals left after transformation, returning empty form.\n"
       ]
      },
      {
       "output_type": "stream",
       "stream": "stderr",
       "text": [
        "DEBUG:FFC:Reusing form from cache.\n"
       ]
      },
      {
       "output_type": "stream",
       "stream": "stderr",
       "text": [
        "DEBUG:UFL:No integrals left after transformation, returning empty form.\n"
       ]
      },
      {
       "output_type": "stream",
       "stream": "stderr",
       "text": [
        "DEBUG:FFC:Reusing form from cache.\n"
       ]
      },
      {
       "output_type": "stream",
       "stream": "stderr",
       "text": [
        "DEBUG:UFL:No integrals left after transformation, returning empty form.\n"
       ]
      },
      {
       "output_type": "stream",
       "stream": "stderr",
       "text": [
        "DEBUG:FFC:Reusing form from cache.\n"
       ]
      },
      {
       "output_type": "stream",
       "stream": "stderr",
       "text": [
        "DEBUG:UFL:No integrals left after transformation, returning empty form.\n"
       ]
      },
      {
       "output_type": "stream",
       "stream": "stderr",
       "text": [
        "DEBUG:FFC:Reusing form from cache.\n"
       ]
      },
      {
       "output_type": "stream",
       "stream": "stderr",
       "text": [
        "DEBUG:UFL:No integrals left after transformation, returning empty form.\n"
       ]
      },
      {
       "output_type": "stream",
       "stream": "stderr",
       "text": [
        "DEBUG:FFC:Reusing form from cache.\n"
       ]
      },
      {
       "output_type": "stream",
       "stream": "stderr",
       "text": [
        "DEBUG:UFL:No integrals left after transformation, returning empty form.\n"
       ]
      },
      {
       "output_type": "stream",
       "stream": "stderr",
       "text": [
        "DEBUG:FFC:Reusing form from cache.\n"
       ]
      },
      {
       "output_type": "stream",
       "stream": "stderr",
       "text": [
        "DEBUG:UFL:No integrals left after transformation, returning empty form.\n"
       ]
      },
      {
       "output_type": "stream",
       "stream": "stderr",
       "text": [
        "DEBUG:FFC:Reusing form from cache.\n"
       ]
      },
      {
       "output_type": "stream",
       "stream": "stderr",
       "text": [
        "DEBUG:UFL:No integrals left after transformation, returning empty form.\n"
       ]
      },
      {
       "output_type": "stream",
       "stream": "stderr",
       "text": [
        "DEBUG:FFC:Reusing form from cache.\n"
       ]
      },
      {
       "output_type": "stream",
       "stream": "stderr",
       "text": [
        "DEBUG:UFL:No integrals left after transformation, returning empty form.\n"
       ]
      },
      {
       "output_type": "stream",
       "stream": "stderr",
       "text": [
        "DEBUG:FFC:Reusing form from cache.\n"
       ]
      },
      {
       "output_type": "stream",
       "stream": "stderr",
       "text": [
        "DEBUG:UFL:No integrals left after transformation, returning empty form.\n"
       ]
      },
      {
       "output_type": "stream",
       "stream": "stderr",
       "text": [
        "DEBUG:FFC:Reusing form from cache.\n"
       ]
      },
      {
       "output_type": "stream",
       "stream": "stderr",
       "text": [
        "DEBUG:UFL:No integrals left after transformation, returning empty form.\n"
       ]
      },
      {
       "output_type": "stream",
       "stream": "stderr",
       "text": [
        "DEBUG:FFC:Reusing form from cache.\n"
       ]
      },
      {
       "output_type": "stream",
       "stream": "stderr",
       "text": [
        "DEBUG:UFL:No integrals left after transformation, returning empty form.\n"
       ]
      },
      {
       "output_type": "stream",
       "stream": "stderr",
       "text": [
        "DEBUG:FFC:Reusing form from cache.\n"
       ]
      },
      {
       "output_type": "stream",
       "stream": "stderr",
       "text": [
        "DEBUG:UFL:No integrals left after transformation, returning empty form.\n"
       ]
      },
      {
       "output_type": "stream",
       "stream": "stderr",
       "text": [
        "DEBUG:FFC:Reusing form from cache.\n"
       ]
      },
      {
       "output_type": "stream",
       "stream": "stderr",
       "text": [
        "DEBUG:UFL:No integrals left after transformation, returning empty form.\n"
       ]
      },
      {
       "output_type": "stream",
       "stream": "stderr",
       "text": [
        "DEBUG:FFC:Reusing form from cache.\n"
       ]
      },
      {
       "output_type": "stream",
       "stream": "stderr",
       "text": [
        "DEBUG:UFL:No integrals left after transformation, returning empty form.\n"
       ]
      },
      {
       "output_type": "stream",
       "stream": "stderr",
       "text": [
        "DEBUG:FFC:Reusing form from cache.\n"
       ]
      },
      {
       "output_type": "stream",
       "stream": "stderr",
       "text": [
        "DEBUG:UFL:No integrals left after transformation, returning empty form.\n"
       ]
      },
      {
       "output_type": "stream",
       "stream": "stderr",
       "text": [
        "DEBUG:FFC:Reusing form from cache.\n"
       ]
      },
      {
       "output_type": "stream",
       "stream": "stderr",
       "text": [
        "DEBUG:UFL:No integrals left after transformation, returning empty form.\n"
       ]
      },
      {
       "output_type": "stream",
       "stream": "stderr",
       "text": [
        "DEBUG:FFC:Reusing form from cache.\n"
       ]
      },
      {
       "output_type": "stream",
       "stream": "stderr",
       "text": [
        "DEBUG:UFL:No integrals left after transformation, returning empty form.\n"
       ]
      },
      {
       "output_type": "stream",
       "stream": "stderr",
       "text": [
        "DEBUG:FFC:Reusing form from cache.\n"
       ]
      },
      {
       "output_type": "stream",
       "stream": "stderr",
       "text": [
        "DEBUG:UFL:No integrals left after transformation, returning empty form.\n"
       ]
      },
      {
       "output_type": "stream",
       "stream": "stderr",
       "text": [
        "DEBUG:FFC:Reusing form from cache.\n"
       ]
      },
      {
       "output_type": "stream",
       "stream": "stderr",
       "text": [
        "DEBUG:UFL:No integrals left after transformation, returning empty form.\n"
       ]
      },
      {
       "output_type": "stream",
       "stream": "stderr",
       "text": [
        "DEBUG:FFC:Reusing form from cache.\n"
       ]
      },
      {
       "output_type": "stream",
       "stream": "stderr",
       "text": [
        "DEBUG:UFL:No integrals left after transformation, returning empty form.\n"
       ]
      },
      {
       "output_type": "stream",
       "stream": "stderr",
       "text": [
        "DEBUG:FFC:Reusing form from cache.\n"
       ]
      },
      {
       "output_type": "stream",
       "stream": "stderr",
       "text": [
        "DEBUG:UFL:No integrals left after transformation, returning empty form.\n"
       ]
      },
      {
       "output_type": "stream",
       "stream": "stderr",
       "text": [
        "DEBUG:FFC:Reusing form from cache.\n"
       ]
      },
      {
       "output_type": "stream",
       "stream": "stderr",
       "text": [
        "DEBUG:UFL:No integrals left after transformation, returning empty form.\n"
       ]
      },
      {
       "output_type": "stream",
       "stream": "stderr",
       "text": [
        "DEBUG:FFC:Reusing form from cache.\n"
       ]
      },
      {
       "output_type": "stream",
       "stream": "stderr",
       "text": [
        "DEBUG:UFL:No integrals left after transformation, returning empty form.\n"
       ]
      },
      {
       "output_type": "stream",
       "stream": "stderr",
       "text": [
        "DEBUG:FFC:Reusing form from cache.\n"
       ]
      },
      {
       "output_type": "stream",
       "stream": "stderr",
       "text": [
        "DEBUG:UFL:No integrals left after transformation, returning empty form.\n"
       ]
      },
      {
       "output_type": "stream",
       "stream": "stderr",
       "text": [
        "DEBUG:FFC:Reusing form from cache.\n"
       ]
      },
      {
       "output_type": "stream",
       "stream": "stderr",
       "text": [
        "DEBUG:UFL:No integrals left after transformation, returning empty form.\n"
       ]
      },
      {
       "output_type": "stream",
       "stream": "stderr",
       "text": [
        "DEBUG:FFC:Reusing form from cache.\n"
       ]
      },
      {
       "output_type": "stream",
       "stream": "stderr",
       "text": [
        "DEBUG:UFL:No integrals left after transformation, returning empty form.\n"
       ]
      },
      {
       "output_type": "stream",
       "stream": "stderr",
       "text": [
        "DEBUG:FFC:Reusing form from cache.\n"
       ]
      },
      {
       "output_type": "stream",
       "stream": "stderr",
       "text": [
        "DEBUG:UFL:No integrals left after transformation, returning empty form.\n"
       ]
      },
      {
       "output_type": "stream",
       "stream": "stderr",
       "text": [
        "DEBUG:FFC:Reusing form from cache.\n"
       ]
      },
      {
       "output_type": "stream",
       "stream": "stderr",
       "text": [
        "DEBUG:UFL:No integrals left after transformation, returning empty form.\n"
       ]
      },
      {
       "output_type": "stream",
       "stream": "stderr",
       "text": [
        "DEBUG:FFC:Reusing form from cache.\n"
       ]
      },
      {
       "output_type": "stream",
       "stream": "stderr",
       "text": [
        "DEBUG:UFL:No integrals left after transformation, returning empty form.\n"
       ]
      },
      {
       "output_type": "stream",
       "stream": "stderr",
       "text": [
        "DEBUG:FFC:Reusing form from cache.\n"
       ]
      },
      {
       "output_type": "stream",
       "stream": "stderr",
       "text": [
        "DEBUG:UFL:No integrals left after transformation, returning empty form.\n"
       ]
      },
      {
       "output_type": "stream",
       "stream": "stderr",
       "text": [
        "DEBUG:FFC:Reusing form from cache.\n"
       ]
      },
      {
       "output_type": "stream",
       "stream": "stderr",
       "text": [
        "DEBUG:UFL:No integrals left after transformation, returning empty form.\n"
       ]
      },
      {
       "output_type": "stream",
       "stream": "stderr",
       "text": [
        "DEBUG:FFC:Reusing form from cache.\n"
       ]
      },
      {
       "output_type": "stream",
       "stream": "stderr",
       "text": [
        "DEBUG:UFL:No integrals left after transformation, returning empty form.\n"
       ]
      },
      {
       "output_type": "stream",
       "stream": "stderr",
       "text": [
        "DEBUG:FFC:Reusing form from cache.\n"
       ]
      },
      {
       "output_type": "stream",
       "stream": "stderr",
       "text": [
        "DEBUG:UFL:No integrals left after transformation, returning empty form.\n"
       ]
      },
      {
       "output_type": "stream",
       "stream": "stderr",
       "text": [
        "DEBUG:FFC:Reusing form from cache.\n"
       ]
      },
      {
       "output_type": "stream",
       "stream": "stderr",
       "text": [
        "DEBUG:UFL:No integrals left after transformation, returning empty form.\n"
       ]
      },
      {
       "output_type": "stream",
       "stream": "stderr",
       "text": [
        "DEBUG:FFC:Reusing form from cache.\n"
       ]
      },
      {
       "output_type": "stream",
       "stream": "stderr",
       "text": [
        "DEBUG:UFL:No integrals left after transformation, returning empty form.\n"
       ]
      },
      {
       "output_type": "stream",
       "stream": "stderr",
       "text": [
        "DEBUG:FFC:Reusing form from cache.\n"
       ]
      },
      {
       "output_type": "stream",
       "stream": "stderr",
       "text": [
        "DEBUG:UFL:No integrals left after transformation, returning empty form.\n"
       ]
      },
      {
       "output_type": "stream",
       "stream": "stderr",
       "text": [
        "DEBUG:FFC:Reusing form from cache.\n"
       ]
      },
      {
       "output_type": "stream",
       "stream": "stderr",
       "text": [
        "DEBUG:UFL:No integrals left after transformation, returning empty form.\n"
       ]
      },
      {
       "output_type": "stream",
       "stream": "stderr",
       "text": [
        "DEBUG:FFC:Reusing form from cache.\n"
       ]
      },
      {
       "output_type": "stream",
       "stream": "stderr",
       "text": [
        "DEBUG:UFL:No integrals left after transformation, returning empty form.\n"
       ]
      },
      {
       "output_type": "stream",
       "stream": "stderr",
       "text": [
        "DEBUG:FFC:Reusing form from cache.\n"
       ]
      },
      {
       "output_type": "stream",
       "stream": "stderr",
       "text": [
        "DEBUG:UFL:No integrals left after transformation, returning empty form.\n"
       ]
      },
      {
       "output_type": "stream",
       "stream": "stderr",
       "text": [
        "DEBUG:FFC:Reusing form from cache.\n"
       ]
      },
      {
       "output_type": "stream",
       "stream": "stderr",
       "text": [
        "DEBUG:UFL:No integrals left after transformation, returning empty form.\n"
       ]
      },
      {
       "output_type": "stream",
       "stream": "stderr",
       "text": [
        "DEBUG:FFC:Reusing form from cache.\n"
       ]
      },
      {
       "output_type": "stream",
       "stream": "stderr",
       "text": [
        "DEBUG:UFL:No integrals left after transformation, returning empty form.\n"
       ]
      },
      {
       "output_type": "stream",
       "stream": "stderr",
       "text": [
        "DEBUG:FFC:Reusing form from cache.\n"
       ]
      },
      {
       "output_type": "stream",
       "stream": "stderr",
       "text": [
        "DEBUG:UFL:No integrals left after transformation, returning empty form.\n"
       ]
      },
      {
       "output_type": "stream",
       "stream": "stderr",
       "text": [
        "DEBUG:FFC:Reusing form from cache.\n"
       ]
      },
      {
       "output_type": "stream",
       "stream": "stderr",
       "text": [
        "DEBUG:UFL:No integrals left after transformation, returning empty form.\n"
       ]
      },
      {
       "output_type": "stream",
       "stream": "stderr",
       "text": [
        "DEBUG:FFC:Reusing form from cache.\n"
       ]
      },
      {
       "output_type": "stream",
       "stream": "stderr",
       "text": [
        "DEBUG:UFL:No integrals left after transformation, returning empty form.\n"
       ]
      },
      {
       "output_type": "stream",
       "stream": "stderr",
       "text": [
        "DEBUG:FFC:Reusing form from cache.\n"
       ]
      },
      {
       "output_type": "stream",
       "stream": "stderr",
       "text": [
        "DEBUG:UFL:No integrals left after transformation, returning empty form.\n"
       ]
      },
      {
       "output_type": "stream",
       "stream": "stderr",
       "text": [
        "DEBUG:FFC:Reusing form from cache.\n"
       ]
      },
      {
       "output_type": "stream",
       "stream": "stderr",
       "text": [
        "DEBUG:UFL:No integrals left after transformation, returning empty form.\n"
       ]
      },
      {
       "output_type": "stream",
       "stream": "stderr",
       "text": [
        "DEBUG:FFC:Reusing form from cache.\n"
       ]
      },
      {
       "output_type": "stream",
       "stream": "stderr",
       "text": [
        "DEBUG:UFL:No integrals left after transformation, returning empty form.\n"
       ]
      },
      {
       "output_type": "stream",
       "stream": "stderr",
       "text": [
        "DEBUG:FFC:Reusing form from cache.\n"
       ]
      },
      {
       "output_type": "stream",
       "stream": "stderr",
       "text": [
        "DEBUG:UFL:No integrals left after transformation, returning empty form.\n"
       ]
      },
      {
       "output_type": "stream",
       "stream": "stderr",
       "text": [
        "DEBUG:FFC:Reusing form from cache.\n"
       ]
      },
      {
       "output_type": "stream",
       "stream": "stderr",
       "text": [
        "DEBUG:UFL:No integrals left after transformation, returning empty form.\n"
       ]
      },
      {
       "output_type": "stream",
       "stream": "stderr",
       "text": [
        "DEBUG:FFC:Reusing form from cache.\n"
       ]
      },
      {
       "output_type": "stream",
       "stream": "stderr",
       "text": [
        "DEBUG:UFL:No integrals left after transformation, returning empty form.\n"
       ]
      },
      {
       "output_type": "stream",
       "stream": "stderr",
       "text": [
        "DEBUG:FFC:Reusing form from cache.\n"
       ]
      },
      {
       "output_type": "stream",
       "stream": "stderr",
       "text": [
        "DEBUG:UFL:No integrals left after transformation, returning empty form.\n"
       ]
      },
      {
       "output_type": "stream",
       "stream": "stderr",
       "text": [
        "DEBUG:FFC:Reusing form from cache.\n"
       ]
      },
      {
       "output_type": "stream",
       "stream": "stderr",
       "text": [
        "DEBUG:UFL:No integrals left after transformation, returning empty form.\n"
       ]
      },
      {
       "output_type": "stream",
       "stream": "stderr",
       "text": [
        "DEBUG:FFC:Reusing form from cache.\n"
       ]
      },
      {
       "output_type": "stream",
       "stream": "stderr",
       "text": [
        "DEBUG:UFL:No integrals left after transformation, returning empty form.\n"
       ]
      },
      {
       "output_type": "stream",
       "stream": "stderr",
       "text": [
        "DEBUG:FFC:Reusing form from cache.\n"
       ]
      },
      {
       "output_type": "stream",
       "stream": "stderr",
       "text": [
        "DEBUG:UFL:No integrals left after transformation, returning empty form.\n"
       ]
      },
      {
       "output_type": "stream",
       "stream": "stderr",
       "text": [
        "DEBUG:FFC:Reusing form from cache.\n"
       ]
      },
      {
       "output_type": "stream",
       "stream": "stdout",
       "text": [
        "0.469259977341\n"
       ]
      }
     ],
     "prompt_number": 5
    },
    {
     "cell_type": "code",
     "collapsed": false,
     "input": [],
     "language": "python",
     "metadata": {},
     "outputs": [],
     "prompt_number": 5
    },
    {
     "cell_type": "code",
     "collapsed": false,
     "input": [
      "Mmap = Magnetic.dofmap()\n",
      "Lmap = Lagrange.dofmap()"
     ],
     "language": "python",
     "metadata": {},
     "outputs": [],
     "prompt_number": 2
    },
    {
     "cell_type": "code",
     "collapsed": false,
     "input": [
      "print Lmap.vertex_to_dof_map(mesh)\n",
      "print Lmap.dof_to_vertex_map(mesh)"
     ],
     "language": "python",
     "metadata": {},
     "outputs": [
      {
       "output_type": "stream",
       "stream": "stdout",
       "text": [
        "[8 5 7 2 4 6 1 3 0]\n",
        "[8 6 3 7 4 1 5 2 0]\n"
       ]
      }
     ],
     "prompt_number": 3
    },
    {
     "cell_type": "code",
     "collapsed": false,
     "input": [
      "domain_vertices = [Point(0.0, 0.0),\n",
      "                     Point(10.0, 0.0),\n",
      "                     Point(10.0, 2.0),\n",
      "                     Point(8.0, 2.0),\n",
      "                     Point(7.5, 1.0),\n",
      "                     Point(2.5, 1.0),\n",
      "                     Point(2.0, 4.0),\n",
      "                     Point(0.0, 4.0),\n",
      "                     Point(0.0, 0.0)]\n",
      "\n",
      "    # Create empty Mesh\n",
      "mesh = Mesh()\n",
      "PolygonalMeshGenerator.generate(mesh, domain_vertices, 0.75);\n"
     ],
     "language": "python",
     "metadata": {},
     "outputs": [],
     "prompt_number": 28
    },
    {
     "cell_type": "code",
     "collapsed": false,
     "input": [
      "edge2dof = numpy.zeros(mesh.num_edges(), dtype=\"int\")"
     ],
     "language": "python",
     "metadata": {},
     "outputs": [],
     "prompt_number": 6
    },
    {
     "cell_type": "code",
     "collapsed": false,
     "input": [
      "c = 0\n",
      "for cell in cells(mesh):\n",
      "    cellDOF = Mmap.cell_dofs(c)\n",
      "    edgeVALUES = cell.entities(1)\n",
      "    print edgeVALUES, cellDOF\n",
      "    edge2dof[cellDOF]=edgeVALUES\n",
      "    c = c+1"
     ],
     "language": "python",
     "metadata": {},
     "outputs": [
      {
       "output_type": "stream",
       "stream": "stdout",
       "text": [
        "[0 1 2] [1 0 2]\n",
        "[3 4 0] [3 4 1]\n",
        "[5 4 6] [7 4 8]\n",
        "[7 8 5] [11 12  7]\n",
        "[ 9 10  3] [5 6 3]\n",
        "[11 12  9] [ 9 10  5]\n",
        "[13 12  7] [13 10 11]\n",
        "[14 15 13] [14 15 13]\n"
       ]
      }
     ],
     "prompt_number": 7
    },
    {
     "cell_type": "code",
     "collapsed": false,
     "input": [
      "C = Cell(mesh,0)\n",
      "edge2dof2 = edge2dof\n",
      "mesh.num_edges()\n",
      "C.entities(2)\n"
     ],
     "language": "python",
     "metadata": {},
     "outputs": [
      {
       "metadata": {},
       "output_type": "pyout",
       "prompt_number": 24,
       "text": [
        "array([ 28,  31,  41,  74,  75, 103, 106,   8,  29,  32,  72,  73,  42,\n",
        "        96,  97], dtype=uint32)"
       ]
      }
     ],
     "prompt_number": 24
    },
    {
     "cell_type": "code",
     "collapsed": false,
     "input": [
      "\n",
      "for i in range(mesh.num_cells()):\n",
      "#     cell = C.end()\n",
      "    C = Cell(mesh,i)\n",
      "    cellDOF = Mmap.cell_dofs(i)\n",
      "    edgeVALUES = C.entities(1)\n",
      "    print edgeVALUES, cellDOF\n",
      "    edge2dof[cellDOF]=edgeVALUES\n"
     ],
     "language": "python",
     "metadata": {},
     "outputs": [
      {
       "output_type": "stream",
       "stream": "stdout",
       "text": [
        "[0 1 2] [53 47 54]\n",
        "[3 4 5] [117 116 120]\n",
        "[6 7 8] [172 177 173]\n",
        "[ 9 10 11] [20 21 13]\n",
        "[12 13 14] [89 90 86]\n",
        "[15 16 17] [103 104 100]\n",
        "[18 19 20] [131 132 128]\n",
        "[21 22 23] [71 78 72]\n",
        "[ 0 24 25] [53 56 62]\n",
        "[26 27  8] [170 174 173]\n",
        "[23 28 29] [72 67 73]\n",
        "[30 31 32] [148 149 144]\n",
        "[33 11 34] [ 9 13 14]\n",
        "[ 9 35 36] [20 27 28]\n",
        "[31 37 38] [149 153 154]\n",
        "[39 40 41] [166 161 167]\n",
        "[42 43 44] [106 109 110]\n",
        "[15 42 45] [103 106 102]\n",
        "[45 46 47] [102  99 105]\n",
        "[48 49 50] [92 95 96]\n",
        "[12 48 51] [89 92 88]\n",
        "[51 52 53] [88 85 91]\n",
        "[54 55 56] [114 112 115]\n",
        "[ 3 54 57] [117 114 118]\n",
        "[57 58 59] [118 121 122]\n",
        "[60 61 62] [134 137 138]\n",
        "[18 60 63] [131 134 130]\n",
        "[63 64 65] [130 127 133]\n",
        "[66  2 67] [61 54 60]\n",
        "[66 68 28] [61 66 67]\n",
        "[69 70 71] [58 63 64]\n",
        "[72 73 74] [33 40 41]\n",
        "[75 76 68] [75 76 66]\n",
        "[33 77 78] [ 9 10  6]\n",
        "[35 79 80] [27 36 37]\n",
        "[81 82 21] [70 65 71]\n",
        "[81 70 83] [70 63 74]\n",
        "[84 61 85] [139 137 141]\n",
        "[32 85 86] [144 141 145]\n",
        "[87 88 89] [165 158 159]\n",
        "[90 87 26] [169 165 170]\n",
        "[91 74  1] [42 41 47]\n",
        "[91 92 93] [42 34 43]\n",
        "[94 95 96] [18 12 19]\n",
        "[36 97 98] [28 25 29]\n",
        "[ 99 100  69] [57 51 58]\n",
        "[101 102 103] [44 38 45]\n",
        "[ 72 104 105] [33 32 23]\n",
        "[106 107 105] [22 15 23]\n",
        "[106  94 108] [22 18 26]\n",
        "[108  92 109] [26 34 35]\n",
        "[110 111 112] [77 81 82]\n",
        "[ 30 113 114] [148 152 147]\n",
        "[115 116 117] [142 143 140]\n",
        "[ 22 118 119] [78 83 84]\n",
        "[ 14 120 121] [86 80 87]\n",
        "[ 20 122 123] [128 126 129]\n",
        "[  5 124 125] [120 123 124]\n",
        "[ 84 126 117] [139 135 140]\n",
        "[ 19 126 127] [132 135 136]\n",
        "[128 124  64] [125 123 127]\n",
        "[128  58 122] [125 121 126]\n",
        "[129  43 130] [111 109 113]\n",
        "[  4 130 131] [116 113 119]\n",
        "[132 120  83] [79 80 74]\n",
        "[132  52 118] [79 85 83]\n",
        "[ 17 133 134] [100  98 101]\n",
        "[ 13 135 136] [90 93 94]\n",
        "[137 133 135]"
       ]
      },
      {
       "output_type": "stream",
       "stream": "stdout",
       "text": [
        " [97 98 93]\n",
        "[137  46  49] [97 99 95]\n",
        "[129 138  55] [111 107 112]\n",
        "[ 16 138 139] [104 107 108]\n",
        "[110 140  75] [77 68 75]\n",
        "[140 141  25] [68 69 62]\n",
        "[ 99 142 143] [57 52 59]\n",
        "[ 82 143  67] [65 59 60]\n",
        "[144  10 145] [30 21 31]\n",
        "[144  79 102] [30 36 38]\n",
        "[146 107  34] [11 15 14]\n",
        "[146  95 147] [11 12  8]\n",
        "[115 148 114] [142 146 147]\n",
        "[149 150 151] [162 155 163]\n",
        "[152 153  88] [157 151 158]\n",
        "[ 90 154 155] [169 168 176]\n",
        "[156  37  40] [160 153 161]\n",
        "[156 113  89] [160 152 159]\n",
        "[157 154 158] [164 168 171]\n",
        "[152 149 157] [157 162 164]\n",
        "[  6 159  39] [172 175 166]\n",
        "[159 160 161] [175 180 181]\n",
        "[162 163  77] [16 17 10]\n",
        "[162 164  97] [16 24 25]\n",
        "[165 166 147] [4 7 8]\n",
        "[167 168 169] [1 0 2]\n",
        "[167 170 165] [1 3 4]\n",
        "[170 171  78] [3 5 6]\n",
        "[172 173  24] [48 55 56]\n",
        "[172 174  93] [48 49 43]\n",
        "[175 176 155] [182 183 176]\n",
        "[177 178  27] [178 179 174]\n",
        "[179 175 177] [184 182 178]\n",
        "[179 180 181] [184 185 186]\n",
        "[182 100 101] [50 51 44]\n",
        "[182 142 183] [50 52 46]\n",
        "[184 150 185] [150 155 156]\n",
        "[184 153 148] [150 151 146]\n",
        "[186  73 183] [39 40 46]\n",
        "[186 104 145] [39 32 31]\n"
       ]
      }
     ],
     "prompt_number": 14
    },
    {
     "cell_type": "code",
     "collapsed": false,
     "input": [
      "C = cells(mesh)\n",
      "CC = C.next()"
     ],
     "language": "python",
     "metadata": {},
     "outputs": [],
     "prompt_number": 19
    },
    {
     "cell_type": "code",
     "collapsed": false,
     "input": [
      "for i in range(mesh.num_edges()):\n",
      "    edge = Edge(mesh,i)\n",
      "normalx = numpy.zeros(mesh.num_edges())"
     ],
     "language": "python",
     "metadata": {},
     "outputs": [],
     "prompt_number": 61
    },
    {
     "cell_type": "code",
     "collapsed": false,
     "input": [
      "for j in range(mesh.num_cells()):\n",
      "    cell = Cell(mesh,j)\n",
      "    edgeVALUES = cell.entities(1)\n",
      "    for i in range(3):\n",
      "        normalx[edgeVALUES[i]] =  cell.normal(i,0)\n",
      "        print cell.normal(i,0)\n",
      "        try:\n",
      "            cell.normal(i,2)\n",
      "            print \"fail\"\n",
      "        except ValueError:\n",
      "            print \"Oops!  That was no valid number.  Try again...\"\n",
      "        else:\n",
      "            print \"2D\"\n",
      "\n",
      "print mesh.geometry()"
     ],
     "language": "python",
     "metadata": {},
     "outputs": [
      {
       "output_type": "stream",
       "stream": "stdout",
       "text": [
        "0.707106781187\n",
        "fail\n",
        "2D\n",
        "-1.0\n",
        "fail\n",
        "2D\n",
        "0.0\n",
        "fail\n",
        "2D\n",
        "0.0\n",
        "fail\n",
        "2D\n",
        "1.0\n",
        "fail\n",
        "2D\n",
        "-0.707106781187\n",
        "fail\n",
        "2D\n",
        "0.707106781187\n",
        "fail\n",
        "2D\n",
        "-1.0\n",
        "fail\n",
        "2D\n",
        "0.0\n",
        "fail\n",
        "2D\n",
        "0.0\n",
        "fail\n",
        "2D\n",
        "1.0\n",
        "fail\n",
        "2D\n",
        "-0.707106781187\n",
        "fail\n",
        "2D\n",
        "0.707106781187\n",
        "fail\n",
        "2D\n",
        "-1.0\n",
        "fail\n",
        "2D\n",
        "0.0\n",
        "fail\n",
        "2D\n",
        "0.0\n",
        "fail\n",
        "2D\n",
        "1.0\n",
        "fail\n",
        "2D\n",
        "-0.707106781187\n",
        "fail\n",
        "2D\n",
        "0.707106781187\n",
        "fail\n",
        "2D\n",
        "-1.0\n",
        "fail\n",
        "2D\n",
        "0.0\n",
        "fail\n",
        "2D\n",
        "0.0\n",
        "fail\n",
        "2D\n",
        "1.0\n",
        "fail\n",
        "2D\n",
        "-0.707106781187\n",
        "fail\n",
        "2D\n",
        "<dolfin.cpp.mesh.MeshGeometry; proxy of <Swig Object of type 'dolfin::MeshGeometry *' at 0x40c8810> >\n"
       ]
      }
     ],
     "prompt_number": 81
    },
    {
     "cell_type": "code",
     "collapsed": false,
     "input": [
      "for i in range(mesh.num_cells()):\n",
      "    cell = Cell(mesh,i)\n",
      "    print cell.orientation()\n",
      "#     print edge.length()"
     ],
     "language": "python",
     "metadata": {},
     "outputs": [
      {
       "output_type": "stream",
       "stream": "stdout",
       "text": [
        "0\n",
        "1\n",
        "0\n",
        "1\n",
        "0\n",
        "1\n",
        "0\n",
        "1\n"
       ]
      }
     ],
     "prompt_number": 122
    },
    {
     "cell_type": "code",
     "collapsed": false,
     "input": [
      "    print cell.orientation"
     ],
     "language": "python",
     "metadata": {},
     "outputs": []
    },
    {
     "cell_type": "code",
     "collapsed": false,
     "input": [
      "    print cell.orientation"
     ],
     "language": "python",
     "metadata": {},
     "outputs": []
    },
    {
     "cell_type": "code",
     "collapsed": false,
     "input": [
      "    print cell.orientation"
     ],
     "language": "python",
     "metadata": {},
     "outputs": []
    },
    {
     "cell_type": "code",
     "collapsed": false,
     "input": [
      "    print cell.orientation"
     ],
     "language": "python",
     "metadata": {},
     "outputs": []
    },
    {
     "cell_type": "code",
     "collapsed": false,
     "input": [
      "    print cell.orientation"
     ],
     "language": "python",
     "metadata": {},
     "outputs": []
    },
    {
     "cell_type": "code",
     "collapsed": false,
     "input": [
      "    print cell.orientation"
     ],
     "language": "python",
     "metadata": {},
     "outputs": []
    },
    {
     "cell_type": "code",
     "collapsed": false,
     "input": [
      "    print cell.orientation"
     ],
     "language": "python",
     "metadata": {},
     "outputs": []
    },
    {
     "cell_type": "code",
     "collapsed": false,
     "input": [
      "    print cell.orientation"
     ],
     "language": "python",
     "metadata": {},
     "outputs": []
    },
    {
     "cell_type": "code",
     "collapsed": false,
     "input": [
      "(u) = TrialFunction(Magnetic)\n",
      "(v) = TestFunction(Magnetic)\n",
      "(p) = TrialFunction(Lagrange)\n",
      "(q) = TestFunction(Lagrange)\n",
      "\n",
      "a = inner(curl(u),curl(v))*dx \n",
      "l = inner(grad(p),grad(q))*dx+inner(p,q)*dx\n",
      "# u0 = Expression((\"sin(2*pi*x[1])*cos(2*pi*x[0])\",\"-sin(2*pi*x[0])*cos(2*pi*x[1])\"))\n",
      "# f = 8*pow(pi,2)*u0+c*u0\n",
      "CurlCurl = Expression((\"-6*x[1]+2\",\"-6*x[0]+2\"))+b0\n",
      "f = CurlCurl\n",
      "L1  = inner(v, f)*dx"
     ],
     "language": "python",
     "metadata": {},
     "outputs": [],
     "prompt_number": 5
    },
    {
     "cell_type": "code",
     "collapsed": false,
     "input": [
      "def boundary(x, on_boundary):\n",
      "    return on_boundary\n",
      "bc = DirichletBC(Magnetic,b0, boundary)\n",
      "Mass = assemble(inner(u,v)*dx)\n",
      "bc.apply(Mass)\n",
      "Acurl,b = assemble_system(a,L1,bc)\n",
      "Anode = assemble(l)"
     ],
     "language": "python",
     "metadata": {},
     "outputs": [
      {
       "output_type": "stream",
       "stream": "stderr",
       "text": [
        "DEBUG:UFL:No integrals left after transformation, returning empty form.\n"
       ]
      },
      {
       "output_type": "stream",
       "stream": "stderr",
       "text": [
        "DEBUG:UFL:No integrals left after transformation, returning empty form.\n"
       ]
      },
      {
       "output_type": "stream",
       "stream": "stderr",
       "text": [
        "DEBUG:FFC:Reusing form from cache.\n"
       ]
      },
      {
       "output_type": "stream",
       "stream": "stderr",
       "text": [
        "DEBUG:UFL:No integrals left after transformation, returning empty form.\n"
       ]
      },
      {
       "output_type": "stream",
       "stream": "stderr",
       "text": [
        "DEBUG:UFL:No integrals left after transformation, returning empty form.\n"
       ]
      },
      {
       "output_type": "stream",
       "stream": "stderr",
       "text": [
        "DEBUG:FFC:Reusing form from cache.\n"
       ]
      },
      {
       "output_type": "stream",
       "stream": "stderr",
       "text": [
        "INFO:UFL:Adjusting missing element domain to <Domain built from <triangle cell in 2D> with label dolfin_mesh_with_id_7>.\n"
       ]
      },
      {
       "output_type": "stream",
       "stream": "stderr",
       "text": [
        "INFO:UFL:Adjusting missing element degree to 1\n"
       ]
      },
      {
       "output_type": "stream",
       "stream": "stderr",
       "text": [
        "INFO:UFL:Adjusting missing element domain to <Domain built from <triangle cell in 2D> with label dolfin_mesh_with_id_7>.\n"
       ]
      },
      {
       "output_type": "stream",
       "stream": "stderr",
       "text": [
        "INFO:UFL:Adjusting missing element degree to 1\n"
       ]
      },
      {
       "output_type": "stream",
       "stream": "stderr",
       "text": [
        "INFO:UFL:Adjusting missing element domain to <Domain built from <triangle cell in 2D> with label dolfin_mesh_with_id_7>.\n"
       ]
      },
      {
       "output_type": "stream",
       "stream": "stderr",
       "text": [
        "INFO:UFL:Adjusting missing element degree to 1\n"
       ]
      },
      {
       "output_type": "stream",
       "stream": "stderr",
       "text": [
        "INFO:UFL:Adjusting missing element domain to <Domain built from <triangle cell in 2D> with label dolfin_mesh_with_id_7>.\n"
       ]
      },
      {
       "output_type": "stream",
       "stream": "stderr",
       "text": [
        "INFO:UFL:Adjusting missing element degree to 1\n"
       ]
      },
      {
       "output_type": "stream",
       "stream": "stderr",
       "text": [
        "INFO:UFL:Adjusting missing element domain to <Domain built from <triangle cell in 2D> with label dolfin_mesh_with_id_7>.\n"
       ]
      },
      {
       "output_type": "stream",
       "stream": "stderr",
       "text": [
        "INFO:UFL:Adjusting missing element degree to 1\n"
       ]
      },
      {
       "output_type": "stream",
       "stream": "stderr",
       "text": [
        "INFO:UFL:Adjusting missing element domain to <Domain built from <triangle cell in 2D> with label dolfin_mesh_with_id_7>.\n"
       ]
      },
      {
       "output_type": "stream",
       "stream": "stderr",
       "text": [
        "INFO:UFL:Adjusting missing element degree to 1\n"
       ]
      },
      {
       "output_type": "stream",
       "stream": "stderr",
       "text": [
        "DEBUG:UFL:No integrals left after transformation, returning empty form.\n"
       ]
      },
      {
       "output_type": "stream",
       "stream": "stderr",
       "text": [
        "DEBUG:FFC:Reusing form from cache.\n"
       ]
      },
      {
       "output_type": "stream",
       "stream": "stderr",
       "text": [
        "DEBUG:UFL:No integrals left after transformation, returning empty form.\n"
       ]
      },
      {
       "output_type": "stream",
       "stream": "stderr",
       "text": [
        "DEBUG:UFL:No integrals left after transformation, returning empty form.\n"
       ]
      },
      {
       "output_type": "stream",
       "stream": "stderr",
       "text": [
        "DEBUG:FFC:Reusing form from cache.\n"
       ]
      }
     ],
     "prompt_number": 6
    },
    {
     "cell_type": "code",
     "collapsed": false,
     "input": [
      "B = assemble(a).sparray()*C"
     ],
     "language": "python",
     "metadata": {},
     "outputs": [
      {
       "output_type": "stream",
       "stream": "stderr",
       "text": [
        "DEBUG:FFC:Reusing form from cache.\n"
       ]
      }
     ],
     "prompt_number": 16
    },
    {
     "cell_type": "code",
     "collapsed": false,
     "input": [
      "(C-CC).todense()\n",
      "# plt.show()"
     ],
     "language": "python",
     "metadata": {},
     "outputs": [
      {
       "metadata": {},
       "output_type": "pyout",
       "prompt_number": 17,
       "text": [
        "matrix([[ 0.,  0.,  0., ...,  0.,  0.,  0.],\n",
        "        [ 0.,  0.,  0., ...,  0.,  0.,  0.],\n",
        "        [ 0.,  0.,  0., ...,  0.,  0.,  0.],\n",
        "        ..., \n",
        "        [ 0.,  0.,  0., ...,  0.,  0.,  0.],\n",
        "        [ 0.,  0.,  0., ...,  0.,  0.,  0.],\n",
        "        [ 0.,  0.,  0., ...,  0.,  0.,  0.]])"
       ]
      }
     ],
     "prompt_number": 17
    },
    {
     "cell_type": "code",
     "collapsed": false,
     "input": [
      "# B.todense()"
     ],
     "language": "python",
     "metadata": {},
     "outputs": [
      {
       "metadata": {},
       "output_type": "pyout",
       "prompt_number": 64,
       "text": [
        "matrix([[ 0.,  0.,  0., ...,  0.,  0.,  0.],\n",
        "        [ 0.,  0.,  0., ...,  0.,  0.,  0.],\n",
        "        [ 0.,  0.,  0., ...,  0.,  0.,  0.],\n",
        "        ..., \n",
        "        [ 0.,  0.,  0., ...,  0.,  0.,  0.],\n",
        "        [ 0.,  0.,  0., ...,  0.,  0.,  0.],\n",
        "        [ 0.,  0.,  0., ...,  0.,  0.,  0.]])"
       ]
      }
     ],
     "prompt_number": 64
    },
    {
     "cell_type": "code",
     "collapsed": false,
     "input": [
      "def build_edge2dof_map(V):\n",
      "    \"\"\"\n",
      "    This function takes a N1Curl(1) space and return an integer valued array edge2dof.\n",
      "    This array has the number of edges as its length. In particular\n",
      "        edge2dof[i] = j\n",
      "    means that dof #i, that is u.vector()[i], is associated to edge #j.\n",
      "    \"\"\"\n",
      "    # Extract the cell to edge map (given an cell index, it returns the indices of its edges)\n",
      "    cell2edges = V.mesh().topology()(3, 1)\n",
      "    # Extract the cell dofmap (given a cell index, it returns the dof numbers) \n",
      "    cell2dofs = V.dofmap().cell_dofs\n",
      "    # Array to save the result\n",
      "    edge2dof = numpy.zeros(mesh.num_edges(), dtype=\"int\")\n",
      "    # Iterate over cells, associating the edges to the dofs for that cell\n",
      "    for c in range(mesh.num_cells()):\n",
      "        # get the global edge numbers for this cell\n",
      "        c_edges = cell2edges(c)\n",
      "        # get the global dof numbers for this cell\n",
      "        c_dofs = cell2dofs(c)\n",
      "        # associate the edge numbers to the corresponding dof numbers\n",
      "        edge2dof[c_dofs] = c_edges\n",
      "    # This algorithm might not look fast as it does quite some redundant work. In actual\n",
      "    # runs, for most meshes, this is not the most time consuming step and does not take\n",
      "    # more than a milisecond.\n",
      "    return edge2dof"
     ],
     "language": "python",
     "metadata": {},
     "outputs": []
    },
    {
     "cell_type": "code",
     "collapsed": false,
     "input": [
      "V = Magnetic\n",
      "cell2edges = V.mesh().topology()(3, 1)\n",
      "# Extract the cell dofmap (given a cell index, it returns the dof numbers) \n",
      "cell2dofs = V.dofmap().cell_dofs\n",
      "# Array to save the result\n",
      "edge2dof = numpy.zeros(mesh.num_edges(), dtype=\"int\")\n",
      "# Iterate over cells, associating the edges to the dofs fo"
     ],
     "language": "python",
     "metadata": {},
     "outputs": [],
     "prompt_number": 3
    },
    {
     "cell_type": "code",
     "collapsed": false,
     "input": [
      "cell2edges(1)"
     ],
     "language": "python",
     "metadata": {},
     "outputs": []
    },
    {
     "cell_type": "code",
     "collapsed": false,
     "input": [
      "# Code for C++ evaluation of conductivity\n",
      "conductivity_code = \"\"\"\n",
      "\n",
      "class Conductivity : public Expression\n",
      "{\n",
      "public:\n",
      "\n",
      "  // Create expression with 3 components\n",
      "  Conductivity() : Expression(3) {}\n",
      "\n",
      "  // Function for evaluating expression on each cell\n",
      "  void eval(Array<double>& values, const Array<double>& x, const ufc::cell& cell) const\n",
      "  {\n",
      "    const uint D = cell.topological_dimension;\n",
      "    const uint cell_index = cell.index;\n",
      "    values[0] = (*c00)[cell_index];\n",
      "    values[1] = (*c01)[cell_index];\n",
      "    values[2] = (*c11)[cell_index];\n",
      "  }\n",
      "\n",
      "  // The data stored in mesh functions\n",
      "  std::shared_ptr<MeshFunction<double> > c00;\n",
      "  std::shared_ptr<MeshFunction<double> > c01;\n",
      "  std::shared_ptr<MeshFunction<double> > c11;\n",
      "\n",
      "};\n",
      "\"\"\""
     ],
     "language": "python",
     "metadata": {},
     "outputs": [],
     "prompt_number": 18
    },
    {
     "cell_type": "code",
     "collapsed": false,
     "input": [
      "edge = Edge(mesh,0)"
     ],
     "language": "python",
     "metadata": {},
     "outputs": [],
     "prompt_number": 3
    },
    {
     "cell_type": "code",
     "collapsed": false,
     "input": [
      "edge.entities(0)\n",
      "m =edge.midpoint()\n",
      "m.y()"
     ],
     "language": "python",
     "metadata": {},
     "outputs": [
      {
       "metadata": {},
       "output_type": "pyout",
       "prompt_number": 24,
       "text": [
        "0.25"
       ]
      }
     ],
     "prompt_number": 24
    },
    {
     "cell_type": "code",
     "collapsed": false,
     "input": [
      "coord = mesh.coordinates()\n",
      "print coord[1,:]\n",
      "print coord[3,:]"
     ],
     "language": "python",
     "metadata": {},
     "outputs": [
      {
       "output_type": "stream",
       "stream": "stdout",
       "text": [
        "[ 0.5  0. ]\n",
        "[ 0.   0.5]\n"
       ]
      }
     ],
     "prompt_number": 18
    }
   ],
   "metadata": {}
  }
 ]
}
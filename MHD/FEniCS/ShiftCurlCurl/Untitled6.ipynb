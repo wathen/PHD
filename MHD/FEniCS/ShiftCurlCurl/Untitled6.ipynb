{
 "metadata": {
  "name": "",
  "signature": "sha256:01d36989b5564c3c36521dd1cb3866d3031e5e79bf152f0828d085166959b92c"
 },
 "nbformat": 3,
 "nbformat_minor": 0,
 "worksheets": [
  {
   "cells": [
    {
     "cell_type": "code",
     "collapsed": false,
     "input": [
      "from dolfin import *\n",
      "import numpy as np\n",
      "import scipy.sparse as sp\n",
      "import numpy\n",
      "import matplotlib.pylab as plt\n",
      "import scipy.io\n",
      "from scipy2Trilinos import scipy_csr_matrix2CrsMatrix\n",
      "from PyTrilinos import Epetra, ML, AztecOO, Teuchos\n",
      "from dolfin import *\n",
      "import petsc4py, sys\n",
      "petsc4py.init(sys.argv)\n",
      "from petsc4py import PETSc\n",
      "import matplotlib.pylab as plt\n",
      "import PETScIO as IO\n",
      "import numpy as np\n",
      "import scipy.sparse as sparse\n",
      "import CheckPetsc4py as CP\n",
      "import scipy.sparse.linalg as sparselin\n",
      "import scipy as sp\n",
      "import time"
     ],
     "language": "python",
     "metadata": {},
     "outputs": [],
     "prompt_number": 1
    },
    {
     "cell_type": "code",
     "collapsed": false,
     "input": [
      "nn = 2**2\n",
      "mesh = RectangleMesh(0, 0, 1, 1, nn, nn,'left')\n",
      "\n",
      "order  = 1\n",
      "Magnetic = FunctionSpace(mesh, \"N1curl\", order)\n",
      "Lagrange = FunctionSpace(mesh, \"CG\", order)\n",
      "# L= FunctionSpace(mesh, \"DG\", order-1)\n",
      "\n",
      "parameters['linear_algebra_backend'] = 'uBLAS'\n",
      "b0 = Expression((\"x[1]*x[1]*(x[1]-1)\",\"x[0]*x[0]*(x[0]-1)\"))"
     ],
     "language": "python",
     "metadata": {},
     "outputs": [
      {
       "output_type": "stream",
       "stream": "stderr",
       "text": [
        "DEBUG:UFL:No integrals left after transformation, returning empty form.\n"
       ]
      },
      {
       "output_type": "stream",
       "stream": "stderr",
       "text": [
        "DEBUG:FFC:Reusing form from cache.\n"
       ]
      },
      {
       "output_type": "stream",
       "stream": "stderr",
       "text": [
        "DEBUG:UFL:No integrals left after transformation, returning empty form.\n"
       ]
      },
      {
       "output_type": "stream",
       "stream": "stderr",
       "text": [
        "DEBUG:FFC:Reusing form from cache.\n"
       ]
      }
     ],
     "prompt_number": 2
    },
    {
     "cell_type": "code",
     "collapsed": false,
     "input": [
      "(u) = TrialFunction(Magnetic)\n",
      "(v) = TestFunction(Magnetic)\n",
      "(p) = TrialFunction(Lagrange)\n",
      "(q) = TestFunction(Lagrange)\n",
      "\n",
      "a = inner(curl(u),curl(v))*dx + inner(u,v)*dx\n",
      "\n",
      "l = inner(grad(p),grad(q))*dx+inner(p,q)*dx\n",
      "# u0 = Expression((\"sin(2*pi*x[1])*cos(2*pi*x[0])\",\"-sin(2*pi*x[0])*cos(2*pi*x[1])\"))\n",
      "# f = 8*pow(pi,2)*u0+c*u0\n",
      "CurlCurl = Expression((\"-6*x[1]+2\",\"-6*x[0]+2\"))+b0\n",
      "f = CurlCurl\n",
      "L1  = inner(v, f)*dx"
     ],
     "language": "python",
     "metadata": {},
     "outputs": [],
     "prompt_number": 3
    },
    {
     "cell_type": "code",
     "collapsed": false,
     "input": [
      "def boundary(x, on_boundary):\n",
      "    return on_boundary\n",
      "bc = DirichletBC(Magnetic,b0, boundary)\n",
      "Mass = assemble(inner(u,v)*dx)\n",
      "bc.apply(Mass)\n",
      "Acurl,b = assemble_system(a,L1,bc)\n",
      "Anode = assemble(l)"
     ],
     "language": "python",
     "metadata": {},
     "outputs": [
      {
       "output_type": "stream",
       "stream": "stderr",
       "text": [
        "DEBUG:UFL:No integrals left after transformation, returning empty form.\n"
       ]
      },
      {
       "output_type": "stream",
       "stream": "stderr",
       "text": [
        "DEBUG:UFL:No integrals left after transformation, returning empty form.\n"
       ]
      },
      {
       "output_type": "stream",
       "stream": "stderr",
       "text": [
        "DEBUG:FFC:Reusing form from cache.\n"
       ]
      },
      {
       "output_type": "stream",
       "stream": "stderr",
       "text": [
        "DEBUG:UFL:No integrals left after transformation, returning empty form.\n"
       ]
      },
      {
       "output_type": "stream",
       "stream": "stderr",
       "text": [
        "DEBUG:UFL:No integrals left after transformation, returning empty form.\n"
       ]
      },
      {
       "output_type": "stream",
       "stream": "stdout",
       "text": [
        "Calling FFC just-in-time (JIT) compiler, this may take some time.\n"
       ]
      },
      {
       "output_type": "stream",
       "stream": "stderr",
       "text": [
        "Level 25:FFC:Calling FFC just-in-time (JIT) compiler, this may take some time.\n"
       ]
      },
      {
       "output_type": "stream",
       "stream": "stderr",
       "text": [
        "INFO:FFC:Compiling form ffc_form_34cfbe43aa7a7b19c52f0cee2d6fbcfb0c338975\n",
        "\n"
       ]
      },
      {
       "output_type": "stream",
       "stream": "stderr",
       "text": [
        "INFO:FFC:Compiler stage 1: Analyzing form(s)\n"
       ]
      },
      {
       "output_type": "stream",
       "stream": "stderr",
       "text": [
        "INFO:FFC:-----------------------------------\n"
       ]
      },
      {
       "output_type": "stream",
       "stream": "stderr",
       "text": [
        "INFO:FFC:  \n"
       ]
      },
      {
       "output_type": "stream",
       "stream": "stderr",
       "text": [
        "INFO:FFC:  Name:                   ''\n",
        "  Geometric dimension:    2\n",
        "  Rank:                   2\n",
        "  Arguments:              '[v_0, v_1]'\n",
        "  Argument names:         '[v0, v1]'\n",
        "  Number of coefficients: 0\n",
        "  Coefficients:           '[]'\n",
        "  Coefficient names:      '[]'\n",
        "  Unique elements:        'N1curl1(?)'\n",
        "  Unique sub elements:    'N1curl1(?)'\n",
        "  \n"
       ]
      },
      {
       "output_type": "stream",
       "stream": "stderr",
       "text": [
        "INFO:FFC:  Extracting monomial form representation from UFL form\n"
       ]
      },
      {
       "output_type": "stream",
       "stream": "stderr",
       "text": [
        "INFO:FFC:  Transforming monomial form to reference element\n"
       ]
      },
      {
       "output_type": "stream",
       "stream": "stderr",
       "text": [
        "DEBUG:FFC:  Reusing element from cache\n"
       ]
      },
      {
       "output_type": "stream",
       "stream": "stderr",
       "text": [
        "DEBUG:FFC:  Reusing element from cache\n"
       ]
      },
      {
       "output_type": "stream",
       "stream": "stderr",
       "text": [
        "DEBUG:FFC:  Reusing element from cache\n"
       ]
      },
      {
       "output_type": "stream",
       "stream": "stderr",
       "text": [
        "DEBUG:FFC:  Reusing element from cache\n"
       ]
      },
      {
       "output_type": "stream",
       "stream": "stderr",
       "text": [
        "DEBUG:FFC:  Reusing element from cache\n"
       ]
      },
      {
       "output_type": "stream",
       "stream": "stderr",
       "text": [
        "DEBUG:FFC:  Reusing element from cache\n"
       ]
      },
      {
       "output_type": "stream",
       "stream": "stderr",
       "text": [
        "DEBUG:FFC:  Reusing element from cache\n"
       ]
      },
      {
       "output_type": "stream",
       "stream": "stderr",
       "text": [
        "DEBUG:FFC:  Reusing element from cache\n"
       ]
      },
      {
       "output_type": "stream",
       "stream": "stderr",
       "text": [
        "DEBUG:FFC:  Reusing element from cache\n"
       ]
      },
      {
       "output_type": "stream",
       "stream": "stderr",
       "text": [
        "DEBUG:FFC:  Reusing element from cache\n"
       ]
      },
      {
       "output_type": "stream",
       "stream": "stderr",
       "text": [
        "DEBUG:FFC:  Reusing element from cache\n"
       ]
      },
      {
       "output_type": "stream",
       "stream": "stderr",
       "text": [
        "DEBUG:FFC:  Reusing element from cache\n"
       ]
      },
      {
       "output_type": "stream",
       "stream": "stderr",
       "text": [
        "DEBUG:FFC:  Reusing element from cache\n"
       ]
      },
      {
       "output_type": "stream",
       "stream": "stderr",
       "text": [
        "DEBUG:FFC:  Reusing element from cache\n"
       ]
      },
      {
       "output_type": "stream",
       "stream": "stderr",
       "text": [
        "DEBUG:FFC:  Reusing element from cache\n"
       ]
      },
      {
       "output_type": "stream",
       "stream": "stderr",
       "text": [
        "DEBUG:FFC:  Reusing element from cache\n"
       ]
      },
      {
       "output_type": "stream",
       "stream": "stderr",
       "text": [
        "DEBUG:FFC:  Reusing element from cache\n"
       ]
      },
      {
       "output_type": "stream",
       "stream": "stderr",
       "text": [
        "DEBUG:FFC:  Reusing element from cache\n"
       ]
      },
      {
       "output_type": "stream",
       "stream": "stderr",
       "text": [
        "DEBUG:FFC:  Reusing element from cache\n"
       ]
      },
      {
       "output_type": "stream",
       "stream": "stderr",
       "text": [
        "DEBUG:FFC:  Reusing element from cache\n"
       ]
      },
      {
       "output_type": "stream",
       "stream": "stderr",
       "text": [
        "DEBUG:FFC:  Reusing element from cache\n"
       ]
      },
      {
       "output_type": "stream",
       "stream": "stderr",
       "text": [
        "DEBUG:FFC:  Estimated cost of tensor representation: 4\n"
       ]
      },
      {
       "output_type": "stream",
       "stream": "stderr",
       "text": [
        "INFO:FFC:  representation:    auto --> quadrature\n"
       ]
      },
      {
       "output_type": "stream",
       "stream": "stderr",
       "text": [
        "DEBUG:FFC:  Selecting quadrature degree based on total polynomial degree of integrand: 2\n"
       ]
      },
      {
       "output_type": "stream",
       "stream": "stderr",
       "text": [
        "INFO:FFC:  quadrature_degree: auto --> 2\n"
       ]
      },
      {
       "output_type": "stream",
       "stream": "stderr",
       "text": [
        "INFO:FFC:  quadrature_rule:   auto --> default\n"
       ]
      },
      {
       "output_type": "stream",
       "stream": "stderr",
       "text": [
        "INFO:FFC:  \n"
       ]
      },
      {
       "output_type": "stream",
       "stream": "stderr",
       "text": [
        "INFO:FFC:Compiler stage 1 finished in 0.0356131 seconds.\n",
        "\n"
       ]
      },
      {
       "output_type": "stream",
       "stream": "stderr",
       "text": [
        "INFO:FFC:Compiler stage 2: Computing intermediate representation\n"
       ]
      },
      {
       "output_type": "stream",
       "stream": "stderr",
       "text": [
        "INFO:FFC:-------------------------------------------------------\n"
       ]
      },
      {
       "output_type": "stream",
       "stream": "stderr",
       "text": [
        "INFO:FFC:  Computing representation of 1 elements\n"
       ]
      },
      {
       "output_type": "stream",
       "stream": "stderr",
       "text": [
        "DEBUG:FFC:  Reusing element from cache\n"
       ]
      },
      {
       "output_type": "stream",
       "stream": "stderr",
       "text": [
        "DEBUG:FFC:  Reusing element from cache\n"
       ]
      },
      {
       "output_type": "stream",
       "stream": "stderr",
       "text": [
        "INFO:FFC:  Computing representation of 1 dofmaps\n"
       ]
      },
      {
       "output_type": "stream",
       "stream": "stderr",
       "text": [
        "DEBUG:FFC:  Reusing element from cache\n"
       ]
      },
      {
       "output_type": "stream",
       "stream": "stderr",
       "text": [
        "INFO:FFC:  Computing representation of integrals\n"
       ]
      },
      {
       "output_type": "stream",
       "stream": "stderr",
       "text": [
        "INFO:FFC:  Computing quadrature representation\n"
       ]
      },
      {
       "output_type": "stream",
       "stream": "stderr",
       "text": [
        "DEBUG:FFC:  Reusing element from cache\n"
       ]
      },
      {
       "output_type": "stream",
       "stream": "stderr",
       "text": [
        "DEBUG:FFC:  Reusing element from cache\n"
       ]
      },
      {
       "output_type": "stream",
       "stream": "stderr",
       "text": [
        "DEBUG:FFC:  Reusing element from cache\n"
       ]
      },
      {
       "output_type": "stream",
       "stream": "stderr",
       "text": [
        "DEBUG:FFC:  Reusing element from cache\n"
       ]
      },
      {
       "output_type": "stream",
       "stream": "stderr",
       "text": [
        "DEBUG:FFC:  Reusing element from cache\n"
       ]
      },
      {
       "output_type": "stream",
       "stream": "stderr",
       "text": [
        "DEBUG:FFC:  \n",
        "  QG-utils, psi_tables:\n",
        "  {3: {VectorElement('Lagrange', Domain(Cell('triangle', 2), label='dolfin_mesh_with_id_0', data='<data with id 0>'), 1, dim=2, quad_scheme=None): {None: {None: {(0, 1): array([[[ -1.00000000e+00,  -1.00000000e+00,  -1.00000000e+00],\n",
        "          [  0.00000000e+00,   0.00000000e+00,   0.00000000e+00]],\n",
        "  \n",
        "         [[  0.00000000e+00,   1.11022302e-16,   1.11022302e-16],\n",
        "          [  0.00000000e+00,   0.00000000e+00,   0.00000000e+00]],\n",
        "  \n",
        "         [[  1.00000000e+00,   1.00000000e+00,   1.00000000e+00],\n",
        "          [  0.00000000e+00,   0.00000000e+00,   0.00000000e+00]],\n",
        "  \n",
        "         [[  0.00000000e+00,   0.00000000e+00,   0.00000000e+00],\n",
        "          [ -1.00000000e+00,  -1.00000000e+00,  -1.00000000e+00]],\n",
        "  \n",
        "         [[  0.00000000e+00,   0.00000000e+00,   0.00000000e+00],\n",
        "          [  0.00000000e+00,   1.11022302e-16,   1.11022302e-16]],\n",
        "  \n",
        "         [[  0.00000000e+00,   0.00000000e+00,   0.00000000e+00],\n",
        "          [  1.00000000e+00,   1.00000000e+00,   1.00000000e+00]]]), (1, 0): array([[[-1., -1., -1.],\n",
        "          [ 0.,  0.,  0.]],\n",
        "  \n",
        "         [[ 1.,  1.,  1.],\n",
        "          [ 0.,  0.,  0.]],\n",
        "  \n",
        "         [[ 0.,  0.,  0.],\n",
        "          [ 0.,  0.,  0.]],\n",
        "  \n",
        "         [[ 0.,  0.,  0.],\n",
        "          [-1., -1., -1.]],\n",
        "  \n",
        "         [[ 0.,  0.,  0.],\n",
        "          [ 1.,  1.,  1.]],\n",
        "  \n",
        "         [[ 0.,  0.,  0.],\n",
        "          [ 0.,  0.,  0.]]]), (0, 0): array([[[ 0.66666667,  0.16666667,  0.16666667],\n",
        "          [ 0.        ,  0.        ,  0.        ]],\n",
        "  \n",
        "         [[ 0.16666667,  0.16666667,  0.66666667],\n",
        "          [ 0.        ,  0.        ,  0.        ]],\n",
        "  \n",
        "         [[ 0.16666667,  0.66666667,  0.16666667],\n",
        "          [ 0.        ,  0.        ,  0.        ]],\n",
        "  \n",
        "         [[ 0.        ,  0.        ,  0.        ],\n",
        "          [ 0.66666667,  0.16666667,  0.16666667]],\n",
        "  \n",
        "         [[ 0.        ,  0.        ,  0.        ],\n",
        "          [ 0.16666667,  0.16666667,  0.66666667]],\n",
        "  \n",
        "         [[ 0.        ,  0.        ,  0.        ],\n",
        "          [ 0.16666667,  0.66666667,  0.16666667]]])}}}, FiniteElement('Nedelec 1st kind H(curl)', Domain(Cell('triangle', 2), label='dolfin_mesh_with_id_0', data='<data with id 0>'), 1, quad_scheme=None): {None: {None: {(0, 1): array([[[-1.0, -1.0, -1.0],\n",
        "          [2.2204460492503131e-16, 2.2204460492503131e-16,\n",
        "           2.2204460492503131e-16]],\n",
        "  \n",
        "         [[1.0, 1.0, 1.0],\n",
        "          [-2.7755575615628914e-16, -3.3306690738754696e-16,\n",
        "           -3.3306690738754696e-16]],\n",
        "  \n",
        "         [[-1.0000000000000002, -1.0000000000000002, -1.0000000000000002],\n",
        "          [2.2204460492503131e-16, 2.7755575615628914e-16,\n",
        "           2.7755575615628914e-16]]], dtype=object), (1, 0): array([[[0.0, 0.0, 0.0],\n",
        "          [0.99999999999999989, 0.99999999999999978, 0.99999999999999978]],\n",
        "  \n",
        "         [[0.0, 0.0, 0.0],\n",
        "          [-1.0, -1.0, -1.0]],\n",
        "  \n",
        "         [[0.0, 0.0, 0.0],\n",
        "          [1.0, 1.0, 1.0]]], dtype=object), (0, 0): array([[[-0.16666666666666663, -0.66666666666666652, -0.1666666666666666],\n",
        "          [0.16666666666666649, 0.1666666666666666, 0.66666666666666641]],\n",
        "  \n",
        "         [[0.16666666666666663, 0.66666666666666652, 0.1666666666666666],\n",
        "          [0.83333333333333326, 0.83333333333333304, 0.3333333333333332]],\n",
        "  \n",
        "         [[0.83333333333333348, 0.33333333333333326, 0.83333333333333326],\n",
        "          [0.16666666666666652, 0.16666666666666657, 0.66666666666666641]]], dtype=object)}}}}}\n"
       ]
      },
      {
       "output_type": "stream",
       "stream": "stderr",
       "text": [
        "DEBUG:FFC:  \n",
        "  QG-utils, psi_tables, flat_tables:\n",
        "  {'FE0_C1_D01': array([[  0.00000000e+00,   0.00000000e+00,   0.00000000e+00,\n",
        "           -1.00000000e+00,   0.00000000e+00,   1.00000000e+00],\n",
        "         [  0.00000000e+00,   0.00000000e+00,   0.00000000e+00,\n",
        "           -1.00000000e+00,   1.11022302e-16,   1.00000000e+00],\n",
        "         [  0.00000000e+00,   0.00000000e+00,   0.00000000e+00,\n",
        "           -1.00000000e+00,   1.11022302e-16,   1.00000000e+00]]), 'FE1_C0': array([[-0.16666666666666663, 0.16666666666666663, 0.83333333333333348],\n",
        "         [-0.66666666666666652, 0.66666666666666652, 0.33333333333333326],\n",
        "         [-0.1666666666666666, 0.1666666666666666, 0.83333333333333326]], dtype=object), 'FE1_C1': array([[0.16666666666666649, 0.83333333333333326, 0.16666666666666652],\n",
        "         [0.1666666666666666, 0.83333333333333304, 0.16666666666666657],\n",
        "         [0.66666666666666641, 0.3333333333333332, 0.66666666666666641]], dtype=object), 'FE0_C1_D10': array([[ 0.,  0.,  0., -1.,  1.,  0.],\n",
        "         [ 0.,  0.,  0., -1.,  1.,  0.],\n",
        "         [ 0.,  0.,  0., -1.,  1.,  0.]]), 'FE1_C1_D10': array([[0.99999999999999989, -1.0, 1.0],\n",
        "         [0.99999999999999978, -1.0, 1.0],\n",
        "         [0.99999999999999978, -1.0, 1.0]], dtype=object), 'FE0_C0_D10': array([[-1.,  1.,  0.,  0.,  0.,  0.],\n",
        "         [-1.,  1.,  0.,  0.,  0.,  0.],\n",
        "         [-1.,  1.,  0.,  0.,  0.,  0.]]), 'FE0_C0_D01': array([[ -1.00000000e+00,   0.00000000e+00,   1.00000000e+00,\n",
        "            0.00000000e+00,   0.00000000e+00,   0.00000000e+00],\n",
        "         [ -1.00000000e+00,   1.11022302e-16,   1.00000000e+00,\n",
        "            0.00000000e+00,   0.00000000e+00,   0.00000000e+00],\n",
        "         [ -1.00000000e+00,   1.11022302e-16,   1.00000000e+00,\n",
        "            0.00000000e+00,   0.00000000e+00,   0.00000000e+00]]), 'FE1_C1_D01': array([[2.2204460492503131e-16, -2.7755575615628914e-16,\n",
        "          2.2204460492503131e-16],\n",
        "         [2.2204460492503131e-16, -3.3306690738754696e-16,\n",
        "          2.7755575615628914e-16],\n",
        "         [2.2204460492503131e-16, -3.3306690738754696e-16,\n",
        "          2.7755575615628914e-16]], dtype=object), 'FE1_C0_D01': array([[-1.0, 1.0, -1.0000000000000002],\n",
        "         [-1.0, 1.0, -1.0000000000000002],\n",
        "         [-1.0, 1.0, -1.0000000000000002]], dtype=object), 'FE1_C0_D10': array([[0.0, 0.0, 0.0],\n",
        "         [0.0, 0.0, 0.0],\n",
        "         [0.0, 0.0, 0.0]], dtype=object), 'FE0_C1': array([[ 0.        ,  0.        ,  0.        ,  0.66666667,  0.16666667,\n",
        "           0.16666667],\n",
        "         [ 0.        ,  0.        ,  0.        ,  0.16666667,  0.16666667,\n",
        "           0.66666667],\n",
        "         [ 0.        ,  0.        ,  0.        ,  0.16666667,  0.66666667,\n",
        "           0.16666667]]), 'FE0_C0': array([[ 0.66666667,  0.16666667,  0.16666667,  0.        ,  0.        ,\n",
        "           0.        ],\n",
        "         [ 0.16666667,  0.16666667,  0.66666667,  0.        ,  0.        ,\n",
        "           0.        ],\n",
        "         [ 0.16666667,  0.66666667,  0.16666667,  0.        ,  0.        ,\n",
        "           0.        ]])}\n"
       ]
      },
      {
       "output_type": "stream",
       "stream": "stderr",
       "text": [
        "DEBUG:FFC:  \n",
        "  tables: {'FE0_C1_D01': array([[  0.00000000e+00,   0.00000000e+00,   0.00000000e+00,\n",
        "           -1.00000000e+00,   0.00000000e+00,   1.00000000e+00],\n",
        "         [  0.00000000e+00,   0.00000000e+00,   0.00000000e+00,\n",
        "           -1.00000000e+00,   1.11022302e-16,   1.00000000e+00],\n",
        "         [  0.00000000e+00,   0.00000000e+00,   0.00000000e+00,\n",
        "           -1.00000000e+00,   1.11022302e-16,   1.00000000e+00]]), 'FE1_C0': array([[-0.16666666666666663, 0.16666666666666663, 0.83333333333333348],\n",
        "         [-0.66666666666666652, 0.66666666666666652, 0.33333333333333326],\n",
        "         [-0.1666666666666666, 0.1666666666666666, 0.83333333333333326]], dtype=object), 'FE1_C1': array([[0.16666666666666649, 0.83333333333333326, 0.16666666666666652],\n",
        "         [0.1666666666666666, 0.83333333333333304, 0.16666666666666657],\n",
        "         [0.66666666666666641, 0.3333333333333332, 0.66666666666666641]], dtype=object), 'FE0_C1_D10': array([[ 0.,  0.,  0., -1.,  1.,  0.],\n",
        "         [ 0.,  0.,  0., -1.,  1.,  0.],\n",
        "         [ 0.,  0.,  0., -1.,  1.,  0.]]), 'FE1_C1_D10': array([[0.99999999999999989, -1.0, 1.0],\n",
        "         [0.99999999999999978, -1.0, 1.0],\n",
        "         [0.99999999999999978, -1.0, 1.0]], dtype=object), 'FE0_C0_D10': array([[-1.,  1.,  0.,  0.,  0.,  0.],\n",
        "         [-1.,  1.,  0.,  0.,  0.,  0.],\n",
        "         [-1.,  1.,  0.,  0.,  0.,  0.]]), 'FE0_C0_D01': array([[ -1.00000000e+00,   0.00000000e+00,   1.00000000e+00,\n",
        "            0.00000000e+00,   0.00000000e+00,   0.00000000e+00],\n",
        "         [ -1.00000000e+00,   1.11022302e-16,   1.00000000e+00,\n",
        "            0.00000000e+00,   0.00000000e+00,   0.00000000e+00],\n",
        "         [ -1.00000000e+00,   1.11022302e-16,   1.00000000e+00,\n",
        "            0.00000000e+00,   0.00000000e+00,   0.00000000e+00]]), 'FE1_C0_D01': array([[-1.0, 1.0, -1.0000000000000002],\n",
        "         [-1.0, 1.0, -1.0000000000000002],\n",
        "         [-1.0, 1.0, -1.0000000000000002]], dtype=object), 'FE1_C0_D10': array([[0.0, 0.0, 0.0],\n",
        "         [0.0, 0.0, 0.0],\n",
        "         [0.0, 0.0, 0.0]], dtype=object), 'FE0_C1': array([[ 0.        ,  0.        ,  0.        ,  0.66666667,  0.16666667,\n",
        "           0.16666667],\n",
        "         [ 0.        ,  0.        ,  0.        ,  0.16666667,  0.16666667,\n",
        "           0.66666667],\n",
        "         [ 0.        ,  0.        ,  0.        ,  0.16666667,  0.66666667,\n",
        "           0.16666667]]), 'FE0_C0': array([[ 0.66666667,  0.16666667,  0.16666667,  0.        ,  0.        ,\n",
        "           0.        ],\n",
        "         [ 0.16666667,  0.16666667,  0.66666667,  0.        ,  0.        ,\n",
        "           0.        ],\n",
        "         [ 0.16666667,  0.66666667,  0.16666667,  0.        ,  0.        ,\n",
        "           0.        ]])}\n"
       ]
      },
      {
       "output_type": "stream",
       "stream": "stderr",
       "text": [
        "DEBUG:FFC:  \n",
        "  name_map: {'FE1_C0_D10': ['FE1_C1_D01']}\n"
       ]
      },
      {
       "output_type": "stream",
       "stream": "stderr",
       "text": [
        "DEBUG:FFC:  \n",
        "  inv_name_map: {'FE0_C1_D01': 'FE0_C1_D01', 'FE1_C0': 'FE1_C0', 'FE1_C1_D01': 'FE1_C0_D10', 'FE0_C1_D10': 'FE0_C1_D10', 'FE1_C1_D10': 'FE1_C1_D10', 'FE0_C0_D10': 'FE0_C0_D10', 'FE0_C0_D01': 'FE0_C0_D01', 'FE1_C1': 'FE1_C1', 'FE1_C0_D01': 'FE1_C0_D01', 'FE1_C0_D10': 'FE1_C0_D10', 'FE0_C1': 'FE0_C1', 'FE0_C0': 'FE0_C0'}\n"
       ]
      },
      {
       "output_type": "stream",
       "stream": "stderr",
       "text": [
        "DEBUG:FFC:  \n",
        "  QG-utils, psi_tables, unique_tables:\n",
        "  {'FE0_C1_D01': array([[ 0.,  0.,  0., -1.,  0.,  1.],\n",
        "         [ 0.,  0.,  0., -1.,  0.,  1.],\n",
        "         [ 0.,  0.,  0., -1.,  0.,  1.]]), 'FE1_C0': array([[-0.16666666666666663, 0.16666666666666663, 0.83333333333333348],\n",
        "         [-0.66666666666666652, 0.66666666666666652, 0.33333333333333326],\n",
        "         [-0.1666666666666666, 0.1666666666666666, 0.83333333333333326]], dtype=object), 'FE1_C1': array([[0.16666666666666649, 0.83333333333333326, 0.16666666666666652],\n",
        "         [0.1666666666666666, 0.83333333333333304, 0.16666666666666657],\n",
        "         [0.66666666666666641, 0.3333333333333332, 0.66666666666666641]], dtype=object), 'FE0_C1_D10': array([[ 0.,  0.,  0., -1.,  1.,  0.],\n",
        "         [ 0.,  0.,  0., -1.,  1.,  0.],\n",
        "         [ 0.,  0.,  0., -1.,  1.,  0.]]), 'FE1_C1_D10': array([[0.99999999999999989, -1.0, 1.0],\n",
        "         [0.99999999999999978, -1.0, 1.0],\n",
        "         [0.99999999999999978, -1.0, 1.0]], dtype=object), 'FE0_C0_D10': array([[-1.,  1.,  0.,  0.,  0.,  0.],\n",
        "         [-1.,  1.,  0.,  0.,  0.,  0.],\n",
        "         [-1.,  1.,  0.,  0.,  0.,  0.]]), 'FE0_C0_D01': array([[-1.,  0.,  1.,  0.,  0.,  0.],\n",
        "         [-1.,  0.,  1.,  0.,  0.,  0.],\n",
        "         [-1.,  0.,  1.,  0.,  0.,  0.]]), 'FE1_C0_D01': array([[-1.0, 1.0, -1.0000000000000002],\n",
        "         [-1.0, 1.0, -1.0000000000000002],\n",
        "         [-1.0, 1.0, -1.0000000000000002]], dtype=object), 'FE1_C0_D10': array([[0, 0, 0],\n",
        "         [0, 0, 0],\n",
        "         [0, 0, 0]], dtype=object), 'FE0_C1': array([[ 0.        ,  0.        ,  0.        ,  0.66666667,  0.16666667,\n",
        "           0.16666667],\n",
        "         [ 0.        ,  0.        ,  0.        ,  0.16666667,  0.16666667,\n",
        "           0.66666667],\n",
        "         [ 0.        ,  0.        ,  0.        ,  0.16666667,  0.66666667,\n",
        "           0.16666667]]), 'FE0_C0': array([[ 0.66666667,  0.16666667,  0.16666667,  0.        ,  0.        ,\n",
        "           0.        ],\n",
        "         [ 0.16666667,  0.16666667,  0.66666667,  0.        ,  0.        ,\n",
        "           0.        ],\n",
        "         [ 0.16666667,  0.66666667,  0.16666667,  0.        ,  0.        ,\n",
        "           0.        ]])}\n"
       ]
      },
      {
       "output_type": "stream",
       "stream": "stderr",
       "text": [
        "DEBUG:FFC:  \n",
        "  QG-utils, psi_tables, name_map:\n",
        "  {'FE0_C1_D01': ('FE0_C1_D01', (), False, False), 'FE1_C0': ('FE1_C0', (), False, False), 'FE1_C1_D01': ('FE1_C0_D10', (), True, False), 'FE0_C1_D10': ('FE0_C1_D10', (), False, False), 'FE1_C1_D10': ('FE1_C1_D10', (), False, False), 'FE0_C0_D10': ('FE0_C0_D10', (), False, False), 'FE0_C0_D01': ('FE0_C0_D01', (), False, False), 'FE1_C1': ('FE1_C1', (), False, False), 'FE1_C0_D01': ('FE1_C0_D01', (), False, False), 'FE1_C0_D10': ('FE1_C0_D10', (), True, False), 'FE0_C1': ('FE0_C1', (), False, False), 'FE0_C0': ('FE0_C0', (), False, False)}\n"
       ]
      },
      {
       "output_type": "stream",
       "stream": "stderr",
       "text": [
        "INFO:FFC:  Transforming cell integral\n"
       ]
      },
      {
       "output_type": "stream",
       "stream": "stderr",
       "text": [
        "DEBUG:FFC:  Reusing element from cache\n"
       ]
      },
      {
       "output_type": "stream",
       "stream": "stderr",
       "text": [
        "DEBUG:FFC:  Reusing element from cache\n"
       ]
      },
      {
       "output_type": "stream",
       "stream": "stderr",
       "text": [
        "DEBUG:FFC:  Reusing element from cache\n"
       ]
      },
      {
       "output_type": "stream",
       "stream": "stderr",
       "text": [
        "DEBUG:FFC:  Reusing element from cache\n"
       ]
      },
      {
       "output_type": "stream",
       "stream": "stderr",
       "text": [
        "DEBUG:FFC:  Reusing element from cache\n"
       ]
      },
      {
       "output_type": "stream",
       "stream": "stderr",
       "text": [
        "DEBUG:FFC:  Reusing element from cache\n"
       ]
      },
      {
       "output_type": "stream",
       "stream": "stderr",
       "text": [
        "DEBUG:FFC:  Reusing element from cache\n"
       ]
      },
      {
       "output_type": "stream",
       "stream": "stderr",
       "text": [
        "DEBUG:FFC:  Reusing element from cache\n"
       ]
      },
      {
       "output_type": "stream",
       "stream": "stderr",
       "text": [
        "DEBUG:FFC:  Reusing element from cache\n"
       ]
      },
      {
       "output_type": "stream",
       "stream": "stderr",
       "text": [
        "DEBUG:FFC:  Reusing element from cache\n"
       ]
      },
      {
       "output_type": "stream",
       "stream": "stderr",
       "text": [
        "DEBUG:FFC:  Reusing element from cache\n"
       ]
      },
      {
       "output_type": "stream",
       "stream": "stderr",
       "text": [
        "DEBUG:FFC:  Reusing element from cache\n"
       ]
      },
      {
       "output_type": "stream",
       "stream": "stderr",
       "text": [
        "DEBUG:FFC:  Reusing element from cache\n"
       ]
      },
      {
       "output_type": "stream",
       "stream": "stderr",
       "text": [
        "DEBUG:FFC:  Reusing element from cache\n"
       ]
      },
      {
       "output_type": "stream",
       "stream": "stderr",
       "text": [
        "DEBUG:FFC:  Reusing element from cache\n"
       ]
      },
      {
       "output_type": "stream",
       "stream": "stderr",
       "text": [
        "DEBUG:FFC:  Reusing element from cache\n"
       ]
      },
      {
       "output_type": "stream",
       "stream": "stderr",
       "text": [
        "DEBUG:FFC:  Reusing element from cache\n"
       ]
      },
      {
       "output_type": "stream",
       "stream": "stderr",
       "text": [
        "DEBUG:FFC:  Reusing element from cache\n"
       ]
      },
      {
       "output_type": "stream",
       "stream": "stderr",
       "text": [
        "INFO:FFC:  Computing representation of forms\n"
       ]
      },
      {
       "output_type": "stream",
       "stream": "stderr",
       "text": [
        "INFO:FFC:  \n"
       ]
      },
      {
       "output_type": "stream",
       "stream": "stderr",
       "text": [
        "INFO:FFC:Compiler stage 2 finished in 0.10867 seconds.\n",
        "\n"
       ]
      },
      {
       "output_type": "stream",
       "stream": "stderr",
       "text": [
        "INFO:FFC:Compiler stage 3: Optimizing intermediate representation\n"
       ]
      },
      {
       "output_type": "stream",
       "stream": "stderr",
       "text": [
        "INFO:FFC:--------------------------------------------------------\n"
       ]
      },
      {
       "output_type": "stream",
       "stream": "stderr",
       "text": [
        "INFO:FFC:  Skipping optimizations, add -O to optimize\n"
       ]
      },
      {
       "output_type": "stream",
       "stream": "stderr",
       "text": [
        "INFO:FFC:  \n"
       ]
      },
      {
       "output_type": "stream",
       "stream": "stderr",
       "text": [
        "INFO:FFC:Compiler stage 3 finished in 0.00134706 seconds.\n",
        "\n"
       ]
      },
      {
       "output_type": "stream",
       "stream": "stderr",
       "text": [
        "INFO:FFC:Compiler stage 4: Generating code\n"
       ]
      },
      {
       "output_type": "stream",
       "stream": "stderr",
       "text": [
        "INFO:FFC:---------------------------------\n"
       ]
      },
      {
       "output_type": "stream",
       "stream": "stderr",
       "text": [
        "INFO:FFC:  Generating code for 1 element(s)\n"
       ]
      },
      {
       "output_type": "stream",
       "stream": "stderr",
       "text": [
        "DEBUG:FFC:  Removing unused variable: tmp2\n"
       ]
      },
      {
       "output_type": "stream",
       "stream": "stderr",
       "text": [
        "DEBUG:FFC:  Removing unused variable: tmp1\n"
       ]
      },
      {
       "output_type": "stream",
       "stream": "stderr",
       "text": [
        "DEBUG:FFC:  Removing unused variable: tmp7\n"
       ]
      },
      {
       "output_type": "stream",
       "stream": "stderr",
       "text": [
        "DEBUG:FFC:  Removing unused variable: tmp6\n"
       ]
      },
      {
       "output_type": "stream",
       "stream": "stderr",
       "text": [
        "DEBUG:FFC:  Removing unused variable: tmp5\n"
       ]
      },
      {
       "output_type": "stream",
       "stream": "stderr",
       "text": [
        "DEBUG:FFC:  Removing unused variable: tt\n"
       ]
      },
      {
       "output_type": "stream",
       "stream": "stderr",
       "text": [
        "DEBUG:FFC:  Removing unused variable: ss\n"
       ]
      },
      {
       "output_type": "stream",
       "stream": "stderr",
       "text": [
        "DEBUG:FFC:  Removing unused variable: rr\n"
       ]
      },
      {
       "output_type": "stream",
       "stream": "stderr",
       "text": [
        "DEBUG:FFC:  Removing unused variable: tmp2\n"
       ]
      },
      {
       "output_type": "stream",
       "stream": "stderr",
       "text": [
        "DEBUG:FFC:  Removing unused variable: tmp1\n"
       ]
      },
      {
       "output_type": "stream",
       "stream": "stderr",
       "text": [
        "DEBUG:FFC:  Removing unused variable: tmp7\n"
       ]
      },
      {
       "output_type": "stream",
       "stream": "stderr",
       "text": [
        "DEBUG:FFC:  Removing unused variable: tmp6\n"
       ]
      },
      {
       "output_type": "stream",
       "stream": "stderr",
       "text": [
        "DEBUG:FFC:  Removing unused variable: tmp5\n"
       ]
      },
      {
       "output_type": "stream",
       "stream": "stderr",
       "text": [
        "DEBUG:FFC:  Removing unused variable: tt\n"
       ]
      },
      {
       "output_type": "stream",
       "stream": "stderr",
       "text": [
        "DEBUG:FFC:  Removing unused variable: ss\n"
       ]
      },
      {
       "output_type": "stream",
       "stream": "stderr",
       "text": [
        "DEBUG:FFC:  Removing unused variable: rr\n"
       ]
      },
      {
       "output_type": "stream",
       "stream": "stderr",
       "text": [
        "DEBUG:FFC:  Removing unused variable: tmp2\n"
       ]
      },
      {
       "output_type": "stream",
       "stream": "stderr",
       "text": [
        "DEBUG:FFC:  Removing unused variable: tmp1\n"
       ]
      },
      {
       "output_type": "stream",
       "stream": "stderr",
       "text": [
        "DEBUG:FFC:  Removing unused variable: tmp7\n"
       ]
      },
      {
       "output_type": "stream",
       "stream": "stderr",
       "text": [
        "DEBUG:FFC:  Removing unused variable: tmp6\n"
       ]
      },
      {
       "output_type": "stream",
       "stream": "stderr",
       "text": [
        "DEBUG:FFC:  Removing unused variable: tmp5\n"
       ]
      },
      {
       "output_type": "stream",
       "stream": "stderr",
       "text": [
        "DEBUG:FFC:  Removing unused variable: tt\n"
       ]
      },
      {
       "output_type": "stream",
       "stream": "stderr",
       "text": [
        "DEBUG:FFC:  Removing unused variable: ss\n"
       ]
      },
      {
       "output_type": "stream",
       "stream": "stderr",
       "text": [
        "DEBUG:FFC:  Removing unused variable: rr\n"
       ]
      },
      {
       "output_type": "stream",
       "stream": "stderr",
       "text": [
        "DEBUG:FFC:  Removing unused variable: tmp2\n"
       ]
      },
      {
       "output_type": "stream",
       "stream": "stderr",
       "text": [
        "DEBUG:FFC:  Removing unused variable: tmp1\n"
       ]
      },
      {
       "output_type": "stream",
       "stream": "stderr",
       "text": [
        "DEBUG:FFC:  Removing unused variable: tmp7\n"
       ]
      },
      {
       "output_type": "stream",
       "stream": "stderr",
       "text": [
        "DEBUG:FFC:  Removing unused variable: tmp6\n"
       ]
      },
      {
       "output_type": "stream",
       "stream": "stderr",
       "text": [
        "DEBUG:FFC:  Removing unused variable: tmp5\n"
       ]
      },
      {
       "output_type": "stream",
       "stream": "stderr",
       "text": [
        "DEBUG:FFC:  Removing unused variable: tt\n"
       ]
      },
      {
       "output_type": "stream",
       "stream": "stderr",
       "text": [
        "DEBUG:FFC:  Removing unused variable: ss\n"
       ]
      },
      {
       "output_type": "stream",
       "stream": "stderr",
       "text": [
        "DEBUG:FFC:  Removing unused variable: rr\n"
       ]
      },
      {
       "output_type": "stream",
       "stream": "stderr",
       "text": [
        "DEBUG:FFC:  Removing unused variable: tmp2\n"
       ]
      },
      {
       "output_type": "stream",
       "stream": "stderr",
       "text": [
        "DEBUG:FFC:  Removing unused variable: tmp1\n"
       ]
      },
      {
       "output_type": "stream",
       "stream": "stderr",
       "text": [
        "DEBUG:FFC:  Removing unused variable: tmp7\n"
       ]
      },
      {
       "output_type": "stream",
       "stream": "stderr",
       "text": [
        "DEBUG:FFC:  Removing unused variable: tmp6\n"
       ]
      },
      {
       "output_type": "stream",
       "stream": "stderr",
       "text": [
        "DEBUG:FFC:  Removing unused variable: tmp5\n"
       ]
      },
      {
       "output_type": "stream",
       "stream": "stderr",
       "text": [
        "DEBUG:FFC:  Removing unused variable: tt\n"
       ]
      },
      {
       "output_type": "stream",
       "stream": "stderr",
       "text": [
        "DEBUG:FFC:  Removing unused variable: ss\n"
       ]
      },
      {
       "output_type": "stream",
       "stream": "stderr",
       "text": [
        "DEBUG:FFC:  Removing unused variable: rr\n"
       ]
      },
      {
       "output_type": "stream",
       "stream": "stderr",
       "text": [
        "DEBUG:FFC:  Removing unused variable: tmp2\n"
       ]
      },
      {
       "output_type": "stream",
       "stream": "stderr",
       "text": [
        "DEBUG:FFC:  Removing unused variable: tmp1\n"
       ]
      },
      {
       "output_type": "stream",
       "stream": "stderr",
       "text": [
        "DEBUG:FFC:  Removing unused variable: tmp7\n"
       ]
      },
      {
       "output_type": "stream",
       "stream": "stderr",
       "text": [
        "DEBUG:FFC:  Removing unused variable: tmp6\n"
       ]
      },
      {
       "output_type": "stream",
       "stream": "stderr",
       "text": [
        "DEBUG:FFC:  Removing unused variable: tmp5\n"
       ]
      },
      {
       "output_type": "stream",
       "stream": "stderr",
       "text": [
        "DEBUG:FFC:  Removing unused variable: tt\n"
       ]
      },
      {
       "output_type": "stream",
       "stream": "stderr",
       "text": [
        "DEBUG:FFC:  Removing unused variable: ss\n"
       ]
      },
      {
       "output_type": "stream",
       "stream": "stderr",
       "text": [
        "DEBUG:FFC:  Removing unused variable: rr\n"
       ]
      },
      {
       "output_type": "stream",
       "stream": "stderr",
       "text": [
        "INFO:FFC:  Generating code for 1 dofmap(s)\n"
       ]
      },
      {
       "output_type": "stream",
       "stream": "stderr",
       "text": [
        "INFO:FFC:  Generating code for integrals\n"
       ]
      },
      {
       "output_type": "stream",
       "stream": "stderr",
       "text": [
        "DEBUG:FFC:  Removing unused variable: circumradius\n"
       ]
      },
      {
       "output_type": "stream",
       "stream": "stderr",
       "text": [
        "DEBUG:FFC:  Removing unused variable: v0v1\n"
       ]
      },
      {
       "output_type": "stream",
       "stream": "stderr",
       "text": [
        "DEBUG:FFC:  Removing unused variable: v0v2\n"
       ]
      },
      {
       "output_type": "stream",
       "stream": "stderr",
       "text": [
        "DEBUG:FFC:  Removing unused variable: v1v2\n"
       ]
      },
      {
       "output_type": "stream",
       "stream": "stderr",
       "text": [
        "DEBUG:FFC:  Removing unused variable: volume\n"
       ]
      },
      {
       "output_type": "stream",
       "stream": "stderr",
       "text": [
        "INFO:FFC:  Generating code for forms\n"
       ]
      },
      {
       "output_type": "stream",
       "stream": "stderr",
       "text": [
        "INFO:FFC:  \n"
       ]
      },
      {
       "output_type": "stream",
       "stream": "stderr",
       "text": [
        "INFO:FFC:Compiler stage 4 finished in 0.085501 seconds.\n",
        "\n"
       ]
      },
      {
       "output_type": "stream",
       "stream": "stderr",
       "text": [
        "INFO:FFC:Compiler stage 4.1 finished in 1.00136e-05 seconds.\n",
        "\n"
       ]
      },
      {
       "output_type": "stream",
       "stream": "stderr",
       "text": [
        "INFO:FFC:Compiler stage 5: Formatting code\n"
       ]
      },
      {
       "output_type": "stream",
       "stream": "stderr",
       "text": [
        "INFO:FFC:---------------------------------\n"
       ]
      },
      {
       "output_type": "stream",
       "stream": "stderr",
       "text": [
        "INFO:FFC:  Output written to ./ffc_form_34cfbe43aa7a7b19c52f0cee2d6fbcfb0c338975.h.\n"
       ]
      },
      {
       "output_type": "stream",
       "stream": "stderr",
       "text": [
        "INFO:FFC:  \n"
       ]
      },
      {
       "output_type": "stream",
       "stream": "stderr",
       "text": [
        "INFO:FFC:Compiler stage 5 finished in 0.010807 seconds.\n",
        "\n"
       ]
      },
      {
       "output_type": "stream",
       "stream": "stderr",
       "text": [
        "INFO:FFC:\u001b[1;37;32mFFC finished in 0.244049 seconds.\u001b[0m\n"
       ]
      },
      {
       "output_type": "stream",
       "stream": "stderr",
       "text": [
        "DEBUG:FFC:Compiling and linking Python extension module, this may take some time.\n"
       ]
      },
      {
       "output_type": "stream",
       "stream": "stderr",
       "text": [
        "INFO:UFL:Adjusting missing element domain to <Domain built from <triangle cell in 2D> with label dolfin_mesh_with_id_0>.\n"
       ]
      },
      {
       "output_type": "stream",
       "stream": "stderr",
       "text": [
        "INFO:UFL:Adjusting missing element degree to 1\n"
       ]
      },
      {
       "output_type": "stream",
       "stream": "stderr",
       "text": [
        "INFO:UFL:Adjusting missing element domain to <Domain built from <triangle cell in 2D> with label dolfin_mesh_with_id_0>.\n"
       ]
      },
      {
       "output_type": "stream",
       "stream": "stderr",
       "text": [
        "INFO:UFL:Adjusting missing element degree to 1\n"
       ]
      },
      {
       "output_type": "stream",
       "stream": "stderr",
       "text": [
        "INFO:UFL:Adjusting missing element domain to <Domain built from <triangle cell in 2D> with label dolfin_mesh_with_id_0>.\n"
       ]
      },
      {
       "output_type": "stream",
       "stream": "stderr",
       "text": [
        "INFO:UFL:Adjusting missing element degree to 1\n"
       ]
      },
      {
       "output_type": "stream",
       "stream": "stderr",
       "text": [
        "INFO:UFL:Adjusting missing element domain to <Domain built from <triangle cell in 2D> with label dolfin_mesh_with_id_0>.\n"
       ]
      },
      {
       "output_type": "stream",
       "stream": "stderr",
       "text": [
        "INFO:UFL:Adjusting missing element degree to 1\n"
       ]
      },
      {
       "output_type": "stream",
       "stream": "stderr",
       "text": [
        "INFO:UFL:Adjusting missing element domain to <Domain built from <triangle cell in 2D> with label dolfin_mesh_with_id_0>.\n"
       ]
      },
      {
       "output_type": "stream",
       "stream": "stderr",
       "text": [
        "INFO:UFL:Adjusting missing element degree to 1\n"
       ]
      },
      {
       "output_type": "stream",
       "stream": "stderr",
       "text": [
        "INFO:UFL:Adjusting missing element domain to <Domain built from <triangle cell in 2D> with label dolfin_mesh_with_id_0>.\n"
       ]
      },
      {
       "output_type": "stream",
       "stream": "stderr",
       "text": [
        "INFO:UFL:Adjusting missing element degree to 1\n"
       ]
      },
      {
       "output_type": "stream",
       "stream": "stderr",
       "text": [
        "DEBUG:UFL:No integrals left after transformation, returning empty form.\n"
       ]
      },
      {
       "output_type": "stream",
       "stream": "stdout",
       "text": [
        "Calling FFC just-in-time (JIT) compiler, this may take some time.\n"
       ]
      },
      {
       "output_type": "stream",
       "stream": "stderr",
       "text": [
        "Level 25:FFC:Calling FFC just-in-time (JIT) compiler, this may take some time.\n"
       ]
      },
      {
       "output_type": "stream",
       "stream": "stderr",
       "text": [
        "INFO:FFC:Compiling form ffc_form_0836b317ed031ff3a0d0ba8dc7e4852c20ecdd96\n",
        "\n"
       ]
      },
      {
       "output_type": "stream",
       "stream": "stderr",
       "text": [
        "INFO:FFC:Compiler stage 1: Analyzing form(s)\n"
       ]
      },
      {
       "output_type": "stream",
       "stream": "stderr",
       "text": [
        "INFO:FFC:-----------------------------------\n"
       ]
      },
      {
       "output_type": "stream",
       "stream": "stderr",
       "text": [
        "INFO:FFC:  \n"
       ]
      },
      {
       "output_type": "stream",
       "stream": "stderr",
       "text": [
        "INFO:FFC:  Name:                   ''\n",
        "  Geometric dimension:    2\n",
        "  Rank:                   1\n",
        "  Arguments:              '[v_0]'\n",
        "  Argument names:         '[v0]'\n",
        "  Number of coefficients: 2\n",
        "  Coefficients:           '[f_6, f_7]'\n",
        "  Coefficient names:      '[w0, w1]'\n",
        "  Unique elements:        'N1curl1(?), Vector<2 x CG1(?)>'\n",
        "  Unique sub elements:    'N1curl1(?), Vector<2 x CG1(?)>, CG1(?)'\n",
        "  \n"
       ]
      },
      {
       "output_type": "stream",
       "stream": "stderr",
       "text": [
        "INFO:FFC:  Extracting monomial form representation from UFL form\n"
       ]
      },
      {
       "output_type": "stream",
       "stream": "stderr",
       "text": [
        "INFO:FFC:  Transforming monomial form to reference element\n"
       ]
      },
      {
       "output_type": "stream",
       "stream": "stderr",
       "text": [
        "DEBUG:FFC:  Reusing element from cache\n"
       ]
      },
      {
       "output_type": "stream",
       "stream": "stderr",
       "text": [
        "DEBUG:FFC:  Reusing element from cache\n"
       ]
      },
      {
       "output_type": "stream",
       "stream": "stderr",
       "text": [
        "DEBUG:FFC:  Reusing element from cache\n"
       ]
      },
      {
       "output_type": "stream",
       "stream": "stderr",
       "text": [
        "DEBUG:FFC:  Reusing element from cache\n"
       ]
      },
      {
       "output_type": "stream",
       "stream": "stderr",
       "text": [
        "DEBUG:FFC:  Reusing element from cache\n"
       ]
      },
      {
       "output_type": "stream",
       "stream": "stderr",
       "text": [
        "DEBUG:FFC:  Reusing element from cache\n"
       ]
      },
      {
       "output_type": "stream",
       "stream": "stderr",
       "text": [
        "DEBUG:FFC:  Reusing element from cache\n"
       ]
      },
      {
       "output_type": "stream",
       "stream": "stderr",
       "text": [
        "DEBUG:FFC:  Reusing element from cache\n"
       ]
      },
      {
       "output_type": "stream",
       "stream": "stderr",
       "text": [
        "DEBUG:FFC:  Reusing element from cache\n"
       ]
      },
      {
       "output_type": "stream",
       "stream": "stderr",
       "text": [
        "DEBUG:FFC:  Reusing element from cache\n"
       ]
      },
      {
       "output_type": "stream",
       "stream": "stderr",
       "text": [
        "DEBUG:FFC:  Reusing element from cache\n"
       ]
      },
      {
       "output_type": "stream",
       "stream": "stderr",
       "text": [
        "DEBUG:FFC:  Reusing element from cache\n"
       ]
      },
      {
       "output_type": "stream",
       "stream": "stderr",
       "text": [
        "DEBUG:FFC:  Estimated cost of tensor representation: 2\n"
       ]
      },
      {
       "output_type": "stream",
       "stream": "stderr",
       "text": [
        "INFO:FFC:  representation:    auto --> tensor\n"
       ]
      },
      {
       "output_type": "stream",
       "stream": "stderr",
       "text": [
        "DEBUG:FFC:  Selecting quadrature degree based on total polynomial degree of integrand: 2\n"
       ]
      },
      {
       "output_type": "stream",
       "stream": "stderr",
       "text": [
        "INFO:FFC:  quadrature_degree: auto --> 2\n"
       ]
      },
      {
       "output_type": "stream",
       "stream": "stderr",
       "text": [
        "INFO:FFC:  quadrature_rule:   auto --> default\n"
       ]
      },
      {
       "output_type": "stream",
       "stream": "stderr",
       "text": [
        "INFO:FFC:  \n"
       ]
      },
      {
       "output_type": "stream",
       "stream": "stderr",
       "text": [
        "INFO:FFC:Compiler stage 1 finished in 0.0134139 seconds.\n",
        "\n"
       ]
      },
      {
       "output_type": "stream",
       "stream": "stderr",
       "text": [
        "INFO:FFC:Compiler stage 2: Computing intermediate representation\n"
       ]
      },
      {
       "output_type": "stream",
       "stream": "stderr",
       "text": [
        "INFO:FFC:-------------------------------------------------------\n"
       ]
      },
      {
       "output_type": "stream",
       "stream": "stderr",
       "text": [
        "INFO:FFC:  Computing representation of 3 elements\n"
       ]
      },
      {
       "output_type": "stream",
       "stream": "stderr",
       "text": [
        "DEBUG:FFC:  Reusing element from cache\n"
       ]
      },
      {
       "output_type": "stream",
       "stream": "stderr",
       "text": [
        "DEBUG:FFC:  Reusing element from cache\n"
       ]
      },
      {
       "output_type": "stream",
       "stream": "stderr",
       "text": [
        "DEBUG:FFC:  Reusing element from cache\n"
       ]
      },
      {
       "output_type": "stream",
       "stream": "stderr",
       "text": [
        "DEBUG:FFC:  Reusing element from cache\n"
       ]
      },
      {
       "output_type": "stream",
       "stream": "stderr",
       "text": [
        "DEBUG:FFC:  Reusing element from cache\n"
       ]
      },
      {
       "output_type": "stream",
       "stream": "stderr",
       "text": [
        "DEBUG:FFC:  Reusing element from cache\n"
       ]
      },
      {
       "output_type": "stream",
       "stream": "stderr",
       "text": [
        "INFO:FFC:  Computing representation of 3 dofmaps\n"
       ]
      },
      {
       "output_type": "stream",
       "stream": "stderr",
       "text": [
        "DEBUG:FFC:  Reusing element from cache\n"
       ]
      },
      {
       "output_type": "stream",
       "stream": "stderr",
       "text": [
        "DEBUG:FFC:  Reusing element from cache\n"
       ]
      },
      {
       "output_type": "stream",
       "stream": "stderr",
       "text": [
        "DEBUG:FFC:  Reusing element from cache\n"
       ]
      },
      {
       "output_type": "stream",
       "stream": "stderr",
       "text": [
        "INFO:FFC:  Computing representation of integrals\n"
       ]
      },
      {
       "output_type": "stream",
       "stream": "stderr",
       "text": [
        "INFO:FFC:  Computing tensor representation\n"
       ]
      },
      {
       "output_type": "stream",
       "stream": "stderr",
       "text": [
        "INFO:FFC:  Extracting monomial form representation from UFL form\n"
       ]
      },
      {
       "output_type": "stream",
       "stream": "stderr",
       "text": [
        "INFO:FFC:  Transforming monomial form to reference element\n"
       ]
      },
      {
       "output_type": "stream",
       "stream": "stderr",
       "text": [
        "DEBUG:FFC:  Reusing element from cache\n"
       ]
      },
      {
       "output_type": "stream",
       "stream": "stderr",
       "text": [
        "DEBUG:FFC:  Reusing element from cache\n"
       ]
      },
      {
       "output_type": "stream",
       "stream": "stderr",
       "text": [
        "DEBUG:FFC:  Reusing element from cache\n"
       ]
      },
      {
       "output_type": "stream",
       "stream": "stderr",
       "text": [
        "DEBUG:FFC:  Reusing element from cache\n"
       ]
      },
      {
       "output_type": "stream",
       "stream": "stderr",
       "text": [
        "DEBUG:FFC:  Reusing element from cache\n"
       ]
      },
      {
       "output_type": "stream",
       "stream": "stderr",
       "text": [
        "DEBUG:FFC:  Reusing element from cache\n"
       ]
      },
      {
       "output_type": "stream",
       "stream": "stderr",
       "text": [
        "DEBUG:FFC:  Reusing element from cache\n"
       ]
      },
      {
       "output_type": "stream",
       "stream": "stderr",
       "text": [
        "DEBUG:FFC:  Reusing element from cache\n"
       ]
      },
      {
       "output_type": "stream",
       "stream": "stderr",
       "text": [
        "DEBUG:FFC:  Reusing element from cache\n"
       ]
      },
      {
       "output_type": "stream",
       "stream": "stderr",
       "text": [
        "DEBUG:FFC:  Reusing element from cache\n"
       ]
      },
      {
       "output_type": "stream",
       "stream": "stderr",
       "text": [
        "DEBUG:FFC:  Reusing element from cache\n"
       ]
      },
      {
       "output_type": "stream",
       "stream": "stderr",
       "text": [
        "DEBUG:FFC:  Reusing element from cache\n"
       ]
      },
      {
       "output_type": "stream",
       "stream": "stderr",
       "text": [
        "INFO:FFC:  Precomputing integrals on reference element\n"
       ]
      },
      {
       "output_type": "stream",
       "stream": "stderr",
       "text": [
        "DEBUG:FFC:  Reusing element from cache\n"
       ]
      },
      {
       "output_type": "stream",
       "stream": "stderr",
       "text": [
        "DEBUG:FFC:  Reusing element from cache\n"
       ]
      },
      {
       "output_type": "stream",
       "stream": "stderr",
       "text": [
        "DEBUG:FFC:  72 entries computed in 0.00266 seconds\n"
       ]
      },
      {
       "output_type": "stream",
       "stream": "stderr",
       "text": [
        "DEBUG:FFC:  Shape of reference tensor: (3, 2, 6, 2)\n"
       ]
      },
      {
       "output_type": "stream",
       "stream": "stderr",
       "text": [
        "DEBUG:FFC:  Primary multi index:   rank = 1 dims = [3] indices = [[0], [1], [2]]\n"
       ]
      },
      {
       "output_type": "stream",
       "stream": "stderr",
       "text": [
        "DEBUG:FFC:  Secondary multi index: rank = 3 dims = [2, 6, 2] indices = [[0, 0, 0], [0, 0, 1], [0, 1, 0], [0, 1, 1], [0, 2, 0], [0, 2, 1], [0, 3, 0], [0, 3, 1], [0, 4, 0], [0, 4, 1], [0, 5, 0], [0, 5, 1], [1, 0, 0], [1, 0, 1], [1, 1, 0], [1, 1, 1], [1, 2, 0], [1, 2, 1], [1, 3, 0], [1, 3, 1], [1, 4, 0], [1, 4, 1], [1, 5, 0], [1, 5, 1]]\n"
       ]
      },
      {
       "output_type": "stream",
       "stream": "stderr",
       "text": [
        "DEBUG:FFC:  Internal multi index:  rank = 0 dims = [] indices = [[]]\n"
       ]
      },
      {
       "output_type": "stream",
       "stream": "stderr",
       "text": [
        "DEBUG:FFC:  Secondary multi index: rank = 3 dims = [2, 6, 2] indices = [[0, 0, 0], [0, 0, 1], [0, 1, 0], [0, 1, 1], [0, 2, 0], [0, 2, 1], [0, 3, 0], [0, 3, 1], [0, 4, 0], [0, 4, 1], [0, 5, 0], [0, 5, 1], [1, 0, 0], [1, 0, 1], [1, 1, 0], [1, 1, 1], [1, 2, 0], [1, 2, 1], [1, 3, 0], [1, 3, 1], [1, 4, 0], [1, 4, 1], [1, 5, 0], [1, 5, 1]]\n"
       ]
      },
      {
       "output_type": "stream",
       "stream": "stderr",
       "text": [
        "DEBUG:FFC:  External multi index:  rank = 0 dims = [] indices = [[]]\n"
       ]
      },
      {
       "output_type": "stream",
       "stream": "stderr",
       "text": [
        "INFO:FFC:  Precomputing integrals on reference element\n"
       ]
      },
      {
       "output_type": "stream",
       "stream": "stderr",
       "text": [
        "DEBUG:FFC:  Reusing element from cache\n"
       ]
      },
      {
       "output_type": "stream",
       "stream": "stderr",
       "text": [
        "DEBUG:FFC:  Reusing element from cache\n"
       ]
      },
      {
       "output_type": "stream",
       "stream": "stderr",
       "text": [
        "DEBUG:FFC:  72 entries computed in 0.00458 seconds\n"
       ]
      },
      {
       "output_type": "stream",
       "stream": "stderr",
       "text": [
        "DEBUG:FFC:  Shape of reference tensor: (3, 2, 6, 2)\n"
       ]
      },
      {
       "output_type": "stream",
       "stream": "stderr",
       "text": [
        "DEBUG:FFC:  Primary multi index:   rank = 1 dims = [3] indices = [[0], [1], [2]]\n"
       ]
      },
      {
       "output_type": "stream",
       "stream": "stderr",
       "text": [
        "DEBUG:FFC:  Secondary multi index: rank = 3 dims = [2, 6, 2] indices = [[0, 0, 0], [0, 0, 1], [0, 1, 0], [0, 1, 1], [0, 2, 0], [0, 2, 1], [0, 3, 0], [0, 3, 1], [0, 4, 0], [0, 4, 1], [0, 5, 0], [0, 5, 1], [1, 0, 0], [1, 0, 1], [1, 1, 0], [1, 1, 1], [1, 2, 0], [1, 2, 1], [1, 3, 0], [1, 3, 1], [1, 4, 0], [1, 4, 1], [1, 5, 0], [1, 5, 1]]\n"
       ]
      },
      {
       "output_type": "stream",
       "stream": "stderr",
       "text": [
        "DEBUG:FFC:  Internal multi index:  rank = 0 dims = [] indices = [[]]\n"
       ]
      },
      {
       "output_type": "stream",
       "stream": "stderr",
       "text": [
        "DEBUG:FFC:  Secondary multi index: rank = 3 dims = [2, 6, 2] indices = [[0, 0, 0], [0, 0, 1], [0, 1, 0], [0, 1, 1], [0, 2, 0], [0, 2, 1], [0, 3, 0], [0, 3, 1], [0, 4, 0], [0, 4, 1], [0, 5, 0], [0, 5, 1], [1, 0, 0], [1, 0, 1], [1, 1, 0], [1, 1, 1], [1, 2, 0], [1, 2, 1], [1, 3, 0], [1, 3, 1], [1, 4, 0], [1, 4, 1], [1, 5, 0], [1, 5, 1]]\n"
       ]
      },
      {
       "output_type": "stream",
       "stream": "stderr",
       "text": [
        "DEBUG:FFC:  External multi index:  rank = 0 dims = [] indices = [[]]\n"
       ]
      },
      {
       "output_type": "stream",
       "stream": "stderr",
       "text": [
        "DEBUG:FFC:  Reusing element from cache\n"
       ]
      },
      {
       "output_type": "stream",
       "stream": "stderr",
       "text": [
        "DEBUG:FFC:  Reusing element from cache\n"
       ]
      },
      {
       "output_type": "stream",
       "stream": "stderr",
       "text": [
        "INFO:FFC:  Computing representation of forms\n"
       ]
      },
      {
       "output_type": "stream",
       "stream": "stderr",
       "text": [
        "INFO:FFC:  \n"
       ]
      },
      {
       "output_type": "stream",
       "stream": "stderr",
       "text": [
        "INFO:FFC:Compiler stage 2 finished in 0.0409482 seconds.\n",
        "\n"
       ]
      },
      {
       "output_type": "stream",
       "stream": "stderr",
       "text": [
        "INFO:FFC:Compiler stage 3: Optimizing intermediate representation\n"
       ]
      },
      {
       "output_type": "stream",
       "stream": "stderr",
       "text": [
        "INFO:FFC:--------------------------------------------------------\n"
       ]
      },
      {
       "output_type": "stream",
       "stream": "stderr",
       "text": [
        "INFO:FFC:  Skipping optimizations, add -O to optimize\n"
       ]
      },
      {
       "output_type": "stream",
       "stream": "stderr",
       "text": [
        "INFO:FFC:  \n"
       ]
      },
      {
       "output_type": "stream",
       "stream": "stderr",
       "text": [
        "INFO:FFC:Compiler stage 3 finished in 0.00194693 seconds.\n",
        "\n"
       ]
      },
      {
       "output_type": "stream",
       "stream": "stderr",
       "text": [
        "INFO:FFC:Compiler stage 4: Generating code\n"
       ]
      },
      {
       "output_type": "stream",
       "stream": "stderr",
       "text": [
        "INFO:FFC:---------------------------------\n"
       ]
      },
      {
       "output_type": "stream",
       "stream": "stderr",
       "text": [
        "INFO:FFC:  Generating code for 3 element(s)\n"
       ]
      },
      {
       "output_type": "stream",
       "stream": "stderr",
       "text": [
        "DEBUG:FFC:  Removing unused variable: tmp2\n"
       ]
      },
      {
       "output_type": "stream",
       "stream": "stderr",
       "text": [
        "DEBUG:FFC:  Removing unused variable: tmp1\n"
       ]
      },
      {
       "output_type": "stream",
       "stream": "stderr",
       "text": [
        "DEBUG:FFC:  Removing unused variable: tmp7\n"
       ]
      },
      {
       "output_type": "stream",
       "stream": "stderr",
       "text": [
        "DEBUG:FFC:  Removing unused variable: tmp6\n"
       ]
      },
      {
       "output_type": "stream",
       "stream": "stderr",
       "text": [
        "DEBUG:FFC:  Removing unused variable: tmp5\n"
       ]
      },
      {
       "output_type": "stream",
       "stream": "stderr",
       "text": [
        "DEBUG:FFC:  Removing unused variable: tt\n"
       ]
      },
      {
       "output_type": "stream",
       "stream": "stderr",
       "text": [
        "DEBUG:FFC:  Removing unused variable: ss\n"
       ]
      },
      {
       "output_type": "stream",
       "stream": "stderr",
       "text": [
        "DEBUG:FFC:  Removing unused variable: rr\n"
       ]
      },
      {
       "output_type": "stream",
       "stream": "stderr",
       "text": [
        "DEBUG:FFC:  Removing unused variable: tmp2\n"
       ]
      },
      {
       "output_type": "stream",
       "stream": "stderr",
       "text": [
        "DEBUG:FFC:  Removing unused variable: tmp1\n"
       ]
      },
      {
       "output_type": "stream",
       "stream": "stderr",
       "text": [
        "DEBUG:FFC:  Removing unused variable: tmp7\n"
       ]
      },
      {
       "output_type": "stream",
       "stream": "stderr",
       "text": [
        "DEBUG:FFC:  Removing unused variable: tmp6\n"
       ]
      },
      {
       "output_type": "stream",
       "stream": "stderr",
       "text": [
        "DEBUG:FFC:  Removing unused variable: tmp5\n"
       ]
      },
      {
       "output_type": "stream",
       "stream": "stderr",
       "text": [
        "DEBUG:FFC:  Removing unused variable: tt\n"
       ]
      },
      {
       "output_type": "stream",
       "stream": "stderr",
       "text": [
        "DEBUG:FFC:  Removing unused variable: ss\n"
       ]
      },
      {
       "output_type": "stream",
       "stream": "stderr",
       "text": [
        "DEBUG:FFC:  Removing unused variable: rr\n"
       ]
      },
      {
       "output_type": "stream",
       "stream": "stderr",
       "text": [
        "DEBUG:FFC:  Removing unused variable: tmp2\n"
       ]
      },
      {
       "output_type": "stream",
       "stream": "stderr",
       "text": [
        "DEBUG:FFC:  Removing unused variable: tmp1\n"
       ]
      },
      {
       "output_type": "stream",
       "stream": "stderr",
       "text": [
        "DEBUG:FFC:  Removing unused variable: tmp7\n"
       ]
      },
      {
       "output_type": "stream",
       "stream": "stderr",
       "text": [
        "DEBUG:FFC:  Removing unused variable: tmp6\n"
       ]
      },
      {
       "output_type": "stream",
       "stream": "stderr",
       "text": [
        "DEBUG:FFC:  Removing unused variable: tmp5\n"
       ]
      },
      {
       "output_type": "stream",
       "stream": "stderr",
       "text": [
        "DEBUG:FFC:  Removing unused variable: tt\n"
       ]
      },
      {
       "output_type": "stream",
       "stream": "stderr",
       "text": [
        "DEBUG:FFC:  Removing unused variable: ss\n"
       ]
      },
      {
       "output_type": "stream",
       "stream": "stderr",
       "text": [
        "DEBUG:FFC:  Removing unused variable: rr\n"
       ]
      },
      {
       "output_type": "stream",
       "stream": "stderr",
       "text": [
        "DEBUG:FFC:  Removing unused variable: tmp2\n"
       ]
      },
      {
       "output_type": "stream",
       "stream": "stderr",
       "text": [
        "DEBUG:FFC:  Removing unused variable: tmp1\n"
       ]
      },
      {
       "output_type": "stream",
       "stream": "stderr",
       "text": [
        "DEBUG:FFC:  Removing unused variable: tmp7\n"
       ]
      },
      {
       "output_type": "stream",
       "stream": "stderr",
       "text": [
        "DEBUG:FFC:  Removing unused variable: tmp6\n"
       ]
      },
      {
       "output_type": "stream",
       "stream": "stderr",
       "text": [
        "DEBUG:FFC:  Removing unused variable: tmp5\n"
       ]
      },
      {
       "output_type": "stream",
       "stream": "stderr",
       "text": [
        "DEBUG:FFC:  Removing unused variable: tt\n"
       ]
      },
      {
       "output_type": "stream",
       "stream": "stderr",
       "text": [
        "DEBUG:FFC:  Removing unused variable: ss\n"
       ]
      },
      {
       "output_type": "stream",
       "stream": "stderr",
       "text": [
        "DEBUG:FFC:  Removing unused variable: rr\n"
       ]
      },
      {
       "output_type": "stream",
       "stream": "stderr",
       "text": [
        "DEBUG:FFC:  Removing unused variable: tmp2\n"
       ]
      },
      {
       "output_type": "stream",
       "stream": "stderr",
       "text": [
        "DEBUG:FFC:  Removing unused variable: tmp1\n"
       ]
      },
      {
       "output_type": "stream",
       "stream": "stderr",
       "text": [
        "DEBUG:FFC:  Removing unused variable: tmp7\n"
       ]
      },
      {
       "output_type": "stream",
       "stream": "stderr",
       "text": [
        "DEBUG:FFC:  Removing unused variable: tmp6\n"
       ]
      },
      {
       "output_type": "stream",
       "stream": "stderr",
       "text": [
        "DEBUG:FFC:  Removing unused variable: tmp5\n"
       ]
      },
      {
       "output_type": "stream",
       "stream": "stderr",
       "text": [
        "DEBUG:FFC:  Removing unused variable: tt\n"
       ]
      },
      {
       "output_type": "stream",
       "stream": "stderr",
       "text": [
        "DEBUG:FFC:  Removing unused variable: ss\n"
       ]
      },
      {
       "output_type": "stream",
       "stream": "stderr",
       "text": [
        "DEBUG:FFC:  Removing unused variable: rr\n"
       ]
      },
      {
       "output_type": "stream",
       "stream": "stderr",
       "text": [
        "DEBUG:FFC:  Removing unused variable: tmp2\n"
       ]
      },
      {
       "output_type": "stream",
       "stream": "stderr",
       "text": [
        "DEBUG:FFC:  Removing unused variable: tmp1\n"
       ]
      },
      {
       "output_type": "stream",
       "stream": "stderr",
       "text": [
        "DEBUG:FFC:  Removing unused variable: tmp7\n"
       ]
      },
      {
       "output_type": "stream",
       "stream": "stderr",
       "text": [
        "DEBUG:FFC:  Removing unused variable: tmp6\n"
       ]
      },
      {
       "output_type": "stream",
       "stream": "stderr",
       "text": [
        "DEBUG:FFC:  Removing unused variable: tmp5\n"
       ]
      },
      {
       "output_type": "stream",
       "stream": "stderr",
       "text": [
        "DEBUG:FFC:  Removing unused variable: tt\n"
       ]
      },
      {
       "output_type": "stream",
       "stream": "stderr",
       "text": [
        "DEBUG:FFC:  Removing unused variable: ss\n"
       ]
      },
      {
       "output_type": "stream",
       "stream": "stderr",
       "text": [
        "DEBUG:FFC:  Removing unused variable: rr\n"
       ]
      },
      {
       "output_type": "stream",
       "stream": "stderr",
       "text": [
        "DEBUG:FFC:  Removing unused variable: tmp2\n"
       ]
      },
      {
       "output_type": "stream",
       "stream": "stderr",
       "text": [
        "DEBUG:FFC:  Removing unused variable: tmp1\n"
       ]
      },
      {
       "output_type": "stream",
       "stream": "stderr",
       "text": [
        "DEBUG:FFC:  Removing unused variable: tmp7\n"
       ]
      },
      {
       "output_type": "stream",
       "stream": "stderr",
       "text": [
        "DEBUG:FFC:  Removing unused variable: tmp6\n"
       ]
      },
      {
       "output_type": "stream",
       "stream": "stderr",
       "text": [
        "DEBUG:FFC:  Removing unused variable: tmp5\n"
       ]
      },
      {
       "output_type": "stream",
       "stream": "stderr",
       "text": [
        "DEBUG:FFC:  Removing unused variable: tt\n"
       ]
      },
      {
       "output_type": "stream",
       "stream": "stderr",
       "text": [
        "DEBUG:FFC:  Removing unused variable: ss\n"
       ]
      },
      {
       "output_type": "stream",
       "stream": "stderr",
       "text": [
        "DEBUG:FFC:  Removing unused variable: rr\n"
       ]
      },
      {
       "output_type": "stream",
       "stream": "stderr",
       "text": [
        "DEBUG:FFC:  Removing unused variable: tmp2\n"
       ]
      },
      {
       "output_type": "stream",
       "stream": "stderr",
       "text": [
        "DEBUG:FFC:  Removing unused variable: tmp1\n"
       ]
      },
      {
       "output_type": "stream",
       "stream": "stderr",
       "text": [
        "DEBUG:FFC:  Removing unused variable: tmp7\n"
       ]
      },
      {
       "output_type": "stream",
       "stream": "stderr",
       "text": [
        "DEBUG:FFC:  Removing unused variable: tmp6\n"
       ]
      },
      {
       "output_type": "stream",
       "stream": "stderr",
       "text": [
        "DEBUG:FFC:  Removing unused variable: tmp5\n"
       ]
      },
      {
       "output_type": "stream",
       "stream": "stderr",
       "text": [
        "DEBUG:FFC:  Removing unused variable: tt\n"
       ]
      },
      {
       "output_type": "stream",
       "stream": "stderr",
       "text": [
        "DEBUG:FFC:  Removing unused variable: ss\n"
       ]
      },
      {
       "output_type": "stream",
       "stream": "stderr",
       "text": [
        "DEBUG:FFC:  Removing unused variable: rr\n"
       ]
      },
      {
       "output_type": "stream",
       "stream": "stderr",
       "text": [
        "DEBUG:FFC:  Removing unused variable: tmp2\n"
       ]
      },
      {
       "output_type": "stream",
       "stream": "stderr",
       "text": [
        "DEBUG:FFC:  Removing unused variable: tmp1\n"
       ]
      },
      {
       "output_type": "stream",
       "stream": "stderr",
       "text": [
        "DEBUG:FFC:  Removing unused variable: tmp7\n"
       ]
      },
      {
       "output_type": "stream",
       "stream": "stderr",
       "text": [
        "DEBUG:FFC:  Removing unused variable: tmp6\n"
       ]
      },
      {
       "output_type": "stream",
       "stream": "stderr",
       "text": [
        "DEBUG:FFC:  Removing unused variable: tmp5\n"
       ]
      },
      {
       "output_type": "stream",
       "stream": "stderr",
       "text": [
        "DEBUG:FFC:  Removing unused variable: tt\n"
       ]
      },
      {
       "output_type": "stream",
       "stream": "stderr",
       "text": [
        "DEBUG:FFC:  Removing unused variable: ss\n"
       ]
      },
      {
       "output_type": "stream",
       "stream": "stderr",
       "text": [
        "DEBUG:FFC:  Removing unused variable: rr\n"
       ]
      },
      {
       "output_type": "stream",
       "stream": "stderr",
       "text": [
        "DEBUG:FFC:  Removing unused variable: tmp2\n"
       ]
      },
      {
       "output_type": "stream",
       "stream": "stderr",
       "text": [
        "DEBUG:FFC:  Removing unused variable: tmp1\n"
       ]
      },
      {
       "output_type": "stream",
       "stream": "stderr",
       "text": [
        "DEBUG:FFC:  Removing unused variable: tmp7\n"
       ]
      },
      {
       "output_type": "stream",
       "stream": "stderr",
       "text": [
        "DEBUG:FFC:  Removing unused variable: tmp6\n"
       ]
      },
      {
       "output_type": "stream",
       "stream": "stderr",
       "text": [
        "DEBUG:FFC:  Removing unused variable: tmp5\n"
       ]
      },
      {
       "output_type": "stream",
       "stream": "stderr",
       "text": [
        "DEBUG:FFC:  Removing unused variable: tt\n"
       ]
      },
      {
       "output_type": "stream",
       "stream": "stderr",
       "text": [
        "DEBUG:FFC:  Removing unused variable: ss\n"
       ]
      },
      {
       "output_type": "stream",
       "stream": "stderr",
       "text": [
        "DEBUG:FFC:  Removing unused variable: rr\n"
       ]
      },
      {
       "output_type": "stream",
       "stream": "stderr",
       "text": [
        "DEBUG:FFC:  Removing unused variable: tmp2\n"
       ]
      },
      {
       "output_type": "stream",
       "stream": "stderr",
       "text": [
        "DEBUG:FFC:  Removing unused variable: tmp1\n"
       ]
      },
      {
       "output_type": "stream",
       "stream": "stderr",
       "text": [
        "DEBUG:FFC:  Removing unused variable: tmp7\n"
       ]
      },
      {
       "output_type": "stream",
       "stream": "stderr",
       "text": [
        "DEBUG:FFC:  Removing unused variable: tmp6\n"
       ]
      },
      {
       "output_type": "stream",
       "stream": "stderr",
       "text": [
        "DEBUG:FFC:  Removing unused variable: tmp5\n"
       ]
      },
      {
       "output_type": "stream",
       "stream": "stderr",
       "text": [
        "DEBUG:FFC:  Removing unused variable: tt\n"
       ]
      },
      {
       "output_type": "stream",
       "stream": "stderr",
       "text": [
        "DEBUG:FFC:  Removing unused variable: ss\n"
       ]
      },
      {
       "output_type": "stream",
       "stream": "stderr",
       "text": [
        "DEBUG:FFC:  Removing unused variable: rr\n"
       ]
      },
      {
       "output_type": "stream",
       "stream": "stderr",
       "text": [
        "DEBUG:FFC:  Removing unused variable: tmp2\n"
       ]
      },
      {
       "output_type": "stream",
       "stream": "stderr",
       "text": [
        "DEBUG:FFC:  Removing unused variable: tmp1\n"
       ]
      },
      {
       "output_type": "stream",
       "stream": "stderr",
       "text": [
        "DEBUG:FFC:  Removing unused variable: tmp7\n"
       ]
      },
      {
       "output_type": "stream",
       "stream": "stderr",
       "text": [
        "DEBUG:FFC:  Removing unused variable: tmp6\n"
       ]
      },
      {
       "output_type": "stream",
       "stream": "stderr",
       "text": [
        "DEBUG:FFC:  Removing unused variable: tmp5\n"
       ]
      },
      {
       "output_type": "stream",
       "stream": "stderr",
       "text": [
        "DEBUG:FFC:  Removing unused variable: tt\n"
       ]
      },
      {
       "output_type": "stream",
       "stream": "stderr",
       "text": [
        "DEBUG:FFC:  Removing unused variable: ss\n"
       ]
      },
      {
       "output_type": "stream",
       "stream": "stderr",
       "text": [
        "DEBUG:FFC:  Removing unused variable: rr\n"
       ]
      },
      {
       "output_type": "stream",
       "stream": "stderr",
       "text": [
        "DEBUG:FFC:  Removing unused variable: tmp2\n"
       ]
      },
      {
       "output_type": "stream",
       "stream": "stderr",
       "text": [
        "DEBUG:FFC:  Removing unused variable: tmp1\n"
       ]
      },
      {
       "output_type": "stream",
       "stream": "stderr",
       "text": [
        "DEBUG:FFC:  Removing unused variable: tmp7\n"
       ]
      },
      {
       "output_type": "stream",
       "stream": "stderr",
       "text": [
        "DEBUG:FFC:  Removing unused variable: tmp6\n"
       ]
      },
      {
       "output_type": "stream",
       "stream": "stderr",
       "text": [
        "DEBUG:FFC:  Removing unused variable: tmp5\n"
       ]
      },
      {
       "output_type": "stream",
       "stream": "stderr",
       "text": [
        "DEBUG:FFC:  Removing unused variable: tt\n"
       ]
      },
      {
       "output_type": "stream",
       "stream": "stderr",
       "text": [
        "DEBUG:FFC:  Removing unused variable: ss\n"
       ]
      },
      {
       "output_type": "stream",
       "stream": "stderr",
       "text": [
        "DEBUG:FFC:  Removing unused variable: rr\n"
       ]
      },
      {
       "output_type": "stream",
       "stream": "stderr",
       "text": [
        "DEBUG:FFC:  Removing unused variable: tmp2\n"
       ]
      },
      {
       "output_type": "stream",
       "stream": "stderr",
       "text": [
        "DEBUG:FFC:  Removing unused variable: tmp1\n"
       ]
      },
      {
       "output_type": "stream",
       "stream": "stderr",
       "text": [
        "DEBUG:FFC:  Removing unused variable: tmp7\n"
       ]
      },
      {
       "output_type": "stream",
       "stream": "stderr",
       "text": [
        "DEBUG:FFC:  Removing unused variable: tmp6\n"
       ]
      },
      {
       "output_type": "stream",
       "stream": "stderr",
       "text": [
        "DEBUG:FFC:  Removing unused variable: tmp5\n"
       ]
      },
      {
       "output_type": "stream",
       "stream": "stderr",
       "text": [
        "DEBUG:FFC:  Removing unused variable: tt\n"
       ]
      },
      {
       "output_type": "stream",
       "stream": "stderr",
       "text": [
        "DEBUG:FFC:  Removing unused variable: ss\n"
       ]
      },
      {
       "output_type": "stream",
       "stream": "stderr",
       "text": [
        "DEBUG:FFC:  Removing unused variable: rr\n"
       ]
      },
      {
       "output_type": "stream",
       "stream": "stderr",
       "text": [
        "DEBUG:FFC:  Removing unused variable: tmp2\n"
       ]
      },
      {
       "output_type": "stream",
       "stream": "stderr",
       "text": [
        "DEBUG:FFC:  Removing unused variable: tmp1\n"
       ]
      },
      {
       "output_type": "stream",
       "stream": "stderr",
       "text": [
        "DEBUG:FFC:  Removing unused variable: tmp7\n"
       ]
      },
      {
       "output_type": "stream",
       "stream": "stderr",
       "text": [
        "DEBUG:FFC:  Removing unused variable: tmp6\n"
       ]
      },
      {
       "output_type": "stream",
       "stream": "stderr",
       "text": [
        "DEBUG:FFC:  Removing unused variable: tmp5\n"
       ]
      },
      {
       "output_type": "stream",
       "stream": "stderr",
       "text": [
        "DEBUG:FFC:  Removing unused variable: tt\n"
       ]
      },
      {
       "output_type": "stream",
       "stream": "stderr",
       "text": [
        "DEBUG:FFC:  Removing unused variable: ss\n"
       ]
      },
      {
       "output_type": "stream",
       "stream": "stderr",
       "text": [
        "DEBUG:FFC:  Removing unused variable: rr\n"
       ]
      },
      {
       "output_type": "stream",
       "stream": "stderr",
       "text": [
        "DEBUG:FFC:  Removing unused variable: tmp2\n"
       ]
      },
      {
       "output_type": "stream",
       "stream": "stderr",
       "text": [
        "DEBUG:FFC:  Removing unused variable: tmp1\n"
       ]
      },
      {
       "output_type": "stream",
       "stream": "stderr",
       "text": [
        "DEBUG:FFC:  Removing unused variable: tmp7\n"
       ]
      },
      {
       "output_type": "stream",
       "stream": "stderr",
       "text": [
        "DEBUG:FFC:  Removing unused variable: tmp6\n"
       ]
      },
      {
       "output_type": "stream",
       "stream": "stderr",
       "text": [
        "DEBUG:FFC:  Removing unused variable: tmp5\n"
       ]
      },
      {
       "output_type": "stream",
       "stream": "stderr",
       "text": [
        "DEBUG:FFC:  Removing unused variable: tt\n"
       ]
      },
      {
       "output_type": "stream",
       "stream": "stderr",
       "text": [
        "DEBUG:FFC:  Removing unused variable: ss\n"
       ]
      },
      {
       "output_type": "stream",
       "stream": "stderr",
       "text": [
        "DEBUG:FFC:  Removing unused variable: rr\n"
       ]
      },
      {
       "output_type": "stream",
       "stream": "stderr",
       "text": [
        "DEBUG:FFC:  Removing unused variable: tmp2\n"
       ]
      },
      {
       "output_type": "stream",
       "stream": "stderr",
       "text": [
        "DEBUG:FFC:  Removing unused variable: tmp1\n"
       ]
      },
      {
       "output_type": "stream",
       "stream": "stderr",
       "text": [
        "DEBUG:FFC:  Removing unused variable: tmp7\n"
       ]
      },
      {
       "output_type": "stream",
       "stream": "stderr",
       "text": [
        "DEBUG:FFC:  Removing unused variable: tmp6\n"
       ]
      },
      {
       "output_type": "stream",
       "stream": "stderr",
       "text": [
        "DEBUG:FFC:  Removing unused variable: tmp5\n"
       ]
      },
      {
       "output_type": "stream",
       "stream": "stderr",
       "text": [
        "DEBUG:FFC:  Removing unused variable: tt\n"
       ]
      },
      {
       "output_type": "stream",
       "stream": "stderr",
       "text": [
        "DEBUG:FFC:  Removing unused variable: ss\n"
       ]
      },
      {
       "output_type": "stream",
       "stream": "stderr",
       "text": [
        "DEBUG:FFC:  Removing unused variable: rr\n"
       ]
      },
      {
       "output_type": "stream",
       "stream": "stderr",
       "text": [
        "DEBUG:FFC:  Removing unused variable: tmp2\n"
       ]
      },
      {
       "output_type": "stream",
       "stream": "stderr",
       "text": [
        "DEBUG:FFC:  Removing unused variable: tmp1\n"
       ]
      },
      {
       "output_type": "stream",
       "stream": "stderr",
       "text": [
        "DEBUG:FFC:  Removing unused variable: tmp7\n"
       ]
      },
      {
       "output_type": "stream",
       "stream": "stderr",
       "text": [
        "DEBUG:FFC:  Removing unused variable: tmp6\n"
       ]
      },
      {
       "output_type": "stream",
       "stream": "stderr",
       "text": [
        "DEBUG:FFC:  Removing unused variable: tmp5\n"
       ]
      },
      {
       "output_type": "stream",
       "stream": "stderr",
       "text": [
        "DEBUG:FFC:  Removing unused variable: tt\n"
       ]
      },
      {
       "output_type": "stream",
       "stream": "stderr",
       "text": [
        "DEBUG:FFC:  Removing unused variable: ss\n"
       ]
      },
      {
       "output_type": "stream",
       "stream": "stderr",
       "text": [
        "DEBUG:FFC:  Removing unused variable: rr\n"
       ]
      },
      {
       "output_type": "stream",
       "stream": "stderr",
       "text": [
        "DEBUG:FFC:  Removing unused variable: tmp2\n"
       ]
      },
      {
       "output_type": "stream",
       "stream": "stderr",
       "text": [
        "DEBUG:FFC:  Removing unused variable: tmp1\n"
       ]
      },
      {
       "output_type": "stream",
       "stream": "stderr",
       "text": [
        "DEBUG:FFC:  Removing unused variable: tmp7\n"
       ]
      },
      {
       "output_type": "stream",
       "stream": "stderr",
       "text": [
        "DEBUG:FFC:  Removing unused variable: tmp6\n"
       ]
      },
      {
       "output_type": "stream",
       "stream": "stderr",
       "text": [
        "DEBUG:FFC:  Removing unused variable: tmp5\n"
       ]
      },
      {
       "output_type": "stream",
       "stream": "stderr",
       "text": [
        "DEBUG:FFC:  Removing unused variable: tt\n"
       ]
      },
      {
       "output_type": "stream",
       "stream": "stderr",
       "text": [
        "DEBUG:FFC:  Removing unused variable: ss\n"
       ]
      },
      {
       "output_type": "stream",
       "stream": "stderr",
       "text": [
        "DEBUG:FFC:  Removing unused variable: rr\n"
       ]
      },
      {
       "output_type": "stream",
       "stream": "stderr",
       "text": [
        "DEBUG:FFC:  Removing unused variable: tmp2\n"
       ]
      },
      {
       "output_type": "stream",
       "stream": "stderr",
       "text": [
        "DEBUG:FFC:  Removing unused variable: tmp1\n"
       ]
      },
      {
       "output_type": "stream",
       "stream": "stderr",
       "text": [
        "DEBUG:FFC:  Removing unused variable: tmp7\n"
       ]
      },
      {
       "output_type": "stream",
       "stream": "stderr",
       "text": [
        "DEBUG:FFC:  Removing unused variable: tmp6\n"
       ]
      },
      {
       "output_type": "stream",
       "stream": "stderr",
       "text": [
        "DEBUG:FFC:  Removing unused variable: tmp5\n"
       ]
      },
      {
       "output_type": "stream",
       "stream": "stderr",
       "text": [
        "DEBUG:FFC:  Removing unused variable: tt\n"
       ]
      },
      {
       "output_type": "stream",
       "stream": "stderr",
       "text": [
        "DEBUG:FFC:  Removing unused variable: ss\n"
       ]
      },
      {
       "output_type": "stream",
       "stream": "stderr",
       "text": [
        "DEBUG:FFC:  Removing unused variable: rr\n"
       ]
      },
      {
       "output_type": "stream",
       "stream": "stderr",
       "text": [
        "DEBUG:FFC:  Removing unused variable: tmp2\n"
       ]
      },
      {
       "output_type": "stream",
       "stream": "stderr",
       "text": [
        "DEBUG:FFC:  Removing unused variable: tmp1\n"
       ]
      },
      {
       "output_type": "stream",
       "stream": "stderr",
       "text": [
        "DEBUG:FFC:  Removing unused variable: tmp7\n"
       ]
      },
      {
       "output_type": "stream",
       "stream": "stderr",
       "text": [
        "DEBUG:FFC:  Removing unused variable: tmp6\n"
       ]
      },
      {
       "output_type": "stream",
       "stream": "stderr",
       "text": [
        "DEBUG:FFC:  Removing unused variable: tmp5\n"
       ]
      },
      {
       "output_type": "stream",
       "stream": "stderr",
       "text": [
        "DEBUG:FFC:  Removing unused variable: tt\n"
       ]
      },
      {
       "output_type": "stream",
       "stream": "stderr",
       "text": [
        "DEBUG:FFC:  Removing unused variable: ss\n"
       ]
      },
      {
       "output_type": "stream",
       "stream": "stderr",
       "text": [
        "DEBUG:FFC:  Removing unused variable: rr\n"
       ]
      },
      {
       "output_type": "stream",
       "stream": "stderr",
       "text": [
        "DEBUG:FFC:  Removing unused variable: tmp2\n"
       ]
      },
      {
       "output_type": "stream",
       "stream": "stderr",
       "text": [
        "DEBUG:FFC:  Removing unused variable: tmp1\n"
       ]
      },
      {
       "output_type": "stream",
       "stream": "stderr",
       "text": [
        "DEBUG:FFC:  Removing unused variable: tmp7\n"
       ]
      },
      {
       "output_type": "stream",
       "stream": "stderr",
       "text": [
        "DEBUG:FFC:  Removing unused variable: tmp6\n"
       ]
      },
      {
       "output_type": "stream",
       "stream": "stderr",
       "text": [
        "DEBUG:FFC:  Removing unused variable: tmp5\n"
       ]
      },
      {
       "output_type": "stream",
       "stream": "stderr",
       "text": [
        "DEBUG:FFC:  Removing unused variable: tt\n"
       ]
      },
      {
       "output_type": "stream",
       "stream": "stderr",
       "text": [
        "DEBUG:FFC:  Removing unused variable: ss\n"
       ]
      },
      {
       "output_type": "stream",
       "stream": "stderr",
       "text": [
        "DEBUG:FFC:  Removing unused variable: rr\n"
       ]
      },
      {
       "output_type": "stream",
       "stream": "stderr",
       "text": [
        "DEBUG:FFC:  Removing unused variable: tmp2\n"
       ]
      },
      {
       "output_type": "stream",
       "stream": "stderr",
       "text": [
        "DEBUG:FFC:  Removing unused variable: tmp1\n"
       ]
      },
      {
       "output_type": "stream",
       "stream": "stderr",
       "text": [
        "DEBUG:FFC:  Removing unused variable: tmp7\n"
       ]
      },
      {
       "output_type": "stream",
       "stream": "stderr",
       "text": [
        "DEBUG:FFC:  Removing unused variable: tmp6\n"
       ]
      },
      {
       "output_type": "stream",
       "stream": "stderr",
       "text": [
        "DEBUG:FFC:  Removing unused variable: tmp5\n"
       ]
      },
      {
       "output_type": "stream",
       "stream": "stderr",
       "text": [
        "DEBUG:FFC:  Removing unused variable: tt\n"
       ]
      },
      {
       "output_type": "stream",
       "stream": "stderr",
       "text": [
        "DEBUG:FFC:  Removing unused variable: ss\n"
       ]
      },
      {
       "output_type": "stream",
       "stream": "stderr",
       "text": [
        "DEBUG:FFC:  Removing unused variable: rr\n"
       ]
      },
      {
       "output_type": "stream",
       "stream": "stderr",
       "text": [
        "DEBUG:FFC:  Removing unused variable: tmp2\n"
       ]
      },
      {
       "output_type": "stream",
       "stream": "stderr",
       "text": [
        "DEBUG:FFC:  Removing unused variable: tmp1\n"
       ]
      },
      {
       "output_type": "stream",
       "stream": "stderr",
       "text": [
        "DEBUG:FFC:  Removing unused variable: tmp7\n"
       ]
      },
      {
       "output_type": "stream",
       "stream": "stderr",
       "text": [
        "DEBUG:FFC:  Removing unused variable: tmp6\n"
       ]
      },
      {
       "output_type": "stream",
       "stream": "stderr",
       "text": [
        "DEBUG:FFC:  Removing unused variable: tmp5\n"
       ]
      },
      {
       "output_type": "stream",
       "stream": "stderr",
       "text": [
        "DEBUG:FFC:  Removing unused variable: tt\n"
       ]
      },
      {
       "output_type": "stream",
       "stream": "stderr",
       "text": [
        "DEBUG:FFC:  Removing unused variable: ss\n"
       ]
      },
      {
       "output_type": "stream",
       "stream": "stderr",
       "text": [
        "DEBUG:FFC:  Removing unused variable: rr\n"
       ]
      },
      {
       "output_type": "stream",
       "stream": "stderr",
       "text": [
        "INFO:FFC:  Generating code for 3 dofmap(s)\n"
       ]
      },
      {
       "output_type": "stream",
       "stream": "stderr",
       "text": [
        "INFO:FFC:  Generating code for integrals\n"
       ]
      },
      {
       "output_type": "stream",
       "stream": "stderr",
       "text": [
        "INFO:FFC:  Generating code for forms\n"
       ]
      },
      {
       "output_type": "stream",
       "stream": "stderr",
       "text": [
        "INFO:FFC:  \n"
       ]
      },
      {
       "output_type": "stream",
       "stream": "stderr",
       "text": [
        "INFO:FFC:Compiler stage 4 finished in 0.213374 seconds.\n",
        "\n"
       ]
      },
      {
       "output_type": "stream",
       "stream": "stderr",
       "text": [
        "INFO:FFC:Compiler stage 4.1 finished in 2.14577e-06 seconds.\n",
        "\n"
       ]
      },
      {
       "output_type": "stream",
       "stream": "stderr",
       "text": [
        "INFO:FFC:Compiler stage 5: Formatting code\n"
       ]
      },
      {
       "output_type": "stream",
       "stream": "stderr",
       "text": [
        "INFO:FFC:---------------------------------\n"
       ]
      },
      {
       "output_type": "stream",
       "stream": "stderr",
       "text": [
        "INFO:FFC:  Output written to ./ffc_form_0836b317ed031ff3a0d0ba8dc7e4852c20ecdd96.h.\n"
       ]
      },
      {
       "output_type": "stream",
       "stream": "stderr",
       "text": [
        "INFO:FFC:  \n"
       ]
      },
      {
       "output_type": "stream",
       "stream": "stderr",
       "text": [
        "INFO:FFC:Compiler stage 5 finished in 0.009902 seconds.\n",
        "\n"
       ]
      },
      {
       "output_type": "stream",
       "stream": "stderr",
       "text": [
        "INFO:FFC:\u001b[1;37;32mFFC finished in 0.28181 seconds.\u001b[0m\n"
       ]
      },
      {
       "output_type": "stream",
       "stream": "stderr",
       "text": [
        "DEBUG:FFC:Compiling and linking Python extension module, this may take some time.\n"
       ]
      },
      {
       "output_type": "stream",
       "stream": "stderr",
       "text": [
        "DEBUG:UFL:No integrals left after transformation, returning empty form.\n"
       ]
      },
      {
       "output_type": "stream",
       "stream": "stderr",
       "text": [
        "DEBUG:UFL:No integrals left after transformation, returning empty form.\n"
       ]
      },
      {
       "output_type": "stream",
       "stream": "stdout",
       "text": [
        "Calling FFC just-in-time (JIT) compiler, this may take some time.\n"
       ]
      },
      {
       "output_type": "stream",
       "stream": "stderr",
       "text": [
        "Level 25:FFC:Calling FFC just-in-time (JIT) compiler, this may take some time.\n"
       ]
      },
      {
       "output_type": "stream",
       "stream": "stderr",
       "text": [
        "INFO:FFC:Compiling form ffc_form_d11293b096b99347df9139f98096c84c5488d444\n",
        "\n"
       ]
      },
      {
       "output_type": "stream",
       "stream": "stderr",
       "text": [
        "INFO:FFC:Compiler stage 1: Analyzing form(s)\n"
       ]
      },
      {
       "output_type": "stream",
       "stream": "stderr",
       "text": [
        "INFO:FFC:-----------------------------------\n"
       ]
      },
      {
       "output_type": "stream",
       "stream": "stderr",
       "text": [
        "INFO:FFC:  \n"
       ]
      },
      {
       "output_type": "stream",
       "stream": "stderr",
       "text": [
        "INFO:FFC:  Name:                   ''\n",
        "  Geometric dimension:    2\n",
        "  Rank:                   2\n",
        "  Arguments:              '[v_0, v_1]'\n",
        "  Argument names:         '[v0, v1]'\n",
        "  Number of coefficients: 0\n",
        "  Coefficients:           '[]'\n",
        "  Coefficient names:      '[]'\n",
        "  Unique elements:        'CG1(?)'\n",
        "  Unique sub elements:    'CG1(?)'\n",
        "  \n"
       ]
      },
      {
       "output_type": "stream",
       "stream": "stderr",
       "text": [
        "INFO:FFC:  Extracting monomial form representation from UFL form\n"
       ]
      },
      {
       "output_type": "stream",
       "stream": "stderr",
       "text": [
        "INFO:FFC:  Transforming monomial form to reference element\n"
       ]
      },
      {
       "output_type": "stream",
       "stream": "stderr",
       "text": [
        "DEBUG:FFC:  Reusing element from cache\n"
       ]
      },
      {
       "output_type": "stream",
       "stream": "stderr",
       "text": [
        "DEBUG:FFC:  Reusing element from cache\n"
       ]
      },
      {
       "output_type": "stream",
       "stream": "stderr",
       "text": [
        "DEBUG:FFC:  Reusing element from cache\n"
       ]
      },
      {
       "output_type": "stream",
       "stream": "stderr",
       "text": [
        "DEBUG:FFC:  Reusing element from cache\n"
       ]
      },
      {
       "output_type": "stream",
       "stream": "stderr",
       "text": [
        "DEBUG:FFC:  Estimated cost of tensor representation: 2\n"
       ]
      },
      {
       "output_type": "stream",
       "stream": "stderr",
       "text": [
        "INFO:FFC:  representation:    auto --> tensor\n"
       ]
      },
      {
       "output_type": "stream",
       "stream": "stderr",
       "text": [
        "DEBUG:FFC:  Selecting quadrature degree based on total polynomial degree of integrand: 2\n"
       ]
      },
      {
       "output_type": "stream",
       "stream": "stderr",
       "text": [
        "INFO:FFC:  quadrature_degree: auto --> 2\n"
       ]
      },
      {
       "output_type": "stream",
       "stream": "stderr",
       "text": [
        "INFO:FFC:  quadrature_rule:   auto --> default\n"
       ]
      },
      {
       "output_type": "stream",
       "stream": "stderr",
       "text": [
        "INFO:FFC:  \n"
       ]
      },
      {
       "output_type": "stream",
       "stream": "stderr",
       "text": [
        "INFO:FFC:Compiler stage 1 finished in 0.00766587 seconds.\n",
        "\n"
       ]
      },
      {
       "output_type": "stream",
       "stream": "stderr",
       "text": [
        "INFO:FFC:Compiler stage 2: Computing intermediate representation\n"
       ]
      },
      {
       "output_type": "stream",
       "stream": "stderr",
       "text": [
        "INFO:FFC:-------------------------------------------------------\n"
       ]
      },
      {
       "output_type": "stream",
       "stream": "stderr",
       "text": [
        "INFO:FFC:  Computing representation of 1 elements\n"
       ]
      },
      {
       "output_type": "stream",
       "stream": "stderr",
       "text": [
        "DEBUG:FFC:  Reusing element from cache\n"
       ]
      },
      {
       "output_type": "stream",
       "stream": "stderr",
       "text": [
        "DEBUG:FFC:  Reusing element from cache\n"
       ]
      },
      {
       "output_type": "stream",
       "stream": "stderr",
       "text": [
        "INFO:FFC:  Computing representation of 1 dofmaps\n"
       ]
      },
      {
       "output_type": "stream",
       "stream": "stderr",
       "text": [
        "DEBUG:FFC:  Reusing element from cache\n"
       ]
      },
      {
       "output_type": "stream",
       "stream": "stderr",
       "text": [
        "INFO:FFC:  Computing representation of integrals\n"
       ]
      },
      {
       "output_type": "stream",
       "stream": "stderr",
       "text": [
        "INFO:FFC:  Computing tensor representation\n"
       ]
      },
      {
       "output_type": "stream",
       "stream": "stderr",
       "text": [
        "INFO:FFC:  Extracting monomial form representation from UFL form\n"
       ]
      },
      {
       "output_type": "stream",
       "stream": "stderr",
       "text": [
        "INFO:FFC:  Transforming monomial form to reference element\n"
       ]
      },
      {
       "output_type": "stream",
       "stream": "stderr",
       "text": [
        "DEBUG:FFC:  Reusing element from cache\n"
       ]
      },
      {
       "output_type": "stream",
       "stream": "stderr",
       "text": [
        "DEBUG:FFC:  Reusing element from cache\n"
       ]
      },
      {
       "output_type": "stream",
       "stream": "stderr",
       "text": [
        "DEBUG:FFC:  Reusing element from cache\n"
       ]
      },
      {
       "output_type": "stream",
       "stream": "stderr",
       "text": [
        "DEBUG:FFC:  Reusing element from cache\n"
       ]
      },
      {
       "output_type": "stream",
       "stream": "stderr",
       "text": [
        "INFO:FFC:  Precomputing integrals on reference element\n"
       ]
      },
      {
       "output_type": "stream",
       "stream": "stderr",
       "text": [
        "DEBUG:FFC:  Reusing element from cache\n"
       ]
      },
      {
       "output_type": "stream",
       "stream": "stderr",
       "text": [
        "DEBUG:FFC:  36 entries computed in 0.0018 seconds\n"
       ]
      },
      {
       "output_type": "stream",
       "stream": "stderr",
       "text": [
        "DEBUG:FFC:  Shape of reference tensor: (3, 3, 2, 2)\n"
       ]
      },
      {
       "output_type": "stream",
       "stream": "stderr",
       "text": [
        "DEBUG:FFC:  Primary multi index:   rank = 2 dims = [3, 3] indices = [[0, 0], [0, 1], [0, 2], [1, 0], [1, 1], [1, 2], [2, 0], [2, 1], [2, 2]]\n"
       ]
      },
      {
       "output_type": "stream",
       "stream": "stderr",
       "text": [
        "DEBUG:FFC:  Secondary multi index: rank = 2 dims = [2, 2] indices = [[0, 0], [0, 1], [1, 0], [1, 1]]\n"
       ]
      },
      {
       "output_type": "stream",
       "stream": "stderr",
       "text": [
        "DEBUG:FFC:  Internal multi index:  rank = 0 dims = [] indices = [[]]\n"
       ]
      },
      {
       "output_type": "stream",
       "stream": "stderr",
       "text": [
        "DEBUG:FFC:  Secondary multi index: rank = 2 dims = [2, 2] indices = [[0, 0], [0, 1], [1, 0], [1, 1]]\n"
       ]
      },
      {
       "output_type": "stream",
       "stream": "stderr",
       "text": [
        "DEBUG:FFC:  External multi index:  rank = 1 dims = [2] indices = [[0], [1]]\n"
       ]
      },
      {
       "output_type": "stream",
       "stream": "stderr",
       "text": [
        "INFO:FFC:  Precomputing integrals on reference element\n"
       ]
      },
      {
       "output_type": "stream",
       "stream": "stderr",
       "text": [
        "DEBUG:FFC:  Reusing element from cache\n"
       ]
      },
      {
       "output_type": "stream",
       "stream": "stderr",
       "text": [
        "DEBUG:FFC:  9 entries computed in 0.00135 seconds\n"
       ]
      },
      {
       "output_type": "stream",
       "stream": "stderr",
       "text": [
        "DEBUG:FFC:  Shape of reference tensor: (3, 3)\n"
       ]
      },
      {
       "output_type": "stream",
       "stream": "stderr",
       "text": [
        "DEBUG:FFC:  Primary multi index:   rank = 2 dims = [3, 3] indices = [[0, 0], [0, 1], [0, 2], [1, 0], [1, 1], [1, 2], [2, 0], [2, 1], [2, 2]]\n"
       ]
      },
      {
       "output_type": "stream",
       "stream": "stderr",
       "text": [
        "DEBUG:FFC:  Secondary multi index: rank = 0 dims = [] indices = [[]]\n"
       ]
      },
      {
       "output_type": "stream",
       "stream": "stderr",
       "text": [
        "DEBUG:FFC:  Internal multi index:  rank = 0 dims = [] indices = [[]]\n"
       ]
      },
      {
       "output_type": "stream",
       "stream": "stderr",
       "text": [
        "DEBUG:FFC:  Secondary multi index: rank = 0 dims = [] indices = [[]]\n"
       ]
      },
      {
       "output_type": "stream",
       "stream": "stderr",
       "text": [
        "DEBUG:FFC:  External multi index:  rank = 0 dims = [] indices = [[]]\n"
       ]
      },
      {
       "output_type": "stream",
       "stream": "stderr",
       "text": [
        "DEBUG:FFC:  Reusing element from cache\n"
       ]
      },
      {
       "output_type": "stream",
       "stream": "stderr",
       "text": [
        "INFO:FFC:  Computing representation of forms\n"
       ]
      },
      {
       "output_type": "stream",
       "stream": "stderr",
       "text": [
        "INFO:FFC:  \n"
       ]
      },
      {
       "output_type": "stream",
       "stream": "stderr",
       "text": [
        "INFO:FFC:Compiler stage 2 finished in 0.025619 seconds.\n",
        "\n"
       ]
      },
      {
       "output_type": "stream",
       "stream": "stderr",
       "text": [
        "INFO:FFC:Compiler stage 3: Optimizing intermediate representation\n"
       ]
      },
      {
       "output_type": "stream",
       "stream": "stderr",
       "text": [
        "INFO:FFC:--------------------------------------------------------\n"
       ]
      },
      {
       "output_type": "stream",
       "stream": "stderr",
       "text": [
        "INFO:FFC:  Skipping optimizations, add -O to optimize\n"
       ]
      },
      {
       "output_type": "stream",
       "stream": "stderr",
       "text": [
        "INFO:FFC:  \n"
       ]
      },
      {
       "output_type": "stream",
       "stream": "stderr",
       "text": [
        "INFO:FFC:Compiler stage 3 finished in 0.00155997 seconds.\n",
        "\n"
       ]
      },
      {
       "output_type": "stream",
       "stream": "stderr",
       "text": [
        "INFO:FFC:Compiler stage 4: Generating code\n"
       ]
      },
      {
       "output_type": "stream",
       "stream": "stderr",
       "text": [
        "INFO:FFC:---------------------------------\n"
       ]
      },
      {
       "output_type": "stream",
       "stream": "stderr",
       "text": [
        "INFO:FFC:  Generating code for 1 element(s)\n"
       ]
      },
      {
       "output_type": "stream",
       "stream": "stderr",
       "text": [
        "DEBUG:FFC:  Removing unused variable: tmp2\n"
       ]
      },
      {
       "output_type": "stream",
       "stream": "stderr",
       "text": [
        "DEBUG:FFC:  Removing unused variable: tmp1\n"
       ]
      },
      {
       "output_type": "stream",
       "stream": "stderr",
       "text": [
        "DEBUG:FFC:  Removing unused variable: tmp7\n"
       ]
      },
      {
       "output_type": "stream",
       "stream": "stderr",
       "text": [
        "DEBUG:FFC:  Removing unused variable: tmp6\n"
       ]
      },
      {
       "output_type": "stream",
       "stream": "stderr",
       "text": [
        "DEBUG:FFC:  Removing unused variable: tmp5\n"
       ]
      },
      {
       "output_type": "stream",
       "stream": "stderr",
       "text": [
        "DEBUG:FFC:  Removing unused variable: tt\n"
       ]
      },
      {
       "output_type": "stream",
       "stream": "stderr",
       "text": [
        "DEBUG:FFC:  Removing unused variable: ss\n"
       ]
      },
      {
       "output_type": "stream",
       "stream": "stderr",
       "text": [
        "DEBUG:FFC:  Removing unused variable: rr\n"
       ]
      },
      {
       "output_type": "stream",
       "stream": "stderr",
       "text": [
        "DEBUG:FFC:  Removing unused variable: tmp2\n"
       ]
      },
      {
       "output_type": "stream",
       "stream": "stderr",
       "text": [
        "DEBUG:FFC:  Removing unused variable: tmp1\n"
       ]
      },
      {
       "output_type": "stream",
       "stream": "stderr",
       "text": [
        "DEBUG:FFC:  Removing unused variable: tmp7\n"
       ]
      },
      {
       "output_type": "stream",
       "stream": "stderr",
       "text": [
        "DEBUG:FFC:  Removing unused variable: tmp6\n"
       ]
      },
      {
       "output_type": "stream",
       "stream": "stderr",
       "text": [
        "DEBUG:FFC:  Removing unused variable: tmp5\n"
       ]
      },
      {
       "output_type": "stream",
       "stream": "stderr",
       "text": [
        "DEBUG:FFC:  Removing unused variable: tt\n"
       ]
      },
      {
       "output_type": "stream",
       "stream": "stderr",
       "text": [
        "DEBUG:FFC:  Removing unused variable: ss\n"
       ]
      },
      {
       "output_type": "stream",
       "stream": "stderr",
       "text": [
        "DEBUG:FFC:  Removing unused variable: rr\n"
       ]
      },
      {
       "output_type": "stream",
       "stream": "stderr",
       "text": [
        "DEBUG:FFC:  Removing unused variable: tmp2\n"
       ]
      },
      {
       "output_type": "stream",
       "stream": "stderr",
       "text": [
        "DEBUG:FFC:  Removing unused variable: tmp1\n"
       ]
      },
      {
       "output_type": "stream",
       "stream": "stderr",
       "text": [
        "DEBUG:FFC:  Removing unused variable: tmp7\n"
       ]
      },
      {
       "output_type": "stream",
       "stream": "stderr",
       "text": [
        "DEBUG:FFC:  Removing unused variable: tmp6\n"
       ]
      },
      {
       "output_type": "stream",
       "stream": "stderr",
       "text": [
        "DEBUG:FFC:  Removing unused variable: tmp5\n"
       ]
      },
      {
       "output_type": "stream",
       "stream": "stderr",
       "text": [
        "DEBUG:FFC:  Removing unused variable: tt\n"
       ]
      },
      {
       "output_type": "stream",
       "stream": "stderr",
       "text": [
        "DEBUG:FFC:  Removing unused variable: ss\n"
       ]
      },
      {
       "output_type": "stream",
       "stream": "stderr",
       "text": [
        "DEBUG:FFC:  Removing unused variable: rr\n"
       ]
      },
      {
       "output_type": "stream",
       "stream": "stderr",
       "text": [
        "DEBUG:FFC:  Removing unused variable: tmp2\n"
       ]
      },
      {
       "output_type": "stream",
       "stream": "stderr",
       "text": [
        "DEBUG:FFC:  Removing unused variable: tmp1\n"
       ]
      },
      {
       "output_type": "stream",
       "stream": "stderr",
       "text": [
        "DEBUG:FFC:  Removing unused variable: tmp7\n"
       ]
      },
      {
       "output_type": "stream",
       "stream": "stderr",
       "text": [
        "DEBUG:FFC:  Removing unused variable: tmp6\n"
       ]
      },
      {
       "output_type": "stream",
       "stream": "stderr",
       "text": [
        "DEBUG:FFC:  Removing unused variable: tmp5\n"
       ]
      },
      {
       "output_type": "stream",
       "stream": "stderr",
       "text": [
        "DEBUG:FFC:  Removing unused variable: tt\n"
       ]
      },
      {
       "output_type": "stream",
       "stream": "stderr",
       "text": [
        "DEBUG:FFC:  Removing unused variable: ss\n"
       ]
      },
      {
       "output_type": "stream",
       "stream": "stderr",
       "text": [
        "DEBUG:FFC:  Removing unused variable: rr\n"
       ]
      },
      {
       "output_type": "stream",
       "stream": "stderr",
       "text": [
        "DEBUG:FFC:  Removing unused variable: tmp2\n"
       ]
      },
      {
       "output_type": "stream",
       "stream": "stderr",
       "text": [
        "DEBUG:FFC:  Removing unused variable: tmp1\n"
       ]
      },
      {
       "output_type": "stream",
       "stream": "stderr",
       "text": [
        "DEBUG:FFC:  Removing unused variable: tmp7\n"
       ]
      },
      {
       "output_type": "stream",
       "stream": "stderr",
       "text": [
        "DEBUG:FFC:  Removing unused variable: tmp6\n"
       ]
      },
      {
       "output_type": "stream",
       "stream": "stderr",
       "text": [
        "DEBUG:FFC:  Removing unused variable: tmp5\n"
       ]
      },
      {
       "output_type": "stream",
       "stream": "stderr",
       "text": [
        "DEBUG:FFC:  Removing unused variable: tt\n"
       ]
      },
      {
       "output_type": "stream",
       "stream": "stderr",
       "text": [
        "DEBUG:FFC:  Removing unused variable: ss\n"
       ]
      },
      {
       "output_type": "stream",
       "stream": "stderr",
       "text": [
        "DEBUG:FFC:  Removing unused variable: rr\n"
       ]
      },
      {
       "output_type": "stream",
       "stream": "stderr",
       "text": [
        "DEBUG:FFC:  Removing unused variable: tmp2\n"
       ]
      },
      {
       "output_type": "stream",
       "stream": "stderr",
       "text": [
        "DEBUG:FFC:  Removing unused variable: tmp1\n"
       ]
      },
      {
       "output_type": "stream",
       "stream": "stderr",
       "text": [
        "DEBUG:FFC:  Removing unused variable: tmp7\n"
       ]
      },
      {
       "output_type": "stream",
       "stream": "stderr",
       "text": [
        "DEBUG:FFC:  Removing unused variable: tmp6\n"
       ]
      },
      {
       "output_type": "stream",
       "stream": "stderr",
       "text": [
        "DEBUG:FFC:  Removing unused variable: tmp5\n"
       ]
      },
      {
       "output_type": "stream",
       "stream": "stderr",
       "text": [
        "DEBUG:FFC:  Removing unused variable: tt\n"
       ]
      },
      {
       "output_type": "stream",
       "stream": "stderr",
       "text": [
        "DEBUG:FFC:  Removing unused variable: ss\n"
       ]
      },
      {
       "output_type": "stream",
       "stream": "stderr",
       "text": [
        "DEBUG:FFC:  Removing unused variable: rr\n"
       ]
      },
      {
       "output_type": "stream",
       "stream": "stderr",
       "text": [
        "INFO:FFC:  Generating code for 1 dofmap(s)\n"
       ]
      },
      {
       "output_type": "stream",
       "stream": "stderr",
       "text": [
        "INFO:FFC:  Generating code for integrals\n"
       ]
      },
      {
       "output_type": "stream",
       "stream": "stderr",
       "text": [
        "INFO:FFC:  Generating code for forms\n"
       ]
      },
      {
       "output_type": "stream",
       "stream": "stderr",
       "text": [
        "INFO:FFC:  \n"
       ]
      },
      {
       "output_type": "stream",
       "stream": "stderr",
       "text": [
        "INFO:FFC:Compiler stage 4 finished in 0.0645351 seconds.\n",
        "\n"
       ]
      },
      {
       "output_type": "stream",
       "stream": "stderr",
       "text": [
        "INFO:FFC:Compiler stage 4.1 finished in 1.90735e-06 seconds.\n",
        "\n"
       ]
      },
      {
       "output_type": "stream",
       "stream": "stderr",
       "text": [
        "INFO:FFC:Compiler stage 5: Formatting code\n"
       ]
      },
      {
       "output_type": "stream",
       "stream": "stderr",
       "text": [
        "INFO:FFC:---------------------------------\n"
       ]
      },
      {
       "output_type": "stream",
       "stream": "stderr",
       "text": [
        "INFO:FFC:  Output written to ./ffc_form_d11293b096b99347df9139f98096c84c5488d444.h.\n"
       ]
      },
      {
       "output_type": "stream",
       "stream": "stderr",
       "text": [
        "INFO:FFC:  \n"
       ]
      },
      {
       "output_type": "stream",
       "stream": "stderr",
       "text": [
        "INFO:FFC:Compiler stage 5 finished in 0.010174 seconds.\n",
        "\n"
       ]
      },
      {
       "output_type": "stream",
       "stream": "stderr",
       "text": [
        "INFO:FFC:\u001b[1;37;32mFFC finished in 0.112493 seconds.\u001b[0m\n"
       ]
      },
      {
       "output_type": "stream",
       "stream": "stderr",
       "text": [
        "DEBUG:FFC:Compiling and linking Python extension module, this may take some time.\n"
       ]
      }
     ],
     "prompt_number": 4
    },
    {
     "cell_type": "code",
     "collapsed": false,
     "input": [
      "A = Acurl.sparray()\n",
      "Mmap = Magnetic.dofmap()\n",
      "Lmap = Lagrange.dofmap()"
     ],
     "language": "python",
     "metadata": {},
     "outputs": [],
     "prompt_number": 5
    },
    {
     "cell_type": "code",
     "collapsed": false,
     "input": [
      "print Mmap.cell_dofs(0)\n",
      "print Lmap.cell_dofs(0)"
     ],
     "language": "python",
     "metadata": {},
     "outputs": [
      {
       "output_type": "stream",
       "stream": "stdout",
       "text": [
        "[0 1 2]\n",
        "[0 1 5]\n"
       ]
      }
     ],
     "prompt_number": 6
    },
    {
     "cell_type": "code",
     "collapsed": false,
     "input": [
      "\n",
      "V = FunctionSpace(mesh, \"N1curl\", order)\n",
      "Q = FunctionSpace(mesh, \"CG\", order)\n",
      "W = MixedFunctionSpace([V,Q])\n",
      "(uMix,pMix) = TrialFunctions(W)\n",
      "(vMix,qMix) = TestFunctions(W)\n",
      "a = inner(curl(v),curl(u))*dx\n",
      "m = inner(u,v)*dx\n",
      "b = inner(vMix,grad(pMix))*dx\n",
      "\n",
      "# <codecell>\n",
      "\n",
      "A = assemble(a)\n",
      "M = assemble(m)\n",
      "Ms = M.sparray()\n",
      "A = A.sparray()\n",
      "\n",
      "# <codecell>\n",
      "\n",
      "B = assemble(b)\n",
      "B = B.sparray()[W.dim()-V.dim():,W.dim()-Q.dim():]\n",
      "ksp = PETSc.KSP().create()\n",
      "parameters['linear_algebra_backend'] = 'PETSc'\n",
      "M = assemble(m)\n",
      "M = CP.Assemble(M)\n",
      "ksp.setOperators(M)\n",
      "x = M.getVecLeft()\n",
      "ksp.setFromOptions()\n",
      "ksp.setType(ksp.Type.CG)\n",
      "ksp.setTolerances(1e-2)\n",
      "ksp.pc.setType(ksp.pc.Type.BJACOBI)\n",
      "\n",
      "# <codecell>\n",
      "\n",
      "OptDB = PETSc.Options()\n",
      "# OptDB[\"pc_factor_mat_ordering_type\"] = \"rcm\"\n",
      "# OptDB[\"pc_factor_mat_solver_package\"] = \"cholmod\"\n",
      "ksp.setFromOptions()\n",
      "C = sparse.csr_matrix((V.dim(),Q.dim()))\n",
      "IO.matToSparse\n",
      "\n",
      "# <codecell>\n",
      "\n",
      "C = sparse.csr_matrix((V.dim(),Q.dim()))\n",
      "(v) = TrialFunction(V)\n",
      "(u) = TestFunction(V)\n",
      "tic()\n",
      "for i in range(0,Q.dim()):\n",
      "    uOut = Function(V)\n",
      "    uu = Function(Q)\n",
      "    x = M.getVecRight()\n",
      "    zero = np.zeros((Q.dim(),1))[:,0]\n",
      "    zero[i] = 1\n",
      "    uu.vector()[:] = zero\n",
      "    L = assemble(inner(u, grad(uu))*dx)\n",
      "    rhs = IO.arrayToVec(L.array())\n",
      "    ksp.solve(rhs,x)\n",
      "#     x = project(grad(uu),V)\n",
      "    P = x.array\n",
      "    uOut.vector()[:] = P\n",
      "    low_values_indices = np.abs(P) < 1e-3\n",
      "    P[low_values_indices] = 0\n",
      "    P=np.around(P)\n",
      "    pn = P.nonzero()[0]\n",
      "    for j in range(0,len(pn)):\n",
      "        C[pn[j],i] = P[pn[j]]\n",
      "    del uu\n",
      "print toc()"
     ],
     "language": "python",
     "metadata": {},
     "outputs": [
      {
       "output_type": "stream",
       "stream": "stderr",
       "text": [
        "DEBUG:UFL:No integrals left after transformation, returning empty form.\n"
       ]
      },
      {
       "output_type": "stream",
       "stream": "stderr",
       "text": [
        "DEBUG:FFC:Reusing form from cache.\n"
       ]
      },
      {
       "output_type": "stream",
       "stream": "stderr",
       "text": [
        "DEBUG:UFL:No integrals left after transformation, returning empty form.\n"
       ]
      },
      {
       "output_type": "stream",
       "stream": "stderr",
       "text": [
        "DEBUG:FFC:Reusing form from cache.\n"
       ]
      },
      {
       "output_type": "stream",
       "stream": "stderr",
       "text": [
        "DEBUG:UFL:No integrals left after transformation, returning empty form.\n"
       ]
      },
      {
       "output_type": "stream",
       "stream": "stdout",
       "text": [
        "Calling FFC just-in-time (JIT) compiler, this may take some time.\n"
       ]
      },
      {
       "output_type": "stream",
       "stream": "stderr",
       "text": [
        "Level 25:FFC:Calling FFC just-in-time (JIT) compiler, this may take some time.\n"
       ]
      },
      {
       "output_type": "stream",
       "stream": "stderr",
       "text": [
        "INFO:FFC:Compiling form ffc_form_97664075f2e584e22493133c65e6ba79d3894f9b\n",
        "\n"
       ]
      },
      {
       "output_type": "stream",
       "stream": "stderr",
       "text": [
        "INFO:FFC:Compiler stage 1: Analyzing form(s)\n"
       ]
      },
      {
       "output_type": "stream",
       "stream": "stderr",
       "text": [
        "INFO:FFC:-----------------------------------\n"
       ]
      },
      {
       "output_type": "stream",
       "stream": "stderr",
       "text": [
        "INFO:FFC:  \n"
       ]
      },
      {
       "output_type": "stream",
       "stream": "stderr",
       "text": [
        "INFO:FFC:  Name:                   ''\n",
        "  Geometric dimension:    2\n",
        "  Rank:                   1\n",
        "  Arguments:              '[v_0]'\n",
        "  Argument names:         '[v0]'\n",
        "  Number of coefficients: 0\n",
        "  Coefficients:           '[]'\n",
        "  Coefficient names:      '[]'\n",
        "  Unique elements:        'Mixed<N1curl1(?), CG1(?)>'\n",
        "  Unique sub elements:    'Mixed<N1curl1(?), CG1(?)>, N1curl1(?), CG1(?)'\n",
        "  \n"
       ]
      },
      {
       "output_type": "stream",
       "stream": "stderr",
       "text": [
        "INFO:FFC:  Extracting monomial form representation from UFL form\n"
       ]
      },
      {
       "output_type": "stream",
       "stream": "stderr",
       "text": [
        "INFO:FFC:  Transforming monomial form to reference element\n"
       ]
      },
      {
       "output_type": "stream",
       "stream": "stderr",
       "text": [
        "DEBUG:FFC:  Reusing element from cache\n"
       ]
      },
      {
       "output_type": "stream",
       "stream": "stderr",
       "text": [
        "DEBUG:FFC:  Reusing element from cache\n"
       ]
      },
      {
       "output_type": "stream",
       "stream": "stderr",
       "text": [
        "DEBUG:FFC:  Reusing element from cache\n"
       ]
      },
      {
       "output_type": "stream",
       "stream": "stderr",
       "text": [
        "DEBUG:FFC:  Estimated cost of tensor representation: 1\n"
       ]
      },
      {
       "output_type": "stream",
       "stream": "stderr",
       "text": [
        "INFO:FFC:  representation:    auto --> tensor\n"
       ]
      },
      {
       "output_type": "stream",
       "stream": "stderr",
       "text": [
        "DEBUG:FFC:  Selecting quadrature degree based on total polynomial degree of integrand: 1\n"
       ]
      },
      {
       "output_type": "stream",
       "stream": "stderr",
       "text": [
        "INFO:FFC:  quadrature_degree: auto --> 1\n"
       ]
      },
      {
       "output_type": "stream",
       "stream": "stderr",
       "text": [
        "INFO:FFC:  quadrature_rule:   auto --> default\n"
       ]
      },
      {
       "output_type": "stream",
       "stream": "stderr",
       "text": [
        "INFO:FFC:  \n"
       ]
      },
      {
       "output_type": "stream",
       "stream": "stderr",
       "text": [
        "INFO:FFC:Compiler stage 1 finished in 0.010752 seconds.\n",
        "\n"
       ]
      },
      {
       "output_type": "stream",
       "stream": "stderr",
       "text": [
        "INFO:FFC:Compiler stage 2: Computing intermediate representation\n"
       ]
      },
      {
       "output_type": "stream",
       "stream": "stderr",
       "text": [
        "INFO:FFC:-------------------------------------------------------\n"
       ]
      },
      {
       "output_type": "stream",
       "stream": "stderr",
       "text": [
        "INFO:FFC:  Computing representation of 3 elements\n"
       ]
      },
      {
       "output_type": "stream",
       "stream": "stderr",
       "text": [
        "DEBUG:FFC:  Reusing element from cache\n"
       ]
      },
      {
       "output_type": "stream",
       "stream": "stderr",
       "text": [
        "DEBUG:FFC:  Reusing element from cache\n"
       ]
      },
      {
       "output_type": "stream",
       "stream": "stderr",
       "text": [
        "DEBUG:FFC:  Reusing element from cache\n"
       ]
      },
      {
       "output_type": "stream",
       "stream": "stderr",
       "text": [
        "DEBUG:FFC:  Reusing element from cache\n"
       ]
      },
      {
       "output_type": "stream",
       "stream": "stderr",
       "text": [
        "DEBUG:FFC:  Reusing element from cache\n"
       ]
      },
      {
       "output_type": "stream",
       "stream": "stderr",
       "text": [
        "DEBUG:FFC:  Reusing element from cache\n"
       ]
      },
      {
       "output_type": "stream",
       "stream": "stderr",
       "text": [
        "INFO:FFC:  Computing representation of 3 dofmaps\n"
       ]
      },
      {
       "output_type": "stream",
       "stream": "stderr",
       "text": [
        "DEBUG:FFC:  Reusing element from cache\n"
       ]
      },
      {
       "output_type": "stream",
       "stream": "stderr",
       "text": [
        "DEBUG:FFC:  Reusing element from cache\n"
       ]
      },
      {
       "output_type": "stream",
       "stream": "stderr",
       "text": [
        "DEBUG:FFC:  Reusing element from cache\n"
       ]
      },
      {
       "output_type": "stream",
       "stream": "stderr",
       "text": [
        "INFO:FFC:  Computing representation of integrals\n"
       ]
      },
      {
       "output_type": "stream",
       "stream": "stderr",
       "text": [
        "INFO:FFC:  Computing tensor representation\n"
       ]
      },
      {
       "output_type": "stream",
       "stream": "stderr",
       "text": [
        "INFO:FFC:  Extracting monomial form representation from UFL form\n"
       ]
      },
      {
       "output_type": "stream",
       "stream": "stderr",
       "text": [
        "INFO:FFC:  Transforming monomial form to reference element\n"
       ]
      },
      {
       "output_type": "stream",
       "stream": "stderr",
       "text": [
        "DEBUG:FFC:  Reusing element from cache\n"
       ]
      },
      {
       "output_type": "stream",
       "stream": "stderr",
       "text": [
        "DEBUG:FFC:  Reusing element from cache\n"
       ]
      },
      {
       "output_type": "stream",
       "stream": "stderr",
       "text": [
        "INFO:FFC:  Precomputing integrals on reference element\n"
       ]
      },
      {
       "output_type": "stream",
       "stream": "stderr",
       "text": [
        "DEBUG:FFC:  Reusing element from cache\n"
       ]
      },
      {
       "output_type": "stream",
       "stream": "stderr",
       "text": [
        "DEBUG:FFC:  12 entries computed in 0.00175 seconds\n"
       ]
      },
      {
       "output_type": "stream",
       "stream": "stderr",
       "text": [
        "DEBUG:FFC:  Shape of reference tensor: (6, 2)\n"
       ]
      },
      {
       "output_type": "stream",
       "stream": "stderr",
       "text": [
        "DEBUG:FFC:  Primary multi index:   rank = 1 dims = [6] indices = [[0], [1], [2], [3], [4], [5]]\n"
       ]
      },
      {
       "output_type": "stream",
       "stream": "stderr",
       "text": [
        "DEBUG:FFC:  Secondary multi index: rank = 1 dims = [2] indices = [[0], [1]]\n"
       ]
      },
      {
       "output_type": "stream",
       "stream": "stderr",
       "text": [
        "DEBUG:FFC:  Internal multi index:  rank = 0 dims = [] indices = [[]]\n"
       ]
      },
      {
       "output_type": "stream",
       "stream": "stderr",
       "text": [
        "DEBUG:FFC:  Secondary multi index: rank = 1 dims = [2] indices = [[0], [1]]\n"
       ]
      },
      {
       "output_type": "stream",
       "stream": "stderr",
       "text": [
        "DEBUG:FFC:  External multi index:  rank = 0 dims = [] indices = [[]]\n"
       ]
      },
      {
       "output_type": "stream",
       "stream": "stderr",
       "text": [
        "DEBUG:FFC:  Reusing element from cache\n"
       ]
      },
      {
       "output_type": "stream",
       "stream": "stderr",
       "text": [
        "INFO:FFC:  Computing representation of forms\n"
       ]
      },
      {
       "output_type": "stream",
       "stream": "stderr",
       "text": [
        "INFO:FFC:  \n"
       ]
      },
      {
       "output_type": "stream",
       "stream": "stderr",
       "text": [
        "INFO:FFC:Compiler stage 2 finished in 0.0299258 seconds.\n",
        "\n"
       ]
      },
      {
       "output_type": "stream",
       "stream": "stderr",
       "text": [
        "INFO:FFC:Compiler stage 3: Optimizing intermediate representation\n"
       ]
      },
      {
       "output_type": "stream",
       "stream": "stderr",
       "text": [
        "INFO:FFC:--------------------------------------------------------\n"
       ]
      },
      {
       "output_type": "stream",
       "stream": "stderr",
       "text": [
        "INFO:FFC:  Skipping optimizations, add -O to optimize\n"
       ]
      },
      {
       "output_type": "stream",
       "stream": "stderr",
       "text": [
        "INFO:FFC:  \n"
       ]
      },
      {
       "output_type": "stream",
       "stream": "stderr",
       "text": [
        "INFO:FFC:Compiler stage 3 finished in 0.00570202 seconds.\n",
        "\n"
       ]
      },
      {
       "output_type": "stream",
       "stream": "stderr",
       "text": [
        "INFO:FFC:Compiler stage 4: Generating code\n"
       ]
      },
      {
       "output_type": "stream",
       "stream": "stderr",
       "text": [
        "INFO:FFC:---------------------------------\n"
       ]
      },
      {
       "output_type": "stream",
       "stream": "stderr",
       "text": [
        "INFO:FFC:  Generating code for 3 element(s)\n"
       ]
      },
      {
       "output_type": "stream",
       "stream": "stderr",
       "text": [
        "DEBUG:FFC:  Removing unused variable: tmp2\n"
       ]
      },
      {
       "output_type": "stream",
       "stream": "stderr",
       "text": [
        "DEBUG:FFC:  Removing unused variable: tmp1\n"
       ]
      },
      {
       "output_type": "stream",
       "stream": "stderr",
       "text": [
        "DEBUG:FFC:  Removing unused variable: tmp7\n"
       ]
      },
      {
       "output_type": "stream",
       "stream": "stderr",
       "text": [
        "DEBUG:FFC:  Removing unused variable: tmp6\n"
       ]
      },
      {
       "output_type": "stream",
       "stream": "stderr",
       "text": [
        "DEBUG:FFC:  Removing unused variable: tmp5\n"
       ]
      },
      {
       "output_type": "stream",
       "stream": "stderr",
       "text": [
        "DEBUG:FFC:  Removing unused variable: tt\n"
       ]
      },
      {
       "output_type": "stream",
       "stream": "stderr",
       "text": [
        "DEBUG:FFC:  Removing unused variable: ss\n"
       ]
      },
      {
       "output_type": "stream",
       "stream": "stderr",
       "text": [
        "DEBUG:FFC:  Removing unused variable: rr\n"
       ]
      },
      {
       "output_type": "stream",
       "stream": "stderr",
       "text": [
        "DEBUG:FFC:  Removing unused variable: tmp2\n"
       ]
      },
      {
       "output_type": "stream",
       "stream": "stderr",
       "text": [
        "DEBUG:FFC:  Removing unused variable: tmp1\n"
       ]
      },
      {
       "output_type": "stream",
       "stream": "stderr",
       "text": [
        "DEBUG:FFC:  Removing unused variable: tmp7\n"
       ]
      },
      {
       "output_type": "stream",
       "stream": "stderr",
       "text": [
        "DEBUG:FFC:  Removing unused variable: tmp6\n"
       ]
      },
      {
       "output_type": "stream",
       "stream": "stderr",
       "text": [
        "DEBUG:FFC:  Removing unused variable: tmp5\n"
       ]
      },
      {
       "output_type": "stream",
       "stream": "stderr",
       "text": [
        "DEBUG:FFC:  Removing unused variable: tt\n"
       ]
      },
      {
       "output_type": "stream",
       "stream": "stderr",
       "text": [
        "DEBUG:FFC:  Removing unused variable: ss\n"
       ]
      },
      {
       "output_type": "stream",
       "stream": "stderr",
       "text": [
        "DEBUG:FFC:  Removing unused variable: rr\n"
       ]
      },
      {
       "output_type": "stream",
       "stream": "stderr",
       "text": [
        "DEBUG:FFC:  Removing unused variable: tmp2\n"
       ]
      },
      {
       "output_type": "stream",
       "stream": "stderr",
       "text": [
        "DEBUG:FFC:  Removing unused variable: tmp1\n"
       ]
      },
      {
       "output_type": "stream",
       "stream": "stderr",
       "text": [
        "DEBUG:FFC:  Removing unused variable: tmp7\n"
       ]
      },
      {
       "output_type": "stream",
       "stream": "stderr",
       "text": [
        "DEBUG:FFC:  Removing unused variable: tmp6\n"
       ]
      },
      {
       "output_type": "stream",
       "stream": "stderr",
       "text": [
        "DEBUG:FFC:  Removing unused variable: tmp5\n"
       ]
      },
      {
       "output_type": "stream",
       "stream": "stderr",
       "text": [
        "DEBUG:FFC:  Removing unused variable: tt\n"
       ]
      },
      {
       "output_type": "stream",
       "stream": "stderr",
       "text": [
        "DEBUG:FFC:  Removing unused variable: ss\n"
       ]
      },
      {
       "output_type": "stream",
       "stream": "stderr",
       "text": [
        "DEBUG:FFC:  Removing unused variable: rr\n"
       ]
      },
      {
       "output_type": "stream",
       "stream": "stderr",
       "text": [
        "DEBUG:FFC:  Removing unused variable: tmp2\n"
       ]
      },
      {
       "output_type": "stream",
       "stream": "stderr",
       "text": [
        "DEBUG:FFC:  Removing unused variable: tmp1\n"
       ]
      },
      {
       "output_type": "stream",
       "stream": "stderr",
       "text": [
        "DEBUG:FFC:  Removing unused variable: tmp7\n"
       ]
      },
      {
       "output_type": "stream",
       "stream": "stderr",
       "text": [
        "DEBUG:FFC:  Removing unused variable: tmp6\n"
       ]
      },
      {
       "output_type": "stream",
       "stream": "stderr",
       "text": [
        "DEBUG:FFC:  Removing unused variable: tmp5\n"
       ]
      },
      {
       "output_type": "stream",
       "stream": "stderr",
       "text": [
        "DEBUG:FFC:  Removing unused variable: tt\n"
       ]
      },
      {
       "output_type": "stream",
       "stream": "stderr",
       "text": [
        "DEBUG:FFC:  Removing unused variable: ss\n"
       ]
      },
      {
       "output_type": "stream",
       "stream": "stderr",
       "text": [
        "DEBUG:FFC:  Removing unused variable: rr\n"
       ]
      },
      {
       "output_type": "stream",
       "stream": "stderr",
       "text": [
        "DEBUG:FFC:  Removing unused variable: tmp2\n"
       ]
      },
      {
       "output_type": "stream",
       "stream": "stderr",
       "text": [
        "DEBUG:FFC:  Removing unused variable: tmp1\n"
       ]
      },
      {
       "output_type": "stream",
       "stream": "stderr",
       "text": [
        "DEBUG:FFC:  Removing unused variable: tmp7\n"
       ]
      },
      {
       "output_type": "stream",
       "stream": "stderr",
       "text": [
        "DEBUG:FFC:  Removing unused variable: tmp6\n"
       ]
      },
      {
       "output_type": "stream",
       "stream": "stderr",
       "text": [
        "DEBUG:FFC:  Removing unused variable: tmp5\n"
       ]
      },
      {
       "output_type": "stream",
       "stream": "stderr",
       "text": [
        "DEBUG:FFC:  Removing unused variable: tt\n"
       ]
      },
      {
       "output_type": "stream",
       "stream": "stderr",
       "text": [
        "DEBUG:FFC:  Removing unused variable: ss\n"
       ]
      },
      {
       "output_type": "stream",
       "stream": "stderr",
       "text": [
        "DEBUG:FFC:  Removing unused variable: rr\n"
       ]
      },
      {
       "output_type": "stream",
       "stream": "stderr",
       "text": [
        "DEBUG:FFC:  Removing unused variable: tmp2\n"
       ]
      },
      {
       "output_type": "stream",
       "stream": "stderr",
       "text": [
        "DEBUG:FFC:  Removing unused variable: tmp1\n"
       ]
      },
      {
       "output_type": "stream",
       "stream": "stderr",
       "text": [
        "DEBUG:FFC:  Removing unused variable: tmp7\n"
       ]
      },
      {
       "output_type": "stream",
       "stream": "stderr",
       "text": [
        "DEBUG:FFC:  Removing unused variable: tmp6\n"
       ]
      },
      {
       "output_type": "stream",
       "stream": "stderr",
       "text": [
        "DEBUG:FFC:  Removing unused variable: tmp5\n"
       ]
      },
      {
       "output_type": "stream",
       "stream": "stderr",
       "text": [
        "DEBUG:FFC:  Removing unused variable: tt\n"
       ]
      },
      {
       "output_type": "stream",
       "stream": "stderr",
       "text": [
        "DEBUG:FFC:  Removing unused variable: ss\n"
       ]
      },
      {
       "output_type": "stream",
       "stream": "stderr",
       "text": [
        "DEBUG:FFC:  Removing unused variable: rr\n"
       ]
      },
      {
       "output_type": "stream",
       "stream": "stderr",
       "text": [
        "DEBUG:FFC:  Removing unused variable: tmp2\n"
       ]
      },
      {
       "output_type": "stream",
       "stream": "stderr",
       "text": [
        "DEBUG:FFC:  Removing unused variable: tmp1\n"
       ]
      },
      {
       "output_type": "stream",
       "stream": "stderr",
       "text": [
        "DEBUG:FFC:  Removing unused variable: tmp7\n"
       ]
      },
      {
       "output_type": "stream",
       "stream": "stderr",
       "text": [
        "DEBUG:FFC:  Removing unused variable: tmp6\n"
       ]
      },
      {
       "output_type": "stream",
       "stream": "stderr",
       "text": [
        "DEBUG:FFC:  Removing unused variable: tmp5\n"
       ]
      },
      {
       "output_type": "stream",
       "stream": "stderr",
       "text": [
        "DEBUG:FFC:  Removing unused variable: tt\n"
       ]
      },
      {
       "output_type": "stream",
       "stream": "stderr",
       "text": [
        "DEBUG:FFC:  Removing unused variable: ss\n"
       ]
      },
      {
       "output_type": "stream",
       "stream": "stderr",
       "text": [
        "DEBUG:FFC:  Removing unused variable: rr\n"
       ]
      },
      {
       "output_type": "stream",
       "stream": "stderr",
       "text": [
        "DEBUG:FFC:  Removing unused variable: tmp2\n"
       ]
      },
      {
       "output_type": "stream",
       "stream": "stderr",
       "text": [
        "DEBUG:FFC:  Removing unused variable: tmp1\n"
       ]
      },
      {
       "output_type": "stream",
       "stream": "stderr",
       "text": [
        "DEBUG:FFC:  Removing unused variable: tmp7\n"
       ]
      },
      {
       "output_type": "stream",
       "stream": "stderr",
       "text": [
        "DEBUG:FFC:  Removing unused variable: tmp6\n"
       ]
      },
      {
       "output_type": "stream",
       "stream": "stderr",
       "text": [
        "DEBUG:FFC:  Removing unused variable: tmp5\n"
       ]
      },
      {
       "output_type": "stream",
       "stream": "stderr",
       "text": [
        "DEBUG:FFC:  Removing unused variable: tt\n"
       ]
      },
      {
       "output_type": "stream",
       "stream": "stderr",
       "text": [
        "DEBUG:FFC:  Removing unused variable: ss\n"
       ]
      },
      {
       "output_type": "stream",
       "stream": "stderr",
       "text": [
        "DEBUG:FFC:  Removing unused variable: rr\n"
       ]
      },
      {
       "output_type": "stream",
       "stream": "stderr",
       "text": [
        "DEBUG:FFC:  Removing unused variable: tmp2\n"
       ]
      },
      {
       "output_type": "stream",
       "stream": "stderr",
       "text": [
        "DEBUG:FFC:  Removing unused variable: tmp1\n"
       ]
      },
      {
       "output_type": "stream",
       "stream": "stderr",
       "text": [
        "DEBUG:FFC:  Removing unused variable: tmp7\n"
       ]
      },
      {
       "output_type": "stream",
       "stream": "stderr",
       "text": [
        "DEBUG:FFC:  Removing unused variable: tmp6\n"
       ]
      },
      {
       "output_type": "stream",
       "stream": "stderr",
       "text": [
        "DEBUG:FFC:  Removing unused variable: tmp5\n"
       ]
      },
      {
       "output_type": "stream",
       "stream": "stderr",
       "text": [
        "DEBUG:FFC:  Removing unused variable: tt\n"
       ]
      },
      {
       "output_type": "stream",
       "stream": "stderr",
       "text": [
        "DEBUG:FFC:  Removing unused variable: ss\n"
       ]
      },
      {
       "output_type": "stream",
       "stream": "stderr",
       "text": [
        "DEBUG:FFC:  Removing unused variable: rr\n"
       ]
      },
      {
       "output_type": "stream",
       "stream": "stderr",
       "text": [
        "DEBUG:FFC:  Removing unused variable: tmp2\n"
       ]
      },
      {
       "output_type": "stream",
       "stream": "stderr",
       "text": [
        "DEBUG:FFC:  Removing unused variable: tmp1\n"
       ]
      },
      {
       "output_type": "stream",
       "stream": "stderr",
       "text": [
        "DEBUG:FFC:  Removing unused variable: tmp7\n"
       ]
      },
      {
       "output_type": "stream",
       "stream": "stderr",
       "text": [
        "DEBUG:FFC:  Removing unused variable: tmp6\n"
       ]
      },
      {
       "output_type": "stream",
       "stream": "stderr",
       "text": [
        "DEBUG:FFC:  Removing unused variable: tmp5\n"
       ]
      },
      {
       "output_type": "stream",
       "stream": "stderr",
       "text": [
        "DEBUG:FFC:  Removing unused variable: tt\n"
       ]
      },
      {
       "output_type": "stream",
       "stream": "stderr",
       "text": [
        "DEBUG:FFC:  Removing unused variable: ss\n"
       ]
      },
      {
       "output_type": "stream",
       "stream": "stderr",
       "text": [
        "DEBUG:FFC:  Removing unused variable: rr\n"
       ]
      },
      {
       "output_type": "stream",
       "stream": "stderr",
       "text": [
        "DEBUG:FFC:  Removing unused variable: tmp2\n"
       ]
      },
      {
       "output_type": "stream",
       "stream": "stderr",
       "text": [
        "DEBUG:FFC:  Removing unused variable: tmp1\n"
       ]
      },
      {
       "output_type": "stream",
       "stream": "stderr",
       "text": [
        "DEBUG:FFC:  Removing unused variable: tmp7\n"
       ]
      },
      {
       "output_type": "stream",
       "stream": "stderr",
       "text": [
        "DEBUG:FFC:  Removing unused variable: tmp6\n"
       ]
      },
      {
       "output_type": "stream",
       "stream": "stderr",
       "text": [
        "DEBUG:FFC:  Removing unused variable: tmp5\n"
       ]
      },
      {
       "output_type": "stream",
       "stream": "stderr",
       "text": [
        "DEBUG:FFC:  Removing unused variable: tt\n"
       ]
      },
      {
       "output_type": "stream",
       "stream": "stderr",
       "text": [
        "DEBUG:FFC:  Removing unused variable: ss\n"
       ]
      },
      {
       "output_type": "stream",
       "stream": "stderr",
       "text": [
        "DEBUG:FFC:  Removing unused variable: rr\n"
       ]
      },
      {
       "output_type": "stream",
       "stream": "stderr",
       "text": [
        "DEBUG:FFC:  Removing unused variable: tmp2\n"
       ]
      },
      {
       "output_type": "stream",
       "stream": "stderr",
       "text": [
        "DEBUG:FFC:  Removing unused variable: tmp1\n"
       ]
      },
      {
       "output_type": "stream",
       "stream": "stderr",
       "text": [
        "DEBUG:FFC:  Removing unused variable: tmp7\n"
       ]
      },
      {
       "output_type": "stream",
       "stream": "stderr",
       "text": [
        "DEBUG:FFC:  Removing unused variable: tmp6\n"
       ]
      },
      {
       "output_type": "stream",
       "stream": "stderr",
       "text": [
        "DEBUG:FFC:  Removing unused variable: tmp5\n"
       ]
      },
      {
       "output_type": "stream",
       "stream": "stderr",
       "text": [
        "DEBUG:FFC:  Removing unused variable: tt\n"
       ]
      },
      {
       "output_type": "stream",
       "stream": "stderr",
       "text": [
        "DEBUG:FFC:  Removing unused variable: ss\n"
       ]
      },
      {
       "output_type": "stream",
       "stream": "stderr",
       "text": [
        "DEBUG:FFC:  Removing unused variable: rr\n"
       ]
      },
      {
       "output_type": "stream",
       "stream": "stderr",
       "text": [
        "DEBUG:FFC:  Removing unused variable: tmp2\n"
       ]
      },
      {
       "output_type": "stream",
       "stream": "stderr",
       "text": [
        "DEBUG:FFC:  Removing unused variable: tmp1\n"
       ]
      },
      {
       "output_type": "stream",
       "stream": "stderr",
       "text": [
        "DEBUG:FFC:  Removing unused variable: tmp7\n"
       ]
      },
      {
       "output_type": "stream",
       "stream": "stderr",
       "text": [
        "DEBUG:FFC:  Removing unused variable: tmp6\n"
       ]
      },
      {
       "output_type": "stream",
       "stream": "stderr",
       "text": [
        "DEBUG:FFC:  Removing unused variable: tmp5\n"
       ]
      },
      {
       "output_type": "stream",
       "stream": "stderr",
       "text": [
        "DEBUG:FFC:  Removing unused variable: tt\n"
       ]
      },
      {
       "output_type": "stream",
       "stream": "stderr",
       "text": [
        "DEBUG:FFC:  Removing unused variable: ss\n"
       ]
      },
      {
       "output_type": "stream",
       "stream": "stderr",
       "text": [
        "DEBUG:FFC:  Removing unused variable: rr\n"
       ]
      },
      {
       "output_type": "stream",
       "stream": "stderr",
       "text": [
        "DEBUG:FFC:  Removing unused variable: tmp2\n"
       ]
      },
      {
       "output_type": "stream",
       "stream": "stderr",
       "text": [
        "DEBUG:FFC:  Removing unused variable: tmp1\n"
       ]
      },
      {
       "output_type": "stream",
       "stream": "stderr",
       "text": [
        "DEBUG:FFC:  Removing unused variable: tmp7\n"
       ]
      },
      {
       "output_type": "stream",
       "stream": "stderr",
       "text": [
        "DEBUG:FFC:  Removing unused variable: tmp6\n"
       ]
      },
      {
       "output_type": "stream",
       "stream": "stderr",
       "text": [
        "DEBUG:FFC:  Removing unused variable: tmp5\n"
       ]
      },
      {
       "output_type": "stream",
       "stream": "stderr",
       "text": [
        "DEBUG:FFC:  Removing unused variable: tt\n"
       ]
      },
      {
       "output_type": "stream",
       "stream": "stderr",
       "text": [
        "DEBUG:FFC:  Removing unused variable: ss\n"
       ]
      },
      {
       "output_type": "stream",
       "stream": "stderr",
       "text": [
        "DEBUG:FFC:  Removing unused variable: rr\n"
       ]
      },
      {
       "output_type": "stream",
       "stream": "stderr",
       "text": [
        "DEBUG:FFC:  Removing unused variable: tmp2\n"
       ]
      },
      {
       "output_type": "stream",
       "stream": "stderr",
       "text": [
        "DEBUG:FFC:  Removing unused variable: tmp1\n"
       ]
      },
      {
       "output_type": "stream",
       "stream": "stderr",
       "text": [
        "DEBUG:FFC:  Removing unused variable: tmp7\n"
       ]
      },
      {
       "output_type": "stream",
       "stream": "stderr",
       "text": [
        "DEBUG:FFC:  Removing unused variable: tmp6\n"
       ]
      },
      {
       "output_type": "stream",
       "stream": "stderr",
       "text": [
        "DEBUG:FFC:  Removing unused variable: tmp5\n"
       ]
      },
      {
       "output_type": "stream",
       "stream": "stderr",
       "text": [
        "DEBUG:FFC:  Removing unused variable: tt\n"
       ]
      },
      {
       "output_type": "stream",
       "stream": "stderr",
       "text": [
        "DEBUG:FFC:  Removing unused variable: ss\n"
       ]
      },
      {
       "output_type": "stream",
       "stream": "stderr",
       "text": [
        "DEBUG:FFC:  Removing unused variable: rr\n"
       ]
      },
      {
       "output_type": "stream",
       "stream": "stderr",
       "text": [
        "DEBUG:FFC:  Removing unused variable: tmp2\n"
       ]
      },
      {
       "output_type": "stream",
       "stream": "stderr",
       "text": [
        "DEBUG:FFC:  Removing unused variable: tmp1\n"
       ]
      },
      {
       "output_type": "stream",
       "stream": "stderr",
       "text": [
        "DEBUG:FFC:  Removing unused variable: tmp7\n"
       ]
      },
      {
       "output_type": "stream",
       "stream": "stderr",
       "text": [
        "DEBUG:FFC:  Removing unused variable: tmp6\n"
       ]
      },
      {
       "output_type": "stream",
       "stream": "stderr",
       "text": [
        "DEBUG:FFC:  Removing unused variable: tmp5\n"
       ]
      },
      {
       "output_type": "stream",
       "stream": "stderr",
       "text": [
        "DEBUG:FFC:  Removing unused variable: tt\n"
       ]
      },
      {
       "output_type": "stream",
       "stream": "stderr",
       "text": [
        "DEBUG:FFC:  Removing unused variable: ss\n"
       ]
      },
      {
       "output_type": "stream",
       "stream": "stderr",
       "text": [
        "DEBUG:FFC:  Removing unused variable: rr\n"
       ]
      },
      {
       "output_type": "stream",
       "stream": "stderr",
       "text": [
        "DEBUG:FFC:  Removing unused variable: tmp2\n"
       ]
      },
      {
       "output_type": "stream",
       "stream": "stderr",
       "text": [
        "DEBUG:FFC:  Removing unused variable: tmp1\n"
       ]
      },
      {
       "output_type": "stream",
       "stream": "stderr",
       "text": [
        "DEBUG:FFC:  Removing unused variable: tmp7\n"
       ]
      },
      {
       "output_type": "stream",
       "stream": "stderr",
       "text": [
        "DEBUG:FFC:  Removing unused variable: tmp6\n"
       ]
      },
      {
       "output_type": "stream",
       "stream": "stderr",
       "text": [
        "DEBUG:FFC:  Removing unused variable: tmp5\n"
       ]
      },
      {
       "output_type": "stream",
       "stream": "stderr",
       "text": [
        "DEBUG:FFC:  Removing unused variable: tt\n"
       ]
      },
      {
       "output_type": "stream",
       "stream": "stderr",
       "text": [
        "DEBUG:FFC:  Removing unused variable: ss\n"
       ]
      },
      {
       "output_type": "stream",
       "stream": "stderr",
       "text": [
        "DEBUG:FFC:  Removing unused variable: rr\n"
       ]
      },
      {
       "output_type": "stream",
       "stream": "stderr",
       "text": [
        "DEBUG:FFC:  Removing unused variable: tmp2\n"
       ]
      },
      {
       "output_type": "stream",
       "stream": "stderr",
       "text": [
        "DEBUG:FFC:  Removing unused variable: tmp1\n"
       ]
      },
      {
       "output_type": "stream",
       "stream": "stderr",
       "text": [
        "DEBUG:FFC:  Removing unused variable: tmp7\n"
       ]
      },
      {
       "output_type": "stream",
       "stream": "stderr",
       "text": [
        "DEBUG:FFC:  Removing unused variable: tmp6\n"
       ]
      },
      {
       "output_type": "stream",
       "stream": "stderr",
       "text": [
        "DEBUG:FFC:  Removing unused variable: tmp5\n"
       ]
      },
      {
       "output_type": "stream",
       "stream": "stderr",
       "text": [
        "DEBUG:FFC:  Removing unused variable: tt\n"
       ]
      },
      {
       "output_type": "stream",
       "stream": "stderr",
       "text": [
        "DEBUG:FFC:  Removing unused variable: ss\n"
       ]
      },
      {
       "output_type": "stream",
       "stream": "stderr",
       "text": [
        "DEBUG:FFC:  Removing unused variable: rr\n"
       ]
      },
      {
       "output_type": "stream",
       "stream": "stderr",
       "text": [
        "DEBUG:FFC:  Removing unused variable: tmp2\n"
       ]
      },
      {
       "output_type": "stream",
       "stream": "stderr",
       "text": [
        "DEBUG:FFC:  Removing unused variable: tmp1\n"
       ]
      },
      {
       "output_type": "stream",
       "stream": "stderr",
       "text": [
        "DEBUG:FFC:  Removing unused variable: tmp7\n"
       ]
      },
      {
       "output_type": "stream",
       "stream": "stderr",
       "text": [
        "DEBUG:FFC:  Removing unused variable: tmp6\n"
       ]
      },
      {
       "output_type": "stream",
       "stream": "stderr",
       "text": [
        "DEBUG:FFC:  Removing unused variable: tmp5\n"
       ]
      },
      {
       "output_type": "stream",
       "stream": "stderr",
       "text": [
        "DEBUG:FFC:  Removing unused variable: tt\n"
       ]
      },
      {
       "output_type": "stream",
       "stream": "stderr",
       "text": [
        "DEBUG:FFC:  Removing unused variable: ss\n"
       ]
      },
      {
       "output_type": "stream",
       "stream": "stderr",
       "text": [
        "DEBUG:FFC:  Removing unused variable: rr\n"
       ]
      },
      {
       "output_type": "stream",
       "stream": "stderr",
       "text": [
        "DEBUG:FFC:  Removing unused variable: tmp2\n"
       ]
      },
      {
       "output_type": "stream",
       "stream": "stderr",
       "text": [
        "DEBUG:FFC:  Removing unused variable: tmp1\n"
       ]
      },
      {
       "output_type": "stream",
       "stream": "stderr",
       "text": [
        "DEBUG:FFC:  Removing unused variable: tmp7\n"
       ]
      },
      {
       "output_type": "stream",
       "stream": "stderr",
       "text": [
        "DEBUG:FFC:  Removing unused variable: tmp6\n"
       ]
      },
      {
       "output_type": "stream",
       "stream": "stderr",
       "text": [
        "DEBUG:FFC:  Removing unused variable: tmp5\n"
       ]
      },
      {
       "output_type": "stream",
       "stream": "stderr",
       "text": [
        "DEBUG:FFC:  Removing unused variable: tt\n"
       ]
      },
      {
       "output_type": "stream",
       "stream": "stderr",
       "text": [
        "DEBUG:FFC:  Removing unused variable: ss\n"
       ]
      },
      {
       "output_type": "stream",
       "stream": "stderr",
       "text": [
        "DEBUG:FFC:  Removing unused variable: rr\n"
       ]
      },
      {
       "output_type": "stream",
       "stream": "stderr",
       "text": [
        "DEBUG:FFC:  Removing unused variable: tmp2\n"
       ]
      },
      {
       "output_type": "stream",
       "stream": "stderr",
       "text": [
        "DEBUG:FFC:  Removing unused variable: tmp1\n"
       ]
      },
      {
       "output_type": "stream",
       "stream": "stderr",
       "text": [
        "DEBUG:FFC:  Removing unused variable: tmp7\n"
       ]
      },
      {
       "output_type": "stream",
       "stream": "stderr",
       "text": [
        "DEBUG:FFC:  Removing unused variable: tmp6\n"
       ]
      },
      {
       "output_type": "stream",
       "stream": "stderr",
       "text": [
        "DEBUG:FFC:  Removing unused variable: tmp5\n"
       ]
      },
      {
       "output_type": "stream",
       "stream": "stderr",
       "text": [
        "DEBUG:FFC:  Removing unused variable: tt\n"
       ]
      },
      {
       "output_type": "stream",
       "stream": "stderr",
       "text": [
        "DEBUG:FFC:  Removing unused variable: ss\n"
       ]
      },
      {
       "output_type": "stream",
       "stream": "stderr",
       "text": [
        "DEBUG:FFC:  Removing unused variable: rr\n"
       ]
      },
      {
       "output_type": "stream",
       "stream": "stderr",
       "text": [
        "DEBUG:FFC:  Removing unused variable: tmp2\n"
       ]
      },
      {
       "output_type": "stream",
       "stream": "stderr",
       "text": [
        "DEBUG:FFC:  Removing unused variable: tmp1\n"
       ]
      },
      {
       "output_type": "stream",
       "stream": "stderr",
       "text": [
        "DEBUG:FFC:  Removing unused variable: tmp7\n"
       ]
      },
      {
       "output_type": "stream",
       "stream": "stderr",
       "text": [
        "DEBUG:FFC:  Removing unused variable: tmp6\n"
       ]
      },
      {
       "output_type": "stream",
       "stream": "stderr",
       "text": [
        "DEBUG:FFC:  Removing unused variable: tmp5\n"
       ]
      },
      {
       "output_type": "stream",
       "stream": "stderr",
       "text": [
        "DEBUG:FFC:  Removing unused variable: tt\n"
       ]
      },
      {
       "output_type": "stream",
       "stream": "stderr",
       "text": [
        "DEBUG:FFC:  Removing unused variable: ss\n"
       ]
      },
      {
       "output_type": "stream",
       "stream": "stderr",
       "text": [
        "DEBUG:FFC:  Removing unused variable: rr\n"
       ]
      },
      {
       "output_type": "stream",
       "stream": "stderr",
       "text": [
        "DEBUG:FFC:  Removing unused variable: tmp2\n"
       ]
      },
      {
       "output_type": "stream",
       "stream": "stderr",
       "text": [
        "DEBUG:FFC:  Removing unused variable: tmp1\n"
       ]
      },
      {
       "output_type": "stream",
       "stream": "stderr",
       "text": [
        "DEBUG:FFC:  Removing unused variable: tmp7\n"
       ]
      },
      {
       "output_type": "stream",
       "stream": "stderr",
       "text": [
        "DEBUG:FFC:  Removing unused variable: tmp6\n"
       ]
      },
      {
       "output_type": "stream",
       "stream": "stderr",
       "text": [
        "DEBUG:FFC:  Removing unused variable: tmp5\n"
       ]
      },
      {
       "output_type": "stream",
       "stream": "stderr",
       "text": [
        "DEBUG:FFC:  Removing unused variable: tt\n"
       ]
      },
      {
       "output_type": "stream",
       "stream": "stderr",
       "text": [
        "DEBUG:FFC:  Removing unused variable: ss\n"
       ]
      },
      {
       "output_type": "stream",
       "stream": "stderr",
       "text": [
        "DEBUG:FFC:  Removing unused variable: rr\n"
       ]
      },
      {
       "output_type": "stream",
       "stream": "stderr",
       "text": [
        "DEBUG:FFC:  Removing unused variable: tmp2\n"
       ]
      },
      {
       "output_type": "stream",
       "stream": "stderr",
       "text": [
        "DEBUG:FFC:  Removing unused variable: tmp1\n"
       ]
      },
      {
       "output_type": "stream",
       "stream": "stderr",
       "text": [
        "DEBUG:FFC:  Removing unused variable: tmp7\n"
       ]
      },
      {
       "output_type": "stream",
       "stream": "stderr",
       "text": [
        "DEBUG:FFC:  Removing unused variable: tmp6\n"
       ]
      },
      {
       "output_type": "stream",
       "stream": "stderr",
       "text": [
        "DEBUG:FFC:  Removing unused variable: tmp5\n"
       ]
      },
      {
       "output_type": "stream",
       "stream": "stderr",
       "text": [
        "DEBUG:FFC:  Removing unused variable: tt\n"
       ]
      },
      {
       "output_type": "stream",
       "stream": "stderr",
       "text": [
        "DEBUG:FFC:  Removing unused variable: ss\n"
       ]
      },
      {
       "output_type": "stream",
       "stream": "stderr",
       "text": [
        "DEBUG:FFC:  Removing unused variable: rr\n"
       ]
      },
      {
       "output_type": "stream",
       "stream": "stderr",
       "text": [
        "INFO:FFC:  Generating code for 3 dofmap(s)\n"
       ]
      },
      {
       "output_type": "stream",
       "stream": "stderr",
       "text": [
        "INFO:FFC:  Generating code for integrals\n"
       ]
      },
      {
       "output_type": "stream",
       "stream": "stderr",
       "text": [
        "INFO:FFC:  Generating code for forms\n"
       ]
      },
      {
       "output_type": "stream",
       "stream": "stderr",
       "text": [
        "INFO:FFC:  \n"
       ]
      },
      {
       "output_type": "stream",
       "stream": "stderr",
       "text": [
        "INFO:FFC:Compiler stage 4 finished in 0.252603 seconds.\n",
        "\n"
       ]
      },
      {
       "output_type": "stream",
       "stream": "stderr",
       "text": [
        "INFO:FFC:Compiler stage 4.1 finished in 2.14577e-06 seconds.\n",
        "\n"
       ]
      },
      {
       "output_type": "stream",
       "stream": "stderr",
       "text": [
        "INFO:FFC:Compiler stage 5: Formatting code\n"
       ]
      },
      {
       "output_type": "stream",
       "stream": "stderr",
       "text": [
        "INFO:FFC:---------------------------------\n"
       ]
      },
      {
       "output_type": "stream",
       "stream": "stderr",
       "text": [
        "INFO:FFC:  Output written to ./ffc_form_97664075f2e584e22493133c65e6ba79d3894f9b.h.\n"
       ]
      },
      {
       "output_type": "stream",
       "stream": "stderr",
       "text": [
        "INFO:FFC:  \n"
       ]
      },
      {
       "output_type": "stream",
       "stream": "stderr",
       "text": [
        "INFO:FFC:Compiler stage 5 finished in 0.010478 seconds.\n",
        "\n"
       ]
      },
      {
       "output_type": "stream",
       "stream": "stderr",
       "text": [
        "INFO:FFC:\u001b[1;37;32mFFC finished in 0.313971 seconds.\u001b[0m\n"
       ]
      },
      {
       "output_type": "stream",
       "stream": "stderr",
       "text": [
        "DEBUG:FFC:Compiling and linking Python extension module, this may take some time.\n"
       ]
      },
      {
       "output_type": "stream",
       "stream": "stderr",
       "text": [
        "DEBUG:UFL:No integrals left after transformation, returning empty form.\n"
       ]
      },
      {
       "output_type": "stream",
       "stream": "stderr",
       "text": [
        "DEBUG:UFL:No integrals left after transformation, returning empty form.\n"
       ]
      },
      {
       "output_type": "stream",
       "stream": "stdout",
       "text": [
        "Calling FFC just-in-time (JIT) compiler, this may take some time.\n"
       ]
      },
      {
       "output_type": "stream",
       "stream": "stderr",
       "text": [
        "Level 25:FFC:Calling FFC just-in-time (JIT) compiler, this may take some time.\n"
       ]
      },
      {
       "output_type": "stream",
       "stream": "stderr",
       "text": [
        "INFO:FFC:Compiling form ffc_form_4cf6f5caaedc5aa0e18f0f323971e27ea054d3a3\n",
        "\n"
       ]
      },
      {
       "output_type": "stream",
       "stream": "stderr",
       "text": [
        "INFO:FFC:Compiler stage 1: Analyzing form(s)\n"
       ]
      },
      {
       "output_type": "stream",
       "stream": "stderr",
       "text": [
        "INFO:FFC:-----------------------------------\n"
       ]
      },
      {
       "output_type": "stream",
       "stream": "stderr",
       "text": [
        "INFO:FFC:  \n"
       ]
      },
      {
       "output_type": "stream",
       "stream": "stderr",
       "text": [
        "INFO:FFC:  Name:                   ''\n",
        "  Geometric dimension:    2\n",
        "  Rank:                   2\n",
        "  Arguments:              '[v_0, v_1]'\n",
        "  Argument names:         '[v0, v1]'\n",
        "  Number of coefficients: 0\n",
        "  Coefficients:           '[]'\n",
        "  Coefficient names:      '[]'\n",
        "  Unique elements:        'N1curl1(?)'\n",
        "  Unique sub elements:    'N1curl1(?)'\n",
        "  \n"
       ]
      },
      {
       "output_type": "stream",
       "stream": "stderr",
       "text": [
        "INFO:FFC:  Extracting monomial form representation from UFL form\n"
       ]
      },
      {
       "output_type": "stream",
       "stream": "stderr",
       "text": [
        "INFO:FFC:  Transforming monomial form to reference element\n"
       ]
      },
      {
       "output_type": "stream",
       "stream": "stderr",
       "text": [
        "DEBUG:FFC:  Reusing element from cache\n"
       ]
      },
      {
       "output_type": "stream",
       "stream": "stderr",
       "text": [
        "DEBUG:FFC:  Reusing element from cache\n"
       ]
      },
      {
       "output_type": "stream",
       "stream": "stderr",
       "text": [
        "DEBUG:FFC:  Reusing element from cache\n"
       ]
      },
      {
       "output_type": "stream",
       "stream": "stderr",
       "text": [
        "DEBUG:FFC:  Reusing element from cache\n"
       ]
      },
      {
       "output_type": "stream",
       "stream": "stderr",
       "text": [
        "DEBUG:FFC:  Reusing element from cache\n"
       ]
      },
      {
       "output_type": "stream",
       "stream": "stderr",
       "text": [
        "DEBUG:FFC:  Reusing element from cache\n"
       ]
      },
      {
       "output_type": "stream",
       "stream": "stderr",
       "text": [
        "DEBUG:FFC:  Reusing element from cache\n"
       ]
      },
      {
       "output_type": "stream",
       "stream": "stderr",
       "text": [
        "DEBUG:FFC:  Reusing element from cache\n"
       ]
      },
      {
       "output_type": "stream",
       "stream": "stderr",
       "text": [
        "DEBUG:FFC:  Reusing element from cache\n"
       ]
      },
      {
       "output_type": "stream",
       "stream": "stderr",
       "text": [
        "DEBUG:FFC:  Reusing element from cache\n"
       ]
      },
      {
       "output_type": "stream",
       "stream": "stderr",
       "text": [
        "DEBUG:FFC:  Reusing element from cache\n"
       ]
      },
      {
       "output_type": "stream",
       "stream": "stderr",
       "text": [
        "DEBUG:FFC:  Reusing element from cache\n"
       ]
      },
      {
       "output_type": "stream",
       "stream": "stderr",
       "text": [
        "DEBUG:FFC:  Reusing element from cache\n"
       ]
      },
      {
       "output_type": "stream",
       "stream": "stderr",
       "text": [
        "DEBUG:FFC:  Reusing element from cache\n"
       ]
      },
      {
       "output_type": "stream",
       "stream": "stderr",
       "text": [
        "DEBUG:FFC:  Reusing element from cache\n"
       ]
      },
      {
       "output_type": "stream",
       "stream": "stderr",
       "text": [
        "DEBUG:FFC:  Reusing element from cache\n"
       ]
      },
      {
       "output_type": "stream",
       "stream": "stderr",
       "text": [
        "DEBUG:FFC:  Estimated cost of tensor representation: 4\n"
       ]
      },
      {
       "output_type": "stream",
       "stream": "stderr",
       "text": [
        "INFO:FFC:  representation:    auto --> quadrature\n"
       ]
      },
      {
       "output_type": "stream",
       "stream": "stderr",
       "text": [
        "DEBUG:FFC:  Selecting quadrature degree based on total polynomial degree of integrand: 0\n"
       ]
      },
      {
       "output_type": "stream",
       "stream": "stderr",
       "text": [
        "INFO:FFC:  quadrature_degree: auto --> 0\n"
       ]
      },
      {
       "output_type": "stream",
       "stream": "stderr",
       "text": [
        "INFO:FFC:  quadrature_rule:   auto --> default\n"
       ]
      },
      {
       "output_type": "stream",
       "stream": "stderr",
       "text": [
        "INFO:FFC:  \n"
       ]
      },
      {
       "output_type": "stream",
       "stream": "stderr",
       "text": [
        "INFO:FFC:Compiler stage 1 finished in 0.0229819 seconds.\n",
        "\n"
       ]
      },
      {
       "output_type": "stream",
       "stream": "stderr",
       "text": [
        "INFO:FFC:Compiler stage 2: Computing intermediate representation\n"
       ]
      },
      {
       "output_type": "stream",
       "stream": "stderr",
       "text": [
        "INFO:FFC:-------------------------------------------------------\n"
       ]
      },
      {
       "output_type": "stream",
       "stream": "stderr",
       "text": [
        "INFO:FFC:  Computing representation of 1 elements\n"
       ]
      },
      {
       "output_type": "stream",
       "stream": "stderr",
       "text": [
        "DEBUG:FFC:  Reusing element from cache\n"
       ]
      },
      {
       "output_type": "stream",
       "stream": "stderr",
       "text": [
        "DEBUG:FFC:  Reusing element from cache\n"
       ]
      },
      {
       "output_type": "stream",
       "stream": "stderr",
       "text": [
        "INFO:FFC:  Computing representation of 1 dofmaps\n"
       ]
      },
      {
       "output_type": "stream",
       "stream": "stderr",
       "text": [
        "DEBUG:FFC:  Reusing element from cache\n"
       ]
      },
      {
       "output_type": "stream",
       "stream": "stderr",
       "text": [
        "INFO:FFC:  Computing representation of integrals\n"
       ]
      },
      {
       "output_type": "stream",
       "stream": "stderr",
       "text": [
        "INFO:FFC:  Computing quadrature representation\n"
       ]
      },
      {
       "output_type": "stream",
       "stream": "stderr",
       "text": [
        "DEBUG:FFC:  Reusing element from cache\n"
       ]
      },
      {
       "output_type": "stream",
       "stream": "stderr",
       "text": [
        "DEBUG:FFC:  Reusing element from cache\n"
       ]
      },
      {
       "output_type": "stream",
       "stream": "stderr",
       "text": [
        "DEBUG:FFC:  Reusing element from cache\n"
       ]
      },
      {
       "output_type": "stream",
       "stream": "stderr",
       "text": [
        "DEBUG:FFC:  Reusing element from cache\n"
       ]
      },
      {
       "output_type": "stream",
       "stream": "stderr",
       "text": [
        "DEBUG:FFC:  Reusing element from cache\n"
       ]
      },
      {
       "output_type": "stream",
       "stream": "stderr",
       "text": [
        "DEBUG:FFC:  \n",
        "  QG-utils, psi_tables:\n",
        "  {1: {VectorElement('Lagrange', Domain(Cell('triangle', 2), label='dolfin_mesh_with_id_0', data='<data with id 0>'), 1, dim=2, quad_scheme=None): {None: {None: {(0, 1): array([[[-1.],\n",
        "          [ 0.]],\n",
        "  \n",
        "         [[ 0.],\n",
        "          [ 0.]],\n",
        "  \n",
        "         [[ 1.],\n",
        "          [ 0.]],\n",
        "  \n",
        "         [[ 0.],\n",
        "          [-1.]],\n",
        "  \n",
        "         [[ 0.],\n",
        "          [ 0.]],\n",
        "  \n",
        "         [[ 0.],\n",
        "          [ 1.]]]), (1, 0): array([[[-1.],\n",
        "          [ 0.]],\n",
        "  \n",
        "         [[ 1.],\n",
        "          [ 0.]],\n",
        "  \n",
        "         [[ 0.],\n",
        "          [ 0.]],\n",
        "  \n",
        "         [[ 0.],\n",
        "          [-1.]],\n",
        "  \n",
        "         [[ 0.],\n",
        "          [ 1.]],\n",
        "  \n",
        "         [[ 0.],\n",
        "          [ 0.]]]), (0, 0): array([[[ 0.33333333],\n",
        "          [ 0.        ]],\n",
        "  \n",
        "         [[ 0.33333333],\n",
        "          [ 0.        ]],\n",
        "  \n",
        "         [[ 0.33333333],\n",
        "          [ 0.        ]],\n",
        "  \n",
        "         [[ 0.        ],\n",
        "          [ 0.33333333]],\n",
        "  \n",
        "         [[ 0.        ],\n",
        "          [ 0.33333333]],\n",
        "  \n",
        "         [[ 0.        ],\n",
        "          [ 0.33333333]]])}}}, FiniteElement('Nedelec 1st kind H(curl)', Domain(Cell('triangle', 2), label='dolfin_mesh_with_id_0', data='<data with id 0>'), 1, quad_scheme=None): {None: {None: {(0, 1): array([[[-1.0],\n",
        "          [2.2204460492503131e-16]],\n",
        "  \n",
        "         [[1.0],\n",
        "          [-2.7755575615628914e-16]],\n",
        "  \n",
        "         [[-1.0000000000000002],\n",
        "          [2.2204460492503131e-16]]], dtype=object), (1, 0): array([[[0.0],\n",
        "          [0.99999999999999989]],\n",
        "  \n",
        "         [[0.0],\n",
        "          [-1.0]],\n",
        "  \n",
        "         [[0.0],\n",
        "          [1.0]]], dtype=object), (0, 0): array([[[-0.33333333333333331],\n",
        "          [0.33333333333333326]],\n",
        "  \n",
        "         [[0.33333333333333331],\n",
        "          [0.66666666666666652]],\n",
        "  \n",
        "         [[0.66666666666666674],\n",
        "          [0.33333333333333326]]], dtype=object)}}}}}\n"
       ]
      },
      {
       "output_type": "stream",
       "stream": "stderr",
       "text": [
        "DEBUG:FFC:  \n",
        "  QG-utils, psi_tables, flat_tables:\n",
        "  {'FE0_C1_D01': array([[ 0.,  0.,  0., -1.,  0.,  1.]]), 'FE1_C0': array([[-0.33333333333333331, 0.33333333333333331, 0.66666666666666674]], dtype=object), 'FE1_C1': array([[0.33333333333333326, 0.66666666666666652, 0.33333333333333326]], dtype=object), 'FE0_C1_D10': array([[ 0.,  0.,  0., -1.,  1.,  0.]]), 'FE1_C1_D10': array([[0.99999999999999989, -1.0, 1.0]], dtype=object), 'FE0_C0_D10': array([[-1.,  1.,  0.,  0.,  0.,  0.]]), 'FE0_C0_D01': array([[-1.,  0.,  1.,  0.,  0.,  0.]]), 'FE1_C1_D01': array([[2.2204460492503131e-16, -2.7755575615628914e-16,\n",
        "          2.2204460492503131e-16]], dtype=object), 'FE1_C0_D01': array([[-1.0, 1.0, -1.0000000000000002]], dtype=object), 'FE1_C0_D10': array([[0.0, 0.0, 0.0]], dtype=object), 'FE0_C1': array([[ 0.        ,  0.        ,  0.        ,  0.33333333,  0.33333333,\n",
        "           0.33333333]]), 'FE0_C0': array([[ 0.33333333,  0.33333333,  0.33333333,  0.        ,  0.        ,\n",
        "           0.        ]])}\n"
       ]
      },
      {
       "output_type": "stream",
       "stream": "stderr",
       "text": [
        "DEBUG:FFC:  \n",
        "  tables: {'FE0_C1_D01': array([[ 0.,  0.,  0., -1.,  0.,  1.]]), 'FE1_C0': array([[-0.33333333333333331, 0.33333333333333331, 0.66666666666666674]], dtype=object), 'FE1_C1': array([[0.33333333333333326, 0.66666666666666652, 0.33333333333333326]], dtype=object), 'FE0_C1_D10': array([[ 0.,  0.,  0., -1.,  1.,  0.]]), 'FE1_C1_D10': array([[0.99999999999999989, -1.0, 1.0]], dtype=object), 'FE0_C0_D10': array([[-1.,  1.,  0.,  0.,  0.,  0.]]), 'FE0_C0_D01': array([[-1.,  0.,  1.,  0.,  0.,  0.]]), 'FE1_C0_D01': array([[-1.0, 1.0, -1.0000000000000002]], dtype=object), 'FE1_C0_D10': array([[0.0, 0.0, 0.0]], dtype=object), 'FE0_C1': array([[ 0.        ,  0.        ,  0.        ,  0.33333333,  0.33333333,\n",
        "           0.33333333]]), 'FE0_C0': array([[ 0.33333333,  0.33333333,  0.33333333,  0.        ,  0.        ,\n",
        "           0.        ]])}\n"
       ]
      },
      {
       "output_type": "stream",
       "stream": "stderr",
       "text": [
        "DEBUG:FFC:  \n",
        "  name_map: {'FE1_C0_D10': ['FE1_C1_D01']}\n"
       ]
      },
      {
       "output_type": "stream",
       "stream": "stderr",
       "text": [
        "DEBUG:FFC:  \n",
        "  inv_name_map: {'FE0_C1_D01': 'FE0_C1_D01', 'FE1_C0': 'FE1_C0', 'FE1_C1_D01': 'FE1_C0_D10', 'FE0_C1_D10': 'FE0_C1_D10', 'FE1_C1_D10': 'FE1_C1_D10', 'FE0_C0_D10': 'FE0_C0_D10', 'FE0_C0_D01': 'FE0_C0_D01', 'FE1_C1': 'FE1_C1', 'FE1_C0_D01': 'FE1_C0_D01', 'FE1_C0_D10': 'FE1_C0_D10', 'FE0_C1': 'FE0_C1', 'FE0_C0': 'FE0_C0'}\n"
       ]
      },
      {
       "output_type": "stream",
       "stream": "stderr",
       "text": [
        "DEBUG:FFC:  \n",
        "  QG-utils, psi_tables, unique_tables:\n",
        "  {'FE0_C1_D01': array([[ 0.,  0.,  0., -1.,  0.,  1.]]), 'FE1_C0': array([[-0.33333333333333331, 0.33333333333333331, 0.66666666666666674]], dtype=object), 'FE1_C1': array([[0.33333333333333326, 0.66666666666666652, 0.33333333333333326]], dtype=object), 'FE0_C1_D10': array([[ 0.,  0.,  0., -1.,  1.,  0.]]), 'FE1_C1_D10': array([[0.99999999999999989, -1.0, 1.0]], dtype=object), 'FE0_C0_D10': array([[-1.,  1.,  0.,  0.,  0.,  0.]]), 'FE0_C0_D01': array([[-1.,  0.,  1.,  0.,  0.,  0.]]), 'FE1_C0_D01': array([[-1.0, 1.0, -1.0000000000000002]], dtype=object), 'FE1_C0_D10': array([[0, 0, 0]], dtype=object), 'FE0_C1': array([[ 0.        ,  0.        ,  0.        ,  0.33333333,  0.33333333,\n",
        "           0.33333333]]), 'FE0_C0': array([[ 0.33333333,  0.33333333,  0.33333333,  0.        ,  0.        ,\n",
        "           0.        ]])}\n"
       ]
      },
      {
       "output_type": "stream",
       "stream": "stderr",
       "text": [
        "DEBUG:FFC:  \n",
        "  QG-utils, psi_tables, name_map:\n",
        "  {'FE0_C1_D01': ('FE0_C1_D01', (), False, False), 'FE1_C0': ('FE1_C0', (), False, False), 'FE1_C1_D01': ('FE1_C0_D10', (), True, False), 'FE0_C1_D10': ('FE0_C1_D10', (), False, False), 'FE1_C1_D10': ('FE1_C1_D10', (), False, False), 'FE0_C0_D10': ('FE0_C0_D10', (), False, False), 'FE0_C0_D01': ('FE0_C0_D01', (), False, False), 'FE1_C1': ('FE1_C1', (), False, False), 'FE1_C0_D01': ('FE1_C0_D01', (), False, False), 'FE1_C0_D10': ('FE1_C0_D10', (), True, False), 'FE0_C1': ('FE0_C1', (), False, False), 'FE0_C0': ('FE0_C0', (), False, False)}\n"
       ]
      },
      {
       "output_type": "stream",
       "stream": "stderr",
       "text": [
        "INFO:FFC:  Transforming cell integral\n"
       ]
      },
      {
       "output_type": "stream",
       "stream": "stderr",
       "text": [
        "DEBUG:FFC:  Reusing element from cache\n"
       ]
      },
      {
       "output_type": "stream",
       "stream": "stderr",
       "text": [
        "DEBUG:FFC:  Reusing element from cache\n"
       ]
      },
      {
       "output_type": "stream",
       "stream": "stderr",
       "text": [
        "DEBUG:FFC:  Reusing element from cache\n"
       ]
      },
      {
       "output_type": "stream",
       "stream": "stderr",
       "text": [
        "DEBUG:FFC:  Reusing element from cache\n"
       ]
      },
      {
       "output_type": "stream",
       "stream": "stderr",
       "text": [
        "DEBUG:FFC:  Reusing element from cache\n"
       ]
      },
      {
       "output_type": "stream",
       "stream": "stderr",
       "text": [
        "DEBUG:FFC:  Reusing element from cache\n"
       ]
      },
      {
       "output_type": "stream",
       "stream": "stderr",
       "text": [
        "DEBUG:FFC:  Reusing element from cache\n"
       ]
      },
      {
       "output_type": "stream",
       "stream": "stderr",
       "text": [
        "DEBUG:FFC:  Reusing element from cache\n"
       ]
      },
      {
       "output_type": "stream",
       "stream": "stderr",
       "text": [
        "DEBUG:FFC:  Reusing element from cache\n"
       ]
      },
      {
       "output_type": "stream",
       "stream": "stderr",
       "text": [
        "DEBUG:FFC:  Reusing element from cache\n"
       ]
      },
      {
       "output_type": "stream",
       "stream": "stderr",
       "text": [
        "INFO:FFC:  Computing representation of forms\n"
       ]
      },
      {
       "output_type": "stream",
       "stream": "stderr",
       "text": [
        "INFO:FFC:  \n"
       ]
      },
      {
       "output_type": "stream",
       "stream": "stderr",
       "text": [
        "INFO:FFC:Compiler stage 2 finished in 0.114939 seconds.\n",
        "\n"
       ]
      },
      {
       "output_type": "stream",
       "stream": "stderr",
       "text": [
        "INFO:FFC:Compiler stage 3: Optimizing intermediate representation\n"
       ]
      },
      {
       "output_type": "stream",
       "stream": "stderr",
       "text": [
        "INFO:FFC:--------------------------------------------------------\n"
       ]
      },
      {
       "output_type": "stream",
       "stream": "stderr",
       "text": [
        "INFO:FFC:  Skipping optimizations, add -O to optimize\n"
       ]
      },
      {
       "output_type": "stream",
       "stream": "stderr",
       "text": [
        "INFO:FFC:  \n"
       ]
      },
      {
       "output_type": "stream",
       "stream": "stderr",
       "text": [
        "INFO:FFC:Compiler stage 3 finished in 0.00181603 seconds.\n",
        "\n"
       ]
      },
      {
       "output_type": "stream",
       "stream": "stderr",
       "text": [
        "INFO:FFC:Compiler stage 4: Generating code\n"
       ]
      },
      {
       "output_type": "stream",
       "stream": "stderr",
       "text": [
        "INFO:FFC:---------------------------------\n"
       ]
      },
      {
       "output_type": "stream",
       "stream": "stderr",
       "text": [
        "INFO:FFC:  Generating code for 1 element(s)\n"
       ]
      },
      {
       "output_type": "stream",
       "stream": "stderr",
       "text": [
        "DEBUG:FFC:  Removing unused variable: tmp2\n"
       ]
      },
      {
       "output_type": "stream",
       "stream": "stderr",
       "text": [
        "DEBUG:FFC:  Removing unused variable: tmp1\n"
       ]
      },
      {
       "output_type": "stream",
       "stream": "stderr",
       "text": [
        "DEBUG:FFC:  Removing unused variable: tmp7\n"
       ]
      },
      {
       "output_type": "stream",
       "stream": "stderr",
       "text": [
        "DEBUG:FFC:  Removing unused variable: tmp6\n"
       ]
      },
      {
       "output_type": "stream",
       "stream": "stderr",
       "text": [
        "DEBUG:FFC:  Removing unused variable: tmp5\n"
       ]
      },
      {
       "output_type": "stream",
       "stream": "stderr",
       "text": [
        "DEBUG:FFC:  Removing unused variable: tt\n"
       ]
      },
      {
       "output_type": "stream",
       "stream": "stderr",
       "text": [
        "DEBUG:FFC:  Removing unused variable: ss\n"
       ]
      },
      {
       "output_type": "stream",
       "stream": "stderr",
       "text": [
        "DEBUG:FFC:  Removing unused variable: rr\n"
       ]
      },
      {
       "output_type": "stream",
       "stream": "stderr",
       "text": [
        "DEBUG:FFC:  Removing unused variable: tmp2\n"
       ]
      },
      {
       "output_type": "stream",
       "stream": "stderr",
       "text": [
        "DEBUG:FFC:  Removing unused variable: tmp1\n"
       ]
      },
      {
       "output_type": "stream",
       "stream": "stderr",
       "text": [
        "DEBUG:FFC:  Removing unused variable: tmp7\n"
       ]
      },
      {
       "output_type": "stream",
       "stream": "stderr",
       "text": [
        "DEBUG:FFC:  Removing unused variable: tmp6\n"
       ]
      },
      {
       "output_type": "stream",
       "stream": "stderr",
       "text": [
        "DEBUG:FFC:  Removing unused variable: tmp5\n"
       ]
      },
      {
       "output_type": "stream",
       "stream": "stderr",
       "text": [
        "DEBUG:FFC:  Removing unused variable: tt\n"
       ]
      },
      {
       "output_type": "stream",
       "stream": "stderr",
       "text": [
        "DEBUG:FFC:  Removing unused variable: ss\n"
       ]
      },
      {
       "output_type": "stream",
       "stream": "stderr",
       "text": [
        "DEBUG:FFC:  Removing unused variable: rr\n"
       ]
      },
      {
       "output_type": "stream",
       "stream": "stderr",
       "text": [
        "DEBUG:FFC:  Removing unused variable: tmp2\n"
       ]
      },
      {
       "output_type": "stream",
       "stream": "stderr",
       "text": [
        "DEBUG:FFC:  Removing unused variable: tmp1\n"
       ]
      },
      {
       "output_type": "stream",
       "stream": "stderr",
       "text": [
        "DEBUG:FFC:  Removing unused variable: tmp7\n"
       ]
      },
      {
       "output_type": "stream",
       "stream": "stderr",
       "text": [
        "DEBUG:FFC:  Removing unused variable: tmp6\n"
       ]
      },
      {
       "output_type": "stream",
       "stream": "stderr",
       "text": [
        "DEBUG:FFC:  Removing unused variable: tmp5\n"
       ]
      },
      {
       "output_type": "stream",
       "stream": "stderr",
       "text": [
        "DEBUG:FFC:  Removing unused variable: tt\n"
       ]
      },
      {
       "output_type": "stream",
       "stream": "stderr",
       "text": [
        "DEBUG:FFC:  Removing unused variable: ss\n"
       ]
      },
      {
       "output_type": "stream",
       "stream": "stderr",
       "text": [
        "DEBUG:FFC:  Removing unused variable: rr\n"
       ]
      },
      {
       "output_type": "stream",
       "stream": "stderr",
       "text": [
        "DEBUG:FFC:  Removing unused variable: tmp2\n"
       ]
      },
      {
       "output_type": "stream",
       "stream": "stderr",
       "text": [
        "DEBUG:FFC:  Removing unused variable: tmp1\n"
       ]
      },
      {
       "output_type": "stream",
       "stream": "stderr",
       "text": [
        "DEBUG:FFC:  Removing unused variable: tmp7\n"
       ]
      },
      {
       "output_type": "stream",
       "stream": "stderr",
       "text": [
        "DEBUG:FFC:  Removing unused variable: tmp6\n"
       ]
      },
      {
       "output_type": "stream",
       "stream": "stderr",
       "text": [
        "DEBUG:FFC:  Removing unused variable: tmp5\n"
       ]
      },
      {
       "output_type": "stream",
       "stream": "stderr",
       "text": [
        "DEBUG:FFC:  Removing unused variable: tt\n"
       ]
      },
      {
       "output_type": "stream",
       "stream": "stderr",
       "text": [
        "DEBUG:FFC:  Removing unused variable: ss\n"
       ]
      },
      {
       "output_type": "stream",
       "stream": "stderr",
       "text": [
        "DEBUG:FFC:  Removing unused variable: rr\n"
       ]
      },
      {
       "output_type": "stream",
       "stream": "stderr",
       "text": [
        "DEBUG:FFC:  Removing unused variable: tmp2\n"
       ]
      },
      {
       "output_type": "stream",
       "stream": "stderr",
       "text": [
        "DEBUG:FFC:  Removing unused variable: tmp1\n"
       ]
      },
      {
       "output_type": "stream",
       "stream": "stderr",
       "text": [
        "DEBUG:FFC:  Removing unused variable: tmp7\n"
       ]
      },
      {
       "output_type": "stream",
       "stream": "stderr",
       "text": [
        "DEBUG:FFC:  Removing unused variable: tmp6\n"
       ]
      },
      {
       "output_type": "stream",
       "stream": "stderr",
       "text": [
        "DEBUG:FFC:  Removing unused variable: tmp5\n"
       ]
      },
      {
       "output_type": "stream",
       "stream": "stderr",
       "text": [
        "DEBUG:FFC:  Removing unused variable: tt\n"
       ]
      },
      {
       "output_type": "stream",
       "stream": "stderr",
       "text": [
        "DEBUG:FFC:  Removing unused variable: ss\n"
       ]
      },
      {
       "output_type": "stream",
       "stream": "stderr",
       "text": [
        "DEBUG:FFC:  Removing unused variable: rr\n"
       ]
      },
      {
       "output_type": "stream",
       "stream": "stderr",
       "text": [
        "DEBUG:FFC:  Removing unused variable: tmp2\n"
       ]
      },
      {
       "output_type": "stream",
       "stream": "stderr",
       "text": [
        "DEBUG:FFC:  Removing unused variable: tmp1\n"
       ]
      },
      {
       "output_type": "stream",
       "stream": "stderr",
       "text": [
        "DEBUG:FFC:  Removing unused variable: tmp7\n"
       ]
      },
      {
       "output_type": "stream",
       "stream": "stderr",
       "text": [
        "DEBUG:FFC:  Removing unused variable: tmp6\n"
       ]
      },
      {
       "output_type": "stream",
       "stream": "stderr",
       "text": [
        "DEBUG:FFC:  Removing unused variable: tmp5\n"
       ]
      },
      {
       "output_type": "stream",
       "stream": "stderr",
       "text": [
        "DEBUG:FFC:  Removing unused variable: tt\n"
       ]
      },
      {
       "output_type": "stream",
       "stream": "stderr",
       "text": [
        "DEBUG:FFC:  Removing unused variable: ss\n"
       ]
      },
      {
       "output_type": "stream",
       "stream": "stderr",
       "text": [
        "DEBUG:FFC:  Removing unused variable: rr\n"
       ]
      },
      {
       "output_type": "stream",
       "stream": "stderr",
       "text": [
        "INFO:FFC:  Generating code for 1 dofmap(s)\n"
       ]
      },
      {
       "output_type": "stream",
       "stream": "stderr",
       "text": [
        "INFO:FFC:  Generating code for integrals\n"
       ]
      },
      {
       "output_type": "stream",
       "stream": "stderr",
       "text": [
        "DEBUG:FFC:  Removing unused variable: circumradius\n"
       ]
      },
      {
       "output_type": "stream",
       "stream": "stderr",
       "text": [
        "DEBUG:FFC:  Removing unused variable: v0v1\n"
       ]
      },
      {
       "output_type": "stream",
       "stream": "stderr",
       "text": [
        "DEBUG:FFC:  Removing unused variable: v0v2\n"
       ]
      },
      {
       "output_type": "stream",
       "stream": "stderr",
       "text": [
        "DEBUG:FFC:  Removing unused variable: v1v2\n"
       ]
      },
      {
       "output_type": "stream",
       "stream": "stderr",
       "text": [
        "DEBUG:FFC:  Removing unused variable: volume\n"
       ]
      },
      {
       "output_type": "stream",
       "stream": "stderr",
       "text": [
        "INFO:FFC:  Generating code for forms\n"
       ]
      },
      {
       "output_type": "stream",
       "stream": "stderr",
       "text": [
        "INFO:FFC:  \n"
       ]
      },
      {
       "output_type": "stream",
       "stream": "stderr",
       "text": [
        "INFO:FFC:Compiler stage 4 finished in 0.0751748 seconds.\n",
        "\n"
       ]
      },
      {
       "output_type": "stream",
       "stream": "stderr",
       "text": [
        "INFO:FFC:Compiler stage 4.1 finished in 4.05312e-06 seconds.\n",
        "\n"
       ]
      },
      {
       "output_type": "stream",
       "stream": "stderr",
       "text": [
        "INFO:FFC:Compiler stage 5: Formatting code\n"
       ]
      },
      {
       "output_type": "stream",
       "stream": "stderr",
       "text": [
        "INFO:FFC:---------------------------------\n"
       ]
      },
      {
       "output_type": "stream",
       "stream": "stderr",
       "text": [
        "INFO:FFC:  Output written to ./ffc_form_4cf6f5caaedc5aa0e18f0f323971e27ea054d3a3.h.\n"
       ]
      },
      {
       "output_type": "stream",
       "stream": "stderr",
       "text": [
        "INFO:FFC:  \n"
       ]
      },
      {
       "output_type": "stream",
       "stream": "stderr",
       "text": [
        "INFO:FFC:Compiler stage 5 finished in 0.00251603 seconds.\n",
        "\n"
       ]
      },
      {
       "output_type": "stream",
       "stream": "stderr",
       "text": [
        "INFO:FFC:\u001b[1;37;32mFFC finished in 0.221024 seconds.\u001b[0m\n"
       ]
      },
      {
       "output_type": "stream",
       "stream": "stderr",
       "text": [
        "DEBUG:FFC:Compiling and linking Python extension module, this may take some time.\n"
       ]
      },
      {
       "output_type": "stream",
       "stream": "stderr",
       "text": [
        "DEBUG:UFL:No integrals left after transformation, returning empty form.\n"
       ]
      },
      {
       "output_type": "stream",
       "stream": "stderr",
       "text": [
        "DEBUG:UFL:No integrals left after transformation, returning empty form.\n"
       ]
      },
      {
       "output_type": "stream",
       "stream": "stderr",
       "text": [
        "DEBUG:FFC:Reusing form from cache.\n"
       ]
      },
      {
       "output_type": "stream",
       "stream": "stderr",
       "text": [
        "DEBUG:UFL:No integrals left after transformation, returning empty form.\n"
       ]
      },
      {
       "output_type": "stream",
       "stream": "stderr",
       "text": [
        "DEBUG:UFL:No integrals left after transformation, returning empty form.\n"
       ]
      },
      {
       "output_type": "stream",
       "stream": "stdout",
       "text": [
        "Calling FFC just-in-time (JIT) compiler, this may take some time.\n"
       ]
      },
      {
       "output_type": "stream",
       "stream": "stderr",
       "text": [
        "Level 25:FFC:Calling FFC just-in-time (JIT) compiler, this may take some time.\n"
       ]
      },
      {
       "output_type": "stream",
       "stream": "stderr",
       "text": [
        "INFO:FFC:Compiling form ffc_form_90680427f125ed0d5326740b03feb8fb8467730c\n",
        "\n"
       ]
      },
      {
       "output_type": "stream",
       "stream": "stderr",
       "text": [
        "INFO:FFC:Compiler stage 1: Analyzing form(s)\n"
       ]
      },
      {
       "output_type": "stream",
       "stream": "stderr",
       "text": [
        "INFO:FFC:-----------------------------------\n"
       ]
      },
      {
       "output_type": "stream",
       "stream": "stderr",
       "text": [
        "INFO:FFC:  \n"
       ]
      },
      {
       "output_type": "stream",
       "stream": "stderr",
       "text": [
        "INFO:FFC:  Name:                   ''\n",
        "  Geometric dimension:    2\n",
        "  Rank:                   2\n",
        "  Arguments:              '[v_0, v_1]'\n",
        "  Argument names:         '[v0, v1]'\n",
        "  Number of coefficients: 0\n",
        "  Coefficients:           '[]'\n",
        "  Coefficient names:      '[]'\n",
        "  Unique elements:        'Mixed<N1curl1(?), CG1(?)>'\n",
        "  Unique sub elements:    'Mixed<N1curl1(?), CG1(?)>, N1curl1(?), CG1(?)'\n",
        "  \n"
       ]
      },
      {
       "output_type": "stream",
       "stream": "stderr",
       "text": [
        "INFO:FFC:  Extracting monomial form representation from UFL form\n"
       ]
      },
      {
       "output_type": "stream",
       "stream": "stderr",
       "text": [
        "INFO:FFC:  Transforming monomial form to reference element\n"
       ]
      },
      {
       "output_type": "stream",
       "stream": "stderr",
       "text": [
        "DEBUG:FFC:  Reusing element from cache\n"
       ]
      },
      {
       "output_type": "stream",
       "stream": "stderr",
       "text": [
        "DEBUG:FFC:  Reusing element from cache\n"
       ]
      },
      {
       "output_type": "stream",
       "stream": "stderr",
       "text": [
        "DEBUG:FFC:  Reusing element from cache\n"
       ]
      },
      {
       "output_type": "stream",
       "stream": "stderr",
       "text": [
        "DEBUG:FFC:  Reusing element from cache\n"
       ]
      },
      {
       "output_type": "stream",
       "stream": "stderr",
       "text": [
        "DEBUG:FFC:  Reusing element from cache\n"
       ]
      },
      {
       "output_type": "stream",
       "stream": "stderr",
       "text": [
        "DEBUG:FFC:  Reusing element from cache\n"
       ]
      },
      {
       "output_type": "stream",
       "stream": "stderr",
       "text": [
        "DEBUG:FFC:  Reusing element from cache\n"
       ]
      },
      {
       "output_type": "stream",
       "stream": "stderr",
       "text": [
        "DEBUG:FFC:  Reusing element from cache\n"
       ]
      },
      {
       "output_type": "stream",
       "stream": "stderr",
       "text": [
        "DEBUG:FFC:  Estimated cost of tensor representation: 2\n"
       ]
      },
      {
       "output_type": "stream",
       "stream": "stderr",
       "text": [
        "INFO:FFC:  representation:    auto --> tensor\n"
       ]
      },
      {
       "output_type": "stream",
       "stream": "stderr",
       "text": [
        "DEBUG:FFC:  Selecting quadrature degree based on total polynomial degree of integrand: 1\n"
       ]
      },
      {
       "output_type": "stream",
       "stream": "stderr",
       "text": [
        "INFO:FFC:  quadrature_degree: auto --> 1\n"
       ]
      },
      {
       "output_type": "stream",
       "stream": "stderr",
       "text": [
        "INFO:FFC:  quadrature_rule:   auto --> default\n"
       ]
      },
      {
       "output_type": "stream",
       "stream": "stderr",
       "text": [
        "INFO:FFC:  \n"
       ]
      },
      {
       "output_type": "stream",
       "stream": "stderr",
       "text": [
        "INFO:FFC:Compiler stage 1 finished in 0.0350862 seconds.\n",
        "\n"
       ]
      },
      {
       "output_type": "stream",
       "stream": "stderr",
       "text": [
        "INFO:FFC:Compiler stage 2: Computing intermediate representation\n"
       ]
      },
      {
       "output_type": "stream",
       "stream": "stderr",
       "text": [
        "INFO:FFC:-------------------------------------------------------\n"
       ]
      },
      {
       "output_type": "stream",
       "stream": "stderr",
       "text": [
        "INFO:FFC:  Computing representation of 3 elements\n"
       ]
      },
      {
       "output_type": "stream",
       "stream": "stderr",
       "text": [
        "DEBUG:FFC:  Reusing element from cache\n"
       ]
      },
      {
       "output_type": "stream",
       "stream": "stderr",
       "text": [
        "DEBUG:FFC:  Reusing element from cache\n"
       ]
      },
      {
       "output_type": "stream",
       "stream": "stderr",
       "text": [
        "DEBUG:FFC:  Reusing element from cache\n"
       ]
      },
      {
       "output_type": "stream",
       "stream": "stderr",
       "text": [
        "DEBUG:FFC:  Reusing element from cache\n"
       ]
      },
      {
       "output_type": "stream",
       "stream": "stderr",
       "text": [
        "DEBUG:FFC:  Reusing element from cache\n"
       ]
      },
      {
       "output_type": "stream",
       "stream": "stderr",
       "text": [
        "DEBUG:FFC:  Reusing element from cache\n"
       ]
      },
      {
       "output_type": "stream",
       "stream": "stderr",
       "text": [
        "INFO:FFC:  Computing representation of 3 dofmaps\n"
       ]
      },
      {
       "output_type": "stream",
       "stream": "stderr",
       "text": [
        "DEBUG:FFC:  Reusing element from cache\n"
       ]
      },
      {
       "output_type": "stream",
       "stream": "stderr",
       "text": [
        "DEBUG:FFC:  Reusing element from cache\n"
       ]
      },
      {
       "output_type": "stream",
       "stream": "stderr",
       "text": [
        "DEBUG:FFC:  Reusing element from cache\n"
       ]
      },
      {
       "output_type": "stream",
       "stream": "stderr",
       "text": [
        "INFO:FFC:  Computing representation of integrals\n"
       ]
      },
      {
       "output_type": "stream",
       "stream": "stderr",
       "text": [
        "INFO:FFC:  Computing tensor representation\n"
       ]
      },
      {
       "output_type": "stream",
       "stream": "stderr",
       "text": [
        "INFO:FFC:  Extracting monomial form representation from UFL form\n"
       ]
      },
      {
       "output_type": "stream",
       "stream": "stderr",
       "text": [
        "INFO:FFC:  Transforming monomial form to reference element\n"
       ]
      },
      {
       "output_type": "stream",
       "stream": "stderr",
       "text": [
        "DEBUG:FFC:  Reusing element from cache\n"
       ]
      },
      {
       "output_type": "stream",
       "stream": "stderr",
       "text": [
        "DEBUG:FFC:  Reusing element from cache\n"
       ]
      },
      {
       "output_type": "stream",
       "stream": "stderr",
       "text": [
        "DEBUG:FFC:  Reusing element from cache\n"
       ]
      },
      {
       "output_type": "stream",
       "stream": "stderr",
       "text": [
        "DEBUG:FFC:  Reusing element from cache\n"
       ]
      },
      {
       "output_type": "stream",
       "stream": "stderr",
       "text": [
        "DEBUG:FFC:  Reusing element from cache\n"
       ]
      },
      {
       "output_type": "stream",
       "stream": "stderr",
       "text": [
        "DEBUG:FFC:  Reusing element from cache\n"
       ]
      },
      {
       "output_type": "stream",
       "stream": "stderr",
       "text": [
        "DEBUG:FFC:  Reusing element from cache\n"
       ]
      },
      {
       "output_type": "stream",
       "stream": "stderr",
       "text": [
        "DEBUG:FFC:  Reusing element from cache\n"
       ]
      },
      {
       "output_type": "stream",
       "stream": "stderr",
       "text": [
        "INFO:FFC:  Precomputing integrals on reference element\n"
       ]
      },
      {
       "output_type": "stream",
       "stream": "stderr",
       "text": [
        "DEBUG:FFC:  Reusing element from cache\n"
       ]
      },
      {
       "output_type": "stream",
       "stream": "stderr",
       "text": [
        "DEBUG:FFC:  144 entries computed in 0.00179 seconds\n"
       ]
      },
      {
       "output_type": "stream",
       "stream": "stderr",
       "text": [
        "DEBUG:FFC:  Shape of reference tensor: (6, 6, 2, 2)\n"
       ]
      },
      {
       "output_type": "stream",
       "stream": "stderr",
       "text": [
        "DEBUG:FFC:  Primary multi index:   rank = 2 dims = [6, 6] indices = [[0, 0], [0, 1], [0, 2], [0, 3], [0, 4], [0, 5], [1, 0], [1, 1], [1, 2], [1, 3], [1, 4], [1, 5], [2, 0], [2, 1], [2, 2], [2, 3], [2, 4], [2, 5], [3, 0], [3, 1], [3, 2], [3, 3], [3, 4], [3, 5], [4, 0], [4, 1], [4, 2], [4, 3], [4, 4], [4, 5], [5, 0], [5, 1], [5, 2], [5, 3], [5, 4], [5, 5]]\n"
       ]
      },
      {
       "output_type": "stream",
       "stream": "stderr",
       "text": [
        "DEBUG:FFC:  Secondary multi index: rank = 2 dims = [2, 2] indices = [[0, 0], [0, 1], [1, 0], [1, 1]]\n"
       ]
      },
      {
       "output_type": "stream",
       "stream": "stderr",
       "text": [
        "DEBUG:FFC:  Internal multi index:  rank = 0 dims = [] indices = [[]]\n"
       ]
      },
      {
       "output_type": "stream",
       "stream": "stderr",
       "text": [
        "DEBUG:FFC:  Secondary multi index: rank = 2 dims = [2, 2] indices = [[0, 0], [0, 1], [1, 0], [1, 1]]\n"
       ]
      },
      {
       "output_type": "stream",
       "stream": "stderr",
       "text": [
        "DEBUG:FFC:  External multi index:  rank = 0 dims = [] indices = [[]]\n"
       ]
      },
      {
       "output_type": "stream",
       "stream": "stderr",
       "text": [
        "INFO:FFC:  Precomputing integrals on reference element\n"
       ]
      },
      {
       "output_type": "stream",
       "stream": "stderr",
       "text": [
        "DEBUG:FFC:  Reusing element from cache\n"
       ]
      },
      {
       "output_type": "stream",
       "stream": "stderr",
       "text": [
        "DEBUG:FFC:  144 entries computed in 0.00248 seconds\n"
       ]
      },
      {
       "output_type": "stream",
       "stream": "stderr",
       "text": [
        "DEBUG:FFC:  Shape of reference tensor: (6, 6, 2, 2)\n"
       ]
      },
      {
       "output_type": "stream",
       "stream": "stderr",
       "text": [
        "DEBUG:FFC:  Primary multi index:   rank = 2 dims = [6, 6] indices = [[0, 0], [0, 1], [0, 2], [0, 3], [0, 4], [0, 5], [1, 0], [1, 1], [1, 2], [1, 3], [1, 4], [1, 5], [2, 0], [2, 1], [2, 2], [2, 3], [2, 4], [2, 5], [3, 0], [3, 1], [3, 2], [3, 3], [3, 4], [3, 5], [4, 0], [4, 1], [4, 2], [4, 3], [4, 4], [4, 5], [5, 0], [5, 1], [5, 2], [5, 3], [5, 4], [5, 5]]\n"
       ]
      },
      {
       "output_type": "stream",
       "stream": "stderr",
       "text": [
        "DEBUG:FFC:  Secondary multi index: rank = 2 dims = [2, 2] indices = [[0, 0], [0, 1], [1, 0], [1, 1]]\n"
       ]
      },
      {
       "output_type": "stream",
       "stream": "stderr",
       "text": [
        "DEBUG:FFC:  Internal multi index:  rank = 0 dims = [] indices = [[]]\n"
       ]
      },
      {
       "output_type": "stream",
       "stream": "stderr",
       "text": [
        "DEBUG:FFC:  Secondary multi index: rank = 2 dims = [2, 2] indices = [[0, 0], [0, 1], [1, 0], [1, 1]]\n"
       ]
      },
      {
       "output_type": "stream",
       "stream": "stderr",
       "text": [
        "DEBUG:FFC:  External multi index:  rank = 0 dims = [] indices = [[]]\n"
       ]
      },
      {
       "output_type": "stream",
       "stream": "stderr",
       "text": [
        "DEBUG:FFC:  Reusing element from cache\n"
       ]
      },
      {
       "output_type": "stream",
       "stream": "stderr",
       "text": [
        "INFO:FFC:  Computing representation of forms\n"
       ]
      },
      {
       "output_type": "stream",
       "stream": "stderr",
       "text": [
        "INFO:FFC:  \n"
       ]
      },
      {
       "output_type": "stream",
       "stream": "stderr",
       "text": [
        "INFO:FFC:Compiler stage 2 finished in 0.0688839 seconds.\n",
        "\n"
       ]
      },
      {
       "output_type": "stream",
       "stream": "stderr",
       "text": [
        "INFO:FFC:Compiler stage 3: Optimizing intermediate representation\n"
       ]
      },
      {
       "output_type": "stream",
       "stream": "stderr",
       "text": [
        "INFO:FFC:--------------------------------------------------------\n"
       ]
      },
      {
       "output_type": "stream",
       "stream": "stderr",
       "text": [
        "INFO:FFC:  Skipping optimizations, add -O to optimize\n"
       ]
      },
      {
       "output_type": "stream",
       "stream": "stderr",
       "text": [
        "INFO:FFC:  \n"
       ]
      },
      {
       "output_type": "stream",
       "stream": "stderr",
       "text": [
        "INFO:FFC:Compiler stage 3 finished in 0.00462508 seconds.\n",
        "\n"
       ]
      },
      {
       "output_type": "stream",
       "stream": "stderr",
       "text": [
        "INFO:FFC:Compiler stage 4: Generating code\n"
       ]
      },
      {
       "output_type": "stream",
       "stream": "stderr",
       "text": [
        "INFO:FFC:---------------------------------\n"
       ]
      },
      {
       "output_type": "stream",
       "stream": "stderr",
       "text": [
        "INFO:FFC:  Generating code for 3 element(s)\n"
       ]
      },
      {
       "output_type": "stream",
       "stream": "stderr",
       "text": [
        "DEBUG:FFC:  Removing unused variable: tmp2\n"
       ]
      },
      {
       "output_type": "stream",
       "stream": "stderr",
       "text": [
        "DEBUG:FFC:  Removing unused variable: tmp1\n"
       ]
      },
      {
       "output_type": "stream",
       "stream": "stderr",
       "text": [
        "DEBUG:FFC:  Removing unused variable: tmp7\n"
       ]
      },
      {
       "output_type": "stream",
       "stream": "stderr",
       "text": [
        "DEBUG:FFC:  Removing unused variable: tmp6\n"
       ]
      },
      {
       "output_type": "stream",
       "stream": "stderr",
       "text": [
        "DEBUG:FFC:  Removing unused variable: tmp5\n"
       ]
      },
      {
       "output_type": "stream",
       "stream": "stderr",
       "text": [
        "DEBUG:FFC:  Removing unused variable: tt\n"
       ]
      },
      {
       "output_type": "stream",
       "stream": "stderr",
       "text": [
        "DEBUG:FFC:  Removing unused variable: ss\n"
       ]
      },
      {
       "output_type": "stream",
       "stream": "stderr",
       "text": [
        "DEBUG:FFC:  Removing unused variable: rr\n"
       ]
      },
      {
       "output_type": "stream",
       "stream": "stderr",
       "text": [
        "DEBUG:FFC:  Removing unused variable: tmp2\n"
       ]
      },
      {
       "output_type": "stream",
       "stream": "stderr",
       "text": [
        "DEBUG:FFC:  Removing unused variable: tmp1\n"
       ]
      },
      {
       "output_type": "stream",
       "stream": "stderr",
       "text": [
        "DEBUG:FFC:  Removing unused variable: tmp7\n"
       ]
      },
      {
       "output_type": "stream",
       "stream": "stderr",
       "text": [
        "DEBUG:FFC:  Removing unused variable: tmp6\n"
       ]
      },
      {
       "output_type": "stream",
       "stream": "stderr",
       "text": [
        "DEBUG:FFC:  Removing unused variable: tmp5\n"
       ]
      },
      {
       "output_type": "stream",
       "stream": "stderr",
       "text": [
        "DEBUG:FFC:  Removing unused variable: tt\n"
       ]
      },
      {
       "output_type": "stream",
       "stream": "stderr",
       "text": [
        "DEBUG:FFC:  Removing unused variable: ss\n"
       ]
      },
      {
       "output_type": "stream",
       "stream": "stderr",
       "text": [
        "DEBUG:FFC:  Removing unused variable: rr\n"
       ]
      },
      {
       "output_type": "stream",
       "stream": "stderr",
       "text": [
        "DEBUG:FFC:  Removing unused variable: tmp2\n"
       ]
      },
      {
       "output_type": "stream",
       "stream": "stderr",
       "text": [
        "DEBUG:FFC:  Removing unused variable: tmp1\n"
       ]
      },
      {
       "output_type": "stream",
       "stream": "stderr",
       "text": [
        "DEBUG:FFC:  Removing unused variable: tmp7\n"
       ]
      },
      {
       "output_type": "stream",
       "stream": "stderr",
       "text": [
        "DEBUG:FFC:  Removing unused variable: tmp6\n"
       ]
      },
      {
       "output_type": "stream",
       "stream": "stderr",
       "text": [
        "DEBUG:FFC:  Removing unused variable: tmp5\n"
       ]
      },
      {
       "output_type": "stream",
       "stream": "stderr",
       "text": [
        "DEBUG:FFC:  Removing unused variable: tt\n"
       ]
      },
      {
       "output_type": "stream",
       "stream": "stderr",
       "text": [
        "DEBUG:FFC:  Removing unused variable: ss\n"
       ]
      },
      {
       "output_type": "stream",
       "stream": "stderr",
       "text": [
        "DEBUG:FFC:  Removing unused variable: rr\n"
       ]
      },
      {
       "output_type": "stream",
       "stream": "stderr",
       "text": [
        "DEBUG:FFC:  Removing unused variable: tmp2\n"
       ]
      },
      {
       "output_type": "stream",
       "stream": "stderr",
       "text": [
        "DEBUG:FFC:  Removing unused variable: tmp1\n"
       ]
      },
      {
       "output_type": "stream",
       "stream": "stderr",
       "text": [
        "DEBUG:FFC:  Removing unused variable: tmp7\n"
       ]
      },
      {
       "output_type": "stream",
       "stream": "stderr",
       "text": [
        "DEBUG:FFC:  Removing unused variable: tmp6\n"
       ]
      },
      {
       "output_type": "stream",
       "stream": "stderr",
       "text": [
        "DEBUG:FFC:  Removing unused variable: tmp5\n"
       ]
      },
      {
       "output_type": "stream",
       "stream": "stderr",
       "text": [
        "DEBUG:FFC:  Removing unused variable: tt\n"
       ]
      },
      {
       "output_type": "stream",
       "stream": "stderr",
       "text": [
        "DEBUG:FFC:  Removing unused variable: ss\n"
       ]
      },
      {
       "output_type": "stream",
       "stream": "stderr",
       "text": [
        "DEBUG:FFC:  Removing unused variable: rr\n"
       ]
      },
      {
       "output_type": "stream",
       "stream": "stderr",
       "text": [
        "DEBUG:FFC:  Removing unused variable: tmp2\n"
       ]
      },
      {
       "output_type": "stream",
       "stream": "stderr",
       "text": [
        "DEBUG:FFC:  Removing unused variable: tmp1\n"
       ]
      },
      {
       "output_type": "stream",
       "stream": "stderr",
       "text": [
        "DEBUG:FFC:  Removing unused variable: tmp7\n"
       ]
      },
      {
       "output_type": "stream",
       "stream": "stderr",
       "text": [
        "DEBUG:FFC:  Removing unused variable: tmp6\n"
       ]
      },
      {
       "output_type": "stream",
       "stream": "stderr",
       "text": [
        "DEBUG:FFC:  Removing unused variable: tmp5\n"
       ]
      },
      {
       "output_type": "stream",
       "stream": "stderr",
       "text": [
        "DEBUG:FFC:  Removing unused variable: tt\n"
       ]
      },
      {
       "output_type": "stream",
       "stream": "stderr",
       "text": [
        "DEBUG:FFC:  Removing unused variable: ss\n"
       ]
      },
      {
       "output_type": "stream",
       "stream": "stderr",
       "text": [
        "DEBUG:FFC:  Removing unused variable: rr\n"
       ]
      },
      {
       "output_type": "stream",
       "stream": "stderr",
       "text": [
        "DEBUG:FFC:  Removing unused variable: tmp2\n"
       ]
      },
      {
       "output_type": "stream",
       "stream": "stderr",
       "text": [
        "DEBUG:FFC:  Removing unused variable: tmp1\n"
       ]
      },
      {
       "output_type": "stream",
       "stream": "stderr",
       "text": [
        "DEBUG:FFC:  Removing unused variable: tmp7\n"
       ]
      },
      {
       "output_type": "stream",
       "stream": "stderr",
       "text": [
        "DEBUG:FFC:  Removing unused variable: tmp6\n"
       ]
      },
      {
       "output_type": "stream",
       "stream": "stderr",
       "text": [
        "DEBUG:FFC:  Removing unused variable: tmp5\n"
       ]
      },
      {
       "output_type": "stream",
       "stream": "stderr",
       "text": [
        "DEBUG:FFC:  Removing unused variable: tt\n"
       ]
      },
      {
       "output_type": "stream",
       "stream": "stderr",
       "text": [
        "DEBUG:FFC:  Removing unused variable: ss\n"
       ]
      },
      {
       "output_type": "stream",
       "stream": "stderr",
       "text": [
        "DEBUG:FFC:  Removing unused variable: rr\n"
       ]
      },
      {
       "output_type": "stream",
       "stream": "stderr",
       "text": [
        "DEBUG:FFC:  Removing unused variable: tmp2\n"
       ]
      },
      {
       "output_type": "stream",
       "stream": "stderr",
       "text": [
        "DEBUG:FFC:  Removing unused variable: tmp1\n"
       ]
      },
      {
       "output_type": "stream",
       "stream": "stderr",
       "text": [
        "DEBUG:FFC:  Removing unused variable: tmp7\n"
       ]
      },
      {
       "output_type": "stream",
       "stream": "stderr",
       "text": [
        "DEBUG:FFC:  Removing unused variable: tmp6\n"
       ]
      },
      {
       "output_type": "stream",
       "stream": "stderr",
       "text": [
        "DEBUG:FFC:  Removing unused variable: tmp5\n"
       ]
      },
      {
       "output_type": "stream",
       "stream": "stderr",
       "text": [
        "DEBUG:FFC:  Removing unused variable: tt\n"
       ]
      },
      {
       "output_type": "stream",
       "stream": "stderr",
       "text": [
        "DEBUG:FFC:  Removing unused variable: ss\n"
       ]
      },
      {
       "output_type": "stream",
       "stream": "stderr",
       "text": [
        "DEBUG:FFC:  Removing unused variable: rr\n"
       ]
      },
      {
       "output_type": "stream",
       "stream": "stderr",
       "text": [
        "DEBUG:FFC:  Removing unused variable: tmp2\n"
       ]
      },
      {
       "output_type": "stream",
       "stream": "stderr",
       "text": [
        "DEBUG:FFC:  Removing unused variable: tmp1\n"
       ]
      },
      {
       "output_type": "stream",
       "stream": "stderr",
       "text": [
        "DEBUG:FFC:  Removing unused variable: tmp7\n"
       ]
      },
      {
       "output_type": "stream",
       "stream": "stderr",
       "text": [
        "DEBUG:FFC:  Removing unused variable: tmp6\n"
       ]
      },
      {
       "output_type": "stream",
       "stream": "stderr",
       "text": [
        "DEBUG:FFC:  Removing unused variable: tmp5\n"
       ]
      },
      {
       "output_type": "stream",
       "stream": "stderr",
       "text": [
        "DEBUG:FFC:  Removing unused variable: tt\n"
       ]
      },
      {
       "output_type": "stream",
       "stream": "stderr",
       "text": [
        "DEBUG:FFC:  Removing unused variable: ss\n"
       ]
      },
      {
       "output_type": "stream",
       "stream": "stderr",
       "text": [
        "DEBUG:FFC:  Removing unused variable: rr\n"
       ]
      },
      {
       "output_type": "stream",
       "stream": "stderr",
       "text": [
        "DEBUG:FFC:  Removing unused variable: tmp2\n"
       ]
      },
      {
       "output_type": "stream",
       "stream": "stderr",
       "text": [
        "DEBUG:FFC:  Removing unused variable: tmp1\n"
       ]
      },
      {
       "output_type": "stream",
       "stream": "stderr",
       "text": [
        "DEBUG:FFC:  Removing unused variable: tmp7\n"
       ]
      },
      {
       "output_type": "stream",
       "stream": "stderr",
       "text": [
        "DEBUG:FFC:  Removing unused variable: tmp6\n"
       ]
      },
      {
       "output_type": "stream",
       "stream": "stderr",
       "text": [
        "DEBUG:FFC:  Removing unused variable: tmp5\n"
       ]
      },
      {
       "output_type": "stream",
       "stream": "stderr",
       "text": [
        "DEBUG:FFC:  Removing unused variable: tt\n"
       ]
      },
      {
       "output_type": "stream",
       "stream": "stderr",
       "text": [
        "DEBUG:FFC:  Removing unused variable: ss\n"
       ]
      },
      {
       "output_type": "stream",
       "stream": "stderr",
       "text": [
        "DEBUG:FFC:  Removing unused variable: rr\n"
       ]
      },
      {
       "output_type": "stream",
       "stream": "stderr",
       "text": [
        "DEBUG:FFC:  Removing unused variable: tmp2\n"
       ]
      },
      {
       "output_type": "stream",
       "stream": "stderr",
       "text": [
        "DEBUG:FFC:  Removing unused variable: tmp1\n"
       ]
      },
      {
       "output_type": "stream",
       "stream": "stderr",
       "text": [
        "DEBUG:FFC:  Removing unused variable: tmp7\n"
       ]
      },
      {
       "output_type": "stream",
       "stream": "stderr",
       "text": [
        "DEBUG:FFC:  Removing unused variable: tmp6\n"
       ]
      },
      {
       "output_type": "stream",
       "stream": "stderr",
       "text": [
        "DEBUG:FFC:  Removing unused variable: tmp5\n"
       ]
      },
      {
       "output_type": "stream",
       "stream": "stderr",
       "text": [
        "DEBUG:FFC:  Removing unused variable: tt\n"
       ]
      },
      {
       "output_type": "stream",
       "stream": "stderr",
       "text": [
        "DEBUG:FFC:  Removing unused variable: ss\n"
       ]
      },
      {
       "output_type": "stream",
       "stream": "stderr",
       "text": [
        "DEBUG:FFC:  Removing unused variable: rr\n"
       ]
      },
      {
       "output_type": "stream",
       "stream": "stderr",
       "text": [
        "DEBUG:FFC:  Removing unused variable: tmp2\n"
       ]
      },
      {
       "output_type": "stream",
       "stream": "stderr",
       "text": [
        "DEBUG:FFC:  Removing unused variable: tmp1\n"
       ]
      },
      {
       "output_type": "stream",
       "stream": "stderr",
       "text": [
        "DEBUG:FFC:  Removing unused variable: tmp7\n"
       ]
      },
      {
       "output_type": "stream",
       "stream": "stderr",
       "text": [
        "DEBUG:FFC:  Removing unused variable: tmp6\n"
       ]
      },
      {
       "output_type": "stream",
       "stream": "stderr",
       "text": [
        "DEBUG:FFC:  Removing unused variable: tmp5\n"
       ]
      },
      {
       "output_type": "stream",
       "stream": "stderr",
       "text": [
        "DEBUG:FFC:  Removing unused variable: tt\n"
       ]
      },
      {
       "output_type": "stream",
       "stream": "stderr",
       "text": [
        "DEBUG:FFC:  Removing unused variable: ss\n"
       ]
      },
      {
       "output_type": "stream",
       "stream": "stderr",
       "text": [
        "DEBUG:FFC:  Removing unused variable: rr\n"
       ]
      },
      {
       "output_type": "stream",
       "stream": "stderr",
       "text": [
        "DEBUG:FFC:  Removing unused variable: tmp2\n"
       ]
      },
      {
       "output_type": "stream",
       "stream": "stderr",
       "text": [
        "DEBUG:FFC:  Removing unused variable: tmp1\n"
       ]
      },
      {
       "output_type": "stream",
       "stream": "stderr",
       "text": [
        "DEBUG:FFC:  Removing unused variable: tmp7\n"
       ]
      },
      {
       "output_type": "stream",
       "stream": "stderr",
       "text": [
        "DEBUG:FFC:  Removing unused variable: tmp6\n"
       ]
      },
      {
       "output_type": "stream",
       "stream": "stderr",
       "text": [
        "DEBUG:FFC:  Removing unused variable: tmp5\n"
       ]
      },
      {
       "output_type": "stream",
       "stream": "stderr",
       "text": [
        "DEBUG:FFC:  Removing unused variable: tt\n"
       ]
      },
      {
       "output_type": "stream",
       "stream": "stderr",
       "text": [
        "DEBUG:FFC:  Removing unused variable: ss\n"
       ]
      },
      {
       "output_type": "stream",
       "stream": "stderr",
       "text": [
        "DEBUG:FFC:  Removing unused variable: rr\n"
       ]
      },
      {
       "output_type": "stream",
       "stream": "stderr",
       "text": [
        "DEBUG:FFC:  Removing unused variable: tmp2\n"
       ]
      },
      {
       "output_type": "stream",
       "stream": "stderr",
       "text": [
        "DEBUG:FFC:  Removing unused variable: tmp1\n"
       ]
      },
      {
       "output_type": "stream",
       "stream": "stderr",
       "text": [
        "DEBUG:FFC:  Removing unused variable: tmp7\n"
       ]
      },
      {
       "output_type": "stream",
       "stream": "stderr",
       "text": [
        "DEBUG:FFC:  Removing unused variable: tmp6\n"
       ]
      },
      {
       "output_type": "stream",
       "stream": "stderr",
       "text": [
        "DEBUG:FFC:  Removing unused variable: tmp5\n"
       ]
      },
      {
       "output_type": "stream",
       "stream": "stderr",
       "text": [
        "DEBUG:FFC:  Removing unused variable: tt\n"
       ]
      },
      {
       "output_type": "stream",
       "stream": "stderr",
       "text": [
        "DEBUG:FFC:  Removing unused variable: ss\n"
       ]
      },
      {
       "output_type": "stream",
       "stream": "stderr",
       "text": [
        "DEBUG:FFC:  Removing unused variable: rr\n"
       ]
      },
      {
       "output_type": "stream",
       "stream": "stderr",
       "text": [
        "DEBUG:FFC:  Removing unused variable: tmp2\n"
       ]
      },
      {
       "output_type": "stream",
       "stream": "stderr",
       "text": [
        "DEBUG:FFC:  Removing unused variable: tmp1\n"
       ]
      },
      {
       "output_type": "stream",
       "stream": "stderr",
       "text": [
        "DEBUG:FFC:  Removing unused variable: tmp7\n"
       ]
      },
      {
       "output_type": "stream",
       "stream": "stderr",
       "text": [
        "DEBUG:FFC:  Removing unused variable: tmp6\n"
       ]
      },
      {
       "output_type": "stream",
       "stream": "stderr",
       "text": [
        "DEBUG:FFC:  Removing unused variable: tmp5\n"
       ]
      },
      {
       "output_type": "stream",
       "stream": "stderr",
       "text": [
        "DEBUG:FFC:  Removing unused variable: tt\n"
       ]
      },
      {
       "output_type": "stream",
       "stream": "stderr",
       "text": [
        "DEBUG:FFC:  Removing unused variable: ss\n"
       ]
      },
      {
       "output_type": "stream",
       "stream": "stderr",
       "text": [
        "DEBUG:FFC:  Removing unused variable: rr\n"
       ]
      },
      {
       "output_type": "stream",
       "stream": "stderr",
       "text": [
        "DEBUG:FFC:  Removing unused variable: tmp2\n"
       ]
      },
      {
       "output_type": "stream",
       "stream": "stderr",
       "text": [
        "DEBUG:FFC:  Removing unused variable: tmp1\n"
       ]
      },
      {
       "output_type": "stream",
       "stream": "stderr",
       "text": [
        "DEBUG:FFC:  Removing unused variable: tmp7\n"
       ]
      },
      {
       "output_type": "stream",
       "stream": "stderr",
       "text": [
        "DEBUG:FFC:  Removing unused variable: tmp6\n"
       ]
      },
      {
       "output_type": "stream",
       "stream": "stderr",
       "text": [
        "DEBUG:FFC:  Removing unused variable: tmp5\n"
       ]
      },
      {
       "output_type": "stream",
       "stream": "stderr",
       "text": [
        "DEBUG:FFC:  Removing unused variable: tt\n"
       ]
      },
      {
       "output_type": "stream",
       "stream": "stderr",
       "text": [
        "DEBUG:FFC:  Removing unused variable: ss\n"
       ]
      },
      {
       "output_type": "stream",
       "stream": "stderr",
       "text": [
        "DEBUG:FFC:  Removing unused variable: rr\n"
       ]
      },
      {
       "output_type": "stream",
       "stream": "stderr",
       "text": [
        "DEBUG:FFC:  Removing unused variable: tmp2\n"
       ]
      },
      {
       "output_type": "stream",
       "stream": "stderr",
       "text": [
        "DEBUG:FFC:  Removing unused variable: tmp1\n"
       ]
      },
      {
       "output_type": "stream",
       "stream": "stderr",
       "text": [
        "DEBUG:FFC:  Removing unused variable: tmp7\n"
       ]
      },
      {
       "output_type": "stream",
       "stream": "stderr",
       "text": [
        "DEBUG:FFC:  Removing unused variable: tmp6\n"
       ]
      },
      {
       "output_type": "stream",
       "stream": "stderr",
       "text": [
        "DEBUG:FFC:  Removing unused variable: tmp5\n"
       ]
      },
      {
       "output_type": "stream",
       "stream": "stderr",
       "text": [
        "DEBUG:FFC:  Removing unused variable: tt\n"
       ]
      },
      {
       "output_type": "stream",
       "stream": "stderr",
       "text": [
        "DEBUG:FFC:  Removing unused variable: ss\n"
       ]
      },
      {
       "output_type": "stream",
       "stream": "stderr",
       "text": [
        "DEBUG:FFC:  Removing unused variable: rr\n"
       ]
      },
      {
       "output_type": "stream",
       "stream": "stderr",
       "text": [
        "DEBUG:FFC:  Removing unused variable: tmp2\n"
       ]
      },
      {
       "output_type": "stream",
       "stream": "stderr",
       "text": [
        "DEBUG:FFC:  Removing unused variable: tmp1\n"
       ]
      },
      {
       "output_type": "stream",
       "stream": "stderr",
       "text": [
        "DEBUG:FFC:  Removing unused variable: tmp7\n"
       ]
      },
      {
       "output_type": "stream",
       "stream": "stderr",
       "text": [
        "DEBUG:FFC:  Removing unused variable: tmp6\n"
       ]
      },
      {
       "output_type": "stream",
       "stream": "stderr",
       "text": [
        "DEBUG:FFC:  Removing unused variable: tmp5\n"
       ]
      },
      {
       "output_type": "stream",
       "stream": "stderr",
       "text": [
        "DEBUG:FFC:  Removing unused variable: tt\n"
       ]
      },
      {
       "output_type": "stream",
       "stream": "stderr",
       "text": [
        "DEBUG:FFC:  Removing unused variable: ss\n"
       ]
      },
      {
       "output_type": "stream",
       "stream": "stderr",
       "text": [
        "DEBUG:FFC:  Removing unused variable: rr\n"
       ]
      },
      {
       "output_type": "stream",
       "stream": "stderr",
       "text": [
        "DEBUG:FFC:  Removing unused variable: tmp2\n"
       ]
      },
      {
       "output_type": "stream",
       "stream": "stderr",
       "text": [
        "DEBUG:FFC:  Removing unused variable: tmp1\n"
       ]
      },
      {
       "output_type": "stream",
       "stream": "stderr",
       "text": [
        "DEBUG:FFC:  Removing unused variable: tmp7\n"
       ]
      },
      {
       "output_type": "stream",
       "stream": "stderr",
       "text": [
        "DEBUG:FFC:  Removing unused variable: tmp6\n"
       ]
      },
      {
       "output_type": "stream",
       "stream": "stderr",
       "text": [
        "DEBUG:FFC:  Removing unused variable: tmp5\n"
       ]
      },
      {
       "output_type": "stream",
       "stream": "stderr",
       "text": [
        "DEBUG:FFC:  Removing unused variable: tt\n"
       ]
      },
      {
       "output_type": "stream",
       "stream": "stderr",
       "text": [
        "DEBUG:FFC:  Removing unused variable: ss\n"
       ]
      },
      {
       "output_type": "stream",
       "stream": "stderr",
       "text": [
        "DEBUG:FFC:  Removing unused variable: rr\n"
       ]
      },
      {
       "output_type": "stream",
       "stream": "stderr",
       "text": [
        "DEBUG:FFC:  Removing unused variable: tmp2\n"
       ]
      },
      {
       "output_type": "stream",
       "stream": "stderr",
       "text": [
        "DEBUG:FFC:  Removing unused variable: tmp1\n"
       ]
      },
      {
       "output_type": "stream",
       "stream": "stderr",
       "text": [
        "DEBUG:FFC:  Removing unused variable: tmp7\n"
       ]
      },
      {
       "output_type": "stream",
       "stream": "stderr",
       "text": [
        "DEBUG:FFC:  Removing unused variable: tmp6\n"
       ]
      },
      {
       "output_type": "stream",
       "stream": "stderr",
       "text": [
        "DEBUG:FFC:  Removing unused variable: tmp5\n"
       ]
      },
      {
       "output_type": "stream",
       "stream": "stderr",
       "text": [
        "DEBUG:FFC:  Removing unused variable: tt\n"
       ]
      },
      {
       "output_type": "stream",
       "stream": "stderr",
       "text": [
        "DEBUG:FFC:  Removing unused variable: ss\n"
       ]
      },
      {
       "output_type": "stream",
       "stream": "stderr",
       "text": [
        "DEBUG:FFC:  Removing unused variable: rr\n"
       ]
      },
      {
       "output_type": "stream",
       "stream": "stderr",
       "text": [
        "DEBUG:FFC:  Removing unused variable: tmp2\n"
       ]
      },
      {
       "output_type": "stream",
       "stream": "stderr",
       "text": [
        "DEBUG:FFC:  Removing unused variable: tmp1\n"
       ]
      },
      {
       "output_type": "stream",
       "stream": "stderr",
       "text": [
        "DEBUG:FFC:  Removing unused variable: tmp7\n"
       ]
      },
      {
       "output_type": "stream",
       "stream": "stderr",
       "text": [
        "DEBUG:FFC:  Removing unused variable: tmp6\n"
       ]
      },
      {
       "output_type": "stream",
       "stream": "stderr",
       "text": [
        "DEBUG:FFC:  Removing unused variable: tmp5\n"
       ]
      },
      {
       "output_type": "stream",
       "stream": "stderr",
       "text": [
        "DEBUG:FFC:  Removing unused variable: tt\n"
       ]
      },
      {
       "output_type": "stream",
       "stream": "stderr",
       "text": [
        "DEBUG:FFC:  Removing unused variable: ss\n"
       ]
      },
      {
       "output_type": "stream",
       "stream": "stderr",
       "text": [
        "DEBUG:FFC:  Removing unused variable: rr\n"
       ]
      },
      {
       "output_type": "stream",
       "stream": "stderr",
       "text": [
        "DEBUG:FFC:  Removing unused variable: tmp2\n"
       ]
      },
      {
       "output_type": "stream",
       "stream": "stderr",
       "text": [
        "DEBUG:FFC:  Removing unused variable: tmp1\n"
       ]
      },
      {
       "output_type": "stream",
       "stream": "stderr",
       "text": [
        "DEBUG:FFC:  Removing unused variable: tmp7\n"
       ]
      },
      {
       "output_type": "stream",
       "stream": "stderr",
       "text": [
        "DEBUG:FFC:  Removing unused variable: tmp6\n"
       ]
      },
      {
       "output_type": "stream",
       "stream": "stderr",
       "text": [
        "DEBUG:FFC:  Removing unused variable: tmp5\n"
       ]
      },
      {
       "output_type": "stream",
       "stream": "stderr",
       "text": [
        "DEBUG:FFC:  Removing unused variable: tt\n"
       ]
      },
      {
       "output_type": "stream",
       "stream": "stderr",
       "text": [
        "DEBUG:FFC:  Removing unused variable: ss\n"
       ]
      },
      {
       "output_type": "stream",
       "stream": "stderr",
       "text": [
        "DEBUG:FFC:  Removing unused variable: rr\n"
       ]
      },
      {
       "output_type": "stream",
       "stream": "stderr",
       "text": [
        "DEBUG:FFC:  Removing unused variable: tmp2\n"
       ]
      },
      {
       "output_type": "stream",
       "stream": "stderr",
       "text": [
        "DEBUG:FFC:  Removing unused variable: tmp1\n"
       ]
      },
      {
       "output_type": "stream",
       "stream": "stderr",
       "text": [
        "DEBUG:FFC:  Removing unused variable: tmp7\n"
       ]
      },
      {
       "output_type": "stream",
       "stream": "stderr",
       "text": [
        "DEBUG:FFC:  Removing unused variable: tmp6\n"
       ]
      },
      {
       "output_type": "stream",
       "stream": "stderr",
       "text": [
        "DEBUG:FFC:  Removing unused variable: tmp5\n"
       ]
      },
      {
       "output_type": "stream",
       "stream": "stderr",
       "text": [
        "DEBUG:FFC:  Removing unused variable: tt\n"
       ]
      },
      {
       "output_type": "stream",
       "stream": "stderr",
       "text": [
        "DEBUG:FFC:  Removing unused variable: ss\n"
       ]
      },
      {
       "output_type": "stream",
       "stream": "stderr",
       "text": [
        "DEBUG:FFC:  Removing unused variable: rr\n"
       ]
      },
      {
       "output_type": "stream",
       "stream": "stderr",
       "text": [
        "DEBUG:FFC:  Removing unused variable: tmp2\n"
       ]
      },
      {
       "output_type": "stream",
       "stream": "stderr",
       "text": [
        "DEBUG:FFC:  Removing unused variable: tmp1\n"
       ]
      },
      {
       "output_type": "stream",
       "stream": "stderr",
       "text": [
        "DEBUG:FFC:  Removing unused variable: tmp7\n"
       ]
      },
      {
       "output_type": "stream",
       "stream": "stderr",
       "text": [
        "DEBUG:FFC:  Removing unused variable: tmp6\n"
       ]
      },
      {
       "output_type": "stream",
       "stream": "stderr",
       "text": [
        "DEBUG:FFC:  Removing unused variable: tmp5\n"
       ]
      },
      {
       "output_type": "stream",
       "stream": "stderr",
       "text": [
        "DEBUG:FFC:  Removing unused variable: tt\n"
       ]
      },
      {
       "output_type": "stream",
       "stream": "stderr",
       "text": [
        "DEBUG:FFC:  Removing unused variable: ss\n"
       ]
      },
      {
       "output_type": "stream",
       "stream": "stderr",
       "text": [
        "DEBUG:FFC:  Removing unused variable: rr\n"
       ]
      },
      {
       "output_type": "stream",
       "stream": "stderr",
       "text": [
        "DEBUG:FFC:  Removing unused variable: tmp2\n"
       ]
      },
      {
       "output_type": "stream",
       "stream": "stderr",
       "text": [
        "DEBUG:FFC:  Removing unused variable: tmp1\n"
       ]
      },
      {
       "output_type": "stream",
       "stream": "stderr",
       "text": [
        "DEBUG:FFC:  Removing unused variable: tmp7\n"
       ]
      },
      {
       "output_type": "stream",
       "stream": "stderr",
       "text": [
        "DEBUG:FFC:  Removing unused variable: tmp6\n"
       ]
      },
      {
       "output_type": "stream",
       "stream": "stderr",
       "text": [
        "DEBUG:FFC:  Removing unused variable: tmp5\n"
       ]
      },
      {
       "output_type": "stream",
       "stream": "stderr",
       "text": [
        "DEBUG:FFC:  Removing unused variable: tt\n"
       ]
      },
      {
       "output_type": "stream",
       "stream": "stderr",
       "text": [
        "DEBUG:FFC:  Removing unused variable: ss\n"
       ]
      },
      {
       "output_type": "stream",
       "stream": "stderr",
       "text": [
        "DEBUG:FFC:  Removing unused variable: rr\n"
       ]
      },
      {
       "output_type": "stream",
       "stream": "stderr",
       "text": [
        "INFO:FFC:  Generating code for 3 dofmap(s)\n"
       ]
      },
      {
       "output_type": "stream",
       "stream": "stderr",
       "text": [
        "INFO:FFC:  Generating code for integrals\n"
       ]
      },
      {
       "output_type": "stream",
       "stream": "stderr",
       "text": [
        "INFO:FFC:  Generating code for forms\n"
       ]
      },
      {
       "output_type": "stream",
       "stream": "stderr",
       "text": [
        "INFO:FFC:  \n"
       ]
      },
      {
       "output_type": "stream",
       "stream": "stderr",
       "text": [
        "INFO:FFC:Compiler stage 4 finished in 0.234904 seconds.\n",
        "\n"
       ]
      },
      {
       "output_type": "stream",
       "stream": "stderr",
       "text": [
        "INFO:FFC:Compiler stage 4.1 finished in 2.86102e-06 seconds.\n",
        "\n"
       ]
      },
      {
       "output_type": "stream",
       "stream": "stderr",
       "text": [
        "INFO:FFC:Compiler stage 5: Formatting code\n"
       ]
      },
      {
       "output_type": "stream",
       "stream": "stderr",
       "text": [
        "INFO:FFC:---------------------------------\n"
       ]
      },
      {
       "output_type": "stream",
       "stream": "stderr",
       "text": [
        "INFO:FFC:  Output written to ./ffc_form_90680427f125ed0d5326740b03feb8fb8467730c.h.\n"
       ]
      },
      {
       "output_type": "stream",
       "stream": "stderr",
       "text": [
        "INFO:FFC:  \n"
       ]
      },
      {
       "output_type": "stream",
       "stream": "stderr",
       "text": [
        "INFO:FFC:Compiler stage 5 finished in 0.010843 seconds.\n",
        "\n"
       ]
      },
      {
       "output_type": "stream",
       "stream": "stderr",
       "text": [
        "INFO:FFC:\u001b[1;37;32mFFC finished in 0.357804 seconds.\u001b[0m\n"
       ]
      },
      {
       "output_type": "stream",
       "stream": "stderr",
       "text": [
        "DEBUG:FFC:Compiling and linking Python extension module, this may take some time.\n"
       ]
      },
      {
       "ename": "RuntimeError",
       "evalue": "\n\n*** -------------------------------------------------------------------------\n*** DOLFIN encountered an error. If you are not able to resolve this issue\n*** using the information listed below, you can ask for help at\n***\n***     fenics@fenicsproject.org\n***\n*** Remember to include the error message listed below and, if possible,\n*** include a *minimal* running example to reproduce the error.\n***\n*** -------------------------------------------------------------------------\n*** Error:   Unable to assign parameter value.\n*** Reason:  Illegal value for parameter \"linear_algebra_backend\". Allowed values are: [STL, uBLAS].\n*** Where:   This error was encountered inside Parameter.cpp.\n*** Process: unknown\n*** \n*** DOLFIN version: 1.4.0\n*** Git changeset:  \n*** -------------------------------------------------------------------------\n",
       "output_type": "pyerr",
       "traceback": [
        "\u001b[0;31m---------------------------------------------------------------------------\u001b[0m\n\u001b[0;31mRuntimeError\u001b[0m                              Traceback (most recent call last)",
        "\u001b[0;32m<ipython-input-7-36d3d73b3ac4>\u001b[0m in \u001b[0;36m<module>\u001b[0;34m()\u001b[0m\n\u001b[1;32m     21\u001b[0m \u001b[0mB\u001b[0m \u001b[0;34m=\u001b[0m \u001b[0mB\u001b[0m\u001b[0;34m.\u001b[0m\u001b[0msparray\u001b[0m\u001b[0;34m(\u001b[0m\u001b[0;34m)\u001b[0m\u001b[0;34m[\u001b[0m\u001b[0mW\u001b[0m\u001b[0;34m.\u001b[0m\u001b[0mdim\u001b[0m\u001b[0;34m(\u001b[0m\u001b[0;34m)\u001b[0m\u001b[0;34m-\u001b[0m\u001b[0mV\u001b[0m\u001b[0;34m.\u001b[0m\u001b[0mdim\u001b[0m\u001b[0;34m(\u001b[0m\u001b[0;34m)\u001b[0m\u001b[0;34m:\u001b[0m\u001b[0;34m,\u001b[0m\u001b[0mW\u001b[0m\u001b[0;34m.\u001b[0m\u001b[0mdim\u001b[0m\u001b[0;34m(\u001b[0m\u001b[0;34m)\u001b[0m\u001b[0;34m-\u001b[0m\u001b[0mQ\u001b[0m\u001b[0;34m.\u001b[0m\u001b[0mdim\u001b[0m\u001b[0;34m(\u001b[0m\u001b[0;34m)\u001b[0m\u001b[0;34m:\u001b[0m\u001b[0;34m]\u001b[0m\u001b[0;34m\u001b[0m\u001b[0m\n\u001b[1;32m     22\u001b[0m \u001b[0mksp\u001b[0m \u001b[0;34m=\u001b[0m \u001b[0mPETSc\u001b[0m\u001b[0;34m.\u001b[0m\u001b[0mKSP\u001b[0m\u001b[0;34m(\u001b[0m\u001b[0;34m)\u001b[0m\u001b[0;34m.\u001b[0m\u001b[0mcreate\u001b[0m\u001b[0;34m(\u001b[0m\u001b[0;34m)\u001b[0m\u001b[0;34m\u001b[0m\u001b[0m\n\u001b[0;32m---> 23\u001b[0;31m \u001b[0mparameters\u001b[0m\u001b[0;34m[\u001b[0m\u001b[0;34m'linear_algebra_backend'\u001b[0m\u001b[0;34m]\u001b[0m \u001b[0;34m=\u001b[0m \u001b[0;34m'PETSc'\u001b[0m\u001b[0;34m\u001b[0m\u001b[0m\n\u001b[0m\u001b[1;32m     24\u001b[0m \u001b[0mM\u001b[0m \u001b[0;34m=\u001b[0m \u001b[0massemble\u001b[0m\u001b[0;34m(\u001b[0m\u001b[0mm\u001b[0m\u001b[0;34m)\u001b[0m\u001b[0;34m\u001b[0m\u001b[0m\n\u001b[1;32m     25\u001b[0m \u001b[0mM\u001b[0m \u001b[0;34m=\u001b[0m \u001b[0mCP\u001b[0m\u001b[0;34m.\u001b[0m\u001b[0mAssemble\u001b[0m\u001b[0;34m(\u001b[0m\u001b[0mM\u001b[0m\u001b[0;34m)\u001b[0m\u001b[0;34m\u001b[0m\u001b[0m\n",
        "\u001b[0;32m/opt/local/Library/Frameworks/Python.framework/Versions/2.7/lib/python2.7/site-packages/dolfin/cpp/common.py\u001b[0m in \u001b[0;36m__setitem__\u001b[0;34m(self, key, value)\u001b[0m\n\u001b[1;32m   2099\u001b[0m             \u001b[0mpar\u001b[0m\u001b[0;34m.\u001b[0m\u001b[0m_assign_bool\u001b[0m\u001b[0;34m(\u001b[0m\u001b[0mvalue\u001b[0m\u001b[0;34m)\u001b[0m\u001b[0;34m\u001b[0m\u001b[0m\n\u001b[1;32m   2100\u001b[0m         \u001b[0;32melse\u001b[0m\u001b[0;34m:\u001b[0m\u001b[0;34m\u001b[0m\u001b[0m\n\u001b[0;32m-> 2101\u001b[0;31m             \u001b[0mpar\u001b[0m\u001b[0;34m.\u001b[0m\u001b[0m_assign\u001b[0m\u001b[0;34m(\u001b[0m\u001b[0mvalue\u001b[0m\u001b[0;34m)\u001b[0m\u001b[0;34m\u001b[0m\u001b[0m\n\u001b[0m\u001b[1;32m   2102\u001b[0m \u001b[0;34m\u001b[0m\u001b[0m\n\u001b[1;32m   2103\u001b[0m     \u001b[0;32mdef\u001b[0m \u001b[0mupdate\u001b[0m\u001b[0;34m(\u001b[0m\u001b[0mself\u001b[0m\u001b[0;34m,\u001b[0m \u001b[0mother\u001b[0m\u001b[0;34m)\u001b[0m\u001b[0;34m:\u001b[0m\u001b[0;34m\u001b[0m\u001b[0m\n",
        "\u001b[0;31mRuntimeError\u001b[0m: \n\n*** -------------------------------------------------------------------------\n*** DOLFIN encountered an error. If you are not able to resolve this issue\n*** using the information listed below, you can ask for help at\n***\n***     fenics@fenicsproject.org\n***\n*** Remember to include the error message listed below and, if possible,\n*** include a *minimal* running example to reproduce the error.\n***\n*** -------------------------------------------------------------------------\n*** Error:   Unable to assign parameter value.\n*** Reason:  Illegal value for parameter \"linear_algebra_backend\". Allowed values are: [STL, uBLAS].\n*** Where:   This error was encountered inside Parameter.cpp.\n*** Process: unknown\n*** \n*** DOLFIN version: 1.4.0\n*** Git changeset:  \n*** -------------------------------------------------------------------------\n"
       ]
      }
     ],
     "prompt_number": 7
    },
    {
     "cell_type": "code",
     "collapsed": false,
     "input": [
      "print Lmap.vertex_to_dof_map(mesh)\n",
      "print Lmap.dof_to_vertex_map(mesh)\n",
      "print Mmap.extract_sub_dofmap()"
     ],
     "language": "python",
     "metadata": {},
     "outputs": []
    },
    {
     "cell_type": "code",
     "collapsed": false,
     "input": [
      "# vertex = vertices(mesh)"
     ],
     "language": "python",
     "metadata": {},
     "outputs": [],
     "prompt_number": 11
    },
    {
     "cell_type": "code",
     "collapsed": false,
     "input": [
      "for vert in vertices(mesh):\n",
      "        print \"\\nvert\", vert.index()\n",
      "        for edge in edges(vert):\n",
      "                print \"   edge\", edge.index()\n",
      "# vert."
     ],
     "language": "python",
     "metadata": {},
     "outputs": [
      {
       "output_type": "stream",
       "stream": "stdout",
       "text": [
        "\n",
        "vert 0\n",
        "   edge 1\n",
        "   edge 2\n",
        "\n",
        "vert 1\n",
        "   edge 0\n",
        "   edge 2\n",
        "   edge 4\n",
        "   edge 6\n",
        "\n",
        "vert 2\n",
        "   edge 5\n",
        "   edge 6\n",
        "   edge 8\n",
        "   edge 10\n",
        "\n",
        "vert 3\n",
        "   edge 9\n",
        "   edge 10\n",
        "   edge 12\n",
        "   edge 14\n",
        "\n",
        "vert 4\n",
        "   edge 13\n",
        "   edge 14\n",
        "   edge 16\n",
        "\n",
        "vert 5\n",
        "   edge 0\n",
        "   edge 1\n",
        "   edge 3\n",
        "   edge 18\n",
        "\n",
        "vert 6\n",
        "   edge 3\n",
        "   edge 4\n",
        "   edge 5\n",
        "   edge 7\n",
        "   edge 17\n",
        "   edge 20\n",
        "\n",
        "vert 7\n",
        "   edge 7\n",
        "   edge 8\n",
        "   edge 9\n",
        "   edge 11\n",
        "   edge 21\n",
        "   edge 23\n",
        "\n",
        "vert 8\n",
        "   edge 11\n",
        "   edge 12\n",
        "   edge 13\n",
        "   edge 15\n",
        "   edge 24\n",
        "   edge 26\n",
        "\n",
        "vert 9\n",
        "   edge 15\n",
        "   edge 16\n",
        "   edge 27\n",
        "   edge 29\n",
        "\n",
        "vert 10\n",
        "   edge 17\n",
        "   edge 18\n",
        "   edge 19\n",
        "   edge 31\n",
        "\n",
        "vert 11\n",
        "   edge 19\n",
        "   edge 20\n",
        "   edge 21\n",
        "   edge 22\n",
        "   edge 30\n",
        "   edge 33\n",
        "\n",
        "vert 12\n",
        "   edge 22\n",
        "   edge 23\n",
        "   edge 24\n",
        "   edge 25\n",
        "   edge 34\n",
        "   edge 36\n",
        "\n",
        "vert 13\n",
        "   edge 25\n",
        "   edge 26\n",
        "   edge 27\n",
        "   edge 28\n",
        "   edge 37\n",
        "   edge 39\n",
        "\n",
        "vert 14\n",
        "   edge 28\n",
        "   edge 29\n",
        "   edge 40\n",
        "   edge 42\n",
        "\n",
        "vert 15\n",
        "   edge 30\n",
        "   edge 31\n",
        "   edge 32\n",
        "   edge 44\n",
        "\n",
        "vert 16\n",
        "   edge 32\n",
        "   edge 33\n",
        "   edge 34\n",
        "   edge 35\n",
        "   edge 43\n",
        "   edge 46\n",
        "\n",
        "vert 17\n",
        "   edge 35\n",
        "   edge 36\n",
        "   edge 37\n",
        "   edge 38\n",
        "   edge 47\n",
        "   edge 49\n",
        "\n",
        "vert 18\n",
        "   edge 38\n",
        "   edge 39\n",
        "   edge 40\n",
        "   edge 41\n",
        "   edge 50\n",
        "   edge 52\n",
        "\n",
        "vert 19\n",
        "   edge 41\n",
        "   edge 42\n",
        "   edge 53\n",
        "   edge 55\n",
        "\n",
        "vert 20\n",
        "   edge 43\n",
        "   edge 44\n",
        "   edge 45\n",
        "\n",
        "vert 21\n",
        "   edge 45\n",
        "   edge 46\n",
        "   edge 47\n",
        "   edge 48\n",
        "\n",
        "vert 22\n",
        "   edge 48\n",
        "   edge 49\n",
        "   edge 50\n",
        "   edge 51\n",
        "\n",
        "vert 23\n",
        "   edge 51\n",
        "   edge 52\n",
        "   edge 53\n",
        "   edge 54\n",
        "\n",
        "vert 24\n",
        "   edge 54\n",
        "   edge 55\n"
       ]
      }
     ],
     "prompt_number": 8
    },
    {
     "cell_type": "code",
     "collapsed": false,
     "input": [
      "mesh = UnitCubeMesh(2,2,2)\n",
      "for vert in edges(mesh):\n",
      "        print \"\\nedge\", vert.index()\n",
      "        for edge in vertices(vert):\n",
      "                print \"   vertex\", edge.index()"
     ],
     "language": "python",
     "metadata": {},
     "outputs": [
      {
       "output_type": "stream",
       "stream": "stdout",
       "text": [
        "\n",
        "edge 0\n",
        "   vertex 4\n",
        "   vertex 13\n",
        "\n",
        "edge 1\n",
        "   vertex 1\n",
        "   vertex 13\n",
        "\n",
        "edge 2\n",
        "   vertex 1\n",
        "   vertex 4\n",
        "\n",
        "edge 3\n",
        "   vertex 0\n",
        "   vertex 13\n",
        "\n",
        "edge 4\n",
        "   vertex 0\n",
        "   vertex 4\n",
        "\n",
        "edge 5\n",
        "   vertex 0\n",
        "   vertex 1\n",
        "\n",
        "edge 6\n",
        "   vertex 10\n",
        "   vertex 13\n",
        "\n",
        "edge 7\n",
        "   vertex 1\n",
        "   vertex 10\n",
        "\n",
        "edge 8\n",
        "   vertex 0\n",
        "   vertex 10\n",
        "\n",
        "edge 9\n",
        "   vertex 9\n",
        "   vertex 13\n",
        "\n",
        "edge 10\n",
        "   vertex 9\n",
        "   vertex 10\n",
        "\n",
        "edge 11\n",
        "   vertex 0\n",
        "   vertex 9\n",
        "\n",
        "edge 12\n",
        "   vertex 3\n",
        "   vertex 13\n",
        "\n",
        "edge 13\n",
        "   vertex 3\n",
        "   vertex 4\n",
        "\n",
        "edge 14\n",
        "   vertex 0\n",
        "   vertex 3\n",
        "\n",
        "edge 15\n",
        "   vertex 12\n",
        "   vertex 13\n",
        "\n",
        "edge 16\n",
        "   vertex 9\n",
        "   vertex 12\n",
        "\n",
        "edge 17\n",
        "   vertex 0\n",
        "   vertex 12\n",
        "\n",
        "edge 18\n",
        "   vertex 3\n",
        "   vertex 12\n",
        "\n",
        "edge 19\n",
        "   vertex 5\n",
        "   vertex 14\n",
        "\n",
        "edge 20\n",
        "   vertex 2\n",
        "   vertex 14\n",
        "\n",
        "edge 21\n",
        "   vertex 2\n",
        "   vertex 5\n",
        "\n",
        "edge 22\n",
        "   vertex 1\n",
        "   vertex 14\n",
        "\n",
        "edge 23\n",
        "   vertex 1\n",
        "   vertex 5\n",
        "\n",
        "edge 24\n",
        "   vertex 1\n",
        "   vertex 2\n",
        "\n",
        "edge 25\n",
        "   vertex 11\n",
        "   vertex 14\n",
        "\n",
        "edge 26\n",
        "   vertex 2\n",
        "   vertex 11\n",
        "\n",
        "edge 27\n",
        "   vertex 1\n",
        "   vertex 11\n",
        "\n",
        "edge 28\n",
        "   vertex 10\n",
        "   vertex 14\n",
        "\n",
        "edge 29\n",
        "   vertex 10\n",
        "   vertex 11\n",
        "\n",
        "edge 30\n",
        "   vertex 4\n",
        "   vertex 14\n",
        "\n",
        "edge 31\n",
        "   vertex 4\n",
        "   vertex 5\n",
        "\n",
        "edge 32\n",
        "   vertex 13\n",
        "   vertex 14\n",
        "\n",
        "edge 33\n",
        "   vertex 7\n",
        "   vertex 16\n",
        "\n",
        "edge 34\n",
        "   vertex 4\n",
        "   vertex 16\n",
        "\n",
        "edge 35\n",
        "   vertex 4\n",
        "   vertex 7\n",
        "\n",
        "edge 36\n",
        "   vertex 3\n",
        "   vertex 16\n",
        "\n",
        "edge 37\n",
        "   vertex 3\n",
        "   vertex 7\n",
        "\n",
        "edge 38\n",
        "   vertex 13\n",
        "   vertex 16\n",
        "\n",
        "edge 39\n",
        "   vertex 12\n",
        "   vertex 16\n",
        "\n",
        "edge 40\n",
        "   vertex 6\n",
        "   vertex 16\n",
        "\n",
        "edge 41\n",
        "   vertex 6\n",
        "   vertex 7\n",
        "\n",
        "edge 42\n",
        "   vertex 3\n",
        "   vertex 6\n",
        "\n",
        "edge 43\n",
        "   vertex 15\n",
        "   vertex 16\n",
        "\n",
        "edge 44\n",
        "   vertex 12\n",
        "   vertex 15\n",
        "\n",
        "edge 45\n",
        "   vertex 3\n",
        "   vertex 15\n",
        "\n",
        "edge 46\n",
        "   vertex 6\n",
        "   vertex 15\n",
        "\n",
        "edge 47\n",
        "   vertex 8\n",
        "   vertex 17\n",
        "\n",
        "edge 48\n",
        "   vertex 5\n",
        "   vertex 17\n",
        "\n",
        "edge 49\n",
        "   vertex 5\n",
        "   vertex 8\n",
        "\n",
        "edge 50\n",
        "   vertex 4\n",
        "   vertex 17\n",
        "\n",
        "edge 51\n",
        "   vertex 4\n",
        "   vertex 8\n",
        "\n",
        "edge 52\n",
        "   vertex 14\n",
        "   vertex 17\n",
        "\n",
        "edge 53\n",
        "   vertex 13\n",
        "   vertex 17\n",
        "\n",
        "edge 54\n",
        "   vertex 7\n",
        "   vertex 17\n",
        "\n",
        "edge 55\n",
        "   vertex 7\n",
        "   vertex 8\n",
        "\n",
        "edge 56\n",
        "   vertex 16\n",
        "   vertex 17\n",
        "\n",
        "edge 57\n",
        "   vertex 13\n",
        "   vertex 22\n",
        "\n",
        "edge 58\n",
        "   vertex 10\n",
        "   vertex 22\n",
        "\n",
        "edge 59\n",
        "   vertex 9\n",
        "   vertex 22\n",
        "\n",
        "edge 60\n",
        "   vertex 19\n",
        "   vertex 22\n",
        "\n",
        "edge 61\n",
        "   vertex 10\n",
        "   vertex 19\n",
        "\n",
        "edge 62\n",
        "   vertex 9\n",
        "   vertex 19\n",
        "\n",
        "edge 63\n",
        "   vertex 18\n",
        "   vertex 22\n",
        "\n",
        "edge 64\n",
        "   vertex 18\n",
        "   vertex 19\n",
        "\n",
        "edge 65\n",
        "   vertex 9\n",
        "   vertex 18\n",
        "\n",
        "edge 66\n",
        "   vertex 12\n",
        "   vertex 22\n",
        "\n",
        "edge 67\n",
        "   vertex 21\n",
        "   vertex 22\n",
        "\n",
        "edge 68\n",
        "   vertex 18\n",
        "   vertex 21\n",
        "\n",
        "edge 69\n",
        "   vertex 9\n",
        "   vertex 21\n",
        "\n",
        "edge 70\n",
        "   vertex 12\n",
        "   vertex 21\n",
        "\n",
        "edge 71\n",
        "   vertex 14\n",
        "   vertex 23\n",
        "\n",
        "edge 72\n",
        "   vertex 11\n",
        "   vertex 23\n",
        "\n",
        "edge 73\n",
        "   vertex 10\n",
        "   vertex 23\n",
        "\n",
        "edge 74\n",
        "   vertex 20\n",
        "   vertex 23\n",
        "\n",
        "edge 75\n",
        "   vertex 11\n",
        "   vertex 20\n",
        "\n",
        "edge 76\n",
        "   vertex 10\n",
        "   vertex 20\n",
        "\n",
        "edge 77\n",
        "   vertex 19\n",
        "   vertex 23\n",
        "\n",
        "edge 78\n",
        "   vertex 19\n",
        "   vertex 20\n",
        "\n",
        "edge 79\n",
        "   vertex 13\n",
        "   vertex 23\n",
        "\n",
        "edge 80\n",
        "   vertex 22\n",
        "   vertex 23\n",
        "\n",
        "edge 81\n",
        "   vertex 16\n",
        "   vertex 25\n",
        "\n",
        "edge 82\n",
        "   vertex 13\n",
        "   vertex 25\n",
        "\n",
        "edge 83\n",
        "   vertex 12\n",
        "   vertex 25\n",
        "\n",
        "edge 84\n",
        "   vertex 22\n",
        "   vertex 25\n",
        "\n",
        "edge 85\n",
        "   vertex 21\n",
        "   vertex 25\n",
        "\n",
        "edge 86\n",
        "   vertex 15\n",
        "   vertex 25\n",
        "\n",
        "edge 87\n",
        "   vertex 24\n",
        "   vertex 25\n",
        "\n",
        "edge 88\n",
        "   vertex 21\n",
        "   vertex 24\n",
        "\n",
        "edge 89\n",
        "   vertex 12\n",
        "   vertex 24\n",
        "\n",
        "edge 90\n",
        "   vertex 15\n",
        "   vertex 24\n",
        "\n",
        "edge 91\n",
        "   vertex 17\n",
        "   vertex 26\n",
        "\n",
        "edge 92\n",
        "   vertex 14\n",
        "   vertex 26\n",
        "\n",
        "edge 93\n",
        "   vertex 13\n",
        "   vertex 26\n",
        "\n",
        "edge 94\n",
        "   vertex 23\n",
        "   vertex 26\n",
        "\n",
        "edge 95\n",
        "   vertex 22\n",
        "   vertex 26\n",
        "\n",
        "edge 96\n",
        "   vertex 16\n",
        "   vertex 26\n",
        "\n",
        "edge 97\n",
        "   vertex 25\n",
        "   vertex 26\n"
       ]
      }
     ],
     "prompt_number": 12
    },
    {
     "cell_type": "code",
     "collapsed": false,
     "input": [
      "for vert in faces(mesh):\n",
      "        print \"\\nedge\", vert.index()\n",
      "        for edge in vertices(vert):\n",
      "                print \"   vertex\", edge.index()"
     ],
     "language": "python",
     "metadata": {},
     "outputs": [
      {
       "output_type": "stream",
       "stream": "stdout",
       "text": [
        "\n",
        "edge 0\n",
        "   vertex 1\n",
        "   vertex 4\n",
        "   vertex 13\n",
        "\n",
        "edge 1\n",
        "   vertex 0\n",
        "   vertex 4\n",
        "   vertex 13\n",
        "\n",
        "edge 2\n",
        "   vertex 0\n",
        "   vertex 1\n",
        "   vertex 13\n",
        "\n",
        "edge 3\n",
        "   vertex 0\n",
        "   vertex 1\n",
        "   vertex 4\n",
        "\n",
        "edge 4\n",
        "   vertex 1\n",
        "   vertex 10\n",
        "   vertex 13\n",
        "\n",
        "edge 5\n",
        "   vertex 0\n",
        "   vertex 10\n",
        "   vertex 13\n",
        "\n",
        "edge 6\n",
        "   vertex 0\n",
        "   vertex 1\n",
        "   vertex 10\n",
        "\n",
        "edge 7\n",
        "   vertex 9\n",
        "   vertex 10\n",
        "   vertex 13\n",
        "\n",
        "edge 8\n",
        "   vertex 0\n",
        "   vertex 9\n",
        "   vertex 13\n",
        "\n",
        "edge 9\n",
        "   vertex 0\n",
        "   vertex 9\n",
        "   vertex 10\n",
        "\n",
        "edge 10\n",
        "   vertex 3\n",
        "   vertex 4\n",
        "   vertex 13\n",
        "\n",
        "edge 11\n",
        "   vertex 0\n",
        "   vertex 3\n",
        "   vertex 13\n",
        "\n",
        "edge 12\n",
        "   vertex 0\n",
        "   vertex 3\n",
        "   vertex 4\n",
        "\n",
        "edge 13\n",
        "   vertex 9\n",
        "   vertex 12\n",
        "   vertex 13\n",
        "\n",
        "edge 14\n",
        "   vertex 0\n",
        "   vertex 12\n",
        "   vertex 13\n",
        "\n",
        "edge 15\n",
        "   vertex 0\n",
        "   vertex 9\n",
        "   vertex 12\n",
        "\n",
        "edge 16\n",
        "   vertex 3\n",
        "   vertex 12\n",
        "   vertex 13\n",
        "\n",
        "edge 17\n",
        "   vertex 0\n",
        "   vertex 3\n",
        "   vertex 12\n",
        "\n",
        "edge 18\n",
        "   vertex 2\n",
        "   vertex 5\n",
        "   vertex 14\n",
        "\n",
        "edge 19\n",
        "   vertex 1\n",
        "   vertex 5\n",
        "   vertex 14\n",
        "\n",
        "edge 20\n",
        "   vertex 1\n",
        "   vertex 2\n",
        "   vertex 14\n",
        "\n",
        "edge 21\n",
        "   vertex 1\n",
        "   vertex 2\n",
        "   vertex 5\n",
        "\n",
        "edge 22\n",
        "   vertex 2\n",
        "   vertex 11\n",
        "   vertex 14\n",
        "\n",
        "edge 23\n",
        "   vertex 1\n",
        "   vertex 11\n",
        "   vertex 14\n",
        "\n",
        "edge 24\n",
        "   vertex 1\n",
        "   vertex 2\n",
        "   vertex 11\n",
        "\n",
        "edge 25\n",
        "   vertex 10\n",
        "   vertex 11\n",
        "   vertex 14\n",
        "\n",
        "edge 26\n",
        "   vertex 1\n",
        "   vertex 10\n",
        "   vertex 14\n",
        "\n",
        "edge 27\n",
        "   vertex 1\n",
        "   vertex 10\n",
        "   vertex 11\n",
        "\n",
        "edge 28\n",
        "   vertex 4\n",
        "   vertex 5\n",
        "   vertex 14\n",
        "\n",
        "edge 29\n",
        "   vertex 1\n",
        "   vertex 4\n",
        "   vertex 14\n",
        "\n",
        "edge 30\n",
        "   vertex 1\n",
        "   vertex 4\n",
        "   vertex 5\n",
        "\n",
        "edge 31\n",
        "   vertex 10\n",
        "   vertex 13\n",
        "   vertex 14\n",
        "\n",
        "edge 32\n",
        "   vertex 1\n",
        "   vertex 13\n",
        "   vertex 14\n",
        "\n",
        "edge 33\n",
        "   vertex 4\n",
        "   vertex 13\n",
        "   vertex 14\n",
        "\n",
        "edge 34\n",
        "   vertex 4\n",
        "   vertex 7\n",
        "   vertex 16\n",
        "\n",
        "edge 35\n",
        "   vertex 3\n",
        "   vertex 7\n",
        "   vertex 16\n",
        "\n",
        "edge 36\n",
        "   vertex 3\n",
        "   vertex 4\n",
        "   vertex 16\n",
        "\n",
        "edge 37\n",
        "   vertex 3\n",
        "   vertex 4\n",
        "   vertex 7\n",
        "\n",
        "edge 38\n",
        "   vertex 4\n",
        "   vertex 13\n",
        "   vertex 16\n",
        "\n",
        "edge 39\n",
        "   vertex 3\n",
        "   vertex 13\n",
        "   vertex 16\n",
        "\n",
        "edge 40\n",
        "   vertex 12\n",
        "   vertex 13\n",
        "   vertex 16\n",
        "\n",
        "edge 41\n",
        "   vertex 3\n",
        "   vertex 12\n",
        "   vertex 16\n",
        "\n",
        "edge 42\n",
        "   vertex 6\n",
        "   vertex 7\n",
        "   vertex 16\n",
        "\n",
        "edge 43\n",
        "   vertex 3\n",
        "   vertex 6\n",
        "   vertex 16\n",
        "\n",
        "edge 44\n",
        "   vertex 3\n",
        "   vertex 6\n",
        "   vertex 7\n",
        "\n",
        "edge 45\n",
        "   vertex 12\n",
        "   vertex 15\n",
        "   vertex 16\n",
        "\n",
        "edge 46\n",
        "   vertex 3\n",
        "   vertex 15\n",
        "   vertex 16\n",
        "\n",
        "edge 47\n",
        "   vertex 3\n",
        "   vertex 12\n",
        "   vertex 15\n",
        "\n",
        "edge 48\n",
        "   vertex 6\n",
        "   vertex 15\n",
        "   vertex 16\n",
        "\n",
        "edge 49\n",
        "   vertex 3\n",
        "   vertex 6\n",
        "   vertex 15\n",
        "\n",
        "edge 50\n",
        "   vertex 5\n",
        "   vertex 8\n",
        "   vertex 17\n",
        "\n",
        "edge 51\n",
        "   vertex 4\n",
        "   vertex 8\n",
        "   vertex 17\n",
        "\n",
        "edge 52\n",
        "   vertex 4\n",
        "   vertex 5\n",
        "   vertex 17\n",
        "\n",
        "edge 53\n",
        "   vertex 4\n",
        "   vertex 5\n",
        "   vertex 8\n",
        "\n",
        "edge 54\n",
        "   vertex 5\n",
        "   vertex 14\n",
        "   vertex 17\n",
        "\n",
        "edge 55\n",
        "   vertex 4\n",
        "   vertex 14\n",
        "   vertex 17\n",
        "\n",
        "edge 56\n",
        "   vertex 13\n",
        "   vertex 14\n",
        "   vertex 17\n",
        "\n",
        "edge 57\n",
        "   vertex 4\n",
        "   vertex 13\n",
        "   vertex 17\n",
        "\n",
        "edge 58\n",
        "   vertex 7\n",
        "   vertex 8\n",
        "   vertex 17\n",
        "\n",
        "edge 59\n",
        "   vertex 4\n",
        "   vertex 7\n",
        "   vertex 17\n",
        "\n",
        "edge 60\n",
        "   vertex 4\n",
        "   vertex 7\n",
        "   vertex 8\n",
        "\n",
        "edge 61\n",
        "   vertex 13\n",
        "   vertex 16\n",
        "   vertex 17\n",
        "\n",
        "edge 62\n",
        "   vertex 4\n",
        "   vertex 16\n",
        "   vertex 17\n",
        "\n",
        "edge 63\n",
        "   vertex 7\n",
        "   vertex 16\n",
        "   vertex 17\n",
        "\n",
        "edge 64\n",
        "   vertex 10\n",
        "   vertex 13\n",
        "   vertex 22\n",
        "\n",
        "edge 65\n",
        "   vertex 9\n",
        "   vertex 13\n",
        "   vertex 22\n",
        "\n",
        "edge 66\n",
        "   vertex 9\n",
        "   vertex 10\n",
        "   vertex 22\n",
        "\n",
        "edge 67\n",
        "   vertex 10\n",
        "   vertex 19\n",
        "   vertex 22\n",
        "\n",
        "edge 68\n",
        "   vertex 9\n",
        "   vertex 19\n",
        "   vertex 22\n",
        "\n",
        "edge 69\n",
        "   vertex 9\n",
        "   vertex 10\n",
        "   vertex 19\n",
        "\n",
        "edge 70\n",
        "   vertex 18\n",
        "   vertex 19\n",
        "   vertex 22\n",
        "\n",
        "edge 71\n",
        "   vertex 9\n",
        "   vertex 18\n",
        "   vertex 22\n",
        "\n",
        "edge 72\n",
        "   vertex 9\n",
        "   vertex 18\n",
        "   vertex 19\n",
        "\n",
        "edge 73\n",
        "   vertex 12\n",
        "   vertex 13\n",
        "   vertex 22\n",
        "\n",
        "edge 74\n",
        "   vertex 9\n",
        "   vertex 12\n",
        "   vertex 22\n",
        "\n",
        "edge 75\n",
        "   vertex 18\n",
        "   vertex 21\n",
        "   vertex 22\n",
        "\n",
        "edge 76\n",
        "   vertex 9\n",
        "   vertex 21\n",
        "   vertex 22\n",
        "\n",
        "edge 77\n",
        "   vertex 9\n",
        "   vertex 18\n",
        "   vertex 21\n",
        "\n",
        "edge 78\n",
        "   vertex 12\n",
        "   vertex 21\n",
        "   vertex 22\n",
        "\n",
        "edge 79\n",
        "   vertex 9\n",
        "   vertex 12\n",
        "   vertex 21\n",
        "\n",
        "edge 80\n",
        "   vertex 11\n",
        "   vertex 14\n",
        "   vertex 23\n",
        "\n",
        "edge 81\n",
        "   vertex 10\n",
        "   vertex 14\n",
        "   vertex 23\n",
        "\n",
        "edge 82\n",
        "   vertex 10\n",
        "   vertex 11\n",
        "   vertex 23\n",
        "\n",
        "edge 83\n",
        "   vertex 11\n",
        "   vertex 20\n",
        "   vertex 23\n",
        "\n",
        "edge 84\n",
        "   vertex 10\n",
        "   vertex 20\n",
        "   vertex 23\n",
        "\n",
        "edge 85\n",
        "   vertex 10\n",
        "   vertex 11\n",
        "   vertex 20\n",
        "\n",
        "edge 86\n",
        "   vertex 19\n",
        "   vertex 20\n",
        "   vertex 23\n",
        "\n",
        "edge 87\n",
        "   vertex 10\n",
        "   vertex 19\n",
        "   vertex 23\n",
        "\n",
        "edge 88\n",
        "   vertex 10\n",
        "   vertex 19\n",
        "   vertex 20\n",
        "\n",
        "edge 89\n",
        "   vertex 13\n",
        "   vertex 14\n",
        "   vertex 23\n",
        "\n",
        "edge 90\n",
        "   vertex 10\n",
        "   vertex 13\n",
        "   vertex 23\n",
        "\n",
        "edge 91\n",
        "   vertex 19\n",
        "   vertex 22\n",
        "   vertex 23\n",
        "\n",
        "edge 92\n",
        "   vertex 10\n",
        "   vertex 22\n",
        "   vertex 23\n",
        "\n",
        "edge 93\n",
        "   vertex 13\n",
        "   vertex 22\n",
        "   vertex 23\n",
        "\n",
        "edge 94\n",
        "   vertex 13\n",
        "   vertex 16\n",
        "   vertex 25\n",
        "\n",
        "edge 95\n",
        "   vertex 12\n",
        "   vertex 16\n",
        "   vertex 25\n",
        "\n",
        "edge 96\n",
        "   vertex 12\n",
        "   vertex 13\n",
        "   vertex 25\n",
        "\n",
        "edge 97\n",
        "   vertex 13\n",
        "   vertex 22\n",
        "   vertex 25\n",
        "\n",
        "edge 98\n",
        "   vertex 12\n",
        "   vertex 22\n",
        "   vertex 25\n",
        "\n",
        "edge 99\n",
        "   vertex 21\n",
        "   vertex 22\n",
        "   vertex 25\n",
        "\n",
        "edge 100\n",
        "   vertex 12\n",
        "   vertex 21\n",
        "   vertex 25\n",
        "\n",
        "edge 101\n",
        "   vertex 15\n",
        "   vertex 16\n",
        "   vertex 25\n",
        "\n",
        "edge 102\n",
        "   vertex 12\n",
        "   vertex 15\n",
        "   vertex 25\n",
        "\n",
        "edge 103\n",
        "   vertex 21\n",
        "   vertex 24\n",
        "   vertex 25\n",
        "\n",
        "edge 104\n",
        "   vertex 12\n",
        "   vertex 24\n",
        "   vertex 25\n",
        "\n",
        "edge 105\n",
        "   vertex 12\n",
        "   vertex 21\n",
        "   vertex 24\n",
        "\n",
        "edge 106\n",
        "   vertex 15\n",
        "   vertex 24\n",
        "   vertex 25\n",
        "\n",
        "edge 107\n",
        "   vertex 12\n",
        "   vertex 15\n",
        "   vertex 24\n",
        "\n",
        "edge 108\n",
        "   vertex 14\n",
        "   vertex 17\n",
        "   vertex 26\n",
        "\n",
        "edge 109\n",
        "   vertex 13\n",
        "   vertex 17\n",
        "   vertex 26\n",
        "\n",
        "edge 110\n",
        "   vertex 13\n",
        "   vertex 14\n",
        "   vertex 26\n",
        "\n",
        "edge 111\n",
        "   vertex 14\n",
        "   vertex 23\n",
        "   vertex 26\n",
        "\n",
        "edge 112\n",
        "   vertex 13\n",
        "   vertex 23\n",
        "   vertex 26\n",
        "\n",
        "edge 113\n",
        "   vertex 22\n",
        "   vertex 23\n",
        "   vertex 26\n",
        "\n",
        "edge 114\n",
        "   vertex 13\n",
        "   vertex 22\n",
        "   vertex 26\n",
        "\n",
        "edge 115\n",
        "   vertex 16\n",
        "   vertex 17\n",
        "   vertex 26\n",
        "\n",
        "edge 116\n",
        "   vertex 13\n",
        "   vertex 16\n",
        "   vertex 26\n",
        "\n",
        "edge 117\n",
        "   vertex 22\n",
        "   vertex 25\n",
        "   vertex 26\n",
        "\n",
        "edge 118\n",
        "   vertex 13\n",
        "   vertex 25\n",
        "   vertex 26\n",
        "\n",
        "edge 119\n",
        "   vertex 16\n",
        "   vertex 25\n",
        "   vertex 26\n"
       ]
      }
     ],
     "prompt_number": 14
    },
    {
     "cell_type": "code",
     "collapsed": false,
     "input": [
      "mesh.num_edges()"
     ],
     "language": "python",
     "metadata": {},
     "outputs": [
      {
       "metadata": {},
       "output_type": "pyout",
       "prompt_number": 17,
       "text": [
        "98"
       ]
      }
     ],
     "prompt_number": 17
    },
    {
     "cell_type": "code",
     "collapsed": false,
     "input": [],
     "language": "python",
     "metadata": {},
     "outputs": []
    },
    {
     "cell_type": "code",
     "collapsed": false,
     "input": [],
     "language": "python",
     "metadata": {},
     "outputs": []
    },
    {
     "cell_type": "code",
     "collapsed": false,
     "input": [],
     "language": "python",
     "metadata": {},
     "outputs": []
    },
    {
     "cell_type": "code",
     "collapsed": false,
     "input": [],
     "language": "python",
     "metadata": {},
     "outputs": []
    },
    {
     "cell_type": "code",
     "collapsed": false,
     "input": [
      "print Mmap.neighbours"
     ],
     "language": "python",
     "metadata": {},
     "outputs": [
      {
       "output_type": "stream",
       "stream": "stdout",
       "text": [
        "<bound method GenericDofMap.GenericDofMap_neighbours of <dolfin.cpp.fem.GenericDofMap; proxy of <Swig Object of type 'boost::shared_ptr< dolfin::GenericDofMap > *' at 0x4798540> >>\n"
       ]
      }
     ],
     "prompt_number": 12
    },
    {
     "cell_type": "code",
     "collapsed": false,
     "input": [
      "from FIAT import *\n",
      "def build_edge2dof_map(V):\n",
      "    \"\"\"\n",
      "    This function takes a N1Curl(1) space and return an integer valued array edge2dof.\n",
      "    This array has the number of edges as its length. In particular\n",
      "        edge2dof[i] = j\n",
      "    means that dof #i, that is u.vector()[i], is associated to edge #j.\n",
      "    \"\"\"\n",
      "    # Extract the cell to edge map (given an cell index, it returns the indices of its edges)\n",
      "    cell2edges = V.mesh().topology()(3, 1)\n",
      "    # Extract the cell dofmap (given a cell index, it returns the dof numbers) \n",
      "    cell2dofs = V.dofmap().cell_dofs\n",
      "    # Array to save the result\n",
      "    edge2dof = numpy.zeros(mesh.num_edges(), dtype=\"int\")\n",
      "    # Iterate over cells, associating the edges to the dofs for that cell\n",
      "    for c in range(mesh.num_cells()):\n",
      "        # get the global edge numbers for this cell\n",
      "        c_edges = cell2edges(c)\n",
      "        # get the global dof numbers for this cell\n",
      "        c_dofs = cell2dofs(c)\n",
      "        # associate the edge numbers to the corresponding dof numbers\n",
      "        edge2dof[c_dofs] = c_edges\n",
      "    # This algorithm might not look fast as it does quite some redundant work. In actual\n",
      "    # runs, for most meshes, this is not the most time consuming step and does not take\n",
      "    # more than a milisecond.\n",
      "    return edge2dof"
     ],
     "language": "python",
     "metadata": {},
     "outputs": [],
     "prompt_number": 13
    },
    {
     "cell_type": "code",
     "collapsed": false,
     "input": [
      "build_edge2dof_map(Magnetic)"
     ],
     "language": "python",
     "metadata": {},
     "outputs": []
    },
    {
     "cell_type": "code",
     "collapsed": false,
     "input": [],
     "language": "python",
     "metadata": {},
     "outputs": []
    }
   ],
   "metadata": {}
  }
 ]
}
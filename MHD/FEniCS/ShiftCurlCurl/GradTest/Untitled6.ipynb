{
 "metadata": {
  "name": ""
 },
 "nbformat": 3,
 "nbformat_minor": 0,
 "worksheets": [
  {
   "cells": [
    {
     "cell_type": "code",
     "collapsed": false,
     "input": [
      "from dolfin import *\n",
      "# import petsc4py, sys\n",
      "# petsc4py.init(sys.argv)\n",
      "# from petsc4py import PETSc\n",
      "import matplotlib.pylab as plt\n",
      "\n",
      "import PETScIO as IO\n",
      "import numpy as np\n",
      "import scipy.sparse as sparse\n",
      "import CheckPetsc4py as CP\n",
      "import scipy.sparse.linalg as sparselin\n",
      "import scipy as sp\n",
      "import time\n",
      "from scipy2Trilinos import scipy_csr_matrix2CrsMatrix\n",
      "from PyTrilinos import Epetra, ML, AztecOO\n",
      "import TrilinosIO\n",
      "\n",
      "nn = 32\n",
      "mesh = RectangleMesh(0, 0, 1, 1, nn, nn,'left')\n",
      "\n",
      "order  = 1\n",
      "parameters['reorder_dofs_serial'] = False\n",
      "V = FunctionSpace(mesh, \"N2curl\", order)\n",
      "Q = FunctionSpace(mesh, \"CG\", order)\n",
      "W = MixedFunctionSpace([V,Q])\n",
      "\n",
      "b0 = Expression((\"x[1]*x[1]*(x[1]-1)\",\"x[0]*x[0]*(x[0]-1)\"))\n",
      "print V.dim(), Q.dim()\n",
      "\n",
      "def boundary(x, on_boundary):\n",
      "    return on_boundary\n",
      "bcb = DirichletBC(V,b0, boundary)\n",
      "bc = [bcb]\n",
      "\n",
      "(v) = TrialFunction(V)\n",
      "(u) = TestFunction(V)\n",
      "(uMix,pMix) = TrialFunctions(W)\n",
      "(vMix,qMix) = TestFunctions(W)\n",
      "CurlCurl = Expression((\"-6*x[1]+2\",\"-6*x[0]+2\"))+b0\n",
      "f = CurlCurl\n",
      "\n",
      "\n",
      "\n",
      "m = inner(u,v)*dx\n",
      "b = inner(vMix,grad(pMix))*dx\n",
      "parameters['linear_algebra_backend'] = 'uBLAS'\n",
      "M = assemble(m)\n",
      "# bcb.apply(A)\n",
      "# bcb.apply(M)\n",
      "M = CP.Assemble(M)\n",
      "\n",
      "# B = assemble(b)\n",
      "# B = B.sparray()[W.dim()-V.dim():,W.dim()-Q.dim():]\n",
      "\n",
      "# ksp = PETSc.KSP().create()\n",
      "\n",
      "# ksp.setOperators(M)\n",
      "# x = M.getVecLeft()\n",
      "# ksp.setFromOptions()\n",
      "# ksp.setType(ksp.Type.CG)\n",
      "# ksp.setTolerances(1e-1)\n",
      "# ksp.pc.setType(ksp.pc.Type.BJACOBI)\n",
      "\n",
      "\n",
      "# OptDB = PETSc.Options()\n",
      "# # OptDB[\"pc_factor_mat_ordering_type\"] = \"rcm\"\n",
      "# # OptDB[\"pc_factor_mat_solver_package\"] = \"cholmod\"\n",
      "# ksp.setFromOptions()\n",
      "# C = sparse.csr_matrix((V.dim(),Q.dim()))\n",
      "\n",
      "# C = sparse.csr_matrix((V.dim(),Q.dim()))\n",
      "(v) = TrialFunction(V)\n",
      "(u) = TestFunction(V)\n",
      "# tic()\n",
      "# for i in range(0,Q.dim()):\n",
      "#     uOut = Function(V)\n",
      "#     uu = Function(Q)\n",
      "#     x = M.getVecRight()\n",
      "#     zero = np.zeros((Q.dim(),1))[:,0]\n",
      "#     zero[i] = 1\n",
      "#     uu.vector()[:] = zero\n",
      "#     L = assemble(inner(u, grad(uu))*dx)\n",
      "#     # bcb.apply(L)\n",
      "#     rhs = IO.arrayToVec(L.array())\n",
      "#     ksp.solve(rhs,x)\n",
      "# #     x = project(grad(uu),V)\n",
      "#     P = x.array\n",
      "#     uOut.vector()[:] = P\n",
      "#     low_values_indices = np.abs(P) < 1e-3\n",
      "#     P[low_values_indices] = 0\n",
      "#     P=np.around(P)\n",
      "#     pn = P.nonzero()[0]\n",
      "#     for j in range(0,len(pn)):\n",
      "#         C[pn[j],i] = P[pn[j]]\n",
      "#     del uu\n",
      "# print toc()\n",
      "import scipy.io\n",
      "name = '../../GradMatrices/UnitSquareLeft_m='+str(nn)+'.mat'\n",
      "mat = scipy.io.loadmat(name)\n",
      "C = mat['C']\n",
      "C = C.tocsr()\n",
      "# print C.shape\n",
      "parameters['linear_algebra_backend'] = 'uBLAS'\n",
      "A = assemble(inner(curl(u), curl(v))*dx)\n",
      "print np.min(np.abs((A.sparray()*C).toarray()))\n",
      "print np.max(np.abs((A.sparray()*C).toarray()))\n",
      "\n",
      "# parameters['linear_algebra_backend'] = 'Epetra'\n",
      "\n",
      "\n",
      "# <codecell>\n",
      "(p) = TrialFunction(Q)\n",
      "(q) = TestFunction(Q)\n",
      "l = (inner(grad(p),grad(q))*dx) +inner(q, p)*dx\n",
      "L1  = inner(v, f)*dx\n",
      "\n",
      "a = inner(curl(v),curl(u))*dx+inner(u, v)*dx\n",
      "bc = DirichletBC(V,b0, boundary)\n",
      "\n",
      "# MLList = {\n",
      "\n",
      "#     \"default values\" : \"maxwell\",\n",
      "#     \"max levels\" : 10,\n",
      "#     \"output\" : 10,\n",
      "#     \"PDE equations\" : 1,\n",
      "#     \"increasing or decreasing\" : \"decreasing\",\n",
      "#     \"aggregation: type\" : \"Uncoupled-MIS\",\n",
      "#     \"aggregation: damping factor\" : 1.3333,\n",
      "#     \"coarse: max size\" : 75,\n",
      "#     \"aggregation: threshold\" : 0.0,\n",
      "#     \"smoother: sweeps\" : 2,\n",
      "#     \"smoother: damping factor\" : 0.67,\n",
      "#     \"smoother: type\" : \"MLS\",\n",
      "#     \"smoother: MLS polynomial order\" : 4,\n",
      "#     \"smoother: pre or post\" : \"both\",\n",
      "#     \"coarse: type\" : \"Amesos-MUMPS\",\n",
      "#     \"prec type\" : \"MGV\",\n",
      "#     \"print unused\" : -2\n",
      "# }\n",
      "# parameters['linear_algebra_backend'] = 'Epetra'\n",
      "\n",
      "# MLList = {\n",
      "#     \"default values\" : \"maxwell\",\n",
      "#     \"max levels\"                                     : 10,\n",
      "#     \"prec type\"                                        : \"MGV\",\n",
      "#     \"increasing or decreasing\"               : \"decreasing\",\n",
      "#     \"aggregation: type\"                          : \"Uncoupled-MIS\",\n",
      "#     \"aggregation: damping factor\"         : 4.0/3.0,\n",
      "#     \"eigen-analysis: type\"                      : \"cg\",\n",
      "#     \"eigen-analysis: iterations\"              : 10,\n",
      "#     \"smoother: sweeps\"                          : 1,\n",
      "#     \"smoother: damping factor\"              : 1.0,\n",
      "#     \"smoother: pre or post\"                     : \"both\",\n",
      "#     \"smoother: type\"                               : \"MLS\",\n",
      "#     \"subsmoother: type\"                         : \"Chebyshev\",\n",
      "#     \"subsmoother: Chebyshev alpha\"    : 27.0,\n",
      "#     \"subsmoother: node sweeps\"           : 4,\n",
      "#     \"subsmoother: edge sweeps\"           : 4,\n",
      "#     \"PDE equations\" : 1,\n",
      "#     \"coarse: type\"                                   : \"Amesos-MUMPS\",\n",
      "#     \"coarse: max size\"                           : 128\n",
      "\n",
      "# }\n",
      "\n",
      "\n",
      "MLList = {\n",
      "  \"default values\":\"maxwell\",\n",
      "  \"max levels\":10,\n",
      "  \"prec type\":\"MGV\",\n",
      "  \"increasing or decreasing\":\"decreasing\",\n",
      "\n",
      "  \"aggregation: type\":\"Uncoupled-MIS\",\n",
      "  \"aggregation: damping factor\":1.333,\n",
      "  \"eigen-analysis: type\":\"cg\",\n",
      "  \"eigen-analysis: iterations\":10,\n",
      "  \"aggregation: edge prolongator drop threshold\":0.0,\n",
      "\n",
      "  \"smoother: sweeps\":1,\n",
      "  \"smoother: damping factor\":1.0,\n",
      "  \"smoother: pre or post\":\"both\",\n",
      "  \"smoother: type\":\"Hiptmair\",\n",
      "  \"smoother: Hiptmair efficient symmetric\":True,\n",
      "  \"subsmoother: type\": \"Chebyshev\",\n",
      "  \"subsmoother: Chebyshev alpha\": 20.0,\n",
      "  \"subsmoother: node sweeps\":4,\n",
      "  \"subsmoother: edge sweeps\":4,\n",
      "\n",
      "  \"coarse: type\":\"Amesos-KLU\",\n",
      "  \"coarse: max size\":128,\n",
      "  \"coarse: pre or post\":\"post\",\n",
      "  \"coarse: sweeps\":1\n",
      "\n",
      "}\n",
      "\n"
     ],
     "language": "python",
     "metadata": {},
     "outputs": [
      {
       "output_type": "stream",
       "stream": "stderr",
       "text": [
        "DEBUG:UFL:No integrals left after transformation, returning empty form.\n"
       ]
      },
      {
       "output_type": "stream",
       "stream": "stderr",
       "text": [
        "DEBUG:FFC:Reusing form from cache.\n"
       ]
      },
      {
       "output_type": "stream",
       "stream": "stderr",
       "text": [
        "DEBUG:UFL:No integrals left after transformation, returning empty form.\n"
       ]
      },
      {
       "output_type": "stream",
       "stream": "stderr",
       "text": [
        "DEBUG:FFC:Reusing form from cache.\n"
       ]
      },
      {
       "output_type": "stream",
       "stream": "stderr",
       "text": [
        "DEBUG:UFL:No integrals left after transformation, returning empty form.\n"
       ]
      },
      {
       "output_type": "stream",
       "stream": "stderr",
       "text": [
        "DEBUG:FFC:Reusing form from cache.\n"
       ]
      },
      {
       "output_type": "stream",
       "stream": "stderr",
       "text": [
        "DEBUG:UFL:No integrals left after transformation, returning empty form.\n"
       ]
      },
      {
       "output_type": "stream",
       "stream": "stderr",
       "text": [
        "DEBUG:UFL:No integrals left after transformation, returning empty form.\n"
       ]
      },
      {
       "output_type": "stream",
       "stream": "stderr",
       "text": [
        "DEBUG:FFC:Reusing form from cache.\n"
       ]
      },
      {
       "output_type": "stream",
       "stream": "stderr",
       "text": [
        "DEBUG:UFL:No integrals left after transformation, returning empty form.\n"
       ]
      },
      {
       "output_type": "stream",
       "stream": "stderr",
       "text": [
        "DEBUG:UFL:No integrals left after transformation, returning empty form.\n"
       ]
      },
      {
       "output_type": "stream",
       "stream": "stderr",
       "text": [
        "DEBUG:FFC:Reusing form from cache.\n"
       ]
      },
      {
       "output_type": "stream",
       "stream": "stdout",
       "text": [
        "6272 1089\n",
        "0.0"
       ]
      },
      {
       "output_type": "stream",
       "stream": "stdout",
       "text": [
        "\n",
        "0.0\n"
       ]
      }
     ],
     "prompt_number": 1
    },
    {
     "cell_type": "code",
     "collapsed": false,
     "input": [
      " comm = Epetra.PyComm()\n",
      "\n",
      "\n",
      "\n",
      "Acurl,b = assemble_system(a,L1,bc)\n",
      "Anode = assemble(l)\n",
      "C = scipy_csr_matrix2CrsMatrix(C, comm)\n",
      "Acurl = scipy_csr_matrix2CrsMatrix(Acurl.sparray(), comm)\n",
      "Anode = scipy_csr_matrix2CrsMatrix(Anode.sparray(), comm)\n",
      "# Acurl = as_backend_type(Acurl).mat()\n",
      "# Anode = as_backend_type(Anode).mat()\n",
      "\n",
      "ML_Hiptmair = ML.MultiLevelPreconditioner(Acurl,C,Anode,MLList,True)\n",
      "ML_Hiptmair.ComputePreconditioner()\n",
      "x = Function(V)\n",
      "\n",
      "b_epetra = x_epetra = TrilinosIO._numpyToTrilinosVector(b.array())\n",
      "(b).vec()\n",
      "x_epetra = TrilinosIO._numpyToTrilinosVector(x.vector().array())\n",
      "\n",
      "tic()\n",
      "#u = M.SolveSystem(A,b,V,\"cg\",\"amg\",1e-6,1e-6,1)\n",
      "print toc()\n",
      "\n",
      "import PyTrilinos.AztecOO as AztecOO\n",
      "solver = AztecOO.AztecOO(Acurl, x_epetra, b_epetra)\n",
      "solver.SetPrecOperator(ML_Hiptmair)\n",
      "solver.SetAztecOption(AztecOO.AZ_solver, AztecOO.AZ_cg);\n",
      "solver.SetAztecOption(AztecOO.AZ_output, 50);\n",
      "err = solver.Iterate(155000, 1e-10)\n",
      "\n",
      "x = Function(V)\n",
      "x.vector()[:] = TrilinosIO._trilinosToNumpyVector(x_epetra)\n"
     ],
     "language": "python",
     "metadata": {},
     "outputs": [
      {
       "output_type": "stream",
       "stream": "stderr",
       "text": [
        "DEBUG:UFL:No integrals left after transformation, returning empty form.\n"
       ]
      },
      {
       "output_type": "stream",
       "stream": "stderr",
       "text": [
        "DEBUG:UFL:No integrals left after transformation, returning empty form.\n"
       ]
      },
      {
       "output_type": "stream",
       "stream": "stderr",
       "text": [
        "DEBUG:FFC:Reusing form from cache.\n"
       ]
      },
      {
       "output_type": "stream",
       "stream": "stderr",
       "text": [
        "INFO:FFC:Adjusting missing element domain to Domain(Cell('triangle', 2), 'triangle_multiverse', 2, 2).\n"
       ]
      },
      {
       "output_type": "stream",
       "stream": "stderr",
       "text": [
        "INFO:FFC:Adjusting element degree from ? to 1\n"
       ]
      },
      {
       "output_type": "stream",
       "stream": "stderr",
       "text": [
        "INFO:FFC:Adjusting missing element domain to Domain(Cell('triangle', 2), 'triangle_multiverse', 2, 2).\n"
       ]
      },
      {
       "output_type": "stream",
       "stream": "stderr",
       "text": [
        "INFO:FFC:Adjusting element degree from ? to 1\n"
       ]
      },
      {
       "output_type": "stream",
       "stream": "stderr",
       "text": [
        "INFO:FFC:Adjusting missing element domain to Domain(Cell('triangle', 2), 'triangle_multiverse', 2, 2).\n"
       ]
      },
      {
       "output_type": "stream",
       "stream": "stderr",
       "text": [
        "INFO:FFC:Adjusting element degree from ? to 1\n"
       ]
      },
      {
       "output_type": "stream",
       "stream": "stderr",
       "text": [
        "INFO:FFC:Adjusting missing element domain to Domain(Cell('triangle', 2), 'triangle_multiverse', 2, 2).\n"
       ]
      },
      {
       "output_type": "stream",
       "stream": "stderr",
       "text": [
        "INFO:FFC:Adjusting element degree from ? to 1\n"
       ]
      },
      {
       "output_type": "stream",
       "stream": "stderr",
       "text": [
        "INFO:FFC:Adjusting missing element domain to Domain(Cell('triangle', 2), 'triangle_multiverse', 2, 2).\n"
       ]
      },
      {
       "output_type": "stream",
       "stream": "stderr",
       "text": [
        "INFO:FFC:Adjusting element degree from ? to 1\n"
       ]
      },
      {
       "output_type": "stream",
       "stream": "stderr",
       "text": [
        "INFO:FFC:Adjusting missing element domain to Domain(Cell('triangle', 2), 'triangle_multiverse', 2, 2).\n"
       ]
      },
      {
       "output_type": "stream",
       "stream": "stderr",
       "text": [
        "INFO:FFC:Adjusting element degree from ? to 1\n"
       ]
      },
      {
       "output_type": "stream",
       "stream": "stderr",
       "text": [
        "DEBUG:UFL:No integrals left after transformation, returning empty form.\n"
       ]
      },
      {
       "output_type": "stream",
       "stream": "stderr",
       "text": [
        "DEBUG:FFC:Reusing form from cache.\n"
       ]
      },
      {
       "output_type": "stream",
       "stream": "stderr",
       "text": [
        "DEBUG:UFL:No integrals left after transformation, returning empty form.\n"
       ]
      },
      {
       "output_type": "stream",
       "stream": "stderr",
       "text": [
        "DEBUG:UFL:No integrals left after transformation, returning empty form.\n"
       ]
      },
      {
       "output_type": "stream",
       "stream": "stderr",
       "text": [
        "DEBUG:FFC:Reusing form from cache.\n"
       ]
      }
     ],
     "prompt_number": "*"
    }
   ],
   "metadata": {}
  }
 ]
}
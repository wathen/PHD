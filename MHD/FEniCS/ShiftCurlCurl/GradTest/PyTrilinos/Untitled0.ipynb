{
 "metadata": {
  "name": ""
 },
 "nbformat": 3,
 "nbformat_minor": 0,
 "worksheets": [
  {
   "cells": [
    {
     "cell_type": "code",
     "collapsed": false,
     "input": [
      "import scipy.io\n",
      "from scipy2Trilinos import scipy_csr_matrix2CrsMatrix\n",
      "from PyTrilinos import Epetra, ML, AztecOO\n",
      "import TrilinosIO\n",
      "\n",
      "\n",
      "System = scipy.io.loadmat(\"System.mat\")\n",
      "\n",
      "\n",
      "MLList = {\n",
      "  \"default values\":\"maxwell\",\n",
      "  \"max levels\":10,\n",
      "  \"prec type\":\"MGV\",\n",
      "  \"increasing or decreasing\":\"decreasing\",\n",
      "\n",
      "  \"aggregation: type\":\"Uncoupled-MIS\",\n",
      "  \"aggregation: damping factor\":1.333,\n",
      "  \"eigen-analysis: type\":\"cg\",\n",
      "  \"eigen-analysis: iterations\":10,\n",
      "  \"aggregation: edge prolongator drop threshold\":0.0,\n",
      "\n",
      "  \"smoother: sweeps\":1,\n",
      "  \"smoother: damping factor\":1.0,\n",
      "  \"smoother: pre or post\":\"both\",\n",
      "  # \"smoother: type\":\"Hiptmair\",\n",
      "  \"smoother: Hiptmair efficient symmetric\":True,\n",
      "  \"subsmoother: type\": \"Chebyshev\",\n",
      "  \"subsmoother: Chebyshev alpha\": 20.0,\n",
      "  \"subsmoother: node sweeps\":4,\n",
      "  \"subsmoother: edge sweeps\":4,\n",
      "\n",
      "  \"coarse: type\":\"Amesos-KLU\",\n",
      "  \"coarse: max size\":128,\n",
      "  \"coarse: pre or post\":\"post\",\n",
      "  \"coarse: sweeps\":1\n",
      "\n",
      "}\n",
      "\n",
      "comm = Epetra.PyComm()\n",
      "C = scipy_csr_matrix2CrsMatrix(System[\"C\"].tocsr(), comm)\n",
      "CurlCurl = scipy_csr_matrix2CrsMatrix(System[\"CurlCurl\"].tocsr(), comm)\n",
      "node = scipy_csr_matrix2CrsMatrix(System[\"node\"].tocsr(), comm)\n"
     ],
     "language": "python",
     "metadata": {},
     "outputs": [],
     "prompt_number": 1
    },
    {
     "cell_type": "code",
     "collapsed": false,
     "input": [
      "ML_Hiptmair = ML.MultiLevelPreconditioner(CurlCurl,C,node,MLList)\n",
      "ML_Hiptmair.ComputePreconditioner()\n"
     ],
     "language": "python",
     "metadata": {},
     "outputs": [
      {
       "metadata": {},
       "output_type": "pyout",
       "prompt_number": 3,
       "text": [
        "0"
       ]
      }
     ],
     "prompt_number": 3
    },
    {
     "cell_type": "code",
     "collapsed": false,
     "input": [
      "x = System[\"rhs\"][0]"
     ],
     "language": "python",
     "metadata": {},
     "outputs": [],
     "prompt_number": 4
    },
    {
     "cell_type": "code",
     "collapsed": false,
     "input": [
      "x\n",
      "b_epetra = TrilinosIO._numpyToTrilinosVector(x)"
     ],
     "language": "python",
     "metadata": {},
     "outputs": [
      {
       "ename": "NameError",
       "evalue": "global name 'x' is not defined",
       "output_type": "pyerr",
       "traceback": [
        "\u001b[0;31m---------------------------------------------------------------------------\u001b[0m\n\u001b[0;31mNameError\u001b[0m                                 Traceback (most recent call last)",
        "\u001b[0;32m<ipython-input-6-4f1f72fb39ba>\u001b[0m in \u001b[0;36m<module>\u001b[0;34m()\u001b[0m\n\u001b[1;32m      1\u001b[0m \u001b[0mx\u001b[0m\u001b[0;34m\u001b[0m\u001b[0m\n\u001b[0;32m----> 2\u001b[0;31m \u001b[0mb_epetra\u001b[0m \u001b[0;34m=\u001b[0m \u001b[0mTrilinosIO\u001b[0m\u001b[0;34m.\u001b[0m\u001b[0m_numpyToTrilinosVector\u001b[0m\u001b[0;34m(\u001b[0m\u001b[0mx\u001b[0m\u001b[0;34m)\u001b[0m\u001b[0;34m\u001b[0m\u001b[0m\n\u001b[0m",
        "\u001b[0;32m/Users/michaelwathen/Dropbox/MastersResearch/MHD/FEniCS/Classes/TrilinosIO.py\u001b[0m in \u001b[0;36m_numpyToTrilinosVector\u001b[0;34m(v)\u001b[0m\n\u001b[1;32m    508\u001b[0m     \u001b[0macross\u001b[0m \u001b[0mall\u001b[0m \u001b[0mprocessors\u001b[0m \u001b[0;32mas\u001b[0m \u001b[0mspecified\u001b[0m \u001b[0mby\u001b[0m \u001b[0mthe\u001b[0m \u001b[0mmap\u001b[0m\u001b[0;34m.\u001b[0m\u001b[0;34m\u001b[0m\u001b[0m\n\u001b[1;32m    509\u001b[0m     \"\"\"\n\u001b[0;32m--> 510\u001b[0;31m     \u001b[0mmap\u001b[0m \u001b[0;34m=\u001b[0m\u001b[0mEpetra\u001b[0m\u001b[0;34m.\u001b[0m\u001b[0mMap\u001b[0m\u001b[0;34m(\u001b[0m\u001b[0mx\u001b[0m\u001b[0;34m.\u001b[0m\u001b[0mshape\u001b[0m\u001b[0;34m[\u001b[0m\u001b[0;36m0\u001b[0m\u001b[0;34m]\u001b[0m\u001b[0;34m,\u001b[0m \u001b[0;36m0\u001b[0m \u001b[0;34m,\u001b[0m \u001b[0mcomm\u001b[0m\u001b[0;34m)\u001b[0m\u001b[0;34m\u001b[0m\u001b[0m\n\u001b[0m\u001b[1;32m    511\u001b[0m     \u001b[0;32mif\u001b[0m\u001b[0;34m(\u001b[0m\u001b[0mmap\u001b[0m\u001b[0;34m.\u001b[0m\u001b[0mComm\u001b[0m\u001b[0;34m(\u001b[0m\u001b[0;34m)\u001b[0m\u001b[0;34m.\u001b[0m\u001b[0mNumProc\u001b[0m\u001b[0;34m(\u001b[0m\u001b[0;34m)\u001b[0m \u001b[0;34m==\u001b[0m \u001b[0;36m1\u001b[0m\u001b[0;34m)\u001b[0m\u001b[0;34m:\u001b[0m\u001b[0;34m\u001b[0m\u001b[0m\n\u001b[1;32m    512\u001b[0m         \u001b[0;32mreturn\u001b[0m \u001b[0mEpetra\u001b[0m\u001b[0;34m.\u001b[0m\u001b[0mVector\u001b[0m\u001b[0;34m(\u001b[0m\u001b[0mv\u001b[0m\u001b[0;34m)\u001b[0m\u001b[0;34m\u001b[0m\u001b[0m\n",
        "\u001b[0;31mNameError\u001b[0m: global name 'x' is not defined"
       ]
      }
     ],
     "prompt_number": 6
    }
   ],
   "metadata": {}
  }
 ]
}
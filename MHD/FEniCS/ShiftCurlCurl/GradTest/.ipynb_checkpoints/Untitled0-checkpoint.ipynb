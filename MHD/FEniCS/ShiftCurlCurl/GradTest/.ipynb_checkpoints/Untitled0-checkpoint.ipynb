{
 "metadata": {
  "name": ""
 },
 "nbformat": 3,
 "nbformat_minor": 0,
 "worksheets": [
  {
   "cells": [
    {
     "cell_type": "code",
     "collapsed": false,
     "input": [
      "from dolfin import *\n",
      "\n",
      "#!/usr/bin/python\n",
      "import petsc4py\n",
      "import sys\n",
      "\n",
      "petsc4py.init(sys.argv)\n",
      "\n",
      "from petsc4py import PETSc\n",
      "import numpy as np"
     ],
     "language": "python",
     "metadata": {},
     "outputs": [],
     "prompt_number": 1
    },
    {
     "cell_type": "code",
     "collapsed": false,
     "input": [
      "nn = 8\n",
      "mesh = RectangleMesh(0, 0, 1, 1, nn, nn,'left')\n",
      "\n",
      "order  = 1\n",
      "parameters['reorder_dofs_serial'] = False\n",
      "\n",
      "Magnetic = FunctionSpace(mesh, \"N1curl\", order)\n",
      "Lagrange = FunctionSpace(mesh, \"CG\", order)\n",
      "parameters['reorder_dofs_serial'] = False\n",
      "\n",
      "L = FunctionSpace(mesh, \"CG\", order)\n"
     ],
     "language": "python",
     "metadata": {},
     "outputs": [
      {
       "output_type": "stream",
       "stream": "stderr",
       "text": [
        "DEBUG:UFL:No integrals left after transformation, returning empty form.\n"
       ]
      },
      {
       "output_type": "stream",
       "stream": "stderr",
       "text": [
        "DEBUG:FFC:Reusing form from cache.\n"
       ]
      },
      {
       "output_type": "stream",
       "stream": "stderr",
       "text": [
        "DEBUG:UFL:No integrals left after transformation, returning empty form.\n"
       ]
      },
      {
       "output_type": "stream",
       "stream": "stderr",
       "text": [
        "DEBUG:FFC:Reusing form from cache.\n"
       ]
      },
      {
       "output_type": "stream",
       "stream": "stderr",
       "text": [
        "DEBUG:UFL:No integrals left after transformation, returning empty form.\n"
       ]
      },
      {
       "output_type": "stream",
       "stream": "stderr",
       "text": [
        "DEBUG:FFC:Reusing form from cache.\n"
       ]
      }
     ],
     "prompt_number": 2
    },
    {
     "cell_type": "code",
     "collapsed": false,
     "input": [],
     "language": "python",
     "metadata": {},
     "outputs": []
    },
    {
     "cell_type": "code",
     "collapsed": false,
     "input": [
      "class Constraint:\n",
      "    \"\"\"\n",
      "    Constraint implements a tie between the values at two points p1 and p2.\n",
      "\n",
      "    Example: \n",
      "\n",
      "    Create a tie between the values at (0.0, 0.5) and (1.0, 0.5)\n",
      "\n",
      "    mesh = UnitSquareMesh(8, 8)\n",
      "    V = FunctionSpace(mesh, 'CG', 2)\n",
      "    constraint = Constraint(V)\n",
      "    tie = constraint.vector(Point(0.0, 0.5), Point(1.0, 0.5))\n",
      "\n",
      "    The constraint equation is given by tie.inner(u.vector()) == 0,\n",
      "    i.e. all ties span the nullspace of the linear equation.\n",
      "    \"\"\"\n",
      "    def __init__(self, V):\n",
      "        self.V = V\n",
      "        self.mesh = V.mesh()\n",
      "        self.dofmap = V.dofmap()\n",
      "        self.finite_element = V.element()\n",
      "    def evaluate_basis(self, p):\n",
      "        bbt = mesh.bounding_box_tree()\n",
      "        id = bbt.compute_first_entity_collision(p)\n",
      "        if id >= mesh.num_cells():\n",
      "            id = bbt.compute_closest_entity(p)[0]\n",
      "        c = Cell(self.mesh, id)\n",
      "        vc = c.get_vertex_coordinates()\n",
      "        dofs = self.dofmap.cell_dofs(id)\n",
      "        no_basis_fns = self.finite_element.space_dimension()\n",
      "        value_dimension = self.finite_element.value_dimension(0)\n",
      "        print no_basis_fns, value_dimension\n",
      "        basis = np.zeros((no_basis_fns, value_dimension))\n",
      "        coords = np.zeros(2)\n",
      "        coords[0], coords[1] = p.x(), p.y()\n",
      "        self.finite_element.evaluate_basis_derivatives_all(0,basis, coords, vc, 0)\n",
      "        u = Function(self.V)\n",
      "        v = u.vector()\n",
      "        # fixme: implement mixed spaces\n",
      "        for k in range(value_dimension):\n",
      "            for j in range(no_basis_fns):\n",
      "                l = no_basis_fns*(k-1)+j\n",
      "                v[dofs[l]] = basis[j][k]\n",
      "        return v"
     ],
     "language": "python",
     "metadata": {},
     "outputs": [],
     "prompt_number": 3
    },
    {
     "cell_type": "code",
     "collapsed": false,
     "input": [
      "(u) = TrialFunction(Magnetic)\n",
      "(v) = TestFunction(Magnetic)\n",
      "(p) = TrialFunction(Lagrange)\n",
      "(q) = TestFunction(Lagrange)\n",
      "a = dot(curl(u),curl(v))*dx + inner(u, v)*dx"
     ],
     "language": "python",
     "metadata": {},
     "outputs": [],
     "prompt_number": 23
    },
    {
     "cell_type": "code",
     "collapsed": false,
     "input": [
      "parameters['linear_algebra_backend'] = 'uBLAS'\n",
      "N = FacetNormal(mesh)\n",
      "q = TestFunction(L)\n",
      "T = as_vector((N[1], -N[0]))\n",
      "\n",
      "gradU = inner(grad(p),T)*q*ds\n"
     ],
     "language": "python",
     "metadata": {},
     "outputs": [],
     "prompt_number": 64
    },
    {
     "cell_type": "code",
     "collapsed": false,
     "input": [
      "A =assemble(gradU)"
     ],
     "language": "python",
     "metadata": {},
     "outputs": [
      {
       "output_type": "stream",
       "stream": "stderr",
       "text": [
        "DEBUG:FFC:Reusing form from cache.\n"
       ]
      }
     ],
     "prompt_number": 68
    },
    {
     "cell_type": "code",
     "collapsed": false,
     "input": [
      "A = A.sparray()\n"
     ],
     "language": "python",
     "metadata": {},
     "outputs": [],
     "prompt_number": 69
    },
    {
     "cell_type": "code",
     "collapsed": false,
     "input": [
      "import matplotlib.pylab as plt\n",
      "plt.spy(A)\n",
      "plt.show()"
     ],
     "language": "python",
     "metadata": {},
     "outputs": [],
     "prompt_number": 72
    },
    {
     "cell_type": "code",
     "collapsed": false,
     "input": [
      "\n",
      "U = C.evaluate_basis(Point(.1,.1))"
     ],
     "language": "python",
     "metadata": {},
     "outputs": [
      {
       "output_type": "stream",
       "stream": "stdout",
       "text": [
        "6 1\n"
       ]
      }
     ],
     "prompt_number": 5
    },
    {
     "cell_type": "code",
     "collapsed": false,
     "input": [
      "u = Function(Lagrange)\n"
     ],
     "language": "python",
     "metadata": {},
     "outputs": [],
     "prompt_number": 6
    },
    {
     "cell_type": "code",
     "collapsed": false,
     "input": [
      "u.vector()[:] = U.array()"
     ],
     "language": "python",
     "metadata": {},
     "outputs": [],
     "prompt_number": 7
    },
    {
     "cell_type": "code",
     "collapsed": false,
     "input": [
      "uGrad = grad(u)"
     ],
     "language": "python",
     "metadata": {},
     "outputs": [],
     "prompt_number": 17
    },
    {
     "cell_type": "code",
     "collapsed": false,
     "input": [
      "uGrad.domain()"
     ],
     "language": "python",
     "metadata": {},
     "outputs": [
      {
       "metadata": {},
       "output_type": "pyout",
       "prompt_number": 19,
       "text": [
        "Domain(Cell('triangle', 2), 'triangle_multiverse', 2, 2)"
       ]
      }
     ],
     "prompt_number": 19
    },
    {
     "cell_type": "code",
     "collapsed": false,
     "input": [
      "uGrad.evaluate"
     ],
     "language": "python",
     "metadata": {},
     "outputs": [
      {
       "metadata": {},
       "output_type": "pyout",
       "prompt_number": 48,
       "text": [
        "<bound method Grad.evaluate of Grad(Coefficient(FiniteElement('Lagrange', Domain(Cell('triangle', 2), 'triangle_multiverse', 2, 2), 2, None), 3))>"
       ]
      }
     ],
     "prompt_number": 48
    },
    {
     "cell_type": "code",
     "collapsed": false,
     "input": [
      "B = BasisFunction?"
     ],
     "language": "python",
     "metadata": {},
     "outputs": [],
     "prompt_number": 57
    },
    {
     "cell_type": "code",
     "collapsed": false,
     "input": [
      "import exter"
     ],
     "language": "python",
     "metadata": {},
     "outputs": [
      {
       "ename": "NameError",
       "evalue": "name 'cell' is not defined",
       "output_type": "pyerr",
       "traceback": [
        "\u001b[1;31m---------------------------------------------------------------------------\u001b[0m\n\u001b[1;31mNameError\u001b[0m                                 Traceback (most recent call last)",
        "\u001b[1;32m<ipython-input-58-8fdfa46d45b8>\u001b[0m in \u001b[0;36m<module>\u001b[1;34m()\u001b[0m\n\u001b[1;32m----> 1\u001b[1;33m \u001b[0mcell\u001b[0m\u001b[1;33m\u001b[0m\u001b[0m\n\u001b[0m",
        "\u001b[1;31mNameError\u001b[0m: name 'cell' is not defined"
       ]
      }
     ],
     "prompt_number": 58
    }
   ],
   "metadata": {}
  }
 ]
}
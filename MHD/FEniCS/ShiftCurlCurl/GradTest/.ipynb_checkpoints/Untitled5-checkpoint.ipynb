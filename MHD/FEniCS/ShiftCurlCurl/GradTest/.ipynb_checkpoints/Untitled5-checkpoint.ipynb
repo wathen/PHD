{
 "metadata": {
  "name": ""
 },
 "nbformat": 3,
 "nbformat_minor": 0,
 "worksheets": [
  {
   "cells": [
    {
     "cell_type": "code",
     "collapsed": false,
     "input": [
      "from dolfin import *\n",
      "import petsc4py, sys\n",
      "petsc4py.init(sys.argv)\n",
      "from petsc4py import PETSc\n",
      "import matplotlib.pylab as plt\n",
      "\n",
      "import PETScIO as IO\n",
      "import numpy as np\n",
      "import scipy.sparse as sparse\n",
      "import CheckPetsc4py as CP\n",
      "import scipy.sparse.linalg as sparselin\n",
      "import scipy as sp\n",
      "import time\n",
      "from scipy2Trilinos import scipy_csr_matrix2CrsMatrix\n",
      "from PyTrilinos import Epetra, ML, AztecOO\n",
      "import TrilinosIO\n",
      "\n",
      "nn = 32\n",
      "mesh = RectangleMesh(0, 0, 1, 1, nn, nn,'left')\n",
      "\n",
      "order  = 1\n",
      "parameters['reorder_dofs_serial'] = False\n",
      "V = FunctionSpace(mesh, \"N2curl\", order)\n",
      "Q = FunctionSpace(mesh, \"CG\", order)\n",
      "W = MixedFunctionSpace([V,Q])\n",
      "\n",
      "b0 = Expression((\"x[1]*x[1]*(x[1]-1)\",\"x[0]*x[0]*(x[0]-1)\"))\n",
      "print V.dim(), Q.dim()\n",
      "\n",
      "def boundary(x, on_boundary):\n",
      "    return on_boundary\n",
      "bcb = DirichletBC(V,b0, boundary)\n",
      "bc = [bcb]\n",
      "\n",
      "(v) = TrialFunction(V)\n",
      "(u) = TestFunction(V)\n",
      "(uMix,pMix) = TrialFunctions(W)\n",
      "(vMix,qMix) = TestFunctions(W)\n",
      "CurlCurl = Expression((\"-6*x[1]+2\",\"-6*x[0]+2\"))+b0\n",
      "f = CurlCurl\n",
      "\n",
      "\n",
      "\n",
      "m = inner(u,v)*dx\n",
      "b = inner(vMix,grad(pMix))*dx\n",
      "parameters['linear_algebra_backend'] = 'PETSc'\n",
      "M = assemble(m)\n",
      "# bcb.apply(A)\n",
      "# bcb.apply(M)\n",
      "M = CP.Assemble(M)\n",
      "\n",
      "# B = assemble(b)\n",
      "# B = B.sparray()[W.dim()-V.dim():,W.dim()-Q.dim():]\n",
      "\n",
      "ksp = PETSc.KSP().create()\n",
      "\n",
      "ksp.setOperators(M)\n",
      "x = M.getVecLeft()\n",
      "ksp.setFromOptions()\n",
      "ksp.setType(ksp.Type.CG)\n",
      "ksp.setTolerances(1e-1)\n",
      "ksp.pc.setType(ksp.pc.Type.BJACOBI)\n",
      "\n",
      "\n",
      "OptDB = PETSc.Options()\n",
      "# OptDB[\"pc_factor_mat_ordering_type\"] = \"rcm\"\n",
      "# OptDB[\"pc_factor_mat_solver_package\"] = \"cholmod\"\n",
      "ksp.setFromOptions()\n",
      "C = sparse.csr_matrix((V.dim(),Q.dim()))\n",
      "\n",
      "C = sparse.csr_matrix((V.dim(),Q.dim()))\n",
      "(v) = TrialFunction(V)\n",
      "(u) = TestFunction(V)\n",
      "# tic()\n",
      "# for i in range(0,Q.dim()):\n",
      "#     uOut = Function(V)\n",
      "#     uu = Function(Q)\n",
      "#     x = M.getVecRight()\n",
      "#     zero = np.zeros((Q.dim(),1))[:,0]\n",
      "#     zero[i] = 1\n",
      "#     uu.vector()[:] = zero\n",
      "#     L = assemble(inner(u, grad(uu))*dx)\n",
      "#     # bcb.apply(L)\n",
      "#     rhs = IO.arrayToVec(L.array())\n",
      "#     ksp.solve(rhs,x)\n",
      "# #     x = project(grad(uu),V)\n",
      "#     P = x.array\n",
      "#     uOut.vector()[:] = P\n",
      "#     low_values_indices = np.abs(P) < 1e-3\n",
      "#     P[low_values_indices] = 0\n",
      "#     P=np.around(P)\n",
      "#     pn = P.nonzero()[0]\n",
      "#     for j in range(0,len(pn)):\n",
      "#         C[pn[j],i] = P[pn[j]]\n",
      "#     del uu\n",
      "# print toc()\n",
      "print C.shape\n",
      "import scipy.io\n",
      "name = '../../GradMatrices/UnitSquareLeft_m='+str(nn)+'.mat'\n",
      "mat = scipy.io.loadmat(name)\n",
      "C = mat['C']\n",
      "C = C.tocsr()\n",
      "# print C.shape\n",
      "parameters['linear_algebra_backend'] = 'uBLAS'\n",
      "A = assemble(inner(curl(u), curl(v))*dx)\n",
      "print np.min(np.abs((A.sparray()*C).toarray()))\n",
      "print np.max(np.abs((A.sparray()*C).toarray()))\n",
      "\n",
      "parameters['linear_algebra_backend'] = 'Epetra'\n",
      "\n",
      "\n",
      "# <codecell>\n",
      "(p) = TrialFunction(Q)\n",
      "(q) = TestFunction(Q)\n",
      "l = (inner(grad(p),grad(q))*dx) +inner(q, p)*dx\n",
      "L1  = inner(v, f)*dx\n",
      "\n",
      "a = inner(curl(v),curl(u))*dx+inner(u, v)*dx\n",
      "bc = DirichletBC(V,b0, boundary)\n",
      "comm = Epetra.PyComm()\n",
      "\n",
      "\n",
      "\n",
      "Acurl,b = assemble_system(a,L1,bc)\n",
      "Anode = assemble(l)\n",
      "C = scipy_csr_matrix2CrsMatrix(C, comm)\n",
      "Acurl = as_backend_type(Acurl).mat()\n",
      "Anode = as_backend_type(Anode).mat()"
     ],
     "language": "python",
     "metadata": {},
     "outputs": [
      {
       "output_type": "stream",
       "stream": "stderr",
       "text": [
        "DEBUG:UFL:No integrals left after transformation, returning empty form.\n"
       ]
      },
      {
       "output_type": "stream",
       "stream": "stderr",
       "text": [
        "DEBUG:FFC:Reusing form from cache.\n"
       ]
      },
      {
       "output_type": "stream",
       "stream": "stderr",
       "text": [
        "DEBUG:UFL:No integrals left after transformation, returning empty form.\n"
       ]
      },
      {
       "output_type": "stream",
       "stream": "stderr",
       "text": [
        "DEBUG:FFC:Reusing form from cache.\n"
       ]
      },
      {
       "output_type": "stream",
       "stream": "stderr",
       "text": [
        "DEBUG:UFL:No integrals left after transformation, returning empty form.\n"
       ]
      },
      {
       "output_type": "stream",
       "stream": "stderr",
       "text": [
        "DEBUG:FFC:Reusing form from cache.\n"
       ]
      },
      {
       "output_type": "stream",
       "stream": "stderr",
       "text": [
        "DEBUG:UFL:No integrals left after transformation, returning empty form.\n"
       ]
      },
      {
       "output_type": "stream",
       "stream": "stderr",
       "text": [
        "DEBUG:UFL:No integrals left after transformation, returning empty form.\n"
       ]
      },
      {
       "output_type": "stream",
       "stream": "stderr",
       "text": [
        "DEBUG:FFC:Reusing form from cache.\n"
       ]
      },
      {
       "output_type": "stream",
       "stream": "stderr",
       "text": [
        "DEBUG:UFL:No integrals left after transformation, returning empty form.\n"
       ]
      },
      {
       "output_type": "stream",
       "stream": "stderr",
       "text": [
        "DEBUG:UFL:No integrals left after transformation, returning empty form.\n"
       ]
      },
      {
       "output_type": "stream",
       "stream": "stderr",
       "text": [
        "DEBUG:FFC:Reusing form from cache.\n"
       ]
      },
      {
       "output_type": "stream",
       "stream": "stdout",
       "text": [
        "6272 1089\n",
        "(6272, 1089)\n",
        "0.0"
       ]
      },
      {
       "output_type": "stream",
       "stream": "stderr",
       "text": [
        "DEBUG:UFL:No integrals left after transformation, returning empty form.\n"
       ]
      },
      {
       "output_type": "stream",
       "stream": "stderr",
       "text": [
        "DEBUG:UFL:No integrals left after transformation, returning empty form.\n"
       ]
      },
      {
       "output_type": "stream",
       "stream": "stderr",
       "text": [
        "DEBUG:FFC:Reusing form from cache.\n"
       ]
      },
      {
       "output_type": "stream",
       "stream": "stderr",
       "text": [
        "INFO:FFC:Adjusting missing element domain to Domain(Cell('triangle', 2), 'triangle_multiverse', 2, 2).\n"
       ]
      },
      {
       "output_type": "stream",
       "stream": "stderr",
       "text": [
        "INFO:FFC:Adjusting element degree from ? to 1\n"
       ]
      },
      {
       "output_type": "stream",
       "stream": "stderr",
       "text": [
        "INFO:FFC:Adjusting missing element domain to Domain(Cell('triangle', 2), 'triangle_multiverse', 2, 2).\n"
       ]
      },
      {
       "output_type": "stream",
       "stream": "stderr",
       "text": [
        "INFO:FFC:Adjusting element degree from ? to 1\n"
       ]
      },
      {
       "output_type": "stream",
       "stream": "stderr",
       "text": [
        "INFO:FFC:Adjusting missing element domain to Domain(Cell('triangle', 2), 'triangle_multiverse', 2, 2).\n"
       ]
      },
      {
       "output_type": "stream",
       "stream": "stderr",
       "text": [
        "INFO:FFC:Adjusting element degree from ? to 1\n"
       ]
      },
      {
       "output_type": "stream",
       "stream": "stderr",
       "text": [
        "INFO:FFC:Adjusting missing element domain to Domain(Cell('triangle', 2), 'triangle_multiverse', 2, 2).\n"
       ]
      },
      {
       "output_type": "stream",
       "stream": "stderr",
       "text": [
        "INFO:FFC:Adjusting element degree from ? to 1\n"
       ]
      },
      {
       "output_type": "stream",
       "stream": "stderr",
       "text": [
        "INFO:FFC:Adjusting missing element domain to Domain(Cell('triangle', 2), 'triangle_multiverse', 2, 2).\n"
       ]
      },
      {
       "output_type": "stream",
       "stream": "stderr",
       "text": [
        "INFO:FFC:Adjusting element degree from ? to 1\n"
       ]
      },
      {
       "output_type": "stream",
       "stream": "stderr",
       "text": [
        "INFO:FFC:Adjusting missing element domain to Domain(Cell('triangle', 2), 'triangle_multiverse', 2, 2).\n"
       ]
      },
      {
       "output_type": "stream",
       "stream": "stderr",
       "text": [
        "INFO:FFC:Adjusting element degree from ? to 1\n"
       ]
      },
      {
       "output_type": "stream",
       "stream": "stderr",
       "text": [
        "DEBUG:UFL:No integrals left after transformation, returning empty form.\n"
       ]
      },
      {
       "output_type": "stream",
       "stream": "stderr",
       "text": [
        "DEBUG:FFC:Reusing form from cache.\n"
       ]
      },
      {
       "output_type": "stream",
       "stream": "stderr",
       "text": [
        "DEBUG:UFL:No integrals left after transformation, returning empty form.\n"
       ]
      },
      {
       "output_type": "stream",
       "stream": "stderr",
       "text": [
        "DEBUG:UFL:No integrals left after transformation, returning empty form.\n"
       ]
      },
      {
       "output_type": "stream",
       "stream": "stderr",
       "text": [
        "DEBUG:FFC:Reusing form from cache.\n"
       ]
      },
      {
       "output_type": "stream",
       "stream": "stdout",
       "text": [
        "\n",
        "0.0\n"
       ]
      }
     ],
     "prompt_number": 21
    },
    {
     "cell_type": "code",
     "collapsed": false,
     "input": [
      "\n",
      "MLList = {\n",
      "  \"default values\":\"maxwell\",\n",
      "  \"max levels\":10,\n",
      "  \"prec type\":\"MGV\",\n",
      "  \"increasing or decreasing\":\"decreasing\",\n",
      "\n",
      "  \"aggregation: type\":\"Uncoupled-MIS\",\n",
      "  \"aggregation: damping factor\":1.333,\n",
      "  \"eigen-analysis: type\":\"cg\",\n",
      "  \"eigen-analysis: iterations\":10,\n",
      "  \"aggregation: edge prolongator drop threshold\":0.0,\n",
      "\n",
      "  \"smoother: sweeps\":1,\n",
      "  \"smoother: damping factor\":1.0,\n",
      "  \"smoother: pre or post\":\"both\",\n",
      "#   \"smoother: type\":\"Hiptmair\",\n",
      "  \"smoother: Hiptmair efficient symmetric\":True,\n",
      "  \"subsmoother: type\": \"Chebyshev\",\n",
      "  \"subsmoother: Chebyshev alpha\": 20.0,\n",
      "  \"subsmoother: node sweeps\":4,\n",
      "  \"subsmoother: edge sweeps\":4,\n",
      "\n",
      "  \"coarse: type\":\"Amesos-KLU\",\n",
      "  \"coarse: max size\":128,\n",
      "  \"coarse: pre or post\":\"post\",\n",
      "  \"coarse: sweeps\":1\n",
      "\n",
      "}\n",
      "\n",
      "ML_Hiptmair = ML.MultiLevelPreconditioner(Acurl,C,Anode,MLList)\n",
      "ML_Hiptmair.ComputePreconditioner()"
     ],
     "language": "python",
     "metadata": {},
     "outputs": [],
     "prompt_number": "*"
    },
    {
     "cell_type": "code",
     "collapsed": false,
     "input": [
      "MLList = {\n",
      "  \"default values\":\"maxwell\",\n",
      "  \"max levels\":10,\n",
      "  \"prec type\":\"MGV\",\n",
      "  \"increasing or decreasing\":\"decreasing\",\n",
      "\n",
      "  \"aggregation: type\":\"Uncoupled-MIS\",\n",
      "  \"aggregation: damping factor\":1.333,\n",
      "  \"eigen-analysis: type\":\"cg\",\n",
      "  \"eigen-analysis: iterations\":10,\n",
      "  \"aggregation: edge prolongator drop threshold\":0.0,\n",
      "\n",
      "  \"smoother: sweeps\":1,\n",
      "  \"smoother: damping factor\":1.0,\n",
      "  \"smoother: pre or post\":\"both\",\n",
      "  \"smoother: type\":\"Hiptmair\",\n",
      "  \"smoother: Hiptmair efficient symmetric\":True,\n",
      "  \"subsmoother: type\": \"Chebyshev\",\n",
      "  \"subsmoother: Chebyshev alpha\": 20.0,\n",
      "  \"subsmoother: node sweeps\":4,\n",
      "  \"subsmoother: edge sweeps\":4,\n",
      "\n",
      "  \"coarse: type\":\"Amesos-KLU\",\n",
      "  \"coarse: max size\":128,\n",
      "  \"coarse: pre or post\":\"post\",\n",
      "  \"coarse: sweeps\":1\n",
      "\n",
      "}\n",
      "ML_Hiptmair.SetParameterList(MLList)"
     ],
     "language": "python",
     "metadata": {},
     "outputs": [
      {
       "metadata": {},
       "output_type": "pyout",
       "prompt_number": 15,
       "text": [
        "0"
       ]
      }
     ],
     "prompt_number": 15
    },
    {
     "cell_type": "code",
     "collapsed": false,
     "input": [
      "ML_Hiptmair.ComputePreconditioner()"
     ],
     "language": "python",
     "metadata": {},
     "outputs": [
      {
       "metadata": {},
       "output_type": "pyout",
       "prompt_number": 16,
       "text": [
        "0"
       ]
      }
     ],
     "prompt_number": 16
    },
    {
     "cell_type": "code",
     "collapsed": false,
     "input": [
      "x = Function(V)\n",
      "\n",
      "b_epetra = as_backend_type(b).vec()\n",
      "x_epetra = TrilinosIO._numpyToTrilinosVector(x.vector().array())\n",
      "\n",
      "import PyTrilinos.AztecOO as AztecOO\n",
      "solver = AztecOO.AztecOO(Acurl, x_epetra, b_epetra)\n",
      "solver.SetPrecOperator(ML_Hiptmair)\n",
      "solver.SetAztecOption(AztecOO.AZ_solver, AztecOO.AZ_cg);\n",
      "solver.SetAztecOption(AztecOO.AZ_output, 50);\n",
      "err = solver.Iterate(155000, 1e-10)\n"
     ],
     "language": "python",
     "metadata": {},
     "outputs": [],
     "prompt_number": 20
    }
   ],
   "metadata": {}
  }
 ]
}
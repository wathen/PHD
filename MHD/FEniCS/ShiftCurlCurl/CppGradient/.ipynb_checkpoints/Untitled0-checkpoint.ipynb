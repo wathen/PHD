{
 "metadata": {
  "name": ""
 },
 "nbformat": 3,
 "nbformat_minor": 0,
 "worksheets": [
  {
   "cells": [
    {
     "cell_type": "code",
     "collapsed": false,
     "input": [
      "import os, inspect\n",
      "from dolfin import *\n",
      "import numpy\n",
      "from scipy.sparse import coo_matrix, block_diag, hstack, tril\n",
      "import ExactSol\n",
      "from scipy2Trilinos import scipy_csr_matrix2CrsMatrix\n",
      "from PyTrilinos import Epetra, ML, AztecOO, Teuchos\n",
      "import MatrixOperations as MO\n",
      "import matplotlib.pylab as plt\n",
      "import CheckPetsc4py as CP\n",
      "import petsc4py\n",
      "import sys\n",
      "import HiptmairPrecond\n",
      "import HiptmairApply\n",
      "petsc4py.init(sys.argv)\n",
      "\n",
      "from petsc4py import PETSc\n",
      "\n",
      "path = os.path.abspath(os.path.join(inspect.getfile(inspect.currentframe()), \"..\"))\n",
      "gradient_code = open(os.path.join(path, 'DiscreteGradient.cpp'), 'r').read()\n",
      "compiled_gradient_module = compile_extension_module(code=gradient_code)\n",
      "\n",
      "\n",
      "m = 2\n",
      "errL2b =numpy.zeros((m-1,1))\n",
      "errCurlb =numpy.zeros((m-1,1))\n",
      "\n",
      "l2border =  numpy.zeros((m-1,1))\n",
      "Curlborder =numpy.zeros((m-1,1))\n",
      "\n",
      "ItsSave = numpy.zeros((m-1,1))\n",
      "DimSave = numpy.zeros((m-1,1))\n",
      "TimeSave = numpy.zeros((m-1,1))\n",
      "NN = numpy.zeros((m-1,1))\n",
      "Curlgrad = numpy.zeros((m-1,1))\n",
      "Massgrad = numpy.zeros((m-1,1))\n",
      "Laplgrad = numpy.zeros((m-1,1))\n",
      "dim = 2\n",
      "\n",
      "for xx in xrange(1,m):\n",
      "    NN[xx-1] = xx+0\n",
      "    nn = int(2**(NN[xx-1][0]))\n",
      "    omega = 1\n",
      "    if dim == 2:\n",
      "        # mesh = UnitSquareMesh(int(nn),int(nn))\n",
      "        mesh =  RectangleMesh(0.0, 0.0, 1.0, 1.5, int(nn), int(nn), 'left')\n",
      "        u0, p0, CurlCurl, gradPres, CurlMass = ExactSol.M2D(2,Show=\"yes\", Mass = omega)\n",
      "    else:\n",
      "        mesh = UnitCubeMesh(int(nn),int(nn),int(nn))\n",
      "        u0, p0, CurlCurl, gradPres, CurlMass = ExactSol.M3D(1,Show=\"yes\", Mass = omega)\n",
      "\n",
      "    order = 1\n",
      "    parameters['reorder_dofs_serial'] = False\n",
      "    Magnetic = FunctionSpace(mesh, \"N1curl\", order)\n",
      "    Lagrange = FunctionSpace(mesh, \"CG\", order)\n",
      "    VLagrange = VectorFunctionSpace(mesh, \"CG\", order)\n",
      "\n",
      "    DimSave[xx-1] = Magnetic.dim()\n",
      "    print Magnetic.dim()\n",
      "    parameters['linear_algebra_backend'] = 'uBLAS'\n",
      "\n",
      "\n",
      "    column =  numpy.zeros(2*mesh.num_edges(), order=\"C\") #, dtype=\"intc\")\n",
      "    row =  numpy.zeros(2*mesh.num_edges(), order=\"C\") #, dtype=\"intc\")\n",
      "    data =  numpy.zeros(2*mesh.num_edges(), order=\"C\") #, dtype=\"intc\")\n",
      "\n",
      "    # Mapping = dof_to_vertex_map(Lagrange)\n",
      "    # c = compiled_gradient_module.Gradient(Magnetic, Mapping.astype(\"intc\"),column,row,data)\n",
      "    dataX =  numpy.zeros(2*mesh.num_edges(), order=\"C\")\n",
      "    dataY =  numpy.zeros(2*mesh.num_edges(), order=\"C\")\n",
      "    dataZ =  numpy.zeros(2*mesh.num_edges(), order=\"C\")\n",
      "\n",
      "    tic()\n",
      "    c = compiled_gradient_module.ProlongationGradsecond(mesh, dataX,dataY,dataZ, data, row, column)\n",
      "    print \"C++ time:\", toc()\n",
      "\n",
      "    C = coo_matrix((data,(row,column)), shape=(Magnetic.dim(),Lagrange.dim())).tocsr()\n",
      "    G = PETSc.Mat().createAIJ(size=C.shape,csr=(C.indptr, C.indices, C.data))\n",
      "\n",
      "    Px = coo_matrix((dataX,(row,column)), shape=(Magnetic.dim(),Lagrange.dim())).tocsr()\n",
      "    Py = coo_matrix((dataY,(row,column)), shape=(Magnetic.dim(),Lagrange.dim())).tocsr()\n",
      "    Pz = coo_matrix((dataZ,(row,column)), shape=(Magnetic.dim(),Lagrange.dim())).tocsr()\n",
      "\n",
      "    Px.eliminate_zeros()\n",
      "    Py.eliminate_zeros()\n",
      "    Pz.eliminate_zeros()\n",
      "\n",
      "    if Magnetic.dim() == 8001:\n",
      "\n",
      "        VertexDoF = numpy.sin(numpy.linspace(0.0, 2*numpy.pi, num=mesh.num_vertices()))\n",
      "        EdgeDoFX =  Px*VertexDoF\n",
      "        EdgeDoFY =  Py*VertexDoF\n",
      "        EEX = Function(Magnetic)\n",
      "        EEY = Function(Magnetic)\n",
      "        VV = Function(Lagrange)\n",
      "        VV.vector()[:] = VertexDoF\n",
      "        EEX.vector()[:] = EdgeDoFX\n",
      "        EEY.vector()[:] = EdgeDoFY\n",
      "\n",
      "        # file = File(\"Plots/MagneticXdirection_\"+str(Magnetic.dim())+\".pvd\")\n",
      "        # file << EEX\n",
      "        # file = File(\"Plots/MagneticYdirection_\"+str(Magnetic.dim())+\".pvd\")\n",
      "        # file << EEY\n",
      "        # file = File(\"Plots/Nodal_\"+str(Magnetic.dim())+\".pvd\")\n",
      "        # file << VV\n",
      "\n",
      "        plot(EEX,tite=\"Magnetic interpolation X-direction\")\n",
      "        plot(EEY,tite=\"Magnetic interpolation Y-direction\")\n",
      "        plot(VV,tite=\"Nodal represetation\")\n",
      "\n",
      "\n",
      "\n",
      "    def boundary(x, on_boundary):\n",
      "        return on_boundary\n",
      "\n",
      "    bc = DirichletBC(Magnetic,u0, boundary)\n",
      "\n",
      "    (v) = TestFunction(Magnetic)\n",
      "    (u) = TrialFunction(Magnetic)\n",
      "\n",
      "    (p) = TrialFunction(Lagrange)\n",
      "    (q) = TestFunction(Lagrange)\n",
      "\n",
      "    (Vp) = TrialFunction(VLagrange)\n",
      "    (Vq) = TestFunction(VLagrange)\n",
      "\n",
      "    Curl = assemble(inner(curl(u),curl(v))*dx).sparray()\n",
      "    Mass = assemble(inner(u,v)*dx).sparray()\n",
      "    Grad = assemble(inner(grad(p),v)*dx).sparray()\n",
      "    Laplacian = assemble(inner(grad(q),grad(p))*dx).sparray()\n",
      "\n",
      "    print  \"========================================\"\n",
      "    Curlgrad[xx-1]=(Curl*C).max()\n",
      "    print \" Curl-gradient test: \", Curlgrad[xx-1]\n",
      "    Massgrad[xx-1]=(Mass*C-Grad).max()\n",
      "    print \" Mass-gradient test: \", Massgrad[xx-1]\n",
      "    Laplgrad[xx-1]=(Grad.transpose().tocsr()*C-Laplacian).max()\n",
      "    print \" Lapl-gradient test: \", Laplgrad[xx-1]\n",
      "    print \"========================================\"\n",
      "\n",
      "    a = inner(curl(u),curl(v))*dx + inner(u,v)*dx\n",
      "    L1  = inner(v, CurlMass)*dx\n",
      "\n",
      "    Acurl,b = assemble_system(a,L1,bc)\n",
      "    A,b = CP.Assemble(Acurl,b)\n",
      "    x = b.duplicate()\n",
      "\n",
      "\n",
      "    ScalarLaplacian = assemble(inner(grad(p),grad(q))*dx)\n",
      "    VectorLaplacian = assemble(inner(grad(p),grad(q))*dx+inner(p,q)*dx)"
     ],
     "language": "python",
     "metadata": {},
     "outputs": [
      {
       "output_type": "stream",
       "stream": "stderr",
       "text": [
        "DEBUG:UFL:No integrals left after transformation, returning empty form.\n"
       ]
      },
      {
       "output_type": "stream",
       "stream": "stderr",
       "text": [
        "DEBUG:FFC:Reusing form from cache.\n"
       ]
      },
      {
       "output_type": "stream",
       "stream": "stderr",
       "text": [
        "DEBUG:UFL:No integrals left after transformation, returning empty form.\n"
       ]
      },
      {
       "output_type": "stream",
       "stream": "stderr",
       "text": [
        "DEBUG:FFC:Reusing form from cache.\n"
       ]
      },
      {
       "output_type": "stream",
       "stream": "stderr",
       "text": [
        "DEBUG:UFL:No integrals left after transformation, returning empty form.\n"
       ]
      },
      {
       "output_type": "stream",
       "stream": "stderr",
       "text": [
        "DEBUG:FFC:Reusing form from cache.\n"
       ]
      },
      {
       "output_type": "stream",
       "stream": "stdout",
       "text": [
        "  Maxwell Exact Solution:\n",
        "\n",
        "  b = ( y*(y - 1) , x*(x - 1) )\n",
        "\n",
        "  p = ( x*y*(x - 1)*(y - 1) )\n",
        "\n",
        "16"
       ]
      },
      {
       "output_type": "stream",
       "stream": "stderr",
       "text": [
        "DEBUG:UFL:No integrals left after transformation, returning empty form.\n"
       ]
      },
      {
       "output_type": "stream",
       "stream": "stderr",
       "text": [
        "DEBUG:UFL:No integrals left after transformation, returning empty form.\n"
       ]
      },
      {
       "output_type": "stream",
       "stream": "stderr",
       "text": [
        "DEBUG:FFC:Reusing form from cache.\n"
       ]
      },
      {
       "output_type": "stream",
       "stream": "stderr",
       "text": [
        "DEBUG:UFL:No integrals left after transformation, returning empty form.\n"
       ]
      },
      {
       "output_type": "stream",
       "stream": "stderr",
       "text": [
        "DEBUG:UFL:No integrals left after transformation, returning empty form.\n"
       ]
      },
      {
       "output_type": "stream",
       "stream": "stderr",
       "text": [
        "DEBUG:FFC:Reusing form from cache.\n"
       ]
      },
      {
       "output_type": "stream",
       "stream": "stderr",
       "text": [
        "DEBUG:UFL:No integrals left after transformation, returning empty form.\n"
       ]
      },
      {
       "output_type": "stream",
       "stream": "stderr",
       "text": [
        "DEBUG:UFL:No integrals left after transformation, returning empty form.\n"
       ]
      },
      {
       "output_type": "stream",
       "stream": "stderr",
       "text": [
        "DEBUG:FFC:Reusing form from cache.\n"
       ]
      },
      {
       "output_type": "stream",
       "stream": "stderr",
       "text": [
        "DEBUG:UFL:No integrals left after transformation, returning empty form.\n"
       ]
      },
      {
       "output_type": "stream",
       "stream": "stderr",
       "text": [
        "DEBUG:UFL:No integrals left after transformation, returning empty form.\n"
       ]
      },
      {
       "output_type": "stream",
       "stream": "stderr",
       "text": [
        "DEBUG:FFC:Reusing form from cache.\n"
       ]
      },
      {
       "output_type": "stream",
       "stream": "stdout",
       "text": [
        "\n",
        "C++ time: 7.10487365723e-05\n",
        "========================================"
       ]
      },
      {
       "output_type": "stream",
       "stream": "stdout",
       "text": [
        "\n",
        " Curl-gradient test:  [ 0.]\n",
        " Mass-gradient test:  [  1.55431223e-15]\n",
        " Lapl-gradient test: "
       ]
      },
      {
       "output_type": "stream",
       "stream": "stderr",
       "text": [
        "DEBUG:UFL:No integrals left after transformation, returning empty form.\n"
       ]
      },
      {
       "output_type": "stream",
       "stream": "stderr",
       "text": [
        "DEBUG:UFL:No integrals left after transformation, returning empty form.\n"
       ]
      },
      {
       "output_type": "stream",
       "stream": "stderr",
       "text": [
        "DEBUG:FFC:Reusing form from cache.\n"
       ]
      },
      {
       "output_type": "stream",
       "stream": "stderr",
       "text": [
        "INFO:UFL:Adjusting missing element domain to <Domain built from <triangle cell in 2D> with label dolfin_mesh_with_id_0>.\n"
       ]
      },
      {
       "output_type": "stream",
       "stream": "stderr",
       "text": [
        "INFO:UFL:Adjusting missing element degree to 1\n"
       ]
      },
      {
       "output_type": "stream",
       "stream": "stderr",
       "text": [
        "INFO:UFL:Adjusting missing element domain to <Domain built from <triangle cell in 2D> with label dolfin_mesh_with_id_0>.\n"
       ]
      },
      {
       "output_type": "stream",
       "stream": "stderr",
       "text": [
        "INFO:UFL:Adjusting missing element degree to 1\n"
       ]
      },
      {
       "output_type": "stream",
       "stream": "stderr",
       "text": [
        "INFO:UFL:Adjusting missing element domain to <Domain built from <triangle cell in 2D> with label dolfin_mesh_with_id_0>.\n"
       ]
      },
      {
       "output_type": "stream",
       "stream": "stderr",
       "text": [
        "INFO:UFL:Adjusting missing element degree to 1\n"
       ]
      },
      {
       "output_type": "stream",
       "stream": "stderr",
       "text": [
        "DEBUG:UFL:No integrals left after transformation, returning empty form.\n"
       ]
      },
      {
       "output_type": "stream",
       "stream": "stderr",
       "text": [
        "DEBUG:FFC:Reusing form from cache.\n"
       ]
      },
      {
       "output_type": "stream",
       "stream": "stderr",
       "text": [
        "DEBUG:UFL:No integrals left after transformation, returning empty form.\n"
       ]
      },
      {
       "output_type": "stream",
       "stream": "stderr",
       "text": [
        "DEBUG:UFL:No integrals left after transformation, returning empty form.\n"
       ]
      },
      {
       "output_type": "stream",
       "stream": "stderr",
       "text": [
        "DEBUG:FFC:Reusing form from cache.\n"
       ]
      },
      {
       "output_type": "stream",
       "stream": "stderr",
       "text": [
        "DEBUG:UFL:No integrals left after transformation, returning empty form.\n"
       ]
      },
      {
       "output_type": "stream",
       "stream": "stderr",
       "text": [
        "DEBUG:UFL:No integrals left after transformation, returning empty form.\n"
       ]
      },
      {
       "output_type": "stream",
       "stream": "stderr",
       "text": [
        "DEBUG:FFC:Reusing form from cache.\n"
       ]
      },
      {
       "output_type": "stream",
       "stream": "stdout",
       "text": [
        " [  4.44089210e-16]\n",
        "========================================\n"
       ]
      }
     ],
     "prompt_number": 1
    },
    {
     "cell_type": "code",
     "collapsed": false,
     "input": [
      "e = BoundaryMesh(mesh,\"interiro\")"
     ],
     "language": "python",
     "metadata": {},
     "outputs": [],
     "prompt_number": 10
    },
    {
     "cell_type": "code",
     "collapsed": false,
     "input": [
      "print e.entity_map(0)\n"
     ],
     "language": "python",
     "metadata": {},
     "outputs": [
      {
       "output_type": "stream",
       "stream": "stdout",
       "text": [
        "<MeshFunction of topological dimension 0 containing 8 values>\n"
       ]
      }
     ],
     "prompt_number": 11
    },
    {
     "cell_type": "code",
     "collapsed": false,
     "input": [
      "print e.entity_map"
     ],
     "language": "python",
     "metadata": {},
     "outputs": []
    },
    {
     "cell_type": "code",
     "collapsed": false,
     "input": [
      "bc.apply(G)"
     ],
     "language": "python",
     "metadata": {},
     "outputs": [
      {
       "ename": "TypeError",
       "evalue": "in method 'DirichletBC_apply', argument 2 of type 'dolfin::GenericVector &'",
       "output_type": "pyerr",
       "traceback": [
        "\u001b[1;31m---------------------------------------------------------------------------\u001b[0m\n\u001b[1;31mTypeError\u001b[0m                                 Traceback (most recent call last)",
        "\u001b[1;32m<ipython-input-16-735a24751db5>\u001b[0m in \u001b[0;36m<module>\u001b[1;34m()\u001b[0m\n\u001b[1;32m----> 1\u001b[1;33m \u001b[0mbc\u001b[0m\u001b[1;33m.\u001b[0m\u001b[0mapply\u001b[0m\u001b[1;33m(\u001b[0m\u001b[0mG\u001b[0m\u001b[1;33m)\u001b[0m\u001b[1;33m\u001b[0m\u001b[0m\n\u001b[0m",
        "\u001b[1;31mTypeError\u001b[0m: in method 'DirichletBC_apply', argument 2 of type 'dolfin::GenericVector &'"
       ]
      }
     ],
     "prompt_number": 16
    },
    {
     "cell_type": "code",
     "collapsed": false,
     "input": [
      "A, N = Matrix(), 10\n",
      "A.resize(N,N)\n",
      "values = numpy.ones(2,dtype=numpy.float_)\n",
      "rows = numpy.array([0],dtype=numpy.intc)\n",
      "cols = numpy.array([1,2],dtype=numpy.intc)\n",
      "A.set(values,rows,cols)\n",
      "A.apply()"
     ],
     "language": "python",
     "metadata": {},
     "outputs": [
      {
       "ename": "AttributeError",
       "evalue": "'Matrix' object has no attribute 'resize'",
       "output_type": "pyerr",
       "traceback": [
        "\u001b[1;31m---------------------------------------------------------------------------\u001b[0m\n\u001b[1;31mAttributeError\u001b[0m                            Traceback (most recent call last)",
        "\u001b[1;32m<ipython-input-18-b854bfc20192>\u001b[0m in \u001b[0;36m<module>\u001b[1;34m()\u001b[0m\n\u001b[0;32m      1\u001b[0m \u001b[0mA\u001b[0m\u001b[1;33m,\u001b[0m \u001b[0mN\u001b[0m \u001b[1;33m=\u001b[0m \u001b[0mMatrix\u001b[0m\u001b[1;33m(\u001b[0m\u001b[1;33m)\u001b[0m\u001b[1;33m,\u001b[0m \u001b[1;36m10\u001b[0m\u001b[1;33m\u001b[0m\u001b[0m\n\u001b[1;32m----> 2\u001b[1;33m \u001b[0mA\u001b[0m\u001b[1;33m.\u001b[0m\u001b[0mresize\u001b[0m\u001b[1;33m(\u001b[0m\u001b[0mN\u001b[0m\u001b[1;33m,\u001b[0m\u001b[0mN\u001b[0m\u001b[1;33m)\u001b[0m\u001b[1;33m\u001b[0m\u001b[0m\n\u001b[0m\u001b[0;32m      3\u001b[0m \u001b[0mvalues\u001b[0m \u001b[1;33m=\u001b[0m \u001b[0mnumpy\u001b[0m\u001b[1;33m.\u001b[0m\u001b[0mones\u001b[0m\u001b[1;33m(\u001b[0m\u001b[1;36m2\u001b[0m\u001b[1;33m,\u001b[0m\u001b[0mdtype\u001b[0m\u001b[1;33m=\u001b[0m\u001b[0mnumpy\u001b[0m\u001b[1;33m.\u001b[0m\u001b[0mfloat_\u001b[0m\u001b[1;33m)\u001b[0m\u001b[1;33m\u001b[0m\u001b[0m\n\u001b[0;32m      4\u001b[0m \u001b[0mrows\u001b[0m \u001b[1;33m=\u001b[0m \u001b[0mnumpy\u001b[0m\u001b[1;33m.\u001b[0m\u001b[0marray\u001b[0m\u001b[1;33m(\u001b[0m\u001b[1;33m[\u001b[0m\u001b[1;36m0\u001b[0m\u001b[1;33m]\u001b[0m\u001b[1;33m,\u001b[0m\u001b[0mdtype\u001b[0m\u001b[1;33m=\u001b[0m\u001b[0mnumpy\u001b[0m\u001b[1;33m.\u001b[0m\u001b[0mintc\u001b[0m\u001b[1;33m)\u001b[0m\u001b[1;33m\u001b[0m\u001b[0m\n\u001b[0;32m      5\u001b[0m \u001b[0mcols\u001b[0m \u001b[1;33m=\u001b[0m \u001b[0mnumpy\u001b[0m\u001b[1;33m.\u001b[0m\u001b[0marray\u001b[0m\u001b[1;33m(\u001b[0m\u001b[1;33m[\u001b[0m\u001b[1;36m1\u001b[0m\u001b[1;33m,\u001b[0m\u001b[1;36m2\u001b[0m\u001b[1;33m]\u001b[0m\u001b[1;33m,\u001b[0m\u001b[0mdtype\u001b[0m\u001b[1;33m=\u001b[0m\u001b[0mnumpy\u001b[0m\u001b[1;33m.\u001b[0m\u001b[0mintc\u001b[0m\u001b[1;33m)\u001b[0m\u001b[1;33m\u001b[0m\u001b[0m\n",
        "\u001b[1;31mAttributeError\u001b[0m: 'Matrix' object has no attribute 'resize'"
       ]
      }
     ],
     "prompt_number": 18
    }
   ],
   "metadata": {}
  }
 ]
}
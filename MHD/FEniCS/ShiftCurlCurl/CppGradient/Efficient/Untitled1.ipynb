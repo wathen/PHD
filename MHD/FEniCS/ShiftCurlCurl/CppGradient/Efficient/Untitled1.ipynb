{
 "metadata": {
  "name": ""
 },
 "nbformat": 3,
 "nbformat_minor": 0,
 "worksheets": [
  {
   "cells": [
    {
     "cell_type": "code",
     "collapsed": false,
     "input": [
      "from dolfin import *\n",
      "import numpy\n",
      "nn = 2\n",
      "mesh = UnitCubeMesh(int(nn),int(nn),int(nn))\n",
      "order = 1\n",
      "parameters['reorder_dofs_serial'] = False\n",
      "Magnetic = FunctionSpace(mesh, \"N1curl\", order)\n",
      "Lagrange = FunctionSpace(mesh, \"CG\", order)\n",
      "print Magnetic.dim()\n",
      "\n",
      "def boundary(x, on_boundary):\n",
      "        return on_boundary\n",
      "W = Magnetic*Lagrange\n",
      "# bcW = DirichletBC(W.sub(0),Expression((\"1.0\",\"1.0\",\"1.0\")), boundary)\n",
      "# bcuW = DirichletBC(W.sub(1), Expression((\"1.0\")), boundary)"
     ],
     "language": "python",
     "metadata": {},
     "outputs": [
      {
       "output_type": "stream",
       "stream": "stderr",
       "text": [
        "DEBUG:UFL:No integrals left after transformation, returning empty form.\n"
       ]
      },
      {
       "output_type": "stream",
       "stream": "stderr",
       "text": [
        "DEBUG:FFC:Reusing form from cache.\n"
       ]
      },
      {
       "output_type": "stream",
       "stream": "stderr",
       "text": [
        "DEBUG:UFL:No integrals left after transformation, returning empty form.\n"
       ]
      },
      {
       "output_type": "stream",
       "stream": "stderr",
       "text": [
        "DEBUG:FFC:Reusing form from cache.\n"
       ]
      },
      {
       "output_type": "stream",
       "stream": "stderr",
       "text": [
        "DEBUG:UFL:No integrals left after transformation, returning empty form.\n"
       ]
      },
      {
       "output_type": "stream",
       "stream": "stderr",
       "text": [
        "DEBUG:FFC:Reusing form from cache.\n"
       ]
      },
      {
       "output_type": "stream",
       "stream": "stdout",
       "text": [
        "98\n"
       ]
      }
     ],
     "prompt_number": 1
    },
    {
     "cell_type": "code",
     "collapsed": false,
     "input": [
      "a = mesh.bounding_box_tree()\n",
      "B = BoundaryMesh(Magnetic.mesh(),\"exterior\",False)\n",
      "B = numpy.sort(B.entity_map(0).array().astype(\"float_\",\"C\"))"
     ],
     "language": "python",
     "metadata": {},
     "outputs": [],
     "prompt_number": 3
    },
    {
     "cell_type": "code",
     "collapsed": false,
     "input": [
      "v = Vertex(mesh, 3)"
     ],
     "language": "python",
     "metadata": {},
     "outputs": [],
     "prompt_number": 40
    },
    {
     "cell_type": "code",
     "collapsed": false,
     "input": [
      "data = mesh.data()"
     ],
     "language": "python",
     "metadata": {},
     "outputs": [],
     "prompt_number": 61
    },
    {
     "cell_type": "code",
     "collapsed": false,
     "input": [
      "data.array(\"facet_orientation\",0)"
     ],
     "language": "python",
     "metadata": {},
     "outputs": [
      {
       "ename": "RuntimeError",
       "evalue": "\n\n*** -------------------------------------------------------------------------\n*** DOLFIN encountered an error. If you are not able to resolve this issue\n*** using the information listed below, you can ask for help at\n***\n***     fenics@fenicsproject.org\n***\n*** Remember to include the error message listed below and, if possible,\n*** include a *minimal* running example to reproduce the error.\n***\n*** -------------------------------------------------------------------------\n*** Error:   Unable to access mesh data.\n*** Reason:  Mesh data array named \"facet_orientation\" does not exist.\n*** Where:   This error was encountered inside MeshData.cpp.\n*** Process: unknown\n*** \n*** DOLFIN version: 1.4.0\n*** Git changeset:  \n*** -------------------------------------------------------------------------\n",
       "output_type": "pyerr",
       "traceback": [
        "\u001b[1;31m---------------------------------------------------------------------------\u001b[0m\n\u001b[1;31mRuntimeError\u001b[0m                              Traceback (most recent call last)",
        "\u001b[1;32m<ipython-input-63-05ed6cbbe53d>\u001b[0m in \u001b[0;36m<module>\u001b[1;34m()\u001b[0m\n\u001b[1;32m----> 1\u001b[1;33m \u001b[0mdata\u001b[0m\u001b[1;33m.\u001b[0m\u001b[0marray\u001b[0m\u001b[1;33m(\u001b[0m\u001b[1;34m\"facet_orientation\"\u001b[0m\u001b[1;33m,\u001b[0m\u001b[1;36m0\u001b[0m\u001b[1;33m)\u001b[0m\u001b[1;33m\u001b[0m\u001b[0m\n\u001b[0m",
        "\u001b[1;31mRuntimeError\u001b[0m: \n\n*** -------------------------------------------------------------------------\n*** DOLFIN encountered an error. If you are not able to resolve this issue\n*** using the information listed below, you can ask for help at\n***\n***     fenics@fenicsproject.org\n***\n*** Remember to include the error message listed below and, if possible,\n*** include a *minimal* running example to reproduce the error.\n***\n*** -------------------------------------------------------------------------\n*** Error:   Unable to access mesh data.\n*** Reason:  Mesh data array named \"facet_orientation\" does not exist.\n*** Where:   This error was encountered inside MeshData.cpp.\n*** Process: unknown\n*** \n*** DOLFIN version: 1.4.0\n*** Git changeset:  \n*** -------------------------------------------------------------------------\n"
       ]
      }
     ],
     "prompt_number": 63
    },
    {
     "cell_type": "code",
     "collapsed": false,
     "input": [
      "j = 0\n",
      "for vert in vertices(mesh):\n",
      "        if vert.index() == B[j]:\n",
      "            print \"boundary\"\n",
      "            j = j+1\n",
      "        else:\n",
      "            print \"\\nvert\", vert.index()\n",
      "            print vert.entities(1)\n",
      "            for edge in edges(vert):\n",
      "#                 j = j+1\n",
      "#                 print j\n",
      "                print \"   edge\", edge.index()\n",
      "Ve"
     ],
     "language": "python",
     "metadata": {},
     "outputs": [
      {
       "ename": "NameError",
       "evalue": "name 'Ve' is not defined",
       "output_type": "pyerr",
       "traceback": [
        "\u001b[1;31m---------------------------------------------------------------------------\u001b[0m\n\u001b[1;31mNameError\u001b[0m                                 Traceback (most recent call last)",
        "\u001b[1;32m<ipython-input-5-ccbc6f441f30>\u001b[0m in \u001b[0;36m<module>\u001b[1;34m()\u001b[0m\n\u001b[0;32m     11\u001b[0m \u001b[1;31m#                 print j\u001b[0m\u001b[1;33m\u001b[0m\u001b[1;33m\u001b[0m\u001b[0m\n\u001b[0;32m     12\u001b[0m                 \u001b[1;32mprint\u001b[0m \u001b[1;34m\"   edge\"\u001b[0m\u001b[1;33m,\u001b[0m \u001b[0medge\u001b[0m\u001b[1;33m.\u001b[0m\u001b[0mindex\u001b[0m\u001b[1;33m(\u001b[0m\u001b[1;33m)\u001b[0m\u001b[1;33m\u001b[0m\u001b[0m\n\u001b[1;32m---> 13\u001b[1;33m \u001b[0mVe\u001b[0m\u001b[1;33m\u001b[0m\u001b[0m\n\u001b[0m",
        "\u001b[1;31mNameError\u001b[0m: name 'Ve' is not defined"
       ]
      },
      {
       "output_type": "stream",
       "stream": "stdout",
       "text": [
        "boundary\n",
        "boundary\n",
        "boundary\n",
        "boundary\n",
        "boundary\n",
        "boundary\n",
        "boundary\n",
        "boundary\n",
        "boundary\n",
        "boundary\n",
        "boundary\n",
        "boundary\n",
        "boundary\n",
        "\n",
        "vert 13\n",
        "[ 0  1  3  6  9 12 15 32 38 53 57 79 82 93]\n",
        "   edge 0\n",
        "   edge 1\n",
        "   edge 3\n",
        "   edge 6\n",
        "   edge 9\n",
        "   edge 12\n",
        "   edge 15\n",
        "   edge 32\n",
        "   edge 38\n",
        "   edge 53\n",
        "   edge 57\n",
        "   edge 79\n",
        "   edge 82\n",
        "   edge 93\n",
        "boundary\n",
        "boundary\n",
        "boundary\n",
        "boundary\n",
        "boundary\n",
        "boundary\n",
        "boundary\n",
        "boundary\n",
        "boundary\n",
        "boundary\n",
        "boundary\n",
        "boundary\n",
        "boundary\n"
       ]
      }
     ],
     "prompt_number": 5
    },
    {
     "cell_type": "code",
     "collapsed": false,
     "input": [],
     "language": "python",
     "metadata": {},
     "outputs": [],
     "prompt_number": 76
    },
    {
     "cell_type": "code",
     "collapsed": false,
     "input": [
      "E.array().size"
     ],
     "language": "python",
     "metadata": {},
     "outputs": [
      {
       "metadata": {},
       "output_type": "pyout",
       "prompt_number": 80,
       "text": [
        "98"
       ]
      }
     ],
     "prompt_number": 80
    },
    {
     "cell_type": "code",
     "collapsed": false,
     "input": [
      "E = EdgeFunctionBool(mesh)\n",
      "VertexBoundary = numpy.zeros(mesh.num_edges())\n",
      "VertexBoundary[E.array()] = 1"
     ],
     "language": "python",
     "metadata": {},
     "outputs": [],
     "prompt_number": 83
    },
    {
     "cell_type": "code",
     "collapsed": false,
     "input": [
      "\n",
      "VertexBoundary"
     ],
     "language": "python",
     "metadata": {},
     "outputs": [
      {
       "metadata": {},
       "output_type": "pyout",
       "prompt_number": 84,
       "text": [
        "array([ 1.,  1.,  1.,  1.,  1.,  1.,  0.,  0.,  1.,  1.,  1.,  1.,  0.,\n",
        "        0.,  0.,  0.,  1.,  0.,  1.,  1.,  0.,  1.,  1.,  0.,  1.,  0.,\n",
        "        0.,  1.,  1.,  0.,  1.,  1.,  0.,  1.,  0.,  0.,  1.,  0.,  0.,\n",
        "        0.,  1.,  0.,  0.,  0.,  0.,  0.,  0.,  0.,  1.,  1.,  1.,  1.,\n",
        "        1.,  1.,  0.,  0.,  1.,  1.,  1.,  1.,  1.,  1.,  0.,  0.,  0.,\n",
        "        0.,  0.,  0.,  0.,  0.,  0.,  0.,  0.,  0.,  0.,  0.,  0.,  0.,\n",
        "        0.,  0.,  0.,  0.,  0.,  0.,  0.,  0.,  0.,  0.,  0.,  0.,  0.,\n",
        "        0.,  0.,  0.,  0.,  0.,  0.,  0.])"
       ]
      }
     ],
     "prompt_number": 84
    },
    {
     "cell_type": "code",
     "collapsed": false,
     "input": [
      "SystemAssembler?"
     ],
     "language": "python",
     "metadata": {},
     "outputs": [],
     "prompt_number": 59
    },
    {
     "cell_type": "code",
     "collapsed": false,
     "input": [
      "bcW = DirichletBC(Magnetic,Expression((\"1.0\",\"1.0\",\"1.0\")), boundary)\n",
      "bcW.get_boundary_values()\n",
      "bcW.markers()"
     ],
     "language": "python",
     "metadata": {},
     "outputs": [
      {
       "metadata": {},
       "output_type": "pyout",
       "prompt_number": 24,
       "text": [
        "array([  3,   6,   9,  12,  15,  17,  18,  21,  22,  24,  27,  30,  37,\n",
        "        42,  44,  47,  48,  49,  50,  53,  54,  58,  60,  63,  69,  70,\n",
        "        72,  75,  77,  79,  80,  83,  85,  86,  88,  91,  99, 101, 103,\n",
        "       105, 106, 107, 108, 111, 113, 115, 117, 119], dtype=uint64)"
       ]
      }
     ],
     "prompt_number": 24
    },
    {
     "cell_type": "code",
     "collapsed": false,
     "input": [
      "B.keys()\n",
      "intlist = [str(x) for x in B.keys()]"
     ],
     "language": "python",
     "metadata": {},
     "outputs": [],
     "prompt_number": 16
    },
    {
     "cell_type": "code",
     "collapsed": false,
     "input": [
      "import numpy\n",
      "x= numpy.array(intlist)\n",
      "y = x.astype(\"float_\",\"C\")"
     ],
     "language": "python",
     "metadata": {},
     "outputs": [],
     "prompt_number": 21
    },
    {
     "cell_type": "code",
     "collapsed": false,
     "input": [
      "y"
     ],
     "language": "python",
     "metadata": {},
     "outputs": [
      {
       "metadata": {},
       "output_type": "pyout",
       "prompt_number": 22,
       "text": [
        "array([  2.,   4.,   5.,   7.,   8.,  10.,  11.,  13.,  14.,  16.,  17.,\n",
        "        18.,  19.,  20.,  21.,  23.,  24.,  25.,  26.,  27.,  29.,  31.,\n",
        "        33.,  35.,  37.,  40.,  41.,  42.,  43.,  44.,  45.,  46.,  47.,\n",
        "        48.,  49.,  51.,  52.,  54.,  55.,  56.,  60.,  61.,  62.,  63.,\n",
        "        64.,  65.,  67.,  68.,  69.,  70.,  71.,  72.,  74.,  75.,  76.,\n",
        "        77.,  78.,  80.,  81.,  84.,  85.,  86.,  87.,  88.,  89.,  90.,\n",
        "        91.,  92.,  94.,  95.,  96.,  97.])"
       ]
      }
     ],
     "prompt_number": 22
    }
   ],
   "metadata": {}
  }
 ]
}
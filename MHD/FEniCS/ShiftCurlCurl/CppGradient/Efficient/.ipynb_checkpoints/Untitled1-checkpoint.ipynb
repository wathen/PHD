{
 "metadata": {
  "name": ""
 },
 "nbformat": 3,
 "nbformat_minor": 0,
 "worksheets": [
  {
   "cells": [
    {
     "cell_type": "code",
     "collapsed": false,
     "input": [
      "from dolfin import *\n",
      "import numpy\n",
      "nn = 2\n",
      "mesh = UnitCubeMesh(int(nn),int(nn),int(nn))\n",
      "order = 1\n",
      "parameters['reorder_dofs_serial'] = False\n",
      "Magnetic = FunctionSpace(mesh, \"N1curl\", order)\n",
      "Lagrange = FunctionSpace(mesh, \"CG\", order)\n",
      "print Magnetic.dim()\n",
      "\n",
      "def boundary(x, on_boundary):\n",
      "        return on_boundary\n",
      "W = Magnetic*Lagrange\n",
      "# bcW = DirichletBC(W.sub(0),Expression((\"1.0\",\"1.0\",\"1.0\")), boundary)\n",
      "# bcuW = DirichletBC(W.sub(1), Expression((\"1.0\")), boundary)"
     ],
     "language": "python",
     "metadata": {},
     "outputs": [
      {
       "output_type": "stream",
       "stream": "stderr",
       "text": [
        "DEBUG:UFL:No integrals left after transformation, returning empty form.\n"
       ]
      },
      {
       "output_type": "stream",
       "stream": "stderr",
       "text": [
        "DEBUG:FFC:Reusing form from cache.\n"
       ]
      },
      {
       "output_type": "stream",
       "stream": "stderr",
       "text": [
        "DEBUG:UFL:No integrals left after transformation, returning empty form.\n"
       ]
      },
      {
       "output_type": "stream",
       "stream": "stderr",
       "text": [
        "DEBUG:FFC:Reusing form from cache.\n"
       ]
      },
      {
       "output_type": "stream",
       "stream": "stderr",
       "text": [
        "DEBUG:UFL:No integrals left after transformation, returning empty form.\n"
       ]
      },
      {
       "output_type": "stream",
       "stream": "stderr",
       "text": [
        "DEBUG:FFC:Reusing form from cache.\n"
       ]
      },
      {
       "output_type": "stream",
       "stream": "stdout",
       "text": [
        "16\n"
       ]
      }
     ],
     "prompt_number": 28
    },
    {
     "cell_type": "code",
     "collapsed": false,
     "input": [
      "a = mesh.bounding_box_tree()\n",
      "B = BoundaryMesh(Magnetic.mesh(),\"exterior\",False)\n",
      "B = numpy.sort(B.entity_map(0).array().astype(\"float_\",\"C\"))"
     ],
     "language": "python",
     "metadata": {},
     "outputs": [],
     "prompt_number": 52
    },
    {
     "cell_type": "code",
     "collapsed": false,
     "input": [
      "v = Vertex(mesh, 3)"
     ],
     "language": "python",
     "metadata": {},
     "outputs": [],
     "prompt_number": 40
    },
    {
     "cell_type": "code",
     "collapsed": false,
     "input": [
      "data = mesh.data()"
     ],
     "language": "python",
     "metadata": {},
     "outputs": [],
     "prompt_number": 61
    },
    {
     "cell_type": "code",
     "collapsed": false,
     "input": [
      "data.array(\"facet_orientation\",0)"
     ],
     "language": "python",
     "metadata": {},
     "outputs": [
      {
       "ename": "RuntimeError",
       "evalue": "\n\n*** -------------------------------------------------------------------------\n*** DOLFIN encountered an error. If you are not able to resolve this issue\n*** using the information listed below, you can ask for help at\n***\n***     fenics@fenicsproject.org\n***\n*** Remember to include the error message listed below and, if possible,\n*** include a *minimal* running example to reproduce the error.\n***\n*** -------------------------------------------------------------------------\n*** Error:   Unable to access mesh data.\n*** Reason:  Mesh data array named \"facet_orientation\" does not exist.\n*** Where:   This error was encountered inside MeshData.cpp.\n*** Process: unknown\n*** \n*** DOLFIN version: 1.4.0\n*** Git changeset:  \n*** -------------------------------------------------------------------------\n",
       "output_type": "pyerr",
       "traceback": [
        "\u001b[1;31m---------------------------------------------------------------------------\u001b[0m\n\u001b[1;31mRuntimeError\u001b[0m                              Traceback (most recent call last)",
        "\u001b[1;32m<ipython-input-63-05ed6cbbe53d>\u001b[0m in \u001b[0;36m<module>\u001b[1;34m()\u001b[0m\n\u001b[1;32m----> 1\u001b[1;33m \u001b[0mdata\u001b[0m\u001b[1;33m.\u001b[0m\u001b[0marray\u001b[0m\u001b[1;33m(\u001b[0m\u001b[1;34m\"facet_orientation\"\u001b[0m\u001b[1;33m,\u001b[0m\u001b[1;36m0\u001b[0m\u001b[1;33m)\u001b[0m\u001b[1;33m\u001b[0m\u001b[0m\n\u001b[0m",
        "\u001b[1;31mRuntimeError\u001b[0m: \n\n*** -------------------------------------------------------------------------\n*** DOLFIN encountered an error. If you are not able to resolve this issue\n*** using the information listed below, you can ask for help at\n***\n***     fenics@fenicsproject.org\n***\n*** Remember to include the error message listed below and, if possible,\n*** include a *minimal* running example to reproduce the error.\n***\n*** -------------------------------------------------------------------------\n*** Error:   Unable to access mesh data.\n*** Reason:  Mesh data array named \"facet_orientation\" does not exist.\n*** Where:   This error was encountered inside MeshData.cpp.\n*** Process: unknown\n*** \n*** DOLFIN version: 1.4.0\n*** Git changeset:  \n*** -------------------------------------------------------------------------\n"
       ]
      }
     ],
     "prompt_number": 63
    },
    {
     "cell_type": "code",
     "collapsed": false,
     "input": [
      "j = 0\n",
      "for vert in vertices(mesh):\n",
      "        if vert.index() == B[j]:\n",
      "            print \"boundary\"\n",
      "            j = j+1\n",
      "        else:\n",
      "            print \"\\nvert\", vert.index()\n",
      "            print vert.entities(1)\n",
      "            for edge in edges(vert):\n",
      "                j = j+1\n",
      "                print j\n",
      "                print \"   edge\", edge.index()\n",
      "Ve"
     ],
     "language": "python",
     "metadata": {},
     "outputs": [
      {
       "ename": "IndexError",
       "evalue": "index out of bounds",
       "output_type": "pyerr",
       "traceback": [
        "\u001b[1;31m---------------------------------------------------------------------------\u001b[0m\n\u001b[1;31mIndexError\u001b[0m                                Traceback (most recent call last)",
        "\u001b[1;32m<ipython-input-53-0dcb13513cef>\u001b[0m in \u001b[0;36m<module>\u001b[1;34m()\u001b[0m\n\u001b[0;32m      1\u001b[0m \u001b[0mj\u001b[0m \u001b[1;33m=\u001b[0m \u001b[1;36m0\u001b[0m\u001b[1;33m\u001b[0m\u001b[0m\n\u001b[0;32m      2\u001b[0m \u001b[1;32mfor\u001b[0m \u001b[0mvert\u001b[0m \u001b[1;32min\u001b[0m \u001b[0mvertices\u001b[0m\u001b[1;33m(\u001b[0m\u001b[0mmesh\u001b[0m\u001b[1;33m)\u001b[0m\u001b[1;33m:\u001b[0m\u001b[1;33m\u001b[0m\u001b[0m\n\u001b[1;32m----> 3\u001b[1;33m         \u001b[1;32mif\u001b[0m \u001b[0mvert\u001b[0m\u001b[1;33m.\u001b[0m\u001b[0mindex\u001b[0m\u001b[1;33m(\u001b[0m\u001b[1;33m)\u001b[0m \u001b[1;33m==\u001b[0m \u001b[0mB\u001b[0m\u001b[1;33m[\u001b[0m\u001b[0mj\u001b[0m\u001b[1;33m]\u001b[0m\u001b[1;33m:\u001b[0m\u001b[1;33m\u001b[0m\u001b[0m\n\u001b[0m\u001b[0;32m      4\u001b[0m             \u001b[1;32mprint\u001b[0m \u001b[1;34m\"boundary\"\u001b[0m\u001b[1;33m\u001b[0m\u001b[0m\n\u001b[0;32m      5\u001b[0m             \u001b[0mj\u001b[0m \u001b[1;33m=\u001b[0m \u001b[0mj\u001b[0m\u001b[1;33m+\u001b[0m\u001b[1;36m1\u001b[0m\u001b[1;33m\u001b[0m\u001b[0m\n",
        "\u001b[1;31mIndexError\u001b[0m: index out of bounds"
       ]
      },
      {
       "output_type": "stream",
       "stream": "stdout",
       "text": [
        "boundary\n",
        "boundary\n",
        "boundary\n",
        "boundary\n",
        "\n",
        "vert 4\n",
        "[]\n",
        "5\n",
        "   edge 0\n",
        "6\n",
        "   edge 1\n",
        "7\n",
        "   edge 3\n",
        "8\n",
        "   edge 8\n",
        "9\n",
        "   edge 9\n",
        "10\n",
        "   edge 14\n"
       ]
      }
     ],
     "prompt_number": 53
    },
    {
     "cell_type": "code",
     "collapsed": false,
     "input": [],
     "language": "python",
     "metadata": {},
     "outputs": [
      {
       "ename": "RuntimeError",
       "evalue": "\n\n*** -------------------------------------------------------------------------\n*** DOLFIN encountered an error. If you are not able to resolve this issue\n*** using the information listed below, you can ask for help at\n***\n***     fenics@fenicsproject.org\n***\n*** Remember to include the error message listed below and, if possible,\n*** include a *minimal* running example to reproduce the error.\n***\n*** -------------------------------------------------------------------------\n*** Error:   Unable to tabulate dof to vertex map.\n*** Reason:  Can only tabulate dofs on vertices.\n*** Where:   This error was encountered inside DofMap.cpp.\n*** Process: unknown\n*** \n*** DOLFIN version: 1.4.0\n*** Git changeset:  \n*** -------------------------------------------------------------------------\n",
       "output_type": "pyerr",
       "traceback": [
        "\u001b[1;31m---------------------------------------------------------------------------\u001b[0m\n\u001b[1;31mRuntimeError\u001b[0m                              Traceback (most recent call last)",
        "\u001b[1;32m<ipython-input-36-525d187a2b0a>\u001b[0m in \u001b[0;36m<module>\u001b[1;34m()\u001b[0m\n\u001b[1;32m----> 1\u001b[1;33m \u001b[0mdof_to_vertex_map\u001b[0m\u001b[1;33m(\u001b[0m\u001b[0mMagnetic\u001b[0m\u001b[1;33m)\u001b[0m\u001b[1;33m\u001b[0m\u001b[0m\n\u001b[0m",
        "\u001b[1;32m/home/mwathen/WorkFuckingWork/FEniCS/lib/python2.7/site-packages/dolfin/cpp/fem.pyc\u001b[0m in \u001b[0;36mdof_to_vertex_map\u001b[1;34m(*args)\u001b[0m\n\u001b[0;32m    687\u001b[0m \u001b[1;33m\u001b[0m\u001b[0m\n\u001b[0;32m    688\u001b[0m     \"\"\"\n\u001b[1;32m--> 689\u001b[1;33m   \u001b[1;32mreturn\u001b[0m \u001b[0m_fem\u001b[0m\u001b[1;33m.\u001b[0m\u001b[0mdof_to_vertex_map\u001b[0m\u001b[1;33m(\u001b[0m\u001b[1;33m*\u001b[0m\u001b[0margs\u001b[0m\u001b[1;33m)\u001b[0m\u001b[1;33m\u001b[0m\u001b[0m\n\u001b[0m\u001b[0;32m    690\u001b[0m \u001b[1;33m\u001b[0m\u001b[0m\n\u001b[0;32m    691\u001b[0m \u001b[1;32mdef\u001b[0m \u001b[0mvertex_to_dof_map\u001b[0m\u001b[1;33m(\u001b[0m\u001b[1;33m*\u001b[0m\u001b[0margs\u001b[0m\u001b[1;33m)\u001b[0m\u001b[1;33m:\u001b[0m\u001b[1;33m\u001b[0m\u001b[0m\n",
        "\u001b[1;31mRuntimeError\u001b[0m: \n\n*** -------------------------------------------------------------------------\n*** DOLFIN encountered an error. If you are not able to resolve this issue\n*** using the information listed below, you can ask for help at\n***\n***     fenics@fenicsproject.org\n***\n*** Remember to include the error message listed below and, if possible,\n*** include a *minimal* running example to reproduce the error.\n***\n*** -------------------------------------------------------------------------\n*** Error:   Unable to tabulate dof to vertex map.\n*** Reason:  Can only tabulate dofs on vertices.\n*** Where:   This error was encountered inside DofMap.cpp.\n*** Process: unknown\n*** \n*** DOLFIN version: 1.4.0\n*** Git changeset:  \n*** -------------------------------------------------------------------------\n"
       ]
      }
     ],
     "prompt_number": 36
    },
    {
     "cell_type": "code",
     "collapsed": false,
     "input": [
      "boundary_parts = MeshFunction(\"uint\", mesh, mesh.topology().dim()-1)"
     ],
     "language": "python",
     "metadata": {},
     "outputs": [],
     "prompt_number": 54
    },
    {
     "cell_type": "code",
     "collapsed": false,
     "input": [
      "boundary_parts."
     ],
     "language": "python",
     "metadata": {},
     "outputs": [
      {
       "metadata": {},
       "output_type": "pyout",
       "prompt_number": 57,
       "text": [
        "120"
       ]
      }
     ],
     "prompt_number": 57
    },
    {
     "cell_type": "code",
     "collapsed": false,
     "input": [
      "SystemAssembler?"
     ],
     "language": "python",
     "metadata": {},
     "outputs": [],
     "prompt_number": 59
    },
    {
     "cell_type": "code",
     "collapsed": false,
     "input": [
      "bcW = DirichletBC(Magnetic,Expression((\"1.0\",\"1.0\",\"1.0\")), boundary)\n",
      "bcW.get_boundary_values()\n",
      "bcW.markers()"
     ],
     "language": "python",
     "metadata": {},
     "outputs": [
      {
       "metadata": {},
       "output_type": "pyout",
       "prompt_number": 24,
       "text": [
        "array([  3,   6,   9,  12,  15,  17,  18,  21,  22,  24,  27,  30,  37,\n",
        "        42,  44,  47,  48,  49,  50,  53,  54,  58,  60,  63,  69,  70,\n",
        "        72,  75,  77,  79,  80,  83,  85,  86,  88,  91,  99, 101, 103,\n",
        "       105, 106, 107, 108, 111, 113, 115, 117, 119], dtype=uint64)"
       ]
      }
     ],
     "prompt_number": 24
    },
    {
     "cell_type": "code",
     "collapsed": false,
     "input": [
      "B.keys()\n",
      "intlist = [str(x) for x in B.keys()]"
     ],
     "language": "python",
     "metadata": {},
     "outputs": [],
     "prompt_number": 16
    },
    {
     "cell_type": "code",
     "collapsed": false,
     "input": [
      "import numpy\n",
      "x= numpy.array(intlist)\n",
      "y = x.astype(\"float_\",\"C\")"
     ],
     "language": "python",
     "metadata": {},
     "outputs": [],
     "prompt_number": 21
    },
    {
     "cell_type": "code",
     "collapsed": false,
     "input": [
      "y"
     ],
     "language": "python",
     "metadata": {},
     "outputs": [
      {
       "metadata": {},
       "output_type": "pyout",
       "prompt_number": 22,
       "text": [
        "array([  2.,   4.,   5.,   7.,   8.,  10.,  11.,  13.,  14.,  16.,  17.,\n",
        "        18.,  19.,  20.,  21.,  23.,  24.,  25.,  26.,  27.,  29.,  31.,\n",
        "        33.,  35.,  37.,  40.,  41.,  42.,  43.,  44.,  45.,  46.,  47.,\n",
        "        48.,  49.,  51.,  52.,  54.,  55.,  56.,  60.,  61.,  62.,  63.,\n",
        "        64.,  65.,  67.,  68.,  69.,  70.,  71.,  72.,  74.,  75.,  76.,\n",
        "        77.,  78.,  80.,  81.,  84.,  85.,  86.,  87.,  88.,  89.,  90.,\n",
        "        91.,  92.,  94.,  95.,  96.,  97.])"
       ]
      }
     ],
     "prompt_number": 22
    }
   ],
   "metadata": {}
  }
 ]
}
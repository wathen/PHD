{
 "metadata": {
  "name": ""
 },
 "nbformat": 3,
 "nbformat_minor": 0,
 "worksheets": [
  {
   "cells": [
    {
     "cell_type": "code",
     "collapsed": false,
     "input": [
      "from dolfin import *\n",
      "import numpy\n",
      "nn = 1\n",
      "mesh = UnitCubeMesh(int(nn),int(nn),int(nn))\n",
      "order = 1\n",
      "parameters['reorder_dofs_serial'] = False\n",
      "Magnetic = FunctionSpace(mesh, \"N1curl\", order)\n",
      "Lagrange = FunctionSpace(mesh, \"CG\", order)\n",
      "print Magnetic.dim()\n",
      "def boundary(x, on_boundary):\n",
      "        return on_boundary"
     ],
     "language": "python",
     "metadata": {},
     "outputs": [
      {
       "output_type": "stream",
       "stream": "stderr",
       "text": [
        "DEBUG:UFL:No integrals left after transformation, returning empty form.\n"
       ]
      },
      {
       "output_type": "stream",
       "stream": "stderr",
       "text": [
        "DEBUG:FFC:Reusing form from cache.\n"
       ]
      },
      {
       "output_type": "stream",
       "stream": "stderr",
       "text": [
        "DEBUG:UFL:No integrals left after transformation, returning empty form.\n"
       ]
      },
      {
       "output_type": "stream",
       "stream": "stderr",
       "text": [
        "DEBUG:FFC:Reusing form from cache.\n"
       ]
      },
      {
       "output_type": "stream",
       "stream": "stdout",
       "text": [
        "19\n"
       ]
      }
     ],
     "prompt_number": 11
    },
    {
     "cell_type": "code",
     "collapsed": false,
     "input": [
      "B = BoundaryMesh(Magnetic.mesh(),\"exterior\",False)\n",
      "numpy.sort(B.entity_map(1).array().astype(\"float_\",\"C\"))"
     ],
     "language": "python",
     "metadata": {},
     "outputs": [
      {
       "metadata": {},
       "output_type": "pyout",
       "prompt_number": 6,
       "text": [
        "array([  2.,   4.,   5.,   7.,  11.,  12.,  13.,  15.])"
       ]
      }
     ],
     "prompt_number": 6
    },
    {
     "cell_type": "code",
     "collapsed": false,
     "input": [
      "E = EdgeFunctionBool(mesh)\n",
      "print E.array()\n",
      "VertexBoundary = numpy.zeros(mesh.num_edges())\n",
      "VertexBoundary[E.array()] = 1\n",
      "print VertexBoundary"
     ],
     "language": "python",
     "metadata": {},
     "outputs": [
      {
       "output_type": "stream",
       "stream": "stdout",
       "text": [
        "[False False False False False False False False  True  True  True  True\n",
        " False False False False]\n",
        "[ 0.  0.  0.  0.  0.  0.  0.  0.  1.  1.  1.  1.  0.  0.  0.  0.]\n"
       ]
      }
     ],
     "prompt_number": 13
    },
    {
     "cell_type": "code",
     "collapsed": false,
     "input": [
      "B = BoundaryMesh(Magnetic.mesh(),\"exterior\",False)\n",
      "print numpy.sort(B.entity_map(0).array().astype(\"float_\",\"C\"))\n",
      "bb = numpy.sort(B.entity_map(0).array().astype(\"float_\",\"C\"))\n",
      "print numpy.sort(B.entity_map(1).array().astype(\"float_\",\"C\"))"
     ],
     "language": "python",
     "metadata": {},
     "outputs": [
      {
       "output_type": "stream",
       "stream": "stdout",
       "text": [
        "[  0.   1.   2.   3.   4.   5.   9.  10.  14.  15.  19.  20.  21.  22.  23.\n",
        "  24.]\n",
        "[  2.   4.   7.  11.  13.  15.  20.  27.  33.  40.  45.  46.  49.  52.  53.\n",
        "  55.]\n"
       ]
      }
     ],
     "prompt_number": 14
    },
    {
     "cell_type": "code",
     "collapsed": false,
     "input": [
      "B = BoundaryMesh(Magnetic.mesh(),\"exterior\")\n",
      "B.entity_map(0).array()"
     ],
     "language": "python",
     "metadata": {},
     "outputs": [
      {
       "metadata": {},
       "output_type": "pyout",
       "prompt_number": 16,
       "text": [
        "array([ 0,  1,  5,  2,  3,  4,  9, 10, 14, 15, 19, 20, 21, 22, 23, 24], dtype=uint64)"
       ]
      }
     ],
     "prompt_number": 16
    },
    {
     "cell_type": "code",
     "collapsed": false,
     "input": [],
     "language": "python",
     "metadata": {},
     "outputs": [
      {
       "output_type": "stream",
       "stream": "stdout",
       "text": [
        "\n",
        "vert 0\n",
        "\n",
        "edge 1\n",
        "\n",
        "edge 2\n",
        "\n",
        "edge 4\n",
        "\n",
        "vert 1\n",
        "\n",
        "edge 0\n",
        "\n",
        "edge 2\n",
        "\n",
        "edge 6\n",
        "\n",
        "edge 7\n",
        "\n",
        "vert 2\n",
        "\n",
        "edge 5\n",
        "\n",
        "edge 7\n",
        "\n",
        "edge 10\n",
        "\n",
        "edge 11\n",
        "\n",
        "vert 3\n",
        "\n",
        "edge 9\n",
        "\n",
        "edge 11\n",
        "\n",
        "edge 14\n",
        "\n",
        "edge 15\n",
        "\n",
        "vert 4\n",
        "\n",
        "edge 13\n",
        "\n",
        "edge 15\n",
        "\n",
        "vert 5\n",
        "\n",
        "edge 3\n",
        "\n",
        "edge 4\n",
        "\n",
        "edge 18\n",
        "\n",
        "edge 20\n",
        "\n",
        "vert 9\n",
        "\n",
        "edge 13\n",
        "\n",
        "edge 14\n",
        "\n",
        "edge 16\n",
        "\n",
        "edge 27\n",
        "\n",
        "vert 10\n",
        "\n",
        "edge 19\n",
        "\n",
        "edge 20\n",
        "\n",
        "edge 31\n",
        "\n",
        "edge 33\n",
        "\n",
        "vert 14\n",
        "\n",
        "edge 27\n",
        "\n",
        "edge 28\n",
        "\n",
        "edge 29\n",
        "\n",
        "edge 40\n",
        "\n",
        "vert 15\n",
        "\n",
        "edge 32\n",
        "\n",
        "edge 33\n",
        "\n",
        "edge 44\n",
        "\n",
        "edge 46\n",
        "\n",
        "vert 19\n",
        "\n",
        "edge 40\n",
        "\n",
        "edge 41\n",
        "\n",
        "edge 42\n",
        "\n",
        "edge 53\n",
        "\n",
        "vert 20\n",
        "\n",
        "edge 45\n",
        "\n",
        "edge 46\n",
        "\n",
        "vert 21\n",
        "\n",
        "edge 43\n",
        "\n",
        "edge 44\n",
        "\n",
        "edge 45\n",
        "\n",
        "edge 49\n",
        "\n",
        "vert 22\n",
        "\n",
        "edge 47\n",
        "\n",
        "edge 48\n",
        "\n",
        "edge 49\n",
        "\n",
        "edge 52\n",
        "\n",
        "vert 23\n",
        "\n",
        "edge 50\n",
        "\n",
        "edge 51\n",
        "\n",
        "edge 52\n",
        "\n",
        "edge 55\n",
        "\n",
        "vert 24\n",
        "\n",
        "edge 53\n",
        "\n",
        "edge 54\n",
        "\n",
        "edge 55\n"
       ]
      },
      {
       "metadata": {},
       "output_type": "pyout",
       "prompt_number": 13,
       "text": [
        "array([  4.,   7.,  11.,  15.,  15.,  20.,  27.,  33.,  40.,  46.,  53.,\n",
        "        46.,  49.,  52.,  55.,  55.])"
       ]
      }
     ],
     "prompt_number": 13
    },
    {
     "cell_type": "code",
     "collapsed": false,
     "input": [
      "b = SparsityPatternBuilder()"
     ],
     "language": "python",
     "metadata": {},
     "outputs": [],
     "prompt_number": 33
    },
    {
     "cell_type": "code",
     "collapsed": false,
     "input": [
      "B = EdgeFunctionBool(mesh)"
     ],
     "language": "python",
     "metadata": {},
     "outputs": [],
     "prompt_number": 2
    },
    {
     "cell_type": "code",
     "collapsed": false,
     "input": [
      "B = BoundaryMesh(mesh,\"exterior\")"
     ],
     "language": "python",
     "metadata": {},
     "outputs": [],
     "prompt_number": 12
    },
    {
     "cell_type": "code",
     "collapsed": false,
     "input": [
      "bb = B.entity_map(2).array()\n",
      "print bb"
     ],
     "language": "python",
     "metadata": {},
     "outputs": [
      {
       "output_type": "stream",
       "stream": "stdout",
       "text": [
        "[ 0  3  4  6  7  9 10 12 13 15 16 17]\n"
       ]
      }
     ],
     "prompt_number": 15
    },
    {
     "cell_type": "code",
     "collapsed": false,
     "input": [
      "k = 0\n",
      "VertexBoundary = numpy.zeros(3*bb.size)\n",
      "for face in faces(mesh):\n",
      "        if face.index() == bb[k]:\n",
      "            k = k+1\n",
      "            print \"\\nface\", face.index()\n",
      "            for edge in edges(face):\n",
      "                print \"      edge\", edge.index()\n",
      "                VertexBoundary[kk] = edge.index()\n",
      "            kk = kk+1\n",
      "VertexBoundary"
     ],
     "language": "python",
     "metadata": {},
     "outputs": [
      {
       "output_type": "stream",
       "stream": "stdout",
       "text": [
        "\n",
        "face 0\n",
        "      edge 1\n",
        "      edge 2\n",
        "      edge 0\n",
        "\n",
        "face 3\n",
        "      edge 4\n",
        "      edge 5\n",
        "      edge 2\n",
        "\n",
        "face 4\n",
        "      edge 1\n",
        "      edge 7\n",
        "      edge 6\n",
        "\n",
        "face 6\n",
        "      edge 5\n",
        "      edge 8\n",
        "      edge 7\n",
        "\n",
        "face 7\n",
        "      edge 9\n",
        "      edge 10\n",
        "      edge 6\n",
        "\n",
        "face 9\n",
        "      edge 8\n",
        "      edge 11\n",
        "      edge 10\n",
        "\n",
        "face 10\n",
        "      edge 12\n",
        "      edge 13\n",
        "      edge 0\n",
        "\n",
        "face 12\n",
        "      edge 4\n",
        "      edge 14\n",
        "      edge 13\n",
        "\n",
        "face 13\n",
        "      edge 9\n",
        "      edge 16\n",
        "      edge 15\n",
        "\n",
        "face 15\n",
        "      edge 11\n",
        "      edge 17\n",
        "      edge 16\n",
        "\n",
        "face 16\n",
        "      edge 12\n",
        "      edge 18\n",
        "      edge 15\n",
        "\n",
        "face 17\n",
        "      edge 14\n",
        "      edge 17\n",
        "      edge 18\n"
       ]
      },
      {
       "metadata": {},
       "output_type": "pyout",
       "prompt_number": 24,
       "text": [
        "array([ 0.,  0.,  0.,  0.,  0.,  0.,  0.,  0.,  0.,  0.,  0.,  0.])"
       ]
      }
     ],
     "prompt_number": 24
    }
   ],
   "metadata": {}
  }
 ]
}
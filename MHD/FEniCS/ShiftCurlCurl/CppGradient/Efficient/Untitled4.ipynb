{
 "metadata": {
  "name": ""
 },
 "nbformat": 3,
 "nbformat_minor": 0,
 "worksheets": [
  {
   "cells": [
    {
     "cell_type": "code",
     "collapsed": false,
     "input": [
      "from dolfin import *\n",
      "import numpy\n",
      "nn = 1\n",
      "mesh = UnitCubeMesh(int(nn),int(nn),int(nn))\n",
      "order = 1\n",
      "parameters['reorder_dofs_serial'] = False\n",
      "Magnetic = FunctionSpace(mesh, \"N1curl\", order)\n",
      "Lagrange = FunctionSpace(mesh, \"CG\", order)\n",
      "print Magnetic.dim()\n",
      "def boundary(x, on_boundary):\n",
      "        return on_boundary"
     ],
     "language": "python",
     "metadata": {},
     "outputs": [
      {
       "output_type": "stream",
       "stream": "stderr",
       "text": [
        "DEBUG:UFL:No integrals left after transformation, returning empty form.\n"
       ]
      },
      {
       "output_type": "stream",
       "stream": "stderr",
       "text": [
        "DEBUG:FFC:Reusing form from cache.\n"
       ]
      },
      {
       "output_type": "stream",
       "stream": "stderr",
       "text": [
        "DEBUG:UFL:No integrals left after transformation, returning empty form.\n"
       ]
      },
      {
       "output_type": "stream",
       "stream": "stderr",
       "text": [
        "DEBUG:FFC:Reusing form from cache.\n"
       ]
      },
      {
       "output_type": "stream",
       "stream": "stdout",
       "text": [
        "19\n"
       ]
      }
     ],
     "prompt_number": 2
    },
    {
     "cell_type": "code",
     "collapsed": false,
     "input": [
      "B = BoundaryMesh(Magnetic.mesh(),\"exterior\",False)\n",
      "numpy.sort(B.entity_map(1).array().astype(\"float_\",\"C\"))"
     ],
     "language": "python",
     "metadata": {},
     "outputs": [
      {
       "metadata": {},
       "output_type": "pyout",
       "prompt_number": 6,
       "text": [
        "array([  2.,   4.,   5.,   7.,  11.,  12.,  13.,  15.])"
       ]
      }
     ],
     "prompt_number": 6
    },
    {
     "cell_type": "code",
     "collapsed": false,
     "input": [
      "E = EdgeFunctionBool(mesh)\n",
      "print E.array()\n",
      "VertexBoundary = numpy.zeros(mesh.num_edges())\n",
      "VertexBoundary[E.array()] = 1\n",
      "print VertexBoundary"
     ],
     "language": "python",
     "metadata": {},
     "outputs": [
      {
       "output_type": "stream",
       "stream": "stdout",
       "text": [
        "[False False False False False False False False  True  True  True  True\n",
        " False False False False]\n",
        "[ 0.  0.  0.  0.  0.  0.  0.  0.  1.  1.  1.  1.  0.  0.  0.  0.]\n"
       ]
      }
     ],
     "prompt_number": 13
    },
    {
     "cell_type": "code",
     "collapsed": false,
     "input": [
      "B = BoundaryMesh(Magnetic.mesh(),\"exterior\",False)\n",
      "print numpy.sort(B.entity_map(0).array().astype(\"float_\",\"C\"))\n",
      "bb = numpy.sort(B.entity_map(0).array().astype(\"float_\",\"C\"))\n",
      "print numpy.sort(B.entity_map(1).array().astype(\"float_\",\"C\"))"
     ],
     "language": "python",
     "metadata": {},
     "outputs": [
      {
       "output_type": "stream",
       "stream": "stdout",
       "text": [
        "[  0.   1.   2.   3.   4.   5.   9.  10.  14.  15.  19.  20.  21.  22.  23.\n",
        "  24.]\n",
        "[  2.   4.   7.  11.  13.  15.  20.  27.  33.  40.  45.  46.  49.  52.  53.\n",
        "  55.]\n"
       ]
      }
     ],
     "prompt_number": 14
    },
    {
     "cell_type": "code",
     "collapsed": false,
     "input": [
      "B = BoundaryMesh(Magnetic.mesh(),\"exterior\")\n",
      "B.entity_map(0).array()"
     ],
     "language": "python",
     "metadata": {},
     "outputs": [
      {
       "metadata": {},
       "output_type": "pyout",
       "prompt_number": 33,
       "text": [
        "array([ 0,  1,  4, 10,  9,  3, 12,  2,  5, 14, 11,  7,  6, 16, 15,  8, 17,\n",
        "       19, 18, 22, 21, 23, 20, 25, 24, 26], dtype=uint64)"
       ]
      }
     ],
     "prompt_number": 33
    },
    {
     "cell_type": "code",
     "collapsed": false,
     "input": [
      "plot(mesh)"
     ],
     "language": "python",
     "metadata": {},
     "outputs": [
      {
       "metadata": {},
       "output_type": "pyout",
       "prompt_number": 2,
       "text": [
        "<dolfin.cpp.io.VTKPlotter; proxy of <Swig Object of type 'std::shared_ptr< dolfin::VTKPlotter > *' at 0x4a6d720> >"
       ]
      }
     ],
     "prompt_number": 2
    },
    {
     "cell_type": "code",
     "collapsed": false,
     "input": [
      "b = SparsityPatternBuilder()"
     ],
     "language": "python",
     "metadata": {},
     "outputs": [],
     "prompt_number": 33
    },
    {
     "cell_type": "code",
     "collapsed": false,
     "input": [
      "B = EdgeFunctionBool(mesh)"
     ],
     "language": "python",
     "metadata": {},
     "outputs": [],
     "prompt_number": 2
    },
    {
     "cell_type": "code",
     "collapsed": false,
     "input": [
      "B = BoundaryMesh(mesh,\"exterior\")"
     ],
     "language": "python",
     "metadata": {},
     "outputs": [],
     "prompt_number": 2
    },
    {
     "cell_type": "code",
     "collapsed": false,
     "input": [
      "bb = B.entity_map(2).array()\n",
      "print bb"
     ],
     "language": "python",
     "metadata": {},
     "outputs": [
      {
       "output_type": "stream",
       "stream": "stdout",
       "text": [
        "[ 0  3  4  6  7  9 10 12 13 15 16 17]\n"
       ]
      }
     ],
     "prompt_number": 3
    },
    {
     "cell_type": "code",
     "collapsed": false,
     "input": [
      "B = BoundaryMesh(mesh,\"exterior\")\n",
      "bb = B.entity_map(2).array()\n",
      "k = 0\n",
      "kk = 0\n",
      "VertexBoundary = numpy.zeros(3*bb.size)\n",
      "for i in range(bb.size):\n",
      "    face = Face(mesh,bb[i])\n",
      "    \n",
      "    print face.index()\n",
      "    print face.entities(0)\n",
      "    "
     ],
     "language": "python",
     "metadata": {},
     "outputs": [
      {
       "output_type": "stream",
       "stream": "stdout",
       "text": [
        "0\n",
        "[1 3 7]\n",
        "3\n",
        "[0 1 3]\n",
        "4\n",
        "[1 5 7]\n",
        "6\n",
        "[0 1 5]\n",
        "7\n",
        "[4 5 7]\n",
        "9\n",
        "[0 4 5]\n",
        "10\n",
        "[2 3 7]\n",
        "12\n",
        "[0 2 3]\n",
        "13\n",
        "[4 6 7]\n",
        "15\n",
        "[0 4 6]\n",
        "16\n",
        "[2 6 7]\n",
        "17\n",
        "[0 2 6]\n"
       ]
      }
     ],
     "prompt_number": 3
    },
    {
     "cell_type": "code",
     "collapsed": false,
     "input": [
      "%timeit\n",
      "B = BoundaryMesh(mesh,\"exterior\")\n",
      "bb = B.entity_map(2).array()\n",
      "k = 0\n",
      "kk = 0\n",
      "VertexBoundary = numpy.zeros(3*bb.size)\n",
      "for face in faces(mesh):\n",
      "        if face.index() == bb[k]:\n",
      "            k = k+1\n",
      "#             print \"\\nface\", face.index()\n",
      "            for edge in edges(face):\n",
      "#                 print \"      edge\", edge.index()\n",
      "                VertexBoundary[kk] = edge.index()\n",
      "                kk = kk+1\n",
      "# VertexBoundary"
     ],
     "language": "python",
     "metadata": {},
     "outputs": [],
     "prompt_number": 33
    },
    {
     "cell_type": "code",
     "collapsed": false,
     "input": [
      "V = numpy.sort(VertexBoundary)\n",
      "V"
     ],
     "language": "python",
     "metadata": {},
     "outputs": [
      {
       "metadata": {},
       "output_type": "pyout",
       "prompt_number": 47,
       "text": [
        "array([  2.,   2.,   4.,   4.,   5.,   5.,   7.,   7.,   8.,   8.,  10.,\n",
        "        10.,  11.,  11.,  13.,  13.,  14.,  14.,  16.,  16.,  17.,  17.,\n",
        "        18.,  18.,  19.,  19.,  20.,  20.,  21.,  21.,  23.,  23.,  24.,\n",
        "        24.,  25.,  25.,  26.,  26.,  27.,  27.,  29.,  29.,  31.,  31.,\n",
        "        33.,  33.,  35.,  35.,  37.,  37.,  40.,  40.,  41.,  41.,  42.,\n",
        "        42.,  43.,  43.,  44.,  44.,  45.,  45.,  46.,  46.,  47.,  47.,\n",
        "        48.,  48.,  49.,  49.,  51.,  51.,  52.,  52.,  54.,  54.,  55.,\n",
        "        55.,  56.,  56.,  60.,  60.,  61.,  61.,  62.,  62.,  63.,  63.,\n",
        "        64.,  64.,  65.,  65.,  67.,  67.,  68.,  68.,  69.,  69.,  70.,\n",
        "        70.,  71.,  71.,  72.,  72.,  74.,  74.,  75.,  75.,  76.,  76.,\n",
        "        77.,  77.,  78.,  78.,  80.,  80.,  81.,  81.,  84.,  84.,  85.,\n",
        "        85.,  86.,  86.,  87.,  87.,  88.,  88.,  89.,  89.,  90.,  90.,\n",
        "        91.,  91.,  92.,  92.,  94.,  94.,  95.,  95.,  96.,  96.,  97.,\n",
        "        97.])"
       ]
      }
     ],
     "prompt_number": 47
    },
    {
     "cell_type": "code",
     "collapsed": false,
     "input": [
      "V[::2]"
     ],
     "language": "python",
     "metadata": {},
     "outputs": [
      {
       "metadata": {},
       "output_type": "pyout",
       "prompt_number": 48,
       "text": [
        "array([  2.,   4.,   5.,   7.,   8.,  10.,  11.,  13.,  14.,  16.,  17.,\n",
        "        18.,  19.,  20.,  21.,  23.,  24.,  25.,  26.,  27.,  29.,  31.,\n",
        "        33.,  35.,  37.,  40.,  41.,  42.,  43.,  44.,  45.,  46.,  47.,\n",
        "        48.,  49.,  51.,  52.,  54.,  55.,  56.,  60.,  61.,  62.,  63.,\n",
        "        64.,  65.,  67.,  68.,  69.,  70.,  71.,  72.,  74.,  75.,  76.,\n",
        "        77.,  78.,  80.,  81.,  84.,  85.,  86.,  87.,  88.,  89.,  90.,\n",
        "        91.,  92.,  94.,  95.,  96.,  97.])"
       ]
      }
     ],
     "prompt_number": 48
    }
   ],
   "metadata": {}
  }
 ]
}
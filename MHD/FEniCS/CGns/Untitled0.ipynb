{
 "metadata": {
  "name": "Untitled0"
 },
 "nbformat": 3,
 "nbformat_minor": 0,
 "worksheets": [
  {
   "cells": [
    {
     "cell_type": "code",
     "collapsed": false,
     "input": [
      "from petsc4py import PETSc\n",
      "from PyTrilinos import EpetraExt, Epetra\n",
      "from numpy import array,loadtxt\n",
      "import scipy.sparse as sps\n",
      "import scipy.io\n",
      "from scipy2Trilinos import scipy_csr_matrix2CrsMatrix\n",
      "import ipdb\n",
      "from dolfin import *\n",
      "import matplotlib.pylab as plt\n",
      "# data = loadtxt(\"A_epetra.txt\")\n",
      "# col,row,values = data[:,0]-1,data[:,1]-1,data[:,2]\n",
      "n = 1000.0\n",
      "A = scipy.sparse.rand(n, n, density=1/(n**1.4), format='csr')\n",
      "comm = Epetra.PyComm()\n",
      "tic()\n",
      "As = scipy_csr_matrix2CrsMatrix(A, comm)\n",
      "print toc()\n",
      "tic()\n",
      "As = PETSc.Mat().createAIJ(size=A.shape,csr=(A.indptr, A.indices, A.data))\n",
      "print toc()\n",
      "\n",
      "plt.spy(A)\n",
      "plt.show()"
     ],
     "language": "python",
     "metadata": {},
     "outputs": [
      {
       "output_type": "stream",
       "stream": "stdout",
       "text": [
        "0.00518798828125\n",
        "0.000851154327393\n"
       ]
      }
     ],
     "prompt_number": 1
    },
    {
     "cell_type": "code",
     "collapsed": false,
     "input": [
      "print As.convert?"
     ],
     "language": "python",
     "metadata": {},
     "outputs": [],
     "prompt_number": 9
    },
    {
     "cell_type": "code",
     "collapsed": false,
     "input": [
      "from petsc4py import PETSc as _PETSc\n",
      "data = As.getValuesCSR()\n",
      "(Istart,Iend) = As.getOwnershipRange()\n",
      "columns = As.getSize()[0]\n",
      "sparseSubMat = sps.csr_matrix(data[::-1],shape=(Iend-Istart,columns))\n",
      "comm = _PETSc.COMM_WORLD\n",
      "\n",
      "sparseSubMat = comm.tompi4py().allgather(sparseSubMat)\n",
      "A = sps.vstack(sparseSubMat)"
     ],
     "language": "python",
     "metadata": {},
     "outputs": [
      {
       "ename": "NameError",
       "evalue": "name 'sparse' is not defined",
       "output_type": "pyerr",
       "traceback": [
        "\u001b[0;31m---------------------------------------------------------------------------\u001b[0m\n\u001b[0;31mNameError\u001b[0m                                 Traceback (most recent call last)",
        "\u001b[0;32m<ipython-input-17-7d134faa38a6>\u001b[0m in \u001b[0;36m<module>\u001b[0;34m()\u001b[0m\n\u001b[1;32m      7\u001b[0m \u001b[0;34m\u001b[0m\u001b[0m\n\u001b[1;32m      8\u001b[0m \u001b[0msparseSubMat\u001b[0m \u001b[0;34m=\u001b[0m \u001b[0mcomm\u001b[0m\u001b[0;34m.\u001b[0m\u001b[0mtompi4py\u001b[0m\u001b[0;34m(\u001b[0m\u001b[0;34m)\u001b[0m\u001b[0;34m.\u001b[0m\u001b[0mallgather\u001b[0m\u001b[0;34m(\u001b[0m\u001b[0msparseSubMat\u001b[0m\u001b[0;34m)\u001b[0m\u001b[0;34m\u001b[0m\u001b[0m\n\u001b[0;32m----> 9\u001b[0;31m \u001b[0mA\u001b[0m \u001b[0;34m=\u001b[0m \u001b[0msparse\u001b[0m\u001b[0;34m.\u001b[0m\u001b[0mvstack\u001b[0m\u001b[0;34m(\u001b[0m\u001b[0msparseSubMat\u001b[0m\u001b[0;34m)\u001b[0m\u001b[0;34m\u001b[0m\u001b[0m\n\u001b[0m",
        "\u001b[0;31mNameError\u001b[0m: name 'sparse' is not defined"
       ]
      }
     ],
     "prompt_number": 17
    },
    {
     "cell_type": "code",
     "collapsed": false,
     "input": [],
     "language": "python",
     "metadata": {},
     "outputs": []
    }
   ],
   "metadata": {}
  }
 ]
}
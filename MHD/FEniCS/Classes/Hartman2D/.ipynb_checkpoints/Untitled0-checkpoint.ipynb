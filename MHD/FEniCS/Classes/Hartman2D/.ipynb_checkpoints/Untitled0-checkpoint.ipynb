{
 "metadata": {
  "name": "",
  "signature": "sha256:a57de1af67308429202b6ae083d840b98c0cec94c9224d2e569a4e111592c936"
 },
 "nbformat": 3,
 "nbformat_minor": 0,
 "worksheets": []
}
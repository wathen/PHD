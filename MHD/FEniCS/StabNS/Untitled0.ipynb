{
 "metadata": {
  "name": "",
  "signature": "sha256:46c2c33d8355b60dc553d3867bb434b107e35e5cefe31a4c029ddde42fce8c2d"
 },
 "nbformat": 3,
 "nbformat_minor": 0,
 "worksheets": [
  {
   "cells": [
    {
     "cell_type": "code",
     "collapsed": false,
     "input": [
      "from dolfin import *\n",
      "import numpy as np"
     ],
     "language": "python",
     "metadata": {},
     "outputs": [],
     "prompt_number": 1
    },
    {
     "cell_type": "code",
     "collapsed": false,
     "input": [
      "parameters['reorder_dofs_serial'] = False\n",
      "mesh = UnitSquareMesh(2,2)\n",
      "num_cells = mesh.num_cells()\n",
      "num_edges = mesh.init(1)\n",
      "Q = FunctionSpace(mesh,'DG',0)\n",
      "V = VectorFunctionSpace(mesh,'CG',1)\n",
      "0\n",
      "B = BoundaryMesh(mesh,\"exterior\",False)\n",
      "EdgeBoundary = np.sort(B.entity_map(1).array())\n",
      "print EdgeBoundary\n",
      "p = Expression('x[0]')\n",
      "p = interpolate(p,Q)\n",
      "p = p.vector().array()\n",
      "print p\n",
      "v = Expression(('1','1'))\n",
      "v = interpolate(v,V)\n",
      "vv = v.vector().array()\n",
      "print vv"
     ],
     "language": "python",
     "metadata": {},
     "outputs": [
      {
       "output_type": "stream",
       "stream": "stderr",
       "text": [
        "DEBUG:FFC:Reusing form from cache.\n"
       ]
      },
      {
       "output_type": "stream",
       "stream": "stderr",
       "text": [
        "DEBUG:FFC:Reusing form from cache.\n"
       ]
      },
      {
       "output_type": "stream",
       "stream": "stdout",
       "text": [
        "[ 2  4  5  7 11 12 13 15]\n",
        "[ 0.33333333  0.16666667  0.83333333  0.66666667  0.33333333  0.16666667\n",
        "  0.83333333  0.66666667]\n",
        "[ 1.  1.  1.  1.  1.  1.  1.  1.  1.  1.  1.  1.  1.  1.  1.  1.  1.  1.]\n"
       ]
      }
     ],
     "prompt_number": 57
    },
    {
     "cell_type": "code",
     "collapsed": false,
     "input": [
      "parameters['reorder_dofs_serial'] = False\n",
      "mesh = UnitSquareMesh(2,2)\n",
      "num_cells = mesh.num_cells()\n",
      "num_edges = mesh.init(1)\n",
      "Q = FunctionSpace(mesh,'DG',0)\n",
      "V = VectorFunctionSpace(mesh,'CG',1)\n",
      "\n",
      "B = BoundaryMesh(mesh,\"exterior\",False)\n",
      "EdgeBoundary = np.sort(B.entity_map(1).array())\n",
      "print EdgeBoundary\n",
      "p = Expression('x[0]*x[1]')\n",
      "pExact = Expression('2*x[0]+x[1]')\n",
      "\n",
      "p = interpolate(p,Q)\n",
      "pExact = div(grad(p))\n",
      "v = Expression(('1','2'))\n",
      "v = interpolate(v,V)\n",
      "print 'e          ', pExact + dot(v,grad(p))\n",
      "\n",
      "p = p.vector().array()\n",
      "print p\n",
      "v = Expression(('1','2'))\n",
      "v = interpolate(v,V)\n",
      "vv = v.vector().array()\n",
      "ii = 0\n",
      "n = np.zeros((2,))\n",
      "w = np.zeros((2,))\n",
      "cellIndex = np.zeros((2,))\n",
      "pJump = np.zeros((2,))\n",
      "pOut = np.zeros((num_cells,))\n",
      "for i in range(num_edges):\n",
      "    edge = Edge(mesh,i)\n",
      "#     print i, ii\n",
      "    if i != EdgeBoundary[ii]:\n",
      "#         print i, ii\n",
      "        h = edge.length()\n",
      "        v = edge.entities(0)\n",
      "        v1 = Vertex(mesh,v[0])\n",
      "        v2 = Vertex(mesh,v[1])\n",
      "        n[0] = -(v2.x(1) - v1.x(1))\n",
      "        n[1] = v2.x(0) - v1.x(0)\n",
      "        n = n/np.linalg.norm(n)\n",
      "        w[0] = (vv[v2.global_index()]+vv[v1.global_index()])/2\n",
      "        w[1] = (vv[v2.global_index()+mesh.num_vertices()]+vv[v1.global_index()+mesh.num_vertices()])/2\n",
      "        wDotn = np.dot(n,w)\n",
      "        print wDotn\n",
      "        j = 0\n",
      "        for c in cells(edge):  \n",
      "            cellIndex[j] = c.global_index()\n",
      "            pJump[j] = p[c.global_index()]\n",
      "            j = j+1\n",
      "#         print cellIndex\n",
      "        pOut[cellIndex[0]] = (1./2)*h*(pJump[0]-pJump[1])*wDotn\n",
      "        pOut[cellIndex[1]] = (1./2)*h*(pJump[0]-pJump[1])*wDotn\n",
      "    else:\n",
      "        ii = ii + 1\n",
      "#     ee = Cell(e,0)\n",
      "#     print ee.global_index()\n",
      "print pOut, pExact\n",
      "p = Function(Q) \n",
      "p.vector()[:] = pOut\n",
      "plot(p)"
     ],
     "language": "python",
     "metadata": {},
     "outputs": [
      {
       "output_type": "stream",
       "stream": "stderr",
       "text": [
        "DEBUG:FFC:Reusing form from cache.\n"
       ]
      },
      {
       "output_type": "stream",
       "stream": "stderr",
       "text": [
        "DEBUG:FFC:Reusing form from cache.\n"
       ]
      },
      {
       "output_type": "stream",
       "stream": "stdout",
       "text": [
        " [ 2  4  5  7 11 12 13 15]\n",
        "e           0\n",
        "[ 0.05555556  0.05555556  0.13888889  0.22222222  0.22222222  0.13888889\n",
        "  0.55555556  0.55555556]\n",
        "-1.0\n",
        "0.707106781187\n",
        "2.0\n",
        "0.707106781187\n",
        "2.0\n",
        "-1.0\n",
        "0.707106781187\n",
        "0.707106781187\n",
        "[ 0.         -0.08333333 -0.02083333 -0.16666667  0.02083333  0.02083333\n",
        "  0.          0.        ] 0\n"
       ]
      },
      {
       "metadata": {},
       "output_type": "pyout",
       "prompt_number": 75,
       "text": [
        "<dolfin.cpp.io.VTKPlotter; proxy of <Swig Object of type 'std::shared_ptr< dolfin::VTKPlotter > *' at 0x156f16630> >"
       ]
      }
     ],
     "prompt_number": 75
    },
    {
     "cell_type": "code",
     "collapsed": false,
     "input": [
      "pOut"
     ],
     "language": "python",
     "metadata": {},
     "outputs": [
      {
       "metadata": {},
       "output_type": "pyout",
       "prompt_number": 42,
       "text": [
        "array([ 0.,  0.])"
       ]
      }
     ],
     "prompt_number": 42
    },
    {
     "cell_type": "code",
     "collapsed": false,
     "input": [
      "grad(p)"
     ],
     "language": "python",
     "metadata": {},
     "outputs": [
      {
       "latex": [
        "${\\mathbf 0}$"
       ],
       "metadata": {},
       "output_type": "pyout",
       "prompt_number": 67,
       "text": [
        "Zero((2,), (), ())"
       ]
      }
     ],
     "prompt_number": 67
    },
    {
     "cell_type": "code",
     "collapsed": false,
     "input": [
      "    e = edge.entities"
     ],
     "language": "python",
     "metadata": {},
     "outputs": []
    },
    {
     "cell_type": "code",
     "collapsed": false,
     "input": [
      "    e = edge.mesh_id"
     ],
     "language": "python",
     "metadata": {},
     "outputs": []
    },
    {
     "cell_type": "code",
     "collapsed": false,
     "input": [
      "    print edge.mesh"
     ],
     "language": "python",
     "metadata": {},
     "outputs": []
    },
    {
     "cell_type": "code",
     "collapsed": false,
     "input": [
      "    print cell.cell_normal"
     ],
     "language": "python",
     "metadata": {},
     "outputs": []
    },
    {
     "cell_type": "code",
     "collapsed": false,
     "input": [
      "mesh = UnitCubeMesh(55,1,1)\n",
      "Q = FunctionSpace(mesh,'DG',0)\n",
      "V = VectorFunctionSpace(mesh,'CG',1)\n",
      "u_k = Function(V)\n",
      "p = Expression('1')\n",
      "p = interpolate(p,Q)\n",
      "h = CellSize(mesh)\n",
      "n = FacetNormal(mesh)\n",
      "print Q.dim(), mesh.num_cells()"
     ],
     "language": "python",
     "metadata": {},
     "outputs": [
      {
       "output_type": "stream",
       "stream": "stderr",
       "text": [
        "DEBUG:FFC:Reusing form from cache.\n"
       ]
      },
      {
       "output_type": "stream",
       "stream": "stderr",
       "text": [
        "DEBUG:FFC:Reusing form from cache.\n"
       ]
      },
      {
       "output_type": "stream",
       "stream": "stdout",
       "text": [
        "330 330\n"
       ]
      }
     ],
     "prompt_number": 29
    },
    {
     "cell_type": "code",
     "collapsed": false,
     "input": [
      "num_cells"
     ],
     "language": "python",
     "metadata": {},
     "outputs": [
      {
       "metadata": {},
       "output_type": "pyout",
       "prompt_number": 26,
       "text": [
        "8"
       ]
      }
     ],
     "prompt_number": 26
    },
    {
     "cell_type": "code",
     "collapsed": false,
     "input": [],
     "language": "python",
     "metadata": {},
     "outputs": [],
     "prompt_number": 24
    },
    {
     "cell_type": "code",
     "collapsed": false,
     "input": [],
     "language": "python",
     "metadata": {},
     "outputs": [],
     "prompt_number": 24
    },
    {
     "cell_type": "code",
     "collapsed": false,
     "input": [],
     "language": "python",
     "metadata": {},
     "outputs": []
    }
   ],
   "metadata": {}
  }
 ]
}
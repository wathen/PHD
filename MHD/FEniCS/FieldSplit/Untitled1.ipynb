{
 "metadata": {
  "name": ""
 },
 "nbformat": 3,
 "nbformat_minor": 0,
 "worksheets": [
  {
   "cells": [
    {
     "cell_type": "code",
     "collapsed": false,
     "input": [
      "import pandas as pd\n",
      "import numpy as np\n",
      "print \"\\n\\n   Lagrange convergence\"\n",
      "LagrangeTitles = [\"Total DoF\",\"R DoF\",\"Soln Time\",\"R-L2\",\"R-order\",\"R-H1\",\"H1-order\"]\n",
      "LagrangeValues = np.concatenate((np.random.randn(5, 1) ,np.random.randn(5, 1),np.random.randn(5, 1),np.random.randn(5, 1),np.random.randn(5, 1),np.random.randn(5, 1),np.random.randn(5, 1)),axis=1)\n",
      "LagrangeTable= pd.DataFrame(LagrangeValues, columns = LagrangeTitles)\n",
      "pd.set_option('precision',3)\n",
      "print LagrangeTable"
     ],
     "language": "python",
     "metadata": {},
     "outputs": [
      {
       "output_type": "stream",
       "stream": "stdout",
       "text": [
        "\n",
        "\n",
        "   Lagrange convergence\n",
        "   Total DoF  R DoF  Soln Time  R-L2  R-order  R-H1  H1-order\n",
        "0       0.61  -1.29       0.03  0.11     0.97 -0.90     -1.51\n",
        "1       0.77  -0.54       0.78 -0.71     0.47 -0.91      1.13\n",
        "2      -0.44  -1.27       1.06 -0.45    -1.40 -0.21     -0.11\n",
        "3      -0.12  -1.98       2.07  0.61    -0.02 -1.83     -1.07\n",
        "4       0.19   0.58       0.96 -1.20     0.84  0.15     -0.04\n"
       ]
      }
     ],
     "prompt_number": 15
    },
    {
     "cell_type": "code",
     "collapsed": false,
     "input": [
      "LagrangeTable['H1-order'] = LagrangeTable['H1-order'].map(lambda x: \"%2.2e\" %x\n",
      "                                                          )"
     ],
     "language": "python",
     "metadata": {},
     "outputs": [
      {
       "ename": "TypeError",
       "evalue": "'str' object is not callable",
       "output_type": "pyerr",
       "traceback": [
        "\u001b[1;31m---------------------------------------------------------------------------\u001b[0m\n\u001b[1;31mTypeError\u001b[0m                                 Traceback (most recent call last)",
        "\u001b[1;32m<ipython-input-18-6c81eddc6147>\u001b[0m in \u001b[0;36m<module>\u001b[1;34m()\u001b[0m\n\u001b[1;32m----> 1\u001b[1;33m LagrangeTable['H1-order'] = LagrangeTable['H1-order'].map(\"%2.2e\" \n\u001b[0m\u001b[0;32m      2\u001b[0m                                                           )\n",
        "\u001b[1;32m/usr/lib/python2.7/dist-packages/pandas/core/series.pyc\u001b[0m in \u001b[0;36mmap\u001b[1;34m(self, arg, na_action)\u001b[0m\n\u001b[0;32m   2495\u001b[0m             \u001b[1;32mreturn\u001b[0m \u001b[0mSeries\u001b[0m\u001b[1;33m(\u001b[0m\u001b[0mnew_values\u001b[0m\u001b[1;33m,\u001b[0m \u001b[0mindex\u001b[0m\u001b[1;33m=\u001b[0m\u001b[0mself\u001b[0m\u001b[1;33m.\u001b[0m\u001b[0mindex\u001b[0m\u001b[1;33m,\u001b[0m \u001b[0mname\u001b[0m\u001b[1;33m=\u001b[0m\u001b[0mself\u001b[0m\u001b[1;33m.\u001b[0m\u001b[0mname\u001b[0m\u001b[1;33m)\u001b[0m\u001b[1;33m\u001b[0m\u001b[0m\n\u001b[0;32m   2496\u001b[0m         \u001b[1;32melse\u001b[0m\u001b[1;33m:\u001b[0m\u001b[1;33m\u001b[0m\u001b[0m\n\u001b[1;32m-> 2497\u001b[1;33m             \u001b[0mmapped\u001b[0m \u001b[1;33m=\u001b[0m \u001b[0mmap_f\u001b[0m\u001b[1;33m(\u001b[0m\u001b[0mvalues\u001b[0m\u001b[1;33m,\u001b[0m \u001b[0marg\u001b[0m\u001b[1;33m)\u001b[0m\u001b[1;33m\u001b[0m\u001b[0m\n\u001b[0m\u001b[0;32m   2498\u001b[0m             \u001b[1;32mreturn\u001b[0m \u001b[0mSeries\u001b[0m\u001b[1;33m(\u001b[0m\u001b[0mmapped\u001b[0m\u001b[1;33m,\u001b[0m \u001b[0mindex\u001b[0m\u001b[1;33m=\u001b[0m\u001b[0mself\u001b[0m\u001b[1;33m.\u001b[0m\u001b[0mindex\u001b[0m\u001b[1;33m,\u001b[0m \u001b[0mname\u001b[0m\u001b[1;33m=\u001b[0m\u001b[0mself\u001b[0m\u001b[1;33m.\u001b[0m\u001b[0mname\u001b[0m\u001b[1;33m)\u001b[0m\u001b[1;33m\u001b[0m\u001b[0m\n\u001b[0;32m   2499\u001b[0m \u001b[1;33m\u001b[0m\u001b[0m\n",
        "\u001b[1;32m/usr/lib/python2.7/dist-packages/pandas/lib.so\u001b[0m in \u001b[0;36mpandas.lib.map_infer (pandas/lib.c:42848)\u001b[1;34m()\u001b[0m\n",
        "\u001b[1;31mTypeError\u001b[0m: 'str' object is not callable"
       ]
      }
     ],
     "prompt_number": 18
    },
    {
     "cell_type": "code",
     "collapsed": false,
     "input": [
      "print LagrangeTable"
     ],
     "language": "python",
     "metadata": {},
     "outputs": [
      {
       "output_type": "stream",
       "stream": "stdout",
       "text": [
        "   Total DoF  R DoF  Soln Time  R-L2  R-order  R-H1   H1-order\n",
        "0       0.61  -1.29       0.03  0.11     0.97 -0.90  -1.51e+00\n",
        "1       0.77  -0.54       0.78 -0.71     0.47 -0.91   1.13e+00\n",
        "2      -0.44  -1.27       1.06 -0.45    -1.40 -0.21  -1.13e-01\n",
        "3      -0.12  -1.98       2.07  0.61    -0.02 -1.83  -1.07e+00\n",
        "4       0.19   0.58       0.96 -1.20     0.84  0.15  -4.43e-02\n"
       ]
      }
     ],
     "prompt_number": 17
    },
    {
     "cell_type": "code",
     "collapsed": false,
     "input": [
      "np.random.randn(5, 1)"
     ],
     "language": "python",
     "metadata": {},
     "outputs": [
      {
       "metadata": {},
       "output_type": "pyout",
       "prompt_number": 14,
       "text": [
        "array([[ 0.42902361],\n",
        "       [ 1.5325213 ],\n",
        "       [-0.14768592],\n",
        "       [-0.25026514],\n",
        "       [-0.57824124]])"
       ]
      }
     ],
     "prompt_number": 14
    }
   ],
   "metadata": {}
  }
 ]
}
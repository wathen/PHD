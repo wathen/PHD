{
 "metadata": {
  "name": ""
 },
 "nbformat": 3,
 "nbformat_minor": 0,
 "worksheets": [
  {
   "cells": [
    {
     "cell_type": "code",
     "collapsed": false,
     "input": [
      "\n",
      "#!/usr/bin/python\n",
      "import petsc4py\n",
      "import sys\n",
      "\n",
      "petsc4py.init(sys.argv)\n",
      "\n",
      "from petsc4py import PETSc\n",
      "Print = PETSc.Sys.Print\n",
      "# from MatrixOperations import *\n",
      "from dolfin import *\n",
      "import numpy as np\n",
      "import matplotlib.pylab as plt\n",
      "import os\n",
      "import scipy.io\n",
      "from PyTrilinos import Epetra, EpetraExt, AztecOO, ML, Amesos\n",
      "from scipy2Trilinos import scipy_csr_matrix2CrsMatrix\n",
      "import PETScIO as IO\n",
      "\n",
      "m = 1000\n",
      "errL2u = np.zeros((m-1,1))\n",
      "errL2p = np.zeros((m-1,1))\n",
      "l2uorder = np.zeros((m-1,1))\n",
      "l2porder = np.zeros((m-1,1))\n",
      "NN = np.zeros((m-1,1))\n",
      "DoF = np.zeros((m-1,1))\n",
      "Vdim = np.zeros((m-1,1))\n",
      "Qdim = np.zeros((m-1,1))\n",
      "Wdim = np.zeros((m-1,1))\n",
      "iterations = np.zeros((m-1,1))\n",
      "SolTime = np.zeros((m-1,1))\n",
      "udiv = np.zeros((m-1,1))\n",
      "nn = 2\n",
      "\n",
      "dim = 2\n",
      "Solving = 'Iterative'\n",
      "ShowResultPlots = 'no'\n",
      "ShowErrorPlots = 'no'\n",
      "EigenProblem = 'no'\n",
      "SavePrecond = 'no'\n",
      "case = 3\n",
      "parameters['linear_algebra_backend'] = 'PETSc'\n",
      "\n",
      "xx = 4\n",
      "\n",
      "nn = 2**(xx)\n",
      "# Create mesh and define function space\n",
      "nn = int(nn)\n",
      "NN[xx-1] = nn\n",
      "\n",
      "mesh = RectangleMesh(0, 0, 1, 1, nn, nn,'right')\n",
      "\n",
      "parameters['reorder_dofs_serial'] = False\n",
      "V = VectorFunctionSpace(mesh, \"CG\", 2)\n",
      "Q = FunctionSpace(mesh, \"CG\", 1)\n",
      "parameters['reorder_dofs_serial'] = False\n",
      "W = V*Q\n",
      "Vdim[xx-1] = V.dim()\n",
      "Qdim[xx-1] = Q.dim()\n",
      "Wdim[xx-1] = W.dim()\n",
      "print \"\\n\\nV:  \",Vdim[xx-1],\"Q:  \",Qdim[xx-1],\"W:  \",Wdim[xx-1],\"\\n\\n\"\n",
      "def boundary(x, on_boundary):\n",
      "    return on_boundary\n",
      "\n",
      "\n",
      "if case == 1:\n",
      "    u0 = Expression((\"20*x[0]*pow(x[1],3)\",\"5*pow(x[0],4)-5*pow(x[1],4)\"))\n",
      "    p0 = Expression(\"60*pow(x[0],2)*x[1]-20*pow(x[1],3)\")\n",
      "elif case == 2:\n",
      "    u0 = Expression((\"sin(pi*x[1])\",\"sin(pi*x[0])\"))\n",
      "    p0 = Expression(\"sin(x[1]*x[0])\")\n",
      "elif case == 3:\n",
      "    u0 =Expression((\"sin(x[1])*exp(x[0])\",\"cos(x[1])*exp(x[0])\"))\n",
      "    p0 = Expression(\"sin(x[0])*cos(x[1])\")\n",
      "elif case == 4:\n",
      "    u0 = Expression((\"sin(x[1])*exp(x[0])\",\"cos(x[1])*exp(x[0])\"))\n",
      "    p0 = Expression(\"sin(x[0])*cos(x[1])\")\n",
      "\n",
      "\n",
      "\n",
      "\n",
      "bc = DirichletBC(W.sub(0),u0, boundary)\n",
      "bcs = [bc]\n",
      "\n",
      "(u, p) = TrialFunctions(W)\n",
      "(v, q) = TestFunctions(W)\n",
      "if case == 1:\n",
      "    f = Expression((\"120*x[0]*x[1]*(1-mu)\",\"60*(pow(x[0],2)-pow(x[1],2))*(1-mu)\"), mu = 1e0)\n",
      "elif case == 2:\n",
      "    f = Expression((\"pi*pi*sin(pi*x[1])+x[1]*cos(x[1]*x[0])\",\"pi*pi*sin(pi*x[0])+x[0]*cos(x[1]*x[0])\"))\n",
      "elif case == 3:\n",
      "    f = Expression((\"cos(x[0])*cos(x[1])\",\"-sin(x[0])*sin(x[1])\"))\n",
      "elif case == 4:\n",
      "    f = Expression((\"cos(x[1])*cos(x[0])\",\"-sin(x[1])*sin(x[0])\"))\n",
      "\n",
      "\n",
      "\n",
      "\n",
      "N = FacetNormal(mesh)\n",
      "h = CellSize(mesh)\n",
      "h_avg =avg(h)\n",
      "alpha = 10.0\n",
      "gamma =10.0\n",
      "n = FacetNormal(mesh)\n",
      "h = CellSize(mesh)\n",
      "h_avg =avg(h)\n",
      "d = 0\n",
      "a11 = inner(grad(v), grad(u))*dx\n",
      "a12 = div(v)*p*dx\n",
      "a21 = div(u)*q*dx\n",
      "L1  =  inner(v,f)*dx\n",
      "a = a11-a12-a21\n",
      "\n",
      "(u) = TrialFunction(V)\n",
      "(v) = TestFunction(V)\n",
      "\n",
      "(p) = TrialFunction(Q)\n",
      "(q) = TestFunction(Q)\n",
      "p11 = inner(grad(v), grad(u))*dx\n",
      "i = p*q*dx\n",
      "\n",
      "tic()\n",
      "AA, bb = assemble_system(a, L1, bcs)\n",
      "\n",
      "A = as_backend_type(AA).mat()\n",
      "print toc()\n",
      "b = bb.array()\n",
      "zeros = 0*b\n",
      "del bb\n",
      "bb = IO.arrayToVec(b)\n",
      "x = IO.arrayToVec(zeros)\n",
      "\n",
      "\n"
     ],
     "language": "python",
     "metadata": {},
     "outputs": [
      {
       "output_type": "stream",
       "stream": "stderr",
       "text": [
        "DEBUG:UFL:No integrals left after transformation, returning empty form.\n"
       ]
      },
      {
       "output_type": "stream",
       "stream": "stderr",
       "text": [
        "DEBUG:FFC:Reusing form from cache.\n"
       ]
      },
      {
       "output_type": "stream",
       "stream": "stderr",
       "text": [
        "DEBUG:UFL:No integrals left after transformation, returning empty form.\n"
       ]
      },
      {
       "output_type": "stream",
       "stream": "stderr",
       "text": [
        "DEBUG:FFC:Reusing form from cache.\n"
       ]
      },
      {
       "output_type": "stream",
       "stream": "stderr",
       "text": [
        "DEBUG:UFL:No integrals left after transformation, returning empty form.\n"
       ]
      },
      {
       "output_type": "stream",
       "stream": "stderr",
       "text": [
        "DEBUG:FFC:Reusing form from cache.\n"
       ]
      },
      {
       "output_type": "stream",
       "stream": "stderr",
       "text": [
        "DEBUG:UFL:No integrals left after transformation, returning empty form.\n"
       ]
      },
      {
       "output_type": "stream",
       "stream": "stderr",
       "text": [
        "DEBUG:UFL:No integrals left after transformation, returning empty form.\n"
       ]
      },
      {
       "output_type": "stream",
       "stream": "stderr",
       "text": [
        "DEBUG:FFC:Reusing form from cache.\n"
       ]
      },
      {
       "output_type": "stream",
       "stream": "stderr",
       "text": [
        "INFO:FFC:Adjusting missing element domain to Domain(Cell('triangle', 2), 'triangle_multiverse', 2, 2).\n"
       ]
      },
      {
       "output_type": "stream",
       "stream": "stderr",
       "text": [
        "INFO:FFC:Adjusting element degree from ? to 2\n"
       ]
      },
      {
       "output_type": "stream",
       "stream": "stderr",
       "text": [
        "INFO:FFC:Adjusting missing element domain to Domain(Cell('triangle', 2), 'triangle_multiverse', 2, 2).\n"
       ]
      },
      {
       "output_type": "stream",
       "stream": "stderr",
       "text": [
        "INFO:FFC:Adjusting element degree from ? to 2\n"
       ]
      },
      {
       "output_type": "stream",
       "stream": "stderr",
       "text": [
        "INFO:FFC:Adjusting missing element domain to Domain(Cell('triangle', 2), 'triangle_multiverse', 2, 2).\n"
       ]
      },
      {
       "output_type": "stream",
       "stream": "stderr",
       "text": [
        "INFO:FFC:Adjusting element degree from ? to 2\n"
       ]
      },
      {
       "output_type": "stream",
       "stream": "stderr",
       "text": [
        "DEBUG:UFL:No integrals left after transformation, returning empty form.\n"
       ]
      },
      {
       "output_type": "stream",
       "stream": "stderr",
       "text": [
        "DEBUG:FFC:Reusing form from cache.\n"
       ]
      },
      {
       "output_type": "stream",
       "stream": "stdout",
       "text": [
        "\n",
        "\n",
        "V:   [ 2178.] Q:   [ 289.] W:   [ 2467.] \n",
        "\n",
        "\n",
        "0.0207719802856\n"
       ]
      }
     ],
     "prompt_number": 103
    },
    {
     "cell_type": "code",
     "collapsed": false,
     "input": [
      "P11 = assemble(p11)\n",
      "bc.apply(P11)\n",
      "I = assemble(i)"
     ],
     "language": "python",
     "metadata": {},
     "outputs": [
      {
       "output_type": "stream",
       "stream": "stderr",
       "text": [
        "DEBUG:UFL:No integrals left after transformation, returning empty form.\n"
       ]
      },
      {
       "output_type": "stream",
       "stream": "stderr",
       "text": [
        "DEBUG:UFL:No integrals left after transformation, returning empty form.\n"
       ]
      },
      {
       "output_type": "stream",
       "stream": "stderr",
       "text": [
        "DEBUG:FFC:Reusing form from cache.\n"
       ]
      },
      {
       "output_type": "stream",
       "stream": "stderr",
       "text": [
        "DEBUG:UFL:No integrals left after transformation, returning empty form.\n"
       ]
      },
      {
       "output_type": "stream",
       "stream": "stderr",
       "text": [
        "DEBUG:UFL:No integrals left after transformation, returning empty form.\n"
       ]
      },
      {
       "output_type": "stream",
       "stream": "stderr",
       "text": [
        "DEBUG:FFC:Reusing form from cache.\n"
       ]
      }
     ],
     "prompt_number": 105
    },
    {
     "cell_type": "code",
     "collapsed": false,
     "input": [
      "P = PETSc.Mat()\n",
      "P.create()\n",
      "# P.setBlockSizes(2,2)"
     ],
     "language": "python",
     "metadata": {},
     "outputs": [
      {
       "metadata": {},
       "output_type": "pyout",
       "prompt_number": 120,
       "text": [
        "<petsc4py.PETSc.Mat at 0x47b4cb0>"
       ]
      }
     ],
     "prompt_number": 120
    },
    {
     "cell_type": "code",
     "collapsed": false,
     "input": [
      "u_is = PETSc.IS().createGeneral(range(V.dim()))\n",
      "p_is = PETSc.IS().createGeneral(range(V.dim(),V.dim()+Q.dim()))"
     ],
     "language": "python",
     "metadata": {},
     "outputs": [],
     "prompt_number": 60
    },
    {
     "cell_type": "code",
     "collapsed": false,
     "input": [
      "P.setSizes((2,2),(2,2))\n",
      "# P.setBlockSizes?\n",
      "# AA.view()"
     ],
     "language": "python",
     "metadata": {},
     "outputs": [],
     "prompt_number": 123
    },
    {
     "cell_type": "code",
     "collapsed": false,
     "input": [
      "P.setType(P.Type.BAIJ)"
     ],
     "language": "python",
     "metadata": {},
     "outputs": [],
     "prompt_number": 124
    },
    {
     "cell_type": "code",
     "collapsed": false,
     "input": [
      "P.setBlockSize(2)\n",
      "# P.setValuesBlocked(u_is,u_is,P11)"
     ],
     "language": "python",
     "metadata": {},
     "outputs": [],
     "prompt_number": 101
    },
    {
     "cell_type": "code",
     "collapsed": false,
     "input": [
      "# P.setValueBlockedStencil(u_is,u_is,P11)\n",
      "Pstencil = P11.Stencil()"
     ],
     "language": "python",
     "metadata": {},
     "outputs": [],
     "prompt_number": 137
    },
    {
     "cell_type": "code",
     "collapsed": false,
     "input": [
      "print Pstencil"
     ],
     "language": "python",
     "metadata": {},
     "outputs": [
      {
       "output_type": "stream",
       "stream": "stdout",
       "text": [
        "<petsc4py.PETSc._Mat_Stencil object at 0x2366690>\n"
       ]
      }
     ],
     "prompt_number": 150
    },
    {
     "cell_type": "code",
     "collapsed": false,
     "input": [
      "PP[0,0] = P11\n",
      "PP[1,1] = I"
     ],
     "language": "python",
     "metadata": {},
     "outputs": [],
     "prompt_number": 107
    },
    {
     "cell_type": "code",
     "collapsed": false,
     "input": [
      "P11.getSubMatrix"
     ],
     "language": "python",
     "metadata": {},
     "outputs": [],
     "prompt_number": 166
    },
    {
     "cell_type": "code",
     "collapsed": false,
     "input": [
      "PP, Pb = assemble_system(a11+i,L1,bcs)\n",
      "P = as_backend_type(PP).mat()\n"
     ],
     "language": "python",
     "metadata": {},
     "outputs": [
      {
       "output_type": "stream",
       "stream": "stdout",
       "text": [
        "Found different Arguments with same counts.\n",
        "Did you combine test or trial functions from different spaces?\n",
        "The Arguments found are:\n",
        "  v_{-1}\n",
        "  v_{-2}\n",
        "  v_{-1}\n",
        "  v_{-2}\n"
       ]
      },
      {
       "output_type": "stream",
       "stream": "stderr",
       "text": [
        "ERROR:UFL:Found different Arguments with same counts.\n",
        "Did you combine test or trial functions from different spaces?\n",
        "The Arguments found are:\n",
        "  v_{-1}\n",
        "  v_{-2}\n",
        "  v_{-1}\n",
        "  v_{-2}\n"
       ]
      },
      {
       "ename": "UFLException",
       "evalue": "Found different Arguments with same counts.\nDid you combine test or trial functions from different spaces?\nThe Arguments found are:\n  v_{-1}\n  v_{-2}\n  v_{-1}\n  v_{-2}",
       "output_type": "pyerr",
       "traceback": [
        "\u001b[1;31m---------------------------------------------------------------------------\u001b[0m\n\u001b[1;31mUFLException\u001b[0m                              Traceback (most recent call last)",
        "\u001b[1;32m<ipython-input-167-d6fb65ea74ec>\u001b[0m in \u001b[0;36m<module>\u001b[1;34m()\u001b[0m\n\u001b[1;32m----> 1\u001b[1;33m \u001b[0mPP\u001b[0m\u001b[1;33m,\u001b[0m \u001b[0mPb\u001b[0m \u001b[1;33m=\u001b[0m \u001b[0massemble_system\u001b[0m\u001b[1;33m(\u001b[0m\u001b[0ma11\u001b[0m\u001b[1;33m+\u001b[0m\u001b[0mi\u001b[0m\u001b[1;33m,\u001b[0m\u001b[0mL1\u001b[0m\u001b[1;33m,\u001b[0m\u001b[0mbcs\u001b[0m\u001b[1;33m)\u001b[0m\u001b[1;33m\u001b[0m\u001b[0m\n\u001b[0m\u001b[0;32m      2\u001b[0m \u001b[0mP\u001b[0m \u001b[1;33m=\u001b[0m \u001b[0mas_backend_type\u001b[0m\u001b[1;33m(\u001b[0m\u001b[0mPP\u001b[0m\u001b[1;33m)\u001b[0m\u001b[1;33m.\u001b[0m\u001b[0mmat\u001b[0m\u001b[1;33m(\u001b[0m\u001b[1;33m)\u001b[0m\u001b[1;33m\u001b[0m\u001b[0m\n",
        "\u001b[1;32m/home/mwathen/Work/FEniCS/lib/python2.7/site-packages/dolfin/fem/assembling.pyc\u001b[0m in \u001b[0;36massemble_system\u001b[1;34m(A_form, b_form, bcs, x0, A_coefficients, b_coefficients, A_function_spaces, b_function_spaces, cell_domains, exterior_facet_domains, interior_facet_domains, reset_sparsity, add_values, finalize_tensor, keep_diagonal, A_tensor, b_tensor, backend, form_compiler_parameters)\u001b[0m\n\u001b[0;32m    275\u001b[0m     \u001b[1;31m# Wrap forms\u001b[0m\u001b[1;33m\u001b[0m\u001b[1;33m\u001b[0m\u001b[0m\n\u001b[0;32m    276\u001b[0m     A_dolfin_form = Form(A_form, A_function_spaces, A_coefficients,\n\u001b[1;32m--> 277\u001b[1;33m                          subdomains, form_compiler_parameters)\n\u001b[0m\u001b[0;32m    278\u001b[0m     b_dolfin_form = Form(b_form, b_function_spaces, b_coefficients,\n\u001b[0;32m    279\u001b[0m                          subdomains, form_compiler_parameters)\n",
        "\u001b[1;32m/home/mwathen/Work/FEniCS/lib/python2.7/site-packages/dolfin/fem/form.pyc\u001b[0m in \u001b[0;36m__init__\u001b[1;34m(self, form, function_spaces, coefficients, subdomains, form_compiler_parameters, common_cell)\u001b[0m\n\u001b[0;32m     54\u001b[0m             \u001b[0mself\u001b[0m\u001b[1;33m.\u001b[0m\u001b[0m_compiled_form\u001b[0m\u001b[1;33m,\u001b[0m \u001b[0mmodule\u001b[0m\u001b[1;33m,\u001b[0m \u001b[0mself\u001b[0m\u001b[1;33m.\u001b[0m\u001b[0mform_data\u001b[0m\u001b[1;33m,\u001b[0m \u001b[0mprefix\u001b[0m\u001b[0;31m \u001b[0m\u001b[0;31m\\\u001b[0m\u001b[1;33m\u001b[0m\u001b[0m\n\u001b[0;32m     55\u001b[0m                                  = jit(form, form_compiler_parameters,\n\u001b[1;32m---> 56\u001b[1;33m                                        common_cell)\n\u001b[0m\u001b[0;32m     57\u001b[0m \u001b[1;33m\u001b[0m\u001b[0m\n\u001b[0;32m     58\u001b[0m         \u001b[1;32melif\u001b[0m \u001b[0misinstance\u001b[0m\u001b[1;33m(\u001b[0m\u001b[0mform\u001b[0m\u001b[1;33m,\u001b[0m \u001b[0mufc\u001b[0m\u001b[1;33m.\u001b[0m\u001b[0mform\u001b[0m\u001b[1;33m)\u001b[0m\u001b[1;33m:\u001b[0m\u001b[1;33m\u001b[0m\u001b[0m\n",
        "\u001b[1;32m/home/mwathen/Work/FEniCS/lib/python2.7/site-packages/dolfin/compilemodules/jit.pyc\u001b[0m in \u001b[0;36mmpi_jit\u001b[1;34m(*args, **kwargs)\u001b[0m\n\u001b[0;32m     58\u001b[0m         \u001b[1;31m# Just call JIT compiler when running in serial\u001b[0m\u001b[1;33m\u001b[0m\u001b[1;33m\u001b[0m\u001b[0m\n\u001b[0;32m     59\u001b[0m         \u001b[1;32mif\u001b[0m \u001b[0mMPI\u001b[0m\u001b[1;33m.\u001b[0m\u001b[0mnum_processes\u001b[0m\u001b[1;33m(\u001b[0m\u001b[1;33m)\u001b[0m \u001b[1;33m==\u001b[0m \u001b[1;36m1\u001b[0m\u001b[1;33m:\u001b[0m\u001b[1;33m\u001b[0m\u001b[0m\n\u001b[1;32m---> 60\u001b[1;33m             \u001b[1;32mreturn\u001b[0m \u001b[0mlocal_jit\u001b[0m\u001b[1;33m(\u001b[0m\u001b[1;33m*\u001b[0m\u001b[0margs\u001b[0m\u001b[1;33m,\u001b[0m \u001b[1;33m**\u001b[0m\u001b[0mkwargs\u001b[0m\u001b[1;33m)\u001b[0m\u001b[1;33m\u001b[0m\u001b[0m\n\u001b[0m\u001b[0;32m     61\u001b[0m \u001b[1;33m\u001b[0m\u001b[0m\n\u001b[0;32m     62\u001b[0m         \u001b[1;31m# Compile first on process 0\u001b[0m\u001b[1;33m\u001b[0m\u001b[1;33m\u001b[0m\u001b[0m\n",
        "\u001b[1;32m/home/mwathen/Work/FEniCS/lib/python2.7/site-packages/dolfin/compilemodules/jit.pyc\u001b[0m in \u001b[0;36mjit\u001b[1;34m(form, form_compiler_parameters, common_cell)\u001b[0m\n\u001b[0;32m    120\u001b[0m         \u001b[1;32mraise\u001b[0m \u001b[0mRuntimeError\u001b[0m\u001b[1;33m,\u001b[0m \u001b[1;34m\"Form compiler must implement the jit function.\"\u001b[0m\u001b[1;33m\u001b[0m\u001b[0m\n\u001b[0;32m    121\u001b[0m \u001b[1;33m\u001b[0m\u001b[0m\n\u001b[1;32m--> 122\u001b[1;33m     \u001b[1;32mreturn\u001b[0m \u001b[0mjit_compile\u001b[0m\u001b[1;33m(\u001b[0m\u001b[0mform\u001b[0m\u001b[1;33m,\u001b[0m \u001b[0mparameters\u001b[0m\u001b[1;33m=\u001b[0m\u001b[0mp\u001b[0m\u001b[1;33m,\u001b[0m \u001b[0mcommon_cell\u001b[0m\u001b[1;33m=\u001b[0m\u001b[0mcommon_cell\u001b[0m\u001b[1;33m)\u001b[0m\u001b[1;33m\u001b[0m\u001b[0m\n\u001b[0m",
        "\u001b[1;32m/home/mwathen/Work/FEniCS/lib/python2.7/site-packages/ffc/jitcompiler.pyc\u001b[0m in \u001b[0;36mjit\u001b[1;34m(ufl_object, parameters, common_cell)\u001b[0m\n\u001b[0;32m     76\u001b[0m         \u001b[1;32mreturn\u001b[0m \u001b[0mjit_element\u001b[0m\u001b[1;33m(\u001b[0m\u001b[0mufl_object\u001b[0m\u001b[1;33m,\u001b[0m \u001b[0mparameters\u001b[0m\u001b[1;33m)\u001b[0m\u001b[1;33m\u001b[0m\u001b[0m\n\u001b[0;32m     77\u001b[0m     \u001b[1;32melse\u001b[0m\u001b[1;33m:\u001b[0m\u001b[1;33m\u001b[0m\u001b[0m\n\u001b[1;32m---> 78\u001b[1;33m         \u001b[1;32mreturn\u001b[0m \u001b[0mjit_form\u001b[0m\u001b[1;33m(\u001b[0m\u001b[0mufl_object\u001b[0m\u001b[1;33m,\u001b[0m \u001b[0mparameters\u001b[0m\u001b[1;33m,\u001b[0m \u001b[0mcommon_cell\u001b[0m\u001b[1;33m)\u001b[0m\u001b[1;33m\u001b[0m\u001b[0m\n\u001b[0m\u001b[0;32m     79\u001b[0m \u001b[1;33m\u001b[0m\u001b[0m\n\u001b[0;32m     80\u001b[0m \u001b[1;32mdef\u001b[0m \u001b[0m_auto_select_degree\u001b[0m\u001b[1;33m(\u001b[0m\u001b[0melements\u001b[0m\u001b[1;33m)\u001b[0m\u001b[1;33m:\u001b[0m\u001b[1;33m\u001b[0m\u001b[0m\n",
        "\u001b[1;32m/home/mwathen/Work/FEniCS/lib/python2.7/site-packages/ffc/jitcompiler.pyc\u001b[0m in \u001b[0;36mjit_form\u001b[1;34m(form, parameters, common_cell)\u001b[0m\n\u001b[0;32m    167\u001b[0m     \u001b[1;31m# Compute form metadata and extract preprocessed form\u001b[0m\u001b[1;33m\u001b[0m\u001b[1;33m\u001b[0m\u001b[0m\n\u001b[0;32m    168\u001b[0m     form_data = form.compute_form_data(common_cell=common_cell,\n\u001b[1;32m--> 169\u001b[1;33m                                        element_mapping=element_mapping)\n\u001b[0m\u001b[0;32m    170\u001b[0m \u001b[1;33m\u001b[0m\u001b[0m\n\u001b[0;32m    171\u001b[0m     \u001b[1;31m# Wrap input\u001b[0m\u001b[1;33m\u001b[0m\u001b[1;33m\u001b[0m\u001b[0m\n",
        "\u001b[1;32m/home/mwathen/Work/FEniCS/lib/python2.7/site-packages/ufl/form.pyc\u001b[0m in \u001b[0;36mcompute_form_data\u001b[1;34m(self, object_names, common_cell, element_mapping)\u001b[0m\n\u001b[0;32m    122\u001b[0m                                          \u001b[0mobject_names\u001b[0m\u001b[1;33m=\u001b[0m\u001b[0mobject_names\u001b[0m\u001b[1;33m,\u001b[0m\u001b[1;33m\u001b[0m\u001b[0m\n\u001b[0;32m    123\u001b[0m                                          \u001b[0mcommon_cell\u001b[0m\u001b[1;33m=\u001b[0m\u001b[0mcommon_cell\u001b[0m\u001b[1;33m,\u001b[0m\u001b[1;33m\u001b[0m\u001b[0m\n\u001b[1;32m--> 124\u001b[1;33m                                          element_mapping=element_mapping)\n\u001b[0m\u001b[0;32m    125\u001b[0m         \u001b[1;31m# Always validate arguments, keeping sure that the validation works\u001b[0m\u001b[1;33m\u001b[0m\u001b[1;33m\u001b[0m\u001b[0m\n\u001b[0;32m    126\u001b[0m         self._form_data.validate(object_names=object_names,\n",
        "\u001b[1;32m/home/mwathen/Work/FEniCS/lib/python2.7/site-packages/ufl/algorithms/preprocess.pyc\u001b[0m in \u001b[0;36mpreprocess\u001b[1;34m(form, object_names, common_cell, element_mapping)\u001b[0m\n\u001b[0;32m    141\u001b[0m     \u001b[0mtic\u001b[0m\u001b[1;33m(\u001b[0m\u001b[1;34m'extract_arguments_and_coefficients'\u001b[0m\u001b[1;33m)\u001b[0m\u001b[1;33m\u001b[0m\u001b[0m\n\u001b[0;32m    142\u001b[0m     \u001b[0moriginal_arguments\u001b[0m\u001b[1;33m,\u001b[0m \u001b[0moriginal_coefficients\u001b[0m \u001b[1;33m=\u001b[0m\u001b[0;31m \u001b[0m\u001b[0;31m\\\u001b[0m\u001b[1;33m\u001b[0m\u001b[0m\n\u001b[1;32m--> 143\u001b[1;33m         \u001b[0mextract_arguments_and_coefficients\u001b[0m\u001b[1;33m(\u001b[0m\u001b[0mform\u001b[0m\u001b[1;33m)\u001b[0m\u001b[1;33m\u001b[0m\u001b[0m\n\u001b[0m\u001b[0;32m    144\u001b[0m \u001b[1;33m\u001b[0m\u001b[0m\n\u001b[0;32m    145\u001b[0m     \u001b[0mtic\u001b[0m\u001b[1;33m(\u001b[0m\u001b[1;34m'build_element_mapping'\u001b[0m\u001b[1;33m)\u001b[0m\u001b[1;33m\u001b[0m\u001b[0m\n",
        "\u001b[1;32m/home/mwathen/Work/FEniCS/lib/python2.7/site-packages/ufl/algorithms/analysis.pyc\u001b[0m in \u001b[0;36mextract_arguments_and_coefficients\u001b[1;34m(a)\u001b[0m\n\u001b[0;32m    116\u001b[0m \u001b[0mDid\u001b[0m \u001b[0myou\u001b[0m \u001b[0mcombine\u001b[0m \u001b[0mtest\u001b[0m \u001b[1;32mor\u001b[0m \u001b[0mtrial\u001b[0m \u001b[0mfunctions\u001b[0m \u001b[1;32mfrom\u001b[0m \u001b[0mdifferent\u001b[0m \u001b[0mspaces\u001b[0m\u001b[0;31m?\u001b[0m\u001b[1;33m\u001b[0m\u001b[0m\n\u001b[0;32m    117\u001b[0m The Arguments found are:\\n%s\"\"\" % \"\\n\".join(\"  %s\" % f for f in arguments)\n\u001b[1;32m--> 118\u001b[1;33m         \u001b[0merror\u001b[0m\u001b[1;33m(\u001b[0m\u001b[0mmsg\u001b[0m\u001b[1;33m)\u001b[0m\u001b[1;33m\u001b[0m\u001b[0m\n\u001b[0m\u001b[0;32m    119\u001b[0m \u001b[1;33m\u001b[0m\u001b[0m\n\u001b[0;32m    120\u001b[0m     \u001b[1;32mif\u001b[0m \u001b[0mlen\u001b[0m\u001b[1;33m(\u001b[0m\u001b[0mfcounts\u001b[0m\u001b[1;33m)\u001b[0m \u001b[1;33m!=\u001b[0m \u001b[0mlen\u001b[0m\u001b[1;33m(\u001b[0m\u001b[0mset\u001b[0m\u001b[1;33m(\u001b[0m\u001b[0mfcounts\u001b[0m\u001b[1;33m.\u001b[0m\u001b[0mvalues\u001b[0m\u001b[1;33m(\u001b[0m\u001b[1;33m)\u001b[0m\u001b[1;33m)\u001b[0m\u001b[1;33m)\u001b[0m\u001b[1;33m:\u001b[0m\u001b[1;33m\u001b[0m\u001b[0m\n",
        "\u001b[1;32m/home/mwathen/Work/FEniCS/lib/python2.7/site-packages/ufl/log.pyc\u001b[0m in \u001b[0;36merror\u001b[1;34m(self, *message)\u001b[0m\n\u001b[0;32m    152\u001b[0m         \u001b[1;34m\"Write error message and raise an exception.\"\u001b[0m\u001b[1;33m\u001b[0m\u001b[0m\n\u001b[0;32m    153\u001b[0m         \u001b[0mself\u001b[0m\u001b[1;33m.\u001b[0m\u001b[0m_log\u001b[0m\u001b[1;33m.\u001b[0m\u001b[0merror\u001b[0m\u001b[1;33m(\u001b[0m\u001b[1;33m*\u001b[0m\u001b[0mmessage\u001b[0m\u001b[1;33m)\u001b[0m\u001b[1;33m\u001b[0m\u001b[0m\n\u001b[1;32m--> 154\u001b[1;33m         \u001b[1;32mraise\u001b[0m \u001b[0mself\u001b[0m\u001b[1;33m.\u001b[0m\u001b[0m_exception_type\u001b[0m\u001b[1;33m(\u001b[0m\u001b[0mself\u001b[0m\u001b[1;33m.\u001b[0m\u001b[0m_format_raw\u001b[0m\u001b[1;33m(\u001b[0m\u001b[1;33m*\u001b[0m\u001b[0mmessage\u001b[0m\u001b[1;33m)\u001b[0m\u001b[1;33m)\u001b[0m\u001b[1;33m\u001b[0m\u001b[0m\n\u001b[0m\u001b[0;32m    155\u001b[0m \u001b[1;33m\u001b[0m\u001b[0m\n\u001b[0;32m    156\u001b[0m     \u001b[1;32mdef\u001b[0m \u001b[0mbegin\u001b[0m\u001b[1;33m(\u001b[0m\u001b[0mself\u001b[0m\u001b[1;33m,\u001b[0m \u001b[1;33m*\u001b[0m\u001b[0mmessage\u001b[0m\u001b[1;33m)\u001b[0m\u001b[1;33m:\u001b[0m\u001b[1;33m\u001b[0m\u001b[0m\n",
        "\u001b[1;31mUFLException\u001b[0m: Found different Arguments with same counts.\nDid you combine test or trial functions from different spaces?\nThe Arguments found are:\n  v_{-1}\n  v_{-2}\n  v_{-1}\n  v_{-2}"
       ]
      }
     ],
     "prompt_number": 167
    },
    {
     "cell_type": "code",
     "collapsed": false,
     "input": [
      "PP = BlockMatrix(2,2)\n",
      "PP[0,0] = P11\n",
      "PP[1,1] = I"
     ],
     "language": "python",
     "metadata": {},
     "outputs": [
      {
       "ename": "TypeError",
       "evalue": "in method 'BlockMatrix_set_block', argument 4 of type 'boost::shared_ptr< dolfin::GenericMatrix >'",
       "output_type": "pyerr",
       "traceback": [
        "\u001b[1;31m---------------------------------------------------------------------------\u001b[0m\n\u001b[1;31mTypeError\u001b[0m                                 Traceback (most recent call last)",
        "\u001b[1;32m<ipython-input-113-4dbf51d6eda5>\u001b[0m in \u001b[0;36m<module>\u001b[1;34m()\u001b[0m\n\u001b[0;32m      1\u001b[0m \u001b[0mPP\u001b[0m \u001b[1;33m=\u001b[0m \u001b[0mBlockMatrix\u001b[0m\u001b[1;33m(\u001b[0m\u001b[1;36m2\u001b[0m\u001b[1;33m,\u001b[0m\u001b[1;36m2\u001b[0m\u001b[1;33m)\u001b[0m\u001b[1;33m\u001b[0m\u001b[0m\n\u001b[1;32m----> 2\u001b[1;33m \u001b[0mPP\u001b[0m\u001b[1;33m[\u001b[0m\u001b[1;36m0\u001b[0m\u001b[1;33m,\u001b[0m\u001b[1;36m0\u001b[0m\u001b[1;33m]\u001b[0m \u001b[1;33m=\u001b[0m \u001b[0mP11\u001b[0m\u001b[1;33m\u001b[0m\u001b[0m\n\u001b[0m\u001b[0;32m      3\u001b[0m \u001b[0mPP\u001b[0m\u001b[1;33m[\u001b[0m\u001b[1;36m1\u001b[0m\u001b[1;33m,\u001b[0m\u001b[1;36m1\u001b[0m\u001b[1;33m]\u001b[0m \u001b[1;33m=\u001b[0m \u001b[0mI\u001b[0m\u001b[1;33m\u001b[0m\u001b[0m\n",
        "\u001b[1;32m/home/mwathen/Work/FEniCS/lib/python2.7/site-packages/dolfin/cpp/la.pyc\u001b[0m in \u001b[0;36m__setitem__\u001b[1;34m(self, t, m)\u001b[0m\n\u001b[0;32m   4851\u001b[0m         \u001b[0mself\u001b[0m\u001b[1;33m.\u001b[0m\u001b[0m_items\u001b[0m\u001b[1;33m[\u001b[0m\u001b[0mt\u001b[0m\u001b[1;33m]\u001b[0m \u001b[1;33m=\u001b[0m \u001b[0mm\u001b[0m\u001b[1;33m\u001b[0m\u001b[0m\n\u001b[0;32m   4852\u001b[0m         \u001b[0mi\u001b[0m\u001b[1;33m,\u001b[0m\u001b[0mj\u001b[0m \u001b[1;33m=\u001b[0m \u001b[0mt\u001b[0m\u001b[1;33m\u001b[0m\u001b[0m\n\u001b[1;32m-> 4853\u001b[1;33m         \u001b[0mself\u001b[0m\u001b[1;33m.\u001b[0m\u001b[0mset_block\u001b[0m\u001b[1;33m(\u001b[0m\u001b[0mi\u001b[0m\u001b[1;33m,\u001b[0m \u001b[0mj\u001b[0m\u001b[1;33m,\u001b[0m \u001b[0mm\u001b[0m\u001b[1;33m)\u001b[0m\u001b[1;33m\u001b[0m\u001b[0m\n\u001b[0m\u001b[0;32m   4854\u001b[0m \u001b[1;33m\u001b[0m\u001b[0m\n\u001b[0;32m   4855\u001b[0m \u001b[1;33m\u001b[0m\u001b[0m\n",
        "\u001b[1;31mTypeError\u001b[0m: in method 'BlockMatrix_set_block', argument 4 of type 'boost::shared_ptr< dolfin::GenericMatrix >'"
       ]
      }
     ],
     "prompt_number": 113
    },
    {
     "cell_type": "code",
     "collapsed": false,
     "input": [
      "Pdiag = P11.getDiagonal()\n"
     ],
     "language": "python",
     "metadata": {},
     "outputs": [],
     "prompt_number": 169
    },
    {
     "cell_type": "code",
     "collapsed": false,
     "input": [
      "invDiag = 1/Pdiag"
     ],
     "language": "python",
     "metadata": {},
     "outputs": [],
     "prompt_number": 172
    },
    {
     "cell_type": "code",
     "collapsed": false,
     "input": [
      "p =P11.diagonalScale(invDiag)"
     ],
     "language": "python",
     "metadata": {},
     "outputs": [],
     "prompt_number": 178
    },
    {
     "cell_type": "code",
     "collapsed": false,
     "input": [
      "P11.view()"
     ],
     "language": "python",
     "metadata": {},
     "outputs": [],
     "prompt_number": 179
    }
   ],
   "metadata": {}
  }
 ]
}
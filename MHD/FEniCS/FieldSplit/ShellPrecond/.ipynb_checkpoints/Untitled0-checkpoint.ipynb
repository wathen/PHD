{
 "metadata": {
  "name": ""
 },
 "nbformat": 3,
 "nbformat_minor": 0,
 "worksheets": [
  {
   "cells": [
    {
     "cell_type": "code",
     "collapsed": false,
     "input": [
      "\n",
      "#!/usr/bin/python\n",
      "import petsc4py\n",
      "import sys\n",
      "\n",
      "petsc4py.init(sys.argv)\n",
      "\n",
      "from petsc4py import PETSc\n",
      "Print = PETSc.Sys.Print\n",
      "# from MatrixOperations import *\n",
      "from dolfin import *\n",
      "import numpy as np\n",
      "import matplotlib.pylab as plt\n",
      "import os\n",
      "import scipy.io\n",
      "from PyTrilinos import Epetra, EpetraExt, AztecOO, ML, Amesos\n",
      "from scipy2Trilinos import scipy_csr_matrix2CrsMatrix\n",
      "import PETScIO as IO\n",
      "\n",
      "m = 6\n",
      "errL2u = np.zeros((m-1,1))\n",
      "errL2p = np.zeros((m-1,1))\n",
      "l2uorder = np.zeros((m-1,1))\n",
      "l2porder = np.zeros((m-1,1))\n",
      "NN = np.zeros((m-1,1))\n",
      "DoF = np.zeros((m-1,1))\n",
      "Vdim = np.zeros((m-1,1))\n",
      "Qdim = np.zeros((m-1,1))\n",
      "Wdim = np.zeros((m-1,1))\n",
      "iterations = np.zeros((m-1,1))\n",
      "SolTime = np.zeros((m-1,1))\n",
      "udiv = np.zeros((m-1,1))\n",
      "nn = 2\n",
      "\n",
      "dim = 2\n",
      "Solving = 'Iterative'\n",
      "ShowResultPlots = 'no'\n",
      "ShowErrorPlots = 'no'\n",
      "EigenProblem = 'no'\n",
      "SavePrecond = 'no'\n",
      "case = 3\n",
      "parameters['linear_algebra_backend'] = 'PETSc'\n",
      "\n",
      "xx = 4\n",
      "\n",
      "nn = 2**(xx)\n",
      "# Create mesh and define function space\n",
      "nn = int(nn)\n",
      "NN[xx-1] = nn\n",
      "\n",
      "mesh = RectangleMesh(0, 0, 1, 1, nn, nn,'right')\n",
      "\n",
      "parameters['reorder_dofs_serial'] = False\n",
      "V = VectorFunctionSpace(mesh, \"CG\", 2)\n",
      "Q = FunctionSpace(mesh, \"CG\", 1)\n",
      "parameters['reorder_dofs_serial'] = False\n",
      "W = V*Q\n",
      "Vdim[xx-1] = V.dim()\n",
      "Qdim[xx-1] = Q.dim()\n",
      "Wdim[xx-1] = W.dim()\n",
      "print \"\\n\\nV:  \",Vdim[xx-1],\"Q:  \",Qdim[xx-1],\"W:  \",Wdim[xx-1],\"\\n\\n\"\n",
      "def boundary(x, on_boundary):\n",
      "    return on_boundary\n",
      "\n",
      "\n",
      "if case == 1:\n",
      "    u0 = Expression((\"20*x[0]*pow(x[1],3)\",\"5*pow(x[0],4)-5*pow(x[1],4)\"))\n",
      "    p0 = Expression(\"60*pow(x[0],2)*x[1]-20*pow(x[1],3)\")\n",
      "elif case == 2:\n",
      "    u0 = Expression((\"sin(pi*x[1])\",\"sin(pi*x[0])\"))\n",
      "    p0 = Expression(\"sin(x[1]*x[0])\")\n",
      "elif case == 3:\n",
      "    u0 =Expression((\"sin(x[1])*exp(x[0])\",\"cos(x[1])*exp(x[0])\"))\n",
      "    p0 = Expression(\"sin(x[0])*cos(x[1])\")\n",
      "elif case == 4:\n",
      "    u0 = Expression((\"sin(x[1])*exp(x[0])\",\"cos(x[1])*exp(x[0])\"))\n",
      "    p0 = Expression(\"sin(x[0])*cos(x[1])\")\n",
      "\n",
      "\n",
      "\n",
      "\n",
      "bc = DirichletBC(W.sub(0),u0, boundary)\n",
      "bcs = [bc]\n",
      "\n",
      "(u, p) = TrialFunctions(W)\n",
      "(v, q) = TestFunctions(W)\n",
      "if case == 1:\n",
      "    f = Expression((\"120*x[0]*x[1]*(1-mu)\",\"60*(pow(x[0],2)-pow(x[1],2))*(1-mu)\"), mu = 1e0)\n",
      "elif case == 2:\n",
      "    f = Expression((\"pi*pi*sin(pi*x[1])+x[1]*cos(x[1]*x[0])\",\"pi*pi*sin(pi*x[0])+x[0]*cos(x[1]*x[0])\"))\n",
      "elif case == 3:\n",
      "    f = Expression((\"cos(x[0])*cos(x[1])\",\"-sin(x[0])*sin(x[1])\"))\n",
      "elif case == 4:\n",
      "    f = Expression((\"cos(x[1])*cos(x[0])\",\"-sin(x[1])*sin(x[0])\"))\n",
      "\n",
      "\n",
      "\n",
      "\n",
      "N = FacetNormal(mesh)\n",
      "h = CellSize(mesh)\n",
      "h_avg =avg(h)\n",
      "alpha = 10.0\n",
      "gamma =10.0\n",
      "n = FacetNormal(mesh)\n",
      "h = CellSize(mesh)\n",
      "h_avg =avg(h)\n",
      "d = 0\n",
      "a11 = inner(grad(v), grad(u))*dx\n",
      "a12 = div(v)*p*dx\n",
      "a21 = div(u)*q*dx\n",
      "L1  =  inner(v,f)*dx\n",
      "a = a11-a12-a21\n",
      "i = p*q*dx\n",
      "\n",
      "tic()\n",
      "AA, bb = assemble_system(a, L1, bcs)\n",
      "\n",
      "A = as_backend_type(AA).mat()\n",
      "print toc()\n",
      "b = bb.array()\n",
      "zeros = 0*b\n",
      "del bb\n",
      "bb = IO.arrayToVec(b)\n",
      "x = IO.arrayToVec(zeros)\n",
      "\n",
      "PP, Pb = assemble_system(a11+i,L1,bcs)\n",
      "P = as_backend_type(PP).mat()"
     ],
     "language": "python",
     "metadata": {},
     "outputs": [
      {
       "output_type": "stream",
       "stream": "stderr",
       "text": [
        "DEBUG:UFL:No integrals left after transformation, returning empty form.\n"
       ]
      },
      {
       "output_type": "stream",
       "stream": "stderr",
       "text": [
        "DEBUG:FFC:Reusing form from cache.\n"
       ]
      },
      {
       "output_type": "stream",
       "stream": "stderr",
       "text": [
        "DEBUG:UFL:No integrals left after transformation, returning empty form.\n"
       ]
      },
      {
       "output_type": "stream",
       "stream": "stderr",
       "text": [
        "DEBUG:FFC:Reusing form from cache.\n"
       ]
      },
      {
       "output_type": "stream",
       "stream": "stderr",
       "text": [
        "DEBUG:UFL:No integrals left after transformation, returning empty form.\n"
       ]
      },
      {
       "output_type": "stream",
       "stream": "stderr",
       "text": [
        "DEBUG:FFC:Reusing form from cache.\n"
       ]
      },
      {
       "output_type": "stream",
       "stream": "stderr",
       "text": [
        "DEBUG:UFL:No integrals left after transformation, returning empty form.\n"
       ]
      },
      {
       "output_type": "stream",
       "stream": "stderr",
       "text": [
        "DEBUG:UFL:No integrals left after transformation, returning empty form.\n"
       ]
      },
      {
       "output_type": "stream",
       "stream": "stderr",
       "text": [
        "DEBUG:FFC:Reusing form from cache.\n"
       ]
      },
      {
       "output_type": "stream",
       "stream": "stderr",
       "text": [
        "INFO:FFC:Adjusting missing element domain to Domain(Cell('triangle', 2), 'triangle_multiverse', 2, 2).\n"
       ]
      },
      {
       "output_type": "stream",
       "stream": "stderr",
       "text": [
        "INFO:FFC:Adjusting element degree from ? to 2\n"
       ]
      },
      {
       "output_type": "stream",
       "stream": "stderr",
       "text": [
        "INFO:FFC:Adjusting missing element domain to Domain(Cell('triangle', 2), 'triangle_multiverse', 2, 2).\n"
       ]
      },
      {
       "output_type": "stream",
       "stream": "stderr",
       "text": [
        "INFO:FFC:Adjusting element degree from ? to 2\n"
       ]
      },
      {
       "output_type": "stream",
       "stream": "stderr",
       "text": [
        "INFO:FFC:Adjusting missing element domain to Domain(Cell('triangle', 2), 'triangle_multiverse', 2, 2).\n"
       ]
      },
      {
       "output_type": "stream",
       "stream": "stderr",
       "text": [
        "INFO:FFC:Adjusting element degree from ? to 2\n"
       ]
      },
      {
       "output_type": "stream",
       "stream": "stderr",
       "text": [
        "DEBUG:UFL:No integrals left after transformation, returning empty form.\n"
       ]
      },
      {
       "output_type": "stream",
       "stream": "stderr",
       "text": [
        "DEBUG:FFC:Reusing form from cache.\n"
       ]
      },
      {
       "output_type": "stream",
       "stream": "stdout",
       "text": [
        "\n",
        "\n",
        "V:   [ 2178.] Q:   [ 289.] W:   [ 2467.] \n",
        "\n",
        "\n",
        "0.0305480957031"
       ]
      },
      {
       "output_type": "stream",
       "stream": "stderr",
       "text": [
        "DEBUG:UFL:No integrals left after transformation, returning empty form.\n"
       ]
      },
      {
       "output_type": "stream",
       "stream": "stderr",
       "text": [
        "DEBUG:UFL:No integrals left after transformation, returning empty form.\n"
       ]
      },
      {
       "output_type": "stream",
       "stream": "stderr",
       "text": [
        "DEBUG:FFC:Reusing form from cache.\n"
       ]
      },
      {
       "output_type": "stream",
       "stream": "stderr",
       "text": [
        "INFO:FFC:Adjusting missing element domain to Domain(Cell('triangle', 2), 'triangle_multiverse', 2, 2).\n"
       ]
      },
      {
       "output_type": "stream",
       "stream": "stderr",
       "text": [
        "INFO:FFC:Adjusting element degree from ? to 2\n"
       ]
      },
      {
       "output_type": "stream",
       "stream": "stderr",
       "text": [
        "INFO:FFC:Adjusting missing element domain to Domain(Cell('triangle', 2), 'triangle_multiverse', 2, 2).\n"
       ]
      },
      {
       "output_type": "stream",
       "stream": "stderr",
       "text": [
        "INFO:FFC:Adjusting element degree from ? to 2\n"
       ]
      },
      {
       "output_type": "stream",
       "stream": "stderr",
       "text": [
        "INFO:FFC:Adjusting missing element domain to Domain(Cell('triangle', 2), 'triangle_multiverse', 2, 2).\n"
       ]
      },
      {
       "output_type": "stream",
       "stream": "stderr",
       "text": [
        "INFO:FFC:Adjusting element degree from ? to 2\n"
       ]
      },
      {
       "output_type": "stream",
       "stream": "stderr",
       "text": [
        "DEBUG:FFC:Reusing form from cache.\n"
       ]
      },
      {
       "output_type": "stream",
       "stream": "stdout",
       "text": [
        "\n"
       ]
      }
     ],
     "prompt_number": 1
    },
    {
     "cell_type": "code",
     "collapsed": false,
     "input": [
      "(p) = TrialFunction(Q)\n",
      "(q) = TestFunction(Q)\n",
      "\n",
      "(u) = TrialFunction(V)\n",
      "(v) = TestFunction(V)\n",
      "p11 = inner(grad(v), grad(u))*dx\n",
      "p22 = p*q*dx\n"
     ],
     "language": "python",
     "metadata": {},
     "outputs": [],
     "prompt_number": 14
    },
    {
     "cell_type": "code",
     "collapsed": false,
     "input": [
      "P11 = assemble(p11)\n",
      "bc.apply(P11)\n",
      "P22 = assemble(p22)\n",
      "A = as_backend_type(P11).mat()\n",
      "n = A.size[1]\n",
      "n"
     ],
     "language": "python",
     "metadata": {},
     "outputs": [
      {
       "output_type": "stream",
       "stream": "stderr",
       "text": [
        "DEBUG:FFC:Reusing form from cache.\n"
       ]
      },
      {
       "output_type": "stream",
       "stream": "stderr",
       "text": [
        "DEBUG:FFC:Reusing form from cache.\n"
       ]
      },
      {
       "metadata": {},
       "output_type": "pyout",
       "prompt_number": 36,
       "text": [
        "2178"
       ]
      }
     ],
     "prompt_number": 36
    },
    {
     "cell_type": "code",
     "collapsed": false,
     "input": [
      "class apply:\n",
      "    def __init__(self,P):\n",
      "#         self.A = A\n",
      "#         self.B = B\n",
      "        self.P = P\n",
      "\n",
      "        \n",
      "        \n",
      "    def mult(self,x,y):\n",
      "        \"y <- M * x\"\n",
      "#         A = as_backend_type(self.A).mat()\n",
      "#         B = as_backend_type(self.B).mat()\n",
      "        P = as_backend_type(self.P).mat()\n",
      "        ksp = PETSc.KSP().Create()\n",
      "        pc = ksp.getPC()\n",
      "#         n = A.size[0]\n",
      "#         X = x.array()[:n] \n",
      "        ksp.setType('preonly')\n",
      "        pc.setType('lu')\n",
      "        ksp.setFromOptions()\n",
      "        ksp.setOperators(P)\n",
      "        ksp.solve(y, x)\n",
      "        "
     ],
     "language": "python",
     "metadata": {},
     "outputs": [],
     "prompt_number": 16
    },
    {
     "cell_type": "code",
     "collapsed": false,
     "input": [
      "del P\n",
      "P = PETSc.Mat().create()\n",
      "P.setSizes([W.dim(), W.dim()])\n",
      "P.setType('python')\n",
      "shell = apply(PP)\n",
      "P.setPythonContext(shell)\n",
      "P.setUp()\n",
      "apply.apply?"
     ],
     "language": "python",
     "metadata": {},
     "outputs": [
      {
       "output_type": "stream",
       "stream": "stdout",
       "text": [
        "1\n"
       ]
      }
     ],
     "prompt_number": 23
    },
    {
     "cell_type": "code",
     "collapsed": false,
     "input": [
      "ksp = PETSc.KSP().create()\n",
      "ksp.setOperators(A,P)\n",
      "ksp.setTolerances(1e-10)\n",
      "ksp.setType('minres')\n",
      "pc = ksp.getPC()\n",
      "pc.setType('shell')\n",
      "ksp.view()\n",
      "ksp.solve(bb, x)"
     ],
     "language": "python",
     "metadata": {},
     "outputs": [
      {
       "ename": "Error",
       "evalue": "error code 83\n[0] KSPSolve() line 441 in /home/mwathen/programs4/petsc/petsc-3.4.3/src/ksp/ksp/interface/itfunc.c\n[0] KSPSolve_MINRES() line 69 in /home/mwathen/programs4/petsc/petsc-3.4.3/src/ksp/ksp/impls/minres/minres.c\n[0] KSP_PCApply() line 227 in /home/mwathen/programs4/petsc/petsc-3.4.3/include/petsc-private/kspimpl.h\n[0] PCApply() line 442 in /home/mwathen/programs4/petsc/petsc-3.4.3/src/ksp/pc/interface/precon.c\n[0] PCApply_Shell() line 115 in /home/mwathen/programs4/petsc/petsc-3.4.3/src/ksp/pc/impls/shell/shellpc.c\n[0]   \n[0] No apply() routine provided to Shell PC",
       "output_type": "pyerr",
       "traceback": [
        "\u001b[1;31m---------------------------------------------------------------------------\u001b[0m\n\u001b[1;31mError\u001b[0m                                     Traceback (most recent call last)",
        "\u001b[1;32m<ipython-input-18-0a52d31986b5>\u001b[0m in \u001b[0;36m<module>\u001b[1;34m()\u001b[0m\n\u001b[0;32m      6\u001b[0m \u001b[0mpc\u001b[0m\u001b[1;33m.\u001b[0m\u001b[0msetType\u001b[0m\u001b[1;33m(\u001b[0m\u001b[1;34m'shell'\u001b[0m\u001b[1;33m)\u001b[0m\u001b[1;33m\u001b[0m\u001b[0m\n\u001b[0;32m      7\u001b[0m \u001b[0mksp\u001b[0m\u001b[1;33m.\u001b[0m\u001b[0mview\u001b[0m\u001b[1;33m(\u001b[0m\u001b[1;33m)\u001b[0m\u001b[1;33m\u001b[0m\u001b[0m\n\u001b[1;32m----> 8\u001b[1;33m \u001b[0mksp\u001b[0m\u001b[1;33m.\u001b[0m\u001b[0msolve\u001b[0m\u001b[1;33m(\u001b[0m\u001b[0mbb\u001b[0m\u001b[1;33m,\u001b[0m \u001b[0mx\u001b[0m\u001b[1;33m)\u001b[0m\u001b[1;33m\u001b[0m\u001b[0m\n\u001b[0m",
        "\u001b[1;32m/home/mwathen/programs4/petsc/petsc4py/lib/python2.7/site-packages/petsc4py/lib/arch-linux2-c-opt/PETSc.so\u001b[0m in \u001b[0;36mpetsc4py.PETSc.KSP.solve (src/petsc4py.PETSc.c:115228)\u001b[1;34m()\u001b[0m\n",
        "\u001b[1;31mError\u001b[0m: error code 83\n[0] KSPSolve() line 441 in /home/mwathen/programs4/petsc/petsc-3.4.3/src/ksp/ksp/interface/itfunc.c\n[0] KSPSolve_MINRES() line 69 in /home/mwathen/programs4/petsc/petsc-3.4.3/src/ksp/ksp/impls/minres/minres.c\n[0] KSP_PCApply() line 227 in /home/mwathen/programs4/petsc/petsc-3.4.3/include/petsc-private/kspimpl.h\n[0] PCApply() line 442 in /home/mwathen/programs4/petsc/petsc-3.4.3/src/ksp/pc/interface/precon.c\n[0] PCApply_Shell() line 115 in /home/mwathen/programs4/petsc/petsc-3.4.3/src/ksp/pc/impls/shell/shellpc.c\n[0]   \n[0] No apply() routine provided to Shell PC"
       ]
      }
     ],
     "prompt_number": 18
    },
    {
     "cell_type": "code",
     "collapsed": false,
     "input": [
      "P.set"
     ],
     "language": "python",
     "metadata": {},
     "outputs": []
    }
   ],
   "metadata": {}
  }
 ]
}
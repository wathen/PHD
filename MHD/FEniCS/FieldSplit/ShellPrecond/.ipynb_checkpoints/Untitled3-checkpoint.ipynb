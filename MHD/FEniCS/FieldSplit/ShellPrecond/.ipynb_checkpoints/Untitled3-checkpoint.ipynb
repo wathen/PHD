{
 "metadata": {
  "name": ""
 },
 "nbformat": 3,
 "nbformat_minor": 0,
 "worksheets": [
  {
   "cells": [
    {
     "cell_type": "code",
     "collapsed": false,
     "input": [
      "\n",
      "#!/usr/bin/python\n",
      "import petsc4py\n",
      "import sys\n",
      "\n",
      "petsc4py.init(sys.argv)\n",
      "\n",
      "from petsc4py import PETSc\n",
      "Print = PETSc.Sys.Print\n",
      "# from MatrixOperations import *\n",
      "from dolfin import *\n",
      "import numpy as np\n",
      "import matplotlib.pylab as plt\n",
      "import os\n",
      "import scipy.io\n",
      "from PyTrilinos import Epetra, EpetraExt, AztecOO, ML, Amesos\n",
      "from scipy2Trilinos import scipy_csr_matrix2CrsMatrix\n",
      "import PETScIO as IO\n",
      "\n",
      "m = 2\n",
      "errL2u = np.zeros((m-1,1))\n",
      "errL2p = np.zeros((m-1,1))\n",
      "l2uorder = np.zeros((m-1,1))\n",
      "l2porder = np.zeros((m-1,1))\n",
      "NN = np.zeros((m-1,1))\n",
      "DoF = np.zeros((m-1,1))\n",
      "Vdim = np.zeros((m-1,1))\n",
      "Qdim = np.zeros((m-1,1))\n",
      "Wdim = np.zeros((m-1,1))\n",
      "iterations = np.zeros((m-1,1))\n",
      "SolTime = np.zeros((m-1,1))\n",
      "udiv = np.zeros((m-1,1))\n",
      "nn = 2\n",
      "\n",
      "dim = 2\n",
      "Solving = 'Iterative'\n",
      "ShowResultPlots = 'no'\n",
      "ShowErrorPlots = 'no'\n",
      "EigenProblem = 'no'\n",
      "SavePrecond = 'no'\n",
      "case = 3\n",
      "parameters['linear_algebra_backend'] = 'PETSc'\n",
      "\n",
      "xx = 2\n",
      "for xx in xrange(1,m):\n",
      "\n",
      "    nn = 2**(xx)\n",
      "    # Create mesh and define function space\n",
      "    nn = int(nn)\n",
      "    NN[xx-1] = nn\n",
      "\n",
      "    mesh = RectangleMesh(0, 0, 1, 1, nn, nn,'right')\n",
      "\n",
      "    parameters['reorder_dofs_serial'] = False\n",
      "    V = VectorFunctionSpace(mesh, \"CG\", 2)\n",
      "    Q = FunctionSpace(mesh, \"CG\", 1)\n",
      "    parameters['reorder_dofs_serial'] = False\n",
      "    W = V*Q\n",
      "    Vdim[xx-1] = V.dim()\n",
      "    Qdim[xx-1] = Q.dim()\n",
      "    Wdim[xx-1] = W.dim()\n",
      "    print \"\\n\\nV:  \",Vdim[xx-1],\"Q:  \",Qdim[xx-1],\"W:  \",Wdim[xx-1],\"\\n\\n\"\n",
      "    def boundary(x, on_boundary):\n",
      "        return on_boundary\n",
      "\n",
      "\n",
      "    if case == 1:\n",
      "        u0 = Expression((\"20*x[0]*pow(x[1],3)\",\"5*pow(x[0],4)-5*pow(x[1],4)\"))\n",
      "        p0 = Expression(\"60*pow(x[0],2)*x[1]-20*pow(x[1],3)\")\n",
      "    elif case == 2:\n",
      "        u0 = Expression((\"sin(pi*x[1])\",\"sin(pi*x[0])\"))\n",
      "        p0 = Expression(\"sin(x[1]*x[0])\")\n",
      "    elif case == 3:\n",
      "        u0 =Expression((\"sin(x[1])*exp(x[0])\",\"cos(x[1])*exp(x[0])\"))\n",
      "        p0 = Expression(\"sin(x[0])*cos(x[1])\")\n",
      "    elif case == 4:\n",
      "        u0 = Expression((\"sin(x[1])*exp(x[0])\",\"cos(x[1])*exp(x[0])\"))\n",
      "        p0 = Expression(\"sin(x[0])*cos(x[1])\")\n",
      "\n",
      "\n",
      "\n",
      "\n",
      "    bc = DirichletBC(W.sub(0),u0, boundary)\n",
      "    bcs = [bc]\n",
      "\n",
      "    (u, p) = TrialFunctions(W)\n",
      "    (v, q) = TestFunctions(W)\n",
      "    if case == 1:\n",
      "        f = Expression((\"120*x[0]*x[1]*(1-mu)\",\"60*(pow(x[0],2)-pow(x[1],2))*(1-mu)\"), mu = 1e0)\n",
      "    elif case == 2:\n",
      "        f = Expression((\"pi*pi*sin(pi*x[1])+x[1]*cos(x[1]*x[0])\",\"pi*pi*sin(pi*x[0])+x[0]*cos(x[1]*x[0])\"))\n",
      "    elif case == 3:\n",
      "        f = Expression((\"cos(x[0])*cos(x[1])\",\"-sin(x[0])*sin(x[1])\"))\n",
      "    elif case == 4:\n",
      "        f = Expression((\"cos(x[1])*cos(x[0])\",\"-sin(x[1])*sin(x[0])\"))\n",
      "\n",
      "\n",
      "\n",
      "\n",
      "    N = FacetNormal(mesh)\n",
      "    h = CellSize(mesh)\n",
      "    h_avg =avg(h)\n",
      "    alpha = 10.0\n",
      "    gamma =10.0\n",
      "    n = FacetNormal(mesh)\n",
      "    h = CellSize(mesh)\n",
      "    h_avg =avg(h)\n",
      "    d = 0\n",
      "    a11 = inner(grad(v), grad(u))*dx\n",
      "    a12 = div(v)*p*dx\n",
      "    a21 = div(u)*q*dx\n",
      "    L1  =  inner(v,f)*dx\n",
      "    a = a11-a12-a21\n",
      "\n",
      "    # (u) = TrialFunctions(V)\n",
      "    # (v) = TestFunctions(V)\n",
      "\n",
      "    # (p) = TrialFunctions(Q)\n",
      "    # (q) = TestFunctions(Q)\n",
      "    # p11 = inner(grad(v), grad(u))*dx\n",
      "    i = p*q*dx\n",
      "\n",
      "    tic()\n",
      "    AA, bb = assemble_system(a, L1, bcs)\n",
      "\n",
      "    A = as_backend_type(AA).mat()\n",
      "    print toc()\n",
      "    b = bb.array()\n",
      "    zeros = 0*b\n",
      "    del bb\n",
      "    bb = IO.arrayToVec(b)\n",
      "    x = IO.arrayToVec(zeros)\n",
      "\n",
      "    PP, Pb = assemble_system(a11+i,L1,bcs)\n",
      "    P = as_backend_type(PP).mat()\n",
      "\n",
      "\n",
      "    def LOG(arg):\n",
      "        if INFO:\n",
      "            print(arg)\n",
      "    class ApplyPC(object):\n",
      "\n",
      "        def __init__(self, W):\n",
      "            self.W = W\n",
      "\n",
      "\n",
      "        def create(self, pc):\n",
      "            LOG('PCapply.create()')\n",
      "            self.diag = None\n",
      "            ksp = PETSc.KSP()\n",
      "            ksp.create(comm=PETSc.COMM_WORLD)\n",
      "            pc = ksp.getPC()\n",
      "            ksp.setType('preonly')\n",
      "            pc.setType('hypre')\n",
      "            ksp.setFromOptions()\n",
      "            self.ksp = ksp\n",
      "            print ksp.view()\n",
      "            print W.dim()\n",
      "\n",
      "        def setUp(self, pc):\n",
      "            LOG('PCapply.setUp()')\n",
      "            A, B, flag = ksp.getOperators()\n",
      "            self.B = B\n",
      "            self.ksp.setOperators(self.B)\n",
      "\n",
      "        def apply(self, pc, x, y):\n",
      "            LOG('PCapply.apply()')\n",
      "            # self.ksp.setOperators(self.B)\n",
      "            self.ksp.solve(x, y)\n",
      "\n",
      "\n",
      "    class PC(object):\n",
      "\n",
      "        def __init__(self, W):\n",
      "            self.W = W\n",
      "\n",
      "        def create(self, pc):\n",
      "            LOG('PCapply.create()')\n",
      "            self.diag = None\n",
      "            kspCG = PETSc.KSP()\n",
      "            kspCG.create(comm=PETSc.COMM_WORLD)\n",
      "            pc = kspCG.getPC()\n",
      "            kspCG.setType('preonly')\n",
      "            pc.setType('lu')\n",
      "            OptDB = PETSc.Options()\n",
      "            OptDB[\"ksp_max_it\"] = 1\n",
      "            kspCG.setFromOptions()\n",
      "            self.kspCG = kspCG\n",
      "            # print self.kspCG.view()\n",
      "\n",
      "            kspAMG = PETSc.KSP()\n",
      "            kspAMG.create(comm=PETSc.COMM_WORLD)\n",
      "            pc = kspAMG.getPC()\n",
      "            kspAMG.setType('preonly')\n",
      "            pc.setType('lu')\n",
      "            kspAMG.setFromOptions()\n",
      "            self.kspAMG = kspAMG\n",
      "\n",
      "\n",
      "        def setUp(self, pc):\n",
      "            LOG('PCapply.setUp()')\n",
      "            self.u_is = PETSc.IS().createGeneral(range(W.sub(0).dim()))\n",
      "            self.p_is = PETSc.IS().createGeneral(range(W.sub(0).dim(),W.sub(0).dim()+W.sub(1).dim()))\n",
      "\n",
      "            A, P, flag = ksp.getOperators()\n",
      "            self.P11 = P.getSubMatrix(self.u_is,self.u_is)\n",
      "            self.P22 = P.getSubMatrix(self.p_is,self.p_is)\n",
      "\n",
      "            self.kspAMG.setOperators(self.P11)\n",
      "            self.kspCG.setOperators(self.P22)\n",
      "\n",
      "\n",
      "        def apply(self, pc, x, y):\n",
      "            LOG('PCapply.apply()')\n",
      "            # self.kspCG.setOperators(self.B)\n",
      "            x1 = x.getSubVector(self.u_is)\n",
      "            y1 = x1.duplicate()\n",
      "            x2 = x.getSubVector(self.p_is)\n",
      "            y2 = x2.duplicate()\n",
      "\n",
      "            self.kspAMG.solve(x1, y1)\n",
      "            self.kspCG.solve(x2, y2)\n",
      "\n",
      "            y.array = np.concatenate([y1.array, y2.array])\n",
      "\n",
      "\n",
      "    ksp = PETSc.KSP()\n",
      "    ksp.create(comm=PETSc.COMM_WORLD)\n",
      "    ksp.setTolerances(1e-10)\n",
      "    ksp.setType('minres')\n",
      "    pc = ksp.getPC()\n",
      "    pc.setType(PETSc.PC.Type.PYTHON)\n",
      "    pc.setPythonContext(PC(W))\n",
      "    ksp.setOperators(A,P)\n",
      "\n",
      "    # OptDB['pc_python_type'] = '%s.%s' % (module, factory)\n",
      "    print ksp.view()\n",
      "    ksp.setFromOptions()\n",
      "    ksp.solve(bb, x)\n",
      "\n",
      "\n",
      "\n",
      "    print ksp.its\n",
      "    r = bb.duplicate()\n",
      "    A.mult(x, r)\n",
      "    r.aypx(-1, bb)\n",
      "    rnorm = r.norm()\n",
      "    PETSc.Sys.Print('error norm = %g' % rnorm,comm=PETSc.COMM_WORLD)"
     ],
     "language": "python",
     "metadata": {},
     "outputs": [
      {
       "output_type": "stream",
       "stream": "stderr",
       "text": [
        "DEBUG:UFL:No integrals left after transformation, returning empty form.\n"
       ]
      },
      {
       "output_type": "stream",
       "stream": "stderr",
       "text": [
        "DEBUG:FFC:Reusing form from cache.\n"
       ]
      },
      {
       "output_type": "stream",
       "stream": "stderr",
       "text": [
        "DEBUG:UFL:No integrals left after transformation, returning empty form.\n"
       ]
      },
      {
       "output_type": "stream",
       "stream": "stderr",
       "text": [
        "DEBUG:FFC:Reusing form from cache.\n"
       ]
      },
      {
       "output_type": "stream",
       "stream": "stderr",
       "text": [
        "DEBUG:UFL:No integrals left after transformation, returning empty form.\n"
       ]
      },
      {
       "output_type": "stream",
       "stream": "stderr",
       "text": [
        "DEBUG:FFC:Reusing form from cache.\n"
       ]
      },
      {
       "output_type": "stream",
       "stream": "stderr",
       "text": [
        "DEBUG:UFL:No integrals left after transformation, returning empty form.\n"
       ]
      },
      {
       "output_type": "stream",
       "stream": "stderr",
       "text": [
        "DEBUG:UFL:No integrals left after transformation, returning empty form.\n"
       ]
      },
      {
       "output_type": "stream",
       "stream": "stderr",
       "text": [
        "DEBUG:FFC:Reusing form from cache.\n"
       ]
      },
      {
       "output_type": "stream",
       "stream": "stderr",
       "text": [
        "INFO:FFC:Adjusting missing element domain to Domain(Cell('triangle', 2), 'triangle_multiverse', 2, 2).\n"
       ]
      },
      {
       "output_type": "stream",
       "stream": "stderr",
       "text": [
        "INFO:FFC:Adjusting element degree from ? to 2\n"
       ]
      },
      {
       "output_type": "stream",
       "stream": "stderr",
       "text": [
        "INFO:FFC:Adjusting missing element domain to Domain(Cell('triangle', 2), 'triangle_multiverse', 2, 2).\n"
       ]
      },
      {
       "output_type": "stream",
       "stream": "stderr",
       "text": [
        "INFO:FFC:Adjusting element degree from ? to 2\n"
       ]
      },
      {
       "output_type": "stream",
       "stream": "stderr",
       "text": [
        "INFO:FFC:Adjusting missing element domain to Domain(Cell('triangle', 2), 'triangle_multiverse', 2, 2).\n"
       ]
      },
      {
       "output_type": "stream",
       "stream": "stderr",
       "text": [
        "INFO:FFC:Adjusting element degree from ? to 2\n"
       ]
      },
      {
       "output_type": "stream",
       "stream": "stderr",
       "text": [
        "DEBUG:UFL:No integrals left after transformation, returning empty form.\n"
       ]
      },
      {
       "output_type": "stream",
       "stream": "stderr",
       "text": [
        "DEBUG:FFC:Reusing form from cache.\n"
       ]
      },
      {
       "output_type": "stream",
       "stream": "stderr",
       "text": [
        "DEBUG:UFL:No integrals left after transformation, returning empty form.\n"
       ]
      },
      {
       "output_type": "stream",
       "stream": "stderr",
       "text": [
        "DEBUG:UFL:No integrals left after transformation, returning empty form.\n"
       ]
      },
      {
       "output_type": "stream",
       "stream": "stderr",
       "text": [
        "DEBUG:FFC:Reusing form from cache.\n"
       ]
      },
      {
       "output_type": "stream",
       "stream": "stderr",
       "text": [
        "INFO:FFC:Adjusting missing element domain to Domain(Cell('triangle', 2), 'triangle_multiverse', 2, 2).\n"
       ]
      },
      {
       "output_type": "stream",
       "stream": "stderr",
       "text": [
        "INFO:FFC:Adjusting element degree from ? to 2\n"
       ]
      },
      {
       "output_type": "stream",
       "stream": "stderr",
       "text": [
        "INFO:FFC:Adjusting missing element domain to Domain(Cell('triangle', 2), 'triangle_multiverse', 2, 2).\n"
       ]
      },
      {
       "output_type": "stream",
       "stream": "stderr",
       "text": [
        "INFO:FFC:Adjusting element degree from ? to 2\n"
       ]
      },
      {
       "output_type": "stream",
       "stream": "stderr",
       "text": [
        "INFO:FFC:Adjusting missing element domain to Domain(Cell('triangle', 2), 'triangle_multiverse', 2, 2).\n"
       ]
      },
      {
       "output_type": "stream",
       "stream": "stderr",
       "text": [
        "INFO:FFC:Adjusting element degree from ? to 2\n"
       ]
      },
      {
       "output_type": "stream",
       "stream": "stderr",
       "text": [
        "DEBUG:FFC:Reusing form from cache.\n"
       ]
      },
      {
       "output_type": "stream",
       "stream": "stdout",
       "text": [
        "\n",
        "\n",
        "V:   [ 50.] Q:   [ 9.] W:   [ 59.] \n",
        "\n",
        "\n",
        "0.0221991539001\n",
        "PCapply.create()"
       ]
      },
      {
       "output_type": "stream",
       "stream": "stdout",
       "text": [
        "\n",
        "None\n",
        "PCapply.setUp()\n",
        "PCapply.apply()\n",
        "PCapply.apply()\n",
        "1\n"
       ]
      }
     ],
     "prompt_number": 1
    },
    {
     "cell_type": "code",
     "collapsed": false,
     "input": [
      "\n",
      "\n",
      "PP = PETSc.Vec().create()\n",
      "\n",
      "PETSc.Mat.diagonalScale?"
     ],
     "language": "python",
     "metadata": {},
     "outputs": [],
     "prompt_number": 15
    },
    {
     "cell_type": "code",
     "collapsed": false,
     "input": [
      "PP.pointwiseDivide?"
     ],
     "language": "python",
     "metadata": {},
     "outputs": [],
     "prompt_number": 23
    },
    {
     "cell_type": "code",
     "collapsed": false,
     "input": [
      "PP = P\n",
      "print PP.view()"
     ],
     "language": "python",
     "metadata": {},
     "outputs": [
      {
       "output_type": "stream",
       "stream": "stdout",
       "text": [
        "None\n"
       ]
      }
     ],
     "prompt_number": 27
    },
    {
     "cell_type": "code",
     "collapsed": false,
     "input": [
      "PPP =P.duplicate()"
     ],
     "language": "python",
     "metadata": {},
     "outputs": [],
     "prompt_number": 30
    },
    {
     "cell_type": "code",
     "collapsed": false,
     "input": [
      "PPP.view()\n",
      "P.matMult?\n"
     ],
     "language": "python",
     "metadata": {},
     "outputs": [],
     "prompt_number": 37
    },
    {
     "cell_type": "code",
     "collapsed": false,
     "input": [
      "u.geometric_dimension()\n",
      "\n"
     ],
     "language": "python",
     "metadata": {},
     "outputs": [
      {
       "metadata": {},
       "output_type": "pyout",
       "prompt_number": 45,
       "text": [
        "2"
       ]
      }
     ],
     "prompt_number": 45
    },
    {
     "cell_type": "code",
     "collapsed": false,
     "input": [
      "ksp."
     ],
     "language": "python",
     "metadata": {},
     "outputs": [
      {
       "ename": "TypeError",
       "evalue": "Argument 'x' has incorrect type (expected petsc4py.PETSc.Vec, got int)",
       "output_type": "pyerr",
       "traceback": [
        "\u001b[1;31m---------------------------------------------------------------------------\u001b[0m\n\u001b[1;31mTypeError\u001b[0m                                 Traceback (most recent call last)",
        "\u001b[1;32m<ipython-input-43-9ff8c15ebc7f>\u001b[0m in \u001b[0;36m<module>\u001b[1;34m()\u001b[0m\n\u001b[1;32m----> 1\u001b[1;33m \u001b[0mksp\u001b[0m\u001b[1;33m.\u001b[0m\u001b[0mmat_pc\u001b[0m\u001b[1;33m(\u001b[0m\u001b[1;36m1\u001b[0m\u001b[1;33m)\u001b[0m\u001b[1;33m\u001b[0m\u001b[0m\n\u001b[0m",
        "\u001b[1;32m/home/mwathen/programs4/petsc/petsc4py/lib/python2.7/site-packages/petsc4py/lib/arch-linux2-c-opt/PETSc.so\u001b[0m in \u001b[0;36mpetsc4py.PETSc.Mat.__call__ (src/petsc4py.PETSc.c:82552)\u001b[1;34m()\u001b[0m\n",
        "\u001b[1;31mTypeError\u001b[0m: Argument 'x' has incorrect type (expected petsc4py.PETSc.Vec, got int)"
       ]
      }
     ],
     "prompt_number": 43
    },
    {
     "cell_type": "code",
     "collapsed": false,
     "input": [
      "from dolfin import as_backend_type"
     ],
     "language": "python",
     "metadata": {},
     "outputs": []
    },
    {
     "cell_type": "code",
     "collapsed": false,
     "input": [
      "(p) = TrialFunction(Q)\n",
      "(q) = TestFunction(Q)\n",
      "u_k = Function(V)"
     ],
     "language": "python",
     "metadata": {},
     "outputs": [],
     "prompt_number": 54
    },
    {
     "cell_type": "code",
     "collapsed": false,
     "input": [
      "inner(grad(p), grad(q)).geometric_dimension()"
     ],
     "language": "python",
     "metadata": {},
     "outputs": [
      {
       "metadata": {},
       "output_type": "pyout",
       "prompt_number": 50,
       "text": [
        "2"
       ]
      }
     ],
     "prompt_number": 50
    },
    {
     "cell_type": "code",
     "collapsed": false,
     "input": [
      "assemble((grad(p)*u_k*q*dx))"
     ],
     "language": "python",
     "metadata": {},
     "outputs": [
      {
       "ename": "NameError",
       "evalue": "name 'u_k' is not defined",
       "output_type": "pyerr",
       "traceback": [
        "\u001b[1;31m---------------------------------------------------------------------------\u001b[0m\n\u001b[1;31mNameError\u001b[0m                                 Traceback (most recent call last)",
        "\u001b[1;32m<ipython-input-58-ef41cb1c7154>\u001b[0m in \u001b[0;36m<module>\u001b[1;34m()\u001b[0m\n\u001b[1;32m----> 1\u001b[1;33m \u001b[0massemble\u001b[0m\u001b[1;33m(\u001b[0m\u001b[1;33m(\u001b[0m\u001b[0mgrad\u001b[0m\u001b[1;33m(\u001b[0m\u001b[0mp\u001b[0m\u001b[1;33m)\u001b[0m\u001b[1;33m*\u001b[0m\u001b[0mu_k\u001b[0m\u001b[1;33m*\u001b[0m\u001b[0mq\u001b[0m\u001b[1;33m*\u001b[0m\u001b[0mdx\u001b[0m\u001b[1;33m)\u001b[0m\u001b[1;33m)\u001b[0m\u001b[1;33m\u001b[0m\u001b[0m\n\u001b[0m",
        "\u001b[1;31mNameError\u001b[0m: name 'u_k' is not defined"
       ]
      }
     ],
     "prompt_number": 58
    }
   ],
   "metadata": {}
  }
 ]
}
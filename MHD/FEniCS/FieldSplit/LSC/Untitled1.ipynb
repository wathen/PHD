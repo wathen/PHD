{
 "metadata": {
  "name": "",
  "signature": "sha256:efbce194ced9c62a27ea1728cf87863ee32b9e989a4a96087520d4061560d524"
 },
 "nbformat": 3,
 "nbformat_minor": 0,
 "worksheets": [
  {
   "cells": [
    {
     "cell_type": "code",
     "collapsed": false,
     "input": [
      "from scipy.sparse import *\n",
      "from scipy import *\n",
      "row = array([0,0,1,2,2,2])\n",
      "col = array([0,2,2,0,1,2])\n",
      "data = array([1,2,3,4,5,6])\n",
      "A=csr_matrix( (data,(row,col)), shape=(3,3) )"
     ],
     "language": "python",
     "metadata": {},
     "outputs": [],
     "prompt_number": 4
    },
    {
     "cell_type": "code",
     "collapsed": false,
     "input": [
      "print A.todense()\n",
      "lumped = A.sum(1)"
     ],
     "language": "python",
     "metadata": {},
     "outputs": [
      {
       "output_type": "stream",
       "stream": "stdout",
       "text": [
        "[[1 0 2]\n",
        " [0 0 3]\n",
        " [4 5 6]]\n"
       ]
      }
     ],
     "prompt_number": 7
    },
    {
     "cell_type": "code",
     "collapsed": false,
     "input": [
      "lumped.A\n"
     ],
     "language": "python",
     "metadata": {},
     "outputs": [
      {
       "metadata": {},
       "output_type": "pyout",
       "prompt_number": 9,
       "text": [
        "array([[ 3],\n",
        "       [ 3],\n",
        "       [15]])"
       ]
      }
     ],
     "prompt_number": 9
    }
   ],
   "metadata": {}
  }
 ]
}
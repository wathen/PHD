{
 "metadata": {
  "name": "",
  "signature": "sha256:4889d1038dda8674705fd24b60cddd0c682a454e96d37260a4a70f2e7fae4db7"
 },
 "nbformat": 3,
 "nbformat_minor": 0,
 "worksheets": [
  {
   "cells": [
    {
     "cell_type": "code",
     "collapsed": false,
     "input": [
      "from sympy import *\n",
      "from dolfin import Expression\n",
      "x = symbols('x[0]')\n",
      "y = symbols('x[1]')\n",
      "z = symbols('x[2]')\n",
      "uu = sin(x)*exp(x+y+z)\n",
      "uv = sin(y)*exp(x+y+z)\n",
      "uw = sin(z)*exp(x+y+z)\n",
      "# uu = (x**4+y**5+z**6)\n",
      "# uv = (x**4+y**5+z**6)\n",
      "# uw =(x**4+y**5+z**6)\n",
      "# u = diff(uw,y)-diff(uv,z)\n",
      "# v = diff(uu,z)-diff(uw,x)\n",
      "# w = diff(uv,x)-diff(uu,y)\n",
      "# p = sin(y)+exp(x+y+z)\n",
      "u = y**1*z**2\n",
      "v = x**1*z**2\n",
      "w = 0\n",
      "p = x*y\n",
      "print \"u:    \",u\n",
      "print \"\\n\"\n",
      "print \"v:    \",v\n",
      "print \"\\n\"\n",
      "print \"w:    \",w\n",
      "print \"\\n\"\n",
      "print \"p:    \",p\n",
      "print \"\\n\"\n",
      "L1 = diff(u,x,x)+diff(u,y,y) + diff(u,z,z)\n",
      "L2 = diff(v,x,x)+diff(v,y,y) + diff(v,z,z)\n",
      "L3 = diff(w,x,x)+diff(w,y,y) + diff(w,z,z)\n",
      "print \"Laplacian 1:    \",L1\n",
      "print \"\\n\"\n",
      "print \"Laplacian 2:    \",L2\n",
      "print \"\\n\"\n",
      "print \"Laplacian 3:    \",L3\n",
      "print \"\\n\"\n",
      "A1 = u*diff(u,x)+v*diff(u,y)+w*diff(u,z)\n",
      "A2 = u*diff(v,x)+v*diff(v,y)+w*diff(v,z)\n",
      "A3 = u*diff(w,x)+v*diff(w,y)+w*diff(w,z)\n",
      "\n",
      "print \"Advection 1:    \",A1\n",
      "print \"\\n\"\n",
      "print \"Advection 2:    \",A2\n",
      "print \"\\n\"\n",
      "print \"Advection 3:    \",A3\n",
      "print \"\\n\"\n",
      "P1 = diff(p,x)\n",
      "P2 = diff(p,y)\n",
      "P3 = diff(p,z)\n",
      "print \"Pressure 1:    \",P1\n",
      "print \"\\n\"\n",
      "print \"Pressure 2:    \",P2\n",
      "print \"\\n\"\n",
      "print \"Pressure 3:    \",P3\n",
      "\n",
      "\n",
      "\n",
      "\n",
      " # (exp(x + y)*sin(y) + exp(x + y)*cos(y))**2 - 2*exp(2*x + 2*y)*sin(y)*cos(y)\n",
      "\n",
      "\n"
     ],
     "language": "python",
     "metadata": {},
     "outputs": [
      {
       "output_type": "stream",
       "stream": "stdout",
       "text": [
        "u:     x[1]*x[2]**2\n",
        "\n",
        "\n",
        "v:     x[0]*x[2]**2\n",
        "\n",
        "\n",
        "w:     0\n",
        "\n",
        "\n",
        "p:     x[0]*x[1]\n",
        "\n",
        "\n",
        "Laplacian 1:     2*x[1]\n",
        "\n",
        "\n",
        "Laplacian 2:     2*x[0]\n",
        "\n",
        "\n",
        "Laplacian 3:     0\n",
        "\n",
        "\n",
        "Advection 1:     x[0]*x[2]**4\n",
        "\n",
        "\n",
        "Advection 2:     x[1]*x[2]**4\n",
        "\n",
        "\n",
        "Advection 3:     0\n",
        "\n",
        "\n",
        "Pressure 1:     x[1]\n",
        "\n",
        "\n",
        "Pressure 2:     x[0]\n",
        "\n",
        "\n",
        "Pressure 3:     0\n"
       ]
      }
     ],
     "prompt_number": 26
    },
    {
     "cell_type": "code",
     "collapsed": false,
     "input": [
      "x = symbols('x')\n",
      "y = symbols('y')\n",
      "z = symbols('z')"
     ],
     "language": "python",
     "metadata": {},
     "outputs": [],
     "prompt_number": 18
    },
    {
     "cell_type": "code",
     "collapsed": false,
     "input": [
      "u.subs(z,y)"
     ],
     "language": "python",
     "metadata": {},
     "outputs": [
      {
       "metadata": {},
       "output_type": "pyout",
       "prompt_number": 23,
       "text": [
        "x[1]*x[2]**2"
       ]
      }
     ],
     "prompt_number": 23
    },
    {
     "cell_type": "code",
     "collapsed": false,
     "input": [
      "u"
     ],
     "language": "python",
     "metadata": {},
     "outputs": [
      {
       "metadata": {},
       "output_type": "pyout",
       "prompt_number": 14,
       "text": [
        "x[1]*x[2]**2"
       ]
      }
     ],
     "prompt_number": 14
    },
    {
     "cell_type": "code",
     "collapsed": false,
     "input": [
      "u.nsimplify()\n",
      "\n"
     ],
     "language": "python",
     "metadata": {},
     "outputs": [
      {
       "metadata": {},
       "output_type": "pyout",
       "prompt_number": 44,
       "text": [
        "x[1]*x[2]**2"
       ]
      }
     ],
     "prompt_number": 44
    },
    {
     "cell_type": "code",
     "collapsed": false,
     "input": [
      "ccode(u) "
     ],
     "language": "python",
     "metadata": {},
     "outputs": [
      {
       "metadata": {},
       "output_type": "pyout",
       "prompt_number": 46,
       "text": [
        "'x[1]*pow(x[2], 2)'"
       ]
      }
     ],
     "prompt_number": 46
    },
    {
     "cell_type": "code",
     "collapsed": false,
     "input": [
      "from dolfin import Expression"
     ],
     "language": "python",
     "metadata": {},
     "outputs": [],
     "prompt_number": 47
    },
    {
     "cell_type": "code",
     "collapsed": false,
     "input": [
      "print u"
     ],
     "language": "python",
     "metadata": {},
     "outputs": [
      {
       "output_type": "stream",
       "stream": "stdout",
       "text": [
        "x[1]*x[2]**2\n"
       ]
      }
     ],
     "prompt_number": 59
    },
    {
     "cell_type": "code",
     "collapsed": false,
     "input": [
      "x = symbols('x')\n",
      "y = symbols('y')\n",
      "z = symbols('z')"
     ],
     "language": "python",
     "metadata": {},
     "outputs": [],
     "prompt_number": 60
    },
    {
     "cell_type": "code",
     "collapsed": false,
     "input": [
      "u.replace(x[0],x)"
     ],
     "language": "python",
     "metadata": {},
     "outputs": [
      {
       "ename": "TypeError",
       "evalue": "'Symbol' object does not support indexing",
       "output_type": "pyerr",
       "traceback": [
        "\u001b[0;31m---------------------------------------------------------------------------\u001b[0m\n\u001b[0;31mTypeError\u001b[0m                                 Traceback (most recent call last)",
        "\u001b[0;32m<ipython-input-65-b24e2267925f>\u001b[0m in \u001b[0;36m<module>\u001b[0;34m()\u001b[0m\n\u001b[0;32m----> 1\u001b[0;31m \u001b[0mu\u001b[0m\u001b[0;34m.\u001b[0m\u001b[0mreplace\u001b[0m\u001b[0;34m(\u001b[0m\u001b[0mx\u001b[0m\u001b[0;34m[\u001b[0m\u001b[0;36m0\u001b[0m\u001b[0;34m]\u001b[0m\u001b[0;34m,\u001b[0m\u001b[0mx\u001b[0m\u001b[0;34m)\u001b[0m\u001b[0;34m\u001b[0m\u001b[0m\n\u001b[0m",
        "\u001b[0;31mTypeError\u001b[0m: 'Symbol' object does not support indexing"
       ]
      }
     ],
     "prompt_number": 65
    },
    {
     "cell_type": "code",
     "collapsed": false,
     "input": [
      "u.free_symbols"
     ],
     "language": "python",
     "metadata": {},
     "outputs": [
      {
       "metadata": {},
       "output_type": "pyout",
       "prompt_number": 72,
       "text": [
        "{x[1], x[2]}"
       ]
      }
     ],
     "prompt_number": 72
    },
    {
     "cell_type": "code",
     "collapsed": false,
     "input": [],
     "language": "python",
     "metadata": {},
     "outputs": []
    },
    {
     "cell_type": "code",
     "collapsed": false,
     "input": [
      "A = Matrix([u,v])"
     ],
     "language": "python",
     "metadata": {},
     "outputs": [],
     "prompt_number": 55
    },
    {
     "cell_type": "code",
     "collapsed": false,
     "input": [
      "ccode(A)"
     ],
     "language": "python",
     "metadata": {},
     "outputs": [
      {
       "ename": "AttributeError",
       "evalue": "MutableDenseMatrix has no attribute is_Atom.",
       "output_type": "pyerr",
       "traceback": [
        "\u001b[0;31m---------------------------------------------------------------------------\u001b[0m\n\u001b[0;31mAttributeError\u001b[0m                            Traceback (most recent call last)",
        "\u001b[0;32m<ipython-input-56-8404c2fde7d8>\u001b[0m in \u001b[0;36m<module>\u001b[0;34m()\u001b[0m\n\u001b[0;32m----> 1\u001b[0;31m \u001b[0mccode\u001b[0m\u001b[0;34m(\u001b[0m\u001b[0mA\u001b[0m\u001b[0;34m)\u001b[0m\u001b[0;34m\u001b[0m\u001b[0m\n\u001b[0m",
        "\u001b[0;32m/opt/local/Library/Frameworks/Python.framework/Versions/2.7/lib/python2.7/site-packages/sympy/printing/ccode.pyc\u001b[0m in \u001b[0;36mccode\u001b[0;34m(expr, assign_to, **settings)\u001b[0m\n\u001b[1;32m    277\u001b[0m \u001b[0;34m\u001b[0m\u001b[0m\n\u001b[1;32m    278\u001b[0m     \"\"\"\n\u001b[0;32m--> 279\u001b[0;31m     \u001b[0;32mreturn\u001b[0m \u001b[0mCCodePrinter\u001b[0m\u001b[0;34m(\u001b[0m\u001b[0msettings\u001b[0m\u001b[0;34m)\u001b[0m\u001b[0;34m.\u001b[0m\u001b[0mdoprint\u001b[0m\u001b[0;34m(\u001b[0m\u001b[0mexpr\u001b[0m\u001b[0;34m,\u001b[0m \u001b[0massign_to\u001b[0m\u001b[0;34m)\u001b[0m\u001b[0;34m\u001b[0m\u001b[0m\n\u001b[0m\u001b[1;32m    280\u001b[0m \u001b[0;34m\u001b[0m\u001b[0m\n\u001b[1;32m    281\u001b[0m \u001b[0;34m\u001b[0m\u001b[0m\n",
        "\u001b[0;32m/opt/local/Library/Frameworks/Python.framework/Versions/2.7/lib/python2.7/site-packages/sympy/printing/ccode.pyc\u001b[0m in \u001b[0;36mdoprint\u001b[0;34m(self, expr, assign_to)\u001b[0m\n\u001b[1;32m     91\u001b[0m                 \u001b[0mlines\u001b[0m\u001b[0;34m.\u001b[0m\u001b[0mappend\u001b[0m\u001b[0;34m(\u001b[0m\u001b[0;34m\"}\"\u001b[0m\u001b[0;34m)\u001b[0m\u001b[0;34m\u001b[0m\u001b[0m\n\u001b[1;32m     92\u001b[0m         \u001b[0;32melse\u001b[0m\u001b[0;34m:\u001b[0m\u001b[0;34m\u001b[0m\u001b[0m\n\u001b[0;32m---> 93\u001b[0;31m             \u001b[0mcode0\u001b[0m \u001b[0;34m=\u001b[0m \u001b[0mself\u001b[0m\u001b[0;34m.\u001b[0m\u001b[0m_doprint_a_piece\u001b[0m\u001b[0;34m(\u001b[0m\u001b[0mexpr\u001b[0m\u001b[0;34m,\u001b[0m \u001b[0massign_to\u001b[0m\u001b[0;34m)\u001b[0m\u001b[0;34m\u001b[0m\u001b[0m\n\u001b[0m\u001b[1;32m     94\u001b[0m             \u001b[0mlines\u001b[0m\u001b[0;34m.\u001b[0m\u001b[0mextend\u001b[0m\u001b[0;34m(\u001b[0m\u001b[0mcode0\u001b[0m\u001b[0;34m)\u001b[0m\u001b[0;34m\u001b[0m\u001b[0m\n\u001b[1;32m     95\u001b[0m \u001b[0;34m\u001b[0m\u001b[0m\n",
        "\u001b[0;32m/opt/local/Library/Frameworks/Python.framework/Versions/2.7/lib/python2.7/site-packages/sympy/printing/codeprinter.pyc\u001b[0m in \u001b[0;36m_doprint_a_piece\u001b[0;34m(self, expr, assign_to)\u001b[0m\n\u001b[1;32m     37\u001b[0m         \u001b[0;31m# Setup loops over non-dummy indices  --  all terms need these\u001b[0m\u001b[0;34m\u001b[0m\u001b[0;34m\u001b[0m\u001b[0m\n\u001b[1;32m     38\u001b[0m         \u001b[0;32mif\u001b[0m \u001b[0mself\u001b[0m\u001b[0;34m.\u001b[0m\u001b[0m_settings\u001b[0m\u001b[0;34m.\u001b[0m\u001b[0mget\u001b[0m\u001b[0;34m(\u001b[0m\u001b[0;34m'contract'\u001b[0m\u001b[0;34m,\u001b[0m \u001b[0mTrue\u001b[0m\u001b[0;34m)\u001b[0m\u001b[0;34m:\u001b[0m\u001b[0;34m\u001b[0m\u001b[0m\n\u001b[0;32m---> 39\u001b[0;31m             \u001b[0mindices\u001b[0m \u001b[0;34m=\u001b[0m \u001b[0mself\u001b[0m\u001b[0;34m.\u001b[0m\u001b[0mget_expression_indices\u001b[0m\u001b[0;34m(\u001b[0m\u001b[0mexpr\u001b[0m\u001b[0;34m,\u001b[0m \u001b[0massign_to\u001b[0m\u001b[0;34m)\u001b[0m\u001b[0;34m\u001b[0m\u001b[0m\n\u001b[0m\u001b[1;32m     40\u001b[0m         \u001b[0;32melse\u001b[0m\u001b[0;34m:\u001b[0m\u001b[0;34m\u001b[0m\u001b[0m\n\u001b[1;32m     41\u001b[0m             \u001b[0mindices\u001b[0m \u001b[0;34m=\u001b[0m \u001b[0;34m[\u001b[0m\u001b[0;34m]\u001b[0m\u001b[0;34m\u001b[0m\u001b[0m\n",
        "\u001b[0;32m/opt/local/Library/Frameworks/Python.framework/Versions/2.7/lib/python2.7/site-packages/sympy/printing/codeprinter.pyc\u001b[0m in \u001b[0;36mget_expression_indices\u001b[0;34m(self, expr, assign_to)\u001b[0m\n\u001b[1;32m    111\u001b[0m     \u001b[0;32mdef\u001b[0m \u001b[0mget_expression_indices\u001b[0m\u001b[0;34m(\u001b[0m\u001b[0mself\u001b[0m\u001b[0;34m,\u001b[0m \u001b[0mexpr\u001b[0m\u001b[0;34m,\u001b[0m \u001b[0massign_to\u001b[0m\u001b[0;34m)\u001b[0m\u001b[0;34m:\u001b[0m\u001b[0;34m\u001b[0m\u001b[0m\n\u001b[1;32m    112\u001b[0m         \u001b[0;32mfrom\u001b[0m \u001b[0msympy\u001b[0m\u001b[0;34m.\u001b[0m\u001b[0mtensor\u001b[0m \u001b[0;32mimport\u001b[0m \u001b[0mget_indices\u001b[0m\u001b[0;34m,\u001b[0m \u001b[0mget_contraction_structure\u001b[0m\u001b[0;34m\u001b[0m\u001b[0m\n\u001b[0;32m--> 113\u001b[0;31m         \u001b[0mrinds\u001b[0m\u001b[0;34m,\u001b[0m \u001b[0mjunk\u001b[0m \u001b[0;34m=\u001b[0m \u001b[0mget_indices\u001b[0m\u001b[0;34m(\u001b[0m\u001b[0mexpr\u001b[0m\u001b[0;34m)\u001b[0m\u001b[0;34m\u001b[0m\u001b[0m\n\u001b[0m\u001b[1;32m    114\u001b[0m         \u001b[0mlinds\u001b[0m\u001b[0;34m,\u001b[0m \u001b[0mjunk\u001b[0m \u001b[0;34m=\u001b[0m \u001b[0mget_indices\u001b[0m\u001b[0;34m(\u001b[0m\u001b[0massign_to\u001b[0m\u001b[0;34m)\u001b[0m\u001b[0;34m\u001b[0m\u001b[0m\n\u001b[1;32m    115\u001b[0m \u001b[0;34m\u001b[0m\u001b[0m\n",
        "\u001b[0;32m/opt/local/Library/Frameworks/Python.framework/Versions/2.7/lib/python2.7/site-packages/sympy/tensor/index_methods.pyc\u001b[0m in \u001b[0;36mget_indices\u001b[0;34m(expr)\u001b[0m\n\u001b[1;32m    235\u001b[0m     \u001b[0;32melif\u001b[0m \u001b[0mexpr\u001b[0m \u001b[0;32mis\u001b[0m \u001b[0mNone\u001b[0m\u001b[0;34m:\u001b[0m\u001b[0;34m\u001b[0m\u001b[0m\n\u001b[1;32m    236\u001b[0m         \u001b[0;32mreturn\u001b[0m \u001b[0mset\u001b[0m\u001b[0;34m(\u001b[0m\u001b[0;34m)\u001b[0m\u001b[0;34m,\u001b[0m \u001b[0;34m{\u001b[0m\u001b[0;34m}\u001b[0m\u001b[0;34m\u001b[0m\u001b[0m\n\u001b[0;32m--> 237\u001b[0;31m     \u001b[0;32melif\u001b[0m \u001b[0mexpr\u001b[0m\u001b[0;34m.\u001b[0m\u001b[0mis_Atom\u001b[0m\u001b[0;34m:\u001b[0m\u001b[0;34m\u001b[0m\u001b[0m\n\u001b[0m\u001b[1;32m    238\u001b[0m         \u001b[0;32mreturn\u001b[0m \u001b[0mset\u001b[0m\u001b[0;34m(\u001b[0m\u001b[0;34m)\u001b[0m\u001b[0;34m,\u001b[0m \u001b[0;34m{\u001b[0m\u001b[0;34m}\u001b[0m\u001b[0;34m\u001b[0m\u001b[0m\n\u001b[1;32m    239\u001b[0m     \u001b[0;32melif\u001b[0m \u001b[0misinstance\u001b[0m\u001b[0;34m(\u001b[0m\u001b[0mexpr\u001b[0m\u001b[0;34m,\u001b[0m \u001b[0mIdx\u001b[0m\u001b[0;34m)\u001b[0m\u001b[0;34m:\u001b[0m\u001b[0;34m\u001b[0m\u001b[0m\n",
        "\u001b[0;32m/opt/local/Library/Frameworks/Python.framework/Versions/2.7/lib/python2.7/site-packages/sympy/matrices/matrices.pyc\u001b[0m in \u001b[0;36m__getattr__\u001b[0;34m(self, attr)\u001b[0m\n\u001b[1;32m   3037\u001b[0m         \u001b[0;32melse\u001b[0m\u001b[0;34m:\u001b[0m\u001b[0;34m\u001b[0m\u001b[0m\n\u001b[1;32m   3038\u001b[0m             raise AttributeError(\n\u001b[0;32m-> 3039\u001b[0;31m                 \"%s has no attribute %s.\" % (self.__class__.__name__, attr))\n\u001b[0m\u001b[1;32m   3040\u001b[0m \u001b[0;34m\u001b[0m\u001b[0m\n\u001b[1;32m   3041\u001b[0m     \u001b[0;32mdef\u001b[0m \u001b[0mintegrate\u001b[0m\u001b[0;34m(\u001b[0m\u001b[0mself\u001b[0m\u001b[0;34m,\u001b[0m \u001b[0;34m*\u001b[0m\u001b[0margs\u001b[0m\u001b[0;34m)\u001b[0m\u001b[0;34m:\u001b[0m\u001b[0;34m\u001b[0m\u001b[0m\n",
        "\u001b[0;31mAttributeError\u001b[0m: MutableDenseMatrix has no attribute is_Atom."
       ]
      }
     ],
     "prompt_number": 56
    },
    {
     "cell_type": "code",
     "collapsed": false,
     "input": [
      "def NS2D(case):\n",
      "    x = symbols('x[0]')\n",
      "    y = symbols('x[1]')\n",
      "\n",
      "    if case == 1:\n",
      "        u = sin(y)*exp(x)\n",
      "        v = cos(y)*exp(x)\n",
      "        p = sin(x)*cos(y)\n",
      "    if case == 2:\n",
      "        u = pow(y,3)\n",
      "        v = pow(x,3)\n",
      "        p = pow(x,2)\n",
      "    if case == 3:\n",
      "        uu = cos(x)*exp(x+y)\n",
      "        u = diff(uu,y)\n",
      "        v = -diff(uu,x)\n",
      "        p = pow(x,3)*sin(y)+exp(x+y)\n",
      "\n",
      "\n",
      "    L1 = diff(u,x,x)+diff(u,y,y)\n",
      "    L2 = diff(v,x,x)+diff(v,y,y)\n",
      "\n",
      "    A1 = u*diff(u,x)+v*diff(u,y)\n",
      "    A2 = u*diff(v,x)+v*diff(v,y)\n",
      "\n",
      "\n",
      "    P1 = diff(p,x)\n",
      "    P2 = diff(p,y)\n",
      "\n",
      "\n",
      "    u0 = Expression((ccode(u),ccode(v)))\n",
      "    p0 = Expression(ccode(p))\n",
      "\n",
      "    Laplacian = Expression((ccode(L1),ccode(L2)))\n",
      "    Advection = Expression((ccode(A1),ccode(A2)))\n",
      "    gradPres = Expression((ccode(P1),ccode(P2)))\n",
      "\n",
      "    print \"  Exact Solution:\\n\"\n",
      "    print \"  u = (\",str(u),\",\",str(v),\")\\n\"\n",
      "    print \"  p = (\",str(p),\")\\n\"\n",
      "    return u0, p0, Laplacian, Advection, gradPres"
     ],
     "language": "python",
     "metadata": {},
     "outputs": [],
     "prompt_number": 31
    },
    {
     "cell_type": "code",
     "collapsed": false,
     "input": [],
     "language": "python",
     "metadata": {},
     "outputs": []
    },
    {
     "cell_type": "code",
     "collapsed": false,
     "input": [],
     "language": "python",
     "metadata": {},
     "outputs": []
    },
    {
     "cell_type": "code",
     "collapsed": false,
     "input": [
      "ThreeD(3)"
     ],
     "language": "python",
     "metadata": {},
     "outputs": [
      {
       "output_type": "stream",
       "stream": "stdout",
       "text": [
        "  Exact Solution:\n",
        "\n",
        "  u = ( exp(x[0])*sin(x[1]) , exp(x[0])*cos(x[1]) )\n",
        "\n",
        "  p = ( sin(x[0])*cos(x[1]) )\n",
        "\n"
       ]
      },
      {
       "metadata": {},
       "output_type": "pyout",
       "prompt_number": 34,
       "text": [
        "(Coefficient(VectorElement('Lagrange', None, None, 2, None), 15),\n",
        " Coefficient(FiniteElement('Lagrange', None, None, None), 16),\n",
        " Coefficient(VectorElement('Lagrange', None, None, 2, None), 17),\n",
        " Coefficient(VectorElement('Lagrange', None, None, 2, None), 18),\n",
        " Coefficient(VectorElement('Lagrange', None, None, 2, None), 19))"
       ]
      }
     ],
     "prompt_number": 34
    },
    {
     "cell_type": "heading",
     "level": 2,
     "metadata": {},
     "source": [
      "def M2D(case):\n",
      "    x = symbols('x[0]')\n",
      "    y = symbols('x[1]')\n",
      "\n",
      "    if case == 1:\n",
      "        uu = cos(x)*exp(x+y)\n",
      "        u = diff(uu,y)\n",
      "        v = -diff(uu,x)\n",
      "        p = x*sin(2*pi*y)*sin(2*pi*x)\n",
      "    if case == 2:\n",
      "        u = y*y*(y-1)\n",
      "        v = x*x*(x-1)\n",
      "        p = y*(y-1)*x*(x-1)\n",
      "\n",
      "    L1 = diff(v,x,y) - diff(u,y,y)\n",
      "    L2 = diff(u,x,y) - diff(v,x,x)\n",
      "\n",
      "    P1 = diff(p,x)\n",
      "    P2 = diff(p,y)\n",
      "    print ccode(p)\n",
      "\n",
      "    u0 = Expression((ccode(u),ccode(v)))\n",
      "    p0 = Expression(ccode(p))\n",
      "\n",
      "    CurlCurl = Expression((ccode(L1),ccode(L2)))\n",
      "    gradPres = Expression((ccode(P1),ccode(P2)))\n",
      "\n",
      "    print \"  Exact Solution:\\n\"\n",
      "    print \"  u = (\",str(u),\",\",str(v),\")\\n\"\n",
      "    print \"  p = (\",str(p),\")\\n\"\n",
      "    return u0, p0, CurlCurl, gradPres\n"
     ]
    },
    {
     "cell_type": "code",
     "collapsed": false,
     "input": [
      "def M2D(case):\n",
      "    x = symbols('x[0]')\n",
      "    y = symbols('x[1]')\n",
      "\n",
      "    if case == 1:\n",
      "        uu = cos(x)*exp(x+y)\n",
      "        u = diff(uu,y)\n",
      "        v = -diff(uu,x)\n",
      "        p = x*sin(2*pi*y)*sin(2*pi*x)\n",
      "    if case == 2:\n",
      "        u = y*y*(y-1)\n",
      "        v = x*x*(x-1)\n",
      "        p = y*(y-1)*x*(x-1)\n",
      "\n",
      "    L1 = diff(v,x,y) - diff(u,y,y)\n",
      "    L2 = diff(u,x,y) - diff(v,x,x)\n",
      "\n",
      "    P1 = diff(p,x)\n",
      "    P2 = diff(p,y)\n",
      "\n",
      "    print ccode(p)\n",
      "    u0 = Expression((ccode(u),ccode(v)))\n",
      "    p0 = Expression(ccode(p))\n",
      "\n",
      "    CurlCurl = Expression((ccode(L1),ccode(L2)))\n",
      "    gradPres = Expression((ccode(P1),ccode(P2)))\n",
      "\n",
      "    print \"  Exact Solution:\\n\"\n",
      "    print \"  u = (\",str(u),\",\",str(v),\")\\n\"\n",
      "    print \"  p = (\",str(p),\")\\n\"\n",
      "    return u0, p0, CurlCurl, gradPres\n",
      "\n"
     ],
     "language": "python",
     "metadata": {},
     "outputs": [],
     "prompt_number": 37
    },
    {
     "cell_type": "code",
     "collapsed": false,
     "input": [
      "p = x*sin(2*pi*y)*sin(2*pi*x)"
     ],
     "language": "python",
     "metadata": {},
     "outputs": [],
     "prompt_number": 39
    },
    {
     "cell_type": "code",
     "collapsed": false,
     "input": [
      "s = ccode(p)\n",
      "s"
     ],
     "language": "python",
     "metadata": {},
     "outputs": [
      {
       "metadata": {},
       "output_type": "pyout",
       "prompt_number": 43,
       "text": [
        "'x[0]*sin(2*M_PI*x[0])*sin(2*M_PI*x[1])'"
       ]
      }
     ],
     "prompt_number": 43
    },
    {
     "cell_type": "code",
     "collapsed": false,
     "input": [
      "s.replace('M_PI','pi')"
     ],
     "language": "python",
     "metadata": {},
     "outputs": [
      {
       "metadata": {},
       "output_type": "pyout",
       "prompt_number": 46,
       "text": [
        "'x[0]*sin(2*pi*x[0])*sin(2*pi*x[1])'"
       ]
      }
     ],
     "prompt_number": 46
    }
   ],
   "metadata": {}
  }
 ]
}